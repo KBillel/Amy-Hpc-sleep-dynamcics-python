{
 "cells": [
  {
   "cell_type": "code",
   "execution_count": 1,
   "metadata": {},
   "outputs": [],
   "source": [
    "%matplotlib qt\n",
    "\n",
    "import neuroseries as nts\n",
    "\n",
    "import numpy as np\n",
    "import matplotlib.pyplot as plt\n",
    "import scipy.stats\n",
    "import scipy.ndimage\n",
    "import os\n",
    "\n",
    "import scipy.signal\n",
    "import scipy.stats\n",
    "\n",
    "import cv2\n",
    "import datetime\n",
    "\n",
    "import bk.load \n",
    "import bk.plot\n",
    "import bk.compute\n",
    "\n",
    "import sklearn.manifold as skm\n",
    "import scipy.stats\n",
    "from matplotlib import cm"
   ]
  },
  {
   "cell_type": "code",
   "execution_count": 2,
   "metadata": {},
   "outputs": [],
   "source": [
    "def pourcent_freezing(interval, freezing_intervals): \n",
    "    freezing_intervals_in_interval = freezing_intervals.intersect(interval)\n",
    "    total_time_freezing = np.sum(freezing_intervals_in_interval.end-freezing_intervals_in_interval.start)\n",
    "    total_time = interval.end-interval.start\n",
    "    pourcentage = (total_time_freezing/total_time)*100\n",
    "    return pourcentage\n",
    "\n",
    "def all_pourcentages(intervals, freezing_intervals):\n",
    "    pourcentages = []\n",
    "    for i in range(len(intervals)):\n",
    "        interval = intervals.loc[i]\n",
    "        pourcentages.append(pourcent_freezing(interval, freezing_intervals))\n",
    "    return pourcentages\n",
    "\n",
    "def GetStartExp(Exp,Fs = 20000):\n",
    "    \n",
    "    if isinstance(Exp[0],(np.bool_,bool)):\n",
    "        Exp = list(map(int,Exp))\n",
    "    \n",
    "    diff_Exp = np.diff(Exp)\n",
    "    \n",
    "    t_start = np.where(diff_Exp == 1)[0]    \n",
    "    return t_start/Fs"
   ]
  },
  {
   "cell_type": "markdown",
   "metadata": {},
   "source": [
    "## Analysis for classical fear conditionning "
   ]
  },
  {
   "cell_type": "code",
   "execution_count": 5,
   "metadata": {},
   "outputs": [],
   "source": [
    "context_sess = ['Y:\\classical_fear_conditionning\\Rat09-20201118\\Rat09_201118_180813',\n",
    "                'Y:\\classical_fear_conditionning\\Rat10-20201118\\Rat10_201118_182234', \n",
    "                'Y:\\classical_fear_conditionning\\Rat11-20201117\\Rat11_201117_172705',\n",
    "                'Y:\\classical_fear_conditionning\\Rat12-20201117\\Rat12_201117_171302', \n",
    "                'Y:\\classical_fear_conditionning\\Rat01-20200630\\Rat01_200630_183149',\n",
    "                'Y:\\classical_fear_conditionning\\Rat02-20200707\\Rat02_200707_172929']\n",
    "fear_sess = ['Y:\\classical_fear_conditionning\\Rat09-20201118\\Rat09_201118_110003',\n",
    "             'Y:\\classical_fear_conditionning\\Rat10-20201118\\Rat10_201118_111531',\n",
    "             'Y:\\classical_fear_conditionning\\Rat11-20201117\\Rat11_201117_112130',\n",
    "             'Y:\\classical_fear_conditionning\\Rat12-20201117\\Rat12_201117_110146',\n",
    "            'Y:\\classical_fear_conditionning\\Rat01-20200630\\Rat01_200630_114732',\n",
    "            'Y:\\classical_fear_conditionning\\Rat02-20200707\\Rat02_200707_114611']\n",
    "\n",
    "tone_sess = ['Y:\\classical_fear_conditionning\\Rat09-20201118\\Rat09_201118_170529', \n",
    "        'Y:\\classical_fear_conditionning\\Rat10-20201118\\Rat10_201118_172028', \n",
    "        'Y:\\classical_fear_conditionning\\Rat11-20201117\\Rat11_201117_183012',\n",
    "        'Y:\\classical_fear_conditionning\\Rat12-20201117\\Rat12_201117_181452', \n",
    "        'Y:\\classical_fear_conditionning\\Rat01-20200630\\Rat01_200630_171900', \n",
    "        'Y:\\classical_fear_conditionning\\Rat02-20200707\\Rat02_200707_183427' ]\n",
    "\n",
    "\n",
    "intervals = np.linspace(0,570,20)\n",
    "starts = intervals[0:-1]\n",
    "ends = intervals[1:]\n",
    "intervals = nts.IntervalSet(starts,ends,time_units='s')\n",
    "\n",
    "digitalin_tone = [3,3,3,3,2,2]\n",
    "digitalin_shock = [2,2,2,2,1,1]"
   ]
  },
  {
   "cell_type": "code",
   "execution_count": 6,
   "metadata": {},
   "outputs": [
    {
     "name": "stderr",
     "output_type": "stream",
     "text": [
      "Z:\\Python\\Maelle\\Amy-Hpc-sleep-dynamics-python\\bk\\compute.py:161: RuntimeWarning: overflow encountered in square\n",
      "  v = np.sqrt(x_speed**2 + y_speed**2)\n"
     ]
    },
    {
     "data": {
      "text/plain": [
       "<matplotlib.legend.Legend at 0x19e2e039ee0>"
      ]
     },
     "execution_count": 6,
     "metadata": {},
     "output_type": "execute_result"
    }
   ],
   "source": [
    "t_start_exp_tone = [49.9391, 12.74455, 30.36235, 29.62595, 58.95, 17.8116]\n",
    "\n",
    "ptotal = []\n",
    "plt.figure()\n",
    "\n",
    "for fichier,t_s,d_t in zip(tone_sess,t_start_exp_tone,digitalin_tone):\n",
    "    os.chdir(fichier)\n",
    "    pos = bk.load.DLC_pos()\n",
    "    pos.index = pos.index\n",
    "    tone = bk.compute.tone_intervals(bk.load.digitalin('digitalin.dat')[d_t,:])- t_s * 1_000_000\n",
    "    speeds = bk.compute.speed(pos,2, columns_to_drop=['e_tail'])\n",
    "    freeze = bk.compute.freezing_intervals(speeds, 25, mode='multiple_speed', clean=True) - t_s *1_000_000\n",
    "    pourcents = all_pourcentages(intervals, freeze)\n",
    "    ptotal.append(pourcents)\n",
    "#     bk.plot.intervals(freeze,col = 'b')\n",
    "    plt.plot(np.mean([starts,ends],0), pourcents, '-o',alpha = 0.5)\n",
    "    \n",
    "bk.plot.intervals(tone,'orange', alpha=0.5)    \n",
    "plt.plot(np.mean([starts,ends],0),np.mean(ptotal,0),'*-r')\n",
    "plt.legend(['Rat09', 'Rat10', 'Rat11', 'Rat12', 'Rat01', 'Rat02','Mean','Tone'])"
   ]
  },
  {
   "cell_type": "code",
   "execution_count": 60,
   "metadata": {},
   "outputs": [
    {
     "data": {
      "text/plain": [
       "<matplotlib.legend.Legend at 0x1d8a3249208>"
      ]
     },
     "execution_count": 60,
     "metadata": {},
     "output_type": "execute_result"
    }
   ],
   "source": [
    "t_start_exp_fear = [37.7209,29.46495,34.7118,25.34385,45.9524,55.00735]\n",
    "\n",
    "ptotal = []\n",
    "plt.figure()\n",
    "\n",
    "for fichier,t_s,d_s in zip(fear_sess,t_start_exp_fear, digitalin_shock):\n",
    "    os.chdir(fichier)\n",
    "    pos = bk.load.DLC_pos()\n",
    "    pos.index = pos.index\n",
    "    tone = bk.compute.tone_intervals(bk.load.digitalin('digitalin.dat')[d_s+1,:])- t_s * 1_000_000\n",
    "    shock = bk.compute.tone_intervals(bk.load.digitalin('digitalin.dat')[d_s,:])- t_s * 1_000_000\n",
    "    speeds = bk.compute.speed(pos,2, columns_to_drop=['e_tail'])\n",
    "    freeze = bk.compute.freezing_intervals(speeds, 25, mode='multiple_speed', clean=True) - t_s *1_000_000\n",
    "    pourcents = all_pourcentages(intervals, freeze)\n",
    "    ptotal.append(pourcents)\n",
    "#     bk.plot.intervals(freeze,col = 'b')\n",
    "    plt.plot(np.mean([starts,ends],0), pourcents, '-o',alpha = 0.5)\n",
    "bk.plot.intervals(shock,'green',alpha = 0.5)    \n",
    "bk.plot.intervals(tone,'orange', alpha=0.5)    \n",
    "plt.plot(np.mean([starts,ends],0),np.mean(ptotal,0),'*-r')\n",
    "plt.legend(['Rat09', 'Rat10', 'Rat11', 'Rat12', 'Rat01', 'Rat02','Mean','Shock','Tone'])"
   ]
  },
  {
   "cell_type": "code",
   "execution_count": 62,
   "metadata": {},
   "outputs": [
    {
     "data": {
      "text/plain": [
       "<matplotlib.legend.Legend at 0x1d8a00f0438>"
      ]
     },
     "execution_count": 62,
     "metadata": {},
     "output_type": "execute_result"
    }
   ],
   "source": [
    "t_start_exp_context = [34,25,36,26,38,58]\n",
    "\n",
    "ptotal = []\n",
    "plt.figure()\n",
    "\n",
    "for fichier,t_s in zip(context_sess,t_start_exp_context):\n",
    "    os.chdir(fichier)\n",
    "    pos = bk.load.DLC_pos()\n",
    "    pos.index = pos.index\n",
    "    speeds = bk.compute.speed(pos,2, columns_to_drop=['e_tail'])\n",
    "    freeze = bk.compute.freezing_intervals(speeds, 25, mode='multiple_speed', clean=True) - t_s *1_000_000\n",
    "    pourcents = all_pourcentages(intervals, freeze)\n",
    "    ptotal.append(pourcents)\n",
    "#     bk.plot.intervals(freeze,col = 'b')\n",
    "    plt.plot(np.mean([starts,ends],0), pourcents, '-o',alpha = 0.5)\n",
    "plt.plot(np.mean([starts,ends],0),np.mean(ptotal,0),'*-r')\n",
    "plt.legend(['Rat09', 'Rat10', 'Rat11', 'Rat12', 'Rat01', 'Rat02','Mean'])"
   ]
  },
  {
   "cell_type": "code",
   "execution_count": 61,
   "metadata": {
    "collapsed": true,
    "jupyter": {
     "outputs_hidden": true
    }
   },
   "outputs": [
    {
     "name": "stdout",
     "output_type": "stream",
     "text": [
      "34.458774999999946\n",
      "[  3.0225    3.1475    3.2725  203.08695 353.30415 503.51535]\n",
      "25.68372499999998\n",
      "[  3.0225    3.1475    3.2725  203.08695 353.30415 503.51535]\n",
      "36.234050000000025\n",
      "[  3.0225    3.1475    3.2725  203.08695 353.30415 503.51535]\n",
      "26.03037500000005\n",
      "[  3.0225    3.1475    3.2725  203.08695 353.30415 503.51535]\n",
      "38.39945\n",
      "[  3.0225    3.1475    3.2725  203.08695 353.30415 503.51535]\n",
      "58.11689999999999\n",
      "[  3.0225    3.1475    3.2725  203.08695 353.30415 503.51535]\n"
     ]
    }
   ],
   "source": [
    "for fichier in context_sess:\n",
    "    os.chdir(fichier)\n",
    "    pos = bk.load.DLC_pos()\n",
    "    print(pos.as_units('s').index[-1]-575)\n",
    "#     f_tone = GetStartExp(bk.load.digitalin('digitalin.dat')[1,:])\n",
    "#     print(f_tone[f_tone>0])\n",
    "    \n",
    "    \n"
   ]
  },
  {
   "cell_type": "markdown",
   "metadata": {},
   "source": [
    "## Analysis for PTSD fear conditionning "
   ]
  },
  {
   "cell_type": "code",
   "execution_count": 3,
   "metadata": {},
   "outputs": [],
   "source": [
    "neutral_sess = ['Y://fear_conditionning_ptsd\\Rat13\\Rat13-20201202\\Rat13_201202_183404',\n",
    "               'Y://fear_conditionning_ptsd\\Rat14\\Rat14-20201203\\Rat14_201203_165203',\n",
    "               'Y://fear_conditionning_ptsd\\Rat15\\Rat15-20201130\\Rat15_201130_164002',\n",
    "               'Y://fear_conditionning_ptsd\\Rat16\\Rat16-20201201\\Rat16_201201_172742']\n",
    "\n",
    "\n",
    "\n",
    "context_sess = ['Y://fear_conditionning_ptsd\\Rat13\\Rat13-20201203\\Rat13_201203_154214',\n",
    "               'Y://fear_conditionning_ptsd\\Rat14\\Rat14-20201204\\Rat14_201204_172709',\n",
    "               'Y://fear_conditionning_ptsd\\Rat15\\Rat15-20201201\\Rat15_201201_155055',\n",
    "               'Y://fear_conditionning_ptsd\\Rat16\\Rat16-20201202\\Rat16_201202_171552']\n",
    "\n",
    "fear_sess = ['Y://fear_conditionning_ptsd\\Rat13\\Rat13-20201203\\Rat13_201203_112541',\n",
    "            'Y://fear_conditionning_ptsd\\Rat14\\Rat14-20201204\\Rat14_201204_113458',\n",
    "            'Y://fear_conditionning_ptsd\\Rat15\\Rat15-20201201\\Rat15_201201_115713',\n",
    "            'Y://fear_conditionning_ptsd\\Rat16\\Rat16-20201202\\Rat16_201202_132308']\n",
    "\n",
    "tone_sess = ['Y://fear_conditionning_ptsd\\Rat13\\Rat13-20201203\\Rat13_201203_164205',\n",
    "            'Y://fear_conditionning_ptsd\\Rat14\\Rat14-20201204\\Rat14_201204_161859',\n",
    "            'Y://fear_conditionning_ptsd\\Rat16\\Rat16-20201202\\Rat16_201202_182329']\n",
    "\n",
    "\n",
    "intervals = np.linspace(0,240,13)\n",
    "starts = intervals[0:-1]\n",
    "ends = intervals[1:]\n",
    "intervals = nts.IntervalSet(starts,ends,time_units='s')\n",
    "\n",
    "digitalin_tone = [3,3,3,3]\n",
    "digitalin_shock = [2,2,2,2]"
   ]
  },
  {
   "cell_type": "code",
   "execution_count": 4,
   "metadata": {},
   "outputs": [
    {
     "name": "stdout",
     "output_type": "stream",
     "text": [
      "Y://fear_conditionning_ptsd\\Rat13\\Rat13-20201202\\Rat13_201202_183404\n",
      "Y://fear_conditionning_ptsd\\Rat14\\Rat14-20201203\\Rat14_201203_165203\n",
      "Y://fear_conditionning_ptsd\\Rat15\\Rat15-20201130\\Rat15_201130_164002\n"
     ]
    },
    {
     "ename": "ValueError",
     "evalue": "Length mismatch: Expected axis has 8194 elements, new values have 8195 elements",
     "output_type": "error",
     "traceback": [
      "\u001b[1;31m---------------------------------------------------------------------------\u001b[0m",
      "\u001b[1;31mValueError\u001b[0m                                Traceback (most recent call last)",
      "\u001b[1;32m<ipython-input-4-e53fca8d7507>\u001b[0m in \u001b[0;36m<module>\u001b[1;34m\u001b[0m\n\u001b[0;32m      7\u001b[0m     \u001b[0mos\u001b[0m\u001b[1;33m.\u001b[0m\u001b[0mchdir\u001b[0m\u001b[1;33m(\u001b[0m\u001b[0mfichier\u001b[0m\u001b[1;33m)\u001b[0m\u001b[1;33m\u001b[0m\u001b[1;33m\u001b[0m\u001b[0m\n\u001b[0;32m      8\u001b[0m     \u001b[0mprint\u001b[0m\u001b[1;33m(\u001b[0m\u001b[0mfichier\u001b[0m\u001b[1;33m)\u001b[0m\u001b[1;33m\u001b[0m\u001b[1;33m\u001b[0m\u001b[0m\n\u001b[1;32m----> 9\u001b[1;33m     \u001b[0mpos\u001b[0m \u001b[1;33m=\u001b[0m \u001b[0mbk\u001b[0m\u001b[1;33m.\u001b[0m\u001b[0mload\u001b[0m\u001b[1;33m.\u001b[0m\u001b[0mDLC_pos\u001b[0m\u001b[1;33m(\u001b[0m\u001b[1;33m)\u001b[0m\u001b[1;33m\u001b[0m\u001b[1;33m\u001b[0m\u001b[0m\n\u001b[0m\u001b[0;32m     10\u001b[0m     \u001b[0mpos\u001b[0m\u001b[1;33m.\u001b[0m\u001b[0mindex\u001b[0m \u001b[1;33m=\u001b[0m \u001b[0mpos\u001b[0m\u001b[1;33m.\u001b[0m\u001b[0mindex\u001b[0m\u001b[1;33m\u001b[0m\u001b[1;33m\u001b[0m\u001b[0m\n\u001b[0;32m     11\u001b[0m     \u001b[0mspeeds\u001b[0m \u001b[1;33m=\u001b[0m \u001b[0mbk\u001b[0m\u001b[1;33m.\u001b[0m\u001b[0mcompute\u001b[0m\u001b[1;33m.\u001b[0m\u001b[0mspeed\u001b[0m\u001b[1;33m(\u001b[0m\u001b[0mpos\u001b[0m\u001b[1;33m,\u001b[0m\u001b[1;36m2\u001b[0m\u001b[1;33m,\u001b[0m \u001b[0mcolumns_to_drop\u001b[0m\u001b[1;33m=\u001b[0m\u001b[1;33m[\u001b[0m\u001b[1;34m'e_tail'\u001b[0m\u001b[1;33m]\u001b[0m\u001b[1;33m)\u001b[0m\u001b[1;33m\u001b[0m\u001b[1;33m\u001b[0m\u001b[0m\n",
      "\u001b[1;32mZ:\\Python\\Maelle\\Amy-Hpc-sleep-dynamics-python\\bk\\load.py\u001b[0m in \u001b[0;36mDLC_pos\u001b[1;34m(filtered)\u001b[0m\n\u001b[0;32m    325\u001b[0m         \u001b[0mtf\u001b[0m \u001b[1;33m=\u001b[0m \u001b[0mnp\u001b[0m\u001b[1;33m.\u001b[0m\u001b[0mdelete\u001b[0m\u001b[1;33m(\u001b[0m\u001b[0mtf\u001b[0m\u001b[1;33m,\u001b[0m\u001b[1;33m-\u001b[0m\u001b[1;36m1\u001b[0m\u001b[1;33m)\u001b[0m\u001b[1;33m\u001b[0m\u001b[1;33m\u001b[0m\u001b[0m\n\u001b[0;32m    326\u001b[0m \u001b[1;33m\u001b[0m\u001b[0m\n\u001b[1;32m--> 327\u001b[1;33m     \u001b[0mdata\u001b[0m\u001b[1;33m.\u001b[0m\u001b[0mindex\u001b[0m \u001b[1;33m=\u001b[0m \u001b[0mtf\u001b[0m \u001b[1;33m*\u001b[0m \u001b[1;36m1_000_000\u001b[0m\u001b[1;33m\u001b[0m\u001b[1;33m\u001b[0m\u001b[0m\n\u001b[0m\u001b[0;32m    328\u001b[0m     \u001b[0mpos\u001b[0m \u001b[1;33m=\u001b[0m \u001b[0mnts\u001b[0m\u001b[1;33m.\u001b[0m\u001b[0mTsdFrame\u001b[0m\u001b[1;33m(\u001b[0m\u001b[0mdata\u001b[0m\u001b[1;33m)\u001b[0m\u001b[1;33m\u001b[0m\u001b[1;33m\u001b[0m\u001b[0m\n\u001b[0;32m    329\u001b[0m     \u001b[1;32mreturn\u001b[0m \u001b[0mpos\u001b[0m\u001b[1;33m\u001b[0m\u001b[1;33m\u001b[0m\u001b[0m\n",
      "\u001b[1;32mC:\\ProgramData\\Anaconda3\\lib\\site-packages\\pandas\\core\\generic.py\u001b[0m in \u001b[0;36m__setattr__\u001b[1;34m(self, name, value)\u001b[0m\n\u001b[0;32m   5150\u001b[0m         \u001b[1;32mtry\u001b[0m\u001b[1;33m:\u001b[0m\u001b[1;33m\u001b[0m\u001b[1;33m\u001b[0m\u001b[0m\n\u001b[0;32m   5151\u001b[0m             \u001b[0mobject\u001b[0m\u001b[1;33m.\u001b[0m\u001b[0m__getattribute__\u001b[0m\u001b[1;33m(\u001b[0m\u001b[0mself\u001b[0m\u001b[1;33m,\u001b[0m \u001b[0mname\u001b[0m\u001b[1;33m)\u001b[0m\u001b[1;33m\u001b[0m\u001b[1;33m\u001b[0m\u001b[0m\n\u001b[1;32m-> 5152\u001b[1;33m             \u001b[1;32mreturn\u001b[0m \u001b[0mobject\u001b[0m\u001b[1;33m.\u001b[0m\u001b[0m__setattr__\u001b[0m\u001b[1;33m(\u001b[0m\u001b[0mself\u001b[0m\u001b[1;33m,\u001b[0m \u001b[0mname\u001b[0m\u001b[1;33m,\u001b[0m \u001b[0mvalue\u001b[0m\u001b[1;33m)\u001b[0m\u001b[1;33m\u001b[0m\u001b[1;33m\u001b[0m\u001b[0m\n\u001b[0m\u001b[0;32m   5153\u001b[0m         \u001b[1;32mexcept\u001b[0m \u001b[0mAttributeError\u001b[0m\u001b[1;33m:\u001b[0m\u001b[1;33m\u001b[0m\u001b[1;33m\u001b[0m\u001b[0m\n\u001b[0;32m   5154\u001b[0m             \u001b[1;32mpass\u001b[0m\u001b[1;33m\u001b[0m\u001b[1;33m\u001b[0m\u001b[0m\n",
      "\u001b[1;32mpandas\\_libs\\properties.pyx\u001b[0m in \u001b[0;36mpandas._libs.properties.AxisProperty.__set__\u001b[1;34m()\u001b[0m\n",
      "\u001b[1;32mC:\\ProgramData\\Anaconda3\\lib\\site-packages\\pandas\\core\\generic.py\u001b[0m in \u001b[0;36m_set_axis\u001b[1;34m(self, axis, labels)\u001b[0m\n\u001b[0;32m    562\u001b[0m     \u001b[1;32mdef\u001b[0m \u001b[0m_set_axis\u001b[0m\u001b[1;33m(\u001b[0m\u001b[0mself\u001b[0m\u001b[1;33m,\u001b[0m \u001b[0maxis\u001b[0m\u001b[1;33m:\u001b[0m \u001b[0mint\u001b[0m\u001b[1;33m,\u001b[0m \u001b[0mlabels\u001b[0m\u001b[1;33m:\u001b[0m \u001b[0mIndex\u001b[0m\u001b[1;33m)\u001b[0m \u001b[1;33m->\u001b[0m \u001b[1;32mNone\u001b[0m\u001b[1;33m:\u001b[0m\u001b[1;33m\u001b[0m\u001b[1;33m\u001b[0m\u001b[0m\n\u001b[0;32m    563\u001b[0m         \u001b[0mlabels\u001b[0m \u001b[1;33m=\u001b[0m \u001b[0mensure_index\u001b[0m\u001b[1;33m(\u001b[0m\u001b[0mlabels\u001b[0m\u001b[1;33m)\u001b[0m\u001b[1;33m\u001b[0m\u001b[1;33m\u001b[0m\u001b[0m\n\u001b[1;32m--> 564\u001b[1;33m         \u001b[0mself\u001b[0m\u001b[1;33m.\u001b[0m\u001b[0m_mgr\u001b[0m\u001b[1;33m.\u001b[0m\u001b[0mset_axis\u001b[0m\u001b[1;33m(\u001b[0m\u001b[0maxis\u001b[0m\u001b[1;33m,\u001b[0m \u001b[0mlabels\u001b[0m\u001b[1;33m)\u001b[0m\u001b[1;33m\u001b[0m\u001b[1;33m\u001b[0m\u001b[0m\n\u001b[0m\u001b[0;32m    565\u001b[0m         \u001b[0mself\u001b[0m\u001b[1;33m.\u001b[0m\u001b[0m_clear_item_cache\u001b[0m\u001b[1;33m(\u001b[0m\u001b[1;33m)\u001b[0m\u001b[1;33m\u001b[0m\u001b[1;33m\u001b[0m\u001b[0m\n\u001b[0;32m    566\u001b[0m \u001b[1;33m\u001b[0m\u001b[0m\n",
      "\u001b[1;32mC:\\ProgramData\\Anaconda3\\lib\\site-packages\\pandas\\core\\internals\\managers.py\u001b[0m in \u001b[0;36mset_axis\u001b[1;34m(self, axis, new_labels)\u001b[0m\n\u001b[0;32m    224\u001b[0m \u001b[1;33m\u001b[0m\u001b[0m\n\u001b[0;32m    225\u001b[0m         \u001b[1;32mif\u001b[0m \u001b[0mnew_len\u001b[0m \u001b[1;33m!=\u001b[0m \u001b[0mold_len\u001b[0m\u001b[1;33m:\u001b[0m\u001b[1;33m\u001b[0m\u001b[1;33m\u001b[0m\u001b[0m\n\u001b[1;32m--> 226\u001b[1;33m             raise ValueError(\n\u001b[0m\u001b[0;32m    227\u001b[0m                 \u001b[1;34mf\"Length mismatch: Expected axis has {old_len} elements, new \"\u001b[0m\u001b[1;33m\u001b[0m\u001b[1;33m\u001b[0m\u001b[0m\n\u001b[0;32m    228\u001b[0m                 \u001b[1;34mf\"values have {new_len} elements\"\u001b[0m\u001b[1;33m\u001b[0m\u001b[1;33m\u001b[0m\u001b[0m\n",
      "\u001b[1;31mValueError\u001b[0m: Length mismatch: Expected axis has 8194 elements, new values have 8195 elements"
     ]
    }
   ],
   "source": [
    "t_start_exp_neutral = [36.98515,25.79435,36.52745,34.03365]\n",
    "\n",
    "ptotal = []\n",
    "plt.figure()\n",
    "\n",
    "for fichier,t_s in zip(neutral_sess,t_start_exp_neutral):\n",
    "    os.chdir(fichier)\n",
    "    pos = bk.load.DLC_pos()\n",
    "    pos.index = pos.index\n",
    "    speeds = bk.compute.speed(pos,2, columns_to_drop=['e_tail'])\n",
    "    freeze = bk.compute.freezing_intervals(speeds, 25, mode='multiple_speed', clean=True) - t_s *1_000_000\n",
    "    pourcents = all_pourcentages(intervals, freeze)\n",
    "    ptotal.append(pourcents)\n",
    "#     bk.plot.intervals(freeze,col = 'b')\n",
    "    plt.plot(np.mean([starts,ends],0), pourcents, '-o',alpha = 0.5)\n",
    "plt.plot(np.mean([starts,ends],0),np.mean(ptotal,0),'*-r')\n",
    "plt.legend(['Rat13', 'Rat14','Rat15','Rat16','Mean'])\n",
    "plt.title('Pourcent freezing in neutral context before fear conditionning')"
   ]
  },
  {
   "cell_type": "code",
   "execution_count": 13,
   "metadata": {},
   "outputs": [
    {
     "data": {
      "text/plain": [
       "Text(0.5, 1.0, 'Pourcent freezing during fear conditionning')"
      ]
     },
     "execution_count": 13,
     "metadata": {},
     "output_type": "execute_result"
    }
   ],
   "source": [
    "t_start_exp_fear = [43.6102,61.40995,75.8984,36.58545]\n",
    "\n",
    "ptotal = []\n",
    "plt.subplot(3,1,1)\n",
    "\n",
    "for fichier,t_s,d_s in zip(fear_sess,t_start_exp_fear, digitalin_shock):\n",
    "    os.chdir(fichier)\n",
    "    pos = bk.load.DLC_pos()\n",
    "    pos.index = pos.index\n",
    "    tone = bk.compute.tone_intervals(bk.load.digitalin('digitalin.dat')[d_s+1,:])- t_s * 1_000_000\n",
    "    shock = bk.compute.tone_intervals(bk.load.digitalin('digitalin.dat')[d_s,:])- t_s * 1_000_000\n",
    "    speeds = bk.compute.speed(pos,2, columns_to_drop=['e_tail'])\n",
    "    freeze = bk.compute.freezing_intervals(speeds, 25, mode='multiple_speed', clean=True) - t_s *1_000_000\n",
    "    pourcents = all_pourcentages(intervals, freeze)\n",
    "    ptotal.append(pourcents)\n",
    "#     bk.plot.intervals(freeze,col = 'b')\n",
    "    plt.plot(np.mean([starts,ends],0), pourcents, '-o',alpha = 0.3)\n",
    "bk.plot.intervals(shock,'green',alpha = 0.5)    \n",
    "bk.plot.intervals(tone,'orange', alpha=0.5)    \n",
    "plt.plot(np.mean([starts,ends],0),np.mean(ptotal,0),'*-',color = 'black',linewidth=2)\n",
    "plt.legend(['Rat13', 'Rat14', 'Rat15', 'Rat16','Mean','Shock','Tone'])\n",
    "plt.title('Pourcent freezing during fear conditionning')"
   ]
  },
  {
   "cell_type": "code",
   "execution_count": 14,
   "metadata": {},
   "outputs": [
    {
     "data": {
      "text/plain": [
       "Text(0.5, 1.0, 'Pourcent freezing in tone retrieval')"
      ]
     },
     "execution_count": 14,
     "metadata": {},
     "output_type": "execute_result"
    }
   ],
   "source": [
    "t_start_exp_tone = [31.5871,32.76115,5.97]\n",
    "\n",
    "ptotal = []\n",
    "plt.subplot(3,1,2)\n",
    "\n",
    "for fichier,t_s,d_t in zip(tone_sess,t_start_exp_tone,digitalin_tone):\n",
    "    os.chdir(fichier)\n",
    "    pos = bk.load.DLC_pos()\n",
    "    pos.index = pos.index\n",
    "    tone = bk.compute.tone_intervals(bk.load.digitalin('digitalin.dat')[d_t,:])- t_s * 1_000_000\n",
    "    speeds = bk.compute.speed(pos,2, columns_to_drop=['e_tail'])\n",
    "    freeze = bk.compute.freezing_intervals(speeds, 25, mode='multiple_speed', clean=True) - t_s *1_000_000\n",
    "    pourcents = all_pourcentages(intervals, freeze)\n",
    "    ptotal.append(pourcents)\n",
    "#     bk.plot.intervals(freeze,col = 'b')\n",
    "    plt.plot(np.mean([starts,ends],0), pourcents, '-o',alpha = 0.3)\n",
    "    \n",
    "bk.plot.intervals(tone,'orange', alpha=0.5)    \n",
    "plt.plot(np.mean([starts,ends],0),np.mean(ptotal,0),'*-',color = 'black',linewidth=2)\n",
    "plt.legend(['Rat13', 'Rat14', 'Rat16','Mean','Tone'])\n",
    "plt.title('Pourcent freezing in tone retrieval')"
   ]
  },
  {
   "cell_type": "code",
   "execution_count": 15,
   "metadata": {},
   "outputs": [
    {
     "data": {
      "text/plain": [
       "Text(0.5, 1.0, 'Pourcent freezing in context retrieval')"
      ]
     },
     "execution_count": 15,
     "metadata": {},
     "output_type": "execute_result"
    }
   ],
   "source": [
    "t_start_exp_context = [23.49815,31.56275,48.84175,24.49015]\n",
    "\n",
    "ptotal = []\n",
    "plt.subplot(3,1,3)\n",
    "\n",
    "for fichier,t_s in zip(context_sess,t_start_exp_context):\n",
    "    os.chdir(fichier)\n",
    "    pos = bk.load.DLC_pos()\n",
    "    pos.index = pos.index\n",
    "    speeds = bk.compute.speed(pos,2, columns_to_drop=['e_tail'])\n",
    "    freeze = bk.compute.freezing_intervals(speeds, 25, mode='multiple_speed', clean=True) - t_s *1_000_000\n",
    "    pourcents = all_pourcentages(intervals, freeze)\n",
    "    ptotal.append(pourcents)\n",
    "#     bk.plot.intervals(freeze,col = 'b')\n",
    "    plt.plot(np.mean([starts,ends],0), pourcents, '-o',alpha = 0.3)\n",
    "plt.plot(np.mean([starts,ends],0),np.mean(ptotal,0),'*-',color = 'black',linewidth=2)\n",
    "plt.legend(['Rat13', 'Rat14', 'Rat15', 'Rat16','Mean'])\n",
    "plt.title('Pourcent freezing in context retrieval')"
   ]
  },
  {
   "cell_type": "code",
   "execution_count": 15,
   "metadata": {},
   "outputs": [
    {
     "name": "stdout",
     "output_type": "stream",
     "text": [
      "[36.98515]\n",
      "[25.79435]\n",
      "[36.52745]\n",
      "[34.03365]\n"
     ]
    }
   ],
   "source": [
    "for subsession in neutral_sess:\n",
    "    os.chdir(subsession)\n",
    "    f_tone = GetStartExp(bk.load.digitalin('digitalin.dat')[1,:])\n",
    "    print(f_tone[f_tone>0])"
   ]
  }
 ],
 "metadata": {
  "kernelspec": {
   "display_name": "Python 3",
   "language": "python",
   "name": "python3"
  },
  "language_info": {
   "codemirror_mode": {
    "name": "ipython",
    "version": 3
   },
   "file_extension": ".py",
   "mimetype": "text/x-python",
   "name": "python",
   "nbconvert_exporter": "python",
   "pygments_lexer": "ipython3",
   "version": "3.8.5"
  }
 },
 "nbformat": 4,
 "nbformat_minor": 4
}
