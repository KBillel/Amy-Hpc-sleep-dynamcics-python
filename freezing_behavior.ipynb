{
 "cells": [
  {
   "cell_type": "code",
   "execution_count": 1,
   "metadata": {},
   "outputs": [],
   "source": [
    "%matplotlib qt\n",
    "\n",
    "import neuroseries as nts\n",
    "\n",
    "import numpy as np\n",
    "import matplotlib.pyplot as plt\n",
    "import scipy.stats\n",
    "import scipy.ndimage\n",
    "import os\n",
    "\n",
    "import scipy.signal\n",
    "import scipy.stats\n",
    "\n",
    "import cv2\n",
    "import datetime\n",
    "\n",
    "import bk.load \n",
    "import bk.plot\n",
    "import bk.compute\n",
    "\n",
    "import sklearn.manifold as skm\n",
    "import scipy.stats\n",
    "from matplotlib import cm"
   ]
  },
  {
   "cell_type": "code",
   "execution_count": 2,
   "metadata": {},
   "outputs": [],
   "source": [
    "def pourcent_freezing(interval, freezing_intervals): \n",
    "    freezing_intervals_in_interval = freezing_intervals.intersect(interval)\n",
    "    total_time_freezing = np.sum(freezing_intervals_in_interval.end-freezing_intervals_in_interval.start)\n",
    "    total_time = interval.end-interval.start\n",
    "    pourcentage = (total_time_freezing/total_time)*100\n",
    "    return pourcentage\n",
    "\n",
    "def all_pourcentages(intervals, freezing_intervals):\n",
    "    pourcentages = []\n",
    "    for i in range(len(intervals)):\n",
    "        interval = intervals.loc[i]\n",
    "        pourcentages.append(pourcent_freezing(interval, freezing_intervals))\n",
    "    return pourcentages\n",
    "\n",
    "def GetStartExp(Exp,Fs = 20000):\n",
    "    \n",
    "    if isinstance(Exp[0],(np.bool_,bool)):\n",
    "        Exp = list(map(int,Exp))\n",
    "    \n",
    "    diff_Exp = np.diff(Exp)\n",
    "    \n",
    "    t_start = np.where(diff_Exp == 1)[0]    \n",
    "    return t_start/Fs"
   ]
  },
  {
   "cell_type": "markdown",
   "metadata": {},
   "source": [
    "Analysis for classical fear conditionning "
   ]
  },
  {
   "cell_type": "code",
   "execution_count": 58,
   "metadata": {},
   "outputs": [],
   "source": [
    "context_sess = ['Y:\\classical_fear_conditionning\\Rat09-20201118\\Rat09_201118_180813',\n",
    "                'Y:\\classical_fear_conditionning\\Rat10-20201118\\Rat10_201118_182234', \n",
    "                'Y:\\classical_fear_conditionning\\Rat11-20201117\\Rat11_201117_172705',\n",
    "                'Y:\\classical_fear_conditionning\\Rat12-20201117\\Rat12_201117_171302', \n",
    "                'Y:\\classical_fear_conditionning\\Rat01-20200630\\Rat01_200630_183149',\n",
    "                'Y:\\classical_fear_conditionning\\Rat02-20200707\\Rat02_200707_172929']\n",
    "fear_sess = ['Y:\\classical_fear_conditionning\\Rat09-20201118\\Rat09_201118_110003',\n",
    "             'Y:\\classical_fear_conditionning\\Rat10-20201118\\Rat10_201118_111531',\n",
    "             'Y:\\classical_fear_conditionning\\Rat11-20201117\\Rat11_201117_112130',\n",
    "             'Y:\\classical_fear_conditionning\\Rat12-20201117\\Rat12_201117_110146',\n",
    "            'Y:\\classical_fear_conditionning\\Rat01-20200630\\Rat01_200630_114732',\n",
    "            'Y:\\classical_fear_conditionning\\Rat02-20200707\\Rat02_200707_114611']\n",
    "\n",
    "tone_sess = ['Y:\\classical_fear_conditionning\\Rat09-20201118\\Rat09_201118_170529', \n",
    "        'Y:\\classical_fear_conditionning\\Rat10-20201118\\Rat10_201118_172028', \n",
    "        'Y:\\classical_fear_conditionning\\Rat11-20201117\\Rat11_201117_183012',\n",
    "        'Y:\\classical_fear_conditionning\\Rat12-20201117\\Rat12_201117_181452', \n",
    "        'Y:\\classical_fear_conditionning\\Rat01-20200630\\Rat01_200630_171900', \n",
    "        'Y:\\classical_fear_conditionning\\Rat02-20200707\\Rat02_200707_183427' ]\n",
    "\n",
    "\n",
    "intervals = np.linspace(0,570,20)\n",
    "starts = intervals[0:-1]\n",
    "ends = intervals[1:]\n",
    "intervals = nts.IntervalSet(starts,ends,time_units='s')\n",
    "\n",
    "digitalin_tone = [3,3,3,3,2,2]\n",
    "digitalin_shock = [2,2,2,2,1,1]"
   ]
  },
  {
   "cell_type": "code",
   "execution_count": 49,
   "metadata": {},
   "outputs": [
    {
     "name": "stderr",
     "output_type": "stream",
     "text": [
      "Z:\\Python\\Billel\\bk\\compute.py:160: RuntimeWarning: overflow encountered in square\n",
      "  v = np.sqrt(x_speed**2 + y_speed**2)\n"
     ]
    },
    {
     "data": {
      "text/plain": [
       "<matplotlib.legend.Legend at 0x1d8a4783c18>"
      ]
     },
     "execution_count": 49,
     "metadata": {},
     "output_type": "execute_result"
    }
   ],
   "source": [
    "t_start_exp_tone = [49.9391, 12.74455, 30.36235, 29.62595, 58.95, 17.8116]\n",
    "\n",
    "ptotal = []\n",
    "plt.figure()\n",
    "\n",
    "for fichier,t_s,d_t in zip(tone_sess,t_start_exp_tone,digitalin_tone):\n",
    "    os.chdir(fichier)\n",
    "    pos = bk.load.DLC_pos()\n",
    "    pos.index = pos.index\n",
    "    tone = bk.compute.tone_intervals(bk.load.digitalin('digitalin.dat')[d_t,:])- t_s * 1_000_000\n",
    "    speeds = bk.compute.speed(pos,2, columns_to_drop=['e_tail'])\n",
    "    freeze = bk.compute.freezing_intervals(speeds, 25, mode='multiple_speed', clean=True) - t_s *1_000_000\n",
    "    pourcents = all_pourcentages(intervals, freeze)\n",
    "    ptotal.append(pourcents)\n",
    "#     bk.plot.intervals(freeze,col = 'b')\n",
    "    plt.plot(np.mean([starts,ends],0), pourcents, '-o',alpha = 0.5)\n",
    "    \n",
    "bk.plot.intervals(tone,'orange', alpha=0.5)    \n",
    "plt.plot(np.mean([starts,ends],0),np.mean(ptotal,0),'*-r')\n",
    "plt.legend(['Rat09', 'Rat10', 'Rat11', 'Rat12', 'Rat01', 'Rat02','Mean','Tone'])"
   ]
  },
  {
   "cell_type": "code",
   "execution_count": 60,
   "metadata": {},
   "outputs": [
    {
     "data": {
      "text/plain": [
       "<matplotlib.legend.Legend at 0x1d8a3249208>"
      ]
     },
     "execution_count": 60,
     "metadata": {},
     "output_type": "execute_result"
    }
   ],
   "source": [
    "t_start_exp_fear = [37.7209,29.46495,34.7118,25.34385,45.9524,55.00735]\n",
    "\n",
    "ptotal = []\n",
    "plt.figure()\n",
    "\n",
    "for fichier,t_s,d_s in zip(fear_sess,t_start_exp_fear, digitalin_shock):\n",
    "    os.chdir(fichier)\n",
    "    pos = bk.load.DLC_pos()\n",
    "    pos.index = pos.index\n",
    "    tone = bk.compute.tone_intervals(bk.load.digitalin('digitalin.dat')[d_s+1,:])- t_s * 1_000_000\n",
    "    shock = bk.compute.tone_intervals(bk.load.digitalin('digitalin.dat')[d_s,:])- t_s * 1_000_000\n",
    "    speeds = bk.compute.speed(pos,2, columns_to_drop=['e_tail'])\n",
    "    freeze = bk.compute.freezing_intervals(speeds, 25, mode='multiple_speed', clean=True) - t_s *1_000_000\n",
    "    pourcents = all_pourcentages(intervals, freeze)\n",
    "    ptotal.append(pourcents)\n",
    "#     bk.plot.intervals(freeze,col = 'b')\n",
    "    plt.plot(np.mean([starts,ends],0), pourcents, '-o',alpha = 0.5)\n",
    "bk.plot.intervals(shock,'green',alpha = 0.5)    \n",
    "bk.plot.intervals(tone,'orange', alpha=0.5)    \n",
    "plt.plot(np.mean([starts,ends],0),np.mean(ptotal,0),'*-r')\n",
    "plt.legend(['Rat09', 'Rat10', 'Rat11', 'Rat12', 'Rat01', 'Rat02','Mean','Shock','Tone'])"
   ]
  },
  {
   "cell_type": "code",
   "execution_count": 62,
   "metadata": {},
   "outputs": [
    {
     "data": {
      "text/plain": [
       "<matplotlib.legend.Legend at 0x1d8a00f0438>"
      ]
     },
     "execution_count": 62,
     "metadata": {},
     "output_type": "execute_result"
    }
   ],
   "source": [
    "t_start_exp_context = [34,25,36,26,38,58]\n",
    "\n",
    "ptotal = []\n",
    "plt.figure()\n",
    "\n",
    "for fichier,t_s in zip(context_sess,t_start_exp_context):\n",
    "    os.chdir(fichier)\n",
    "    pos = bk.load.DLC_pos()\n",
    "    pos.index = pos.index\n",
    "    speeds = bk.compute.speed(pos,2, columns_to_drop=['e_tail'])\n",
    "    freeze = bk.compute.freezing_intervals(speeds, 25, mode='multiple_speed', clean=True) - t_s *1_000_000\n",
    "    pourcents = all_pourcentages(intervals, freeze)\n",
    "    ptotal.append(pourcents)\n",
    "#     bk.plot.intervals(freeze,col = 'b')\n",
    "    plt.plot(np.mean([starts,ends],0), pourcents, '-o',alpha = 0.5)\n",
    "plt.plot(np.mean([starts,ends],0),np.mean(ptotal,0),'*-r')\n",
    "plt.legend(['Rat09', 'Rat10', 'Rat11', 'Rat12', 'Rat01', 'Rat02','Mean'])"
   ]
  },
  {
   "cell_type": "code",
   "execution_count": 61,
   "metadata": {},
   "outputs": [
    {
     "name": "stdout",
     "output_type": "stream",
     "text": [
      "34.458774999999946\n",
      "[  3.0225    3.1475    3.2725  203.08695 353.30415 503.51535]\n",
      "25.68372499999998\n",
      "[  3.0225    3.1475    3.2725  203.08695 353.30415 503.51535]\n",
      "36.234050000000025\n",
      "[  3.0225    3.1475    3.2725  203.08695 353.30415 503.51535]\n",
      "26.03037500000005\n",
      "[  3.0225    3.1475    3.2725  203.08695 353.30415 503.51535]\n",
      "38.39945\n",
      "[  3.0225    3.1475    3.2725  203.08695 353.30415 503.51535]\n",
      "58.11689999999999\n",
      "[  3.0225    3.1475    3.2725  203.08695 353.30415 503.51535]\n"
     ]
    }
   ],
   "source": [
    "for fichier in context_sess:\n",
    "    os.chdir(fichier)\n",
    "    pos = bk.load.DLC_pos()\n",
    "    print(pos.as_units('s').index[-1]-575)\n",
    "#     f_tone = GetStartExp(bk.load.digitalin('digitalin.dat')[1,:])\n",
    "#     print(f_tone[f_tone>0])\n",
    "    \n",
    "    \n"
   ]
  },
  {
   "cell_type": "markdown",
   "metadata": {},
   "source": [
    "Analysis for PTSD fear conditionning "
   ]
  },
  {
   "cell_type": "code",
   "execution_count": 22,
   "metadata": {},
   "outputs": [],
   "source": [
    "neutral_sess = ['Y://fear_conditionning_ptsd\\Rat13\\Rat13-20201202\\Rat13_201202_183404',\n",
    "               'Y://fear_conditionning_ptsd\\Rat14\\Rat14-20201203\\Rat14_201203_165203',\n",
    "               'Y://fear_conditionning_ptsd\\Rat15\\Rat15-20201130\\Rat15_201130_164002',\n",
    "               'Y://fear_conditionning_ptsd\\Rat16\\Rat16-20201201\\Rat16_201201_172742']\n",
    "\n",
    "\n",
    "\n",
    "context_sess = ['Y://fear_conditionning_ptsd\\Rat13\\Rat13-20201203\\Rat13_201203_154214',\n",
    "               'Y://fear_conditionning_ptsd\\Rat14\\Rat14-20201204\\Rat14_201204_172709',\n",
    "               'Y://fear_conditionning_ptsd\\Rat15\\Rat15-20201201\\Rat15_201201_155055',\n",
    "               'Y://fear_conditionning_ptsd\\Rat16\\Rat16-20201202\\Rat16_201202_171552']\n",
    "\n",
    "fear_sess = ['Y://fear_conditionning_ptsd\\Rat13\\Rat13-20201203\\Rat13_201203_112541',\n",
    "            'Y://fear_conditionning_ptsd\\Rat14\\Rat14-20201204\\Rat14_201204_113458',\n",
    "            'Y://fear_conditionning_ptsd\\Rat15\\Rat15-20201201\\Rat15_201201_115713',\n",
    "            'Y://fear_conditionning_ptsd\\Rat16\\Rat16-20201202\\Rat16_201202_132308']\n",
    "\n",
    "tone_sess = ['Y://fear_conditionning_ptsd\\Rat13\\Rat13-20201203\\Rat13_201203_164205',\n",
    "            'Y://fear_conditionning_ptsd\\Rat14\\Rat14-20201204\\Rat14_201204_161859',\n",
    "            'Y://fear_conditionning_ptsd\\Rat16\\Rat16-20201202\\Rat16_201202_182329']\n",
    "\n",
    "\n",
    "intervals = np.linspace(0,240,13)\n",
    "starts = intervals[0:-1]\n",
    "ends = intervals[1:]\n",
    "intervals = nts.IntervalSet(starts,ends,time_units='s')\n",
    "\n",
    "digitalin_tone = [3,3,3,3]\n",
    "digitalin_shock = [2,2,2,2]"
   ]
  },
  {
   "cell_type": "code",
   "execution_count": 15,
   "metadata": {},
   "outputs": [
    {
     "name": "stdout",
     "output_type": "stream",
     "text": [
      "[36.98515]\n",
      "[25.79435]\n",
      "[36.52745]\n",
      "[34.03365]\n"
     ]
    }
   ],
   "source": [
    "for subsession in neutral_sess:\n",
    "    os.chdir(subsession)\n",
    "    f_tone = GetStartExp(bk.load.digitalin('digitalin.dat')[1,:])\n",
    "    print(f_tone[f_tone>0])"
   ]
  },
  {
   "cell_type": "code",
   "execution_count": 24,
   "metadata": {},
   "outputs": [
    {
     "name": "stdout",
     "output_type": "stream",
     "text": [
      "Y://fear_conditionning_ptsd\\Rat13\\Rat13-20201202\\Rat13_201202_183404\n",
      "Y://fear_conditionning_ptsd\\Rat14\\Rat14-20201203\\Rat14_201203_165203\n",
      "Y://fear_conditionning_ptsd\\Rat15\\Rat15-20201130\\Rat15_201130_164002\n"
     ]
    },
    {
     "ename": "ValueError",
     "evalue": "Length mismatch: Expected axis has 8194 elements, new values have 8195 elements",
     "output_type": "error",
     "traceback": [
      "\u001b[1;31m---------------------------------------------------------------------------\u001b[0m",
      "\u001b[1;31mValueError\u001b[0m                                Traceback (most recent call last)",
      "\u001b[1;32m<ipython-input-24-e53fca8d7507>\u001b[0m in \u001b[0;36m<module>\u001b[1;34m()\u001b[0m\n\u001b[0;32m      7\u001b[0m     \u001b[0mos\u001b[0m\u001b[1;33m.\u001b[0m\u001b[0mchdir\u001b[0m\u001b[1;33m(\u001b[0m\u001b[0mfichier\u001b[0m\u001b[1;33m)\u001b[0m\u001b[1;33m\u001b[0m\u001b[0m\n\u001b[0;32m      8\u001b[0m     \u001b[0mprint\u001b[0m\u001b[1;33m(\u001b[0m\u001b[0mfichier\u001b[0m\u001b[1;33m)\u001b[0m\u001b[1;33m\u001b[0m\u001b[0m\n\u001b[1;32m----> 9\u001b[1;33m     \u001b[0mpos\u001b[0m \u001b[1;33m=\u001b[0m \u001b[0mbk\u001b[0m\u001b[1;33m.\u001b[0m\u001b[0mload\u001b[0m\u001b[1;33m.\u001b[0m\u001b[0mDLC_pos\u001b[0m\u001b[1;33m(\u001b[0m\u001b[1;33m)\u001b[0m\u001b[1;33m\u001b[0m\u001b[0m\n\u001b[0m\u001b[0;32m     10\u001b[0m     \u001b[0mpos\u001b[0m\u001b[1;33m.\u001b[0m\u001b[0mindex\u001b[0m \u001b[1;33m=\u001b[0m \u001b[0mpos\u001b[0m\u001b[1;33m.\u001b[0m\u001b[0mindex\u001b[0m\u001b[1;33m\u001b[0m\u001b[0m\n\u001b[0;32m     11\u001b[0m     \u001b[0mspeeds\u001b[0m \u001b[1;33m=\u001b[0m \u001b[0mbk\u001b[0m\u001b[1;33m.\u001b[0m\u001b[0mcompute\u001b[0m\u001b[1;33m.\u001b[0m\u001b[0mspeed\u001b[0m\u001b[1;33m(\u001b[0m\u001b[0mpos\u001b[0m\u001b[1;33m,\u001b[0m\u001b[1;36m2\u001b[0m\u001b[1;33m,\u001b[0m \u001b[0mcolumns_to_drop\u001b[0m\u001b[1;33m=\u001b[0m\u001b[1;33m[\u001b[0m\u001b[1;34m'e_tail'\u001b[0m\u001b[1;33m]\u001b[0m\u001b[1;33m)\u001b[0m\u001b[1;33m\u001b[0m\u001b[0m\n",
      "\u001b[1;32mZ:\\Python\\Billel\\bk\\load.py\u001b[0m in \u001b[0;36mDLC_pos\u001b[1;34m(filtered)\u001b[0m\n\u001b[0;32m    325\u001b[0m         \u001b[0mtf\u001b[0m \u001b[1;33m=\u001b[0m \u001b[0mnp\u001b[0m\u001b[1;33m.\u001b[0m\u001b[0mdelete\u001b[0m\u001b[1;33m(\u001b[0m\u001b[0mtf\u001b[0m\u001b[1;33m,\u001b[0m\u001b[1;33m-\u001b[0m\u001b[1;36m1\u001b[0m\u001b[1;33m)\u001b[0m\u001b[1;33m\u001b[0m\u001b[0m\n\u001b[0;32m    326\u001b[0m \u001b[1;33m\u001b[0m\u001b[0m\n\u001b[1;32m--> 327\u001b[1;33m     \u001b[0mdata\u001b[0m\u001b[1;33m.\u001b[0m\u001b[0mindex\u001b[0m \u001b[1;33m=\u001b[0m \u001b[0mtf\u001b[0m \u001b[1;33m*\u001b[0m \u001b[1;36m1_000_000\u001b[0m\u001b[1;33m\u001b[0m\u001b[0m\n\u001b[0m\u001b[0;32m    328\u001b[0m     \u001b[0mpos\u001b[0m \u001b[1;33m=\u001b[0m \u001b[0mnts\u001b[0m\u001b[1;33m.\u001b[0m\u001b[0mTsdFrame\u001b[0m\u001b[1;33m(\u001b[0m\u001b[0mdata\u001b[0m\u001b[1;33m)\u001b[0m\u001b[1;33m\u001b[0m\u001b[0m\n\u001b[0;32m    329\u001b[0m     \u001b[1;32mreturn\u001b[0m \u001b[0mpos\u001b[0m\u001b[1;33m\u001b[0m\u001b[0m\n",
      "\u001b[1;32mC:\\ProgramData\\Anaconda3\\lib\\site-packages\\pandas\\core\\generic.py\u001b[0m in \u001b[0;36m__setattr__\u001b[1;34m(self, name, value)\u001b[0m\n\u001b[0;32m   5150\u001b[0m         \u001b[1;32mtry\u001b[0m\u001b[1;33m:\u001b[0m\u001b[1;33m\u001b[0m\u001b[0m\n\u001b[0;32m   5151\u001b[0m             \u001b[0mobject\u001b[0m\u001b[1;33m.\u001b[0m\u001b[0m__getattribute__\u001b[0m\u001b[1;33m(\u001b[0m\u001b[0mself\u001b[0m\u001b[1;33m,\u001b[0m \u001b[0mname\u001b[0m\u001b[1;33m)\u001b[0m\u001b[1;33m\u001b[0m\u001b[0m\n\u001b[1;32m-> 5152\u001b[1;33m             \u001b[1;32mreturn\u001b[0m \u001b[0mobject\u001b[0m\u001b[1;33m.\u001b[0m\u001b[0m__setattr__\u001b[0m\u001b[1;33m(\u001b[0m\u001b[0mself\u001b[0m\u001b[1;33m,\u001b[0m \u001b[0mname\u001b[0m\u001b[1;33m,\u001b[0m \u001b[0mvalue\u001b[0m\u001b[1;33m)\u001b[0m\u001b[1;33m\u001b[0m\u001b[0m\n\u001b[0m\u001b[0;32m   5153\u001b[0m         \u001b[1;32mexcept\u001b[0m \u001b[0mAttributeError\u001b[0m\u001b[1;33m:\u001b[0m\u001b[1;33m\u001b[0m\u001b[0m\n\u001b[0;32m   5154\u001b[0m             \u001b[1;32mpass\u001b[0m\u001b[1;33m\u001b[0m\u001b[0m\n",
      "\u001b[1;32mpandas\\_libs\\properties.pyx\u001b[0m in \u001b[0;36mpandas._libs.properties.AxisProperty.__set__\u001b[1;34m()\u001b[0m\n",
      "\u001b[1;32mC:\\ProgramData\\Anaconda3\\lib\\site-packages\\pandas\\core\\generic.py\u001b[0m in \u001b[0;36m_set_axis\u001b[1;34m(self, axis, labels)\u001b[0m\n\u001b[0;32m    562\u001b[0m     \u001b[1;32mdef\u001b[0m \u001b[0m_set_axis\u001b[0m\u001b[1;33m(\u001b[0m\u001b[0mself\u001b[0m\u001b[1;33m,\u001b[0m \u001b[0maxis\u001b[0m\u001b[1;33m:\u001b[0m \u001b[0mint\u001b[0m\u001b[1;33m,\u001b[0m \u001b[0mlabels\u001b[0m\u001b[1;33m:\u001b[0m \u001b[0mIndex\u001b[0m\u001b[1;33m)\u001b[0m \u001b[1;33m->\u001b[0m \u001b[1;32mNone\u001b[0m\u001b[1;33m:\u001b[0m\u001b[1;33m\u001b[0m\u001b[0m\n\u001b[0;32m    563\u001b[0m         \u001b[0mlabels\u001b[0m \u001b[1;33m=\u001b[0m \u001b[0mensure_index\u001b[0m\u001b[1;33m(\u001b[0m\u001b[0mlabels\u001b[0m\u001b[1;33m)\u001b[0m\u001b[1;33m\u001b[0m\u001b[0m\n\u001b[1;32m--> 564\u001b[1;33m         \u001b[0mself\u001b[0m\u001b[1;33m.\u001b[0m\u001b[0m_mgr\u001b[0m\u001b[1;33m.\u001b[0m\u001b[0mset_axis\u001b[0m\u001b[1;33m(\u001b[0m\u001b[0maxis\u001b[0m\u001b[1;33m,\u001b[0m \u001b[0mlabels\u001b[0m\u001b[1;33m)\u001b[0m\u001b[1;33m\u001b[0m\u001b[0m\n\u001b[0m\u001b[0;32m    565\u001b[0m         \u001b[0mself\u001b[0m\u001b[1;33m.\u001b[0m\u001b[0m_clear_item_cache\u001b[0m\u001b[1;33m(\u001b[0m\u001b[1;33m)\u001b[0m\u001b[1;33m\u001b[0m\u001b[0m\n\u001b[0;32m    566\u001b[0m \u001b[1;33m\u001b[0m\u001b[0m\n",
      "\u001b[1;32mC:\\ProgramData\\Anaconda3\\lib\\site-packages\\pandas\\core\\internals\\managers.py\u001b[0m in \u001b[0;36mset_axis\u001b[1;34m(self, axis, new_labels)\u001b[0m\n\u001b[0;32m    225\u001b[0m         \u001b[1;32mif\u001b[0m \u001b[0mnew_len\u001b[0m \u001b[1;33m!=\u001b[0m \u001b[0mold_len\u001b[0m\u001b[1;33m:\u001b[0m\u001b[1;33m\u001b[0m\u001b[0m\n\u001b[0;32m    226\u001b[0m             raise ValueError(\n\u001b[1;32m--> 227\u001b[1;33m                 \u001b[1;34mf\"Length mismatch: Expected axis has {old_len} elements, new \"\u001b[0m\u001b[1;33m\u001b[0m\u001b[0m\n\u001b[0m\u001b[0;32m    228\u001b[0m                 \u001b[1;34mf\"values have {new_len} elements\"\u001b[0m\u001b[1;33m\u001b[0m\u001b[0m\n\u001b[0;32m    229\u001b[0m             )\n",
      "\u001b[1;31mValueError\u001b[0m: Length mismatch: Expected axis has 8194 elements, new values have 8195 elements"
     ]
    }
   ],
   "source": [
    "t_start_exp_neutral = [36.98515,25.79435,36.52745,34.03365]\n",
    "\n",
    "ptotal = []\n",
    "plt.figure()\n",
    "\n",
    "for fichier,t_s in zip(neutral_sess,t_start_exp_neutral):\n",
    "    os.chdir(fichier)\n",
    "    print(fichier)\n",
    "    pos = bk.load.DLC_pos()\n",
    "    pos.index = pos.index\n",
    "    speeds = bk.compute.speed(pos,2, columns_to_drop=['e_tail'])\n",
    "    freeze = bk.compute.freezing_intervals(speeds, 25, mode='multiple_speed', clean=True) - t_s *1_000_000\n",
    "    pourcents = all_pourcentages(intervals, freeze)\n",
    "    ptotal.append(pourcents)\n",
    "#     bk.plot.intervals(freeze,col = 'b')\n",
    "    plt.plot(np.mean([starts,ends],0), pourcents, '-o',alpha = 0.5)\n",
    "plt.plot(np.mean([starts,ends],0),np.mean(ptotal,0),'*-r')\n",
    "plt.legend(['Rat13', 'Rat14','Rat15','Rat16','Mean'])\n",
    "plt.title('Pourcent freezing in neutral context before fear conditionning')"
   ]
  },
  {
   "cell_type": "code",
   "execution_count": 84,
   "metadata": {},
   "outputs": [
    {
     "name": "stdout",
     "output_type": "stream",
     "text": [
      "Y://fear_conditionning_ptsd\\Rat13\\Rat13-20201203\\Rat13_201203_164205\n",
      "Y://fear_conditionning_ptsd\\Rat14\\Rat14-20201204\\Rat14_201204_161859\n",
      "Y://fear_conditionning_ptsd\\Rat16\\Rat16-20201202\\Rat16_201202_182329\n"
     ]
    },
    {
     "data": {
      "text/plain": [
       "Text(0.5,1,'Pourcent freezing in tone retrieval')"
      ]
     },
     "execution_count": 84,
     "metadata": {},
     "output_type": "execute_result"
    }
   ],
   "source": [
    "t_start_exp_tone = [31.5871,32.76115,5.97]\n",
    "\n",
    "ptotal = []\n",
    "plt.figure()\n",
    "\n",
    "for fichier,t_s,d_t in zip(tone_sess,t_start_exp_tone,digitalin_tone):\n",
    "    os.chdir(fichier)\n",
    "    print(fichier)\n",
    "    pos = bk.load.DLC_pos()\n",
    "    pos.index = pos.index\n",
    "    tone = bk.compute.tone_intervals(bk.load.digitalin('digitalin.dat')[d_t,:])- t_s * 1_000_000\n",
    "    speeds = bk.compute.speed(pos,2, columns_to_drop=['e_tail'])\n",
    "    freeze = bk.compute.freezing_intervals(speeds, 25, mode='multiple_speed', clean=True) - t_s *1_000_000\n",
    "    pourcents = all_pourcentages(intervals, freeze)\n",
    "    ptotal.append(pourcents)\n",
    "#     bk.plot.intervals(freeze,col = 'b')\n",
    "    plt.plot(np.mean([starts,ends],0), pourcents, '-o',alpha = 0.5)\n",
    "    \n",
    "bk.plot.intervals(tone,'orange', alpha=0.5)    \n",
    "plt.plot(np.mean([starts,ends],0),np.mean(ptotal,0),'*-r')\n",
    "plt.legend(['Rat13', 'Rat14', 'Rat16','Mean','Tone'])\n",
    "plt.title('Pourcent freezing in tone retrieval')"
   ]
  },
  {
   "cell_type": "code",
   "execution_count": 82,
   "metadata": {},
   "outputs": [
    {
     "data": {
      "text/plain": [
       "Text(0.5,1,'Pourcent freezing during fear conditionning')"
      ]
     },
     "execution_count": 82,
     "metadata": {},
     "output_type": "execute_result"
    }
   ],
   "source": [
    "t_start_exp_fear = [43.6102,61.40995,75.8984,36.58545]\n",
    "\n",
    "ptotal = []\n",
    "plt.figure()\n",
    "\n",
    "for fichier,t_s,d_s in zip(fear_sess,t_start_exp_fear, digitalin_shock):\n",
    "    os.chdir(fichier)\n",
    "    pos = bk.load.DLC_pos()\n",
    "    pos.index = pos.index\n",
    "    tone = bk.compute.tone_intervals(bk.load.digitalin('digitalin.dat')[d_s+1,:])- t_s * 1_000_000\n",
    "    shock = bk.compute.tone_intervals(bk.load.digitalin('digitalin.dat')[d_s,:])- t_s * 1_000_000\n",
    "    speeds = bk.compute.speed(pos,2, columns_to_drop=['e_tail'])\n",
    "    freeze = bk.compute.freezing_intervals(speeds, 25, mode='multiple_speed', clean=True) - t_s *1_000_000\n",
    "    pourcents = all_pourcentages(intervals, freeze)\n",
    "    ptotal.append(pourcents)\n",
    "#     bk.plot.intervals(freeze,col = 'b')\n",
    "    plt.plot(np.mean([starts,ends],0), pourcents, '-o',alpha = 0.5)\n",
    "bk.plot.intervals(shock,'green',alpha = 0.5)    \n",
    "bk.plot.intervals(tone,'orange', alpha=0.5)    \n",
    "plt.plot(np.mean([starts,ends],0),np.mean(ptotal,0),'*-r')\n",
    "plt.legend(['Rat13', 'Rat14', 'Rat15', 'Rat16','Mean','Shock','Tone'])\n",
    "plt.title('Pourcent freezing during fear conditionning')"
   ]
  },
  {
   "cell_type": "code",
   "execution_count": 83,
   "metadata": {},
   "outputs": [
    {
     "data": {
      "text/plain": [
       "Text(0.5,1,'Pourcent freezing in context retrieval')"
      ]
     },
     "execution_count": 83,
     "metadata": {},
     "output_type": "execute_result"
    }
   ],
   "source": [
    "t_start_exp_context = [23.49815,31.56275,48.84175,24.49015]\n",
    "\n",
    "ptotal = []\n",
    "plt.figure()\n",
    "\n",
    "for fichier,t_s in zip(context_sess,t_start_exp_context):\n",
    "    os.chdir(fichier)\n",
    "    pos = bk.load.DLC_pos()\n",
    "    pos.index = pos.index\n",
    "    speeds = bk.compute.speed(pos,2, columns_to_drop=['e_tail'])\n",
    "    freeze = bk.compute.freezing_intervals(speeds, 25, mode='multiple_speed', clean=True) - t_s *1_000_000\n",
    "    pourcents = all_pourcentages(intervals, freeze)\n",
    "    ptotal.append(pourcents)\n",
    "#     bk.plot.intervals(freeze,col = 'b')\n",
    "    plt.plot(np.mean([starts,ends],0), pourcents, '-o',alpha = 0.5)\n",
    "plt.plot(np.mean([starts,ends],0),np.mean(ptotal,0),'*-r')\n",
    "plt.legend(['Rat13', 'Rat14', 'Rat15', 'Rat16','Mean'])\n",
    "plt.title('Pourcent freezing in context retrieval')"
   ]
  },
  {
   "cell_type": "code",
   "execution_count": 54,
   "metadata": {},
   "outputs": [
    {
     "data": {
      "text/plain": [
       "8196"
      ]
     },
     "execution_count": 54,
     "metadata": {},
     "output_type": "execute_result"
    }
   ],
   "source": [
    "digit = 'Y://fear_conditionning_ptsd/Rat15/Rat15-20201130/Rat15_201130_164002/digitalin.dat'\n",
    "data = bk.load.digitalin(digit)\n",
    "n_TTL = bk.compute.TTL_to_times(data[0,:])\n",
    "len(n_TTL)"
   ]
  },
  {
   "cell_type": "code",
   "execution_count": 26,
   "metadata": {},
   "outputs": [],
   "source": [
    "def CountFrames(path):\n",
    "    import cv2\n",
    "    i = 0\n",
    "    ret = True\n",
    "    cap = cv2.VideoCapture(path)\n",
    "    return(int(cap.get(cv2.CAP_PROP_FRAME_COUNT)))"
   ]
  },
  {
   "cell_type": "code",
   "execution_count": 80,
   "metadata": {},
   "outputs": [],
   "source": [
    "import pandas as pd\n",
    "pos = pd.read_hdf('Y://fear_conditionning_ptsd/Rat15/Rat15-20201130/Rat15_201130_164002/Basler_acA1300-200uc__23039139__20201130_164007396DLC_resnet50_classical_fear_conditionningNov20shuffle1_1030000_filtered.h5')"
   ]
  },
  {
   "cell_type": "code",
   "execution_count": 81,
   "metadata": {
    "collapsed": true,
    "jupyter": {
     "outputs_hidden": true
    }
   },
   "outputs": [
    {
     "data": {
      "text/html": [
       "<div>\n",
       "<style scoped>\n",
       "    .dataframe tbody tr th:only-of-type {\n",
       "        vertical-align: middle;\n",
       "    }\n",
       "\n",
       "    .dataframe tbody tr th {\n",
       "        vertical-align: top;\n",
       "    }\n",
       "\n",
       "    .dataframe thead tr th {\n",
       "        text-align: left;\n",
       "    }\n",
       "</style>\n",
       "<table border=\"1\" class=\"dataframe\">\n",
       "  <thead>\n",
       "    <tr>\n",
       "      <th>scorer</th>\n",
       "      <th colspan=\"15\" halign=\"left\">DLC_resnet50_classical_fear_conditionningNov20shuffle1_1030000</th>\n",
       "    </tr>\n",
       "    <tr>\n",
       "      <th>bodyparts</th>\n",
       "      <th colspan=\"3\" halign=\"left\">snout</th>\n",
       "      <th colspan=\"3\" halign=\"left\">left_ear</th>\n",
       "      <th colspan=\"3\" halign=\"left\">right_ear</th>\n",
       "      <th colspan=\"3\" halign=\"left\">b_tail</th>\n",
       "      <th colspan=\"3\" halign=\"left\">e_tail</th>\n",
       "    </tr>\n",
       "    <tr>\n",
       "      <th>coords</th>\n",
       "      <th>x</th>\n",
       "      <th>y</th>\n",
       "      <th>likelihood</th>\n",
       "      <th>x</th>\n",
       "      <th>y</th>\n",
       "      <th>likelihood</th>\n",
       "      <th>x</th>\n",
       "      <th>y</th>\n",
       "      <th>likelihood</th>\n",
       "      <th>x</th>\n",
       "      <th>y</th>\n",
       "      <th>likelihood</th>\n",
       "      <th>x</th>\n",
       "      <th>y</th>\n",
       "      <th>likelihood</th>\n",
       "    </tr>\n",
       "  </thead>\n",
       "  <tbody>\n",
       "    <tr>\n",
       "      <th>0</th>\n",
       "      <td>246.730301</td>\n",
       "      <td>-0.750403</td>\n",
       "      <td>0.000028</td>\n",
       "      <td>219.727676</td>\n",
       "      <td>1.191529</td>\n",
       "      <td>0.000015</td>\n",
       "      <td>219.348541</td>\n",
       "      <td>1.119414</td>\n",
       "      <td>0.000017</td>\n",
       "      <td>252.401291</td>\n",
       "      <td>-0.361831</td>\n",
       "      <td>0.000019</td>\n",
       "      <td>275.802368</td>\n",
       "      <td>57.950970</td>\n",
       "      <td>0.000080</td>\n",
       "    </tr>\n",
       "    <tr>\n",
       "      <th>1</th>\n",
       "      <td>0.000000</td>\n",
       "      <td>0.000000</td>\n",
       "      <td>0.000027</td>\n",
       "      <td>0.000000</td>\n",
       "      <td>0.000000</td>\n",
       "      <td>0.000014</td>\n",
       "      <td>0.000000</td>\n",
       "      <td>0.000000</td>\n",
       "      <td>0.000016</td>\n",
       "      <td>0.000000</td>\n",
       "      <td>0.000000</td>\n",
       "      <td>0.000020</td>\n",
       "      <td>0.000000</td>\n",
       "      <td>0.000000</td>\n",
       "      <td>0.000244</td>\n",
       "    </tr>\n",
       "    <tr>\n",
       "      <th>2</th>\n",
       "      <td>0.000000</td>\n",
       "      <td>0.000000</td>\n",
       "      <td>0.000028</td>\n",
       "      <td>0.000000</td>\n",
       "      <td>0.000000</td>\n",
       "      <td>0.000015</td>\n",
       "      <td>0.000000</td>\n",
       "      <td>0.000000</td>\n",
       "      <td>0.000017</td>\n",
       "      <td>0.000000</td>\n",
       "      <td>0.000000</td>\n",
       "      <td>0.000023</td>\n",
       "      <td>0.000000</td>\n",
       "      <td>0.000000</td>\n",
       "      <td>0.000414</td>\n",
       "    </tr>\n",
       "    <tr>\n",
       "      <th>3</th>\n",
       "      <td>0.000000</td>\n",
       "      <td>0.000000</td>\n",
       "      <td>0.000029</td>\n",
       "      <td>0.000000</td>\n",
       "      <td>0.000000</td>\n",
       "      <td>0.000014</td>\n",
       "      <td>0.000000</td>\n",
       "      <td>0.000000</td>\n",
       "      <td>0.000016</td>\n",
       "      <td>0.000000</td>\n",
       "      <td>0.000000</td>\n",
       "      <td>0.000026</td>\n",
       "      <td>0.000000</td>\n",
       "      <td>0.000000</td>\n",
       "      <td>0.000630</td>\n",
       "    </tr>\n",
       "    <tr>\n",
       "      <th>4</th>\n",
       "      <td>0.000000</td>\n",
       "      <td>0.000000</td>\n",
       "      <td>0.000030</td>\n",
       "      <td>0.000000</td>\n",
       "      <td>0.000000</td>\n",
       "      <td>0.000014</td>\n",
       "      <td>0.000000</td>\n",
       "      <td>0.000000</td>\n",
       "      <td>0.000017</td>\n",
       "      <td>0.000000</td>\n",
       "      <td>0.000000</td>\n",
       "      <td>0.000027</td>\n",
       "      <td>0.000000</td>\n",
       "      <td>0.000000</td>\n",
       "      <td>0.000741</td>\n",
       "    </tr>\n",
       "    <tr>\n",
       "      <th>...</th>\n",
       "      <td>...</td>\n",
       "      <td>...</td>\n",
       "      <td>...</td>\n",
       "      <td>...</td>\n",
       "      <td>...</td>\n",
       "      <td>...</td>\n",
       "      <td>...</td>\n",
       "      <td>...</td>\n",
       "      <td>...</td>\n",
       "      <td>...</td>\n",
       "      <td>...</td>\n",
       "      <td>...</td>\n",
       "      <td>...</td>\n",
       "      <td>...</td>\n",
       "      <td>...</td>\n",
       "    </tr>\n",
       "    <tr>\n",
       "      <th>8189</th>\n",
       "      <td>161.786927</td>\n",
       "      <td>182.910835</td>\n",
       "      <td>0.999972</td>\n",
       "      <td>152.567768</td>\n",
       "      <td>163.809196</td>\n",
       "      <td>0.998994</td>\n",
       "      <td>139.296551</td>\n",
       "      <td>182.095250</td>\n",
       "      <td>0.999785</td>\n",
       "      <td>102.558834</td>\n",
       "      <td>154.858998</td>\n",
       "      <td>1.000000</td>\n",
       "      <td>83.472966</td>\n",
       "      <td>209.739414</td>\n",
       "      <td>0.999999</td>\n",
       "    </tr>\n",
       "    <tr>\n",
       "      <th>8190</th>\n",
       "      <td>163.088245</td>\n",
       "      <td>182.062789</td>\n",
       "      <td>0.999999</td>\n",
       "      <td>150.562997</td>\n",
       "      <td>162.680115</td>\n",
       "      <td>0.999820</td>\n",
       "      <td>143.782559</td>\n",
       "      <td>182.328111</td>\n",
       "      <td>0.999976</td>\n",
       "      <td>103.545874</td>\n",
       "      <td>154.675157</td>\n",
       "      <td>1.000000</td>\n",
       "      <td>83.167446</td>\n",
       "      <td>209.633745</td>\n",
       "      <td>0.999999</td>\n",
       "    </tr>\n",
       "    <tr>\n",
       "      <th>8191</th>\n",
       "      <td>165.781670</td>\n",
       "      <td>182.105740</td>\n",
       "      <td>1.000000</td>\n",
       "      <td>151.768032</td>\n",
       "      <td>163.267427</td>\n",
       "      <td>0.999902</td>\n",
       "      <td>145.785084</td>\n",
       "      <td>181.682995</td>\n",
       "      <td>0.999975</td>\n",
       "      <td>103.137080</td>\n",
       "      <td>154.631880</td>\n",
       "      <td>0.999999</td>\n",
       "      <td>83.072926</td>\n",
       "      <td>209.526120</td>\n",
       "      <td>0.999998</td>\n",
       "    </tr>\n",
       "    <tr>\n",
       "      <th>8192</th>\n",
       "      <td>166.487365</td>\n",
       "      <td>182.544974</td>\n",
       "      <td>1.000000</td>\n",
       "      <td>153.683652</td>\n",
       "      <td>164.264264</td>\n",
       "      <td>0.999905</td>\n",
       "      <td>145.691149</td>\n",
       "      <td>183.234128</td>\n",
       "      <td>0.999975</td>\n",
       "      <td>103.861073</td>\n",
       "      <td>154.428495</td>\n",
       "      <td>1.000000</td>\n",
       "      <td>82.835037</td>\n",
       "      <td>209.409723</td>\n",
       "      <td>0.999998</td>\n",
       "    </tr>\n",
       "    <tr>\n",
       "      <th>8193</th>\n",
       "      <td>167.010364</td>\n",
       "      <td>182.811747</td>\n",
       "      <td>0.999999</td>\n",
       "      <td>154.669972</td>\n",
       "      <td>166.058067</td>\n",
       "      <td>0.999898</td>\n",
       "      <td>146.863473</td>\n",
       "      <td>184.034491</td>\n",
       "      <td>0.999962</td>\n",
       "      <td>103.438428</td>\n",
       "      <td>154.603658</td>\n",
       "      <td>0.999999</td>\n",
       "      <td>83.092504</td>\n",
       "      <td>209.437027</td>\n",
       "      <td>0.999998</td>\n",
       "    </tr>\n",
       "  </tbody>\n",
       "</table>\n",
       "<p>8194 rows × 15 columns</p>\n",
       "</div>"
      ],
      "text/plain": [
       "scorer    DLC_resnet50_classical_fear_conditionningNov20shuffle1_1030000  \\\n",
       "bodyparts                                                          snout   \n",
       "coords                                                                 x   \n",
       "0                                                 246.730301               \n",
       "1                                                   0.000000               \n",
       "2                                                   0.000000               \n",
       "3                                                   0.000000               \n",
       "4                                                   0.000000               \n",
       "...                                                      ...               \n",
       "8189                                              161.786927               \n",
       "8190                                              163.088245               \n",
       "8191                                              165.781670               \n",
       "8192                                              166.487365               \n",
       "8193                                              167.010364               \n",
       "\n",
       "scorer                                                               \\\n",
       "bodyparts                           left_ear                          \n",
       "coords              y likelihood           x           y likelihood   \n",
       "0           -0.750403   0.000028  219.727676    1.191529   0.000015   \n",
       "1            0.000000   0.000027    0.000000    0.000000   0.000014   \n",
       "2            0.000000   0.000028    0.000000    0.000000   0.000015   \n",
       "3            0.000000   0.000029    0.000000    0.000000   0.000014   \n",
       "4            0.000000   0.000030    0.000000    0.000000   0.000014   \n",
       "...               ...        ...         ...         ...        ...   \n",
       "8189       182.910835   0.999972  152.567768  163.809196   0.998994   \n",
       "8190       182.062789   0.999999  150.562997  162.680115   0.999820   \n",
       "8191       182.105740   1.000000  151.768032  163.267427   0.999902   \n",
       "8192       182.544974   1.000000  153.683652  164.264264   0.999905   \n",
       "8193       182.811747   0.999999  154.669972  166.058067   0.999898   \n",
       "\n",
       "scorer                                                                \\\n",
       "bodyparts   right_ear                             b_tail               \n",
       "coords              x           y likelihood           x           y   \n",
       "0          219.348541    1.119414   0.000017  252.401291   -0.361831   \n",
       "1            0.000000    0.000000   0.000016    0.000000    0.000000   \n",
       "2            0.000000    0.000000   0.000017    0.000000    0.000000   \n",
       "3            0.000000    0.000000   0.000016    0.000000    0.000000   \n",
       "4            0.000000    0.000000   0.000017    0.000000    0.000000   \n",
       "...               ...         ...        ...         ...         ...   \n",
       "8189       139.296551  182.095250   0.999785  102.558834  154.858998   \n",
       "8190       143.782559  182.328111   0.999976  103.545874  154.675157   \n",
       "8191       145.785084  181.682995   0.999975  103.137080  154.631880   \n",
       "8192       145.691149  183.234128   0.999975  103.861073  154.428495   \n",
       "8193       146.863473  184.034491   0.999962  103.438428  154.603658   \n",
       "\n",
       "scorer                                                   \n",
       "bodyparts                 e_tail                         \n",
       "coords    likelihood           x           y likelihood  \n",
       "0           0.000019  275.802368   57.950970   0.000080  \n",
       "1           0.000020    0.000000    0.000000   0.000244  \n",
       "2           0.000023    0.000000    0.000000   0.000414  \n",
       "3           0.000026    0.000000    0.000000   0.000630  \n",
       "4           0.000027    0.000000    0.000000   0.000741  \n",
       "...              ...         ...         ...        ...  \n",
       "8189        1.000000   83.472966  209.739414   0.999999  \n",
       "8190        1.000000   83.167446  209.633745   0.999999  \n",
       "8191        0.999999   83.072926  209.526120   0.999998  \n",
       "8192        1.000000   82.835037  209.409723   0.999998  \n",
       "8193        0.999999   83.092504  209.437027   0.999998  \n",
       "\n",
       "[8194 rows x 15 columns]"
      ]
     },
     "execution_count": 81,
     "metadata": {},
     "output_type": "execute_result"
    }
   ],
   "source": [
    "pos"
   ]
  },
  {
   "cell_type": "code",
   "execution_count": 53,
   "metadata": {},
   "outputs": [],
   "source": [
    "v = 'Y://fear_conditionning_ptsd/Rat15/Rat15-20201130/Rat15_201130_164002/Basler_acA1300-200uc__23039139__20201130_164007396.mp4'"
   ]
  },
  {
   "cell_type": "code",
   "execution_count": 66,
   "metadata": {},
   "outputs": [],
   "source": [
    "t = np.diff(n_TTL)"
   ]
  },
  {
   "cell_type": "code",
   "execution_count": 61,
   "metadata": {},
   "outputs": [
    {
     "data": {
      "text/plain": [
       "0.03332500000000049"
      ]
     },
     "execution_count": 61,
     "metadata": {},
     "output_type": "execute_result"
    }
   ],
   "source": [
    "t[0]"
   ]
  },
  {
   "cell_type": "code",
   "execution_count": 74,
   "metadata": {},
   "outputs": [],
   "source": [
    "a = np.where(t.round(3) == 0.033,1,0)"
   ]
  },
  {
   "cell_type": "code",
   "execution_count": 76,
   "metadata": {},
   "outputs": [
    {
     "data": {
      "text/plain": [
       "1"
      ]
     },
     "execution_count": 76,
     "metadata": {},
     "output_type": "execute_result"
    }
   ],
   "source": [
    "np.sum(a == 0)"
   ]
  },
  {
   "cell_type": "code",
   "execution_count": 50,
   "metadata": {},
   "outputs": [
    {
     "data": {
      "text/plain": [
       "[\"'0.033325' n'est pas reconnu en tant que commande interne\",\n",
       " 'ou externe, un programme ex‚cutable ou un fichier de commandes.']"
      ]
     },
     "execution_count": 50,
     "metadata": {},
     "output_type": "execute_result"
    }
   ],
   "source": [
    "t"
   ]
  },
  {
   "cell_type": "code",
   "execution_count": 43,
   "metadata": {
    "collapsed": true,
    "jupyter": {
     "outputs_hidden": true
    }
   },
   "outputs": [
    {
     "data": {
      "text/plain": [
       "(array([1.000e+00, 0.000e+00, 0.000e+00, 0.000e+00, 0.000e+00, 0.000e+00,\n",
       "        0.000e+00, 0.000e+00, 0.000e+00, 0.000e+00, 0.000e+00, 0.000e+00,\n",
       "        0.000e+00, 0.000e+00, 0.000e+00, 0.000e+00, 0.000e+00, 0.000e+00,\n",
       "        0.000e+00, 0.000e+00, 0.000e+00, 0.000e+00, 0.000e+00, 0.000e+00,\n",
       "        0.000e+00, 0.000e+00, 0.000e+00, 0.000e+00, 0.000e+00, 0.000e+00,\n",
       "        0.000e+00, 0.000e+00, 0.000e+00, 0.000e+00, 0.000e+00, 0.000e+00,\n",
       "        0.000e+00, 0.000e+00, 0.000e+00, 0.000e+00, 0.000e+00, 0.000e+00,\n",
       "        0.000e+00, 0.000e+00, 0.000e+00, 0.000e+00, 0.000e+00, 0.000e+00,\n",
       "        0.000e+00, 0.000e+00, 0.000e+00, 0.000e+00, 0.000e+00, 0.000e+00,\n",
       "        0.000e+00, 0.000e+00, 0.000e+00, 0.000e+00, 0.000e+00, 0.000e+00,\n",
       "        0.000e+00, 0.000e+00, 0.000e+00, 0.000e+00, 0.000e+00, 0.000e+00,\n",
       "        0.000e+00, 0.000e+00, 0.000e+00, 0.000e+00, 0.000e+00, 0.000e+00,\n",
       "        0.000e+00, 0.000e+00, 0.000e+00, 0.000e+00, 0.000e+00, 0.000e+00,\n",
       "        0.000e+00, 0.000e+00, 0.000e+00, 0.000e+00, 0.000e+00, 0.000e+00,\n",
       "        0.000e+00, 0.000e+00, 0.000e+00, 0.000e+00, 0.000e+00, 0.000e+00,\n",
       "        0.000e+00, 0.000e+00, 0.000e+00, 0.000e+00, 0.000e+00, 0.000e+00,\n",
       "        0.000e+00, 0.000e+00, 0.000e+00, 0.000e+00, 0.000e+00, 0.000e+00,\n",
       "        0.000e+00, 0.000e+00, 0.000e+00, 0.000e+00, 0.000e+00, 0.000e+00,\n",
       "        0.000e+00, 0.000e+00, 0.000e+00, 0.000e+00, 0.000e+00, 0.000e+00,\n",
       "        0.000e+00, 0.000e+00, 0.000e+00, 0.000e+00, 0.000e+00, 0.000e+00,\n",
       "        0.000e+00, 0.000e+00, 0.000e+00, 0.000e+00, 0.000e+00, 0.000e+00,\n",
       "        0.000e+00, 0.000e+00, 0.000e+00, 0.000e+00, 0.000e+00, 0.000e+00,\n",
       "        0.000e+00, 0.000e+00, 0.000e+00, 0.000e+00, 0.000e+00, 0.000e+00,\n",
       "        0.000e+00, 0.000e+00, 0.000e+00, 0.000e+00, 0.000e+00, 0.000e+00,\n",
       "        0.000e+00, 0.000e+00, 0.000e+00, 0.000e+00, 0.000e+00, 0.000e+00,\n",
       "        0.000e+00, 0.000e+00, 0.000e+00, 0.000e+00, 0.000e+00, 0.000e+00,\n",
       "        0.000e+00, 0.000e+00, 0.000e+00, 0.000e+00, 0.000e+00, 0.000e+00,\n",
       "        0.000e+00, 0.000e+00, 0.000e+00, 0.000e+00, 0.000e+00, 0.000e+00,\n",
       "        0.000e+00, 0.000e+00, 0.000e+00, 0.000e+00, 0.000e+00, 0.000e+00,\n",
       "        0.000e+00, 0.000e+00, 0.000e+00, 0.000e+00, 0.000e+00, 0.000e+00,\n",
       "        0.000e+00, 0.000e+00, 0.000e+00, 0.000e+00, 0.000e+00, 0.000e+00,\n",
       "        0.000e+00, 0.000e+00, 0.000e+00, 0.000e+00, 0.000e+00, 0.000e+00,\n",
       "        0.000e+00, 0.000e+00, 0.000e+00, 0.000e+00, 0.000e+00, 0.000e+00,\n",
       "        0.000e+00, 0.000e+00, 0.000e+00, 0.000e+00, 0.000e+00, 0.000e+00,\n",
       "        0.000e+00, 0.000e+00, 0.000e+00, 0.000e+00, 0.000e+00, 0.000e+00,\n",
       "        0.000e+00, 0.000e+00, 0.000e+00, 0.000e+00, 0.000e+00, 0.000e+00,\n",
       "        0.000e+00, 0.000e+00, 0.000e+00, 0.000e+00, 0.000e+00, 0.000e+00,\n",
       "        0.000e+00, 0.000e+00, 0.000e+00, 0.000e+00, 0.000e+00, 0.000e+00,\n",
       "        0.000e+00, 0.000e+00, 0.000e+00, 0.000e+00, 0.000e+00, 0.000e+00,\n",
       "        0.000e+00, 0.000e+00, 0.000e+00, 0.000e+00, 0.000e+00, 0.000e+00,\n",
       "        0.000e+00, 0.000e+00, 0.000e+00, 0.000e+00, 0.000e+00, 0.000e+00,\n",
       "        0.000e+00, 0.000e+00, 0.000e+00, 8.194e+03]),\n",
       " array([0.0196  , 0.019655, 0.01971 , 0.019765, 0.01982 , 0.019875,\n",
       "        0.01993 , 0.019985, 0.02004 , 0.020095, 0.02015 , 0.020205,\n",
       "        0.02026 , 0.020315, 0.02037 , 0.020425, 0.02048 , 0.020535,\n",
       "        0.02059 , 0.020645, 0.0207  , 0.020755, 0.02081 , 0.020865,\n",
       "        0.02092 , 0.020975, 0.02103 , 0.021085, 0.02114 , 0.021195,\n",
       "        0.02125 , 0.021305, 0.02136 , 0.021415, 0.02147 , 0.021525,\n",
       "        0.02158 , 0.021635, 0.02169 , 0.021745, 0.0218  , 0.021855,\n",
       "        0.02191 , 0.021965, 0.02202 , 0.022075, 0.02213 , 0.022185,\n",
       "        0.02224 , 0.022295, 0.02235 , 0.022405, 0.02246 , 0.022515,\n",
       "        0.02257 , 0.022625, 0.02268 , 0.022735, 0.02279 , 0.022845,\n",
       "        0.0229  , 0.022955, 0.02301 , 0.023065, 0.02312 , 0.023175,\n",
       "        0.02323 , 0.023285, 0.02334 , 0.023395, 0.02345 , 0.023505,\n",
       "        0.02356 , 0.023615, 0.02367 , 0.023725, 0.02378 , 0.023835,\n",
       "        0.02389 , 0.023945, 0.024   , 0.024055, 0.02411 , 0.024165,\n",
       "        0.02422 , 0.024275, 0.02433 , 0.024385, 0.02444 , 0.024495,\n",
       "        0.02455 , 0.024605, 0.02466 , 0.024715, 0.02477 , 0.024825,\n",
       "        0.02488 , 0.024935, 0.02499 , 0.025045, 0.0251  , 0.025155,\n",
       "        0.02521 , 0.025265, 0.02532 , 0.025375, 0.02543 , 0.025485,\n",
       "        0.02554 , 0.025595, 0.02565 , 0.025705, 0.02576 , 0.025815,\n",
       "        0.02587 , 0.025925, 0.02598 , 0.026035, 0.02609 , 0.026145,\n",
       "        0.0262  , 0.026255, 0.02631 , 0.026365, 0.02642 , 0.026475,\n",
       "        0.02653 , 0.026585, 0.02664 , 0.026695, 0.02675 , 0.026805,\n",
       "        0.02686 , 0.026915, 0.02697 , 0.027025, 0.02708 , 0.027135,\n",
       "        0.02719 , 0.027245, 0.0273  , 0.027355, 0.02741 , 0.027465,\n",
       "        0.02752 , 0.027575, 0.02763 , 0.027685, 0.02774 , 0.027795,\n",
       "        0.02785 , 0.027905, 0.02796 , 0.028015, 0.02807 , 0.028125,\n",
       "        0.02818 , 0.028235, 0.02829 , 0.028345, 0.0284  , 0.028455,\n",
       "        0.02851 , 0.028565, 0.02862 , 0.028675, 0.02873 , 0.028785,\n",
       "        0.02884 , 0.028895, 0.02895 , 0.029005, 0.02906 , 0.029115,\n",
       "        0.02917 , 0.029225, 0.02928 , 0.029335, 0.02939 , 0.029445,\n",
       "        0.0295  , 0.029555, 0.02961 , 0.029665, 0.02972 , 0.029775,\n",
       "        0.02983 , 0.029885, 0.02994 , 0.029995, 0.03005 , 0.030105,\n",
       "        0.03016 , 0.030215, 0.03027 , 0.030325, 0.03038 , 0.030435,\n",
       "        0.03049 , 0.030545, 0.0306  , 0.030655, 0.03071 , 0.030765,\n",
       "        0.03082 , 0.030875, 0.03093 , 0.030985, 0.03104 , 0.031095,\n",
       "        0.03115 , 0.031205, 0.03126 , 0.031315, 0.03137 , 0.031425,\n",
       "        0.03148 , 0.031535, 0.03159 , 0.031645, 0.0317  , 0.031755,\n",
       "        0.03181 , 0.031865, 0.03192 , 0.031975, 0.03203 , 0.032085,\n",
       "        0.03214 , 0.032195, 0.03225 , 0.032305, 0.03236 , 0.032415,\n",
       "        0.03247 , 0.032525, 0.03258 , 0.032635, 0.03269 , 0.032745,\n",
       "        0.0328  , 0.032855, 0.03291 , 0.032965, 0.03302 , 0.033075,\n",
       "        0.03313 , 0.033185, 0.03324 , 0.033295, 0.03335 ]),\n",
       " <a list of 250 Patch objects>)"
      ]
     },
     "execution_count": 43,
     "metadata": {},
     "output_type": "execute_result"
    }
   ],
   "source": [
    "plt.hist(t,bins=250)"
   ]
  },
  {
   "cell_type": "code",
   "execution_count": 3,
   "metadata": {},
   "outputs": [
    {
     "ename": "UnboundLocalError",
     "evalue": "local variable 'filename' referenced before assignment",
     "output_type": "error",
     "traceback": [
      "\u001b[1;31m---------------------------------------------------------------------------\u001b[0m",
      "\u001b[1;31mUnboundLocalError\u001b[0m                         Traceback (most recent call last)",
      "\u001b[1;32m<ipython-input-3-b0bc90f7e246>\u001b[0m in \u001b[0;36m<module>\u001b[1;34m\u001b[0m\n\u001b[0;32m      1\u001b[0m \u001b[0mos\u001b[0m\u001b[1;33m.\u001b[0m\u001b[0mchdir\u001b[0m\u001b[1;33m(\u001b[0m\u001b[1;34m'Y://fear_conditionning_ptsd/Rat16/Rat16-20201202/Rat16_201202_171552'\u001b[0m\u001b[1;33m)\u001b[0m\u001b[1;33m\u001b[0m\u001b[1;33m\u001b[0m\u001b[0m\n\u001b[1;32m----> 2\u001b[1;33m \u001b[0mpos\u001b[0m \u001b[1;33m=\u001b[0m \u001b[0mbk\u001b[0m\u001b[1;33m.\u001b[0m\u001b[0mload\u001b[0m\u001b[1;33m.\u001b[0m\u001b[0mDLC_pos\u001b[0m\u001b[1;33m(\u001b[0m\u001b[1;33m)\u001b[0m\u001b[1;33m\u001b[0m\u001b[1;33m\u001b[0m\u001b[0m\n\u001b[0m\u001b[0;32m      3\u001b[0m \u001b[0mpos\u001b[0m\u001b[1;33m.\u001b[0m\u001b[0mindex\u001b[0m \u001b[1;33m=\u001b[0m \u001b[0mpos\u001b[0m\u001b[1;33m.\u001b[0m\u001b[0mindex\u001b[0m\u001b[1;33m\u001b[0m\u001b[1;33m\u001b[0m\u001b[0m\n\u001b[0;32m      4\u001b[0m \u001b[0mspeeds\u001b[0m \u001b[1;33m=\u001b[0m \u001b[0mbk\u001b[0m\u001b[1;33m.\u001b[0m\u001b[0mcompute\u001b[0m\u001b[1;33m.\u001b[0m\u001b[0mspeed\u001b[0m\u001b[1;33m(\u001b[0m\u001b[0mpos\u001b[0m\u001b[1;33m,\u001b[0m\u001b[1;36m2\u001b[0m\u001b[1;33m,\u001b[0m \u001b[0mcolumns_to_drop\u001b[0m\u001b[1;33m=\u001b[0m\u001b[1;33m[\u001b[0m\u001b[1;34m'b_tail'\u001b[0m\u001b[1;33m,\u001b[0m\u001b[1;34m'e_tail'\u001b[0m\u001b[1;33m]\u001b[0m\u001b[1;33m)\u001b[0m\u001b[1;33m\u001b[0m\u001b[1;33m\u001b[0m\u001b[0m\n\u001b[0;32m      5\u001b[0m \u001b[0mfreeze\u001b[0m \u001b[1;33m=\u001b[0m \u001b[0mbk\u001b[0m\u001b[1;33m.\u001b[0m\u001b[0mcompute\u001b[0m\u001b[1;33m.\u001b[0m\u001b[0mfreezing_intervals\u001b[0m\u001b[1;33m(\u001b[0m\u001b[0mspeeds\u001b[0m\u001b[1;33m,\u001b[0m \u001b[1;36m25\u001b[0m\u001b[1;33m,\u001b[0m \u001b[0mmode\u001b[0m\u001b[1;33m=\u001b[0m\u001b[1;34m'multiple_speed'\u001b[0m\u001b[1;33m,\u001b[0m \u001b[0mclean\u001b[0m\u001b[1;33m=\u001b[0m\u001b[1;32mTrue\u001b[0m\u001b[1;33m)\u001b[0m \u001b[1;33m-\u001b[0m \u001b[0mt_s\u001b[0m \u001b[1;33m*\u001b[0m\u001b[1;36m1_000_000\u001b[0m\u001b[1;33m\u001b[0m\u001b[1;33m\u001b[0m\u001b[0m\n",
      "\u001b[1;32mZ:\\Python\\Billel\\bk\\load.py\u001b[0m in \u001b[0;36mDLC_pos\u001b[1;34m(filtered)\u001b[0m\n\u001b[0;32m    316\u001b[0m             \u001b[1;32mbreak\u001b[0m\u001b[1;33m\u001b[0m\u001b[1;33m\u001b[0m\u001b[0m\n\u001b[0;32m    317\u001b[0m \u001b[1;33m\u001b[0m\u001b[0m\n\u001b[1;32m--> 318\u001b[1;33m     \u001b[0mdata\u001b[0m \u001b[1;33m=\u001b[0m \u001b[0mpd\u001b[0m\u001b[1;33m.\u001b[0m\u001b[0mread_hdf\u001b[0m\u001b[1;33m(\u001b[0m\u001b[0mfilename\u001b[0m\u001b[1;33m)\u001b[0m\u001b[1;33m\u001b[0m\u001b[1;33m\u001b[0m\u001b[0m\n\u001b[0m\u001b[0;32m    319\u001b[0m     \u001b[0mdata\u001b[0m \u001b[1;33m=\u001b[0m \u001b[0mdata\u001b[0m\u001b[1;33m[\u001b[0m\u001b[0mdata\u001b[0m\u001b[1;33m.\u001b[0m\u001b[0mkeys\u001b[0m\u001b[1;33m(\u001b[0m\u001b[1;33m)\u001b[0m\u001b[1;33m[\u001b[0m\u001b[1;36m0\u001b[0m\u001b[1;33m]\u001b[0m\u001b[1;33m[\u001b[0m\u001b[1;36m0\u001b[0m\u001b[1;33m]\u001b[0m\u001b[1;33m]\u001b[0m\u001b[1;33m\u001b[0m\u001b[1;33m\u001b[0m\u001b[0m\n\u001b[0;32m    320\u001b[0m \u001b[1;33m\u001b[0m\u001b[0m\n",
      "\u001b[1;31mUnboundLocalError\u001b[0m: local variable 'filename' referenced before assignment"
     ]
    }
   ],
   "source": [
    "os.chdir('Y://fear_conditionning_ptsd/Rat16/Rat16-20201202/Rat16_201202_171552')\n",
    "pos = bk.load.DLC_pos()\n",
    "pos.index = pos.index\n",
    "speeds = bk.compute.speed(pos,2, columns_to_drop=['b_tail','e_tail'])\n",
    "freeze = bk.compute.freezing_intervals(speeds, 25, mode='multiple_speed', clean=True) - t_s *1_000_000\n",
    "pourcents = all_pourcentages(intervals, freeze)\n",
    "ptotal.append(pourcents)\n",
    "bk.plot.intervals(freeze,col = 'b')\n",
    "plt.plot(np.mean([starts,ends],0), pourcents, '-o',alpha = 0.5)",
    "print(this is a unicorn branch)"
   ]
  },
  {
   "cell_type": "code",
   "execution_count": null,
   "metadata": {},
   "outputs": [],
   "source": []
  }
 ],
 "metadata": {
  "kernelspec": {
   "display_name": "Python [conda env:root]",
   "language": "python",
   "name": "conda-root-py"
  },
  "language_info": {
   "codemirror_mode": {
    "name": "ipython",
    "version": 3
   },
   "file_extension": ".py",
   "mimetype": "text/x-python",
   "name": "python",
   "nbconvert_exporter": "python",
   "pygments_lexer": "ipython3",
   "version": "3.7.6"
  }
 },
 "nbformat": 4,
 "nbformat_minor": 4
}
