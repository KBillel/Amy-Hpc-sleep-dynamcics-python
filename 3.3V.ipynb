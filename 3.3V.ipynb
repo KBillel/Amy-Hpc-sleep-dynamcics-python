{
 "cells": [
  {
   "cell_type": "code",
   "execution_count": 2,
   "metadata": {},
   "outputs": [],
   "source": [
    "import numpy as np\n",
    "import matplotlib.pyplot as plt\n",
    "\n",
    "def RMS(s):\n",
    "    return np.sqrt(np.sum(s**2)/len(s))\n",
    "\n",
    "def analogin_volt(analogin,analogin_step = 0.000050354*2):\n",
    "    analogin = np.int32(analogin)\n",
    "    analogin = np.int16(analogin-32768) * analogin_step\n",
    "    \n",
    "    return analogin\n",
    "\n",
    "def analogin_gain(analogin,gain = 8.24e-3):\n",
    "    return analogin/gain\n",
    "\n",
    "def analogin_electrode(analogin):\n",
    "    return(analogin_gain(analogin_volt(analogin)))\n",
    "\n",
    "def amplifier_microvolt(amplifier,amplifier_step = 0.195):\n",
    "    return amplifier*amplifier_step"
   ]
  },
  {
   "cell_type": "code",
   "execution_count": 4,
   "metadata": {},
   "outputs": [
    {
     "name": "stdout",
     "output_type": "stream",
     "text": [
      "Rat : 50 on day : 2\n",
      "Working with session Rat50-20211005 @ /mnt/electrophy/Billel/BK-Dataset/Rat50/Rat50-20211005\n",
      "Load data from Rat50_211005_143047/amplifier.dat\n",
      "File contains 35 channels\n",
      "/!\\ memmap is not compatible with volt_step /!\\ \n",
      "Rat50-20211005-analogin.dat\n",
      "Load data from Rat50-20211005-analogin.dat\n",
      "File contains 1 channels\n",
      "/!\\ memmap is not compatible with volt_step /!\\ \n"
     ]
    }
   ],
   "source": [
    "# bk.load.current_session_linux(base_folder= '/mnt/electrophy/Billel/BK-Dataset/',\n",
    "#                               local_path = 'Rat50/Rat50-20211005')\n",
    "\n",
    "# lfp = bk.load.lfp(0,100,500,verbose = True,fs = 20000,p = 'Rat50_211005_143047/amplifier.dat',memmap = True)\n",
    "# analogin = bk.load.analogin(0,100,500,verbose= True,dat = True,memmap = True)\n",
    "# plt.plot(amplifier_microvolt(lfp),'grey') #microvolt\n",
    "# plt.plot(analogin_electrode(analogin),'red',alpha = 0.5)"
   ]
  },
  {
   "cell_type": "markdown",
   "metadata": {},
   "source": [
    "# Load DATA"
   ]
  },
  {
   "cell_type": "code",
   "execution_count": 29,
   "metadata": {},
   "outputs": [],
   "source": [
    "data = np.load('3.3V/data.npz')\n",
    "\n",
    "lfp = data['lfp']\n",
    "analogin = data['analogin']"
   ]
  },
  {
   "cell_type": "markdown",
   "metadata": {},
   "source": [
    "# Plot Amplifier data and analogin data : "
   ]
  },
  {
   "cell_type": "code",
   "execution_count": 30,
   "metadata": {},
   "outputs": [
    {
     "name": "stdout",
     "output_type": "stream",
     "text": [
      "Using matplotlib backend: Qt5Agg\n"
     ]
    },
    {
     "data": {
      "text/plain": [
       "[<matplotlib.lines.Line2D at 0x7fac8010a430>]"
      ]
     },
     "execution_count": 30,
     "metadata": {},
     "output_type": "execute_result"
    }
   ],
   "source": [
    "%matplotlib\n",
    "fig,ax = plt.subplots(1,2)\n",
    "ax[0].plot(amplifier_microvolt(lfp)[:20000],'grey')\n",
    "ax[0].plot(analogin_electrode(analogin)[:20000],'r',alpha = 0.7)\n",
    "ax[1].plot(amplifier_microvolt(lfp)[1000:1500],'grey')\n",
    "ax[1].plot(analogin_electrode(analogin)[1000:1500],'r',alpha = 0.7)\n"
   ]
  },
  {
   "cell_type": "code",
   "execution_count": 31,
   "metadata": {},
   "outputs": [],
   "source": [
    "lfp_micro = amplifier_microvolt(lfp)\n",
    "analogin_micro = analogin_electrode(analogin)\n",
    "\n",
    "N = lfp_micro - analogin_micro\n",
    "S = analogin_micro-N\n",
    "\n",
    "\n",
    "SNR = []\n",
    "for i in range(0,100):\n",
    "    analog_shift = np.roll(analogin_micro,-i)\n",
    "    N = lfp_micro - analog_shift\n",
    "    S = analog_shift - N\n",
    "    SNR.append(20 * np.log10(RMS(S)/RMS(N)))"
   ]
  },
  {
   "cell_type": "code",
   "execution_count": 57,
   "metadata": {},
   "outputs": [
    {
     "name": "stdout",
     "output_type": "stream",
     "text": [
      "Using matplotlib backend: Qt5Agg\n"
     ]
    },
    {
     "data": {
      "text/plain": [
       "[<matplotlib.lines.Line2D at 0x7f6474d03490>]"
      ]
     },
     "execution_count": 57,
     "metadata": {},
     "output_type": "execute_result"
    }
   ],
   "source": [
    "%matplotlib\n",
    "plt.plot(SNR)"
   ]
  },
  {
   "cell_type": "code",
   "execution_count": 58,
   "metadata": {},
   "outputs": [
    {
     "data": {
      "text/plain": [
       "21.272081145388633"
      ]
     },
     "execution_count": 58,
     "metadata": {},
     "output_type": "execute_result"
    }
   ],
   "source": [
    "np.max(SNR)"
   ]
  },
  {
   "cell_type": "code",
   "execution_count": null,
   "metadata": {},
   "outputs": [],
   "source": []
  }
 ],
 "metadata": {
  "interpreter": {
   "hash": "dc93b3fb48dfd2593d4a40b397dc62a97606514bfa701f6565ff70ef36514844"
  },
  "kernelspec": {
   "display_name": "Python 3.8.5 64-bit ('base': conda)",
   "name": "python3"
  },
  "language_info": {
   "codemirror_mode": {
    "name": "ipython",
    "version": 3
   },
   "file_extension": ".py",
   "mimetype": "text/x-python",
   "name": "python",
   "nbconvert_exporter": "python",
   "pygments_lexer": "ipython3",
   "version": "3.8.5"
  },
  "orig_nbformat": 4
 },
 "nbformat": 4,
 "nbformat_minor": 2
}
