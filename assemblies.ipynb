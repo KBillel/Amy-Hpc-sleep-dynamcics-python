{
 "cells": [
  {
   "cell_type": "code",
   "execution_count": 1,
   "metadata": {},
   "outputs": [],
   "source": [
    "import numpy as np\n",
    "import pandas as pd\n",
    "import neuroseries as nts\n",
    "\n",
    "\n",
    "import time\n",
    "import matplotlib.pyplot as plt\n",
    "%matplotlib qt\n",
    "\n",
    "import seaborn as sns \n",
    "\n",
    "import basefunction.assembly as assembly\n",
    "\n",
    "import basefunction.bk_load as bk\n",
    "import basefunction.anass_load as at"
   ]
  },
  {
   "cell_type": "code",
   "execution_count": 2,
   "metadata": {},
   "outputs": [],
   "source": [
    "def binSpikes(neurons,binSize = 0.025,start = 0,stop = 0):\n",
    "    if stop == 0:\n",
    "        stop = np.max([neuron.as_units('s').index[-1] for neuron in neurons])\n",
    "    bins = np.arange(start,stop,binSize)\n",
    "    binned = []\n",
    "    for neuron in neurons:\n",
    "        hist,b = np.histogram(neuron.as_units('s').index,bins = bins)\n",
    "        binned.append(hist)\n",
    "    return np.array(binned),b"
   ]
  },
  {
   "cell_type": "code",
   "execution_count": null,
   "metadata": {},
   "outputs": [],
   "source": []
  },
  {
   "cell_type": "code",
   "execution_count": 3,
   "metadata": {},
   "outputs": [
    {
     "name": "stdout",
     "output_type": "stream",
     "text": [
      "Rat : 8 on day : 6\n",
      "Working with session Rat08-20130713 @ Z:\\Rat08\\Rat08-20130713\n",
      "Loading Rat08-20130713.clu.1\n",
      "Loading Rat08-20130713.clu.2\n",
      "Loading Rat08-20130713.clu.3\n",
      "Loading Rat08-20130713.clu.4\n",
      "Loading Rat08-20130713.clu.5\n",
      "Loading Rat08-20130713.clu.6\n",
      "Loading Rat08-20130713.clu.7\n",
      "Loading Rat08-20130713.clu.8\n",
      "Loading Rat08-20130713.clu.9\n",
      "Loading Rat08-20130713.clu.10\n",
      "Loading Rat08-20130713.clu.11\n",
      "Loading Rat08-20130713.clu.12\n",
      "Loading Rat08-20130713.clu.13\n",
      "Loading Rat08-20130713.clu.14\n",
      "Loading Rat08-20130713.clu.15\n",
      "Loading Rat08-20130713.clu.16\n",
      "Loading Rat08-20130713.clu.17\n",
      "Loading Rat08-20130713.clu.18\n",
      "Loading Rat08-20130713.clu.19\n",
      "Loading Rat08-20130713.clu.20\n"
     ]
    }
   ],
   "source": [
    "path = bk.get_session()['Path'][5]\n",
    "bk.set_current_session(path)\n",
    "\n",
    "neurons, metadata = bk.loadSpikeData(path)\n",
    "neurons = {'all':neurons}\n",
    "metadata = {'all':metadata}\n",
    "\n",
    "structures = ['BLA','Hpc','CeCM']\n",
    "shanks = {}\n",
    "masks = {}\n",
    "for stru in structures:\n",
    "    shanks.update({stru:at.get_structure_shanks(bk.session,stru)})\n",
    "    masks.update({stru:[i in shanks[stru] for i in metadata['all'][:,0]]})\n",
    "    neurons.update({stru:neurons['all'][masks[stru]]})\n",
    "    metadata.update({stru:metadata['all'][masks[stru]]})"
   ]
  },
  {
   "cell_type": "code",
   "execution_count": 32,
   "metadata": {},
   "outputs": [],
   "source": [
    "act_bla,b = binSpikes(neurons['BLA'],binSize=0.025)\n",
    "plt.figure()\n",
    "sns.heatmap(act_bla[:,0:500],cmap='Reds') # shows first 50 time bins of simulation\n",
    "plt.show()"
   ]
  },
  {
   "cell_type": "code",
   "execution_count": 33,
   "metadata": {},
   "outputs": [
    {
     "data": {
      "text/plain": [
       "Text(0.5, 0.98, 'Using circular shuffling, elapsed time: 31.543 seconds')"
      ]
     },
     "execution_count": 33,
     "metadata": {},
     "output_type": "execute_result"
    }
   ],
   "source": [
    "# using circular shuffling for computing null distribution \n",
    "                    # (MUST USE IT IF YOU HAVE STRONG AUTOCORRELATIONS)\n",
    "\n",
    "nshu = 1000 # defines number of controls to run \n",
    "#                     (i.e., number of elements in null hypothesis distribution)\n",
    "\n",
    "percentile = 99.5 # defines which percentile of control distribution\n",
    "#                                        will be used as significance threshold\n",
    "\n",
    "\n",
    "t0 = time.time()\n",
    "patterns, significance, zactmat = assembly.runPatterns(act_bla,\n",
    "                                                       nullhyp='mp',\n",
    "                                                       nshu = nshu,\n",
    "                                                       percentile = percentile)\n",
    "\n",
    "tf = np.round(1000*(time.time()-t0))/1000\n",
    "\n"
   ]
  },
  {
   "cell_type": "code",
   "execution_count": 41,
   "metadata": {},
   "outputs": [
    {
     "data": {
      "text/plain": [
       "Text(0.5, 0.98, 'Using circular shuffling, elapsed time: 31.543 seconds')"
      ]
     },
     "execution_count": 41,
     "metadata": {},
     "output_type": "execute_result"
    }
   ],
   "source": [
    "plt.figure(figsize=(15,5))\n",
    "for (pi,pattern) in enumerate(patterns[0:7]):\n",
    "        plt.subplot(1,len(patterns[0:7]),1+pi)\n",
    "        plt.stem(pattern,use_line_collection = True)\n",
    "        plt.xlabel('neuron #')\n",
    "        plt.ylabel('weight')\n",
    "plt.suptitle('Using circular shuffling, elapsed time: '+str(tf)+' seconds')"
   ]
  },
  {
   "cell_type": "code",
   "execution_count": 59,
   "metadata": {},
   "outputs": [],
   "source": [
    "plt.figure(figsize=(15,6))\n",
    "s1 = plt.subplot(211)\n",
    "plt.imshow(act_bla[:,0:150000],cmap='Reds',interpolation='nearest',aspect='auto')\n",
    "plt.title('z-scored activity matrix')\n",
    "plt.ylabel('neuron #')\n",
    "\n",
    "plt.subplot(212,sharex=s1)\n",
    "plt.plot(assemblyAct[:,0:150000].T,linewidth=1)\n",
    "plt.title('assembly activities')\n",
    "plt.xlim(0,14999)\n",
    "plt.xlabel('time bin')\n",
    "plt.ylabel('strength')\n",
    "plt.tight_layout()\n",
    "plt.show()"
   ]
  },
  {
   "cell_type": "code",
   "execution_count": 62,
   "metadata": {},
   "outputs": [],
   "source": [
    "import scipy\n",
    "actmat,b = binSpikes(neurons['BLA'],binSize=0.01)\n",
    "zactmat = scipy.stats.zscore(actmat,1)\n",
    "assemblyAct = assembly.computeAssemblyActivity(patterns,zactmat)\n",
    "\n",
    "for i,pattern in enumerate(patterns):\n",
    "    members = np.where(np.abs(pattern)>0.15)\n",
    "    print(members)\n",
    "    peak_ = np.argmax(assemblyAct[i])\n",
    "    prange = peak_ + np.array([-1000,1000])\n",
    "    smps2plot = np.arange(prange[0],prange[1])\n",
    "    plt.figure()\n",
    "    bk.rasterPlot(neurons['BLA'],np.array([prange*0.01]),col = 'black')\n",
    "    bk.rasterPlot(neurons['BLA'][members],np.array([prange*0.01]),col = 'red')\n",
    "    plt.plot(smps2plot*0.01,assemblyAct[i][smps2plot]/20)\n",
    "    plt.grid()\n",
    "    plt.show()"
   ]
  },
  {
   "cell_type": "code",
   "execution_count": 63,
   "metadata": {},
   "outputs": [
    {
     "name": "stdout",
     "output_type": "stream",
     "text": [
      "(array([69, 84, 86, 93], dtype=int64),)\n",
      "<class 'numpy.ndarray'>\n",
      "<class 'numpy.ndarray'>\n",
      "(array([23, 62, 70, 71, 78, 80], dtype=int64),)\n",
      "<class 'numpy.ndarray'>\n",
      "<class 'numpy.ndarray'>\n",
      "(array([ 9, 13, 15, 17, 20], dtype=int64),)\n",
      "<class 'numpy.ndarray'>\n",
      "<class 'numpy.ndarray'>\n",
      "(array([ 4, 35, 39, 45, 52, 54, 58], dtype=int64),)\n",
      "<class 'numpy.ndarray'>\n",
      "<class 'numpy.ndarray'>\n",
      "(array([ 6, 31, 48, 53, 63, 73, 78, 82, 86, 89], dtype=int64),)\n",
      "<class 'numpy.ndarray'>\n",
      "<class 'numpy.ndarray'>\n",
      "(array([40, 45, 46, 50, 53, 62, 68], dtype=int64),)\n",
      "<class 'numpy.ndarray'>\n",
      "<class 'numpy.ndarray'>\n",
      "(array([ 3, 10, 11, 12, 24, 25, 50, 58, 63, 78], dtype=int64),)\n",
      "<class 'numpy.ndarray'>\n",
      "<class 'numpy.ndarray'>\n",
      "(array([16, 19, 23, 59, 60, 61, 73, 83, 90], dtype=int64),)\n",
      "<class 'numpy.ndarray'>\n",
      "<class 'numpy.ndarray'>\n",
      "(array([ 8, 22, 50, 60, 66, 67, 76], dtype=int64),)\n",
      "<class 'numpy.ndarray'>\n",
      "<class 'numpy.ndarray'>\n",
      "(array([68, 82, 86, 87, 90], dtype=int64),)\n",
      "<class 'numpy.ndarray'>\n",
      "<class 'numpy.ndarray'>\n",
      "(array([11, 21, 29, 32, 38, 67, 70, 86], dtype=int64),)\n",
      "<class 'numpy.ndarray'>\n",
      "<class 'numpy.ndarray'>\n",
      "(array([42, 47, 49], dtype=int64),)\n",
      "<class 'numpy.ndarray'>\n",
      "<class 'numpy.ndarray'>\n",
      "(array([22, 72, 75, 81, 85, 91], dtype=int64),)\n",
      "<class 'numpy.ndarray'>\n",
      "<class 'numpy.ndarray'>\n",
      "(array([26, 27, 30], dtype=int64),)\n",
      "<class 'numpy.ndarray'>\n",
      "<class 'numpy.ndarray'>\n",
      "(array([ 4, 14, 44, 65, 68, 79], dtype=int64),)\n",
      "<class 'numpy.ndarray'>\n",
      "<class 'numpy.ndarray'>\n",
      "(array([ 0,  1, 21, 24, 26, 35, 37, 43, 49, 53, 83], dtype=int64),)\n",
      "<class 'numpy.ndarray'>\n",
      "<class 'numpy.ndarray'>\n",
      "(array([ 5,  6,  9, 13, 15, 17, 18, 21, 71, 72, 88, 92], dtype=int64),)\n",
      "<class 'numpy.ndarray'>\n",
      "<class 'numpy.ndarray'>\n",
      "(array([51, 57, 64, 74, 86], dtype=int64),)\n",
      "<class 'numpy.ndarray'>\n",
      "<class 'numpy.ndarray'>\n",
      "(array([12, 29, 33, 34, 36, 48, 52, 65], dtype=int64),)\n",
      "<class 'numpy.ndarray'>\n",
      "<class 'numpy.ndarray'>\n",
      "(array([ 2,  4,  8,  9, 73, 88], dtype=int64),)\n",
      "<class 'numpy.ndarray'>\n"
     ]
    },
    {
     "name": "stderr",
     "output_type": "stream",
     "text": [
      "C:\\ProgramData\\Anaconda3\\lib\\site-packages\\ipykernel_launcher.py:7: RuntimeWarning: More than 20 figures have been opened. Figures created through the pyplot interface (`matplotlib.pyplot.figure`) are retained until explicitly closed and may consume too much memory. (To control this warning, see the rcParam `figure.max_open_warning`).\n",
      "  import sys\n"
     ]
    },
    {
     "name": "stdout",
     "output_type": "stream",
     "text": [
      "<class 'numpy.ndarray'>\n",
      "(array([13, 22, 45, 55, 59, 64, 83, 86], dtype=int64),)\n",
      "<class 'numpy.ndarray'>\n"
     ]
    },
    {
     "name": "stderr",
     "output_type": "stream",
     "text": [
      "C:\\ProgramData\\Anaconda3\\lib\\site-packages\\ipykernel_launcher.py:7: RuntimeWarning: More than 20 figures have been opened. Figures created through the pyplot interface (`matplotlib.pyplot.figure`) are retained until explicitly closed and may consume too much memory. (To control this warning, see the rcParam `figure.max_open_warning`).\n",
      "  import sys\n"
     ]
    },
    {
     "name": "stdout",
     "output_type": "stream",
     "text": [
      "<class 'numpy.ndarray'>\n",
      "(array([ 2,  7, 11, 19, 41, 44], dtype=int64),)\n",
      "<class 'numpy.ndarray'>\n"
     ]
    },
    {
     "name": "stderr",
     "output_type": "stream",
     "text": [
      "C:\\ProgramData\\Anaconda3\\lib\\site-packages\\ipykernel_launcher.py:7: RuntimeWarning: More than 20 figures have been opened. Figures created through the pyplot interface (`matplotlib.pyplot.figure`) are retained until explicitly closed and may consume too much memory. (To control this warning, see the rcParam `figure.max_open_warning`).\n",
      "  import sys\n"
     ]
    },
    {
     "name": "stdout",
     "output_type": "stream",
     "text": [
      "<class 'numpy.ndarray'>\n",
      "(array([ 6, 22, 37, 56, 59, 62, 66, 67, 73], dtype=int64),)\n",
      "<class 'numpy.ndarray'>\n"
     ]
    },
    {
     "name": "stderr",
     "output_type": "stream",
     "text": [
      "C:\\ProgramData\\Anaconda3\\lib\\site-packages\\ipykernel_launcher.py:7: RuntimeWarning: More than 20 figures have been opened. Figures created through the pyplot interface (`matplotlib.pyplot.figure`) are retained until explicitly closed and may consume too much memory. (To control this warning, see the rcParam `figure.max_open_warning`).\n",
      "  import sys\n"
     ]
    },
    {
     "name": "stdout",
     "output_type": "stream",
     "text": [
      "<class 'numpy.ndarray'>\n"
     ]
    }
   ],
   "source": []
  },
  {
   "cell_type": "code",
   "execution_count": 53,
   "metadata": {},
   "outputs": [],
   "source": [
    "a = np.in1d([1,2,11,3],[0,1,2,3,4,5,6,7])"
   ]
  },
  {
   "cell_type": "code",
   "execution_count": 54,
   "metadata": {},
   "outputs": [
    {
     "data": {
      "text/plain": [
       "array([ True,  True, False,  True])"
      ]
     },
     "execution_count": 54,
     "metadata": {},
     "output_type": "execute_result"
    }
   ],
   "source": [
    "a"
   ]
  },
  {
   "cell_type": "code",
   "execution_count": null,
   "metadata": {},
   "outputs": [],
   "source": []
  }
 ],
 "metadata": {
  "kernelspec": {
   "display_name": "Python 3",
   "language": "python",
   "name": "python3"
  },
  "language_info": {
   "codemirror_mode": {
    "name": "ipython",
    "version": 3
   },
   "file_extension": ".py",
   "mimetype": "text/x-python",
   "name": "python",
   "nbconvert_exporter": "python",
   "pygments_lexer": "ipython3",
   "version": "3.7.6"
  }
 },
 "nbformat": 4,
 "nbformat_minor": 4
}
