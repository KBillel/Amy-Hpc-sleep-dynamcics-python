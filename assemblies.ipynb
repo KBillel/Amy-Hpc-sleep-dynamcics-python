{
 "cells": [
  {
   "cell_type": "code",
   "execution_count": 1,
   "source": [
    "import numpy as np\n",
    "import pandas as pd\n",
    "import neuroseries as nts\n",
    "\n",
    "\n",
    "import time\n",
    "import matplotlib.pyplot as plt\n",
    "%matplotlib qt\n",
    "\n",
    "import seaborn as sns \n",
    "\n",
    "import basefunction.assembly as assembly\n",
    "\n",
    "import bk.load\n",
    "import bk.plot\n",
    "import basefunction.anass_load as at"
   ],
   "outputs": [],
   "metadata": {}
  },
  {
   "cell_type": "code",
   "execution_count": 10,
   "source": [
    "%matplotlib inline"
   ],
   "outputs": [],
   "metadata": {}
  },
  {
   "cell_type": "code",
   "execution_count": 49,
   "source": [
    "def binSpikes(neurons,binSize = 0.025,start = 0,stop = 0):\n",
    "    if stop == 0:\n",
    "        stop = np.max([neuron.as_units('s').index[-1] for neuron in neurons])\n",
    "    bins = np.arange(start,stop,binSize)\n",
    "    binned = []\n",
    "    for neuron in neurons:\n",
    "        hist,b = np.histogram(neuron.as_units('s').index,bins = bins)\n",
    "        binned.append(hist)\n",
    "    return np.array(binned),b"
   ],
   "outputs": [],
   "metadata": {}
  },
  {
   "cell_type": "code",
   "execution_count": 12,
   "source": [
    "bk.load.current_session_linux()\n",
    "neurons,metadata = bk.load.spikes()\n",
    "structures = ['BLA','Hpc','CeCM']\n",
    "neurons = {'all':neurons}\n",
    "metadata = {'all':metadata}\n",
    "\n",
    "for s in structures:\n",
    "    neurons.update({s:neurons['all'][metadata['all']['Region'] == s]})\n",
    "    metadata.update({s:metadata['all'][metadata['all']['Region'] == s]})"
   ],
   "outputs": [
    {
     "output_type": "stream",
     "name": "stdout",
     "text": [
      "Rat : 8 on day : 6\n",
      "Working with session Rat08-20130713 @ /home/billel/Data/GG-Dataset/Rat08/Rat08-20130713\n",
      "Data already saved in Numpy format, loading them from here:\n",
      "Rat08-20130713-neurons.npy\n",
      "Rat08-20130713-metadata.npy\n"
     ]
    }
   ],
   "metadata": {}
  },
  {
   "cell_type": "code",
   "execution_count": 11,
   "source": [
    "t,act_bla = bk.compute.binSpikes(neurons['BLA'],binSize=0.025)\n",
    "plt.figure()\n",
    "plt.imshow(act_bla[:,0:1000])"
   ],
   "outputs": [
    {
     "output_type": "execute_result",
     "data": {
      "text/plain": [
       "<matplotlib.image.AxesImage at 0x7ff3b2fe7850>"
      ]
     },
     "metadata": {},
     "execution_count": 11
    },
    {
     "output_type": "display_data",
     "data": {
      "image/png": "[encoded data removed]",
      "text/plain": [
       "<Figure size 432x288 with 1 Axes>"
      ]
     },
     "metadata": {
      "needs_background": "light"
     }
    }
   ],
   "metadata": {}
  },
  {
   "cell_type": "code",
   "execution_count": 44,
   "source": [
    "# using circular shuffling for computing null distribution \n",
    "                    # (MUST USE IT IF YOU HAVE STRONG AUTOCORRELATIONS)\n",
    "\n",
    "nshu = 1000 # defines number of controls to run \n",
    "#                     (i.e., number of elements in null hypothesis distribution)\n",
    "\n",
    "percentile = 99.5 # defines which percentile of control distribution\n",
    "#                                        will be used as significance threshold\n",
    "\n",
    "\n",
    "t0 = time.time()\n",
    "patterns, significance, zactmat = assembly.runPatterns(act_bla,\n",
    "                                                       nullhyp='mp',\n",
    "                                                       nshu = nshu,\n",
    "                                                       percentile = percentile)\n",
    "\n",
    "tf = np.round(1000*(time.time()-t0))/1000\n",
    "\n"
   ],
   "outputs": [],
   "metadata": {}
  },
  {
   "cell_type": "code",
   "execution_count": 45,
   "source": [
    "plt.figure(figsize=(15,5))\n",
    "for (pi,pattern) in enumerate(patterns[0:7]):\n",
    "        plt.subplot(1,len(patterns[0:7]),1+pi)\n",
    "        plt.stem(pattern,use_line_collection = True)\n",
    "        plt.xlabel('neuron #')\n",
    "        plt.ylabel('weight')\n",
    "plt.suptitle('Using circular shuffling, elapsed time: '+str(tf)+' seconds')"
   ],
   "outputs": [
    {
     "output_type": "execute_result",
     "data": {
      "text/plain": [
       "Text(0.5, 0.98, 'Using circular shuffling, elapsed time: 25.906 seconds')"
      ]
     },
     "metadata": {},
     "execution_count": 45
    }
   ],
   "metadata": {}
  },
  {
   "cell_type": "code",
   "execution_count": 51,
   "source": [
    "import scipy\n",
    "actmat,b = binSpikes(neurons['BLA'],binSize=0.01)\n",
    "zactmat = scipy.stats.zscore(actmat,1)\n",
    "assemblyAct = assembly.computeAssemblyActivity(patterns,zactmat)\n",
    "\n",
    "for i,pattern in enumerate(patterns):\n",
    "    members = np.where(np.abs(pattern)>0.15)\n",
    "    print(members)\n",
    "    peak_ = np.argmax(assemblyAct[i])\n",
    "    prange = peak_ + np.array([-1000,1000])\n",
    "    smps2plot = np.arange(prange[0],prange[1])\n",
    "    plt.figure()\n",
    "    bk.plot.rasterPlot(neurons['BLA'],np.array([prange*0.01]),col = 'black')\n",
    "    bk.plot.rasterPlot(neurons['BLA'][members],np.array([prange*0.01]),col = 'red')\n",
    "    plt.plot(smps2plot*0.01,assemblyAct[i][smps2plot]/20)\n",
    "    plt.grid()\n",
    "    plt.show()"
   ],
   "outputs": [
    {
     "output_type": "stream",
     "name": "stdout",
     "text": [
      "(array([68, 82, 86, 87, 90]),)\n",
      "(array([ 0,  1, 21, 24, 26, 35, 37, 43, 49, 53, 83]),)\n",
      "(array([22, 72, 75, 81, 85, 91]),)\n",
      "(array([13, 22, 45, 55, 59, 64, 83, 86]),)\n",
      "(array([ 5,  6,  9, 15, 18, 20, 21, 72, 92]),)\n",
      "(array([16, 19, 23, 59, 60, 61, 73, 83, 90]),)\n",
      "(array([ 6, 22, 37, 56, 59, 62, 66, 67, 73]),)\n",
      "(array([69, 84, 86, 93]),)\n",
      "(array([ 2,  8, 13, 17, 20]),)\n",
      "(array([10, 11, 21, 29, 32, 38, 67, 70, 86]),)\n",
      "(array([ 4, 14, 44, 65, 68, 79]),)\n",
      "(array([51, 57, 64, 74, 86]),)\n",
      "(array([ 4,  9, 35, 39, 45, 52, 54, 58]),)\n",
      "(array([ 2,  4,  8,  9, 13, 21, 80, 88]),)\n",
      "(array([42, 47, 49]),)\n",
      "(array([ 8, 22, 50, 60, 66, 67, 76]),)\n",
      "(array([ 6, 31, 48, 53, 63, 73, 78, 86, 89]),)\n",
      "(array([26, 27, 30]),)\n",
      "(array([12, 29, 33, 34, 36, 48, 52, 65]),)\n",
      "(array([ 2,  7, 11, 19, 41, 44]),)\n",
      "(array([23, 62, 70, 71, 78, 80]),)\n"
     ]
    },
    {
     "output_type": "stream",
     "name": "stderr",
     "text": [
      "<ipython-input-51-9d67d18dc665>:12: RuntimeWarning: More than 20 figures have been opened. Figures created through the pyplot interface (`matplotlib.pyplot.figure`) are retained until explicitly closed and may consume too much memory. (To control this warning, see the rcParam `figure.max_open_warning`).\n",
      "  plt.figure()\n"
     ]
    },
    {
     "output_type": "stream",
     "name": "stdout",
     "text": [
      "(array([40, 45, 46, 50, 53, 62, 68]),)\n",
      "(array([ 3, 10, 11, 12, 24, 25, 30, 50, 58, 63, 78]),)\n"
     ]
    }
   ],
   "metadata": {}
  },
  {
   "cell_type": "code",
   "execution_count": 46,
   "source": [
    "plt.figure(figsize=(15,6))\n",
    "s1 = plt.subplot(211)\n",
    "plt.imshow(act_bla[:,0:150000],cmap='Reds',interpolation='nearest',aspect='auto')\n",
    "plt.title('z-scored activity matrix')\n",
    "plt.ylabel('neuron #')\n",
    "\n",
    "plt.subplot(212,sharex=s1)\n",
    "plt.plot(assemblyAct[:,0:150000].T,linewidth=1)\n",
    "plt.title('assembly activities')\n",
    "plt.xlim(0,14999)\n",
    "plt.xlabel('time bin')\n",
    "plt.ylabel('strength')\n",
    "plt.tight_layout()\n",
    "plt.show()"
   ],
   "outputs": [
    {
     "output_type": "error",
     "ename": "NameError",
     "evalue": "name 'assemblyAct' is not defined",
     "traceback": [
      "\u001b[0;31m---------------------------------------------------------------------------\u001b[0m",
      "\u001b[0;31mNameError\u001b[0m                                 Traceback (most recent call last)",
      "\u001b[0;32m<ipython-input-46-6112eb664214>\u001b[0m in \u001b[0;36m<module>\u001b[0;34m\u001b[0m\n\u001b[1;32m      6\u001b[0m \u001b[0;34m\u001b[0m\u001b[0m\n\u001b[1;32m      7\u001b[0m \u001b[0mplt\u001b[0m\u001b[0;34m.\u001b[0m\u001b[0msubplot\u001b[0m\u001b[0;34m(\u001b[0m\u001b[0;36m212\u001b[0m\u001b[0;34m,\u001b[0m\u001b[0msharex\u001b[0m\u001b[0;34m=\u001b[0m\u001b[0ms1\u001b[0m\u001b[0;34m)\u001b[0m\u001b[0;34m\u001b[0m\u001b[0;34m\u001b[0m\u001b[0m\n\u001b[0;32m----> 8\u001b[0;31m \u001b[0mplt\u001b[0m\u001b[0;34m.\u001b[0m\u001b[0mplot\u001b[0m\u001b[0;34m(\u001b[0m\u001b[0massemblyAct\u001b[0m\u001b[0;34m[\u001b[0m\u001b[0;34m:\u001b[0m\u001b[0;34m,\u001b[0m\u001b[0;36m0\u001b[0m\u001b[0;34m:\u001b[0m\u001b[0;36m150000\u001b[0m\u001b[0;34m]\u001b[0m\u001b[0;34m.\u001b[0m\u001b[0mT\u001b[0m\u001b[0;34m,\u001b[0m\u001b[0mlinewidth\u001b[0m\u001b[0;34m=\u001b[0m\u001b[0;36m1\u001b[0m\u001b[0;34m)\u001b[0m\u001b[0;34m\u001b[0m\u001b[0;34m\u001b[0m\u001b[0m\n\u001b[0m\u001b[1;32m      9\u001b[0m \u001b[0mplt\u001b[0m\u001b[0;34m.\u001b[0m\u001b[0mtitle\u001b[0m\u001b[0;34m(\u001b[0m\u001b[0;34m'assembly activities'\u001b[0m\u001b[0;34m)\u001b[0m\u001b[0;34m\u001b[0m\u001b[0;34m\u001b[0m\u001b[0m\n\u001b[1;32m     10\u001b[0m \u001b[0mplt\u001b[0m\u001b[0;34m.\u001b[0m\u001b[0mxlim\u001b[0m\u001b[0;34m(\u001b[0m\u001b[0;36m0\u001b[0m\u001b[0;34m,\u001b[0m\u001b[0;36m14999\u001b[0m\u001b[0;34m)\u001b[0m\u001b[0;34m\u001b[0m\u001b[0;34m\u001b[0m\u001b[0m\n",
      "\u001b[0;31mNameError\u001b[0m: name 'assemblyAct' is not defined"
     ]
    }
   ],
   "metadata": {}
  }
 ],
 "metadata": {
  "kernelspec": {
   "name": "python3",
   "display_name": "Python 3.8.5 64-bit ('base': conda)"
  },
  "language_info": {
   "codemirror_mode": {
    "name": "ipython",
    "version": 3
   },
   "file_extension": ".py",
   "mimetype": "text/x-python",
   "name": "python",
   "nbconvert_exporter": "python",
   "pygments_lexer": "ipython3",
   "version": "3.8.5"
  },
  "interpreter": {
   "hash": "73338f702f582c88e3f253801a1652f95993fc9c7c4f7716fa5efbce7903fdbf"
  }
 },
 "nbformat": 4,
 "nbformat_minor": 4
}