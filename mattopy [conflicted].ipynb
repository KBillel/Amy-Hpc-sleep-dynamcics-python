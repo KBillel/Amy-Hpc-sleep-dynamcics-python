{
 "cells": [
  {
   "cell_type": "code",
   "execution_count": 175,
   "metadata": {},
   "outputs": [],
   "source": [
    "import bk.load\n",
    "import sys\n",
    "import pandas as pd\n",
    "\n",
    "import scipy.io\n",
    "\n",
    "import neuroseries as nts"
   ]
  },
  {
   "cell_type": "code",
   "execution_count": 17,
   "metadata": {},
   "outputs": [],
   "source": [
    "def posToCSV(base_folder,local_path,*args,**kwargs):\n",
    "    bk.load.current_session_linux('/mnt/electrophy/Gabrielle/GG-Dataset-Light/',local_path)\n",
    "    # pos = bk.load.pos()\n",
    "    # pos.to_csv(f'{bk.load.session}-pos.csv')\n",
    "\n",
    "    os.remove('posClean.mat')"
   ]
  },
  {
   "cell_type": "code",
   "execution_count": 158,
   "metadata": {},
   "outputs": [],
   "source": [
    "def createsIntervalTimes(base_folder,local_path,*args,**kwargs):\n",
    "    bk.load.current_session_linux('/mnt/electrophy/Gabrielle/GG-Dataset-Light/',local_path)\n",
    "    states = bk.load.states()\n",
    "    \n",
    "    for state in states:\n",
    "        states[state]['state'] = state\n",
    "   \n",
    "    all_states = pd.concat([states[state] for state in ['sws','Rem','wake','drowsy']])\n",
    "    translate = [['sws','NREM'],['Rem','REM'],['wake','WAKE'],['drowsy','DROWSY']]\n",
    "    for t in translate:\n",
    "        filt = all_states['state'] == t[0]\n",
    "        all_states.loc[filt,'state'] = t[1]\n",
    "\n",
    "\n",
    "    sleep = states['Rem'].union(states['sws'])\n",
    "    sleep['state'] = 'SLEEP'\n",
    "    \n",
    "\n",
    "    states['wake_homecage']['state'] = 'WAKE_HOMECAGE'\n",
    "\n",
    "    sleep_wake = pd.concat((sleep,states['wake_homecage']))\n",
    "\n",
    "    os.makedirs('Intervals',exist_ok=True)\n",
    "    os.chdir('Intervals')\n",
    "    all_states.to_csv('sleep_scoring.csv',index = False)\n",
    "    sleep_wake.to_csv('sleep_wake.csv',index = False)\n",
    "    os.chdir(bk.load.path)"
   ]
  },
  {
   "cell_type": "code",
   "execution_count": 178,
   "metadata": {},
   "outputs": [
    {
     "name": "stdout",
     "output_type": "stream",
     "text": [
      "Rat : 8 on day : 6\n",
      "Working with session Rat08-20130713 @ /mnt/electrophy/Gabrielle/GG-Dataset-Light/Rat08/Rat08-20130713\n"
     ]
    }
   ],
   "source": [
    "bk.load.current_session_linux('/mnt/electrophy/Gabrielle/GG-Dataset-Light/')\n",
    "runs = scipy.io.loadmat('runintervals.mat')['runintervals']"
   ]
  },
  {
   "cell_type": "code",
   "execution_count": 180,
   "metadata": {},
   "outputs": [
    {
     "data": {
      "text/plain": [
       "array([  0. , 206.3])"
      ]
     },
     "execution_count": 180,
     "metadata": {},
     "output_type": "execute_result"
    }
   ],
   "source": [
    "runs[0,:]"
   ]
  },
  {
   "cell_type": "code",
   "execution_count": 183,
   "metadata": {},
   "outputs": [
    {
     "data": {
      "text/html": [
       "<div>\n",
       "<style scoped>\n",
       "    .dataframe tbody tr th:only-of-type {\n",
       "        vertical-align: middle;\n",
       "    }\n",
       "\n",
       "    .dataframe tbody tr th {\n",
       "        vertical-align: top;\n",
       "    }\n",
       "\n",
       "    .dataframe thead th {\n",
       "        text-align: right;\n",
       "    }\n",
       "</style>\n",
       "<table border=\"1\" class=\"dataframe\">\n",
       "  <thead>\n",
       "    <tr style=\"text-align: right;\">\n",
       "      <th></th>\n",
       "      <th>start</th>\n",
       "      <th>end</th>\n",
       "      <th>state</th>\n",
       "    </tr>\n",
       "  </thead>\n",
       "  <tbody>\n",
       "    <tr>\n",
       "      <th>0</th>\n",
       "      <td>0</td>\n",
       "      <td>206300000</td>\n",
       "      <td>PRE_RUN</td>\n",
       "    </tr>\n",
       "    <tr>\n",
       "      <th>1</th>\n",
       "      <td>9405500000</td>\n",
       "      <td>12649000000</td>\n",
       "      <td>RUN</td>\n",
       "    </tr>\n",
       "    <tr>\n",
       "      <th>2</th>\n",
       "      <td>22415000000</td>\n",
       "      <td>22680000000</td>\n",
       "      <td>POST_RUN</td>\n",
       "    </tr>\n",
       "  </tbody>\n",
       "</table>\n",
       "</div>"
      ],
      "text/plain": [
       "         start          end     state\n",
       "0            0    206300000   PRE_RUN\n",
       "1   9405500000  12649000000       RUN\n",
       "2  22415000000  22680000000  POST_RUN"
      ]
     },
     "execution_count": 183,
     "metadata": {},
     "output_type": "execute_result"
    }
   ],
   "source": [
    "runs = nts.IntervalSet(runs[:,0],runs[:,1],'s')\n",
    "runs['state'] = ['PRE_RUN','RUN','POST_RUN']\n",
    "\n",
    "runs"
   ]
  },
  {
   "cell_type": "code",
   "execution_count": 184,
   "metadata": {},
   "outputs": [],
   "source": [
    "def runinvervals(base_folder,local_path,*args,**kwargs):\n",
    "    bk.load.current_session_linux('/mnt/electrophy/Gabrielle/GG-Dataset-Light/',local_path)\n",
    "    runs = scipy.io.loadmat('runintervals.mat')['runintervals']\n",
    "\n",
    "    runs = nts.IntervalSet(runs[:,0],runs[:,1],'s')\n",
    "    runs['state'] = ['PRE_RUN','RUN','POST_RUN']\n",
    "\n",
    "    runs.to_csv('Intervals/runs.csv',index = False)"
   ]
  },
  {
   "cell_type": "code",
   "execution_count": 185,
   "metadata": {},
   "outputs": [
    {
     "name": "stderr",
     "output_type": "stream",
     "text": [
      "100%|██████████| 61/61 [00:01<00:00, 51.41it/s]"
     ]
    },
    {
     "name": "stdout",
     "output_type": "stream",
     "text": [
      "Batch finished in 1.1924982070922852\n",
      "Some session were not processed correctly\n",
      "['Rat08-20130720', 'Rat08-20130722', 'Rat09-20140407', 'Rat09-20140408', 'Rat09-20140409', 'Rat11-20150402', 'Rat11-20150403']\n",
      "11.475409836065573 %\n"
     ]
    },
    {
     "name": "stderr",
     "output_type": "stream",
     "text": [
      "\n"
     ]
    },
    {
     "data": {
      "text/plain": [
       "{'Rat08-20130708': None,\n",
       " 'Rat08-20130709': None,\n",
       " 'Rat08-20130710': None,\n",
       " 'Rat08-20130711': None,\n",
       " 'Rat08-20130712': None,\n",
       " 'Rat08-20130713': None,\n",
       " 'Rat08-20130715': None,\n",
       " 'Rat08-20130716': None,\n",
       " 'Rat08-20130717': None,\n",
       " 'Rat08-20130718': None,\n",
       " 'Rat08-20130719': None,\n",
       " 'Rat09-20140324': None,\n",
       " 'Rat09-20140325': None,\n",
       " 'Rat09-20140326': None,\n",
       " 'Rat09-20140327': None,\n",
       " 'Rat09-20140328': None,\n",
       " 'Rat09-20140329': None,\n",
       " 'Rat09-20140331': None,\n",
       " 'Rat09-20140401': None,\n",
       " 'Rat09-20140402': None,\n",
       " 'Rat09-20140403': None,\n",
       " 'Rat09-20140404': None,\n",
       " 'Rat09-20140405': None,\n",
       " 'Rat10-20140619': None,\n",
       " 'Rat10-20140620': None,\n",
       " 'Rat10-20140622': None,\n",
       " 'Rat10-20140624': None,\n",
       " 'Rat10-20140626': None,\n",
       " 'Rat10-20140627': None,\n",
       " 'Rat10-20140628': None,\n",
       " 'Rat10-20140629': None,\n",
       " 'Rat10-20140701': None,\n",
       " 'Rat10-20140702': None,\n",
       " 'Rat10-20140703': None,\n",
       " 'Rat10-20140704': None,\n",
       " 'Rat10-20140705': None,\n",
       " 'Rat10-20140707': None,\n",
       " 'Rat10-20140708': None,\n",
       " 'Rat11-20150310': None,\n",
       " 'Rat11-20150312': None,\n",
       " 'Rat11-20150313': None,\n",
       " 'Rat11-20150314': None,\n",
       " 'Rat11-20150315': None,\n",
       " 'Rat11-20150316': None,\n",
       " 'Rat11-20150317': None,\n",
       " 'Rat11-20150321': None,\n",
       " 'Rat11-20150323': None,\n",
       " 'Rat11-20150325': None,\n",
       " 'Rat11-20150326': None,\n",
       " 'Rat11-20150327': None,\n",
       " 'Rat11-20150328': None,\n",
       " 'Rat11-20150330': None,\n",
       " 'Rat11-20150331': None,\n",
       " 'Rat11-20150401': None}"
      ]
     },
     "execution_count": 185,
     "metadata": {},
     "output_type": "execute_result"
    }
   ],
   "source": [
    "bk.load.batch(runinvervals)"
   ]
  },
  {
   "cell_type": "code",
   "execution_count": 149,
   "metadata": {},
   "outputs": [],
   "source": [
    "states = bk.load.states()\n",
    "sleep = states['Rem'].union(states['sws'])\n",
    "sleep['state'] = 'hey'"
   ]
  },
  {
   "cell_type": "code",
   "execution_count": 169,
   "metadata": {},
   "outputs": [
    {
     "name": "stdout",
     "output_type": "stream",
     "text": [
      "Rat : 9 on day : 13\n",
      "Working with session Rat09-20140407 @ /mnt/electrophy/Gabrielle/GG-Dataset-Light/Rat09/Rat09-20140407\n"
     ]
    },
    {
     "ename": "IndexError",
     "evalue": "index 1 is out of bounds for axis 0 with size 1",
     "output_type": "error",
     "traceback": [
      "\u001b[0;31m---------------------------------------------------------------------------\u001b[0m",
      "\u001b[0;31mIndexError\u001b[0m                                Traceback (most recent call last)",
      "\u001b[0;32m/tmp/ipykernel_223671/142152990.py\u001b[0m in \u001b[0;36m<module>\u001b[0;34m\u001b[0m\n\u001b[0;32m----> 1\u001b[0;31m \u001b[0mcreatesIntervalTimes\u001b[0m\u001b[0;34m(\u001b[0m\u001b[0mbase_folder\u001b[0m\u001b[0;34m=\u001b[0m\u001b[0;34m''\u001b[0m\u001b[0;34m,\u001b[0m\u001b[0mlocal_path\u001b[0m \u001b[0;34m=\u001b[0m \u001b[0;34m'Rat09/Rat09-20140407'\u001b[0m\u001b[0;34m)\u001b[0m\u001b[0;34m\u001b[0m\u001b[0;34m\u001b[0m\u001b[0m\n\u001b[0m",
      "\u001b[0;32m/tmp/ipykernel_223671/2920588226.py\u001b[0m in \u001b[0;36mcreatesIntervalTimes\u001b[0;34m(base_folder, local_path, *args, **kwargs)\u001b[0m\n\u001b[1;32m      1\u001b[0m \u001b[0;32mdef\u001b[0m \u001b[0mcreatesIntervalTimes\u001b[0m\u001b[0;34m(\u001b[0m\u001b[0mbase_folder\u001b[0m\u001b[0;34m,\u001b[0m\u001b[0mlocal_path\u001b[0m\u001b[0;34m,\u001b[0m\u001b[0;34m*\u001b[0m\u001b[0margs\u001b[0m\u001b[0;34m,\u001b[0m\u001b[0;34m**\u001b[0m\u001b[0mkwargs\u001b[0m\u001b[0;34m)\u001b[0m\u001b[0;34m:\u001b[0m\u001b[0;34m\u001b[0m\u001b[0;34m\u001b[0m\u001b[0m\n\u001b[1;32m      2\u001b[0m     \u001b[0mbk\u001b[0m\u001b[0;34m.\u001b[0m\u001b[0mload\u001b[0m\u001b[0;34m.\u001b[0m\u001b[0mcurrent_session_linux\u001b[0m\u001b[0;34m(\u001b[0m\u001b[0;34m'/mnt/electrophy/Gabrielle/GG-Dataset-Light/'\u001b[0m\u001b[0;34m,\u001b[0m\u001b[0mlocal_path\u001b[0m\u001b[0;34m)\u001b[0m\u001b[0;34m\u001b[0m\u001b[0;34m\u001b[0m\u001b[0m\n\u001b[0;32m----> 3\u001b[0;31m     \u001b[0mstates\u001b[0m \u001b[0;34m=\u001b[0m \u001b[0mbk\u001b[0m\u001b[0;34m.\u001b[0m\u001b[0mload\u001b[0m\u001b[0;34m.\u001b[0m\u001b[0mstates\u001b[0m\u001b[0;34m(\u001b[0m\u001b[0;34m)\u001b[0m\u001b[0;34m\u001b[0m\u001b[0;34m\u001b[0m\u001b[0m\n\u001b[0m\u001b[1;32m      4\u001b[0m \u001b[0;34m\u001b[0m\u001b[0m\n\u001b[1;32m      5\u001b[0m     \u001b[0;32mfor\u001b[0m \u001b[0mstate\u001b[0m \u001b[0;32min\u001b[0m \u001b[0mstates\u001b[0m\u001b[0;34m:\u001b[0m\u001b[0;34m\u001b[0m\u001b[0;34m\u001b[0m\u001b[0m\n",
      "\u001b[0;32m~/pCloudDrive/IFM/work/Code/Python/Billel/bk/load.py\u001b[0m in \u001b[0;36mstates\u001b[0;34m()\u001b[0m\n\u001b[1;32m    313\u001b[0m         )\n\u001b[1;32m    314\u001b[0m \u001b[0;34m\u001b[0m\u001b[0m\n\u001b[0;32m--> 315\u001b[0;31m     \u001b[0msleep\u001b[0m \u001b[0;34m=\u001b[0m \u001b[0mbk\u001b[0m\u001b[0;34m.\u001b[0m\u001b[0mload\u001b[0m\u001b[0;34m.\u001b[0m\u001b[0msleep\u001b[0m\u001b[0;34m(\u001b[0m\u001b[0;34m)\u001b[0m\u001b[0;34m\u001b[0m\u001b[0;34m\u001b[0m\u001b[0m\n\u001b[0m\u001b[1;32m    316\u001b[0m     \u001b[0mwake_homecage\u001b[0m \u001b[0;34m=\u001b[0m \u001b[0mstates_\u001b[0m\u001b[0;34m[\u001b[0m\u001b[0;34m'wake'\u001b[0m\u001b[0;34m]\u001b[0m\u001b[0;34m.\u001b[0m\u001b[0mintersect\u001b[0m\u001b[0;34m(\u001b[0m\u001b[0msleep\u001b[0m\u001b[0;34m)\u001b[0m\u001b[0;34m.\u001b[0m\u001b[0mdrop_short_intervals\u001b[0m\u001b[0;34m(\u001b[0m\u001b[0;36m1\u001b[0m\u001b[0;34m)\u001b[0m\u001b[0;34m\u001b[0m\u001b[0;34m\u001b[0m\u001b[0m\n\u001b[1;32m    317\u001b[0m     \u001b[0mstates_\u001b[0m\u001b[0;34m.\u001b[0m\u001b[0mupdate\u001b[0m\u001b[0;34m(\u001b[0m\u001b[0;34m{\u001b[0m\u001b[0;34m'wake_homecage'\u001b[0m\u001b[0;34m:\u001b[0m \u001b[0mwake_homecage\u001b[0m\u001b[0;34m}\u001b[0m\u001b[0;34m)\u001b[0m\u001b[0;34m\u001b[0m\u001b[0;34m\u001b[0m\u001b[0m\n",
      "\u001b[0;32m~/pCloudDrive/IFM/work/Code/Python/Billel/bk/load.py\u001b[0m in \u001b[0;36msleep\u001b[0;34m()\u001b[0m\n\u001b[1;32m    323\u001b[0m     \u001b[0mruns\u001b[0m \u001b[0;34m=\u001b[0m \u001b[0mscipy\u001b[0m\u001b[0;34m.\u001b[0m\u001b[0mio\u001b[0m\u001b[0;34m.\u001b[0m\u001b[0mloadmat\u001b[0m\u001b[0;34m(\u001b[0m\u001b[0;34m\"runintervals.mat\"\u001b[0m\u001b[0;34m)\u001b[0m\u001b[0;34m[\u001b[0m\u001b[0;34m\"runintervals\"\u001b[0m\u001b[0;34m]\u001b[0m\u001b[0;34m\u001b[0m\u001b[0;34m\u001b[0m\u001b[0m\n\u001b[1;32m    324\u001b[0m     pre_sleep = nts.IntervalSet(\n\u001b[0;32m--> 325\u001b[0;31m         start=runs[0, 1], end=runs[1, 0], time_units=\"s\")\n\u001b[0m\u001b[1;32m    326\u001b[0m     post_sleep = nts.IntervalSet(\n\u001b[1;32m    327\u001b[0m         start=runs[1, 1], end=runs[2, 0], time_units=\"s\")\n",
      "\u001b[0;31mIndexError\u001b[0m: index 1 is out of bounds for axis 0 with size 1"
     ]
    }
   ],
   "source": [
    "createsIntervalTimes(base_folder='',local_path = 'Rat09/Rat09-20140407')"
   ]
  },
  {
   "cell_type": "code",
   "execution_count": null,
   "metadata": {},
   "outputs": [],
   "source": []
  },
  {
   "cell_type": "code",
   "execution_count": 165,
   "metadata": {},
   "outputs": [
    {
     "name": "stderr",
     "output_type": "stream",
     "text": [
      "100%|██████████| 61/61 [00:02<00:00, 22.22it/s]"
     ]
    },
    {
     "name": "stdout",
     "output_type": "stream",
     "text": [
      "Batch finished in 3.118769884109497\n",
      "Some session were not processed correctly\n",
      "['Rat08-20130720', 'Rat08-20130722', 'Rat09-20140407', 'Rat09-20140408', 'Rat09-20140409', 'Rat11-20150402', 'Rat11-20150403']\n",
      "11.475409836065573 %\n"
     ]
    },
    {
     "name": "stderr",
     "output_type": "stream",
     "text": [
      "\n"
     ]
    },
    {
     "data": {
      "text/plain": [
       "{'Rat08-20130708': None,\n",
       " 'Rat08-20130709': None,\n",
       " 'Rat08-20130710': None,\n",
       " 'Rat08-20130711': None,\n",
       " 'Rat08-20130712': None,\n",
       " 'Rat08-20130713': None,\n",
       " 'Rat08-20130715': None,\n",
       " 'Rat08-20130716': None,\n",
       " 'Rat08-20130717': None,\n",
       " 'Rat08-20130718': None,\n",
       " 'Rat08-20130719': None,\n",
       " 'Rat09-20140324': None,\n",
       " 'Rat09-20140325': None,\n",
       " 'Rat09-20140326': None,\n",
       " 'Rat09-20140327': None,\n",
       " 'Rat09-20140328': None,\n",
       " 'Rat09-20140329': None,\n",
       " 'Rat09-20140331': None,\n",
       " 'Rat09-20140401': None,\n",
       " 'Rat09-20140402': None,\n",
       " 'Rat09-20140403': None,\n",
       " 'Rat09-20140404': None,\n",
       " 'Rat09-20140405': None,\n",
       " 'Rat10-20140619': None,\n",
       " 'Rat10-20140620': None,\n",
       " 'Rat10-20140622': None,\n",
       " 'Rat10-20140624': None,\n",
       " 'Rat10-20140626': None,\n",
       " 'Rat10-20140627': None,\n",
       " 'Rat10-20140628': None,\n",
       " 'Rat10-20140629': None,\n",
       " 'Rat10-20140701': None,\n",
       " 'Rat10-20140702': None,\n",
       " 'Rat10-20140703': None,\n",
       " 'Rat10-20140704': None,\n",
       " 'Rat10-20140705': None,\n",
       " 'Rat10-20140707': None,\n",
       " 'Rat10-20140708': None,\n",
       " 'Rat11-20150310': None,\n",
       " 'Rat11-20150312': None,\n",
       " 'Rat11-20150313': None,\n",
       " 'Rat11-20150314': None,\n",
       " 'Rat11-20150315': None,\n",
       " 'Rat11-20150316': None,\n",
       " 'Rat11-20150317': None,\n",
       " 'Rat11-20150321': None,\n",
       " 'Rat11-20150323': None,\n",
       " 'Rat11-20150325': None,\n",
       " 'Rat11-20150326': None,\n",
       " 'Rat11-20150327': None,\n",
       " 'Rat11-20150328': None,\n",
       " 'Rat11-20150330': None,\n",
       " 'Rat11-20150331': None,\n",
       " 'Rat11-20150401': None}"
      ]
     },
     "execution_count": 165,
     "metadata": {},
     "output_type": "execute_result"
    }
   ],
   "source": [
    "bk.load.batch(createsIntervalTimes)"
   ]
  },
  {
   "cell_type": "code",
   "execution_count": 11,
   "metadata": {},
   "outputs": [
    {
     "name": "stdout",
     "output_type": "stream",
     "text": [
      "Rat : 8 on day : 6\n",
      "Working with session Rat08-20130713 @ /mnt/electrophy/Gabrielle/GG-Dataset-Light/Rat08/Rat08-20130713\n"
     ]
    }
   ],
   "source": [
    "posToCSV('/mnt/electrophy/Gabrielle/GG-Dataset-Light/','Rat08/Rat08-20130713')"
   ]
  },
  {
   "cell_type": "code",
   "execution_count": null,
   "metadata": {},
   "outputs": [],
   "source": []
  }
 ],
 "metadata": {
  "interpreter": {
   "hash": "dc93b3fb48dfd2593d4a40b397dc62a97606514bfa701f6565ff70ef36514844"
  },
  "kernelspec": {
   "display_name": "Python 3.9.7 ('base')",
   "language": "python",
   "name": "python3"
  },
  "language_info": {
   "codemirror_mode": {
    "name": "ipython",
    "version": 3
   },
   "file_extension": ".py",
   "mimetype": "text/x-python",
   "name": "python",
   "nbconvert_exporter": "python",
   "pygments_lexer": "ipython3",
   "version": "3.9.7"
  },
  "orig_nbformat": 4
 },
 "nbformat": 4,
 "nbformat_minor": 2
}
