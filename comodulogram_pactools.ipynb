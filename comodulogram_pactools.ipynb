{
 "cells": [
  {
   "cell_type": "code",
   "execution_count": 1,
   "metadata": {},
   "outputs": [],
   "source": [
    "import os\n",
    "import sys\n",
    "\n",
    "import numpy as np\n",
    "import pandas as pd\n",
    "import scipy.signal\n",
    "from scipy.signal import savgol_filter\n",
    "from scipy.stats import zscore\n",
    "\n",
    "from tqdm import tqdm\n",
    "\n",
    "import neuroseries as nts\n",
    "\n",
    "\n",
    "import time\n",
    "import matplotlib.pyplot as plt\n",
    "# %matplotlib qt\n",
    "import seaborn as sns\n",
    "\n",
    "import bk.load\n",
    "import bk.compute\n",
    "import bk.plot\n",
    "import bk.signal\n",
    "\n",
    "from pactools import Comodulogram, REFERENCES\n",
    "from pactools import simulate_pac\n"
   ]
  },
  {
   "cell_type": "code",
   "execution_count": 2,
   "metadata": {},
   "outputs": [],
   "source": [
    "fs = 1250.  # Hz\n",
    "low_fq_width = 1  # Hz"
   ]
  },
  {
   "cell_type": "code",
   "execution_count": 3,
   "metadata": {},
   "outputs": [],
   "source": [
    "def plot_comodulogram(signal):\n",
    "    fs = 1250.  # Hz\n",
    "    low_fq_width = 1  # Hz\n",
    "    low_fq_range = np.linspace(1, 10, 50)\n",
    "    methods = [\n",
    "        'ozkurt', 'canolty', 'tort', 'penny', 'vanwijk', 'duprelatour', 'colgin',\n",
    "        'sigl', 'bispectrum'\n",
    "    ]\n",
    "\n",
    "    # Define the subplots where the comodulogram will be plotted\n",
    "    n_lines = 3\n",
    "    n_columns = int(np.ceil(len(methods) / float(n_lines)))\n",
    "    fig, axs = plt.subplots(\n",
    "        n_lines, n_columns, figsize=(4 * n_columns, 3 * n_lines))\n",
    "    axs = axs.ravel()\n",
    "\n",
    "\n",
    "    # Compute the comodulograms and plot them\n",
    "    for ax, method in zip(axs, methods):\n",
    "        print('%s... ' % (method, ))\n",
    "        estimator = Comodulogram(fs=fs, low_fq_range=low_fq_range,\n",
    "                                low_fq_width=low_fq_width, method=method,\n",
    "                                progress_bar=True,n_jobs=12)\n",
    "        estimator.fit(signal)\n",
    "        estimator.plot(titles=[REFERENCES[method]], axs=[ax])\n",
    "        ax.set_ylim(0,200)\n",
    "\n",
    "    plt.show()"
   ]
  },
  {
   "cell_type": "code",
   "execution_count": 7,
   "metadata": {},
   "outputs": [
    {
     "name": "stdout",
     "output_type": "stream",
     "text": [
      "Using matplotlib backend: Qt5Agg\n",
      "Rat : 8 on day : 6\n",
      "Working with session Rat08-20130713 @ /mnt/electrophy/Gabrielle/GG-Dataset-Light/Rat08/Rat08-20130713\n",
      "RemBLA\n",
      "ozkurt... \n",
      "[........................................] 100% | 39.94 sec | comodulogram: ozkurt \n",
      "canolty... \n",
      "[........................................] 100% | 39.43 sec | comodulogram: canolty \n",
      "tort... \n",
      "[........................................] 100% | 64.80 sec | comodulogram: tort \n",
      "penny... \n",
      "[........................................] 100% | 96.31 sec | comodulogram: penny \n",
      "vanwijk... \n",
      "[........................................] 100% | 116.22 sec | comodulogram: vanwijk \n",
      "duprelatour... \n",
      "[........................................] 100% | 16.28 sec | comodulogram: DAR(10, 1) \n",
      "[........................................] 100% | 18.12 sec | comodulogram: DAR(10, 1) colgin... \n",
      "[........................................] 100% | 9.00 sec | coherence: colgin \n",
      "sigl... \n",
      "[........................................] 100% | 3.12 sec | bicoherence: sigl \n",
      "bispectrum... \n",
      "[........................................] 100% | 2.25 sec | bicoherence: bispectrum \n",
      "RemHpc\n",
      "ozkurt... \n",
      "[........................................] 100% | 37.73 sec | comodulogram: ozkurt \n",
      "canolty... \n",
      "[........................................] 100% | 37.62 sec | comodulogram: canolty \n",
      "tort... \n",
      "[........................................] 100% | 64.75 sec | comodulogram: tort \n",
      "penny... \n",
      "[........................................] 100% | 93.48 sec | comodulogram: penny \n",
      "vanwijk... \n",
      "[........................................] 100% | 107.88 sec | comodulogram: vanwijk \n",
      "duprelatour... \n",
      "[........................................] 100% | 15.23 sec | comodulogram: DAR(10, 1) \n",
      "[........................................] 100% | 17.53 sec | comodulogram: DAR(10, 1) colgin... \n",
      "[........................................] 100% | 8.12 sec | coherence: colgin \n",
      "sigl... \n",
      "[........................................] 100% | 3.12 sec | bicoherence: sigl \n",
      "bispectrum... \n",
      "[........................................] 100% | 1.82 sec | bicoherence: bispectrum \n",
      "swsBLA\n",
      "ozkurt... \n",
      "[........................................] 100% | 37.26 sec | comodulogram: ozkurt \n",
      "canolty... \n",
      "[........................................] 100% | 37.40 sec | comodulogram: canolty \n",
      "tort... \n",
      "[........................................] 100% | 61.02 sec | comodulogram: tort \n",
      "penny... \n",
      "[........................................] 100% | 88.67 sec | comodulogram: penny \n",
      "vanwijk... \n",
      "[........................................] 100% | 107.49 sec | comodulogram: vanwijk \n",
      "duprelatour... \n",
      "[........................................] 100% | 15.42 sec | comodulogram: DAR(10, 1) \n",
      "[........................................] 100% | 17.59 sec | comodulogram: DAR(10, 1) colgin... \n",
      "[........................................] 100% | 8.16 sec | coherence: colgin \n",
      "sigl... \n",
      "[........................................] 100% | 2.98 sec | bicoherence: sigl \n",
      "bispectrum... \n",
      "[........................................] 100% | 1.82 sec | bicoherence: bispectrum \n",
      "swsHpc\n",
      "ozkurt... \n",
      "[........................................] 100% | 37.51 sec | comodulogram: ozkurt \n",
      "canolty... \n",
      "[........................................] 100% | 37.46 sec | comodulogram: canolty \n",
      "tort... \n",
      "[........................................] 100% | 60.97 sec | comodulogram: tort \n",
      "penny... \n",
      "[........................................] 100% | 88.91 sec | comodulogram: penny \n",
      "vanwijk... \n",
      "[........................................] 100% | 107.92 sec | comodulogram: vanwijk \n",
      "duprelatour... \n",
      "[........................................] 100% | 16.72 sec | comodulogram: DAR(10, 1) \n",
      "[........................................] 100% | 18.82 sec | comodulogram: DAR(10, 1) colgin... \n",
      "[........................................] 100% | 8.77 sec | coherence: colgin \n",
      "sigl... \n",
      "[........................................] 100% | 3.51 sec | bicoherence: sigl \n",
      "bispectrum... \n",
      "[........................................] 100% | 2.00 sec | bicoherence: bispectrum \n"
     ]
    }
   ],
   "source": [
    "%matplotlib\n",
    "bk.load.current_session_linux()\n",
    "states = bk.load.states()\n",
    "\n",
    "for state in ['Rem','sws']:\n",
    "    for stru in ['BLA','Hpc']:\n",
    "        print(state+stru)\n",
    "        if stru == 'BLA':\n",
    "            signal = bk.load.lfp_in_intervals(bk.load.bla_channels()['left'],states[state]).values[0:1_000_000]\n",
    "        else:\n",
    "            signal = bk.load.lfp_in_intervals(bk.load.ripple_channel(),states[state]).values[0:1_000_000]\n",
    "        plot_comodulogram(signal)\n",
    "        plt.title(f'{stru} during {state}')"
   ]
  },
  {
   "cell_type": "code",
   "execution_count": 36,
   "metadata": {},
   "outputs": [
    {
     "name": "stdout",
     "output_type": "stream",
     "text": [
      "[........................................] 100% | 10203.99 sec | comodulogram: tort \n"
     ]
    },
    {
     "name": "stderr",
     "output_type": "stream",
     "text": [
      "/home/billel/anaconda3/lib/python3.9/site-packages/pactools/comodulogram.py:506: UserWarning: No contour levels were found within the data range.\n",
      "  axs[i].contour(comod_[i].T, levels=levels, colors='w',\n"
     ]
    },
    {
     "name": "stdout",
     "output_type": "stream",
     "text": [
      "[.........................               ] 64% | 6438.72 sec | comodulogram: tort "
     ]
    }
   ],
   "source": [
    "# Surrogates of the Tort methods : \n",
    "low_fq_range = np.linspace(1, 10, 50)\n",
    "method = 'tort'  # or 'tort', 'ozkurt', 'penny', 'colgin', ...\n",
    "n_surrogates = 200\n",
    "n_jobs = 12\n",
    "\n",
    "fig,axs = plt.subplots(1,2)\n",
    "estimator = {}\n",
    "for i,state in enumerate(['Rem','sws']):\n",
    "    signal = bk.load.lfp_in_intervals(bk.load.ripple_channel(),states[state]).values[0:1_000_000]\n",
    "\n",
    "    estimator[state] = Comodulogram(fs=fs, low_fq_range=low_fq_range,\n",
    "                            low_fq_width=low_fq_width, method=method,\n",
    "                            n_surrogates=n_surrogates, progress_bar=True,\n",
    "                            n_jobs=n_jobs)\n",
    "    estimator[state].fit(signal)\n",
    "\n",
    "    p_value = 0.05\n",
    "    estimator[state].plot(contour_method='comod_max', contour_level=p_value,\n",
    "                titles=[f'{state}'],\n",
    "                axs=[axs[i]])\n",
    "    plt.show()"
   ]
  },
  {
   "cell_type": "code",
   "execution_count": 5,
   "metadata": {},
   "outputs": [
    {
     "name": "stdout",
     "output_type": "stream",
     "text": [
      "Using matplotlib backend: Qt5Agg\n",
      "Rat : 8 on day : 6\n",
      "Working with session Rat08-20130713 @ /mnt/electrophy/Gabrielle/GG-Dataset-Light/Rat08/Rat08-20130713\n",
      "[........................................] 100% | 9665.51 sec | comodulogram: tort \n"
     ]
    },
    {
     "name": "stderr",
     "output_type": "stream",
     "text": [
      "/home/billel/anaconda3/lib/python3.9/site-packages/pactools/comodulogram.py:506: UserWarning: No contour levels were found within the data range.\n",
      "  axs[i].contour(comod_[i].T, levels=levels, colors='w',\n"
     ]
    },
    {
     "name": "stdout",
     "output_type": "stream",
     "text": [
      "[........................................] 100% | 9412.74 sec | comodulogram: tort \n"
     ]
    }
   ],
   "source": [
    "# Surrogates of the Tort methods : \n",
    "\n",
    "%matplotlib\n",
    "bk.load.current_session_linux()\n",
    "states = bk.load.states()\n",
    "\n",
    "low_fq_range = np.linspace(1, 10, 50)\n",
    "method = 'tort'  # or 'tort', 'ozkurt', 'penny', 'colgin', ...\n",
    "n_surrogates = 200\n",
    "n_jobs = 12\n",
    "\n",
    "fig,axs = plt.subplots(1,2)\n",
    "estimator = {}\n",
    "for i,state in enumerate(['Rem','sws']):\n",
    "    signal = bk.load.lfp_in_intervals(bk.load.bla_channels()['left'],states[state]).values[0:1_000_000]\n",
    "\n",
    "    estimator[state] = Comodulogram(fs=fs, low_fq_range=low_fq_range,\n",
    "                            low_fq_width=low_fq_width, method=method,\n",
    "                            n_surrogates=n_surrogates, progress_bar=True,\n",
    "                            n_jobs=n_jobs)\n",
    "    estimator[state].fit(signal)\n",
    "\n",
    "    p_value = 0.05\n",
    "    estimator[state].plot(contour_method='comod_max', contour_level=p_value,\n",
    "                titles=[f'{state}]'],\n",
    "                axs=[axs[i]])\n",
    "    plt.show()"
   ]
  },
  {
   "cell_type": "code",
   "execution_count": 35,
   "metadata": {},
   "outputs": [],
   "source": [
    "fig,axs = plt.subplots(1,2)\n",
    "\n",
    "estimator.plot(contour_method='z_score', contour_level=5,\n",
    "               titles=['With a z-score on each couple of frequency'],\n",
    "               axs=[axs[0]])\n",
    "plt.title(state)\n",
    "plt.ylim(10,200)\n",
    "plt.show()"
   ]
  }
 ],
 "metadata": {
  "kernelspec": {
   "display_name": "Python 3.9.7 ('base')",
   "language": "python",
   "name": "python3"
  },
  "language_info": {
   "codemirror_mode": {
    "name": "ipython",
    "version": 3
   },
   "file_extension": ".py",
   "mimetype": "text/x-python",
   "name": "python",
   "nbconvert_exporter": "python",
   "pygments_lexer": "ipython3",
   "version": "3.9.7"
  },
  "orig_nbformat": 4,
  "vscode": {
   "interpreter": {
    "hash": "dc93b3fb48dfd2593d4a40b397dc62a97606514bfa701f6565ff70ef36514844"
   }
  }
 },
 "nbformat": 4,
 "nbformat_minor": 2
}
