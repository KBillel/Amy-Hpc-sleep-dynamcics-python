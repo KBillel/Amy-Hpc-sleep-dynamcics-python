{
 "cells": [
  {
   "cell_type": "markdown",
   "metadata": {},
   "source": [
    "# Histogram of power of theta in BLA during REM"
   ]
  },
  {
   "cell_type": "code",
   "execution_count": 1,
   "metadata": {},
   "outputs": [],
   "source": [
    "import os\n",
    "\n",
    "import bk.load\n",
    "import bk.compute\n",
    "import bk.plot\n",
    "import bk.signal\n",
    "\n",
    "import numpy as np\n",
    "\n",
    "import scipy.signal\n",
    "import scipy.stats\n",
    "import scipy.io\n",
    "\n",
    "import matplotlib.pyplot as plt\n",
    "import matplotlib as mpl\n",
    "import neuroseries as nts"
   ]
  },
  {
   "cell_type": "code",
   "execution_count": 2,
   "metadata": {},
   "outputs": [],
   "source": [
    "%matplotlib qt"
   ]
  },
  {
   "cell_type": "code",
   "execution_count": 3,
   "metadata": {},
   "outputs": [],
   "source": [
    "COLOR = 'white'\n",
    "mpl.rcParams['text.color'] = COLOR\n",
    "mpl.rcParams['axes.labelcolor'] = COLOR\n",
    "mpl.rcParams['axes.edgecolor'] = COLOR\n",
    "mpl.rcParams['xtick.color'] = COLOR\n",
    "mpl.rcParams['ytick.color'] = COLOR\n",
    "mpl.rcParams['figure.facecolor'] = '#282C34'\n",
    "mpl.rcParams['axes.facecolor'] = '#282C34'"
   ]
  },
  {
   "cell_type": "code",
   "execution_count": 4,
   "metadata": {},
   "outputs": [],
   "source": [
    "path = '/media/billel/GGLab-01-BK/DATA/Rat08-20130713/'\n",
    "os.chdir(path)\n",
    "bk.load.path = path\n",
    "bk.load.rat = 8\n",
    "bk.load.session = 'Rat08-20130713'\n",
    "bk.load.day = 6"
   ]
  },
  {
   "cell_type": "code",
   "execution_count": 4,
   "metadata": {},
   "outputs": [
    {
     "name": "stdout",
     "output_type": "stream",
     "text": [
      "Rat : 8 on day : 6\n",
      "Working with session Rat08-20130713 @ Z:\\Rat08\\Rat08-20130713\n"
     ]
    },
    {
     "data": {
      "text/plain": [
       "True"
      ]
     },
     "execution_count": 4,
     "metadata": {},
     "output_type": "execute_result"
    }
   ],
   "source": [
    "bk.load.current_session()"
   ]
  },
  {
   "cell_type": "code",
   "execution_count": 5,
   "metadata": {},
   "outputs": [],
   "source": [
    "states = bk.load.states()\n",
    "run = scipy.io.loadmat(bk.load.session + '-TrackRunTimes.mat')['trackruntimes']\n",
    "run = nts.IntervalSet(np.round(run[:,0],decimals = 1),np.round(run[:,1],decimals = 1),time_units='s')\n",
    "theta = {'Rem':states['Rem'],'run':run,'wake':states['wake']}"
   ]
  },
  {
   "cell_type": "code",
   "execution_count": null,
   "metadata": {},
   "outputs": [],
   "source": [
    "plt.figure()\n",
    "plt.suptitle('Theta PhaseShift')\n",
    "for i,state in enumerate(theta,1):\n",
    "    \n",
    "    lfp_hpc = bk.load.lfp_in_intervals(166,23,theta[state])\n",
    "    lfp_bla = bk.load.lfp_in_intervals(166,105,theta[state])\n",
    "    \n",
    "    filt_hpc = bk.signal.passband(lfp_hpc,4,8)\n",
    "    filt_bla = bk.signal.passband(lfp_bla,4,8)\n",
    "    \n",
    "    power_hpc,phase_hpc = bk.signal.hilbert(filt_hpc,deg = True)\n",
    "    power_bla,phase_bla = bk.signal.hilbert(filt_bla,deg = True)\n",
    "    \n",
    "    plt.subplot(2,3,i)\n",
    "    plt.hist2d(phase_hpc.values+180,phase_bla.values+180,100)\n",
    "    plt.title(f'Theta Phase shift during {state}')\n",
    "    plt.xlabel('hpc_phase')\n",
    "    plt.ylabel('bla_phase')"
   ]
  },
  {
   "cell_type": "code",
   "execution_count": 22,
   "metadata": {},
   "outputs": [],
   "source": [
    "# plt.figure()\n",
    "# plt.suptitle('Spectrograms')\n",
    "\n",
    "for i,state in enumerate(theta,4):\n",
    "    \n",
    "    lfp_hpc = bk.load.lfp_in_intervals(166,23,theta[state])\n",
    "    lfp_bla = bk.load.lfp_in_intervals(166,105,theta[state])\n",
    "    \n",
    "    f,spec_hpc = scipy.signal.welch(lfp_hpc,fs = 1250,nperseg=10000,noverlap=9000)\n",
    "    f,spec_bla = scipy.signal.welch(lfp_bla,fs = 1250,nperseg=10000,noverlap=9000)\n",
    "\n",
    "    plt.subplot(2,3,i)\n",
    "    plt.title(f'Power Spectrum during {state}')\n",
    "    plt.plot(f,spec_hpc)\n",
    "    plt.plot(f,spec_bla)\n",
    "    plt.xlim(0,100)\n",
    "    plt.yscale('log')\n",
    "    plt.legend(['Hpc','BLA'])\n"
   ]
  },
  {
   "cell_type": "code",
   "execution_count": 16,
   "metadata": {},
   "outputs": [
    {
     "ename": "NameError",
     "evalue": "name 't' is not defined",
     "output_type": "error",
     "traceback": [
      "\u001b[0;31m---------------------------------------------------------------------------\u001b[0m",
      "\u001b[0;31mNameError\u001b[0m                                 Traceback (most recent call last)",
      "\u001b[0;32m<ipython-input-16-9642e1d1ad4a>\u001b[0m in \u001b[0;36m<module>\u001b[0;34m\u001b[0m\n\u001b[1;32m      7\u001b[0m \u001b[0ms\u001b[0m \u001b[0;34m=\u001b[0m \u001b[0mplt\u001b[0m\u001b[0;34m.\u001b[0m\u001b[0msubplot\u001b[0m\u001b[0;34m(\u001b[0m\u001b[0;36m2\u001b[0m\u001b[0;34m,\u001b[0m\u001b[0;36m1\u001b[0m\u001b[0;34m,\u001b[0m\u001b[0;36m1\u001b[0m\u001b[0;34m)\u001b[0m\u001b[0;34m\u001b[0m\u001b[0;34m\u001b[0m\u001b[0m\n\u001b[1;32m      8\u001b[0m \u001b[0mplt\u001b[0m\u001b[0;34m.\u001b[0m\u001b[0mtitle\u001b[0m\u001b[0;34m(\u001b[0m\u001b[0;34m\"Hpc\"\u001b[0m\u001b[0;34m)\u001b[0m\u001b[0;34m\u001b[0m\u001b[0;34m\u001b[0m\u001b[0m\n\u001b[0;32m----> 9\u001b[0;31m \u001b[0mplt\u001b[0m\u001b[0;34m.\u001b[0m\u001b[0mplot\u001b[0m\u001b[0;34m(\u001b[0m\u001b[0mt\u001b[0m\u001b[0;34m,\u001b[0m\u001b[0mlfp_hpc\u001b[0m\u001b[0;34m.\u001b[0m\u001b[0mvalues\u001b[0m\u001b[0;34m,\u001b[0m \u001b[0mc\u001b[0m \u001b[0;34m=\u001b[0m \u001b[0;34m'azure'\u001b[0m\u001b[0;34m,\u001b[0m\u001b[0mlinewidth\u001b[0m \u001b[0;34m=\u001b[0m \u001b[0;36m0.5\u001b[0m\u001b[0;34m)\u001b[0m\u001b[0;34m\u001b[0m\u001b[0;34m\u001b[0m\u001b[0m\n\u001b[0m\u001b[1;32m     10\u001b[0m \u001b[0mplt\u001b[0m\u001b[0;34m.\u001b[0m\u001b[0mplot\u001b[0m\u001b[0;34m(\u001b[0m\u001b[0mt\u001b[0m\u001b[0;34m,\u001b[0m\u001b[0mbk\u001b[0m\u001b[0;34m.\u001b[0m\u001b[0msignal\u001b[0m\u001b[0;34m.\u001b[0m\u001b[0mpassband\u001b[0m\u001b[0;34m(\u001b[0m\u001b[0mlfp_hpc\u001b[0m\u001b[0;34m,\u001b[0m\u001b[0;36m4\u001b[0m\u001b[0;34m,\u001b[0m\u001b[0;36m8\u001b[0m\u001b[0;34m)\u001b[0m\u001b[0;34m.\u001b[0m\u001b[0mvalues\u001b[0m\u001b[0;34m,\u001b[0m\u001b[0mc\u001b[0m \u001b[0;34m=\u001b[0m \u001b[0;34m'r'\u001b[0m\u001b[0;34m)\u001b[0m\u001b[0;34m\u001b[0m\u001b[0;34m\u001b[0m\u001b[0m\n\u001b[1;32m     11\u001b[0m \u001b[0mplt\u001b[0m\u001b[0;34m.\u001b[0m\u001b[0msubplot\u001b[0m\u001b[0;34m(\u001b[0m\u001b[0;36m2\u001b[0m\u001b[0;34m,\u001b[0m\u001b[0;36m1\u001b[0m\u001b[0;34m,\u001b[0m\u001b[0;36m2\u001b[0m\u001b[0;34m,\u001b[0m\u001b[0msharex\u001b[0m\u001b[0;34m=\u001b[0m\u001b[0ms\u001b[0m\u001b[0;34m,\u001b[0m\u001b[0msharey\u001b[0m \u001b[0;34m=\u001b[0m \u001b[0ms\u001b[0m\u001b[0;34m)\u001b[0m\u001b[0;34m\u001b[0m\u001b[0;34m\u001b[0m\u001b[0m\n",
      "\u001b[0;31mNameError\u001b[0m: name 't' is not defined"
     ]
    }
   ],
   "source": [
    "# t = np.arange(0,len(lfp_hpc),1)/1250\n",
    "\n",
    "lfp_bla = bk.load.lfp_in_intervals(166,105,theta['run'])\n",
    "lfp_hpc= bk.load.lfp_in_intervals(166,13,theta['run'])\n",
    "plt.figure()\n",
    "plt.suptitle('Example LFPs during RUN')\n",
    "s = plt.subplot(2,1,1)\n",
    "plt.title(\"Hpc\")\n",
    "plt.plot(t,lfp_hpc.values, c = 'azure',linewidth = 0.5)\n",
    "plt.plot(t,bk.signal.passband(lfp_hpc,4,8).values,c = 'r')\n",
    "plt.subplot(2,1,2,sharex=s,sharey = s)\n",
    "plt.title('BLA')\n",
    "plt.plot(t,lfp_bla.values, c = 'azure',linewidth = 0.5)\n",
    "plt.plot(t,bk.signal.passband(lfp_bla,4,8).values,c = 'r')\n"
   ]
  },
  {
   "cell_type": "code",
   "execution_count": 9,
   "metadata": {},
   "outputs": [],
   "source": [
    "plt.yscale('log')"
   ]
  },
  {
   "cell_type": "code",
   "execution_count": 17,
   "metadata": {},
   "outputs": [],
   "source": [
    "lfp_hpc = bk.load.lfp_in_intervals(166,23,theta['run'])\n",
    "filt_hpc = bk.signal.passband(lfp_hpc,4,8)\n",
    "power_hpc,phase_hpc = bk.signal.hilbert(filt_hpc,deg = True)"
   ]
  },
  {
   "cell_type": "code",
   "execution_count": 10,
   "metadata": {},
   "outputs": [
    {
     "data": {
      "text/plain": [
       "[<matplotlib.lines.Line2D at 0x7f04afbb0490>]"
      ]
     },
     "execution_count": 10,
     "metadata": {},
     "output_type": "execute_result"
    }
   ],
   "source": [
    "lfp_hpc = bk.load.lfp_in_intervals(166,23,theta['run'])\n",
    "lfp_bla = bk.load.lfp_in_intervals(166,105,theta['run'])\n",
    "\n",
    "f,coh = scipy.signal.coherence(lfp_hpc,lfp_fake,fs = 1250,nperseg=5000,noverlap=2500)\n",
    "plt.plot(f,coh)"
   ]
  },
  {
   "cell_type": "code",
   "execution_count": 9,
   "metadata": {},
   "outputs": [],
   "source": [
    "lfp_fake = nts.Tsd(lfp_hpc.index.values,np.random.rand(len(lfp_hpc)))\n",
    "filt_fake = bk.signal.passband(lfp_fake,4,8)\n",
    "power_fake,phase_fake = bk.signal.hilbert(filt_fake,deg = True)"
   ]
  },
  {
   "cell_type": "code",
   "execution_count": 19,
   "metadata": {},
   "outputs": [
    {
     "data": {
      "text/plain": [
       "[<matplotlib.lines.Line2D at 0x7f6272389450>]"
      ]
     },
     "execution_count": 19,
     "metadata": {},
     "output_type": "execute_result"
    }
   ],
   "source": [
    "s = plt.subplot(2,1,1)\n",
    "plt.plot(lfp_fake.index,lfp_fake.values-np.mean(lfp_fake.values),'azure')\n",
    "plt.plot(filt_fake,'red')\n",
    "plt.subplot(2,1,2,sharex = s)\n",
    "plt.plot(phase_fake)"
   ]
  },
  {
   "cell_type": "code",
   "execution_count": 21,
   "metadata": {},
   "outputs": [
    {
     "data": {
      "text/plain": [
       "Text(0, 0.5, 'fake_phase')"
      ]
     },
     "execution_count": 21,
     "metadata": {},
     "output_type": "execute_result"
    }
   ],
   "source": [
    "plt.hist2d(phase_hpc.values+180,phase_fake.values+180,100)\n",
    "plt.xlabel('hpc_phase')\n",
    "plt.ylabel('fake_phase')"
   ]
  },
  {
   "cell_type": "code",
   "execution_count": 49,
   "metadata": {},
   "outputs": [],
   "source": [
    "t = np.arange(0,3*np.pi,0.1)\n",
    "y = np.sin(t)\n",
    "y = nts.Tsd(t,y)"
   ]
  },
  {
   "cell_type": "code",
   "execution_count": 50,
   "metadata": {},
   "outputs": [
    {
     "data": {
      "text/plain": [
       "[<matplotlib.lines.Line2D at 0x28633907bc8>]"
      ]
     },
     "execution_count": 50,
     "metadata": {},
     "output_type": "execute_result"
    }
   ],
   "source": [
    "plt.plot(t,y)"
   ]
  },
  {
   "cell_type": "code",
   "execution_count": null,
   "metadata": {},
   "outputs": [],
   "source": []
  }
 ],
 "metadata": {
  "kernelspec": {
   "display_name": "Python 3",
   "language": "python",
   "name": "python3"
  },
  "language_info": {
   "codemirror_mode": {
    "name": "ipython",
    "version": 3
   },
   "file_extension": ".py",
   "mimetype": "text/x-python",
   "name": "python",
   "nbconvert_exporter": "python",
   "pygments_lexer": "ipython3",
   "version": "3.7.6"
  }
 },
 "nbformat": 4,
 "nbformat_minor": 4
}
