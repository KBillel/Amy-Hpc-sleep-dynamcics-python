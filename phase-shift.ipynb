{
 "cells": [
  {
   "cell_type": "markdown",
   "metadata": {},
   "source": [
    "# Histogram of power of theta in BLA during REM"
   ]
  },
  {
   "cell_type": "code",
   "execution_count": 5,
   "metadata": {},
   "outputs": [],
   "source": [
    "import os\n",
    "\n",
    "import bk.load\n",
    "import bk.compute\n",
    "import bk.plot\n",
    "import bk.signal\n",
    "\n",
    "import numpy as np\n",
    "\n",
    "import scipy.signal\n",
    "import scipy.stats\n",
    "import scipy.io\n",
    "\n",
    "import matplotlib.pyplot as plt\n",
    "import matplotlib as mpl\n",
    "import neuroseries as nts"
   ]
  },
  {
   "cell_type": "code",
   "execution_count": 6,
   "metadata": {},
   "outputs": [],
   "source": [
    "%matplotlib qt"
   ]
  },
  {
   "cell_type": "code",
   "execution_count": 7,
   "metadata": {},
   "outputs": [],
   "source": [
    "COLOR = 'white'\n",
    "mpl.rcParams['text.color'] = COLOR\n",
    "mpl.rcParams['axes.labelcolor'] = COLOR\n",
    "mpl.rcParams['axes.edgecolor'] = COLOR\n",
    "mpl.rcParams['xtick.color'] = COLOR\n",
    "mpl.rcParams['ytick.color'] = COLOR\n",
    "mpl.rcParams['figure.facecolor'] = '#282C34'\n",
    "mpl.rcParams['axes.facecolor'] = '#282C34'"
   ]
  },
  {
   "cell_type": "code",
   "execution_count": 8,
   "metadata": {},
   "outputs": [],
   "source": [
    "path = '/media/billel/GGLab-01-BK/DATA/Rat08-20130713/'\n",
    "os.chdir(path)\n",
    "bk.load.path = path\n",
    "bk.load.rat = 8\n",
    "bk.load.session = 'Rat08-20130713'\n",
    "bk.load.day = 6"
   ]
  },
  {
   "cell_type": "code",
   "execution_count": 9,
   "metadata": {},
   "outputs": [],
   "source": [
    "states = bk.load.states()\n",
    "run = scipy.io.loadmat(bk.load.session + '-TrackRunTimes.mat')['trackruntimes']\n",
    "run = nts.IntervalSet(np.round(run[:,0],decimals = 1),np.round(run[:,1],decimals = 1),time_units='s')\n",
    "theta = {'Rem':states['Rem'],'run':run,'wake':states['wake']}"
   ]
  },
  {
   "cell_type": "code",
   "execution_count": 17,
   "metadata": {},
   "outputs": [],
   "source": [
    "plt.figure()\n",
    "plt.suptitle('Theta PhaseShift')\n",
    "for i,state in enumerate(theta,1):\n",
    "    \n",
    "    lfp_hpc = bk.load.lfp_in_intervals(166,23,theta[state])\n",
    "    lfp_bla = bk.load.lfp_in_intervals(166,105,theta[state])\n",
    "    \n",
    "    filt_hpc = bk.signal.passband(lfp_hpc,4,8)\n",
    "    filt_bla = bk.signal.passband(lfp_bla,4,8)\n",
    "    \n",
    "    power_hpc,phase_hpc = bk.signal.hilbert(filt_hpc,deg = True)\n",
    "    power_bla,phase_bla = bk.signal.hilbert(filt_bla,deg = True)\n",
    "    \n",
    "    plt.subplot(2,3,i)\n",
    "    plt.hist2d(phase_hpc.values+180,phase_bla.values+180,100)\n",
    "    plt.title(f'Theta Phase shift during {state}')\n",
    "    plt.xlabel('hpc_phase')\n",
    "    plt.ylabel('bla_phase')"
   ]
  },
  {
   "cell_type": "code",
   "execution_count": 19,
   "metadata": {},
   "outputs": [],
   "source": [
    "# plt.figure()\n",
    "# plt.suptitle('Spectrograms')\n",
    "\n",
    "for i,state in enumerate(theta,4):\n",
    "    \n",
    "    lfp_hpc = bk.load.lfp_in_intervals(166,23,theta[state])\n",
    "    lfp_bla = bk.load.lfp_in_intervals(166,105,theta[state])\n",
    "    \n",
    "    f,spec_hpc = scipy.signal.welch(lfp_hpc,fs = 1250,nperseg=10000,noverlap=9000)\n",
    "    f,spec_bla = scipy.signal.welch(lfp_bla,fs = 1250,nperseg=10000,noverlap=9000)\n",
    "\n",
    "    plt.subplot(2,3,i)\n",
    "    plt.title(f'Power Spectrum during {state}')\n",
    "    plt.plot(f,spec_hpc)\n",
    "    plt.plot(f,spec_bla)\n",
    "    plt.xlim(0,20)\n",
    "    plt.ylim(0,100000)\n",
    "    plt.legend(['Hpc','BLA'])"
   ]
  },
  {
   "cell_type": "code",
   "execution_count": 36,
   "metadata": {},
   "outputs": [],
   "source": [
    "t = np.arange(0,len(lfp_hpc),1)/1250\n",
    "\n",
    "lfp_bla = bk.load.lfp_in_intervals(166,105,theta['run'])\n",
    "lfp_hpc= bk.load.lfp_in_intervals(166,13,theta['run'])\n",
    "plt.figure()\n",
    "s = plt.subplot(2,1,1)\n",
    "plt.plot(t,lfp_bla.values, c = 'azure')\n",
    "plt.plot(t,bk.signal.passband(lfp_bla,4,8).values,c = 'r')\n",
    "plt.subplot(2,1,2,sharex=s,sharey = s)\n",
    "plt.plot(t,lfp_hpc.values, c = 'azure')\n",
    "plt.plot(t,bk.signal.passband(lfp_hpc,4,8).values,c = 'r')"
   ]
  },
  {
   "cell_type": "code",
   "execution_count": null,
   "metadata": {},
   "outputs": [],
   "source": []
  }
 ],
 "metadata": {
  "kernelspec": {
   "display_name": "Python 3",
   "language": "python",
   "name": "python3"
  },
  "language_info": {
   "codemirror_mode": {
    "name": "ipython",
    "version": 3
   },
   "file_extension": ".py",
   "mimetype": "text/x-python",
   "name": "python",
   "nbconvert_exporter": "python",
   "pygments_lexer": "ipython3",
   "version": "3.7.6"
  }
 },
 "nbformat": 4,
 "nbformat_minor": 4
}
