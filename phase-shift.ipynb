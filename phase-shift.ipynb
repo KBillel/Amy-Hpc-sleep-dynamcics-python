{
 "cells": [
  {
   "cell_type": "markdown",
   "metadata": {},
   "source": [
    "# Histogram of power of theta in BLA during REM"
   ]
  },
  {
   "cell_type": "code",
   "execution_count": 1,
   "metadata": {},
   "outputs": [],
   "source": [
    "import os\n",
    "\n",
    "import bk.load\n",
    "import bk.compute\n",
    "import bk.plot\n",
    "import bk.signal\n",
    "\n",
    "import numpy as np\n",
    "\n",
    "import scipy.signal\n",
    "import scipy.stats\n",
    "import scipy.io\n",
    "\n",
    "import matplotlib.pyplot as plt\n",
    "import matplotlib as mpl\n",
    "import neuroseries as nts"
   ]
  },
  {
   "cell_type": "code",
   "execution_count": 2,
   "metadata": {},
   "outputs": [],
   "source": [
    "%matplotlib qt"
   ]
  },
  {
   "cell_type": "code",
   "execution_count": 3,
   "metadata": {},
   "outputs": [],
   "source": [
    "COLOR = 'white'\n",
    "mpl.rcParams['text.color'] = COLOR\n",
    "mpl.rcParams['axes.labelcolor'] = COLOR\n",
    "mpl.rcParams['axes.edgecolor'] = COLOR\n",
    "mpl.rcParams['xtick.color'] = COLOR\n",
    "mpl.rcParams['ytick.color'] = COLOR\n",
    "mpl.rcParams['figure.facecolor'] = '#282C34'\n",
    "mpl.rcParams['axes.facecolor'] = '#282C34'"
   ]
  },
  {
   "cell_type": "code",
   "execution_count": 8,
   "metadata": {},
   "outputs": [],
   "source": [
    "path = '/media/billel/GGLab-01-BK/DATA/Rat08-20130713/'\n",
    "os.chdir(path)\n",
    "bk.load.path = path\n",
    "bk.load.rat = 8\n",
    "bk.load.session = 'Rat08-20130713'\n",
    "bk.load.day = 6"
   ]
  },
  {
   "cell_type": "code",
   "execution_count": 4,
   "metadata": {},
   "outputs": [
    {
     "name": "stdout",
     "output_type": "stream",
     "text": [
      "Rat : 8 on day : 6\n",
      "Working with session Rat08-20130713 @ Z:\\Rat08\\Rat08-20130713\n"
     ]
    },
    {
     "data": {
      "text/plain": [
       "True"
      ]
     },
     "execution_count": 4,
     "metadata": {},
     "output_type": "execute_result"
    }
   ],
   "source": [
    "bk.load.current_session()"
   ]
  },
  {
   "cell_type": "code",
   "execution_count": 5,
   "metadata": {},
   "outputs": [],
   "source": [
    "states = bk.load.states()\n",
    "run = scipy.io.loadmat(bk.load.session + '-TrackRunTimes.mat')['trackruntimes']\n",
    "run = nts.IntervalSet(np.round(run[:,0],decimals = 1),np.round(run[:,1],decimals = 1),time_units='s')\n",
    "theta = {'Rem':states['Rem'],'run':run,'wake':states['wake']}"
   ]
  },
  {
   "cell_type": "code",
   "execution_count": 6,
   "metadata": {},
   "outputs": [],
   "source": [
    "plt.figure()\n",
    "plt.suptitle('Theta PhaseShift')\n",
    "for i,state in enumerate(theta,1):\n",
    "    \n",
    "    lfp_hpc = bk.load.lfp_in_intervals(166,23,theta[state])\n",
    "    lfp_bla = bk.load.lfp_in_intervals(166,105,theta[state])\n",
    "    \n",
    "    filt_hpc = bk.signal.passband(lfp_hpc,4,8)\n",
    "    filt_bla = bk.signal.passband(lfp_bla,4,8)\n",
    "    \n",
    "    power_hpc,phase_hpc = bk.signal.hilbert(filt_hpc,deg = True)\n",
    "    power_bla,phase_bla = bk.signal.hilbert(filt_bla,deg = True)\n",
    "    \n",
    "    plt.subplot(2,3,i)\n",
    "    plt.hist2d(phase_hpc.values+180,phase_bla.values+180,100)\n",
    "    plt.title(f'Theta Phase shift during {state}')\n",
    "    plt.xlabel('hpc_phase')\n",
    "    plt.ylabel('bla_phase')"
   ]
  },
  {
   "cell_type": "code",
   "execution_count": 14,
   "metadata": {},
   "outputs": [],
   "source": [
    "# plt.figure()\n",
    "# plt.suptitle('Spectrograms')\n",
    "\n",
    "for i,state in enumerate(theta,4):\n",
    "    \n",
    "    lfp_hpc = bk.load.lfp_in_intervals(166,23,theta[state])\n",
    "    lfp_bla = bk.load.lfp_in_intervals(166,105,theta[state])\n",
    "    \n",
    "    f,spec_hpc = scipy.signal.welch(lfp_hpc,fs = 1250,nperseg=10000,noverlap=9000)\n",
    "    f,spec_bla = scipy.signal.welch(lfp_bla,fs = 1250,nperseg=10000,noverlap=9000)\n",
    "\n",
    "    plt.subplot(2,3,i)\n",
    "    plt.title(f'Power Spectrum during {state}')\n",
    "    plt.plot(f,spec_hpc)\n",
    "    plt.plot(f,spec_bla)\n",
    "    plt.xlim(0,100)\n",
    "    plt.yscale('log')\n",
    "    plt.legend(['Hpc','BLA'])\n"
   ]
  },
  {
   "cell_type": "code",
   "execution_count": 11,
   "metadata": {},
   "outputs": [],
   "source": [
    "t = np.arange(0,len(lfp_hpc),1)/1250\n",
    "\n",
    "lfp_bla = bk.load.lfp_in_intervals(166,105,theta['run'])\n",
    "lfp_hpc= bk.load.lfp_in_intervals(166,13,theta['run'])\n",
    "plt.figure()\n",
    "plt.suptitle('Example LFPs during RUN')\n",
    "s = plt.subplot(2,1,1)\n",
    "plt.title(\"Hpc\")\n",
    "plt.plot(t,lfp_hpc.values, c = 'azure',linewidth = 0.5)\n",
    "plt.plot(t,bk.signal.passband(lfp_hpc,4,8).values,c = 'r')\n",
    "plt.subplot(2,1,2,sharex=s,sharey = s)\n",
    "plt.title('BLA')\n",
    "plt.plot(t,lfp_bla.values, c = 'azure',linewidth = 0.5)\n",
    "plt.plot(t,bk.signal.passband(lfp_bla,4,8).values,c = 'r')\n"
   ]
  },
  {
   "cell_type": "code",
   "execution_count": 9,
   "metadata": {},
   "outputs": [],
   "source": [
    "plt.yscale('log')"
   ]
  },
  {
   "cell_type": "code",
   "execution_count": 28,
   "metadata": {},
   "outputs": [],
   "source": [
    "lfp_hpc = bk.load.lfp_in_intervals(166,23,theta['run'])\n",
    "filt_hpc = bk.signal.passband(lfp_hpc,4,8)\n",
    "power_hpc,phase_hpc = bk.signal.hilbert(filt_hpc,deg = True)"
   ]
  },
  {
   "cell_type": "code",
   "execution_count": 29,
   "metadata": {},
   "outputs": [],
   "source": [
    "lfp_fake = nts.Tsd(lfp_hpc.index.values,np.random.rand(len(lfp_hpc)))\n",
    "filt_fake = bk.signal.passband(lfp_fake,4,8)\n",
    "power_fake,phase_fake = bk.signal.hilbert(filt_fake,deg = True)"
   ]
  },
  {
   "cell_type": "code",
   "execution_count": 43,
   "metadata": {},
   "outputs": [
    {
     "data": {
      "text/plain": [
       "[<matplotlib.lines.Line2D at 0x28606023a08>]"
      ]
     },
     "execution_count": 43,
     "metadata": {},
     "output_type": "execute_result"
    }
   ],
   "source": [
    "s = plt.subplot(2,1,1)\n",
    "plt.plot(lfp_fake.index,lfp_fake.values-np.mean(lfp_fake.values),'azure')\n",
    "plt.plot(filt_fake,'red')\n",
    "plt.subplot(2,1,2,sharex = s)\n",
    "plt.plot(phase_fake)"
   ]
  },
  {
   "cell_type": "code",
   "execution_count": 42,
   "metadata": {},
   "outputs": [
    {
     "data": {
      "text/plain": [
       "(array([[ 99.,  75.,  79., ...,  80.,  87., 101.],\n",
       "        [ 85.,  91.,  92., ...,  88.,  68.,  95.],\n",
       "        [ 98.,  84.,  87., ...,  95.,  84.,  74.],\n",
       "        ...,\n",
       "        [ 88.,  80.,  93., ...,  81.,  74.,  82.],\n",
       "        [ 79.,  86.,  93., ..., 107.,  86.,  76.],\n",
       "        [ 69.,  85.,  85., ...,  97., 105.,  82.]]),\n",
       " array([9.72203992e-04, 3.60096014e+00, 7.20094809e+00, 1.08009360e+01,\n",
       "        1.44009240e+01, 1.80009119e+01, 2.16008998e+01, 2.52008878e+01,\n",
       "        2.88008757e+01, 3.24008637e+01, 3.60008516e+01, 3.96008396e+01,\n",
       "        4.32008275e+01, 4.68008154e+01, 5.04008034e+01, 5.40007913e+01,\n",
       "        5.76007793e+01, 6.12007672e+01, 6.48007551e+01, 6.84007431e+01,\n",
       "        7.20007310e+01, 7.56007190e+01, 7.92007069e+01, 8.28006948e+01,\n",
       "        8.64006828e+01, 9.00006707e+01, 9.36006587e+01, 9.72006466e+01,\n",
       "        1.00800635e+02, 1.04400622e+02, 1.08000610e+02, 1.11600598e+02,\n",
       "        1.15200586e+02, 1.18800574e+02, 1.22400562e+02, 1.26000550e+02,\n",
       "        1.29600538e+02, 1.33200526e+02, 1.36800514e+02, 1.40400502e+02,\n",
       "        1.44000490e+02, 1.47600478e+02, 1.51200466e+02, 1.54800454e+02,\n",
       "        1.58400442e+02, 1.62000430e+02, 1.65600417e+02, 1.69200405e+02,\n",
       "        1.72800393e+02, 1.76400381e+02, 1.80000369e+02, 1.83600357e+02,\n",
       "        1.87200345e+02, 1.90800333e+02, 1.94400321e+02, 1.98000309e+02,\n",
       "        2.01600297e+02, 2.05200285e+02, 2.08800273e+02, 2.12400261e+02,\n",
       "        2.16000249e+02, 2.19600237e+02, 2.23200225e+02, 2.26800212e+02,\n",
       "        2.30400200e+02, 2.34000188e+02, 2.37600176e+02, 2.41200164e+02,\n",
       "        2.44800152e+02, 2.48400140e+02, 2.52000128e+02, 2.55600116e+02,\n",
       "        2.59200104e+02, 2.62800092e+02, 2.66400080e+02, 2.70000068e+02,\n",
       "        2.73600056e+02, 2.77200044e+02, 2.80800032e+02, 2.84400020e+02,\n",
       "        2.88000007e+02, 2.91599995e+02, 2.95199983e+02, 2.98799971e+02,\n",
       "        3.02399959e+02, 3.05999947e+02, 3.09599935e+02, 3.13199923e+02,\n",
       "        3.16799911e+02, 3.20399899e+02, 3.23999887e+02, 3.27599875e+02,\n",
       "        3.31199863e+02, 3.34799851e+02, 3.38399839e+02, 3.41999827e+02,\n",
       "        3.45599815e+02, 3.49199802e+02, 3.52799790e+02, 3.56399778e+02,\n",
       "        3.59999766e+02]),\n",
       " array([4.14976687e-04, 3.60039578e+00, 7.20037658e+00, 1.08003574e+01,\n",
       "        1.44003382e+01, 1.80003190e+01, 2.16002998e+01, 2.52002806e+01,\n",
       "        2.88002614e+01, 3.24002422e+01, 3.60002230e+01, 3.96002038e+01,\n",
       "        4.32001846e+01, 4.68001654e+01, 5.04001462e+01, 5.40001270e+01,\n",
       "        5.76001078e+01, 6.12000886e+01, 6.48000694e+01, 6.84000502e+01,\n",
       "        7.20000310e+01, 7.56000118e+01, 7.91999926e+01, 8.27999734e+01,\n",
       "        8.63999542e+01, 8.99999350e+01, 9.35999158e+01, 9.71998966e+01,\n",
       "        1.00799877e+02, 1.04399858e+02, 1.07999839e+02, 1.11599820e+02,\n",
       "        1.15199801e+02, 1.18799781e+02, 1.22399762e+02, 1.25999743e+02,\n",
       "        1.29599724e+02, 1.33199705e+02, 1.36799685e+02, 1.40399666e+02,\n",
       "        1.43999647e+02, 1.47599628e+02, 1.51199609e+02, 1.54799589e+02,\n",
       "        1.58399570e+02, 1.61999551e+02, 1.65599532e+02, 1.69199513e+02,\n",
       "        1.72799493e+02, 1.76399474e+02, 1.79999455e+02, 1.83599436e+02,\n",
       "        1.87199417e+02, 1.90799397e+02, 1.94399378e+02, 1.97999359e+02,\n",
       "        2.01599340e+02, 2.05199321e+02, 2.08799301e+02, 2.12399282e+02,\n",
       "        2.15999263e+02, 2.19599244e+02, 2.23199225e+02, 2.26799205e+02,\n",
       "        2.30399186e+02, 2.33999167e+02, 2.37599148e+02, 2.41199129e+02,\n",
       "        2.44799109e+02, 2.48399090e+02, 2.51999071e+02, 2.55599052e+02,\n",
       "        2.59199033e+02, 2.62799013e+02, 2.66398994e+02, 2.69998975e+02,\n",
       "        2.73598956e+02, 2.77198937e+02, 2.80798917e+02, 2.84398898e+02,\n",
       "        2.87998879e+02, 2.91598860e+02, 2.95198841e+02, 2.98798821e+02,\n",
       "        3.02398802e+02, 3.05998783e+02, 3.09598764e+02, 3.13198745e+02,\n",
       "        3.16798725e+02, 3.20398706e+02, 3.23998687e+02, 3.27598668e+02,\n",
       "        3.31198649e+02, 3.34798629e+02, 3.38398610e+02, 3.41998591e+02,\n",
       "        3.45598572e+02, 3.49198553e+02, 3.52798533e+02, 3.56398514e+02,\n",
       "        3.59998495e+02]),\n",
       " <matplotlib.collections.QuadMesh at 0x28607925048>)"
      ]
     },
     "execution_count": 42,
     "metadata": {},
     "output_type": "execute_result"
    }
   ],
   "source": [
    "plt.hist2d(phase_hpc.values+180,phase_fake.values+180,100)"
   ]
  },
  {
   "cell_type": "code",
   "execution_count": 49,
   "metadata": {},
   "outputs": [],
   "source": [
    "t = np.arange(0,3*np.pi,0.1)\n",
    "y = np.sin(t)\n",
    "y = nts.Tsd(t,y)"
   ]
  },
  {
   "cell_type": "code",
   "execution_count": 50,
   "metadata": {},
   "outputs": [
    {
     "data": {
      "text/plain": [
       "[<matplotlib.lines.Line2D at 0x28633907bc8>]"
      ]
     },
     "execution_count": 50,
     "metadata": {},
     "output_type": "execute_result"
    }
   ],
   "source": [
    "plt.plot(t,y)"
   ]
  },
  {
   "cell_type": "code",
   "execution_count": null,
   "metadata": {},
   "outputs": [],
   "source": []
  }
 ],
 "metadata": {
  "kernelspec": {
   "display_name": "Python 3",
   "language": "python",
   "name": "python3"
  },
  "language_info": {
   "codemirror_mode": {
    "name": "ipython",
    "version": 3
   },
   "file_extension": ".py",
   "mimetype": "text/x-python",
   "name": "python",
   "nbconvert_exporter": "python",
   "pygments_lexer": "ipython3",
   "version": "3.7.6"
  }
 },
 "nbformat": 4,
 "nbformat_minor": 4
}
