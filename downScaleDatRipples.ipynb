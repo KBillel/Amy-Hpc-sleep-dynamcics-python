{
 "cells": [
  {
   "cell_type": "code",
   "execution_count": 1,
   "id": "eaee570e-b312-45a9-976d-f32b1a468fac",
   "metadata": {},
   "outputs": [],
   "source": [
    "import os\n",
    "\n",
    "import bk.load\n",
    "import bk.compute\n",
    "import bk.plot\n",
    "import bk.signal\n",
    "\n",
    "import numpy as np\n",
    "import pandas as pd\n",
    "\n",
    "import scipy.signal\n",
    "import scipy.stats\n",
    "import scipy.io\n",
    "\n",
    "import matplotlib.pyplot as plt\n",
    "import matplotlib as mpl\n",
    "import neuroseries as nts"
   ]
  },
  {
   "cell_type": "code",
   "execution_count": 6,
   "id": "43cce42b-abdd-4ca5-aeab-18d50280ae90",
   "metadata": {},
   "outputs": [],
   "source": [
    "%matplotlib qt"
   ]
  },
  {
   "cell_type": "code",
   "execution_count": 7,
   "id": "997fb1af-ad94-401f-abda-43d00b2de055",
   "metadata": {},
   "outputs": [
    {
     "name": "stdout",
     "output_type": "stream",
     "text": [
      "Rat : 8 on day : 6\n",
      "Working with session Rat08-20130713 @ /home/billel/Data/GG-Dataset/Rat08/Rat08-20130713\n"
     ]
    },
    {
     "data": {
      "text/plain": [
       "True"
      ]
     },
     "execution_count": 7,
     "metadata": {},
     "output_type": "execute_result"
    }
   ],
   "source": [
    "bk.load.current_session_linux()"
   ]
  },
  {
   "cell_type": "code",
   "execution_count": 11,
   "id": "6dd18be2-6812-4ee2-861a-5884d66ea3b9",
   "metadata": {},
   "outputs": [],
   "source": [
    "ripples = bk.load.ripples()\n",
    "lfp = bk.load.lfp(29,1500+20,1500+50,dat=True,frequency = 20_000)\n",
    "# lfp_dat = bk.load.lfp(29,1500+20,1500+50,dat=True)\n",
    "interval = nts.IntervalSet(1500+20,1500+50,time_units='s')\n",
    "rip = ripples['peak'].restrict(interval).as_units('s').index.values"
   ]
  },
  {
   "cell_type": "code",
   "execution_count": 12,
   "id": "f1bc4cc3-0f63-4d90-85aa-32474596ea81",
   "metadata": {},
   "outputs": [],
   "source": [
    "lfp_f = bk.signal.passband(lfp,150,1250,fs = 20_000)"
   ]
  },
  {
   "cell_type": "code",
   "execution_count": 13,
   "id": "dc3ecf94-1d4d-48ea-97ec-007a9b9797f2",
   "metadata": {},
   "outputs": [],
   "source": [
    "plt.plot(lfp.as_units('s'))\n",
    "plt.plot(lfp_f.as_units('s')[::50])\n",
    "# plt.plot(lfp_dat.as_units('s'))\n",
    "for i in rip:\n",
    "    plt.axvline(i,color = 'Red')"
   ]
  },
  {
   "cell_type": "code",
   "execution_count": 94,
   "id": "760188d7-7db6-47c0-ae8f-91de34b0315d",
   "metadata": {},
   "outputs": [
    {
     "data": {
      "text/plain": [
       "200.0"
      ]
     },
     "execution_count": 94,
     "metadata": {},
     "output_type": "execute_result"
    }
   ],
   "source": [
    "20000/100"
   ]
  },
  {
   "cell_type": "markdown",
   "id": "244cc044-4c93-4465-b402-920a3bd17321",
   "metadata": {},
   "source": [
    "## "
   ]
  }
 ],
 "metadata": {
  "kernelspec": {
   "display_name": "Python 3",
   "language": "python",
   "name": "python3"
  },
  "language_info": {
   "codemirror_mode": {
    "name": "ipython",
    "version": 3
   },
   "file_extension": ".py",
   "mimetype": "text/x-python",
   "name": "python",
   "nbconvert_exporter": "python",
   "pygments_lexer": "ipython3",
   "version": "3.8.5"
  }
 },
 "nbformat": 4,
 "nbformat_minor": 5
}
