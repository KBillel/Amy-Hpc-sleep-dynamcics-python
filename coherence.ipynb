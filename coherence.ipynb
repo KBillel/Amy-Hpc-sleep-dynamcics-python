{
 "cells": [
  {
   "cell_type": "code",
   "execution_count": 55,
   "metadata": {},
   "outputs": [],
   "source": [
    "import seaborn as sns\n",
    "import basefunction.anass_load as at\n",
    "import basefunction.vBaseFunctions3 as vbf\n",
    "import bk.compute\n",
    "import bk.signal\n",
    "import bk.plot\n",
    "import bk.load\n",
    "import basefunction.assembly as assembly\n",
    "import numpy as np\n",
    "import pandas as pd\n",
    "import neuroseries as nts\n",
    "import scipy.io\n",
    "\n",
    "import pickle\n",
    "\n",
    "import time\n",
    "import matplotlib.pyplot as plt\n",
    "\n",
    "plt.rcParams['svg.fonttype'] = 'none'\n",
    "plt.style.use('ggplot')\n",
    "\n",
    "%matplotlib qt"
   ]
  },
  {
   "cell_type": "code",
   "execution_count": 17,
   "metadata": {},
   "outputs": [],
   "source": [
    "def main(base_folder, local_path, *args, **kwargs):\n",
    "    bk.load.current_session_linux(base_folder, local_path)\n",
    "    states = bk.load.states()\n",
    "    chan = {'left': bk.load.bla_channels()['left'],\n",
    "            'right': bk.load.bla_channels()['right']}\n",
    "    if np.isnan(chan['left']) or np.isnan(chan['right']):\n",
    "        return False\n",
    "    \n",
    "    Cxy = {}\n",
    "    for state in ['sws','Rem']:\n",
    "        lfp = {}\n",
    "        for side in ['left','right']: lfp[side] = bk.load.lfp_in_intervals(bk.load.bla_channels()[side],states[state])\n",
    "        f,Cxy[state] = scipy.signal.coherence(lfp['left'],lfp['right'],nperseg=10_000,noverlap=5_000,fs = 1250)\n",
    "\n",
    "    return f,Cxy"
   ]
  },
  {
   "cell_type": "code",
   "execution_count": 19,
   "metadata": {},
   "outputs": [
    {
     "name": "stderr",
     "output_type": "stream",
     "text": [
      "100%|██████████| 61/61 [1:10:34<00:00, 69.41s/it]"
     ]
    },
    {
     "name": "stdout",
     "output_type": "stream",
     "text": [
      "Batch finished in 4234.295715808868\n",
      "Some session were not processed correctly\n",
      "['Rat08-20130720', 'Rat08-20130722', 'Rat09-20140407', 'Rat09-20140408', 'Rat09-20140409', 'Rat11-20150402', 'Rat11-20150403']\n",
      "11.475409836065573 %\n"
     ]
    },
    {
     "name": "stderr",
     "output_type": "stream",
     "text": [
      "\n"
     ]
    }
   ],
   "source": [
    "meta, batch = bk.load.batch(main)"
   ]
  },
  {
   "cell_type": "code",
   "execution_count": 28,
   "metadata": {},
   "outputs": [],
   "source": [
    "def merge(batch):\n",
    "    Cxy = {'sws':[],\n",
    "            'Rem':[]}\n",
    "    for sess,b in batch.items():\n",
    "        if not b:\n",
    "            continue\n",
    "        f = b[0]\n",
    "        Cxy['sws'].append(b[1]['sws'])\n",
    "        Cxy['Rem'].append(b[1]['Rem'])\n",
    "    return f,Cxy"
   ]
  },
  {
   "cell_type": "code",
   "execution_count": 30,
   "metadata": {},
   "outputs": [],
   "source": [
    "f,Cxy = merge(meta)"
   ]
  },
  {
   "cell_type": "code",
   "execution_count": 34,
   "metadata": {},
   "outputs": [],
   "source": [
    "y = np.array(Cxy['sws'])"
   ]
  },
  {
   "cell_type": "code",
   "execution_count": 45,
   "metadata": {},
   "outputs": [],
   "source": [
    "def plot(f,Cxy,st,ax = None):\n",
    "    bk.plot.confidence_intervals(f,Cxy,st,ax)"
   ]
  },
  {
   "cell_type": "code",
   "execution_count": 57,
   "metadata": {},
   "outputs": [
    {
     "data": {
      "text/plain": [
       "Text(0.5, 1.0, 'Coherence between Left and Right BLA')"
      ]
     },
     "execution_count": 57,
     "metadata": {},
     "output_type": "execute_result"
    }
   ],
   "source": [
    "fig,ax = plt.subplots(1,1)\n",
    "plot(f,Cxy['sws'],'grey',ax)\n",
    "plot(f,Cxy['Rem'],'orange',ax)\n",
    "plt.xlim(0,120)\n",
    "plt.ylim(0,1)\n",
    "\n",
    "plt.ylabel('Coherence Cxy')\n",
    "plt.xlabel('Frequency (Hz)')\n",
    "plt.title('Coherence between Left and Right BLA')"
   ]
  },
  {
   "cell_type": "code",
   "execution_count": null,
   "metadata": {},
   "outputs": [],
   "source": []
  }
 ],
 "metadata": {
  "kernelspec": {
   "display_name": "Python 3.9.7 ('base')",
   "language": "python",
   "name": "python3"
  },
  "language_info": {
   "codemirror_mode": {
    "name": "ipython",
    "version": 3
   },
   "file_extension": ".py",
   "mimetype": "text/x-python",
   "name": "python",
   "nbconvert_exporter": "python",
   "pygments_lexer": "ipython3",
   "version": "3.9.7"
  },
  "orig_nbformat": 4,
  "vscode": {
   "interpreter": {
    "hash": "dc93b3fb48dfd2593d4a40b397dc62a97606514bfa701f6565ff70ef36514844"
   }
  }
 },
 "nbformat": 4,
 "nbformat_minor": 2
}
