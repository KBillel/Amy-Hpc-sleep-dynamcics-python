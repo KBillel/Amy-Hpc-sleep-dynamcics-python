{
 "cells": [
  {
   "cell_type": "code",
   "execution_count": null,
   "metadata": {},
   "outputs": [],
   "source": [
    "import sys\n",
    "import itertools\n",
    "\n",
    "import numpy as np\n",
    "import pandas as pd\n",
    "import scipy.signal\n",
    "from scipy.signal import savgol_filter\n",
    "\n",
    "\n",
    "import neuroseries as nts\n",
    "\n",
    "from progressbar import ProgressBar\n",
    "\n",
    "import time\n",
    "import matplotlib.pyplot as plt\n",
    "%matplotlib qt\n",
    "\n",
    "import seaborn as sns \n",
    "import bk.load\n",
    "import bk.compute\n",
    "import bk.plot\n",
    "\n",
    "import basefunction.anass_load as at\n",
    "%run spatialInfo.ipynb"
   ]
  },
  {
   "cell_type": "code",
   "execution_count": 5,
   "metadata": {},
   "outputs": [
    {
     "name": "stdout",
     "output_type": "stream",
     "text": [
      "Rat : 8 on day : 9\n",
      "Working with session Rat08-20130717 @ Z:\\Rat08\\Rat08-20130717\n",
      "Data already saved in Numpy format, loading them from here:\n",
      "Rat08-20130717-neurons.npy\n",
      "Rat08-20130717-metadata.npy\n"
     ]
    }
   ],
   "source": [
    "bk.load.current_session('Z:\\Rat08\\Rat08-20130717')\n",
    "neurons,metadata = bk.load.loadSpikeData(bk.load.path)"
   ]
  },
  {
   "cell_type": "code",
   "execution_count": 6,
   "metadata": {},
   "outputs": [],
   "source": [
    "laps = {}\n",
    "danger = scipy.io.loadmat('Rat08-20130717-LapType.mat')['aplaps'][0][0][0]\n",
    "safe = scipy.io.loadmat('Rat08-20130717-LapType.mat')['safelaps'][0][0][0]\n",
    "\n",
    "danger = nts.IntervalSet(danger[:,0],danger[:,1],time_units='s')\n",
    "safe = nts.IntervalSet(safe[:,0],safe[:,1],time_units='s')\n",
    "\n",
    "laps.update({'danger':danger,'safe':safe})"
   ]
  },
  {
   "cell_type": "code",
   "execution_count": 7,
   "metadata": {},
   "outputs": [],
   "source": [
    "binned,times = bk.compute.binSpikes(neurons,1)\n",
    "times = nts.Ts(times,time_units='s')\n",
    "\n",
    "mean = {}\n",
    "activity = {}\n",
    "for lap in laps:\n",
    "    b = laps[lap].in_interval(times)\n",
    "    activity.update({lap:binned[:,b>=0]})\n",
    "    mean.update({lap:np.mean(activity[lap],1)})\n",
    "\n",
    "pval = scipy.stats.ttest_ind(activity['danger'],activity['safe'],1).pvalue"
   ]
  },
  {
   "cell_type": "code",
   "execution_count": 25,
   "metadata": {},
   "outputs": [],
   "source": [
    "hpc_neurons = neurons[(metadata.Region == 'Hpc') & (metadata.Type == 'Pyr')]\n",
    "bla_neurons = neurons[(metadata.Region == 'BLA') & (metadata.Type == 'Pyr')]"
   ]
  },
  {
   "cell_type": "code",
   "execution_count": 10,
   "metadata": {},
   "outputs": [
    {
     "name": "stderr",
     "output_type": "stream",
     "text": [
      "C:\\ProgramData\\Anaconda3\\lib\\site-packages\\ipykernel_launcher.py:3: RuntimeWarning: More than 20 figures have been opened. Figures created through the pyplot interface (`matplotlib.pyplot.figure`) are retained until explicitly closed and may consume too much memory. (To control this warning, see the rcParam `figure.max_open_warning`).\n",
      "  This is separate from the ipykernel package so we can avoid doing imports until\n"
     ]
    }
   ],
   "source": [
    "for i in range(pval.shape[0]):\n",
    "    if (mean['danger'][i]>mean['safe'][i]) and pval[i]<0.05:\n",
    "        plt.figure()\n",
    "        plt.title('#'+str(i)+metadata.Region[i])\n",
    "        plt.plot(activity['danger'][i])\n",
    "        plt.plot(activity['safe'][i])"
   ]
  },
  {
   "cell_type": "code",
   "execution_count": 26,
   "metadata": {},
   "outputs": [],
   "source": [
    "b,t = bk.compute.binSpikes(bla_neurons,0.25)"
   ]
  },
  {
   "cell_type": "code",
   "execution_count": 55,
   "metadata": {},
   "outputs": [],
   "source": [
    "g = scipy.signal.gaussian(100,25)\n",
    "g = g/g.sum()"
   ]
  },
  {
   "cell_type": "code",
   "execution_count": 56,
   "metadata": {},
   "outputs": [],
   "source": [
    "mask = [2,3,7,9]\n",
    "plt.figure()\n",
    "# bk.plot.rasterPlot(bla_neurons[[5,14]],np.array([[9000,12000]]),'black',0.1,.2,.3)\n",
    "for i in mask:\n",
    "    plt.plot(t,np.convolve(b[i],g,'same'))\n",
    "bk.plot.intervals(laps['danger'],col='r')\n",
    "bk.plot.intervals(laps['safe'],col='g')"
   ]
  },
  {
   "cell_type": "code",
   "execution_count": 104,
   "metadata": {},
   "outputs": [
    {
     "data": {
      "text/plain": [
       "42"
      ]
     },
     "execution_count": 104,
     "metadata": {},
     "output_type": "execute_result"
    }
   ],
   "source": [
    "np.sum(mean['danger']>mean['safe'])"
   ]
  },
  {
   "cell_type": "code",
   "execution_count": 117,
   "metadata": {},
   "outputs": [
    {
     "data": {
      "text/plain": [
       "0.9240973692265089"
      ]
     },
     "execution_count": 117,
     "metadata": {},
     "output_type": "execute_result"
    }
   ],
   "source": [
    "pval.pvalue"
   ]
  },
  {
   "cell_type": "code",
   "execution_count": 43,
   "metadata": {},
   "outputs": [
    {
     "data": {
      "text/html": [
       "<div>\n",
       "<style scoped>\n",
       "    .dataframe tbody tr th:only-of-type {\n",
       "        vertical-align: middle;\n",
       "    }\n",
       "\n",
       "    .dataframe tbody tr th {\n",
       "        vertical-align: top;\n",
       "    }\n",
       "\n",
       "    .dataframe thead th {\n",
       "        text-align: right;\n",
       "    }\n",
       "</style>\n",
       "<table border=\"1\" class=\"dataframe\">\n",
       "  <thead>\n",
       "    <tr style=\"text-align: right;\">\n",
       "      <th></th>\n",
       "      <th>start</th>\n",
       "      <th>end</th>\n",
       "    </tr>\n",
       "  </thead>\n",
       "  <tbody>\n",
       "    <tr>\n",
       "      <th>0</th>\n",
       "      <td>18.227200</td>\n",
       "      <td>37.862400</td>\n",
       "    </tr>\n",
       "    <tr>\n",
       "      <th>1</th>\n",
       "      <td>67.712000</td>\n",
       "      <td>70.528000</td>\n",
       "    </tr>\n",
       "    <tr>\n",
       "      <th>2</th>\n",
       "      <td>101.427200</td>\n",
       "      <td>104.345600</td>\n",
       "    </tr>\n",
       "    <tr>\n",
       "      <th>3</th>\n",
       "      <td>128.614399</td>\n",
       "      <td>131.430399</td>\n",
       "    </tr>\n",
       "    <tr>\n",
       "      <th>4</th>\n",
       "      <td>177.664000</td>\n",
       "      <td>180.352000</td>\n",
       "    </tr>\n",
       "    <tr>\n",
       "      <th>5</th>\n",
       "      <td>9410.355200</td>\n",
       "      <td>9416.473600</td>\n",
       "    </tr>\n",
       "    <tr>\n",
       "      <th>6</th>\n",
       "      <td>9556.172800</td>\n",
       "      <td>9561.497600</td>\n",
       "    </tr>\n",
       "    <tr>\n",
       "      <th>7</th>\n",
       "      <td>9814.016000</td>\n",
       "      <td>9823.897600</td>\n",
       "    </tr>\n",
       "    <tr>\n",
       "      <th>8</th>\n",
       "      <td>10420.684800</td>\n",
       "      <td>10436.480000</td>\n",
       "    </tr>\n",
       "    <tr>\n",
       "      <th>9</th>\n",
       "      <td>10538.214400</td>\n",
       "      <td>10560.358400</td>\n",
       "    </tr>\n",
       "    <tr>\n",
       "      <th>10</th>\n",
       "      <td>10749.900800</td>\n",
       "      <td>10754.969600</td>\n",
       "    </tr>\n",
       "    <tr>\n",
       "      <th>11</th>\n",
       "      <td>10986.316800</td>\n",
       "      <td>10993.638400</td>\n",
       "    </tr>\n",
       "    <tr>\n",
       "      <th>12</th>\n",
       "      <td>11269.708800</td>\n",
       "      <td>11279.897600</td>\n",
       "    </tr>\n",
       "    <tr>\n",
       "      <th>13</th>\n",
       "      <td>11402.009600</td>\n",
       "      <td>11422.028800</td>\n",
       "    </tr>\n",
       "    <tr>\n",
       "      <th>14</th>\n",
       "      <td>12157.593600</td>\n",
       "      <td>12161.100800</td>\n",
       "    </tr>\n",
       "    <tr>\n",
       "      <th>15</th>\n",
       "      <td>22473.548800</td>\n",
       "      <td>22476.851200</td>\n",
       "    </tr>\n",
       "    <tr>\n",
       "      <th>16</th>\n",
       "      <td>22509.004800</td>\n",
       "      <td>22511.385600</td>\n",
       "    </tr>\n",
       "    <tr>\n",
       "      <th>17</th>\n",
       "      <td>22542.668800</td>\n",
       "      <td>22545.408000</td>\n",
       "    </tr>\n",
       "    <tr>\n",
       "      <th>18</th>\n",
       "      <td>22575.232000</td>\n",
       "      <td>22578.048000</td>\n",
       "    </tr>\n",
       "    <tr>\n",
       "      <th>19</th>\n",
       "      <td>22601.676800</td>\n",
       "      <td>22604.211200</td>\n",
       "    </tr>\n",
       "    <tr>\n",
       "      <th>20</th>\n",
       "      <td>22626.329600</td>\n",
       "      <td>22628.736000</td>\n",
       "    </tr>\n",
       "    <tr>\n",
       "      <th>21</th>\n",
       "      <td>22651.827200</td>\n",
       "      <td>22654.182400</td>\n",
       "    </tr>\n",
       "  </tbody>\n",
       "</table>\n",
       "</div>"
      ],
      "text/plain": [
       "           start           end\n",
       "0      18.227200     37.862400\n",
       "1      67.712000     70.528000\n",
       "2     101.427200    104.345600\n",
       "3     128.614399    131.430399\n",
       "4     177.664000    180.352000\n",
       "5    9410.355200   9416.473600\n",
       "6    9556.172800   9561.497600\n",
       "7    9814.016000   9823.897600\n",
       "8   10420.684800  10436.480000\n",
       "9   10538.214400  10560.358400\n",
       "10  10749.900800  10754.969600\n",
       "11  10986.316800  10993.638400\n",
       "12  11269.708800  11279.897600\n",
       "13  11402.009600  11422.028800\n",
       "14  12157.593600  12161.100800\n",
       "15  22473.548800  22476.851200\n",
       "16  22509.004800  22511.385600\n",
       "17  22542.668800  22545.408000\n",
       "18  22575.232000  22578.048000\n",
       "19  22601.676800  22604.211200\n",
       "20  22626.329600  22628.736000\n",
       "21  22651.827200  22654.182400"
      ]
     },
     "execution_count": 43,
     "metadata": {},
     "output_type": "execute_result"
    }
   ],
   "source": [
    "laps['safe'].as_units('s')"
   ]
  },
  {
   "cell_type": "code",
   "execution_count": 33,
   "metadata": {},
   "outputs": [
    {
     "data": {
      "text/plain": [
       "154.7776"
      ]
     },
     "execution_count": 33,
     "metadata": {},
     "output_type": "execute_result"
    }
   ],
   "source": [
    "laps['safe'].tot_length(time_units='s')"
   ]
  },
  {
   "cell_type": "code",
   "execution_count": 12,
   "metadata": {},
   "outputs": [],
   "source": [
    "pos = bk.load.pos()"
   ]
  },
  {
   "cell_type": "code",
   "execution_count": 24,
   "metadata": {},
   "outputs": [
    {
     "name": "stderr",
     "output_type": "stream",
     "text": [
      "C:\\ProgramData\\Anaconda3\\lib\\site-packages\\ipykernel_launcher.py:29: RuntimeWarning: More than 20 figures have been opened. Figures created through the pyplot interface (`matplotlib.pyplot.figure`) are retained until explicitly closed and may consume too much memory. (To control this warning, see the rcParam `figure.max_open_warning`).\n"
     ]
    }
   ],
   "source": [
    "for n,i in enumerate(hpc_neurons):\n",
    "    i = i.restrict(laps['safe'])\n",
    "    computeRateMap(i,pos,50,20,plot = True)\n",
    "    plt.suptitle('#'+str(n))"
   ]
  },
  {
   "cell_type": "code",
   "execution_count": 30,
   "metadata": {},
   "outputs": [],
   "source": [
    "for n,i in enumerate(bla_neurons):\n",
    "    \n",
    "    if n == 5:\n",
    "        i = i.restrict(laps['danger'])\n",
    "        computeRateMap(i,pos,50,20,plot = True)\n",
    "        plt.suptitle('#'+str(n))\n",
    "        plt.show()"
   ]
  },
  {
   "cell_type": "code",
   "execution_count": null,
   "metadata": {},
   "outputs": [],
   "source": []
  }
 ],
 "metadata": {
  "kernelspec": {
   "display_name": "Python 3",
   "language": "python",
   "name": "python3"
  },
  "language_info": {
   "codemirror_mode": {
    "name": "ipython",
    "version": 3
   },
   "file_extension": ".py",
   "mimetype": "text/x-python",
   "name": "python",
   "nbconvert_exporter": "python",
   "pygments_lexer": "ipython3",
   "version": "3.7.6"
  }
 },
 "nbformat": 4,
 "nbformat_minor": 4
}
