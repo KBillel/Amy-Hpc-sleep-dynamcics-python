{
 "cells": [
  {
   "cell_type": "code",
   "execution_count": 1,
   "id": "7064ca30-0589-4008-87a2-4e011868358e",
   "metadata": {},
   "outputs": [],
   "source": [
    "import sys\n",
    "import itertools\n",
    "\n",
    "import numpy as np\n",
    "import pandas as pd\n",
    "import scipy.signal\n",
    "from scipy.signal import savgol_filter\n",
    "from scipy.stats import zscore\n",
    "\n",
    "from tqdm import tqdm\n",
    "\n",
    "import neuroseries as nts\n",
    "\n",
    "\n",
    "import time\n",
    "import matplotlib.pyplot as plt\n",
    "# %matplotlib qt\n",
    "\n",
    "import seaborn as sns \n",
    "import bk.load\n",
    "import bk.compute\n",
    "import bk.plot\n",
    "\n",
    "import os\n",
    "%load_ext memory_profiler\n",
    "import cProfile"
   ]
  },
  {
   "cell_type": "code",
   "execution_count": 2,
   "id": "b1a3eb45-5633-450a-8c68-5f22af55dd0f",
   "metadata": {},
   "outputs": [],
   "source": [
    "import matplotlib as mpl\n",
    "COLOR = 'white'\n",
    "# mpl.rcParams['text.color'] = COLOR\n",
    "# mpl.rcParams['axes.labelcolor'] = COLOR\n",
    "# mpl.rcParams['axes.edgecolor'] = COLOR\n",
    "# mpl.rcParams['xtick.color'] = COLOR\n",
    "# mpl.rcParams['ytick.color'] = COLOR\n",
    "# mpl.rcParams['figure.facecolor'] = '#282C34'\n",
    "# mpl.rcParams['axes.facecolor'] = '#282C34'\n",
    "mpl.rcParams['svg.fonttype'] = 'none'\n",
    "mpl.rcParams['font.family'] = 'Sawasdee'\n",
    "# %matplotlib qt"
   ]
  },
  {
   "cell_type": "code",
   "execution_count": 126,
   "id": "b26a4743-d038-4296-8189-60b257bcde17",
   "metadata": {},
   "outputs": [],
   "source": [
    "def plot_data(lfp,neurons,metadata,region,window):\n",
    "    \n",
    "    t_start = window[0]\n",
    "    t_end = window[1]\n",
    "    intervals = nts.IntervalSet(t_start,t_end,time_units='s')\n",
    "    \n",
    "    ripples = bk.load.ripples()\n",
    "    \n",
    "    t_pop,p = population_rates(neurons[(metadata.Region == 'BLA') & (metadata.Type == 'Int')],0.050,t_start,t_end)\n",
    "    lfp_state = lfp.restrict(intervals)\n",
    "    \n",
    "    \n",
    "    f,t,Sxx = scipy.signal.spectrogram(lfp_state.as_units('s')[t_start:t_end].values,1250,nperseg=250,noverlap=125)\n",
    "    fig,ax = plt.subplot_mosaic('''A\n",
    "                                   C\n",
    "                                   C\n",
    "                                ''',figsize = [12,8])\n",
    "    \n",
    "    ax['A'].plot(lfp_state.as_units('s')[t_start:t_end])\n",
    "    ax['A'].set_ylim([-1000, 1000])\n",
    "    ax['A'].set_xlim([t_start,t_end])\n",
    "    \n",
    "#     plt.sca(ax['B'])\n",
    "#     plt.pcolormesh(t+t_start, f, Sxx, shading='auto')\n",
    "#     plt.xlim([t_start,t_end])\n",
    "#     plt.ylim([0,100])\n",
    "#     plt.clim([0, 5000])\n",
    "    \n",
    "    plt.sca(ax['C'])\n",
    "#     bk.plot.rasterPlot(neurons[(metadata.Region == 'BLA') & (metadata.Type == 'Int')],[t_start,t_end],width=1)\n",
    "    for i,n in enumerate(neurons[(metadata.Region == 'BLA') & (metadata.Type == 'Pyr')]):\n",
    "        t = n.restrict(intervals).as_units('s').index\n",
    "        plt.plot(t,t-t + i,'k|',rasterized = True)\n",
    "\n",
    "    for i,n in enumerate(neurons[(metadata.Region == 'BLA') & (metadata.Type == 'Int')],len(neurons[(metadata.Region == 'BLA') & (metadata.Type == 'Pyr')])):\n",
    "        t = n.restrict(intervals).as_units('s').index\n",
    "        plt.plot(t,t-t + i,'r|',rasterized = True)\n",
    "                         \n",
    "#     for i in ripples['peak'].as_units('s').index:\n",
    "#         plt.axvline(i,color = 'red')\n",
    "    plt.bar(t_pop,p*5,t_pop[1]-t_pop[0],alpha = 0.5)\n",
    "    plt.xlim([t_start,t_end])\n",
    "    \n",
    "    \n",
    "    plt.suptitle('SWS Sleep BLA Shank - 16 Channel - 123')\n",
    "    ax['A'].sharex(ax['C'])\n",
    "    plt.tight_layout()"
   ]
  },
  {
   "cell_type": "code",
   "execution_count": 118,
   "id": "a47e720d-dccd-4de0-9cc8-12ae818381ab",
   "metadata": {},
   "outputs": [],
   "source": [
    "def population_rates(neurons,binSize = 0.025,start=0,end=None):\n",
    "    t,binned = bk.compute.binSpikes(neurons,binSize,start,end)\n",
    "    pop = binned.sum(0)\n",
    "    return t,pop"
   ]
  },
  {
   "cell_type": "code",
   "execution_count": 129,
   "id": "d847739c-e707-456d-b794-f70eb4638ec1",
   "metadata": {},
   "outputs": [
    {
     "name": "stdout",
     "output_type": "stream",
     "text": [
      "Rat : 8 on day : 6\n",
      "Working with session Rat08-20130713 @ /home/billel/Data/GG-Dataset/Rat08/Rat08-20130713\n",
      "Data already saved in Numpy format, loading them from here:\n",
      "Rat08-20130713-neurons.npy\n",
      "Rat08-20130713-metadata.npy\n"
     ]
    }
   ],
   "source": [
    "bk.load.current_session_linux()\n",
    "states = bk.load.states()\n",
    "lfp = bk.load.lfp(bk.load.random_channel('Hpc'),1400,1600)\n",
    "neurons,metadata = bk.load.loadSpikeData(bk.load.path)"
   ]
  },
  {
   "cell_type": "code",
   "execution_count": 130,
   "id": "2837c44d-df93-4816-987d-f5d150aac818",
   "metadata": {},
   "outputs": [
    {
     "name": "stderr",
     "output_type": "stream",
     "text": [
      "/home/billel/anaconda3/lib/python3.8/site-packages/matplotlib/backends/backend_agg.py:238: RuntimeWarning: Glyph 8722 missing from current font.\n",
      "  font.set_text(s, 0.0, flags=flags)\n",
      "/home/billel/anaconda3/lib/python3.8/site-packages/matplotlib/backends/backend_agg.py:201: RuntimeWarning: Glyph 8722 missing from current font.\n",
      "  font.set_text(s, 0, flags=flags)\n"
     ]
    }
   ],
   "source": [
    "plot_data(lfp,neurons,metadata,'Hpc',[1400,1600])"
   ]
  },
  {
   "cell_type": "code",
   "execution_count": 62,
   "id": "9263999e-5256-4cbb-9fef-291346d1937e",
   "metadata": {},
   "outputs": [
    {
     "ename": "UnboundLocalError",
     "evalue": "local variable 'b' referenced before assignment",
     "output_type": "error",
     "traceback": [
      "\u001b[0;31m---------------------------------------------------------------------------\u001b[0m",
      "\u001b[0;31mUnboundLocalError\u001b[0m                         Traceback (most recent call last)",
      "\u001b[0;32m<ipython-input-62-5afa85dc6ebe>\u001b[0m in \u001b[0;36m<module>\u001b[0;34m\u001b[0m\n\u001b[1;32m      5\u001b[0m     \u001b[0mt_end\u001b[0m \u001b[0;34m=\u001b[0m \u001b[0mt_start\u001b[0m \u001b[0;34m+\u001b[0m \u001b[0;36m5\u001b[0m\u001b[0;34m\u001b[0m\u001b[0;34m\u001b[0m\u001b[0m\n\u001b[1;32m      6\u001b[0m \u001b[0;34m\u001b[0m\u001b[0m\n\u001b[0;32m----> 7\u001b[0;31m     \u001b[0mt_pop\u001b[0m\u001b[0;34m,\u001b[0m\u001b[0mp\u001b[0m \u001b[0;34m=\u001b[0m \u001b[0mpopulation_rates\u001b[0m\u001b[0;34m(\u001b[0m\u001b[0mneurons\u001b[0m\u001b[0;34m[\u001b[0m\u001b[0;34m(\u001b[0m\u001b[0mmetadata\u001b[0m\u001b[0;34m.\u001b[0m\u001b[0mRegion\u001b[0m \u001b[0;34m==\u001b[0m \u001b[0;34m'BLA'\u001b[0m\u001b[0;34m)\u001b[0m \u001b[0;34m&\u001b[0m \u001b[0mmetadata\u001b[0m\u001b[0;34m.\u001b[0m\u001b[0mType\u001b[0m \u001b[0;34m==\u001b[0m \u001b[0;34m'Int'\u001b[0m\u001b[0;34m]\u001b[0m\u001b[0;34m,\u001b[0m\u001b[0;36m0.050\u001b[0m\u001b[0;34m,\u001b[0m\u001b[0mt_start\u001b[0m\u001b[0;34m,\u001b[0m\u001b[0mt_end\u001b[0m\u001b[0;34m)\u001b[0m\u001b[0;34m\u001b[0m\u001b[0;34m\u001b[0m\u001b[0m\n\u001b[0m\u001b[1;32m      8\u001b[0m     \u001b[0mlfp_state\u001b[0m \u001b[0;34m=\u001b[0m \u001b[0mlfp\u001b[0m\u001b[0;34m.\u001b[0m\u001b[0mrestrict\u001b[0m\u001b[0;34m(\u001b[0m\u001b[0mintervals\u001b[0m\u001b[0;34m)\u001b[0m\u001b[0;34m\u001b[0m\u001b[0;34m\u001b[0m\u001b[0m\n\u001b[1;32m      9\u001b[0m \u001b[0;34m\u001b[0m\u001b[0m\n",
      "\u001b[0;32m<ipython-input-44-619167635bc5>\u001b[0m in \u001b[0;36mpopulation_rates\u001b[0;34m(neurons, binSize, start, end)\u001b[0m\n\u001b[1;32m      1\u001b[0m \u001b[0;32mdef\u001b[0m \u001b[0mpopulation_rates\u001b[0m\u001b[0;34m(\u001b[0m\u001b[0mneurons\u001b[0m\u001b[0;34m,\u001b[0m\u001b[0mbinSize\u001b[0m \u001b[0;34m=\u001b[0m \u001b[0;36m0.025\u001b[0m\u001b[0;34m,\u001b[0m\u001b[0mstart\u001b[0m\u001b[0;34m=\u001b[0m\u001b[0;36m0\u001b[0m\u001b[0;34m,\u001b[0m\u001b[0mend\u001b[0m\u001b[0;34m=\u001b[0m\u001b[0;32mNone\u001b[0m\u001b[0;34m)\u001b[0m\u001b[0;34m:\u001b[0m\u001b[0;34m\u001b[0m\u001b[0;34m\u001b[0m\u001b[0m\n\u001b[0;32m----> 2\u001b[0;31m     \u001b[0mt\u001b[0m\u001b[0;34m,\u001b[0m\u001b[0mbinned\u001b[0m \u001b[0;34m=\u001b[0m \u001b[0mbk\u001b[0m\u001b[0;34m.\u001b[0m\u001b[0mcompute\u001b[0m\u001b[0;34m.\u001b[0m\u001b[0mbinSpikes\u001b[0m\u001b[0;34m(\u001b[0m\u001b[0mneurons\u001b[0m\u001b[0;34m,\u001b[0m\u001b[0mbinSize\u001b[0m\u001b[0;34m,\u001b[0m\u001b[0mstart\u001b[0m\u001b[0;34m,\u001b[0m\u001b[0mend\u001b[0m\u001b[0;34m)\u001b[0m\u001b[0;34m\u001b[0m\u001b[0;34m\u001b[0m\u001b[0m\n\u001b[0m\u001b[1;32m      3\u001b[0m     \u001b[0mpop\u001b[0m \u001b[0;34m=\u001b[0m \u001b[0mbinned\u001b[0m\u001b[0;34m.\u001b[0m\u001b[0msum\u001b[0m\u001b[0;34m(\u001b[0m\u001b[0;36m0\u001b[0m\u001b[0;34m)\u001b[0m\u001b[0;34m\u001b[0m\u001b[0;34m\u001b[0m\u001b[0m\n\u001b[1;32m      4\u001b[0m     \u001b[0;32mreturn\u001b[0m \u001b[0mt\u001b[0m\u001b[0;34m,\u001b[0m\u001b[0mpop\u001b[0m\u001b[0;34m\u001b[0m\u001b[0;34m\u001b[0m\u001b[0m\n",
      "\u001b[0;32m/mnt/icybox/Python/Billel/bk/compute.py\u001b[0m in \u001b[0;36mbinSpikes\u001b[0;34m(neurons, binSize, start, stop, nbins, fast, centered)\u001b[0m\n\u001b[1;32m    209\u001b[0m \u001b[0;34m\u001b[0m\u001b[0m\n\u001b[1;32m    210\u001b[0m     \u001b[0;32mif\u001b[0m \u001b[0mcentered\u001b[0m\u001b[0;34m:\u001b[0m\u001b[0;34m\u001b[0m\u001b[0;34m\u001b[0m\u001b[0m\n\u001b[0;32m--> 211\u001b[0;31m         \u001b[0mb\u001b[0m \u001b[0;34m=\u001b[0m \u001b[0mnp\u001b[0m\u001b[0;34m.\u001b[0m\u001b[0mconvolve\u001b[0m\u001b[0;34m(\u001b[0m\u001b[0mb\u001b[0m\u001b[0;34m,\u001b[0m\u001b[0;34m[\u001b[0m\u001b[0;36m.5\u001b[0m\u001b[0;34m,\u001b[0m\u001b[0;36m.5\u001b[0m\u001b[0;34m]\u001b[0m\u001b[0;34m,\u001b[0m\u001b[0;34m'same'\u001b[0m\u001b[0;34m)\u001b[0m\u001b[0;34m[\u001b[0m\u001b[0;36m1\u001b[0m\u001b[0;34m:\u001b[0m\u001b[0;34m:\u001b[0m\u001b[0;34m]\u001b[0m\u001b[0;34m\u001b[0m\u001b[0;34m\u001b[0m\u001b[0m\n\u001b[0m\u001b[1;32m    212\u001b[0m     \u001b[0;32mreturn\u001b[0m \u001b[0mb\u001b[0m\u001b[0;34m,\u001b[0m\u001b[0mbinned\u001b[0m\u001b[0;34m\u001b[0m\u001b[0;34m\u001b[0m\u001b[0m\n\u001b[1;32m    213\u001b[0m \u001b[0;34m\u001b[0m\u001b[0m\n",
      "\u001b[0;31mUnboundLocalError\u001b[0m: local variable 'b' referenced before assignment"
     ]
    }
   ],
   "source": [
    "for s,intervals in states.items():\n",
    "    intervals = intervals.drop_short_intervals(5)\n",
    "\n",
    "    t_start = intervals.as_units('s').iloc[0][0]+35\n",
    "    t_end = t_start + 5\n",
    "    \n",
    "    t_pop,p = population_rates(neurons[(metadata.Region == 'BLA') & metadata.Type == 'Int'],0.050,t_start,t_end)\n",
    "    lfp_state = lfp.restrict(intervals)\n",
    "    \n",
    "    \n",
    "    f,t,Sxx = scipy.signal.spectrogram(lfp_state.as_units('s')[t_start:t_end].values,1250,nperseg=250,noverlap=125)\n",
    "    fig,ax = plt.subplot_mosaic('''A\n",
    "                                   B\n",
    "                                   C\n",
    "                                   C\n",
    "                                   C\n",
    "                                ''',figsize = [12,8])\n",
    "    \n",
    "    ax['A'].plot(lfp_state.as_units('s')[t_start:t_end])\n",
    "    ax['A'].set_ylim([-1000, 1000])\n",
    "    ax['A'].set_xlim([t_start,t_end])\n",
    "    \n",
    "#     plt.sca(ax['B'])\n",
    "#     plt.pcolormesh(t+t_start, f, Sxx, shading='auto')\n",
    "#     plt.xlim([t_start,t_end])\n",
    "#     plt.ylim([0,100])\n",
    "#     plt.clim([0, 5000])\n",
    "    \n",
    "    plt.sca(ax['C'])\n",
    "    bk.plot.rasterPlot(neurons[metadata.Region == 'BLA'],[t_start,t_end],width=1)\n",
    "    plt.bar(t_pop,p,t_pop[1]-t_pop[0])\n",
    "    plt.xlim([t_start,t_end])\n",
    "    \n",
    "    \n",
    "    plt.suptitle(s + ' BLA Shank - 16 Channel - 123')\n",
    "    plt.tight_layout()\n",
    "#     plt.savefig(f'/mnt/work/Figures Gabrielle/{s}-BLA-S16C123.png',dpi = 300)"
   ]
  },
  {
   "cell_type": "code",
   "execution_count": null,
   "id": "3e6d5a65-7b50-4bed-b2a8-9af2044e5f9e",
   "metadata": {},
   "outputs": [],
   "source": []
  },
  {
   "cell_type": "code",
   "execution_count": null,
   "id": "4659b7ca-f983-4621-bf5c-fdee37a5e5cb",
   "metadata": {},
   "outputs": [],
   "source": []
  }
 ],
 "metadata": {
  "kernelspec": {
   "display_name": "Python 3",
   "language": "python",
   "name": "python3"
  },
  "language_info": {
   "codemirror_mode": {
    "name": "ipython",
    "version": 3
   },
   "file_extension": ".py",
   "mimetype": "text/x-python",
   "name": "python",
   "nbconvert_exporter": "python",
   "pygments_lexer": "ipython3",
   "version": "3.8.5"
  }
 },
 "nbformat": 4,
 "nbformat_minor": 5
}
