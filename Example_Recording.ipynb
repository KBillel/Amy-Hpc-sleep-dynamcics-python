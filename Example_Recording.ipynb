{
 "cells": [
  {
   "cell_type": "code",
   "execution_count": 10,
   "id": "7064ca30-0589-4008-87a2-4e011868358e",
   "metadata": {},
   "outputs": [
    {
     "name": "stdout",
     "output_type": "stream",
     "text": [
      "The memory_profiler extension is already loaded. To reload it, use:\n",
      "  %reload_ext memory_profiler\n"
     ]
    }
   ],
   "source": [
    "import sys\n",
    "import itertools\n",
    "\n",
    "import numpy as np\n",
    "import pandas as pd\n",
    "import scipy.signal\n",
    "from scipy.signal import savgol_filter\n",
    "from scipy.stats import zscore\n",
    "\n",
    "from tqdm import tqdm\n",
    "\n",
    "import neuroseries as nts\n",
    "\n",
    "\n",
    "import time\n",
    "import matplotlib.pyplot as plt\n",
    "# %matplotlib qt\n",
    "\n",
    "import seaborn as sns \n",
    "import bk.load\n",
    "import bk.compute\n",
    "import bk.plot\n",
    "\n",
    "import os\n",
    "%load_ext memory_profiler\n",
    "import cProfile"
   ]
  },
  {
   "cell_type": "code",
   "execution_count": 11,
   "id": "59573db2-8e36-4463-9e75-d0413b52ea4e",
   "metadata": {},
   "outputs": [],
   "source": [
    "import basefunction.vBaseFunctions3 as vbf"
   ]
  },
  {
   "cell_type": "code",
   "execution_count": 12,
   "id": "3ba44784-aaf4-41f2-9133-dc8d702487e7",
   "metadata": {},
   "outputs": [],
   "source": [
    "def wavelet_spectrogram(lfp,fmin,fmax,nfreq):\n",
    "    f_wv = pow(2,np.linspace(np.log2(fmin),np.log2(fmax),nfreq))\n",
    "    output = vbf.wvSpect(lfp_state.values,f_wv)\n",
    "    \n",
    "    return f_wv,lfp.as_units('s').index.values,output"
   ]
  },
  {
   "cell_type": "code",
   "execution_count": 13,
   "id": "b1a3eb45-5633-450a-8c68-5f22af55dd0f",
   "metadata": {},
   "outputs": [],
   "source": [
    "import matplotlib as mpl\n",
    "COLOR = 'white'\n",
    "# mpl.rcParams['text.color'] = COLOR\n",
    "# mpl.rcParams['axes.labelcolor'] = COLOR\n",
    "# mpl.rcParams['axes.edgecolor'] = COLOR\n",
    "# mpl.rcParams['xtick.color'] = COLOR\n",
    "# mpl.rcParams['ytick.color'] = COLOR\n",
    "# mpl.rcParams['figure.facecolor'] = '#282C34'\n",
    "# mpl.rcParams['axes.facecolor'] = '#282C34'\n",
    "mpl.rcParams['svg.fonttype'] = 'none'\n",
    "mpl.rcParams['font.family'] = 'Sawasdee'\n",
    "# %matplotlib qt"
   ]
  },
  {
   "cell_type": "code",
   "execution_count": 14,
   "id": "b26a4743-d038-4296-8189-60b257bcde17",
   "metadata": {},
   "outputs": [],
   "source": [
    "def plot_data(lfp,neurons,metadata,region,window):\n",
    "    t_start = window[0]\n",
    "    t_end = window[1]\n",
    "    intervals = nts.IntervalSet(t_start,t_end,time_units='s')\n",
    "    \n",
    "    ripples = bk.load.ripples()\n",
    "    \n",
    "    t_pop,p = population_rates(neurons[(metadata.Region == 'BLA') & (metadata.Type == 'Int')],0.01,t_start,t_end)\n",
    "    lfp_state = lfp.restrict(intervals)\n",
    "    \n",
    "    \n",
    "#     f,t,Sxx = scipy.signal.spectrogram(lfp_state.as_units('s')[t_start:t_end].values,1250,nperseg=250,noverlap=125)\n",
    "    \n",
    "    f_wv = pow(2,np.linspace(np.log2(1),np.log2(100),200))\n",
    "\n",
    "    output = vbf.wvSpect(lfp_state.values,f_wv)\n",
    "    fig,ax = plt.subplot_mosaic('''A\n",
    "                                   B\n",
    "                                   B\n",
    "                                   C\n",
    "                                   C\n",
    "                                ''',figsize = [12,8])\n",
    "    \n",
    "    ax['A'].plot(lfp_state.as_units('s')[t_start:t_end])\n",
    "    ax['A'].set_ylim([-1000, 1000])\n",
    "    ax['A'].set_xlim([t_start,t_end])\n",
    "    \n",
    "    plt.sca(ax['B'])\n",
    "#     plt.pcolormesh(t+t_start, f, Sxx, shading='auto')\n",
    "    ax['B'].pcolormesh(lfp_state.as_units('s').index,f_wv,output[0],shading = 'gouraud',vmin = 0,vmax = 500,rasterized = True)\n",
    "\n",
    "    plt.xlim([t_start,t_end])\n",
    "    plt.ylim([0,100])\n",
    "#     plt.clim([0, 5000])\n",
    "    \n",
    "    plt.sca(ax['C'])\n",
    "#     bk.plot.rasterPlot(neurons[(metadata.Region == 'BLA') & (metadata.Type == 'Int')],[t_start,t_end],width=1)\n",
    "    for i,n in enumerate(neurons[(metadata.Region == 'BLA') & (metadata.Type == 'Pyr')]):\n",
    "        t = n.restrict(intervals).as_units('s').index\n",
    "        plt.plot(t,t-t + i,'k|',rasterized = True)\n",
    "\n",
    "    for i,n in enumerate(neurons[(metadata.Region == 'BLA') & (metadata.Type == 'Int')],len(neurons[(metadata.Region == 'BLA') & (metadata.Type == 'Pyr')])):\n",
    "        t = n.restrict(intervals).as_units('s').index\n",
    "        plt.plot(t,t-t + i,'r|',rasterized = True)\n",
    "                         \n",
    "#     for i in ripples['peak'].as_units('s').index:\n",
    "#         plt.axvline(i,color = 'red')\n",
    "    plt.bar(t_pop,p*5,t_pop[1]-t_pop[0],alpha = 0.5)\n",
    "    plt.xlim([t_start,t_end])\n",
    "    \n",
    "    \n",
    "#     plt.suptitle(f'SWS Sleep BLA Shank - 16 Channel - {chan}')\n",
    "    ax['A'].sharex(ax['C'])\n",
    "    plt.tight_layout()"
   ]
  },
  {
   "cell_type": "code",
   "execution_count": 15,
   "id": "a47e720d-dccd-4de0-9cc8-12ae818381ab",
   "metadata": {},
   "outputs": [],
   "source": [
    "def population_rates(neurons,binSize = 0.010,start=0,end=None):\n",
    "    t,binned = bk.compute.binSpikes(neurons,binSize,start,end)\n",
    "    pop = binned.sum(0)\n",
    "    return t,pop"
   ]
  },
  {
   "cell_type": "code",
   "execution_count": 9,
   "id": "d847739c-e707-456d-b794-f70eb4638ec1",
   "metadata": {},
   "outputs": [
    {
     "name": "stdout",
     "output_type": "stream",
     "text": [
      "Rat : 8 on day : 6\n",
      "Working with session Rat08-20130713 @ /home/billel/Data/GG-Dataset/Rat08/Rat08-20130713\n",
      "Data already saved in Numpy format, loading them from here:\n",
      "Rat08-20130713-neurons.npy\n",
      "Rat08-20130713-metadata.npy\n"
     ]
    }
   ],
   "source": [
    "bk.load.current_session_linux()\n",
    "states = bk.load.states()\n",
    "chan = bk.load.random_channel('BLA')\n",
    "lfp = bk.load.lfp(chan,0,5000)\n",
    "neurons,metadata = bk.load.loadSpikeData(bk.load.path)"
   ]
  },
  {
   "cell_type": "code",
   "execution_count": 16,
   "id": "2837c44d-df93-4816-987d-f5d150aac818",
   "metadata": {},
   "outputs": [
    {
     "name": "stdout",
     "output_type": "stream",
     "text": [
      "You are using 0.01 ms bins with the function fast off. Consider using \"Fast = True\" in order to speed up the computations\n"
     ]
    },
    {
     "name": "stderr",
     "output_type": "stream",
     "text": [
      "/home/billel/anaconda3/lib/python3.7/site-packages/matplotlib/backends/backend_agg.py:238: RuntimeWarning: Glyph 8722 missing from current font.\n",
      "  font.set_text(s, 0.0, flags=flags)\n",
      "/home/billel/anaconda3/lib/python3.7/site-packages/matplotlib/backends/backend_agg.py:201: RuntimeWarning: Glyph 8722 missing from current font.\n",
      "  font.set_text(s, 0, flags=flags)\n"
     ]
    }
   ],
   "source": [
    "%matplotlib qt\n",
    "plot_data(lfp,neurons,metadata,'BLA',[1927,1950])\n",
    "plt.suptitle(f'SWS Sleep BLA Shank - 16 Channel - {chan}')\n",
    "plt.tight_layout()"
   ]
  },
  {
   "cell_type": "code",
   "execution_count": 7,
   "id": "9263999e-5256-4cbb-9fef-291346d1937e",
   "metadata": {},
   "outputs": [
    {
     "ename": "NameError",
     "evalue": "name 'states' is not defined",
     "output_type": "error",
     "traceback": [
      "\u001b[0;31m---------------------------------------------------------------------------\u001b[0m",
      "\u001b[0;31mNameError\u001b[0m                                 Traceback (most recent call last)",
      "\u001b[0;32m<ipython-input-7-8dc9842cbd0d>\u001b[0m in \u001b[0;36m<module>\u001b[0;34m\u001b[0m\n\u001b[0;32m----> 1\u001b[0;31m \u001b[0;32mfor\u001b[0m \u001b[0ms\u001b[0m\u001b[0;34m,\u001b[0m\u001b[0mintervals\u001b[0m \u001b[0;32min\u001b[0m \u001b[0mstates\u001b[0m\u001b[0;34m.\u001b[0m\u001b[0mitems\u001b[0m\u001b[0;34m(\u001b[0m\u001b[0;34m)\u001b[0m\u001b[0;34m:\u001b[0m\u001b[0;34m\u001b[0m\u001b[0;34m\u001b[0m\u001b[0m\n\u001b[0m\u001b[1;32m      2\u001b[0m     \u001b[0mintervals\u001b[0m \u001b[0;34m=\u001b[0m \u001b[0mintervals\u001b[0m\u001b[0;34m.\u001b[0m\u001b[0mdrop_short_intervals\u001b[0m\u001b[0;34m(\u001b[0m\u001b[0;36m5\u001b[0m\u001b[0;34m)\u001b[0m\u001b[0;34m\u001b[0m\u001b[0;34m\u001b[0m\u001b[0m\n\u001b[1;32m      3\u001b[0m \u001b[0;34m\u001b[0m\u001b[0m\n\u001b[1;32m      4\u001b[0m     \u001b[0mt_start\u001b[0m \u001b[0;34m=\u001b[0m \u001b[0mintervals\u001b[0m\u001b[0;34m.\u001b[0m\u001b[0mas_units\u001b[0m\u001b[0;34m(\u001b[0m\u001b[0;34m's'\u001b[0m\u001b[0;34m)\u001b[0m\u001b[0;34m.\u001b[0m\u001b[0miloc\u001b[0m\u001b[0;34m[\u001b[0m\u001b[0;36m0\u001b[0m\u001b[0;34m]\u001b[0m\u001b[0;34m[\u001b[0m\u001b[0;36m0\u001b[0m\u001b[0;34m]\u001b[0m\u001b[0;34m+\u001b[0m\u001b[0;36m35\u001b[0m\u001b[0;34m\u001b[0m\u001b[0;34m\u001b[0m\u001b[0m\n\u001b[1;32m      5\u001b[0m     \u001b[0mt_end\u001b[0m \u001b[0;34m=\u001b[0m \u001b[0mt_start\u001b[0m \u001b[0;34m+\u001b[0m \u001b[0;36m5\u001b[0m\u001b[0;34m\u001b[0m\u001b[0;34m\u001b[0m\u001b[0m\n",
      "\u001b[0;31mNameError\u001b[0m: name 'states' is not defined"
     ]
    }
   ],
   "source": [
    "for s,intervals in states.items():\n",
    "    intervals = intervals.drop_short_intervals(5)\n",
    "\n",
    "    t_start = intervals.as_units('s').iloc[0][0]+35\n",
    "    t_end = t_start + 5\n",
    "    t_pop,p = population_rates(neurons[(metadata.Region == 'BLA') & (metadata.Type == 'Int')],0.025,t_start,t_end)\n",
    "    lfp_state = lfp.restrict(intervals)\n",
    "    \n",
    "    \n",
    "    f,t,Sxx = scipy.signal.spectrogram(lfp_state.as_units('s')[t_start:t_end].values,1250,nperseg=250,noverlap=125)\n",
    "    fig,ax = plt.subplot_mosaic('''A\n",
    "                                   B\n",
    "                                   C\n",
    "                                   C\n",
    "                                   C\n",
    "                                ''',figsize = [12,8])\n",
    "    ax['A'].plot(lfp_state.as_units('s')[t_start:t_end])\n",
    "    ax['A'].set_ylim([-1000, 1000])\n",
    "    ax['A'].set_xlim([t_start,t_end])\n",
    "    \n",
    "    plt.sca(ax['B'])\n",
    "    plt.pcolormesh(t+t_start, f, Sxx, shading='auto')\n",
    "    plt.xlim([t_start,t_end])\n",
    "    plt.ylim([0,100])\n",
    "    plt.clim([0, 5000])\n",
    "    \n",
    "    plt.sca(ax['C'])\n",
    "    bk.plot.rasterPlot(neurons[metadata.Region == 'BLA'],[t_start,t_end],width=1)\n",
    "    plt.bar(t_pop,p,t_pop[1]-t_pop[0])\n",
    "    plt.xlim([t_start,t_end])\n",
    "    \n",
    "    \n",
    "    plt.suptitle(s + ' BLA Shank - 16 Channel - 123')\n",
    "    plt.tight_layout()\n",
    "#     plt.savefig(f'/mnt/work/Figures Gabrielle/{s}-BLA-S16C123.png',dpi = 300)"
   ]
  },
  {
   "cell_type": "code",
   "execution_count": null,
   "id": "06a42350-2d4b-48bb-99b2-2c2c1f2b52d4",
   "metadata": {},
   "outputs": [],
   "source": []
  }
 ],
 "metadata": {
  "kernelspec": {
   "display_name": "Python 3",
   "language": "python",
   "name": "python3"
  },
  "language_info": {
   "codemirror_mode": {
    "name": "ipython",
    "version": 3
   },
   "file_extension": ".py",
   "mimetype": "text/x-python",
   "name": "python",
   "nbconvert_exporter": "python",
   "pygments_lexer": "ipython3",
   "version": "3.7.9"
  }
 },
 "nbformat": 4,
 "nbformat_minor": 5
}
