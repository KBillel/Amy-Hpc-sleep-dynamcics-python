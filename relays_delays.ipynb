{
 "cells": [
  {
   "cell_type": "code",
   "execution_count": 50,
   "source": [
    "import numpy as np\n",
    "import matplotlib.pyplot as plt\n",
    "\n",
    "import bk.load\n",
    "import bk.compute\n",
    "import bk.plot"
   ],
   "outputs": [],
   "metadata": {}
  },
  {
   "cell_type": "code",
   "execution_count": 51,
   "source": [
    "data_control = bk.load.digitalin('/mnt/electrophy/Billel/8_channels_relays/arduino_210928_210928_180616/digitalin.dat').T\n",
    "t_control = np.arange(0,len(data_control)/20000,1/20000)\n",
    "\n",
    "data_relay = bk.load.digitalin('/mnt/electrophy/Billel/8_channels_relays/arduino_210928_210928_180101/digitalin.dat').T\n",
    "data_relay[:,15] = ~data_relay[:,15]\n",
    "t_relay = np.arange(0,len(data_relay)/20000,1/20000)"
   ],
   "outputs": [],
   "metadata": {}
  },
  {
   "cell_type": "code",
   "execution_count": 52,
   "source": [
    "fig, ax = plt.subplots(1,2,sharey=True)\n",
    "ax[0].plot(t_control,data_control[:,14])\n",
    "ax[0].plot(t_control,data_control[:,15])\n",
    "\n",
    "ax[1].plot(t_relay, data_relay[:,14])\n",
    "ax[1].plot(t_relay, data_relay[:,15])"
   ],
   "outputs": [
    {
     "output_type": "execute_result",
     "data": {
      "text/plain": [
       "[<matplotlib.lines.Line2D at 0x7fbf22326a60>]"
      ]
     },
     "metadata": {},
     "execution_count": 52
    },
    {
     "output_type": "display_data",
     "data": {
      "image/png": "[encoded data removed]",
      "text/plain": [
       "<Figure size 432x288 with 2 Axes>"
      ]
     },
     "metadata": {
      "needs_background": "light"
     }
    }
   ],
   "metadata": {}
  },
  {
   "cell_type": "code",
   "execution_count": 69,
   "source": [
    "control_logic = bk.compute.TTL_to_intervals(data_control[:,14],as_nts = True)\n",
    "control_shock = bk.compute.TTL_to_intervals(data_control[:,15],as_nts = True)\n",
    "relay_logic = bk.compute.TTL_to_intervals(data_relay[:,14],as_nts = True)\n",
    "relay_shock = bk.compute.TTL_to_intervals(data_relay[:,15],as_nts = True)\n",
    "relay_shock = relay_shock.drop_short_intervals(1,time_units='s').reset_index(drop = True)"
   ],
   "outputs": [
    {
     "output_type": "stream",
     "name": "stderr",
     "text": [
      "/home/billel/pCloudDrive/IFM/work/Code/Python/Billel/neuroseries/interval_set.py:66: UserWarning: some ends precede the relative start\n",
      "  warn(msg, UserWarning)\n"
     ]
    }
   ],
   "metadata": {}
  },
  {
   "cell_type": "code",
   "execution_count": 70,
   "source": [
    "relay_shock"
   ],
   "outputs": [
    {
     "output_type": "execute_result",
     "data": {
      "text/html": [
       "<div>\n",
       "<style scoped>\n",
       "    .dataframe tbody tr th:only-of-type {\n",
       "        vertical-align: middle;\n",
       "    }\n",
       "\n",
       "    .dataframe tbody tr th {\n",
       "        vertical-align: top;\n",
       "    }\n",
       "\n",
       "    .dataframe thead th {\n",
       "        text-align: right;\n",
       "    }\n",
       "</style>\n",
       "<table border=\"1\" class=\"dataframe\">\n",
       "  <thead>\n",
       "    <tr style=\"text-align: right;\">\n",
       "      <th></th>\n",
       "      <th>start</th>\n",
       "      <th>end</th>\n",
       "    </tr>\n",
       "  </thead>\n",
       "  <tbody>\n",
       "    <tr>\n",
       "      <th>0</th>\n",
       "      <td>3431700</td>\n",
       "      <td>4432000</td>\n",
       "    </tr>\n",
       "    <tr>\n",
       "      <th>1</th>\n",
       "      <td>7430700</td>\n",
       "      <td>8430950</td>\n",
       "    </tr>\n",
       "    <tr>\n",
       "      <th>2</th>\n",
       "      <td>11429700</td>\n",
       "      <td>12430300</td>\n",
       "    </tr>\n",
       "    <tr>\n",
       "      <th>3</th>\n",
       "      <td>15428700</td>\n",
       "      <td>16428950</td>\n",
       "    </tr>\n",
       "    <tr>\n",
       "      <th>4</th>\n",
       "      <td>19427650</td>\n",
       "      <td>20428250</td>\n",
       "    </tr>\n",
       "    <tr>\n",
       "      <th>5</th>\n",
       "      <td>23426650</td>\n",
       "      <td>24427000</td>\n",
       "    </tr>\n",
       "    <tr>\n",
       "      <th>6</th>\n",
       "      <td>27425650</td>\n",
       "      <td>28426300</td>\n",
       "    </tr>\n",
       "  </tbody>\n",
       "</table>\n",
       "</div>"
      ],
      "text/plain": [
       "      start       end\n",
       "0   3431700   4432000\n",
       "1   7430700   8430950\n",
       "2  11429700  12430300\n",
       "3  15428700  16428950\n",
       "4  19427650  20428250\n",
       "5  23426650  24427000\n",
       "6  27425650  28426300"
      ]
     },
     "metadata": {},
     "execution_count": 70
    }
   ],
   "metadata": {}
  },
  {
   "cell_type": "code",
   "execution_count": 98,
   "source": [
    "%matplotlib qt\n",
    "figs, ax = plt.subplots(1,2,sharey=True)\n",
    "ax[0].plot(t_control,data_control[:,14])\n",
    "ax[0].plot(t_control,data_control[:,15])\n",
    "\n",
    "ax[0].set_xlim(0,0.100)\n",
    "ax[0].set_title('Control')\n",
    "\n",
    "ax[1].plot(t_relay,data_relay[:,14])\n",
    "ax[1].plot(t_relay,data_relay[:,15])\n",
    "\n",
    "ax[1].set_xlim(0,0.100)\n",
    "ax[1].set_title('Relays')\n",
    "# ax[1].legend(['TTL','Shock'],auto = False)\n"
   ],
   "outputs": [
    {
     "output_type": "execute_result",
     "data": {
      "text/plain": [
       "Text(0.5, 1.0, 'Relays')"
      ]
     },
     "metadata": {},
     "execution_count": 98
    }
   ],
   "metadata": {}
  },
  {
   "cell_type": "code",
   "execution_count": 93,
   "source": [
    "(control_shock.as_units('s').start - control_logic.as_units('s').start)"
   ],
   "outputs": [
    {
     "output_type": "execute_result",
     "data": {
      "text/plain": [
       "0   -0.000049\n",
       "1    0.000000\n",
       "2    0.000000\n",
       "3    0.000000\n",
       "4    0.000000\n",
       "5    0.000000\n",
       "6    0.000000\n",
       "7    0.000000\n",
       "Name: start, dtype: float64"
      ]
     },
     "metadata": {},
     "execution_count": 93
    }
   ],
   "metadata": {}
  },
  {
   "cell_type": "code",
   "execution_count": 86,
   "source": [
    "relay_shock"
   ],
   "outputs": [
    {
     "output_type": "execute_result",
     "data": {
      "text/html": [
       "<div>\n",
       "<style scoped>\n",
       "    .dataframe tbody tr th:only-of-type {\n",
       "        vertical-align: middle;\n",
       "    }\n",
       "\n",
       "    .dataframe tbody tr th {\n",
       "        vertical-align: top;\n",
       "    }\n",
       "\n",
       "    .dataframe thead th {\n",
       "        text-align: right;\n",
       "    }\n",
       "</style>\n",
       "<table border=\"1\" class=\"dataframe\">\n",
       "  <thead>\n",
       "    <tr style=\"text-align: right;\">\n",
       "      <th></th>\n",
       "      <th>start</th>\n",
       "      <th>end</th>\n",
       "    </tr>\n",
       "  </thead>\n",
       "  <tbody>\n",
       "    <tr>\n",
       "      <th>0</th>\n",
       "      <td>3431700</td>\n",
       "      <td>4432000</td>\n",
       "    </tr>\n",
       "    <tr>\n",
       "      <th>1</th>\n",
       "      <td>7430700</td>\n",
       "      <td>8430950</td>\n",
       "    </tr>\n",
       "    <tr>\n",
       "      <th>2</th>\n",
       "      <td>11429700</td>\n",
       "      <td>12430300</td>\n",
       "    </tr>\n",
       "    <tr>\n",
       "      <th>3</th>\n",
       "      <td>15428700</td>\n",
       "      <td>16428950</td>\n",
       "    </tr>\n",
       "    <tr>\n",
       "      <th>4</th>\n",
       "      <td>19427650</td>\n",
       "      <td>20428250</td>\n",
       "    </tr>\n",
       "    <tr>\n",
       "      <th>5</th>\n",
       "      <td>23426650</td>\n",
       "      <td>24427000</td>\n",
       "    </tr>\n",
       "    <tr>\n",
       "      <th>6</th>\n",
       "      <td>27425650</td>\n",
       "      <td>28426300</td>\n",
       "    </tr>\n",
       "  </tbody>\n",
       "</table>\n",
       "</div>"
      ],
      "text/plain": [
       "      start       end\n",
       "0   3431700   4432000\n",
       "1   7430700   8430950\n",
       "2  11429700  12430300\n",
       "3  15428700  16428950\n",
       "4  19427650  20428250\n",
       "5  23426650  24427000\n",
       "6  27425650  28426300"
      ]
     },
     "metadata": {},
     "execution_count": 86
    }
   ],
   "metadata": {}
  },
  {
   "cell_type": "code",
   "execution_count": null,
   "source": [],
   "outputs": [],
   "metadata": {}
  }
 ],
 "metadata": {
  "orig_nbformat": 4,
  "language_info": {
   "name": "python",
   "version": "3.8.5",
   "mimetype": "text/x-python",
   "codemirror_mode": {
    "name": "ipython",
    "version": 3
   },
   "pygments_lexer": "ipython3",
   "nbconvert_exporter": "python",
   "file_extension": ".py"
  },
  "kernelspec": {
   "name": "python3",
   "display_name": "Python 3.8.5 64-bit ('base': conda)"
  },
  "interpreter": {
   "hash": "73338f702f582c88e3f253801a1652f95993fc9c7c4f7716fa5efbce7903fdbf"
  }
 },
 "nbformat": 4,
 "nbformat_minor": 2
}