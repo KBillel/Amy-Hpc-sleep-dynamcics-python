{
 "cells": [
  {
   "cell_type": "code",
   "execution_count": 3,
   "metadata": {},
   "outputs": [],
   "source": [
    "import sys\n",
    "import itertools\n",
    "import os\n",
    "\n",
    "import numpy as np\n",
    "import pandas as pd\n",
    "import scipy\n",
    "from scipy.signal import savgol_filter\n",
    "\n",
    "import neuroseries as nts\n",
    "\n",
    "from progressbar import ProgressBar\n",
    "\n",
    "import time\n",
    "import matplotlib.pyplot as plt\n",
    "\n",
    "\n",
    "import seaborn as sns \n",
    "\n",
    "\n",
    "import bk.load\n",
    "import bk.signal\n",
    "import bk.plot\n",
    "\n",
    "\n",
    "import importlib; \n",
    "importlib.reload(bk.signal)\n",
    "importlib.reload(bk.plot)\n",
    "%matplotlib qt\n",
    "import basefunction.anass_load as at"
   ]
  },
  {
   "cell_type": "code",
   "execution_count": 5,
   "metadata": {},
   "outputs": [],
   "source": [
    "def computeRateMap(neuron,pos,nxbins=10,nybins=10,plot= False):\n",
    "    \n",
    "    \"\"\"\n",
    "        neuron : as Tsd from neuroseries\n",
    "        pos : as Tsd from neuroseries\n",
    "        \n",
    "        output : \n",
    "        rate_map : Ratemap in Hz \n",
    "        spike_count : number of spikes per spatial bin\n",
    "        occupancy : number of pos in spatial bin\n",
    "    \"\"\"\n",
    "    \n",
    "    \n",
    "    dt = scipy.stats.mode(np.diff(pos.as_units('s').index))[0][0]\n",
    "    \n",
    "    pos_spike = pos.realign(neuron)\n",
    "    \n",
    "    xbins = np.linspace(pos.x.min(),pos.x.max()+0.01,nxbins)\n",
    "    ybins = np.linspace(pos.y.min(),pos.y.max()+0.01,nybins)\n",
    "    \n",
    "    spike_count,_,_ = np.histogram2d(pos_spike.y,pos_spike.x,[ybins,xbins])\n",
    "    occupancy,_,_ = np.histogram2d(pos.y,pos.x,[ybins,xbins])\n",
    "    \n",
    "    rate_map = (spike_count/(occupancy+1))/dt\n",
    "    rate_map = pd.DataFrame(index = ybins[0:-1]+np.diff(ybins)/2,columns=xbins[0:-1]+np.diff(xbins)/2, data = rate_map)\n",
    "    \n",
    "    \n",
    "    if plot:\n",
    "        plt.figure()\n",
    "        plt.subplot(211)\n",
    "\n",
    "        plt.plot(pos['x'], pos['y'], alpha = 0.5)\n",
    "        plt.scatter(pos_spike['x'], pos_spike['y'], color = 'red', alpha = 0.5, edgecolor = None)\n",
    "        for i in xbins: plt.axvline(i)\n",
    "        for i in ybins: plt.axhline(i)\n",
    "        plt.xlim(xbins[0], xbins[-1])\n",
    "        plt.ylim(ybins[0], ybins[-1])\n",
    "        plt.subplot(212)\n",
    "        plt.imshow(rate_map, origin = 'lower', aspect= 'auto')\n",
    "        plt.clim([0,10])\n",
    "    \n",
    "    \n",
    "    return rate_map,spike_count,occupancy\n",
    "\n",
    "\n",
    "def spatialInformationScore(spike_count,occupancy):\n",
    "    \n",
    "    \"\"\"\n",
    "        Initial code by KevinAllen\n",
    "        Adapted by BK 2/11/20\n",
    "        \n",
    "        rate_map : number of spike per spatial bin\n",
    "        occupancy : number of position per spatial bin\n",
    "    \"\"\"\n",
    "    \n",
    "    \n",
    "    spike_count = spike_count[occupancy>0]\n",
    "    occupancy = occupancy[occupancy>0]\n",
    "    \n",
    "    rate_map = spike_count/occupancy\n",
    "    \n",
    "    mRate = spike_count.sum()/occupancy.sum()\n",
    "    prob = occupancy/occupancy.sum()\n",
    "    \n",
    "    index = rate_map>0\n",
    "    \n",
    "    info = np.sum(prob[index] * (rate_map[index]/mRate) * np.log2(rate_map[index]/mRate))\n",
    "    return info\n"
   ]
  },
  {
   "cell_type": "code",
   "execution_count": 7,
   "metadata": {},
   "outputs": [
    {
     "name": "stdout",
     "output_type": "stream",
     "text": [
      "Data already saved in Numpy format, loading them from here:\n",
      "Rat08-20130713-neurons.npy\n",
      "Rat08-20130713-metadata.npy\n"
     ]
    }
   ],
   "source": [
    "bk.load.path = '/media/billel/GGLab-01-BK/DATA/Rat08-20130713/'\n",
    "bk.load.session = 'Rat08-20130713'\n",
    "os.chdir(bk.load.path)\n",
    "\n",
    "session = 'Rat08-20130713'\n",
    "neurons,metadata = bk.load.loadSpikeData(bk.load.path)\n",
    "\n",
    "run = scipy.io.loadmat(bk.load.path + 'runintervals.mat')\n",
    "run = nts.IntervalSet(run['runintervals'][:,0],run['runintervals'][:,1],time_units='s')"
   ]
  },
  {
   "cell_type": "code",
   "execution_count": 58,
   "metadata": {
    "jupyter": {
     "source_hidden": true
    }
   },
   "outputs": [
    {
     "name": "stdout",
     "output_type": "stream",
     "text": [
      "Data already saved in Numpy format, loading them from here:\n",
      "Rat08-20130713-neurons.npy\n",
      "Rat08-20130713-metadata.npy\n"
     ]
    }
   ],
   "source": [
    "# path = bk.load.sessions()['Path'][4]\n",
    "# bk.load.current_session(path)\n",
    "\n",
    "os.chdir(bk.load.path)\n",
    "\n",
    "neurons,metadata = bk.load.loadSpikeData(bk.load.path)\n",
    "pos = bk.load.pos()\n",
    "states = bk.load.states()\n",
    "\n",
    "run = scipy.io.loadmat('runintervals.mat')\n",
    "run = nts.IntervalSet(run['runintervals'][:,0],run['runintervals'][:,1],time_units='s')\n",
    "\n",
    "trackrun = scipy.io.loadmat(bk.load.session+'-TrackRunTimes.mat')\n",
    "trackrun = nts.IntervalSet(trackrun['trackruntimes'][:,0],trackrun['trackruntimes'][:,1],time_units='s')\n",
    "\n",
    "pos_run = pos.restrict(run).restrict(trackrun)"
   ]
  },
  {
   "cell_type": "code",
   "execution_count": 8,
   "metadata": {},
   "outputs": [],
   "source": [
    "theta = scipy.io.loadmat('Billel/ThetaMod/ThetaMod.mat')"
   ]
  },
  {
   "cell_type": "code",
   "execution_count": 9,
   "metadata": {},
   "outputs": [],
   "source": [
    "for s,i in zip(metadata['Shank'],metadata['Id']):\n",
    "    index = np.all([s,i] == theta['metadata'][:,2:4],1)\n",
    "    if not np.any(index):\n",
    "        print(s,i)"
   ]
  },
  {
   "cell_type": "code",
   "execution_count": 54,
   "metadata": {},
   "outputs": [
    {
     "ename": "IndexError",
     "evalue": "index 1 is out of bounds for axis 1 with size 1",
     "output_type": "error",
     "traceback": [
      "\u001b[0;31m---------------------------------------------------------------------------\u001b[0m",
      "\u001b[0;31mIndexError\u001b[0m                                Traceback (most recent call last)",
      "\u001b[0;32m<ipython-input-54-3e3ad0d90572>\u001b[0m in \u001b[0;36m<module>\u001b[0;34m\u001b[0m\n\u001b[0;32m----> 1\u001b[0;31m \u001b[0mtheta\u001b[0m\u001b[0;34m[\u001b[0m\u001b[0;34m'binned'\u001b[0m\u001b[0;34m]\u001b[0m\u001b[0;34m[\u001b[0m\u001b[0;34m'hpc'\u001b[0m\u001b[0;34m]\u001b[0m\u001b[0;34m[\u001b[0m\u001b[0;36m0\u001b[0m\u001b[0;34m]\u001b[0m\u001b[0;34m[\u001b[0m\u001b[0;36m0\u001b[0m\u001b[0;34m]\u001b[0m\u001b[0;34m[\u001b[0m\u001b[0;34m:\u001b[0m\u001b[0;34m,\u001b[0m\u001b[0;36m1\u001b[0m\u001b[0;34m]\u001b[0m\u001b[0;34m\u001b[0m\u001b[0;34m\u001b[0m\u001b[0m\n\u001b[0m",
      "\u001b[0;31mIndexError\u001b[0m: index 1 is out of bounds for axis 1 with size 1"
     ]
    }
   ],
   "source": []
  },
  {
   "cell_type": "code",
   "execution_count": 59,
   "metadata": {},
   "outputs": [
    {
     "data": {
      "text/plain": [
       "<BarContainer object of 100 artists>"
      ]
     },
     "execution_count": 59,
     "metadata": {},
     "output_type": "execute_result"
    }
   ],
   "source": [
    "plt.bar(theta['binned']['hpc'][0][0].squeeze(),theta['dist']['hpc'][0][0][:,21].squeeze())"
   ]
  },
  {
   "cell_type": "code",
   "execution_count": 72,
   "metadata": {},
   "outputs": [
    {
     "name": "stderr",
     "output_type": "stream",
     "text": [
      "C:\\ProgramData\\Anaconda3\\lib\\site-packages\\seaborn\\_decorators.py:43: FutureWarning: Pass the following variables as keyword args: x, y. From version 0.12, the only valid positional argument will be `data`, and passing other arguments without an explicit keyword will result in an error or misinterpretation.\n",
      "  FutureWarning\n"
     ]
    },
    {
     "data": {
      "text/plain": [
       "<AxesSubplot:xlabel='info', ylabel='MRL'>"
      ]
     },
     "execution_count": 72,
     "metadata": {},
     "output_type": "execute_result"
    }
   ],
   "source": [
    "info = np.array(info).squeeze()\n",
    "MRL = np.array(MRL)\n",
    "data = {'MRL':np.log(MRL),'info':info,'region':metadata['Region'],'type':metadata['Type']}\n",
    "data = pd.DataFrame(data)\n",
    "sns.scatterplot('info','MRL',data = data,hue = 'region',style = 'type')"
   ]
  },
  {
   "cell_type": "code",
   "execution_count": 123,
   "metadata": {},
   "outputs": [
    {
     "data": {
      "text/plain": [
       "<AxesSubplot:xlabel='Region', ylabel='info'>"
      ]
     },
     "execution_count": 123,
     "metadata": {},
     "output_type": "execute_result"
    }
   ],
   "source": [
    "info = []\n",
    "rate_maps = []\n",
    "for n,s,i in zip(neurons,metadata['Shank'],metadata['Id']):\n",
    "    m,spike_count,occupancy = computeRateMap(n,pos_run,100,10,False)\n",
    "    rate_maps.append(m)\n",
    "    info.append(spatialInformationScore(spike_count,occupancy))\n",
    "MRL = theta['stats']['hpc'][0][0]['r'][0][0].squeeze()\n",
    "\n",
    "metadata['info'] = info\n",
    "plt.cla()\n",
    "sns.violinplot(y = 'info',data = metadata,x = 'Region')"
   ]
  },
  {
   "cell_type": "code",
   "execution_count": 104,
   "metadata": {},
   "outputs": [],
   "source": [
    "plt.cla()\n",
    "plt.imshow(rate_maps[204],origin='lower',aspect='auto')\n",
    "plt.clim([0,0.01])"
   ]
  },
  {
   "cell_type": "code",
   "execution_count": 101,
   "metadata": {},
   "outputs": [],
   "source": [
    "info[44] = np.nan"
   ]
  },
  {
   "cell_type": "code",
   "execution_count": 90,
   "metadata": {},
   "outputs": [],
   "source": [
    "info = np.array(info)"
   ]
  },
  {
   "cell_type": "code",
   "execution_count": 102,
   "metadata": {},
   "outputs": [
    {
     "data": {
      "text/plain": [
       "204"
      ]
     },
     "execution_count": 102,
     "metadata": {},
     "output_type": "execute_result"
    }
   ],
   "source": [
    "plt.bar()"
   ]
  },
  {
   "cell_type": "code",
   "execution_count": 118,
   "metadata": {},
   "outputs": [
    {
     "name": "stdout",
     "output_type": "stream",
     "text": [
      "0.025600000000849832\n"
     ]
    },
    {
     "data": {
      "text/plain": [
       "<matplotlib.colorbar.Colorbar at 0x7f7f1fe74d10>"
      ]
     },
     "execution_count": 118,
     "metadata": {},
     "output_type": "execute_result"
    }
   ],
   "source": [
    "computeRateMap(neurons[5],pos_run,120,20,True)\n",
    "plt.colorbar()"
   ]
  },
  {
   "cell_type": "code",
   "execution_count": 2,
   "metadata": {},
   "outputs": [
    {
     "ename": "NameError",
     "evalue": "name 'theta' is not defined",
     "output_type": "error",
     "traceback": [
      "\u001b[0;31m---------------------------------------------------------------------------\u001b[0m",
      "\u001b[0;31mNameError\u001b[0m                                 Traceback (most recent call last)",
      "\u001b[0;32m<ipython-input-2-2ed32b6208cd>\u001b[0m in \u001b[0;36m<module>\u001b[0;34m\u001b[0m\n\u001b[0;32m----> 1\u001b[0;31m \u001b[0mtheta\u001b[0m\u001b[0;34m[\u001b[0m\u001b[0;34m'dist'\u001b[0m\u001b[0;34m]\u001b[0m\u001b[0;34m\u001b[0m\u001b[0;34m\u001b[0m\u001b[0m\n\u001b[0m",
      "\u001b[0;31mNameError\u001b[0m: name 'theta' is not defined"
     ]
    }
   ],
   "source": [
    "theta['dist']"
   ]
  },
  {
   "cell_type": "code",
   "execution_count": 28,
   "metadata": {},
   "outputs": [],
   "source": [
    "MRL = theta['stats']['hpc'][0][0]['r'][0][0].squeeze()"
   ]
  },
  {
   "cell_type": "code",
   "execution_count": 30,
   "metadata": {},
   "outputs": [
    {
     "data": {
      "text/plain": [
       "21"
      ]
     },
     "execution_count": 30,
     "metadata": {},
     "output_type": "execute_result"
    }
   ],
   "source": [
    "np.argmax(MRL)"
   ]
  },
  {
   "cell_type": "code",
   "execution_count": 38,
   "metadata": {},
   "outputs": [
    {
     "data": {
      "text/plain": [
       "array([(array([[0.03141593],\n",
       "       [0.09424778],\n",
       "       [0.15707963],\n",
       "       [0.21991149],\n",
       "       [0.28274334],\n",
       "       [0.34557519],\n",
       "       [0.40840704],\n",
       "       [0.4712389 ],\n",
       "       [0.53407075],\n",
       "       [0.5969026 ],\n",
       "       [0.65973446],\n",
       "       [0.72256631],\n",
       "       [0.78539816],\n",
       "       [0.84823002],\n",
       "       [0.91106187],\n",
       "       [0.97389372],\n",
       "       [1.03672558],\n",
       "       [1.09955743],\n",
       "       [1.16238928],\n",
       "       [1.22522113],\n",
       "       [1.28805299],\n",
       "       [1.35088484],\n",
       "       [1.41371669],\n",
       "       [1.47654855],\n",
       "       [1.5393804 ],\n",
       "       [1.60221225],\n",
       "       [1.66504411],\n",
       "       [1.72787596],\n",
       "       [1.79070781],\n",
       "       [1.85353967],\n",
       "       [1.91637152],\n",
       "       [1.97920337],\n",
       "       [2.04203522],\n",
       "       [2.10486708],\n",
       "       [2.16769893],\n",
       "       [2.23053078],\n",
       "       [2.29336264],\n",
       "       [2.35619449],\n",
       "       [2.41902634],\n",
       "       [2.4818582 ],\n",
       "       [2.54469005],\n",
       "       [2.6075219 ],\n",
       "       [2.67035376],\n",
       "       [2.73318561],\n",
       "       [2.79601746],\n",
       "       [2.85884931],\n",
       "       [2.92168117],\n",
       "       [2.98451302],\n",
       "       [3.04734487],\n",
       "       [3.11017673],\n",
       "       [3.17300858],\n",
       "       [3.23584043],\n",
       "       [3.29867229],\n",
       "       [3.36150414],\n",
       "       [3.42433599],\n",
       "       [3.48716785],\n",
       "       [3.5499997 ],\n",
       "       [3.61283155],\n",
       "       [3.6756634 ],\n",
       "       [3.73849526],\n",
       "       [3.80132711],\n",
       "       [3.86415896],\n",
       "       [3.92699082],\n",
       "       [3.98982267],\n",
       "       [4.05265452],\n",
       "       [4.11548638],\n",
       "       [4.17831823],\n",
       "       [4.24115008],\n",
       "       [4.30398194],\n",
       "       [4.36681379],\n",
       "       [4.42964564],\n",
       "       [4.49247749],\n",
       "       [4.55530935],\n",
       "       [4.6181412 ],\n",
       "       [4.68097305],\n",
       "       [4.74380491],\n",
       "       [4.80663676],\n",
       "       [4.86946861],\n",
       "       [4.93230047],\n",
       "       [4.99513232],\n",
       "       [5.05796417],\n",
       "       [5.12079603],\n",
       "       [5.18362788],\n",
       "       [5.24645973],\n",
       "       [5.30929158],\n",
       "       [5.37212344],\n",
       "       [5.43495529],\n",
       "       [5.49778714],\n",
       "       [5.560619  ],\n",
       "       [5.62345085],\n",
       "       [5.6862827 ],\n",
       "       [5.74911456],\n",
       "       [5.81194641],\n",
       "       [5.87477826],\n",
       "       [5.93761012],\n",
       "       [6.00044197],\n",
       "       [6.06327382],\n",
       "       [6.12610567],\n",
       "       [6.18893753],\n",
       "       [6.25176938]]), array([[0.03141593],\n",
       "       [0.09424778],\n",
       "       [0.15707963],\n",
       "       [0.21991149],\n",
       "       [0.28274334],\n",
       "       [0.34557519],\n",
       "       [0.40840704],\n",
       "       [0.4712389 ],\n",
       "       [0.53407075],\n",
       "       [0.5969026 ],\n",
       "       [0.65973446],\n",
       "       [0.72256631],\n",
       "       [0.78539816],\n",
       "       [0.84823002],\n",
       "       [0.91106187],\n",
       "       [0.97389372],\n",
       "       [1.03672558],\n",
       "       [1.09955743],\n",
       "       [1.16238928],\n",
       "       [1.22522113],\n",
       "       [1.28805299],\n",
       "       [1.35088484],\n",
       "       [1.41371669],\n",
       "       [1.47654855],\n",
       "       [1.5393804 ],\n",
       "       [1.60221225],\n",
       "       [1.66504411],\n",
       "       [1.72787596],\n",
       "       [1.79070781],\n",
       "       [1.85353967],\n",
       "       [1.91637152],\n",
       "       [1.97920337],\n",
       "       [2.04203522],\n",
       "       [2.10486708],\n",
       "       [2.16769893],\n",
       "       [2.23053078],\n",
       "       [2.29336264],\n",
       "       [2.35619449],\n",
       "       [2.41902634],\n",
       "       [2.4818582 ],\n",
       "       [2.54469005],\n",
       "       [2.6075219 ],\n",
       "       [2.67035376],\n",
       "       [2.73318561],\n",
       "       [2.79601746],\n",
       "       [2.85884931],\n",
       "       [2.92168117],\n",
       "       [2.98451302],\n",
       "       [3.04734487],\n",
       "       [3.11017673],\n",
       "       [3.17300858],\n",
       "       [3.23584043],\n",
       "       [3.29867229],\n",
       "       [3.36150414],\n",
       "       [3.42433599],\n",
       "       [3.48716785],\n",
       "       [3.5499997 ],\n",
       "       [3.61283155],\n",
       "       [3.6756634 ],\n",
       "       [3.73849526],\n",
       "       [3.80132711],\n",
       "       [3.86415896],\n",
       "       [3.92699082],\n",
       "       [3.98982267],\n",
       "       [4.05265452],\n",
       "       [4.11548638],\n",
       "       [4.17831823],\n",
       "       [4.24115008],\n",
       "       [4.30398194],\n",
       "       [4.36681379],\n",
       "       [4.42964564],\n",
       "       [4.49247749],\n",
       "       [4.55530935],\n",
       "       [4.6181412 ],\n",
       "       [4.68097305],\n",
       "       [4.74380491],\n",
       "       [4.80663676],\n",
       "       [4.86946861],\n",
       "       [4.93230047],\n",
       "       [4.99513232],\n",
       "       [5.05796417],\n",
       "       [5.12079603],\n",
       "       [5.18362788],\n",
       "       [5.24645973],\n",
       "       [5.30929158],\n",
       "       [5.37212344],\n",
       "       [5.43495529],\n",
       "       [5.49778714],\n",
       "       [5.560619  ],\n",
       "       [5.62345085],\n",
       "       [5.6862827 ],\n",
       "       [5.74911456],\n",
       "       [5.81194641],\n",
       "       [5.87477826],\n",
       "       [5.93761012],\n",
       "       [6.00044197],\n",
       "       [6.06327382],\n",
       "       [6.12610567],\n",
       "       [6.18893753],\n",
       "       [6.25176938]]))], dtype=[('hpc', 'O'), ('bla', 'O')])"
      ]
     },
     "execution_count": 38,
     "metadata": {},
     "output_type": "execute_result"
    }
   ],
   "source": [
    "theta['binned'][]"
   ]
  },
  {
   "cell_type": "code",
   "execution_count": null,
   "metadata": {},
   "outputs": [],
   "source": []
  }
 ],
 "metadata": {
  "kernelspec": {
   "display_name": "Python 3",
   "language": "python",
   "name": "python3"
  },
  "language_info": {
   "codemirror_mode": {
    "name": "ipython",
    "version": 3
   },
   "file_extension": ".py",
   "mimetype": "text/x-python",
   "name": "python",
   "nbconvert_exporter": "python",
   "pygments_lexer": "ipython3",
   "version": "3.7.6"
  }
 },
 "nbformat": 4,
 "nbformat_minor": 4
}
