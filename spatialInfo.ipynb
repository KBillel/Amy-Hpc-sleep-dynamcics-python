{
 "cells": [
  {
   "cell_type": "code",
   "execution_count": null,
   "metadata": {},
   "outputs": [],
   "source": [
    "import sys\n",
    "import itertools\n",
    "import os\n",
    "\n",
    "import numpy as np\n",
    "import pandas as pd\n",
    "import scipy\n",
    "from scipy.signal import savgol_filter\n",
    "\n",
    "import neuroseries as nts\n",
    "\n",
    "from progressbar import ProgressBar\n",
    "\n",
    "import time\n",
    "import matplotlib.pyplot as plt\n",
    "\n",
    "\n",
    "import seaborn as sns \n",
    "\n",
    "\n",
    "import bk.load\n",
    "import bk.signal\n",
    "import bk.plot\n",
    "\n",
    "\n",
    "import importlib; \n",
    "importlib.reload(bk.signal)\n",
    "importlib.reload(bk.plot)\n",
    "%matplotlib qt\n",
    "import basefunction.anass_load as at"
   ]
  },
  {
   "cell_type": "code",
   "execution_count": null,
   "metadata": {
    "jupyter": {
     "source_hidden": true
    }
   },
   "outputs": [],
   "source": [
    "# bk.load.path = '/media/billel/GGLab-01-BK/DATA/Rat08-20130713/'\n",
    "# bk.load.session = 'Rat08-20130713'\n",
    "\n",
    "\n",
    "# session = 'Rat08-20130713'\n",
    "# neurons,shanks = bk.load.loadSpikeData(bk.load.path)\n",
    "\n",
    "# run = scipy.io.loadmat(bk.load.path + 'runintervals.mat')\n",
    "# run = nts.IntervalSet(run['runintervals'][:,0],run['runintervals'][:,1],time_units='s')"
   ]
  },
  {
   "cell_type": "code",
   "execution_count": 158,
   "metadata": {},
   "outputs": [],
   "source": [
    "def computeRateMap(neuron,pos,nxbins=10,nybins=10):\n",
    "    \n",
    "    \"\"\"\n",
    "        neuron : as Tsd from neuroseries\n",
    "        pos : as Tsd from neuroseries\n",
    "        \n",
    "        output : \n",
    "        rate_map : Ratemap in Hz \n",
    "        spike_count : number of spikes per spatial bin\n",
    "        occupancy : number of pos in spatial bin\n",
    "    \"\"\"\n",
    "    \n",
    "    \n",
    "    dt = scipy.stats.mode(np.diff(pos.as_units('s').index))[0][0]\n",
    "    \n",
    "    pos_spike = pos.realign(neuron)\n",
    "    \n",
    "    xbins = np.linspace(pos.x.min(),pos.x.max()+0.01,nxbins)\n",
    "    ybins = np.linspace(pos.y.min(),pos.y.max()+0.01,nybins)\n",
    "    \n",
    "    spike_count,_,_ = np.histogram2d(pos_spike.y,pos_spike.x,[ybins,xbins])\n",
    "    occupancy,_,_ = np.histogram2d(pos.y,pos.x,[ybins,xbins])\n",
    "    \n",
    "    rate_map = spike_count*dt/(occupancy+1)\n",
    "    rate_map = pd.DataFrame(index = ybins[0:-1]+np.diff(ybins)/2,columns=xbins[0:-1]+np.diff(xbins)/2, data = rate_map)\n",
    "    \n",
    "    plt.figure()\n",
    "    plt.subplot(211)\n",
    "\n",
    "    plt.plot(pos['x'], pos['y'], alpha = 0.5)\n",
    "    plt.scatter(pos_spike['x'], pos_spike['y'], color = 'red', alpha = 0.5, edgecolor = None)\n",
    "    for i in xbins: plt.axvline(i)\n",
    "    for i in ybins: plt.axhline(i)\n",
    "    plt.xlim(xbins[0], xbins[-1])\n",
    "    plt.ylim(ybins[0], ybins[-1])\n",
    "    plt.subplot(212)\n",
    "    plt.imshow(rate_map, origin = 'lower', aspect= 'auto')\n",
    "    plt.clim([0,0.1])\n",
    "    \n",
    "    \n",
    "    return rate_map,spike_count,occupancy\n",
    "\n",
    "def spatialInformationScore(spike_count,occupancy):\n",
    "    \n",
    "    \"\"\"\n",
    "        Initial code by KevinAllen\n",
    "        Adapted by BK 2/11/20\n",
    "        \n",
    "        rate_map : number of spike per spatial bin\n",
    "        occupancy : number of position per spatial bin\n",
    "    \"\"\"\n",
    "    \n",
    "    \n",
    "    spike_count = spike_count[occupancy>0]\n",
    "    occupancy = occupancy[occupancy>0]\n",
    "    \n",
    "    rate_map = spike_count/occupancy\n",
    "    \n",
    "    mRate = spike_count.sum()/occupancy.sum()\n",
    "    prob = occupancy/occupancy.sum()\n",
    "    \n",
    "    index = rate_map>0\n",
    "    \n",
    "    info = np.sum(prob[index] * (rate_map[index]/mRate) * np.log2(rate_map[index]/mRate))\n",
    "    return info\n"
   ]
  },
  {
   "cell_type": "code",
   "execution_count": 160,
   "metadata": {},
   "outputs": [
    {
     "name": "stdout",
     "output_type": "stream",
     "text": [
      "Rat : 8 on day : 5\n",
      "Working with session Rat08-20130712 @ Z:\\Rat08\\Rat08-20130712\n",
      "Data already saved in Numpy format, loading them from here:\n",
      "Rat08-20130712-neurons.npy\n",
      "Rat08-20130712-metadata.npy\n"
     ]
    }
   ],
   "source": [
    "path = bk.load.sessions()['Path'][4]\n",
    "bk.load.current_session(path)\n",
    "\n",
    "neurons,metadata = bk.load.loadSpikeData(bk.load.path)\n",
    "pos = bk.load.pos()\n",
    "states = bk.load.states()\n",
    "\n",
    "run = scipy.io.loadmat('runintervals.mat')\n",
    "run = nts.IntervalSet(run['runintervals'][:,0],run['runintervals'][:,1],time_units='s')\n",
    "\n",
    "trackrun = scipy.io.loadmat(bk.load.session+'-TrackRunTimes.mat')\n",
    "trackrun = nts.IntervalSet(trackrun['trackruntimes'][:,0],trackrun['trackruntimes'][:,1],time_units='s')\n",
    "\n",
    "pos_run = pos.restrict(run)#.restrict(trackrun)"
   ]
  },
  {
   "cell_type": "code",
   "execution_count": 161,
   "metadata": {},
   "outputs": [],
   "source": [
    "theta = scipy.io.loadmat('Billel/ThetaMod/ThetaMod.mat')"
   ]
  },
  {
   "cell_type": "code",
   "execution_count": 207,
   "metadata": {},
   "outputs": [],
   "source": [
    "info = []\n",
    "for n,s,i in zip(neurons,metadata['Shank'],metadata['Id']):\n",
    "    if s == 4:\n",
    "        _,spike_count,occupancy = computeRateMap(n,pos_run,25,15)\n",
    "        info.append(spatialInformationScore(spike_count,occupancy))\n",
    "        plt.suptitle(str(s) + str(i))\n",
    "MRL = theta['stats']['hpc'][0][0]['r'][0][0].squeeze()"
   ]
  },
  {
   "cell_type": "code",
   "execution_count": 154,
   "metadata": {},
   "outputs": [
    {
     "name": "stdout",
     "output_type": "stream",
     "text": [
      "4 6\n"
     ]
    }
   ],
   "source": [
    "for s,i in zip(metadata['Shank'],metadata['Id']):\n",
    "    index = np.all([s,i] == theta['metadata'][:,2:4],1)\n",
    "    if not np.any(index):\n",
    "        print(s,i)"
   ]
  },
  {
   "cell_type": "code",
   "execution_count": 72,
   "metadata": {},
   "outputs": [
    {
     "name": "stderr",
     "output_type": "stream",
     "text": [
      "C:\\ProgramData\\Anaconda3\\lib\\site-packages\\seaborn\\_decorators.py:43: FutureWarning: Pass the following variables as keyword args: x, y. From version 0.12, the only valid positional argument will be `data`, and passing other arguments without an explicit keyword will result in an error or misinterpretation.\n",
      "  FutureWarning\n"
     ]
    },
    {
     "data": {
      "text/plain": [
       "<AxesSubplot:xlabel='info', ylabel='MRL'>"
      ]
     },
     "execution_count": 72,
     "metadata": {},
     "output_type": "execute_result"
    }
   ],
   "source": [
    "info = np.array(info).squeeze()\n",
    "MRL = np.array(MRL)\n",
    "data = {'MRL':np.log(MRL),'info':info,'region':metadata['Region'],'type':metadata['Type']}\n",
    "data = pd.DataFrame(data)\n",
    "sns.scatterplot('info','MRL',data = data,hue = 'region',style = 'type')"
   ]
  },
  {
   "cell_type": "code",
   "execution_count": null,
   "metadata": {},
   "outputs": [],
   "source": []
  }
 ],
 "metadata": {
  "kernelspec": {
   "display_name": "Python 3",
   "language": "python",
   "name": "python3"
  },
  "language_info": {
   "codemirror_mode": {
    "name": "ipython",
    "version": 3
   },
   "file_extension": ".py",
   "mimetype": "text/x-python",
   "name": "python",
   "nbconvert_exporter": "python",
   "pygments_lexer": "ipython3",
   "version": "3.7.6"
  }
 },
 "nbformat": 4,
 "nbformat_minor": 4
}
