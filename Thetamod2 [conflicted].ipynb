{
 "cells": [
  {
   "cell_type": "code",
   "execution_count": 9,
   "id": "2e81622c",
   "metadata": {},
   "outputs": [],
   "source": [
    "import os"
   ]
  },
  {
   "cell_type": "code",
   "execution_count": 10,
   "metadata": {},
   "outputs": [],
   "source": [
    "import astropy.stats as apy"
   ]
  },
  {
   "cell_type": "code",
   "execution_count": 11,
   "metadata": {},
   "outputs": [],
   "source": [
    "import bk.load\n",
    "import bk.compute\n",
    "import bk.plot\n",
    "import bk.signal"
   ]
  },
  {
   "cell_type": "code",
   "execution_count": 12,
   "metadata": {},
   "outputs": [],
   "source": [
    "import pandas as pd\n",
    "import numpy as np\n",
    "import scipy as sp"
   ]
  },
  {
   "cell_type": "code",
   "execution_count": 13,
   "metadata": {},
   "outputs": [],
   "source": [
    "import matplotlib.pyplot as plt"
   ]
  },
  {
   "cell_type": "code",
   "execution_count": 14,
   "metadata": {},
   "outputs": [],
   "source": [
    "import scipy.signal\n",
    "import scipy.stats\n",
    "%load_ext memory_profiler"
   ]
  },
  {
   "cell_type": "code",
   "execution_count": 15,
   "id": "cddc3b21",
   "metadata": {},
   "outputs": [],
   "source": [
    "def concentration(angles):\n",
    "    '''\n",
    "    Compute the kappa parameter Uses the approximation described in \"Statistical Analysis of Circular Data\" (Fisher, p. 88).\n",
    "    Translated from MATLAB fmatoolbox.sourceforge.net/Contents/FMAToolbox/General/Concentration.html\n",
    "    angles : radian\n",
    "\n",
    "    Copyright (C) 2004-2011 by Michaël Zugaro\n",
    "    Copyright (C) 2021 by Billel KHOUADER\n",
    "\n",
    "    '''\n",
    "    n = len(angles)\n",
    "    angles = np.exp(1j * angles)  # Complex form of the angles\n",
    "    r = abs(np.mean(angles))\n",
    "\n",
    "    if r < 0.53:\n",
    "        k = 2 * r + r**3 + 5*r**(5/6)\n",
    "    elif r < 0.85:\n",
    "        k = -0.4 + 1.39 * r + 0.43 / (1-r)\n",
    "    else:\n",
    "        k = 1/(r**3 - 4 * r**2 + 3*r)\n",
    "\n",
    "    # Correction for very small samples\n",
    "\n",
    "    if n <= 15:\n",
    "        if k < 2:\n",
    "            k = np.max([(k-2)/(n*k), 0])\n",
    "        else:\n",
    "            k = (n-1)**3 * (n**3+n)\n",
    "\n",
    "    return k\n",
    "\n",
    "\n",
    "def mean_resultant_length(angles):\n",
    "    angles = np.exp(1j*angles)\n",
    "    return np.abs(np.mean(angles))"
   ]
  },
  {
   "cell_type": "code",
   "execution_count": 16,
   "metadata": {},
   "outputs": [],
   "source": [
    "def thetamod(local_path, **args):\n",
    "    bk.load.current_session_linux(local_path=local_path)\n",
    "    states = bk.load.states()\n",
    "    lfp = bk.load.lfp_in_intervals(bk.load.ripple_channel(), states['Rem'])\n",
    "    lfp_filt = bk.signal.passband(lfp, 4, 12)\n",
    "    power, phase = bk.signal.hilbert(lfp_filt)\n",
    "\n",
    "    neurons, metadata = bk.load.spikes()\n",
    "    print(os.getcwd())\n",
    "\n",
    "\n",
    "    neurons_phase = []\n",
    "    neurons_rem_fr = []\n",
    "    for i, n in enumerate(neurons):\n",
    "        neurons_phase.append(phase.realign(n.restrict(states['Rem'])))\n",
    "        neurons_rem_fr.append(\n",
    "            len(n.restrict(states['Rem']))/states['Rem'].tot_length(time_units='s'))\n",
    "\n",
    "    pvalues = []\n",
    "    kappas = []\n",
    "    modulated = []\n",
    "    MRLs = []\n",
    "    for i, p in enumerate(neurons_phase):\n",
    "        pvalue = apy.rayleightest(p.values)\n",
    "        pvalues.append(pvalue)\n",
    "\n",
    "        kappa = concentration(p.values)\n",
    "        kappas.append(kappa)\n",
    "\n",
    "        MRL = mean_resultant_length(p.values)\n",
    "        MRLs.append(MRL)\n",
    "\n",
    "        if (pvalue < 0.01) and MRL > 0.04:\n",
    "            modulated.append(True)\n",
    "        else:\n",
    "            modulated.append(False)\n",
    "\n",
    "    phase_lock = pd.DataFrame({'FR_Rem': neurons_rem_fr,\n",
    "                               'MRL': MRLs,\n",
    "                               'Kappa': kappas,\n",
    "                               'pValue': pvalues,\n",
    "                               'modulated': modulated})\n",
    "\n",
    "    # pvalues = pd.DataFrame(pvalues, columns=['pValue'])\n",
    "    # FRRem = pd.DataFrame(neurons_rem_fr, columns=['FRRem'])\n",
    "\n",
    "    phase_lock = pd.concat([metadata, phase_lock], axis=1)\n",
    "    \n",
    "    try:\n",
    "        os.makedirs(f'Analysis/Thetamod')\n",
    "    except:\n",
    "        print('Already Exist')\n",
    "    phase_lock.to_csv(\n",
    "        f'Analysis/Thetamod/{bk.load.session}-theta_mod.csv')\n",
    "    \n",
    "    # for i in range(len(neurons)):\n",
    "    #     fig, ax = plt.subplot_mosaic('''\n",
    "    #                                 A.\n",
    "    #                                 BC\n",
    "    #                                 ''',\n",
    "    #                                  figsize=(12, 8))\n",
    "    #     fig.set_visible = False\n",
    "    #     polar_ax = fig.add_subplot(2, 2, 2, polar=True)\n",
    "    #     ax['A'].plot(lfp.as_units('s'))\n",
    "    #     ax['A'].plot(lfp_filt.as_units('s'))\n",
    "    #     plt.sca(ax['A'])\n",
    "    #     bk.plot.intervals(states['Rem'], time_units='s')\n",
    "    #     ax['B'].plot(phase.as_units('s'))\n",
    "    #     ax['B'].plot(neurons_phase[i].as_units('s'), 'ro')\n",
    "\n",
    "    #     h, a = np.histogram(neurons_phase[i].values, 50)\n",
    "    #     a = np.convolve(a, [.5, .5], 'same')[1::]\n",
    "\n",
    "    #     ax['C'].bar(a, h, a[1]-a[0], color='lightblue')\n",
    "    #     ax['C'].bar(a+2*np.pi, h, a[1]-a[0], color='lightblue')\n",
    "\n",
    "    # #     ax['C'].bar(neurons_phase[i].values+(2*np.pi),50,'blue')\n",
    "\n",
    "    #     ax['A'].get_shared_x_axes().join(ax['A'], ax['B'])\n",
    "    #     polar_ax.bar(a, h, a[1]-a[0])\n",
    "\n",
    "    #     ax['A'].set_title('LFP')\n",
    "    #     ax['A'].set_ylim([-500, 500])\n",
    "    #     ax['A'].set_xlabel('Time (s)')\n",
    "    #     ax['A'].set_ylabel('Amplitude')\n",
    "\n",
    "    #     ax['B'].set_title('Phase And Spikes')\n",
    "    #     ax['B'].set_xlabel('Time (s)')\n",
    "    #     ax['B'].set_ylabel('Phase (rad)')\n",
    "    #     polar_ax.set_title('PolarPlot')\n",
    "\n",
    "    #     ax['C'].set_title('Histogram')\n",
    "    #     ax['C'].set_xlabel('Phase (rad)')\n",
    "    #     ax['C'].set_ylabel('Spike Count')\n",
    "\n",
    "    #     if phase_lock.modulated[i]:\n",
    "    #         fig.set_facecolor('lightgreen')\n",
    "\n",
    "    #     plt.suptitle(\n",
    "    #         f'Neuron #{i},Region = {phase_lock.Region[i]}, Type = {phase_lock.Type[i]}  \\nFR_Rem = {phase_lock.FR_Rem[i]} Hz \\npValue = {phase_lock.pValue[i]} \\n MRL = {phase_lock.MRL[i]}, Kappa = {phase_lock.Kappa[i]} \\n Modulated : {phase_lock.modulated[i]}')\n",
    "    #     plt.tight_layout()\n",
    "\n",
    "    #     plt.savefig(\n",
    "    #         f'/home/billel/figs/ThetaMod/{bk.load.session}/Neuron #{i}-{metadata.Shank[i]}-{metadata.Id[i]}.png')\n",
    "    #     fig.clear()\n",
    "    #     plt.close(fig)\n",
    "\n",
    "    del lfp, lfp_filt, neurons, neurons_phase\n",
    "    return phase_lock\n"
   ]
  },
  {
   "cell_type": "code",
   "execution_count": 17,
   "id": "7735088e",
   "metadata": {},
   "outputs": [],
   "source": [
    "%matplotlib Agg"
   ]
  },
  {
   "cell_type": "code",
   "execution_count": 18,
   "id": "c98efb6a",
   "metadata": {},
   "outputs": [
    {
     "name": "stderr",
     "output_type": "stream",
     "text": [
      "100%|██████████| 61/61 [07:28<00:00,  7.35s/it]"
     ]
    },
    {
     "name": "stdout",
     "output_type": "stream",
     "text": [
      "Batch finished in 448.37303829193115\n",
      "Some session were not processed correctly\n",
      "['Rat08-20130718', 'Rat08-20130719', 'Rat08-20130720', 'Rat08-20130722', 'Rat09-20140324', 'Rat09-20140325', 'Rat09-20140326', 'Rat09-20140327', 'Rat09-20140328', 'Rat09-20140329', 'Rat09-20140331', 'Rat09-20140401', 'Rat09-20140402', 'Rat09-20140403', 'Rat09-20140404', 'Rat09-20140405', 'Rat09-20140407', 'Rat09-20140408', 'Rat09-20140409', 'Rat11-20150327']\n",
      "32.78688524590164 %\n"
     ]
    },
    {
     "name": "stderr",
     "output_type": "stream",
     "text": [
      "\n"
     ]
    }
   ],
   "source": [
    "b = bk.load.batch(thetamod,linux=True)"
   ]
  },
  {
   "cell_type": "code",
   "execution_count": 15,
   "id": "1b42da9e",
   "metadata": {},
   "outputs": [
    {
     "data": {
      "text/plain": [
       "{}"
      ]
     },
     "execution_count": 15,
     "metadata": {},
     "output_type": "execute_result"
    }
   ],
   "source": [
    "b"
   ]
  },
  {
   "cell_type": "code",
   "execution_count": 13,
   "id": "2910cd1e",
   "metadata": {},
   "outputs": [],
   "source": [
    "phase_locks = []\n",
    "for session,phase_lock in b.items():\n",
    "    phase_locks.append(phase_lock)"
   ]
  },
  {
   "cell_type": "code",
   "execution_count": 3,
   "id": "8001ef55",
   "metadata": {},
   "outputs": [],
   "source": [
    "os.getcwd()\n",
    "os.chdir('/mnt/icybox/Rat08/Rat08-20130713/')"
   ]
  },
  {
   "cell_type": "code",
   "execution_count": 6,
   "id": "51108f21",
   "metadata": {},
   "outputs": [],
   "source": [
    "os.makedirs(f'Analysis/Thetamod')\n"
   ]
  },
  {
   "cell_type": "code",
   "execution_count": 14,
   "id": "7b312c25",
   "metadata": {},
   "outputs": [
    {
     "ename": "ValueError",
     "evalue": "No objects to concatenate",
     "output_type": "error",
     "traceback": [
      "\u001b[0;31m---------------------------------------------------------------------------\u001b[0m",
      "\u001b[0;31mValueError\u001b[0m                                Traceback (most recent call last)",
      "\u001b[0;32m/tmp/ipykernel_7997/2571422223.py\u001b[0m in \u001b[0;36m<module>\u001b[0;34m\u001b[0m\n\u001b[0;32m----> 1\u001b[0;31m \u001b[0mphase_locks\u001b[0m \u001b[0;34m=\u001b[0m \u001b[0mpd\u001b[0m\u001b[0;34m.\u001b[0m\u001b[0mconcat\u001b[0m\u001b[0;34m(\u001b[0m\u001b[0mphase_locks\u001b[0m\u001b[0;34m)\u001b[0m\u001b[0;34m\u001b[0m\u001b[0;34m\u001b[0m\u001b[0m\n\u001b[0m",
      "\u001b[0;32m~/anaconda3/lib/python3.8/site-packages/pandas/core/reshape/concat.py\u001b[0m in \u001b[0;36mconcat\u001b[0;34m(objs, axis, join, ignore_index, keys, levels, names, verify_integrity, sort, copy)\u001b[0m\n\u001b[1;32m    283\u001b[0m     \u001b[0mValueError\u001b[0m\u001b[0;34m:\u001b[0m \u001b[0mIndexes\u001b[0m \u001b[0mhave\u001b[0m \u001b[0moverlapping\u001b[0m \u001b[0mvalues\u001b[0m\u001b[0;34m:\u001b[0m \u001b[0;34m[\u001b[0m\u001b[0;34m'a'\u001b[0m\u001b[0;34m]\u001b[0m\u001b[0;34m\u001b[0m\u001b[0;34m\u001b[0m\u001b[0m\n\u001b[1;32m    284\u001b[0m     \"\"\"\n\u001b[0;32m--> 285\u001b[0;31m     op = _Concatenator(\n\u001b[0m\u001b[1;32m    286\u001b[0m         \u001b[0mobjs\u001b[0m\u001b[0;34m,\u001b[0m\u001b[0;34m\u001b[0m\u001b[0;34m\u001b[0m\u001b[0m\n\u001b[1;32m    287\u001b[0m         \u001b[0maxis\u001b[0m\u001b[0;34m=\u001b[0m\u001b[0maxis\u001b[0m\u001b[0;34m,\u001b[0m\u001b[0;34m\u001b[0m\u001b[0;34m\u001b[0m\u001b[0m\n",
      "\u001b[0;32m~/anaconda3/lib/python3.8/site-packages/pandas/core/reshape/concat.py\u001b[0m in \u001b[0;36m__init__\u001b[0;34m(self, objs, axis, join, keys, levels, names, ignore_index, verify_integrity, copy, sort)\u001b[0m\n\u001b[1;32m    340\u001b[0m \u001b[0;34m\u001b[0m\u001b[0m\n\u001b[1;32m    341\u001b[0m         \u001b[0;32mif\u001b[0m \u001b[0mlen\u001b[0m\u001b[0;34m(\u001b[0m\u001b[0mobjs\u001b[0m\u001b[0;34m)\u001b[0m \u001b[0;34m==\u001b[0m \u001b[0;36m0\u001b[0m\u001b[0;34m:\u001b[0m\u001b[0;34m\u001b[0m\u001b[0;34m\u001b[0m\u001b[0m\n\u001b[0;32m--> 342\u001b[0;31m             \u001b[0;32mraise\u001b[0m \u001b[0mValueError\u001b[0m\u001b[0;34m(\u001b[0m\u001b[0;34m\"No objects to concatenate\"\u001b[0m\u001b[0;34m)\u001b[0m\u001b[0;34m\u001b[0m\u001b[0;34m\u001b[0m\u001b[0m\n\u001b[0m\u001b[1;32m    343\u001b[0m \u001b[0;34m\u001b[0m\u001b[0m\n\u001b[1;32m    344\u001b[0m         \u001b[0;32mif\u001b[0m \u001b[0mkeys\u001b[0m \u001b[0;32mis\u001b[0m \u001b[0;32mNone\u001b[0m\u001b[0;34m:\u001b[0m\u001b[0;34m\u001b[0m\u001b[0;34m\u001b[0m\u001b[0m\n",
      "\u001b[0;31mValueError\u001b[0m: No objects to concatenate"
     ]
    }
   ],
   "source": [
    "phase_locks = pd.concat(phase_locks)"
   ]
  },
  {
   "cell_type": "code",
   "execution_count": 26,
   "id": "183301e9",
   "metadata": {},
   "outputs": [],
   "source": [
    "phase_locks.to_csv(\"/home/billel/figs/ThetaMod/ThetaMod.csv\")"
   ]
  },
  {
   "cell_type": "code",
   "execution_count": 4,
   "id": "f71ad70e",
   "metadata": {},
   "outputs": [
    {
     "name": "stdout",
     "output_type": "stream",
     "text": [
      "Using matplotlib backend: Qt5Agg\n"
     ]
    },
    {
     "ename": "TypeError",
     "evalue": "__init__() got an unexpected keyword argument 'visible'",
     "output_type": "error",
     "traceback": [
      "\u001b[0;31m---------------------------------------------------------------------------\u001b[0m",
      "\u001b[0;31mTypeError\u001b[0m                                 Traceback (most recent call last)",
      "\u001b[0;32m/tmp/ipykernel_60660/510600844.py\u001b[0m in \u001b[0;36m<module>\u001b[0;34m\u001b[0m\n\u001b[1;32m      4\u001b[0m \u001b[0;34m\u001b[0m\u001b[0m\n\u001b[1;32m      5\u001b[0m \u001b[0;32mfor\u001b[0m \u001b[0mi\u001b[0m \u001b[0;32min\u001b[0m \u001b[0mrange\u001b[0m\u001b[0;34m(\u001b[0m\u001b[0;36m10\u001b[0m\u001b[0;34m)\u001b[0m\u001b[0;34m:\u001b[0m\u001b[0;34m\u001b[0m\u001b[0;34m\u001b[0m\u001b[0m\n\u001b[0;32m----> 6\u001b[0;31m     \u001b[0mplt\u001b[0m\u001b[0;34m.\u001b[0m\u001b[0msubplot_mosaic\u001b[0m\u001b[0;34m(\u001b[0m\u001b[0;34m'A'\u001b[0m\u001b[0;34m,\u001b[0m\u001b[0mvisible\u001b[0m \u001b[0;34m=\u001b[0m \u001b[0;32mFalse\u001b[0m\u001b[0;34m)\u001b[0m\u001b[0;34m\u001b[0m\u001b[0;34m\u001b[0m\u001b[0m\n\u001b[0m\u001b[1;32m      7\u001b[0m     \u001b[0mnp\u001b[0m\u001b[0;34m.\u001b[0m\u001b[0msqrt\u001b[0m\u001b[0;34m(\u001b[0m\u001b[0mi\u001b[0m\u001b[0;34m)\u001b[0m\u001b[0;34m\u001b[0m\u001b[0;34m\u001b[0m\u001b[0m\n\u001b[1;32m      8\u001b[0m     \u001b[0mplt\u001b[0m\u001b[0;34m.\u001b[0m\u001b[0mplot\u001b[0m\u001b[0;34m(\u001b[0m\u001b[0mi\u001b[0m\u001b[0;34m)\u001b[0m\u001b[0;34m\u001b[0m\u001b[0;34m\u001b[0m\u001b[0m\n",
      "\u001b[0;32m~/anaconda3/lib/python3.8/site-packages/matplotlib/pyplot.py\u001b[0m in \u001b[0;36msubplot_mosaic\u001b[0;34m(mosaic, subplot_kw, gridspec_kw, empty_sentinel, **fig_kw)\u001b[0m\n\u001b[1;32m   1517\u001b[0m \u001b[0;34m\u001b[0m\u001b[0m\n\u001b[1;32m   1518\u001b[0m     \"\"\"\n\u001b[0;32m-> 1519\u001b[0;31m     \u001b[0mfig\u001b[0m \u001b[0;34m=\u001b[0m \u001b[0mfigure\u001b[0m\u001b[0;34m(\u001b[0m\u001b[0;34m**\u001b[0m\u001b[0mfig_kw\u001b[0m\u001b[0;34m)\u001b[0m\u001b[0;34m\u001b[0m\u001b[0;34m\u001b[0m\u001b[0m\n\u001b[0m\u001b[1;32m   1520\u001b[0m     ax_dict = fig.subplot_mosaic(\n\u001b[1;32m   1521\u001b[0m         \u001b[0mmosaic\u001b[0m\u001b[0;34m,\u001b[0m\u001b[0;34m\u001b[0m\u001b[0;34m\u001b[0m\u001b[0m\n",
      "\u001b[0;32m~/anaconda3/lib/python3.8/site-packages/matplotlib/pyplot.py\u001b[0m in \u001b[0;36mfigure\u001b[0;34m(num, figsize, dpi, facecolor, edgecolor, frameon, FigureClass, clear, **kwargs)\u001b[0m\n\u001b[1;32m    795\u001b[0m                 RuntimeWarning)\n\u001b[1;32m    796\u001b[0m \u001b[0;34m\u001b[0m\u001b[0m\n\u001b[0;32m--> 797\u001b[0;31m         manager = new_figure_manager(\n\u001b[0m\u001b[1;32m    798\u001b[0m             \u001b[0mnum\u001b[0m\u001b[0;34m,\u001b[0m \u001b[0mfigsize\u001b[0m\u001b[0;34m=\u001b[0m\u001b[0mfigsize\u001b[0m\u001b[0;34m,\u001b[0m \u001b[0mdpi\u001b[0m\u001b[0;34m=\u001b[0m\u001b[0mdpi\u001b[0m\u001b[0;34m,\u001b[0m\u001b[0;34m\u001b[0m\u001b[0;34m\u001b[0m\u001b[0m\n\u001b[1;32m    799\u001b[0m             \u001b[0mfacecolor\u001b[0m\u001b[0;34m=\u001b[0m\u001b[0mfacecolor\u001b[0m\u001b[0;34m,\u001b[0m \u001b[0medgecolor\u001b[0m\u001b[0;34m=\u001b[0m\u001b[0medgecolor\u001b[0m\u001b[0;34m,\u001b[0m \u001b[0mframeon\u001b[0m\u001b[0;34m=\u001b[0m\u001b[0mframeon\u001b[0m\u001b[0;34m,\u001b[0m\u001b[0;34m\u001b[0m\u001b[0;34m\u001b[0m\u001b[0m\n",
      "\u001b[0;32m~/anaconda3/lib/python3.8/site-packages/matplotlib/pyplot.py\u001b[0m in \u001b[0;36mnew_figure_manager\u001b[0;34m(*args, **kwargs)\u001b[0m\n\u001b[1;32m    314\u001b[0m     \u001b[0;34m\"\"\"Create a new figure manager instance.\"\"\"\u001b[0m\u001b[0;34m\u001b[0m\u001b[0;34m\u001b[0m\u001b[0m\n\u001b[1;32m    315\u001b[0m     \u001b[0m_warn_if_gui_out_of_main_thread\u001b[0m\u001b[0;34m(\u001b[0m\u001b[0;34m)\u001b[0m\u001b[0;34m\u001b[0m\u001b[0;34m\u001b[0m\u001b[0m\n\u001b[0;32m--> 316\u001b[0;31m     \u001b[0;32mreturn\u001b[0m \u001b[0m_backend_mod\u001b[0m\u001b[0;34m.\u001b[0m\u001b[0mnew_figure_manager\u001b[0m\u001b[0;34m(\u001b[0m\u001b[0;34m*\u001b[0m\u001b[0margs\u001b[0m\u001b[0;34m,\u001b[0m \u001b[0;34m**\u001b[0m\u001b[0mkwargs\u001b[0m\u001b[0;34m)\u001b[0m\u001b[0;34m\u001b[0m\u001b[0;34m\u001b[0m\u001b[0m\n\u001b[0m\u001b[1;32m    317\u001b[0m \u001b[0;34m\u001b[0m\u001b[0m\n\u001b[1;32m    318\u001b[0m \u001b[0;34m\u001b[0m\u001b[0m\n",
      "\u001b[0;32m~/anaconda3/lib/python3.8/site-packages/matplotlib/backend_bases.py\u001b[0m in \u001b[0;36mnew_figure_manager\u001b[0;34m(cls, num, *args, **kwargs)\u001b[0m\n\u001b[1;32m   3542\u001b[0m         \u001b[0;32mfrom\u001b[0m \u001b[0mmatplotlib\u001b[0m\u001b[0;34m.\u001b[0m\u001b[0mfigure\u001b[0m \u001b[0;32mimport\u001b[0m \u001b[0mFigure\u001b[0m\u001b[0;34m\u001b[0m\u001b[0;34m\u001b[0m\u001b[0m\n\u001b[1;32m   3543\u001b[0m         \u001b[0mfig_cls\u001b[0m \u001b[0;34m=\u001b[0m \u001b[0mkwargs\u001b[0m\u001b[0;34m.\u001b[0m\u001b[0mpop\u001b[0m\u001b[0;34m(\u001b[0m\u001b[0;34m'FigureClass'\u001b[0m\u001b[0;34m,\u001b[0m \u001b[0mFigure\u001b[0m\u001b[0;34m)\u001b[0m\u001b[0;34m\u001b[0m\u001b[0;34m\u001b[0m\u001b[0m\n\u001b[0;32m-> 3544\u001b[0;31m         \u001b[0mfig\u001b[0m \u001b[0;34m=\u001b[0m \u001b[0mfig_cls\u001b[0m\u001b[0;34m(\u001b[0m\u001b[0;34m*\u001b[0m\u001b[0margs\u001b[0m\u001b[0;34m,\u001b[0m \u001b[0;34m**\u001b[0m\u001b[0mkwargs\u001b[0m\u001b[0;34m)\u001b[0m\u001b[0;34m\u001b[0m\u001b[0;34m\u001b[0m\u001b[0m\n\u001b[0m\u001b[1;32m   3545\u001b[0m         \u001b[0;32mreturn\u001b[0m \u001b[0mcls\u001b[0m\u001b[0;34m.\u001b[0m\u001b[0mnew_figure_manager_given_figure\u001b[0m\u001b[0;34m(\u001b[0m\u001b[0mnum\u001b[0m\u001b[0;34m,\u001b[0m \u001b[0mfig\u001b[0m\u001b[0;34m)\u001b[0m\u001b[0;34m\u001b[0m\u001b[0;34m\u001b[0m\u001b[0m\n\u001b[1;32m   3546\u001b[0m \u001b[0;34m\u001b[0m\u001b[0m\n",
      "\u001b[0;31mTypeError\u001b[0m: __init__() got an unexpected keyword argument 'visible'"
     ]
    }
   ],
   "source": [
    "import matplotlib.pyplot as plt\n",
    "import numpy as np\n",
    "%matplotlib\n",
    "\n",
    "for i in range(10):\n",
    "    plt.subplot_mosaic('A',visible = False)\n",
    "    np.sqrt(i)\n",
    "    plt.plot(i)\n",
    "print('yes')"
   ]
  },
  {
   "cell_type": "code",
   "execution_count": null,
   "id": "123b800f",
   "metadata": {},
   "outputs": [],
   "source": []
  }
 ],
 "metadata": {
  "interpreter": {
   "hash": "73338f702f582c88e3f253801a1652f95993fc9c7c4f7716fa5efbce7903fdbf"
  },
  "kernelspec": {
   "display_name": "Python 3.8.5 64-bit ('base': conda)",
   "name": "python3"
  },
  "language_info": {
   "codemirror_mode": {
    "name": "ipython",
    "version": 3
   },
   "file_extension": ".py",
   "mimetype": "text/x-python",
   "name": "python",
   "nbconvert_exporter": "python",
   "pygments_lexer": "ipython3",
   "version": "3.8.5"
  }
 },
 "nbformat": 4,
 "nbformat_minor": 5
}
