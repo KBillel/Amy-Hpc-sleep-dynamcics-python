{
 "cells": [
  {
   "cell_type": "code",
   "execution_count": 2,
   "id": "06fcd646",
   "metadata": {},
   "outputs": [],
   "source": [
    "import astropy.stats as apy"
   ]
  },
  {
   "cell_type": "code",
   "execution_count": 3,
   "id": "305cd98a",
   "metadata": {},
   "outputs": [],
   "source": [
    "import bk.load\n",
    "import bk.compute\n",
    "import bk.plot\n",
    "import bk.signal"
   ]
  },
  {
   "cell_type": "code",
   "execution_count": 4,
   "id": "891fcc1c",
   "metadata": {},
   "outputs": [],
   "source": [
    "import pandas as pd\n",
    "import numpy as np\n",
    "import scipy as sp"
   ]
  },
  {
   "cell_type": "code",
   "execution_count": 5,
   "id": "c95aaba9",
   "metadata": {},
   "outputs": [],
   "source": [
    "import matplotlib.pyplot as plt"
   ]
  },
  {
   "cell_type": "code",
   "execution_count": 6,
   "id": "f7fac541",
   "metadata": {},
   "outputs": [],
   "source": [
    "import scipy.signal\n",
    "import scipy.stats"
   ]
  },
  {
   "cell_type": "code",
   "execution_count": 34,
   "id": "49f250db",
   "metadata": {},
   "outputs": [
    {
     "name": "stdout",
     "output_type": "stream",
     "text": [
      "Rat : 11 on day : 18\n",
      "Working with session Rat11-20150330 @ Z:\\Rat11\\Rat11-20150330\n"
     ]
    }
   ],
   "source": [
    "bk.load.current_session(\"Z:\\Rat11\\Rat11-20150330\")\n",
    "states = bk.load.states()\n",
    "lfp = bk.load.lfp_in_intervals(172,15,states['Rem'])\n",
    "lfp_filt = bk.signal.passband(lfp,4,12)\n",
    "power,phase = bk.signal.hilbert(lfp_filt)"
   ]
  },
  {
   "cell_type": "code",
   "execution_count": 35,
   "id": "285b5ac6",
   "metadata": {},
   "outputs": [],
   "source": [
    "f, Pxx= sp.signal.welch(lfp.values,fs = 1250,nperseg=5000,noverlap=4000)"
   ]
  },
  {
   "cell_type": "code",
   "execution_count": 36,
   "id": "cd137871",
   "metadata": {},
   "outputs": [
    {
     "data": {
      "text/plain": [
       "(0.0, 20.0)"
      ]
     },
     "execution_count": 36,
     "metadata": {},
     "output_type": "execute_result"
    }
   ],
   "source": [
    "plt.plot(f,np.log(Pxx))\n",
    "plt.xlim(0,20)"
   ]
  },
  {
   "cell_type": "code",
   "execution_count": null,
   "id": "7afe076a",
   "metadata": {},
   "outputs": [],
   "source": []
  },
  {
   "cell_type": "code",
   "execution_count": 10,
   "id": "6f88cd43",
   "metadata": {},
   "outputs": [
    {
     "name": "stdout",
     "output_type": "stream",
     "text": [
      "Data already saved in Numpy format, loading them from here:\n",
      "Rat08-20130709-neurons.npy\n",
      "Rat08-20130709-metadata.npy\n"
     ]
    }
   ],
   "source": [
    "neurons,metadata = bk.load.loadSpikeData(bk.load.path)\n",
    "    \n",
    "neurons_phase = []\n",
    "for i,n in enumerate(neurons):\n",
    "    neurons_phase.append(phase.realign(n.restrict(states['Rem'])))"
   ]
  },
  {
   "cell_type": "code",
   "execution_count": 11,
   "id": "727093ed",
   "metadata": {},
   "outputs": [],
   "source": [
    "%matplotlib qt"
   ]
  },
  {
   "cell_type": "code",
   "execution_count": 12,
   "id": "ed777fcc",
   "metadata": {},
   "outputs": [],
   "source": [
    "plt.plot(neurons_phase[0].times(),neurons_phase[0].values,'ro')\n",
    "bk.plot.intervals(states['Rem'],time_units='us')"
   ]
  },
  {
   "cell_type": "code",
   "execution_count": 15,
   "id": "e53ecd5e",
   "metadata": {},
   "outputs": [],
   "source": [
    "a = []\n",
    "for i,p in enumerate(neurons_phase):\n",
    "    pvalue = apy.rayleightest(p.values)\n",
    "    a.append(np.nanmean(p))\n",
    "#     if pvalue < 0.001 and rvalue > 0.04: print(1)"
   ]
  },
  {
   "cell_type": "code",
   "execution_count": 16,
   "id": "49ea8fd8",
   "metadata": {},
   "outputs": [],
   "source": [
    "%matplotlib qt"
   ]
  },
  {
   "cell_type": "code",
   "execution_count": 28,
   "id": "fde4800b",
   "metadata": {},
   "outputs": [
    {
     "name": "stderr",
     "output_type": "stream",
     "text": [
      "C:\\ProgramData\\Anaconda3\\lib\\site-packages\\ipykernel_launcher.py:5: RuntimeWarning: More than 20 figures have been opened. Figures created through the pyplot interface (`matplotlib.pyplot.figure`) are retained until explicitly closed and may consume too much memory. (To control this warning, see the rcParam `figure.max_open_warning`).\n",
      "  \"\"\"\n"
     ]
    }
   ],
   "source": [
    "for i in range(20):\n",
    "    fig,ax = plt.subplot_mosaic('''\n",
    "                                A.\n",
    "                                BC\n",
    "                                ''')\n",
    "    polar_ax = fig.add_subplot(2,2,2,polar=True)                                       \n",
    "    ax['A'].plot(lfp)\n",
    "    ax['A'].plot(lfp_filt)\n",
    "    plt.sca(ax['A'])\n",
    "    bk.plot.intervals(states['Rem'],time_units='us')\n",
    "    ax['B'].plot(phase)\n",
    "    ax['B'].plot(neurons_phase[i],'ro')\n",
    "\n",
    "    h,a = np.histogram(neurons_phase[i].values,50)\n",
    "    a = np.convolve(a,[.5,.5],'same')[1::]\n",
    "    \n",
    "    ax['C'].bar(a,h,a[1]-a[0])\n",
    "    ax['C'].bar(a+2*np.pi,h,a[1]-a[0])\n",
    "\n",
    "#     ax['C'].bar(neurons_phase[i].values+(2*np.pi),50,'blue')\n",
    "\n",
    "    ax['A'].get_shared_x_axes().join(ax['A'], ax['B'])\n",
    "    polar_ax.bar(a,h,a[1]-a[0])\n",
    "    \n",
    "    plt.suptitle(f'Neuron #{i}')\n",
    "\n",
    "# plt.subplot(211)\n",
    "# plt.plot(lfp)\n",
    "# plt.plot(lfp.times(),lfp_filt)"
   ]
  },
  {
   "cell_type": "code",
   "execution_count": 242,
   "id": "b0f33aa7",
   "metadata": {},
   "outputs": [],
   "source": []
  },
  {
   "cell_type": "code",
   "execution_count": 243,
   "id": "8709544d",
   "metadata": {},
   "outputs": [
    {
     "data": {
      "text/plain": [
       "(50,)"
      ]
     },
     "execution_count": 243,
     "metadata": {},
     "output_type": "execute_result"
    }
   ],
   "source": [
    "h.shape"
   ]
  },
  {
   "cell_type": "code",
   "execution_count": 247,
   "id": "3eab1895",
   "metadata": {},
   "outputs": [
    {
     "data": {
      "text/plain": [
       "array([-3.07790296, -2.95227438, -2.82664579, -2.70101721, -2.57538863,\n",
       "       -2.44976005, -2.32413147, -2.19850289, -2.0728743 , -1.94724572,\n",
       "       -1.82161714, -1.69598856, -1.57035998, -1.4447314 , -1.31910281,\n",
       "       -1.19347423, -1.06784565, -0.94221707, -0.81658849, -0.69095991,\n",
       "       -0.56533132, -0.43970274, -0.31407416, -0.18844558, -0.062817  ,\n",
       "        0.06281158,  0.18844017,  0.31406875,  0.43969733,  0.56532591,\n",
       "        0.69095449,  0.81658307,  0.94221166,  1.06784024,  1.19346882,\n",
       "        1.3190974 ,  1.44472598,  1.57035456,  1.69598315,  1.82161173,\n",
       "        1.94724031,  2.07286889,  2.19849747,  2.32412605,  2.44975464,\n",
       "        2.57538322,  2.7010118 ,  2.82664038,  2.95226896,  3.07789754])"
      ]
     },
     "execution_count": 247,
     "metadata": {},
     "output_type": "execute_result"
    }
   ],
   "source": [
    "t"
   ]
  },
  {
   "cell_type": "code",
   "execution_count": null,
   "id": "a9874b03",
   "metadata": {},
   "outputs": [],
   "source": []
  }
 ],
 "metadata": {
  "kernelspec": {
   "display_name": "Python 3",
   "language": "python",
   "name": "python3"
  },
  "language_info": {
   "codemirror_mode": {
    "name": "ipython",
    "version": 3
   },
   "file_extension": ".py",
   "mimetype": "text/x-python",
   "name": "python",
   "nbconvert_exporter": "python",
   "pygments_lexer": "ipython3",
   "version": "3.8.5"
  }
 },
 "nbformat": 4,
 "nbformat_minor": 5
}
