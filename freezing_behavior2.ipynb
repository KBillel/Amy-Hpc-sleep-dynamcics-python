{
 "cells": [
  {
   "cell_type": "code",
   "execution_count": 1,
   "metadata": {},
   "outputs": [],
   "source": [
    "%matplotlib qt\n",
    "\n",
    "import neuroseries as nts\n",
    "\n",
    "import numpy as np\n",
    "import matplotlib.pyplot as plt\n",
    "import pandas as pd\n",
    "\n",
    "from matplotlib import cm\n",
    "\n",
    "import scipy.stats\n",
    "import scipy.ndimage\n",
    "import scipy.signal\n",
    "\n",
    "import os\n",
    "\n",
    "import csv\n",
    "\n",
    "import cv2\n",
    "import datetime\n",
    "\n",
    "import bk.load \n",
    "import bk.plot\n",
    "import bk.compute\n",
    "\n",
    "import sklearn.manifold as skm"
   ]
  },
  {
   "cell_type": "code",
   "execution_count": 2,
   "metadata": {},
   "outputs": [],
   "source": [
    "def pourcent_freezing(interval, freezing_intervals): \n",
    "    freezing_intervals_in_interval = freezing_intervals.intersect(interval)\n",
    "    total_time_freezing = np.sum(freezing_intervals_in_interval.end-freezing_intervals_in_interval.start)\n",
    "    total_time = interval.end-interval.start\n",
    "    pourcentage = (total_time_freezing/total_time)*100\n",
    "    return pourcentage\n",
    "\n",
    "def all_pourcentages(intervals, freezing_intervals):\n",
    "    pourcentages = []\n",
    "    for i in range(len(intervals)):\n",
    "        interval = intervals.loc[i]\n",
    "        pourcentages.append(pourcent_freezing(interval, freezing_intervals))\n",
    "    return pourcentages\n",
    "\n",
    "def GetStartExp(Exp,Fs = 20000):\n",
    "    if isinstance(Exp[0],(np.bool_,bool)):\n",
    "        Exp = list(map(int,Exp))\n",
    "    \n",
    "    diff_Exp = np.diff(Exp)\n",
    "    \n",
    "    t_start = np.where(diff_Exp == 1)[0]    \n",
    "    return t_start/Fs"
   ]
  },
  {
   "cell_type": "code",
   "execution_count": 3,
   "metadata": {},
   "outputs": [],
   "source": [
    "path = '/mnt/electrophy/Maelle/Behavior/Maelle/classical_fear_conditionning/'"
   ]
  },
  {
   "cell_type": "code",
   "execution_count": 4,
   "metadata": {},
   "outputs": [
    {
     "name": "stdout",
     "output_type": "stream",
     "text": [
      "Rat : 9 on day : 1\n",
      "Working with session Rat09_201118_180813 @ /mnt/electrophy/Maelle/Behavior/Maelle/classical_fear_conditionning/Rat09-20201118/Rat09_201118_180813\n"
     ]
    },
    {
     "data": {
      "text/plain": [
       "True"
      ]
     },
     "execution_count": 4,
     "metadata": {},
     "output_type": "execute_result"
    }
   ],
   "source": [
    "bk.load.current_session_linux(path,'Rat09-20201118/Rat09_201118_180813')"
   ]
  },
  {
   "cell_type": "code",
   "execution_count": 11,
   "metadata": {},
   "outputs": [],
   "source": [
    "exp, shock, tone = bk.compute.intervals_exp()"
   ]
  },
  {
   "cell_type": "code",
   "execution_count": 5,
   "metadata": {},
   "outputs": [
    {
     "data": {
      "text/html": [
       "<div>\n",
       "<style scoped>\n",
       "    .dataframe tbody tr th:only-of-type {\n",
       "        vertical-align: middle;\n",
       "    }\n",
       "\n",
       "    .dataframe tbody tr th {\n",
       "        vertical-align: top;\n",
       "    }\n",
       "\n",
       "    .dataframe thead th {\n",
       "        text-align: right;\n",
       "    }\n",
       "</style>\n",
       "<table border=\"1\" class=\"dataframe\">\n",
       "  <thead>\n",
       "    <tr style=\"text-align: right;\">\n",
       "      <th></th>\n",
       "      <th>Rat</th>\n",
       "      <th>Day</th>\n",
       "      <th>Exp</th>\n",
       "      <th>Path</th>\n",
       "    </tr>\n",
       "  </thead>\n",
       "  <tbody>\n",
       "    <tr>\n",
       "      <th>0</th>\n",
       "      <td>1</td>\n",
       "      <td>1</td>\n",
       "      <td>Fear</td>\n",
       "      <td>Rat01-20200630/rat01_200630_114732</td>\n",
       "    </tr>\n",
       "    <tr>\n",
       "      <th>1</th>\n",
       "      <td>1</td>\n",
       "      <td>1</td>\n",
       "      <td>Tone</td>\n",
       "      <td>Rat01-20200630/rat01_200630_171900</td>\n",
       "    </tr>\n",
       "    <tr>\n",
       "      <th>2</th>\n",
       "      <td>1</td>\n",
       "      <td>1</td>\n",
       "      <td>Context</td>\n",
       "      <td>Rat01-20200630/rat01_200630_183149</td>\n",
       "    </tr>\n",
       "    <tr>\n",
       "      <th>3</th>\n",
       "      <td>2</td>\n",
       "      <td>1</td>\n",
       "      <td>Fear</td>\n",
       "      <td>Rat02-20200707/rat02_200707_114611</td>\n",
       "    </tr>\n",
       "    <tr>\n",
       "      <th>4</th>\n",
       "      <td>2</td>\n",
       "      <td>1</td>\n",
       "      <td>Context</td>\n",
       "      <td>Rat02-20200707/rat02_200707_172929</td>\n",
       "    </tr>\n",
       "    <tr>\n",
       "      <th>5</th>\n",
       "      <td>2</td>\n",
       "      <td>1</td>\n",
       "      <td>Tone</td>\n",
       "      <td>Rat02-20200707/rat02_200707_172929</td>\n",
       "    </tr>\n",
       "    <tr>\n",
       "      <th>6</th>\n",
       "      <td>9</td>\n",
       "      <td>1</td>\n",
       "      <td>Fear</td>\n",
       "      <td>Rat09-20201118/Rat09_201118_110003</td>\n",
       "    </tr>\n",
       "    <tr>\n",
       "      <th>7</th>\n",
       "      <td>9</td>\n",
       "      <td>1</td>\n",
       "      <td>Tone</td>\n",
       "      <td>Rat09-20201118/Rat09_201118_170529</td>\n",
       "    </tr>\n",
       "    <tr>\n",
       "      <th>8</th>\n",
       "      <td>9</td>\n",
       "      <td>1</td>\n",
       "      <td>Context</td>\n",
       "      <td>Rat09-20201118/Rat09_201118_180813</td>\n",
       "    </tr>\n",
       "  </tbody>\n",
       "</table>\n",
       "</div>"
      ],
      "text/plain": [
       "   Rat  Day      Exp                                Path\n",
       "0    1    1     Fear  Rat01-20200630/rat01_200630_114732\n",
       "1    1    1     Tone  Rat01-20200630/rat01_200630_171900\n",
       "2    1    1  Context  Rat01-20200630/rat01_200630_183149\n",
       "3    2    1     Fear  Rat02-20200707/rat02_200707_114611\n",
       "4    2    1  Context  Rat02-20200707/rat02_200707_172929\n",
       "5    2    1     Tone  Rat02-20200707/rat02_200707_172929\n",
       "6    9    1     Fear  Rat09-20201118/Rat09_201118_110003\n",
       "7    9    1     Tone  Rat09-20201118/Rat09_201118_170529\n",
       "8    9    1  Context  Rat09-20201118/Rat09_201118_180813"
      ]
     },
     "execution_count": 5,
     "metadata": {},
     "output_type": "execute_result"
    }
   ],
   "source": [
    "bk.load.sessions()"
   ]
  },
  {
   "cell_type": "code",
   "execution_count": null,
   "metadata": {},
   "outputs": [],
   "source": []
  }
 ],
 "metadata": {
  "kernelspec": {
   "display_name": "Python 3.9.7 ('base')",
   "language": "python",
   "name": "python3"
  },
  "language_info": {
   "codemirror_mode": {
    "name": "ipython",
    "version": 3
   },
   "file_extension": ".py",
   "mimetype": "text/x-python",
   "name": "python",
   "nbconvert_exporter": "python",
   "pygments_lexer": "ipython3",
   "version": "3.9.7"
  },
  "orig_nbformat": 4,
  "vscode": {
   "interpreter": {
    "hash": "dc93b3fb48dfd2593d4a40b397dc62a97606514bfa701f6565ff70ef36514844"
   }
  }
 },
 "nbformat": 4,
 "nbformat_minor": 2
}
