{
 "cells": [
  {
   "cell_type": "code",
   "execution_count": 1,
   "metadata": {},
   "outputs": [],
   "source": [
    "import numpy as np\n",
    "import matplotlib.pyplot as plt\n",
    "import cv2"
   ]
  },
  {
   "cell_type": "code",
   "execution_count": 7,
   "metadata": {},
   "outputs": [],
   "source": [
    "def CountFramesFast(path):\n",
    "\n",
    "    cap = cv2.VideoCapture(path)\n",
    "    return(int(cap.get(cv2.CAP_PROP_FRAME_COUNT)))\n",
    "\n",
    "def TTL_to_intervals(TTL,Fs = 20000,as_nts = False):\n",
    "    if isinstance(TTL[0],(np.bool_,bool)):\n",
    "        TTL = list(map(int,TTL))\n",
    "    \n",
    "    \n",
    "    diff_TTL = np.diff(TTL)\n",
    "    \n",
    "    t_start = np.where(diff_TTL == 1)[0]\n",
    "    t_end = np.where(diff_TTL == -1)[0]\n",
    "    # t_TTL = np.array([np.mean(interval) for interval in zip(t_start,t_end)])\n",
    "    \n",
    "    if as_nts:\n",
    "        return nts.IntervalSet(t_start/Fs,t_end/Fs,time_units = 's')\n",
    "    return (t_start/Fs,t_end/Fs)"
   ]
  },
  {
   "cell_type": "code",
   "execution_count": 10,
   "metadata": {},
   "outputs": [],
   "source": [
    "path = '/mnt/electrophy/Billel/BK-Dataset/Tests/Rat00/Rat00-20220504/Rat00_220504_152505/'\n",
    "ls = os.listdir()\n",
    "video = [v for v in ls if v.endswith('mp4')][0]\n",
    "video = os.path.join(path,video)\n",
    "\n",
    "\n",
    "os.chdir(path)\n",
    "ttl = np.load('ttl.npy')\n",
    "inter = TTL_to_intervals(ttl)"
   ]
  }
 ],
 "metadata": {
  "interpreter": {
   "hash": "916dbcbb3f70747c44a77c7bcd40155683ae19c65e1c03b4aa3499c5328201f1"
  },
  "kernelspec": {
   "display_name": "Python 3.8.10 64-bit",
   "language": "python",
   "name": "python3"
  },
  "language_info": {
   "codemirror_mode": {
    "name": "ipython",
    "version": 3
   },
   "file_extension": ".py",
   "mimetype": "text/x-python",
   "name": "python",
   "nbconvert_exporter": "python",
   "pygments_lexer": "ipython3",
   "version": "3.9.7"
  },
  "orig_nbformat": 4
 },
 "nbformat": 4,
 "nbformat_minor": 2
}
