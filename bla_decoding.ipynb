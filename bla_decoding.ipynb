{
 "cells": [
  {
   "cell_type": "code",
   "execution_count": 2,
   "metadata": {},
   "outputs": [
    {
     "name": "stdout",
     "output_type": "stream",
     "text": [
      "Using matplotlib backend: Qt5Agg\n"
     ]
    }
   ],
   "source": [
    "from scipy.io import loadmat\n",
    "from scipy.stats import zscore\n",
    "import numpy as np\n",
    "import pandas as pd\n",
    "import matplotlib.pyplot as plt\n",
    "from mpl_toolkits.mplot3d import Axes3D\n",
    "from scipy.ndimage import gaussian_filter\n",
    "from sklearn.manifold import Isomap\n",
    "%matplotlib\n",
    "\n",
    "\n",
    "def pcacov(C):\n",
    "    return np.linalg.eig(C)\n",
    "\n",
    "def PlotProjections(PCScores,c=[]):\n",
    "\n",
    "    if not len(c): c = range(np.size(PCScores,0))\n",
    "    \n",
    "    plt.figure()\n",
    "    plt.hsv()\n",
    "    plt.scatter(PCScores[:,0],PCScores[:,1],1,c = c )\n",
    "    plt.colorbar()\n",
    "\n",
    "def PCAnimation(PCScores,c=[],step=500):\n",
    "    if not len(c): c = range(np.size(PCScores,0))\n",
    "        \n",
    "    for i in np.arange(1,np.size(PCScores)-step,5):\n",
    "        plt.clf()\n",
    "        plt.scatter(PCScores[i:i+step,0],PCScores[i:i+step,1],1,c = c[i:i+step] )\n",
    "        plt.draw\n",
    "        plt.pause(0.0000001)\n",
    "\n",
    "def PlotProjections3D(PCScores,c=0,step=20):\n",
    "    if c == 0:\n",
    "        s = np.size(PCScores,0)\n",
    "    fig = plt.figure()\n",
    "    ax = fig.add_subplot(111,projection = '3d')\n",
    "    ax.scatter(PCScores[0:s:step,0],PCScores[0:s:step,1],PCScores[0:s:step,2],s=1,c=range(s)[0:s:step])\n",
    "\n",
    "def IsoPlot(X,step,pos = [],sig = 5):\n",
    "    iso = Isomap(n_components=2)\n",
    "    Y = iso.fit_transform(X[0:-1:step,:])\n",
    "\n",
    "    if not len(pos): \n",
    "        c = range(len(Y))\n",
    "    else:\n",
    "        c = pos[0:-1:step]\n",
    "    Y[:,0] = gaussian_filter(Y[:,0],sig)\n",
    "    Y[:,1] = gaussian_filter(Y[:,1],sig)\n",
    "    plt.figure()\n",
    "    plt.scatter(Y[:,0],Y[:,1],c=c)\n"
   ]
  },
  {
   "cell_type": "code",
   "execution_count": 3,
   "metadata": {},
   "outputs": [],
   "source": [
    "data = loadmat('data_bla')\n",
    "Qrun = data['Qrun']\n",
    "Qsws = data['Qsws']\n",
    "Qrem = data['Qrem']\n",
    "bins = data['run_bins'].squeeze()\n",
    "AirpuffDist = data['AirpuffDistance']\n",
    "\n",
    "data = loadmat('data_hpc')\n",
    "Qrun = data['Qrun']\n",
    "Qsws = data['Qsws']\n",
    "Qrem = data['Qrem']\n",
    "\n",
    "data = loadmat('pos')\n",
    "pos = data['pos']"
   ]
  },
  {
   "cell_type": "code",
   "execution_count": 4,
   "metadata": {},
   "outputs": [
    {
     "name": "stdout",
     "output_type": "stream",
     "text": [
      "(74115,)\n"
     ]
    }
   ],
   "source": [
    "AirpuffDist = pd.DataFrame(AirpuffDist,columns = ['t','d'])\n",
    "AirpuffDist.index = AirpuffDist.t\n",
    "\n",
    "Qdist = AirpuffDist.reindex(bins,method= 'nearest').d\n",
    "Qdist.index = np.arange(0,np.size(Qdist,0),1)\n",
    "\n",
    "pos = pd.DataFrame(pos,columns=['t','x','y'])\n",
    "\n",
    "Qpos = pos.reindex(bins,method = 'nearest').x\n",
    "Qpos.index = np.arange(0,np.size(Qpos,0),1)\n",
    "\n",
    "print(np.shape(Qpos))"
   ]
  },
  {
   "cell_type": "code",
   "execution_count": 5,
   "metadata": {},
   "outputs": [],
   "source": [
    "C = np.corrcoef(Qrun.T)\n",
    "eigvalues,vectors = np.linalg.eig(C)\n",
    "\n",
    "w1 = vectors[:,0]\n",
    "w2 = vectors[:,1]\n",
    "w3 = vectors[:,2]"
   ]
  },
  {
   "cell_type": "code",
   "execution_count": 6,
   "metadata": {},
   "outputs": [
    {
     "data": {
      "text/plain": [
       "<StemContainer object of 3 artists>"
      ]
     },
     "execution_count": 6,
     "metadata": {},
     "output_type": "execute_result"
    }
   ],
   "source": [
    "plt.figure()\n",
    "plt.stem(range(len(w1)),w1,'b')\n",
    "plt.stem(range(len(w1)),w2,'r')\n",
    "plt.stem(range(len(w1)),w3,'g')"
   ]
  },
  {
   "cell_type": "code",
   "execution_count": 9,
   "metadata": {},
   "outputs": [],
   "source": [
    "PCScoreRun = np.array([zscore(Qrun).dot(w1).T,zscore(Qrun).dot(w2),zscore(Qrun).dot(w3)])\n",
    "PCScoreRun = gaussian_filter(PCScoreRun.T,[50,0])\n",
    "\n",
    "PCScoreRem = np.array([zscore(Qrem).dot(vectors[:,0]).T,zscore(Qrem).dot(vectors[:,1])])\n",
    "PCScoreRem = gaussian_filter(PCScoreRem.T,[50,0])\n",
    "\n",
    "PCScoreSws = np.array([zscore(Qsws).dot(w1).T,zscore(Qsws).dot(w2),zscore(Qsws).dot(w3)])\n",
    "PCScoreSws = gaussian_filter(PCScoreSws.T,[50,0])\n",
    "\n",
    "#PlotProjections3D(PCScoreSws,step = 10)"
   ]
  },
  {
   "cell_type": "code",
   "execution_count": 7,
   "metadata": {},
   "outputs": [],
   "source": [
    "IsoPlot(Qrun,10,sig = 13)"
   ]
  },
  {
   "cell_type": "code",
   "execution_count": 10,
   "metadata": {},
   "outputs": [],
   "source": [
    "PlotProjections(PCScoreRun,Qpos)\n",
    "PlotProjections(PCScoreRem)\n",
    "PlotProjections(PCScoreSws)"
   ]
  },
  {
   "cell_type": "code",
   "execution_count": 10,
   "metadata": {},
   "outputs": [],
   "source": [
    "PCAnimation(PCScoreRun)"
   ]
  },
  {
   "cell_type": "code",
   "execution_count": 64,
   "metadata": {},
   "outputs": [
    {
     "data": {
      "text/plain": [
       "0        124.1066\n",
       "1        124.1066\n",
       "2        124.1066\n",
       "3        124.1066\n",
       "4        124.1066\n",
       "           ...   \n",
       "74110    244.7646\n",
       "74111    244.7646\n",
       "74112    244.7646\n",
       "74113    244.7646\n",
       "74114    244.7646\n",
       "Name: x, Length: 74115, dtype: float64"
      ]
     },
     "execution_count": 64,
     "metadata": {},
     "output_type": "execute_result"
    }
   ],
   "source": [
    "Qpos"
   ]
  },
  {
   "cell_type": "code",
   "execution_count": 65,
   "metadata": {},
   "outputs": [
    {
     "ename": "TypeError",
     "evalue": "_append_dispatcher() missing 1 required positional argument: 'values'",
     "output_type": "error",
     "traceback": [
      "\u001b[0;31m---------------------------------------------------------------------------\u001b[0m",
      "\u001b[0;31mTypeError\u001b[0m                                 Traceback (most recent call last)",
      "\u001b[0;32m<ipython-input-65-f4eb978c65cf>\u001b[0m in \u001b[0;36m<module>\u001b[0;34m\u001b[0m\n\u001b[0;32m----> 1\u001b[0;31m \u001b[0mnp\u001b[0m\u001b[0;34m.\u001b[0m\u001b[0mappend\u001b[0m\u001b[0;34m(\u001b[0m\u001b[0;34m[\u001b[0m\u001b[0;36m1\u001b[0m\u001b[0;34m,\u001b[0m\u001b[0;36m2\u001b[0m\u001b[0;34m,\u001b[0m\u001b[0;36m3\u001b[0m\u001b[0;34m]\u001b[0m\u001b[0;34m)\u001b[0m\u001b[0;34m\u001b[0m\u001b[0;34m\u001b[0m\u001b[0m\n\u001b[0m",
      "\u001b[0;32m<__array_function__ internals>\u001b[0m in \u001b[0;36mappend\u001b[0;34m(*args, **kwargs)\u001b[0m\n",
      "\u001b[0;31mTypeError\u001b[0m: _append_dispatcher() missing 1 required positional argument: 'values'"
     ]
    }
   ],
   "source": []
  },
  {
   "cell_type": "code",
   "execution_count": null,
   "metadata": {},
   "outputs": [],
   "source": []
  }
 ],
 "metadata": {
  "file_extension": ".py",
  "kernelspec": {
   "display_name": "Python 3",
   "language": "python",
   "name": "python3"
  },
  "language_info": {
   "codemirror_mode": {
    "name": "ipython",
    "version": 3
   },
   "file_extension": ".py",
   "mimetype": "text/x-python",
   "name": "python",
   "nbconvert_exporter": "python",
   "pygments_lexer": "ipython3",
   "version": "3.7.6"
  },
  "mimetype": "text/x-python",
  "name": "python",
  "npconvert_exporter": "python",
  "pygments_lexer": "ipython3",
  "version": 3
 },
 "nbformat": 4,
 "nbformat_minor": 4
}
