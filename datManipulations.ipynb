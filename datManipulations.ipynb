{
 "cells": [
  {
   "cell_type": "code",
   "execution_count": 4,
   "metadata": {},
   "outputs": [],
   "source": [
    "import matplotlib.pyplot as plt\n",
    "import os\n",
    "import numpy as np\n",
    "%matplotlib qt"
   ]
  },
  {
   "cell_type": "code",
   "execution_count": 5,
   "metadata": {},
   "outputs": [],
   "source": [
    "def cut_lfp_dat(p,path_out,n_channels,start,stop,frequency = 20000):\n",
    "    bytes_size = 2\n",
    "    start_index = int(start*frequency*n_channels*bytes_size)\n",
    "    stop_index = int(stop*frequency*n_channels*bytes_size)\n",
    "    #In order not to read after the file\n",
    "    if stop_index > os.path.getsize(p): stop_index = os.path.getsize(p)\n",
    "    fp = np.memmap(p, np.int16, 'r', start_index, shape = (stop_index - start_index)//bytes_size)\n",
    "    data = np.array(fp).reshape(len(fp)//n_channels, n_channels)\n",
    "#     plt.plot(data[::16,89])\n",
    "    return data\n"
   ]
  },
  {
   "cell_type": "code",
   "execution_count": 6,
   "metadata": {},
   "outputs": [],
   "source": [
    "save_folder = \"Z:/Tmp/\""
   ]
  },
  {
   "cell_type": "code",
   "execution_count": 7,
   "metadata": {},
   "outputs": [],
   "source": [
    "rat_03_path = 'Z:/Rat03-vHPC/Rat03-20201007/Rat03-20201007.dat'\n",
    "rat_03 = {\n",
    "#           'easy_ripples' : [17450,17800],\n",
    "#           'REM'          : [17100,17160],\n",
    "#           'REM2'         : [18180,18333],\n",
    "#           'REM3'         : [18639,18802],\n",
    "#           'unplugged'    : [19840,19900],\n",
    "          'plugged'      : [20300,20360]\n",
    "}\n",
    "rat_08_path = 'Z:/Rat08/Rat08-20130713/Rat08-20130713.dat'\n",
    "rat_08 = {\n",
    "          'hard_ripples' : [17580,17800]\n",
    "}"
   ]
  },
  {
   "cell_type": "code",
   "execution_count": 9,
   "metadata": {},
   "outputs": [],
   "source": [
    "# for n,times in rat_03.items():\n",
    "#     data = cut_lfp_dat(rat_03_path,'',102,times[0],times[1])\n",
    "#     with open(f'Z:/Tmp/{n}.dat','wb') as f:\n",
    "#         f.write(data)\n",
    "#         f.close()\n",
    "#     np.save(f'Z:/Tmp/{n}.npy',data)\n",
    "\n",
    "    \n",
    "for n,times in rat_08.items():\n",
    "    data = cut_lfp_dat(rat_08_path,'',166,times[0],times[1])\n",
    "    with open(f'Z:/Tmp/{n}.dat','wb') as f:\n",
    "        f.write(data)\n",
    "        f.close()\n",
    "    np.save(f'Z:/Tmp/{n}.npy',data)\n",
    "    "
   ]
  },
  {
   "cell_type": "code",
   "execution_count": 21,
   "metadata": {},
   "outputs": [],
   "source": [
    "data = cut_lfp_dat(rat_03_path,'',102,rat_03['REM'][0],rat_03['REM'][1])"
   ]
  },
  {
   "cell_type": "code",
   "execution_count": 23,
   "metadata": {},
   "outputs": [],
   "source": []
  },
  {
   "cell_type": "code",
   "execution_count": 19,
   "metadata": {},
   "outputs": [],
   "source": [
    "def concat_lfp_dat(session,path_dat):\n",
    "    \n",
    "    print('Starting dat concatenation')\n",
    "    \n",
    "    to_cat = \" + \".join(path_dat)\n",
    "    p = subprocess.Popen('copy /B ' + to_cat + \" \" + session+'.dat&',shell = True)\n",
    "    \n",
    "    #Check if concatenated file is not corrupted : \n",
    "    originalFileSize = []\n",
    "    for p in path_dat:\n",
    "        originalFileSize.append(os.path.getsize(p))\n",
    "    finalSize = np.sum(originalFileSize)\n",
    "    f = False\n",
    "    while not f:\n",
    "        f = os.path.exists(session+'.dat')\n",
    "        \n",
    "    pbar = tqdm(total = finalSize,desc = 'Concat : ')\n",
    "    concatSize = 0\n",
    "    while concatSize < finalSize:\n",
    "        time.sleep(10)\n",
    "        s = os.path.getsize(session+'.dat')\n",
    "        \n",
    "        if concatSize == s:\n",
    "            print('Concatenation in stuck try again')\n",
    "            p.kill()\n",
    "            break\n",
    "        \n",
    "        pbar.update(s-concatSize)\n",
    "        concatSize = s\n",
    " \n",
    "    originalFileSize = []\n",
    "    for p in path_dat:\n",
    "        originalFileSize.append(os.path.getsize(p))\n",
    "    finalSize = np.sum(originalFileSize)\n",
    "    concatSize = os.path.getsize(session+'.dat')\n",
    "    \n",
    "    \n",
    "    if finalSize == concatSize: \n",
    "        print('Concat Succefull')\n",
    "        print('Creating cat event file')\n",
    "        \n",
    "        t_rec = []\n",
    "        for p in path_dat:\n",
    "            t = os.path.getsize(p)/(fs*nChannels*bytePerSample)\n",
    "            print(t)\n",
    "            t_rec.append(t)\n",
    "        concat_event = np.cumsum(t_rec)*1000 # 1000 is for conversion in ms\n",
    "        \n",
    "        with open(session+'.cat.evt','w') as f:\n",
    "            for c in concat_event:\n",
    "                f.write(str(c)+ ' cat\\n')\n",
    "        return 1\n",
    "    else:\n",
    "        print('Error, please try again. Check freespace on your drives. You need at least',np.sum(originalFileSize)/1e9,'GB')\n",
    "        return 0"
   ]
  },
  {
   "cell_type": "code",
   "execution_count": null,
   "metadata": {},
   "outputs": [],
   "source": []
  }
 ],
 "metadata": {
  "kernelspec": {
   "display_name": "Python 3",
   "language": "python",
   "name": "python3"
  },
  "language_info": {
   "codemirror_mode": {
    "name": "ipython",
    "version": 3
   },
   "file_extension": ".py",
   "mimetype": "text/x-python",
   "name": "python",
   "nbconvert_exporter": "python",
   "pygments_lexer": "ipython3",
   "version": "3.7.6"
  }
 },
 "nbformat": 4,
 "nbformat_minor": 4
}
