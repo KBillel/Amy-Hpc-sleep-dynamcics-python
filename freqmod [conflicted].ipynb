{
 "cells": [
  {
   "cell_type": "markdown",
   "metadata": {},
   "source": [
    "Import"
   ]
  },
  {
   "cell_type": "code",
   "execution_count": 9,
   "metadata": {},
   "outputs": [],
   "source": [
    "import sys\n",
    "import itertools\n",
    "\n",
    "import numpy as np\n",
    "import pandas as pd\n",
    "import scipy.signal\n",
    "from scipy.signal import savgol_filter\n",
    "from scipy.stats import zscore\n",
    "from tqdm import tqdm\n",
    "\n",
    "import neuroseries as nts\n",
    "\n",
    "\n",
    "import time\n",
    "import matplotlib.pyplot as plt\n",
    "\n",
    "import seaborn as sns \n",
    "import bk.load\n",
    "import bk.compute\n",
    "import bk.plot\n",
    "import bk.signal\n",
    "import bk.stats\n",
    "\n",
    "import os\n",
    "\n",
    "\n",
    "import astropy.stats as apy\n",
    "plt.rcParams['svg.fonttype'] = 'none'"
   ]
  },
  {
   "cell_type": "code",
   "execution_count": 10,
   "metadata": {},
   "outputs": [],
   "source": [
    "def fr(spikes,state):\n",
    "    return(len(spikes.restrict(state))/state.tot_length(time_units='s'))\n",
    "\n",
    "def mod_stats(spikes,phases,nbins):\n",
    "    phases_signal_distrib, _ = np.histogram(phases.values,nbins,density=True)\n",
    "    phases_signal_distrib = phases_signal_distrib*nbins / np.sum(phases_signal_distrib)\n",
    "\n",
    "\n",
    "    neuron_phase = phases.realign(spikes)\n",
    "    \n",
    "    stats = {\n",
    "        'pvalue':np.nan,\n",
    "        'kappa':np.nan,\n",
    "        'MRL':np.nan\n",
    "    }\n",
    "    \n",
    "    if len(neuron_phase) == 0: return stats\n",
    "\n",
    "    phases_distribution, bin_p = np.histogram(neuron_phase.values, nbins) \n",
    "    phases_distribution = phases_distribution/phases_signal_distrib\n",
    "\n",
    "    bin_p = np.convolve(bin_p, [.5, .5], 'same')[1::]\n",
    "\n",
    "\n",
    "    stats['pvalue'] = bk.stats.rayleigh(bin_p,weights = phases_distribution)\n",
    "    stats['kappa'] = bk.compute.concentration(neuron_phase.values)\n",
    "    stats['MRL'] = bk.compute.mean_resultant_length(bin_p,weights = phases_distribution)\n",
    "\n",
    "    return bin_p,phases_distribution,stats\n",
    "    \n",
    "def phase_mod(neurons,metadata,state,low,high,nbins = 1000,channel=None):\n",
    "    \n",
    "    if low >50:\n",
    "        return phase_mod_local(neurons,metadata,state,low,high,nbins = 1000)\n",
    "            \n",
    "    lfp = bk.load.lfp_in_intervals(channel,state)\n",
    "    lfp_filt = bk.signal.passband(lfp,low,high,1250,2)\n",
    "    power, phase = bk.signal.hilbert(lfp_filt)\n",
    "\n",
    "    stats = {'fr_rem': [],\n",
    "             'pvalue': [],\n",
    "             'kappa': [],\n",
    "             'MRL': [],\n",
    "             'modulated':[]}\n",
    "    for i,n in tqdm(enumerate(neurons)):\n",
    "        bin_p, phases_distributions,stat = mod_stats(n.restrict(state),phase,nbins)\n",
    "        stats['fr_rem'].append(fr(n,state))\n",
    "        for k, s in stat.items():\n",
    "            stats[k].append(s)\n",
    "        if (stat['pvalue'] < 0.01) and stat['MRL'] > 0.04:\n",
    "            stats['modulated'].append(True)\n",
    "        else:\n",
    "            stats['modulated'].append(False)\n",
    "\n",
    "    phase_lock = pd.DataFrame({'FR_Rem': stats['fr_rem'],\n",
    "                               'MRL': stats['MRL'],\n",
    "                               'Kappa': stats['kappa'],\n",
    "                               'pValue': stats['pvalue'],\n",
    "                               'modulated': stats['modulated']})\n",
    "    \n",
    "        \n",
    "    return bin_p,phases_distributions,phase_lock\n",
    "\n",
    "\n",
    "def phase_mod_local(neurons, metadata, state, low, high, nbins=1000):\n",
    "\n",
    "    stats = {'fr_rem': [],\n",
    "                'pvalue': [],\n",
    "                'kappa': [],\n",
    "                'MRL': [],\n",
    "                'modulated':[]}\n",
    "    phases_distributions = np.zeros((nbins, len(neurons)))\n",
    "\n",
    "    previous_channel = 0\n",
    "\n",
    "    for i, (n, m) in tqdm(enumerate(zip(neurons, metadata.iloc))):\n",
    "        shank_neighbour = bk.load.shank_neighbours(m.Shank)\n",
    "\n",
    "        if np.isfinite(shank_neighbour['medial']):\n",
    "            neighbour_channel = bk.load.best_channel(shank_neighbour['medial'])\n",
    "        else:\n",
    "            neighbour_channel = bk.load.best_channel(\n",
    "                shank_neighbour['lateral'])\n",
    "\n",
    "        if previous_channel != neighbour_channel:\n",
    "            print(\n",
    "                f'Loading a New LFP for neurons with shank : {m.Shank} --> {shank_neighbour}')\n",
    "            previous_channel = neighbour_channel\n",
    "\n",
    "            lfp = bk.load.lfp_in_intervals(neighbour_channel, state)\n",
    "            lfp_filt = bk.signal.passband(lfp, low, high)\n",
    "            power, phases = bk.signal.hilbert(lfp_filt)\n",
    "            # phases_signal_distrib, _ = np.histogram(\n",
    "            #     phases.values, nbins, density=True)\n",
    "            # phases_signal_distrib = phases_signal_distrib * \\\n",
    "            #     nbins / np.sum(phases_signal_distrib)\n",
    "\n",
    "        bin_p, phases_distributions[:, i], stat = mod_stats(n, phases, nbins)\n",
    "\n",
    "\n",
    "        stats['fr_rem'].append (len(n.restrict(state))/state.tot_length(time_units='s'))\n",
    "\n",
    "        for k, s in stat.items():\n",
    "            stats[k].append(s)\n",
    "\n",
    "        if (stat['pvalue'] < 0.01) and stat['MRL'] > 0.04:\n",
    "            stats['modulated'].append(True)\n",
    "        else:\n",
    "            stats['modulated'].append(False)\n",
    "\n",
    "    phase_lock = pd.DataFrame({'FR_Rem': stats['fr_rem'],\n",
    "                                'MRL': stats['MRL'],\n",
    "                                'Kappa': stats['kappa'],\n",
    "                                'pValue': stats['pvalue'],\n",
    "                                'modulated': stats['modulated']})\n",
    "\n",
    "    return bin_p, phases_distributions, phase_lock\n"
   ]
  },
  {
   "cell_type": "code",
   "execution_count": 11,
   "metadata": {},
   "outputs": [],
   "source": [
    "def plot_phase_mod(phases, mod, metadata, ax=None):\n",
    "    if ax is None:\n",
    "        fig, ax = plt.subplots(1, 1)\n",
    "\n",
    "    ax.bar(phases, mod, phases[1]-phases[0], color='lightblue')\n",
    "    ax.bar(phases+2*np.pi, mod, phases[1]-phases[0], color='lightblue')\n",
    "\n",
    "    plt.suptitle(\n",
    "        f'Neuron #{metadata.name}, Shank = {metadata.Shank}, Region = {metadata.Region}, Type = {metadata.Type}  \\nFR_Rem = {metadata.FR_Rem} Hz \\npValue = {metadata.pValue} \\n MRL = {metadata.MRL}, Kappa = {metadata.Kappa} \\n Modulated : {metadata.modulated}')\n",
    "    if metadata.modulated:\n",
    "        # ax.set_facecolor('lightgreen')\n",
    "        fig.set_facecolor('lightgreen')\n",
    "    plt.tight_layout()"
   ]
  },
  {
   "cell_type": "code",
   "execution_count": 12,
   "metadata": {},
   "outputs": [],
   "source": [
    "def original_phasemod(neurons,metadata,state,low,high,nbins = 1000,channel=None):\n",
    "    lfp = bk.load.lfp_in_intervals(channel,state)\n",
    "    lfp_filt = bk.signal.passband(lfp,low,high,1250,2)\n",
    "    power, phase = bk.signal.hilbert(lfp_filt)\n",
    "\n",
    "\n",
    "    phases_signal_distrib, _ = np.histogram(phase.values,nbins,density=True)\n",
    "    phases_signal_distrib = phases_signal_distrib*nbins / np.sum(phases_signal_distrib)\n",
    "\n",
    "\n",
    "    neurons_phase = []\n",
    "    neurons_rem_fr = []\n",
    "    for i, n in tqdm(enumerate(neurons)):\n",
    "        neurons_phase.append(phase.realign(n.restrict(state)))\n",
    "        neurons_rem_fr.append(\n",
    "            len(n.restrict(state))/state.tot_length(time_units='s'))\n",
    "\n",
    "    pvalues = []\n",
    "    kappas = []\n",
    "    modulated = []\n",
    "    MRLs = []\n",
    "    phases_distributions = np.zeros((nbins,len(neurons)))\n",
    "    for i, p in tqdm(enumerate(neurons_phase)):\n",
    "        \n",
    "        if len(p) == 0:\n",
    "            pvalues.append(np.nan)\n",
    "            kappas.append(np.nan)\n",
    "            modulated.append(np.nan)\n",
    "            MRLs.append(np.nan)\n",
    "            continue\n",
    "\n",
    "\n",
    "        phases_distributions[:,i], bin_p = np.histogram(neurons_phase[i].values, nbins) \n",
    "        phases_distributions[:,i] = phases_distributions[:,i]/phases_signal_distrib\n",
    "        bin_p = np.convolve(bin_p, [.5, .5], 'same')[1::]\n",
    "\n",
    "\n",
    "        pvalue = bk.stats.rayleigh(bin_p,weights = phases_distributions[:,i])\n",
    "        pvalues.append(pvalue)\n",
    "\n",
    "        kappa = bk.compute.concentration(p.values)\n",
    "        kappas.append(kappa)\n",
    "\n",
    "\n",
    "        MRL = bk.compute.mean_resultant_length(bin_p,weights = phases_distributions[:,i])\n",
    "        MRLs.append(MRL)\n",
    "        if (pvalue < 0.01) and MRL > 0.04:\n",
    "            modulated.append(True)\n",
    "        else:\n",
    "            modulated.append(False)\n",
    "\n",
    "\n",
    "\n",
    "    phase_lock = pd.DataFrame({'FR_Rem': neurons_rem_fr,\n",
    "                            'MRL': MRLs,\n",
    "                            'Kappa': kappas,\n",
    "                            'pValue': pvalues,\n",
    "                            'modulated': modulated})\n",
    "\n",
    "\n",
    "    return bin_p,phases_distributions,phase_lock\n",
    "    "
   ]
  },
  {
   "cell_type": "code",
   "execution_count": 13,
   "metadata": {},
   "outputs": [],
   "source": [
    "def phase_mod_legacy(neurons,metadata,state,low,high,nbins = 1000,channel=None):\n",
    "\n",
    "    if low >50:\n",
    "        return phase_mod_local(neurons,metadata,state,low,high,nbins = 1000)\n",
    "    \n",
    "    lfp = bk.load.lfp_in_intervals(channel,state)\n",
    "    lfp_filt = bk.signal.passband(lfp,low,high,1250,2)\n",
    "    power, phase = bk.signal.hilbert(lfp_filt)\n",
    "\n",
    "    # stats = {'fr_rem': [],\n",
    "    #          'pvalue': [],\n",
    "    #          'kappa': [],\n",
    "    #          'MRL': [],\n",
    "    #          'modulated':[]}\n",
    "    # for i,n in tqdm(enumerate(neurons)):\n",
    "    #     bin_p, phases_distributions,stat = mod_stats(n,phase,nbins)\n",
    "    #     stats['fr_rem'].append(fr(n,state))\n",
    "    #     for k, s in stat.items():\n",
    "    #         stats[k].append(s)\n",
    "    #     if (stat['pvalue'] < 0.01) and stat['MRL'] > 0.04:\n",
    "    #         stats['modulated'].append(True)\n",
    "    #     else:\n",
    "    #         stats['modulated'].append(False)\n",
    "\n",
    "    # phase_lock = pd.DataFrame({'FR_Rem': stats['fr_rem'],\n",
    "    #                            'MRL': stats['MRL'],\n",
    "    #                            'Kappa': stats['kappa'],\n",
    "    #                            'pValue': stats['pvalue'],\n",
    "    #                            'modulated': stats['modulated']})\n",
    "    \n",
    "        \n",
    "    # return bin_p,phases_distributions,phase_lock\n",
    "\n",
    "\n",
    "    phases_signal_distrib, _ = np.histogram(phase.values,nbins,density=True)\n",
    "    phases_signal_distrib = phases_signal_distrib*nbins / np.sum(phases_signal_distrib)\n",
    "\n",
    "\n",
    "    neurons_phase = []\n",
    "    neurons_rem_fr = []\n",
    "    for i, n in tqdm(enumerate(neurons)):\n",
    "        neurons_phase.append(phase.realign(n.restrict(state)))\n",
    "        neurons_rem_fr.append(\n",
    "            len(n.restrict(state))/state.tot_length(time_units='s'))\n",
    "\n",
    "    pvalues = []\n",
    "    pvalues_bis = []\n",
    "    kappas = []\n",
    "    modulated = []\n",
    "    modulated_bis = []\n",
    "    MRLs = []\n",
    "    MRLs_bis = []\n",
    "    phases_distributions = np.zeros((nbins,len(neurons)))\n",
    "    for i, p in tqdm(enumerate(neurons_phase)):\n",
    "        \n",
    "        if len(p) == 0:\n",
    "            pvalues.append(np.nan)\n",
    "            pvalues_bis.append(np.nan)\n",
    "            kappas.append(np.nan)\n",
    "            modulated.append(np.nan)\n",
    "            modulated_bis.append(np.nan)\n",
    "            MRLs.append(np.nan)\n",
    "            MRLs_bis.append(np.nan)\n",
    "            continue\n",
    "\n",
    "\n",
    "        phases_distributions[:,i], bin_p = np.histogram(neurons_phase[i].values, nbins) \n",
    "        phases_distributions[:,i] = phases_distributions[:,i]/phases_signal_distrib\n",
    "        bin_p = np.convolve(bin_p, [.5, .5], 'same')[1::]\n",
    "\n",
    "\n",
    "        pvalue = apy.rayleightest(p.values)\n",
    "        pvalues.append(pvalue)\n",
    "\n",
    "\n",
    "        pvalue_bis = bk.stats.rayleigh(bin_p,weights = phases_distributions[:,i])\n",
    "        pvalues_bis.append(pvalue_bis)\n",
    "\n",
    "        kappa = bk.compute.concentration(p.values)\n",
    "        kappas.append(kappa)\n",
    "\n",
    "        MRL = bk.compute.mean_resultant_length(p.values)\n",
    "\n",
    "        MRL_bis = bk.compute.mean_resultant_length(bin_p,weights = phases_distributions[:,i])\n",
    "        MRLs.append(MRL)\n",
    "        MRLs_bis.append(MRL_bis)\n",
    "        if (pvalue < 0.01) and MRL > 0.04:\n",
    "            modulated.append(True)\n",
    "        else:\n",
    "            modulated.append(False)\n",
    "\n",
    "        if(pvalue_bis < 0.01) and MRL_bis > 0.04:\n",
    "            modulated_bis.append(True)\n",
    "        else:\n",
    "            modulated_bis.append(False)\n",
    "\n",
    "\n",
    "\n",
    "    phase_lock = pd.DataFrame({'FR_Rem': neurons_rem_fr,\n",
    "                            'MRL': MRLs,\n",
    "                            'MRL_bis':MRLs_bis,\n",
    "                            'Kappa': kappas,\n",
    "                            'pValue': pvalues,\n",
    "                            'pValue_bis':pvalues_bis,\n",
    "                            'modulated': modulated,\n",
    "                            'modulated_bis':modulated_bis})\n",
    "\n",
    "    \n",
    "    # fig, ax = plt.subplots(1, 1)\n",
    "    # ax.bar(bin_p, phases_signal_distrib, bin_p[1]-bin_p[0], color='lightblue')\n",
    "    # ax.bar(bin_p+2*np.pi, phases_signal_distrib, bin_p[1]-bin_p[0], color='lightblue')\n",
    "\n",
    "    return bin_p,phases_distributions,phase_lock\n"
   ]
  },
  {
   "cell_type": "code",
   "execution_count": 26,
   "metadata": {},
   "outputs": [],
   "source": [
    "def main(base_folder,local_path,*args,**kwargs):\n",
    "    bk.load.current_session_linux(base_folder,local_path)\n",
    "\n",
    "\n",
    "\n",
    "    if os.path.exists('Analysis/Thetamod/hpc_theta_phase_lock.csv'):\n",
    "        metadata_phaselock = pd.read_csv('Analysis/Thetamod/hpc_theta_phase_lock.csv')\n",
    "        (phases,phases_modulations) = np.load('Analysis/Thetamod/hpc_theta_phases_mod.npy')\n",
    "\n",
    "        return (phases,phases_modulations), metadata_phaselock\n",
    "\n",
    "    \n",
    "    states = bk.load.states()\n",
    "    neurons, metadata = bk.load.spikes()\n",
    "    phases,phases_modulations,metadata_phaselock = phase_mod(neurons,metadata,states['Rem'],4,12,channel=bk.load.ripple_channel())\n",
    "    metadata_phaselock = pd.concat([metadata, metadata_phaselock], axis=1)\n",
    "\n",
    "    np.save('Analysis/Thetamod/hpc_theta_phases_mod.npy',(phases,phases_modulations))\n",
    "    metadata_phaselock.to_csv('Analysis/Thetamod/hpc_theta_phase_lock.csv', index = False)\n",
    "\n",
    "    return (phases,phases_modulations), metadata_phaselock\n"
   ]
  },
  {
   "cell_type": "code",
   "execution_count": 27,
   "metadata": {},
   "outputs": [
    {
     "name": "stdout",
     "output_type": "stream",
     "text": [
      "Rat : 8 on day : 6\n",
      "Working with session Rat08-20130713 @ /mnt/electrophy/Gabrielle/GG-Dataset-Light/Rat08/Rat08-20130713\n"
     ]
    }
   ],
   "source": [
    "(_,_),df = main('/mnt/electrophy/Gabrielle/GG-Dataset-Light/','Rat08/Rat08-20130713')"
   ]
  },
  {
   "cell_type": "code",
   "execution_count": 28,
   "metadata": {},
   "outputs": [],
   "source": [
    "def merge(batch):\n",
    "    phases_modulations_all = []\n",
    "    metadata_phaselock_all = []\n",
    "    for i,b in batch.items():\n",
    "        phases_modulations_all.append(b[0][1])\n",
    "        metadata_phaselock_all.append(b[1])\n",
    "\n",
    "    phases = b[0][0]\n",
    "    phases_modulations_all = np.hstack(phases_modulations_all)\n",
    "    metadata_phaselock_all = pd.concat(metadata_phaselock_all)\n",
    "\n",
    "    return phases, phases_modulations_all,metadata_phaselock_all"
   ]
  },
  {
   "cell_type": "code",
   "execution_count": 32,
   "metadata": {},
   "outputs": [
    {
     "data": {
      "text/plain": [
       "13.377609108159394"
      ]
     },
     "execution_count": 32,
     "metadata": {},
     "output_type": "execute_result"
    }
   ],
   "source": [
    "# batch = bk.load.batch(main)\n",
    "p,phase_mod,metadata = merge(batch)\n",
    "np.sum(metadata.modulated[(metadata.Region == 'BLA') &  (metadata.Type == 'Pyr')])/np.sum((metadata.Region == 'BLA') & (metadata.Type == 'Pyr')) * 100"
   ]
  },
  {
   "cell_type": "code",
   "execution_count": null,
   "metadata": {},
   "outputs": [],
   "source": []
  },
  {
   "cell_type": "code",
   "execution_count": 23,
   "metadata": {},
   "outputs": [],
   "source": [
    "states = bk.load.states()\n",
    "# lfp = bk.load.lfp_in_intervals(bk.load.random_channel('BLA'),states['Rem'])\n",
    "lfp_filt = bk.signal.passband(lfp,6,10,1250,2)\n",
    "power, phase = bk.signal.hilbert(lfp_filt)\n",
    "amp = bk.signal.enveloppe(lfp_filt)\n",
    "\n",
    "high_theta = treshold_to_intervals(tsd_zscore(amp),1,states['Rem'])"
   ]
  },
  {
   "cell_type": "code",
   "execution_count": 26,
   "metadata": {},
   "outputs": [],
   "source": [
    "states = bk.load.states()\n",
    "lfp_bla = bk.load.lfp_in_intervals(bk.load.random_channel('BLA'),states['Rem'])\n",
    "lfp_filt_bla = bk.signal.passband(lfp_bla,6,10,1250,2)\n",
    "power, phase = bk.signal.hilbert(lfp_filt_bla)\n",
    "amp_bla = bk.signal.enveloppe(lfp_filt_bla)\n",
    "\n",
    "high_theta_bla = treshold_to_intervals(tsd_zscore(amp_bla),1,states['Rem'])\n"
   ]
  },
  {
   "cell_type": "code",
   "execution_count": 24,
   "metadata": {},
   "outputs": [],
   "source": [
    "%matplotlib qt"
   ]
  },
  {
   "cell_type": "code",
   "execution_count": 28,
   "metadata": {},
   "outputs": [
    {
     "data": {
      "text/plain": [
       "Text(0.5, 1.0, 'BLA')"
      ]
     },
     "execution_count": 28,
     "metadata": {},
     "output_type": "execute_result"
    }
   ],
   "source": [
    "fig,ax = plt.subplots(2,1,sharex=True)\n",
    "# ax[0].plot(power)\n",
    "plt.sca(ax[0])\n",
    "ax[0].plot(lfp.as_units('s'),'grey',alpha = 0.7)\n",
    "ax[0].plot(lfp_filt.as_units('s'),'red',alpha = 0.4)\n",
    "ax[0].plot(amp.as_units('s'),'orange',alpha = 0.5)\n",
    "bk.plot.intervals(high_theta)\n",
    "plt.ylim(-1000,1000)\n",
    "plt.title('Hpc')\n",
    "\n",
    "\n",
    "\n",
    "plt.sca(ax[1])\n",
    "ax[1].plot(lfp_bla.as_units('s'),'grey',alpha = 0.7)\n",
    "ax[1].plot(lfp_filt_bla.as_units('s'),'red',alpha = 0.4)\n",
    "ax[1].plot(amp_bla.as_units('s'),'orange',alpha = 0.5)\n",
    "bk.plot.intervals(high_theta_bla)\n",
    "plt.ylim(-1000,1000)\n",
    "plt.title('BLA')"
   ]
  },
  {
   "cell_type": "code",
   "execution_count": 7,
   "metadata": {},
   "outputs": [],
   "source": [
    "def treshold_to_intervals(signal,treshold,intersect = None):\n",
    "\n",
    "    interval = np.int8(signal.values.T[0] > treshold)\n",
    "    interval = np.append(interval,0)\n",
    "    diff_interval = np.diff(interval)\n",
    "    t_start = signal.index.values[diff_interval == 1]\n",
    "    t_end = signal.index.values[diff_interval == -1]\n",
    "    intervals = nts.IntervalSet(t_start,t_end)\n",
    "    if intersect is not None:\n",
    "        intervals = intervals.intersect(intersect)\n",
    "    \n",
    "\n",
    "    return intervals"
   ]
  },
  {
   "cell_type": "code",
   "execution_count": 9,
   "metadata": {},
   "outputs": [],
   "source": [
    "def tsd_zscore(tsd,axis = 0):\n",
    "    from scipy.stats import zscore\n",
    "    t = tsd.index.values\n",
    "    q = zscore(tsd.values,axis = axis)\n",
    "\n",
    "    return nts.TsdFrame(t,q)"
   ]
  },
  {
   "cell_type": "code",
   "execution_count": 50,
   "metadata": {},
   "outputs": [
    {
     "data": {
      "text/plain": [
       "11855000.0"
      ]
     },
     "execution_count": 50,
     "metadata": {},
     "output_type": "execute_result"
    }
   ],
   "source": [
    "np.sum(states['Rem'].duration(time_units = 's'))*8 /2 *1250"
   ]
  },
  {
   "cell_type": "code",
   "execution_count": 117,
   "metadata": {},
   "outputs": [
    {
     "data": {
      "text/plain": [
       "(array([139., 320., 462., ...,   0.,   2.,   5.]),\n",
       " array([3.49266607e-02, 2.31647299e-01, 4.28367937e-01, ...,\n",
       "        9.83244677e+02, 9.83441398e+02, 9.83638119e+02]),\n",
       " <BarContainer object of 5000 artists>)"
      ]
     },
     "execution_count": 117,
     "metadata": {},
     "output_type": "execute_result"
    }
   ],
   "source": [
    "lfp_hpc = bk.load.lfp(bk.load.ripple_channel(),0,6000)\n",
    "lfp_hpc_filt = bk.signal.passband(lfp_hpc,5,10)\n",
    "amp = bk.signal.enveloppe(lfp_hpc_filt)\n",
    "plt.figure()\n",
    "plt.hist(amp,5000)"
   ]
  },
  {
   "cell_type": "code",
   "execution_count": 64,
   "metadata": {},
   "outputs": [],
   "source": [
    "plt.plot(lfp_hpc.as_units('s'),'grey',alpha = 0.8)\n",
    "plt.plot(lfp_hpc_filt.as_units('s'),'red',alpha = 0.6)\n",
    "plt.plot(amp.as_units('s'),'orange')\n",
    "bk.plot.intervals(states['Rem'])"
   ]
  },
  {
   "cell_type": "code",
   "execution_count": 66,
   "metadata": {},
   "outputs": [
    {
     "data": {
      "text/plain": [
       "Text(0.5, 1.0, 'BLA')"
      ]
     },
     "execution_count": 66,
     "metadata": {},
     "output_type": "execute_result"
    }
   ],
   "source": [
    "fig,ax = plt.subplots(2,1,sharex=True)\n",
    "\n",
    "\n",
    "plt.sca(ax[1])\n",
    "ax[1].plot(lfp_bla.as_units('s'),'grey',alpha = 0.7)\n",
    "ax[1].plot(lfp_filt_bla.as_units('s'),'red',alpha = 0.4)\n",
    "ax[1].plot(amp_bla.as_units('s'),'orange',alpha = 0.5)\n",
    "bk.plot.intervals(high_theta_bla)\n",
    "plt.ylim(-1000,1000)\n",
    "plt.title('BLA')"
   ]
  },
  {
   "cell_type": "code",
   "execution_count": 130,
   "metadata": {},
   "outputs": [],
   "source": [
    "stru = ['Hpc','BLA']\n",
    "channels = [bk.load.ripple_channel(),bk.load.random_channel('BLA')]"
   ]
  },
  {
   "cell_type": "code",
   "execution_count": 131,
   "metadata": {},
   "outputs": [],
   "source": [
    "lfp = {}\n",
    "ratio = {}\n",
    "spectrogram = {}\n",
    "for s,c in zip(stru,channels):\n",
    "    lfp.update({s:bk.load.lfp(c,0,6000)})\n",
    "    f,t,Sxx = scipy.signal.spectrogram(lfp[s].values,1250,nperseg = 1250)\n",
    "\n",
    "    spectrogram.update({s:Sxx})\n",
    "    filt_theta = (f>5) & (f<10)\n",
    "    filt_delta = (f>0.5)& (f<4)\n",
    "\n",
    "    theta = np.mean(Sxx[filt_theta],0)\n",
    "    delta = np.mean(Sxx[filt_delta],0)\n",
    "\n",
    "    ratio.update({s:theta/delta})"
   ]
  }
 ],
 "metadata": {
  "interpreter": {
   "hash": "dc93b3fb48dfd2593d4a40b397dc62a97606514bfa701f6565ff70ef36514844"
  },
  "kernelspec": {
   "display_name": "Python 3.9.7 64-bit ('base': conda)",
   "language": "python",
   "name": "python3"
  },
  "language_info": {
   "codemirror_mode": {
    "name": "ipython",
    "version": 3
   },
   "file_extension": ".py",
   "mimetype": "text/x-python",
   "name": "python",
   "nbconvert_exporter": "python",
   "pygments_lexer": "ipython3",
   "version": "3.9.7"
  },
  "orig_nbformat": 4
 },
 "nbformat": 4,
 "nbformat_minor": 2
}
