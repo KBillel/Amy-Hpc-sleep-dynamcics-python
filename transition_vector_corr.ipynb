{
 "cells": [
  {
   "cell_type": "markdown",
   "metadata": {},
   "source": [
    "## Python Importation"
   ]
  },
  {
   "cell_type": "code",
   "execution_count": 1,
   "metadata": {},
   "outputs": [],
   "source": [
    "import os\n",
    "\n",
    "import matplotlib.pyplot as plt\n",
    "import pandas as pd\n",
    "import numpy as np\n",
    "\n",
    "import bk.compute\n",
    "import bk.plot\n",
    "import bk.load\n",
    "\n",
    "import scipy.signal\n",
    "import neuroseries as nts"
   ]
  },
  {
   "cell_type": "markdown",
   "metadata": {},
   "source": [
    "## Magic Command"
   ]
  },
  {
   "cell_type": "code",
   "execution_count": 2,
   "metadata": {},
   "outputs": [],
   "source": [
    "%matplotlib qt"
   ]
  },
  {
   "cell_type": "markdown",
   "metadata": {},
   "source": [
    "## Session Init"
   ]
  },
  {
   "cell_type": "code",
   "execution_count": 5,
   "metadata": {},
   "outputs": [],
   "source": [
    "path = '/media/billel/GGLab-01-BK/DATA/Rat08-20130713/'\n",
    "os.chdir(path)\n",
    "bk.load.path = path\n",
    "bk.load.rat = 8\n",
    "bk.load.session = 'Rat08-20130713'\n",
    "bk.load.day = 6"
   ]
  },
  {
   "cell_type": "code",
   "execution_count": 10,
   "metadata": {},
   "outputs": [
    {
     "name": "stdout",
     "output_type": "stream",
     "text": [
      "Rat : 8 on day : 6\n",
      "Working with session Rat08-20130713 @ Z:\\Rat08\\Rat08-20130713\n"
     ]
    },
    {
     "data": {
      "text/plain": [
       "True"
      ]
     },
     "execution_count": 10,
     "metadata": {},
     "output_type": "execute_result"
    }
   ],
   "source": [
    "bk.load.current_session()"
   ]
  },
  {
   "cell_type": "markdown",
   "metadata": {},
   "source": [
    "## Loading data"
   ]
  },
  {
   "cell_type": "code",
   "execution_count": 6,
   "metadata": {},
   "outputs": [
    {
     "name": "stdout",
     "output_type": "stream",
     "text": [
      "Data already saved in Numpy format, loading them from here:\n",
      "Rat08-20130713-neurons.npy\n",
      "Rat08-20130713-metadata.npy\n"
     ]
    }
   ],
   "source": [
    "neurons, metadata = bk.load.loadSpikeData(bk.load.path)\n",
    "states = bk.load.states()"
   ]
  },
  {
   "cell_type": "markdown",
   "metadata": {},
   "source": [
    "## Computing spectrograms"
   ]
  },
  {
   "cell_type": "code",
   "execution_count": 5,
   "metadata": {},
   "outputs": [],
   "source": [
    "start = 15516.0\n",
    "end = 16405.0\n",
    "\n",
    "# start = 16120\n",
    "# end = 16200\n",
    "interval = nts.IntervalSet(start,end,time_units='s')"
   ]
  },
  {
   "cell_type": "code",
   "execution_count": 6,
   "metadata": {},
   "outputs": [
    {
     "name": "stdout",
     "output_type": "stream",
     "text": [
      "Load LFP from Rat08-20130713.lfp\n"
     ]
    }
   ],
   "source": [
    "lfp = bk.load.lfp(start,end,166,13)\n",
    "f,t,Sxx = scipy.signal.spectrogram(lfp.as_units('s'),fs=1250,mode= 'psd',nperseg=10000,noverlap=5000)\n",
    "t = t +lfp.as_units('s').index[0]\n",
    "spec = Sxx[f<20]\n",
    "spec_corr = np.corrcoef(spec,rowvar=False)"
   ]
  },
  {
   "cell_type": "markdown",
   "metadata": {},
   "source": [
    "## Computing Neurons correlations"
   ]
  },
  {
   "cell_type": "code",
   "execution_count": 33,
   "metadata": {},
   "outputs": [
    {
     "name": "stdout",
     "output_type": "stream",
     "text": [
      "Load LFP from Rat08-20130713.lfp\n"
     ]
    },
    {
     "name": "stderr",
     "output_type": "stream",
     "text": [
      "C:\\ProgramData\\Anaconda3\\lib\\site-packages\\ipykernel_launcher.py:35: MatplotlibDeprecationWarning: shading='flat' when X and Y have the same dimensions as C is deprecated since 3.3.  Either specify the corners of the quadrilaterals with X and Y, or pass shading='auto', 'nearest' or 'gouraud', or set rcParams['pcolor.shading'].  This will become an error two minor releases later.\n",
      "C:\\ProgramData\\Anaconda3\\lib\\site-packages\\ipykernel_launcher.py:42: MatplotlibDeprecationWarning: shading='flat' when X and Y have the same dimensions as C is deprecated since 3.3.  Either specify the corners of the quadrilaterals with X and Y, or pass shading='auto', 'nearest' or 'gouraud', or set rcParams['pcolor.shading'].  This will become an error two minor releases later.\n"
     ]
    }
   ],
   "source": [
    "# start = 15516.0\n",
    "# end = 16405.0\n",
    "\n",
    "start = 2300\n",
    "end = 2500\n",
    "\n",
    "# start = 16120\n",
    "# end = 16200\n",
    "interval = nts.IntervalSet(start,end,time_units='s')\n",
    "\n",
    "# stru = ['Hpc','BLA','Pir']\n",
    "# channel = [13,101,80]\n",
    "\n",
    "stru =  ['BLA']\n",
    "channel = [103]\n",
    "for n,(s,c) in enumerate(zip(stru,channel),0):\n",
    "    lfp = bk.load.lfp(start,end,166,c)\n",
    "    f,t,Sxx = scipy.signal.spectrogram(lfp.as_units('s'),fs=1250,mode= 'psd',nperseg=1000,noverlap=250)\n",
    "    t = t +lfp.as_units('s').index[0]\n",
    "    spec = Sxx[f<100]\n",
    "    spec_corr = np.corrcoef(spec,rowvar=False)\n",
    "    \n",
    "    stru_neurons,t_n = bk.compute.binSpikes(neurons[metadata.Region == s],2,start,end)\n",
    "    neurons_corr = np.corrcoef(stru_neurons,rowvar=False)\n",
    "    \n",
    "    plt.figure()\n",
    "    sub = plt.subplot(4,1,1)\n",
    "    plt.title('LFP')\n",
    "    plt.plot(lfp.as_units('s'))\n",
    "    bk.plot.intervals(states['sws'],col='grey')\n",
    "    bk.plot.intervals(states['Rem'])\n",
    "   \n",
    "    plt.subplot(4,1,2,sharex=sub)\n",
    "    plt.title('Spectrogram')\n",
    "    plt.pcolormesh(t, f, Sxx)\n",
    "    plt.ylim(0,100)\n",
    "    plt.clim(0,5000)\n",
    "    \n",
    "    \n",
    "    plt.subplot(4,1,3,sharex=sub)\n",
    "    plt.title('SpectrogramCorr')\n",
    "    plt.pcolormesh(t,t,spec_corr)\n",
    "    plt.clim(0,1)\n",
    "    \n",
    "    plt.subplot(4,1,4,sharex = sub)\n",
    "    plt.title('SpikeTrainCorr') \n",
    "    plt.pcolormesh(t_n,t_n,neurons_corr)\n",
    "    plt.xlim(start,end)\n",
    "    \n",
    "    plt.tight_layout()\n",
    "    plt.suptitle(s)"
   ]
  },
  {
   "cell_type": "code",
   "execution_count": 32,
   "metadata": {},
   "outputs": [
    {
     "data": {
      "text/plain": [
       "(94, 999)"
      ]
     },
     "execution_count": 32,
     "metadata": {},
     "output_type": "execute_result"
    }
   ],
   "source": [
    "stru_neurons.shape"
   ]
  },
  {
   "cell_type": "code",
   "execution_count": 15,
   "metadata": {},
   "outputs": [],
   "source": [
    "fig, axes = plt.subplots(nrows=3, ncols=2)"
   ]
  },
  {
   "cell_type": "code",
   "execution_count": 16,
   "metadata": {},
   "outputs": [],
   "source": [
    "for ax in axes.flatten():\n",
    "    ax.plot(lfp)"
   ]
  },
  {
   "cell_type": "code",
   "execution_count": 48,
   "metadata": {},
   "outputs": [],
   "source": [
    "end  = nts.Ts(np.array(states['sws'].end+5_000_000))\n",
    "a = states['Rem'].in_interval(end)"
   ]
  },
  {
   "cell_type": "code",
   "execution_count": 49,
   "metadata": {},
   "outputs": [
    {
     "data": {
      "text/plain": [
       "array([nan,  0.,  1.,  2.,  3.,  4.,  5.,  6., nan,  9., 10., nan, 11.,\n",
       "       12., 13., 14., 15., 16., 17., 18., 19., nan, nan, 20., 21., 22.,\n",
       "       23., 24., 25., 26., nan, 27., 28., 29.])"
      ]
     },
     "execution_count": 49,
     "metadata": {},
     "output_type": "execute_result"
    }
   ],
   "source": [
    "a"
   ]
  },
  {
   "cell_type": "code",
   "execution_count": 58,
   "metadata": {},
   "outputs": [
    {
     "data": {
      "text/plain": [
       "pandas.core.indexes.range.RangeIndex"
      ]
     },
     "execution_count": 58,
     "metadata": {},
     "output_type": "execute_result"
    }
   ],
   "source": []
  },
  {
   "cell_type": "code",
   "execution_count": null,
   "metadata": {},
   "outputs": [],
   "source": [
    "def state_transitions(states):\n",
    "    '''\n",
    "        states : dict of nts.Interval_Set\n",
    "        \n",
    "        This function compute transition in between Intervals in a dict.\n",
    "        It returns a new dict with intervals and when the transition occurs\n",
    "    '''\n",
    "    \n",
    "    "
   ]
  }
 ],
 "metadata": {
  "kernelspec": {
   "display_name": "Python 3",
   "language": "python",
   "name": "python3"
  },
  "language_info": {
   "codemirror_mode": {
    "name": "ipython",
    "version": 3
   },
   "file_extension": ".py",
   "mimetype": "text/x-python",
   "name": "python",
   "nbconvert_exporter": "python",
   "pygments_lexer": "ipython3",
   "version": "3.7.6"
  }
 },
 "nbformat": 4,
 "nbformat_minor": 4
}
