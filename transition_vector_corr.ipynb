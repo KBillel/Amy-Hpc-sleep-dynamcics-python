{
 "cells": [
  {
   "cell_type": "markdown",
   "metadata": {},
   "source": [
    "## Python Importation"
   ]
  },
  {
   "cell_type": "code",
   "execution_count": 3,
   "metadata": {},
   "outputs": [],
   "source": [
    "import os\n",
    "\n",
    "import matplotlib.pyplot as plt\n",
    "import pandas as pd\n",
    "import numpy as np\n",
    "\n",
    "import bk.compute\n",
    "import bk.plot\n",
    "import bk.load\n",
    "\n",
    "import scipy.signal\n",
    "import neuroseries as nts"
   ]
  },
  {
   "cell_type": "markdown",
   "metadata": {},
   "source": [
    "## Magic Command"
   ]
  },
  {
   "cell_type": "code",
   "execution_count": 4,
   "metadata": {},
   "outputs": [],
   "source": [
    "%matplotlib qt"
   ]
  },
  {
   "cell_type": "markdown",
   "metadata": {},
   "source": [
    "## Session Init"
   ]
  },
  {
   "cell_type": "code",
   "execution_count": 5,
   "metadata": {},
   "outputs": [],
   "source": [
    "path = '/media/billel/GGLab-01-BK/DATA/Rat08-20130713/'\n",
    "os.chdir(path)\n",
    "bk.load.path = path\n",
    "bk.load.rat = 8\n",
    "bk.load.session = 'Rat08-20130713'\n",
    "bk.load.day = 6"
   ]
  },
  {
   "cell_type": "markdown",
   "metadata": {},
   "source": [
    "## Loading data"
   ]
  },
  {
   "cell_type": "code",
   "execution_count": 6,
   "metadata": {},
   "outputs": [
    {
     "name": "stdout",
     "output_type": "stream",
     "text": [
      "Data already saved in Numpy format, loading them from here:\n",
      "Rat08-20130713-neurons.npy\n",
      "Rat08-20130713-metadata.npy\n"
     ]
    }
   ],
   "source": [
    "neurons, metadata = bk.load.loadSpikeData(path)\n",
    "states = bk.load.states()"
   ]
  },
  {
   "cell_type": "markdown",
   "metadata": {},
   "source": [
    "## Computing spectrograms"
   ]
  },
  {
   "cell_type": "code",
   "execution_count": 7,
   "metadata": {},
   "outputs": [],
   "source": [
    "start = 15516.0\n",
    "end = 16405.0\n",
    "\n",
    "# start = 16120\n",
    "# end = 16200\n",
    "interval = nts.IntervalSet(start,end,time_units='s')"
   ]
  },
  {
   "cell_type": "code",
   "execution_count": 52,
   "metadata": {},
   "outputs": [
    {
     "name": "stdout",
     "output_type": "stream",
     "text": [
      "Load LFP from Rat08-20130713.lfp\n"
     ]
    }
   ],
   "source": [
    "lfp = bk.load.lfp(start,end,166,13)\n",
    "f,t,Sxx = scipy.signal.spectrogram(lfp.as_units('s'),fs=1250,mode= 'psd',nperseg=10000,noverlap=5000)\n",
    "t = t +lfp.as_units('s').index[0]\n",
    "spec = Sxx[f<20]\n",
    "spec_corr = np.corrcoef(spec,rowvar=False)"
   ]
  },
  {
   "cell_type": "markdown",
   "metadata": {},
   "source": [
    "## Computing Neurons correlations"
   ]
  },
  {
   "cell_type": "code",
   "execution_count": 83,
   "metadata": {},
   "outputs": [],
   "source": [
    "hpc_neurons,t_n = bk.compute.binSpikes(neurons[metadata.Region == 'Hpc'],1,start,end)"
   ]
  },
  {
   "cell_type": "code",
   "execution_count": 54,
   "metadata": {},
   "outputs": [],
   "source": [
    "np.corrcoef(hpc_neurons,rowvar=False)"
   ]
  },
  {
   "cell_type": "code",
   "execution_count": null,
   "metadata": {},
   "outputs": [],
   "source": []
  },
  {
   "cell_type": "code",
   "execution_count": 55,
   "metadata": {},
   "outputs": [
    {
     "name": "stderr",
     "output_type": "stream",
     "text": [
      "/home/billel/anaconda3/lib/python3.7/site-packages/ipykernel_launcher.py:7: MatplotlibDeprecationWarning: shading='flat' when X and Y have the same dimensions as C is deprecated since 3.3.  Either specify the corners of the quadrilaterals with X and Y, or pass shading='auto', 'nearest' or 'gouraud', or set rcParams['pcolor.shading'].  This will become an error two minor releases later.\n",
      "  import sys\n",
      "/home/billel/anaconda3/lib/python3.7/site-packages/ipykernel_launcher.py:11: MatplotlibDeprecationWarning: shading='flat' when X and Y have the same dimensions as C is deprecated since 3.3.  Either specify the corners of the quadrilaterals with X and Y, or pass shading='auto', 'nearest' or 'gouraud', or set rcParams['pcolor.shading'].  This will become an error two minor releases later.\n",
      "  # This is added back by InteractiveShellApp.init_path()\n"
     ]
    },
    {
     "data": {
      "text/plain": [
       "(15516.0, 16405.0)"
      ]
     },
     "execution_count": 55,
     "metadata": {},
     "output_type": "execute_result"
    }
   ],
   "source": [
    "plt.figure()\n",
    "s = plt.subplot(4,1,1)\n",
    "plt.plot(lfp.as_units('s'))\n",
    "bk.plot.intervals(states['sws'],col='grey')\n",
    "bk.plot.intervals(states['Rem'])\n",
    "plt.subplot(4,1,2,sharex=s)\n",
    "plt.pcolormesh(t, f, Sxx)\n",
    "plt.ylim(0,100)\n",
    "plt.clim(0,5000)\n",
    "plt.subplot(4,1,3,sharex=s)\n",
    "plt.pcolormesh(t,t,spec_corr)\n",
    "plt.clim(0,1)\n",
    "plt.subplot(4,1,4,sharex = s)\n",
    "plt.pcolormesh(t_n,t_n,hpc_corr)\n",
    "plt.xlim(start,end)"
   ]
  },
  {
   "cell_type": "code",
   "execution_count": null,
   "metadata": {},
   "outputs": [],
   "source": [
    "scipy.io.loadmat('')"
   ]
  },
  {
   "cell_type": "code",
   "execution_count": 13,
   "metadata": {},
   "outputs": [
    {
     "name": "stdout",
     "output_type": "stream",
     "text": [
      "Load LFP from Rat08-20130713.lfp\n"
     ]
    },
    {
     "name": "stderr",
     "output_type": "stream",
     "text": [
      "/home/billel/anaconda3/lib/python3.7/site-packages/ipykernel_launcher.py:30: MatplotlibDeprecationWarning: shading='flat' when X and Y have the same dimensions as C is deprecated since 3.3.  Either specify the corners of the quadrilaterals with X and Y, or pass shading='auto', 'nearest' or 'gouraud', or set rcParams['pcolor.shading'].  This will become an error two minor releases later.\n",
      "/home/billel/anaconda3/lib/python3.7/site-packages/ipykernel_launcher.py:37: MatplotlibDeprecationWarning: shading='flat' when X and Y have the same dimensions as C is deprecated since 3.3.  Either specify the corners of the quadrilaterals with X and Y, or pass shading='auto', 'nearest' or 'gouraud', or set rcParams['pcolor.shading'].  This will become an error two minor releases later.\n"
     ]
    },
    {
     "name": "stdout",
     "output_type": "stream",
     "text": [
      "Load LFP from Rat08-20130713.lfp\n",
      "Load LFP from Rat08-20130713.lfp\n"
     ]
    }
   ],
   "source": [
    "start = 15516.0\n",
    "end = 16405.0\n",
    "\n",
    "# start = 16120\n",
    "# end = 16200\n",
    "interval = nts.IntervalSet(start,end,time_units='s')\n",
    "\n",
    "stru = ['Hpc','BLA','Pir']\n",
    "channel = [13,101,80]\n",
    "\n",
    "for n,(s,c) in enumerate(zip(stru,channel),0):\n",
    "    lfp = bk.load.lfp(start,end,166,c)\n",
    "    f,t,Sxx = scipy.signal.spectrogram(lfp.as_units('s'),fs=1250,mode= 'psd',nperseg=10000,noverlap=5000)\n",
    "    t = t +lfp.as_units('s').index[0]\n",
    "    spec = Sxx[f<100]\n",
    "    spec_corr = np.corrcoef(spec,rowvar=False)\n",
    "    \n",
    "    stru_neurons,t_n = bk.compute.binSpikes(neurons[metadata.Region == s],1,start,end)\n",
    "    neurons_corr = np.corrcoef(stru_neurons,rowvar=False)\n",
    "    \n",
    "    plt.figure()\n",
    "    sub = plt.subplot(4,1,1)\n",
    "    plt.title('LFP')\n",
    "    plt.plot(lfp.as_units('s'))\n",
    "    bk.plot.intervals(states['sws'],col='grey')\n",
    "    bk.plot.intervals(states['Rem'])\n",
    "   \n",
    "    plt.subplot(4,1,2,sharex=sub)\n",
    "    plt.title('Spectrogram')\n",
    "    plt.pcolormesh(t, f, Sxx)\n",
    "    plt.ylim(0,100)\n",
    "    plt.clim(0,5000)\n",
    "    \n",
    "    \n",
    "    plt.subplot(4,1,3,sharex=sub)\n",
    "    plt.title('SpectrogramCorr')\n",
    "    plt.pcolormesh(t,t,spec_corr)\n",
    "    plt.clim(0,1)\n",
    "    \n",
    "    plt.subplot(4,1,4,sharex = sub)\n",
    "    plt.title('SpikeTrainCorr') \n",
    "    plt.pcolormesh(t_n,t_n,neurons_corr)\n",
    "    plt.xlim(start,end)\n",
    "    \n",
    "    plt.tight_layout()\n",
    "    plt.suptitle(s)"
   ]
  },
  {
   "cell_type": "code",
   "execution_count": 12,
   "metadata": {},
   "outputs": [
    {
     "data": {
      "text/plain": [
       "(76, 888)"
      ]
     },
     "execution_count": 12,
     "metadata": {},
     "output_type": "execute_result"
    }
   ],
   "source": [
    "stru_neurons.shape"
   ]
  },
  {
   "cell_type": "code",
   "execution_count": 93,
   "metadata": {},
   "outputs": [],
   "source": [
    "fig, axes = plt.subplots(nrows=3, ncols=2)"
   ]
  },
  {
   "cell_type": "code",
   "execution_count": 98,
   "metadata": {},
   "outputs": [],
   "source": [
    "for ax in axes.flatten():\n",
    "    ax.plot(lfp)"
   ]
  },
  {
   "cell_type": "code",
   "execution_count": null,
   "metadata": {},
   "outputs": [],
   "source": []
  }
 ],
 "metadata": {
  "kernelspec": {
   "display_name": "Python 3",
   "language": "python",
   "name": "python3"
  },
  "language_info": {
   "codemirror_mode": {
    "name": "ipython",
    "version": 3
   },
   "file_extension": ".py",
   "mimetype": "text/x-python",
   "name": "python",
   "nbconvert_exporter": "python",
   "pygments_lexer": "ipython3",
   "version": "3.7.6"
  }
 },
 "nbformat": 4,
 "nbformat_minor": 4
}
