{
 "cells": [
  {
   "cell_type": "markdown",
   "metadata": {},
   "source": [
    "## Python Importation"
   ]
  },
  {
   "cell_type": "code",
   "execution_count": null,
   "metadata": {},
   "outputs": [],
   "source": [
    "import os\n",
    "\n",
    "import matplotlib.pyplot as plt\n",
    "import pandas as pd\n",
    "import numpy as np\n",
    "\n",
    "import bk.compute\n",
    "import bk.plot\n",
    "import bk.load\n",
    "\n",
    "import scipy.signal\n",
    "import neuroseries as nts"
   ]
  },
  {
   "cell_type": "markdown",
   "metadata": {},
   "source": [
    "## Magic Command"
   ]
  },
  {
   "cell_type": "code",
   "execution_count": null,
   "metadata": {},
   "outputs": [],
   "source": [
    "%matplotlib qt"
   ]
  },
  {
   "cell_type": "markdown",
   "metadata": {},
   "source": [
    "## Session Init"
   ]
  },
  {
   "cell_type": "code",
   "execution_count": null,
   "metadata": {},
   "outputs": [],
   "source": [
    "path = '/media/billel/GGLab-01-BK/DATA/Rat08-20130713/'\n",
    "os.chdir(path)\n",
    "bk.load.path = path\n",
    "bk.load.rat = 8\n",
    "bk.load.session = 'Rat08-20130713'\n",
    "bk.load.day = 6"
   ]
  },
  {
   "cell_type": "code",
   "execution_count": 4,
   "metadata": {},
   "outputs": [
    {
     "name": "stdout",
     "output_type": "stream",
     "text": [
      "Rat : 8 on day : 6\n",
      "Working with session Rat08-20130713 @ Z:\\Rat08\\Rat08-20130713\n"
     ]
    },
    {
     "data": {
      "text/plain": [
       "True"
      ]
     },
     "execution_count": 4,
     "metadata": {},
     "output_type": "execute_result"
    }
   ],
   "source": [
    "bk.load.current_session()"
   ]
  },
  {
   "cell_type": "markdown",
   "metadata": {},
   "source": [
    "## Loading data"
   ]
  },
  {
   "cell_type": "code",
   "execution_count": 146,
   "metadata": {},
   "outputs": [
    {
     "name": "stdout",
     "output_type": "stream",
     "text": [
      "Data already saved in Numpy format, loading them from here:\n",
      "Rat08-20130713-neurons.npy\n",
      "Rat08-20130713-metadata.npy\n"
     ]
    }
   ],
   "source": [
    "neurons, metadata = bk.load.loadSpikeData(bk.load.path)\n",
    "states = bk.load.states()"
   ]
  },
  {
   "cell_type": "markdown",
   "metadata": {},
   "source": [
    "## Computing spectrograms"
   ]
  },
  {
   "cell_type": "code",
   "execution_count": 6,
   "metadata": {},
   "outputs": [],
   "source": [
    "start = 15516.0\n",
    "end = 16405.0\n",
    "\n",
    "# start = 16120\n",
    "# end = 16200\n",
    "interval = nts.IntervalSet(start,end,time_units='s')"
   ]
  },
  {
   "cell_type": "code",
   "execution_count": 7,
   "metadata": {},
   "outputs": [
    {
     "name": "stdout",
     "output_type": "stream",
     "text": [
      "Load LFP from Rat08-20130713.lfp\n"
     ]
    }
   ],
   "source": [
    "lfp = bk.load.lfp(start,end,166,13)\n",
    "f,t,Sxx = scipy.signal.spectrogram(lfp.as_units('s'),fs=1250,mode= 'psd',nperseg=10000,noverlap=5000)\n",
    "t = t +lfp.as_units('s').index[0]\n",
    "spec = Sxx[f<20]\n",
    "spec_corr = np.corrcoef(spec,rowvar=False)"
   ]
  },
  {
   "cell_type": "markdown",
   "metadata": {},
   "source": [
    "## Computing Neurons correlations"
   ]
  },
  {
   "cell_type": "code",
   "execution_count": 8,
   "metadata": {},
   "outputs": [
    {
     "name": "stdout",
     "output_type": "stream",
     "text": [
      "Load LFP from Rat08-20130713.lfp\n"
     ]
    },
    {
     "name": "stderr",
     "output_type": "stream",
     "text": [
      "C:\\ProgramData\\Anaconda3\\lib\\site-packages\\ipykernel_launcher.py:35: MatplotlibDeprecationWarning: shading='flat' when X and Y have the same dimensions as C is deprecated since 3.3.  Either specify the corners of the quadrilaterals with X and Y, or pass shading='auto', 'nearest' or 'gouraud', or set rcParams['pcolor.shading'].  This will become an error two minor releases later.\n",
      "C:\\ProgramData\\Anaconda3\\lib\\site-packages\\ipykernel_launcher.py:42: MatplotlibDeprecationWarning: shading='flat' when X and Y have the same dimensions as C is deprecated since 3.3.  Either specify the corners of the quadrilaterals with X and Y, or pass shading='auto', 'nearest' or 'gouraud', or set rcParams['pcolor.shading'].  This will become an error two minor releases later.\n"
     ]
    }
   ],
   "source": [
    "# start = 15516.0\n",
    "# end = 16405.0\n",
    "\n",
    "start = 2300\n",
    "end = 2500\n",
    "\n",
    "# start = 16120\n",
    "# end = 16200\n",
    "interval = nts.IntervalSet(start,end,time_units='s')\n",
    "\n",
    "# stru = ['Hpc','BLA','Pir']\n",
    "# channel = [13,101,80]\n",
    "\n",
    "stru =  ['BLA']\n",
    "channel = [103]\n",
    "for n,(s,c) in enumerate(zip(stru,channel),0):\n",
    "    lfp = bk.load.lfp(start,end,166,c)\n",
    "    f,t,Sxx = scipy.signal.spectrogram(lfp.as_units('s'),fs=1250,mode= 'psd',nperseg=1000,noverlap=250)\n",
    "    t = t +lfp.as_units('s').index[0]\n",
    "    spec = Sxx[f<100]\n",
    "    spec_corr = np.corrcoef(spec,rowvar=False)\n",
    "    \n",
    "    stru_neurons,t_n = bk.compute.binSpikes(neurons[metadata.Region == s],2,start,end)\n",
    "    neurons_corr = np.corrcoef(stru_neurons,rowvar=False)\n",
    "    \n",
    "    plt.figure()\n",
    "    sub = plt.subplot(4,1,1)\n",
    "    plt.title('LFP')\n",
    "    plt.plot(lfp.as_units('s'))\n",
    "    bk.plot.intervals(states['sws'],col='grey')\n",
    "    bk.plot.intervals(states['Rem'])\n",
    "   \n",
    "    plt.subplot(4,1,2,sharex=sub)\n",
    "    plt.title('Spectrogram')\n",
    "    plt.pcolormesh(t, f, Sxx)\n",
    "    plt.ylim(0,100)\n",
    "    plt.clim(0,5000)\n",
    "    \n",
    "    \n",
    "    plt.subplot(4,1,3,sharex=sub)\n",
    "    plt.title('SpectrogramCorr')\n",
    "    plt.pcolormesh(t,t,spec_corr)\n",
    "    plt.clim(0,1)\n",
    "    \n",
    "    plt.subplot(4,1,4,sharex = sub)\n",
    "    plt.title('SpikeTrainCorr') \n",
    "    plt.pcolormesh(t_n,t_n,neurons_corr)\n",
    "    plt.xlim(start,end)\n",
    "    \n",
    "    plt.tight_layout()\n",
    "    plt.suptitle(s)"
   ]
  },
  {
   "cell_type": "code",
   "execution_count": 32,
   "metadata": {},
   "outputs": [
    {
     "data": {
      "text/plain": [
       "(94, 999)"
      ]
     },
     "execution_count": 32,
     "metadata": {},
     "output_type": "execute_result"
    }
   ],
   "source": [
    "stru_neurons.shape"
   ]
  },
  {
   "cell_type": "code",
   "execution_count": 10,
   "metadata": {},
   "outputs": [],
   "source": [
    "fig, axes = plt.subplots(nrows=3, ncols=2)"
   ]
  },
  {
   "cell_type": "code",
   "execution_count": 16,
   "metadata": {},
   "outputs": [],
   "source": [
    "for ax in axes.flatten():\n",
    "    ax.plot(lfp)"
   ]
  },
  {
   "cell_type": "code",
   "execution_count": 31,
   "metadata": {},
   "outputs": [
    {
     "data": {
      "text/plain": [
       "0      1697000000\n",
       "1      1926000000\n",
       "2      2429000000\n",
       "3      3275000000\n",
       "4      3841000000\n",
       "5      3916000000\n",
       "6      3992000000\n",
       "7      4529000000\n",
       "8      4648000000\n",
       "9      5426000000\n",
       "10     6069000000\n",
       "11     6629000000\n",
       "12     7311000000\n",
       "13     7759000000\n",
       "14     7909000000\n",
       "15     8797000000\n",
       "16     9333000000\n",
       "17    16145000000\n",
       "18    16765000000\n",
       "19    17259000000\n",
       "20    17429000000\n",
       "21    17669000000\n",
       "22    17764000000\n",
       "23    17810000000\n",
       "24    18076000000\n",
       "25    18528000000\n",
       "26    18979000000\n",
       "27    19167000000\n",
       "28    19448000000\n",
       "29    19771000000\n",
       "30    20363000000\n",
       "31    21286000000\n",
       "32    21629000000\n",
       "33    21850000000\n",
       "Name: end, dtype: int64"
      ]
     },
     "execution_count": 31,
     "metadata": {},
     "output_type": "execute_result"
    }
   ],
   "source": [
    "states['sws'].end"
   ]
  },
  {
   "cell_type": "code",
   "execution_count": 9,
   "metadata": {},
   "outputs": [],
   "source": [
    "end  = nts.Ts(np.array(states['sws'].end+1_000_001))\n",
    "a = states['Rem'].in_interval(end)"
   ]
  },
  {
   "cell_type": "code",
   "execution_count": 10,
   "metadata": {},
   "outputs": [
    {
     "data": {
      "text/plain": [
       "start    1777000000\n",
       "end      1926000000\n",
       "Name: 1, dtype: int64"
      ]
     },
     "execution_count": 10,
     "metadata": {},
     "output_type": "execute_result"
    }
   ],
   "source": [
    "states['sws'].iloc[1]"
   ]
  },
  {
   "cell_type": "code",
   "execution_count": 11,
   "metadata": {},
   "outputs": [
    {
     "data": {
      "text/plain": [
       "start    1927000000\n",
       "end      2013000000\n",
       "Name: 0, dtype: int64"
      ]
     },
     "execution_count": 11,
     "metadata": {},
     "output_type": "execute_result"
    }
   ],
   "source": [
    "states['Rem'].iloc[0]"
   ]
  },
  {
   "cell_type": "code",
   "execution_count": 12,
   "metadata": {},
   "outputs": [
    {
     "ename": "SyntaxError",
     "evalue": "invalid syntax (<ipython-input-12-5ceda6e46fc5>, line 1)",
     "output_type": "error",
     "traceback": [
      "\u001b[1;36m  File \u001b[1;32m\"<ipython-input-12-5ceda6e46fc5>\"\u001b[1;36m, line \u001b[1;32m1\u001b[0m\n\u001b[1;33m    interval.\u001b[0m\n\u001b[1;37m             ^\u001b[0m\n\u001b[1;31mSyntaxError\u001b[0m\u001b[1;31m:\u001b[0m invalid syntax\n"
     ]
    }
   ],
   "source": [
    "interval."
   ]
  },
  {
   "cell_type": "code",
   "execution_count": 14,
   "metadata": {},
   "outputs": [],
   "source": [
    "import itertools"
   ]
  },
  {
   "cell_type": "code",
   "execution_count": 15,
   "metadata": {},
   "outputs": [
    {
     "ename": "SyntaxError",
     "evalue": "unexpected EOF while parsing (<ipython-input-15-fdc0e234b070>, line 1)",
     "output_type": "error",
     "traceback": [
      "\u001b[1;36m  File \u001b[1;32m\"<ipython-input-15-fdc0e234b070>\"\u001b[1;36m, line \u001b[1;32m1\u001b[0m\n\u001b[1;33m    for j in itertools.permutations(states.keys(),2):\u001b[0m\n\u001b[1;37m                                                     ^\u001b[0m\n\u001b[1;31mSyntaxError\u001b[0m\u001b[1;31m:\u001b[0m unexpected EOF while parsing\n"
     ]
    }
   ],
   "source": [
    "for j in itertools.permutations(states.keys(),2):"
   ]
  },
  {
   "cell_type": "code",
   "execution_count": 229,
   "metadata": {},
   "outputs": [],
   "source": [
    "def state_transitions(states,epsilon = 1):\n",
    "    '''\n",
    "        states : dict of nts.Interval_Set\n",
    "        \n",
    "        This function compute transition in between Intervals in a dict.\n",
    "        It returns a new dict with intervals and when the transition occurs\n",
    "        \n",
    "        epsilon : tolerance time delay between state\n",
    "        \n",
    "    '''\n",
    "    \n",
    "    import itertools\n",
    "    \n",
    "    for state in states:\n",
    "        print(state)\n",
    "        states[state] = states[state].drop_short_intervals(1)\n",
    "    \n",
    "    transitions_intervals = {}\n",
    "    transitions_timing = {}\n",
    "    \n",
    "    for items in itertools.permutations(states.keys(),2):\n",
    "        states[items[0]] = states[items[0]].drop_short_intervals(1)\n",
    "        states[items[1]] = states[items[1]].drop_short_intervals(1)\n",
    "        \n",
    "        print('Looking at transition from',items[0],' to ',items[1])\n",
    "        end = nts.Ts(np.array(states[items[0]].end + (epsilon * 1_000_000)+1))\n",
    "        in_next_epoch = states[items[1]].in_interval(end)\n",
    "        \n",
    "        transitions_intervals.update({items:[]})\n",
    "        transitions_timing.update({items:[]})\n",
    "\n",
    "        for n,t in enumerate(in_next_epoch):\n",
    "            if np.isnan(t): continue            \n",
    "            start = states[items[0]].iloc[n].start\n",
    "            trans = int(np.mean([states[items[0]].iloc[n].end,states[items[0]].iloc[n].start]))\n",
    "            end  = states[items[1]].iloc[int(t)].end\n",
    "            transitions_intervals[items].append([start,end])\n",
    "            transitions_timing[items].append(trans)\n",
    "        \n",
    "        if  not transitions_timing[items] == []:      \n",
    "            transitions_intervals[items] = np.array(transitions_intervals[items])\n",
    "            transitions_intervals[items] = nts.IntervalSet(transitions_intervals[items][:,0],transitions_intervals[items][:,1])\n",
    "            \n",
    "            transitions_timing[items] = nts.Ts(t = np.array(transitions_timing[items]))\n",
    "    return transitions_intervals,transitions_timing\n",
    "    "
   ]
  },
  {
   "cell_type": "code",
   "execution_count": 230,
   "metadata": {},
   "outputs": [
    {
     "name": "stdout",
     "output_type": "stream",
     "text": [
      "('Rem', 'sws')\n",
      "('Rem', 'wake')\n",
      "('Rem', 'drowsy')\n",
      "('sws', 'Rem')\n",
      "('sws', 'wake')\n",
      "('sws', 'drowsy')\n",
      "('wake', 'Rem')\n"
     ]
    },
    {
     "ename": "AttributeError",
     "evalue": "'list' object has no attribute 'drop_short_intervals'",
     "output_type": "error",
     "traceback": [
      "\u001b[1;31m---------------------------------------------------------------------------\u001b[0m",
      "\u001b[1;31mAttributeError\u001b[0m                            Traceback (most recent call last)",
      "\u001b[1;32m<ipython-input-230-96a9617092e9>\u001b[0m in \u001b[0;36m<module>\u001b[1;34m\u001b[0m\n\u001b[1;32m----> 1\u001b[1;33m \u001b[0mc\u001b[0m\u001b[1;33m,\u001b[0m\u001b[0md\u001b[0m \u001b[1;33m=\u001b[0m \u001b[0mstate_transitions\u001b[0m\u001b[1;33m(\u001b[0m\u001b[0ma\u001b[0m\u001b[1;33m)\u001b[0m\u001b[1;33m\u001b[0m\u001b[1;33m\u001b[0m\u001b[0m\n\u001b[0m",
      "\u001b[1;32m<ipython-input-229-d111a98e4e52>\u001b[0m in \u001b[0;36mstate_transitions\u001b[1;34m(states, epsilon)\u001b[0m\n\u001b[0;32m     14\u001b[0m     \u001b[1;32mfor\u001b[0m \u001b[0mstate\u001b[0m \u001b[1;32min\u001b[0m \u001b[0mstates\u001b[0m\u001b[1;33m:\u001b[0m\u001b[1;33m\u001b[0m\u001b[1;33m\u001b[0m\u001b[0m\n\u001b[0;32m     15\u001b[0m         \u001b[0mprint\u001b[0m\u001b[1;33m(\u001b[0m\u001b[0mstate\u001b[0m\u001b[1;33m)\u001b[0m\u001b[1;33m\u001b[0m\u001b[1;33m\u001b[0m\u001b[0m\n\u001b[1;32m---> 16\u001b[1;33m         \u001b[0mstates\u001b[0m\u001b[1;33m[\u001b[0m\u001b[0mstate\u001b[0m\u001b[1;33m]\u001b[0m \u001b[1;33m=\u001b[0m \u001b[0mstates\u001b[0m\u001b[1;33m[\u001b[0m\u001b[0mstate\u001b[0m\u001b[1;33m]\u001b[0m\u001b[1;33m.\u001b[0m\u001b[0mdrop_short_intervals\u001b[0m\u001b[1;33m(\u001b[0m\u001b[1;36m1\u001b[0m\u001b[1;33m)\u001b[0m\u001b[1;33m\u001b[0m\u001b[1;33m\u001b[0m\u001b[0m\n\u001b[0m\u001b[0;32m     17\u001b[0m \u001b[1;33m\u001b[0m\u001b[0m\n\u001b[0;32m     18\u001b[0m     \u001b[0mtransitions_intervals\u001b[0m \u001b[1;33m=\u001b[0m \u001b[1;33m{\u001b[0m\u001b[1;33m}\u001b[0m\u001b[1;33m\u001b[0m\u001b[1;33m\u001b[0m\u001b[0m\n",
      "\u001b[1;31mAttributeError\u001b[0m: 'list' object has no attribute 'drop_short_intervals'"
     ]
    }
   ],
   "source": [
    "c,d = state_transitions(a)"
   ]
  },
  {
   "cell_type": "code",
   "execution_count": 228,
   "metadata": {},
   "outputs": [
    {
     "name": "stdout",
     "output_type": "stream",
     "text": [
      "Rem\n",
      "sws\n",
      "wake\n",
      "drowsy\n",
      "Looking at transition from Rem  to  sws\n",
      "Looking at transition from Rem  to  wake\n",
      "Looking at transition from Rem  to  drowsy\n",
      "Looking at transition from sws  to  Rem\n",
      "Looking at transition from sws  to  wake\n",
      "Looking at transition from sws  to  drowsy\n",
      "Looking at transition from wake  to  Rem\n",
      "Looking at transition from wake  to  sws\n",
      "Looking at transition from wake  to  drowsy\n",
      "Looking at transition from drowsy  to  Rem\n",
      "Looking at transition from drowsy  to  sws\n",
      "Looking at transition from drowsy  to  wake\n"
     ]
    }
   ],
   "source": [
    "a,b = state_transitions(states)"
   ]
  },
  {
   "cell_type": "code",
   "execution_count": 213,
   "metadata": {},
   "outputs": [],
   "source": [
    "bk.plot.intervals(a['sws','Rem'])"
   ]
  },
  {
   "cell_type": "code",
   "execution_count": 171,
   "metadata": {},
   "outputs": [],
   "source": [
    "a = states['drowsy'].drop_duplicates()"
   ]
  },
  {
   "cell_type": "code",
   "execution_count": 205,
   "metadata": {},
   "outputs": [],
   "source": [
    "c = b['sws','Rem'].as_units('s').index"
   ]
  },
  {
   "cell_type": "code",
   "execution_count": 211,
   "metadata": {},
   "outputs": [
    {
     "data": {
      "text/plain": [
       "Time (us)\n",
       "1851500000    NaN\n",
       "2266500000    NaN\n",
       "3050500000    NaN\n",
       "3612000000    NaN\n",
       "3902000000    NaN\n",
       "3981000000    NaN\n",
       "4276500000    NaN\n",
       "5235000000    NaN\n",
       "5779000000    NaN\n",
       "7140500000    NaN\n",
       "7567000000    NaN\n",
       "7848500000    NaN\n",
       "8641000000    NaN\n",
       "9110000000    NaN\n",
       "15830500000   NaN\n",
       "16600500000   NaN\n",
       "17030000000   NaN\n",
       "17396500000   NaN\n",
       "17800500000   NaN\n",
       "17964000000   NaN\n",
       "18330000000   NaN\n",
       "18821000000   NaN\n",
       "19126500000   NaN\n",
       "19317500000   NaN\n",
       "19658500000   NaN\n",
       "21076500000   NaN\n",
       "21494000000   NaN\n",
       "21762500000   NaN\n",
       "dtype: float64"
      ]
     },
     "execution_count": 211,
     "metadata": {},
     "output_type": "execute_result"
    }
   ],
   "source": [
    "a['sws','Rem']\n",
    "b['sws','Rem']"
   ]
  },
  {
   "cell_type": "code",
   "execution_count": 208,
   "metadata": {},
   "outputs": [
    {
     "data": {
      "text/plain": [
       "{'Rem':           start          end\n",
       " 0    1927000000   2013000000\n",
       " 1    2430000000   2603000000\n",
       " 2    3276000000   3371000000\n",
       " 3    3842000000   3887000000\n",
       " 4    3917000000   3969000000\n",
       " 5    3993000000   4023000000\n",
       " 6    4530000000   4567000000\n",
       " 7    4677000000   4838000000\n",
       " 8    4864000000   4920000000\n",
       " 9    5427000000   5488000000\n",
       " 10   6070000000   6206000000\n",
       " 11   7312000000   7374000000\n",
       " 12   7760000000   7787000000\n",
       " 13   7910000000   8030000000\n",
       " 14   8798000000   8852000000\n",
       " 15   9334000000   9402000000\n",
       " 16  16146000000  16405000000\n",
       " 17  16766000000  16787000000\n",
       " 18  17260000000  17363000000\n",
       " 19  17430000000  17496000000\n",
       " 20  17811000000  17851000000\n",
       " 21  18077000000  18131000000\n",
       " 22  18529000000  18614000000\n",
       " 23  18980000000  19084000000\n",
       " 24  19168000000  19186000000\n",
       " 25  19449000000  19545000000\n",
       " 26  19772000000  19817000000\n",
       " 27  21287000000  21358000000\n",
       " 28  21630000000  21674000000\n",
       " 29  21851000000  21953000000,\n",
       " 'sws':           start          end\n",
       " 0    1448000000   1697000000\n",
       " 1    1777000000   1926000000\n",
       " 2    2104000000   2429000000\n",
       " 3    2826000000   3275000000\n",
       " 4    3383000000   3841000000\n",
       " 5    3888000000   3916000000\n",
       " 6    3970000000   3992000000\n",
       " 7    4024000000   4529000000\n",
       " 8    4568000000   4648000000\n",
       " 9    5044000000   5426000000\n",
       " 10   5489000000   6069000000\n",
       " 11   6368000000   6629000000\n",
       " 12   6970000000   7311000000\n",
       " 13   7375000000   7759000000\n",
       " 14   7788000000   7909000000\n",
       " 15   8485000000   8797000000\n",
       " 16   8887000000   9333000000\n",
       " 17  15516000000  16145000000\n",
       " 18  16436000000  16765000000\n",
       " 19  16801000000  17259000000\n",
       " 20  17364000000  17429000000\n",
       " 21  17497000000  17669000000\n",
       " 22  17689000000  17764000000\n",
       " 23  17791000000  17810000000\n",
       " 24  17852000000  18076000000\n",
       " 25  18132000000  18528000000\n",
       " 26  18663000000  18979000000\n",
       " 27  19086000000  19167000000\n",
       " 28  19187000000  19448000000\n",
       " 29  19546000000  19771000000\n",
       " 30  19818000000  20363000000\n",
       " 31  20867000000  21286000000\n",
       " 32  21359000000  21629000000\n",
       " 33  21675000000  21850000000,\n",
       " 'wake':           start          end\n",
       " 0       1000000    545000000\n",
       " 1     740000000    857000000\n",
       " 2     922000000   1055000000\n",
       " 3    1206000000   1447000000\n",
       " 4    2604000000   2825000000\n",
       " 5    6207000000   6367000000\n",
       " 6    6630000000   6944000000\n",
       " 7    8031000000   8484000000\n",
       " 8    8872000000   8885000000\n",
       " 9    9403000000  13214000000\n",
       " 10  13340000000  15512000000\n",
       " 11  20364000000  20710000000\n",
       " 12  22407000000  22679000000,\n",
       " 'drowsy':           start          end\n",
       " 0     546000000    739000000\n",
       " 1     858000000    921000000\n",
       " 2    1056000000   1205000000\n",
       " 3    1698000000   1776000000\n",
       " 4    2014000000   2103000000\n",
       " 5    3372000000   3382000000\n",
       " 6    4649000000   4671000000\n",
       " 7    4839000000   4863000000\n",
       " 8    4921000000   5043000000\n",
       " 9    6945000000   6969000000\n",
       " 10   8853000000   8871000000\n",
       " 12  13215000000  13339000000\n",
       " 13  15513000000  15515000000\n",
       " 14  16406000000  16435000000\n",
       " 15  16788000000  16800000000\n",
       " 16  17670000000  17688000000\n",
       " 17  17765000000  17790000000\n",
       " 18  18615000000  18662000000\n",
       " 19  20711000000  20866000000\n",
       " 20  21954000000  22406000000}"
      ]
     },
     "execution_count": 208,
     "metadata": {},
     "output_type": "execute_result"
    }
   ],
   "source": [
    "states"
   ]
  },
  {
   "cell_type": "code",
   "execution_count": 212,
   "metadata": {},
   "outputs": [
    {
     "name": "stdout",
     "output_type": "stream",
     "text": [
      "1851.5\n",
      "2266.5\n",
      "3050.5\n",
      "3612.0\n",
      "3902.0\n",
      "3981.0\n",
      "4276.5\n",
      "5235.0\n",
      "5779.0\n",
      "7140.5\n",
      "7567.0\n",
      "7848.5\n",
      "8641.0\n",
      "9110.0\n",
      "15830.5\n",
      "16600.5\n",
      "17030.0\n",
      "17396.5\n",
      "17800.5\n",
      "17964.0\n",
      "18330.0\n",
      "18821.0\n",
      "19126.5\n",
      "19317.5\n",
      "19658.5\n",
      "21076.5\n",
      "21494.0\n",
      "21762.5\n"
     ]
    }
   ],
   "source": [
    "for j in c:\n",
    "    print(j)\n",
    "    plt.axvline(j,c='r')"
   ]
  },
  {
   "cell_type": "code",
   "execution_count": 126,
   "metadata": {},
   "outputs": [
    {
     "data": {
      "text/html": [
       "<div>\n",
       "<style scoped>\n",
       "    .dataframe tbody tr th:only-of-type {\n",
       "        vertical-align: middle;\n",
       "    }\n",
       "\n",
       "    .dataframe tbody tr th {\n",
       "        vertical-align: top;\n",
       "    }\n",
       "\n",
       "    .dataframe thead th {\n",
       "        text-align: right;\n",
       "    }\n",
       "</style>\n",
       "<table border=\"1\" class=\"dataframe\">\n",
       "  <thead>\n",
       "    <tr style=\"text-align: right;\">\n",
       "      <th></th>\n",
       "      <th>start</th>\n",
       "      <th>end</th>\n",
       "    </tr>\n",
       "  </thead>\n",
       "  <tbody>\n",
       "    <tr>\n",
       "      <th>0</th>\n",
       "      <td>546000000</td>\n",
       "      <td>739000000</td>\n",
       "    </tr>\n",
       "    <tr>\n",
       "      <th>1</th>\n",
       "      <td>858000000</td>\n",
       "      <td>921000000</td>\n",
       "    </tr>\n",
       "    <tr>\n",
       "      <th>2</th>\n",
       "      <td>1056000000</td>\n",
       "      <td>1205000000</td>\n",
       "    </tr>\n",
       "    <tr>\n",
       "      <th>3</th>\n",
       "      <td>1698000000</td>\n",
       "      <td>1776000000</td>\n",
       "    </tr>\n",
       "    <tr>\n",
       "      <th>4</th>\n",
       "      <td>2014000000</td>\n",
       "      <td>2103000000</td>\n",
       "    </tr>\n",
       "    <tr>\n",
       "      <th>5</th>\n",
       "      <td>3372000000</td>\n",
       "      <td>3382000000</td>\n",
       "    </tr>\n",
       "    <tr>\n",
       "      <th>6</th>\n",
       "      <td>4649000000</td>\n",
       "      <td>4671000000</td>\n",
       "    </tr>\n",
       "    <tr>\n",
       "      <th>7</th>\n",
       "      <td>4839000000</td>\n",
       "      <td>4863000000</td>\n",
       "    </tr>\n",
       "    <tr>\n",
       "      <th>8</th>\n",
       "      <td>4921000000</td>\n",
       "      <td>5043000000</td>\n",
       "    </tr>\n",
       "    <tr>\n",
       "      <th>9</th>\n",
       "      <td>6945000000</td>\n",
       "      <td>6969000000</td>\n",
       "    </tr>\n",
       "    <tr>\n",
       "      <th>10</th>\n",
       "      <td>8853000000</td>\n",
       "      <td>8871000000</td>\n",
       "    </tr>\n",
       "    <tr>\n",
       "      <th>11</th>\n",
       "      <td>8886000000</td>\n",
       "      <td>8886000000</td>\n",
       "    </tr>\n",
       "    <tr>\n",
       "      <th>12</th>\n",
       "      <td>13215000000</td>\n",
       "      <td>13339000000</td>\n",
       "    </tr>\n",
       "    <tr>\n",
       "      <th>13</th>\n",
       "      <td>15513000000</td>\n",
       "      <td>15515000000</td>\n",
       "    </tr>\n",
       "    <tr>\n",
       "      <th>14</th>\n",
       "      <td>16406000000</td>\n",
       "      <td>16435000000</td>\n",
       "    </tr>\n",
       "    <tr>\n",
       "      <th>15</th>\n",
       "      <td>16788000000</td>\n",
       "      <td>16800000000</td>\n",
       "    </tr>\n",
       "    <tr>\n",
       "      <th>16</th>\n",
       "      <td>17670000000</td>\n",
       "      <td>17688000000</td>\n",
       "    </tr>\n",
       "    <tr>\n",
       "      <th>17</th>\n",
       "      <td>17765000000</td>\n",
       "      <td>17790000000</td>\n",
       "    </tr>\n",
       "    <tr>\n",
       "      <th>18</th>\n",
       "      <td>18615000000</td>\n",
       "      <td>18662000000</td>\n",
       "    </tr>\n",
       "    <tr>\n",
       "      <th>19</th>\n",
       "      <td>20711000000</td>\n",
       "      <td>20866000000</td>\n",
       "    </tr>\n",
       "    <tr>\n",
       "      <th>20</th>\n",
       "      <td>21954000000</td>\n",
       "      <td>22406000000</td>\n",
       "    </tr>\n",
       "  </tbody>\n",
       "</table>\n",
       "</div>"
      ],
      "text/plain": [
       "          start          end\n",
       "0     546000000    739000000\n",
       "1     858000000    921000000\n",
       "2    1056000000   1205000000\n",
       "3    1698000000   1776000000\n",
       "4    2014000000   2103000000\n",
       "5    3372000000   3382000000\n",
       "6    4649000000   4671000000\n",
       "7    4839000000   4863000000\n",
       "8    4921000000   5043000000\n",
       "9    6945000000   6969000000\n",
       "10   8853000000   8871000000\n",
       "11   8886000000   8886000000\n",
       "12  13215000000  13339000000\n",
       "13  15513000000  15515000000\n",
       "14  16406000000  16435000000\n",
       "15  16788000000  16800000000\n",
       "16  17670000000  17688000000\n",
       "17  17765000000  17790000000\n",
       "18  18615000000  18662000000\n",
       "19  20711000000  20866000000\n",
       "20  21954000000  22406000000"
      ]
     },
     "execution_count": 126,
     "metadata": {},
     "output_type": "execute_result"
    }
   ],
   "source": [
    "a.drop_duplicates()"
   ]
  },
  {
   "cell_type": "code",
   "execution_count": null,
   "metadata": {},
   "outputs": [],
   "source": []
  }
 ],
 "metadata": {
  "kernelspec": {
   "display_name": "Python 3",
   "language": "python",
   "name": "python3"
  },
  "language_info": {
   "codemirror_mode": {
    "name": "ipython",
    "version": 3
   },
   "file_extension": ".py",
   "mimetype": "text/x-python",
   "name": "python",
   "nbconvert_exporter": "python",
   "pygments_lexer": "ipython3",
   "version": "3.7.6"
  }
 },
 "nbformat": 4,
 "nbformat_minor": 4
}
