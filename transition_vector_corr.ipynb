{
 "cells": [
  {
   "cell_type": "markdown",
   "metadata": {},
   "source": [
    "## Python Importation"
   ]
  },
  {
   "cell_type": "code",
   "execution_count": 1,
   "metadata": {},
   "outputs": [],
   "source": [
    "import os\n",
    "\n",
    "import matplotlib.pyplot as plt\n",
    "import pandas as pd\n",
    "import numpy as np\n",
    "\n",
    "import bk.compute\n",
    "import bk.plot\n",
    "import bk.load\n",
    "\n",
    "import scipy.signal\n",
    "import neuroseries as nts"
   ]
  },
  {
   "cell_type": "markdown",
   "metadata": {},
   "source": [
    "## Magic Command"
   ]
  },
  {
   "cell_type": "code",
   "execution_count": 2,
   "metadata": {},
   "outputs": [],
   "source": [
    "%matplotlib qt"
   ]
  },
  {
   "cell_type": "markdown",
   "metadata": {},
   "source": [
    "## Session Init"
   ]
  },
  {
   "cell_type": "code",
   "execution_count": 3,
   "metadata": {},
   "outputs": [],
   "source": [
    "path = '/media/billel/GGLab-01-BK/DATA/Rat08-20130713/'\n",
    "os.chdir(path)\n",
    "bk.load.path = path\n",
    "bk.load.rat = 8\n",
    "bk.load.session = 'Rat08-20130713'\n",
    "bk.load.day = 6"
   ]
  },
  {
   "cell_type": "code",
   "execution_count": 14,
   "metadata": {},
   "outputs": [
    {
     "ename": "FileNotFoundError",
     "evalue": "[Errno 2] No such file or directory: 'Z:/All-Rats/Billel/session_indexing.csv'",
     "output_type": "error",
     "traceback": [
      "\u001b[0;31m-----------------------------------------------------------------\u001b[0m",
      "\u001b[0;31mFileNotFoundError\u001b[0m               Traceback (most recent call last)",
      "\u001b[0;32m<ipython-input-14-7e710b99b25c>\u001b[0m in \u001b[0;36m<module>\u001b[0;34m\u001b[0m\n\u001b[0;32m----> 1\u001b[0;31m \u001b[0mbk\u001b[0m\u001b[0;34m.\u001b[0m\u001b[0mload\u001b[0m\u001b[0;34m.\u001b[0m\u001b[0mcurrent_session\u001b[0m\u001b[0;34m(\u001b[0m\u001b[0;34m)\u001b[0m\u001b[0;34m\u001b[0m\u001b[0;34m\u001b[0m\u001b[0m\n\u001b[0m",
      "\u001b[0;32m~/Documents/Python/Amy-Hpc-sleep-dynamics-python/bk/load.py\u001b[0m in \u001b[0;36mcurrent_session\u001b[0;34m(path_local)\u001b[0m\n\u001b[1;32m     28\u001b[0m \u001b[0;34m\u001b[0m\u001b[0m\n\u001b[1;32m     29\u001b[0m \u001b[0;34m\u001b[0m\u001b[0m\n\u001b[0;32m---> 30\u001b[0;31m     \u001b[0msession_index\u001b[0m \u001b[0;34m=\u001b[0m \u001b[0mpd\u001b[0m\u001b[0;34m.\u001b[0m\u001b[0mread_csv\u001b[0m\u001b[0;34m(\u001b[0m\u001b[0;34m'Z:/All-Rats/Billel/session_indexing.csv'\u001b[0m\u001b[0;34m,\u001b[0m\u001b[0msep\u001b[0m \u001b[0;34m=\u001b[0m \u001b[0;34m';'\u001b[0m\u001b[0;34m)\u001b[0m\u001b[0;34m\u001b[0m\u001b[0;34m\u001b[0m\u001b[0m\n\u001b[0m\u001b[1;32m     31\u001b[0m \u001b[0;34m\u001b[0m\u001b[0m\n\u001b[1;32m     32\u001b[0m     \u001b[0mpath\u001b[0m \u001b[0;34m=\u001b[0m \u001b[0mpath_local\u001b[0m\u001b[0;34m\u001b[0m\u001b[0;34m\u001b[0m\u001b[0m\n",
      "\u001b[0;32m~/anaconda3/lib/python3.7/site-packages/pandas/io/parsers.py\u001b[0m in \u001b[0;36mread_csv\u001b[0;34m(filepath_or_buffer, sep, delimiter, header, names, index_col, usecols, squeeze, prefix, mangle_dupe_cols, dtype, engine, converters, true_values, false_values, skipinitialspace, skiprows, skipfooter, nrows, na_values, keep_default_na, na_filter, verbose, skip_blank_lines, parse_dates, infer_datetime_format, keep_date_col, date_parser, dayfirst, cache_dates, iterator, chunksize, compression, thousands, decimal, lineterminator, quotechar, quoting, doublequote, escapechar, comment, encoding, dialect, error_bad_lines, warn_bad_lines, delim_whitespace, low_memory, memory_map, float_precision)\u001b[0m\n\u001b[1;32m    684\u001b[0m     )\n\u001b[1;32m    685\u001b[0m \u001b[0;34m\u001b[0m\u001b[0m\n\u001b[0;32m--> 686\u001b[0;31m     \u001b[0;32mreturn\u001b[0m \u001b[0m_read\u001b[0m\u001b[0;34m(\u001b[0m\u001b[0mfilepath_or_buffer\u001b[0m\u001b[0;34m,\u001b[0m \u001b[0mkwds\u001b[0m\u001b[0;34m)\u001b[0m\u001b[0;34m\u001b[0m\u001b[0;34m\u001b[0m\u001b[0m\n\u001b[0m\u001b[1;32m    687\u001b[0m \u001b[0;34m\u001b[0m\u001b[0m\n\u001b[1;32m    688\u001b[0m \u001b[0;34m\u001b[0m\u001b[0m\n",
      "\u001b[0;32m~/anaconda3/lib/python3.7/site-packages/pandas/io/parsers.py\u001b[0m in \u001b[0;36m_read\u001b[0;34m(filepath_or_buffer, kwds)\u001b[0m\n\u001b[1;32m    450\u001b[0m \u001b[0;34m\u001b[0m\u001b[0m\n\u001b[1;32m    451\u001b[0m     \u001b[0;31m# Create the parser.\u001b[0m\u001b[0;34m\u001b[0m\u001b[0;34m\u001b[0m\u001b[0;34m\u001b[0m\u001b[0m\n\u001b[0;32m--> 452\u001b[0;31m     \u001b[0mparser\u001b[0m \u001b[0;34m=\u001b[0m \u001b[0mTextFileReader\u001b[0m\u001b[0;34m(\u001b[0m\u001b[0mfp_or_buf\u001b[0m\u001b[0;34m,\u001b[0m \u001b[0;34m**\u001b[0m\u001b[0mkwds\u001b[0m\u001b[0;34m)\u001b[0m\u001b[0;34m\u001b[0m\u001b[0;34m\u001b[0m\u001b[0m\n\u001b[0m\u001b[1;32m    453\u001b[0m \u001b[0;34m\u001b[0m\u001b[0m\n\u001b[1;32m    454\u001b[0m     \u001b[0;32mif\u001b[0m \u001b[0mchunksize\u001b[0m \u001b[0;32mor\u001b[0m \u001b[0miterator\u001b[0m\u001b[0;34m:\u001b[0m\u001b[0;34m\u001b[0m\u001b[0;34m\u001b[0m\u001b[0m\n",
      "\u001b[0;32m~/anaconda3/lib/python3.7/site-packages/pandas/io/parsers.py\u001b[0m in \u001b[0;36m__init__\u001b[0;34m(self, f, engine, **kwds)\u001b[0m\n\u001b[1;32m    944\u001b[0m             \u001b[0mself\u001b[0m\u001b[0;34m.\u001b[0m\u001b[0moptions\u001b[0m\u001b[0;34m[\u001b[0m\u001b[0;34m\"has_index_names\"\u001b[0m\u001b[0;34m]\u001b[0m \u001b[0;34m=\u001b[0m \u001b[0mkwds\u001b[0m\u001b[0;34m[\u001b[0m\u001b[0;34m\"has_index_names\"\u001b[0m\u001b[0;34m]\u001b[0m\u001b[0;34m\u001b[0m\u001b[0;34m\u001b[0m\u001b[0m\n\u001b[1;32m    945\u001b[0m \u001b[0;34m\u001b[0m\u001b[0m\n\u001b[0;32m--> 946\u001b[0;31m         \u001b[0mself\u001b[0m\u001b[0;34m.\u001b[0m\u001b[0m_make_engine\u001b[0m\u001b[0;34m(\u001b[0m\u001b[0mself\u001b[0m\u001b[0;34m.\u001b[0m\u001b[0mengine\u001b[0m\u001b[0;34m)\u001b[0m\u001b[0;34m\u001b[0m\u001b[0;34m\u001b[0m\u001b[0m\n\u001b[0m\u001b[1;32m    947\u001b[0m \u001b[0;34m\u001b[0m\u001b[0m\n\u001b[1;32m    948\u001b[0m     \u001b[0;32mdef\u001b[0m \u001b[0mclose\u001b[0m\u001b[0;34m(\u001b[0m\u001b[0mself\u001b[0m\u001b[0;34m)\u001b[0m\u001b[0;34m:\u001b[0m\u001b[0;34m\u001b[0m\u001b[0;34m\u001b[0m\u001b[0m\n",
      "\u001b[0;32m~/anaconda3/lib/python3.7/site-packages/pandas/io/parsers.py\u001b[0m in \u001b[0;36m_make_engine\u001b[0;34m(self, engine)\u001b[0m\n\u001b[1;32m   1176\u001b[0m     \u001b[0;32mdef\u001b[0m \u001b[0m_make_engine\u001b[0m\u001b[0;34m(\u001b[0m\u001b[0mself\u001b[0m\u001b[0;34m,\u001b[0m \u001b[0mengine\u001b[0m\u001b[0;34m=\u001b[0m\u001b[0;34m\"c\"\u001b[0m\u001b[0;34m)\u001b[0m\u001b[0;34m:\u001b[0m\u001b[0;34m\u001b[0m\u001b[0;34m\u001b[0m\u001b[0m\n\u001b[1;32m   1177\u001b[0m         \u001b[0;32mif\u001b[0m \u001b[0mengine\u001b[0m \u001b[0;34m==\u001b[0m \u001b[0;34m\"c\"\u001b[0m\u001b[0;34m:\u001b[0m\u001b[0;34m\u001b[0m\u001b[0;34m\u001b[0m\u001b[0m\n\u001b[0;32m-> 1178\u001b[0;31m             \u001b[0mself\u001b[0m\u001b[0;34m.\u001b[0m\u001b[0m_engine\u001b[0m \u001b[0;34m=\u001b[0m \u001b[0mCParserWrapper\u001b[0m\u001b[0;34m(\u001b[0m\u001b[0mself\u001b[0m\u001b[0;34m.\u001b[0m\u001b[0mf\u001b[0m\u001b[0;34m,\u001b[0m \u001b[0;34m**\u001b[0m\u001b[0mself\u001b[0m\u001b[0;34m.\u001b[0m\u001b[0moptions\u001b[0m\u001b[0;34m)\u001b[0m\u001b[0;34m\u001b[0m\u001b[0;34m\u001b[0m\u001b[0m\n\u001b[0m\u001b[1;32m   1179\u001b[0m         \u001b[0;32melse\u001b[0m\u001b[0;34m:\u001b[0m\u001b[0;34m\u001b[0m\u001b[0;34m\u001b[0m\u001b[0m\n\u001b[1;32m   1180\u001b[0m             \u001b[0;32mif\u001b[0m \u001b[0mengine\u001b[0m \u001b[0;34m==\u001b[0m \u001b[0;34m\"python\"\u001b[0m\u001b[0;34m:\u001b[0m\u001b[0;34m\u001b[0m\u001b[0;34m\u001b[0m\u001b[0m\n",
      "\u001b[0;32m~/anaconda3/lib/python3.7/site-packages/pandas/io/parsers.py\u001b[0m in \u001b[0;36m__init__\u001b[0;34m(self, src, **kwds)\u001b[0m\n\u001b[1;32m   2006\u001b[0m         \u001b[0mkwds\u001b[0m\u001b[0;34m[\u001b[0m\u001b[0;34m\"usecols\"\u001b[0m\u001b[0;34m]\u001b[0m \u001b[0;34m=\u001b[0m \u001b[0mself\u001b[0m\u001b[0;34m.\u001b[0m\u001b[0musecols\u001b[0m\u001b[0;34m\u001b[0m\u001b[0;34m\u001b[0m\u001b[0m\n\u001b[1;32m   2007\u001b[0m \u001b[0;34m\u001b[0m\u001b[0m\n\u001b[0;32m-> 2008\u001b[0;31m         \u001b[0mself\u001b[0m\u001b[0;34m.\u001b[0m\u001b[0m_reader\u001b[0m \u001b[0;34m=\u001b[0m \u001b[0mparsers\u001b[0m\u001b[0;34m.\u001b[0m\u001b[0mTextReader\u001b[0m\u001b[0;34m(\u001b[0m\u001b[0msrc\u001b[0m\u001b[0;34m,\u001b[0m \u001b[0;34m**\u001b[0m\u001b[0mkwds\u001b[0m\u001b[0;34m)\u001b[0m\u001b[0;34m\u001b[0m\u001b[0;34m\u001b[0m\u001b[0m\n\u001b[0m\u001b[1;32m   2009\u001b[0m         \u001b[0mself\u001b[0m\u001b[0;34m.\u001b[0m\u001b[0munnamed_cols\u001b[0m \u001b[0;34m=\u001b[0m \u001b[0mself\u001b[0m\u001b[0;34m.\u001b[0m\u001b[0m_reader\u001b[0m\u001b[0;34m.\u001b[0m\u001b[0munnamed_cols\u001b[0m\u001b[0;34m\u001b[0m\u001b[0;34m\u001b[0m\u001b[0m\n\u001b[1;32m   2010\u001b[0m \u001b[0;34m\u001b[0m\u001b[0m\n",
      "\u001b[0;32mpandas/_libs/parsers.pyx\u001b[0m in \u001b[0;36mpandas._libs.parsers.TextReader.__cinit__\u001b[0;34m()\u001b[0m\n",
      "\u001b[0;32mpandas/_libs/parsers.pyx\u001b[0m in \u001b[0;36mpandas._libs.parsers.TextReader._setup_parser_source\u001b[0;34m()\u001b[0m\n",
      "\u001b[0;31mFileNotFoundError\u001b[0m: [Errno 2] No such file or directory: 'Z:/All-Rats/Billel/session_indexing.csv'"
     ]
    }
   ],
   "source": [
    "bk.load.current_session()"
   ]
  },
  {
   "cell_type": "markdown",
   "metadata": {},
   "source": [
    "## Loading data"
   ]
  },
  {
   "cell_type": "code",
   "execution_count": 4,
   "metadata": {},
   "outputs": [
    {
     "name": "stdout",
     "output_type": "stream",
     "text": [
      "Data already saved in Numpy format, loading them from here:\n",
      "Rat08-20130713-neurons.npy\n",
      "Rat08-20130713-metadata.npy\n"
     ]
    }
   ],
   "source": [
    "neurons, metadata = bk.load.loadSpikeData(bk.load.path)\n",
    "states = bk.load.states()"
   ]
  },
  {
   "cell_type": "markdown",
   "metadata": {},
   "source": [
    "## Computing spectrograms"
   ]
  },
  {
   "cell_type": "code",
   "execution_count": 6,
   "metadata": {},
   "outputs": [],
   "source": [
    "start = 15516.0\n",
    "end = 16405.0\n",
    "\n",
    "# start = 16120\n",
    "# end = 16200\n",
    "interval = nts.IntervalSet(start,end,time_units='s')"
   ]
  },
  {
   "cell_type": "code",
   "execution_count": 7,
   "metadata": {},
   "outputs": [
    {
     "name": "stdout",
     "output_type": "stream",
     "text": [
      "Load LFP from Rat08-20130713.lfp\n"
     ]
    }
   ],
   "source": [
    "lfp = bk.load.lfp(start,end,166,13)\n",
    "f,t,Sxx = scipy.signal.spectrogram(lfp.as_units('s'),fs=1250,mode= 'psd',nperseg=10000,noverlap=5000)\n",
    "t = t +lfp.as_units('s').index[0]\n",
    "spec = Sxx[f<20]\n",
    "spec_corr = np.corrcoef(spec,rowvar=False)"
   ]
  },
  {
   "cell_type": "markdown",
   "metadata": {},
   "source": [
    "## Computing Neurons correlations"
   ]
  },
  {
   "cell_type": "code",
   "execution_count": 8,
   "metadata": {},
   "outputs": [
    {
     "name": "stdout",
     "output_type": "stream",
     "text": [
      "Load LFP from Rat08-20130713.lfp\n"
     ]
    },
    {
     "name": "stderr",
     "output_type": "stream",
     "text": [
      "C:\\ProgramData\\Anaconda3\\lib\\site-packages\\ipykernel_launcher.py:35: MatplotlibDeprecationWarning: shading='flat' when X and Y have the same dimensions as C is deprecated since 3.3.  Either specify the corners of the quadrilaterals with X and Y, or pass shading='auto', 'nearest' or 'gouraud', or set rcParams['pcolor.shading'].  This will become an error two minor releases later.\n",
      "C:\\ProgramData\\Anaconda3\\lib\\site-packages\\ipykernel_launcher.py:42: MatplotlibDeprecationWarning: shading='flat' when X and Y have the same dimensions as C is deprecated since 3.3.  Either specify the corners of the quadrilaterals with X and Y, or pass shading='auto', 'nearest' or 'gouraud', or set rcParams['pcolor.shading'].  This will become an error two minor releases later.\n"
     ]
    }
   ],
   "source": [
    "# start = 15516.0\n",
    "# end = 16405.0\n",
    "\n",
    "start = 2300\n",
    "end = 2500\n",
    "\n",
    "# start = 16120\n",
    "# end = 16200\n",
    "interval = nts.IntervalSet(start,end,time_units='s')\n",
    "\n",
    "# stru = ['Hpc','BLA','Pir']\n",
    "# channel = [13,101,80]\n",
    "\n",
    "stru =  ['BLA']\n",
    "channel = [103]\n",
    "for n,(s,c) in enumerate(zip(stru,channel),0):\n",
    "    lfp = bk.load.lfp(start,end,166,c)\n",
    "    f,t,Sxx = scipy.signal.spectrogram(lfp.as_units('s'),fs=1250,mode= 'psd',nperseg=1000,noverlap=250)\n",
    "    t = t +lfp.as_units('s').index[0]\n",
    "    spec = Sxx[f<100]\n",
    "    spec_corr = np.corrcoef(spec,rowvar=False)\n",
    "    \n",
    "    stru_neurons,t_n = bk.compute.binSpikes(neurons[metadata.Region == s],2,start,end)\n",
    "    neurons_corr = np.corrcoef(stru_neurons,rowvar=False)\n",
    "    \n",
    "    plt.figure()\n",
    "    sub = plt.subplot(4,1,1)\n",
    "    plt.title('LFP')\n",
    "    plt.plot(lfp.as_units('s'))\n",
    "    bk.plot.intervals(states['sws'],col='grey')\n",
    "    bk.plot.intervals(states['Rem'])\n",
    "   \n",
    "    plt.subplot(4,1,2,sharex=sub)\n",
    "    plt.title('Spectrogram')\n",
    "    plt.pcolormesh(t, f, Sxx)\n",
    "    plt.ylim(0,100)\n",
    "    plt.clim(0,5000)\n",
    "    \n",
    "    \n",
    "    plt.subplot(4,1,3,sharex=sub)\n",
    "    plt.title('SpectrogramCorr')\n",
    "    plt.pcolormesh(t,t,spec_corr)\n",
    "    plt.clim(0,1)\n",
    "    \n",
    "    plt.subplot(4,1,4,sharex = sub)\n",
    "    plt.title('SpikeTrainCorr') \n",
    "    plt.pcolormesh(t_n,t_n,neurons_corr)\n",
    "    plt.xlim(start,end)\n",
    "    \n",
    "    plt.tight_layout()\n",
    "    plt.suptitle(s)"
   ]
  },
  {
   "cell_type": "code",
   "execution_count": 32,
   "metadata": {},
   "outputs": [
    {
     "data": {
      "text/plain": [
       "(94, 999)"
      ]
     },
     "execution_count": 32,
     "metadata": {},
     "output_type": "execute_result"
    }
   ],
   "source": [
    "stru_neurons.shape"
   ]
  },
  {
   "cell_type": "code",
   "execution_count": 10,
   "metadata": {},
   "outputs": [],
   "source": [
    "fig, axes = plt.subplots(nrows=3, ncols=2)"
   ]
  },
  {
   "cell_type": "code",
   "execution_count": 16,
   "metadata": {},
   "outputs": [],
   "source": [
    "for ax in axes.flatten():\n",
    "    ax.plot(lfp)"
   ]
  },
  {
   "cell_type": "code",
   "execution_count": 31,
   "metadata": {},
   "outputs": [
    {
     "data": {
      "text/plain": [
       "0      1697000000\n",
       "1      1926000000\n",
       "2      2429000000\n",
       "3      3275000000\n",
       "4      3841000000\n",
       "5      3916000000\n",
       "6      3992000000\n",
       "7      4529000000\n",
       "8      4648000000\n",
       "9      5426000000\n",
       "10     6069000000\n",
       "11     6629000000\n",
       "12     7311000000\n",
       "13     7759000000\n",
       "14     7909000000\n",
       "15     8797000000\n",
       "16     9333000000\n",
       "17    16145000000\n",
       "18    16765000000\n",
       "19    17259000000\n",
       "20    17429000000\n",
       "21    17669000000\n",
       "22    17764000000\n",
       "23    17810000000\n",
       "24    18076000000\n",
       "25    18528000000\n",
       "26    18979000000\n",
       "27    19167000000\n",
       "28    19448000000\n",
       "29    19771000000\n",
       "30    20363000000\n",
       "31    21286000000\n",
       "32    21629000000\n",
       "33    21850000000\n",
       "Name: end, dtype: int64"
      ]
     },
     "execution_count": 31,
     "metadata": {},
     "output_type": "execute_result"
    }
   ],
   "source": [
    "states['sws'].end"
   ]
  },
  {
   "cell_type": "code",
   "execution_count": 9,
   "metadata": {},
   "outputs": [],
   "source": [
    "end  = nts.Ts(np.array(states['sws'].end+1_000_001))\n",
    "a = states['Rem'].in_interval(end)"
   ]
  },
  {
   "cell_type": "code",
   "execution_count": 10,
   "metadata": {},
   "outputs": [
    {
     "data": {
      "text/plain": [
       "start    1777000000\n",
       "end      1926000000\n",
       "Name: 1, dtype: int64"
      ]
     },
     "execution_count": 10,
     "metadata": {},
     "output_type": "execute_result"
    }
   ],
   "source": [
    "states['sws'].iloc[1]"
   ]
  },
  {
   "cell_type": "code",
   "execution_count": 11,
   "metadata": {},
   "outputs": [
    {
     "data": {
      "text/plain": [
       "start    1927000000\n",
       "end      2013000000\n",
       "Name: 0, dtype: int64"
      ]
     },
     "execution_count": 11,
     "metadata": {},
     "output_type": "execute_result"
    }
   ],
   "source": [
    "states['Rem'].iloc[0]"
   ]
  },
  {
   "cell_type": "code",
   "execution_count": 12,
   "metadata": {},
   "outputs": [
    {
     "ename": "SyntaxError",
     "evalue": "invalid syntax (<ipython-input-12-5ceda6e46fc5>, line 1)",
     "output_type": "error",
     "traceback": [
      "\u001b[1;36m  File \u001b[1;32m\"<ipython-input-12-5ceda6e46fc5>\"\u001b[1;36m, line \u001b[1;32m1\u001b[0m\n\u001b[1;33m    interval.\u001b[0m\n\u001b[1;37m             ^\u001b[0m\n\u001b[1;31mSyntaxError\u001b[0m\u001b[1;31m:\u001b[0m invalid syntax\n"
     ]
    }
   ],
   "source": [
    "interval."
   ]
  },
  {
   "cell_type": "code",
   "execution_count": 14,
   "metadata": {},
   "outputs": [],
   "source": [
    "import itertools"
   ]
  },
  {
   "cell_type": "code",
   "execution_count": 15,
   "metadata": {},
   "outputs": [
    {
     "ename": "SyntaxError",
     "evalue": "unexpected EOF while parsing (<ipython-input-15-fdc0e234b070>, line 1)",
     "output_type": "error",
     "traceback": [
      "\u001b[1;36m  File \u001b[1;32m\"<ipython-input-15-fdc0e234b070>\"\u001b[1;36m, line \u001b[1;32m1\u001b[0m\n\u001b[1;33m    for j in itertools.permutations(states.keys(),2):\u001b[0m\n\u001b[1;37m                                                     ^\u001b[0m\n\u001b[1;31mSyntaxError\u001b[0m\u001b[1;31m:\u001b[0m unexpected EOF while parsing\n"
     ]
    }
   ],
   "source": [
    "for j in itertools.permutations(states.keys(),2):"
   ]
  },
  {
   "cell_type": "code",
   "execution_count": 30,
   "metadata": {},
   "outputs": [],
   "source": [
    "def transitions_times(states,epsilon = 1):\n",
    "    '''\n",
    "        states : dict of nts.Interval_Set\n",
    "        \n",
    "        This function compute transition in between Intervals in a dict.\n",
    "        It returns a new dict with intervals and when the transition occurs\n",
    "        \n",
    "        epsilon : tolerance time delay between state\n",
    "        \n",
    "    '''\n",
    "    \n",
    "    import itertools\n",
    "    \n",
    "    empty_state = []\n",
    "    for state in states:\n",
    "        if len(states[state]) == 0:\n",
    "            empty_state.append(state)\n",
    "            continue\n",
    "        states[state] = states[state].drop_short_intervals(1)\n",
    "    \n",
    "    \n",
    "    for i in empty_state: del states[i]\n",
    "        \n",
    "    transitions_intervals = {}\n",
    "    transitions_timing = {}\n",
    "    \n",
    "    for items in itertools.permutations(states.keys(),2):\n",
    "#         states[items[0]] = states[items[0]].drop_short_intervals(1)\n",
    "#         states[items[1]] = states[items[1]].drop_short_intervals(1)\n",
    "        \n",
    "        print('Looking at transition from',items[0],' to ',items[1])\n",
    "        end = nts.Ts(np.array(states[items[0]].end + (epsilon * 1_000_000)+1))\n",
    "        in_next_epoch = states[items[1]].in_interval(end)\n",
    "        \n",
    "        transitions_intervals.update({items:[]})\n",
    "        transitions_timing.update({items:[]})\n",
    "\n",
    "        for n,t in enumerate(in_next_epoch):\n",
    "            if np.isnan(t): continue            \n",
    "            start = states[items[0]].iloc[n].start\n",
    "            trans = int(np.mean([states[items[0]].iloc[n].end,states[items[0]].iloc[n].start]))\n",
    "            end  = states[items[1]].iloc[int(t)].end\n",
    "            transitions_intervals[items].append([start,end])\n",
    "            transitions_timing[items].append(trans)\n",
    "        \n",
    "        if  not transitions_timing[items] == []:      \n",
    "            transitions_intervals[items] = np.array(transitions_intervals[items])\n",
    "            transitions_intervals[items] = nts.IntervalSet(transitions_intervals[items][:,0],transitions_intervals[items][:,1])\n",
    "            \n",
    "            transitions_timing[items] = nts.Ts(t = np.array(transitions_timing[items]))\n",
    "    return transitions_intervals,transitions_timing"
   ]
  },
  {
   "cell_type": "code",
   "execution_count": 5,
   "metadata": {},
   "outputs": [
    {
     "name": "stdout",
     "output_type": "stream",
     "text": [
      "Looking at transition from Rem  to  sws\n",
      "Looking at transition from Rem  to  wake\n",
      "Looking at transition from Rem  to  drowsy\n",
      "Looking at transition from sws  to  Rem\n",
      "Looking at transition from sws  to  wake\n",
      "Looking at transition from sws  to  drowsy\n",
      "Looking at transition from wake  to  Rem\n",
      "Looking at transition from wake  to  sws\n",
      "Looking at transition from wake  to  drowsy\n",
      "Looking at transition from drowsy  to  Rem\n",
      "Looking at transition from drowsy  to  sws\n",
      "Looking at transition from drowsy  to  wake\n",
      "Looking at transition from ('Rem', 'sws')  to  ('Rem', 'wake')\n",
      "Looking at transition from ('Rem', 'sws')  to  ('Rem', 'drowsy')\n",
      "Looking at transition from ('Rem', 'sws')  to  ('sws', 'Rem')\n",
      "Looking at transition from ('Rem', 'sws')  to  ('sws', 'wake')\n",
      "Looking at transition from ('Rem', 'sws')  to  ('sws', 'drowsy')\n",
      "Looking at transition from ('Rem', 'sws')  to  ('wake', 'sws')\n",
      "Looking at transition from ('Rem', 'sws')  to  ('wake', 'drowsy')\n",
      "Looking at transition from ('Rem', 'sws')  to  ('drowsy', 'Rem')\n",
      "Looking at transition from ('Rem', 'sws')  to  ('drowsy', 'sws')\n",
      "Looking at transition from ('Rem', 'sws')  to  ('drowsy', 'wake')\n",
      "Looking at transition from ('Rem', 'sws')  to  Rem\n",
      "Looking at transition from ('Rem', 'sws')  to  sws\n",
      "Looking at transition from ('Rem', 'sws')  to  wake\n",
      "Looking at transition from ('Rem', 'sws')  to  drowsy\n",
      "Looking at transition from ('Rem', 'wake')  to  ('Rem', 'sws')\n",
      "Looking at transition from ('Rem', 'wake')  to  ('Rem', 'drowsy')\n",
      "Looking at transition from ('Rem', 'wake')  to  ('sws', 'Rem')\n",
      "Looking at transition from ('Rem', 'wake')  to  ('sws', 'wake')\n",
      "Looking at transition from ('Rem', 'wake')  to  ('sws', 'drowsy')\n",
      "Looking at transition from ('Rem', 'wake')  to  ('wake', 'sws')\n",
      "Looking at transition from ('Rem', 'wake')  to  ('wake', 'drowsy')\n",
      "Looking at transition from ('Rem', 'wake')  to  ('drowsy', 'Rem')\n",
      "Looking at transition from ('Rem', 'wake')  to  ('drowsy', 'sws')\n",
      "Looking at transition from ('Rem', 'wake')  to  ('drowsy', 'wake')\n",
      "Looking at transition from ('Rem', 'wake')  to  Rem\n",
      "Looking at transition from ('Rem', 'wake')  to  sws\n",
      "Looking at transition from ('Rem', 'wake')  to  wake\n",
      "Looking at transition from ('Rem', 'wake')  to  drowsy\n",
      "Looking at transition from ('Rem', 'drowsy')  to  ('Rem', 'sws')\n",
      "Looking at transition from ('Rem', 'drowsy')  to  ('Rem', 'wake')\n",
      "Looking at transition from ('Rem', 'drowsy')  to  ('sws', 'Rem')\n",
      "Looking at transition from ('Rem', 'drowsy')  to  ('sws', 'wake')\n",
      "Looking at transition from ('Rem', 'drowsy')  to  ('sws', 'drowsy')\n",
      "Looking at transition from ('Rem', 'drowsy')  to  ('wake', 'sws')\n",
      "Looking at transition from ('Rem', 'drowsy')  to  ('wake', 'drowsy')\n",
      "Looking at transition from ('Rem', 'drowsy')  to  ('drowsy', 'Rem')\n",
      "Looking at transition from ('Rem', 'drowsy')  to  ('drowsy', 'sws')\n",
      "Looking at transition from ('Rem', 'drowsy')  to  ('drowsy', 'wake')\n"
     ]
    },
    {
     "name": "stderr",
     "output_type": "stream",
     "text": [
      "/home/billel/Documents/Python/Amy-Hpc-sleep-dynamics-python/neuroseries/interval_set.py:65: UserWarning: some start precede the previous end\n",
      "  warn(msg, UserWarning)\n"
     ]
    },
    {
     "name": "stdout",
     "output_type": "stream",
     "text": [
      "Looking at transition from ('Rem', 'drowsy')  to  Rem\n",
      "Looking at transition from ('Rem', 'drowsy')  to  sws\n",
      "Looking at transition from ('Rem', 'drowsy')  to  wake\n",
      "Looking at transition from ('Rem', 'drowsy')  to  drowsy\n",
      "Looking at transition from ('sws', 'Rem')  to  ('Rem', 'sws')\n",
      "Looking at transition from ('sws', 'Rem')  to  ('Rem', 'wake')\n",
      "Looking at transition from ('sws', 'Rem')  to  ('Rem', 'drowsy')\n",
      "Looking at transition from ('sws', 'Rem')  to  ('sws', 'wake')\n",
      "Looking at transition from ('sws', 'Rem')  to  ('sws', 'drowsy')\n",
      "Looking at transition from ('sws', 'Rem')  to  ('wake', 'sws')\n",
      "Looking at transition from ('sws', 'Rem')  to  ('wake', 'drowsy')\n",
      "Looking at transition from ('sws', 'Rem')  to  ('drowsy', 'Rem')\n",
      "Looking at transition from ('sws', 'Rem')  to  ('drowsy', 'sws')\n",
      "Looking at transition from ('sws', 'Rem')  to  ('drowsy', 'wake')\n",
      "Looking at transition from ('sws', 'Rem')  to  Rem\n",
      "Looking at transition from ('sws', 'Rem')  to  sws\n",
      "Looking at transition from ('sws', 'Rem')  to  wake\n",
      "Looking at transition from ('sws', 'Rem')  to  drowsy\n",
      "Looking at transition from ('sws', 'wake')  to  ('Rem', 'sws')\n",
      "Looking at transition from ('sws', 'wake')  to  ('Rem', 'wake')\n",
      "Looking at transition from ('sws', 'wake')  to  ('Rem', 'drowsy')\n",
      "Looking at transition from ('sws', 'wake')  to  ('sws', 'Rem')\n",
      "Looking at transition from ('sws', 'wake')  to  ('sws', 'drowsy')\n",
      "Looking at transition from ('sws', 'wake')  to  ('wake', 'sws')\n",
      "Looking at transition from ('sws', 'wake')  to  ('wake', 'drowsy')\n",
      "Looking at transition from ('sws', 'wake')  to  ('drowsy', 'Rem')\n",
      "Looking at transition from ('sws', 'wake')  to  ('drowsy', 'sws')\n",
      "Looking at transition from ('sws', 'wake')  to  ('drowsy', 'wake')\n",
      "Looking at transition from ('sws', 'wake')  to  Rem\n",
      "Looking at transition from ('sws', 'wake')  to  sws\n",
      "Looking at transition from ('sws', 'wake')  to  wake\n",
      "Looking at transition from ('sws', 'wake')  to  drowsy\n",
      "Looking at transition from ('sws', 'drowsy')  to  ('Rem', 'sws')\n",
      "Looking at transition from ('sws', 'drowsy')  to  ('Rem', 'wake')\n",
      "Looking at transition from ('sws', 'drowsy')  to  ('Rem', 'drowsy')\n",
      "Looking at transition from ('sws', 'drowsy')  to  ('sws', 'Rem')\n",
      "Looking at transition from ('sws', 'drowsy')  to  ('sws', 'wake')\n",
      "Looking at transition from ('sws', 'drowsy')  to  ('wake', 'sws')\n",
      "Looking at transition from ('sws', 'drowsy')  to  ('wake', 'drowsy')\n",
      "Looking at transition from ('sws', 'drowsy')  to  ('drowsy', 'Rem')\n",
      "Looking at transition from ('sws', 'drowsy')  to  ('drowsy', 'sws')\n",
      "Looking at transition from ('sws', 'drowsy')  to  ('drowsy', 'wake')\n",
      "Looking at transition from ('sws', 'drowsy')  to  Rem\n",
      "Looking at transition from ('sws', 'drowsy')  to  sws\n",
      "Looking at transition from ('sws', 'drowsy')  to  wake\n",
      "Looking at transition from ('sws', 'drowsy')  to  drowsy\n",
      "Looking at transition from ('wake', 'sws')  to  ('Rem', 'sws')\n",
      "Looking at transition from ('wake', 'sws')  to  ('Rem', 'wake')\n",
      "Looking at transition from ('wake', 'sws')  to  ('Rem', 'drowsy')\n",
      "Looking at transition from ('wake', 'sws')  to  ('sws', 'Rem')\n",
      "Looking at transition from ('wake', 'sws')  to  ('sws', 'wake')\n",
      "Looking at transition from ('wake', 'sws')  to  ('sws', 'drowsy')\n",
      "Looking at transition from ('wake', 'sws')  to  ('wake', 'drowsy')\n",
      "Looking at transition from ('wake', 'sws')  to  ('drowsy', 'Rem')\n",
      "Looking at transition from ('wake', 'sws')  to  ('drowsy', 'sws')\n",
      "Looking at transition from ('wake', 'sws')  to  ('drowsy', 'wake')\n",
      "Looking at transition from ('wake', 'sws')  to  Rem\n",
      "Looking at transition from ('wake', 'sws')  to  sws\n",
      "Looking at transition from ('wake', 'sws')  to  wake\n",
      "Looking at transition from ('wake', 'sws')  to  drowsy\n",
      "Looking at transition from ('wake', 'drowsy')  to  ('Rem', 'sws')\n",
      "Looking at transition from ('wake', 'drowsy')  to  ('Rem', 'wake')\n",
      "Looking at transition from ('wake', 'drowsy')  to  ('Rem', 'drowsy')\n",
      "Looking at transition from ('wake', 'drowsy')  to  ('sws', 'Rem')\n",
      "Looking at transition from ('wake', 'drowsy')  to  ('sws', 'wake')\n",
      "Looking at transition from ('wake', 'drowsy')  to  ('sws', 'drowsy')\n",
      "Looking at transition from ('wake', 'drowsy')  to  ('wake', 'sws')\n",
      "Looking at transition from ('wake', 'drowsy')  to  ('drowsy', 'Rem')\n",
      "Looking at transition from ('wake', 'drowsy')  to  ('drowsy', 'sws')\n",
      "Looking at transition from ('wake', 'drowsy')  to  ('drowsy', 'wake')\n",
      "Looking at transition from ('wake', 'drowsy')  to  Rem\n",
      "Looking at transition from ('wake', 'drowsy')  to  sws\n",
      "Looking at transition from ('wake', 'drowsy')  to  wake\n",
      "Looking at transition from ('wake', 'drowsy')  to  drowsy\n",
      "Looking at transition from ('drowsy', 'Rem')  to  ('Rem', 'sws')\n",
      "Looking at transition from ('drowsy', 'Rem')  to  ('Rem', 'wake')\n",
      "Looking at transition from ('drowsy', 'Rem')  to  ('Rem', 'drowsy')\n",
      "Looking at transition from ('drowsy', 'Rem')  to  ('sws', 'Rem')\n",
      "Looking at transition from ('drowsy', 'Rem')  to  ('sws', 'wake')\n",
      "Looking at transition from ('drowsy', 'Rem')  to  ('sws', 'drowsy')\n",
      "Looking at transition from ('drowsy', 'Rem')  to  ('wake', 'sws')\n",
      "Looking at transition from ('drowsy', 'Rem')  to  ('wake', 'drowsy')\n",
      "Looking at transition from ('drowsy', 'Rem')  to  ('drowsy', 'sws')\n",
      "Looking at transition from ('drowsy', 'Rem')  to  ('drowsy', 'wake')\n",
      "Looking at transition from ('drowsy', 'Rem')  to  Rem\n",
      "Looking at transition from ('drowsy', 'Rem')  to  sws\n",
      "Looking at transition from ('drowsy', 'Rem')  to  wake\n",
      "Looking at transition from ('drowsy', 'Rem')  to  drowsy\n",
      "Looking at transition from ('drowsy', 'sws')  to  ('Rem', 'sws')\n",
      "Looking at transition from ('drowsy', 'sws')  to  ('Rem', 'wake')\n",
      "Looking at transition from ('drowsy', 'sws')  to  ('Rem', 'drowsy')\n",
      "Looking at transition from ('drowsy', 'sws')  to  ('sws', 'Rem')\n",
      "Looking at transition from ('drowsy', 'sws')  to  ('sws', 'wake')\n",
      "Looking at transition from ('drowsy', 'sws')  to  ('sws', 'drowsy')\n",
      "Looking at transition from ('drowsy', 'sws')  to  ('wake', 'sws')\n",
      "Looking at transition from ('drowsy', 'sws')  to  ('wake', 'drowsy')\n",
      "Looking at transition from ('drowsy', 'sws')  to  ('drowsy', 'Rem')\n",
      "Looking at transition from ('drowsy', 'sws')  to  ('drowsy', 'wake')\n",
      "Looking at transition from ('drowsy', 'sws')  to  Rem\n",
      "Looking at transition from ('drowsy', 'sws')  to  sws\n",
      "Looking at transition from ('drowsy', 'sws')  to  wake\n",
      "Looking at transition from ('drowsy', 'sws')  to  drowsy\n",
      "Looking at transition from ('drowsy', 'wake')  to  ('Rem', 'sws')\n",
      "Looking at transition from ('drowsy', 'wake')  to  ('Rem', 'wake')\n",
      "Looking at transition from ('drowsy', 'wake')  to  ('Rem', 'drowsy')\n",
      "Looking at transition from ('drowsy', 'wake')  to  ('sws', 'Rem')\n",
      "Looking at transition from ('drowsy', 'wake')  to  ('sws', 'wake')\n",
      "Looking at transition from ('drowsy', 'wake')  to  ('sws', 'drowsy')\n",
      "Looking at transition from ('drowsy', 'wake')  to  ('wake', 'sws')\n",
      "Looking at transition from ('drowsy', 'wake')  to  ('wake', 'drowsy')\n",
      "Looking at transition from ('drowsy', 'wake')  to  ('drowsy', 'Rem')\n",
      "Looking at transition from ('drowsy', 'wake')  to  ('drowsy', 'sws')\n",
      "Looking at transition from ('drowsy', 'wake')  to  Rem\n",
      "Looking at transition from ('drowsy', 'wake')  to  sws\n",
      "Looking at transition from ('drowsy', 'wake')  to  wake\n",
      "Looking at transition from ('drowsy', 'wake')  to  drowsy\n",
      "Looking at transition from Rem  to  ('Rem', 'sws')\n",
      "Looking at transition from Rem  to  ('Rem', 'wake')\n",
      "Looking at transition from Rem  to  ('Rem', 'drowsy')\n",
      "Looking at transition from Rem  to  ('sws', 'Rem')\n",
      "Looking at transition from Rem  to  ('sws', 'wake')\n",
      "Looking at transition from Rem  to  ('sws', 'drowsy')\n",
      "Looking at transition from Rem  to  ('wake', 'sws')\n",
      "Looking at transition from Rem  to  ('wake', 'drowsy')\n",
      "Looking at transition from Rem  to  ('drowsy', 'Rem')\n",
      "Looking at transition from Rem  to  ('drowsy', 'sws')\n",
      "Looking at transition from Rem  to  ('drowsy', 'wake')\n",
      "Looking at transition from Rem  to  sws\n",
      "Looking at transition from Rem  to  wake\n",
      "Looking at transition from Rem  to  drowsy\n",
      "Looking at transition from sws  to  ('Rem', 'sws')\n",
      "Looking at transition from sws  to  ('Rem', 'wake')\n",
      "Looking at transition from sws  to  ('Rem', 'drowsy')\n",
      "Looking at transition from sws  to  ('sws', 'Rem')\n",
      "Looking at transition from sws  to  ('sws', 'wake')\n",
      "Looking at transition from sws  to  ('sws', 'drowsy')\n",
      "Looking at transition from sws  to  ('wake', 'sws')\n",
      "Looking at transition from sws  to  ('wake', 'drowsy')\n",
      "Looking at transition from sws  to  ('drowsy', 'Rem')\n",
      "Looking at transition from sws  to  ('drowsy', 'sws')\n",
      "Looking at transition from sws  to  ('drowsy', 'wake')\n",
      "Looking at transition from sws  to  Rem\n",
      "Looking at transition from sws  to  wake\n",
      "Looking at transition from sws  to  drowsy\n",
      "Looking at transition from wake  to  ('Rem', 'sws')\n",
      "Looking at transition from wake  to  ('Rem', 'wake')\n",
      "Looking at transition from wake  to  ('Rem', 'drowsy')\n",
      "Looking at transition from wake  to  ('sws', 'Rem')\n",
      "Looking at transition from wake  to  ('sws', 'wake')\n",
      "Looking at transition from wake  to  ('sws', 'drowsy')\n",
      "Looking at transition from wake  to  ('wake', 'sws')\n",
      "Looking at transition from wake  to  ('wake', 'drowsy')\n",
      "Looking at transition from wake  to  ('drowsy', 'Rem')\n",
      "Looking at transition from wake  to  ('drowsy', 'sws')\n",
      "Looking at transition from wake  to  ('drowsy', 'wake')\n",
      "Looking at transition from wake  to  Rem\n",
      "Looking at transition from wake  to  sws\n",
      "Looking at transition from wake  to  drowsy\n",
      "Looking at transition from drowsy  to  ('Rem', 'sws')\n",
      "Looking at transition from drowsy  to  ('Rem', 'wake')\n",
      "Looking at transition from drowsy  to  ('Rem', 'drowsy')\n",
      "Looking at transition from drowsy  to  ('sws', 'Rem')\n",
      "Looking at transition from drowsy  to  ('sws', 'wake')\n",
      "Looking at transition from drowsy  to  ('sws', 'drowsy')\n",
      "Looking at transition from drowsy  to  ('wake', 'sws')\n",
      "Looking at transition from drowsy  to  ('wake', 'drowsy')\n",
      "Looking at transition from drowsy  to  ('drowsy', 'Rem')\n",
      "Looking at transition from drowsy  to  ('drowsy', 'sws')\n",
      "Looking at transition from drowsy  to  ('drowsy', 'wake')\n",
      "Looking at transition from drowsy  to  Rem\n",
      "Looking at transition from drowsy  to  sws\n",
      "Looking at transition from drowsy  to  wake\n"
     ]
    }
   ],
   "source": [
    "a,b = bk.compute.transitions_times(states)\n",
    "full = {**a,**states}\n",
    "c,d = bk.compute.transitions_times(full)"
   ]
  },
  {
   "cell_type": "code",
   "execution_count": 9,
   "metadata": {},
   "outputs": [
    {
     "name": "stdout",
     "output_type": "stream",
     "text": [
      "1926.5\n",
      "2429.5\n",
      "3275.5\n",
      "3841.5\n",
      "3916.5\n",
      "3992.5\n",
      "4529.5\n",
      "5426.5\n",
      "6069.5\n",
      "7311.5\n",
      "7759.5\n",
      "7909.5\n",
      "8797.5\n",
      "9333.5\n",
      "16145.5\n",
      "16765.5\n",
      "17259.5\n",
      "17429.5\n",
      "17810.5\n",
      "18076.5\n",
      "18528.5\n",
      "18979.5\n",
      "19167.5\n",
      "19448.5\n",
      "19771.5\n",
      "21286.5\n",
      "21629.5\n",
      "21850.5\n"
     ]
    }
   ],
   "source": [
    "s = ('sws','Rem')\n",
    "\n",
    "ax = plt.subplot(2,1,1)\n",
    "bk.plot.intervals(c[s],col = 'red')\n",
    "plt.subplot(2,1,2,sharex=ax)\n",
    "bk.plot.intervals(states['Rem'],col = 'orange')\n",
    "bk.plot.intervals(states['sws'],col ='grey')\n",
    "bk.plot.intervals(states['wake'],col = 'green')\n",
    "for i in d[s].as_units('s').index:\n",
    "    print(i)\n",
    "    plt.axvline(i,c = 'r')"
   ]
  },
  {
   "cell_type": "code",
   "execution_count": 45,
   "metadata": {},
   "outputs": [
    {
     "data": {
      "text/html": [
       "<div>\n",
       "<style scoped>\n",
       "    .dataframe tbody tr th:only-of-type {\n",
       "        vertical-align: middle;\n",
       "    }\n",
       "\n",
       "    .dataframe tbody tr th {\n",
       "        vertical-align: top;\n",
       "    }\n",
       "\n",
       "    .dataframe thead th {\n",
       "        text-align: right;\n",
       "    }\n",
       "</style>\n",
       "<table border=\"1\" class=\"dataframe\">\n",
       "  <thead>\n",
       "    <tr style=\"text-align: right;\">\n",
       "      <th></th>\n",
       "      <th>start</th>\n",
       "      <th>end</th>\n",
       "    </tr>\n",
       "  </thead>\n",
       "  <tbody>\n",
       "    <tr>\n",
       "      <th>0</th>\n",
       "      <td>1</td>\n",
       "      <td>2</td>\n",
       "    </tr>\n",
       "    <tr>\n",
       "      <th>1</th>\n",
       "      <td>10</td>\n",
       "      <td>12</td>\n",
       "    </tr>\n",
       "    <tr>\n",
       "      <th>2</th>\n",
       "      <td>30</td>\n",
       "      <td>35</td>\n",
       "    </tr>\n",
       "    <tr>\n",
       "      <th>3</th>\n",
       "      <td>50</td>\n",
       "      <td>55</td>\n",
       "    </tr>\n",
       "  </tbody>\n",
       "</table>\n",
       "</div>"
      ],
      "text/plain": [
       "   start  end\n",
       "0      1    2\n",
       "1     10   12\n",
       "2     30   35\n",
       "3     50   55"
      ]
     },
     "execution_count": 45,
     "metadata": {},
     "output_type": "execute_result"
    }
   ],
   "source": [
    "start = [1,10,25,30,50]\n",
    "end = [2,12,35,40,55]\n",
    "\n",
    "nts.IntervalSet(start,end,expect_fix=True)"
   ]
  },
  {
   "cell_type": "code",
   "execution_count": null,
   "metadata": {},
   "outputs": [],
   "source": []
  }
 ],
 "metadata": {
  "kernelspec": {
   "display_name": "Python 3",
   "language": "python",
   "name": "python3"
  },
  "language_info": {
   "codemirror_mode": {
    "name": "ipython",
    "version": 3
   },
   "file_extension": ".py",
   "mimetype": "text/x-python",
   "name": "python",
   "nbconvert_exporter": "python",
   "pygments_lexer": "ipython3",
   "version": "3.7.6"
  }
 },
 "nbformat": 4,
 "nbformat_minor": 4
}
