{
 "cells": [
  {
   "cell_type": "code",
   "execution_count": 1,
   "metadata": {},
   "outputs": [],
   "source": [
    "from imports import *\n"
   ]
  },
  {
   "cell_type": "code",
   "execution_count": 66,
   "metadata": {},
   "outputs": [],
   "source": [
    "def main(base_folder, local_path, *args, **kwargs):\n",
    "    bk.load.current_session_linux(base_folder, local_path)\n",
    "    neurons, metadata = bk.load.spikes()\n",
    "    states = bk.load.states(True)\n",
    "    theta = bk.load.intervals('BLA_REM_theta_bouts')\n",
    "    theta_off = states['REM'].set_diff(theta)\n",
    "\n",
    "    phasic_tonic = bk.load.intervals('phasic_tonic')\n",
    "\n",
    "    all_intervals = {'theta': theta,\n",
    "                     'theta_off': theta_off,\n",
    "                     'phREM': phasic_tonic['phREM'],\n",
    "                     'toREM': phasic_tonic['toREM']}\n",
    "\n",
    "    fr_states = pd.DataFrame()\n",
    "    for s, intervals in all_intervals.items():\n",
    "        fr = []\n",
    "        for n in neurons:\n",
    "            fr.append(len(n.restrict(intervals)) /\n",
    "                      intervals.tot_length(time_units='s'))\n",
    "        fr_states[s] = fr\n",
    "    return fr_states, metadata\n"
   ]
  },
  {
   "cell_type": "code",
   "execution_count": 67,
   "metadata": {},
   "outputs": [
    {
     "name": "stderr",
     "output_type": "stream",
     "text": [
      "100%|██████████| 61/61 [02:08<00:00,  2.10s/it]"
     ]
    },
    {
     "name": "stdout",
     "output_type": "stream",
     "text": [
      "Batch finished in 128.18933653831482\n",
      "Some session were not processed correctly\n",
      "['Rat08-20130718', 'Rat08-20130719', 'Rat08-20130720', 'Rat08-20130722', 'Rat09-20140324', 'Rat09-20140325', 'Rat09-20140326', 'Rat09-20140327', 'Rat09-20140328', 'Rat09-20140329', 'Rat09-20140331', 'Rat09-20140401', 'Rat09-20140402', 'Rat09-20140403', 'Rat09-20140404', 'Rat09-20140405', 'Rat09-20140407', 'Rat09-20140408', 'Rat09-20140409', 'Rat10-20140705', 'Rat10-20140707', 'Rat10-20140708', 'Rat11-20150310', 'Rat11-20150312', 'Rat11-20150313', 'Rat11-20150314', 'Rat11-20150315', 'Rat11-20150316', 'Rat11-20150317', 'Rat11-20150401', 'Rat11-20150402', 'Rat11-20150403']\n",
      "52.459016393442624 %\n"
     ]
    },
    {
     "name": "stderr",
     "output_type": "stream",
     "text": [
      "\n"
     ]
    }
   ],
   "source": [
    "batch_data, batch_metadata = bk.load.batch(main)\n"
   ]
  },
  {
   "cell_type": "code",
   "execution_count": 68,
   "metadata": {},
   "outputs": [],
   "source": [
    "df = pd.DataFrame()\n",
    "metadata = pd.DataFrame()\n",
    "for sess, b in batch_data.items():\n",
    "    df = pd.concat((df, b[0]))\n",
    "    metadata = pd.concat((metadata, b[1]))"
   ]
  },
  {
   "cell_type": "code",
   "execution_count": 111,
   "metadata": {},
   "outputs": [
    {
     "data": {
      "text/plain": [
       "[]"
      ]
     },
     "execution_count": 111,
     "metadata": {},
     "output_type": "execute_result"
    },
    {
     "data": {
      "image/png": "[encoded data removed]",
      "text/plain": [
       "<Figure size 432x288 with 1 Axes>"
      ]
     },
     "metadata": {},
     "output_type": "display_data"
    }
   ],
   "source": [
    "sns.boxplot(data=df[(metadata.Region == 'BLA') & (metadata.Type == 'Int')])\n",
    "plt.semilogy()"
   ]
  },
  {
   "cell_type": "code",
   "execution_count": 110,
   "metadata": {},
   "outputs": [
    {
     "data": {
      "text/plain": [
       "8.716449524620824"
      ]
     },
     "execution_count": 110,
     "metadata": {},
     "output_type": "execute_result"
    }
   ],
   "source": [
    "df_hpc = df[(metadata.Region == 'BLA') & (metadata.Type == 'Int')]\n",
    "np.mean(df_hpc['toREM'])"
   ]
  },
  {
   "cell_type": "code",
   "execution_count": 105,
   "metadata": {},
   "outputs": [
    {
     "data": {
      "text/plain": [
       "Ttest_relResult(statistic=3.952853556902941, pvalue=8.161517192058702e-05)"
      ]
     },
     "execution_count": 105,
     "metadata": {},
     "output_type": "execute_result"
    }
   ],
   "source": [
    "df_hpc = df[(metadata.Region == 'BLA') & (metadata.Type == 'Pyr')]\n",
    "scipy.stats.ttest_rel(df_hpc['toREM'],df_hpc['phREM'])"
   ]
  },
  {
   "cell_type": "code",
   "execution_count": 96,
   "metadata": {},
   "outputs": [],
   "source": [
    "long = df[(metadata.Region == 'BLA') & (metadata.Type == 'Pyr')].melt()"
   ]
  },
  {
   "cell_type": "code",
   "execution_count": 97,
   "metadata": {},
   "outputs": [
    {
     "data": {
      "text/html": [
       "<div>\n",
       "<style scoped>\n",
       "    .dataframe tbody tr th:only-of-type {\n",
       "        vertical-align: middle;\n",
       "    }\n",
       "\n",
       "    .dataframe tbody tr th {\n",
       "        vertical-align: top;\n",
       "    }\n",
       "\n",
       "    .dataframe thead th {\n",
       "        text-align: right;\n",
       "    }\n",
       "</style>\n",
       "<table border=\"1\" class=\"dataframe\">\n",
       "  <thead>\n",
       "    <tr style=\"text-align: right;\">\n",
       "      <th></th>\n",
       "      <th>variable</th>\n",
       "      <th>value</th>\n",
       "    </tr>\n",
       "  </thead>\n",
       "  <tbody>\n",
       "    <tr>\n",
       "      <th>0</th>\n",
       "      <td>theta</td>\n",
       "      <td>0.277270</td>\n",
       "    </tr>\n",
       "    <tr>\n",
       "      <th>1</th>\n",
       "      <td>theta</td>\n",
       "      <td>0.489301</td>\n",
       "    </tr>\n",
       "    <tr>\n",
       "      <th>2</th>\n",
       "      <td>theta</td>\n",
       "      <td>0.130480</td>\n",
       "    </tr>\n",
       "    <tr>\n",
       "      <th>3</th>\n",
       "      <td>theta</td>\n",
       "      <td>0.521921</td>\n",
       "    </tr>\n",
       "    <tr>\n",
       "      <th>4</th>\n",
       "      <td>theta</td>\n",
       "      <td>0.358820</td>\n",
       "    </tr>\n",
       "    <tr>\n",
       "      <th>...</th>\n",
       "      <td>...</td>\n",
       "      <td>...</td>\n",
       "    </tr>\n",
       "    <tr>\n",
       "      <th>4927</th>\n",
       "      <td>toREM</td>\n",
       "      <td>0.964467</td>\n",
       "    </tr>\n",
       "    <tr>\n",
       "      <th>4928</th>\n",
       "      <td>toREM</td>\n",
       "      <td>0.673620</td>\n",
       "    </tr>\n",
       "    <tr>\n",
       "      <th>4929</th>\n",
       "      <td>toREM</td>\n",
       "      <td>0.629164</td>\n",
       "    </tr>\n",
       "    <tr>\n",
       "      <th>4930</th>\n",
       "      <td>toREM</td>\n",
       "      <td>0.250912</td>\n",
       "    </tr>\n",
       "    <tr>\n",
       "      <th>4931</th>\n",
       "      <td>toREM</td>\n",
       "      <td>0.171796</td>\n",
       "    </tr>\n",
       "  </tbody>\n",
       "</table>\n",
       "<p>4932 rows × 2 columns</p>\n",
       "</div>"
      ],
      "text/plain": [
       "     variable     value\n",
       "0       theta  0.277270\n",
       "1       theta  0.489301\n",
       "2       theta  0.130480\n",
       "3       theta  0.521921\n",
       "4       theta  0.358820\n",
       "...       ...       ...\n",
       "4927    toREM  0.964467\n",
       "4928    toREM  0.673620\n",
       "4929    toREM  0.629164\n",
       "4930    toREM  0.250912\n",
       "4931    toREM  0.171796\n",
       "\n",
       "[4932 rows x 2 columns]"
      ]
     },
     "execution_count": 97,
     "metadata": {},
     "output_type": "execute_result"
    }
   ],
   "source": [
    "long"
   ]
  },
  {
   "cell_type": "code",
   "execution_count": 98,
   "metadata": {},
   "outputs": [],
   "source": [
    "from statsmodels.stats.multicomp import pairwise_tukeyhsd"
   ]
  },
  {
   "cell_type": "code",
   "execution_count": 99,
   "metadata": {},
   "outputs": [
    {
     "data": {
      "text/html": [
       "<table class=\"simpletable\">\n",
       "<caption>Multiple Comparison of Means - Tukey HSD, FWER=0.05</caption>\n",
       "<tr>\n",
       "   <th>group1</th>    <th>group2</th>   <th>meandiff</th>  <th>p-adj</th>  <th>lower</th>   <th>upper</th> <th>reject</th>\n",
       "</tr>\n",
       "<tr>\n",
       "    <td>phREM</td>     <td>theta</td>    <td>0.0646</td>  <td>0.4937</td> <td>-0.0532</td> <td>0.1823</td>  <td>False</td>\n",
       "</tr>\n",
       "<tr>\n",
       "    <td>phREM</td>   <td>theta_off</td>  <td>0.1116</td>  <td>0.0708</td> <td>-0.0062</td> <td>0.2294</td>  <td>False</td>\n",
       "</tr>\n",
       "<tr>\n",
       "    <td>phREM</td>     <td>toREM</td>    <td>0.1105</td>  <td>0.0752</td> <td>-0.0073</td> <td>0.2282</td>  <td>False</td>\n",
       "</tr>\n",
       "<tr>\n",
       "    <td>theta</td>   <td>theta_off</td>   <td>0.047</td>  <td>0.7343</td> <td>-0.0708</td> <td>0.1648</td>  <td>False</td>\n",
       "</tr>\n",
       "<tr>\n",
       "    <td>theta</td>     <td>toREM</td>    <td>0.0459</td>  <td>0.7485</td> <td>-0.0719</td> <td>0.1637</td>  <td>False</td>\n",
       "</tr>\n",
       "<tr>\n",
       "  <td>theta_off</td>   <td>toREM</td>    <td>-0.0011</td>   <td>1.0</td>  <td>-0.1189</td> <td>0.1167</td>  <td>False</td>\n",
       "</tr>\n",
       "</table>"
      ],
      "text/plain": [
       "<class 'statsmodels.iolib.table.SimpleTable'>"
      ]
     },
     "execution_count": 99,
     "metadata": {},
     "output_type": "execute_result"
    }
   ],
   "source": [
    "m_comp = pairwise_tukeyhsd(long['value'], long['variable'], alpha=0.05)\n",
    "m_comp.summary()"
   ]
  },
  {
   "cell_type": "code",
   "execution_count": 101,
   "metadata": {},
   "outputs": [
    {
     "data": {
      "text/plain": [
       "Ttest_indResult(statistic=2.2776684704642602, pvalue=0.02283164615003366)"
      ]
     },
     "execution_count": 101,
     "metadata": {},
     "output_type": "execute_result"
    }
   ],
   "source": [
    "scipy.stats.ttest_ind(long['value'][long['variable']=='toREM'],long['value'][long['variable']=='phREM'])"
   ]
  },
  {
   "cell_type": "code",
   "execution_count": 94,
   "metadata": {},
   "outputs": [
    {
     "data": {
      "text/plain": [
       "[]"
      ]
     },
     "execution_count": 94,
     "metadata": {},
     "output_type": "execute_result"
    },
    {
     "data": {
      "image/png": "[encoded data removed]",
      "text/plain": [
       "<Figure size 1080x720 with 1 Axes>"
      ]
     },
     "metadata": {},
     "output_type": "display_data"
    }
   ],
   "source": [
    "fig, ax = plt.subplots(dpi=180)\n",
    "bk.plot.cumsum_curves(df[(metadata.Region == 'BLA') & (\n",
    "    metadata.Type == 'Pyr')]['toREM'], 250, 'blue', ax=ax)\n",
    "bk.plot.cumsum_curves(df[(metadata.Region == 'BLA') & (\n",
    "    metadata.Type == 'Pyr')]['phREM'], 250, 'red', ax=ax)\n",
    "plt.semilogx()\n"
   ]
  },
  {
   "cell_type": "code",
   "execution_count": 50,
   "metadata": {},
   "outputs": [
    {
     "data": {
      "text/plain": [
       "Ttest_relResult(statistic=3.952853556902941, pvalue=8.161517192058702e-05)"
      ]
     },
     "execution_count": 50,
     "metadata": {},
     "output_type": "execute_result"
    }
   ],
   "source": [
    "scipy.stats.ttest_rel(df[(metadata.Region == 'BLA') & (metadata.Type == 'Pyr')]['toREM'], df[(\n",
    "    metadata.Region == 'BLA') & (metadata.Type == 'Pyr')]['phREM'])\n"
   ]
  },
  {
   "cell_type": "code",
   "execution_count": null,
   "metadata": {},
   "outputs": [],
   "source": []
  },
  {
   "cell_type": "code",
   "execution_count": null,
   "metadata": {},
   "outputs": [],
   "source": [
    "bk.compute.bin_by_intervals()\n"
   ]
  }
 ],
 "metadata": {
  "kernelspec": {
   "display_name": "Python 3.9.7 ('base')",
   "language": "python",
   "name": "python3"
  },
  "language_info": {
   "codemirror_mode": {
    "name": "ipython",
    "version": 3
   },
   "file_extension": ".py",
   "mimetype": "text/x-python",
   "name": "python",
   "nbconvert_exporter": "python",
   "pygments_lexer": "ipython3",
   "version": "3.9.7"
  },
  "orig_nbformat": 4,
  "vscode": {
   "interpreter": {
    "hash": "dc93b3fb48dfd2593d4a40b397dc62a97606514bfa701f6565ff70ef36514844"
   }
  }
 },
 "nbformat": 4,
 "nbformat_minor": 2
}
