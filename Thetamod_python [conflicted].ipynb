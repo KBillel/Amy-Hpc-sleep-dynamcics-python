{
 "cells": [
  {
   "cell_type": "code",
   "execution_count": null,
   "source": [
    "import astropy.stats as apy"
   ],
   "outputs": [],
   "metadata": {}
  },
  {
   "cell_type": "code",
   "execution_count": null,
   "source": [
    "import bk.load\n",
    "import bk.compute\n",
    "import bk.plot\n",
    "import bk.signal"
   ],
   "outputs": [],
   "metadata": {}
  },
  {
   "cell_type": "code",
   "execution_count": null,
   "source": [
    "import pandas as pd\n",
    "import numpy as np\n",
    "import scipy as sp"
   ],
   "outputs": [],
   "metadata": {}
  },
  {
   "cell_type": "code",
   "execution_count": null,
   "source": [
    "import matplotlib.pyplot as plt"
   ],
   "outputs": [],
   "metadata": {}
  },
  {
   "cell_type": "code",
   "execution_count": null,
   "source": [
    "import scipy.signal\n",
    "import scipy.stats"
   ],
   "outputs": [],
   "metadata": {}
  },
  {
   "cell_type": "code",
   "execution_count": null,
   "source": [
    "import os"
   ],
   "outputs": [],
   "metadata": {}
  },
  {
   "cell_type": "code",
   "execution_count": null,
   "source": [
    "os.getcwd()"
   ],
   "outputs": [],
   "metadata": {}
  },
  {
   "cell_type": "code",
   "execution_count": null,
   "source": [
    "bk.load.current_session()\n",
    "states = bk.load.states()\n",
    "# lfp = bk.load.lfp_in_intervals(166,23,states['Rem'])\n",
    "lfp = bk.load.lfp(23,0,5000)\n",
    "lfp = lfp.restrict(states['Rem'])\n",
    "lfp_filt = bk.signal.passband(lfp,4,12)\n",
    "power,phase = bk.signal.hilbert(lfp_filt)\n",
    "\n",
    "neurons,metadata = bk.load.loadSpikeData(bk.load.path)"
   ],
   "outputs": [],
   "metadata": {}
  },
  {
   "cell_type": "code",
   "execution_count": null,
   "source": [
    "plt.plot(lfp.as_units('s'))"
   ],
   "outputs": [],
   "metadata": {}
  },
  {
   "cell_type": "code",
   "execution_count": null,
   "source": [
    "neurons_phase = []\n",
    "for i,n in enumerate(neurons):\n",
    "    neurons_phase.append(phase.realign(n.restrict(states['Rem'])))\n",
    "\n",
    "a = []\n",
    "pvalue = []\n",
    "for i,p in enumerate(neurons_phase):\n",
    "#     print(p.values)\n",
    "    im = np.exp(1j* p.values)\n",
    "#     print(im)\n",
    "    pvalue.append(apy.rayleightest(p.values))\n",
    "    a.append(np.abs((np.nanmean(im))))\n",
    "#     print(np.abs(np.nanmean(p)))\n",
    "#     if pvalue < 0.001 and rvalue > 0.04: print(1)\n",
    "count = 0\n",
    "for i in range(len(neurons)):\n",
    "    fig,ax = plt.subplot_mosaic('''\n",
    "                                A.\n",
    "                                BC\n",
    "                                ''')\n",
    "    polar_ax = fig.add_subplot(2,2,2,polar=True)                                       \n",
    "    ax['A'].plot(lfp)\n",
    "    ax['A'].plot(lfp_filt)\n",
    "    plt.sca(ax['A'])\n",
    "    bk.plot.intervals(states['Rem'],time_units='us')\n",
    "    ax['B'].plot(phase)\n",
    "    ax['B'].plot(neurons_phase[i],'ro')\n",
    "\n",
    "    h,a_bin = np.histogram(neurons_phase[i].values,50)\n",
    "    a_bin = np.convolve(a_bin,[.5,.5],'same')[1::]\n",
    "#     a = a*(360/np.pi)\n",
    "    polar_ax.bar(a_bin,h,a_bin[1]-a_bin[0])\n",
    "    ax['C'].bar(a_bin,h,a_bin[1]-a_bin[0],color ='blue')\n",
    "    ax['C'].bar(a_bin+2*np.pi,h,a_bin[1]-a_bin[0],color ='blue')\n",
    "#     ax['C'].set_xlim([])\n",
    "\n",
    "    ax['A'].get_shared_x_axes().join(ax['A'], ax['B']) \n",
    "    plt.suptitle(f'Neuron #{i} pVal = {pvalue[i]}, MRL = {a[i]}')\n",
    "    \n",
    "    if (pvalue[i] <0.001) and (a[i] > 0.04): count += 1"
   ],
   "outputs": [],
   "metadata": {}
  },
  {
   "cell_type": "code",
   "execution_count": null,
   "source": [
    "count"
   ],
   "outputs": [],
   "metadata": {}
  },
  {
   "cell_type": "code",
   "execution_count": null,
   "source": [
    "apy.rayleightest()"
   ],
   "outputs": [],
   "metadata": {}
  },
  {
   "cell_type": "code",
   "execution_count": null,
   "source": [
    "p.as_units('s')"
   ],
   "outputs": [],
   "metadata": {}
  },
  {
   "cell_type": "code",
   "execution_count": null,
   "source": [],
   "outputs": [],
   "metadata": {}
  },
  {
   "cell_type": "code",
   "execution_count": null,
   "source": [],
   "outputs": [],
   "metadata": {}
  },
  {
   "cell_type": "code",
   "execution_count": null,
   "source": [
    "\n"
   ],
   "outputs": [],
   "metadata": {}
  },
  {
   "cell_type": "code",
   "execution_count": null,
   "source": [],
   "outputs": [],
   "metadata": {}
  },
  {
   "cell_type": "code",
   "execution_count": null,
   "source": [
    "h.shape"
   ],
   "outputs": [],
   "metadata": {}
  },
  {
   "cell_type": "code",
   "execution_count": null,
   "source": [
    "t"
   ],
   "outputs": [],
   "metadata": {}
  },
  {
   "cell_type": "code",
   "execution_count": null,
   "source": [],
   "outputs": [],
   "metadata": {}
  }
 ],
 "metadata": {
  "kernelspec": {
   "display_name": "Python 3",
   "language": "python",
   "name": "python3"
  },
  "language_info": {
   "codemirror_mode": {
    "name": "ipython",
    "version": 3
   },
   "file_extension": ".py",
   "mimetype": "text/x-python",
   "name": "python",
   "nbconvert_exporter": "python",
   "pygments_lexer": "ipython3",
   "version": "3.8.5"
  }
 },
 "nbformat": 4,
 "nbformat_minor": 5
}