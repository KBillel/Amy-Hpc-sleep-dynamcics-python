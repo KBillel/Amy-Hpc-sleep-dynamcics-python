{
 "cells": [
  {
   "cell_type": "markdown",
   "metadata": {},
   "source": [
    "# Transitions Notebook "
   ]
  },
  {
   "cell_type": "code",
   "execution_count": 6,
   "metadata": {},
   "outputs": [
    {
     "name": "stdout",
     "output_type": "stream",
     "text": [
      "Unexpected exception formatting exception. Falling back to standard exception\n"
     ]
    },
    {
     "name": "stderr",
     "output_type": "stream",
     "text": [
      "Traceback (most recent call last):\n",
      "  File \"/home/billel/.local/lib/python3.8/site-packages/IPython/core/interactiveshell.py\", line 3397, in run_code\n",
      "    exec(code_obj, self.user_global_ns, self.user_ns)\n",
      "  File \"/tmp/ipykernel_610588/2123766811.py\", line 6, in <cell line: 6>\n",
      "    import pandas as pd\n",
      "ModuleNotFoundError: No module named 'pandas'\n",
      "\n",
      "During handling of the above exception, another exception occurred:\n",
      "\n",
      "Traceback (most recent call last):\n",
      "  File \"/home/billel/.local/lib/python3.8/site-packages/IPython/core/interactiveshell.py\", line 1992, in showtraceback\n",
      "    stb = self.InteractiveTB.structured_traceback(\n",
      "  File \"/home/billel/.local/lib/python3.8/site-packages/IPython/core/ultratb.py\", line 1118, in structured_traceback\n",
      "    return FormattedTB.structured_traceback(\n",
      "  File \"/home/billel/.local/lib/python3.8/site-packages/IPython/core/ultratb.py\", line 1012, in structured_traceback\n",
      "    return VerboseTB.structured_traceback(\n",
      "  File \"/home/billel/.local/lib/python3.8/site-packages/IPython/core/ultratb.py\", line 865, in structured_traceback\n",
      "    formatted_exception = self.format_exception_as_a_whole(etype, evalue, etb, number_of_lines_of_context,\n",
      "  File \"/home/billel/.local/lib/python3.8/site-packages/IPython/core/ultratb.py\", line 799, in format_exception_as_a_whole\n",
      "    self.get_records(etb, number_of_lines_of_context, tb_offset) if etb else []\n",
      "  File \"/home/billel/.local/lib/python3.8/site-packages/IPython/core/ultratb.py\", line 845, in get_records\n",
      "    style = stack_data.style_with_executing_node(style, \"bg:ansiyellow\")\n",
      "  File \"/home/billel/.local/lib/python3.8/site-packages/stack_data/core.py\", line 424, in style_with_executing_node\n",
      "    class NewStyle(style):\n",
      "  File \"/usr/lib/python3/dist-packages/pygments/style.py\", line 91, in __new__\n",
      "    ndef[4] = colorformat(styledef[3:])\n",
      "  File \"/usr/lib/python3/dist-packages/pygments/style.py\", line 58, in colorformat\n",
      "    assert False, \"wrong color format %r\" % text\n",
      "AssertionError: wrong color format 'ansiyellow'\n"
     ]
    }
   ],
   "source": [
    "import cProfile\n",
    "import sys\n",
    "import itertools\n",
    "\n",
    "import numpy as np\n",
    "import pandas as pd\n",
    "import scipy.signal\n",
    "from scipy.signal import savgol_filter\n",
    "from scipy.stats import zscore\n",
    "\n",
    "from tqdm import tqdm\n",
    "\n",
    "import neuroseries as nts\n",
    "\n",
    "\n",
    "import time\n",
    "import matplotlib.pyplot as plt\n",
    "# %matplotlib qt\n",
    "\n",
    "import seaborn as sns\n",
    "import bk.load\n",
    "import bk.compute\n",
    "import bk.plot\n",
    "\n",
    "import os\n",
    "\n",
    "import matplotlib as mpl\n",
    "mpl.rcParams[\"svg.fonttype\"] = \"none\""
   ]
  },
  {
   "cell_type": "markdown",
   "metadata": {},
   "source": [
    "# Utils Functions"
   ]
  },
  {
   "cell_type": "code",
   "execution_count": 7,
   "metadata": {},
   "outputs": [],
   "source": [
    "def plot_loghist(x, bins):\n",
    "    hist, bins = np.histogram(x, bins=bins)\n",
    "    logbins = np.logspace(np.log10(bins[0]), np.log10(bins[-1]), len(bins))\n",
    "    plt.hist(x, bins=logbins)\n",
    "    plt.xscale(\"log\")\n"
   ]
  },
  {
   "cell_type": "code",
   "execution_count": 8,
   "metadata": {},
   "outputs": [],
   "source": [
    "def transition(states, template, epsilon=0):\n",
    "    \"\"\"\n",
    "    author: BK\n",
    "    states : dict of nts.Interval_set\n",
    "    template : list of state.\n",
    "    epsilon : int, will drop any \n",
    "     in which there is an epoch shorter than epsilon 's'\n",
    "    This function will find transition that match the template \n",
    "    \"\"\"\n",
    "    if epsilon is list:\n",
    "        print(\"eplist\")\n",
    "    long = pd.DataFrame()\n",
    "    for s, i in states.items():\n",
    "        i[\"state\"] = s\n",
    "        long = pd.concat((i, long))\n",
    "        del i[\"state\"]\n",
    "    order = np.argsort(long.start)\n",
    "    long = long.iloc[order]\n",
    "\n",
    "    transition_times = []\n",
    "    transition_intervals = []\n",
    "    for i, s in enumerate(long.state):\n",
    "        tmp = list(long.state[i: i + len(template)])\n",
    "        if tmp == template:\n",
    "            tmp_transition = long.iloc[i: i + len(template)]\n",
    "            #             print(d.iloc[i:i+len(template)])\n",
    "            length = (tmp_transition.end - tmp_transition.start) / 1_000_000\n",
    "            if np.any(length.values < epsilon):\n",
    "                continue\n",
    "            tmp_pre = np.array(tmp_transition.end[:-1])\n",
    "            tmp_post = np.array(tmp_transition.start[1:])\n",
    "            tmp_times = np.mean([tmp_pre, tmp_post], 0)\n",
    "\n",
    "            transition_intervals.append(\n",
    "                [tmp_transition.start.iloc[0], tmp_transition.end.iloc[-1]]\n",
    "            )\n",
    "            transition_times.append(tmp_times)\n",
    "\n",
    "    transition_times = np.array(transition_times)\n",
    "    transition_intervals = np.array(transition_intervals)\n",
    "    transition_intervals = nts.IntervalSet(\n",
    "        start=transition_intervals[:, 0],\n",
    "        end=transition_intervals[:, 1],\n",
    "        force_no_fix=True,\n",
    "    )\n",
    "    return transition_intervals, transition_times"
   ]
  },
  {
   "cell_type": "code",
   "execution_count": 12,
   "metadata": {},
   "outputs": [],
   "source": [
    "def main(base_folder = '/mnt/icybox', local_path=\"Rat08/Rat08-20130713\", *args):\n",
    "    # Variables :\n",
    "    plot = False\n",
    "    save = False\n",
    "\n",
    "    print(args)\n",
    "    if args == None:\n",
    "        transition_interest = [\n",
    "            [\"Rem\", \"sws\", \"Rem\"]\n",
    "        ]  # Template of transitions to follow.\n",
    "        bin_epochs = [12, 30, 12]\n",
    "        n_event = 3\n",
    "    else:\n",
    "        transition_interest = [args[0]]\n",
    "        bin_epochs = args[1]\n",
    "        n_event = args[2]\n",
    "\n",
    "    bk.load.current_session_linux(\n",
    "        base_folder=base_folder, local_path=local_path)\n",
    "    neurons, metadata = bk.load.loadSpikeData(bk.load.path)\n",
    "    states = bk.load.states()\n",
    "\n",
    "    for i, transition_name in enumerate(\n",
    "        transition_interest\n",
    "    ):  # For each kind of transitions\n",
    "        print(f\"Computing {transition_name} transitions\")\n",
    "        intervals, timing = transition(\n",
    "            states, transition_name, epsilon=50\n",
    "        )  # Find the timing of the transitions\n",
    "        print(f\"Found {len(intervals)} transitions\")\n",
    "\n",
    "        transition_activity = compute_transition_activity(\n",
    "            neurons, intervals, timing, bin_epochs, n_event\n",
    "        )\n",
    "\n",
    "        if plot:\n",
    "            print(\n",
    "                np.mean(transition_activity[metadata.Region == \"BLA\"], 2).T.shape)\n",
    "            y_bla = scipy.stats.zscore(\n",
    "                np.mean(transition_activity[metadata.Region == \"BLA\"], 2).T, 0\n",
    "            )\n",
    "            y_hpc = scipy.stats.zscore(\n",
    "                np.mean(transition_activity[metadata.Region == \"Hpc\"], 2).T, 0\n",
    "            )\n",
    "\n",
    "            plt.figure()\n",
    "            plt.plot(y_bla, \"green\")\n",
    "            plt.plot(y_hpc, \"blue\")\n",
    "\n",
    "            plt.title(f\"Rat:{bk.load.rat}, Day{bk.load.day} {bk.load.session}\")\n",
    "        print(os.getcwd())\n",
    "        # sanity_check(neurons,states,intervals,timing)\n",
    "\n",
    "        return np.array(transition_activity), metadata, bin_epochs\n"
   ]
  },
  {
   "cell_type": "code",
   "execution_count": 13,
   "metadata": {},
   "outputs": [],
   "source": [
    "def merge(batch, name, discard):\n",
    "    transitions_activity = []\n",
    "    metadata = []\n",
    "    n_transitions = 0\n",
    "    n_sessions = 0\n",
    "    for i, b in batch.items():\n",
    "        if i not in discard:\n",
    "            #          if True:\n",
    "            transitions_activity.append(np.mean(b[0], 2))\n",
    "            metadata.append(b[1])\n",
    "            n_transitions += b[0].shape[2]\n",
    "            n_sessions += 1\n",
    "            bins_epochs = b[2]\n",
    "\n",
    "    s = np.append(0, np.cumsum(bins_epochs))[:-1]\n",
    "    e = np.cumsum(bins_epochs)-1\n",
    "\n",
    "    intervals = np.array([s, e]).T\n",
    "    merged = {'name': name,\n",
    "              'average_transition': np.vstack(transitions_activity),\n",
    "              'metadata': pd.concat(metadata),\n",
    "              'n_transitions': n_transitions,\n",
    "              'n_sessions': n_sessions,\n",
    "              'intervals': intervals}\n",
    "\n",
    "    merged['metadata'].Type[merged['metadata'].Region == 'CeCM'] = 'Int'\n",
    "    return merged\n"
   ]
  },
  {
   "cell_type": "code",
   "execution_count": 14,
   "metadata": {},
   "outputs": [],
   "source": [
    "discard = [\n",
    "    \"Rat08-20130718\",\n",
    "    \"Rat09-20140408\",\n",
    "    \"Rat09-20140409\",\n",
    "    \"Rat10-20140619\",\n",
    "    \"Rat10-20140620\",\n",
    "    \"Rat10-20140622\",\n",
    "]\n"
   ]
  },
  {
   "cell_type": "code",
   "execution_count": 15,
   "metadata": {},
   "outputs": [
    {
     "name": "stdout",
     "output_type": "stream",
     "text": [
      "Unexpected exception formatting exception. Falling back to standard exception\n"
     ]
    },
    {
     "name": "stderr",
     "output_type": "stream",
     "text": [
      "Traceback (most recent call last):\n",
      "  File \"/home/billel/.local/lib/python3.8/site-packages/IPython/core/interactiveshell.py\", line 3397, in run_code\n",
      "    exec(code_obj, self.user_global_ns, self.user_ns)\n",
      "  File \"/tmp/ipykernel_610588/3346676129.py\", line 1, in <cell line: 1>\n",
      "    bk.load.current_session_linux()\n",
      "NameError: name 'bk' is not defined\n",
      "\n",
      "During handling of the above exception, another exception occurred:\n",
      "\n",
      "Traceback (most recent call last):\n",
      "  File \"/home/billel/.local/lib/python3.8/site-packages/IPython/core/interactiveshell.py\", line 1992, in showtraceback\n",
      "    stb = self.InteractiveTB.structured_traceback(\n",
      "  File \"/home/billel/.local/lib/python3.8/site-packages/IPython/core/ultratb.py\", line 1118, in structured_traceback\n",
      "    return FormattedTB.structured_traceback(\n",
      "  File \"/home/billel/.local/lib/python3.8/site-packages/IPython/core/ultratb.py\", line 1012, in structured_traceback\n",
      "    return VerboseTB.structured_traceback(\n",
      "  File \"/home/billel/.local/lib/python3.8/site-packages/IPython/core/ultratb.py\", line 865, in structured_traceback\n",
      "    formatted_exception = self.format_exception_as_a_whole(etype, evalue, etb, number_of_lines_of_context,\n",
      "  File \"/home/billel/.local/lib/python3.8/site-packages/IPython/core/ultratb.py\", line 799, in format_exception_as_a_whole\n",
      "    self.get_records(etb, number_of_lines_of_context, tb_offset) if etb else []\n",
      "  File \"/home/billel/.local/lib/python3.8/site-packages/IPython/core/ultratb.py\", line 845, in get_records\n",
      "    style = stack_data.style_with_executing_node(style, \"bg:ansiyellow\")\n",
      "  File \"/home/billel/.local/lib/python3.8/site-packages/stack_data/core.py\", line 424, in style_with_executing_node\n",
      "    class NewStyle(style):\n",
      "  File \"/usr/lib/python3/dist-packages/pygments/style.py\", line 91, in __new__\n",
      "    ndef[4] = colorformat(styledef[3:])\n",
      "  File \"/usr/lib/python3/dist-packages/pygments/style.py\", line 58, in colorformat\n",
      "    assert False, \"wrong color format %r\" % text\n",
      "AssertionError: wrong color format 'ansiyellow'\n"
     ]
    }
   ],
   "source": [
    "bk.load.current_session_linux()"
   ]
  },
  {
   "cell_type": "code",
   "execution_count": null,
   "metadata": {},
   "outputs": [],
   "source": []
  }
 ],
 "metadata": {
  "kernelspec": {
   "display_name": "Python 3.8.10 64-bit",
   "language": "python",
   "name": "python3"
  },
  "language_info": {
   "codemirror_mode": {
    "name": "ipython",
    "version": 3
   },
   "file_extension": ".py",
   "mimetype": "text/x-python",
   "name": "python",
   "nbconvert_exporter": "python",
   "pygments_lexer": "ipython3",
   "version": "3.8.10"
  },
  "orig_nbformat": 4,
  "vscode": {
   "interpreter": {
    "hash": "916dbcbb3f70747c44a77c7bcd40155683ae19c65e1c03b4aa3499c5328201f1"
   }
  }
 },
 "nbformat": 4,
 "nbformat_minor": 2
}
