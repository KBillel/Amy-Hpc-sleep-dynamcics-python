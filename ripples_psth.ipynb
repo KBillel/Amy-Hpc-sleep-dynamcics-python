{
 "cells": [
  {
   "cell_type": "code",
   "execution_count": 11,
   "metadata": {},
   "outputs": [],
   "source": [
    "import os\n",
    "\n",
    "import bk.load\n",
    "import bk.compute\n",
    "import bk.plot\n",
    "import bk.signal\n",
    "\n",
    "import numpy as np\n",
    "import pandas as pd\n",
    "\n",
    "import scipy.signal\n",
    "import scipy.stats as ss\n",
    "import scipy.io\n",
    "\n",
    "import matplotlib.pyplot as plt\n",
    "import matplotlib as mpl\n",
    "import neuroseries as nts\n",
    "import basefunction.vBaseFunctions3\n",
    "from tqdm import tqdm\n",
    "import itertools"
   ]
  },
  {
   "cell_type": "code",
   "execution_count": 12,
   "metadata": {},
   "outputs": [],
   "source": [
    "def save_fig(folder_path,name):\n",
    "    import os\n",
    "    old_path = os.getcwd()\n",
    "    os.chdir(folder_path)\n",
    "    plt.savefig(name)\n",
    "    os.chdir(old_path)\n",
    "\n",
    "def load_ripples():\n",
    "    ripples_ = scipy.io.loadmat(f'{bk.load.session}-RippleFiring.mat')['ripples']['allsws'][0][0]\n",
    "#     ripples_ = pd.DataFrame(data = ripples,columns=['start','peak','stop'])\n",
    "    \n",
    "    columns = ['start','peak','stop']\n",
    "    \n",
    "    ripples = {}\n",
    "    for i,c in zip(range(ripples_.shape[1]),columns):\n",
    "        ripples.update({c:nts.Ts(ripples_[:,i],time_units='s')})\n",
    "    return ripples\n",
    "\n",
    "def poissonTest(baseRate,counts,time):\n",
    "    eps = np.spacing(1)\n",
    "    \n",
    "    lam = baseRate*time\n",
    "    \n",
    "    pInc = 1 - ss.poisson.cdf(counts,lam)\n",
    "    pDec = ss.poisson.cdf(counts,lam)\n",
    "    surprise = np.log((pDec+eps)/(pInc + eps))\n",
    "    return pInc,pDec,surprise\n",
    "\n",
    "def psth(neurons,stimulus,binSize,win):\n",
    "    if isinstance(neurons,nts.time_series.Tsd): \n",
    "        neurons = np.array(neurons,'object')\n",
    "    winLen = int((win[1] - win[0])/binSize)\n",
    "    window = np.arange(winLen,dtype = int)-int(winLen/2)\n",
    "    stim_bin = (stimulus/binSize).astype('int')\n",
    "    t,binned = bk.compute.binSpikes(neurons,binSize,start = 0, stop = stimulus[-1]+win[-1])\n",
    "    psth = np.empty((stimulus.size,len(neurons),winLen))\n",
    "    \n",
    "    for i,t in tqdm(enumerate(stim_bin)):\n",
    "        psth[i] = binned[:,t+window]\n",
    "        \n",
    "    psth = np.mean(psth,0).T\n",
    "    t = window*binSize\n",
    "    return t,psth\n",
    "\n",
    "# def correlogram(neuron1,neuron2,binSize,win):\n",
    "    "
   ]
  },
  {
   "cell_type": "code",
   "execution_count": 24,
   "metadata": {},
   "outputs": [],
   "source": [
    "def ripple_psth(path):  \n",
    "    \n",
    "    win = [-0.5,0.5]\n",
    "    binSize = 0.05\n",
    "    \n",
    "    \n",
    "    bk.load.current_session(path)\n",
    "    ripples = load_ripples()\n",
    "    \n",
    "    neurons,metadata = bk.load.loadSpikeData(bk.load.path)\n",
    "    \n",
    "    ripples_ = ripples['peak'].as_units('s').index.values\n",
    "    t,psth_ = psth(neurons,ripples_,binSize,win)\n",
    "    \n",
    "    states = bk.load.states()\n",
    "    states.update({'ripples':nts.IntervalSet(ripples['start'].times(),ripples['stop'].times())})\n",
    "    states.update({'outside_ripples':states['sws'].set_diff(nts.IntervalSet(states['ripples'].start-200_000,states['ripples'].end+200_000,force_no_fix=True)).drop_short_intervals(1)})\n",
    "    \n",
    "    bk.plot.intervals(states['outside_ripples'],'orange')\n",
    "    bk.plot.intervals(states['ripples'],'red')\n",
    "    \n",
    "    \n",
    "    pInc = np.empty(len(neurons))\n",
    "    pDec = np.empty(len(neurons))\n",
    "    surprise = np.empty(len(neurons))\n",
    "    for i,n in enumerate(neurons):\n",
    "        baseRate = len(n.restrict(states['outside_ripples']))/states['outside_ripples'].tot_length(time_units = 's')\n",
    "        count = len(n.restrict(states['ripples']))\n",
    "        time = states['ripples'].tot_length(time_units = 's')\n",
    "        \n",
    "        pInc[i],pDec[i],surprise[i] = poissonTest(baseRate,count,time)\n",
    "    \n",
    "    stats = pd.DataFrame(np.array([pInc,pDec,surprise]).T,columns=['pInc','pDec','surprise'])\n",
    "    \n",
    "    metadata = pd.concat([metadata,stats],1) \n",
    "    \n",
    "    print(metadata)\n",
    "    return t,psth_,metadata"
   ]
  },
  {
   "cell_type": "code",
   "execution_count": 4,
   "metadata": {
    "jupyter": {
     "source_hidden": true
    }
   },
   "outputs": [],
   "source": [
    "def ripple_psth_slow(path):\n",
    "    nbins = 100\n",
    "    \n",
    "    \n",
    "    bk.load.current_session(path)\n",
    "    ripples = load_ripples()\n",
    "    neurons,metadata = bk.load.loadSpikeData(bk.load.path)\n",
    "\n",
    "    win = [-0.5,0.5]\n",
    "    n_neurons = len(neurons)\n",
    "    \n",
    "    peth = np.empty((len(ripples['peak'].as_units('s').index),nbins,n_neurons))\n",
    "    \n",
    "    for i,ripple_time in tqdm(enumerate(ripples['peak'].as_units('s').index)):\n",
    "        t,binned = bk.compute.binSpikes(neurons,nbins=nbins,start = ripple_time+win[0],stop = ripple_time+win[1])\n",
    "        peth[i,:] = binned.T\n",
    "    \n",
    "    \n",
    "    states = bk.load.states()\n",
    "    states.update({'ripples':nts.IntervalSet(ripples['start'].times(),ripples['stop'].times())})\n",
    "    states.update({'outside_ripples':states['sws'].set_diff(nts.IntervalSet(states['ripples'].start-200_000,states['ripples'].end+200_000,force_no_fix=True))})\n",
    "    \n",
    "    pInc = np.empty(len(neurons))\n",
    "    pDec = np.empty(len(neurons))\n",
    "    surprise = np.empty(len(neurons))\n",
    "    for i,n in enumerate(neurons):\n",
    "        baseRate = len(n.restrict(states['outside_ripples']))/states['outside_ripples'].tot_length(time_units = 's')\n",
    "        count = len(n.restrict(states['ripples']))\n",
    "        time = states['ripples'].tot_length(time_units = 's')\n",
    "        \n",
    "        pInc[i],pDec[i],surprise[i] = poissonTest(baseRate,count,time)\n",
    "    \n",
    "    stats = pd.DataFrame(np.array([pInc,pDec,surprise]).T,columns=['pInc','pDec','surprise'])\n",
    "    \n",
    "    \n",
    "    return t,peth,metadata,stats"
   ]
  },
  {
   "cell_type": "code",
   "execution_count": 22,
   "metadata": {},
   "outputs": [],
   "source": [
    "%matplotlib qt"
   ]
  },
  {
   "cell_type": "code",
   "execution_count": 26,
   "metadata": {},
   "outputs": [
    {
     "name": "stdout",
     "output_type": "stream",
     "text": [
      "Rat : 8 on day : 10\n",
      "Working with session Rat08-20130718 @ Z:\\Rat08\\Rat08-20130718\n"
     ]
    },
    {
     "ename": "FileNotFoundError",
     "evalue": "[Errno 2] No such file or directory: 'Rat08-20130718-RippleFiring.mat'",
     "output_type": "error",
     "traceback": [
      "\u001b[1;31m---------------------------------------------------------------------------\u001b[0m",
      "\u001b[1;31mFileNotFoundError\u001b[0m                         Traceback (most recent call last)",
      "\u001b[1;32mC:\\ProgramData\\Anaconda3\\lib\\site-packages\\scipy\\io\\matlab\\mio.py\u001b[0m in \u001b[0;36m_open_file\u001b[1;34m(file_like, appendmat, mode)\u001b[0m\n\u001b[0;32m     38\u001b[0m     \u001b[1;32mtry\u001b[0m\u001b[1;33m:\u001b[0m\u001b[1;33m\u001b[0m\u001b[1;33m\u001b[0m\u001b[0m\n\u001b[1;32m---> 39\u001b[1;33m         \u001b[1;32mreturn\u001b[0m \u001b[0mopen\u001b[0m\u001b[1;33m(\u001b[0m\u001b[0mfile_like\u001b[0m\u001b[1;33m,\u001b[0m \u001b[0mmode\u001b[0m\u001b[1;33m)\u001b[0m\u001b[1;33m,\u001b[0m \u001b[1;32mTrue\u001b[0m\u001b[1;33m\u001b[0m\u001b[1;33m\u001b[0m\u001b[0m\n\u001b[0m\u001b[0;32m     40\u001b[0m     \u001b[1;32mexcept\u001b[0m \u001b[0mIOError\u001b[0m\u001b[1;33m:\u001b[0m\u001b[1;33m\u001b[0m\u001b[1;33m\u001b[0m\u001b[0m\n",
      "\u001b[1;31mFileNotFoundError\u001b[0m: [Errno 2] No such file or directory: 'Rat08-20130718-RippleFiring.mat'",
      "\nDuring handling of the above exception, another exception occurred:\n",
      "\u001b[1;31mFileNotFoundError\u001b[0m                         Traceback (most recent call last)",
      "\u001b[1;32m<ipython-input-26-6c6cdcbb1f6b>\u001b[0m in \u001b[0;36m<module>\u001b[1;34m\u001b[0m\n\u001b[1;32m----> 1\u001b[1;33m \u001b[0mt\u001b[0m\u001b[1;33m,\u001b[0m\u001b[0mpeth\u001b[0m\u001b[1;33m,\u001b[0m\u001b[0mmeta\u001b[0m \u001b[1;33m=\u001b[0m \u001b[0mripple_psth\u001b[0m\u001b[1;33m(\u001b[0m\u001b[1;34m'Z:\\Rat08\\Rat08-20130718'\u001b[0m\u001b[1;33m)\u001b[0m\u001b[1;33m\u001b[0m\u001b[1;33m\u001b[0m\u001b[0m\n\u001b[0m",
      "\u001b[1;32m<ipython-input-24-7b2f7ad2a094>\u001b[0m in \u001b[0;36mripple_psth\u001b[1;34m(path)\u001b[0m\n\u001b[0;32m      6\u001b[0m \u001b[1;33m\u001b[0m\u001b[0m\n\u001b[0;32m      7\u001b[0m     \u001b[0mbk\u001b[0m\u001b[1;33m.\u001b[0m\u001b[0mload\u001b[0m\u001b[1;33m.\u001b[0m\u001b[0mcurrent_session\u001b[0m\u001b[1;33m(\u001b[0m\u001b[0mpath\u001b[0m\u001b[1;33m)\u001b[0m\u001b[1;33m\u001b[0m\u001b[1;33m\u001b[0m\u001b[0m\n\u001b[1;32m----> 8\u001b[1;33m     \u001b[0mripples\u001b[0m \u001b[1;33m=\u001b[0m \u001b[0mload_ripples\u001b[0m\u001b[1;33m(\u001b[0m\u001b[1;33m)\u001b[0m\u001b[1;33m\u001b[0m\u001b[1;33m\u001b[0m\u001b[0m\n\u001b[0m\u001b[0;32m      9\u001b[0m \u001b[1;33m\u001b[0m\u001b[0m\n\u001b[0;32m     10\u001b[0m     \u001b[0mneurons\u001b[0m\u001b[1;33m,\u001b[0m\u001b[0mmetadata\u001b[0m \u001b[1;33m=\u001b[0m \u001b[0mbk\u001b[0m\u001b[1;33m.\u001b[0m\u001b[0mload\u001b[0m\u001b[1;33m.\u001b[0m\u001b[0mloadSpikeData\u001b[0m\u001b[1;33m(\u001b[0m\u001b[0mbk\u001b[0m\u001b[1;33m.\u001b[0m\u001b[0mload\u001b[0m\u001b[1;33m.\u001b[0m\u001b[0mpath\u001b[0m\u001b[1;33m)\u001b[0m\u001b[1;33m\u001b[0m\u001b[1;33m\u001b[0m\u001b[0m\n",
      "\u001b[1;32m<ipython-input-12-f98e40ccbd84>\u001b[0m in \u001b[0;36mload_ripples\u001b[1;34m()\u001b[0m\n\u001b[0;32m      7\u001b[0m \u001b[1;33m\u001b[0m\u001b[0m\n\u001b[0;32m      8\u001b[0m \u001b[1;32mdef\u001b[0m \u001b[0mload_ripples\u001b[0m\u001b[1;33m(\u001b[0m\u001b[1;33m)\u001b[0m\u001b[1;33m:\u001b[0m\u001b[1;33m\u001b[0m\u001b[1;33m\u001b[0m\u001b[0m\n\u001b[1;32m----> 9\u001b[1;33m     \u001b[0mripples_\u001b[0m \u001b[1;33m=\u001b[0m \u001b[0mscipy\u001b[0m\u001b[1;33m.\u001b[0m\u001b[0mio\u001b[0m\u001b[1;33m.\u001b[0m\u001b[0mloadmat\u001b[0m\u001b[1;33m(\u001b[0m\u001b[1;34mf'{bk.load.session}-RippleFiring.mat'\u001b[0m\u001b[1;33m)\u001b[0m\u001b[1;33m[\u001b[0m\u001b[1;34m'ripples'\u001b[0m\u001b[1;33m]\u001b[0m\u001b[1;33m[\u001b[0m\u001b[1;34m'allsws'\u001b[0m\u001b[1;33m]\u001b[0m\u001b[1;33m[\u001b[0m\u001b[1;36m0\u001b[0m\u001b[1;33m]\u001b[0m\u001b[1;33m[\u001b[0m\u001b[1;36m0\u001b[0m\u001b[1;33m]\u001b[0m\u001b[1;33m\u001b[0m\u001b[1;33m\u001b[0m\u001b[0m\n\u001b[0m\u001b[0;32m     10\u001b[0m \u001b[1;31m#     ripples_ = pd.DataFrame(data = ripples,columns=['start','peak','stop'])\u001b[0m\u001b[1;33m\u001b[0m\u001b[1;33m\u001b[0m\u001b[1;33m\u001b[0m\u001b[0m\n\u001b[0;32m     11\u001b[0m \u001b[1;33m\u001b[0m\u001b[0m\n",
      "\u001b[1;32mC:\\ProgramData\\Anaconda3\\lib\\site-packages\\scipy\\io\\matlab\\mio.py\u001b[0m in \u001b[0;36mloadmat\u001b[1;34m(file_name, mdict, appendmat, **kwargs)\u001b[0m\n\u001b[0;32m    220\u001b[0m     \"\"\"\n\u001b[0;32m    221\u001b[0m     \u001b[0mvariable_names\u001b[0m \u001b[1;33m=\u001b[0m \u001b[0mkwargs\u001b[0m\u001b[1;33m.\u001b[0m\u001b[0mpop\u001b[0m\u001b[1;33m(\u001b[0m\u001b[1;34m'variable_names'\u001b[0m\u001b[1;33m,\u001b[0m \u001b[1;32mNone\u001b[0m\u001b[1;33m)\u001b[0m\u001b[1;33m\u001b[0m\u001b[1;33m\u001b[0m\u001b[0m\n\u001b[1;32m--> 222\u001b[1;33m     \u001b[1;32mwith\u001b[0m \u001b[0m_open_file_context\u001b[0m\u001b[1;33m(\u001b[0m\u001b[0mfile_name\u001b[0m\u001b[1;33m,\u001b[0m \u001b[0mappendmat\u001b[0m\u001b[1;33m)\u001b[0m \u001b[1;32mas\u001b[0m \u001b[0mf\u001b[0m\u001b[1;33m:\u001b[0m\u001b[1;33m\u001b[0m\u001b[1;33m\u001b[0m\u001b[0m\n\u001b[0m\u001b[0;32m    223\u001b[0m         \u001b[0mMR\u001b[0m\u001b[1;33m,\u001b[0m \u001b[0m_\u001b[0m \u001b[1;33m=\u001b[0m \u001b[0mmat_reader_factory\u001b[0m\u001b[1;33m(\u001b[0m\u001b[0mf\u001b[0m\u001b[1;33m,\u001b[0m \u001b[1;33m**\u001b[0m\u001b[0mkwargs\u001b[0m\u001b[1;33m)\u001b[0m\u001b[1;33m\u001b[0m\u001b[1;33m\u001b[0m\u001b[0m\n\u001b[0;32m    224\u001b[0m         \u001b[0mmatfile_dict\u001b[0m \u001b[1;33m=\u001b[0m \u001b[0mMR\u001b[0m\u001b[1;33m.\u001b[0m\u001b[0mget_variables\u001b[0m\u001b[1;33m(\u001b[0m\u001b[0mvariable_names\u001b[0m\u001b[1;33m)\u001b[0m\u001b[1;33m\u001b[0m\u001b[1;33m\u001b[0m\u001b[0m\n",
      "\u001b[1;32mC:\\ProgramData\\Anaconda3\\lib\\contextlib.py\u001b[0m in \u001b[0;36m__enter__\u001b[1;34m(self)\u001b[0m\n\u001b[0;32m    110\u001b[0m         \u001b[1;32mdel\u001b[0m \u001b[0mself\u001b[0m\u001b[1;33m.\u001b[0m\u001b[0margs\u001b[0m\u001b[1;33m,\u001b[0m \u001b[0mself\u001b[0m\u001b[1;33m.\u001b[0m\u001b[0mkwds\u001b[0m\u001b[1;33m,\u001b[0m \u001b[0mself\u001b[0m\u001b[1;33m.\u001b[0m\u001b[0mfunc\u001b[0m\u001b[1;33m\u001b[0m\u001b[1;33m\u001b[0m\u001b[0m\n\u001b[0;32m    111\u001b[0m         \u001b[1;32mtry\u001b[0m\u001b[1;33m:\u001b[0m\u001b[1;33m\u001b[0m\u001b[1;33m\u001b[0m\u001b[0m\n\u001b[1;32m--> 112\u001b[1;33m             \u001b[1;32mreturn\u001b[0m \u001b[0mnext\u001b[0m\u001b[1;33m(\u001b[0m\u001b[0mself\u001b[0m\u001b[1;33m.\u001b[0m\u001b[0mgen\u001b[0m\u001b[1;33m)\u001b[0m\u001b[1;33m\u001b[0m\u001b[1;33m\u001b[0m\u001b[0m\n\u001b[0m\u001b[0;32m    113\u001b[0m         \u001b[1;32mexcept\u001b[0m \u001b[0mStopIteration\u001b[0m\u001b[1;33m:\u001b[0m\u001b[1;33m\u001b[0m\u001b[1;33m\u001b[0m\u001b[0m\n\u001b[0;32m    114\u001b[0m             \u001b[1;32mraise\u001b[0m \u001b[0mRuntimeError\u001b[0m\u001b[1;33m(\u001b[0m\u001b[1;34m\"generator didn't yield\"\u001b[0m\u001b[1;33m)\u001b[0m \u001b[1;32mfrom\u001b[0m \u001b[1;32mNone\u001b[0m\u001b[1;33m\u001b[0m\u001b[1;33m\u001b[0m\u001b[0m\n",
      "\u001b[1;32mC:\\ProgramData\\Anaconda3\\lib\\site-packages\\scipy\\io\\matlab\\mio.py\u001b[0m in \u001b[0;36m_open_file_context\u001b[1;34m(file_like, appendmat, mode)\u001b[0m\n\u001b[0;32m     15\u001b[0m \u001b[1;33m@\u001b[0m\u001b[0mcontextmanager\u001b[0m\u001b[1;33m\u001b[0m\u001b[1;33m\u001b[0m\u001b[0m\n\u001b[0;32m     16\u001b[0m \u001b[1;32mdef\u001b[0m \u001b[0m_open_file_context\u001b[0m\u001b[1;33m(\u001b[0m\u001b[0mfile_like\u001b[0m\u001b[1;33m,\u001b[0m \u001b[0mappendmat\u001b[0m\u001b[1;33m,\u001b[0m \u001b[0mmode\u001b[0m\u001b[1;33m=\u001b[0m\u001b[1;34m'rb'\u001b[0m\u001b[1;33m)\u001b[0m\u001b[1;33m:\u001b[0m\u001b[1;33m\u001b[0m\u001b[1;33m\u001b[0m\u001b[0m\n\u001b[1;32m---> 17\u001b[1;33m     \u001b[0mf\u001b[0m\u001b[1;33m,\u001b[0m \u001b[0mopened\u001b[0m \u001b[1;33m=\u001b[0m \u001b[0m_open_file\u001b[0m\u001b[1;33m(\u001b[0m\u001b[0mfile_like\u001b[0m\u001b[1;33m,\u001b[0m \u001b[0mappendmat\u001b[0m\u001b[1;33m,\u001b[0m \u001b[0mmode\u001b[0m\u001b[1;33m)\u001b[0m\u001b[1;33m\u001b[0m\u001b[1;33m\u001b[0m\u001b[0m\n\u001b[0m\u001b[0;32m     18\u001b[0m     \u001b[1;32mtry\u001b[0m\u001b[1;33m:\u001b[0m\u001b[1;33m\u001b[0m\u001b[1;33m\u001b[0m\u001b[0m\n\u001b[0;32m     19\u001b[0m         \u001b[1;32myield\u001b[0m \u001b[0mf\u001b[0m\u001b[1;33m\u001b[0m\u001b[1;33m\u001b[0m\u001b[0m\n",
      "\u001b[1;32mC:\\ProgramData\\Anaconda3\\lib\\site-packages\\scipy\\io\\matlab\\mio.py\u001b[0m in \u001b[0;36m_open_file\u001b[1;34m(file_like, appendmat, mode)\u001b[0m\n\u001b[0;32m     43\u001b[0m             \u001b[1;32mif\u001b[0m \u001b[0mappendmat\u001b[0m \u001b[1;32mand\u001b[0m \u001b[1;32mnot\u001b[0m \u001b[0mfile_like\u001b[0m\u001b[1;33m.\u001b[0m\u001b[0mendswith\u001b[0m\u001b[1;33m(\u001b[0m\u001b[1;34m'.mat'\u001b[0m\u001b[1;33m)\u001b[0m\u001b[1;33m:\u001b[0m\u001b[1;33m\u001b[0m\u001b[1;33m\u001b[0m\u001b[0m\n\u001b[0;32m     44\u001b[0m                 \u001b[0mfile_like\u001b[0m \u001b[1;33m+=\u001b[0m \u001b[1;34m'.mat'\u001b[0m\u001b[1;33m\u001b[0m\u001b[1;33m\u001b[0m\u001b[0m\n\u001b[1;32m---> 45\u001b[1;33m             \u001b[1;32mreturn\u001b[0m \u001b[0mopen\u001b[0m\u001b[1;33m(\u001b[0m\u001b[0mfile_like\u001b[0m\u001b[1;33m,\u001b[0m \u001b[0mmode\u001b[0m\u001b[1;33m)\u001b[0m\u001b[1;33m,\u001b[0m \u001b[1;32mTrue\u001b[0m\u001b[1;33m\u001b[0m\u001b[1;33m\u001b[0m\u001b[0m\n\u001b[0m\u001b[0;32m     46\u001b[0m         \u001b[1;32melse\u001b[0m\u001b[1;33m:\u001b[0m\u001b[1;33m\u001b[0m\u001b[1;33m\u001b[0m\u001b[0m\n\u001b[0;32m     47\u001b[0m             \u001b[1;32mraise\u001b[0m \u001b[0mIOError\u001b[0m\u001b[1;33m(\u001b[0m\u001b[1;34m'Reader needs file name or open file-like object'\u001b[0m\u001b[1;33m)\u001b[0m\u001b[1;33m\u001b[0m\u001b[1;33m\u001b[0m\u001b[0m\n",
      "\u001b[1;31mFileNotFoundError\u001b[0m: [Errno 2] No such file or directory: 'Rat08-20130718-RippleFiring.mat'"
     ]
    }
   ],
   "source": [
    "t,peth,meta = ripple_psth('Z:\\Rat08\\Rat08-20130718')"
   ]
  },
  {
   "cell_type": "code",
   "execution_count": 19,
   "metadata": {},
   "outputs": [
    {
     "name": "stderr",
     "output_type": "stream",
     "text": [
      "100%|███████████████████████████████████████████████████████████████████████████████████████████████████████████████████████████████████████████████████████████████████████████████████████████████████████| 61/61 [04:17<00:00,  4.22s/it]\n",
      "- |#                                                  | 0 Elapsed Time: 0:00:00\n"
     ]
    },
    {
     "name": "stdout",
     "output_type": "stream",
     "text": [
      "Batch finished in 257.462366104126\n",
      "Some session were not processed correctly\n",
      "['Rat08-20130718', 'Rat08-20130719', 'Rat08-20130720', 'Rat08-20130722', 'Rat09-20140324', 'Rat09-20140325', 'Rat09-20140326', 'Rat09-20140327', 'Rat09-20140328', 'Rat09-20140329', 'Rat09-20140331', 'Rat09-20140401', 'Rat09-20140402', 'Rat09-20140403', 'Rat09-20140404', 'Rat09-20140405', 'Rat09-20140407', 'Rat09-20140408', 'Rat09-20140409', 'Rat11-20150325', 'Rat11-20150326', 'Rat11-20150327', 'Rat11-20150328', 'Rat11-20150330', 'Rat11-20150331', 'Rat11-20150401', 'Rat11-20150402', 'Rat11-20150403']\n",
      "45.90163934426229 %\n"
     ]
    }
   ],
   "source": [
    "batch = bk.load.batch(ripple_psth)"
   ]
  },
  {
   "cell_type": "code",
   "execution_count": null,
   "metadata": {},
   "outputs": [],
   "source": [
    "metaall = pd.concat([batch[s][2] for s in batch])\n",
    "psthall = np.hstack([batch[s][1] for s in batch])"
   ]
  },
  {
   "cell_type": "code",
   "execution_count": 40,
   "metadata": {},
   "outputs": [
    {
     "data": {
      "text/html": [
       "<div>\n",
       "<style scoped>\n",
       "    .dataframe tbody tr th:only-of-type {\n",
       "        vertical-align: middle;\n",
       "    }\n",
       "\n",
       "    .dataframe tbody tr th {\n",
       "        vertical-align: top;\n",
       "    }\n",
       "\n",
       "    .dataframe thead th {\n",
       "        text-align: right;\n",
       "    }\n",
       "</style>\n",
       "<table border=\"1\" class=\"dataframe\">\n",
       "  <thead>\n",
       "    <tr style=\"text-align: right;\">\n",
       "      <th></th>\n",
       "      <th>Rat</th>\n",
       "      <th>Day</th>\n",
       "      <th>Shank</th>\n",
       "      <th>Id</th>\n",
       "      <th>Region</th>\n",
       "      <th>Type</th>\n",
       "      <th>pInc</th>\n",
       "      <th>pDec</th>\n",
       "      <th>surprise</th>\n",
       "    </tr>\n",
       "  </thead>\n",
       "  <tbody>\n",
       "    <tr>\n",
       "      <th>0</th>\n",
       "      <td>8</td>\n",
       "      <td>6</td>\n",
       "      <td>1</td>\n",
       "      <td>2</td>\n",
       "      <td>Hpc</td>\n",
       "      <td>Pyr</td>\n",
       "      <td>0.000000e+00</td>\n",
       "      <td>1.000000</td>\n",
       "      <td>36.043653</td>\n",
       "    </tr>\n",
       "    <tr>\n",
       "      <th>1</th>\n",
       "      <td>8</td>\n",
       "      <td>6</td>\n",
       "      <td>2</td>\n",
       "      <td>2</td>\n",
       "      <td>Hpc</td>\n",
       "      <td>Pyr</td>\n",
       "      <td>1.670886e-13</td>\n",
       "      <td>1.000000</td>\n",
       "      <td>29.418924</td>\n",
       "    </tr>\n",
       "    <tr>\n",
       "      <th>2</th>\n",
       "      <td>8</td>\n",
       "      <td>6</td>\n",
       "      <td>2</td>\n",
       "      <td>3</td>\n",
       "      <td>Hpc</td>\n",
       "      <td>Pyr</td>\n",
       "      <td>0.000000e+00</td>\n",
       "      <td>1.000000</td>\n",
       "      <td>36.043653</td>\n",
       "    </tr>\n",
       "    <tr>\n",
       "      <th>3</th>\n",
       "      <td>8</td>\n",
       "      <td>6</td>\n",
       "      <td>2</td>\n",
       "      <td>4</td>\n",
       "      <td>Hpc</td>\n",
       "      <td>Pyr</td>\n",
       "      <td>0.000000e+00</td>\n",
       "      <td>1.000000</td>\n",
       "      <td>36.043653</td>\n",
       "    </tr>\n",
       "    <tr>\n",
       "      <th>4</th>\n",
       "      <td>8</td>\n",
       "      <td>6</td>\n",
       "      <td>2</td>\n",
       "      <td>5</td>\n",
       "      <td>Hpc</td>\n",
       "      <td>Pyr</td>\n",
       "      <td>0.000000e+00</td>\n",
       "      <td>1.000000</td>\n",
       "      <td>36.043653</td>\n",
       "    </tr>\n",
       "    <tr>\n",
       "      <th>...</th>\n",
       "      <td>...</td>\n",
       "      <td>...</td>\n",
       "      <td>...</td>\n",
       "      <td>...</td>\n",
       "      <td>...</td>\n",
       "      <td>...</td>\n",
       "      <td>...</td>\n",
       "      <td>...</td>\n",
       "      <td>...</td>\n",
       "    </tr>\n",
       "    <tr>\n",
       "      <th>247</th>\n",
       "      <td>8</td>\n",
       "      <td>6</td>\n",
       "      <td>19</td>\n",
       "      <td>2</td>\n",
       "      <td>BLA</td>\n",
       "      <td>Pyr</td>\n",
       "      <td>9.993548e-01</td>\n",
       "      <td>0.000645</td>\n",
       "      <td>-7.345331</td>\n",
       "    </tr>\n",
       "    <tr>\n",
       "      <th>248</th>\n",
       "      <td>8</td>\n",
       "      <td>6</td>\n",
       "      <td>19</td>\n",
       "      <td>3</td>\n",
       "      <td>BLA</td>\n",
       "      <td>Pyr</td>\n",
       "      <td>8.843166e-01</td>\n",
       "      <td>0.115683</td>\n",
       "      <td>-2.033958</td>\n",
       "    </tr>\n",
       "    <tr>\n",
       "      <th>249</th>\n",
       "      <td>8</td>\n",
       "      <td>6</td>\n",
       "      <td>19</td>\n",
       "      <td>4</td>\n",
       "      <td>BLA</td>\n",
       "      <td>Pyr</td>\n",
       "      <td>1.951515e-01</td>\n",
       "      <td>0.804848</td>\n",
       "      <td>1.416878</td>\n",
       "    </tr>\n",
       "    <tr>\n",
       "      <th>250</th>\n",
       "      <td>8</td>\n",
       "      <td>6</td>\n",
       "      <td>19</td>\n",
       "      <td>5</td>\n",
       "      <td>BLA</td>\n",
       "      <td>Pyr</td>\n",
       "      <td>2.487088e-01</td>\n",
       "      <td>0.751291</td>\n",
       "      <td>1.105511</td>\n",
       "    </tr>\n",
       "    <tr>\n",
       "      <th>251</th>\n",
       "      <td>8</td>\n",
       "      <td>6</td>\n",
       "      <td>19</td>\n",
       "      <td>6</td>\n",
       "      <td>BLA</td>\n",
       "      <td>Pyr</td>\n",
       "      <td>9.978848e-01</td>\n",
       "      <td>0.002115</td>\n",
       "      <td>-6.156488</td>\n",
       "    </tr>\n",
       "  </tbody>\n",
       "</table>\n",
       "<p>252 rows × 9 columns</p>\n",
       "</div>"
      ],
      "text/plain": [
       "    Rat Day Shank Id Region Type          pInc      pDec   surprise\n",
       "0     8   6     1  2    Hpc  Pyr  0.000000e+00  1.000000  36.043653\n",
       "1     8   6     2  2    Hpc  Pyr  1.670886e-13  1.000000  29.418924\n",
       "2     8   6     2  3    Hpc  Pyr  0.000000e+00  1.000000  36.043653\n",
       "3     8   6     2  4    Hpc  Pyr  0.000000e+00  1.000000  36.043653\n",
       "4     8   6     2  5    Hpc  Pyr  0.000000e+00  1.000000  36.043653\n",
       "..   ..  ..   ... ..    ...  ...           ...       ...        ...\n",
       "247   8   6    19  2    BLA  Pyr  9.993548e-01  0.000645  -7.345331\n",
       "248   8   6    19  3    BLA  Pyr  8.843166e-01  0.115683  -2.033958\n",
       "249   8   6    19  4    BLA  Pyr  1.951515e-01  0.804848   1.416878\n",
       "250   8   6    19  5    BLA  Pyr  2.487088e-01  0.751291   1.105511\n",
       "251   8   6    19  6    BLA  Pyr  9.978848e-01  0.002115  -6.156488\n",
       "\n",
       "[252 rows x 9 columns]"
      ]
     },
     "execution_count": 40,
     "metadata": {},
     "output_type": "execute_result"
    }
   ],
   "source": [
    "meta"
   ]
  },
  {
   "cell_type": "code",
   "execution_count": 55,
   "metadata": {},
   "outputs": [
    {
     "name": "stdout",
     "output_type": "stream",
     "text": [
      "83\n",
      "11\n",
      "55\n",
      "5\n"
     ]
    }
   ],
   "source": [
    "stru = ['BLA','Hpc']\n",
    "types = ['Pyr','Int']\n",
    "\n",
    "combi = itertools.product(stru,types)\n",
    "# print(list(combi))\n",
    "\n",
    "for s,t in combi:\n",
    "    mask = (meta.Region == s) & (meta.Type == t)\n",
    "    print(len(meta[mask]))\n",
    "    plt.figure()\n",
    "    plt.title(s+' '+t)\n",
    "    plt.plot(peth[:,mask])"
   ]
  },
  {
   "cell_type": "code",
   "execution_count": 5,
   "metadata": {},
   "outputs": [
    {
     "ename": "NameError",
     "evalue": "name 'neurons' is not defined",
     "output_type": "error",
     "traceback": [
      "\u001b[1;31m---------------------------------------------------------------------------\u001b[0m",
      "\u001b[1;31mNameError\u001b[0m                                 Traceback (most recent call last)",
      "\u001b[1;32m<timed exec>\u001b[0m in \u001b[0;36m<module>\u001b[1;34m\u001b[0m\n",
      "\u001b[1;31mNameError\u001b[0m: name 'neurons' is not defined"
     ]
    }
   ],
   "source": [
    "%time t,p = psth(neurons,neurons[0].as_units('s').index.values,0.001,[-0.1,0.1])"
   ]
  },
  {
   "cell_type": "code",
   "execution_count": 6,
   "metadata": {},
   "outputs": [
    {
     "name": "stdout",
     "output_type": "stream",
     "text": [
      "Rat : 8 on day : 1\n",
      "Working with session Rat08-20130708 @ Z:\\Rat08\\Rat08-20130708\n"
     ]
    },
    {
     "data": {
      "text/plain": [
       "True"
      ]
     },
     "execution_count": 6,
     "metadata": {},
     "output_type": "execute_result"
    }
   ],
   "source": [
    "bk.load.current_session('Z:\\Rat08\\Rat08-20130708')"
   ]
  },
  {
   "cell_type": "code",
   "execution_count": 64,
   "metadata": {},
   "outputs": [],
   "source": [
    "p = batch['Rat08-20130708'][1]"
   ]
  },
  {
   "cell_type": "code",
   "execution_count": 65,
   "metadata": {},
   "outputs": [
    {
     "data": {
      "text/plain": [
       "array([[0.04365711, 0.03834926, 0.02229299, ..., 0.25968684, 0.17794586,\n",
       "        0.06595011],\n",
       "       [0.04126858, 0.03914544, 0.02162951, ..., 0.25849257, 0.17781316,\n",
       "        0.06011146],\n",
       "       [0.04206476, 0.03821656, 0.02162951, ..., 0.24787686, 0.17091295,\n",
       "        0.05931529],\n",
       "       ...,\n",
       "       [0.02773355, 0.04617834, 0.02308917, ..., 0.26539278, 0.18285563,\n",
       "        0.05533439],\n",
       "       [0.03038747, 0.04020701, 0.02534501, ..., 0.26366773, 0.18285563,\n",
       "        0.05573248],\n",
       "       [0.03516454, 0.04299363, 0.02149682, ..., 0.26141189, 0.18444798,\n",
       "        0.06581741]])"
      ]
     },
     "execution_count": 65,
     "metadata": {},
     "output_type": "execute_result"
    }
   ],
   "source": [
    "p"
   ]
  },
  {
   "cell_type": "code",
   "execution_count": 7,
   "metadata": {},
   "outputs": [
    {
     "name": "stdout",
     "output_type": "stream",
     "text": [
      "Rat : 8 on day : 1\n",
      "Working with session Rat08-20130708 @ Z:\\Rat08\\Rat08-20130708\n",
      "Data already saved in Numpy format, loading them from here:\n",
      "Rat08-20130708-neurons.npy\n",
      "Rat08-20130708-metadata.npy\n"
     ]
    },
    {
     "name": "stderr",
     "output_type": "stream",
     "text": [
      "7536it [00:00, 12162.80it/s]\n"
     ]
    },
    {
     "name": "stdout",
     "output_type": "stream",
     "text": [
      "    Rat Day Shank Id Region Type          pInc          pDec   surprise\n",
      "0     8   1     4  2    Hpc  Pyr  1.000000e+00  6.904731e-27 -36.043653\n",
      "1     8   1     4  3    Hpc  Pyr  0.000000e+00  1.000000e+00  36.043653\n",
      "2     8   1     4  4    Hpc  Int  0.000000e+00  1.000000e+00  36.043653\n",
      "3     8   1     4  5    Hpc  Pyr  0.000000e+00  1.000000e+00  36.043653\n",
      "4     8   1     4  6    Hpc  Pyr  0.000000e+00  1.000000e+00  36.043653\n",
      "..   ..  ..   ... ..    ...  ...           ...           ...        ...\n",
      "161   8   1    20  2   None  Pyr  3.168839e-01  6.831161e-01   0.768129\n",
      "162   8   1    20  3   None  Unk  9.820839e-01  1.791610e-02  -4.003977\n",
      "163   8   1    20  4   None  Unk  0.000000e+00  1.000000e+00  36.043653\n",
      "164   8   1    20  5   None  Unk  1.022152e-07  9.999999e-01  16.096186\n",
      "165   8   1    20  6   None  Int  1.360023e-13  1.000000e+00  29.624473\n",
      "\n",
      "[166 rows x 9 columns]\n"
     ]
    }
   ],
   "source": [
    "test = ripple_psth(bk.load.path)"
   ]
  },
  {
   "cell_type": "code",
   "execution_count": null,
   "metadata": {},
   "outputs": [
    {
     "name": "stderr",
     "output_type": "stream",
     "text": [
      "  3%|██████▌                                                                                                                                                                                                 | 2/61 [00:53<24:21, 24.77s/it]"
     ]
    },
    {
     "name": "stdout",
     "output_type": "stream",
     "text": [
      "Loading Data from Rat08-20130710\n",
      "Rat : 8 on day : 3\n",
      "Working with session Rat08-20130710 @ Z:\\Rat08\\Rat08-20130710\n",
      "Data already saved in Numpy format, loading them from here:\n",
      "Rat08-20130710-neurons.npy\n",
      "Rat08-20130710-metadata.npy\n"
     ]
    }
   ],
   "source": [
    "batch2 = bk.load.batch(ripple_psth)"
   ]
  },
  {
   "cell_type": "code",
   "execution_count": null,
   "metadata": {},
   "outputs": [],
   "source": [
    "import seaborn as sns"
   ]
  },
  {
   "cell_type": "code",
   "execution_count": null,
   "metadata": {},
   "outputs": [],
   "source": [
    "%matplotlib qt"
   ]
  },
  {
   "cell_type": "code",
   "execution_count": null,
   "metadata": {},
   "outputs": [],
   "source": [
    "plt.title('Surprise Neurons')"
   ]
  },
  {
   "cell_type": "code",
   "execution_count": null,
   "metadata": {},
   "outputs": [],
   "source": [
    "sns.violinplot(metaall[metaall['Region'] != 'None']['Region'],metaall[metaall['Region'] != 'None']['surprise'])"
   ]
  },
  {
   "cell_type": "code",
   "execution_count": null,
   "metadata": {},
   "outputs": [],
   "source": []
  },
  {
   "cell_type": "code",
   "execution_count": null,
   "metadata": {},
   "outputs": [],
   "source": [
    "batch['Rat08-20130708'][2]"
   ]
  },
  {
   "cell_type": "code",
   "execution_count": null,
   "metadata": {},
   "outputs": [],
   "source": [
    "temps = batch2['Rat08-20130710'][0]"
   ]
  },
  {
   "cell_type": "code",
   "execution_count": null,
   "metadata": {},
   "outputs": [],
   "source": [
    "%matplotlib qt"
   ]
  },
  {
   "cell_type": "code",
   "execution_count": null,
   "metadata": {},
   "outputs": [],
   "source": [
    "np."
   ]
  },
  {
   "cell_type": "code",
   "execution_count": null,
   "metadata": {},
   "outputs": [],
   "source": [
    "scipy.version.full_version"
   ]
  },
  {
   "cell_type": "code",
   "execution_count": null,
   "metadata": {},
   "outputs": [],
   "source": [
    "stru = np.unique(metaall.Region)\n",
    "types = ['Pyr']\n",
    "stru = ['Pir']\n",
    "for s,t in itertools.product(stru,types):\n",
    "    mask = (metaall.pInc < 0.0001) & (metaall.Region == s) & (metaall.Type == t)\n",
    "    mask = list(mask)\n",
    "    psth = psthall[:,np.where(mask)[0]]\n",
    "    \n",
    "#     plt.imshow(scipy.stats.zscore(psth).T)\n",
    "    for i,p in enumerate(psth.T):\n",
    "        if i > 25: break\n",
    "        zscore_p = scipy.stats.zscore(p)\n",
    "        g = scipy.signal.gaussian(10,1)\n",
    "        g = g/np.sum(g)\n",
    "        smooth_p = np.convolve(zscore_p,g,'same')\n",
    "        \n",
    "        plt.figure()\n",
    "        plt.bar(temps,zscore_p,temps[1]-temps[0])\n",
    "        plt.plot(temps,smooth_p,'r--')"
   ]
  },
  {
   "cell_type": "code",
   "execution_count": null,
   "metadata": {},
   "outputs": [],
   "source": [
    "stru = np.unique(metaall.Region)\n",
    "types = ['Pyr','Int']\n",
    "stru = ['Hpc','BLA']\n",
    "for s,t in itertools.product(stru,types):\n",
    "    mask = (metaall.pInc < 0.001) & (metaall.Region == s) & (metaall.Type == t)\n",
    "    mask = list(mask)\n",
    "    \n",
    "    psth_stru_types_u = np.nanmean(psthall[:,np.where(mask)[0]],1)\n",
    "    \n",
    "    mask = (metaall.pDec < 0.001) & (metaall.Region == s) & (metaall.Type == t)\n",
    "    mask = list(mask)\n",
    "    psth_stru_types_d = np.nanmean(psthall[:,np.where(mask)[0]],1)\n",
    "    \n",
    "    plt.figure()\n",
    "    \n",
    "    plt.suptitle(f'{s} and {t}')\n",
    "    \n",
    "    plt.subplot(1,2,1)\n",
    "    plt.title('Up-Mod')\n",
    "    plt.bar(temps,psth_stru_types_u,0.002,alpha = 0.5)\n",
    "    plt.axvline(0,color = 'r',alpha = 0.5)\n",
    "    \n",
    "    plt.xlim(-0.5,0.5)\n",
    "    \n",
    "    plt.subplot(1,2,2)\n",
    "    plt.title('Down-Mod')\n",
    "    plt.bar(temps,psth_stru_types_d,0.002,alpha = 0.5)\n",
    "    plt.axvline(0,color = 'r',alpha = 0.5)\n",
    "    plt.xlim(-0.5,0.5)\n",
    "\n",
    "    \n",
    "    plt.tight_layout()\n",
    "#     save_fig('P:/Data/Figures/',f'{s}-{t}-0.002-full.svg')\n",
    "#     save_fig('P:/Data/Figures/',f'{s}-{t}-0.002-full.png')\n",
    "    "
   ]
  },
  {
   "cell_type": "code",
   "execution_count": null,
   "metadata": {},
   "outputs": [],
   "source": []
  }
 ],
 "metadata": {
  "kernelspec": {
   "display_name": "Python 3",
   "language": "python",
   "name": "python3"
  },
  "language_info": {
   "codemirror_mode": {
    "name": "ipython",
    "version": 3
   },
   "file_extension": ".py",
   "mimetype": "text/x-python",
   "name": "python",
   "nbconvert_exporter": "python",
   "pygments_lexer": "ipython3",
   "version": "3.7.9"
  }
 },
 "nbformat": 4,
 "nbformat_minor": 4
}
