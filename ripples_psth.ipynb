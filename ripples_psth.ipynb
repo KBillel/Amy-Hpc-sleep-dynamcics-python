{
 "cells": [
  {
   "cell_type": "code",
   "execution_count": 385,
   "metadata": {},
   "outputs": [],
   "source": [
    "import os\n",
    "\n",
    "import bk.load\n",
    "import bk.compute\n",
    "import bk.plot\n",
    "import bk.signal\n",
    "\n",
    "import numpy as np\n",
    "import pandas as pd\n",
    "\n",
    "import scipy.signal\n",
    "import scipy.stats as ss\n",
    "import scipy.io\n",
    "\n",
    "import matplotlib.pyplot as plt\n",
    "import matplotlib as mpl\n",
    "import neuroseries as nts\n",
    "import basefunction.vBaseFunctions3\n",
    "from tqdm import tqdm\n",
    "import itertools"
   ]
  },
  {
   "cell_type": "code",
   "execution_count": 396,
   "metadata": {},
   "outputs": [],
   "source": [
    "def save_fig(folder_path,name):\n",
    "    import os\n",
    "    old_path = os.getcwd()\n",
    "    os.chdir(folder_path)\n",
    "    plt.savefig(name)\n",
    "    os.chdir(old_path)\n",
    "\n",
    "def load_ripples():\n",
    "    ripples_ = scipy.io.loadmat(f'{bk.load.session}-RippleFiring.mat')['ripples']['allsws'][0][0]\n",
    "#     ripples_ = pd.DataFrame(data = ripples,columns=['start','peak','stop'])\n",
    "    \n",
    "    columns = ['start','peak','stop']\n",
    "    \n",
    "    ripples = {}\n",
    "    for i,c in zip(range(ripples_.shape[1]),columns):\n",
    "        ripples.update({c:nts.Ts(ripples_[:,i],time_units='s')})\n",
    "    return ripples\n",
    "\n",
    "def poissonTest(baseRate,counts,time):\n",
    "    eps = np.spacing(1)\n",
    "    \n",
    "    lam = baseRate*time\n",
    "    \n",
    "    pInc = 1 - ss.poisson.cdf(counts,lam)\n",
    "    pDec = ss.poisson.cdf(counts,lam)\n",
    "    surprise = np.log((pDec+eps)/(pInc + eps))\n",
    "    return pInc,pDec,surprise\n",
    "\n",
    "def psth(neurons,stimulus,binSize,win):\n",
    "    \n",
    "    if isinstance(neurons,nts.time_series.Tsd): \n",
    "        print('Converted')\n",
    "        neurons = np.array()\n",
    "    winLen = int((win[1] - win[0])/binSize)\n",
    "    window = np.arange(winLen,dtype = int)-int(winLen/2)\n",
    "    stim_bin = (stimulus/binSize).astype('int')\n",
    "    t,binned = bk.compute.binSpikes(neurons,binSize)\n",
    "    print(binned.shape)\n",
    "    print(stim_bin[-1])\n",
    "    psth = np.empty((stimulus.size,len(neurons),winLen))\n",
    "    \n",
    "    for i,t in tqdm(enumerate(stim_bin)):\n",
    "        psth[i] = binned[:,t+window]\n",
    "        \n",
    "    psth = np.mean(psth,0).T\n",
    "    t = window*binSize\n",
    "    return t,psth"
   ]
  },
  {
   "cell_type": "code",
   "execution_count": 397,
   "metadata": {},
   "outputs": [
    {
     "name": "stdout",
     "output_type": "stream",
     "text": [
      "Rat : 8 on day : 6\n",
      "Working with session Rat08-20130713 @ Z:\\Rat08\\Rat08-20130713\n",
      "Data already saved in Numpy format, loading them from here:\n",
      "Rat08-20130713-neurons.npy\n",
      "Rat08-20130713-metadata.npy\n"
     ]
    }
   ],
   "source": [
    "bk.load.current_session()\n",
    "neurons,metadata = bk.load.loadSpikeData(bk.load.path)"
   ]
  },
  {
   "cell_type": "code",
   "execution_count": 398,
   "metadata": {},
   "outputs": [
    {
     "name": "stderr",
     "output_type": "stream",
     "text": [
      "15783it [00:00, 159551.85it/s]"
     ]
    },
    {
     "name": "stdout",
     "output_type": "stream",
     "text": [
      "(1, 22676917)\n",
      "22676917\n"
     ]
    },
    {
     "name": "stderr",
     "output_type": "stream",
     "text": [
      "\n"
     ]
    },
    {
     "ename": "IndexError",
     "evalue": "index 22676917 is out of bounds for axis 1 with size 22676917",
     "output_type": "error",
     "traceback": [
      "\u001b[1;31m---------------------------------------------------------------------------\u001b[0m",
      "\u001b[1;31mIndexError\u001b[0m                                Traceback (most recent call last)",
      "\u001b[1;32m<ipython-input-398-fc7a4f169f57>\u001b[0m in \u001b[0;36m<module>\u001b[1;34m\u001b[0m\n\u001b[1;32m----> 1\u001b[1;33m \u001b[0mt\u001b[0m\u001b[1;33m,\u001b[0m\u001b[0mp\u001b[0m \u001b[1;33m=\u001b[0m \u001b[0mpsth\u001b[0m\u001b[1;33m(\u001b[0m\u001b[0mnp\u001b[0m\u001b[1;33m.\u001b[0m\u001b[0marray\u001b[0m\u001b[1;33m(\u001b[0m\u001b[0mneurons\u001b[0m\u001b[1;33m[\u001b[0m\u001b[1;36m0\u001b[0m\u001b[1;33m:\u001b[0m\u001b[1;36m1\u001b[0m\u001b[1;33m]\u001b[0m\u001b[1;33m)\u001b[0m\u001b[1;33m,\u001b[0m\u001b[0mneurons\u001b[0m\u001b[1;33m[\u001b[0m\u001b[1;36m0\u001b[0m\u001b[1;33m]\u001b[0m\u001b[1;33m.\u001b[0m\u001b[0mas_units\u001b[0m\u001b[1;33m(\u001b[0m\u001b[1;34m's'\u001b[0m\u001b[1;33m)\u001b[0m\u001b[1;33m.\u001b[0m\u001b[0mindex\u001b[0m\u001b[1;33m.\u001b[0m\u001b[0mvalues\u001b[0m\u001b[1;33m,\u001b[0m\u001b[1;36m0.001\u001b[0m\u001b[1;33m,\u001b[0m\u001b[1;33m[\u001b[0m\u001b[1;33m-\u001b[0m\u001b[1;36m0.1\u001b[0m\u001b[1;33m,\u001b[0m\u001b[1;36m0.1\u001b[0m\u001b[1;33m]\u001b[0m\u001b[1;33m)\u001b[0m\u001b[1;33m\u001b[0m\u001b[1;33m\u001b[0m\u001b[0m\n\u001b[0m",
      "\u001b[1;32m<ipython-input-396-0f91900ffba7>\u001b[0m in \u001b[0;36mpsth\u001b[1;34m(neurons, stimulus, binSize, win)\u001b[0m\n\u001b[0;32m     41\u001b[0m \u001b[1;33m\u001b[0m\u001b[0m\n\u001b[0;32m     42\u001b[0m     \u001b[1;32mfor\u001b[0m \u001b[0mi\u001b[0m\u001b[1;33m,\u001b[0m\u001b[0mt\u001b[0m \u001b[1;32min\u001b[0m \u001b[0mtqdm\u001b[0m\u001b[1;33m(\u001b[0m\u001b[0menumerate\u001b[0m\u001b[1;33m(\u001b[0m\u001b[0mstim_bin\u001b[0m\u001b[1;33m)\u001b[0m\u001b[1;33m)\u001b[0m\u001b[1;33m:\u001b[0m\u001b[1;33m\u001b[0m\u001b[1;33m\u001b[0m\u001b[0m\n\u001b[1;32m---> 43\u001b[1;33m         \u001b[0mpsth\u001b[0m\u001b[1;33m[\u001b[0m\u001b[0mi\u001b[0m\u001b[1;33m]\u001b[0m \u001b[1;33m=\u001b[0m \u001b[0mbinned\u001b[0m\u001b[1;33m[\u001b[0m\u001b[1;33m:\u001b[0m\u001b[1;33m,\u001b[0m\u001b[0mt\u001b[0m\u001b[1;33m+\u001b[0m\u001b[0mwindow\u001b[0m\u001b[1;33m]\u001b[0m\u001b[1;33m\u001b[0m\u001b[1;33m\u001b[0m\u001b[0m\n\u001b[0m\u001b[0;32m     44\u001b[0m \u001b[1;33m\u001b[0m\u001b[0m\n\u001b[0;32m     45\u001b[0m     \u001b[0mpsth\u001b[0m \u001b[1;33m=\u001b[0m \u001b[0mnp\u001b[0m\u001b[1;33m.\u001b[0m\u001b[0mmean\u001b[0m\u001b[1;33m(\u001b[0m\u001b[0mpsth\u001b[0m\u001b[1;33m,\u001b[0m\u001b[1;36m0\u001b[0m\u001b[1;33m)\u001b[0m\u001b[1;33m.\u001b[0m\u001b[0mT\u001b[0m\u001b[1;33m\u001b[0m\u001b[1;33m\u001b[0m\u001b[0m\n",
      "\u001b[1;31mIndexError\u001b[0m: index 22676917 is out of bounds for axis 1 with size 22676917"
     ]
    }
   ],
   "source": [
    "t,p = psth(np.array(neurons[0:1]),neurons[0].as_units('s').index.values,0.001,[-0.1,0.1])"
   ]
  },
  {
   "cell_type": "code",
   "execution_count": 351,
   "metadata": {},
   "outputs": [],
   "source": [
    "a = np.array([1,2,3])"
   ]
  },
  {
   "cell_type": "code",
   "execution_count": 360,
   "metadata": {},
   "outputs": [
    {
     "ename": "IndexError",
     "evalue": "index 3 is out of bounds for axis 0 with size 3",
     "output_type": "error",
     "traceback": [
      "\u001b[1;31m---------------------------------------------------------------------------\u001b[0m",
      "\u001b[1;31mIndexError\u001b[0m                                Traceback (most recent call last)",
      "\u001b[1;32m<ipython-input-360-f75b6be7d8e3>\u001b[0m in \u001b[0;36m<module>\u001b[1;34m\u001b[0m\n\u001b[1;32m----> 1\u001b[1;33m \u001b[0ma\u001b[0m\u001b[1;33m[\u001b[0m\u001b[1;36m3\u001b[0m\u001b[1;33m]\u001b[0m\u001b[1;33m\u001b[0m\u001b[1;33m\u001b[0m\u001b[0m\n\u001b[0m",
      "\u001b[1;31mIndexError\u001b[0m: index 3 is out of bounds for axis 0 with size 3"
     ]
    }
   ],
   "source": [
    "a[3]"
   ]
  },
  {
   "cell_type": "code",
   "execution_count": 311,
   "metadata": {},
   "outputs": [
    {
     "data": {
      "text/plain": [
       "array([[nan, nan, nan, ..., nan, nan, nan]], dtype=object)"
      ]
     },
     "execution_count": 311,
     "metadata": {},
     "output_type": "execute_result"
    }
   ],
   "source": [
    "a"
   ]
  },
  {
   "cell_type": "code",
   "execution_count": 228,
   "metadata": {},
   "outputs": [
    {
     "name": "stdout",
     "output_type": "stream",
     "text": [
      "1\n"
     ]
    }
   ],
   "source": [
    "for i in a: print(i)"
   ]
  },
  {
   "cell_type": "code",
   "execution_count": 198,
   "metadata": {},
   "outputs": [
    {
     "data": {
      "text/plain": [
       "(200, 1)"
      ]
     },
     "execution_count": 198,
     "metadata": {},
     "output_type": "execute_result"
    }
   ],
   "source": [
    "p.shape"
   ]
  },
  {
   "cell_type": "code",
   "execution_count": 258,
   "metadata": {},
   "outputs": [
    {
     "data": {
      "text/plain": [
       "<BarContainer object of 200 artists>"
      ]
     },
     "execution_count": 258,
     "metadata": {},
     "output_type": "execute_result"
    }
   ],
   "source": [
    "plt.bar(t,p[:,0],t[1]-t[2])"
   ]
  },
  {
   "cell_type": "code",
   "execution_count": 172,
   "metadata": {},
   "outputs": [],
   "source": [
    "def ripple_psth(path):\n",
    "    \n",
    "    win = [-0.5,0.5]\n",
    "    binSize = 0.002\n",
    "    \n",
    "    bk.load.current_session(path)\n",
    "    ripples = load_ripples()\n",
    "    neurons,metadata = bk.load.loadSpikeData(bk.load.path)\n",
    "    \n",
    "    ripples_ = ripples['peak'].as_units('s').index.values\n",
    "    t,psth_ = psth(neurons,ripples_,binSize,win)\n",
    "    \n",
    "    states = bk.load.states()\n",
    "    states.update({'ripples':nts.IntervalSet(ripples['start'].times(),ripples['stop'].times())})\n",
    "    states.update({'outside_ripples':states['sws'].set_diff(nts.IntervalSet(states['ripples'].start-200_000,states['ripples'].end+200_000,force_no_fix=True))})\n",
    "    \n",
    "    pInc = np.empty(len(neurons))\n",
    "    pDec = np.empty(len(neurons))\n",
    "    surprise = np.empty(len(neurons))\n",
    "    for i,n in enumerate(neurons):\n",
    "        baseRate = len(n.restrict(states['outside_ripples']))/states['outside_ripples'].tot_length(time_units = 's')\n",
    "        count = len(n.restrict(states['ripples']))\n",
    "        time = states['ripples'].tot_length(time_units = 's')\n",
    "        \n",
    "        pInc[i],pDec[i],surprise[i] = poissonTest(baseRate,count,time)\n",
    "    \n",
    "    stats = pd.DataFrame(np.array([pInc,pDec,surprise]).T,columns=['pInc','pDec','surprise'])\n",
    "    \n",
    "    metadata = pd.concat([metadata,stats],1) \n",
    "    \n",
    "    return t,psth_,metadata"
   ]
  },
  {
   "cell_type": "code",
   "execution_count": 68,
   "metadata": {
    "jupyter": {
     "source_hidden": true
    }
   },
   "outputs": [],
   "source": [
    "def ripple_psth_slow(path):\n",
    "    nbins = 100\n",
    "    \n",
    "    \n",
    "    bk.load.current_session(path)\n",
    "    ripples = load_ripples()\n",
    "    neurons,metadata = bk.load.loadSpikeData(bk.load.path)\n",
    "\n",
    "    win = [-0.5,0.5]\n",
    "    n_neurons = len(neurons)\n",
    "    \n",
    "    peth = np.empty((len(ripples['peak'].as_units('s').index),nbins,n_neurons))\n",
    "    \n",
    "    for i,ripple_time in tqdm(enumerate(ripples['peak'].as_units('s').index)):\n",
    "        t,binned = bk.compute.binSpikes(neurons,nbins=nbins,start = ripple_time+win[0],stop = ripple_time+win[1])\n",
    "        peth[i,:] = binned.T\n",
    "    \n",
    "    \n",
    "    states = bk.load.states()\n",
    "    states.update({'ripples':nts.IntervalSet(ripples['start'].times(),ripples['stop'].times())})\n",
    "    states.update({'outside_ripples':states['sws'].set_diff(nts.IntervalSet(states['ripples'].start-200_000,states['ripples'].end+200_000,force_no_fix=True))})\n",
    "    \n",
    "    pInc = np.empty(len(neurons))\n",
    "    pDec = np.empty(len(neurons))\n",
    "    surprise = np.empty(len(neurons))\n",
    "    for i,n in enumerate(neurons):\n",
    "        baseRate = len(n.restrict(states['outside_ripples']))/states['outside_ripples'].tot_length(time_units = 's')\n",
    "        count = len(n.restrict(states['ripples']))\n",
    "        time = states['ripples'].tot_length(time_units = 's')\n",
    "        \n",
    "        pInc[i],pDec[i],surprise[i] = poissonTest(baseRate,count,time)\n",
    "    \n",
    "    stats = pd.DataFrame(np.array([pInc,pDec,surprise]).T,columns=['pInc','pDec','surprise'])\n",
    "    \n",
    "    \n",
    "    return t,peth,metadata,stats"
   ]
  },
  {
   "cell_type": "code",
   "execution_count": 145,
   "metadata": {},
   "outputs": [
    {
     "name": "stderr",
     "output_type": "stream",
     "text": [
      "100%|███████████████████████████████████████████████████████████████████████████████████████████| 61/61 [1:40:07<00:00, 98.49s/it]"
     ]
    },
    {
     "name": "stdout",
     "output_type": "stream",
     "text": [
      "Batch finished in 6007.606546163559\n",
      "Some session were not processed correctly\n",
      "['Rat08-20130708', 'Rat08-20130709', 'Rat08-20130712', 'Rat08-20130716', 'Rat08-20130718', 'Rat08-20130719', 'Rat08-20130720', 'Rat08-20130722', 'Rat09-20140324', 'Rat09-20140325', 'Rat09-20140326', 'Rat09-20140327', 'Rat09-20140328', 'Rat09-20140329', 'Rat09-20140331', 'Rat09-20140401', 'Rat09-20140402', 'Rat09-20140403', 'Rat09-20140404', 'Rat09-20140405', 'Rat09-20140407', 'Rat09-20140408', 'Rat09-20140409', 'Rat10-20140629', 'Rat10-20140704', 'Rat10-20140707', 'Rat10-20140708', 'Rat11-20150315', 'Rat11-20150316', 'Rat11-20150402', 'Rat11-20150403']\n",
      "50.81967213114754 %\n"
     ]
    },
    {
     "name": "stderr",
     "output_type": "stream",
     "text": [
      "\n"
     ]
    }
   ],
   "source": [
    "batch = bk.load.batch(ripple_psth)"
   ]
  },
  {
   "cell_type": "code",
   "execution_count": 146,
   "metadata": {},
   "outputs": [],
   "source": [
    "metaall = pd.concat([batch[s][2] for s in batch])\n",
    "psthall = np.hstack([batch[s][1] for s in batch])"
   ]
  },
  {
   "cell_type": "code",
   "execution_count": 147,
   "metadata": {},
   "outputs": [],
   "source": [
    "temps = batch['Rat08-20130710'][0]"
   ]
  },
  {
   "cell_type": "code",
   "execution_count": 155,
   "metadata": {},
   "outputs": [],
   "source": [
    "%matplotlib qt"
   ]
  },
  {
   "cell_type": "code",
   "execution_count": 169,
   "metadata": {},
   "outputs": [
    {
     "name": "stderr",
     "output_type": "stream",
     "text": [
      "C:\\ProgramData\\Anaconda3\\lib\\site-packages\\ipykernel_launcher.py:11: RuntimeWarning: Mean of empty slice\n",
      "  # This is added back by InteractiveShellApp.init_path()\n",
      "C:\\ProgramData\\Anaconda3\\lib\\site-packages\\ipykernel_launcher.py:7: RuntimeWarning: Mean of empty slice\n",
      "  import sys\n",
      "C:\\ProgramData\\Anaconda3\\lib\\site-packages\\ipykernel_launcher.py:11: RuntimeWarning: Mean of empty slice\n",
      "  # This is added back by InteractiveShellApp.init_path()\n",
      "C:\\ProgramData\\Anaconda3\\lib\\site-packages\\ipykernel_launcher.py:11: RuntimeWarning: Mean of empty slice\n",
      "  # This is added back by InteractiveShellApp.init_path()\n",
      "C:\\ProgramData\\Anaconda3\\lib\\site-packages\\ipykernel_launcher.py:11: RuntimeWarning: Mean of empty slice\n",
      "  # This is added back by InteractiveShellApp.init_path()\n",
      "C:\\ProgramData\\Anaconda3\\lib\\site-packages\\ipykernel_launcher.py:11: RuntimeWarning: Mean of empty slice\n",
      "  # This is added back by InteractiveShellApp.init_path()\n",
      "C:\\ProgramData\\Anaconda3\\lib\\site-packages\\ipykernel_launcher.py:7: RuntimeWarning: Mean of empty slice\n",
      "  import sys\n",
      "C:\\ProgramData\\Anaconda3\\lib\\site-packages\\ipykernel_launcher.py:11: RuntimeWarning: Mean of empty slice\n",
      "  # This is added back by InteractiveShellApp.init_path()\n",
      "C:\\ProgramData\\Anaconda3\\lib\\site-packages\\ipykernel_launcher.py:11: RuntimeWarning: Mean of empty slice\n",
      "  # This is added back by InteractiveShellApp.init_path()\n",
      "C:\\ProgramData\\Anaconda3\\lib\\site-packages\\ipykernel_launcher.py:11: RuntimeWarning: Mean of empty slice\n",
      "  # This is added back by InteractiveShellApp.init_path()\n"
     ]
    }
   ],
   "source": [
    "stru = np.unique(metaall.Region)\n",
    "types = ['Pyr','Int']\n",
    "# stru = ['Hpc','BLA']\n",
    "for s,t in itertools.product(stru,types):\n",
    "    mask = (metaall.pInc < 0.001) & (metaall.Region == s) & (metaall.Type == t)\n",
    "    mask = list(mask)\n",
    "    psth_stru_types_u = np.nanmean(psthall[:,np.where(mask)[0]],1)\n",
    "    \n",
    "    mask = (metaall.pDec < 0.001) & (metaall.Region == s) & (metaall.Type == t)\n",
    "    mask = list(mask)\n",
    "    psth_stru_types_d = np.nanmean(psthall[:,np.where(mask)[0]],1)\n",
    "    \n",
    "    plt.figure()\n",
    "    \n",
    "    plt.suptitle(f'{s} and {t}')\n",
    "    \n",
    "    plt.subplot(1,2,1)\n",
    "    plt.title('Up-Mod')\n",
    "    plt.bar(temps,psth_stru_types_u,0.002,alpha = 0.5)\n",
    "    plt.axvline(0,color = 'r',alpha = 0.5)\n",
    "    \n",
    "    plt.xlim(-0.5,0.5)\n",
    "    \n",
    "    plt.subplot(1,2,2)\n",
    "    plt.title('Down-Mod')\n",
    "    plt.bar(temps,psth_stru_types_d,0.002,alpha = 0.5)\n",
    "    plt.axvline(0,color = 'r',alpha = 0.5)\n",
    "    plt.xlim(-0.5,0.5)\n",
    "\n",
    "    \n",
    "    plt.tight_layout()\n",
    "    save_fig('P:/Data/Figures/',f'{s}-{t}-0.002-full.svg')\n",
    "    save_fig('P:/Data/Figures/',f'{s}-{t}-0.002-full.png')\n",
    "    "
   ]
  },
  {
   "cell_type": "code",
   "execution_count": 166,
   "metadata": {},
   "outputs": [
    {
     "data": {
      "text/plain": [
       "'P:\\\\Data\\\\Figures'"
      ]
     },
     "execution_count": 166,
     "metadata": {},
     "output_type": "execute_result"
    }
   ],
   "source": [
    "os.getcwd()"
   ]
  },
  {
   "cell_type": "code",
   "execution_count": 163,
   "metadata": {},
   "outputs": [],
   "source": []
  },
  {
   "cell_type": "code",
   "execution_count": null,
   "metadata": {},
   "outputs": [],
   "source": []
  }
 ],
 "metadata": {
  "kernelspec": {
   "display_name": "Python 3",
   "language": "python",
   "name": "python3"
  },
  "language_info": {
   "codemirror_mode": {
    "name": "ipython",
    "version": 3
   },
   "file_extension": ".py",
   "mimetype": "text/x-python",
   "name": "python",
   "nbconvert_exporter": "python",
   "pygments_lexer": "ipython3",
   "version": "3.7.6"
  }
 },
 "nbformat": 4,
 "nbformat_minor": 4
}
