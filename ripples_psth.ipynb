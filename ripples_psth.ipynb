{
 "cells": [
  {
   "cell_type": "code",
   "execution_count": 1,
   "metadata": {},
   "outputs": [],
   "source": [
    "from __future__ import print_function\n",
    "from ipywidgets import interact, interactive, fixed, interact_manual\n",
    "import ipywidgets as widgets"
   ]
  },
  {
   "cell_type": "code",
   "execution_count": 2,
   "metadata": {},
   "outputs": [],
   "source": [
    "import os\n",
    "\n",
    "import bk.load\n",
    "import bk.compute\n",
    "import bk.plot\n",
    "import bk.signal\n",
    "\n",
    "import numpy as np\n",
    "import pandas as pd\n",
    "\n",
    "import scipy.signal\n",
    "import scipy.stats as ss\n",
    "import scipy.io\n",
    "\n",
    "import matplotlib.pyplot as plt\n",
    "import matplotlib as mpl\n",
    "import neuroseries as nts\n",
    "import basefunction.vBaseFunctions3\n",
    "from tqdm import tqdm\n",
    "import itertools"
   ]
  },
  {
   "cell_type": "code",
   "execution_count": 3,
   "metadata": {},
   "outputs": [],
   "source": [
    "def save_fig(folder_path,name):\n",
    "    import os\n",
    "    old_path = os.getcwd()\n",
    "    os.chdir(folder_path)\n",
    "    plt.savefig(name)\n",
    "    os.chdir(old_path)\n",
    "\n",
    "def load_ripples():\n",
    "    ripples_ = scipy.io.loadmat(f'{bk.load.session}-RippleFiring.mat')['ripples']['allsws'][0][0]\n",
    "#     ripples_ = pd.DataFrame(data = ripples,columns=['start','peak','stop'])\n",
    "    \n",
    "    columns = ['start','peak','stop']\n",
    "    \n",
    "    ripples = {}\n",
    "    for i,c in zip(range(ripples_.shape[1]),columns):\n",
    "        ripples.update({c:nts.Ts(ripples_[:,i],time_units='s')})\n",
    "    return ripples\n",
    "\n",
    "def poissonTest(baseRate,counts,time):\n",
    "    eps = np.spacing(1)\n",
    "    \n",
    "    lam = baseRate*time\n",
    "    \n",
    "    pInc = 1 - ss.poisson.cdf(counts,lam)\n",
    "    pDec = ss.poisson.cdf(counts,lam)\n",
    "    surprise = np.log((pDec+eps)/(pInc + eps))\n",
    "    return pInc,pDec,surprise\n",
    "\n",
    "def psth(neurons,stimulus,binSize,win,average = True):\n",
    "    if isinstance(neurons,nts.time_series.Tsd): \n",
    "        neurons = np.array(neurons,'object')\n",
    "    winLen = int((win[1] - win[0])/binSize)\n",
    "    window = np.arange(winLen,dtype = int)-int(winLen/2)\n",
    "    stim_bin = (stimulus/binSize).astype('int')\n",
    "    t,binned = bk.compute.binSpikes(neurons,binSize,start = 0, stop = stimulus[-1]+win[-1])\n",
    "    psth = np.empty((stimulus.size,len(neurons),winLen))\n",
    "    \n",
    "    for i,t in tqdm(enumerate(stim_bin)):\n",
    "        psth[i] = binned[:,t+window]\n",
    "    if average:    \n",
    "        psth = np.mean(psth,0).T\n",
    "    t = window*binSize\n",
    "    return t,psth\n",
    "\n",
    "# def correlogram(neuron1,neuron2,binSize,win):\n",
    "    "
   ]
  },
  {
   "cell_type": "code",
   "execution_count": 4,
   "metadata": {},
   "outputs": [],
   "source": [
    "def ripple_psth(path):  \n",
    "    \n",
    "    win = [-0.5,0.5]\n",
    "    binSize = 0.005\n",
    "    \n",
    "    \n",
    "    bk.load.current_session(path)\n",
    "    ripples = load_ripples()\n",
    "    \n",
    "    neurons,metadata = bk.load.loadSpikeData(bk.load.path)\n",
    "    \n",
    "    ripples_ = ripples['peak'].as_units('s').index.values\n",
    "    t,psth_ = psth(neurons,ripples_,binSize,win)\n",
    "    \n",
    "    states = bk.load.states()\n",
    "    states.update({'ripples':nts.IntervalSet(ripples['start'].times(),ripples['stop'].times())})\n",
    "    states.update({'outside_ripples':states['sws'].set_diff(nts.IntervalSet(states['ripples'].start-200_000,states['ripples'].end+200_000,force_no_fix=True)).drop_short_intervals(1)})\n",
    "    \n",
    "    \n",
    "    \n",
    "    pInc = np.empty(len(neurons))\n",
    "    pDec = np.empty(len(neurons))\n",
    "    surprise = np.empty(len(neurons))\n",
    "    for i,n in enumerate(neurons):\n",
    "        baseRate = len(n.restrict(states['outside_ripples']))/states['outside_ripples'].tot_length(time_units = 's')\n",
    "        count = len(n.restrict(states['ripples']))\n",
    "        time = states['ripples'].tot_length(time_units = 's')\n",
    "        \n",
    "        pInc[i],pDec[i],surprise[i] = poissonTest(baseRate,count,time)\n",
    "    \n",
    "    stats = pd.DataFrame(np.array([pInc,pDec,surprise]).T,columns=['pInc','pDec','surprise'])\n",
    "    \n",
    "    metadata = pd.concat([metadata,stats],1) \n",
    "    \n",
    "    print(metadata)\n",
    "    return t,psth_,metadata"
   ]
  },
  {
   "cell_type": "code",
   "execution_count": 4,
   "metadata": {
    "jupyter": {
     "source_hidden": true
    }
   },
   "outputs": [],
   "source": [
    "def ripple_psth_slow(path):\n",
    "    nbins = 100\n",
    "    \n",
    "    \n",
    "    bk.load.current_session(path)\n",
    "    ripples = load_ripples()\n",
    "    neurons,metadata = bk.load.loadSpikeData(bk.load.path)\n",
    "\n",
    "    win = [-0.5,0.5]\n",
    "    n_neurons = len(neurons)\n",
    "    \n",
    "    peth = np.empty((len(ripples['peak'].as_units('s').index),nbins,n_neurons))\n",
    "    \n",
    "    for i,ripple_time in tqdm(enumerate(ripples['peak'].as_units('s').index)):\n",
    "        t,binned = bk.compute.binSpikes(neurons,nbins=nbins,start = ripple_time+win[0],stop = ripple_time+win[1])\n",
    "        peth[i,:] = binned.T\n",
    "    \n",
    "    \n",
    "    states = bk.load.states()\n",
    "    states.update({'ripples':nts.IntervalSet(ripples['start'].times(),ripples['stop'].times())})\n",
    "    states.update({'outside_ripples':states['sws'].set_diff(nts.IntervalSet(states['ripples'].start-200_000,states['ripples'].end+200_000,force_no_fix=True))})\n",
    "    \n",
    "    pInc = np.empty(len(neurons))\n",
    "    pDec = np.empty(len(neurons))\n",
    "    surprise = np.empty(len(neurons))\n",
    "    for i,n in enumerate(neurons):\n",
    "        baseRate = len(n.restrict(states['outside_ripples']))/states['outside_ripples'].tot_length(time_units = 's')\n",
    "        count = len(n.restrict(states['ripples']))\n",
    "        time = states['ripples'].tot_length(time_units = 's')\n",
    "        \n",
    "        pInc[i],pDec[i],surprise[i] = poissonTest(baseRate,count,time)\n",
    "    \n",
    "    stats = pd.DataFrame(np.array([pInc,pDec,surprise]).T,columns=['pInc','pDec','surprise'])\n",
    "    \n",
    "    \n",
    "    return t,peth,metadata,stats"
   ]
  },
  {
   "cell_type": "code",
   "execution_count": 5,
   "metadata": {},
   "outputs": [
    {
     "name": "stderr",
     "output_type": "stream",
     "text": [
      "100%|█████████████████████████████████████████████████████████████████████████████████████████████| 61/61 [22:46<00:00, 22.40s/it]"
     ]
    },
    {
     "name": "stdout",
     "output_type": "stream",
     "text": [
      "Batch finished in 1366.1306083202362\n",
      "Some session were not processed correctly\n",
      "['Rat08-20130715', 'Rat08-20130718', 'Rat08-20130719', 'Rat08-20130720', 'Rat08-20130722', 'Rat09-20140324', 'Rat09-20140325', 'Rat09-20140326', 'Rat09-20140327', 'Rat09-20140328', 'Rat09-20140329', 'Rat09-20140331', 'Rat09-20140401', 'Rat09-20140402', 'Rat09-20140403', 'Rat09-20140404', 'Rat09-20140405', 'Rat09-20140407', 'Rat09-20140408', 'Rat09-20140409', 'Rat10-20140620', 'Rat11-20150323', 'Rat11-20150403']\n",
      "37.704918032786885 %\n"
     ]
    },
    {
     "name": "stderr",
     "output_type": "stream",
     "text": [
      "\n"
     ]
    }
   ],
   "source": [
    "batch = bk.load.batch(ripple_psth)\n",
    "psthall = np.hstack([batch[s][1] for s in batch])\n",
    "metaall = pd.concat([batch[s][2] for s in batch])"
   ]
  },
  {
   "cell_type": "code",
   "execution_count": 207,
   "metadata": {
    "collapsed": true,
    "jupyter": {
     "outputs_hidden": true,
     "source_hidden": true
    }
   },
   "outputs": [
    {
     "name": "stdout",
     "output_type": "stream",
     "text": [
      "Rat : 8 on day : 6\n",
      "Working with session Rat08-20130713 @ Z:\\Rat08\\Rat08-20130713\n",
      "Data already saved in Numpy format, loading them from here:\n",
      "Rat08-20130713-neurons.npy\n",
      "Rat08-20130713-metadata.npy\n"
     ]
    },
    {
     "name": "stderr",
     "output_type": "stream",
     "text": [
      "5808it [00:01, 4517.69it/s]\n"
     ]
    }
   ],
   "source": [
    "win = [-0.5,0.5]\n",
    "binSize = 0.005\n",
    "\n",
    "bk.load.current_session()\n",
    "ripples = load_ripples()\n",
    "\n",
    "neurons,metadata = bk.load.loadSpikeData(bk.load.path)\n",
    "\n",
    "ripples_ = ripples['peak'].as_units('s').index.values\n",
    "t,psth_ = psth(neurons,ripples_,binSize,win,full = True)"
   ]
  },
  {
   "cell_type": "code",
   "execution_count": 10,
   "metadata": {},
   "outputs": [],
   "source": [
    "temps = batch['Rat08-20130708'][0]"
   ]
  },
  {
   "cell_type": "code",
   "execution_count": 280,
   "metadata": {},
   "outputs": [],
   "source": [
    "%matplotlib qt"
   ]
  },
  {
   "cell_type": "code",
   "execution_count": 283,
   "metadata": {},
   "outputs": [
    {
     "data": {
      "application/vnd.jupyter.widget-view+json": {
       "model_id": "85b0ad6e36be448b9fdbee43492f009f",
       "version_major": 2,
       "version_minor": 0
      },
      "text/plain": [
       "interactive(children=(IntSlider(value=18, description='i', max=252), Output()), _dom_classes=('widget-interact…"
      ]
     },
     "metadata": {},
     "output_type": "display_data"
    }
   ],
   "source": [
    "@interact(i = (0,252))\n",
    "def plot_pp(i = 18):\n",
    "    plt.clf()\n",
    "    plt.subplot(121)\n",
    "    plt.imshow(psth_[:,i,:],aspect = 'auto')\n",
    "    plt.clim([0, 1])\n",
    "    plt.ylim([0,5000])\n",
    "    plt.subplot(122)\n",
    "    plt.bar(temps,np.mean(psth_[:,i,:],0),temps[1]-temps[0])"
   ]
  },
  {
   "cell_type": "code",
   "execution_count": 5,
   "metadata": {},
   "outputs": [
    {
     "ename": "NameError",
     "evalue": "name 'neurons' is not defined",
     "output_type": "error",
     "traceback": [
      "\u001b[1;31m---------------------------------------------------------------------------\u001b[0m",
      "\u001b[1;31mNameError\u001b[0m                                 Traceback (most recent call last)",
      "\u001b[1;32m<timed exec>\u001b[0m in \u001b[0;36m<module>\u001b[1;34m\u001b[0m\n",
      "\u001b[1;31mNameError\u001b[0m: name 'neurons' is not defined"
     ]
    }
   ],
   "source": [
    "%time t,p = psth(neurons,neurons[0].as_units('s').index.values,0.001,[-0.1,0.1])"
   ]
  },
  {
   "cell_type": "code",
   "execution_count": 6,
   "metadata": {},
   "outputs": [
    {
     "name": "stdout",
     "output_type": "stream",
     "text": [
      "Rat : 8 on day : 1\n",
      "Working with session Rat08-20130708 @ Z:\\Rat08\\Rat08-20130708\n"
     ]
    },
    {
     "data": {
      "text/plain": [
       "True"
      ]
     },
     "execution_count": 6,
     "metadata": {},
     "output_type": "execute_result"
    }
   ],
   "source": [
    "bk.load.current_session('Z:\\Rat08\\Rat08-20130708')"
   ]
  },
  {
   "cell_type": "code",
   "execution_count": 7,
   "metadata": {},
   "outputs": [
    {
     "name": "stdout",
     "output_type": "stream",
     "text": [
      "Rat : 8 on day : 1\n",
      "Working with session Rat08-20130708 @ Z:\\Rat08\\Rat08-20130708\n",
      "Data already saved in Numpy format, loading them from here:\n",
      "Rat08-20130708-neurons.npy\n",
      "Rat08-20130708-metadata.npy\n"
     ]
    },
    {
     "name": "stderr",
     "output_type": "stream",
     "text": [
      "7536it [00:00, 12162.80it/s]\n"
     ]
    },
    {
     "name": "stdout",
     "output_type": "stream",
     "text": [
      "    Rat Day Shank Id Region Type          pInc          pDec   surprise\n",
      "0     8   1     4  2    Hpc  Pyr  1.000000e+00  6.904731e-27 -36.043653\n",
      "1     8   1     4  3    Hpc  Pyr  0.000000e+00  1.000000e+00  36.043653\n",
      "2     8   1     4  4    Hpc  Int  0.000000e+00  1.000000e+00  36.043653\n",
      "3     8   1     4  5    Hpc  Pyr  0.000000e+00  1.000000e+00  36.043653\n",
      "4     8   1     4  6    Hpc  Pyr  0.000000e+00  1.000000e+00  36.043653\n",
      "..   ..  ..   ... ..    ...  ...           ...           ...        ...\n",
      "161   8   1    20  2   None  Pyr  3.168839e-01  6.831161e-01   0.768129\n",
      "162   8   1    20  3   None  Unk  9.820839e-01  1.791610e-02  -4.003977\n",
      "163   8   1    20  4   None  Unk  0.000000e+00  1.000000e+00  36.043653\n",
      "164   8   1    20  5   None  Unk  1.022152e-07  9.999999e-01  16.096186\n",
      "165   8   1    20  6   None  Int  1.360023e-13  1.000000e+00  29.624473\n",
      "\n",
      "[166 rows x 9 columns]\n"
     ]
    }
   ],
   "source": [
    "test = ripple_psth(bk.load.path)"
   ]
  },
  {
   "cell_type": "code",
   "execution_count": 12,
   "metadata": {},
   "outputs": [
    {
     "name": "stderr",
     "output_type": "stream",
     "text": [
      "C:\\ProgramData\\Anaconda3\\lib\\site-packages\\seaborn\\_decorators.py:43: FutureWarning: Pass the following variables as keyword args: x, y. From version 0.12, the only valid positional argument will be `data`, and passing other arguments without an explicit keyword will result in an error or misinterpretation.\n",
      "  FutureWarning\n"
     ]
    },
    {
     "data": {
      "text/plain": [
       "<AxesSubplot:xlabel='Region', ylabel='surprise'>"
      ]
     },
     "execution_count": 12,
     "metadata": {},
     "output_type": "execute_result"
    },
    {
     "data": {
      "image/png": "[encoded data removed]",
      "text/plain": [
       "<Figure size 432x288 with 1 Axes>"
      ]
     },
     "metadata": {
      "needs_background": "light"
     },
     "output_type": "display_data"
    }
   ],
   "source": [
    "sns.violinplot(metaall[metaall['Region'] != 'None']['Region'],metaall[metaall['Region'] != 'None']['surprise'])"
   ]
  },
  {
   "cell_type": "code",
   "execution_count": 142,
   "metadata": {},
   "outputs": [
    {
     "data": {
      "application/vnd.jupyter.widget-view+json": {
       "model_id": "e6fcbe2985134ad480b40782a499bc1b",
       "version_major": 2,
       "version_minor": 0
      },
      "text/plain": [
       "interactive(children=(Dropdown(description='stru', options=('BLA', 'BLV', 'BMA', 'BMP', 'CPu', 'CeCM', 'DEn', …"
      ]
     },
     "metadata": {},
     "output_type": "display_data"
    }
   ],
   "source": [
    "temps = batch['Rat08-20130710'][0]\n",
    "a = np.unique(metaall.Region)\n",
    "b = ['Pyr','Int']\n",
    "\n",
    "@interact(stru = a,types = b,i = (0,200,1))\n",
    "def plot(stru,types,i):\n",
    "    mask = (metaall.pInc < 0.001) & (metaall.Region == stru) & (metaall.Type == types)\n",
    "    mask = list(mask)\n",
    "    psth = psthall[:,np.where(mask)[0]]\n",
    "    meta = metaall[mask]\n",
    "\n",
    "    zscore_p = scipy.stats.zscore(psth[:,i])\n",
    "    g = scipy.signal.gaussian(10,1)\n",
    "    g = g/np.sum(g)\n",
    "    smooth_p = np.convolve(zscore_p,g,'same')\n",
    "\n",
    "    plt.figure()\n",
    "    plt.title(f'Rat : {meta.Rat.iloc[i]} Day : {meta.Day.iloc[i]} Shank : {meta.Shank.iloc[i]} Id :{meta.Id.iloc[i]}')\n",
    "    plt.bar(temps,zscore_p,temps[1]-temps[0])\n",
    "    plt.plot(temps,smooth_p,'r--')"
   ]
  },
  {
   "cell_type": "code",
   "execution_count": 201,
   "metadata": {},
   "outputs": [],
   "source": [
    "%matplotlib inline"
   ]
  },
  {
   "cell_type": "code",
   "execution_count": 191,
   "metadata": {},
   "outputs": [],
   "source": [
    "%matplotlib qt"
   ]
  },
  {
   "cell_type": "code",
   "execution_count": 124,
   "metadata": {},
   "outputs": [
    {
     "name": "stdout",
     "output_type": "stream",
     "text": [
      "Hpc Pyr\n",
      "BLA Pyr\n",
      "Pir Pyr\n"
     ]
    }
   ],
   "source": [
    "stru = np.unique(metaall.Region)\n",
    "types = ['Pyr']\n",
    "stru = ['Hpc','BLA','Pir']\n",
    "peak_times = {}\n",
    "g = scipy.signal.gaussian(100,5)\n",
    "g = g/np.sum(g)\n",
    "\n",
    "\n",
    "for s,t in itertools.product(stru,types):\n",
    "    mask = (metaall.pInc < 0.001) & (metaall.Region == s) & (metaall.Type == t)\n",
    "    mask = list(mask)\n",
    "    psth = psthall[:,np.where(mask)[0]]\n",
    "    \n",
    "    if np.sum(mask) <2:\n",
    "        continue\n",
    "#     psth_sm = scipy.signal.savgol_filter(psth,11,5,axis = 0)\n",
    "    psth_sm = np.apply_along_axis(np.convolve,0,psth,g,'same')\n",
    "\n",
    "#     plt.figure()\n",
    "#     plt.imshow(scipy.stats.zscore(psth_sm).T,extent=(-0.5,0.5,0,psth.shape[1]),aspect='auto')\n",
    "# #     plt.xticks(range(len(temps)), temps)\n",
    "#     plt.figure()\n",
    "    \n",
    "    meta  = metaall[mask]\n",
    "    peak  = np.argmax(psth_sm,0)\n",
    "    order =  np.argsort(peak)\n",
    "    print(s,t)\n",
    "    peak_times.update({f'{s}-{t}':temps[peak]})\n",
    "\n",
    "\n",
    "#     plt.imshow(scipy.stats.zscore(psth[:,order]).T,extent=(-0.5,0.5,0,psth.shape[1]),aspect='auto')\n",
    "#     plt.title(stru)\n",
    "#     plt.axvline(0,color = 'red')\n",
    "#     for i,p in enumerate(psth.T):\n",
    "#         zscore_p = scipy.stats.zscore(p)\n",
    "#         g = scipy.signal.gaussian(10,1)\n",
    "#         g = g/np.sum(g)\n",
    "#         smooth_p = np.convolve(zscore_p,g,'same')\n",
    "        \n",
    "#         plt.figure()\n",
    "#         plt.title(f'Rat : {meta.Rat.iloc[i]} Day : {meta.Day.iloc[i]} Shank : {meta.Shank.iloc[i]} Id :{meta.Id.iloc[i]}')\n",
    "#         plt.bar(temps,zscore_p,temps[1]-temps[0])\n",
    "#         plt.plot(temps,smooth_p,'r--')\n",
    "\n",
    "\n",
    "\n"
   ]
  },
  {
   "cell_type": "code",
   "execution_count": 141,
   "metadata": {},
   "outputs": [
    {
     "data": {
      "text/plain": [
       "[<matplotlib.lines.Line2D at 0x139cc13abc8>,\n",
       " <matplotlib.lines.Line2D at 0x139cc3ddd88>,\n",
       " <matplotlib.lines.Line2D at 0x139cc3f4288>,\n",
       " <matplotlib.lines.Line2D at 0x139cc3f4308>,\n",
       " <matplotlib.lines.Line2D at 0x139cc3f44c8>,\n",
       " <matplotlib.lines.Line2D at 0x139cc3f4688>,\n",
       " <matplotlib.lines.Line2D at 0x139cc3f47c8>,\n",
       " <matplotlib.lines.Line2D at 0x139cc3f4948>,\n",
       " <matplotlib.lines.Line2D at 0x139cc3f4448>,\n",
       " <matplotlib.lines.Line2D at 0x139cc3f4608>,\n",
       " <matplotlib.lines.Line2D at 0x139cc3c7e88>,\n",
       " <matplotlib.lines.Line2D at 0x139cc3f4e88>,\n",
       " <matplotlib.lines.Line2D at 0x139cc3fa048>,\n",
       " <matplotlib.lines.Line2D at 0x139cc3fa1c8>,\n",
       " <matplotlib.lines.Line2D at 0x139cc3fa348>,\n",
       " <matplotlib.lines.Line2D at 0x139cc3fa4c8>,\n",
       " <matplotlib.lines.Line2D at 0x139cc3fa648>,\n",
       " <matplotlib.lines.Line2D at 0x139cc3fa7c8>,\n",
       " <matplotlib.lines.Line2D at 0x139cc3fa948>,\n",
       " <matplotlib.lines.Line2D at 0x139cc3faac8>,\n",
       " <matplotlib.lines.Line2D at 0x139cc3fac48>,\n",
       " <matplotlib.lines.Line2D at 0x139cc3fadc8>,\n",
       " <matplotlib.lines.Line2D at 0x139cc3faf48>,\n",
       " <matplotlib.lines.Line2D at 0x139cc3ff108>,\n",
       " <matplotlib.lines.Line2D at 0x139cc3ff288>,\n",
       " <matplotlib.lines.Line2D at 0x139cc3ff408>,\n",
       " <matplotlib.lines.Line2D at 0x139cc3ff588>,\n",
       " <matplotlib.lines.Line2D at 0x139cc3ff708>,\n",
       " <matplotlib.lines.Line2D at 0x139cc3ff888>,\n",
       " <matplotlib.lines.Line2D at 0x139cc3ffa08>,\n",
       " <matplotlib.lines.Line2D at 0x139cc3ffb88>,\n",
       " <matplotlib.lines.Line2D at 0x139cc3ffd08>,\n",
       " <matplotlib.lines.Line2D at 0x139cc3ffe88>,\n",
       " <matplotlib.lines.Line2D at 0x139cc403048>,\n",
       " <matplotlib.lines.Line2D at 0x139cc4031c8>,\n",
       " <matplotlib.lines.Line2D at 0x139cc403348>,\n",
       " <matplotlib.lines.Line2D at 0x139cc4034c8>,\n",
       " <matplotlib.lines.Line2D at 0x139cc403648>,\n",
       " <matplotlib.lines.Line2D at 0x139cc4037c8>,\n",
       " <matplotlib.lines.Line2D at 0x139cc403948>,\n",
       " <matplotlib.lines.Line2D at 0x139cc403ac8>,\n",
       " <matplotlib.lines.Line2D at 0x139cc403c48>,\n",
       " <matplotlib.lines.Line2D at 0x139cc403dc8>,\n",
       " <matplotlib.lines.Line2D at 0x139cc403f48>,\n",
       " <matplotlib.lines.Line2D at 0x139cc407108>,\n",
       " <matplotlib.lines.Line2D at 0x139cc407288>,\n",
       " <matplotlib.lines.Line2D at 0x139cc407408>,\n",
       " <matplotlib.lines.Line2D at 0x139cc407588>,\n",
       " <matplotlib.lines.Line2D at 0x139cc407708>,\n",
       " <matplotlib.lines.Line2D at 0x139cc407888>,\n",
       " <matplotlib.lines.Line2D at 0x139cc407a08>,\n",
       " <matplotlib.lines.Line2D at 0x139cc407b88>,\n",
       " <matplotlib.lines.Line2D at 0x139cc407d08>,\n",
       " <matplotlib.lines.Line2D at 0x139cc407e88>,\n",
       " <matplotlib.lines.Line2D at 0x139cc40b048>]"
      ]
     },
     "execution_count": 141,
     "metadata": {},
     "output_type": "execute_result"
    }
   ],
   "source": [
    "plt."
   ]
  },
  {
   "cell_type": "code",
   "execution_count": 136,
   "metadata": {},
   "outputs": [
    {
     "data": {
      "text/plain": [
       "(55,)"
      ]
     },
     "execution_count": 136,
     "metadata": {},
     "output_type": "execute_result"
    }
   ],
   "source": [
    "peak.shape"
   ]
  },
  {
   "cell_type": "code",
   "execution_count": 122,
   "metadata": {},
   "outputs": [
    {
     "data": {
      "text/plain": [
       "<matplotlib.image.AxesImage at 0x139c143ae88>"
      ]
     },
     "execution_count": 122,
     "metadata": {},
     "output_type": "execute_result"
    }
   ],
   "source": [
    "plt.imshow(psth_sm[peak])"
   ]
  },
  {
   "cell_type": "code",
   "execution_count": 115,
   "metadata": {},
   "outputs": [
    {
     "data": {
      "text/plain": [
       "(21, 21)"
      ]
     },
     "execution_count": 115,
     "metadata": {},
     "output_type": "execute_result"
    }
   ],
   "source": [
    "peak_v.shape"
   ]
  },
  {
   "cell_type": "code",
   "execution_count": 114,
   "metadata": {},
   "outputs": [
    {
     "data": {
      "text/plain": [
       "(200, 21)"
      ]
     },
     "execution_count": 114,
     "metadata": {},
     "output_type": "execute_result"
    }
   ],
   "source": []
  },
  {
   "cell_type": "code",
   "execution_count": 90,
   "metadata": {},
   "outputs": [
    {
     "data": {
      "text/plain": [
       "-0.005"
      ]
     },
     "execution_count": 90,
     "metadata": {},
     "output_type": "execute_result"
    }
   ],
   "source": [
    "temps[peak]"
   ]
  },
  {
   "cell_type": "code",
   "execution_count": 109,
   "metadata": {},
   "outputs": [],
   "source": [
    "import seaborn as sns"
   ]
  },
  {
   "cell_type": "code",
   "execution_count": 110,
   "metadata": {},
   "outputs": [],
   "source": [
    "df = pd.DataFrame.from_dict(peak_times, orient='index').T"
   ]
  },
  {
   "cell_type": "code",
   "execution_count": 111,
   "metadata": {},
   "outputs": [],
   "source": [
    "%matplotlib qt"
   ]
  },
  {
   "cell_type": "code",
   "execution_count": 112,
   "metadata": {},
   "outputs": [
    {
     "data": {
      "text/plain": [
       "<matplotlib.lines.Line2D at 0x139c83c2fc8>"
      ]
     },
     "execution_count": 112,
     "metadata": {},
     "output_type": "execute_result"
    }
   ],
   "source": [
    "plt.title('Peak PSTH relative to ripples peak')\n",
    "sns.violinplot(data = df)\n",
    "plt.ylabel('Time(s)')\n",
    "plt.axhline(0,color = 'r')"
   ]
  },
  {
   "cell_type": "code",
   "execution_count": 80,
   "metadata": {},
   "outputs": [
    {
     "name": "stdout",
     "output_type": "stream",
     "text": [
      "Hpc-Pyr -0.0036995753715498942\n",
      "BLA-Pyr 0.03364516129032258\n",
      "Pir-Pyr 0.06418181818181817\n"
     ]
    }
   ],
   "source": [
    "for key in peak_times:\n",
    "    print(key,np.mean(peak_times[key]))"
   ]
  },
  {
   "cell_type": "code",
   "execution_count": 39,
   "metadata": {},
   "outputs": [
    {
     "ename": "NameError",
     "evalue": "name 'data' is not defined",
     "output_type": "error",
     "traceback": [
      "\u001b[1;31m---------------------------------------------------------------------------\u001b[0m",
      "\u001b[1;31mNameError\u001b[0m                                 Traceback (most recent call last)",
      "\u001b[1;32m<ipython-input-39-305e9ed5d43c>\u001b[0m in \u001b[0;36m<module>\u001b[1;34m\u001b[0m\n\u001b[1;32m----> 1\u001b[1;33m \u001b[0mpd\u001b[0m\u001b[1;33m.\u001b[0m\u001b[0misna\u001b[0m\u001b[1;33m(\u001b[0m\u001b[0mnp\u001b[0m\u001b[1;33m.\u001b[0m\u001b[0marray\u001b[0m\u001b[1;33m(\u001b[0m\u001b[0mdata\u001b[0m\u001b[1;33m)\u001b[0m\u001b[1;33m)\u001b[0m\u001b[1;33m\u001b[0m\u001b[1;33m\u001b[0m\u001b[0m\n\u001b[0m",
      "\u001b[1;31mNameError\u001b[0m: name 'data' is not defined"
     ]
    }
   ],
   "source": [
    "pd.isna(np.array(data))"
   ]
  },
  {
   "cell_type": "code",
   "execution_count": null,
   "metadata": {},
   "outputs": [],
   "source": [
    "stru = np.unique(metaall.Region)\n",
    "types = ['Pyr','Int']\n",
    "stru = ['Hpc','BLA']\n",
    "for s,t in itertools.product(stru,types):\n",
    "    mask = (metaall.pInc < 0.001) & (metaall.Region == s) & (metaall.Type == t)\n",
    "    mask = list(mask)\n",
    "    \n",
    "    psth_stru_types_u = np.nanmean(psthall[:,np.where(mask)[0]],1)\n",
    "    \n",
    "    mask = (metaall.pDec < 0.001) & (metaall.Region == s) & (metaall.Type == t)\n",
    "    mask = list(mask)\n",
    "    psth_stru_types_d = np.nanmean(psthall[:,np.where(mask)[0]],1)\n",
    "    \n",
    "    plt.figure()\n",
    "    \n",
    "    plt.suptitle(f'{s} and {t}')\n",
    "    \n",
    "    plt.subplot(1,2,1)\n",
    "    plt.title('Up-Mod')\n",
    "    plt.bar(temps,psth_stru_types_u,0.002,alpha = 0.5)\n",
    "    plt.axvline(0,color = 'r',alpha = 0.5)\n",
    "    \n",
    "    plt.xlim(-0.5,0.5)\n",
    "    \n",
    "    plt.subplot(1,2,2)\n",
    "    plt.title('Down-Mod')\n",
    "    plt.bar(temps,psth_stru_types_d,0.002,alpha = 0.5)\n",
    "    plt.axvline(0,color = 'r',alpha = 0.5)\n",
    "    plt.xlim(-0.5,0.5)\n",
    "\n",
    "    \n",
    "    plt.tight_layout()\n",
    "#     save_fig('P:/Data/Figures/',f'{s}-{t}-0.002-full.svg')\n",
    "#     save_fig('P:/Data/Figures/',f'{s}-{t}-0.002-full.png')\n",
    "    "
   ]
  }
 ],
 "metadata": {
  "kernelspec": {
   "display_name": "Python 3",
   "language": "python",
   "name": "python3"
  },
  "language_info": {
   "codemirror_mode": {
    "name": "ipython",
    "version": 3
   },
   "file_extension": ".py",
   "mimetype": "text/x-python",
   "name": "python",
   "nbconvert_exporter": "python",
   "pygments_lexer": "ipython3",
   "version": "3.7.6"
  }
 },
 "nbformat": 4,
 "nbformat_minor": 4
}
