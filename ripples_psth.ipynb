{
 "cells": [
  {
   "cell_type": "code",
   "execution_count": 197,
   "metadata": {},
   "outputs": [],
   "source": [
    "import os\n",
    "\n",
    "import bk.load\n",
    "import bk.compute\n",
    "import bk.plot\n",
    "import bk.signal\n",
    "\n",
    "import numpy as np\n",
    "import pandas as pd\n",
    "\n",
    "import scipy.signal\n",
    "import scipy.stats as ss\n",
    "import scipy.io\n",
    "\n",
    "import matplotlib.pyplot as plt\n",
    "import matplotlib as mpl\n",
    "import neuroseries as nts\n",
    "\n",
    "from tqdm import tqdm"
   ]
  },
  {
   "cell_type": "code",
   "execution_count": 198,
   "metadata": {},
   "outputs": [],
   "source": [
    "def poissonTest(baseRate,counts,time):\n",
    "    eps = np.spacing(1)\n",
    "    \n",
    "    lam = baseRate*time\n",
    "    \n",
    "    pInc = 1 - ss.poisson.cdf(counts,lam)\n",
    "    pDec = ss.poisson.cdf(counts,lam)\n",
    "    surprise = np.log((pDec+eps)/(pInc + eps))\n",
    "    return pInc,pDec,surprise"
   ]
  },
  {
   "cell_type": "code",
   "execution_count": 199,
   "metadata": {},
   "outputs": [],
   "source": [
    "def load_ripples():\n",
    "    ripples_ = scipy.io.loadmat(f'{bk.load.session}-RippleFiring.mat')['ripples']['allsws'][0][0]\n",
    "#     ripples_ = pd.DataFrame(data = ripples,columns=['start','peak','stop'])\n",
    "    \n",
    "    columns = ['start','peak','stop']\n",
    "    \n",
    "    ripples = {}\n",
    "    for i,c in zip(range(ripples_.shape[1]),columns):\n",
    "        ripples.update({c:nts.Ts(ripples_[:,i],time_units='s')})\n",
    "    return ripples\n",
    "\n",
    "def ripple_psth(path):\n",
    "    nbins = 100\n",
    "    \n",
    "    \n",
    "    bk.load.current_session(path)\n",
    "    ripples = load_ripples()\n",
    "    neurons,metadata = bk.load.loadSpikeData(bk.load.path)\n",
    "\n",
    "    win = [-0.5,0.5]\n",
    "    n_neurons = len(neurons)\n",
    "    \n",
    "    peth = np.empty((len(ripples['peak'].as_units('s').index),nbins,n_neurons))\n",
    "    \n",
    "    for i,ripple_time in tqdm(enumerate(ripples['peak'].as_units('s').index)):\n",
    "        t,binned = bk.compute.binSpikes(neurons,nbins=nbins,start = ripple_time+win[0],stop = ripple_time+win[1])\n",
    "        peth[i,:] = binned.T\n",
    "    \n",
    "    \n",
    "    states = bk.load.states()\n",
    "    states.update({'ripples':nts.IntervalSet(ripples['start'].times(),ripples['stop'].times())})\n",
    "    states.update({'outside_ripples':states['sws'].set_diff(nts.IntervalSet(states['ripples'].start-200_000,states['ripples'].end+200_000,force_no_fix=True))})\n",
    "    \n",
    "    pInc = np.empty(len(neurons))\n",
    "    pDec = np.empty(len(neurons))\n",
    "    surprise = np.empty(len(neurons))\n",
    "    for i,n in enumerate(neurons):\n",
    "        baseRate = len(n.restrict(states['outside_ripples']))/states['outside_ripples'].tot_length(time_units = 's')\n",
    "        count = len(n.restrict(states['ripples']))\n",
    "        time = states['ripples'].tot_length(time_units = 's')\n",
    "        \n",
    "        pInc[i],pDec[i],surprise[i] = poissonTest(baseRate,count,time)\n",
    "    \n",
    "    stats = pd.DataFrame(np.array([pInc,pDec,surprise]).T,columns=['pInc','pDec','surprise'])\n",
    "    \n",
    "    \n",
    "    return t,peth,metadata,stats"
   ]
  },
  {
   "cell_type": "code",
   "execution_count": 292,
   "metadata": {},
   "outputs": [],
   "source": [
    "prepost = np.arange(taLen,dtype=int)"
   ]
  },
  {
   "cell_type": "code",
   "execution_count": 293,
   "metadata": {},
   "outputs": [
    {
     "data": {
      "text/plain": [
       "array([  0,   1,   2,   3,   4,   5,   6,   7,   8,   9,  10,  11,  12,\n",
       "        13,  14,  15,  16,  17,  18,  19,  20,  21,  22,  23,  24,  25,\n",
       "        26,  27,  28,  29,  30,  31,  32,  33,  34,  35,  36,  37,  38,\n",
       "        39,  40,  41,  42,  43,  44,  45,  46,  47,  48,  49,  50,  51,\n",
       "        52,  53,  54,  55,  56,  57,  58,  59,  60,  61,  62,  63,  64,\n",
       "        65,  66,  67,  68,  69,  70,  71,  72,  73,  74,  75,  76,  77,\n",
       "        78,  79,  80,  81,  82,  83,  84,  85,  86,  87,  88,  89,  90,\n",
       "        91,  92,  93,  94,  95,  96,  97,  98,  99, 100, 101, 102, 103,\n",
       "       104, 105, 106, 107, 108, 109, 110, 111, 112, 113, 114, 115, 116,\n",
       "       117, 118, 119, 120, 121, 122, 123, 124, 125, 126, 127, 128, 129,\n",
       "       130, 131, 132, 133, 134, 135, 136, 137, 138, 139, 140, 141, 142,\n",
       "       143, 144, 145, 146, 147, 148, 149, 150, 151, 152, 153, 154, 155,\n",
       "       156, 157, 158, 159, 160, 161, 162, 163, 164, 165, 166, 167, 168,\n",
       "       169, 170, 171, 172, 173, 174, 175, 176, 177, 178, 179, 180, 181,\n",
       "       182, 183, 184, 185, 186, 187, 188, 189, 190, 191, 192, 193, 194,\n",
       "       195, 196, 197, 198, 199, 200, 201, 202, 203, 204, 205, 206, 207,\n",
       "       208, 209, 210, 211, 212, 213, 214, 215, 216, 217, 218, 219, 220,\n",
       "       221, 222, 223, 224, 225, 226, 227, 228, 229, 230, 231, 232, 233,\n",
       "       234, 235, 236, 237, 238, 239, 240, 241, 242, 243, 244, 245, 246,\n",
       "       247, 248, 249, 250, 251, 252, 253, 254, 255, 256, 257, 258, 259,\n",
       "       260, 261, 262, 263, 264, 265, 266, 267, 268, 269, 270, 271, 272,\n",
       "       273, 274, 275, 276, 277, 278, 279, 280, 281, 282, 283, 284, 285,\n",
       "       286, 287, 288, 289, 290, 291, 292, 293, 294, 295, 296, 297, 298,\n",
       "       299, 300, 301, 302, 303, 304, 305, 306, 307, 308, 309, 310, 311,\n",
       "       312, 313, 314, 315, 316, 317, 318, 319, 320, 321, 322, 323, 324,\n",
       "       325, 326, 327, 328, 329, 330, 331, 332, 333, 334, 335, 336, 337,\n",
       "       338, 339, 340, 341, 342, 343, 344, 345, 346, 347, 348, 349, 350,\n",
       "       351, 352, 353, 354, 355, 356, 357, 358, 359, 360, 361, 362, 363,\n",
       "       364, 365, 366, 367, 368, 369, 370, 371, 372, 373, 374, 375, 376,\n",
       "       377, 378, 379, 380, 381, 382, 383, 384, 385, 386, 387, 388, 389,\n",
       "       390, 391, 392, 393, 394, 395, 396, 397, 398, 399, 400, 401, 402,\n",
       "       403, 404, 405, 406, 407, 408, 409, 410, 411, 412, 413, 414, 415,\n",
       "       416, 417, 418, 419, 420, 421, 422, 423, 424, 425, 426, 427, 428,\n",
       "       429, 430, 431, 432, 433, 434, 435, 436, 437, 438, 439, 440, 441,\n",
       "       442, 443, 444, 445, 446, 447, 448, 449, 450, 451, 452, 453, 454,\n",
       "       455, 456, 457, 458, 459, 460, 461, 462, 463, 464, 465, 466, 467,\n",
       "       468, 469, 470, 471, 472, 473, 474, 475, 476, 477, 478, 479, 480,\n",
       "       481, 482, 483, 484, 485, 486, 487, 488, 489, 490, 491, 492, 493,\n",
       "       494, 495, 496, 497, 498, 499])"
      ]
     },
     "execution_count": 293,
     "metadata": {},
     "output_type": "execute_result"
    }
   ],
   "source": [
    "prepost"
   ]
  },
  {
   "cell_type": "code",
   "execution_count": 289,
   "metadata": {},
   "outputs": [],
   "source": [
    "taLen = 500"
   ]
  },
  {
   "cell_type": "code",
   "execution_count": 200,
   "metadata": {},
   "outputs": [
    {
     "name": "stdout",
     "output_type": "stream",
     "text": [
      "Rat : 8 on day : 6\n",
      "Working with session Rat08-20130713 @ Z:\\Rat08\\Rat08-20130713\n"
     ]
    },
    {
     "data": {
      "text/plain": [
       "True"
      ]
     },
     "execution_count": 200,
     "metadata": {},
     "output_type": "execute_result"
    }
   ],
   "source": [
    "bk.load.current_session()"
   ]
  },
  {
   "cell_type": "code",
   "execution_count": 337,
   "metadata": {},
   "outputs": [
    {
     "data": {
      "text/html": [
       "<div>\n",
       "<style scoped>\n",
       "    .dataframe tbody tr th:only-of-type {\n",
       "        vertical-align: middle;\n",
       "    }\n",
       "\n",
       "    .dataframe tbody tr th {\n",
       "        vertical-align: top;\n",
       "    }\n",
       "\n",
       "    .dataframe thead th {\n",
       "        text-align: right;\n",
       "    }\n",
       "</style>\n",
       "<table border=\"1\" class=\"dataframe\">\n",
       "  <thead>\n",
       "    <tr style=\"text-align: right;\">\n",
       "      <th></th>\n",
       "      <th>pInc</th>\n",
       "      <th>pDec</th>\n",
       "      <th>surprise</th>\n",
       "    </tr>\n",
       "  </thead>\n",
       "  <tbody>\n",
       "    <tr>\n",
       "      <th>0</th>\n",
       "      <td>0.000000e+00</td>\n",
       "      <td>1.000000</td>\n",
       "      <td>36.043653</td>\n",
       "    </tr>\n",
       "    <tr>\n",
       "      <th>1</th>\n",
       "      <td>1.670886e-13</td>\n",
       "      <td>1.000000</td>\n",
       "      <td>29.418924</td>\n",
       "    </tr>\n",
       "    <tr>\n",
       "      <th>2</th>\n",
       "      <td>0.000000e+00</td>\n",
       "      <td>1.000000</td>\n",
       "      <td>36.043653</td>\n",
       "    </tr>\n",
       "    <tr>\n",
       "      <th>3</th>\n",
       "      <td>0.000000e+00</td>\n",
       "      <td>1.000000</td>\n",
       "      <td>36.043653</td>\n",
       "    </tr>\n",
       "    <tr>\n",
       "      <th>4</th>\n",
       "      <td>0.000000e+00</td>\n",
       "      <td>1.000000</td>\n",
       "      <td>36.043653</td>\n",
       "    </tr>\n",
       "    <tr>\n",
       "      <th>...</th>\n",
       "      <td>...</td>\n",
       "      <td>...</td>\n",
       "      <td>...</td>\n",
       "    </tr>\n",
       "    <tr>\n",
       "      <th>247</th>\n",
       "      <td>9.993548e-01</td>\n",
       "      <td>0.000645</td>\n",
       "      <td>-7.345331</td>\n",
       "    </tr>\n",
       "    <tr>\n",
       "      <th>248</th>\n",
       "      <td>8.843166e-01</td>\n",
       "      <td>0.115683</td>\n",
       "      <td>-2.033958</td>\n",
       "    </tr>\n",
       "    <tr>\n",
       "      <th>249</th>\n",
       "      <td>1.951515e-01</td>\n",
       "      <td>0.804848</td>\n",
       "      <td>1.416878</td>\n",
       "    </tr>\n",
       "    <tr>\n",
       "      <th>250</th>\n",
       "      <td>2.487088e-01</td>\n",
       "      <td>0.751291</td>\n",
       "      <td>1.105511</td>\n",
       "    </tr>\n",
       "    <tr>\n",
       "      <th>251</th>\n",
       "      <td>9.978848e-01</td>\n",
       "      <td>0.002115</td>\n",
       "      <td>-6.156488</td>\n",
       "    </tr>\n",
       "  </tbody>\n",
       "</table>\n",
       "<p>252 rows × 3 columns</p>\n",
       "</div>"
      ],
      "text/plain": [
       "             pInc      pDec   surprise\n",
       "0    0.000000e+00  1.000000  36.043653\n",
       "1    1.670886e-13  1.000000  29.418924\n",
       "2    0.000000e+00  1.000000  36.043653\n",
       "3    0.000000e+00  1.000000  36.043653\n",
       "4    0.000000e+00  1.000000  36.043653\n",
       "..            ...       ...        ...\n",
       "247  9.993548e-01  0.000645  -7.345331\n",
       "248  8.843166e-01  0.115683  -2.033958\n",
       "249  1.951515e-01  0.804848   1.416878\n",
       "250  2.487088e-01  0.751291   1.105511\n",
       "251  9.978848e-01  0.002115  -6.156488\n",
       "\n",
       "[252 rows x 3 columns]"
      ]
     },
     "execution_count": 337,
     "metadata": {},
     "output_type": "execute_result"
    }
   ],
   "source": [
    "plt.batch['Rat08-20130713'][3]"
   ]
  },
  {
   "cell_type": "code",
   "execution_count": 349,
   "metadata": {},
   "outputs": [
    {
     "data": {
      "text/plain": [
       "[<matplotlib.lines.Line2D at 0x11d3709d1c8>]"
      ]
     },
     "execution_count": 349,
     "metadata": {},
     "output_type": "execute_result"
    },
    {
     "data": {
      "image/png": "[encoded data removed]",
      "text/plain": [
       "<Figure size 432x288 with 1 Axes>"
      ]
     },
     "metadata": {
      "needs_background": "light"
     },
     "output_type": "display_data"
    }
   ],
   "source": [
    "plt.plot(np.mean(batch['Rat08-20130713'][1][:,:,0],0))"
   ]
  },
  {
   "cell_type": "code",
   "execution_count": 366,
   "metadata": {},
   "outputs": [],
   "source": [
    "mask = metadata.Region == 'Pir'"
   ]
  },
  {
   "cell_type": "code",
   "execution_count": 367,
   "metadata": {},
   "outputs": [
    {
     "data": {
      "text/plain": [
       "[<matplotlib.lines.Line2D at 0x11d3ccbba48>,\n",
       " <matplotlib.lines.Line2D at 0x11d3cc87f88>,\n",
       " <matplotlib.lines.Line2D at 0x11d3cc9e488>,\n",
       " <matplotlib.lines.Line2D at 0x11d3cc9eb08>,\n",
       " <matplotlib.lines.Line2D at 0x11d3cc8e188>,\n",
       " <matplotlib.lines.Line2D at 0x11d3cc8ea08>,\n",
       " <matplotlib.lines.Line2D at 0x11d3cc8ef48>,\n",
       " <matplotlib.lines.Line2D at 0x11d3cc91c88>,\n",
       " <matplotlib.lines.Line2D at 0x11d3cc9ef48>,\n",
       " <matplotlib.lines.Line2D at 0x11d3cc8e688>,\n",
       " <matplotlib.lines.Line2D at 0x11d3cdbec08>,\n",
       " <matplotlib.lines.Line2D at 0x11d3cca28c8>,\n",
       " <matplotlib.lines.Line2D at 0x11d3cca80c8>,\n",
       " <matplotlib.lines.Line2D at 0x11d3cca87c8>,\n",
       " <matplotlib.lines.Line2D at 0x11d3cca8b08>,\n",
       " <matplotlib.lines.Line2D at 0x11d3e700488>,\n",
       " <matplotlib.lines.Line2D at 0x11d3e700548>,\n",
       " <matplotlib.lines.Line2D at 0x11d3e700988>,\n",
       " <matplotlib.lines.Line2D at 0x11d3e701488>,\n",
       " <matplotlib.lines.Line2D at 0x11d3e701ac8>,\n",
       " <matplotlib.lines.Line2D at 0x11d3e701f48>,\n",
       " <matplotlib.lines.Line2D at 0x11d3e6e0588>,\n",
       " <matplotlib.lines.Line2D at 0x11d3e6e0b48>,\n",
       " <matplotlib.lines.Line2D at 0x11d3e6d4448>,\n",
       " <matplotlib.lines.Line2D at 0x11d3e6d4f08>,\n",
       " <matplotlib.lines.Line2D at 0x11d3e6d4d48>,\n",
       " <matplotlib.lines.Line2D at 0x11d3e6d5488>,\n",
       " <matplotlib.lines.Line2D at 0x11d3e6d5ec8>,\n",
       " <matplotlib.lines.Line2D at 0x11d3e6d6388>,\n",
       " <matplotlib.lines.Line2D at 0x11d3e6d6c08>,\n",
       " <matplotlib.lines.Line2D at 0x11d3e709248>,\n",
       " <matplotlib.lines.Line2D at 0x11d3e7094c8>,\n",
       " <matplotlib.lines.Line2D at 0x11d3e709e88>,\n",
       " <matplotlib.lines.Line2D at 0x11d3e6e4408>,\n",
       " <matplotlib.lines.Line2D at 0x11d3e6e4c88>,\n",
       " <matplotlib.lines.Line2D at 0x11d3e6f95c8>,\n",
       " <matplotlib.lines.Line2D at 0x11d3e6f9c08>,\n",
       " <matplotlib.lines.Line2D at 0x11d3e6ee1c8>,\n",
       " <matplotlib.lines.Line2D at 0x11d3e6ee688>,\n",
       " <matplotlib.lines.Line2D at 0x11d3e6eeac8>,\n",
       " <matplotlib.lines.Line2D at 0x11d3e6d8448>,\n",
       " <matplotlib.lines.Line2D at 0x11d3e6d88c8>,\n",
       " <matplotlib.lines.Line2D at 0x11d3e6e7088>,\n",
       " <matplotlib.lines.Line2D at 0x11d3e6e7888>,\n",
       " <matplotlib.lines.Line2D at 0x11d3e6e7f88>,\n",
       " <matplotlib.lines.Line2D at 0x11d3e6ea2c8>,\n",
       " <matplotlib.lines.Line2D at 0x11d3e6eabc8>,\n",
       " <matplotlib.lines.Line2D at 0x11d3e6dd4c8>,\n",
       " <matplotlib.lines.Line2D at 0x11d3e6dde88>,\n",
       " <matplotlib.lines.Line2D at 0x11d3e6dd408>,\n",
       " <matplotlib.lines.Line2D at 0x11d3e6fd208>,\n",
       " <matplotlib.lines.Line2D at 0x11d3e6fd9c8>,\n",
       " <matplotlib.lines.Line2D at 0x11d3e6fdec8>,\n",
       " <matplotlib.lines.Line2D at 0x11d3e6f2448>,\n",
       " <matplotlib.lines.Line2D at 0x11d3e6f2988>,\n",
       " <matplotlib.lines.Line2D at 0x11d3e6f41c8>,\n",
       " <matplotlib.lines.Line2D at 0x11d3e6f4808>,\n",
       " <matplotlib.lines.Line2D at 0x11d3e6f4dc8>,\n",
       " <matplotlib.lines.Line2D at 0x11d3e481588>,\n",
       " <matplotlib.lines.Line2D at 0x11d3e481cc8>,\n",
       " <matplotlib.lines.Line2D at 0x11d3e488448>,\n",
       " <matplotlib.lines.Line2D at 0x11d3e488b48>,\n",
       " <matplotlib.lines.Line2D at 0x11d3e462108>,\n",
       " <matplotlib.lines.Line2D at 0x11d3e4625c8>,\n",
       " <matplotlib.lines.Line2D at 0x11d3e462d88>,\n",
       " <matplotlib.lines.Line2D at 0x11d3e463348>,\n",
       " <matplotlib.lines.Line2D at 0x11d3e463c88>,\n",
       " <matplotlib.lines.Line2D at 0x11d3e494348>,\n",
       " <matplotlib.lines.Line2D at 0x11d3e494788>,\n",
       " <matplotlib.lines.Line2D at 0x11d3e494e88>,\n",
       " <matplotlib.lines.Line2D at 0x11d3e46c548>,\n",
       " <matplotlib.lines.Line2D at 0x11d3e46cb88>,\n",
       " <matplotlib.lines.Line2D at 0x11d3e483388>,\n",
       " <matplotlib.lines.Line2D at 0x11d3e483bc8>,\n",
       " <matplotlib.lines.Line2D at 0x11d3e483ec8>,\n",
       " <matplotlib.lines.Line2D at 0x11d3e4703c8>]"
      ]
     },
     "execution_count": 367,
     "metadata": {},
     "output_type": "execute_result"
    },
    {
     "data": {
      "image/png": "[encoded data removed]",
      "text/plain": [
       "<Figure size 432x288 with 1 Axes>"
      ]
     },
     "metadata": {
      "needs_background": "light"
     },
     "output_type": "display_data"
    }
   ],
   "source": [
    "plt.plot(t,np.mean(a,0)[mask].T)"
   ]
  },
  {
   "cell_type": "code",
   "execution_count": 328,
   "metadata": {},
   "outputs": [
    {
     "name": "stdout",
     "output_type": "stream",
     "text": [
      "Data already saved in Numpy format, loading them from here:\n",
      "Rat08-20130713-neurons.npy\n",
      "Rat08-20130713-metadata.npy\n"
     ]
    },
    {
     "data": {
      "text/plain": [
       "[<matplotlib.lines.Line2D at 0x11d42822748>,\n",
       " <matplotlib.lines.Line2D at 0x11d42814488>,\n",
       " <matplotlib.lines.Line2D at 0x11d428036c8>,\n",
       " <matplotlib.lines.Line2D at 0x11d42803208>,\n",
       " <matplotlib.lines.Line2D at 0x11d428030c8>,\n",
       " <matplotlib.lines.Line2D at 0x11d427ffc88>,\n",
       " <matplotlib.lines.Line2D at 0x11d427ff9c8>,\n",
       " <matplotlib.lines.Line2D at 0x11d427ff408>,\n",
       " <matplotlib.lines.Line2D at 0x11d42803108>,\n",
       " <matplotlib.lines.Line2D at 0x11d427ffe48>,\n",
       " <matplotlib.lines.Line2D at 0x11d4284d508>,\n",
       " <matplotlib.lines.Line2D at 0x11d427f9a88>,\n",
       " <matplotlib.lines.Line2D at 0x11d427f9808>,\n",
       " <matplotlib.lines.Line2D at 0x11d427f94c8>,\n",
       " <matplotlib.lines.Line2D at 0x11d427f90c8>,\n",
       " <matplotlib.lines.Line2D at 0x11d427f5ac8>,\n",
       " <matplotlib.lines.Line2D at 0x11d427f59c8>,\n",
       " <matplotlib.lines.Line2D at 0x11d427f5748>,\n",
       " <matplotlib.lines.Line2D at 0x11d427f5408>,\n",
       " <matplotlib.lines.Line2D at 0x11d427f2fc8>,\n",
       " <matplotlib.lines.Line2D at 0x11d427f2a08>,\n",
       " <matplotlib.lines.Line2D at 0x11d427f2908>,\n",
       " <matplotlib.lines.Line2D at 0x11d427f2688>,\n",
       " <matplotlib.lines.Line2D at 0x11d427f2348>,\n",
       " <matplotlib.lines.Line2D at 0x11d427eef08>,\n",
       " <matplotlib.lines.Line2D at 0x11d427ee948>,\n",
       " <matplotlib.lines.Line2D at 0x11d427ee848>,\n",
       " <matplotlib.lines.Line2D at 0x11d427ee5c8>,\n",
       " <matplotlib.lines.Line2D at 0x11d427ee288>,\n",
       " <matplotlib.lines.Line2D at 0x11d427e8e48>,\n",
       " <matplotlib.lines.Line2D at 0x11d427e8888>,\n",
       " <matplotlib.lines.Line2D at 0x11d427e8788>,\n",
       " <matplotlib.lines.Line2D at 0x11d427e8508>,\n",
       " <matplotlib.lines.Line2D at 0x11d427e81c8>,\n",
       " <matplotlib.lines.Line2D at 0x11d427e6d88>,\n",
       " <matplotlib.lines.Line2D at 0x11d427e67c8>,\n",
       " <matplotlib.lines.Line2D at 0x11d427e66c8>,\n",
       " <matplotlib.lines.Line2D at 0x11d427e6448>,\n",
       " <matplotlib.lines.Line2D at 0x11d427e4f48>,\n",
       " <matplotlib.lines.Line2D at 0x11d427e4cc8>,\n",
       " <matplotlib.lines.Line2D at 0x11d427e4708>,\n",
       " <matplotlib.lines.Line2D at 0x11d427e4608>,\n",
       " <matplotlib.lines.Line2D at 0x11d427e4388>,\n",
       " <matplotlib.lines.Line2D at 0x11d427e3e88>,\n",
       " <matplotlib.lines.Line2D at 0x11d427e3c08>,\n",
       " <matplotlib.lines.Line2D at 0x11d427e3648>,\n",
       " <matplotlib.lines.Line2D at 0x11d427e3548>,\n",
       " <matplotlib.lines.Line2D at 0x11d427e32c8>,\n",
       " <matplotlib.lines.Line2D at 0x11d427cf808>,\n",
       " <matplotlib.lines.Line2D at 0x11d427cf0c8>,\n",
       " <matplotlib.lines.Line2D at 0x11d427bfac8>,\n",
       " <matplotlib.lines.Line2D at 0x11d427bf648>,\n",
       " <matplotlib.lines.Line2D at 0x11d427bfd48>,\n",
       " <matplotlib.lines.Line2D at 0x11d427b7c08>,\n",
       " <matplotlib.lines.Line2D at 0x11d427b7708>,\n",
       " <matplotlib.lines.Line2D at 0x11d427b0e48>,\n",
       " <matplotlib.lines.Line2D at 0x11d427b0948>,\n",
       " <matplotlib.lines.Line2D at 0x11d427b0208>,\n",
       " <matplotlib.lines.Line2D at 0x11d427a7d48>,\n",
       " <matplotlib.lines.Line2D at 0x11d427a7848>,\n",
       " <matplotlib.lines.Line2D at 0x11d427a1f88>,\n",
       " <matplotlib.lines.Line2D at 0x11d427a1a88>,\n",
       " <matplotlib.lines.Line2D at 0x11d427a10c8>,\n",
       " <matplotlib.lines.Line2D at 0x11d42798e88>,\n",
       " <matplotlib.lines.Line2D at 0x11d42798988>,\n",
       " <matplotlib.lines.Line2D at 0x11d427983c8>,\n",
       " <matplotlib.lines.Line2D at 0x11d42790bc8>,\n",
       " <matplotlib.lines.Line2D at 0x11d42790208>,\n",
       " <matplotlib.lines.Line2D at 0x11d42786c08>,\n",
       " <matplotlib.lines.Line2D at 0x11d42786ac8>,\n",
       " <matplotlib.lines.Line2D at 0x11d42786508>,\n",
       " <matplotlib.lines.Line2D at 0x11d42780d08>,\n",
       " <matplotlib.lines.Line2D at 0x11d42780348>,\n",
       " <matplotlib.lines.Line2D at 0x11d42780188>,\n",
       " <matplotlib.lines.Line2D at 0x11d42778c08>,\n",
       " <matplotlib.lines.Line2D at 0x11d42778648>,\n",
       " <matplotlib.lines.Line2D at 0x11d42771e48>,\n",
       " <matplotlib.lines.Line2D at 0x11d42771488>,\n",
       " <matplotlib.lines.Line2D at 0x11d427712c8>,\n",
       " <matplotlib.lines.Line2D at 0x11d42769d48>,\n",
       " <matplotlib.lines.Line2D at 0x11d42769788>,\n",
       " <matplotlib.lines.Line2D at 0x11d42760f88>,\n",
       " <matplotlib.lines.Line2D at 0x11d427605c8>,\n",
       " <matplotlib.lines.Line2D at 0x11d427603c8>,\n",
       " <matplotlib.lines.Line2D at 0x11d42758e88>,\n",
       " <matplotlib.lines.Line2D at 0x11d427588c8>,\n",
       " <matplotlib.lines.Line2D at 0x11d42758108>,\n",
       " <matplotlib.lines.Line2D at 0x11d42751708>,\n",
       " <matplotlib.lines.Line2D at 0x11d42751508>,\n",
       " <matplotlib.lines.Line2D at 0x11d42748fc8>,\n",
       " <matplotlib.lines.Line2D at 0x11d42748a08>,\n",
       " <matplotlib.lines.Line2D at 0x11d42748248>,\n",
       " <matplotlib.lines.Line2D at 0x11d42740848>,\n",
       " <matplotlib.lines.Line2D at 0x11d42740648>,\n",
       " <matplotlib.lines.Line2D at 0x11d427400c8>,\n",
       " <matplotlib.lines.Line2D at 0x11d42739b48>,\n",
       " <matplotlib.lines.Line2D at 0x11d42739388>,\n",
       " <matplotlib.lines.Line2D at 0x11d42731848>,\n",
       " <matplotlib.lines.Line2D at 0x11d42731408>,\n",
       " <matplotlib.lines.Line2D at 0x11d42731988>,\n",
       " <matplotlib.lines.Line2D at 0x11d42731788>,\n",
       " <matplotlib.lines.Line2D at 0x11d42731208>,\n",
       " <matplotlib.lines.Line2D at 0x11d42729b48>,\n",
       " <matplotlib.lines.Line2D at 0x11d427296c8>,\n",
       " <matplotlib.lines.Line2D at 0x11d42729188>,\n",
       " <matplotlib.lines.Line2D at 0x11d42729cc8>,\n",
       " <matplotlib.lines.Line2D at 0x11d427298c8>,\n",
       " <matplotlib.lines.Line2D at 0x11d42729088>,\n",
       " <matplotlib.lines.Line2D at 0x11d42722b88>,\n",
       " <matplotlib.lines.Line2D at 0x11d42722648>,\n",
       " <matplotlib.lines.Line2D at 0x11d42722108>,\n",
       " <matplotlib.lines.Line2D at 0x11d42722a88>,\n",
       " <matplotlib.lines.Line2D at 0x11d42722088>,\n",
       " <matplotlib.lines.Line2D at 0x11d4271af88>,\n",
       " <matplotlib.lines.Line2D at 0x11d4271a9c8>,\n",
       " <matplotlib.lines.Line2D at 0x11d4271a548>,\n",
       " <matplotlib.lines.Line2D at 0x11d4271a048>,\n",
       " <matplotlib.lines.Line2D at 0x11d4271a5c8>,\n",
       " <matplotlib.lines.Line2D at 0x11d4271a488>,\n",
       " <matplotlib.lines.Line2D at 0x11d42712d48>,\n",
       " <matplotlib.lines.Line2D at 0x11d42712808>,\n",
       " <matplotlib.lines.Line2D at 0x11d427123c8>,\n",
       " <matplotlib.lines.Line2D at 0x11d42712e88>,\n",
       " <matplotlib.lines.Line2D at 0x11d42712a48>,\n",
       " <matplotlib.lines.Line2D at 0x11d42712488>,\n",
       " <matplotlib.lines.Line2D at 0x11d4270ab08>,\n",
       " <matplotlib.lines.Line2D at 0x11d4270a688>,\n",
       " <matplotlib.lines.Line2D at 0x11d4270a148>,\n",
       " <matplotlib.lines.Line2D at 0x11d4270ac88>,\n",
       " <matplotlib.lines.Line2D at 0x11d4270a1c8>,\n",
       " <matplotlib.lines.Line2D at 0x11d4270a108>,\n",
       " <matplotlib.lines.Line2D at 0x11d42703c08>,\n",
       " <matplotlib.lines.Line2D at 0x11d427037c8>,\n",
       " <matplotlib.lines.Line2D at 0x11d42703208>,\n",
       " <matplotlib.lines.Line2D at 0x11d42703b48>,\n",
       " <matplotlib.lines.Line2D at 0x11d42703648>,\n",
       " <matplotlib.lines.Line2D at 0x11d4269d808>,\n",
       " <matplotlib.lines.Line2D at 0x11d4269d8c8>,\n",
       " <matplotlib.lines.Line2D at 0x11d4268f788>,\n",
       " <matplotlib.lines.Line2D at 0x11d3e0ad448>,\n",
       " <matplotlib.lines.Line2D at 0x11d426fad48>,\n",
       " <matplotlib.lines.Line2D at 0x11d426fa808>,\n",
       " <matplotlib.lines.Line2D at 0x11d426fa2c8>,\n",
       " <matplotlib.lines.Line2D at 0x11d426fa848>,\n",
       " <matplotlib.lines.Line2D at 0x11d426fa708>,\n",
       " <matplotlib.lines.Line2D at 0x11d426f4e88>,\n",
       " <matplotlib.lines.Line2D at 0x11d426f48c8>,\n",
       " <matplotlib.lines.Line2D at 0x11d426f4448>,\n",
       " <matplotlib.lines.Line2D at 0x11d426f4f48>,\n",
       " <matplotlib.lines.Line2D at 0x11d426f4a48>,\n",
       " <matplotlib.lines.Line2D at 0x11d426f4388>,\n",
       " <matplotlib.lines.Line2D at 0x11d426ecc88>,\n",
       " <matplotlib.lines.Line2D at 0x11d426ec848>,\n",
       " <matplotlib.lines.Line2D at 0x11d426ec288>,\n",
       " <matplotlib.lines.Line2D at 0x11d426ecd88>,\n",
       " <matplotlib.lines.Line2D at 0x11d426ec948>,\n",
       " <matplotlib.lines.Line2D at 0x11d426ec388>,\n",
       " <matplotlib.lines.Line2D at 0x11d426e6d08>,\n",
       " <matplotlib.lines.Line2D at 0x11d426e6748>,\n",
       " <matplotlib.lines.Line2D at 0x11d426e60c8>,\n",
       " <matplotlib.lines.Line2D at 0x11d426e6608>,\n",
       " <matplotlib.lines.Line2D at 0x11d426e64c8>,\n",
       " <matplotlib.lines.Line2D at 0x11d427dff88>,\n",
       " <matplotlib.lines.Line2D at 0x11d427dfd08>,\n",
       " <matplotlib.lines.Line2D at 0x11d427df9c8>,\n",
       " <matplotlib.lines.Line2D at 0x11d427df5c8>,\n",
       " <matplotlib.lines.Line2D at 0x11d426dddc8>,\n",
       " <matplotlib.lines.Line2D at 0x11d426dd988>,\n",
       " <matplotlib.lines.Line2D at 0x11d426dd288>,\n",
       " <matplotlib.lines.Line2D at 0x11d426ddd08>,\n",
       " <matplotlib.lines.Line2D at 0x11d426dd4c8>,\n",
       " <matplotlib.lines.Line2D at 0x11d426dd408>,\n",
       " <matplotlib.lines.Line2D at 0x11d427d7188>,\n",
       " <matplotlib.lines.Line2D at 0x11d427d7488>,\n",
       " <matplotlib.lines.Line2D at 0x11d426d7d08>,\n",
       " <matplotlib.lines.Line2D at 0x11d426d7708>,\n",
       " <matplotlib.lines.Line2D at 0x11d426d7f88>,\n",
       " <matplotlib.lines.Line2D at 0x11d426d7b88>,\n",
       " <matplotlib.lines.Line2D at 0x11d426d7488>,\n",
       " <matplotlib.lines.Line2D at 0x11d42693948>,\n",
       " <matplotlib.lines.Line2D at 0x11d426ceec8>,\n",
       " <matplotlib.lines.Line2D at 0x11d426ced88>,\n",
       " <matplotlib.lines.Line2D at 0x11d426ce808>,\n",
       " <matplotlib.lines.Line2D at 0x11d426cec48>,\n",
       " <matplotlib.lines.Line2D at 0x11d3e09a508>,\n",
       " <matplotlib.lines.Line2D at 0x11d447891c8>,\n",
       " <matplotlib.lines.Line2D at 0x11d44789488>,\n",
       " <matplotlib.lines.Line2D at 0x11d44789748>,\n",
       " <matplotlib.lines.Line2D at 0x11d44789a08>,\n",
       " <matplotlib.lines.Line2D at 0x11d44789cc8>,\n",
       " <matplotlib.lines.Line2D at 0x11d44789f88>,\n",
       " <matplotlib.lines.Line2D at 0x11d44791288>,\n",
       " <matplotlib.lines.Line2D at 0x11d44791548>,\n",
       " <matplotlib.lines.Line2D at 0x11d44791808>,\n",
       " <matplotlib.lines.Line2D at 0x11d44791ac8>,\n",
       " <matplotlib.lines.Line2D at 0x11d44791d88>,\n",
       " <matplotlib.lines.Line2D at 0x11d44797088>,\n",
       " <matplotlib.lines.Line2D at 0x11d44797348>,\n",
       " <matplotlib.lines.Line2D at 0x11d44797608>,\n",
       " <matplotlib.lines.Line2D at 0x11d447978c8>,\n",
       " <matplotlib.lines.Line2D at 0x11d44797b88>,\n",
       " <matplotlib.lines.Line2D at 0x11d44797e48>,\n",
       " <matplotlib.lines.Line2D at 0x11d4479e148>,\n",
       " <matplotlib.lines.Line2D at 0x11d4479e408>,\n",
       " <matplotlib.lines.Line2D at 0x11d4479e6c8>,\n",
       " <matplotlib.lines.Line2D at 0x11d4479e988>,\n",
       " <matplotlib.lines.Line2D at 0x11d4479ec48>,\n",
       " <matplotlib.lines.Line2D at 0x11d4479ef08>,\n",
       " <matplotlib.lines.Line2D at 0x11d447a7208>,\n",
       " <matplotlib.lines.Line2D at 0x11d447a74c8>,\n",
       " <matplotlib.lines.Line2D at 0x11d447a7788>,\n",
       " <matplotlib.lines.Line2D at 0x11d447a7a48>,\n",
       " <matplotlib.lines.Line2D at 0x11d447a7d08>,\n",
       " <matplotlib.lines.Line2D at 0x11d447a7fc8>,\n",
       " <matplotlib.lines.Line2D at 0x11d447ae2c8>,\n",
       " <matplotlib.lines.Line2D at 0x11d447ae588>,\n",
       " <matplotlib.lines.Line2D at 0x11d447ae848>,\n",
       " <matplotlib.lines.Line2D at 0x11d447aeb08>,\n",
       " <matplotlib.lines.Line2D at 0x11d447aedc8>,\n",
       " <matplotlib.lines.Line2D at 0x11d447b40c8>,\n",
       " <matplotlib.lines.Line2D at 0x11d447b4388>,\n",
       " <matplotlib.lines.Line2D at 0x11d447b4648>,\n",
       " <matplotlib.lines.Line2D at 0x11d447b4908>,\n",
       " <matplotlib.lines.Line2D at 0x11d447b4bc8>,\n",
       " <matplotlib.lines.Line2D at 0x11d447b4e88>,\n",
       " <matplotlib.lines.Line2D at 0x11d3e05d408>,\n",
       " <matplotlib.lines.Line2D at 0x11d447bc208>,\n",
       " <matplotlib.lines.Line2D at 0x11d447bc348>,\n",
       " <matplotlib.lines.Line2D at 0x11d447bc808>,\n",
       " <matplotlib.lines.Line2D at 0x11d447bcac8>,\n",
       " <matplotlib.lines.Line2D at 0x11d447bcd88>,\n",
       " <matplotlib.lines.Line2D at 0x11d447c3088>,\n",
       " <matplotlib.lines.Line2D at 0x11d447c3348>,\n",
       " <matplotlib.lines.Line2D at 0x11d447c3608>,\n",
       " <matplotlib.lines.Line2D at 0x11d447c38c8>,\n",
       " <matplotlib.lines.Line2D at 0x11d447c3b88>,\n",
       " <matplotlib.lines.Line2D at 0x11d447c3e48>,\n",
       " <matplotlib.lines.Line2D at 0x11d447ca148>,\n",
       " <matplotlib.lines.Line2D at 0x11d447ca408>,\n",
       " <matplotlib.lines.Line2D at 0x11d447ca6c8>,\n",
       " <matplotlib.lines.Line2D at 0x11d447ca988>,\n",
       " <matplotlib.lines.Line2D at 0x11d447cac48>,\n",
       " <matplotlib.lines.Line2D at 0x11d447caf08>,\n",
       " <matplotlib.lines.Line2D at 0x11d447d2208>,\n",
       " <matplotlib.lines.Line2D at 0x11d447d24c8>,\n",
       " <matplotlib.lines.Line2D at 0x11d447d2788>,\n",
       " <matplotlib.lines.Line2D at 0x11d447d2a48>,\n",
       " <matplotlib.lines.Line2D at 0x11d447d2d08>,\n",
       " <matplotlib.lines.Line2D at 0x11d447d2fc8>,\n",
       " <matplotlib.lines.Line2D at 0x11d447da348>,\n",
       " <matplotlib.lines.Line2D at 0x11d447da688>,\n",
       " <matplotlib.lines.Line2D at 0x11d447da9c8>]"
      ]
     },
     "execution_count": 328,
     "metadata": {},
     "output_type": "execute_result"
    },
    {
     "data": {
      "image/png": "[encoded data removed]",
      "text/plain": [
       "<Figure size 432x288 with 1 Axes>"
      ]
     },
     "metadata": {
      "needs_background": "light"
     },
     "output_type": "display_data"
    }
   ],
   "source": [
    "neurons,metadata = bk.load.loadSpikeData(bk.load.path)\n",
    "ripples = load_ripples()\n",
    "ripples = ripples['peak'].as_units('s').index.values\n",
    "binSize = 0.01\n",
    "t,b = bk.compute.binSpikes(neurons,binSize)\n",
    "a,t = basefunction.vBaseFunctions3.triggeredAverage(b,(ripples/binSize).astype('int'),taLen = 200,average=False)\n"
   ]
  },
  {
   "cell_type": "code",
   "execution_count": 314,
   "metadata": {},
   "outputs": [
    {
     "ename": "ValueError",
     "evalue": "cannot select an axis to squeeze out which has size not equal to one",
     "output_type": "error",
     "traceback": [
      "\u001b[1;31m---------------------------------------------------------------------------\u001b[0m",
      "\u001b[1;31mValueError\u001b[0m                                Traceback (most recent call last)",
      "\u001b[1;32m<ipython-input-314-2d3e282a1365>\u001b[0m in \u001b[0;36m<module>\u001b[1;34m\u001b[0m\n\u001b[1;32m----> 1\u001b[1;33m \u001b[0mripples\u001b[0m\u001b[1;33m.\u001b[0m\u001b[0msqueeze\u001b[0m\u001b[1;33m(\u001b[0m\u001b[1;36m0\u001b[0m\u001b[1;33m)\u001b[0m\u001b[1;33m\u001b[0m\u001b[1;33m\u001b[0m\u001b[0m\n\u001b[0m",
      "\u001b[1;31mValueError\u001b[0m: cannot select an axis to squeeze out which has size not equal to one"
     ]
    }
   ],
   "source": []
  },
  {
   "cell_type": "code",
   "execution_count": 20,
   "metadata": {},
   "outputs": [
    {
     "name": "stderr",
     "output_type": "stream",
     "text": [
      "100% |########################################################################|\r"
     ]
    },
    {
     "name": "stdout",
     "output_type": "stream",
     "text": [
      "Batch finished in 10029.245937347412\n",
      "Some session were not processed correctly\n",
      "['Rat08-20130708', 'Rat08-20130709', 'Rat08-20130712', 'Rat08-20130716', 'Rat08-20130718', 'Rat08-20130719', 'Rat08-20130720', 'Rat08-20130722', 'Rat09-20140324', 'Rat09-20140325', 'Rat09-20140326', 'Rat09-20140327', 'Rat09-20140328', 'Rat09-20140329', 'Rat09-20140331', 'Rat09-20140401', 'Rat09-20140402', 'Rat09-20140403', 'Rat09-20140404', 'Rat09-20140405', 'Rat09-20140407', 'Rat09-20140408', 'Rat09-20140409', 'Rat10-20140629', 'Rat10-20140704', 'Rat10-20140707', 'Rat10-20140708', 'Rat11-20150315', 'Rat11-20150316', 'Rat11-20150402', 'Rat11-20150403']\n",
      "50.81967213114754 %\n"
     ]
    },
    {
     "name": "stderr",
     "output_type": "stream",
     "text": [
      "\n"
     ]
    }
   ],
   "source": [
    "batch = bk.load.batch(ripple_psth)"
   ]
  },
  {
   "cell_type": "code",
   "execution_count": 94,
   "metadata": {},
   "outputs": [
    {
     "data": {
      "text/html": [
       "<div>\n",
       "<style scoped>\n",
       "    .dataframe tbody tr th:only-of-type {\n",
       "        vertical-align: middle;\n",
       "    }\n",
       "\n",
       "    .dataframe tbody tr th {\n",
       "        vertical-align: top;\n",
       "    }\n",
       "\n",
       "    .dataframe thead th {\n",
       "        text-align: right;\n",
       "    }\n",
       "</style>\n",
       "<table border=\"1\" class=\"dataframe\">\n",
       "  <thead>\n",
       "    <tr style=\"text-align: right;\">\n",
       "      <th></th>\n",
       "      <th>pInc</th>\n",
       "      <th>pDec</th>\n",
       "      <th>surprise</th>\n",
       "    </tr>\n",
       "  </thead>\n",
       "  <tbody>\n",
       "    <tr>\n",
       "      <th>0</th>\n",
       "      <td>0.000000e+00</td>\n",
       "      <td>1.000000</td>\n",
       "      <td>36.043653</td>\n",
       "    </tr>\n",
       "    <tr>\n",
       "      <th>1</th>\n",
       "      <td>1.670886e-13</td>\n",
       "      <td>1.000000</td>\n",
       "      <td>29.418924</td>\n",
       "    </tr>\n",
       "    <tr>\n",
       "      <th>2</th>\n",
       "      <td>0.000000e+00</td>\n",
       "      <td>1.000000</td>\n",
       "      <td>36.043653</td>\n",
       "    </tr>\n",
       "    <tr>\n",
       "      <th>3</th>\n",
       "      <td>0.000000e+00</td>\n",
       "      <td>1.000000</td>\n",
       "      <td>36.043653</td>\n",
       "    </tr>\n",
       "    <tr>\n",
       "      <th>4</th>\n",
       "      <td>0.000000e+00</td>\n",
       "      <td>1.000000</td>\n",
       "      <td>36.043653</td>\n",
       "    </tr>\n",
       "    <tr>\n",
       "      <th>...</th>\n",
       "      <td>...</td>\n",
       "      <td>...</td>\n",
       "      <td>...</td>\n",
       "    </tr>\n",
       "    <tr>\n",
       "      <th>247</th>\n",
       "      <td>9.993548e-01</td>\n",
       "      <td>0.000645</td>\n",
       "      <td>-7.345331</td>\n",
       "    </tr>\n",
       "    <tr>\n",
       "      <th>248</th>\n",
       "      <td>8.843166e-01</td>\n",
       "      <td>0.115683</td>\n",
       "      <td>-2.033958</td>\n",
       "    </tr>\n",
       "    <tr>\n",
       "      <th>249</th>\n",
       "      <td>1.951515e-01</td>\n",
       "      <td>0.804848</td>\n",
       "      <td>1.416878</td>\n",
       "    </tr>\n",
       "    <tr>\n",
       "      <th>250</th>\n",
       "      <td>2.487088e-01</td>\n",
       "      <td>0.751291</td>\n",
       "      <td>1.105511</td>\n",
       "    </tr>\n",
       "    <tr>\n",
       "      <th>251</th>\n",
       "      <td>9.978848e-01</td>\n",
       "      <td>0.002115</td>\n",
       "      <td>-6.156488</td>\n",
       "    </tr>\n",
       "  </tbody>\n",
       "</table>\n",
       "<p>252 rows × 3 columns</p>\n",
       "</div>"
      ],
      "text/plain": [
       "             pInc      pDec   surprise\n",
       "0    0.000000e+00  1.000000  36.043653\n",
       "1    1.670886e-13  1.000000  29.418924\n",
       "2    0.000000e+00  1.000000  36.043653\n",
       "3    0.000000e+00  1.000000  36.043653\n",
       "4    0.000000e+00  1.000000  36.043653\n",
       "..            ...       ...        ...\n",
       "247  9.993548e-01  0.000645  -7.345331\n",
       "248  8.843166e-01  0.115683  -2.033958\n",
       "249  1.951515e-01  0.804848   1.416878\n",
       "250  2.487088e-01  0.751291   1.105511\n",
       "251  9.978848e-01  0.002115  -6.156488\n",
       "\n",
       "[252 rows x 3 columns]"
      ]
     },
     "execution_count": 94,
     "metadata": {},
     "output_type": "execute_result"
    }
   ],
   "source": [
    "batch['Rat08-20130713'][3]"
   ]
  },
  {
   "cell_type": "code",
   "execution_count": 56,
   "metadata": {},
   "outputs": [
    {
     "data": {
      "text/plain": [
       "array([[0., 0., 0., ..., 0., 0., 0.],\n",
       "       [0., 0., 0., ..., 0., 0., 0.],\n",
       "       [0., 0., 0., ..., 0., 0., 0.],\n",
       "       ...,\n",
       "       [0., 0., 0., ..., 0., 0., 0.],\n",
       "       [0., 0., 0., ..., 0., 0., 0.],\n",
       "       [0., 0., 0., ..., 0., 0., 0.]])"
      ]
     },
     "execution_count": 56,
     "metadata": {},
     "output_type": "execute_result"
    }
   ],
   "source": [
    "batch['Rat10-20140619'][1][5]"
   ]
  },
  {
   "cell_type": "code",
   "execution_count": 119,
   "metadata": {},
   "outputs": [
    {
     "data": {
      "text/plain": [
       "100"
      ]
     },
     "execution_count": 119,
     "metadata": {},
     "output_type": "execute_result"
    }
   ],
   "source": [
    "len(np.mean(batch['Rat08-20130710'][1][5],1))"
   ]
  },
  {
   "cell_type": "code",
   "execution_count": 278,
   "metadata": {},
   "outputs": [],
   "source": [
    "bla_mask = batch['Rat08-20130715'][2].Region == 'Hpc'"
   ]
  },
  {
   "cell_type": "code",
   "execution_count": 279,
   "metadata": {},
   "outputs": [
    {
     "data": {
      "text/plain": [
       "(5808, 100, 252)"
      ]
     },
     "execution_count": 279,
     "metadata": {},
     "output_type": "execute_result"
    }
   ],
   "source": [
    "batch['Rat08-20130713'][1].shape"
   ]
  },
  {
   "cell_type": "code",
   "execution_count": 285,
   "metadata": {},
   "outputs": [],
   "source": [
    "t = np.linspace(-0.5,0.5,100)"
   ]
  },
  {
   "cell_type": "code",
   "execution_count": 287,
   "metadata": {},
   "outputs": [
    {
     "data": {
      "text/plain": [
       "<BarContainer object of 100 artists>"
      ]
     },
     "execution_count": 287,
     "metadata": {},
     "output_type": "execute_result"
    },
    {
     "data": {
      "image/png": "[encoded data removed]",
      "text/plain": [
       "<Figure size 432x288 with 1 Axes>"
      ]
     },
     "metadata": {
      "needs_background": "light"
     },
     "output_type": "display_data"
    }
   ],
   "source": [
    "plt.bar(t,np.mean(np.mean(batch['Rat08-20130715'][1][:,:,bla_mask],0),1),0.02\n",
    "       )"
   ]
  },
  {
   "cell_type": "code",
   "execution_count": 12,
   "metadata": {},
   "outputs": [
    {
     "ename": "NameError",
     "evalue": "name 'metadata' is not defined",
     "output_type": "error",
     "traceback": [
      "\u001b[1;31m---------------------------------------------------------------------------\u001b[0m",
      "\u001b[1;31mNameError\u001b[0m                                 Traceback (most recent call last)",
      "\u001b[1;32m<ipython-input-12-8bccdc61a569>\u001b[0m in \u001b[0;36m<module>\u001b[1;34m\u001b[0m\n\u001b[1;32m----> 1\u001b[1;33m \u001b[0mt\u001b[0m\u001b[1;33m,\u001b[0m\u001b[0mpeth\u001b[0m\u001b[1;33m,\u001b[0m\u001b[0mmetadata1\u001b[0m\u001b[1;33m,\u001b[0m\u001b[0mstats\u001b[0m \u001b[1;33m=\u001b[0m \u001b[0mmetadata\u001b[0m\u001b[1;33m\u001b[0m\u001b[1;33m\u001b[0m\u001b[0m\n\u001b[0m",
      "\u001b[1;31mNameError\u001b[0m: name 'metadata' is not defined"
     ]
    }
   ],
   "source": [
    "t,peth,metadata1,stats = metadata"
   ]
  },
  {
   "cell_type": "code",
   "execution_count": 125,
   "metadata": {},
   "outputs": [],
   "source": [
    "a = pd.concat([metadata1,stats],axis = 1)"
   ]
  },
  {
   "cell_type": "code",
   "execution_count": 127,
   "metadata": {},
   "outputs": [],
   "source": [
    "import seaborn as sns"
   ]
  },
  {
   "cell_type": "code",
   "execution_count": 132,
   "metadata": {},
   "outputs": [
    {
     "ename": "NameError",
     "evalue": "name 'col' is not defined",
     "output_type": "error",
     "traceback": [
      "\u001b[1;31m---------------------------------------------------------------------------\u001b[0m",
      "\u001b[1;31mNameError\u001b[0m                                 Traceback (most recent call last)",
      "\u001b[1;32m<ipython-input-132-cddb9ba8a5bf>\u001b[0m in \u001b[0;36m<module>\u001b[1;34m\u001b[0m\n\u001b[1;32m----> 1\u001b[1;33m \u001b[0msns\u001b[0m\u001b[1;33m.\u001b[0m\u001b[0mscatterplot\u001b[0m\u001b[1;33m(\u001b[0m\u001b[0ma\u001b[0m\u001b[1;33m.\u001b[0m\u001b[0mpInc\u001b[0m\u001b[1;33m,\u001b[0m\u001b[0ma\u001b[0m\u001b[1;33m.\u001b[0m\u001b[0msurprise\u001b[0m\u001b[1;33m,\u001b[0m\u001b[0mcol\u001b[0m\u001b[1;33m)\u001b[0m\u001b[1;33m\u001b[0m\u001b[1;33m\u001b[0m\u001b[0m\n\u001b[0m",
      "\u001b[1;31mNameError\u001b[0m: name 'col' is not defined"
     ]
    }
   ],
   "source": [
    "sns.scatterplot()"
   ]
  },
  {
   "cell_type": "code",
   "execution_count": 65,
   "metadata": {},
   "outputs": [],
   "source": [
    "states = bk.load.states()\n",
    "ripples = load_ripples()\n",
    "states.update({'ripples':nts.IntervalSet(ripples['start'].times(),ripples['stop'].times())})\n",
    "# d.union(c).drop_short_intervals(1).as_units('s')\n",
    "states.update({'outside_ripples':states['sws'].set_diff(nts.IntervalSet(states['ripples'].start-200_000,states['ripples'].end+200_000,force_no_fix=True))})\n"
   ]
  },
  {
   "cell_type": "code",
   "execution_count": 67,
   "metadata": {},
   "outputs": [
    {
     "data": {
      "text/plain": [
       "7644517604.0"
      ]
     },
     "execution_count": 67,
     "metadata": {},
     "output_type": "execute_result"
    }
   ],
   "source": [
    "states['outside_ripples'].tot_length()"
   ]
  },
  {
   "cell_type": "code",
   "execution_count": 29,
   "metadata": {},
   "outputs": [],
   "source": [
    "%matplotlib qt"
   ]
  },
  {
   "cell_type": "code",
   "execution_count": 64,
   "metadata": {},
   "outputs": [
    {
     "data": {
      "text/plain": [
       "(array([0.75856355, 0.95957232, 0.99999569]),\n",
       " array([2.41436451e-01, 4.04276820e-02, 4.30950230e-06]),\n",
       " array([ -1.14482028,  -3.16697293, -12.35468383]))"
      ]
     },
     "execution_count": 64,
     "metadata": {},
     "output_type": "execute_result"
    }
   ],
   "source": []
  },
  {
   "cell_type": "code",
   "execution_count": 30,
   "metadata": {},
   "outputs": [],
   "source": [
    "s = plt.subplot(2,1,1)\n",
    "bk.plot.intervals(states['sws'])\n",
    "plt.subplot(2,1,2,sharex = s)\n",
    "bk.plot.intervals(states['ripples'],'red')\n",
    "bk.plot.intervals(states['outside_ripples'],'green')"
   ]
  },
  {
   "cell_type": "code",
   "execution_count": 68,
   "metadata": {},
   "outputs": [
    {
     "data": {
      "text/html": [
       "<div>\n",
       "<style scoped>\n",
       "    .dataframe tbody tr th:only-of-type {\n",
       "        vertical-align: middle;\n",
       "    }\n",
       "\n",
       "    .dataframe tbody tr th {\n",
       "        vertical-align: top;\n",
       "    }\n",
       "\n",
       "    .dataframe thead th {\n",
       "        text-align: right;\n",
       "    }\n",
       "</style>\n",
       "<table border=\"1\" class=\"dataframe\">\n",
       "  <thead>\n",
       "    <tr style=\"text-align: right;\">\n",
       "      <th></th>\n",
       "      <th>start</th>\n",
       "      <th>end</th>\n",
       "    </tr>\n",
       "  </thead>\n",
       "  <tbody>\n",
       "    <tr>\n",
       "      <th>0</th>\n",
       "      <td>0.0</td>\n",
       "      <td>10.0</td>\n",
       "    </tr>\n",
       "    <tr>\n",
       "      <th>1</th>\n",
       "      <td>20.0</td>\n",
       "      <td>45.0</td>\n",
       "    </tr>\n",
       "    <tr>\n",
       "      <th>2</th>\n",
       "      <td>55.0</td>\n",
       "      <td>70.0</td>\n",
       "    </tr>\n",
       "  </tbody>\n",
       "</table>\n",
       "</div>"
      ],
      "text/plain": [
       "   start   end\n",
       "0    0.0  10.0\n",
       "1   20.0  45.0\n",
       "2   55.0  70.0"
      ]
     },
     "execution_count": 68,
     "metadata": {},
     "output_type": "execute_result"
    }
   ],
   "source": []
  },
  {
   "cell_type": "code",
   "execution_count": null,
   "metadata": {},
   "outputs": [],
   "source": [
    "# rip = states['sws'].intersect(states['ripples'])"
   ]
  },
  {
   "cell_type": "code",
   "execution_count": null,
   "metadata": {},
   "outputs": [],
   "source": [
    "long_rip = states['ripples']"
   ]
  },
  {
   "cell_type": "code",
   "execution_count": 16,
   "metadata": {},
   "outputs": [],
   "source": [
    "no_rip = states['sws'].set_diff(states['ripples'])"
   ]
  },
  {
   "cell_type": "code",
   "execution_count": 19,
   "metadata": {},
   "outputs": [
    {
     "data": {
      "text/html": [
       "<div>\n",
       "<style scoped>\n",
       "    .dataframe tbody tr th:only-of-type {\n",
       "        vertical-align: middle;\n",
       "    }\n",
       "\n",
       "    .dataframe tbody tr th {\n",
       "        vertical-align: top;\n",
       "    }\n",
       "\n",
       "    .dataframe thead th {\n",
       "        text-align: right;\n",
       "    }\n",
       "</style>\n",
       "<table border=\"1\" class=\"dataframe\">\n",
       "  <thead>\n",
       "    <tr style=\"text-align: right;\">\n",
       "      <th></th>\n",
       "      <th>start</th>\n",
       "      <th>end</th>\n",
       "    </tr>\n",
       "  </thead>\n",
       "  <tbody>\n",
       "    <tr>\n",
       "      <th>0</th>\n",
       "      <td>1447.8000</td>\n",
       "      <td>1448.879200</td>\n",
       "    </tr>\n",
       "    <tr>\n",
       "      <th>1</th>\n",
       "      <td>1448.9472</td>\n",
       "      <td>1449.176000</td>\n",
       "    </tr>\n",
       "    <tr>\n",
       "      <th>2</th>\n",
       "      <td>1449.2152</td>\n",
       "      <td>1449.322399</td>\n",
       "    </tr>\n",
       "    <tr>\n",
       "      <th>3</th>\n",
       "      <td>1449.3584</td>\n",
       "      <td>1450.164000</td>\n",
       "    </tr>\n",
       "    <tr>\n",
       "      <th>4</th>\n",
       "      <td>1450.1968</td>\n",
       "      <td>1451.267200</td>\n",
       "    </tr>\n",
       "    <tr>\n",
       "      <th>...</th>\n",
       "      <td>...</td>\n",
       "      <td>...</td>\n",
       "    </tr>\n",
       "    <tr>\n",
       "      <th>5837</th>\n",
       "      <td>21830.2720</td>\n",
       "      <td>21836.876800</td>\n",
       "    </tr>\n",
       "    <tr>\n",
       "      <th>5838</th>\n",
       "      <td>21836.9144</td>\n",
       "      <td>21839.263200</td>\n",
       "    </tr>\n",
       "    <tr>\n",
       "      <th>5839</th>\n",
       "      <td>21839.3016</td>\n",
       "      <td>21839.656000</td>\n",
       "    </tr>\n",
       "    <tr>\n",
       "      <th>5840</th>\n",
       "      <td>21839.7224</td>\n",
       "      <td>21841.044000</td>\n",
       "    </tr>\n",
       "    <tr>\n",
       "      <th>5841</th>\n",
       "      <td>21841.0712</td>\n",
       "      <td>21849.800000</td>\n",
       "    </tr>\n",
       "  </tbody>\n",
       "</table>\n",
       "<p>5842 rows × 2 columns</p>\n",
       "</div>"
      ],
      "text/plain": [
       "           start           end\n",
       "0      1447.8000   1448.879200\n",
       "1      1448.9472   1449.176000\n",
       "2      1449.2152   1449.322399\n",
       "3      1449.3584   1450.164000\n",
       "4      1450.1968   1451.267200\n",
       "...          ...           ...\n",
       "5837  21830.2720  21836.876800\n",
       "5838  21836.9144  21839.263200\n",
       "5839  21839.3016  21839.656000\n",
       "5840  21839.7224  21841.044000\n",
       "5841  21841.0712  21849.800000\n",
       "\n",
       "[5842 rows x 2 columns]"
      ]
     },
     "execution_count": 19,
     "metadata": {},
     "output_type": "execute_result"
    }
   ],
   "source": [
    "no_rip.as_units('s')"
   ]
  },
  {
   "cell_type": "code",
   "execution_count": 161,
   "metadata": {},
   "outputs": [],
   "source": [
    "n = neurons[1].restrict(states['sws'])"
   ]
  },
  {
   "cell_type": "code",
   "execution_count": 164,
   "metadata": {},
   "outputs": [
    {
     "data": {
      "text/plain": [
       "0.025843503230437905"
      ]
     },
     "execution_count": 164,
     "metadata": {},
     "output_type": "execute_result"
    }
   ],
   "source": [
    "neurons/states['sws'].tot_length(time_units='s')"
   ]
  },
  {
   "cell_type": "code",
   "execution_count": 167,
   "metadata": {},
   "outputs": [
    {
     "data": {
      "text/plain": [
       "252"
      ]
     },
     "execution_count": 167,
     "metadata": {},
     "output_type": "execute_result"
    }
   ],
   "source": []
  },
  {
   "cell_type": "code",
   "execution_count": 129,
   "metadata": {},
   "outputs": [
    {
     "data": {
      "text/plain": [
       "(1.0, 5.669857731738041e-26)"
      ]
     },
     "execution_count": 129,
     "metadata": {},
     "output_type": "execute_result"
    }
   ],
   "source": [
    "poissonTest(15,5,5)"
   ]
  },
  {
   "cell_type": "code",
   "execution_count": 4,
   "metadata": {},
   "outputs": [],
   "source": [
    "# t,spks_bin = bk.compute.binSpikes(neurons)\n",
    "# binned = nts.TsdFrame(t,spks_bin.T,time_units='s')"
   ]
  },
  {
   "cell_type": "code",
   "execution_count": 97,
   "metadata": {},
   "outputs": [],
   "source": [
    "import scipy.stats as ss"
   ]
  },
  {
   "cell_type": "code",
   "execution_count": 136,
   "metadata": {},
   "outputs": [
    {
     "ename": "TypeError",
     "evalue": "unsupported operand type(s) for -: 'list' and 'int'",
     "output_type": "error",
     "traceback": [
      "\u001b[1;31m---------------------------------------------------------------------------\u001b[0m",
      "\u001b[1;31mTypeError\u001b[0m                                 Traceback (most recent call last)",
      "\u001b[1;32m<ipython-input-136-35d6b067135f>\u001b[0m in \u001b[0;36m<module>\u001b[1;34m\u001b[0m\n\u001b[1;32m----> 1\u001b[1;33m \u001b[0mss\u001b[0m\u001b[1;33m.\u001b[0m\u001b[0mpoisson\u001b[0m\u001b[1;33m.\u001b[0m\u001b[0mcdf\u001b[0m\u001b[1;33m(\u001b[0m\u001b[1;33m[\u001b[0m\u001b[1;33m[\u001b[0m\u001b[1;36m5\u001b[0m\u001b[1;33m]\u001b[0m\u001b[1;33m,\u001b[0m\u001b[1;36m1\u001b[0m\u001b[1;33m]\u001b[0m\u001b[1;33m,\u001b[0m\u001b[1;33m[\u001b[0m\u001b[1;36m15\u001b[0m\u001b[1;33m,\u001b[0m\u001b[1;36m15\u001b[0m\u001b[1;33m]\u001b[0m\u001b[1;33m)\u001b[0m\u001b[1;33m\u001b[0m\u001b[1;33m\u001b[0m\u001b[0m\n\u001b[0m",
      "\u001b[1;32mC:\\ProgramData\\Anaconda3\\lib\\site-packages\\scipy\\stats\\_distn_infrastructure.py\u001b[0m in \u001b[0;36mcdf\u001b[1;34m(self, k, *args, **kwds)\u001b[0m\n\u001b[0;32m   3096\u001b[0m         \u001b[0margs\u001b[0m \u001b[1;33m=\u001b[0m \u001b[0mtuple\u001b[0m\u001b[1;33m(\u001b[0m\u001b[0mmap\u001b[0m\u001b[1;33m(\u001b[0m\u001b[0masarray\u001b[0m\u001b[1;33m,\u001b[0m \u001b[0margs\u001b[0m\u001b[1;33m)\u001b[0m\u001b[1;33m)\u001b[0m\u001b[1;33m\u001b[0m\u001b[1;33m\u001b[0m\u001b[0m\n\u001b[0;32m   3097\u001b[0m         \u001b[0m_a\u001b[0m\u001b[1;33m,\u001b[0m \u001b[0m_b\u001b[0m \u001b[1;33m=\u001b[0m \u001b[0mself\u001b[0m\u001b[1;33m.\u001b[0m\u001b[0m_get_support\u001b[0m\u001b[1;33m(\u001b[0m\u001b[1;33m*\u001b[0m\u001b[0margs\u001b[0m\u001b[1;33m)\u001b[0m\u001b[1;33m\u001b[0m\u001b[1;33m\u001b[0m\u001b[0m\n\u001b[1;32m-> 3098\u001b[1;33m         \u001b[0mk\u001b[0m \u001b[1;33m=\u001b[0m \u001b[0masarray\u001b[0m\u001b[1;33m(\u001b[0m\u001b[1;33m(\u001b[0m\u001b[0mk\u001b[0m\u001b[1;33m-\u001b[0m\u001b[0mloc\u001b[0m\u001b[1;33m)\u001b[0m\u001b[1;33m)\u001b[0m\u001b[1;33m\u001b[0m\u001b[1;33m\u001b[0m\u001b[0m\n\u001b[0m\u001b[0;32m   3099\u001b[0m         \u001b[0mcond0\u001b[0m \u001b[1;33m=\u001b[0m \u001b[0mself\u001b[0m\u001b[1;33m.\u001b[0m\u001b[0m_argcheck\u001b[0m\u001b[1;33m(\u001b[0m\u001b[1;33m*\u001b[0m\u001b[0margs\u001b[0m\u001b[1;33m)\u001b[0m\u001b[1;33m\u001b[0m\u001b[1;33m\u001b[0m\u001b[0m\n\u001b[0;32m   3100\u001b[0m         \u001b[0mcond1\u001b[0m \u001b[1;33m=\u001b[0m \u001b[1;33m(\u001b[0m\u001b[0mk\u001b[0m \u001b[1;33m>=\u001b[0m \u001b[0m_a\u001b[0m\u001b[1;33m)\u001b[0m \u001b[1;33m&\u001b[0m \u001b[1;33m(\u001b[0m\u001b[0mk\u001b[0m \u001b[1;33m<\u001b[0m \u001b[0m_b\u001b[0m\u001b[1;33m)\u001b[0m\u001b[1;33m\u001b[0m\u001b[1;33m\u001b[0m\u001b[0m\n",
      "\u001b[1;31mTypeError\u001b[0m: unsupported operand type(s) for -: 'list' and 'int'"
     ]
    }
   ],
   "source": []
  },
  {
   "cell_type": "code",
   "execution_count": 61,
   "metadata": {},
   "outputs": [
    {
     "name": "stderr",
     "output_type": "stream",
     "text": [
      "C:\\ProgramData\\Anaconda3\\lib\\site-packages\\ipykernel_launcher.py:2: RuntimeWarning: More than 20 figures have been opened. Figures created through the pyplot interface (`matplotlib.pyplot.figure`) are retained until explicitly closed and may consume too much memory. (To control this warning, see the rcParam `figure.max_open_warning`).\n",
      "  \n"
     ]
    }
   ],
   "source": [
    "for i in range(len(metadata[metadata['Region'] == 'Pir'])):\n",
    "    plt.figure()\n",
    "    plt.bar(t,np.mean(e,0)[:,metadata.Region == 'Pir'][:,i],width=t[1]-t[0])"
   ]
  }
 ],
 "metadata": {
  "kernelspec": {
   "display_name": "Python 3",
   "language": "python",
   "name": "python3"
  },
  "language_info": {
   "codemirror_mode": {
    "name": "ipython",
    "version": 3
   },
   "file_extension": ".py",
   "mimetype": "text/x-python",
   "name": "python",
   "nbconvert_exporter": "python",
   "pygments_lexer": "ipython3",
   "version": "3.7.6"
  }
 },
 "nbformat": 4,
 "nbformat_minor": 4
}
