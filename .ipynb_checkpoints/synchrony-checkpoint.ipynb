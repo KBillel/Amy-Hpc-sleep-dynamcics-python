{
 "cells": [
  {
   "cell_type": "markdown",
   "metadata": {},
   "source": [
    "### Try to find a way to compute the synchrony of neurons accross time"
   ]
  },
  {
   "cell_type": "code",
   "execution_count": 14,
   "metadata": {},
   "outputs": [],
   "source": [
    "import numpy as np\n",
    "import pandas as pd\n",
    "import scipy\n",
    "\n",
    "import neuroseries as nts\n",
    "\n",
    "from progressbar import ProgressBar\n",
    "\n",
    "import time\n",
    "import matplotlib.pyplot as plt\n",
    "%matplotlib qt\n",
    "\n",
    "import seaborn as sns \n",
    "import basefunction.bk_load as bk\n",
    "import basefunction.anass_load as at"
   ]
  },
  {
   "cell_type": "code",
   "execution_count": 2,
   "metadata": {},
   "outputs": [],
   "source": [
    "def binSpikes(neurons,binSize = 0.05,start = 0,stop = 0):\n",
    "    if stop == 0:\n",
    "        stop = np.max([neuron.as_units('s').index[-1] for neuron in neurons])\n",
    "\n",
    "    bins = np.arange(start,stop,binSize)\n",
    "    binned = []\n",
    "    for neuron in neurons:\n",
    "        hist,b = np.histogram(neuron.as_units('s').index,bins = bins)\n",
    "        binned.append(hist)\n",
    "    return np.array(binned)\n",
    "\n",
    "def synchrony(neurons,binsize):\n",
    "    print(len(neurons))\n",
    "    print(binsize)\n",
    "    return True\n",
    "\n",
    "def main(path):\n",
    "    neurons,metadata = bk.loadSpikeData(path)"
   ]
  },
  {
   "cell_type": "code",
   "execution_count": 3,
   "metadata": {},
   "outputs": [
    {
     "name": "stdout",
     "output_type": "stream",
     "text": [
      "Rat : 8 on day : 6\n",
      "Working with session Rat08-20130713 @ Z:\\Rat08\\Rat08-20130713\n",
      "Loading Rat08-20130713.clu.1\n",
      "Loading Rat08-20130713.clu.2\n",
      "Loading Rat08-20130713.clu.3\n",
      "Loading Rat08-20130713.clu.4\n",
      "Loading Rat08-20130713.clu.5\n",
      "Loading Rat08-20130713.clu.6\n",
      "Loading Rat08-20130713.clu.7\n",
      "Loading Rat08-20130713.clu.8\n",
      "Loading Rat08-20130713.clu.9\n",
      "Loading Rat08-20130713.clu.10\n",
      "Loading Rat08-20130713.clu.11\n",
      "Loading Rat08-20130713.clu.12\n",
      "Loading Rat08-20130713.clu.13\n",
      "Loading Rat08-20130713.clu.14\n",
      "Loading Rat08-20130713.clu.15\n",
      "Loading Rat08-20130713.clu.16\n",
      "Loading Rat08-20130713.clu.17\n",
      "Loading Rat08-20130713.clu.18\n",
      "Loading Rat08-20130713.clu.19\n",
      "Loading Rat08-20130713.clu.20\n"
     ]
    }
   ],
   "source": [
    "path = bk.get_session()['Path'][5]\n",
    "bk.set_current_session(path)\n",
    "\n"
   ]
  },
  {
   "cell_type": "code",
   "execution_count": 175,
   "metadata": {},
   "outputs": [
    {
     "name": "stderr",
     "output_type": "stream",
     "text": [
      "100% |########################################################################|\n"
     ]
    }
   ],
   "source": [
    "binSize = 0.1\n",
    "winSize = int(10/binSize)\n",
    "step = int(1/binSize)\n",
    "\n",
    "binned = binSpikes(neurons,binSize,start = 0,stop = 100)\n",
    "\n",
    "\n",
    "# for i in range(0,binned.shape[1],step):\n",
    "#     t = time.time()\n",
    "#     plt.clf()\n",
    "#     corr = np.corrcoef(binned[:,i:i+winSize])\n",
    "#     corr[np.isnan(corr)] = 0\n",
    "#     sns.heatmap(corr,square = True,vmin = 0,vmax = 0.1,cmap = 'viridis')\n",
    "#     plt.draw()\n",
    "#     plt.title(i)\n",
    "#     plt.pause(0.001)\n",
    "#     print(time.time()-t)\n",
    "corr = []   \n",
    "for i in range(0,int(binned.shape[1]),step):\n",
    "    corr.append(np.corrcoef(binned[:,i:i+winSize]))\n",
    "    corr[-1][np.isnan(corr[-1])] = 0"
   ]
  },
  {
   "cell_type": "code",
   "execution_count": null,
   "metadata": {},
   "outputs": [],
   "source": [
    "pbar = ProgressBar()\n",
    "\n",
    "corr = np.empty((binned.shape[1],252,252))   \n",
    "for i,j in enumerate(pbar(range(0,binned.shape[1],step))):\n",
    "    corr[i] = np.corrcoef(binned[:,j:j+winSize])\n",
    "    corr[i][np.isnan(corr[i])] = 0"
   ]
  },
  {
   "cell_type": "code",
   "execution_count": 177,
   "metadata": {},
   "outputs": [],
   "source": [
    "# for i in corr:\n",
    "#     plt.clf()\n",
    "#     sns.heatmap(i,square = True,vmin = 0,vmax = 0.5,cmap = 'viridis')\n",
    "#     plt.pause(0.001)\n",
    "\n",
    "hpc_shank = at.get_structure_shanks(bk.session,'Hpc')\n",
    "bla_shank = at.get_structure_shanks(bk.session,'BLA')\n",
    "\n",
    "hpc_mask = [i in hpc_shank for i in metadata[:,0]]\n",
    "bla_mask = [i in bla_shank for i in metadata[:,0]]"
   ]
  },
  {
   "cell_type": "code",
   "execution_count": null,
   "metadata": {},
   "outputs": [],
   "source": [
    "hpc_corr = corr[:,:,hpc_mask][:,hpc_mask]\n",
    "bla_corr = corr[:,:,bla_mask][:,bla_mask]\n",
    "hpc_bla_corr = corr[:,:,hpc_mask][:,bla_mask]\n",
    "\n",
    "print('a')\n",
    "\n",
    "\n",
    "hpc_mean = np.mean(hpc_corr,axis = (1,2))\n",
    "print('hpc done')\n",
    "bla_mean = np.mean(bla_corr,axis = (1,2))\n",
    "print('bla done')\n",
    "\n",
    "hpc_bla_mean = np.mean(hpc_bla_corr,axis = (1,2))"
   ]
  },
  {
   "cell_type": "code",
   "execution_count": 171,
   "metadata": {},
   "outputs": [
    {
     "data": {
      "text/plain": [
       "[<matplotlib.lines.Line2D at 0x1981ec78748>]"
      ]
     },
     "execution_count": 171,
     "metadata": {},
     "output_type": "execute_result"
    }
   ],
   "source": [
    "# plt.figure()\n",
    "plt.plot(hpc_mean)\n",
    "plt.plot(bla_mean)\n",
    "plt.plot(hpc_bla_mean)"
   ]
  },
  {
   "cell_type": "code",
   "execution_count": 47,
   "metadata": {},
   "outputs": [
    {
     "data": {
      "text/plain": [
       "[<matplotlib.lines.Line2D at 0x1c60107ba48>]"
      ]
     },
     "execution_count": 47,
     "metadata": {},
     "output_type": "execute_result"
    }
   ],
   "source": [
    "a = []\n",
    "for i in range(corr.shape[0]):\n",
    "    a.append(np.mean(corr[i]))\n",
    "    \n",
    "plt.plot(a)"
   ]
  },
  {
   "cell_type": "code",
   "execution_count": 49,
   "metadata": {},
   "outputs": [],
   "source": [
    "a = scipy.io.loadmat('States.mat')['sws']\n",
    "\n",
    "plotIntervals(a)"
   ]
  },
  {
   "cell_type": "code",
   "execution_count": 48,
   "metadata": {},
   "outputs": [],
   "source": [
    "def plotIntervals(intervals):\n",
    "    for interval in intervals:\n",
    "        plt.axvspan(interval[0],interval[1], facecolor='grey', alpha=0.5)"
   ]
  },
  {
   "cell_type": "code",
   "execution_count": 123,
   "metadata": {},
   "outputs": [],
   "source": [
    "output_array = np.zeros((999,252,252), dtype=np.float32)\n",
    "corr = np.empty((binned.shape[1],252,252),dtype = np.float32)   \n",
    "\n",
    "for i in range(999):\n",
    "    corr[i] = np.corrcoef(binned[:,i:i+winSize])"
   ]
  },
  {
   "cell_type": "code",
   "execution_count": 131,
   "metadata": {},
   "outputs": [],
   "source": [
    "corr = np.empty((binned.shape[1],252,252),dtype = np.float32)   \n",
    "for i in range(999):\n",
    "    corr[i] = np.corrcoef(binned[:,i:i+winSize])\n",
    "#     corr[-1][np.isnan(corr[-1])] = 0"
   ]
  },
  {
   "cell_type": "code",
   "execution_count": 149,
   "metadata": {},
   "outputs": [
    {
     "name": "stderr",
     "output_type": "stream",
     "text": [
      "100% |########################################################################|\r"
     ]
    },
    {
     "name": "stdout",
     "output_type": "stream",
     "text": [
      "(0, 0)\n",
      "(1, 2)\n",
      "(2, 4)\n",
      "(3, 6)\n",
      "(4, 8)\n"
     ]
    },
    {
     "name": "stderr",
     "output_type": "stream",
     "text": [
      "\n"
     ]
    }
   ],
   "source": [
    "pbar = ProgressBar()\n",
    "for i in enumerate(pbar(range(0,10,2))):\n",
    "    print(i)"
   ]
  },
  {
   "cell_type": "code",
   "execution_count": null,
   "metadata": {},
   "outputs": [],
   "source": []
  }
 ],
 "metadata": {
  "kernelspec": {
   "display_name": "Python 3",
   "language": "python",
   "name": "python3"
  },
  "language_info": {
   "codemirror_mode": {
    "name": "ipython",
    "version": 3
   },
   "file_extension": ".py",
   "mimetype": "text/x-python",
   "name": "python",
   "nbconvert_exporter": "python",
   "pygments_lexer": "ipython3",
   "version": "3.7.6"
  }
 },
 "nbformat": 4,
 "nbformat_minor": 4
}
