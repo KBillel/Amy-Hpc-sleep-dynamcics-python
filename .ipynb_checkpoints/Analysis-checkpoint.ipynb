{
 "cells": [
  {
   "cell_type": "code",
   "execution_count": 4,
   "metadata": {},
   "outputs": [],
   "source": [
    "%matplotlib qt\n",
    "\n",
    "import neuroseries as nts\n",
    "\n",
    "import numpy as np\n",
    "import matplotlib.pyplot as plt\n",
    "import scipy.stats\n",
    "import scipy.ndimage\n",
    "import os\n",
    "\n",
    "import scipy.signal\n",
    "import scipy.stats\n",
    "\n",
    "import bk.load as bk\n",
    "import bk.plot\n",
    "import bk.compute\n",
    "\n",
    "def TTLtoTimes(TTL,Fs = 20000):\n",
    "    \n",
    "    if isinstance(TTL[0],(np.bool_,bool)):\n",
    "        TTL = list(map(int,TTL))\n",
    "    \n",
    "    diff_TTL = np.diff(TTL)\n",
    "    \n",
    "    t_start = np.where(diff_TTL == 1)[0]\n",
    "    t_end = np.where(diff_TTL == -1)[0]\n",
    "    t_TTL = np.array([np.mean(interval) for interval in zip(t_start,t_end)])\n",
    "    \n",
    "    return t_TTL/Fs\n",
    "\n",
    "def speed(pos):\n",
    "    \n",
    "    x_speed = np.diff(pos['x'])/np.diff(pos.index)\n",
    "    y_speed = np.diff(pos['y'])/np.diff(pos.index)\n",
    "    \n",
    "    v = np.sqrt(x_speed**2 + y_speed**2)\n",
    "    \n",
    "    return v\n",
    "\n",
    "def load_pos():\n",
    "    import pandas as pd\n",
    "    files = os.listdir()\n",
    "    for f in files: \n",
    "        if f.endswith('.h5'): \n",
    "            filename = f\n",
    "    \n",
    "    data = pd.read_hdf(filename)\n",
    "    data = data[data.keys()[0][0]]\n",
    "    return data\n",
    "\n",
    "def load_digitalin(channels,Fs = 20000):\n",
    "    import pandas as pd\n",
    "    \n",
    "    digital_word = np.fromfile('digitalin.dat','uint16')\n",
    "    sample = len(digital_word)\n",
    "    time = np.arange(0,sample)\n",
    "    time = time/Fs\n",
    "\n",
    "    chan = {}\n",
    "    \n",
    "    for i in range(len(channels)):\n",
    "        chan.update({channels[i]:(digital_word & 2**i)>0})\n",
    "\n",
    "    return time,chan\n",
    "\n",
    "# def load_digitalin(path,nchannels=16,Fs = 20000):\n",
    "#     import pandas as pd\n",
    "    \n",
    "#     digital_word = np.fromfile(path,'uint16')\n",
    "#     sample = len(digital_word)\n",
    "#     time = np.arange(0,sample)\n",
    "#     time = time/Fs\n",
    "\n",
    "    \n",
    "#     for i in range(nchannels):\n",
    "#         if i == 0: data = (digital_word & 2**i)>0\n",
    "#         else: data = np.vstack((data,(digital_word & 2**i)>0))\n",
    "\n",
    "#     return data\n",
    "\n"
   ]
  },
  {
   "cell_type": "code",
   "execution_count": 5,
   "metadata": {},
   "outputs": [],
   "source": [
    "# path = 'Y:/ExampleSession/rat01_200630_114732'\n",
    "# path = 'Y:/ExampleSession/rat01_200630_171900'\n",
    "# path = 'Y:/ExampleSession/rat01_200630_183149/'\n",
    "\n",
    "# path = 'Y:/ExampleSession/RAT02/rat02_200707_114611'\n",
    "\n",
    "\n",
    "# i = 1\n",
    "# title = ['Fear','Tone','Context']\n",
    "\n",
    "# os.chdir(path)\n",
    "# step = 1\n",
    "\n",
    "# time,data = load_digitalin(['TTL','Shock','Tone'])\n",
    "# pos = load_pos()\n",
    "\n",
    "# s = speed(pos['snout'])\n",
    "# s = scipy.ndimage.gaussian_filter1d(s,1)\n",
    "\n",
    "# tf = TTLtoTimes(data['TTL'])\n",
    "# time = time-tf[0]\n",
    "# tf = np.delete(tf,-1)\n",
    "\n",
    "# pos.index = tf-tf[0]\n",
    "# time = time[0:-1:step]\n",
    "\n",
    "# fig = plt.subplot(1,1,i)\n",
    "# plt.tight_layout()\n",
    "# plt.title(title[i-1])\n",
    "# plt.plot(time,data['TTL'][0:-1:step])\n",
    "# plt.plot(time,data['Shock'][0:-1:step] * 3)\n",
    "# plt.plot(time,data['Tone'][0:-1:step]*2)\n",
    "# plt.plot(pos.index[:-1],s/15)\n",
    "# plt.legend(['TTL','Shock','Tone','Speed'])\n",
    "# plt.xlabel('Time (s)')\n",
    "# #plt.vlines(x=tf,ymin = 0, ymax = 3,color='red')\n",
    "# i += 1\n",
    "\n",
    "# plt.show()"
   ]
  },
  {
   "cell_type": "code",
   "execution_count": 1,
   "metadata": {},
   "outputs": [],
   "source": [
    "def freezing(speed,treshold):\n",
    "    \"\"\"\n",
    "        BK 8/11/20\n",
    "        Input \n",
    "            speed: speed vector as output by bk.compute.speed (not yet implemented. But it's an nts.frame)\n",
    "            treshold: arbritary units\n",
    "    \"\"\"\n",
    "    \n",
    "    fs =  1/scipy.stats.mode(np.diff(speed.index)).mode[0]\n",
    "    freezing = speed.values<treshold\n",
    "    if freezing[0] == 1: freezing[0] = 0\n",
    "    if freezing[-1] == 1: freezing = np.append(freezing,0)\n",
    "        \n",
    "    dfreeze = np.diff(freezing.astype(np.int8))\n",
    "    start = np.where(dfreeze == 1)[0]/fs + speed.index[0]\n",
    "    end = np.where(dfreeze == -1)[0]/fs + speed.index[0]\n",
    "    \n",
    "    freezing_intervals = nts.IntervalSet(start,end)\n",
    "    return freezing_intervals\n",
    "\n",
    "def consolidate_intervals(freezing_intervals,t_min):\n",
    "    starts = []\n",
    "    ends = []\n",
    "    for i,z in enumerate(zip(freezing_intervals.as_units('s').start, freezing_intervals.as_units('s').end)):\n",
    "        s=z[0]\n",
    "        e=z[1]\n",
    "        if ends:\n",
    "            if s<ends[-1]: continue\n",
    "        if freezing_intervals.as_units('s').start[i+1]-e<t_min:\n",
    "            starts.append(s)\n",
    "            j=i\n",
    "            while freezing_intervals.as_units('s').start[j+1]-freezing_intervals.as_units('s').end[j]<t_min and j<(len(freezing_intervals.as_units('s').start)-2):\n",
    "                j=j+1\n",
    "            if j<(len(freezing_intervals.as_units('s').start)-2):\n",
    "                ends.append(freezing_intervals.as_units('s').end[j])\n",
    "            else:\n",
    "                ends.append(freezing_intervals.as_units('s').end[j+1])\n",
    "        else:\n",
    "            starts.append(s)\n",
    "            ends.append(e)\n",
    "        \n",
    "    freeze = nts.IntervalSet(starts,ends,time_units = 's')\n",
    "    return freeze\n",
    "\n",
    "def freezing_video(video_path,output_file,tf,freezing_intervals):\n",
    "    \n",
    "    \"\"\"\n",
    "        video_path : path to the video to be displaying\n",
    "        outputfile : path to the video to written\n",
    "        tf : vector of time containing timing of each frame\n",
    "        freezing intervals : Intervals when the animal is freezing (as nts.Interval_Set)\n",
    "    \"\"\"\n",
    "    \n",
    "    if os.path.exists(output_file):\n",
    "        print(output_file,'already exist, please delete manually')\n",
    "        return\n",
    "    \n",
    "    tf = nts.Ts(tf-tf[0],time_units='s')\n",
    "    freezing_frames = np.where(freezing_intervals.in_interval(tf)>=0)[0]\n",
    "    fs =  1/scipy.stats.mode(np.diff(tf.as_units('s').index)).mode[0]\n",
    "    import cv2\n",
    "    cap  = cv2.VideoCapture(video_path)\n",
    "    frame_width = int(cap.get(3))\n",
    "    frame_height = int(cap.get(4))\n",
    "    \n",
    "    nf = 0\n",
    "    out = cv2.VideoWriter(output_file,cv2.VideoWriter_fourcc('M','J','P','G'), fs, (frame_width,frame_height))\n",
    "    while True:\n",
    "        \n",
    "        ret,frame = cap.read()\n",
    "        if ret == True:\n",
    "            if nf in freezing_frames: frame = cv2.circle(frame,(25,25),10,(0,0,255),20)\n",
    "\n",
    "            cv2.imshow(video_path,frame)\n",
    "            out.write(frame)\n",
    "            if cv2.waitKey(1) & 0xFF == ord('q'): \n",
    "                break\n",
    "            nf +=1\n",
    "        else:\n",
    "            break\n",
    "    cap.release()\n",
    "    out.release()\n",
    "    \n",
    "    return True"
   ]
  },
  {
   "cell_type": "code",
   "execution_count": 7,
   "metadata": {},
   "outputs": [
    {
     "name": "stdout",
     "output_type": "stream",
     "text": [
      "[1016.31046863 1239.91676824 1517.04281169 ...   11.90097525   12.9234852\n",
      "   13.68259879]\n"
     ]
    },
    {
     "name": "stderr",
     "output_type": "stream",
     "text": [
      "<ipython-input-6-11f4545f7c68>:59: RuntimeWarning: invalid value encountered in greater\n",
      "  freezing_frames = np.where(freezing_intervals.in_interval(tf)>0)[0]\n",
      "<ipython-input-6-11f4545f7c68>:74: UserWarning: Creating legend with loc=\"best\" can be slow with large amounts of data.\n",
      "  cv2.imshow(video_path,frame)\n",
      "<ipython-input-6-11f4545f7c68>:76: UserWarning: Creating legend with loc=\"best\" can be slow with large amounts of data.\n",
      "  if cv2.waitKey(1) & 0xFF == ord('q'):\n"
     ]
    },
    {
     "data": {
      "text/plain": [
       "True"
      ]
     },
     "execution_count": 7,
     "metadata": {},
     "output_type": "execute_result"
    },
    {
     "name": "stderr",
     "output_type": "stream",
     "text": [
      "/home/billelkhouader/anaconda3/lib/python3.8/site-packages/ipykernel/eventloops.py:106: UserWarning: Creating legend with loc=\"best\" can be slow with large amounts of data.\n",
      "  app.exec_()\n"
     ]
    }
   ],
   "source": [
    "# path = '/media/billel/DATA/ExampleSession/RAT01/'\n",
    "path = '/media/sf_Y/ExampleSession/RAT01/'\n",
    "subpath = os.listdir(path)\n",
    "\n",
    "os.chdir(os.path.join(path,subpath[1]))\n",
    "# os.chdir('Y:/ExampleSession/RAT01/rat01_200630_171900')\n",
    "step = 20\n",
    "\n",
    "time,data = load_digitalin(['TTL','Shock','Tone'])\n",
    "\n",
    "tf = TTLtoTimes(data['TTL'])\n",
    "tf = np.delete(tf,-1)\n",
    "\n",
    "time = time-tf[0]\n",
    "\n",
    "pos = load_pos()\n",
    "pos.index = tf-tf[0]\n",
    "\n",
    "\n",
    "s = speed(pos['snout'])\n",
    "s = scipy.ndimage.gaussian_filter1d(s,2)\n",
    "print(s)\n",
    "s = nts.Tsd(pos.index.values[:-1],s,time_units='s')\n",
    "\n",
    "\n",
    "time = time[0:-1:step]\n",
    "fig = plt.subplot(1,1,1)\n",
    "plt.tight_layout()\n",
    "plt.title('Freezing')\n",
    "plt.plot(time,data['TTL'][0:-1:step])\n",
    "plt.plot(time,data['Shock'][0:-1:step] * 3)\n",
    "plt.plot(time,data['Tone'][0:-1:step]*2)\n",
    "plt.plot(pos.index[:-1],s.values/1500)\n",
    "plt.legend(['TTL','Shock','Tone','Speed'])\n",
    "plt.xlabel('Time (s)')\n",
    "#plt.vlines(x=tf,ymin = 0, ymax = 3,color='red')\n",
    "\n",
    "freezing_intervals = bk.compute.freezing(s,50)\n",
    "freezing_intervals = consolidate_intervals(freezing_intervals,0.300)\n",
    "freezing_intervals = freezing_intervals[(freezing_intervals.as_units('s').end-freezing_intervals.as_units('s').start)>2.5]\n",
    "\n",
    "bk.plot.intervals(freezing_intervals,col='orange')\n",
    "\n",
    "plt.show()\n",
    "\n",
    "freezing_video(video_path='rat01-tone.mp4',output_file='freezing.avi',tf = tf,freezing_intervals = freezing_intervals)"
   ]
  },
  {
   "cell_type": "code",
   "execution_count": 16,
   "metadata": {},
   "outputs": [
    {
     "ename": "TypeError",
     "evalue": "only size-1 arrays can be converted to Python scalars",
     "output_type": "error",
     "traceback": [
      "\u001b[1;31m---------------------------------------------------------------------------\u001b[0m",
      "\u001b[1;31mTypeError\u001b[0m                                 Traceback (most recent call last)",
      "\u001b[1;32m<ipython-input-16-4eb03d284a29>\u001b[0m in \u001b[0;36m<module>\u001b[1;34m\u001b[0m\n\u001b[1;32m----> 1\u001b[1;33m \u001b[0mint\u001b[0m\u001b[1;33m(\u001b[0m\u001b[1;36m1\u001b[0m\u001b[1;33m/\u001b[0m\u001b[0mnp\u001b[0m\u001b[1;33m.\u001b[0m\u001b[0mdiff\u001b[0m\u001b[1;33m(\u001b[0m\u001b[0mtf\u001b[0m\u001b[1;33m)\u001b[0m\u001b[1;33m)\u001b[0m\u001b[1;33m\u001b[0m\u001b[1;33m\u001b[0m\u001b[0m\n\u001b[0m",
      "\u001b[1;31mTypeError\u001b[0m: only size-1 arrays can be converted to Python scalars"
     ]
    }
   ],
   "source": []
  },
  {
   "cell_type": "code",
   "execution_count": 221,
   "metadata": {},
   "outputs": [],
   "source": [
    "y = np.sin(np.arange(0,6,0.01))\n",
    "np_conv = np.convolve(y,gaussian,'same')/10\n",
    "scipy_conv = scipy.signal.fftconvolve(y,gaussian,'same')\n",
    "scipy_filter = scipy.ndimage.gaussian_filter1d(y,10)"
   ]
  },
  {
   "cell_type": "code",
   "execution_count": 222,
   "metadata": {},
   "outputs": [
    {
     "data": {
      "text/plain": [
       "<matplotlib.legend.Legend at 0x20c8b119948>"
      ]
     },
     "execution_count": 222,
     "metadata": {},
     "output_type": "execute_result"
    }
   ],
   "source": [
    "plt.plot(y)\n",
    "plt.plot(np_conv)\n",
    "plt.plot(scipy_conv)\n",
    "plt.plot(scipy_filter)\n",
    "\n",
    "plt.legend(['ori','np','scipy conv','scipy ndimage'])"
   ]
  },
  {
   "cell_type": "code",
   "execution_count": 21,
   "metadata": {},
   "outputs": [],
   "source": [
    "body = []\n",
    "for i in pos:\n",
    "    body.append(i[0])\n",
    "    \n",
    "body = np.unique(body)"
   ]
  },
  {
   "cell_type": "code",
   "execution_count": 133,
   "metadata": {},
   "outputs": [
    {
     "data": {
      "text/plain": [
       "<matplotlib.legend.Legend at 0x7f8e254ea0a0>"
      ]
     },
     "execution_count": 133,
     "metadata": {},
     "output_type": "execute_result"
    }
   ],
   "source": [
    "all_speed = np.empty((len(pos)-1,5))\n",
    "i = 0\n",
    "for b in body:\n",
    "    all_speed[:,i] = speed(pos[b])\n",
    "    i +=1\n",
    "plt.figure()\n",
    "# all_speed = all_speed[1500:,:]\n",
    "all_speed = scipy.ndimage.gaussian_filter1d(all_speed,2,axis=0)\n",
    "plt.plot(all_speed)\n",
    "plt.legend(body)\n",
    "all_speed = nts.TsdFrame(t = pos.index.values[:-1],d = all_speed, time_units = 's',columns = body)"
   ]
  },
  {
   "cell_type": "code",
   "execution_count": 134,
   "metadata": {},
   "outputs": [],
   "source": [
    "speedos = nts.TsdFrame(t = tf)"
   ]
  },
  {
   "cell_type": "code",
   "execution_count": 143,
   "metadata": {},
   "outputs": [],
   "source": []
  },
  {
   "cell_type": "code",
   "execution_count": 144,
   "metadata": {},
   "outputs": [
    {
     "data": {
      "text/html": [
       "<div>\n",
       "<style scoped>\n",
       "    .dataframe tbody tr th:only-of-type {\n",
       "        vertical-align: middle;\n",
       "    }\n",
       "\n",
       "    .dataframe tbody tr th {\n",
       "        vertical-align: top;\n",
       "    }\n",
       "\n",
       "    .dataframe thead th {\n",
       "        text-align: right;\n",
       "    }\n",
       "</style>\n",
       "<table border=\"1\" class=\"dataframe\">\n",
       "  <thead>\n",
       "    <tr style=\"text-align: right;\">\n",
       "      <th></th>\n",
       "      <th>base_tail</th>\n",
       "      <th>end_tail</th>\n",
       "      <th>left_ear</th>\n",
       "      <th>right_ear</th>\n",
       "      <th>snout</th>\n",
       "    </tr>\n",
       "    <tr>\n",
       "      <th>Time (us)</th>\n",
       "      <th></th>\n",
       "      <th></th>\n",
       "      <th></th>\n",
       "      <th></th>\n",
       "      <th></th>\n",
       "    </tr>\n",
       "  </thead>\n",
       "  <tbody>\n",
       "    <tr>\n",
       "      <th>0</th>\n",
       "      <td>37.583033</td>\n",
       "      <td>724.806739</td>\n",
       "      <td>1190.980166</td>\n",
       "      <td>683.069592</td>\n",
       "      <td>1358.278619</td>\n",
       "    </tr>\n",
       "    <tr>\n",
       "      <th>33325</th>\n",
       "      <td>37.569126</td>\n",
       "      <td>734.036610</td>\n",
       "      <td>1183.248852</td>\n",
       "      <td>657.804164</td>\n",
       "      <td>1361.083096</td>\n",
       "    </tr>\n",
       "    <tr>\n",
       "      <th>66650</th>\n",
       "      <td>37.516557</td>\n",
       "      <td>749.482695</td>\n",
       "      <td>1167.085870</td>\n",
       "      <td>610.186259</td>\n",
       "      <td>1366.088526</td>\n",
       "    </tr>\n",
       "    <tr>\n",
       "      <th>99975</th>\n",
       "      <td>37.380474</td>\n",
       "      <td>765.833503</td>\n",
       "      <td>1141.208035</td>\n",
       "      <td>545.493193</td>\n",
       "      <td>1372.104397</td>\n",
       "    </tr>\n",
       "    <tr>\n",
       "      <th>133325</th>\n",
       "      <td>37.102946</td>\n",
       "      <td>776.710469</td>\n",
       "      <td>1104.110209</td>\n",
       "      <td>470.389676</td>\n",
       "      <td>1377.368749</td>\n",
       "    </tr>\n",
       "    <tr>\n",
       "      <th>...</th>\n",
       "      <td>...</td>\n",
       "      <td>...</td>\n",
       "      <td>...</td>\n",
       "      <td>...</td>\n",
       "      <td>...</td>\n",
       "    </tr>\n",
       "    <tr>\n",
       "      <th>622420199</th>\n",
       "      <td>8.080557</td>\n",
       "      <td>27.901076</td>\n",
       "      <td>15.482479</td>\n",
       "      <td>13.704811</td>\n",
       "      <td>12.590928</td>\n",
       "    </tr>\n",
       "    <tr>\n",
       "      <th>622453524</th>\n",
       "      <td>8.057923</td>\n",
       "      <td>28.757154</td>\n",
       "      <td>15.204255</td>\n",
       "      <td>13.513517</td>\n",
       "      <td>12.524467</td>\n",
       "    </tr>\n",
       "    <tr>\n",
       "      <th>622486850</th>\n",
       "      <td>8.046167</td>\n",
       "      <td>29.480066</td>\n",
       "      <td>14.942245</td>\n",
       "      <td>13.340893</td>\n",
       "      <td>12.481720</td>\n",
       "    </tr>\n",
       "    <tr>\n",
       "      <th>622520199</th>\n",
       "      <td>8.041334</td>\n",
       "      <td>30.004413</td>\n",
       "      <td>14.740363</td>\n",
       "      <td>13.211495</td>\n",
       "      <td>12.457083</td>\n",
       "    </tr>\n",
       "    <tr>\n",
       "      <th>622553524</th>\n",
       "      <td>8.039854</td>\n",
       "      <td>30.281102</td>\n",
       "      <td>14.630875</td>\n",
       "      <td>13.142287</td>\n",
       "      <td>12.445980</td>\n",
       "    </tr>\n",
       "  </tbody>\n",
       "</table>\n",
       "<p>18678 rows × 5 columns</p>\n",
       "</div>"
      ],
      "text/plain": [
       "           base_tail    end_tail     left_ear   right_ear        snout\n",
       "Time (us)                                                             \n",
       "0          37.583033  724.806739  1190.980166  683.069592  1358.278619\n",
       "33325      37.569126  734.036610  1183.248852  657.804164  1361.083096\n",
       "66650      37.516557  749.482695  1167.085870  610.186259  1366.088526\n",
       "99975      37.380474  765.833503  1141.208035  545.493193  1372.104397\n",
       "133325     37.102946  776.710469  1104.110209  470.389676  1377.368749\n",
       "...              ...         ...          ...         ...          ...\n",
       "622420199   8.080557   27.901076    15.482479   13.704811    12.590928\n",
       "622453524   8.057923   28.757154    15.204255   13.513517    12.524467\n",
       "622486850   8.046167   29.480066    14.942245   13.340893    12.481720\n",
       "622520199   8.041334   30.004413    14.740363   13.211495    12.457083\n",
       "622553524   8.039854   30.281102    14.630875   13.142287    12.445980\n",
       "\n",
       "[18678 rows x 5 columns]"
      ]
     },
     "execution_count": 144,
     "metadata": {},
     "output_type": "execute_result"
    }
   ],
   "source": [
    "speedos"
   ]
  },
  {
   "cell_type": "code",
   "execution_count": 147,
   "metadata": {},
   "outputs": [
    {
     "data": {
      "text/plain": [
       "<matplotlib.colorbar.Colorbar at 0x7f8e2652dc10>"
      ]
     },
     "execution_count": 147,
     "metadata": {},
     "output_type": "execute_result"
    }
   ],
   "source": [
    "tsne = skm.TSNE(n_components=2).fit_transform(all_speed)\n",
    "c = np.linspace(0,1,len(tsne[:,0]))\n",
    "viridis = cm.get_cmap('viridis')\n",
    "plt.cla()\n",
    "plt.scatter(tsne[:,0],tsne[:,1],cmap=plt.get_cmap('viridis'),c =viridis(c) )\n",
    "plt.colorbar()"
   ]
  },
  {
   "cell_type": "code",
   "execution_count": 121,
   "metadata": {},
   "outputs": [],
   "source": [
    "plt.cla()"
   ]
  },
  {
   "cell_type": "code",
   "execution_count": 110,
   "metadata": {},
   "outputs": [],
   "source": []
  },
  {
   "cell_type": "code",
   "execution_count": 109,
   "metadata": {},
   "outputs": [
    {
     "data": {
      "text/plain": [
       "[<matplotlib.lines.Line2D at 0x7f8e28b8e100>,\n",
       " <matplotlib.lines.Line2D at 0x7f8e28b8e220>,\n",
       " <matplotlib.lines.Line2D at 0x7f8e28b8e2e0>,\n",
       " <matplotlib.lines.Line2D at 0x7f8e28b8e3a0>,\n",
       " <matplotlib.lines.Line2D at 0x7f8e28b8e460>]"
      ]
     },
     "execution_count": 109,
     "metadata": {},
     "output_type": "execute_result"
    }
   ],
   "source": []
  },
  {
   "cell_type": "code",
   "execution_count": 103,
   "metadata": {},
   "outputs": [],
   "source": [
    "import sklearn.manifold as skm"
   ]
  },
  {
   "cell_type": "code",
   "execution_count": 62,
   "metadata": {},
   "outputs": [],
   "source": []
  },
  {
   "cell_type": "code",
   "execution_count": 86,
   "metadata": {},
   "outputs": [],
   "source": [
    "from matplotlib import cm"
   ]
  },
  {
   "cell_type": "code",
   "execution_count": 88,
   "metadata": {},
   "outputs": [],
   "source": []
  },
  {
   "cell_type": "code",
   "execution_count": 94,
   "metadata": {},
   "outputs": [
    {
     "data": {
      "text/plain": [
       "<matplotlib.colorbar.Colorbar at 0x7f8e293ca5b0>"
      ]
     },
     "execution_count": 94,
     "metadata": {},
     "output_type": "execute_result"
    }
   ],
   "source": []
  },
  {
   "cell_type": "code",
   "execution_count": null,
   "metadata": {},
   "outputs": [],
   "source": []
  }
 ],
 "metadata": {
  "kernelspec": {
   "display_name": "Python 3",
   "language": "python",
   "name": "python3"
  },
  "language_info": {
   "codemirror_mode": {
    "name": "ipython",
    "version": 3
   },
   "file_extension": ".py",
   "mimetype": "text/x-python",
   "name": "python",
   "nbconvert_exporter": "python",
   "pygments_lexer": "ipython3",
   "version": "3.8.3"
  }
 },
 "nbformat": 4,
 "nbformat_minor": 4
}
