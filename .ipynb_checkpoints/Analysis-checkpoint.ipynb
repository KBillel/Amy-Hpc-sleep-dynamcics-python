{
 "cells": [
  {
   "cell_type": "code",
   "execution_count": 1,
   "metadata": {},
   "outputs": [],
   "source": [
    "%matplotlib qt\n",
    "\n",
    "import neuroseries as nts\n",
    "\n",
    "import numpy as np\n",
    "import matplotlib.pyplot as plt\n",
    "import scipy.stats\n",
    "import scipy.ndimage\n",
    "import os\n",
    "\n",
    "import scipy.signal\n",
    "import scipy.stats\n",
    "\n",
    "import bk.load as bk\n",
    "import bk.plot\n",
    "import bk.compute\n",
    "\n",
    "def TTLtoTimes(TTL,Fs = 20000):\n",
    "    \n",
    "    if isinstance(TTL[0],(np.bool_,bool)):\n",
    "        TTL = list(map(int,TTL))\n",
    "    \n",
    "    diff_TTL = np.diff(TTL)\n",
    "    \n",
    "    t_start = np.where(diff_TTL == 1)[0]\n",
    "    t_end = np.where(diff_TTL == -1)[0]\n",
    "    t_TTL = np.array([np.mean(interval) for interval in zip(t_start,t_end)])\n",
    "    \n",
    "    return t_TTL/Fs\n",
    "\n",
    "def speed(pos):\n",
    "    \n",
    "    x_speed = np.diff(pos['x'])/np.diff(pos.index)\n",
    "    y_speed = np.diff(pos['y'])/np.diff(pos.index)\n",
    "    \n",
    "    v = np.sqrt(x_speed**2 + y_speed**2)\n",
    "    \n",
    "    return v\n",
    "\n",
    "def load_pos():\n",
    "    import pandas as pd\n",
    "    files = os.listdir()\n",
    "    for f in files: \n",
    "        if f.endswith('.h5'): \n",
    "            filename = f\n",
    "    \n",
    "    data = pd.read_hdf(filename)\n",
    "    data = data[data.keys()[0][0]]\n",
    "    return data\n",
    "\n",
    "def load_digitalin(channels,Fs = 20000):\n",
    "    import pandas as pd\n",
    "    \n",
    "    digital_word = np.fromfile('digitalin.dat','uint16')\n",
    "    sample = len(digital_word)\n",
    "    time = np.arange(0,sample)\n",
    "    time = time/Fs\n",
    "\n",
    "    chan = {}\n",
    "    \n",
    "    for i in range(len(channels)):\n",
    "        chan.update({channels[i]:(digital_word & 2**i)>0})\n",
    "\n",
    "    return time,chan\n",
    "\n",
    "# def load_digitalin(path,nchannels=16,Fs = 20000):\n",
    "#     import pandas as pd\n",
    "    \n",
    "#     digital_word = np.fromfile(path,'uint16')\n",
    "#     sample = len(digital_word)\n",
    "#     time = np.arange(0,sample)\n",
    "#     time = time/Fs\n",
    "\n",
    "    \n",
    "#     for i in range(nchannels):\n",
    "#         if i == 0: data = (digital_word & 2**i)>0\n",
    "#         else: data = np.vstack((data,(digital_word & 2**i)>0))\n",
    "\n",
    "#     return data\n",
    "\n"
   ]
  },
  {
   "cell_type": "code",
   "execution_count": 52,
   "metadata": {
    "jupyter": {
     "source_hidden": true
    }
   },
   "outputs": [
    {
     "name": "stderr",
     "output_type": "stream",
     "text": [
      "C:\\ProgramData\\Anaconda3\\lib\\site-packages\\ipykernel_launcher.py:27: MatplotlibDeprecationWarning: Adding an axes using the same arguments as a previous axes currently reuses the earlier instance.  In a future version, a new instance will always be created and returned.  Meanwhile, this warning can be suppressed, and the future behavior ensured, by passing a unique label to each axes instance.\n"
     ]
    }
   ],
   "source": [
    "path = 'Y:/ExampleSession/rat01_200630_114732'\n",
    "path = 'Y:/ExampleSession/rat01_200630_171900'\n",
    "path = 'Y:/ExampleSession/rat01_200630_183149/'\n",
    "\n",
    "path = 'Y:/ExampleSession/RAT02/rat02_200707_114611'\n",
    "\n",
    "\n",
    "i = 1\n",
    "title = ['Fear','Tone','Context']\n",
    "\n",
    "os.chdir(path)\n",
    "step = 1\n",
    "\n",
    "time,data = load_digitalin(['TTL','Shock','Tone'])\n",
    "pos = load_pos()\n",
    "\n",
    "s = speed(pos['snout'])\n",
    "s = scipy.ndimage.gaussian_filter1d(s,1)\n",
    "\n",
    "tf = TTLtoTimes(data['TTL'])\n",
    "time = time-tf[0]\n",
    "tf = np.delete(tf,-1)\n",
    "\n",
    "pos.index = tf-tf[0]\n",
    "time = time[0:-1:step]\n",
    "\n",
    "fig = plt.subplot(1,1,i)\n",
    "plt.tight_layout()\n",
    "plt.title(title[i-1])\n",
    "plt.plot(time,data['TTL'][0:-1:step])\n",
    "plt.plot(time,data['Shock'][0:-1:step] * 3)\n",
    "plt.plot(time,data['Tone'][0:-1:step]*2)\n",
    "plt.plot(pos.index[:-1],s/15)\n",
    "plt.legend(['TTL','Shock','Tone','Speed'])\n",
    "plt.xlabel('Time (s)')\n",
    "#plt.vlines(x=tf,ymin = 0, ymax = 3,color='red')\n",
    "i += 1\n",
    "\n",
    "plt.show()"
   ]
  },
  {
   "cell_type": "code",
   "execution_count": 54,
   "metadata": {},
   "outputs": [
    {
     "data": {
      "text/html": [
       "<div>\n",
       "<style scoped>\n",
       "    .dataframe tbody tr th:only-of-type {\n",
       "        vertical-align: middle;\n",
       "    }\n",
       "\n",
       "    .dataframe tbody tr th {\n",
       "        vertical-align: top;\n",
       "    }\n",
       "\n",
       "    .dataframe thead th {\n",
       "        text-align: right;\n",
       "    }\n",
       "</style>\n",
       "<table border=\"1\" class=\"dataframe\">\n",
       "  <thead>\n",
       "    <tr style=\"text-align: right;\">\n",
       "      <th>coords</th>\n",
       "      <th>x</th>\n",
       "      <th>y</th>\n",
       "      <th>likelihood</th>\n",
       "    </tr>\n",
       "    <tr>\n",
       "      <th>Time (s)</th>\n",
       "      <th></th>\n",
       "      <th></th>\n",
       "      <th></th>\n",
       "    </tr>\n",
       "  </thead>\n",
       "  <tbody>\n",
       "    <tr>\n",
       "      <th>0.000000</th>\n",
       "      <td>380.488586</td>\n",
       "      <td>186.74437</td>\n",
       "      <td>0.000012</td>\n",
       "    </tr>\n",
       "    <tr>\n",
       "      <th>0.033324</th>\n",
       "      <td>NaN</td>\n",
       "      <td>NaN</td>\n",
       "      <td>NaN</td>\n",
       "    </tr>\n",
       "    <tr>\n",
       "      <th>0.066675</th>\n",
       "      <td>NaN</td>\n",
       "      <td>NaN</td>\n",
       "      <td>NaN</td>\n",
       "    </tr>\n",
       "    <tr>\n",
       "      <th>0.099999</th>\n",
       "      <td>NaN</td>\n",
       "      <td>NaN</td>\n",
       "      <td>NaN</td>\n",
       "    </tr>\n",
       "    <tr>\n",
       "      <th>0.133324</th>\n",
       "      <td>NaN</td>\n",
       "      <td>NaN</td>\n",
       "      <td>NaN</td>\n",
       "    </tr>\n",
       "    <tr>\n",
       "      <th>...</th>\n",
       "      <td>...</td>\n",
       "      <td>...</td>\n",
       "      <td>...</td>\n",
       "    </tr>\n",
       "    <tr>\n",
       "      <th>617.954025</th>\n",
       "      <td>NaN</td>\n",
       "      <td>NaN</td>\n",
       "      <td>NaN</td>\n",
       "    </tr>\n",
       "    <tr>\n",
       "      <th>617.987350</th>\n",
       "      <td>NaN</td>\n",
       "      <td>NaN</td>\n",
       "      <td>NaN</td>\n",
       "    </tr>\n",
       "    <tr>\n",
       "      <th>618.020675</th>\n",
       "      <td>NaN</td>\n",
       "      <td>NaN</td>\n",
       "      <td>NaN</td>\n",
       "    </tr>\n",
       "    <tr>\n",
       "      <th>618.054025</th>\n",
       "      <td>NaN</td>\n",
       "      <td>NaN</td>\n",
       "      <td>NaN</td>\n",
       "    </tr>\n",
       "    <tr>\n",
       "      <th>618.087350</th>\n",
       "      <td>NaN</td>\n",
       "      <td>NaN</td>\n",
       "      <td>NaN</td>\n",
       "    </tr>\n",
       "  </tbody>\n",
       "</table>\n",
       "<p>18544 rows × 3 columns</p>\n",
       "</div>"
      ],
      "text/plain": [
       "coords               x          y  likelihood\n",
       "Time (s)                                     \n",
       "0.000000    380.488586  186.74437    0.000012\n",
       "0.033324           NaN        NaN         NaN\n",
       "0.066675           NaN        NaN         NaN\n",
       "0.099999           NaN        NaN         NaN\n",
       "0.133324           NaN        NaN         NaN\n",
       "...                ...        ...         ...\n",
       "617.954025         NaN        NaN         NaN\n",
       "617.987350         NaN        NaN         NaN\n",
       "618.020675         NaN        NaN         NaN\n",
       "618.054025         NaN        NaN         NaN\n",
       "618.087350         NaN        NaN         NaN\n",
       "\n",
       "[18544 rows x 3 columns]"
      ]
     },
     "execution_count": 54,
     "metadata": {},
     "output_type": "execute_result"
    }
   ],
   "source": [
    "pos.as_units('s')"
   ]
  },
  {
   "cell_type": "code",
   "execution_count": 53,
   "metadata": {},
   "outputs": [],
   "source": [
    "pos = nts.TsdFrame(t = pos.index.values,d = pos['snout'],time_units='s')\n"
   ]
  },
  {
   "cell_type": "code",
   "execution_count": 5,
   "metadata": {},
   "outputs": [],
   "source": [
    "path = '/media/billel/DATA/ExampleSession/RAT01/'\n"
   ]
  },
  {
   "cell_type": "code",
   "execution_count": 13,
   "metadata": {},
   "outputs": [],
   "source": [
    "path = '/media/billel/DATA/ExampleSession/RAT01/'\n",
    "subpath = os.listdir(path)"
   ]
  },
  {
   "cell_type": "code",
   "execution_count": 42,
   "metadata": {},
   "outputs": [],
   "source": [
    "i = 1\n",
    "title = ['Fear','Tone','Context']\n",
    "\n",
    "\n",
    "# os.chdir(os.path.join(path,subpath[1]))\n",
    "os.chdir('Y:/ExampleSession/RAT01/rat01_200630_171900')\n",
    "step = 20\n",
    "\n",
    "\n",
    "\n",
    "\n",
    "\n",
    "time,data = load_digitalin(['TTL','Shock','Tone'])\n",
    "\n",
    "tf = TTLtoTimes(data['TTL'])\n",
    "tf = np.delete(tf,-1)\n",
    "\n",
    "time = time-tf[0]\n",
    "\n",
    "pos = load_pos()\n",
    "pos.index = tf-tf[0]\n",
    "\n",
    "\n",
    "s = speed(pos['snout'])\n",
    "s = scipy.ndimage.gaussian_filter1d(s,1)\n",
    "s = nts.Tsd(pos.index.values[:-1],s,time_units='s')\n",
    "\n",
    "\n",
    "time = time[0:-1:step]\n",
    "fig = plt.subplot(2,1,1)\n",
    "plt.tight_layout()\n",
    "plt.title(title[i-1])\n",
    "plt.plot(time,data['TTL'][0:-1:step])\n",
    "plt.plot(time,data['Shock'][0:-1:step] * 3)\n",
    "plt.plot(time,data['Tone'][0:-1:step]*2)\n",
    "plt.plot(pos.index[:-1],s.values/1500)\n",
    "plt.legend(['TTL','Shock','Tone','Speed'])\n",
    "plt.xlabel('Time (s)')\n",
    "#plt.vlines(x=tf,ymin = 0, ymax = 3,color='red')\n",
    "i += 1\n",
    "freezing_intervals = bk.compute.freezing(s,50)\n",
    "bk.plot.intervals(freezing_intervals,col='orange')\n",
    "\n",
    "plt.show()"
   ]
  },
  {
   "cell_type": "code",
   "execution_count": 55,
   "metadata": {},
   "outputs": [
    {
     "data": {
      "text/plain": [
       "['bli', 'blou']"
      ]
     },
     "execution_count": 55,
     "metadata": {},
     "output_type": "execute_result"
    }
   ],
   "source": [
    "a = ['bla','bli','blou']\n",
    "del a[0]\n",
    "a"
   ]
  },
  {
   "cell_type": "code",
   "execution_count": null,
   "metadata": {},
   "outputs": [],
   "source": []
  },
  {
   "cell_type": "code",
   "execution_count": 59,
   "metadata": {},
   "outputs": [
    {
     "name": "stdout",
     "output_type": "stream",
     "text": [
      "bla ['bli', 'blou']\n",
      "blou ['blou']\n"
     ]
    }
   ],
   "source": [
    "a = ['bla','bli','blou']\n",
    "for i in a:\n",
    "    del a[0]\n",
    "    print(i,a)\n",
    "    "
   ]
  },
  {
   "cell_type": "code",
   "execution_count": 43,
   "metadata": {},
   "outputs": [
    {
     "name": "stdout",
     "output_type": "stream",
     "text": [
      "6.165125\n",
      "7.1982\n",
      "7.5981\n",
      "7.964675\n",
      "8.3979\n",
      "8.99775\n",
      "11.630425\n",
      "12.430225\n",
      "12.763475\n",
      "14.363075\n",
      "14.829625\n",
      "18.1288\n",
      "18.428725\n",
      "22.027825\n",
      "22.3944\n",
      "22.9276\n",
      "24.427225\n",
      "24.7938\n",
      "25.160375\n",
      "27.39315\n",
      "28.559525\n",
      "29.65925\n",
      "30.892275\n",
      "31.292175\n",
      "32.891775\n",
      "35.52445\n",
      "35.891025\n",
      "36.157625\n",
      "37.79055\n",
      "38.023825\n",
      "38.45705\n",
      "38.823625\n",
      "43.78905\n",
      "44.05565\n",
      "44.32225\n",
      "45.52195\n",
      "47.154875\n",
      "48.58785\n",
      "51.020575\n",
      "53.220025\n",
      "56.45255\n",
      "56.85245\n",
      "57.152375\n",
      "57.552275\n",
      "57.78555\n",
      "58.218775\n",
      "60.3849\n",
      "60.751475\n",
      "60.951425\n",
      "61.417975\n",
      "61.751225\n",
      "63.484125\n",
      "63.5841\n",
      "65.950175\n",
      "66.216775\n",
      "66.483375\n",
      "66.98325\n",
      "67.24985\n",
      "67.483125\n",
      "69.682575\n",
      "70.015825\n",
      "70.1158\n",
      "71.082225\n",
      "71.1822\n",
      "71.415475\n",
      "71.7154\n",
      "71.882025\n",
      "72.015325\n",
      "72.148625\n",
      "72.5152\n",
      "72.748475\n",
      "75.4478\n",
      "75.91435\n",
      "76.814125\n",
      "77.880525\n",
      "78.213775\n",
      "78.547025\n",
      "78.84695\n",
      "79.346825\n",
      "79.680075\n",
      "82.17945\n",
      "82.412725\n",
      "82.879275\n",
      "83.212525\n",
      "83.545775\n",
      "83.979\n",
      "85.7119\n",
      "87.411475\n",
      "87.544775\n",
      "87.944675\n",
      "88.277925\n",
      "88.744475\n",
      "89.544275\n",
      "89.677575\n",
      "91.877025\n",
      "92.343575\n",
      "92.543525\n",
      "92.7768\n",
      "93.876525\n",
      "94.1098\n",
      "94.70965\n",
      "94.9096\n",
      "95.1762\n",
      "96.1093\n",
      "96.3759\n",
      "96.742475\n",
      "97.142375\n",
      "97.5756\n",
      "98.57535\n",
      "98.70865\n",
      "100.84145\n",
      "100.97475\n",
      "102.940925\n",
      "103.940675\n",
      "105.90685\n",
      "106.30675\n",
      "106.9066\n",
      "107.139875\n",
      "107.37315\n",
      "107.50645\n",
      "108.03965\n",
      "108.672825\n",
      "109.1727\n",
      "110.805625\n",
      "111.005575\n",
      "113.305\n",
      "114.604675\n",
      "115.737725\n",
      "116.537525\n",
      "116.7708\n",
      "117.204025\n",
      "118.537025\n",
      "118.637\n",
      "119.63675\n",
      "119.90335\n",
      "120.2366\n",
      "120.336575\n",
      "120.6365\n",
      "121.602925\n",
      "122.03615\n",
      "122.469375\n",
      "122.9026\n",
      "123.202525\n",
      "123.63575\n",
      "123.76905\n",
      "124.202275\n",
      "124.30225\n",
      "124.56885\n",
      "125.002075\n",
      "125.268675\n",
      "125.5686\n",
      "126.2351\n",
      "127.1682\n",
      "127.334825\n",
      "127.468125\n",
      "127.90135\n",
      "128.1013\n",
      "128.5012\n",
      "129.1677\n",
      "129.734225\n",
      "130.03415\n",
      "130.334075\n",
      "130.400725\n",
      "130.600675\n",
      "130.96725\n",
      "133.8332\n",
      "134.533025\n",
      "134.7663\n",
      "135.36615\n",
      "135.799375\n",
      "137.8322\n",
      "139.0319\n",
      "139.4318\n",
      "139.5651\n",
      "139.731725\n",
      "139.931675\n",
      "140.131625\n",
      "140.331575\n",
      "140.83145\n",
      "141.731225\n",
      "142.730975\n",
      "144.43055\n",
      "144.6305\n",
      "145.796875\n",
      "145.9635\n",
      "146.330075\n",
      "146.4967\n",
      "146.69665\n",
      "147.796375\n",
      "148.02965\n",
      "148.329575\n",
      "150.129125\n",
      "150.395725\n",
      "150.728975\n",
      "151.5621\n",
      "151.795375\n",
      "152.861775\n",
      "154.42805\n",
      "156.2276\n",
      "156.3609\n",
      "157.260675\n",
      "160.6265\n",
      "161.659575\n",
      "162.126125\n",
      "164.858775\n",
      "164.992075\n",
      "166.458375\n",
      "168.857775\n",
      "169.62425\n",
      "170.69065\n",
      "171.323825\n",
      "171.657075\n",
      "172.55685\n",
      "172.923425\n",
      "173.8232\n",
      "174.323075\n",
      "174.722975\n",
      "174.8896\n",
      "175.322825\n",
      "175.589425\n",
      "175.856025\n",
      "176.055975\n",
      "178.322075\n",
      "179.721725\n",
      "180.721475\n",
      "181.387975\n",
      "181.587925\n",
      "182.0878\n",
      "182.387725\n",
      "182.587675\n",
      "183.787375\n",
      "183.987325\n",
      "184.7538\n",
      "185.120375\n",
      "185.62025\n",
      "186.28675\n",
      "187.853025\n",
      "188.7528\n",
      "189.052725\n",
      "189.186025\n",
      "191.385475\n",
      "193.051725\n",
      "193.584925\n",
      "195.651075\n",
      "199.5501\n",
      "202.28275\n",
      "204.4822\n",
      "210.580675\n",
      "213.08005\n",
      "213.28\n",
      "214.01315\n",
      "214.379725\n",
      "215.112875\n",
      "218.3454\n",
      "218.67865\n",
      "219.1452\n",
      "220.0783\n",
      "222.94425\n",
      "223.644075\n",
      "223.777375\n",
      "224.643825\n",
      "225.110375\n",
      "225.61025\n",
      "226.67665\n",
      "227.8097\n",
      "229.842525\n",
      "231.2755\n",
      "232.241925\n",
      "235.441125\n",
      "235.641075\n",
      "236.107625\n",
      "236.574175\n",
      "237.07405\n",
      "237.707225\n",
      "238.27375\n",
      "238.507025\n",
      "238.640325\n",
      "238.840275\n",
      "239.106875\n",
      "239.240175\n",
      "239.973325\n",
      "242.372725\n",
      "242.905925\n",
      "246.8716\n",
      "247.571425\n",
      "247.771375\n",
      "248.2046\n",
      "249.1377\n",
      "250.370725\n",
      "253.636575\n",
      "254.969575\n",
      "257.235675\n",
      "258.235425\n",
      "261.268\n",
      "261.767875\n",
      "261.901175\n",
      "265.60025\n",
      "265.833525\n",
      "267.19985\n",
      "269.5326\n",
      "278.93025\n",
      "279.46345\n",
      "280.696475\n",
      "281.9295\n",
      "282.096125\n",
      "283.962325\n",
      "284.428875\n",
      "284.895425\n",
      "285.6619\n",
      "291.1272\n",
      "295.492775\n",
      "296.425875\n",
      "299.5251\n",
      "299.691725\n",
      "302.1911\n",
      "302.890925\n",
      "303.024225\n",
      "305.290325\n",
      "307.956325\n",
      "309.05605\n",
      "312.3219\n",
      "312.421875\n",
      "313.354975\n",
      "313.6549\n",
      "314.0548\n",
      "314.288075\n",
      "314.687975\n",
      "315.45445\n",
      "315.621075\n",
      "316.0543\n",
      "317.220675\n",
      "317.287325\n",
      "317.620575\n",
      "318.38705\n",
      "318.7203\n",
      "319.18685\n",
      "319.353475\n",
      "319.92\n",
      "320.78645\n",
      "321.552925\n",
      "322.286075\n",
      "323.98565\n",
      "326.1851\n",
      "327.218175\n",
      "328.3179\n",
      "332.11695\n",
      "333.683225\n",
      "334.91625\n",
      "337.44895\n",
      "343.5141\n",
      "343.814025\n",
      "344.413875\n",
      "345.880175\n",
      "358.3104\n",
      "368.607825\n",
      "369.007725\n",
      "376.7058\n",
      "386.37005\n",
      "387.003225\n",
      "390.469025\n",
      "390.7023\n",
      "393.135025\n",
      "393.468275\n",
      "394.9679\n",
      "397.03405\n",
      "398.666975\n",
      "401.7662\n",
      "402.732625\n",
      "404.998725\n",
      "408.23125\n",
      "408.797775\n",
      "414.62965\n",
      "415.2295\n",
      "416.595825\n",
      "417.0957\n",
      "420.261575\n",
      "428.35955\n",
      "434.258075\n",
      "438.89025\n",
      "439.82335\n",
      "440.0233\n",
      "441.3563\n",
      "447.054875\n",
      "450.2874\n",
      "451.387125\n",
      "452.520175\n",
      "475.847675\n",
      "538.631975\n"
     ]
    }
   ],
   "source": [
    "tmin= 0.5\n",
    "starts = []\n",
    "ends = []\n",
    "for i,z in enumerate(zip(freezing_intervals.as_units('s').start, freezing_intervals.as_units('s').end)):\n",
    "    s=z[0]\n",
    "    e=z[1]\n",
    "    if e[i]-s[i+1]<tmin:\n",
    "        print(i)\n"
   ]
  },
  {
   "cell_type": "code",
   "execution_count": 36,
   "metadata": {},
   "outputs": [
    {
     "name": "stdout",
     "output_type": "stream",
     "text": [
      "         start        end\n",
      "0       466550    2499375\n",
      "1      1632925    4198950\n",
      "2      2432725    5298675\n",
      "3      3732400    5898525\n",
      "4      5232025    6198450\n",
      "5      5831875    6964925\n",
      "6      6165125    7531450\n",
      "7      6731650    7731400\n",
      "8      7198200    8097975\n",
      "9      7598100    8797800\n",
      "10     7964675    9064400\n",
      "11     8397900   10564025\n",
      "12     8997750   11463800\n",
      "13    10497375   12263600\n",
      "14    11197200   12496875\n",
      "15    11630425   12996750\n",
      "16    12430225   14163125\n",
      "17    12763475   14496375\n",
      "18    14096475   15029575\n",
      "19    14363075   17029075\n",
      "20    14829625   17862200\n",
      "21    16962425   18228775\n",
      "22    17762225   18662000\n",
      "23    18128800   19928350\n",
      "24    18428725   21694575\n",
      "25    19628425   22127800\n",
      "26    21661250   22627675\n",
      "27    22027825   22994250\n",
      "28    22394400   24193950\n",
      "29    22927600   24527200\n",
      "..         ...        ...\n",
      "436  387003225  393068375\n",
      "437  390469025  393401625\n",
      "438  390702300  394934575\n",
      "439  393135025  396767450\n",
      "440  393468275  398633650\n",
      "441  394967900  401699550\n",
      "442  397034050  402665975\n",
      "443  398666975  404932075\n",
      "444  401766200  408197925\n",
      "445  402732625  408731125\n",
      "446  404998725  414563000\n",
      "447  408231250  415196175\n",
      "448  408797775  416462525\n",
      "449  414629650  416995725\n",
      "450  415229500  420228250\n",
      "451  416595825  428226250\n",
      "452  417095700  434191425\n",
      "453  420261575  438823600\n",
      "454  428359550  439790025\n",
      "455  434258075  439989975\n",
      "456  438890250  441256325\n",
      "457  439823350  446988225\n",
      "458  440023300  450187425\n",
      "459  441356300  451353800\n",
      "460  447054875  452453525\n",
      "461  450287400  475814350\n",
      "462  451387125  538598650\n",
      "463  452520175  622411025\n",
      "464  475847675  622411025\n",
      "465  538631975  622411025\n",
      "\n",
      "[466 rows x 2 columns]\n"
     ]
    }
   ],
   "source": [
    "print(freezing_intervals)"
   ]
  },
  {
   "cell_type": "code",
   "execution_count": 30,
   "metadata": {},
   "outputs": [],
   "source": [
    "def freezing(speed,treshold):\n",
    "    \"\"\"\n",
    "        BK 8/11/20\n",
    "        Input \n",
    "            speed: speed vector as output by bk.compute.speed (not yet implemented. But it's an nts.frame)\n",
    "            treshold: arbritary units\n",
    "    \"\"\"\n",
    "    \n",
    "    fs =  1/scipy.stats.mode(np.diff(speed.index)).mode[0]\n",
    "    freezing = speed.values<treshold\n",
    "    if freezing[0] == 1: freezing[0] = 0\n",
    "    if freezing[-1] == 1: freezing = np.append(freezing,0)\n",
    "        \n",
    "    dfreeze = np.diff(freezing.astype(np.int8))\n",
    "    start = np.where(dfreeze == 1)[0]/fs + speed.index[0]\n",
    "    end = np.where(dfreeze == -1)[0]/fs + speed.index[0]\n",
    "    \n",
    "    freezing_intervals = nts.IntervalSet(start,end)\n",
    "    return freezing_intervals"
   ]
  },
  {
   "cell_type": "code",
   "execution_count": 6,
   "metadata": {},
   "outputs": [],
   "source": [
    "speed = s \n",
    "treshold = 1"
   ]
  },
  {
   "cell_type": "code",
   "execution_count": 7,
   "metadata": {},
   "outputs": [
    {
     "name": "stdout",
     "output_type": "stream",
     "text": [
      "Empty IntervalSet\n",
      "Columns: [start, end]\n",
      "Index: []\n"
     ]
    }
   ],
   "source": [
    "fs =  1/scipy.stats.mode(np.diff(speed.index)).mode[0]\n",
    "freezing = speed.values<treshold\n",
    "if freezing[0] == 1: freezing[0] = 0\n",
    "if freezing[-1] == 1: freezing = np.append(freezing,0)\n",
    "\n",
    "dfreeze = np.diff(freezing.astype(np.int8))\n",
    "\n",
    "start = np.where(dfreeze == 1)[0]/fs + speed.index[0]\n",
    "end = np.where(dfreeze == -1)[0]/fs + speed.index[0]\n",
    "\n",
    "freezing_intervals = nts.IntervalSet(start,end,time_units = 's')"
   ]
  },
  {
   "cell_type": "code",
   "execution_count": 9,
   "metadata": {},
   "outputs": [
    {
     "data": {
      "text/plain": [
       "array([ 269.38943355, 1118.12733579, 2096.431932  , ...,   10.30124845,\n",
       "         13.91425449,   15.7500021 ])"
      ]
     },
     "execution_count": 9,
     "metadata": {},
     "output_type": "execute_result"
    }
   ],
   "source": [
    "speed.values"
   ]
  },
  {
   "cell_type": "code",
   "execution_count": 15,
   "metadata": {},
   "outputs": [],
   "source": [
    "del freezing"
   ]
  },
  {
   "cell_type": "code",
   "execution_count": 57,
   "metadata": {},
   "outputs": [],
   "source": [
    "path = 'Y:/ExampleSession/RAT01/rat01_200630_114732/'\n",
    "os.chdir(path)"
   ]
  },
  {
   "cell_type": "code",
   "execution_count": 64,
   "metadata": {},
   "outputs": [],
   "source": [
    "t_TTL = load_digitalin(['TTL'])"
   ]
  },
  {
   "cell_type": "code",
   "execution_count": 72,
   "metadata": {},
   "outputs": [],
   "source": [
    "t_TTL = TTLtoTimes(t_TTL[1]['TTL'])"
   ]
  },
  {
   "cell_type": "code",
   "execution_count": 73,
   "metadata": {},
   "outputs": [
    {
     "data": {
      "text/plain": [
       "array([ 20.675375,  20.708725,  20.74205 , ..., 618.32965 , 618.362975,\n",
       "       618.3827  ])"
      ]
     },
     "execution_count": 73,
     "metadata": {},
     "output_type": "execute_result"
    }
   ],
   "source": []
  },
  {
   "cell_type": "code",
   "execution_count": 87,
   "metadata": {},
   "outputs": [],
   "source": [
    "pos = load_pos()\n",
    "t_TTL = np.delete(t_TTL,-1)\n",
    "pos.index = t_TTL - t_TTL[0]"
   ]
  },
  {
   "cell_type": "code",
   "execution_count": 101,
   "metadata": {},
   "outputs": [],
   "source": [
    "s = speed(pos['snout'])\n",
    "s = nts.Tsd(t=pos.index.values[:-1],d = s,time_units='s')"
   ]
  },
  {
   "cell_type": "code",
   "execution_count": 95,
   "metadata": {},
   "outputs": [
    {
     "data": {
      "text/plain": [
       "[<matplotlib.lines.Line2D at 0x20b8854a208>]"
      ]
     },
     "execution_count": 95,
     "metadata": {},
     "output_type": "execute_result"
    }
   ],
   "source": [
    "plt.plot(s)"
   ]
  },
  {
   "cell_type": "code",
   "execution_count": 104,
   "metadata": {},
   "outputs": [
    {
     "data": {
      "text/plain": [
       "Time (s)\n",
       "0.000000       7.832967\n",
       "0.033350       8.782744\n",
       "0.066675      22.644989\n",
       "0.100000      14.177008\n",
       "0.133350      14.646234\n",
       "                ...    \n",
       "597.520950     1.695441\n",
       "597.554275    10.491249\n",
       "597.587625    10.262282\n",
       "597.620950    11.373562\n",
       "597.654275     7.952450\n",
       "Length: 17931, dtype: float64"
      ]
     },
     "execution_count": 104,
     "metadata": {},
     "output_type": "execute_result"
    }
   ],
   "source": [
    "pos['snout']\n",
    "s.as_units('s')"
   ]
  },
  {
   "cell_type": "code",
   "execution_count": 111,
   "metadata": {},
   "outputs": [],
   "source": [
    "f = bk.compute.freezing(s,20)"
   ]
  },
  {
   "cell_type": "code",
   "execution_count": 110,
   "metadata": {},
   "outputs": [
    {
     "data": {
      "text/plain": [
       "[<matplotlib.lines.Line2D at 0x20b817be048>]"
      ]
     },
     "execution_count": 110,
     "metadata": {},
     "output_type": "execute_result"
    }
   ],
   "source": [
    "plt.plot(s.as_units('s'))"
   ]
  },
  {
   "cell_type": "code",
   "execution_count": 113,
   "metadata": {},
   "outputs": [],
   "source": [
    "bk.plot.intervals(f,col= 'orange')"
   ]
  },
  {
   "cell_type": "code",
   "execution_count": 224,
   "metadata": {},
   "outputs": [],
   "source": [
    "time,data = load_digitalin(['TTL','Shock','Tone'])\n",
    "\n",
    "tf = TTLtoTimes(data['TTL'])\n",
    "tf = np.delete(tf,-1)\n",
    "\n",
    "time = time-tf[0]\n",
    "\n",
    "pos = load_pos()\n",
    "pos.index = tf-tf[0]\n",
    "step = 20\n",
    "\n",
    "s = speed(pos['snout'])\n",
    "size = 20\n",
    "gaussian = scipy.signal.gaussian(size,30)\n",
    "s = np.convolve(s,gaussian,'same')/size\n",
    "\n",
    "# s = scipy.ndimage.gaussian_filter1d(s,20)\n",
    "s = nts.Tsd(pos.index.values[:-1],s,time_units='s')\n",
    "\n",
    "plt.figure()\n",
    "time = time[0:-1:step]\n",
    "fig = plt.subplot(1,1,1)\n",
    "plt.tight_layout()\n",
    "plt.title(title[i-1])\n",
    "plt.plot(time,data['TTL'][0:-1:step])\n",
    "plt.plot(time,data['Shock'][0:-1:step] * 3)\n",
    "plt.plot(time,data['Tone'][0:-1:step]*2)\n",
    "plt.plot(pos.index[:-1],s.values/1500)\n",
    "plt.legend(['TTL','Shock','Tone','Speed'])\n",
    "plt.xlabel('Time (s)')\n",
    "#plt.vlines(x=tf,ymin = 0, ymax = 3,color='red')\n",
    "\n",
    "\n",
    "bk.plot.intervals(bk.compute.freezing(s,20),col='orange')\n",
    "plt.show()"
   ]
  },
  {
   "cell_type": "code",
   "execution_count": 225,
   "metadata": {},
   "outputs": [
    {
     "data": {
      "text/plain": [
       "[<matplotlib.lines.Line2D at 0x20c8ef55a08>]"
      ]
     },
     "execution_count": 225,
     "metadata": {},
     "output_type": "execute_result"
    }
   ],
   "source": [
    "plt.figure()\n",
    "plt.plot(scipy.signal.gaussian(500,5))\n"
   ]
  },
  {
   "cell_type": "code",
   "execution_count": 226,
   "metadata": {},
   "outputs": [
    {
     "data": {
      "text/plain": [
       "Int64Index([        0,     33350,     66675,    100000,    133350,    166675,\n",
       "               199999,    233350,    266674,    300000,\n",
       "            ...\n",
       "            597354300, 597387625, 597420950, 597454274, 597487625, 597520950,\n",
       "            597554275, 597587625, 597620950, 597654275],\n",
       "           dtype='int64', name='Time (us)', length=17931)"
      ]
     },
     "execution_count": 226,
     "metadata": {},
     "output_type": "execute_result"
    }
   ],
   "source": [
    "s.index"
   ]
  },
  {
   "cell_type": "code",
   "execution_count": 129,
   "metadata": {},
   "outputs": [],
   "source": [
    "s = speed(pos['snout'])"
   ]
  },
  {
   "cell_type": "code",
   "execution_count": 130,
   "metadata": {},
   "outputs": [
    {
     "data": {
      "text/plain": [
       "48.77639213044943"
      ]
     },
     "execution_count": 130,
     "metadata": {},
     "output_type": "execute_result"
    }
   ],
   "source": [
    "s.mean()"
   ]
  },
  {
   "cell_type": "code",
   "execution_count": 133,
   "metadata": {},
   "outputs": [
    {
     "data": {
      "text/plain": [
       "array([431.60497243, 443.29986216, 454.99992449, ..., 612.47055474,\n",
       "       591.45811707, 570.76316348])"
      ]
     },
     "execution_count": 133,
     "metadata": {},
     "output_type": "execute_result"
    }
   ],
   "source": [
    "s.values"
   ]
  },
  {
   "cell_type": "code",
   "execution_count": 134,
   "metadata": {},
   "outputs": [
    {
     "data": {
      "text/plain": [
       "[<matplotlib.lines.Line2D at 0x20b8ce24b88>]"
      ]
     },
     "execution_count": 134,
     "metadata": {},
     "output_type": "execute_result"
    }
   ],
   "source": [
    "plt.plot(s.values)"
   ]
  },
  {
   "cell_type": "code",
   "execution_count": 148,
   "metadata": {},
   "outputs": [],
   "source": [
    "y = np.sin(np.arange(0,6,0.01))"
   ]
  },
  {
   "cell_type": "code",
   "execution_count": 209,
   "metadata": {},
   "outputs": [],
   "source": [
    "y = speed(pos['snout'])\n",
    "gaussian = scipy.signal.gaussian(10,10)\n",
    "\n"
   ]
  },
  {
   "cell_type": "code",
   "execution_count": 221,
   "metadata": {},
   "outputs": [],
   "source": [
    "y = np.sin(np.arange(0,6,0.01))\n",
    "np_conv = np.convolve(y,gaussian,'same')/10\n",
    "scipy_conv = scipy.signal.fftconvolve(y,gaussian,'same')\n",
    "scipy_filter = scipy.ndimage.gaussian_filter1d(y,10)"
   ]
  },
  {
   "cell_type": "code",
   "execution_count": 222,
   "metadata": {},
   "outputs": [
    {
     "data": {
      "text/plain": [
       "<matplotlib.legend.Legend at 0x20c8b119948>"
      ]
     },
     "execution_count": 222,
     "metadata": {},
     "output_type": "execute_result"
    }
   ],
   "source": [
    "plt.plot(y)\n",
    "plt.plot(np_conv)\n",
    "plt.plot(scipy_conv)\n",
    "plt.plot(scipy_filter)\n",
    "\n",
    "plt.legend(['ori','np','scipy conv','scipy ndimage'])"
   ]
  },
  {
   "cell_type": "code",
   "execution_count": 2,
   "metadata": {},
   "outputs": [],
   "source": [
    "def consolidateIntervals(intervals, tmin):\n",
    "    \n",
    "    for i in intervals:\n",
    "        print(i)\n",
    "    start = []\n",
    "    end = []\n",
    "    \n",
    "  #  intervals_consolidated = nts.Interval_Set(start,end,time_unit ='s')\n",
    "\n"
   ]
  },
  {
   "cell_type": "code",
   "execution_count": null,
   "metadata": {},
   "outputs": [],
   "source": [
    "scipy.ndimage.gaussian_filter1d()"
   ]
  }
 ],
 "metadata": {
  "kernelspec": {
   "display_name": "Python 3",
   "language": "python",
   "name": "python3"
  },
  "language_info": {
   "codemirror_mode": {
    "name": "ipython",
    "version": 3
   },
   "file_extension": ".py",
   "mimetype": "text/x-python",
   "name": "python",
   "nbconvert_exporter": "python",
   "pygments_lexer": "ipython3",
   "version": "3.7.0"
  }
 },
 "nbformat": 4,
 "nbformat_minor": 4
}
