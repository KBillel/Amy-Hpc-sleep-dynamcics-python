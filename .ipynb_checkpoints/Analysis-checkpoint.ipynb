{
 "cells": [
  {
   "cell_type": "code",
   "execution_count": 12,
   "metadata": {},
   "outputs": [],
   "source": [
    "%matplotlib qt\n",
    "\n",
    "import neuroseries as nts\n",
    "\n",
    "import numpy as np\n",
    "import matplotlib.pyplot as plt\n",
    "import scipy.stats\n",
    "import scipy.ndimage\n",
    "import os\n",
    "\n",
    "import scipy.signal\n",
    "import scipy.stats\n",
    "\n",
    "import bk.load as bk\n",
    "import bk.plot\n",
    "import bk.compute\n",
    "\n",
    "def TTLtoTimes(TTL,Fs = 20000):\n",
    "    \n",
    "    if isinstance(TTL[0],(np.bool_,bool)):\n",
    "        TTL = list(map(int,TTL))\n",
    "    \n",
    "    diff_TTL = np.diff(TTL)\n",
    "    \n",
    "    t_start = np.where(diff_TTL == 1)\n",
    "    t_end = np.where(diff_TTL == -1)\n",
    "    t_TTL = np.array([np.mean(interval,0) for interval in zip(t_start,t_end)])[0]\n",
    "    \n",
    "    return t_TTL/Fs\n",
    "\n",
    "def speed(pos):\n",
    "    \n",
    "    x_speed = np.diff(pos['x'])/np.diff(pos.index)\n",
    "    y_speed = np.diff(pos['y'])/np.diff(pos.index)\n",
    "    \n",
    "    v = np.sqrt(x_speed**2 + y_speed**2)\n",
    "    \n",
    "    return v\n",
    "\n",
    "def load_pos():\n",
    "    import pandas as pd\n",
    "    files = os.listdir()\n",
    "    for f in files: \n",
    "        if f.endswith('.h5'): \n",
    "            filename = f\n",
    "    \n",
    "    data = pd.read_hdf(filename)\n",
    "    data = data[data.keys()[0][0]]\n",
    "    return data\n",
    "\n",
    "def load_digitalin(channels,Fs = 20000):\n",
    "    import pandas as pd\n",
    "    \n",
    "    digital_word = np.fromfile('digitalin.dat','uint16')\n",
    "    sample = len(digital_word)\n",
    "    time = np.arange(0,sample)\n",
    "    time = time/Fs\n",
    "\n",
    "    chan = {}\n",
    "    \n",
    "    for i in range(len(channels)):\n",
    "        chan.update({channels[i]:(digital_word & 2**i)>0})\n",
    "\n",
    "    return time,chan\n",
    "\n"
   ]
  },
  {
   "cell_type": "code",
   "execution_count": 3,
   "metadata": {
    "jupyter": {
     "source_hidden": true
    }
   },
   "outputs": [],
   "source": [
    "path = 'Y:/ExampleSession/rat01_200630_114732'\n",
    "path = 'Y:/ExampleSession/rat01_200630_171900'\n",
    "path = 'Y:/ExampleSession/rat01_200630_183149/'\n",
    "\n",
    "path = 'Y:/ExampleSession/RAT02/rat02_200707_114611'\n",
    "\n",
    "\n",
    "i = 1\n",
    "title = ['Fear','Tone','Context']\n",
    "\n",
    "os.chdir(path)\n",
    "step = 1\n",
    "\n",
    "time,data = load_digitalin(['TTL','Shock','Tone'])\n",
    "pos = load_pos()\n",
    "\n",
    "s = speed(pos['snout'])\n",
    "s = scipy.ndimage.gaussian_filter1d(s,1)\n",
    "\n",
    "tf = TTLtoTimes(data['TTL'])\n",
    "tf = np.delete(tf,-1)\n",
    "\n",
    "pos.index = tf\n",
    "time = time[0:-1:step]\n",
    "\n",
    "fig = plt.subplot(1,1,i)\n",
    "plt.tight_layout()\n",
    "plt.title(title[i-1])\n",
    "plt.plot(time,data['TTL'][0:-1:step])\n",
    "plt.plot(time,data['Shock'][0:-1:step] * 3)\n",
    "plt.plot(time,data['Tone'][0:-1:step]*2)\n",
    "plt.plot(pos.index[:-1],s/15)\n",
    "plt.legend(['TTL','Shock','Tone','Speed'])wo\n",
    "plt.xlabel('Time (s)')\n",
    "#plt.vlines(x=tf,ymin = 0, ymax = 3,color='red')\n",
    "i += 1\n",
    "\n",
    "plt.show()"
   ]
  },
  {
   "cell_type": "code",
   "execution_count": 13,
   "metadata": {},
   "outputs": [],
   "source": [
    "path = '/media/billel/DATA/ExampleSession/RAT01/'\n",
    "subpath = os.listdir(path)"
   ]
  },
  {
   "cell_type": "code",
   "execution_count": 36,
   "metadata": {},
   "outputs": [
    {
     "name": "stdout",
     "output_type": "stream",
     "text": [
      "3.0007501875468866e-05\n"
     ]
    }
   ],
   "source": [
    "i = 1\n",
    "title = ['Fear','Tone','Context']\n",
    "\n",
    "\n",
    "os.chdir(os.path.join(path,subpath[1]))\n",
    "step = 20\n",
    "\n",
    "\n",
    "\n",
    "\n",
    "\n",
    "time,data = load_digitalin(['TTL','Shock','Tone'])\n",
    "\n",
    "tf = TTLtoTimes(data['TTL'])\n",
    "tf = np.delete(tf,-1)\n",
    "\n",
    "pos = load_pos()\n",
    "pos.index = tf\n",
    "\n",
    "s = speed(pos['snout'])\n",
    "s = scipy.ndimage.gaussian_filter1d(s,1)\n",
    "s = nts.Tsd(pos.index.values[:-1],s,time_units='s')\n",
    "\n",
    "\n",
    "time = time[0:-1:step]\n",
    "fig = plt.subplot(1,1,i)\n",
    "plt.tight_layout()\n",
    "plt.title(title[i-1])\n",
    "plt.plot(time,data['TTL'][0:-1:step])\n",
    "plt.plot(time,data['Shock'][0:-1:step] * 3)\n",
    "plt.plot(time,data['Tone'][0:-1:step]*2)\n",
    "plt.plot(pos.index[:-1],s.values/1500)\n",
    "plt.legend(['TTL','Shock','Tone','Speed'])\n",
    "plt.xlabel('Time (s)')\n",
    "#plt.vlines(x=tf,ymin = 0, ymax = 3,color='red')\n",
    "i += 1\n",
    "\n",
    "bk.plot.intervals(freezing(s,50),col='orange')\n",
    "plt.show()"
   ]
  },
  {
   "cell_type": "code",
   "execution_count": 30,
   "metadata": {},
   "outputs": [],
   "source": [
    "def freezing(speed,treshold):\n",
    "    \"\"\"\n",
    "        BK 8/11/20\n",
    "        Input \n",
    "            speed: speed vector as output by bk.compute.speed (not yet implemented. But it's an nts.frame)\n",
    "            treshold: arbritary units\n",
    "    \"\"\"\n",
    "    \n",
    "    fs =  1/scipy.stats.mode(np.diff(speed.index)).mode[0]\n",
    "    freezing = speed.values<treshold\n",
    "    if freezing[0] == 1: freezing[0] = 0\n",
    "    if freezing[-1] == 1: freezing = np.append(freezing,0)\n",
    "        \n",
    "    dfreeze = np.diff(freezing.astype(np.int8))\n",
    "    start = np.where(dfreeze == 1)[0]/fs + speed.index[0]\n",
    "    end = np.where(dfreeze == -1)[0]/fs + speed.index[0]\n",
    "    \n",
    "    freezing_intervals = nts.IntervalSet(start,end)\n",
    "    return freezing_intervals"
   ]
  },
  {
   "cell_type": "code",
   "execution_count": 6,
   "metadata": {},
   "outputs": [],
   "source": [
    "speed = s \n",
    "treshold = 1"
   ]
  },
  {
   "cell_type": "code",
   "execution_count": 7,
   "metadata": {},
   "outputs": [
    {
     "name": "stdout",
     "output_type": "stream",
     "text": [
      "Empty IntervalSet\n",
      "Columns: [start, end]\n",
      "Index: []\n"
     ]
    }
   ],
   "source": [
    "fs =  1/scipy.stats.mode(np.diff(speed.index)).mode[0]\n",
    "freezing = speed.values<treshold\n",
    "if freezing[0] == 1: freezing[0] = 0\n",
    "if freezing[-1] == 1: freezing = np.append(freezing,0)\n",
    "\n",
    "dfreeze = np.diff(freezing.astype(np.int8))\n",
    "\n",
    "start = np.where(dfreeze == 1)[0]/fs + speed.index[0]\n",
    "end = np.where(dfreeze == -1)[0]/fs + speed.index[0]\n",
    "\n",
    "freezing_intervals = nts.IntervalSet(start,end,time_units = 's')"
   ]
  },
  {
   "cell_type": "code",
   "execution_count": 9,
   "metadata": {},
   "outputs": [
    {
     "data": {
      "text/plain": [
       "array([ 269.38943355, 1118.12733579, 2096.431932  , ...,   10.30124845,\n",
       "         13.91425449,   15.7500021 ])"
      ]
     },
     "execution_count": 9,
     "metadata": {},
     "output_type": "execute_result"
    }
   ],
   "source": [
    "speed.values"
   ]
  },
  {
   "cell_type": "code",
   "execution_count": 15,
   "metadata": {},
   "outputs": [],
   "source": [
    "del freezing"
   ]
  },
  {
   "cell_type": "code",
   "execution_count": null,
   "metadata": {},
   "outputs": [],
   "source": []
  }
 ],
 "metadata": {
  "kernelspec": {
   "display_name": "Python 3",
   "language": "python",
   "name": "python3"
  },
  "language_info": {
   "codemirror_mode": {
    "name": "ipython",
    "version": 3
   },
   "file_extension": ".py",
   "mimetype": "text/x-python",
   "name": "python",
   "nbconvert_exporter": "python",
   "pygments_lexer": "ipython3",
   "version": "3.7.6"
  }
 },
 "nbformat": 4,
 "nbformat_minor": 4
}
