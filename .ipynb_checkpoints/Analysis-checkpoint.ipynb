{
 "cells": [
  {
   "cell_type": "code",
   "execution_count": 9,
   "metadata": {},
   "outputs": [],
   "source": [
    "%matplotlib qt\n",
    "import numpy as np\n",
    "import matplotlib.pyplot as plt\n",
    "import scipy.stats\n",
    "import scipy.ndimage\n",
    "import os\n",
    "\n",
    "import scipy.signal\n",
    "import scipy.stats\n",
    "\n",
    "import bk.load as bk\n",
    "import bk.plot\n",
    "\n",
    "def TTLtoTimes(TTL,Fs = 20000):\n",
    "    \n",
    "    if isinstance(TTL[0],(np.bool_,bool)):\n",
    "        TTL = list(map(int,TTL))\n",
    "    \n",
    "    diff_TTL = np.diff(TTL)\n",
    "    \n",
    "    t_start = np.where(diff_TTL == 1)\n",
    "    t_end = np.where(diff_TTL == -1)\n",
    "    t_TTL = np.array([np.mean(interval,0) for interval in zip(t_start,t_end)])[0]\n",
    "    \n",
    "    return t_TTL/Fs\n",
    "\n",
    "def speed(pos):\n",
    "    \n",
    "    x_speed = np.diff(pos['x'])/np.diff(pos.index)\n",
    "    y_speed = np.diff(pos['y'])/np.diff(pos.index)\n",
    "    \n",
    "    v = np.sqrt(x_speed**2 + y_speed**2)\n",
    "    \n",
    "    return v\n",
    "\n",
    "def load_pos():\n",
    "    import pandas as pd\n",
    "    files = os.listdir()\n",
    "    for f in files: \n",
    "        if f.endswith('.h5'): \n",
    "            filename = f\n",
    "    \n",
    "    data = pd.read_hdf(filename)\n",
    "    data = data[data.keys()[0][0]]\n",
    "    return data \n",
    "\n",
    "def load_digitalin(channels,Fs = 20000):\n",
    "    import pandas as pd\n",
    "    \n",
    "    digital_word = np.fromfile('digitalin.dat','uint16')\n",
    "    sample = len(digital_word)\n",
    "    time = np.arange(0,sample)\n",
    "    time = time/Fs\n",
    "\n",
    "    chan = {}\n",
    "    \n",
    "    for i in range(len(channels)):\n",
    "        chan.update({channels[i]:(digital_word & 2**i)>0})\n",
    "\n",
    "    return time,chan\n",
    "\n"
   ]
  },
  {
   "cell_type": "code",
   "execution_count": 3,
   "metadata": {
    "jupyter": {
     "source_hidden": true
    }
   },
   "outputs": [],
   "source": [
    "path = 'Y:/ExampleSession/rat01_200630_114732'\n",
    "path = 'Y:/ExampleSession/rat01_200630_171900'\n",
    "path = 'Y:/ExampleSession/rat01_200630_183149/'\n",
    "\n",
    "path = 'Y:/ExampleSession/RAT02/rat02_200707_114611'\n",
    "\n",
    "\n",
    "i = 1\n",
    "title = ['Fear','Tone','Context']\n",
    "\n",
    "os.chdir(path)\n",
    "step = 1\n",
    "\n",
    "time,data = load_digitalin(['TTL','Shock','Tone'])\n",
    "pos = load_pos()\n",
    "\n",
    "s = speed(pos['snout'])\n",
    "s = scipy.ndimage.gaussian_filter1d(s,1)\n",
    "\n",
    "tf = TTLtoTimes(data['TTL'])\n",
    "tf = np.delete(tf,-1)\n",
    "\n",
    "pos.index = tf\n",
    "time = time[0:-1:step]\n",
    "\n",
    "fig = plt.subplot(1,1,i)\n",
    "plt.tight_layout()\n",
    "plt.title(title[i-1])\n",
    "plt.plot(time,data['TTL'][0:-1:step])\n",
    "plt.plot(time,data['Shock'][0:-1:step] * 3)\n",
    "plt.plot(time,data['Tone'][0:-1:step]*2)\n",
    "plt.plot(pos.index[:-1],s/15)\n",
    "plt.legend(['TTL','Shock','Tone','Speed'])wo\n",
    "plt.xlabel('Time (s)')\n",
    "#plt.vlines(x=tf,ymin = 0, ymax = 3,color='red')\n",
    "i += 1\n",
    "\n",
    "plt.show()"
   ]
  },
  {
   "cell_type": "code",
   "execution_count": 10,
   "metadata": {},
   "outputs": [],
   "source": [
    "path = '/media/billel/DATA/ExampleSession/RAT01/'\n",
    "subpath = os.listdir(path)"
   ]
  },
  {
   "cell_type": "code",
   "execution_count": 16,
   "metadata": {},
   "outputs": [],
   "source": [
    "fs_video = 1/scipy.stats.mode(np.diff(pos.index)).mode[0]\n",
    "i = 1\n",
    "title = ['Fear','Tone','Context']\n",
    "\n",
    "\n",
    "os.chdir(os.path.join(path,subpath[0]))\n",
    "step = 20\n",
    "\n",
    "\n",
    "\n",
    "\n",
    "\n",
    "time,data = load_digitalin(['TTL','Shock','Tone'])\n",
    "pos = load_pos()\n",
    "\n",
    "s = speed(pos['snout'])\n",
    "s = scipy.ndimage.gaussian_filter1d(s,1)\n",
    "\n",
    "\n",
    "\n",
    "\n",
    "tf = TTLtoTimes(data['TTL'])\n",
    "tf = np.delete(tf,-1)\n",
    "\n",
    "pos.index = tf\n",
    "time = time[0:-1:step]\n",
    "\n",
    "fig = plt.subplot(1,1,i)\n",
    "plt.tight_layout()\n",
    "plt.title(title[i-1])\n",
    "plt.plot(time,data['TTL'][0:-1:step])\n",
    "plt.plot(time,data['Shock'][0:-1:step] * 3)\n",
    "plt.plot(time,data['Tone'][0:-1:step]*2)\n",
    "plt.plot(pos.index[:-1],s/15)\n",
    "plt.legend(['TTL','Shock','Tone','Speed'])\n",
    "plt.xlabel('Time (s)')\n",
    "#plt.vlines(x=tf,ymin = 0, ymax = 3,color='red')\n",
    "i += 1\n",
    "\n",
    "plt.show()"
   ]
  },
  {
   "cell_type": "code",
   "execution_count": 12,
   "metadata": {},
   "outputs": [],
   "source": [
    "import neuroseries as nts"
   ]
  },
  {
   "cell_type": "code",
   "execution_count": 17,
   "metadata": {},
   "outputs": [],
   "source": [
    "start = np.diff(np.int8(s<2)) == 1\n",
    "end = np.diff(np.int8(s<2)) == -1"
   ]
  },
  {
   "cell_type": "code",
   "execution_count": 18,
   "metadata": {},
   "outputs": [],
   "source": [
    "start = np.where(start)[0]/fs_video + pos.index[0]\n",
    "end = np.where(end)[0]/fs_video + pos.index[0]"
   ]
  },
  {
   "cell_type": "code",
   "execution_count": 19,
   "metadata": {},
   "outputs": [
    {
     "name": "stderr",
     "output_type": "stream",
     "text": [
      "/home/billel/Documents/Python/Amy-Hpc-sleep-dynamics-python/neuroseries/interval_set.py:65: UserWarning: some ends precede the relative start\n",
      "  warn(msg, UserWarning)\n"
     ]
    }
   ],
   "source": [
    "freeze = nts.IntervalSet(start,end,time_units = 's')"
   ]
  },
  {
   "cell_type": "code",
   "execution_count": 20,
   "metadata": {},
   "outputs": [],
   "source": [
    "bk.plot.intervals(freeze,col='orange')"
   ]
  },
  {
   "cell_type": "code",
   "execution_count": 99,
   "metadata": {},
   "outputs": [
    {
     "data": {
      "text/html": [
       "<div>\n",
       "<style scoped>\n",
       "    .dataframe tbody tr th:only-of-type {\n",
       "        vertical-align: middle;\n",
       "    }\n",
       "\n",
       "    .dataframe tbody tr th {\n",
       "        vertical-align: top;\n",
       "    }\n",
       "\n",
       "    .dataframe thead th {\n",
       "        text-align: right;\n",
       "    }\n",
       "</style>\n",
       "<table border=\"1\" class=\"dataframe\">\n",
       "  <thead>\n",
       "    <tr style=\"text-align: right;\">\n",
       "      <th></th>\n",
       "      <th>start</th>\n",
       "      <th>end</th>\n",
       "    </tr>\n",
       "  </thead>\n",
       "  <tbody>\n",
       "    <tr>\n",
       "      <th>0</th>\n",
       "      <td>31.939224</td>\n",
       "      <td>32.205824</td>\n",
       "    </tr>\n",
       "    <tr>\n",
       "      <th>1</th>\n",
       "      <td>39.037449</td>\n",
       "      <td>46.069024</td>\n",
       "    </tr>\n",
       "    <tr>\n",
       "      <th>2</th>\n",
       "      <td>46.302299</td>\n",
       "      <td>46.402274</td>\n",
       "    </tr>\n",
       "    <tr>\n",
       "      <th>3</th>\n",
       "      <td>46.668874</td>\n",
       "      <td>47.535324</td>\n",
       "    </tr>\n",
       "    <tr>\n",
       "      <th>4</th>\n",
       "      <td>47.768599</td>\n",
       "      <td>49.434849</td>\n",
       "    </tr>\n",
       "    <tr>\n",
       "      <th>...</th>\n",
       "      <td>...</td>\n",
       "      <td>...</td>\n",
       "    </tr>\n",
       "    <tr>\n",
       "      <th>483</th>\n",
       "      <td>613.293849</td>\n",
       "      <td>613.393824</td>\n",
       "    </tr>\n",
       "    <tr>\n",
       "      <th>484</th>\n",
       "      <td>613.593774</td>\n",
       "      <td>613.693749</td>\n",
       "    </tr>\n",
       "    <tr>\n",
       "      <th>485</th>\n",
       "      <td>613.727074</td>\n",
       "      <td>613.827049</td>\n",
       "    </tr>\n",
       "    <tr>\n",
       "      <th>486</th>\n",
       "      <td>613.893699</td>\n",
       "      <td>614.260274</td>\n",
       "    </tr>\n",
       "    <tr>\n",
       "      <th>487</th>\n",
       "      <td>616.459724</td>\n",
       "      <td>616.759649</td>\n",
       "    </tr>\n",
       "  </tbody>\n",
       "</table>\n",
       "<p>488 rows × 2 columns</p>\n",
       "</div>"
      ],
      "text/plain": [
       "          start         end\n",
       "0     31.939224   32.205824\n",
       "1     39.037449   46.069024\n",
       "2     46.302299   46.402274\n",
       "3     46.668874   47.535324\n",
       "4     47.768599   49.434849\n",
       "..          ...         ...\n",
       "483  613.293849  613.393824\n",
       "484  613.593774  613.693749\n",
       "485  613.727074  613.827049\n",
       "486  613.893699  614.260274\n",
       "487  616.459724  616.759649\n",
       "\n",
       "[488 rows x 2 columns]"
      ]
     },
     "execution_count": 99,
     "metadata": {},
     "output_type": "execute_result"
    }
   ],
   "source": [
    "freeze.as_units('s')"
   ]
  },
  {
   "cell_type": "code",
   "execution_count": 69,
   "metadata": {},
   "outputs": [],
   "source": []
  },
  {
   "cell_type": "code",
   "execution_count": 76,
   "metadata": {},
   "outputs": [],
   "source": []
  },
  {
   "cell_type": "code",
   "execution_count": 77,
   "metadata": {},
   "outputs": [
    {
     "data": {
      "text/plain": [
       "30.00750187547722"
      ]
     },
     "execution_count": 77,
     "metadata": {},
     "output_type": "execute_result"
    }
   ],
   "source": [
    "fs_video"
   ]
  },
  {
   "cell_type": "code",
   "execution_count": null,
   "metadata": {},
   "outputs": [],
   "source": []
  }
 ],
 "metadata": {
  "kernelspec": {
   "display_name": "Python 3",
   "language": "python",
   "name": "python3"
  },
  "language_info": {
   "codemirror_mode": {
    "name": "ipython",
    "version": 3
   },
   "file_extension": ".py",
   "mimetype": "text/x-python",
   "name": "python",
   "nbconvert_exporter": "python",
   "pygments_lexer": "ipython3",
   "version": "3.7.6"
  }
 },
 "nbformat": 4,
 "nbformat_minor": 4
}
