{
 "cells": [
  {
   "cell_type": "code",
   "execution_count": 1,
   "metadata": {},
   "outputs": [],
   "source": [
    "import bk.compute\n",
    "import bk.load\n",
    "import bk.plot\n",
    "\n",
    "import pandas as pd\n",
    "import numpy as np\n",
    "import os\n",
    "import matplotlib.pyplot as plt\n",
    "import matplotlib\n",
    "from matplotlib.patches import Rectangle\n",
    "\n",
    "\n",
    "import cv2\n",
    "import yaml\n",
    "import pickle"
   ]
  },
  {
   "cell_type": "code",
   "execution_count": 2,
   "metadata": {},
   "outputs": [],
   "source": [
    "%matplotlib qt"
   ]
  },
  {
   "cell_type": "code",
   "execution_count": 3,
   "metadata": {},
   "outputs": [],
   "source": [
    "path =  'Y://elevated_plus_maze/'\n",
    "#config_path = 'Y:\\elevated_plus_maze\\elevated_plus_maze-BM-2020-12-01\\config.yaml'"
   ]
  },
  {
   "cell_type": "code",
   "execution_count": 4,
   "metadata": {},
   "outputs": [],
   "source": [
    "sessions = []\n",
    "for subdirs, dirs, files in os.walk(path):\n",
    "    for file in files:\n",
    "        if file.endswith('filtered.h5'): sessions.append(subdirs)\n",
    "            \n",
    "metadata = []\n",
    "for subdirs, dirs, files in os.walk(path):\n",
    "    for file in files:\n",
    "        if file.endswith('.pickle'): metadata.append(os.path.join(subdirs,file))\n",
    "\n",
    "del metadata[0:2]\n",
    "\n",
    "videos = []\n",
    "for subdirs, dirs, files in os.walk(path):\n",
    "    for file in files:\n",
    "        if file.endswith('.mp4') and not file.endswith('labeled.mp4'): videos.append(os.path.join(subdirs,file))"
   ]
  },
  {
   "cell_type": "code",
   "execution_count": 5,
   "metadata": {},
   "outputs": [],
   "source": [
    "crops_x1 = []\n",
    "crops_x2 = []\n",
    "crops_y1 = []\n",
    "crops_y2 = []\n",
    "for m in metadata:\n",
    "    with open(m,'rb') as f:\n",
    "        data = pickle.load(f)\n",
    "    x1,x2,y1,y2 = data['data']['cropping_parameters']\n",
    "    crops_x1.append(x1)\n",
    "    crops_x2.append(x2)\n",
    "    crops_y1.append(y1)\n",
    "    crops_y2.append(y2)\n"
   ]
  },
  {
   "cell_type": "code",
   "execution_count": 6,
   "metadata": {},
   "outputs": [],
   "source": [
    "session = sessions[0]\n",
    "os.chdir(session)\n",
    "pos = bk.load.DLC_pos()\n"
   ]
  },
  {
   "cell_type": "code",
   "execution_count": 6,
   "metadata": {},
   "outputs": [],
   "source": [
    "v  = 'Y:\\elevated_plus_maze\\Rat06-20201123\\Rat06_201123_152703\\Basler_acA1300-200uc__23039139__20201123_152706224.mp4'"
   ]
  },
  {
   "cell_type": "code",
   "execution_count": 7,
   "metadata": {},
   "outputs": [
    {
     "data": {
      "text/plain": [
       "<matplotlib.image.AxesImage at 0x2224183ec50>"
      ]
     },
     "execution_count": 7,
     "metadata": {},
     "output_type": "execute_result"
    }
   ],
   "source": [
    "cap = cv2.VideoCapture(v)\n",
    "ret,frame = cap.read()\n",
    "frame_cropped=frame[crops_y1[0]:crops_y2[0], crops_x1[0]:crops_x2[0]]\n",
    "pause = True\n",
    "fig,ax = plt.subplots()\n",
    "plt.imshow(frame_cropped)"
   ]
  },
  {
   "cell_type": "code",
   "execution_count": 15,
   "metadata": {},
   "outputs": [],
   "source": [
    "# colors = np.linspace(0,1,len(pos.as_units('s')))\n",
    "viridis = matplotlib.cm.get_cmap('viridis')\n"
   ]
  },
  {
   "cell_type": "code",
   "execution_count": 12,
   "metadata": {},
   "outputs": [],
   "source": [
    "plt.scatter(pos.as_units('s')['snout']['x'], pos.as_units('s')['snout']['y'], c = viridis(colors),s=10)\n",
    "plt.show()"
   ]
  },
  {
   "cell_type": "code",
   "execution_count": 8,
   "metadata": {},
   "outputs": [],
   "source": [
    "def onclick(event):\n",
    "    global x,y,pause\n",
    "    plt.cla()\n",
    "    plt.imshow(frame)\n",
    "    try:\n",
    "        x\n",
    "    except:\n",
    "        x = [0,0]\n",
    "    try:\n",
    "        y\n",
    "    except:\n",
    "        y = [0,0]\n",
    "    if (str(event.button) == \"MouseButton.LEFT\") or (event.button == 1):\n",
    "        x[0], y[0] = event.xdata, event.ydata\n",
    "    elif (str(event.button) == \"MouseButton.RIGHT\") or (event.button == 3):\n",
    "        x[1], y[1] = event.xdata, event.ydata\n",
    "    elif (str(event.button) == \"MouseButton.MIDDLE\") or (event.button == 2):\n",
    "        fig.canvas.mpl_disconnect(cid)\n",
    "        pause = False\n",
    "    for i,j in zip(x,y):\n",
    "        plt.axvline(i)\n",
    "        plt.axhline(j)\n",
    "        plt.draw()"
   ]
  },
  {
   "cell_type": "code",
   "execution_count": 9,
   "metadata": {},
   "outputs": [],
   "source": [
    "positions_arms = {'open':np.empty([2,2],dtype='object'),'close':np.empty([2,2],dtype='object'),'center':np.empty([1,2],dtype='object')}\n",
    "positions = ['up', 'down','left', 'right']"
   ]
  },
  {
   "cell_type": "code",
   "execution_count": 10,
   "metadata": {},
   "outputs": [],
   "source": [
    "j = 0\n",
    "for p in positions_arms:\n",
    "    if p == 'center':\n",
    "        positions_arms[p] = np.array([[(positions_arms['close'][0][0][1], positions_arms['close'][1][0][0]), (positions_arms['open'][0][1][1], positions_arms['open'][1][1][0])]],dtype='object')\n",
    "    else:\n",
    "        for i in range(positions_arms[p].shape[0]):\n",
    "            try:\n",
    "                del x,y\n",
    "            except:\n",
    "                pass\n",
    "\n",
    "            cap = cv2.VideoCapture(v)\n",
    "            ret,frame = cap.read()\n",
    "            frame=frame[crops_y1[0]:crops_y2[0], crops_x1[0]:crops_x2[0]]\n",
    "            pause = True\n",
    "            fig,ax = plt.subplots()\n",
    "            plt.imshow(frame)\n",
    "            plt.title(p + positions[j])\n",
    "            cid = fig.canvas.mpl_connect('button_press_event', onclick)\n",
    "\n",
    "            while pause:\n",
    "                plt.pause(0.1)\n",
    "\n",
    "            plt.close('all')\n",
    "            positions_arms[p][i] = [x,y]\n",
    "            j += 1\n"
   ]
  },
  {
   "cell_type": "code",
   "execution_count": 14,
   "metadata": {},
   "outputs": [
    {
     "data": {
      "text/plain": [
       "array([[None, None]], dtype=object)"
      ]
     },
     "execution_count": 14,
     "metadata": {},
     "output_type": "execute_result"
    }
   ],
   "source": [
    "np.empty([1,2],dtype='object')"
   ]
  },
  {
   "cell_type": "code",
   "execution_count": 77,
   "metadata": {},
   "outputs": [
    {
     "data": {
      "text/plain": [
       "array([[400.5403225806451, 470.67741935483866],\n",
       "       [282.9357258064516, 340.4841129032258]], dtype=object)"
      ]
     },
     "execution_count": 77,
     "metadata": {},
     "output_type": "execute_result"
    }
   ],
   "source": [
    "positions_arms['center'][0]"
   ]
  },
  {
   "cell_type": "code",
   "execution_count": 26,
   "metadata": {},
   "outputs": [],
   "source": [
    "colors = ['r', 'b', 'green', 'orange', 'yellow']\n",
    "j = 0\n",
    "angle = np.linspace(0,360,20)\n",
    "cap = cv2.VideoCapture(v)\n",
    "ret,frame = cap.read()\n",
    "frame_cropped=frame[crops_y1[0]:crops_y2[0], crops_x1[0]:crops_x2[0]]\n",
    "pause = True\n",
    "fig,ax = plt.subplots()\n",
    "\n",
    "\n",
    "for i in range(15):\n",
    "    for a in angle:\n",
    "        plt.cla()\n",
    "        plt.imshow(frame_cropped)\n",
    "        ax = plt.gca()\n",
    "        rectangles = []\n",
    "        j = 0\n",
    "        for p in positions_arms:\n",
    "            for i in range(positions_arms[p].shape[0]):\n",
    "                (x1,x2), (y1,y2) = positions_arms[p][i]\n",
    "                rectangle = Rectangle((x1,y1), x2-x1, y2-y1,linewidth=1,edgecolor=viridis(a/360),facecolor=viridis(a/360),alpha = np.random.rand(), angle=np.random.rand()*360)\n",
    "                ax.add_patch(rectangle)\n",
    "                j += 1\n",
    "        plt.draw()\n",
    "        plt.pause(0.001)\n"
   ]
  },
  {
   "cell_type": "code",
   "execution_count": 46,
   "metadata": {},
   "outputs": [
    {
     "data": {
      "text/plain": [
       "<matplotlib.image.AxesImage at 0x207ab4b0c50>"
      ]
     },
     "execution_count": 46,
     "metadata": {},
     "output_type": "execute_result"
    }
   ],
   "source": [
    "cap = cv2.VideoCapture(v)\n",
    "ret,frame = cap.read()\n",
    "frame_cropped=frame[crops_y1[0]:crops_y2[0], crops_x1[0]:crops_x2[0]]\n",
    "fig,ax = plt.subplots()\n",
    "plt.imshow(frame_cropped)"
   ]
  },
  {
   "cell_type": "code",
   "execution_count": 66,
   "metadata": {},
   "outputs": [],
   "source": [
    "(x1,x2),(y1,y2) = positions_arms['center']\n",
    "\n",
    "s = Rectangle((x1,y1),x2-x1,y2-y1)"
   ]
  },
  {
   "cell_type": "code",
   "execution_count": 62,
   "metadata": {},
   "outputs": [
    {
     "data": {
      "text/plain": [
       "<matplotlib.patches.Rectangle at 0x207aac05da0>"
      ]
     },
     "execution_count": 62,
     "metadata": {},
     "output_type": "execute_result"
    }
   ],
   "source": [
    "ax.add_patch(s)"
   ]
  },
  {
   "cell_type": "code",
   "execution_count": 63,
   "metadata": {},
   "outputs": [],
   "source": [
    "s = Rectangle((0,0),250,250)"
   ]
  },
  {
   "cell_type": "code",
   "execution_count": 43,
   "metadata": {},
   "outputs": [
    {
     "data": {
      "text/plain": [
       "array([list([467.08064516129025, 880.7096774193548]),\n",
       "       list([126.47604838709674, 426.80669354838705])], dtype=object)"
      ]
     },
     "execution_count": 43,
     "metadata": {},
     "output_type": "execute_result"
    }
   ],
   "source": [
    "positions_arms['close'][1]\n"
   ]
  },
  {
   "cell_type": "code",
   "execution_count": 22,
   "metadata": {},
   "outputs": [
    {
     "data": {
      "text/plain": [
       "{'open': array([[list([384.35483870967744, 474.2741935483871]),\n",
       "         list([16.774435483871002, 284.7341129032258])],\n",
       "        [list([398.741935483871, 488.6612903225806]),\n",
       "         list([345.8792741935484, 615.6373387096774])]], dtype=object),\n",
       " 'close': array([[list([-0.5, 400.5403225806451]),\n",
       "         list([202.00830645161295, 376.45185483870966])],\n",
       "        [list([467.08064516129025, 880.7096774193548]),\n",
       "         list([126.47604838709674, 426.80669354838705])]], dtype=object),\n",
       " 'center': array([[400.5403225806451, 467.08064516129025],\n",
       "        [284.7341129032258, 345.8792741935484]], dtype=object)}"
      ]
     },
     "execution_count": 22,
     "metadata": {},
     "output_type": "execute_result"
    }
   ],
   "source": [
    "positions_arms"
   ]
  },
  {
   "cell_type": "code",
   "execution_count": 10,
   "metadata": {},
   "outputs": [],
   "source": [
    "config_file = yaml.load(open(config_path,'r'))"
   ]
  },
  {
   "cell_type": "code",
   "execution_count": null,
   "metadata": {},
   "outputs": [],
   "source": []
  }
 ],
 "metadata": {
  "kernelspec": {
   "display_name": "Python 3",
   "language": "python",
   "name": "python3"
  },
  "language_info": {
   "codemirror_mode": {
    "name": "ipython",
    "version": 3
   },
   "file_extension": ".py",
   "mimetype": "text/x-python",
   "name": "python",
   "nbconvert_exporter": "python",
   "pygments_lexer": "ipython3",
   "version": "3.7.9"
  }
 },
 "nbformat": 4,
 "nbformat_minor": 4
}
