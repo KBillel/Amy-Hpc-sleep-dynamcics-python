{
 "cells": [
  {
   "cell_type": "code",
   "execution_count": 3,
   "metadata": {},
   "outputs": [],
   "source": [
    "%matplotlib qt\n",
    "\n",
    "import neuroseries as nts\n",
    "\n",
    "import numpy as np\n",
    "import matplotlib.pyplot as plt\n",
    "import scipy.stats\n",
    "import scipy.ndimage\n",
    "import os\n",
    "\n",
    "import scipy.signal\n",
    "import scipy.stats\n",
    "\n",
    "import cv2\n",
    "import datetime\n",
    "\n",
    "import bk.load \n",
    "import bk.plot\n",
    "import bk.compute\n",
    "\n",
    "import sklearn.manifold as skm\n",
    "import scipy.stats\n",
    "from matplotlib import cm"
   ]
  },
  {
   "cell_type": "code",
   "execution_count": 4,
   "metadata": {},
   "outputs": [],
   "source": [
    "def pourcent_freezing(interval, freezing_intervals): \n",
    "    freezing_intervals_in_interval = freezing_intervals.intersect(interval)\n",
    "    total_time_freezing = np.sum(freezing_intervals_in_interval.end-freezing_intervals_in_interval.start)\n",
    "    total_time = interval.end-interval.start\n",
    "    pourcentage = (total_time_freezing/total_time)*100\n",
    "    return pourcentage\n",
    "\n",
    "def all_pourcentages(intervals, freezing_intervals):\n",
    "    pourcentages = []\n",
    "    for i in range(len(intervals)):\n",
    "        interval = intervals.loc[i]\n",
    "        pourcentages.append(pourcent_freezing(interval, freezing_intervals))\n",
    "    return pourcentages\n",
    "\n",
    "def GetStartExp(Exp,Fs = 20000):\n",
    "    \n",
    "    if isinstance(Exp[0],(np.bool_,bool)):\n",
    "        Exp = list(map(int,Exp))\n",
    "    \n",
    "    diff_Exp = np.diff(Exp)\n",
    "    \n",
    "    t_start = np.where(diff_Exp == 1)[0]    \n",
    "    return t_start/Fs"
   ]
  },
  {
   "cell_type": "code",
   "execution_count": 50,
   "metadata": {},
   "outputs": [],
   "source": [
    "context_sess = ['Y:\\classical_fear_conditionning\\Rat09-20201118\\Rat09_201118_180813',\n",
    "                'Y:\\classical_fear_conditionning\\Rat10-20201118\\Rat10_201118_182234', \n",
    "                'Y:\\classical_fear_conditionning\\Rat11-20201117\\Rat11_201117_172705',\n",
    "                'Y:\\classical_fear_conditionning\\Rat12-20201117\\Rat12_201117_171302', \n",
    "                'Y:\\classical_fear_conditionning\\Rat01-20200630\\Rat01_200630_183149',\n",
    "                'Y:\\classical_fear_conditionning\\Rat02-20200707\\Rat02_200707_172929']\n",
    "fear_sess = ['Y:\\classical_fear_conditionning\\Rat09-20201118\\Rat09_201118_110003',\n",
    "             'Y:\\classical_fear_conditionning\\Rat10-20201118\\Rat10_201118_111531',\n",
    "             'Y:\\classical_fear_conditionning\\Rat11-20201117\\Rat11_201117_112130',\n",
    "             'Y:\\classical_fear_conditionning\\Rat12-20201117\\Rat12_201117_110146',\n",
    "            'Y:\\classical_fear_conditionning\\Rat01-20200630\\Rat01_200630_114732',\n",
    "            'Y:\\classical_fear_conditionning\\Rat02-20200707\\Rat02_200707_114611']\n",
    "\n",
    "tone_sess = ['Y:\\classical_fear_conditionning\\Rat09-20201118\\Rat09_201118_170529', \n",
    "        'Y:\\classical_fear_conditionning\\Rat10-20201118\\Rat10_201118_172028', \n",
    "        'Y:\\classical_fear_conditionning\\Rat11-20201117\\Rat11_201117_183012',\n",
    "        'Y:\\classical_fear_conditionning\\Rat12-20201117\\Rat12_201117_181452', \n",
    "        'Y:\\classical_fear_conditionning\\Rat01-20200630\\Rat01_200630_171900', \n",
    "        'Y:\\classical_fear_conditionning\\Rat02-20200707\\Rat02_200707_183427' ]\n",
    "\n",
    "\n",
    "intervals = np.linspace(0,570,20)\n",
    "starts = intervals[0:-1]\n",
    "ends = intervals[1:]\n",
    "intervals = nts.IntervalSet(starts,ends,time_units='s')\n",
    "\n",
    "digitalin_tone = [3,3,3,3,2,2]\n",
    "digitalin_shock = [2,2,2,2,1,1]"
   ]
  },
  {
   "cell_type": "code",
   "execution_count": 49,
   "metadata": {},
   "outputs": [
    {
     "name": "stderr",
     "output_type": "stream",
     "text": [
      "Z:\\Python\\Billel\\bk\\compute.py:160: RuntimeWarning: overflow encountered in square\n",
      "  v = np.sqrt(x_speed**2 + y_speed**2)\n"
     ]
    },
    {
     "data": {
      "text/plain": [
       "<matplotlib.legend.Legend at 0x1d8a4783c18>"
      ]
     },
     "execution_count": 49,
     "metadata": {},
     "output_type": "execute_result"
    }
   ],
   "source": [
    "t_start_exp_tone = [49.9391, 12.74455, 30.36235, 29.62595, 58.95, 17.8116]\n",
    "\n",
    "ptotal = []\n",
    "plt.figure()\n",
    "\n",
    "for fichier,t_s,d_t in zip(tone_sess,t_start_exp_tone,digitalin_tone):\n",
    "    os.chdir(fichier)\n",
    "    pos = bk.load.DLC_pos()\n",
    "    pos.index = pos.index\n",
    "    tone = bk.compute.tone_intervals(bk.load.digitalin('digitalin.dat')[d_t,:])- t_s * 1_000_000\n",
    "    speeds = bk.compute.speed(pos,2, columns_to_drop=['e_tail'])\n",
    "    freeze = bk.compute.freezing_intervals(speeds, 25, mode='multiple_speed', clean=True) - t_s *1_000_000\n",
    "    pourcents = all_pourcentages(intervals, freeze)\n",
    "    ptotal.append(pourcents)\n",
    "#     bk.plot.intervals(freeze,col = 'b')\n",
    "    plt.plot(np.mean([starts,ends],0), pourcents, '-o',alpha = 0.5)\n",
    "    \n",
    "bk.plot.intervals(tone,'orange', alpha=0.5)    \n",
    "plt.plot(np.mean([starts,ends],0),np.mean(ptotal,0),'*-r')\n",
    "plt.legend(['Rat09', 'Rat10', 'Rat11', 'Rat12', 'Rat01', 'Rat02','Mean','Tone'])"
   ]
  },
  {
   "cell_type": "code",
   "execution_count": null,
   "metadata": {},
   "outputs": [],
   "source": [
    "t_start_exp_fear = [65.9722,55.00735]\n",
    "\n",
    "ptotal = []\n",
    "plt.figure()\n",
    "\n",
    "for fichier,t_s,d_t in zip(fear_sess,t_start_exp_fear,digitalin_tone, digitalin_shock):\n",
    "    os.chdir(fichier)\n",
    "    pos = bk.load.DLC_pos()\n",
    "    pos.index = pos.index\n",
    "    tone = bk.compute.tone_intervals(bk.load.digitalin('digitalin.dat')[d_t,:])- t_s * 1_000_000\n",
    "    speeds = bk.compute.speed(pos,2, columns_to_drop=['e_tail'])\n",
    "    freeze = bk.compute.freezing_intervals(speeds, 25, mode='multiple_speed', clean=True) - t_s *1_000_000\n",
    "    pourcents = all_pourcentages(intervals, freeze)\n",
    "    ptotal.append(pourcents)\n",
    "#     bk.plot.intervals(freeze,col = 'b')\n",
    "    plt.plot(np.mean([starts,ends],0), pourcents, '-o',alpha = 0.5)\n",
    "    \n",
    "bk.plot.intervals(tone,'orange', alpha=0.5)    \n",
    "plt.plot(np.mean([starts,ends],0),np.mean(ptotal,0),'*-r')\n",
    "plt.legend(['Rat09', 'Rat10', 'Rat11', 'Rat12', 'Rat01', 'Rat02','Mean','Tone'])"
   ]
  },
  {
   "cell_type": "code",
   "execution_count": null,
   "metadata": {},
   "outputs": [],
   "source": [
    "for fichier in fear_sess:\n",
    "    os.chdir(fichier)\n",
    "    pos = bk.load.DLC_pos()\n",
    "    f_tone = GetStartExp(bk.load.digitalin('digitalin.dat')[2,:])-120\n",
    "    print(f_tone[f_tone>0])"
   ]
  },
  {
   "cell_type": "code",
   "execution_count": null,
   "metadata": {},
   "outputs": [],
   "source": []
  }
 ],
 "metadata": {
  "kernelspec": {
   "display_name": "Python 3",
   "language": "python",
   "name": "python3"
  },
  "language_info": {
   "codemirror_mode": {
    "name": "ipython",
    "version": 3
   },
   "file_extension": ".py",
   "mimetype": "text/x-python",
   "name": "python",
   "nbconvert_exporter": "python",
   "pygments_lexer": "ipython3",
   "version": "3.7.0"
  }
 },
 "nbformat": 4,
 "nbformat_minor": 2
}
