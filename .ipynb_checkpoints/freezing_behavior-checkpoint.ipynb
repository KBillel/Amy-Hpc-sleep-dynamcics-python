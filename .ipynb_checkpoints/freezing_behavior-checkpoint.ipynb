{
 "cells": [
  {
   "cell_type": "code",
   "execution_count": 3,
   "metadata": {},
   "outputs": [],
   "source": [
    "%matplotlib qt\n",
    "\n",
    "import neuroseries as nts\n",
    "\n",
    "import numpy as np\n",
    "import matplotlib.pyplot as plt\n",
    "\n",
    "from matplotlib import cm\n",
    "\n",
    "import scipy.stats\n",
    "import scipy.ndimage\n",
    "import scipy.signal\n",
    "\n",
    "import os\n",
    "\n",
    "import cv2\n",
    "import datetime\n",
    "\n",
    "import bk.load \n",
    "import bk.plot\n",
    "import bk.compute\n",
    "\n",
    "import sklearn.manifold as skm"
   ]
  },
  {
   "cell_type": "code",
   "execution_count": 4,
   "metadata": {},
   "outputs": [],
   "source": [
    "def pourcent_freezing(interval, freezing_intervals): \n",
    "    freezing_intervals_in_interval = freezing_intervals.intersect(interval)\n",
    "    total_time_freezing = np.sum(freezing_intervals_in_interval.end-freezing_intervals_in_interval.start)\n",
    "    total_time = interval.end-interval.start\n",
    "    pourcentage = (total_time_freezing/total_time)*100\n",
    "    return pourcentage\n",
    "\n",
    "def all_pourcentages(intervals, freezing_intervals):\n",
    "    pourcentages = []\n",
    "    for i in range(len(intervals)):\n",
    "        interval = intervals.loc[i]\n",
    "        pourcentages.append(pourcent_freezing(interval, freezing_intervals))\n",
    "    return pourcentages\n",
    "\n",
    "def GetStartExp(Exp,Fs = 20000):\n",
    "    \n",
    "    if isinstance(Exp[0],(np.bool_,bool)):\n",
    "        Exp = list(map(int,Exp))\n",
    "    \n",
    "    diff_Exp = np.diff(Exp)\n",
    "    \n",
    "    t_start = np.where(diff_Exp == 1)[0]    \n",
    "    return t_start/Fs"
   ]
  },
  {
   "cell_type": "code",
   "execution_count": 55,
   "metadata": {},
   "outputs": [],
   "source": [
    "import pandas as pd \n",
    "\n",
    "def DLC_posRatChelou(filtered = True,start = 0):\n",
    "    \"\"\"\n",
    "    Load position from DLC files (*.h5) and returns it as a nts.TsdFrame\n",
    "    \"\"\"\n",
    "    \n",
    "    files = os.listdir()\n",
    "    for f in files:\n",
    "        if filtered and f.endswith('filtered.h5'): \n",
    "            filename = f\n",
    "            break\n",
    "        if not filtered and not f.endswith('filtered.h5') and f.endswith('.h5'):\n",
    "            filename = f\n",
    "            break\n",
    "            \n",
    "    data = pd.read_hdf(filename)\n",
    "    data = data[data.keys()[0][0]]\n",
    "    \n",
    "    TTL = bk.load.digitalin('digitalin.dat')[0,:]\n",
    "    TTL = TTL[start:]\n",
    "    tf = bk.compute.TTL_to_times(TTL)\n",
    "    \n",
    "    if len(tf)>len(data):\n",
    "        tf = np.delete(tf,-1)\n",
    "    \n",
    "    data.index = tf * 1_000_000\n",
    "    pos = nts.TsdFrame(data)\n",
    "    return pos"
   ]
  },
  {
   "cell_type": "markdown",
   "metadata": {},
   "source": [
    "## Analysis for classical fear conditionning "
   ]
  },
  {
   "cell_type": "code",
   "execution_count": 59,
   "metadata": {},
   "outputs": [],
   "source": [
    "context_sess = ['Y:\\classical_fear_conditionning\\Rat09-20201118\\Rat09_201118_180813',\n",
    "                'Y:\\classical_fear_conditionning\\Rat10-20201118\\Rat10_201118_182234', \n",
    "                'Y:\\classical_fear_conditionning\\Rat11-20201117\\Rat11_201117_172705',\n",
    "                'Y:\\classical_fear_conditionning\\Rat12-20201117\\Rat12_201117_171302', \n",
    "                'Y:\\classical_fear_conditionning\\Rat01-20200630\\Rat01_200630_183149',\n",
    "                'Y:\\classical_fear_conditionning\\Rat02-20200707\\Rat02_200707_172929']\n",
    "fear_sess = ['Y:\\classical_fear_conditionning\\Rat09-20201118\\Rat09_201118_110003',\n",
    "             'Y:\\classical_fear_conditionning\\Rat10-20201118\\Rat10_201118_111531',\n",
    "             'Y:\\classical_fear_conditionning\\Rat11-20201117\\Rat11_201117_112130',\n",
    "             'Y:\\classical_fear_conditionning\\Rat12-20201117\\Rat12_201117_110146',\n",
    "            'Y:\\classical_fear_conditionning\\Rat01-20200630\\Rat01_200630_114732',\n",
    "            'Y:\\classical_fear_conditionning\\Rat02-20200707\\Rat02_200707_114611']\n",
    "\n",
    "tone_sess = ['Y:\\classical_fear_conditionning\\Rat09-20201118\\Rat09_201118_170529', \n",
    "        'Y:\\classical_fear_conditionning\\Rat10-20201118\\Rat10_201118_172028', \n",
    "        'Y:\\classical_fear_conditionning\\Rat11-20201117\\Rat11_201117_183012',\n",
    "        'Y:\\classical_fear_conditionning\\Rat12-20201117\\Rat12_201117_181452', \n",
    "        'Y:\\classical_fear_conditionning\\Rat01-20200630\\Rat01_200630_171900', \n",
    "        'Y:\\classical_fear_conditionning\\Rat02-20200707\\Rat02_200707_183427' ]\n",
    "\n",
    "\n",
    "intervals = np.linspace(0,570,20)\n",
    "starts = intervals[0:-1]\n",
    "ends = intervals[1:]\n",
    "intervals = nts.IntervalSet(starts,ends,time_units='s')\n",
    "\n",
    "digitalin_tone = [3,3,3,3,2,2]\n",
    "digitalin_shock = [2,2,2,2,1,1]"
   ]
  },
  {
   "cell_type": "code",
   "execution_count": 6,
   "metadata": {},
   "outputs": [
    {
     "name": "stderr",
     "output_type": "stream",
     "text": [
      "Z:\\Python\\Maelle\\Amy-Hpc-sleep-dynamics-python\\bk\\compute.py:161: RuntimeWarning: overflow encountered in square\n",
      "  v = np.sqrt(x_speed**2 + y_speed**2)\n"
     ]
    },
    {
     "data": {
      "text/plain": [
       "<matplotlib.legend.Legend at 0x19e2e039ee0>"
      ]
     },
     "execution_count": 6,
     "metadata": {},
     "output_type": "execute_result"
    }
   ],
   "source": [
    "t_start_exp_tone = [49.9391, 12.74455, 30.36235, 29.62595, 58.95, 17.8116]\n",
    "\n",
    "ptotal = []\n",
    "plt.figure()\n",
    "\n",
    "for fichier,t_s,d_t in zip(tone_sess,t_start_exp_tone,digitalin_tone):\n",
    "    os.chdir(fichier)\n",
    "    pos = bk.load.DLC_pos()\n",
    "    pos.index = pos.index\n",
    "    tone = bk.compute.tone_intervals(bk.load.digitalin('digitalin.dat')[d_t,:])- t_s * 1_000_000\n",
    "    speeds = bk.compute.speed(pos,2, columns_to_drop=['e_tail'])\n",
    "    freeze = bk.compute.freezing_intervals(speeds, 25, mode='multiple_speed', clean=True) - t_s *1_000_000\n",
    "    pourcents = all_pourcentages(intervals, freeze)\n",
    "    ptotal.append(pourcents)\n",
    "#     bk.plot.intervals(freeze,col = 'b')\n",
    "    plt.plot(np.mean([starts,ends],0), pourcents, '-o',alpha = 0.5)\n",
    "    \n",
    "bk.plot.intervals(tone,'orange', alpha=0.5)    \n",
    "plt.plot(np.mean([starts,ends],0),np.mean(ptotal,0),'*-r')\n",
    "plt.legend(['Rat09', 'Rat10', 'Rat11', 'Rat12', 'Rat01', 'Rat02','Mean','Tone'])"
   ]
  },
  {
   "cell_type": "code",
   "execution_count": 60,
   "metadata": {},
   "outputs": [
    {
     "data": {
      "text/plain": [
       "<matplotlib.legend.Legend at 0x1d8a3249208>"
      ]
     },
     "execution_count": 60,
     "metadata": {},
     "output_type": "execute_result"
    }
   ],
   "source": [
    "t_start_exp_fear = [37.7209,29.46495,34.7118,25.34385,45.9524,55.00735]\n",
    "\n",
    "ptotal = []\n",
    "plt.figure()\n",
    "\n",
    "for fichier,t_s,d_s in zip(fear_sess,t_start_exp_fear, digitalin_shock):\n",
    "    os.chdir(fichier)\n",
    "    pos = bk.load.DLC_pos()\n",
    "    pos.index = pos.index\n",
    "    tone = bk.compute.tone_intervals(bk.load.digitalin('digitalin.dat')[d_s+1,:])- t_s * 1_000_000\n",
    "    shock = bk.compute.tone_intervals(bk.load.digitalin('digitalin.dat')[d_s,:])- t_s * 1_000_000\n",
    "    speeds = bk.compute.speed(pos,2, columns_to_drop=['e_tail'])\n",
    "    freeze = bk.compute.freezing_intervals(speeds, 25, mode='multiple_speed', clean=True) - t_s *1_000_000\n",
    "    pourcents = all_pourcentages(intervals, freeze)\n",
    "    ptotal.append(pourcents)\n",
    "#     bk.plot.intervals(freeze,col = 'b')\n",
    "    plt.plot(np.mean([starts,ends],0), pourcents, '-o',alpha = 0.5)\n",
    "bk.plot.intervals(shock,'green',alpha = 0.5)    \n",
    "bk.plot.intervals(tone,'orange', alpha=0.5)    \n",
    "plt.plot(np.mean([starts,ends],0),np.mean(ptotal,0),'*-r')\n",
    "plt.legend(['Rat09', 'Rat10', 'Rat11', 'Rat12', 'Rat01', 'Rat02','Mean','Shock','Tone'])"
   ]
  },
  {
   "cell_type": "code",
   "execution_count": 62,
   "metadata": {},
   "outputs": [
    {
     "data": {
      "text/plain": [
       "<matplotlib.legend.Legend at 0x1d8a00f0438>"
      ]
     },
     "execution_count": 62,
     "metadata": {},
     "output_type": "execute_result"
    }
   ],
   "source": [
    "t_start_exp_context = [34,25,36,26,38,58]\n",
    "\n",
    "ptotal = []\n",
    "plt.figure()\n",
    "\n",
    "for fichier,t_s in zip(context_sess,t_start_exp_context):\n",
    "    os.chdir(fichier)\n",
    "    pos = bk.load.DLC_pos()\n",
    "    pos.index = pos.index\n",
    "    speeds = bk.compute.speed(pos,2, columns_to_drop=['e_tail'])\n",
    "    freeze = bk.compute.freezing_intervals(speeds, 25, mode='multiple_speed', clean=True) - t_s *1_000_000\n",
    "    pourcents = all_pourcentages(intervals, freeze)\n",
    "    ptotal.append(pourcents)\n",
    "#     bk.plot.intervals(freeze,col = 'b')\n",
    "    plt.plot(np.mean([starts,ends],0), pourcents, '-o',alpha = 0.5)\n",
    "plt.plot(np.mean([starts,ends],0),np.mean(ptotal,0),'*-r')\n",
    "plt.legend(['Rat09', 'Rat10', 'Rat11', 'Rat12', 'Rat01', 'Rat02','Mean'])"
   ]
  },
  {
   "cell_type": "code",
   "execution_count": 60,
   "metadata": {},
   "outputs": [
    {
     "name": "stdout",
     "output_type": "stream",
     "text": [
      "[ 3.18776974  1.48582465  3.23840677  0.64798611 11.55357156 13.12103988\n",
      " 12.30773501 11.73506083 10.50992606 14.03412223 16.89255854 15.27001727\n",
      " 16.21988447  7.17805611  7.52125021 17.89187624 18.49912287 14.66015871\n",
      " 13.17433428]\n"
     ]
    }
   ],
   "source": [
    "# t_start_exp_fear = [37.7209,29.46495,34.7118,25.34385,45.9524,55.00735]\n",
    "\n",
    "# ptotal = []\n",
    "\n",
    "# for subsession,t_s,d_s in zip(fear_sess,t_start_exp_fear, digitalin_shock):\n",
    "#     os.chdir(subsession)\n",
    "#     pos = bk.load.DLC_pos()\n",
    "#     tone = bk.compute.tone_intervals(bk.load.digitalin('digitalin.dat')[d_s+1,:])- t_s * 1_000_000 \n",
    "#     shock = bk.compute.tone_intervals(bk.load.digitalin('digitalin.dat')[d_s,:])- t_s * 1_000_000\n",
    "#     speeds = bk.compute.speed(pos,2, columns_to_drop=['e_tail'])\n",
    "#     freeze = bk.compute.freezing_intervals(speeds, 25, mode='multiple_speed', clean=True) - t_s *1_000_000\n",
    "#     pourcents = all_pourcentages(intervals, freeze)\n",
    "#     ptotal.append(pourcents)\n",
    "# sem = scipy.stats.sem(ptotal, axis=0)\n",
    "# print(sem)"
   ]
  },
  {
   "cell_type": "code",
   "execution_count": 63,
   "metadata": {},
   "outputs": [
    {
     "data": {
      "text/plain": [
       "Float64Index([ 11586700.0,  11620025.0,  11653375.0,  11686700.0,  11720025.0,\n",
       "               11753375.0,  11786700.0,  11820025.0,  11853350.0,  11886700.0,\n",
       "              ...\n",
       "              629374050.0, 629407400.0, 629440725.0, 629474050.0, 629507400.0,\n",
       "              629540725.0, 629574050.0, 629607375.0, 629640725.0, 629674050.0],\n",
       "             dtype='float64', name='Time (us)', length=18544)"
      ]
     },
     "execution_count": 63,
     "metadata": {},
     "output_type": "execute_result"
    }
   ],
   "source": [
    "pos.index"
   ]
  },
  {
   "cell_type": "code",
   "execution_count": 15,
   "metadata": {
    "collapsed": true,
    "jupyter": {
     "outputs_hidden": true
    }
   },
   "outputs": [
    {
     "ename": "ValueError",
     "evalue": "The lengths of the data (19) and the error 3 do not match",
     "output_type": "error",
     "traceback": [
      "\u001b[1;31m---------------------------------------------------------------------------\u001b[0m",
      "\u001b[1;31mValueError\u001b[0m                                Traceback (most recent call last)",
      "\u001b[1;32m<ipython-input-15-c4dcd4189e33>\u001b[0m in \u001b[0;36m<module>\u001b[1;34m\u001b[0m\n\u001b[0;32m     19\u001b[0m \u001b[0mbk\u001b[0m\u001b[1;33m.\u001b[0m\u001b[0mplot\u001b[0m\u001b[1;33m.\u001b[0m\u001b[0mintervals\u001b[0m\u001b[1;33m(\u001b[0m\u001b[0mshock\u001b[0m\u001b[1;33m,\u001b[0m\u001b[1;34m'green'\u001b[0m\u001b[1;33m,\u001b[0m\u001b[0malpha\u001b[0m \u001b[1;33m=\u001b[0m \u001b[1;36m0.5\u001b[0m\u001b[1;33m)\u001b[0m\u001b[1;33m\u001b[0m\u001b[1;33m\u001b[0m\u001b[0m\n\u001b[0;32m     20\u001b[0m \u001b[0mbk\u001b[0m\u001b[1;33m.\u001b[0m\u001b[0mplot\u001b[0m\u001b[1;33m.\u001b[0m\u001b[0mintervals\u001b[0m\u001b[1;33m(\u001b[0m\u001b[0mtone\u001b[0m\u001b[1;33m,\u001b[0m\u001b[1;34m'orange'\u001b[0m\u001b[1;33m,\u001b[0m \u001b[0malpha\u001b[0m\u001b[1;33m=\u001b[0m\u001b[1;36m0.5\u001b[0m\u001b[1;33m)\u001b[0m\u001b[1;33m\u001b[0m\u001b[1;33m\u001b[0m\u001b[0m\n\u001b[1;32m---> 21\u001b[1;33m \u001b[0mplt\u001b[0m\u001b[1;33m.\u001b[0m\u001b[0merrorbar\u001b[0m\u001b[1;33m(\u001b[0m\u001b[0mnp\u001b[0m\u001b[1;33m.\u001b[0m\u001b[0mmean\u001b[0m\u001b[1;33m(\u001b[0m\u001b[1;33m[\u001b[0m\u001b[0mstarts\u001b[0m\u001b[1;33m,\u001b[0m\u001b[0mends\u001b[0m\u001b[1;33m]\u001b[0m\u001b[1;33m,\u001b[0m\u001b[1;36m0\u001b[0m\u001b[1;33m)\u001b[0m\u001b[1;33m,\u001b[0m\u001b[0mnp\u001b[0m\u001b[1;33m.\u001b[0m\u001b[0mmean\u001b[0m\u001b[1;33m(\u001b[0m\u001b[0mptotal\u001b[0m\u001b[1;33m,\u001b[0m\u001b[1;36m0\u001b[0m\u001b[1;33m)\u001b[0m\u001b[1;33m,\u001b[0m\u001b[0msem\u001b[0m\u001b[1;33m,\u001b[0m\u001b[1;34m'*-r'\u001b[0m\u001b[1;33m)\u001b[0m\u001b[1;33m\u001b[0m\u001b[1;33m\u001b[0m\u001b[0m\n\u001b[0m\u001b[0;32m     22\u001b[0m \u001b[0mplt\u001b[0m\u001b[1;33m.\u001b[0m\u001b[0mlegend\u001b[0m\u001b[1;33m(\u001b[0m\u001b[1;33m[\u001b[0m\u001b[1;34m'Rat09'\u001b[0m\u001b[1;33m,\u001b[0m \u001b[1;34m'Rat10'\u001b[0m\u001b[1;33m,\u001b[0m \u001b[1;34m'Rat11'\u001b[0m\u001b[1;33m,\u001b[0m \u001b[1;34m'Rat12'\u001b[0m\u001b[1;33m,\u001b[0m \u001b[1;34m'Rat01'\u001b[0m\u001b[1;33m,\u001b[0m \u001b[1;34m'Rat02'\u001b[0m\u001b[1;33m,\u001b[0m\u001b[1;34m'Mean'\u001b[0m\u001b[1;33m,\u001b[0m\u001b[1;34m'Shock'\u001b[0m\u001b[1;33m,\u001b[0m\u001b[1;34m'Tone'\u001b[0m\u001b[1;33m]\u001b[0m\u001b[1;33m)\u001b[0m\u001b[1;33m\u001b[0m\u001b[1;33m\u001b[0m\u001b[0m\n",
      "\u001b[1;32mC:\\ProgramData\\Anaconda3\\lib\\site-packages\\matplotlib\\pyplot.py\u001b[0m in \u001b[0;36merrorbar\u001b[1;34m(x, y, yerr, xerr, fmt, ecolor, elinewidth, capsize, barsabove, lolims, uplims, xlolims, xuplims, errorevery, capthick, data, **kwargs)\u001b[0m\n\u001b[0;32m   2602\u001b[0m         \u001b[0muplims\u001b[0m\u001b[1;33m=\u001b[0m\u001b[1;32mFalse\u001b[0m\u001b[1;33m,\u001b[0m \u001b[0mxlolims\u001b[0m\u001b[1;33m=\u001b[0m\u001b[1;32mFalse\u001b[0m\u001b[1;33m,\u001b[0m \u001b[0mxuplims\u001b[0m\u001b[1;33m=\u001b[0m\u001b[1;32mFalse\u001b[0m\u001b[1;33m,\u001b[0m \u001b[0merrorevery\u001b[0m\u001b[1;33m=\u001b[0m\u001b[1;36m1\u001b[0m\u001b[1;33m,\u001b[0m\u001b[1;33m\u001b[0m\u001b[1;33m\u001b[0m\u001b[0m\n\u001b[0;32m   2603\u001b[0m         capthick=None, *, data=None, **kwargs):\n\u001b[1;32m-> 2604\u001b[1;33m     return gca().errorbar(\n\u001b[0m\u001b[0;32m   2605\u001b[0m         \u001b[0mx\u001b[0m\u001b[1;33m,\u001b[0m \u001b[0my\u001b[0m\u001b[1;33m,\u001b[0m \u001b[0myerr\u001b[0m\u001b[1;33m=\u001b[0m\u001b[0myerr\u001b[0m\u001b[1;33m,\u001b[0m \u001b[0mxerr\u001b[0m\u001b[1;33m=\u001b[0m\u001b[0mxerr\u001b[0m\u001b[1;33m,\u001b[0m \u001b[0mfmt\u001b[0m\u001b[1;33m=\u001b[0m\u001b[0mfmt\u001b[0m\u001b[1;33m,\u001b[0m \u001b[0mecolor\u001b[0m\u001b[1;33m=\u001b[0m\u001b[0mecolor\u001b[0m\u001b[1;33m,\u001b[0m\u001b[1;33m\u001b[0m\u001b[1;33m\u001b[0m\u001b[0m\n\u001b[0;32m   2606\u001b[0m         \u001b[0melinewidth\u001b[0m\u001b[1;33m=\u001b[0m\u001b[0melinewidth\u001b[0m\u001b[1;33m,\u001b[0m \u001b[0mcapsize\u001b[0m\u001b[1;33m=\u001b[0m\u001b[0mcapsize\u001b[0m\u001b[1;33m,\u001b[0m \u001b[0mbarsabove\u001b[0m\u001b[1;33m=\u001b[0m\u001b[0mbarsabove\u001b[0m\u001b[1;33m,\u001b[0m\u001b[1;33m\u001b[0m\u001b[1;33m\u001b[0m\u001b[0m\n",
      "\u001b[1;32mC:\\ProgramData\\Anaconda3\\lib\\site-packages\\matplotlib\\__init__.py\u001b[0m in \u001b[0;36minner\u001b[1;34m(ax, data, *args, **kwargs)\u001b[0m\n\u001b[0;32m   1436\u001b[0m     \u001b[1;32mdef\u001b[0m \u001b[0minner\u001b[0m\u001b[1;33m(\u001b[0m\u001b[0max\u001b[0m\u001b[1;33m,\u001b[0m \u001b[1;33m*\u001b[0m\u001b[0margs\u001b[0m\u001b[1;33m,\u001b[0m \u001b[0mdata\u001b[0m\u001b[1;33m=\u001b[0m\u001b[1;32mNone\u001b[0m\u001b[1;33m,\u001b[0m \u001b[1;33m**\u001b[0m\u001b[0mkwargs\u001b[0m\u001b[1;33m)\u001b[0m\u001b[1;33m:\u001b[0m\u001b[1;33m\u001b[0m\u001b[1;33m\u001b[0m\u001b[0m\n\u001b[0;32m   1437\u001b[0m         \u001b[1;32mif\u001b[0m \u001b[0mdata\u001b[0m \u001b[1;32mis\u001b[0m \u001b[1;32mNone\u001b[0m\u001b[1;33m:\u001b[0m\u001b[1;33m\u001b[0m\u001b[1;33m\u001b[0m\u001b[0m\n\u001b[1;32m-> 1438\u001b[1;33m             \u001b[1;32mreturn\u001b[0m \u001b[0mfunc\u001b[0m\u001b[1;33m(\u001b[0m\u001b[0max\u001b[0m\u001b[1;33m,\u001b[0m \u001b[1;33m*\u001b[0m\u001b[0mmap\u001b[0m\u001b[1;33m(\u001b[0m\u001b[0msanitize_sequence\u001b[0m\u001b[1;33m,\u001b[0m \u001b[0margs\u001b[0m\u001b[1;33m)\u001b[0m\u001b[1;33m,\u001b[0m \u001b[1;33m**\u001b[0m\u001b[0mkwargs\u001b[0m\u001b[1;33m)\u001b[0m\u001b[1;33m\u001b[0m\u001b[1;33m\u001b[0m\u001b[0m\n\u001b[0m\u001b[0;32m   1439\u001b[0m \u001b[1;33m\u001b[0m\u001b[0m\n\u001b[0;32m   1440\u001b[0m         \u001b[0mbound\u001b[0m \u001b[1;33m=\u001b[0m \u001b[0mnew_sig\u001b[0m\u001b[1;33m.\u001b[0m\u001b[0mbind\u001b[0m\u001b[1;33m(\u001b[0m\u001b[0max\u001b[0m\u001b[1;33m,\u001b[0m \u001b[1;33m*\u001b[0m\u001b[0margs\u001b[0m\u001b[1;33m,\u001b[0m \u001b[1;33m**\u001b[0m\u001b[0mkwargs\u001b[0m\u001b[1;33m)\u001b[0m\u001b[1;33m\u001b[0m\u001b[1;33m\u001b[0m\u001b[0m\n",
      "\u001b[1;32mC:\\ProgramData\\Anaconda3\\lib\\site-packages\\matplotlib\\axes\\_axes.py\u001b[0m in \u001b[0;36merrorbar\u001b[1;34m(self, x, y, yerr, xerr, fmt, ecolor, elinewidth, capsize, barsabove, lolims, uplims, xlolims, xuplims, errorevery, capthick, **kwargs)\u001b[0m\n\u001b[0;32m   3414\u001b[0m \u001b[1;33m\u001b[0m\u001b[0m\n\u001b[0;32m   3415\u001b[0m         \u001b[1;32mif\u001b[0m \u001b[0mxerr\u001b[0m \u001b[1;32mis\u001b[0m \u001b[1;32mnot\u001b[0m \u001b[1;32mNone\u001b[0m\u001b[1;33m:\u001b[0m\u001b[1;33m\u001b[0m\u001b[1;33m\u001b[0m\u001b[0m\n\u001b[1;32m-> 3416\u001b[1;33m             \u001b[0mleft\u001b[0m\u001b[1;33m,\u001b[0m \u001b[0mright\u001b[0m \u001b[1;33m=\u001b[0m \u001b[0mextract_err\u001b[0m\u001b[1;33m(\u001b[0m\u001b[1;34m'x'\u001b[0m\u001b[1;33m,\u001b[0m \u001b[0mxerr\u001b[0m\u001b[1;33m,\u001b[0m \u001b[0mx\u001b[0m\u001b[1;33m,\u001b[0m \u001b[0mxlolims\u001b[0m\u001b[1;33m,\u001b[0m \u001b[0mxuplims\u001b[0m\u001b[1;33m)\u001b[0m\u001b[1;33m\u001b[0m\u001b[1;33m\u001b[0m\u001b[0m\n\u001b[0m\u001b[0;32m   3417\u001b[0m             barcols.append(self.hlines(\n\u001b[0;32m   3418\u001b[0m                 *apply_mask([y, left, right], everymask), **eb_lines_style))\n",
      "\u001b[1;32mC:\\ProgramData\\Anaconda3\\lib\\site-packages\\matplotlib\\axes\\_axes.py\u001b[0m in \u001b[0;36mextract_err\u001b[1;34m(name, err, data, lolims, uplims)\u001b[0m\n\u001b[0;32m   3406\u001b[0m             \u001b[1;32mfor\u001b[0m \u001b[0me\u001b[0m \u001b[1;32min\u001b[0m \u001b[1;33m[\u001b[0m\u001b[0ma\u001b[0m\u001b[1;33m,\u001b[0m \u001b[0mb\u001b[0m\u001b[1;33m]\u001b[0m\u001b[1;33m:\u001b[0m\u001b[1;33m\u001b[0m\u001b[1;33m\u001b[0m\u001b[0m\n\u001b[0;32m   3407\u001b[0m                 \u001b[1;32mif\u001b[0m \u001b[0mlen\u001b[0m\u001b[1;33m(\u001b[0m\u001b[0mdata\u001b[0m\u001b[1;33m)\u001b[0m \u001b[1;33m!=\u001b[0m \u001b[0mlen\u001b[0m\u001b[1;33m(\u001b[0m\u001b[0me\u001b[0m\u001b[1;33m)\u001b[0m\u001b[1;33m:\u001b[0m\u001b[1;33m\u001b[0m\u001b[1;33m\u001b[0m\u001b[0m\n\u001b[1;32m-> 3408\u001b[1;33m                     raise ValueError(\n\u001b[0m\u001b[0;32m   3409\u001b[0m                         \u001b[1;34mf\"The lengths of the data ({len(data)}) and the \"\u001b[0m\u001b[1;33m\u001b[0m\u001b[1;33m\u001b[0m\u001b[0m\n\u001b[0;32m   3410\u001b[0m                         f\"error {len(e)} do not match\")\n",
      "\u001b[1;31mValueError\u001b[0m: The lengths of the data (19) and the error 3 do not match"
     ]
    }
   ],
   "source": [
    "# t_start_exp_fear = [37.7209,29.46495,34.7118,25.34385,45.9524,55.00735]\n",
    "\n",
    "# ptotal = []\n",
    "# plt.figure()\n",
    "\n",
    "# for fichier,t_s,d_s in zip(fear_sess,t_start_exp_fear, digitalin_shock):\n",
    "#     os.chdir(fichier)\n",
    "#     pos = bk.load.DLC_pos()\n",
    "#     pos.index = pos.index\n",
    "#     tone = bk.compute.tone_intervals(bk.load.digitalin('digitalin.dat')[d_s+1,:])- t_s * 1_000_000\n",
    "#     shock = bk.compute.tone_intervals(bk.load.digitalin('digitalin.dat')[d_s,:])- t_s * 1_000_000\n",
    "#     speeds = bk.compute.speed(pos,2, columns_to_drop=['e_tail'])\n",
    "#     freeze = bk.compute.freezing_intervals(speeds, 25, mode='multiple_speed', clean=True) - t_s *1_000_000\n",
    "#     pourcents = all_pourcentages(intervals, freeze)\n",
    "#     ptotal.append(pourcents)\n",
    "# #     bk.plot.intervals(freeze,col = 'b')\n",
    "#     plt.plot(np.mean([starts,ends],0), pourcents, '-o',alpha = 0.5)\n",
    "# sem = scipy.stats.sem(ptotal, axis=0)\n",
    "# bk.plot.intervals(shock,'green',alpha = 0.5)    \n",
    "# bk.plot.intervals(tone,'orange', alpha=0.5)    \n",
    "# plt.errorbar(np.mean([starts,ends],0),np.mean(ptotal,0),sem,'*-r')\n",
    "# plt.legend(['Rat09', 'Rat10', 'Rat11', 'Rat12', 'Rat01', 'Rat02','Mean','Shock','Tone'])"
   ]
  },
  {
   "cell_type": "code",
   "execution_count": 61,
   "metadata": {
    "collapsed": true,
    "jupyter": {
     "outputs_hidden": true
    }
   },
   "outputs": [
    {
     "name": "stdout",
     "output_type": "stream",
     "text": [
      "34.458774999999946\n",
      "[  3.0225    3.1475    3.2725  203.08695 353.30415 503.51535]\n",
      "25.68372499999998\n",
      "[  3.0225    3.1475    3.2725  203.08695 353.30415 503.51535]\n",
      "36.234050000000025\n",
      "[  3.0225    3.1475    3.2725  203.08695 353.30415 503.51535]\n",
      "26.03037500000005\n",
      "[  3.0225    3.1475    3.2725  203.08695 353.30415 503.51535]\n",
      "38.39945\n",
      "[  3.0225    3.1475    3.2725  203.08695 353.30415 503.51535]\n",
      "58.11689999999999\n",
      "[  3.0225    3.1475    3.2725  203.08695 353.30415 503.51535]\n"
     ]
    }
   ],
   "source": [
    "for fichier in context_sess:\n",
    "    os.chdir(fichier)\n",
    "    pos = bk.load.DLC_pos()\n",
    "    print(pos.as_units('s').index[-1]-575)\n",
    "#     f_tone = GetStartExp(bk.load.digitalin('digitalin.dat')[1,:])\n",
    "#     print(f_tone[f_tone>0])\n",
    "    \n",
    "    \n"
   ]
  },
  {
   "cell_type": "markdown",
   "metadata": {},
   "source": [
    "## Analysis for PTSD fear conditionning "
   ]
  },
  {
   "cell_type": "code",
   "execution_count": 43,
   "metadata": {},
   "outputs": [],
   "source": [
    "neutral_sess = ['Y://fear_conditionning_ptsd\\Rat13\\Rat13-20201202\\Rat13_201202_183404',\n",
    "               'Y://fear_conditionning_ptsd\\Rat14\\Rat14-20201203\\Rat14_201203_165203',\n",
    "               'Y://fear_conditionning_ptsd\\Rat15\\Rat15-20201130\\Rat15_201130_164002',\n",
    "               'Y://fear_conditionning_ptsd\\Rat16\\Rat16-20201201\\Rat16_201201_172742']\n",
    "\n",
    "\n",
    "\n",
    "context_sess = ['Y://fear_conditionning_ptsd\\Rat13\\Rat13-20201203\\Rat13_201203_154214',\n",
    "               'Y://fear_conditionning_ptsd\\Rat14\\Rat14-20201204\\Rat14_201204_172709',\n",
    "               'Y://fear_conditionning_ptsd\\Rat15\\Rat15-20201201\\Rat15_201201_155055',\n",
    "               'Y://fear_conditionning_ptsd\\Rat16\\Rat16-20201202\\Rat16_201202_171552']\n",
    "\n",
    "fear_sess = ['Y://fear_conditionning_ptsd\\Rat13\\Rat13-20201203\\Rat13_201203_112541',\n",
    "            'Y://fear_conditionning_ptsd\\Rat14\\Rat14-20201204\\Rat14_201204_113458',\n",
    "            'Y://fear_conditionning_ptsd\\Rat15\\Rat15-20201201\\Rat15_201201_115713',\n",
    "            'Y://fear_conditionning_ptsd\\Rat16\\Rat16-20201202\\Rat16_201202_132308']\n",
    "\n",
    "tone_sess = ['Y://fear_conditionning_ptsd\\Rat13\\Rat13-20201203\\Rat13_201203_164205',\n",
    "            'Y://fear_conditionning_ptsd\\Rat14\\Rat14-20201204\\Rat14_201204_161859',\n",
    "            'Y://fear_conditionning_ptsd\\Rat16\\Rat16-20201202\\Rat16_201202_182329']\n",
    "\n",
    "latetone_sess = ['Y://fear_conditionning_ptsd\\Rat13\\Rat13-20201211\\Rat13_201211_121503',\n",
    "                'Y://fear_conditionning_ptsd\\Rat14\\Rat14-20201211\\Rat14_201211_122458',\n",
    "                'Y://fear_conditionning_ptsd\\Rat16\\Rat16-20201211\\Rat16_201211_134118']\n",
    "\n",
    "latecontext_sess = ['Y://fear_conditionning_ptsd\\Rat13\\Rat13-20201211\\Rat13_201211_113739',\n",
    "                   'Y://fear_conditionning_ptsd\\Rat14\\Rat14-20201211\\Rat14_201211_114719',\n",
    "                   'Y://fear_conditionning_ptsd\\Rat15\\Rat15-20201211\\Rat15_201211_141224',\n",
    "                   'Y://fear_conditionning_ptsd\\Rat16\\Rat16-20201211\\Rat16_201211_142217']\n"
   ]
  },
  {
   "cell_type": "code",
   "execution_count": 4,
   "metadata": {
    "collapsed": true,
    "jupyter": {
     "outputs_hidden": true,
     "source_hidden": true
    }
   },
   "outputs": [
    {
     "name": "stdout",
     "output_type": "stream",
     "text": [
      "Y://fear_conditionning_ptsd\\Rat13\\Rat13-20201202\\Rat13_201202_183404\n",
      "Y://fear_conditionning_ptsd\\Rat14\\Rat14-20201203\\Rat14_201203_165203\n",
      "Y://fear_conditionning_ptsd\\Rat15\\Rat15-20201130\\Rat15_201130_164002\n"
     ]
    },
    {
     "ename": "ValueError",
     "evalue": "Length mismatch: Expected axis has 8194 elements, new values have 8195 elements",
     "output_type": "error",
     "traceback": [
      "\u001b[1;31m---------------------------------------------------------------------------\u001b[0m",
      "\u001b[1;31mValueError\u001b[0m                                Traceback (most recent call last)",
      "\u001b[1;32m<ipython-input-4-e53fca8d7507>\u001b[0m in \u001b[0;36m<module>\u001b[1;34m\u001b[0m\n\u001b[0;32m      7\u001b[0m     \u001b[0mos\u001b[0m\u001b[1;33m.\u001b[0m\u001b[0mchdir\u001b[0m\u001b[1;33m(\u001b[0m\u001b[0mfichier\u001b[0m\u001b[1;33m)\u001b[0m\u001b[1;33m\u001b[0m\u001b[1;33m\u001b[0m\u001b[0m\n\u001b[0;32m      8\u001b[0m     \u001b[0mprint\u001b[0m\u001b[1;33m(\u001b[0m\u001b[0mfichier\u001b[0m\u001b[1;33m)\u001b[0m\u001b[1;33m\u001b[0m\u001b[1;33m\u001b[0m\u001b[0m\n\u001b[1;32m----> 9\u001b[1;33m     \u001b[0mpos\u001b[0m \u001b[1;33m=\u001b[0m \u001b[0mbk\u001b[0m\u001b[1;33m.\u001b[0m\u001b[0mload\u001b[0m\u001b[1;33m.\u001b[0m\u001b[0mDLC_pos\u001b[0m\u001b[1;33m(\u001b[0m\u001b[1;33m)\u001b[0m\u001b[1;33m\u001b[0m\u001b[1;33m\u001b[0m\u001b[0m\n\u001b[0m\u001b[0;32m     10\u001b[0m     \u001b[0mpos\u001b[0m\u001b[1;33m.\u001b[0m\u001b[0mindex\u001b[0m \u001b[1;33m=\u001b[0m \u001b[0mpos\u001b[0m\u001b[1;33m.\u001b[0m\u001b[0mindex\u001b[0m\u001b[1;33m\u001b[0m\u001b[1;33m\u001b[0m\u001b[0m\n\u001b[0;32m     11\u001b[0m     \u001b[0mspeeds\u001b[0m \u001b[1;33m=\u001b[0m \u001b[0mbk\u001b[0m\u001b[1;33m.\u001b[0m\u001b[0mcompute\u001b[0m\u001b[1;33m.\u001b[0m\u001b[0mspeed\u001b[0m\u001b[1;33m(\u001b[0m\u001b[0mpos\u001b[0m\u001b[1;33m,\u001b[0m\u001b[1;36m2\u001b[0m\u001b[1;33m,\u001b[0m \u001b[0mcolumns_to_drop\u001b[0m\u001b[1;33m=\u001b[0m\u001b[1;33m[\u001b[0m\u001b[1;34m'e_tail'\u001b[0m\u001b[1;33m]\u001b[0m\u001b[1;33m)\u001b[0m\u001b[1;33m\u001b[0m\u001b[1;33m\u001b[0m\u001b[0m\n",
      "\u001b[1;32mZ:\\Python\\Maelle\\Amy-Hpc-sleep-dynamics-python\\bk\\load.py\u001b[0m in \u001b[0;36mDLC_pos\u001b[1;34m(filtered)\u001b[0m\n\u001b[0;32m    325\u001b[0m         \u001b[0mtf\u001b[0m \u001b[1;33m=\u001b[0m \u001b[0mnp\u001b[0m\u001b[1;33m.\u001b[0m\u001b[0mdelete\u001b[0m\u001b[1;33m(\u001b[0m\u001b[0mtf\u001b[0m\u001b[1;33m,\u001b[0m\u001b[1;33m-\u001b[0m\u001b[1;36m1\u001b[0m\u001b[1;33m)\u001b[0m\u001b[1;33m\u001b[0m\u001b[1;33m\u001b[0m\u001b[0m\n\u001b[0;32m    326\u001b[0m \u001b[1;33m\u001b[0m\u001b[0m\n\u001b[1;32m--> 327\u001b[1;33m     \u001b[0mdata\u001b[0m\u001b[1;33m.\u001b[0m\u001b[0mindex\u001b[0m \u001b[1;33m=\u001b[0m \u001b[0mtf\u001b[0m \u001b[1;33m*\u001b[0m \u001b[1;36m1_000_000\u001b[0m\u001b[1;33m\u001b[0m\u001b[1;33m\u001b[0m\u001b[0m\n\u001b[0m\u001b[0;32m    328\u001b[0m     \u001b[0mpos\u001b[0m \u001b[1;33m=\u001b[0m \u001b[0mnts\u001b[0m\u001b[1;33m.\u001b[0m\u001b[0mTsdFrame\u001b[0m\u001b[1;33m(\u001b[0m\u001b[0mdata\u001b[0m\u001b[1;33m)\u001b[0m\u001b[1;33m\u001b[0m\u001b[1;33m\u001b[0m\u001b[0m\n\u001b[0;32m    329\u001b[0m     \u001b[1;32mreturn\u001b[0m \u001b[0mpos\u001b[0m\u001b[1;33m\u001b[0m\u001b[1;33m\u001b[0m\u001b[0m\n",
      "\u001b[1;32mC:\\ProgramData\\Anaconda3\\lib\\site-packages\\pandas\\core\\generic.py\u001b[0m in \u001b[0;36m__setattr__\u001b[1;34m(self, name, value)\u001b[0m\n\u001b[0;32m   5150\u001b[0m         \u001b[1;32mtry\u001b[0m\u001b[1;33m:\u001b[0m\u001b[1;33m\u001b[0m\u001b[1;33m\u001b[0m\u001b[0m\n\u001b[0;32m   5151\u001b[0m             \u001b[0mobject\u001b[0m\u001b[1;33m.\u001b[0m\u001b[0m__getattribute__\u001b[0m\u001b[1;33m(\u001b[0m\u001b[0mself\u001b[0m\u001b[1;33m,\u001b[0m \u001b[0mname\u001b[0m\u001b[1;33m)\u001b[0m\u001b[1;33m\u001b[0m\u001b[1;33m\u001b[0m\u001b[0m\n\u001b[1;32m-> 5152\u001b[1;33m             \u001b[1;32mreturn\u001b[0m \u001b[0mobject\u001b[0m\u001b[1;33m.\u001b[0m\u001b[0m__setattr__\u001b[0m\u001b[1;33m(\u001b[0m\u001b[0mself\u001b[0m\u001b[1;33m,\u001b[0m \u001b[0mname\u001b[0m\u001b[1;33m,\u001b[0m \u001b[0mvalue\u001b[0m\u001b[1;33m)\u001b[0m\u001b[1;33m\u001b[0m\u001b[1;33m\u001b[0m\u001b[0m\n\u001b[0m\u001b[0;32m   5153\u001b[0m         \u001b[1;32mexcept\u001b[0m \u001b[0mAttributeError\u001b[0m\u001b[1;33m:\u001b[0m\u001b[1;33m\u001b[0m\u001b[1;33m\u001b[0m\u001b[0m\n\u001b[0;32m   5154\u001b[0m             \u001b[1;32mpass\u001b[0m\u001b[1;33m\u001b[0m\u001b[1;33m\u001b[0m\u001b[0m\n",
      "\u001b[1;32mpandas\\_libs\\properties.pyx\u001b[0m in \u001b[0;36mpandas._libs.properties.AxisProperty.__set__\u001b[1;34m()\u001b[0m\n",
      "\u001b[1;32mC:\\ProgramData\\Anaconda3\\lib\\site-packages\\pandas\\core\\generic.py\u001b[0m in \u001b[0;36m_set_axis\u001b[1;34m(self, axis, labels)\u001b[0m\n\u001b[0;32m    562\u001b[0m     \u001b[1;32mdef\u001b[0m \u001b[0m_set_axis\u001b[0m\u001b[1;33m(\u001b[0m\u001b[0mself\u001b[0m\u001b[1;33m,\u001b[0m \u001b[0maxis\u001b[0m\u001b[1;33m:\u001b[0m \u001b[0mint\u001b[0m\u001b[1;33m,\u001b[0m \u001b[0mlabels\u001b[0m\u001b[1;33m:\u001b[0m \u001b[0mIndex\u001b[0m\u001b[1;33m)\u001b[0m \u001b[1;33m->\u001b[0m \u001b[1;32mNone\u001b[0m\u001b[1;33m:\u001b[0m\u001b[1;33m\u001b[0m\u001b[1;33m\u001b[0m\u001b[0m\n\u001b[0;32m    563\u001b[0m         \u001b[0mlabels\u001b[0m \u001b[1;33m=\u001b[0m \u001b[0mensure_index\u001b[0m\u001b[1;33m(\u001b[0m\u001b[0mlabels\u001b[0m\u001b[1;33m)\u001b[0m\u001b[1;33m\u001b[0m\u001b[1;33m\u001b[0m\u001b[0m\n\u001b[1;32m--> 564\u001b[1;33m         \u001b[0mself\u001b[0m\u001b[1;33m.\u001b[0m\u001b[0m_mgr\u001b[0m\u001b[1;33m.\u001b[0m\u001b[0mset_axis\u001b[0m\u001b[1;33m(\u001b[0m\u001b[0maxis\u001b[0m\u001b[1;33m,\u001b[0m \u001b[0mlabels\u001b[0m\u001b[1;33m)\u001b[0m\u001b[1;33m\u001b[0m\u001b[1;33m\u001b[0m\u001b[0m\n\u001b[0m\u001b[0;32m    565\u001b[0m         \u001b[0mself\u001b[0m\u001b[1;33m.\u001b[0m\u001b[0m_clear_item_cache\u001b[0m\u001b[1;33m(\u001b[0m\u001b[1;33m)\u001b[0m\u001b[1;33m\u001b[0m\u001b[1;33m\u001b[0m\u001b[0m\n\u001b[0;32m    566\u001b[0m \u001b[1;33m\u001b[0m\u001b[0m\n",
      "\u001b[1;32mC:\\ProgramData\\Anaconda3\\lib\\site-packages\\pandas\\core\\internals\\managers.py\u001b[0m in \u001b[0;36mset_axis\u001b[1;34m(self, axis, new_labels)\u001b[0m\n\u001b[0;32m    224\u001b[0m \u001b[1;33m\u001b[0m\u001b[0m\n\u001b[0;32m    225\u001b[0m         \u001b[1;32mif\u001b[0m \u001b[0mnew_len\u001b[0m \u001b[1;33m!=\u001b[0m \u001b[0mold_len\u001b[0m\u001b[1;33m:\u001b[0m\u001b[1;33m\u001b[0m\u001b[1;33m\u001b[0m\u001b[0m\n\u001b[1;32m--> 226\u001b[1;33m             raise ValueError(\n\u001b[0m\u001b[0;32m    227\u001b[0m                 \u001b[1;34mf\"Length mismatch: Expected axis has {old_len} elements, new \"\u001b[0m\u001b[1;33m\u001b[0m\u001b[1;33m\u001b[0m\u001b[0m\n\u001b[0;32m    228\u001b[0m                 \u001b[1;34mf\"values have {new_len} elements\"\u001b[0m\u001b[1;33m\u001b[0m\u001b[1;33m\u001b[0m\u001b[0m\n",
      "\u001b[1;31mValueError\u001b[0m: Length mismatch: Expected axis has 8194 elements, new values have 8195 elements"
     ]
    }
   ],
   "source": [
    "t_start_exp_neutral = [36.98515,25.79435,36.52745,34.03365]\n",
    "\n",
    "intervals = np.linspace(0,240,13)\n",
    "starts = intervals[0:-1]\n",
    "ends = intervals[1:]\n",
    "intervals = nts.IntervalSet(starts,ends,time_units='s')\n",
    "\n",
    "ptotal = []\n",
    "plt.figure()\n",
    "\n",
    "for fichier,t_s in zip(neutral_sess,t_start_exp_neutral):\n",
    "    os.chdir(fichier)\n",
    "    pos = bk.load.DLC_pos()\n",
    "    speeds = bk.compute.speed(pos,2, columns_to_drop=['e_tail'])\n",
    "    freeze = bk.compute.freezing_intervals(speeds, 25, mode='multiple_speed', clean=True) - t_s *1_000_000\n",
    "    pourcents = all_pourcentages(intervals, freeze)\n",
    "    ptotal.append(pourcents)\n",
    "#     bk.plot.intervals(freeze,col = 'b')\n",
    "    plt.plot(np.mean([starts,ends],0), pourcents, '-o',alpha = 0.5)\n",
    "plt.plot(np.mean([starts,ends],0),np.mean(ptotal,0),'*-r')\n",
    "plt.legend(['Rat13', 'Rat14','Rat15','Rat16','Mean'])\n",
    "plt.title('Pourcent freezing in neutral context before fear conditionning')"
   ]
  },
  {
   "cell_type": "code",
   "execution_count": 17,
   "metadata": {
    "collapsed": true,
    "jupyter": {
     "outputs_hidden": true,
     "source_hidden": true
    }
   },
   "outputs": [
    {
     "data": {
      "text/plain": [
       "Text(0.5, 1.0, 'Pourcent freezing during fear conditionning')"
      ]
     },
     "execution_count": 17,
     "metadata": {},
     "output_type": "execute_result"
    }
   ],
   "source": [
    "t_start_exp_fear = [43.6102,61.40995,75.8984,36.58545]\n",
    "\n",
    "starts = [0,20,40,60,80,100,103,123,138,168,183,213,216]\n",
    "ends = [20,40,60,80,100,103,123,138,168,183,213,216,240]\n",
    "intervals = nts.IntervalSet(starts,ends,time_units='s')\n",
    "\n",
    "ptotal = []\n",
    "plt.figure()\n",
    "plt.subplot(3,1,1)\n",
    "\n",
    "for fichier,t_s in zip(fear_sess,t_start_exp_fear):\n",
    "    os.chdir(fichier)\n",
    "    pos = bk.load.DLC_pos()\n",
    "    tone = bk.compute.tone_intervals(bk.load.digitalin('digitalin.dat')[3,:])- t_s * 1_000_000\n",
    "    shock = bk.compute.tone_intervals(bk.load.digitalin('digitalin.dat')[2,:])- t_s * 1_000_000\n",
    "    speeds = bk.compute.speed(pos,2, columns_to_drop=['e_tail'])\n",
    "    freeze = bk.compute.freezing_intervals(speeds, 30, mode='multiple_speed', clean=True) - t_s *1_000_000\n",
    "    pourcents = all_pourcentages(intervals, freeze)\n",
    "    ptotal.append(pourcents)\n",
    "#     bk.plot.intervals(freeze,col = 'b')\n",
    "    plt.plot(np.mean([starts,ends],0), pourcents, '-o',alpha = 0.3)\n",
    "bk.plot.intervals(shock,'green',alpha = 0.5)    \n",
    "bk.plot.intervals(tone,'orange', alpha=0.5)    \n",
    "plt.plot(np.mean([starts,ends],0),np.mean(ptotal,0),'*-',color = 'black',linewidth=2)\n",
    "plt.legend(['Rat13', 'Rat14', 'Rat15', 'Rat16','Mean','Shock','Tone'])\n",
    "plt.title('Pourcent freezing during fear conditionning')"
   ]
  },
  {
   "cell_type": "code",
   "execution_count": 18,
   "metadata": {
    "collapsed": true,
    "jupyter": {
     "outputs_hidden": true,
     "source_hidden": true
    }
   },
   "outputs": [
    {
     "data": {
      "text/plain": [
       "Text(0.5, 1.0, 'Pourcent freezing in tone retrieval')"
      ]
     },
     "execution_count": 18,
     "metadata": {},
     "output_type": "execute_result"
    }
   ],
   "source": [
    "t_start_exp_tone = [31.5871,32.76115,5.97]\n",
    "\n",
    "starts = [0,30,60,75,105,120,150,165,195,210]\n",
    "ends = [30,60,75,105,120,150,165,195,210,240]\n",
    "intervals = nts.IntervalSet(starts,ends,time_units='s')\n",
    "\n",
    "ptotal = []\n",
    "plt.subplot(3,1,2)\n",
    "\n",
    "for fichier,t_s in zip(tone_sess,t_start_exp_tone):\n",
    "    os.chdir(fichier)\n",
    "    pos = bk.load.DLC_pos()\n",
    "    tone = bk.compute.tone_intervals(bk.load.digitalin('digitalin.dat')[3,:])- t_s * 1_000_000\n",
    "    speeds = bk.compute.speed(pos,2, columns_to_drop=['e_tail'])\n",
    "    freeze = bk.compute.freezing_intervals(speeds, 30, mode='multiple_speed', clean=True) - t_s *1_000_000\n",
    "    pourcents = all_pourcentages(intervals, freeze)\n",
    "    ptotal.append(pourcents)\n",
    "#     bk.plot.intervals(freeze,col = 'b')\n",
    "    plt.plot(np.mean([starts,ends],0), pourcents, '-o',alpha = 0.3)\n",
    "    \n",
    "bk.plot.intervals(tone,'orange', alpha=0.5)    \n",
    "plt.plot(np.mean([starts,ends],0),np.mean(ptotal,0),'*-',color = 'black',linewidth=2)\n",
    "plt.legend(['Rat13', 'Rat14', 'Rat16','Mean','Tone'])\n",
    "plt.title('Pourcent freezing in tone retrieval')"
   ]
  },
  {
   "cell_type": "code",
   "execution_count": 19,
   "metadata": {
    "collapsed": true,
    "jupyter": {
     "outputs_hidden": true,
     "source_hidden": true
    }
   },
   "outputs": [
    {
     "data": {
      "text/plain": [
       "Text(0.5, 1.0, 'Pourcent freezing in context retrieval')"
      ]
     },
     "execution_count": 19,
     "metadata": {},
     "output_type": "execute_result"
    }
   ],
   "source": [
    "t_start_exp_context = [23.49815,31.56275,48.84175,24.49015]\n",
    "\n",
    "intervals = np.linspace(0,240,13)\n",
    "starts = intervals[0:-1]\n",
    "ends = intervals[1:]\n",
    "intervals = nts.IntervalSet(starts,ends,time_units='s')\n",
    "\n",
    "ptotal = []\n",
    "plt.subplot(3,1,3)\n",
    "\n",
    "for fichier,t_s in zip(context_sess,t_start_exp_context):\n",
    "    os.chdir(fichier)\n",
    "    speeds = bk.compute.speed(pos,2, columns_to_drop=['e_tail'])\n",
    "    freeze = bk.compute.freezing_intervals(speeds, 30, mode='multiple_speed', clean=True) - t_s *1_000_000\n",
    "    pourcents = all_pourcentages(intervals, freeze)\n",
    "    ptotal.append(pourcents)\n",
    "#     bk.plot.intervals(freeze,col = 'b')\n",
    "    plt.plot(np.mean([starts,ends],0), pourcents, '-o',alpha = 0.3)\n",
    "plt.plot(np.mean([starts,ends],0),np.mean(ptotal,0),'*-',color = 'black',linewidth=2)\n",
    "plt.legend(['Rat13', 'Rat14', 'Rat15', 'Rat16','Mean'])\n",
    "plt.title('Pourcent freezing in context retrieval')"
   ]
  },
  {
   "cell_type": "code",
   "execution_count": 56,
   "metadata": {},
   "outputs": [
    {
     "data": {
      "text/plain": [
       "Text(0.5, 1.0, 'Pourcent freezing in late tone retrieval')"
      ]
     },
     "execution_count": 56,
     "metadata": {},
     "output_type": "execute_result"
    }
   ],
   "source": [
    "t_start_exp_latetone = [54.28285,58.2436,55.1459]\n",
    "\n",
    "starts = [0,30,60,75,105,120,150,165,195,210]\n",
    "ends = [30,60,75,105,120,150,165,195,210,240]\n",
    "intervals = nts.IntervalSet(starts,ends,time_units='s')\n",
    "\n",
    "ptotal = []\n",
    "plt.subplot(2,1,1)\n",
    "\n",
    "for fichier,t_s in zip(latetone_sess,t_start_exp_latetone):\n",
    "    os.chdir(fichier)\n",
    "    if fichier == 'Y://fear_conditionning_ptsd\\Rat14\\Rat14-20201211\\Rat14_201211_122458' :\n",
    "        pos = DLC_posRatChelou(start = 100_000)\n",
    "    else : pos = bk.load.DLC_pos()\n",
    "    tone = bk.compute.tone_intervals(bk.load.digitalin('digitalin.dat')[3,:])- t_s * 1_000_000\n",
    "    speeds = bk.compute.speed(pos,2, columns_to_drop=['e_tail'])\n",
    "    freeze = bk.compute.freezing_intervals(speeds, 30, mode='multiple_speed', clean=True) - t_s *1_000_000\n",
    "    pourcents = all_pourcentages(intervals, freeze)\n",
    "    ptotal.append(pourcents)\n",
    "#     bk.plot.intervals(freeze,col = 'b')\n",
    "    plt.plot(np.mean([starts,ends],0), pourcents, '-o',alpha = 0.3)\n",
    "    \n",
    "bk.plot.intervals(tone,'orange', alpha=0.5)    \n",
    "plt.plot(np.mean([starts,ends],0),np.mean(ptotal,0),'*-',color = 'black',linewidth=2)\n",
    "plt.legend(['Rat13', 'Rat14','Rat16','Mean','Tone'])\n",
    "plt.title('Pourcent freezing in late tone retrieval')"
   ]
  },
  {
   "cell_type": "code",
   "execution_count": 57,
   "metadata": {},
   "outputs": [
    {
     "data": {
      "text/plain": [
       "Text(0.5, 1.0, 'Pourcent freezing in late context retrieval')"
      ]
     },
     "execution_count": 57,
     "metadata": {},
     "output_type": "execute_result"
    }
   ],
   "source": [
    "t_start_exp_latecontext = [51.28165,52.87285,62.79435,52.26585]\n",
    "\n",
    "intervals = np.linspace(0,240,13)\n",
    "starts = intervals[0:-1]\n",
    "ends = intervals[1:]\n",
    "intervals = nts.IntervalSet(starts,ends,time_units='s')\n",
    "\n",
    "ptotal = []\n",
    "plt.subplot(2,1,2)\n",
    "\n",
    "for fichier,t_s in zip(latecontext_sess,t_start_exp_latecontext):\n",
    "    os.chdir(fichier)\n",
    "    speeds = bk.compute.speed(pos,2, columns_to_drop=['e_tail'])\n",
    "    freeze = bk.compute.freezing_intervals(speeds, 30, mode='multiple_speed', clean=True) - t_s *1_000_000\n",
    "    pourcents = all_pourcentages(intervals, freeze)\n",
    "    ptotal.append(pourcents)\n",
    "#     bk.plot.intervals(freeze,col = 'b')\n",
    "    plt.plot(np.mean([starts,ends],0), pourcents, '-o',alpha = 0.3)\n",
    "plt.plot(np.mean([starts,ends],0),np.mean(ptotal,0),'*-',color = 'black',linewidth=2)\n",
    "plt.legend(['Rat13', 'Rat14', 'Rat15','Rat16', 'Mean'])\n",
    "plt.title('Pourcent freezing in late context retrieval')"
   ]
  },
  {
   "cell_type": "code",
   "execution_count": 46,
   "metadata": {},
   "outputs": [
    {
     "name": "stdout",
     "output_type": "stream",
     "text": [
      "[54.28285]\n",
      "[58.2436]\n",
      "[55.1459]\n"
     ]
    }
   ],
   "source": [
    "for subsession in latetone_sess:\n",
    "    os.chdir(subsession)\n",
    "    f_tone = GetStartExp(bk.load.digitalin('digitalin.dat')[1,:])\n",
    "    print(f_tone[f_tone>0])"
   ]
  },
  {
   "cell_type": "code",
   "execution_count": 28,
   "metadata": {},
   "outputs": [
    {
     "data": {
      "text/plain": [
       "(-10.0, 110.0)"
      ]
     },
     "execution_count": 28,
     "metadata": {},
     "output_type": "execute_result"
    }
   ],
   "source": [
    "plt.figure()\n",
    "\n",
    "intervals = np.linspace(0,240,13)\n",
    "starts = intervals[0:-1]\n",
    "ends = intervals[1:]\n",
    "intervals = nts.IntervalSet(starts,ends,time_units='s')\n",
    "\n",
    "ptotal=[]\n",
    "t_s = 51.28165\n",
    "os.chdir(latecontext_sess[0])\n",
    "\n",
    "pos = bk.load.DLC_pos()\n",
    "speeds = bk.compute.speed(pos,2, columns_to_drop=['e_tail'])\n",
    "freeze = bk.compute.freezing_intervals(speeds, 30, mode='multiple_speed', clean=True) - t_s *1_000_000\n",
    "pourcents = all_pourcentages(intervals, freeze)\n",
    "\n",
    "plt.subplot(2,1,1)\n",
    "bk.plot.intervals(freeze,col = 'orange')\n",
    "pos.index = pos.index -t_s *1_000_000\n",
    "plt.axhline(25,color = 'red')\n",
    "plt.plot(np.mean(speeds.as_units('s'),1))\n",
    "plt.subplot(2,1,2)\n",
    "plt.plot(np.mean([starts,ends],0), pourcents, '-o') \n",
    "plt.ylim([-10,110])"
   ]
  }
 ],
 "metadata": {
  "kernelspec": {
   "display_name": "Python 3",
   "language": "python",
   "name": "python3"
  },
  "language_info": {
   "codemirror_mode": {
    "name": "ipython",
    "version": 3
   },
   "file_extension": ".py",
   "mimetype": "text/x-python",
   "name": "python",
   "nbconvert_exporter": "python",
   "pygments_lexer": "ipython3",
   "version": "3.8.5"
  }
 },
 "nbformat": 4,
 "nbformat_minor": 4
}
