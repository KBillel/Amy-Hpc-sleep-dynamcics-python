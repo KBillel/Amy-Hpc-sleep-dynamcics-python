{
 "cells": [
  {
   "cell_type": "code",
   "execution_count": 8,
   "metadata": {},
   "outputs": [],
   "source": [
    "import sys\n",
    "import itertools\n",
    "import os\n",
    "\n",
    "import numpy as np\n",
    "import pandas as pd\n",
    "import scipy\n",
    "from scipy.signal import savgol_filter\n",
    "\n",
    "import neuroseries as nts\n",
    "\n",
    "from progressbar import ProgressBar\n",
    "\n",
    "import time\n",
    "import matplotlib.pyplot as plt\n",
    "\n",
    "\n",
    "import seaborn as sns \n",
    "\n",
    "\n",
    "import bk.load\n",
    "import bk.signal\n",
    "import bk.plot\n",
    "\n",
    "\n",
    "import importlib; \n",
    "importlib.reload(bk.signal)\n",
    "importlib.reload(bk.plot)\n",
    "%matplotlib qt\n",
    "import basefunction.anass_load as at"
   ]
  },
  {
   "cell_type": "code",
   "execution_count": 111,
   "metadata": {
    "collapsed": true,
    "jupyter": {
     "outputs_hidden": true,
     "source_hidden": true
    }
   },
   "outputs": [
    {
     "name": "stdout",
     "output_type": "stream",
     "text": [
      "Data already saved in Numpy format, loading them from here:\n",
      "Rat08-20130713-neurons.npy\n",
      "Rat08-20130713-NeuronsShanks.npy\n"
     ]
    }
   ],
   "source": [
    "# bk.load.path = '/media/billel/GGLab-01-BK/DATA/Rat08-20130713/'\n",
    "# bk.load.session = 'Rat08-20130713'\n",
    "\n",
    "\n",
    "# session = 'Rat08-20130713'\n",
    "# neurons,shanks = bk.load.loadSpikeData(bk.load.path)\n",
    "\n",
    "# run = scipy.io.loadmat(bk.load.path + 'runintervals.mat')\n",
    "# run = nts.IntervalSet(run['runintervals'][:,0],run['runintervals'][:,1],time_units='s')"
   ]
  },
  {
   "cell_type": "code",
   "execution_count": 81,
   "metadata": {},
   "outputs": [
    {
     "name": "stdout",
     "output_type": "stream",
     "text": [
      "Rat : 8 on day : 6\n",
      "Working with session Rat08-20130713 @ Z:\\Rat08\\Rat08-20130713\n",
      "Data already saved in Numpy format, loading them from here:\n",
      "Rat08-20130713-neurons.npy\n",
      "Rat08-20130713-NeuronsShanks.npy\n"
     ]
    }
   ],
   "source": [
    "path = bk.load.sessions()['Path'][5]\n",
    "bk.load.current_session(path)\n",
    "\n",
    "neurons,shanks = bk.load.loadSpikeData(bk.load.path)\n",
    "pos = bk.load.pos()\n",
    "states = bk.load.states()\n",
    "\n",
    "run = scipy.io.loadmat('runintervals.mat')\n",
    "run = nts.IntervalSet(run['runintervals'][:,0],run['runintervals'][:,1],time_units='s')\n",
    "\n",
    "trackrun = scipy.io.loadmat(bk.load.session+'-TrackRunTimes.mat')\n",
    "trackrun = nts.IntervalSet(trackrun['trackruntimes'][:,0],trackrun['trackruntimes'][:,1],time_units='s')\n",
    "\n",
    "pos_run = pos.restrict(run)#.restrict(trackrun)"
   ]
  },
  {
   "cell_type": "code",
   "execution_count": 108,
   "metadata": {},
   "outputs": [],
   "source": [
    "def computeRateMap(neuron,pos,nxbins=10,nybins=10):\n",
    "    dt = scipy.stats.mode(np.diff(pos.as_units('s').index))[0][0]\n",
    "    \n",
    "    pos_spike = pos.realign(neuron)\n",
    "    \n",
    "    xbins = np.linspace(pos.x.min(),pos.x.max()+0.01,nxbins)\n",
    "    ybins = np.linspace(pos.y.min(),pos.y.max()+0.01,nybins)\n",
    "    \n",
    "    spike_count,_,_ = np.histogram2d(pos_spike.y,pos_spike.x,[ybins,xbins])\n",
    "    occupancy,_,_ = np.histogram2d(pos.y,pos.x,[ybins,xbins])\n",
    "    \n",
    "    rate_map = spike_count/((occupancy+1)*dt)\n",
    "    rate_map = pd.DataFrame(index = ybins[0:-1]+np.diff(ybins)/2,columns=xbins[0:-1]+np.diff(xbins)/2, data = rate_map)\n",
    "    \n",
    "    plt.figure()\n",
    "    plt.subplot(211)\n",
    "\n",
    "    plt.plot(pos['x'], pos['y'], alpha = 0.5)\n",
    "    plt.scatter(pos_spike['x'], pos_spike['y'], color = 'red', alpha = 0.5, edgecolor = None)\n",
    "    for i in xbins: plt.axvline(i)\n",
    "    for i in ybins: plt.axhline(i)\n",
    "    plt.xlim(xbins[0], xbins[-1])\n",
    "    plt.ylim(ybins[0], ybins[-1])\n",
    "    plt.subplot(212)\n",
    "    plt.imshow(rate_map, origin = 'lower', aspect= 'auto')\n",
    "    \n",
    "    \n",
    "    return rate_map"
   ]
  },
  {
   "cell_type": "code",
   "execution_count": 62,
   "metadata": {},
   "outputs": [
    {
     "name": "stderr",
     "output_type": "stream",
     "text": [
      "C:\\ProgramData\\Anaconda3\\lib\\site-packages\\ipykernel_launcher.py:13: RuntimeWarning: More than 20 figures have been opened. Figures created through the pyplot interface (`matplotlib.pyplot.figure`) are retained until explicitly closed and may consume too much memory. (To control this warning, see the rcParam `figure.max_open_warning`).\n",
      "  del sys.path[0]\n"
     ]
    }
   ],
   "source": [
    "\n",
    "\n",
    "rate_map = []\n",
    "for n in neurons:\n",
    "    rate_map.append(computeRateMap(n,pos_run,120,60))"
   ]
  },
  {
   "cell_type": "code",
   "execution_count": 110,
   "metadata": {},
   "outputs": [],
   "source": [
    "a = computeRateMap(neurons[3],pos_run,50,30)\n",
    "plt.clim([0, 5])\n",
    "plt.show()"
   ]
  },
  {
   "cell_type": "code",
   "execution_count": 77,
   "metadata": {},
   "outputs": [
    {
     "data": {
      "text/plain": [
       "array([2, 6], dtype=int64)"
      ]
     },
     "execution_count": 77,
     "metadata": {},
     "output_type": "execute_result"
    }
   ],
   "source": [
    "shanks[5]"
   ]
  },
  {
   "cell_type": "code",
   "execution_count": 108,
   "metadata": {},
   "outputs": [
    {
     "name": "stderr",
     "output_type": "stream",
     "text": [
      "/home/billel/anaconda3/lib/python3.7/site-packages/ipykernel_launcher.py:14: RuntimeWarning: More than 20 figures have been opened. Figures created through the pyplot interface (`matplotlib.pyplot.figure`) are retained until explicitly closed and may consume too much memory. (To control this warning, see the rcParam `figure.max_open_warning`).\n",
      "  \n"
     ]
    }
   ],
   "source": [
    "dt = 1/100\n",
    "for i in ranorigin=50):\n",
    "    pos_spike = pos_run.realign(neurons[i])\n",
    "    xbins = np.linspace(xpos.min(), xpos.max()+0.01, 25)\n",
    "    ybins = np.linspace(ypos.min(), ypos.max()+0.01, 25)\n",
    "    spike_count2,_,_ = np.histogram2d(pos_spike['y'], pos_spike['x'], [ybins,xbins])\n",
    "    occupancy2, _, _ = np.histogram2d(pos['y'], pos['x'], [ybins,xbins])\n",
    "    spike_count2 = spike_count2/(occupancy2+1)\n",
    "    place_field = spike_count2/dt\n",
    "    place_field = pd.DataFrame(index = ybins[0:-1]+np.diff(ybins)/2,columns = xbins[0:-1]+np.diff(xbins)/2,data = place_field)\n",
    "\n",
    "\n",
    "    # And plot everything\n",
    "    plt.figure()\n",
    "    plt.subplot(211)\n",
    "\n",
    "    plt.plot(pos['x'], pos['y'], alpha = 0.5)\n",
    "    plt.scatter(pos_spike['x'], pos_spike['y'], color = 'red', alpha = 0.5, edgecolor = None)\n",
    "    for i in xbins: plt.axvline(i)\n",
    "    for i in ybins: plt.axhline(i)\n",
    "    plt.xlim(xbins[0], xbins[-1])\n",
    "    plt.ylim(ybins[0], ybins[-1])\n",
    "    plt.subplot(212)\n",
    "    plt.imshow(place_field, origin = 'lower', aspect= 'auto')"
   ]
  },
  {
   "cell_type": "code",
   "execution_count": 109,
   "metadata": {},
   "outputs": [
    {
     "data": {
      "text/plain": [
       "110.94"
      ]
     },
     "execution_count": 109,
     "metadata": {},
     "output_type": "execute_result"
    }
   ],
   "source": [
    "ypos.max()"
   ]
  },
  {
   "cell_type": "code",
   "execution_count": 105,
   "metadata": {},
   "outputs": [
    {
     "data": {
      "text/plain": [
       "39.06249999870326"
      ]
     },
     "execution_count": 105,
     "metadata": {},
     "output_type": "execute_result"
    }
   ],
   "source": [
    "b = \n",
    "b"
   ]
  },
  {
   "cell_type": "code",
   "execution_count": 126,
   "metadata": {},
   "outputs": [
    {
     "data": {
      "text/plain": [
       "Time (s)\n",
       "206.0032     41.7100\n",
       "206.0288     41.7100\n",
       "206.0544     41.7100\n",
       "206.0800     41.7100\n",
       "206.1056     41.7100\n",
       "206.1312     41.7100\n",
       "206.1568     41.7100\n",
       "206.1824     41.7100\n",
       "206.2080     41.7100\n",
       "206.2336     41.7100\n",
       "206.3616    108.3600\n",
       "206.3872    108.3600\n",
       "206.4128    108.3600\n",
       "206.4384    108.3600\n",
       "206.4640    108.3600\n",
       "206.4896    108.3600\n",
       "206.5152    108.3600\n",
       "206.5408    108.3600\n",
       "206.5664    108.3600\n",
       "206.5920    108.3600\n",
       "206.6176    108.3600\n",
       "206.6432    108.3600\n",
       "206.6688    108.3600\n",
       "206.6944    108.3600\n",
       "206.7200    108.3600\n",
       "206.7456    108.3600\n",
       "206.7712    108.3600\n",
       "206.7968    108.3600\n",
       "206.8224    108.3600\n",
       "206.8480    108.3600\n",
       "206.8736    108.3600\n",
       "206.8992    108.3600\n",
       "206.9248    108.3600\n",
       "206.9504    108.2740\n",
       "206.9760    108.1364\n",
       "Name: y, dtype: float64"
      ]
     },
     "execution_count": 126,
     "metadata": {},
     "output_type": "execute_result"
    }
   ],
   "source": [
    "# for i in run.as_units('s').iloc():\n",
    "#     print(i.end)\n",
    "    \n",
    "    \n",
    "ypos.as_units('s')[206:207]"
   ]
  },
  {
   "cell_type": "code",
   "execution_count": 113,
   "metadata": {},
   "outputs": [
    {
     "data": {
      "text/html": [
       "<div>\n",
       "<style scoped>\n",
       "    .dataframe tbody tr th:only-of-type {\n",
       "        vertical-align: middle;\n",
       "    }\n",
       "\n",
       "    .dataframe tbody tr th {\n",
       "        vertical-align: top;\n",
       "    }\n",
       "\n",
       "    .dataframe thead th {\n",
       "        text-align: right;\n",
       "    }\n",
       "</style>\n",
       "<table border=\"1\" class=\"dataframe\">\n",
       "  <thead>\n",
       "    <tr style=\"text-align: right;\">\n",
       "      <th></th>\n",
       "      <th>start</th>\n",
       "      <th>end</th>\n",
       "    </tr>\n",
       "  </thead>\n",
       "  <tbody>\n",
       "    <tr>\n",
       "      <th>0</th>\n",
       "      <td>0.0</td>\n",
       "      <td>206.3</td>\n",
       "    </tr>\n",
       "    <tr>\n",
       "      <th>1</th>\n",
       "      <td>9405.5</td>\n",
       "      <td>12649.0</td>\n",
       "    </tr>\n",
       "    <tr>\n",
       "      <th>2</th>\n",
       "      <td>22415.0</td>\n",
       "      <td>22680.0</td>\n",
       "    </tr>\n",
       "  </tbody>\n",
       "</table>\n",
       "</div>"
      ],
      "text/plain": [
       "     start      end\n",
       "0      0.0    206.3\n",
       "1   9405.5  12649.0\n",
       "2  22415.0  22680.0"
      ]
     },
     "execution_count": 113,
     "metadata": {},
     "output_type": "execute_result"
    }
   ],
   "source": [
    "run.as_units('s')"
   ]
  },
  {
   "cell_type": "code",
   "execution_count": null,
   "metadata": {},
   "outputs": [],
   "source": []
  }
 ],
 "metadata": {
  "kernelspec": {
   "display_name": "Python 3",
   "language": "python",
   "name": "python3"
  },
  "language_info": {
   "codemirror_mode": {
    "name": "ipython",
    "version": 3
   },
   "file_extension": ".py",
   "mimetype": "text/x-python",
   "name": "python",
   "nbconvert_exporter": "python",
   "pygments_lexer": "ipython3",
   "version": "3.7.6"
  }
 },
 "nbformat": 4,
 "nbformat_minor": 4
}
