{
 "cells": [
  {
   "cell_type": "code",
   "execution_count": null,
   "metadata": {},
   "outputs": [],
   "source": [
    "import seaborn as sns\n",
    "import basefunction.anass_load as at\n",
    "import basefunction.vBaseFunctions3 as vbf\n",
    "import bk.compute\n",
    "import bk.signal\n",
    "import bk.plot\n",
    "import bk.load\n",
    "import basefunction.assembly as assembly\n",
    "import numpy as np\n",
    "import pandas as pd\n",
    "import neuroseries as nts\n",
    "import scipy.io\n",
    "\n",
    "import pickle\n",
    "\n",
    "import time\n",
    "import matplotlib.pyplot as plt\n",
    "%matplotlib qt\n"
   ]
  },
  {
   "cell_type": "code",
   "execution_count": 3,
   "metadata": {},
   "outputs": [
    {
     "name": "stdout",
     "output_type": "stream",
     "text": [
      "Rat : 8 on day : 6\n",
      "Working with session Rat08-20130713 @ /mnt/electrophy/Gabrielle/GG-Dataset-Light/Rat08/Rat08-20130713\n",
      "dict_keys(['wake', 'drowsy', 'WAKE_HOMECAGE', 'NREM', 'REM'])\n"
     ]
    }
   ],
   "source": [
    "from imports import *\n",
    "bk.load.current_session_linux()\n",
    "states = bk.load.states(True)\n",
    "print(states.keys())"
   ]
  },
  {
   "cell_type": "code",
   "execution_count": null,
   "metadata": {},
   "outputs": [],
   "source": [
    "path = '/mnt/electrophy/Facundo/Behavior/Rat37/Rat37-010721/Rat37-f_210701_105158/'\n",
    "\n",
    "files = 'Basler_acA1300-200uc__23135826__20210701_105207962DLC_resnet50_LinearTrackMay25shuffle1_1030000_filtered.h5'\n",
    "meta = 'Basler_acA1300-200uc__23135826__20210701_105207962DLC_resnet50_LinearTrackMay25shuffle1_1030000_meta.pickle'\n"
   ]
  },
  {
   "cell_type": "code",
   "execution_count": null,
   "metadata": {},
   "outputs": [],
   "source": [
    "path_meta = os.path.join(path, meta)\n",
    "path_pos = os.path.join(path, files)\n",
    "\n",
    "pos = pd.read_hdf(path_pos)\n",
    "\n",
    "with open(path_meta, 'rb') as f:\n",
    "    data = pickle.load(f)\n",
    "    x1, x2, y1, y2 = data['data']['cropping_parameters']\n",
    "\n",
    "for p in pos:\n",
    "    if p[2].lower() == 'x':\n",
    "        pos[p] = pos[p]+x1\n",
    "    if p[2].lower() == 'y':\n",
    "        pos[p] = pos[p]+y1\n"
   ]
  },
  {
   "cell_type": "code",
   "execution_count": null,
   "metadata": {},
   "outputs": [],
   "source": [
    "x1,x2"
   ]
  },
  {
   "cell_type": "code",
   "execution_count": null,
   "metadata": {},
   "outputs": [],
   "source": [
    "pos = pos[pos.columns[0][0]]"
   ]
  },
  {
   "cell_type": "code",
   "execution_count": null,
   "metadata": {},
   "outputs": [],
   "source": [
    "plt.plot(pos['snout']['x'],pos['snout']['y'])"
   ]
  },
  {
   "cell_type": "code",
   "execution_count": null,
   "metadata": {},
   "outputs": [],
   "source": [
    "for p in pos:\n",
    "    if p[2].lower() == 'x': pos[p] = pos[p]+x1\n",
    "    if p[2].lower() == 'y': pos[p] = pos[p]+y1"
   ]
  },
  {
   "cell_type": "code",
   "execution_count": null,
   "metadata": {},
   "outputs": [],
   "source": [
    "pos"
   ]
  },
  {
   "cell_type": "code",
   "execution_count": null,
   "metadata": {},
   "outputs": [],
   "source": [
    "b = pd.concat((a,a))"
   ]
  },
  {
   "cell_type": "code",
   "execution_count": null,
   "metadata": {},
   "outputs": [],
   "source": [
    "c = b.reset_index(drop = True)"
   ]
  },
  {
   "cell_type": "code",
   "execution_count": null,
   "metadata": {},
   "outputs": [],
   "source": [
    "c['DLC_resnet50_LinearTrackMay25shuffle1_1030000']['l_ear']"
   ]
  },
  {
   "cell_type": "code",
   "execution_count": null,
   "metadata": {},
   "outputs": [],
   "source": [
    "for a in b: print(a)"
   ]
  },
  {
   "cell_type": "code",
   "execution_count": null,
   "metadata": {},
   "outputs": [],
   "source": [
    "for a in b: print(a)"
   ]
  },
  {
   "cell_type": "code",
   "execution_count": 1,
   "metadata": {},
   "outputs": [],
   "source": [
    "def states():\n",
    "    # BK : 17/09/2020\n",
    "    # Return a dict with variable from States.\n",
    "    #     if session_path == 0 : session_path = get_session_path(session_name)\n",
    "    states = scipy.io.loadmat(path + '/States.mat')\n",
    "\n",
    "    useless = ['__header__', '__version__', '__globals__']\n",
    "    for u in useless:\n",
    "        del states[u]\n",
    "    states_ = {}\n",
    "    for state in states:\n",
    "        states_.update({state: nts.IntervalSet(\n",
    "            states[state][:, 0], states[state][:, 1], time_units='s')})\n",
    "\n",
    "    return states_\n",
    "\n",
    "\n",
    "def notScored(states, start, stop):\n",
    "    \"\"\" \n",
    "    States : Dict with variable from States.\n",
    "    Start : Start ot the recording (in sec)\n",
    "    Stop : End of the recording (in sec)(to know until when it should be scored) (lfp.shape[0]//1250 is working well)\n",
    "    \"\"\"\n",
    "    fullRec = nts.IntervalSet(start, stop, time_units='s')\n",
    "    all_intervals = nts.IntervalSet(0, 0)\n",
    "\n",
    "    for s in states:\n",
    "        all_intervals = all_intervals.union(states[s])\n",
    "\n",
    "    # all_intervals = all_intervals.drop_short_intervals(2)\n",
    "    notLabeled = fullRec.set_diff(all_intervals)\n",
    "    notLabeled = notLabeled.drop_short_intervals(2, time_units='s')\n",
    "    return notLabeled\n"
   ]
  },
  {
   "cell_type": "code",
   "execution_count": null,
   "metadata": {},
   "outputs": [],
   "source": [
    "base_folder = '/media/billel/GGLab-01-BK/DATA/GG-Dataset/'\n",
    "local_path = 'Rat08/Rat08-20130713'"
   ]
  },
  {
   "cell_type": "code",
   "execution_count": null,
   "metadata": {},
   "outputs": [],
   "source": [
    "bk.load.current_session_linux(base_folder,local_path)"
   ]
  },
  {
   "cell_type": "code",
   "execution_count": null,
   "metadata": {},
   "outputs": [],
   "source": [
    "states = bk.load.states()"
   ]
  },
  {
   "cell_type": "code",
   "execution_count": null,
   "metadata": {},
   "outputs": [],
   "source": [
    "lfp = bk.load.lfp(23,memmap=True)"
   ]
  },
  {
   "cell_type": "code",
   "execution_count": null,
   "metadata": {},
   "outputs": [],
   "source": [
    "lfp.shape"
   ]
  },
  {
   "cell_type": "code",
   "execution_count": null,
   "metadata": {},
   "outputs": [],
   "source": [
    "notLabeled = notScored(states,0,lfp.shape[0]//1250)"
   ]
  },
  {
   "cell_type": "code",
   "execution_count": null,
   "metadata": {},
   "outputs": [],
   "source": [
    "notLabeled.as_units('s')"
   ]
  },
  {
   "cell_type": "code",
   "execution_count": null,
   "metadata": {},
   "outputs": [],
   "source": [
    "for s in states:\n",
    "    print(states[s].as_units('s'))"
   ]
  },
  {
   "cell_type": "code",
   "execution_count": null,
   "metadata": {},
   "outputs": [],
   "source": [
    "all_intervals = nts.IntervalSet(0,0)\n"
   ]
  },
  {
   "cell_type": "code",
   "execution_count": null,
   "metadata": {},
   "outputs": [],
   "source": []
  },
  {
   "cell_type": "code",
   "execution_count": null,
   "metadata": {},
   "outputs": [],
   "source": [
    "notScored(states,0,30000).drop_short_intervals(1,time_units='s').as_units('s')"
   ]
  },
  {
   "cell_type": "code",
   "execution_count": null,
   "metadata": {},
   "outputs": [],
   "source": [
    "def wavelet_spectrogram(lfp, fmin, fmax, nfreq):\n",
    "    f_wv = pow(2, np.linspace(np.log2(fmin), np.log2(fmax), nfreq))\n",
    "    t = lfp.index.values\n",
    "    output = vbf.wvSpect(lfp.values, f_wv)\n",
    "\n",
    "    return f_wv, t, output[0]"
   ]
  },
  {
   "cell_type": "code",
   "execution_count": null,
   "metadata": {},
   "outputs": [],
   "source": []
  },
  {
   "cell_type": "code",
   "execution_count": null,
   "metadata": {},
   "outputs": [],
   "source": [
    "bk.load.current_session_linux()"
   ]
  },
  {
   "cell_type": "code",
   "execution_count": null,
   "metadata": {},
   "outputs": [],
   "source": [
    "states = bk.load.states()\n",
    "stru = ['Hpc','BLA']"
   ]
  },
  {
   "cell_type": "code",
   "execution_count": null,
   "metadata": {},
   "outputs": [],
   "source": [
    "lfp = {}\n",
    "for s in stru: lfp.update({s:bk.load.lfp_in_intervals(bk.load.random_channel(s),states['Rem'])})"
   ]
  },
  {
   "cell_type": "code",
   "execution_count": null,
   "metadata": {},
   "outputs": [],
   "source": [
    "lfp_filt = {}\n",
    "for s in stru: lfp_filt.update({s:bk.signal.passband(lfp[s],4,10)})"
   ]
  },
  {
   "cell_type": "code",
   "execution_count": null,
   "metadata": {},
   "outputs": [],
   "source": [
    "fig,ax = plt.subplots(3,1,sharex=True,sharey=True)\n",
    "\n",
    "for a,s in zip(ax,stru):\n",
    "    a.plot(lfp[s],color = 'Grey')\n",
    "    a.plot(lfp_filt[s],color = 'Red')\n",
    "col = ['Blue','Green']\n",
    "for s,c in zip(stru,col):\n",
    "    ax[2].plot(lfp_filt[s],color = c)"
   ]
  },
  {
   "cell_type": "code",
   "execution_count": null,
   "metadata": {},
   "outputs": [],
   "source": [
    "lfp_hpc_sws = bk.load.lfp_in_intervals(23,states['sws'])"
   ]
  },
  {
   "cell_type": "code",
   "execution_count": null,
   "metadata": {},
   "outputs": [],
   "source": [
    "ripples = bk.load.ripples()"
   ]
  },
  {
   "cell_type": "code",
   "execution_count": null,
   "metadata": {},
   "outputs": [],
   "source": [
    "spec = []\n",
    "for t_rip in ripples['peak'].as_units('s').index.values[0:15]:\n",
    "    inter = nts.IntervalSet(t_rip-0.10,t_rip+0.10,time_units='s')\n",
    "    l = lfp_hpc_sws.restrict(inter)\n",
    "    \n",
    "    f, t, Sxx = wavelet_spectrogram(l,30,500,50)\n",
    "    spec.append(Sxx)"
   ]
  },
  {
   "cell_type": "code",
   "execution_count": null,
   "metadata": {},
   "outputs": [],
   "source": [
    "for i,s in enumerate(spec):\n",
    "    if len(s) == 249: spec[i] = np.append(spec[i],0)"
   ]
  },
  {
   "cell_type": "code",
   "execution_count": null,
   "metadata": {},
   "outputs": [],
   "source": [
    "fig,ax = plt.subplots(211)\n",
    "ax[0].pcolormesh(t, f_wv, wave, shading=\"gouraud\", vmin=20, vmax=350, rasterized=True)\n"
   ]
  },
  {
   "cell_type": "code",
   "execution_count": null,
   "metadata": {},
   "outputs": [],
   "source": [
    "import numpy as np\n",
    "import pandas as pd\n",
    "import neuroseries as nts\n",
    "import scipy.io\n",
    "\n",
    "import pickle\n",
    "\n",
    "import time\n",
    "import matplotlib.pyplot as plt\n",
    "%matplotlib qt\n",
    "\n",
    "import seaborn as sns \n",
    "\n",
    "import basefunction.assembly as assembly\n",
    "\n",
    "import bk.load\n",
    "import bk.plot\n",
    "import bk.signal\n",
    "import bk.compute\n",
    "\n",
    "import basefunction.vBaseFunctions3 as vbf\n",
    "\n",
    "import basefunction.anass_load as at"
   ]
  },
  {
   "cell_type": "code",
   "execution_count": null,
   "metadata": {},
   "outputs": [],
   "source": [
    "def main(path = 'Rat08/Rat08-20130713',args = None):\n",
    "    output_path = args[0]\n",
    "    \n",
    "    bk.load.current_session_linux(\n",
    "        base_folder='/media/billel/GGLab-01-BK/DATA/GG-Dataset',\n",
    "        local_path = path)\n",
    "    \n",
    "    states = bk.load.states()\n",
    "    lfp = {}\n",
    "    channels = {\n",
    "        'hpc'  :bk.load.ripple_channel(),\n",
    "        'bla'  :bk.load.bla_channels(),\n",
    "        'accel':bk.load.channels()[22][0]}\n",
    "\n",
    "    lfp.update({'hpc':bk.load.lfp(channels['hpc'],memmap=True)})\n",
    "    lfp.update({'bla_left':bk.load.lfp(channels['bla']['left'],memmap=True)})\n",
    "    lfp.update({'bla_right':bk.load.lfp(channels['bla']['right'],memmap=True)})\n",
    "    coords = ['x','y','z']\n",
    "\n",
    "    for chan,coord in zip(channels['accel'],coords):\n",
    "        lfp.update({f'accel{coord}':bk.load.lfp(chan,memmap=True)})\n",
    "\n",
    "    print(lfp['hpc'].shape)\n",
    "    np.savez_compressed(f'{output_path}/{bk.load.session}',\n",
    "                        hpc = lfp['hpc'],\n",
    "                        bla_left = lfp['bla_left'],\n",
    "                        bla_right = lfp['bla_right'],\n",
    "                        accelx = lfp['accelx'],\n",
    "                        accely = lfp['accely'],\n",
    "                        accelz = lfp['accelz'],\n",
    "                        states = states)"
   ]
  },
  {
   "cell_type": "code",
   "execution_count": null,
   "metadata": {},
   "outputs": [],
   "source": [
    "bk.load.batch(main,['/home/billel/pCloudDrive/IFM/Data/Saoud/'],linux = True)"
   ]
  },
  {
   "cell_type": "code",
   "execution_count": null,
   "metadata": {},
   "outputs": [],
   "source": [
    "main(path = 'Rat08/Rat08-20130711',args=['/home/billel/pCloudDrive/IFM/Data/Saoud/'])"
   ]
  },
  {
   "cell_type": "code",
   "execution_count": null,
   "metadata": {},
   "outputs": [],
   "source": [
    "main(args=['/home/billel/pCloudDrive/IFM/Data/Saoud/'])"
   ]
  },
  {
   "cell_type": "code",
   "execution_count": null,
   "metadata": {},
   "outputs": [],
   "source": [
    "bk.load.current_session_linux(base_folder = '/media/billel/GGLab-01-BK/DATA/GG-Dataset',local_path='Rat08/Rat08-20130711')"
   ]
  },
  {
   "cell_type": "code",
   "execution_count": null,
   "metadata": {},
   "outputs": [],
   "source": [
    "bk.load.bla_shanks()"
   ]
  },
  {
   "cell_type": "code",
   "execution_count": null,
   "metadata": {},
   "outputs": [],
   "source": [
    "import numpy"
   ]
  },
  {
   "cell_type": "code",
   "execution_count": null,
   "metadata": {},
   "outputs": [],
   "source": [
    "global a"
   ]
  },
  {
   "cell_type": "code",
   "execution_count": null,
   "metadata": {},
   "outputs": [],
   "source": [
    "def test_function():\n",
    "    a = 2\n",
    "    print(a)"
   ]
  },
  {
   "cell_type": "code",
   "execution_count": null,
   "metadata": {},
   "outputs": [],
   "source": [
    "test_function()"
   ]
  },
  {
   "cell_type": "code",
   "execution_count": 1,
   "metadata": {},
   "outputs": [],
   "source": [
    "import bk.load\n",
    "import numpy as np\n",
    "import matplotlib.pyplot as plt\n",
    "import bk.signal\n",
    "\n",
    "def RMS(s):\n",
    "    return np.sqrt((1/len(s)) * np.sum(s**2))"
   ]
  },
  {
   "cell_type": "code",
   "execution_count": 2,
   "metadata": {},
   "outputs": [
    {
     "name": "stdout",
     "output_type": "stream",
     "text": [
      "Rat : 50 on day : 2\n",
      "Working with session Rat50-20211005 @ /mnt/electrophy/Billel/BK-Dataset/Rat50/Rat50-20211005\n",
      "Load data from Rat50_211005_143047/amplifier.dat\n",
      "File contains 35 channels\n",
      "/!\\ memmap is not compatible with volt_step /!\\ \n",
      "Rat50-20211005-analogin.dat\n",
      "Load data from Rat50-20211005-analogin.dat\n",
      "File contains 1 channels\n",
      "/!\\ memmap is not compatible with volt_step /!\\ \n"
     ]
    }
   ],
   "source": [
    "bk.load.current_session_linux(base_folder= '/mnt/electrophy/Billel/BK-Dataset/',local_path = 'Rat50/Rat50-20211005')\n",
    "lfp = bk.load.lfp(0,0,100,verbose = True,fs = 20000,p = 'Rat50_211005_143047/amplifier.dat',memmap = True)\n",
    "analogin = bk.load.analogin(0,0,100,verbose= True,dat = True,memmap = True)"
   ]
  },
  {
   "cell_type": "code",
   "execution_count": 3,
   "metadata": {},
   "outputs": [],
   "source": [
    "amplifer_step = 0.195\n",
    "analogin_step =  0.000050354*2\n",
    "analogin = np.int32(analogin)\n",
    "analogin = analogin-32768"
   ]
  },
  {
   "cell_type": "code",
   "execution_count": 22,
   "metadata": {},
   "outputs": [
    {
     "name": "stdout",
     "output_type": "stream",
     "text": [
      "Using matplotlib backend: Qt5Agg\n"
     ]
    },
    {
     "data": {
      "text/plain": [
       "[<matplotlib.lines.Line2D at 0x7f494a428280>]"
      ]
     },
     "execution_count": 22,
     "metadata": {},
     "output_type": "execute_result"
    }
   ],
   "source": [
    "%matplotlib\n",
    "plt.plot((lfp*amplifer_step),'grey') #microvolt\n",
    "plt.plot(((analogin*analogin_step)/8.24e-3),'red',alpha = 0.5)"
   ]
  },
  {
   "cell_type": "code",
   "execution_count": 6,
   "metadata": {},
   "outputs": [],
   "source": [
    "lfp_micro = (lfp*amplifer_step)\n",
    "analogin_micro = (analogin*analogin_step)/8.24e-3\n",
    "\n",
    "N = lfp_micro - analogin_micro\n",
    "S = analogin_micro-N"
   ]
  },
  {
   "cell_type": "code",
   "execution_count": 8,
   "metadata": {},
   "outputs": [
    {
     "data": {
      "text/plain": [
       "[<matplotlib.lines.Line2D at 0x7f02ae76bd30>]"
      ]
     },
     "execution_count": 8,
     "metadata": {},
     "output_type": "execute_result"
    }
   ],
   "source": [
    "plt.plot(S)\n",
    "plt.plot(N)"
   ]
  },
  {
   "cell_type": "code",
   "execution_count": 23,
   "metadata": {},
   "outputs": [
    {
     "name": "stdout",
     "output_type": "stream",
     "text": [
      "[13.838502283102567]\n",
      "[13.838502283102567, 14.024168846113279]\n",
      "[13.838502283102567, 14.024168846113279, 14.51554383992307]\n",
      "[13.838502283102567, 14.024168846113279, 14.51554383992307, 15.75321649988459]\n",
      "[13.838502283102567, 14.024168846113279, 14.51554383992307, 15.75321649988459, 14.484676220027277]\n",
      "[13.838502283102567, 14.024168846113279, 14.51554383992307, 15.75321649988459, 14.484676220027277, 13.933860681342614]\n",
      "[13.838502283102567, 14.024168846113279, 14.51554383992307, 15.75321649988459, 14.484676220027277, 13.933860681342614, 13.676524273920949]\n",
      "[13.838502283102567, 14.024168846113279, 14.51554383992307, 15.75321649988459, 14.484676220027277, 13.933860681342614, 13.676524273920949, 13.330572038398262]\n",
      "[13.838502283102567, 14.024168846113279, 14.51554383992307, 15.75321649988459, 14.484676220027277, 13.933860681342614, 13.676524273920949, 13.330572038398262, 12.979610159060709]\n",
      "[13.838502283102567, 14.024168846113279, 14.51554383992307, 15.75321649988459, 14.484676220027277, 13.933860681342614, 13.676524273920949, 13.330572038398262, 12.979610159060709, 12.657828857622949]\n"
     ]
    }
   ],
   "source": [
    "a = []\n",
    "for i in range(0,10):\n",
    "    N = lfp_micro - np.roll(analogin_micro,-i)\n",
    "    S = analogin_micro-N\n",
    "    a.append(20 * np.log10(RMS(S)/RMS(N)))"
   ]
  },
  {
   "cell_type": "code",
   "execution_count": 48,
   "metadata": {},
   "outputs": [
    {
     "data": {
      "text/plain": [
       "21.302669791809578"
      ]
     },
     "execution_count": 48,
     "metadata": {},
     "output_type": "execute_result"
    }
   ],
   "source": [
    "N = lfp_micro - np.roll(analogin_micro,-3)\n",
    "S = analogin_micro-N\n",
    "20*np.log10((RMS(S[100_000:200_000])/RMS(N[100_000:200_000])))"
   ]
  },
  {
   "cell_type": "code",
   "execution_count": 23,
   "metadata": {},
   "outputs": [
    {
     "ename": "SyntaxError",
     "evalue": "invalid syntax (1902030436.py, line 1)",
     "output_type": "error",
     "traceback": [
      "\u001b[0;36m  File \u001b[0;32m\"/tmp/ipykernel_156976/1902030436.py\"\u001b[0;36m, line \u001b[0;32m1\u001b[0m\n\u001b[0;31m    def test(**kwargs,**abx):\u001b[0m\n\u001b[0m                      ^\u001b[0m\n\u001b[0;31mSyntaxError\u001b[0m\u001b[0;31m:\u001b[0m invalid syntax\n"
     ]
    }
   ],
   "source": [
    "def test(**kwargs,**abx):\n",
    "    if 'a' in abc:\n",
    "        print('yes')\n",
    "    else :\n",
    "        print('no')"
   ]
  },
  {
   "cell_type": "code",
   "execution_count": 20,
   "metadata": {},
   "outputs": [
    {
     "name": "stdout",
     "output_type": "stream",
     "text": [
      "yes\n"
     ]
    }
   ],
   "source": [
    "test(a = 5)"
   ]
  },
  {
   "cell_type": "code",
   "execution_count": 26,
   "metadata": {},
   "outputs": [],
   "source": [
    "import bk.load"
   ]
  },
  {
   "cell_type": "code",
   "execution_count": 27,
   "metadata": {},
   "outputs": [
    {
     "name": "stdout",
     "output_type": "stream",
     "text": [
      "Rat : 8 on day : 6\n",
      "Working with session Rat08-20130713 @ /home/billel/Data/GG-Dataset/Rat08/Rat08-20130713\n"
     ]
    },
    {
     "data": {
      "text/plain": [
       "True"
      ]
     },
     "execution_count": 27,
     "metadata": {},
     "output_type": "execute_result"
    }
   ],
   "source": [
    "bk.load.current_session_linux()"
   ]
  },
  {
   "cell_type": "code",
   "execution_count": 28,
   "metadata": {},
   "outputs": [],
   "source": [
    "states = bk.load.states()"
   ]
  },
  {
   "cell_type": "code",
   "execution_count": 34,
   "metadata": {},
   "outputs": [
    {
     "name": "stdout",
     "output_type": "stream",
     "text": [
      "(0, start    1927000000\n",
      "end      2013000000\n",
      "Name: 0, dtype: int64)\n",
      "(1, start    2430000000\n",
      "end      2603000000\n",
      "Name: 1, dtype: int64)\n",
      "(2, start    3276000000\n",
      "end      3371000000\n",
      "Name: 2, dtype: int64)\n",
      "(3, start    3842000000\n",
      "end      3887000000\n",
      "Name: 3, dtype: int64)\n",
      "(4, start    3917000000\n",
      "end      3969000000\n",
      "Name: 4, dtype: int64)\n",
      "(5, start    3993000000\n",
      "end      4023000000\n",
      "Name: 5, dtype: int64)\n",
      "(6, start    4530000000\n",
      "end      4567000000\n",
      "Name: 6, dtype: int64)\n",
      "(7, start    4677000000\n",
      "end      4838000000\n",
      "Name: 7, dtype: int64)\n",
      "(8, start    4864000000\n",
      "end      4920000000\n",
      "Name: 8, dtype: int64)\n",
      "(9, start    5427000000\n",
      "end      5488000000\n",
      "Name: 9, dtype: int64)\n",
      "(10, start    6070000000\n",
      "end      6206000000\n",
      "Name: 10, dtype: int64)\n",
      "(11, start    7312000000\n",
      "end      7374000000\n",
      "Name: 11, dtype: int64)\n",
      "(12, start    7760000000\n",
      "end      7787000000\n",
      "Name: 12, dtype: int64)\n",
      "(13, start    7910000000\n",
      "end      8030000000\n",
      "Name: 13, dtype: int64)\n",
      "(14, start    8798000000\n",
      "end      8852000000\n",
      "Name: 14, dtype: int64)\n",
      "(15, start    9334000000\n",
      "end      9402000000\n",
      "Name: 15, dtype: int64)\n",
      "(16, start    16146000000\n",
      "end      16405000000\n",
      "Name: 16, dtype: int64)\n",
      "(17, start    16766000000\n",
      "end      16787000000\n",
      "Name: 17, dtype: int64)\n",
      "(18, start    17260000000\n",
      "end      17363000000\n",
      "Name: 18, dtype: int64)\n",
      "(19, start    17430000000\n",
      "end      17496000000\n",
      "Name: 19, dtype: int64)\n",
      "(20, start    17811000000\n",
      "end      17851000000\n",
      "Name: 20, dtype: int64)\n",
      "(21, start    18077000000\n",
      "end      18131000000\n",
      "Name: 21, dtype: int64)\n",
      "(22, start    18529000000\n",
      "end      18614000000\n",
      "Name: 22, dtype: int64)\n",
      "(23, start    18980000000\n",
      "end      19084000000\n",
      "Name: 23, dtype: int64)\n",
      "(24, start    19168000000\n",
      "end      19186000000\n",
      "Name: 24, dtype: int64)\n",
      "(25, start    19449000000\n",
      "end      19545000000\n",
      "Name: 25, dtype: int64)\n",
      "(26, start    19772000000\n",
      "end      19817000000\n",
      "Name: 26, dtype: int64)\n",
      "(27, start    21287000000\n",
      "end      21358000000\n",
      "Name: 27, dtype: int64)\n",
      "(28, start    21630000000\n",
      "end      21674000000\n",
      "Name: 28, dtype: int64)\n",
      "(29, start    21851000000\n",
      "end      21953000000\n",
      "Name: 29, dtype: int64)\n"
     ]
    }
   ],
   "source": [
    "for i in enumerate(states['Rem'].iloc()):\n",
    "    print(i)"
   ]
  },
  {
   "cell_type": "code",
   "execution_count": 36,
   "metadata": {},
   "outputs": [],
   "source": [
    "a = [12,30,12]"
   ]
  },
  {
   "cell_type": "code",
   "execution_count": 42,
   "metadata": {},
   "outputs": [
    {
     "data": {
      "text/plain": [
       "[42, 54]"
      ]
     },
     "execution_count": 42,
     "metadata": {},
     "output_type": "execute_result"
    }
   ],
   "source": [
    "[0,11]\n",
    "[12,41]\n",
    "[42,54]"
   ]
  },
  {
   "cell_type": "code",
   "execution_count": 43,
   "metadata": {},
   "outputs": [
    {
     "data": {
      "text/plain": [
       "([0, 29], [30, 41], [42, 71])"
      ]
     },
     "execution_count": 43,
     "metadata": {},
     "output_type": "execute_result"
    }
   ],
   "source": [
    "bins = [30, 12, 30]\n",
    "\n",
    "[0,29],[30,41],[42,71]"
   ]
  },
  {
   "cell_type": "code",
   "execution_count": 55,
   "metadata": {},
   "outputs": [],
   "source": [
    "s = np.append(0,np.cumsum(bins))[:-1]\n",
    "e = np.cumsum(bins)-1"
   ]
  },
  {
   "cell_type": "code",
   "execution_count": 45,
   "metadata": {},
   "outputs": [],
   "source": [
    "import numpy as np"
   ]
  },
  {
   "cell_type": "code",
   "execution_count": 57,
   "metadata": {},
   "outputs": [
    {
     "data": {
      "text/plain": [
       "(array([ 0, 30, 42]), array([29, 41, 71]))"
      ]
     },
     "execution_count": 57,
     "metadata": {},
     "output_type": "execute_result"
    }
   ],
   "source": [
    "s,e"
   ]
  },
  {
   "cell_type": "code",
   "execution_count": 64,
   "metadata": {},
   "outputs": [],
   "source": [
    "inter = np.array([s,e]).T"
   ]
  },
  {
   "cell_type": "code",
   "execution_count": 69,
   "metadata": {},
   "outputs": [
    {
     "name": "stdout",
     "output_type": "stream",
     "text": [
      "29\n",
      "41\n",
      "71\n"
     ]
    }
   ],
   "source": [
    "for n,(s,e) in enumerate(inter):\n",
    "    print(e)"
   ]
  },
  {
   "cell_type": "code",
   "execution_count": 83,
   "metadata": {},
   "outputs": [
    {
     "data": {
      "text/plain": [
       "True"
      ]
     },
     "execution_count": 83,
     "metadata": {},
     "output_type": "execute_result"
    }
   ],
   "source": [
    "'abc' in ['abc','zer']"
   ]
  },
  {
   "cell_type": "markdown",
   "metadata": {},
   "source": []
  },
  {
   "cell_type": "code",
   "execution_count": 122,
   "metadata": {},
   "outputs": [],
   "source": [
    "def get_paths(start = '',end = ''):\n",
    "    paths = []\n",
    "    for p,_,f in os.walk(os.getcwd()):\n",
    "        for i in f:\n",
    "            if i.startswith(start) & i.endswith(end): paths.append(os.path.join(p,i))\n",
    "    return paths"
   ]
  },
  {
   "cell_type": "code",
   "execution_count": 123,
   "metadata": {},
   "outputs": [
    {
     "data": {
      "text/plain": [
       "['/mnt/icybox/Rat08/Rat08-20130713/Rat08-20130713.clu.9',\n",
       " '/mnt/icybox/Rat08/Rat08-20130713/Rat08-20130713.spk.4',\n",
       " '/mnt/icybox/Rat08/Rat08-20130713/Rat08-20130713-PhaseModulation-Gamma80-SWS.mat',\n",
       " '/mnt/icybox/Rat08/Rat08-20130713/Rat08-20130713-04-postsleep.whl',\n",
       " '/mnt/icybox/Rat08/Rat08-20130713/Rat08-20130713-CohCorrPrep.mat',\n",
       " '/mnt/icybox/Rat08/Rat08-20130713/Rat08-20130713-04-postsleep.mpg',\n",
       " '/mnt/icybox/Rat08/Rat08-20130713/Rat08-20130713-02-presleep.tsp',\n",
       " '/mnt/icybox/Rat08/Rat08-20130713/Rat08-20130713-03-run.xml',\n",
       " '/mnt/icybox/Rat08/Rat08-20130713/Rat08-20130713-GLMoutput1  5  6.mat',\n",
       " '/mnt/icybox/Rat08/Rat08-20130713/Rat08-20130713-AirpuffRewardMod-CellLists.mat',\n",
       " '/mnt/icybox/Rat08/Rat08-20130713/Rat08-20130713.clu.11',\n",
       " '/mnt/icybox/Rat08/Rat08-20130713/Rat08-20130713.res.16',\n",
       " '/mnt/icybox/Rat08/Rat08-20130713/Rat08-20130713.res.17',\n",
       " '/mnt/icybox/Rat08/Rat08-20130713/Hpc - Rat08-20130713 - Shank 2 Cell 6003.png',\n",
       " '/mnt/icybox/Rat08/Rat08-20130713/SWSripples.mat',\n",
       " '/mnt/icybox/Rat08/Rat08-20130713/Rat08-20130713.clu.6',\n",
       " '/mnt/icybox/Rat08/Rat08-20130713/airpuffPrevious.mat',\n",
       " '/mnt/icybox/Rat08/Rat08-20130713/Rat08-20130713-RipplesPrePost.mat',\n",
       " '/mnt/icybox/Rat08/Rat08-20130713/Rat08-20130713.res.4',\n",
       " '/mnt/icybox/Rat08/Rat08-20130713/Rat08-20130713-AirpuffRewardMod-2.mat',\n",
       " '/mnt/icybox/Rat08/Rat08-20130713/Rat08-20130713-AirpuffRewardMod.mat',\n",
       " '/mnt/icybox/Rat08/Rat08-20130713/Rat08-20130713.spk.19',\n",
       " '/mnt/icybox/Rat08/Rat08-20130713/Rat08-20130713.res.18',\n",
       " '/mnt/icybox/Rat08/Rat08-20130713/Rat08-20130713-PhaseModulation-REM-HpcTheta.mat',\n",
       " '/mnt/icybox/Rat08/Rat08-20130713/Rat08-20130713.res.15',\n",
       " '/mnt/icybox/Rat08/Rat08-20130713/Rat08-20130713.res.5',\n",
       " '/mnt/icybox/Rat08/Rat08-20130713/Rat08-20130713.whl',\n",
       " '/mnt/icybox/Rat08/Rat08-20130713/Rat08-20130713.spk.9',\n",
       " '/mnt/icybox/Rat08/Rat08-20130713/Rat08-20130713.lrw.evt',\n",
       " '/mnt/icybox/Rat08/Rat08-20130713/Rat08-20130713-GLMoutput.mat',\n",
       " '/mnt/icybox/Rat08/Rat08-20130713/Rat08-20130713-ExplainedVariance-BLA-RUN.mat',\n",
       " '/mnt/icybox/Rat08/Rat08-20130713/Rat08-20130713-05-postrun.tsp',\n",
       " '/mnt/icybox/Rat08/Rat08-20130713/Rat08-20130713.clu.4',\n",
       " '/mnt/icybox/Rat08/Rat08-20130713/Rat08-20130713.clu.20',\n",
       " '/mnt/icybox/Rat08/Rat08-20130713/Rat08-20130713-AirpuffSpectrograms-1sec.png',\n",
       " '/mnt/icybox/Rat08/Rat08-20130713/Rat08-20130713.xml',\n",
       " '/mnt/icybox/Rat08/Rat08-20130713/Rat08-20130713-GLMoutput1  2  3  4  5  6  7.mat',\n",
       " '/mnt/icybox/Rat08/Rat08-20130713/BehavioralMeasures.mat',\n",
       " '/mnt/icybox/Rat08/Rat08-20130713/Hpc - Rat08-20130713 - Shank 2 Cell 6005.png',\n",
       " '/mnt/icybox/Rat08/Rat08-20130713/Rat08-20130713-ReplayInTime-BLA-binsize0.05-zscon-window10.mat',\n",
       " '/mnt/icybox/Rat08/Rat08-20130713/Rat08-20130713-PhaseModulation-Gamma.mat',\n",
       " '/mnt/icybox/Rat08/Rat08-20130713/Rat08-20130713-MonoSynConvClick.mat',\n",
       " '/mnt/icybox/Rat08/Rat08-20130713/Rat08-20130713.cat.evt',\n",
       " '/mnt/icybox/Rat08/Rat08-20130713/airpuff.mat',\n",
       " '/mnt/icybox/Rat08/Rat08-20130713/Rat08-20130713-03-run.mpg',\n",
       " '/mnt/icybox/Rat08/Rat08-20130713/Rat08-20130713-CellIndex.mat',\n",
       " '/mnt/icybox/Rat08/Rat08-20130713/Rat08-20130713.res.11',\n",
       " '/mnt/icybox/Rat08/Rat08-20130713/Rat08-20130713-AirpuffSpectrograms-1sec001.png',\n",
       " '/mnt/icybox/Rat08/Rat08-20130713/Coherence.mat',\n",
       " '/mnt/icybox/Rat08/Rat08-20130713/Rat08-20130713-ReplayInTime-LapTypes-BLA-binsize0.05-zscon-window2-ctype-pyr.mat',\n",
       " '/mnt/icybox/Rat08/Rat08-20130713/Rat08-20130713-ReplayInTime-Pir-binsize0.05-zscon.mat',\n",
       " '/mnt/icybox/Rat08/Rat08-20130713/Rat08-20130713-02-presleep.nrs',\n",
       " '/mnt/icybox/Rat08/Rat08-20130713/runintervals.mat',\n",
       " '/mnt/icybox/Rat08/Rat08-20130713/Rat08-20130713-AirpuffSpectrograms-1sec.svg',\n",
       " '/mnt/icybox/Rat08/Rat08-20130713/reward.mat',\n",
       " '/mnt/icybox/Rat08/Rat08-20130713/Rat08-20130713-AirpuffSpectrograms-1sec.pdf',\n",
       " '/mnt/icybox/Rat08/Rat08-20130713/Rat08-20130713-01-prerun.meta',\n",
       " '/mnt/icybox/Rat08/Rat08-20130713/Rat08-20130713.clu.3',\n",
       " '/mnt/icybox/Rat08/Rat08-20130713/Rat08-20130713-05-postrun.nrs',\n",
       " '/mnt/icybox/Rat08/Rat08-20130713/Rat08-20130713.spk.6',\n",
       " '/mnt/icybox/Rat08/Rat08-20130713/Rat08-20130713-PhaseModulation-RunSlowOsc.mat',\n",
       " '/mnt/icybox/Rat08/Rat08-20130713/Rat08-20130713-states.mat',\n",
       " '/mnt/icybox/Rat08/Rat08-20130713/Rat08-20130713-05-postrun.whl',\n",
       " '/mnt/icybox/Rat08/Rat08-20130713/AmygdalaRatio.mat',\n",
       " '/mnt/icybox/Rat08/Rat08-20130713/Rat08-20130713-02-presleep.meta',\n",
       " '/mnt/icybox/Rat08/Rat08-20130713/Rat08-20130713-RewardLocations-2.mat',\n",
       " '/mnt/icybox/Rat08/Rat08-20130713/Rat08-20130713.res.8',\n",
       " '/mnt/icybox/Rat08/Rat08-20130713/Rat08-20130713.res.12',\n",
       " '/mnt/icybox/Rat08/Rat08-20130713/Rat08-20130713.spk.1',\n",
       " '/mnt/icybox/Rat08/Rat08-20130713/Hpc - Rat08-20130713 - Shank 2 Cell 6004.png',\n",
       " '/mnt/icybox/Rat08/Rat08-20130713/Rat08-20130713-01-prerun.ini',\n",
       " '/mnt/icybox/Rat08/Rat08-20130713/Rat08-20130713.spk.15',\n",
       " '/mnt/icybox/Rat08/Rat08-20130713/Rat08-20130713-HighBeta.mat',\n",
       " '/mnt/icybox/Rat08/Rat08-20130713/Rat08-20130713.clu.2',\n",
       " '/mnt/icybox/Rat08/Rat08-20130713/Rat08-20130713-AirpuffRewardMod-SafeRew.mat',\n",
       " '/mnt/icybox/Rat08/Rat08-20130713/Rat08-20130713-ExplainedVariance-Pir-IntraStructure.mat',\n",
       " '/mnt/icybox/Rat08/Rat08-20130713/Rat08-20130713-LapType.mat',\n",
       " '/mnt/icybox/Rat08/Rat08-20130713/Rat08-20130713.res.13',\n",
       " '/mnt/icybox/Rat08/Rat08-20130713/Rat08-20130713-02-presleep.whl',\n",
       " '/mnt/icybox/Rat08/Rat08-20130713/Rat08-20130713.clu.8',\n",
       " '/mnt/icybox/Rat08/Rat08-20130713/Rat08-20130713.nrs',\n",
       " '/mnt/icybox/Rat08/Rat08-20130713/Rat08-20130713.res.1',\n",
       " '/mnt/icybox/Rat08/Rat08-20130713/Rat08-20130713-04-postsleep.xml',\n",
       " '/mnt/icybox/Rat08/Rat08-20130713/Rat08-20130713-03-run.whl',\n",
       " '/mnt/icybox/Rat08/Rat08-20130713/Rat08-20130713.puf.evt',\n",
       " '/mnt/icybox/Rat08/Rat08-20130713/Rat08-20130713-ReplayInTime-Pir.mat',\n",
       " '/mnt/icybox/Rat08/Rat08-20130713/Rat08-20130713-AirpuffSpectrograms-1sec002.png',\n",
       " '/mnt/icybox/Rat08/Rat08-20130713/Rat08-20130713-PowerSpec.mat',\n",
       " '/mnt/icybox/Rat08/Rat08-20130713/Rat08-20130713-PhaseModulation-SWSripples.mat',\n",
       " '/mnt/icybox/Rat08/Rat08-20130713/Rat08-20130713-05-postrun.mpg',\n",
       " '/mnt/icybox/Rat08/Rat08-20130713/Hpc - Rat08-20130713 - Shank 2 Cell 6',\n",
       " '/mnt/icybox/Rat08/Rat08-20130713/Rat08-20130713-ExplainedVariance-Hpc-IntraStructure.mat',\n",
       " '/mnt/icybox/Rat08/Rat08-20130713/Rat08-20130713-PrepareGLM.mat',\n",
       " '/mnt/icybox/Rat08/Rat08-20130713/clearunpos.mat',\n",
       " '/mnt/icybox/Rat08/Rat08-20130713/Rat08-20130713.res.3',\n",
       " '/mnt/icybox/Rat08/Rat08-20130713/Rat08-20130713-03-run.ini',\n",
       " '/mnt/icybox/Rat08/Rat08-20130713/Rat08-20130713-BehavioralMeasures.pdf',\n",
       " '/mnt/icybox/Rat08/Rat08-20130713/Rat08-20130713-AirpuffSpectrograms-1sec.mat',\n",
       " '/mnt/icybox/Rat08/Rat08-20130713/Rat08-20130713.res.7',\n",
       " '/mnt/icybox/Rat08/Rat08-20130713/Rat08-20130713-PoissonRippleMod.mat',\n",
       " '/mnt/icybox/Rat08/Rat08-20130713/Rat08-20130713-ReplayInTime-BLA-binsize0.05.mat',\n",
       " '/mnt/icybox/Rat08/Rat08-20130713/Rat08-20130713.res.2',\n",
       " '/mnt/icybox/Rat08/Rat08-20130713/Rat08-20130713.spk.3',\n",
       " '/mnt/icybox/Rat08/Rat08-20130713/runs.mat',\n",
       " '/mnt/icybox/Rat08/Rat08-20130713/Rat08-20130713-LapRate.mat',\n",
       " '/mnt/icybox/Rat08/Rat08-20130713/Rat08-20130713.spk.18',\n",
       " '/mnt/icybox/Rat08/Rat08-20130713/Rat08-20130713-PlaceCells.mat',\n",
       " '/mnt/icybox/Rat08/Rat08-20130713/Rat08-20130713-ExplainedVariance-BLA-IpsiContra.mat',\n",
       " '/mnt/icybox/Rat08/Rat08-20130713/Rat08-20130713-05-postrun.xml',\n",
       " '/mnt/icybox/Rat08/Rat08-20130713/Rat08-20130713-ReplayInTime-BLA-binsize0.05-zscon-window5-ctype-all.mat',\n",
       " '/mnt/icybox/Rat08/Rat08-20130713/Rat08-20130713-01-prerun.xml',\n",
       " '/mnt/icybox/Rat08/Rat08-20130713/Rat08-20130713-PhaseModulation-RUN-HpcTheta.mat',\n",
       " '/mnt/icybox/Rat08/Rat08-20130713/Rat08-20130713.clu.19',\n",
       " '/mnt/icybox/Rat08/Rat08-20130713/Rat08-20130713-01-prerun.nrs',\n",
       " '/mnt/icybox/Rat08/Rat08-20130713/Rat08-20130713.clu.15',\n",
       " '/mnt/icybox/Rat08/Rat08-20130713/Rat08-20130713.spk.16',\n",
       " '/mnt/icybox/Rat08/Rat08-20130713/Rat08-20130713-PoissonAPMod.mat',\n",
       " '/mnt/icybox/Rat08/Rat08-20130713/Rat08-20130713.spk.2',\n",
       " '/mnt/icybox/Rat08/Rat08-20130713/Hpc - Rat08-20130713 - Shank 2 Cell 6006.png',\n",
       " '/mnt/icybox/Rat08/Rat08-20130713/Rat08-20130713.spk.11',\n",
       " '/mnt/icybox/Rat08/Rat08-20130713/Rat08-20130713.res.10',\n",
       " '/mnt/icybox/Rat08/Rat08-20130713/Rat08-20130713-PhaseModulation-HighBeta.mat',\n",
       " '/mnt/icybox/Rat08/Rat08-20130713/Rat08-20130713-02-presleep.xml',\n",
       " '/mnt/icybox/Rat08/Rat08-20130713/Rat08-20130713-ReplayInTime-LapTypes-BLA-binsize0.05-zscon-window2-ctype-all.mat',\n",
       " '/mnt/icybox/Rat08/Rat08-20130713/Perf.mat',\n",
       " '/mnt/icybox/Rat08/Rat08-20130713/Rat08-20130713-01-prerun.tsp',\n",
       " '/mnt/icybox/Rat08/Rat08-20130713/Rat08-20130713-FirstLastLaps.mat',\n",
       " '/mnt/icybox/Rat08/Rat08-20130713/Laps.mat',\n",
       " '/mnt/icybox/Rat08/Rat08-20130713/Rat08-20130713.eegstates.mat',\n",
       " '/mnt/icybox/Rat08/Rat08-20130713/Rat08-20130713.spk.5',\n",
       " '/mnt/icybox/Rat08/Rat08-20130713/Rat08-20130713-PhaseModulation-Gamma80-REM.mat',\n",
       " '/mnt/icybox/Rat08/Rat08-20130713/Rat08-20130713-HighGamma.mat',\n",
       " '/mnt/icybox/Rat08/Rat08-20130713/Rat08-20130713.clu.18',\n",
       " '/mnt/icybox/Rat08/Rat08-20130713/Rat08-20130713-RippleFiring.mat',\n",
       " '/mnt/icybox/Rat08/Rat08-20130713/Rat08-20130713.spk.20',\n",
       " '/mnt/icybox/Rat08/Rat08-20130713/States.mat',\n",
       " '/mnt/icybox/Rat08/Rat08-20130713/Rat08-20130713-04-postsleep.meta',\n",
       " '/mnt/icybox/Rat08/Rat08-20130713/CoherenceSpectrasPerShank.svg',\n",
       " '/mnt/icybox/Rat08/Rat08-20130713/Rat08-20130713-ReplayInTime-BLA-binsize0.05-zscon-window2-ctype-pyr.mat',\n",
       " '/mnt/icybox/Rat08/Rat08-20130713/Rat08-20130713-PhaseModulation-RUN-BlaTheta.mat',\n",
       " '/mnt/icybox/Rat08/Rat08-20130713/Rat08-20130713-ReplayInTime-BLA-binsize0.05-zscon-window2-ctype-all.mat',\n",
       " '/mnt/icybox/Rat08/Rat08-20130713/Rat08-20130713.spk.10',\n",
       " '/mnt/icybox/Rat08/Rat08-20130713/Rat08-20130713-ExplainedVariance-BLA-IntraStructure.mat',\n",
       " '/mnt/icybox/Rat08/Rat08-20130713/Rat08-20130713-03-run.meta',\n",
       " '/mnt/icybox/Rat08/Rat08-20130713/Rat08-20130713-Laps.mat',\n",
       " '/mnt/icybox/Rat08/Rat08-20130713/Rat08-20130713-LapSpectrograms.mat',\n",
       " '/mnt/icybox/Rat08/Rat08-20130713/Rat08-20130713.clu.12',\n",
       " '/mnt/icybox/Rat08/Rat08-20130713/Rat08-20130713.clu.5',\n",
       " '/mnt/icybox/Rat08/Rat08-20130713/Rat08-20130713.rip.evt',\n",
       " '/mnt/icybox/Rat08/Rat08-20130713/Rat08-20130713.clu.16',\n",
       " '/mnt/icybox/Rat08/Rat08-20130713/Rat08-20130713-ExplainedVariance-Pir-IpsiContra.mat',\n",
       " '/mnt/icybox/Rat08/Rat08-20130713/Rat08-20130713.clu.7',\n",
       " '/mnt/icybox/Rat08/Rat08-20130713/Rat08-20130713-01-prerun.mpg',\n",
       " '/mnt/icybox/Rat08/Rat08-20130713/Rat08-20130713.rrw.evt',\n",
       " '/mnt/icybox/Rat08/Rat08-20130713/Rat08-20130713-RewardLocations.mat',\n",
       " '/mnt/icybox/Rat08/Rat08-20130713/Rat08-20130713-GLMClassif1  2  3  4  5  6  7.mat',\n",
       " '/mnt/icybox/Rat08/Rat08-20130713/Rat08-20130713-VelocityCurves.mat',\n",
       " '/mnt/icybox/Rat08/Rat08-20130713/Rat08-20130713-ReplayInTime-BLA-binsize0.05-zscon-window2.mat',\n",
       " '/mnt/icybox/Rat08/Rat08-20130713/Rat08-20130713.spk.7',\n",
       " '/mnt/icybox/Rat08/Rat08-20130713/Rat08-20130713-AirpuffSpectrograms.pdf',\n",
       " '/mnt/icybox/Rat08/Rat08-20130713/Rat08-20130713-ExplainedVariance-Pir.mat',\n",
       " '/mnt/icybox/Rat08/Rat08-20130713/Rat08-20130713.spk.12',\n",
       " '/mnt/icybox/Rat08/Rat08-20130713/Rat08-20130713-05-postrun.meta',\n",
       " '/mnt/icybox/Rat08/Rat08-20130713/airpuffloc',\n",
       " '/mnt/icybox/Rat08/Rat08-20130713/Rat08-20130713.res.14',\n",
       " '/mnt/icybox/Rat08/Rat08-20130713/Rat08-20130713.lfp.zip',\n",
       " '/mnt/icybox/Rat08/Rat08-20130713/Rat08-20130713-ExplainedVariance-LapTypes-BLA.mat',\n",
       " '/mnt/icybox/Rat08/Rat08-20130713/Rat08-20130713.clu.10',\n",
       " '/mnt/icybox/Rat08/Rat08-20130713/Hpc - Rat08-20130713 - Shank 2 Cell 6001.png',\n",
       " '/mnt/icybox/Rat08/Rat08-20130713/Rat08-20130713-SpikeParameters.mat',\n",
       " '/mnt/icybox/Rat08/Rat08-20130713/Rat08-20130713-PhaseModulation-Gamma80.mat',\n",
       " '/mnt/icybox/Rat08/Rat08-20130713/Rat08-20130713.dat',\n",
       " '/mnt/icybox/Rat08/Rat08-20130713/Rat08-20130713-RippleCCGs.mat',\n",
       " '/mnt/icybox/Rat08/Rat08-20130713/Rat08-20130713-ReplayInTime.mat',\n",
       " '/mnt/icybox/Rat08/Rat08-20130713/Rat08-20130713.res.6',\n",
       " '/mnt/icybox/Rat08/Rat08-20130713/Rat08-20130713.res.9',\n",
       " '/mnt/icybox/Rat08/Rat08-20130713/Rat08-20130713-02-presleep.ini',\n",
       " '/mnt/icybox/Rat08/Rat08-20130713/Rat08-20130713-ReplayInTime-BLA-binsize0.05-zscon.mat',\n",
       " '/mnt/icybox/Rat08/Rat08-20130713/Rat08-20130713-03-run.tsp',\n",
       " '/mnt/icybox/Rat08/Rat08-20130713/Hpc - Rat08-20130713 - Shank 2 Cell 6.fig',\n",
       " '/mnt/icybox/Rat08/Rat08-20130713/Rat08-20130713.spk.14',\n",
       " '/mnt/icybox/Rat08/Rat08-20130713/Rat08-20130713-GLMClassif.mat',\n",
       " '/mnt/icybox/Rat08/Rat08-20130713/Rat08-20130713-ExplainedVariance-BLA.mat',\n",
       " '/mnt/icybox/Rat08/Rat08-20130713/Rat08-20130713.clu.13',\n",
       " '/mnt/icybox/Rat08/Rat08-20130713/Rat08-20130713-QuietTimes.mat',\n",
       " '/mnt/icybox/Rat08/Rat08-20130713/Rat08-20130713-ExplainedVariance-olfact.mat',\n",
       " '/mnt/icybox/Rat08/Rat08-20130713/Rat08-20130713-PhaseModulation-REM-BlaTheta.mat',\n",
       " '/mnt/icybox/Rat08/Rat08-20130713/Rat08-20130713.spk.8',\n",
       " '/mnt/icybox/Rat08/Rat08-20130713/Hpc - Rat08-20130713 - Shank 2 Cell 6002.png',\n",
       " '/mnt/icybox/Rat08/Rat08-20130713/Rat08-20130713-ExplainedVariance-BLA-ExcludeCells.mat',\n",
       " '/mnt/icybox/Rat08/Rat08-20130713/Rat08-20130713.res.20',\n",
       " '/mnt/icybox/Rat08/Rat08-20130713/vlcsnap-2013-09-03-15h37m01s72.png',\n",
       " '/mnt/icybox/Rat08/Rat08-20130713/Rat08-20130713-TrackRunTimes.mat',\n",
       " '/mnt/icybox/Rat08/Rat08-20130713/Rat08-20130713.clu.1',\n",
       " '/mnt/icybox/Rat08/Rat08-20130713/Rat08-20130713.clu.14',\n",
       " '/mnt/icybox/Rat08/Rat08-20130713/Rat08-20130713-04-postsleep.tsp',\n",
       " '/mnt/icybox/Rat08/Rat08-20130713/Rat08-20130713-03-run.nrs',\n",
       " '/mnt/icybox/Rat08/Rat08-20130713/Rat08-20130713-04-postsleep.ini',\n",
       " '/mnt/icybox/Rat08/Rat08-20130713/Rat08-20130713-ReplayInTime-BLA-binsize0.05-zscon-window5.mat',\n",
       " '/mnt/icybox/Rat08/Rat08-20130713/Rat08-20130713-GLMClassif1  5  6.mat',\n",
       " '/mnt/icybox/Rat08/Rat08-20130713/Rat08-20130713.spk.17',\n",
       " '/mnt/icybox/Rat08/Rat08-20130713/Rat08-20130713.clu.17',\n",
       " '/mnt/icybox/Rat08/Rat08-20130713/Rat08-20130713-02-presleep.mpg',\n",
       " '/mnt/icybox/Rat08/Rat08-20130713/Rat08-20130713-01-prerun.whl',\n",
       " '/mnt/icybox/Rat08/Rat08-20130713/Rat08-20130713-PrePostFR.mat',\n",
       " '/mnt/icybox/Rat08/Rat08-20130713/Rat08-20130713-04-postsleep.nrs',\n",
       " '/mnt/icybox/Rat08/Rat08-20130713/Rat08-20130713-05-postrun.ini',\n",
       " '/mnt/icybox/Rat08/Rat08-20130713/Rat08-20130713.spk.13',\n",
       " '/mnt/icybox/Rat08/Rat08-20130713/Rat08-20130713.res.19',\n",
       " '/mnt/icybox/Rat08/Rat08-20130713/Rat08-20130713.lfp',\n",
       " '/mnt/icybox/Rat08/Rat08-20130713/xml_path.ps',\n",
       " '/mnt/icybox/Rat08/Rat08-20130713/posClean.mat',\n",
       " '/mnt/icybox/Rat08/Rat08-20130713/Rat08-20130713-PlaceCellSpiketimes.mat',\n",
       " '/mnt/icybox/Rat08/Rat08-20130713/Analysisac.png',\n",
       " '/mnt/icybox/Rat08/Rat08-20130713/Analysisrun_vs_post_run.png',\n",
       " '/mnt/icybox/Rat08/Rat08-20130713/Analysisrun_activity.png',\n",
       " '/mnt/icybox/Rat08/Rat08-20130713/Rat08-20130713-neurons.npy',\n",
       " '/mnt/icybox/Rat08/Rat08-20130713/Rat08-20130713-metadata.npy',\n",
       " '/mnt/icybox/Rat08/Rat08-20130713/animation.mp4',\n",
       " '/mnt/icybox/Rat08/Rat08-20130713/Rat08-20130708-neurons.npy',\n",
       " '/mnt/icybox/Rat08/Rat08-20130713/Rat08-20130708-neuronsShanks.npy',\n",
       " '/mnt/icybox/Rat08/Rat08-20130713/Thumbs.db',\n",
       " '/mnt/icybox/Rat08/Rat08-20130713/Billel/HighContribCCG/Rat08-20130713-HighContribCCG.mat',\n",
       " '/mnt/icybox/Rat08/Rat08-20130713/Billel/HighContribCCG/Figs/Rat08-20130713-HPC-2.12-BLA-5.4.fig',\n",
       " '/mnt/icybox/Rat08/Rat08-20130713/Billel/HighContribCCG/Figs/Rat08-20130713-HPC-3.23-BLA-5.5.fig',\n",
       " '/mnt/icybox/Rat08/Rat08-20130713/Billel/HighContribCCG/Figs/Rat08-20130713-HPC-3.7-BLA-5.7.fig',\n",
       " '/mnt/icybox/Rat08/Rat08-20130713/Billel/HighContribCCG/Figs/Rat08-20130713-HPC-4.4-BLA-5.8.fig',\n",
       " '/mnt/icybox/Rat08/Rat08-20130713/Billel/HighContribCCG/Figs/Rat08-20130713-HPC-2.11-BLA-5.11.fig',\n",
       " '/mnt/icybox/Rat08/Rat08-20130713/Billel/HighContribCCG/Figs/Rat08-20130713-HPC-4.9-BLA-5.12.fig',\n",
       " '/mnt/icybox/Rat08/Rat08-20130713/Billel/HighContribCCG/Figs/Rat08-20130713-HPC-4.15-BLA-5.13.fig',\n",
       " '/mnt/icybox/Rat08/Rat08-20130713/Billel/HighContribCCG/Figs/Rat08-20130713-HPC-3.2-BLA-6.2.fig',\n",
       " '/mnt/icybox/Rat08/Rat08-20130713/Billel/HighContribCCG/Figs/Rat08-20130713-HPC-3.9-BLA-6.2.fig',\n",
       " '/mnt/icybox/Rat08/Rat08-20130713/Billel/HighContribCCG/Figs/Rat08-20130713-HPC-3.23-BLA-8.3.fig',\n",
       " '/mnt/icybox/Rat08/Rat08-20130713/Billel/HighContribCCG/Figs/Rat08-20130713-HPC-2.16-BLA-8.6.fig',\n",
       " '/mnt/icybox/Rat08/Rat08-20130713/Billel/HighContribCCG/Figs/Rat08-20130713-HPC-4.9-BLA-8.6.fig',\n",
       " '/mnt/icybox/Rat08/Rat08-20130713/Billel/HighContribCCG/Figs/Rat08-20130713-HPC-4.11-BLA-13.2.fig',\n",
       " '/mnt/icybox/Rat08/Rat08-20130713/Billel/HighContribCCG/Figs/Rat08-20130713-HPC-3.12-BLA-14.6.fig',\n",
       " '/mnt/icybox/Rat08/Rat08-20130713/Billel/HighContribCCG/Figs/Rat08-20130713-HPC-3.15-BLA-14.8.fig',\n",
       " '/mnt/icybox/Rat08/Rat08-20130713/Billel/HighContribCCG/Figs/Rat08-20130713-HPC-2.9-BLA-15.5.fig',\n",
       " '/mnt/icybox/Rat08/Rat08-20130713/Billel/HighContribCCG/Figs/Rat08-20130713-HPC-2.12-BLA-15.6.fig',\n",
       " '/mnt/icybox/Rat08/Rat08-20130713/Billel/HighContribCCG/Figs/Rat08-20130713-HPC-4.6-BLA-15.8.fig',\n",
       " '/mnt/icybox/Rat08/Rat08-20130713/Billel/HighContribCCG/Figs/Rat08-20130713-HPC-2.12-BLA-15.10.fig',\n",
       " '/mnt/icybox/Rat08/Rat08-20130713/Billel/HighContribCCG/Figs/Rat08-20130713-HPC-2.16-BLA-15.10.fig',\n",
       " '/mnt/icybox/Rat08/Rat08-20130713/Billel/HighContribCCG/Figs/Rat08-20130713-HPC-3.2-BLA-15.10.fig',\n",
       " '/mnt/icybox/Rat08/Rat08-20130713/Billel/HighContribCCG/Figs/Rat08-20130713-HPC-3.12-BLA-15.10.fig',\n",
       " '/mnt/icybox/Rat08/Rat08-20130713/Billel/HighContribCCG/Figs/Rat08-20130713-HPC-3.23-BLA-15.10.fig',\n",
       " '/mnt/icybox/Rat08/Rat08-20130713/Billel/HighContribCCG/Figs/Rat08-20130713-HPC-3.17-BLA-16.2.fig',\n",
       " '/mnt/icybox/Rat08/Rat08-20130713/Billel/HighContribCCG/Figs/Rat08-20130713-HPC-2.13-BLA-16.3.fig',\n",
       " '/mnt/icybox/Rat08/Rat08-20130713/Billel/HighContribCCG/Figs/Rat08-20130713-HPC-3.16-BLA-16.3.fig',\n",
       " '/mnt/icybox/Rat08/Rat08-20130713/Billel/HighContribCCG/Figs/Rat08-20130713-HPC-2.6-BLA-16.4.fig',\n",
       " '/mnt/icybox/Rat08/Rat08-20130713/Billel/HighContribCCG/Figs/Rat08-20130713-HPC-2.8-BLA-16.4.fig',\n",
       " '/mnt/icybox/Rat08/Rat08-20130713/Billel/HighContribCCG/Figs/Rat08-20130713-HPC-2.12-BLA-16.4.fig',\n",
       " '/mnt/icybox/Rat08/Rat08-20130713/Billel/HighContribCCG/Figs/Rat08-20130713-HPC-4.4-BLA-16.4.fig',\n",
       " '/mnt/icybox/Rat08/Rat08-20130713/Billel/HighContribCCG/Figs/Rat08-20130713-HPC-4.6-BLA-16.4.fig',\n",
       " '/mnt/icybox/Rat08/Rat08-20130713/Billel/HighContribCCG/Figs/Rat08-20130713-HPC-4.11-BLA-16.4.fig',\n",
       " '/mnt/icybox/Rat08/Rat08-20130713/Billel/HighContribCCG/Figs/Rat08-20130713-HPC-1.2-BLA-17.2.fig',\n",
       " '/mnt/icybox/Rat08/Rat08-20130713/Billel/HighContribCCG/Figs/Rat08-20130713-HPC-2.6-BLA-17.4.fig',\n",
       " '/mnt/icybox/Rat08/Rat08-20130713/Billel/HighContribCCG/Figs/Rat08-20130713-HPC-3.26-BLA-17.4.fig',\n",
       " '/mnt/icybox/Rat08/Rat08-20130713/Billel/HighContribCCG/Figs/Rat08-20130713-HPC-4.2-BLA-17.5.fig',\n",
       " '/mnt/icybox/Rat08/Rat08-20130713/Billel/HighContribCCG/Figs/Rat08-20130713-HPC-2.5-BLA-17.6.fig',\n",
       " '/mnt/icybox/Rat08/Rat08-20130713/Billel/HighContribCCG/Figs/Rat08-20130713-HPC-3.17-BLA-17.6.fig',\n",
       " '/mnt/icybox/Rat08/Rat08-20130713/Billel/HighContribCCG/Figs/Rat08-20130713-HPC-4.10-BLA-17.6.fig',\n",
       " '/mnt/icybox/Rat08/Rat08-20130713/Billel/HighContribCCG/Figs/Rat08-20130713-HPC-3.11-BLA-17.7.fig',\n",
       " '/mnt/icybox/Rat08/Rat08-20130713/Billel/HighContribCCG/Figs/Rat08-20130713-HPC-2.2-BLA-17.9.fig',\n",
       " '/mnt/icybox/Rat08/Rat08-20130713/Billel/HighContribCCG/Figs/Rat08-20130713-HPC-2.5-BLA-17.9.fig',\n",
       " '/mnt/icybox/Rat08/Rat08-20130713/Billel/HighContribCCG/Figs/Rat08-20130713-HPC-2.6-BLA-17.9.fig',\n",
       " '/mnt/icybox/Rat08/Rat08-20130713/Billel/HighContribCCG/Figs/Rat08-20130713-HPC-3.15-BLA-17.9.fig',\n",
       " '/mnt/icybox/Rat08/Rat08-20130713/Billel/HighContribCCG/Figs/Rat08-20130713-HPC-3.25-BLA-17.9.fig',\n",
       " '/mnt/icybox/Rat08/Rat08-20130713/Billel/HighContribCCG/Figs/Rat08-20130713-HPC-4.11-BLA-17.9.fig',\n",
       " '/mnt/icybox/Rat08/Rat08-20130713/Billel/HighContribCCG/Figs/Rat08-20130713-HPC-2.6-BLA-17.11.fig',\n",
       " '/mnt/icybox/Rat08/Rat08-20130713/Billel/HighContribCCG/Figs/Rat08-20130713-HPC-2.12-BLA-17.11.fig',\n",
       " '/mnt/icybox/Rat08/Rat08-20130713/Billel/HighContribCCG/Figs/Rat08-20130713-HPC-3.16-BLA-17.11.fig',\n",
       " '/mnt/icybox/Rat08/Rat08-20130713/Billel/HighContribCCG/Figs/Rat08-20130713-HPC-3.23-BLA-17.11.fig',\n",
       " '/mnt/icybox/Rat08/Rat08-20130713/Billel/HighContribCCG/Figs/Rat08-20130713-HPC-4.4-BLA-17.11.fig',\n",
       " '/mnt/icybox/Rat08/Rat08-20130713/Billel/HighContribCCG/Figs/Rat08-20130713-HPC-4.11-BLA-17.11.fig',\n",
       " '/mnt/icybox/Rat08/Rat08-20130713/Billel/HighContribCCG/Figs/Rat08-20130713-HPC-4.14-BLA-17.13.fig',\n",
       " '/mnt/icybox/Rat08/Rat08-20130713/Billel/HighContribCCG/Figs/Rat08-20130713-HPC-3.9-BLA-17.14.fig',\n",
       " '/mnt/icybox/Rat08/Rat08-20130713/Billel/HighContribCCG/Figs/Rat08-20130713-HPC-3.2-BLA-18.5.fig',\n",
       " '/mnt/icybox/Rat08/Rat08-20130713/Billel/HighContribCCG/Figs/Rat08-20130713-HPC-3.11-BLA-18.5.fig',\n",
       " '/mnt/icybox/Rat08/Rat08-20130713/Billel/HighContribCCG/Figs/Rat08-20130713-HPC-4.14-BLA-18.7.fig',\n",
       " '/mnt/icybox/Rat08/Rat08-20130713/Billel/HighContribCCG/Figs/Rat08-20130713-HPC-2.6-BLA-18.8.fig',\n",
       " '/mnt/icybox/Rat08/Rat08-20130713/Billel/HighContribCCG/Figs/Rat08-20130713-HPC-3.3-BLA-18.8.fig',\n",
       " '/mnt/icybox/Rat08/Rat08-20130713/Billel/HighContribCCG/Figs/Rat08-20130713-HPC-3.17-BLA-18.8.fig',\n",
       " '/mnt/icybox/Rat08/Rat08-20130713/Billel/HighContribCCG/Figs/Rat08-20130713-HPC-4.4-BLA-18.8.fig',\n",
       " '/mnt/icybox/Rat08/Rat08-20130713/Billel/HighContribCCG/Figs/Rat08-20130713-HPC-4.10-BLA-18.8.fig',\n",
       " '/mnt/icybox/Rat08/Rat08-20130713/Billel/HighContribCCG/Figs/Rat08-20130713-HPC-4.11-BLA-18.8.fig',\n",
       " '/mnt/icybox/Rat08/Rat08-20130713/Billel/HighContribCCG/Figs/Rat08-20130713-HPC-3.23-BLA-18.9.fig',\n",
       " '/mnt/icybox/Rat08/Rat08-20130713/Billel/HighContribCCG/Figs/Rat08-20130713-HPC-2.5-BLA-18.11.fig',\n",
       " '/mnt/icybox/Rat08/Rat08-20130713/Billel/HighContribCCG/Figs/Rat08-20130713-HPC-2.6-BLA-18.11.fig',\n",
       " '/mnt/icybox/Rat08/Rat08-20130713/Billel/HighContribCCG/Figs/Rat08-20130713-HPC-4.4-BLA-18.11.fig',\n",
       " '/mnt/icybox/Rat08/Rat08-20130713/Billel/HighContribCCG/Figs/Rat08-20130713-HPC-4.6-BLA-18.11.fig',\n",
       " '/mnt/icybox/Rat08/Rat08-20130713/Billel/HighContribCCG/Figs/Rat08-20130713-HPC-4.11-BLA-18.11.fig',\n",
       " '/mnt/icybox/Rat08/Rat08-20130713/Billel/HighContribCCG/Figs/Rat08-20130713-HPC-4.14-BLA-18.11.fig',\n",
       " '/mnt/icybox/Rat08/Rat08-20130713/Billel/HighContribCCG/Figs/Rat08-20130713-HPC-3.11-BLA-18.14.fig',\n",
       " '/mnt/icybox/Rat08/Rat08-20130713/Billel/HighContribCCG/Figs/Rat08-20130713-HPC-3.16-BLA-18.14.fig',\n",
       " '/mnt/icybox/Rat08/Rat08-20130713/Billel/HighContribCCG/Figs/Rat08-20130713-HPC-2.12-BLA-18.15.fig',\n",
       " '/mnt/icybox/Rat08/Rat08-20130713/Billel/HighContribCCG/Figs/Rat08-20130713-HPC-3.24-BLA-18.16.fig',\n",
       " '/mnt/icybox/Rat08/Rat08-20130713/Billel/HighContribCCG/Figs/Rat08-20130713-HPC-2.6-BLA-18.21.fig',\n",
       " '/mnt/icybox/Rat08/Rat08-20130713/Billel/HighContribCCG/Figs/Rat08-20130713-HPC-2.12-BLA-18.21.fig',\n",
       " '/mnt/icybox/Rat08/Rat08-20130713/Billel/HighContribCCG/Figs/Rat08-20130713-HPC-3.8-BLA-18.21.fig',\n",
       " '/mnt/icybox/Rat08/Rat08-20130713/Billel/HighContribCCG/Figs/Rat08-20130713-HPC-3.23-BLA-18.21.fig',\n",
       " '/mnt/icybox/Rat08/Rat08-20130713/Billel/HighContribCCG/Figs/Rat08-20130713-HPC-4.4-BLA-18.21.fig',\n",
       " '/mnt/icybox/Rat08/Rat08-20130713/Billel/HighContribCCG/Figs/Rat08-20130713-HPC-4.10-BLA-18.21.fig',\n",
       " '/mnt/icybox/Rat08/Rat08-20130713/Billel/HighContribCCG/Figs/Rat08-20130713-HPC-4.15-BLA-18.21.fig',\n",
       " '/mnt/icybox/Rat08/Rat08-20130713/Billel/HighContribCCG/Figs/Rat08-20130713-HPC-3.5-BLA-19.3.fig',\n",
       " '/mnt/icybox/Rat08/Rat08-20130713/Billel/HighContribCCG/Figs/Rat08-20130713-HPC-3.23-BLA-19.3.fig',\n",
       " '/mnt/icybox/Rat08/Rat08-20130713/Billel/HighContribCCG/Figs/Rat08-20130713-HPC-4.10-BLA-19.3.fig',\n",
       " '/mnt/icybox/Rat08/Rat08-20130713/Billel/HighContribCCG/Figs/Rat08-20130713-HPC-4.11-BLA-19.3.fig',\n",
       " '/mnt/icybox/Rat08/Rat08-20130713/Billel/HighContribCCG/Figs/Rat08-20130713-HPC-4.15-BLA-19.3.fig',\n",
       " '/mnt/icybox/Rat08/Rat08-20130713/Billel/Coherence/coherence.mat',\n",
       " '/mnt/icybox/Rat08/Rat08-20130713/Billel/ThetaMod/ThetaMod.mat',\n",
       " '/mnt/icybox/Rat08/Rat08-20130713/Billel/ThetaMod/PrePostThetaMod.mat',\n",
       " '/mnt/icybox/Rat08/Rat08-20130713/Billel/ThetaMod/ThetaModSWS.mat',\n",
       " '/mnt/icybox/Rat08/Rat08-20130713/Billel/Auto_CCG_State/auto_ccg_states.mat',\n",
       " '/mnt/icybox/Rat08/Rat08-20130713/Billel/Transitions/NREM_REM_NREM_Hpc_pyr.mat',\n",
       " '/mnt/icybox/Rat08/Rat08-20130713/Billel/Transitions/NREM_REM_NREM_Hpc_int.mat',\n",
       " '/mnt/icybox/Rat08/Rat08-20130713/Billel/Transitions/NREM_REM_NREM_BLA_pyr.mat',\n",
       " '/mnt/icybox/Rat08/Rat08-20130713/Billel/Transitions/NREM_REM_NREM_BLA_int.mat',\n",
       " '/mnt/icybox/Rat08/Rat08-20130713/Billel/Transitions/NREMBLA_pyr.mat',\n",
       " '/mnt/icybox/Rat08/Rat08-20130713/Billel/Transitions/NREMBLA_int.mat',\n",
       " '/mnt/icybox/Rat08/Rat08-20130713/Billel/Transitions/NREMHpc_pyr.mat',\n",
       " '/mnt/icybox/Rat08/Rat08-20130713/Billel/Transitions/NREMHpc_int.mat',\n",
       " '/mnt/icybox/Rat08/Rat08-20130713/Billel/Transitions/REM_BLA_pyr.mat',\n",
       " '/mnt/icybox/Rat08/Rat08-20130713/Billel/Transitions/REM_BLA_int.mat',\n",
       " '/mnt/icybox/Rat08/Rat08-20130713/Billel/Transitions/REM_Hpc_int.mat',\n",
       " '/mnt/icybox/Rat08/Rat08-20130713/Billel/Transitions/REM_Hpc_pyr.mat',\n",
       " '/mnt/icybox/Rat08/Rat08-20130713/Billel/Transitions/NREM_REM_NREM_FQ_BLA_pyr.mat',\n",
       " '/mnt/icybox/Rat08/Rat08-20130713/Billel/Transitions/NREM_REM_NREM_FQ_BLA_int.mat',\n",
       " '/mnt/icybox/Rat08/Rat08-20130713/Billel/Transitions/NREM_REM_NREM_FQ_Hpc_pyr.mat',\n",
       " '/mnt/icybox/Rat08/Rat08-20130713/Billel/Transitions/NREM_REM_NREM_FQ_Hpc_int.mat',\n",
       " '/mnt/icybox/Rat08/Rat08-20130713/Billel/Transitions/NREM_REM_NREM_12_Hpc_pyr.mat',\n",
       " '/mnt/icybox/Rat08/Rat08-20130713/Billel/Transitions/NREM_REM_NREM_12_Hpc_int.mat',\n",
       " '/mnt/icybox/Rat08/Rat08-20130713/Billel/Transitions/NREM_REM_NREM_12_BLA_pyr.mat',\n",
       " '/mnt/icybox/Rat08/Rat08-20130713/Billel/Transitions/NREM_REM_NREM_12_BLA_int.mat',\n",
       " '/mnt/icybox/Rat08/Rat08-20130713/Billel/Transitions/NREM_REM_NREM_olfact_Pyr.mat',\n",
       " '/mnt/icybox/Rat08/Rat08-20130713/Billel/Transitions/NREM_REM_NREM_Pir_Pyr.mat',\n",
       " '/mnt/icybox/Rat08/Rat08-20130713/Billel/Transitions/NREM_REM_NREM_VEn_Pyr.mat',\n",
       " '/mnt/icybox/Rat08/Rat08-20130713/Billel/Transitions/NREM_REM_NREM_ALL.mat',\n",
       " '/mnt/icybox/Rat08/Rat08-20130713/Billel/Transitions/NREM_REM_ALL.mat',\n",
       " '/mnt/icybox/Rat08/Rat08-20130713/Billel/Transitions/NREM_REM_Not_Normalized.mat',\n",
       " '/mnt/icybox/Rat08/Rat08-20130713/Billel/Transitions/REM_NREM_REM_Hpc_Pyr.mat',\n",
       " '/mnt/icybox/Rat08/Rat08-20130713/Billel/Transitions/REM_NREM_REM_ALL.mat',\n",
       " '/mnt/icybox/Rat08/Rat08-20130713/Billel/Power/Power.mat',\n",
       " '/mnt/icybox/Rat08/Rat08-20130713/Billel/AllMod/AllMod.mat',\n",
       " '/mnt/icybox/Rat08/Rat08-20130713/Billel/SpikeSpectrum/PopHpc_pyr.mat',\n",
       " '/mnt/icybox/Rat08/Rat08-20130713/Billel/SpikeSpectrum/PopHpc_int.mat',\n",
       " '/mnt/icybox/Rat08/Rat08-20130713/Billel/SpikeSpectrum/PopBLA_pyr.mat',\n",
       " '/mnt/icybox/Rat08/Rat08-20130713/Billel/SpikeSpectrum/PopBLA_int.mat',\n",
       " '/mnt/icybox/Rat08/Rat08-20130713/Billel/SpikeSpectrum/PopThetaModulatedCells.bla_pyr',\n",
       " '/mnt/icybox/Rat08/Rat08-20130713/Billel/CorrMatrix/CorrMatrixBLA_0.025.mat',\n",
       " '/mnt/icybox/Rat08/Rat08-20130713/Billel/CorrMatrix/CorrMatrixBLA_0.01.mat',\n",
       " '/mnt/icybox/Rat08/Rat08-20130713/Billel/CorrMatrix/CorrMatrixBLA_0.05.mat',\n",
       " '/mnt/icybox/Rat08/Rat08-20130713/Billel/CorrMatrix/CorrMatrixPir_0.025.mat',\n",
       " '/mnt/icybox/Rat08/Rat08-20130713/Billel/CorrMatrix/CorrMatrixPir_0.05.mat',\n",
       " '/mnt/icybox/Rat08/Rat08-20130713/Billel/CorrMatrix/CorrMatrixAll_0.025.mat',\n",
       " '/mnt/icybox/Rat08/Rat08-20130713/Billel/CorrMatrix/CorrMatrixAll_0.01.mat',\n",
       " '/mnt/icybox/Rat08/Rat08-20130713/Billel/CorrMatrix/CorrMatrixAll_0.05.mat',\n",
       " '/mnt/icybox/Rat08/Rat08-20130713/Billel/microCircuitTransition/8-6-2-17-0.5s.png',\n",
       " '/mnt/icybox/Rat08/Rat08-20130713/Billel/microCircuitTransition/8-6-6-11-0.5s.png',\n",
       " '/mnt/icybox/Rat08/Rat08-20130713/Solène/Rat08-20130713-PlaceCellOnly.mat',\n",
       " '/mnt/icybox/Rat08/Rat08-20130713/Solène/Rat08-20130713-PlaceCellSpiketimes.mat',\n",
       " '/mnt/icybox/Rat08/Rat08-20130713/Solène/Rat08-20130713-Correlation1D.mat',\n",
       " '/mnt/icybox/Rat08/Rat08-20130713/Solène/Rat08-20130713-Correlation2D_wrongversion.mat',\n",
       " '/mnt/icybox/Rat08/Rat08-20130713/Solène/Rat08-20130713-PeakShifts1D.mat',\n",
       " '/mnt/icybox/Rat08/Rat08-20130713/Solène/Rat08-20130713-RemappingIndex.mat',\n",
       " '/mnt/icybox/Rat08/Rat08-20130713/Solène/Rat08-20130713-SpikingRatios.mat',\n",
       " '/mnt/icybox/Rat08/Rat08-20130713/Solène/Rat08-20130713-Correlation2D.mat',\n",
       " '/mnt/icybox/Rat08/Rat08-20130713/Analysis/lfp_nrem_ch_13.p',\n",
       " '/mnt/icybox/Rat08/Rat08-20130713/Analysis/lfp_nrem_ch_18.p',\n",
       " '/mnt/icybox/Rat08/Rat08-20130713/Analysis/lfp_rem_ch_13.p',\n",
       " '/mnt/icybox/Rat08/Rat08-20130713/Analysis/lfp_rem_ch_18.p',\n",
       " '/mnt/icybox/Rat08/Rat08-20130713/Analysis/lfp_pre_run_ch_13.p',\n",
       " '/mnt/icybox/Rat08/Rat08-20130713/Analysis/lfp_pre_run_ch_18.p',\n",
       " '/mnt/icybox/Rat08/Rat08-20130713/Analysis/lfp_run_ch_13.p',\n",
       " '/mnt/icybox/Rat08/Rat08-20130713/Analysis/lfp_run_ch_18.p',\n",
       " '/mnt/icybox/Rat08/Rat08-20130713/Analysis/lfp_post_run_ch_13.p',\n",
       " '/mnt/icybox/Rat08/Rat08-20130713/Analysis/lfp_post_run_ch_18.p',\n",
       " '/mnt/icybox/Rat08/Rat08-20130713/Analysis/spike_times.p',\n",
       " '/mnt/icybox/Rat08/Rat08-20130713/Analysis/shanks.p',\n",
       " '/mnt/icybox/Rat08/Rat08-20130713/Analysis/run_activity.png',\n",
       " '/mnt/icybox/Rat08/Rat08-20130713/Analysis/firing_map_assemblies.png',\n",
       " '/mnt/icybox/Rat08/Rat08-20130713/Analysis/all_variables-Hpc.p',\n",
       " '/mnt/icybox/Rat08/Rat08-20130713/Analysis/tracking-Hpc.p',\n",
       " '/mnt/icybox/Rat08/Rat08-20130713/Analysis/firing_map_assemblies-Hpc.png',\n",
       " '/mnt/icybox/Rat08/Rat08-20130713/Analysis/all_variables-BLA.p',\n",
       " '/mnt/icybox/Rat08/Rat08-20130713/Analysis/tracking-BLA.p',\n",
       " '/mnt/icybox/Rat08/Rat08-20130713/Analysis/firing_map_assemblies-BLA.png',\n",
       " '/mnt/icybox/Rat08/Rat08-20130713/Analysis/50.0-all_variables-Hpc.p',\n",
       " '/mnt/icybox/Rat08/Rat08-20130713/Analysis/50.0-tracking-Hpc.p',\n",
       " '/mnt/icybox/Rat08/Rat08-20130713/Analysis/50.0-all_variables-BLA.p',\n",
       " '/mnt/icybox/Rat08/Rat08-20130713/Analysis/50.0-tracking-BLA.p',\n",
       " '/mnt/icybox/Rat08/Rat08-20130713/Analysis/50.0-all_variables-Hpc_.p',\n",
       " '/mnt/icybox/Rat08/Rat08-20130713/Analysis/50.0-all_variables-BLA_.p',\n",
       " '/mnt/icybox/Rat08/Rat08-20130713/Analysis/50.0_spike_times_epochsBLA.p',\n",
       " '/mnt/icybox/Rat08/Rat08-20130713/Analysis/25.0-all_variables-Hpc_.p',\n",
       " '/mnt/icybox/Rat08/Rat08-20130713/Analysis/25.0-all_variables-BLA_.p',\n",
       " '/mnt/icybox/Rat08/Rat08-20130713/Analysis/25.0-all_variables-Hpcnrem_.p',\n",
       " '/mnt/icybox/Rat08/Rat08-20130713/Analysis/25.0-all_variables-BLAnrem_.p',\n",
       " '/mnt/icybox/Rat08/Rat08-20130713/Analysis/25.0-all_variables-Hpc_run_only.p',\n",
       " '/mnt/icybox/Rat08/Rat08-20130713/Analysis/25.0-all_variables-BLA_run_only.p',\n",
       " '/mnt/icybox/Rat08/Rat08-20130713/Analysis/25.0-all_variables-Hpc_all_nrem.p',\n",
       " '/mnt/icybox/Rat08/Rat08-20130713/Analysis/25.0-all_variables-BLA_all_nrem.p',\n",
       " '/mnt/icybox/Rat08/Rat08-20130713/Analysis/25.0-all_variables-Hpc_laps_only.p']"
      ]
     },
     "execution_count": 123,
     "metadata": {},
     "output_type": "execute_result"
    }
   ],
   "source": [
    "get_paths()"
   ]
  },
  {
   "cell_type": "code",
   "execution_count": 9,
   "metadata": {},
   "outputs": [],
   "source": [
    "import numpy as np\n",
    "import matplotlib.pyplot as plt"
   ]
  },
  {
   "cell_type": "code",
   "execution_count": 12,
   "metadata": {},
   "outputs": [],
   "source": [
    "data = np.memmap('/mnt/electrophy/Billel/BK-Dataset/Rat50/Rat50-20211011/Rat50_211011_173558/amplifier.dat',np.int16)"
   ]
  },
  {
   "cell_type": "code",
   "execution_count": 2,
   "metadata": {},
   "outputs": [],
   "source": [
    "import bk.load\n",
    "import numpy as np\n",
    "\n",
    "\n",
    "from visbrain.gui import Sleep\n",
    "\n",
    "bk.load.current_session_linux(base_folder='/mnt/electrophy/Billel/BK-Dataset/',local_path='Rat50/Rat50-20211005')\n",
    "data = np.memmap('Rat50-20211005.lfp',np.int16)\n",
    "data = data.reshape(-1,35)[:1250*50:]\n",
    "data = np.array(data)\n",
    "Sleep(data.T,sf = 1250).show()"
   ]
  },
  {
   "cell_type": "code",
   "execution_count": 3,
   "metadata": {},
   "outputs": [
    {
     "name": "stdout",
     "output_type": "stream",
     "text": [
      "Rat : 50 on day : 2\n",
      "Working with session Rat50-20211005 @ /mnt/electrophy/Billel/BK-Dataset/Rat50/Rat50-20211005\n"
     ]
    },
    {
     "name": "stderr",
     "output_type": "stream",
     "text": [
      "/home/billel/anaconda3/lib/python3.8/site-packages/visbrain/io/read_sleep.py:148: UserWarning: The number of channels must be 35. Default channel names will be used instead.\n",
      "  warn(\"The number of channels must be \" + str(nchan) + \". Default \"\n",
      "/home/billel/anaconda3/lib/python3.8/site-packages/visbrain/gui/sleep/visuals/marker.py:565: FutureWarning: Passing (type, 1) or '1type' as a synonym of type is deprecated; in a future version of numpy, it will be understood as (type, (1,)) / '(1,)type'.\n",
      "  data = np.zeros(n, dtype=[('a_position', np.float32, 3),\n",
      "/home/billel/anaconda3/lib/python3.8/site-packages/vispy/gloo/texture.py:28: UserWarning: GPUs can't support floating point data with more than 32-bits, precision will be lost due to downcasting to 32-bit float.\n",
      "  warnings.warn(F64_PRECISION_WARNING)\n",
      "File already dowloaded (/home/billel/visbrain_data/topo/eegref.npz).\n",
      "File already dowloaded (/home/billel/visbrain_data/topo/eegref.npz).\n"
     ]
    }
   ],
   "source": []
  },
  {
   "cell_type": "code",
   "execution_count": 4,
   "metadata": {},
   "outputs": [
    {
     "data": {
      "text/plain": [
       "numpy.memmap"
      ]
     },
     "execution_count": 4,
     "metadata": {},
     "output_type": "execute_result"
    }
   ],
   "source": [
    "type(data)"
   ]
  },
  {
   "cell_type": "code",
   "execution_count": 15,
   "metadata": {},
   "outputs": [
    {
     "name": "stderr",
     "output_type": "stream",
     "text": [
      "/home/billel/anaconda3/lib/python3.8/site-packages/visbrain/io/read_sleep.py:148: UserWarning: The number of channels must be 35. Default channel names will be used instead.\n",
      "  warn(\"The number of channels must be \" + str(nchan) + \". Default \"\n",
      "/home/billel/anaconda3/lib/python3.8/site-packages/visbrain/gui/sleep/visuals/marker.py:565: FutureWarning: Passing (type, 1) or '1type' as a synonym of type is deprecated; in a future version of numpy, it will be understood as (type, (1,)) / '(1,)type'.\n",
      "  data = np.zeros(n, dtype=[('a_position', np.float32, 3),\n",
      "/home/billel/anaconda3/lib/python3.8/site-packages/vispy/gloo/texture.py:28: UserWarning: GPUs can't support floating point data with more than 32-bits, precision will be lost due to downcasting to 32-bit float.\n",
      "  warnings.warn(F64_PRECISION_WARNING)\n",
      "File already dowloaded (/home/billel/visbrain_data/topo/eegref.npz).\n",
      "File already dowloaded (/home/billel/visbrain_data/topo/eegref.npz).\n",
      "visbrain_data has been added to /home/billel/visbrain_data/icons\n",
      "Downloading /home/billel/visbrain_data/icons/sleep_icon.svg\n",
      "STATUS : 100.0% 139264 / 133338\n"
     ]
    }
   ],
   "source": []
  },
  {
   "cell_type": "code",
   "execution_count": 21,
   "metadata": {},
   "outputs": [
    {
     "data": {
      "text/plain": [
       "(404786480,)"
      ]
     },
     "execution_count": 21,
     "metadata": {},
     "output_type": "execute_result"
    }
   ],
   "source": [
    "data.shape"
   ]
  },
  {
   "cell_type": "code",
   "execution_count": 26,
   "metadata": {},
   "outputs": [
    {
     "data": {
      "text/plain": [
       "35"
      ]
     },
     "execution_count": 26,
     "metadata": {},
     "output_type": "execute_result"
    }
   ],
   "source": [
    "data.shape[1]"
   ]
  },
  {
   "cell_type": "code",
   "execution_count": 4,
   "metadata": {},
   "outputs": [],
   "source": [
    "import scipy.signal\n",
    "\n",
    "import matplotlib.pyplot as plt\n",
    "import bk.plot\n",
    "import bk.signal\n",
    "\n",
    "import bk.load\n",
    "import numpy as np\n",
    "import neuroseries as nts"
   ]
  },
  {
   "cell_type": "code",
   "execution_count": 5,
   "metadata": {},
   "outputs": [
    {
     "name": "stdout",
     "output_type": "stream",
     "text": [
      "Rat : 8 on day : 6\n",
      "Working with session Rat08-20130713 @ /home/billel/Data/GG-Dataset/Rat08/Rat08-20130713\n",
      "/!\\ memmap is not compatible with volt_step /!\\ \n"
     ]
    }
   ],
   "source": [
    "bk.load.current_session_linux()\n",
    "states = bk.load.states()\n",
    "lfp = bk.load.lfp(23,0,5000,fs = 20_000,dat = True,memmap= True)\n",
    "t = np.arange(0,len(lfp))/20_000\n",
    "lfp = nts.Tsd(t,lfp,time_units='s')\n",
    "lfp_sws = lfp.restrict(states['sws'])\n",
    "\n",
    "# t = np.arange(0,len(lfp_sws.values))/20000\n",
    "# lfp = nts.Tsd(t,lfp_sws.values,time_units = 's')"
   ]
  },
  {
   "cell_type": "code",
   "execution_count": 6,
   "metadata": {},
   "outputs": [],
   "source": [
    "lfp_filt = bk.signal.highpass(lfp_sws,200,20000)"
   ]
  },
  {
   "cell_type": "code",
   "execution_count": 18,
   "metadata": {},
   "outputs": [],
   "source": [
    "%matplotlib qt\n",
    "plt.plot(lfp_sws.as_units('s')[1900:2100],'grey',alpha = 0.7)\n",
    "plt.plot(lfp_filt.as_units('s')[1900:2100],'r-',alpha = 0.5)\n",
    "\n",
    "for i in rip['peak'].as_units('s')[1900:2000].index:\n",
    "    plt.axvline(i)"
   ]
  },
  {
   "cell_type": "code",
   "execution_count": 7,
   "metadata": {},
   "outputs": [],
   "source": [
    "import scipy.io.wavfile"
   ]
  },
  {
   "cell_type": "code",
   "execution_count": 15,
   "metadata": {},
   "outputs": [
    {
     "name": "stdout",
     "output_type": "stream",
     "text": [
      "1903.4904\n",
      "1915.5448\n",
      "1915.6808\n",
      "1916.668\n",
      "1916.7312\n",
      "1919.2528\n",
      "1919.3376\n",
      "1919.492\n",
      "1920.668\n",
      "1920.9056\n",
      "1921.272\n",
      "1923.7808\n",
      "1924.8048\n"
     ]
    }
   ],
   "source": [
    "for i in rip['peak'].as_units('s')[1900:2000].index:\n",
    "    print(i)"
   ]
  },
  {
   "cell_type": "code",
   "execution_count": 26,
   "metadata": {},
   "outputs": [],
   "source": [
    "scipy.io.wavfile.write(\"/media/billel/DATA/wavefiles/filtered.wav\", 20_000, np.int16(lfp_filt.values))"
   ]
  },
  {
   "cell_type": "code",
   "execution_count": 25,
   "metadata": {},
   "outputs": [],
   "source": [
    "scipy.io.wavfile.write(\"/media/billel/DATA/wavefiles/wideband.wav\", 20_000, np.int16(lfp_sws.values))"
   ]
  },
  {
   "cell_type": "code",
   "execution_count": 24,
   "metadata": {},
   "outputs": [
    {
     "data": {
      "text/plain": [
       "array([ 18,   8, -21, ...,  -6,   4,  14], dtype=int16)"
      ]
     },
     "execution_count": 24,
     "metadata": {},
     "output_type": "execute_result"
    }
   ],
   "source": [
    "np.int16(lfp_filt.values)"
   ]
  },
  {
   "cell_type": "code",
   "execution_count": 23,
   "metadata": {},
   "outputs": [
    {
     "data": {
      "text/plain": [
       "array([-237, -249, -281, ..., -357, -345, -333], dtype=int16)"
      ]
     },
     "execution_count": 23,
     "metadata": {},
     "output_type": "execute_result"
    }
   ],
   "source": [
    "lfp_sws.values"
   ]
  },
  {
   "cell_type": "code",
   "execution_count": 8,
   "metadata": {},
   "outputs": [],
   "source": [
    "wide_filt = np.vstack([lfp_sws.values,lfp_filt.values])"
   ]
  },
  {
   "cell_type": "code",
   "execution_count": 15,
   "metadata": {},
   "outputs": [
    {
     "data": {
      "text/plain": [
       "numpy.ndarray"
      ]
     },
     "execution_count": 15,
     "metadata": {},
     "output_type": "execute_result"
    }
   ],
   "source": []
  },
  {
   "cell_type": "code",
   "execution_count": 16,
   "metadata": {},
   "outputs": [],
   "source": [
    "scipy.io.wavfile.write(\"/media/billel/DATA/wavefiles/wide_and_filt.wav\", 20_000, np.int16(wide_filt.T))"
   ]
  },
  {
   "cell_type": "code",
   "execution_count": 19,
   "metadata": {},
   "outputs": [
    {
     "data": {
      "text/plain": [
       "'test/Rat08-20130713-QuietTimes.mat/hehe'"
      ]
     },
     "execution_count": 19,
     "metadata": {},
     "output_type": "execute_result"
    }
   ],
   "source": []
  },
  {
   "cell_type": "code",
   "execution_count": 1,
   "metadata": {},
   "outputs": [],
   "source": [
    "import os\n",
    "\n",
    "import numpy as np\n",
    "import matplotlib.pyplot as plt\n",
    "\n",
    "import bk.load\n",
    "import bk.compute\n",
    "import bk.plot\n",
    "\n",
    "\n",
    "import neuroseries as nts\n",
    "%matplotlib qt"
   ]
  },
  {
   "cell_type": "code",
   "execution_count": 33,
   "metadata": {},
   "outputs": [],
   "source": [
    "path = '/mnt/electrophy/Billel/IntanTest/JackToRipples_211021_141229/'\n",
    "os.chdir(path)\n",
    "\n",
    "digital = bk.load.digitalin('digitalin.dat').T\n",
    "stim = digital[:,15]\n",
    "t_stim = bk.compute.TTL_to_intervals(stim)\n",
    "t_stim = nts.IntervalSet(t_stim[0],t_stim[1],time_units='s')\n"
   ]
  },
  {
   "cell_type": "code",
   "execution_count": 41,
   "metadata": {},
   "outputs": [
    {
     "data": {
      "text/plain": [
       "array([   7821.3 ,    7854.3 ,    7983.9 , ..., 1227509.05, 1228133.35,\n",
       "       1228775.65])"
      ]
     },
     "execution_count": 41,
     "metadata": {},
     "output_type": "execute_result"
    }
   ],
   "source": [
    "t_stim.as_units('s').values[:,0]*1000"
   ]
  },
  {
   "cell_type": "code",
   "execution_count": 3,
   "metadata": {},
   "outputs": [],
   "source": [
    "analog = np.memmap('analogin.dat',np.uint16)\n",
    "analog = analog.reshape(-1,2)"
   ]
  },
  {
   "cell_type": "code",
   "execution_count": 12,
   "metadata": {},
   "outputs": [
    {
     "data": {
      "text/plain": [
       "[<matplotlib.lines.Line2D at 0x7fcac188a850>]"
      ]
     },
     "execution_count": 12,
     "metadata": {},
     "output_type": "execute_result"
    }
   ],
   "source": [
    "t = np.arange(0,len(analog))/20000\n",
    "plt.plot(t,analog[:,0],'grey')\n",
    "plt.plot(t,analog[:,1],'red')\n",
    "bk.plot.intervals(t_stim)\n",
    "plt.plot(t,stim*4000)"
   ]
  },
  {
   "cell_type": "code",
   "execution_count": 8,
   "metadata": {},
   "outputs": [
    {
     "data": {
      "text/html": [
       "<div>\n",
       "<style scoped>\n",
       "    .dataframe tbody tr th:only-of-type {\n",
       "        vertical-align: middle;\n",
       "    }\n",
       "\n",
       "    .dataframe tbody tr th {\n",
       "        vertical-align: top;\n",
       "    }\n",
       "\n",
       "    .dataframe thead th {\n",
       "        text-align: right;\n",
       "    }\n",
       "</style>\n",
       "<table border=\"1\" class=\"dataframe\">\n",
       "  <thead>\n",
       "    <tr style=\"text-align: right;\">\n",
       "      <th></th>\n",
       "      <th>start</th>\n",
       "      <th>end</th>\n",
       "    </tr>\n",
       "  </thead>\n",
       "  <tbody>\n",
       "    <tr>\n",
       "      <th>0</th>\n",
       "      <td>7821300</td>\n",
       "      <td>7829000</td>\n",
       "    </tr>\n",
       "    <tr>\n",
       "      <th>1</th>\n",
       "      <td>7854300</td>\n",
       "      <td>7862000</td>\n",
       "    </tr>\n",
       "    <tr>\n",
       "      <th>2</th>\n",
       "      <td>7983900</td>\n",
       "      <td>7991600</td>\n",
       "    </tr>\n",
       "    <tr>\n",
       "      <th>3</th>\n",
       "      <td>8260800</td>\n",
       "      <td>8268499</td>\n",
       "    </tr>\n",
       "    <tr>\n",
       "      <th>4</th>\n",
       "      <td>9120000</td>\n",
       "      <td>9127700</td>\n",
       "    </tr>\n",
       "    <tr>\n",
       "      <th>...</th>\n",
       "      <td>...</td>\n",
       "      <td>...</td>\n",
       "    </tr>\n",
       "    <tr>\n",
       "      <th>2227</th>\n",
       "      <td>1227310150</td>\n",
       "      <td>1227317850</td>\n",
       "    </tr>\n",
       "    <tr>\n",
       "      <th>2228</th>\n",
       "      <td>1227336250</td>\n",
       "      <td>1227343950</td>\n",
       "    </tr>\n",
       "    <tr>\n",
       "      <th>2229</th>\n",
       "      <td>1227509050</td>\n",
       "      <td>1227516750</td>\n",
       "    </tr>\n",
       "    <tr>\n",
       "      <th>2230</th>\n",
       "      <td>1228133350</td>\n",
       "      <td>1228141050</td>\n",
       "    </tr>\n",
       "    <tr>\n",
       "      <th>2231</th>\n",
       "      <td>1228775650</td>\n",
       "      <td>1228783350</td>\n",
       "    </tr>\n",
       "  </tbody>\n",
       "</table>\n",
       "<p>2232 rows × 2 columns</p>\n",
       "</div>"
      ],
      "text/plain": [
       "           start         end\n",
       "0        7821300     7829000\n",
       "1        7854300     7862000\n",
       "2        7983900     7991600\n",
       "3        8260800     8268499\n",
       "4        9120000     9127700\n",
       "...          ...         ...\n",
       "2227  1227310150  1227317850\n",
       "2228  1227336250  1227343950\n",
       "2229  1227509050  1227516750\n",
       "2230  1228133350  1228141050\n",
       "2231  1228775650  1228783350\n",
       "\n",
       "[2232 rows x 2 columns]"
      ]
     },
     "execution_count": 8,
     "metadata": {},
     "output_type": "execute_result"
    }
   ],
   "source": [
    "t_stim"
   ]
  },
  {
   "cell_type": "code",
   "execution_count": 4,
   "metadata": {},
   "outputs": [],
   "source": [
    "def write_event_file(file,times,name):\n",
    "    with open(file,'w') as f:\n",
    "        for i,t in enumerate(times):\n",
    "            f.write(str(t*1000)+name+'\\n')\n",
    "    return True"
   ]
  },
  {
   "cell_type": "code",
   "execution_count": 30,
   "metadata": {},
   "outputs": [
    {
     "data": {
      "text/plain": [
       "0          7821300\n",
       "1          7854300\n",
       "2          7983900\n",
       "3          8260800\n",
       "4          9120000\n",
       "           ...    \n",
       "2227    1227310150\n",
       "2228    1227336250\n",
       "2229    1227509050\n",
       "2230    1228133350\n",
       "2231    1228775650\n",
       "Name: start, Length: 2232, dtype: int64"
      ]
     },
     "execution_count": 30,
     "metadata": {},
     "output_type": "execute_result"
    }
   ],
   "source": [
    "t_stim.start"
   ]
  },
  {
   "cell_type": "code",
   "execution_count": 45,
   "metadata": {},
   "outputs": [],
   "source": [
    "times = t_stim.as_units('s').values[:,0]"
   ]
  },
  {
   "cell_type": "code",
   "execution_count": 26,
   "metadata": {},
   "outputs": [],
   "source": [
    "times = np.int32(times)"
   ]
  },
  {
   "cell_type": "code",
   "execution_count": 47,
   "metadata": {},
   "outputs": [
    {
     "data": {
      "text/plain": [
       "True"
      ]
     },
     "execution_count": 47,
     "metadata": {},
     "output_type": "execute_result"
    }
   ],
   "source": [
    "write_event_file('stim.rip.evt',times,' Rip Detect')"
   ]
  },
  {
   "cell_type": "code",
   "execution_count": 13,
   "metadata": {},
   "outputs": [],
   "source": [
    "with open('test.dat','wb') as f:\n",
    "    f.write(analog.astype('int16'))"
   ]
  },
  {
   "cell_type": "code",
   "execution_count": 6,
   "metadata": {},
   "outputs": [],
   "source": [
    "analog = analog/8"
   ]
  },
  {
   "cell_type": "code",
   "execution_count": 32,
   "metadata": {},
   "outputs": [
    {
     "data": {
      "text/plain": [
       "array([[31874, 31909, 31933, ..., 31709, 31819, 31863],\n",
       "       [33351, 33162, 33219, ..., 33142, 33263, 33289]], dtype=uint16)"
      ]
     },
     "execution_count": 32,
     "metadata": {},
     "output_type": "execute_result"
    }
   ],
   "source": []
  },
  {
   "cell_type": "code",
   "execution_count": 7,
   "metadata": {},
   "outputs": [
    {
     "data": {
      "text/plain": [
       "[<matplotlib.lines.Line2D at 0x7fa1f4c54c70>,\n",
       " <matplotlib.lines.Line2D at 0x7fa1f4c54ca0>]"
      ]
     },
     "execution_count": 7,
     "metadata": {},
     "output_type": "execute_result"
    }
   ],
   "source": [
    "plt.plot(analog.astype(np.int16))"
   ]
  },
  {
   "cell_type": "code",
   "execution_count": 17,
   "metadata": {},
   "outputs": [
    {
     "data": {
      "text/plain": [
       "array([   7821.3 ,    7854.3 ,    7983.9 , ..., 1227509.05, 1228133.35,\n",
       "       1228775.65])"
      ]
     },
     "execution_count": 17,
     "metadata": {},
     "output_type": "execute_result"
    }
   ],
   "source": [
    "t_stim.as_units('s').start.values*1000"
   ]
  },
  {
   "cell_type": "code",
   "execution_count": null,
   "metadata": {},
   "outputs": [],
   "source": []
  },
  {
   "cell_type": "markdown",
   "metadata": {},
   "source": [
    "# REM Detector"
   ]
  },
  {
   "cell_type": "code",
   "execution_count": 2,
   "metadata": {},
   "outputs": [],
   "source": [
    "import numpy as np\n",
    "import matplotlib.pyplot as plt\n",
    "\n",
    "import time\n",
    "\n"
   ]
  },
  {
   "cell_type": "code",
   "execution_count": 3,
   "metadata": {},
   "outputs": [],
   "source": [
    "nChannels = 35"
   ]
  },
  {
   "cell_type": "code",
   "execution_count": 4,
   "metadata": {},
   "outputs": [],
   "source": [
    "path = '/mnt/record-01/Billel/Rat50/Rat50-20211024/Rat50_211024_145248/'\n",
    "os.chdir(path)"
   ]
  },
  {
   "cell_type": "code",
   "execution_count": 6,
   "metadata": {},
   "outputs": [
    {
     "name": "stderr",
     "output_type": "stream",
     "text": [
      "/tmp/ipykernel_53464/1465992241.py:1: MatplotlibDeprecationWarning: Passing the sharex parameter of subplots() positionally is deprecated since Matplotlib 3.3; the parameter will become keyword-only two minor releases later.\n",
      "  fig ,ax = plt.subplots(2,1,True)\n"
     ]
    },
    {
     "data": {
      "image/png": "[encoded data removed]",
      "text/plain": [
       "<Figure size 432x288 with 2 Axes>"
      ]
     },
     "metadata": {
      "needs_background": "light"
     },
     "output_type": "display_data"
    },
    {
     "data": {
      "image/png": "[encoded data removed]",
      "text/plain": [
       "<Figure size 432x288 with 2 Axes>"
      ]
     },
     "metadata": {
      "needs_background": "light"
     },
     "output_type": "display_data"
    },
    {
     "data": {
      "image/png": "[encoded data removed]",
      "text/plain": [
       "<Figure size 432x288 with 2 Axes>"
      ]
     },
     "metadata": {
      "needs_background": "light"
     },
     "output_type": "display_data"
    },
    {
     "data": {
      "image/png": "[encoded data removed]",
      "text/plain": [
       "<Figure size 432x288 with 2 Axes>"
      ]
     },
     "metadata": {
      "needs_background": "light"
     },
     "output_type": "display_data"
    },
    {
     "data": {
      "image/png": "[encoded data removed]",
      "text/plain": [
       "<Figure size 432x288 with 2 Axes>"
      ]
     },
     "metadata": {
      "needs_background": "light"
     },
     "output_type": "display_data"
    },
    {
     "data": {
      "image/png": "[encoded data removed]",
      "text/plain": [
       "<Figure size 432x288 with 2 Axes>"
      ]
     },
     "metadata": {
      "needs_background": "light"
     },
     "output_type": "display_data"
    },
    {
     "data": {
      "image/png": "[encoded data removed]",
      "text/plain": [
       "<Figure size 432x288 with 2 Axes>"
      ]
     },
     "metadata": {
      "needs_background": "light"
     },
     "output_type": "display_data"
    }
   ],
   "source": [
    "fig ,ax = plt.subplots(2,1,True)\n",
    "\n",
    "while True:\n",
    "    data = np.memmap('amplifier.dat',np.int16,mode = 'r').reshape(-1,nChannels)\n",
    "    plt.sca(ax[0])\n",
    "    plt.plot(data[-2*20_000:,[1,34]])\n",
    "    plt.draw()\n",
    "    plt.show()\n",
    "    time.sleep(1)\n",
    "    plt.clf()"
   ]
  },
  {
   "cell_type": "code",
   "execution_count": 119,
   "metadata": {},
   "outputs": [],
   "source": [
    "\n",
    "import numpy as np\n",
    "import matplotlib.pyplot as plt\n",
    "\n",
    "import scipy.signal\n",
    "from scipy.stats import zscore\n",
    "from matplotlib.animation import FuncAnimation\n",
    "\n",
    "import time\n",
    "\n",
    "%matplotlib qt\n",
    "\n",
    "fig, ax = plt.subplots(2,1)\n",
    "\n",
    "lfp_line, = ax[0].plot([], [], 'green')\n",
    "accel_line, = ax[0].plot([],[],'red')\n",
    "spec_line, = ax[1].plot([],[])\n",
    "peak_line = ax[1].axvline(0,color = 'red')\n",
    "nChannels = 35\n",
    "\n",
    "\n",
    "\n",
    "\n",
    "path = '/mnt/record-01/Billel/Rat50/Rat50-20211024/Rat50_211024_145248/'\n",
    "os.chdir(path)\n",
    "\n",
    "\n",
    "def init():\n",
    "    ax[0].set_xlim(4, 5)\n",
    "    ax[0].set_ylim(-8000,8000)\n",
    "    ax[1].set_xlim(0,20)\n",
    "    ax[1].set_ylim(0,75_000)\n",
    "    return True\n",
    "\n",
    "\n",
    "def update(frame):\n",
    "    \n",
    "    data = np.memmap('amplifier.dat',np.int16,mode = 'r').reshape(-1,nChannels)\n",
    "    lfp = data[-5*20_000:,1]\n",
    "    accel = data[-5*20_000:,34]\n",
    "\n",
    "    xdata = np.arange(0,5*20000)/20_000\n",
    "\n",
    "    f,sxx = scipy.signal.welch(lfp,fs = 20_000,nperseg=20000,noverlap=10000)\n",
    "    max_f = f[np.argmax(sxx)]\n",
    "\n",
    "    lfp_line.set_data(xdata, lfp-np.mean(lfp)+2000)\n",
    "    accel_line.set_data(xdata,accel-np.mean(accel)-2000)\n",
    "    spec_line.set_data(f,sxx)\n",
    "    peak_line.set_data([max_f]*5,np.linspace(0,75_000,5))\n",
    "\n",
    "    return True\n",
    "\n",
    "ani = FuncAnimation(fig, update, frames=True,\n",
    "                    init_func=init)\n",
    "plt.show()"
   ]
  },
  {
   "cell_type": "code",
   "execution_count": 66,
   "metadata": {},
   "outputs": [],
   "source": [
    "import time"
   ]
  },
  {
   "cell_type": "code",
   "execution_count": 89,
   "metadata": {},
   "outputs": [
    {
     "ename": "NameError",
     "evalue": "name 'f' is not defined",
     "output_type": "error",
     "traceback": [
      "\u001b[0;31m---------------------------------------------------------------------------\u001b[0m",
      "\u001b[0;31mNameError\u001b[0m                                 Traceback (most recent call last)",
      "\u001b[0;32m/tmp/ipykernel_53497/4058002314.py\u001b[0m in \u001b[0;36m<module>\u001b[0;34m\u001b[0m\n\u001b[0;32m----> 1\u001b[0;31m \u001b[0mf\u001b[0m\u001b[0;34m\u001b[0m\u001b[0;34m\u001b[0m\u001b[0m\n\u001b[0m",
      "\u001b[0;31mNameError\u001b[0m: name 'f' is not defined"
     ]
    }
   ],
   "source": [
    "f"
   ]
  },
  {
   "cell_type": "code",
   "execution_count": 106,
   "metadata": {},
   "outputs": [
    {
     "data": {
      "text/plain": [
       "[0, 0, 0, 0, 0]"
      ]
     },
     "execution_count": 106,
     "metadata": {},
     "output_type": "execute_result"
    }
   ],
   "source": [
    "[0]*5"
   ]
  },
  {
   "cell_type": "code",
   "execution_count": 111,
   "metadata": {},
   "outputs": [
    {
     "data": {
      "text/plain": [
       "(10,)"
      ]
     },
     "execution_count": 111,
     "metadata": {},
     "output_type": "execute_result"
    }
   ],
   "source": [
    "np.arange(0,50000,5000).shape"
   ]
  },
  {
   "cell_type": "code",
   "execution_count": 1,
   "metadata": {},
   "outputs": [],
   "source": [
    "import bk.load\n",
    "import bk.compute\n",
    "import bk.plot\n",
    "\n",
    "import matplotlib.pyplot as plt\n",
    "import scipy.signal\n",
    "\n",
    "%matplotlib qt"
   ]
  },
  {
   "cell_type": "code",
   "execution_count": 2,
   "metadata": {},
   "outputs": [
    {
     "name": "stdout",
     "output_type": "stream",
     "text": [
      "Rat : 50 on day : 1\n",
      "Working with session Rat50-20211024 @ /media/billel/DATA/BK-DATA/Rat50/Rat50-20211024\n"
     ]
    },
    {
     "data": {
      "text/plain": [
       "True"
      ]
     },
     "execution_count": 2,
     "metadata": {},
     "output_type": "execute_result"
    }
   ],
   "source": [
    "bk.load.current_session_linux('/media/billel/DATA/BK-DATA/','Rat50/Rat50-20211024')"
   ]
  },
  {
   "cell_type": "code",
   "execution_count": 3,
   "metadata": {},
   "outputs": [],
   "source": [
    "lfp = bk.load.lfp(1)\n",
    "accel = bk.load.lfp(34)"
   ]
  },
  {
   "cell_type": "code",
   "execution_count": 4,
   "metadata": {},
   "outputs": [],
   "source": [
    "digitalin = bk.load.digitalin().T"
   ]
  },
  {
   "cell_type": "code",
   "execution_count": 5,
   "metadata": {},
   "outputs": [],
   "source": [
    "stim = digitalin[:,4]"
   ]
  },
  {
   "cell_type": "code",
   "execution_count": 6,
   "metadata": {},
   "outputs": [],
   "source": [
    "stim_intervals = bk.compute.tone_intervals(stim)"
   ]
  },
  {
   "cell_type": "code",
   "execution_count": 7,
   "metadata": {},
   "outputs": [
    {
     "data": {
      "text/html": [
       "<div>\n",
       "<style scoped>\n",
       "    .dataframe tbody tr th:only-of-type {\n",
       "        vertical-align: middle;\n",
       "    }\n",
       "\n",
       "    .dataframe tbody tr th {\n",
       "        vertical-align: top;\n",
       "    }\n",
       "\n",
       "    .dataframe thead th {\n",
       "        text-align: right;\n",
       "    }\n",
       "</style>\n",
       "<table border=\"1\" class=\"dataframe\">\n",
       "  <thead>\n",
       "    <tr style=\"text-align: right;\">\n",
       "      <th></th>\n",
       "      <th>start</th>\n",
       "      <th>end</th>\n",
       "    </tr>\n",
       "  </thead>\n",
       "  <tbody>\n",
       "    <tr>\n",
       "      <th>0</th>\n",
       "      <td>499.44270</td>\n",
       "      <td>505.39190</td>\n",
       "    </tr>\n",
       "    <tr>\n",
       "      <th>1</th>\n",
       "      <td>979.98705</td>\n",
       "      <td>987.45075</td>\n",
       "    </tr>\n",
       "    <tr>\n",
       "      <th>2</th>\n",
       "      <td>1058.50845</td>\n",
       "      <td>1236.20280</td>\n",
       "    </tr>\n",
       "  </tbody>\n",
       "</table>\n",
       "</div>"
      ],
      "text/plain": [
       "        start         end\n",
       "0   499.44270   505.39190\n",
       "1   979.98705   987.45075\n",
       "2  1058.50845  1236.20280"
      ]
     },
     "execution_count": 7,
     "metadata": {},
     "output_type": "execute_result"
    }
   ],
   "source": [
    "stim_intervals.as_units('s')"
   ]
  },
  {
   "cell_type": "code",
   "execution_count": 8,
   "metadata": {},
   "outputs": [
    {
     "name": "stderr",
     "output_type": "stream",
     "text": [
      "/tmp/ipykernel_65462/2387561777.py:1: MatplotlibDeprecationWarning: Passing the sharex parameter of subplots() positionally is deprecated since Matplotlib 3.3; the parameter will become keyword-only two minor releases later.\n",
      "  fig,ax = plt.subplots(3,1,True)\n",
      "/tmp/ipykernel_65462/2387561777.py:8: UserWarning: shading value 'gourault' not in list of valid values ['gouraud', 'nearest', 'flat', 'auto']. Setting shading='auto'.\n",
      "  ax[2].pcolor(t,f,sxx,shading = 'gourault')\n"
     ]
    },
    {
     "data": {
      "text/plain": [
       "(0.0, 20.0)"
      ]
     },
     "execution_count": 8,
     "metadata": {},
     "output_type": "execute_result"
    }
   ],
   "source": [
    "fig,ax = plt.subplots(3,1,True)\n",
    "plt.sca(ax[0])\n",
    "ax[0].plot(lfp.as_units('s'))\n",
    "bk.plot.intervals(stim_intervals)\n",
    "ax[1].plot(accel.as_units('s'))\n",
    "\n",
    "f,t,sxx = scipy.signal.spectrogram(lfp.values,1250,nperseg=5000,noverlap=2500)\n",
    "ax[2].pcolor(t,f,sxx,shading = 'gourault')\n",
    "ax[2].set_ylim(0,20)"
   ]
  },
  {
   "cell_type": "code",
   "execution_count": 18,
   "metadata": {},
   "outputs": [
    {
     "data": {
      "text/plain": [
       "Time (s)\n",
       "0.0000     0\n",
       "0.0008     0\n",
       "0.0016     0\n",
       "0.0024     0\n",
       "0.0032     0\n",
       "          ..\n",
       "36.6024    0\n",
       "36.6032    0\n",
       "36.6040    0\n",
       "36.6048    0\n",
       "36.6056    0\n",
       "Length: 45758, dtype: int16"
      ]
     },
     "execution_count": 18,
     "metadata": {},
     "output_type": "execute_result"
    }
   ],
   "source": [
    "lfp.as_units('s')"
   ]
  },
  {
   "cell_type": "code",
   "execution_count": 9,
   "metadata": {},
   "outputs": [],
   "source": [
    "import matplotlib.pyplot as plt"
   ]
  },
  {
   "cell_type": "code",
   "execution_count": 15,
   "metadata": {},
   "outputs": [],
   "source": [
    "a = plt.bar([0,1],[5,10])"
   ]
  },
  {
   "cell_type": "code",
   "execution_count": 16,
   "metadata": {},
   "outputs": [
    {
     "data": {
      "text/plain": [
       "<BarContainer object of 2 artists>"
      ]
     },
     "execution_count": 16,
     "metadata": {},
     "output_type": "execute_result"
    }
   ],
   "source": [
    "f = [1,2,3,4,5,6,7,8,9,10]"
   ]
  },
  {
   "cell_type": "code",
   "execution_count": 24,
   "metadata": {},
   "outputs": [
    {
     "data": {
      "text/plain": [
       "array([False, False, False, ..., False, False, False])"
      ]
     },
     "execution_count": 24,
     "metadata": {},
     "output_type": "execute_result"
    }
   ],
   "source": [
    "((f>5) *(f<10))"
   ]
  },
  {
   "cell_type": "code",
   "execution_count": null,
   "metadata": {},
   "outputs": [],
   "source": [
    "scipy.signal.spectrogram()"
   ]
  },
  {
   "cell_type": "code",
   "execution_count": 44,
   "metadata": {},
   "outputs": [],
   "source": [
    "import numpy as np\n",
    "import bk.load\n",
    "\n",
    "from scipy.stats import cumfreq"
   ]
  },
  {
   "cell_type": "code",
   "execution_count": 29,
   "metadata": {},
   "outputs": [
    {
     "name": "stdout",
     "output_type": "stream",
     "text": [
      "Rat : 8 on day : 6\n",
      "Working with session Rat08-20130713 @ /home/billel/Data/GG-Dataset/Rat08/Rat08-20130713\n"
     ]
    },
    {
     "data": {
      "text/plain": [
       "True"
      ]
     },
     "execution_count": 29,
     "metadata": {},
     "output_type": "execute_result"
    }
   ],
   "source": [
    "bk.load.current_session_linux()"
   ]
  },
  {
   "cell_type": "code",
   "execution_count": 30,
   "metadata": {},
   "outputs": [],
   "source": [
    "rip = bk.load.ripples()"
   ]
  },
  {
   "cell_type": "code",
   "execution_count": 31,
   "metadata": {},
   "outputs": [],
   "source": [
    "rip = rip['peak'].as_units('s')"
   ]
  },
  {
   "cell_type": "code",
   "execution_count": 33,
   "metadata": {},
   "outputs": [],
   "source": [
    "rip = rip.index"
   ]
  },
  {
   "cell_type": "code",
   "execution_count": 36,
   "metadata": {},
   "outputs": [],
   "source": [
    "rip = rip.values"
   ]
  },
  {
   "cell_type": "code",
   "execution_count": 53,
   "metadata": {},
   "outputs": [
    {
     "data": {
      "text/plain": [
       "[<matplotlib.lines.Line2D at 0x7f707309cb50>]"
      ]
     },
     "execution_count": 53,
     "metadata": {},
     "output_type": "execute_result"
    }
   ],
   "source": [
    "t = np.arange(0,len(rip))\n",
    "plt.plot(rip,t)"
   ]
  },
  {
   "cell_type": "code",
   "execution_count": 64,
   "metadata": {},
   "outputs": [],
   "source": [
    "a = cumfreq(rip,21800)"
   ]
  },
  {
   "cell_type": "code",
   "execution_count": 65,
   "metadata": {},
   "outputs": [
    {
     "data": {
      "text/plain": [
       "[<matplotlib.lines.Line2D at 0x7f707123eee0>]"
      ]
     },
     "execution_count": 65,
     "metadata": {},
     "output_type": "execute_result"
    }
   ],
   "source": [
    "plt.plot(a.cumcount)"
   ]
  },
  {
   "cell_type": "code",
   "execution_count": 49,
   "metadata": {},
   "outputs": [
    {
     "data": {
      "text/plain": [
       "CumfreqResult(cumcount=array([ 530., 1503., 2218., 2985., 2985., 2985., 3423., 4569., 5426.,\n",
       "       5808.]), lowerlimit=316.2244444444443, binsize=2265.792711111111, extrapoints=0)"
      ]
     },
     "execution_count": 49,
     "metadata": {},
     "output_type": "execute_result"
    }
   ],
   "source": [
    "a"
   ]
  },
  {
   "cell_type": "code",
   "execution_count": 68,
   "metadata": {},
   "outputs": [
    {
     "data": {
      "text/plain": [
       "[<matplotlib.lines.Line2D at 0x7f70711e8970>]"
      ]
     },
     "execution_count": 68,
     "metadata": {},
     "output_type": "execute_result"
    }
   ],
   "source": [
    "plt.plot(rip,t)\n",
    "plt.plot(a.cumcount)"
   ]
  },
  {
   "cell_type": "code",
   "execution_count": 57,
   "metadata": {},
   "outputs": [
    {
     "data": {
      "text/plain": [
       "21841.2552"
      ]
     },
     "execution_count": 57,
     "metadata": {},
     "output_type": "execute_result"
    }
   ],
   "source": [
    "rip[-1]"
   ]
  },
  {
   "cell_type": "code",
   "execution_count": 69,
   "metadata": {},
   "outputs": [
    {
     "data": {
      "text/plain": [
       "array([   0,    1,    2, ..., 5805, 5806, 5807])"
      ]
     },
     "execution_count": 69,
     "metadata": {},
     "output_type": "execute_result"
    }
   ],
   "source": [
    "t"
   ]
  },
  {
   "cell_type": "code",
   "execution_count": 126,
   "metadata": {},
   "outputs": [],
   "source": [
    "class Employee:\n",
    "    def __init__(self,name,age,level,salary):\n",
    "        self.name = name\n",
    "        self.age = age\n",
    "        self.level = level\n",
    "        self._salary = salary\n",
    "\n",
    "        self.is_working = False\n",
    "\n",
    "    def work(self):\n",
    "        if not self.is_working:\n",
    "            self.is_working = True\n",
    "            print(f'{self.name} is set to work')\n",
    "        else:\n",
    "            print(f'{self.name} is already working')\n",
    "    \n",
    "class Designer(Employee):\n",
    "    pass \n",
    "\n",
    "class SoftwareEngineer(Employee):\n",
    "    pass"
   ]
  },
  {
   "cell_type": "code",
   "execution_count": 127,
   "metadata": {},
   "outputs": [],
   "source": [
    "se1 = SoftwareEngineer('Bill',18,1,75000)\n",
    "se2 = SoftwareEngineer('Yas',18,1,75000)\n",
    "\n",
    "de1 = Designer('Yaka',17,0,700)"
   ]
  },
  {
   "cell_type": "code",
   "execution_count": 130,
   "metadata": {},
   "outputs": [
    {
     "data": {
      "text/plain": [
       "500"
      ]
     },
     "execution_count": 130,
     "metadata": {},
     "output_type": "execute_result"
    }
   ],
   "source": [
    "se1._salary"
   ]
  },
  {
   "cell_type": "code",
   "execution_count": 125,
   "metadata": {},
   "outputs": [
    {
     "name": "stdout",
     "output_type": "stream",
     "text": [
      "Bill is already working\n"
     ]
    }
   ],
   "source": [
    "se1.work()"
   ]
  },
  {
   "cell_type": "code",
   "execution_count": 112,
   "metadata": {},
   "outputs": [
    {
     "name": "stdout",
     "output_type": "stream",
     "text": [
      "Yaka\n",
      "17\n"
     ]
    }
   ],
   "source": [
    "de1.resume()"
   ]
  },
  {
   "cell_type": "code",
   "execution_count": 95,
   "metadata": {},
   "outputs": [
    {
     "data": {
      "text/plain": [
       "5"
      ]
     },
     "execution_count": 95,
     "metadata": {},
     "output_type": "execute_result"
    }
   ],
   "source": [
    "se1 == se2"
   ]
  },
  {
   "cell_type": "code",
   "execution_count": 96,
   "metadata": {},
   "outputs": [
    {
     "name": "stdout",
     "output_type": "stream",
     "text": [
      "Bill\n",
      "18\n"
     ]
    }
   ],
   "source": [
    "se1.resume()"
   ]
  },
  {
   "cell_type": "code",
   "execution_count": 81,
   "metadata": {},
   "outputs": [
    {
     "data": {
      "text/plain": [
       "True"
      ]
     },
     "execution_count": 81,
     "metadata": {},
     "output_type": "execute_result"
    }
   ],
   "source": [
    "se1 == se2"
   ]
  },
  {
   "cell_type": "code",
   "execution_count": null,
   "metadata": {},
   "outputs": [],
   "source": []
  }
 ],
 "metadata": {
  "interpreter": {
   "hash": "dc93b3fb48dfd2593d4a40b397dc62a97606514bfa701f6565ff70ef36514844"
  },
  "kernelspec": {
   "display_name": "Python 3.7.9 64-bit ('base': conda)",
   "name": "python3"
  },
  "language_info": {
   "codemirror_mode": {
    "name": "ipython",
    "version": 3
   },
   "file_extension": ".py",
   "mimetype": "text/x-python",
   "name": "python",
   "nbconvert_exporter": "python",
   "pygments_lexer": "ipython3",
   "version": "3.9.7 (default, Sep 16 2021, 13:09:58) \n[GCC 7.5.0]"
  },
  "orig_nbformat": 4
 },
 "nbformat": 4,
 "nbformat_minor": 2
}
