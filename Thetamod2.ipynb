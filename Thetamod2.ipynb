{
 "cells": [
  {
   "cell_type": "code",
   "execution_count": 1,
   "id": "2e81622c",
   "metadata": {},
   "outputs": [],
   "source": [
    "import os\n",
    "import neuroseries as nts\n",
    "import astropy.stats as apy\n",
    "\n",
    "import bk.load\n",
    "import bk.compute\n",
    "import bk.plot\n",
    "import bk.signal\n",
    "import bk.io\n",
    "\n",
    "import pandas as pd\n",
    "import numpy as np\n",
    "import scipy as sp\n",
    "\n",
    "import matplotlib.pyplot as plt\n",
    "from tqdm import tqdm\n",
    "import scipy.signal\n",
    "import scipy.stats"
   ]
  },
  {
   "cell_type": "code",
   "execution_count": 2,
   "id": "cddc3b21",
   "metadata": {},
   "outputs": [],
   "source": [
    "def concentration(angles):\n",
    "    '''\n",
    "    Compute the kappa parameter Uses the approximation described in \"Statistical Analysis of Circular Data\" (Fisher, p. 88).\n",
    "    Translated from MATLAB fmatoolbox.sourceforge.net/Contents/FMAToolbox/General/Concentration.html\n",
    "    angles : radian\n",
    "\n",
    "    Copyright (C) 2004-2011 by Michaël Zugaro\n",
    "    Copyright (C) 2021 by Billel KHOUADER\n",
    "\n",
    "    '''\n",
    "    n = len(angles)\n",
    "    angles = np.exp(1j * angles)  # Complex form of the angles\n",
    "    r = abs(np.mean(angles))\n",
    "\n",
    "    if r < 0.53:\n",
    "        k = 2 * r + r**3 + 5*r**(5/6)\n",
    "    elif r < 0.85:\n",
    "        k = -0.4 + 1.39 * r + 0.43 / (1-r)\n",
    "    else:\n",
    "        k = 1/(r**3 - 4 * r**2 + 3*r)\n",
    "\n",
    "    # Correction for very small samples\n",
    "\n",
    "    if n <= 15:\n",
    "        if k < 2:\n",
    "            k = np.max([(k-2)/(n*k), 0])\n",
    "        else:\n",
    "            k = (n-1)**3 * k / (n**3+n)\n",
    "\n",
    "    return k\n",
    "\n",
    "\n",
    "def mean_resultant_length(angles):\n",
    "    angles = np.exp(1j*angles)\n",
    "    return np.abs(np.mean(angles))"
   ]
  },
  {
   "cell_type": "code",
   "execution_count": 3,
   "id": "b1103abc",
   "metadata": {},
   "outputs": [],
   "source": [
    "def pcc(neuron_phase):\n",
    "\n",
    "    if isinstance(neuron_phase,nts.Tsd):\n",
    "        neuron_phase = neuron_phase.values.astype(np.float16)\n",
    "\n",
    "    pcc = neuron_phase[None,:] - neuron_phase[:,None]\n",
    "    pcc[np.diag_indices_from(pcc)] = np.nan\n",
    "    pcc = np.cos(pcc)\n",
    "    return np.nanmean(pcc,0).mean()\n"
   ]
  },
  {
   "cell_type": "code",
   "execution_count": 4,
   "metadata": {},
   "outputs": [],
   "source": [
    "def thetamod(local_path, **args):\n",
    "    bk.load.current_session_linux(\n",
    "        base_folder='/mnt/electrophy/Gabrielle/GG-Dataset', local_path=local_path)\n",
    "    states = bk.load.states()\n",
    "    print('Loading LFPs')\n",
    "    lfp = bk.load.lfp_in_intervals(bk.load.ripple_channel(), states['Rem'])\n",
    "    lfp_filt = bk.signal.passband(lfp, 60, 85)\n",
    "    power, phase = bk.signal.hilbert(lfp_filt)\n",
    "\n",
    "    neurons, metadata = bk.load.spikes()\n",
    "    print(os.getcwd())\n",
    "\n",
    "    neurons_phase = []\n",
    "    neurons_rem_fr = []\n",
    "    for i, n in tqdm(enumerate(neurons)):\n",
    "        neurons_phase.append(phase.realign(n.restrict(states['Rem'])))\n",
    "        neurons_rem_fr.append(\n",
    "            len(n.restrict(states['Rem']))/states['Rem'].tot_length(time_units='s'))\n",
    "\n",
    "    pvalues = []\n",
    "    kappas = []\n",
    "    modulated = []\n",
    "    MRLs = []\n",
    "    pccs = []\n",
    "    for i, p in tqdm(enumerate(neurons_phase)):\n",
    "        pvalue = apy.rayleightest(p.values)\n",
    "        pvalues.append(pvalue)\n",
    "\n",
    "        kappa = concentration(p.values)\n",
    "        kappas.append(kappa)\n",
    "\n",
    "        MRL = mean_resultant_length(p.values)\n",
    "        MRLs.append(MRL)\n",
    "\n",
    "        phase_consist = pcc(p)\n",
    "        pccs.append(phase_consist)\n",
    "        if (pvalue < 0.01) and MRL > 0.04:\n",
    "            modulated.append(True)\n",
    "        else:\n",
    "            modulated.append(False)\n",
    "\n",
    "    phase_lock = pd.DataFrame({'FR_Rem': neurons_rem_fr,\n",
    "                               'MRL': MRLs,\n",
    "                               'Kappa': kappas,\n",
    "                               'pValue': pvalues,\n",
    "                               'PPC':pccs,\n",
    "                               'modulated': modulated})\n",
    "\n",
    "    # pvalues = pd.DataFrame(pvalues, columns=['pValue'])\n",
    "    # FRRem = pd.DataFrame(neurons_rem_fr, columns=['FRRem'])\n",
    "\n",
    "    phase_lock = pd.concat([metadata, phase_lock], axis=1)\n",
    "\n",
    "    # try:\n",
    "        # os.makedirs(f'Analysis/Thetamod')\n",
    "        # os.makedirs(f'/media/billel/DATA/Test/{bk.load.session}')\n",
    "    # except:\n",
    "        # print('Already Exist')\n",
    "    # phase_lock.to_csv(\n",
    "    #     f'Analysis/Thetamod/{bk.load.session}-theta_mod.csv', index=False)\n",
    "\n",
    "    # for i in range(len(neurons)):\n",
    "    #     fig, ax = plt.subplot_mosaic('''\n",
    "    #                                 A.\n",
    "    #                                 BC\n",
    "    #                                 ''',\n",
    "    #                                  figsize=(12, 8))\n",
    "    #     fig.set_visible = False\n",
    "    #     polar_ax = fig.add_subplot(2, 2, 2, polar=True)\n",
    "    #     ax['A'].plot(lfp.as_units('s'))\n",
    "    #     ax['A'].plot(lfp_filt.as_units('s'))\n",
    "    #     plt.sca(ax['A'])\n",
    "    #     bk.plot.intervals(states['Rem'], time_units='s')\n",
    "    #     ax['B'].plot(phase.as_units('s'))\n",
    "    #     ax['B'].plot(neurons_phase[i].as_units('s'), 'ro')\n",
    "\n",
    "    #     h, a = np.histogram(neurons_phase[i].values, 50)\n",
    "    #     a = np.convolve(a, [.5, .5], 'same')[1::]\n",
    "\n",
    "    #     ax['C'].bar(a, h, a[1]-a[0], color='lightblue')\n",
    "    #     ax['C'].bar(a+2*np.pi, h, a[1]-a[0], color='lightblue')\n",
    "\n",
    "    # #     ax['C'].bar(neurons_phase[i].values+(2*np.pi),50,'blue')\n",
    "\n",
    "    #     ax['A'].get_shared_x_axes().join(ax['A'], ax['B'])\n",
    "    #     polar_ax.bar(a, h, a[1]-a[0])\n",
    "\n",
    "    #     ax['A'].set_title('LFP')\n",
    "    #     ax['A'].set_ylim([-500, 500])\n",
    "    #     ax['A'].set_xlabel('Time (s)')\n",
    "    #     ax['A'].set_ylabel('Amplitude')\n",
    "\n",
    "    #     ax['B'].set_title('Phase And Spikes')\n",
    "    #     ax['B'].set_xlabel('Time (s)')\n",
    "    #     ax['B'].set_ylabel('Phase (rad)')\n",
    "    #     polar_ax.set_title('PolarPlot')\n",
    "\n",
    "    #     ax['C'].set_title('Histogram')\n",
    "    #     ax['C'].set_xlabel('Phase (rad)')\n",
    "    #     ax['C'].set_ylabel('Spike Count')\n",
    "\n",
    "    #     if phase_lock.modulated[i]:\n",
    "    #         fig.set_facecolor('lightgreen')\n",
    "\n",
    "    #     plt.suptitle(\n",
    "    #         f'Neuron #{i},Region = {phase_lock.Region[i]}, Type = {phase_lock.Type[i]}  \\nFR_Rem = {phase_lock.FR_Rem[i]} Hz \\npValue = {phase_lock.pValue[i]} \\n MRL = {phase_lock.MRL[i]}, Kappa = {phase_lock.Kappa[i]} \\n Modulated : {phase_lock.modulated[i]}')\n",
    "    #     plt.tight_layout()\n",
    "\n",
    "    #     plt.savefig(\n",
    "    #         f'/media/billel/DATA/Test/{bk.load.session}/Neuron#{i}-{metadata.Shank[i]}-{metadata.Id[i]}.png')\n",
    "    #     print(f'Saved Analysis/ThetaMod/Neuron#{i}-{metadata.Shank[i]}-{metadata.Id[i]}.png')\n",
    "    #     fig.clear()\n",
    "    #     plt.close(fig)\n",
    "\n",
    "    del lfp, lfp_filt, neurons, neurons_phase\n",
    "    return phase_lock\n"
   ]
  },
  {
   "cell_type": "code",
   "execution_count": 5,
   "id": "1fe8ca1f",
   "metadata": {},
   "outputs": [
    {
     "name": "stdout",
     "output_type": "stream",
     "text": [
      "Rat : 8 on day : 6\n",
      "Working with session Rat08-20130713 @ /mnt/electrophy/Gabrielle/GG-Dataset/Rat08/Rat08-20130713\n",
      "Loading LFPs\n",
      "Data already saved in Numpy format, loading them from here:\n",
      "Rat08-20130713-neurons.npy\n",
      "Rat08-20130713-metadata.npy\n",
      "/mnt/electrophy/Gabrielle/GG-Dataset/Rat08/Rat08-20130713\n"
     ]
    },
    {
     "name": "stderr",
     "output_type": "stream",
     "text": [
      "252it [00:03, 69.21it/s]\n",
      "252it [06:50,  1.63s/it]\n"
     ]
    }
   ],
   "source": [
    "phase_lock = thetamod('Rat08/Rat08-20130713')"
   ]
  },
  {
   "cell_type": "code",
   "execution_count": 7,
   "id": "601d75b6",
   "metadata": {},
   "outputs": [],
   "source": [
    "def gammamod(local_path, **args):\n",
    "    bk.load.current_session_linux(\n",
    "        base_folder='/mnt/electrophy/Gabrielle/GG-Dataset', local_path=local_path)\n",
    "    states = bk.load.states()\n",
    "    print('Loading LFPs')\n",
    "    lfp = bk.load.lfp_in_intervals(bk.load.random_channel('BLA'), states['Rem'])\n",
    "    lfp_filt = bk.signal.passband(lfp, 60, 85)\n",
    "    power, phase = bk.signal.hilbert(lfp_filt)\n",
    "\n",
    "    neurons, metadata = bk.load.spikes()\n",
    "    print(os.getcwd())\n",
    "\n",
    "    neurons_phase = []\n",
    "    neurons_rem_fr = []\n",
    "    for i, n in tqdm(enumerate(neurons)):\n",
    "        neurons_phase.append(phase.realign(n.restrict(states['Rem'])))\n",
    "        neurons_rem_fr.append(\n",
    "            len(n.restrict(states['Rem']))/states['Rem'].tot_length(time_units='s'))\n",
    "\n",
    "    pvalues = []\n",
    "    kappas = []\n",
    "    modulated = []\n",
    "    MRLs = []\n",
    "    pccs = []\n",
    "    for i, p in tqdm(enumerate(neurons_phase)):\n",
    "        pvalue = apy.rayleightest(p.values)\n",
    "        pvalues.append(pvalue)\n",
    "\n",
    "        kappa = concentration(p.values)\n",
    "        kappas.append(kappa)\n",
    "\n",
    "        MRL = mean_resultant_length(p.values)\n",
    "        MRLs.append(MRL)\n",
    "\n",
    "        phase_consist = pcc(p)\n",
    "        pccs.append(phase_consist)\n",
    "        if (pvalue < 0.01) and MRL > 0.04:\n",
    "            modulated.append(True)\n",
    "        else:\n",
    "            modulated.append(False)\n",
    "\n",
    "    phase_lock = pd.DataFrame({'FR_Rem': neurons_rem_fr,\n",
    "                               'MRL': MRLs,\n",
    "                               'Kappa': kappas,\n",
    "                               'pValue': pvalues,\n",
    "                               'PPC':pccs,\n",
    "                               'modulated': modulated})\n",
    "\n",
    "    # pvalues = pd.DataFrame(pvalues, columns=['pValue'])\n",
    "    # FRRem = pd.DataFrame(neurons_rem_fr, columns=['FRRem'])\n",
    "\n",
    "    phase_lock = pd.concat([metadata, phase_lock], axis=1)\n",
    "\n",
    "    # try:\n",
    "        # os.makedirs(f'Analysis/Thetamod')\n",
    "        # os.makedirs(f'/media/billel/DATA/Test/{bk.load.session}')\n",
    "    # except:\n",
    "        # print('Already Exist')\n",
    "    # phase_lock.to_csv(\n",
    "    #     f'Analysis/Thetamod/{bk.load.session}-theta_mod.csv', index=False)\n",
    "\n",
    "    # for i in range(len(neurons)):\n",
    "    #     fig, ax = plt.subplot_mosaic('''\n",
    "    #                                 A.\n",
    "    #                                 BC\n",
    "    #                                 ''',\n",
    "    #                                  figsize=(12, 8))\n",
    "    #     fig.set_visible = False\n",
    "    #     polar_ax = fig.add_subplot(2, 2, 2, polar=True)\n",
    "    #     ax['A'].plot(lfp.as_units('s'))\n",
    "    #     ax['A'].plot(lfp_filt.as_units('s'))\n",
    "    #     plt.sca(ax['A'])\n",
    "    #     bk.plot.intervals(states['Rem'], time_units='s')\n",
    "    #     ax['B'].plot(phase.as_units('s'))\n",
    "    #     ax['B'].plot(neurons_phase[i].as_units('s'), 'ro')\n",
    "\n",
    "    #     h, a = np.histogram(neurons_phase[i].values, 50)\n",
    "    #     a = np.convolve(a, [.5, .5], 'same')[1::]\n",
    "\n",
    "    #     ax['C'].bar(a, h, a[1]-a[0], color='lightblue')\n",
    "    #     ax['C'].bar(a+2*np.pi, h, a[1]-a[0], color='lightblue')\n",
    "\n",
    "    # #     ax['C'].bar(neurons_phase[i].values+(2*np.pi),50,'blue')\n",
    "\n",
    "    #     ax['A'].get_shared_x_axes().join(ax['A'], ax['B'])\n",
    "    #     polar_ax.bar(a, h, a[1]-a[0])\n",
    "\n",
    "    #     ax['A'].set_title('LFP')\n",
    "    #     ax['A'].set_ylim([-500, 500])\n",
    "    #     ax['A'].set_xlabel('Time (s)')\n",
    "    #     ax['A'].set_ylabel('Amplitude')\n",
    "\n",
    "    #     ax['B'].set_title('Phase And Spikes')\n",
    "    #     ax['B'].set_xlabel('Time (s)')\n",
    "    #     ax['B'].set_ylabel('Phase (rad)')\n",
    "    #     polar_ax.set_title('PolarPlot')\n",
    "\n",
    "    #     ax['C'].set_title('Histogram')\n",
    "    #     ax['C'].set_xlabel('Phase (rad)')\n",
    "    #     ax['C'].set_ylabel('Spike Count')\n",
    "\n",
    "    #     if phase_lock.modulated[i]:\n",
    "    #         fig.set_facecolor('lightgreen')\n",
    "\n",
    "    #     plt.suptitle(\n",
    "    #         f'Neuron #{i},Region = {phase_lock.Region[i]}, Type = {phase_lock.Type[i]}  \\nFR_Rem = {phase_lock.FR_Rem[i]} Hz \\npValue = {phase_lock.pValue[i]} \\n MRL = {phase_lock.MRL[i]}, Kappa = {phase_lock.Kappa[i]} \\n Modulated : {phase_lock.modulated[i]}')\n",
    "    #     plt.tight_layout()\n",
    "\n",
    "    #     plt.savefig(\n",
    "    #         f'/media/billel/DATA/Test/{bk.load.session}/Neuron#{i}-{metadata.Shank[i]}-{metadata.Id[i]}.png')\n",
    "    #     print(f'Saved Analysis/ThetaMod/Neuron#{i}-{metadata.Shank[i]}-{metadata.Id[i]}.png')\n",
    "    #     fig.clear()\n",
    "    #     plt.close(fig)\n",
    "\n",
    "    del lfp, lfp_filt, neurons, neurons_phase\n",
    "    return phase_lock\n"
   ]
  },
  {
   "cell_type": "code",
   "execution_count": 8,
   "id": "d326d488",
   "metadata": {},
   "outputs": [
    {
     "name": "stdout",
     "output_type": "stream",
     "text": [
      "Rat : 8 on day : 6\n",
      "Working with session Rat08-20130713 @ /mnt/electrophy/Gabrielle/GG-Dataset/Rat08/Rat08-20130713\n",
      "Loading LFPs\n",
      "Data already saved in Numpy format, loading them from here:\n",
      "Rat08-20130713-neurons.npy\n",
      "Rat08-20130713-metadata.npy\n",
      "/mnt/electrophy/Gabrielle/GG-Dataset/Rat08/Rat08-20130713\n"
     ]
    },
    {
     "name": "stderr",
     "output_type": "stream",
     "text": [
      "252it [00:03, 68.75it/s]\n",
      "84it [01:20,  3.54s/it]"
     ]
    }
   ],
   "source": [
    "phase_lock = gammamod('Rat08/Rat08-20130713')"
   ]
  },
  {
   "cell_type": "code",
   "execution_count": null,
   "id": "5d648a7a",
   "metadata": {},
   "outputs": [],
   "source": [
    "phase_lock"
   ]
  },
  {
   "cell_type": "code",
   "execution_count": 24,
   "id": "e36afec9",
   "metadata": {},
   "outputs": [],
   "source": [
    "import seaborn as sns\n",
    "%matplotlib qt\n",
    "\n",
    "stru =  ['Hpc','BLA']\n",
    "\n",
    "fig,ax = plt.subplots(1,2)\n",
    "\n",
    "for i,s in enumerate(stru):\n",
    "    plt.sca(ax[i])\n",
    "    sns.scatterplot(data = phase_lock[phase_lock.Region == s],y = 'MRL',x = 'PPC',hue = 'modulated',palette='viridis')\n",
    "    plt.xlim(0,0.4)\n",
    "    plt.ylim(0,0.7)\n",
    "    plt.title(s)\n",
    "plt.tight_layout()\n"
   ]
  },
  {
   "cell_type": "code",
   "execution_count": 25,
   "id": "9692d4c3",
   "metadata": {},
   "outputs": [
    {
     "data": {
      "text/plain": [
       "81"
      ]
     },
     "execution_count": 25,
     "metadata": {},
     "output_type": "execute_result"
    }
   ],
   "source": [
    "np.argmax(phase_lock[phase_lock.Region == 'BLA'].MRL)"
   ]
  },
  {
   "cell_type": "code",
   "execution_count": 28,
   "id": "ab93e3ed",
   "metadata": {},
   "outputs": [
    {
     "data": {
      "text/plain": [
       "Rat                 8\n",
       "Day                 6\n",
       "Shank              18\n",
       "Id                 15\n",
       "Region            BLA\n",
       "Type              Pyr\n",
       "FR_Rem       0.041333\n",
       "MRL          0.183889\n",
       "Kappa        1.593262\n",
       "pValue       0.036375\n",
       "PPC          0.023819\n",
       "modulated       False\n",
       "Name: 239, dtype: object"
      ]
     },
     "execution_count": 28,
     "metadata": {},
     "output_type": "execute_result"
    }
   ],
   "source": [
    "phase_lock[phase_lock.Region == 'BLA'].iloc[81]"
   ]
  },
  {
   "cell_type": "code",
   "execution_count": 9,
   "id": "b472526e",
   "metadata": {},
   "outputs": [
    {
     "data": {
      "text/plain": [
       "61567"
      ]
     },
     "execution_count": 9,
     "metadata": {},
     "output_type": "execute_result"
    }
   ],
   "source": [
    "len(neurons[84])"
   ]
  },
  {
   "cell_type": "code",
   "execution_count": 4,
   "id": "439c0598",
   "metadata": {},
   "outputs": [
    {
     "name": "stdout",
     "output_type": "stream",
     "text": [
      "()\n"
     ]
    },
    {
     "name": "stderr",
     "output_type": "stream",
     "text": [
      "  0%|          | 0/61 [00:00<?, ?it/s]"
     ]
    },
    {
     "name": "stdout",
     "output_type": "stream",
     "text": [
      "Loading Data from Rat08-20130708\n",
      "Rat : 8 on day : 1\n",
      "Working with session Rat08-20130708 @ /mnt/electrophy/Gabrielle/GG-Dataset/Rat08/Rat08-20130708\n",
      "Loading LFPs\n"
     ]
    }
   ],
   "source": [
    "%matplotlib Agg\n",
    "b = bk.load.batch(thetamod,linux = True)"
   ]
  },
  {
   "cell_type": "code",
   "execution_count": 5,
   "id": "2910cd1e",
   "metadata": {},
   "outputs": [],
   "source": [
    "all_thetamod = []\n",
    "for session,data in b.items():\n",
    "    if np.any(data): all_thetamod.append(data)\n",
    "\n",
    "all_thetamod = pd.concat(all_thetamod)\n",
    "all_thetamod.to_csv(f'{bk.load.base}/All-Rats/Billel/thetamod.csv',index = False)"
   ]
  },
  {
   "cell_type": "code",
   "execution_count": 36,
   "id": "020a0c8f",
   "metadata": {},
   "outputs": [
    {
     "name": "stdout",
     "output_type": "stream",
     "text": [
      "Analysis/Thetamod/Rat10-20140703-theta_mod.csv\n",
      "Could not find the requested analysis file\n"
     ]
    },
    {
     "ename": "SyntaxError",
     "evalue": "'return' outside function (2348186710.py, line 9)",
     "output_type": "error",
     "traceback": [
      "\u001b[0;36m  File \u001b[0;32m\"/tmp/ipykernel_350880/2348186710.py\"\u001b[0;36m, line \u001b[0;32m9\u001b[0m\n\u001b[0;31m    return df\u001b[0m\n\u001b[0m    ^\u001b[0m\n\u001b[0;31mSyntaxError\u001b[0m\u001b[0;31m:\u001b[0m 'return' outside function\n"
     ]
    }
   ],
   "source": [
    "def load_thetamod(local_path):\n",
    "\n",
    "    bk.load.current_session_linux(\n",
    "        base_folder='/mnt/electrophy/Gabrielle/GG-Dataset', local_path=local_path)\n",
    "\n",
    "\n",
    "    df = bk.io.load_dataframe(f'Thetamod/{bk.load.session}-theta_mod')\n",
    "\n",
    "    return df\n"
   ]
  },
  {
   "cell_type": "markdown",
   "id": "da009f35",
   "metadata": {},
   "source": [
    "### Using PPC"
   ]
  },
  {
   "cell_type": "code",
   "execution_count": 1,
   "id": "cf61e954",
   "metadata": {},
   "outputs": [],
   "source": [
    "import bk.load\n",
    "import bk.signal\n",
    "\n",
    "import matplotlib.pyplot as plt\n",
    "import numpy as np\n"
   ]
  },
  {
   "cell_type": "code",
   "execution_count": null,
   "id": "b1103abc",
   "metadata": {},
   "outputs": [],
   "source": [
    "def pcc(neuron_phase):\n",
    "\n",
    "    if isinstance(neuron_phase,nts.Tsd):\n",
    "        neuron_phase = neuron_phase.values.astype(np.float32)\n",
    "\n",
    "    pcc = neuron_phase[None,:] - neuron_phase[:,None]\n",
    "    pcc[np.diag_indices_from(pcc)] = np.nan\n",
    "    # pcc = np.cos(pcc.ravel())\n",
    "    return np.nanmean(pcc)\n"
   ]
  },
  {
   "cell_type": "code",
   "execution_count": 3,
   "id": "64632f87",
   "metadata": {},
   "outputs": [
    {
     "name": "stdout",
     "output_type": "stream",
     "text": [
      "Rat : 8 on day : 6\n",
      "Working with session Rat08-20130713 @ /home/billel/Data/GG-Dataset/Rat08/Rat08-20130713\n",
      "Data already saved in Numpy format, loading them from here:\n",
      "Rat08-20130713-neurons.npy\n",
      "Rat08-20130713-metadata.npy\n"
     ]
    }
   ],
   "source": [
    "bk.load.current_session_linux()\n",
    "neurons,metadata = bk.load.spikes()\n",
    "states = bk.load.states()\n",
    "\n",
    "for i,n in enumerate(neurons):\n",
    "    neurons[i] = n.restrict(states['Rem'])\n",
    "\n",
    "lfp = bk.load.lfp_in_intervals(23,states['Rem'])\n",
    "lfp_filt = bk.signal.passband(lfp,4,12)\n",
    "power,phase = bk.signal.hilbert(lfp_filt)\n",
    "\n",
    "neurons_phase = []\n",
    "neurons_rem_fr = []\n",
    "for i, n in enumerate(neurons):\n",
    "    neurons_phase.append(phase.realign(n.restrict(states['Rem'])))\n",
    "    neurons_rem_fr.append(\n",
    "        len(n.restrict(states['Rem']))/states['Rem'].tot_length(time_units='s'))"
   ]
  },
  {
   "cell_type": "code",
   "execution_count": null,
   "id": "e793ce70",
   "metadata": {},
   "outputs": [],
   "source": []
  }
 ],
 "metadata": {
  "interpreter": {
   "hash": "dc93b3fb48dfd2593d4a40b397dc62a97606514bfa701f6565ff70ef36514844"
  },
  "kernelspec": {
   "display_name": "Python 3.9.7 ('base')",
   "language": "python",
   "name": "python3"
  },
  "language_info": {
   "codemirror_mode": {
    "name": "ipython",
    "version": 3
   },
   "file_extension": ".py",
   "mimetype": "text/x-python",
   "name": "python",
   "nbconvert_exporter": "python",
   "pygments_lexer": "ipython3",
   "version": "3.9.7"
  }
 },
 "nbformat": 4,
 "nbformat_minor": 5
}
