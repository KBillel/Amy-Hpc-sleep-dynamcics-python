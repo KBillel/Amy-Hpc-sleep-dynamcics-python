{
 "cells": [
  {
   "cell_type": "code",
   "execution_count": 1,
   "source": [
    "import astropy.stats as apy"
   ],
   "outputs": [],
   "metadata": {}
  },
  {
   "cell_type": "code",
   "execution_count": 2,
   "source": [
    "import bk.load\n",
    "import bk.compute\n",
    "import bk.plot\n",
    "import bk.signal"
   ],
   "outputs": [],
   "metadata": {}
  },
  {
   "cell_type": "code",
   "execution_count": 3,
   "source": [
    "import pandas as pd\n",
    "import numpy as np\n",
    "import scipy as sp"
   ],
   "outputs": [],
   "metadata": {}
  },
  {
   "cell_type": "code",
   "execution_count": 4,
   "source": [
    "import matplotlib.pyplot as plt"
   ],
   "outputs": [],
   "metadata": {}
  },
  {
   "cell_type": "code",
   "execution_count": 5,
   "source": [
    "import scipy.signal\n",
    "import scipy.stats"
   ],
   "outputs": [],
   "metadata": {}
  },
  {
   "cell_type": "code",
   "execution_count": null,
   "source": [
    "bk.load.lfp_in_intervals()"
   ],
   "outputs": [],
   "metadata": {}
  },
  {
   "cell_type": "code",
   "execution_count": 10,
   "source": [
    "bk.load.current_session_linux()\n",
    "states = bk.load.states()\n",
    "lfp = bk.load.lfp_in_intervals(15,states['Rem'])\n",
    "lfp_filt = bk.signal.passband(lfp,4,12)\n",
    "power,phase = bk.signal.hilbert(lfp_filt)"
   ],
   "outputs": [
    {
     "output_type": "stream",
     "name": "stdout",
     "text": [
      "Rat : 8 on day : 6\n",
      "Working with session Rat08-20130713 @ /home/billel/Data/GG-Dataset/Rat08/Rat08-20130713\n"
     ]
    }
   ],
   "metadata": {}
  },
  {
   "cell_type": "code",
   "execution_count": 11,
   "source": [
    "f, Pxx= sp.signal.welch(lfp.values,fs = 1250,nperseg=5000,noverlap=4000)"
   ],
   "outputs": [],
   "metadata": {}
  },
  {
   "cell_type": "code",
   "execution_count": 12,
   "source": [
    "plt.plot(f,np.log(Pxx))\n",
    "plt.xlim(0,20)"
   ],
   "outputs": [
    {
     "output_type": "execute_result",
     "data": {
      "text/plain": [
       "(0.0, 20.0)"
      ]
     },
     "metadata": {},
     "execution_count": 12
    },
    {
     "output_type": "display_data",
     "data": {
      "image/png": "[encoded data removed]",
      "text/plain": [
       "<Figure size 432x288 with 1 Axes>"
      ]
     },
     "metadata": {
      "needs_background": "light"
     }
    }
   ],
   "metadata": {}
  },
  {
   "cell_type": "code",
   "execution_count": null,
   "source": [],
   "outputs": [],
   "metadata": {}
  },
  {
   "cell_type": "code",
   "execution_count": 13,
   "source": [
    "neurons,metadata = bk.load.loadSpikeData(bk.load.path)\n",
    "    \n",
    "neurons_phase = []\n",
    "for i,n in enumerate(neurons):\n",
    "    neurons_phase.append(phase.realign(n.restrict(states['Rem'])))"
   ],
   "outputs": [
    {
     "output_type": "stream",
     "name": "stdout",
     "text": [
      "Data already saved in Numpy format, loading them from here:\n",
      "Rat08-20130713-neurons.npy\n",
      "Rat08-20130713-metadata.npy\n"
     ]
    }
   ],
   "metadata": {}
  },
  {
   "cell_type": "code",
   "execution_count": 11,
   "source": [
    "%matplotlib qt"
   ],
   "outputs": [],
   "metadata": {}
  },
  {
   "cell_type": "code",
   "execution_count": 14,
   "source": [
    "plt.plot(neurons_phase[0].times(),neurons_phase[0].values,'ro')\n",
    "bk.plot.intervals(states['Rem'],time_units='us')"
   ],
   "outputs": [
    {
     "output_type": "display_data",
     "data": {
      "image/png": "[encoded data removed]",
      "text/plain": [
       "<Figure size 432x288 with 1 Axes>"
      ]
     },
     "metadata": {
      "needs_background": "light"
     }
    }
   ],
   "metadata": {}
  },
  {
   "cell_type": "code",
   "execution_count": 15,
   "source": [
    "a = []\n",
    "for i,p in enumerate(neurons_phase):\n",
    "    pvalue = apy.rayleightest(p.values)\n",
    "    a.append(np.nanmean(p))\n",
    "#     if pvalue < 0.001 and rvalue > 0.04: print(1)"
   ],
   "outputs": [],
   "metadata": {}
  },
  {
   "cell_type": "code",
   "execution_count": 16,
   "source": [
    "%matplotlib qt"
   ],
   "outputs": [],
   "metadata": {}
  },
  {
   "cell_type": "code",
   "execution_count": 17,
   "source": [
    "for i in range(20):\n",
    "    fig,ax = plt.subplot_mosaic('''\n",
    "                                A.\n",
    "                                BC\n",
    "                                ''')\n",
    "    polar_ax = fig.add_subplot(2,2,2,polar=True)                                       \n",
    "    ax['A'].plot(lfp)\n",
    "    ax['A'].plot(lfp_filt)\n",
    "    plt.sca(ax['A'])\n",
    "    bk.plot.intervals(states['Rem'],time_units='us')\n",
    "    ax['B'].plot(phase)\n",
    "    ax['B'].plot(neurons_phase[i],'ro')\n",
    "\n",
    "    h,a = np.histogram(neurons_phase[i].values,50)\n",
    "    a = np.convolve(a,[.5,.5],'same')[1::]\n",
    "    \n",
    "    ax['C'].bar(a,h,a[1]-a[0])\n",
    "    ax['C'].bar(a+2*np.pi,h,a[1]-a[0])\n",
    "\n",
    "#     ax['C'].bar(neurons_phase[i].values+(2*np.pi),50,'blue')\n",
    "\n",
    "    ax['A'].get_shared_x_axes().join(ax['A'], ax['B'])\n",
    "    polar_ax.bar(a,h,a[1]-a[0])\n",
    "    \n",
    "    plt.suptitle(f'Neuron #{i}')\n",
    "\n",
    "# plt.subplot(211)\n",
    "# plt.plot(lfp)\n",
    "# plt.plot(lfp.times(),lfp_filt)"
   ],
   "outputs": [],
   "metadata": {}
  },
  {
   "cell_type": "code",
   "execution_count": 242,
   "source": [],
   "outputs": [],
   "metadata": {}
  },
  {
   "cell_type": "code",
   "execution_count": 243,
   "source": [
    "h.shape"
   ],
   "outputs": [
    {
     "output_type": "execute_result",
     "data": {
      "text/plain": [
       "(50,)"
      ]
     },
     "metadata": {},
     "execution_count": 243
    }
   ],
   "metadata": {}
  },
  {
   "cell_type": "code",
   "execution_count": 247,
   "source": [
    "t"
   ],
   "outputs": [
    {
     "output_type": "execute_result",
     "data": {
      "text/plain": [
       "array([-3.07790296, -2.95227438, -2.82664579, -2.70101721, -2.57538863,\n",
       "       -2.44976005, -2.32413147, -2.19850289, -2.0728743 , -1.94724572,\n",
       "       -1.82161714, -1.69598856, -1.57035998, -1.4447314 , -1.31910281,\n",
       "       -1.19347423, -1.06784565, -0.94221707, -0.81658849, -0.69095991,\n",
       "       -0.56533132, -0.43970274, -0.31407416, -0.18844558, -0.062817  ,\n",
       "        0.06281158,  0.18844017,  0.31406875,  0.43969733,  0.56532591,\n",
       "        0.69095449,  0.81658307,  0.94221166,  1.06784024,  1.19346882,\n",
       "        1.3190974 ,  1.44472598,  1.57035456,  1.69598315,  1.82161173,\n",
       "        1.94724031,  2.07286889,  2.19849747,  2.32412605,  2.44975464,\n",
       "        2.57538322,  2.7010118 ,  2.82664038,  2.95226896,  3.07789754])"
      ]
     },
     "metadata": {},
     "execution_count": 247
    }
   ],
   "metadata": {}
  },
  {
   "cell_type": "code",
   "execution_count": null,
   "source": [],
   "outputs": [],
   "metadata": {}
  }
 ],
 "metadata": {
  "kernelspec": {
   "name": "python3",
   "display_name": "Python 3.8.5 64-bit ('base': conda)"
  },
  "language_info": {
   "codemirror_mode": {
    "name": "ipython",
    "version": 3
   },
   "file_extension": ".py",
   "mimetype": "text/x-python",
   "name": "python",
   "nbconvert_exporter": "python",
   "pygments_lexer": "ipython3",
   "version": "3.8.5"
  },
  "interpreter": {
   "hash": "73338f702f582c88e3f253801a1652f95993fc9c7c4f7716fa5efbce7903fdbf"
  }
 },
 "nbformat": 4,
 "nbformat_minor": 5
}