{
 "cells": [
  {
   "cell_type": "markdown",
   "metadata": {},
   "source": [
    "# Import"
   ]
  },
  {
   "cell_type": "code",
   "execution_count": 1,
   "metadata": {},
   "outputs": [],
   "source": [
    "import sys\n",
    "import itertools\n",
    "\n",
    "import numpy as np\n",
    "import pandas as pd\n",
    "import scipy.signal\n",
    "from scipy.signal import savgol_filter\n",
    "from scipy.stats import zscore\n",
    "from tqdm.auto import tqdm\n",
    "\n",
    "import neuroseries as nts\n",
    "\n",
    "\n",
    "import time\n",
    "import matplotlib.pyplot as plt\n",
    "\n",
    "import seaborn as sns \n",
    "import bk.load\n",
    "import bk.compute\n",
    "import bk.plot\n",
    "import bk.signal\n",
    "\n",
    "import os\n",
    "from time import sleep\n",
    "\n",
    "import astropy.stats as apy\n",
    "plt.rcParams['svg.fonttype'] = 'none'\n"
   ]
  },
  {
   "cell_type": "code",
   "execution_count": 2,
   "metadata": {},
   "outputs": [],
   "source": [
    "def pcc(neuron_phase):\n",
    "    if isinstance(neuron_phase,nts.Tsd):\n",
    "        neuron_phase = neuron_phase.values.astype(np.float16)\n",
    "\n",
    "    pcc = neuron_phase[None,:] - neuron_phase[:,None]\n",
    "    pcc[np.diag_indices_from(pcc)] = np.nan\n",
    "    pcc = np.cos(pcc)\n",
    "    return np.nanmean(pcc,0).mean()\n"
   ]
  },
  {
   "cell_type": "code",
   "execution_count": 3,
   "metadata": {},
   "outputs": [],
   "source": [
    "def gen_delta(freqs):\n",
    "    deltas = np.zeros_like(freqs)\n",
    "    for i,f in enumerate(freqs):\n",
    "        if f < 8:\n",
    "            deltas[i] = 4\n",
    "        elif f>8 and f<20:\n",
    "            deltas[i] = 4+(f-8) * 1/2\n",
    "        elif f>20 and f<45:\n",
    "            deltas[i] = 10 + (f-20) * 2/5\n",
    "        else:\n",
    "            deltas[i] = 20\n",
    "\n",
    "    return deltas\n",
    "\n",
    "\n",
    "def mean_resultant_length(angles):\n",
    "    angles = np.exp(1j*angles)\n",
    "    return np.abs(np.mean(angles))\n",
    "\n",
    "def concentration(angles):\n",
    "    '''\n",
    "    Compute the kappa parameter Uses the approximation described in \"Statistical Analysis of Circular Data\" (Fisher, p. 88).\n",
    "    Translated from MATLAB fmatoolbox.sourceforge.net/Contents/FMAToolbox/General/Concentration.html\n",
    "    angles : radian\n",
    "\n",
    "    Copyright (C) 2004-2011 by Michaël Zugaro\n",
    "    Copyright (C) 2021 by Billel KHOUADER\n",
    "\n",
    "    '''\n",
    "    n = len(angles)\n",
    "    angles = np.exp(1j * angles)  # Complex form of the angles\n",
    "    r = abs(np.mean(angles))\n",
    "\n",
    "    if r < 0.53:\n",
    "        k = 2 * r + r**3 + 5*r**(5/6)\n",
    "    elif r < 0.85:\n",
    "        k = -0.4 + 1.39 * r + 0.43 / (1-r)\n",
    "    else:\n",
    "        k = 1/(r**3 - 4 * r**2 + 3*r)\n",
    "\n",
    "    # Correction for very small samples\n",
    "\n",
    "    if n <= 15:\n",
    "        if k < 2:\n",
    "            k = np.max([(k-2)/(n*k), 0])\n",
    "        else:\n",
    "            k = (n-1)**3 * (n**3+n)\n",
    "\n",
    "    return k"
   ]
  },
  {
   "cell_type": "code",
   "execution_count": 4,
   "metadata": {},
   "outputs": [],
   "source": [
    "def compute_mrl(neuron, phase,weights = None):\n",
    "    neuron_phase = phase.realign(neuron)\n",
    "    phases_distribution, bin_p = np.histogram(neuron_phase.values,100)\n",
    "    phases_distribution = phases_distribution/weights\n",
    "\n",
    "    bin_p = np.convolve(bin_p,[0.5,0.5],'same')[1::]\n",
    "    return bk.compute.mean_resultant_length(bin_p,phases_distribution)\n",
    "\n",
    "\n",
    "def compute_ppc(neuron, phase, n=1000):\n",
    "    neuron_phase = phase.realign(neuron)\n",
    "    neuron_phase = neuron_phase.values.astype(np.float16)\n",
    "    if len(neuron)>n:\n",
    "        neuron_phase = np.random.choice(neuron_phase, n)\n",
    "\n",
    "    pcc = neuron_phase[None, :] - neuron_phase[:, None]\n",
    "    pcc[np.diag_indices_from(pcc)] = np.nan\n",
    "    pcc = np.cos(pcc)\n",
    "    return np.nanmean(pcc, 0).mean()\n",
    "\n",
    "\n",
    "def compute_modulation_across_frequencies(neurons, lfp, state, fmin=0.1, fmax=100, nbins=50, method='MRL'):\n",
    "    freq_bins = np.linspace(fmin, fmax, nbins)\n",
    "    deltas = gen_delta(freq_bins)\n",
    "    bands = np.array([freq_bins-deltas/2,freq_bins+deltas/2])\n",
    "    mod_freq_neurons = np.empty(shape=(len(freq_bins), len(neurons)))\n",
    "\n",
    "    if method.lower() == 'both':\n",
    "        mod_freq_neurons = {'MRL': np.empty(shape=(len(freq_bins), len(neurons))),\n",
    "                            'PPC': np.empty(shape=(len(freq_bins), len(neurons)))}\n",
    "    else:\n",
    "        mod_freq_neurons = np.empty(shape=(len(freq_bins), len(neurons)))\n",
    "\n",
    "    for i, f in tqdm(enumerate(freq_bins), total=len(freq_bins),desc = 'Freqs',position = 1):\n",
    "        # print(f'Compute Filters at {f-deltas[i]/2} and {f+deltas[i]/2}')\n",
    "        filt = bk.signal.passband(lfp, f-deltas[i]/2, f+deltas[i]/2, order=2)\n",
    "        _, phase = bk.signal.hilbert(filt)\n",
    "        \n",
    "        phases_signal_distrib, _ = np.histogram(phase.values,100,density=True)\n",
    "        weights = phases_signal_distrib*100 / np.sum(phases_signal_distrib)\n",
    "\n",
    "        for j, n in tqdm(enumerate(neurons),desc = 'Neurons',total = len(neurons),leave = True,position = 2):\n",
    "            if method.lower() == 'mrl':\n",
    "                mod_freq_neurons[i, j] = compute_mrl(n.restrict(state), phase,weights)\n",
    "            elif method.lower() == 'ppc':\n",
    "                mod_freq_neurons[i, j] = compute_ppc(n.restrict(state), phase)\n",
    "            elif method.lower() == 'both':\n",
    "                mod_freq_neurons['MRL'][i,j] = compute_mrl(n.restrict(state), phase,weights)\n",
    "                # mod_freq_neurons['PPC'][i,j] = compute_ppc(n.restrict(state), phase)\n",
    "\n",
    "    return bands,freq_bins, mod_freq_neurons\n"
   ]
  },
  {
   "cell_type": "code",
   "execution_count": 7,
   "metadata": {},
   "outputs": [],
   "source": [
    "def main_local(base_folder,local_path,*args,**kwargs):\n",
    "    save = kwargs['save']\n",
    "    force_compute = kwargs['force_compute']\n",
    "    state = kwargs['state']\n",
    "    fmin,fmax = kwargs['frange']\n",
    "    nbins = kwargs['nbins']\n",
    "    \n",
    "    bk.load.current_session_linux(base_folder,local_path)\n",
    "\n",
    "\n",
    "    if np.any(bk.load.analysis('freq_mod/freq_mod_local_200um_3_200_100_NREM.npy')):\n",
    "        return('saved')\n",
    "    if bk.load.rat < 10:\n",
    "        return('done')\n",
    "    if bk.load.day <8:\n",
    "        return('donee')\n",
    "    neurons, metadata = bk.load.spikes()\n",
    "    states = bk.load.states()\n",
    "    state = states[state]\n",
    "\n",
    "\n",
    "    freq_bins = np.linspace(fmin, fmax, nbins)\n",
    "    deltas = gen_delta(freq_bins)\n",
    "    bands = np.array([freq_bins-deltas/2,freq_bins+deltas/2])\n",
    "    mod_freq_neurons = np.zeros(shape=(len(freq_bins), len(neurons)))\n",
    "\n",
    "\n",
    "\n",
    "    lfps = {}\n",
    "    for shank in tqdm(np.unique(metadata.Shank),desc = 'LFPs'):\n",
    "        shank_neighbour = bk.load.shank_neighbours(shank)\n",
    "        if np.isfinite(shank_neighbour['medial']):\n",
    "            neighbour_channel = bk.load.best_channel(shank_neighbour['medial'])\n",
    "        else:\n",
    "            neighbour_channel = bk.load.best_channel(\n",
    "                shank_neighbour['lateral'])\n",
    "        lfps.update({shank:bk.load.lfp_in_intervals(neighbour_channel, state)})\n",
    "\n",
    "    \n",
    "    for i, f in tqdm(enumerate(freq_bins), total=len(freq_bins),desc = 'Freqs',position = 1):\n",
    "        previous_shank = 0\n",
    "        for j, (n, m) in tqdm(enumerate(zip(neurons, metadata.iloc)),desc = 'Neurons',total = len(neurons),leave = True,position = 2):\n",
    "            \n",
    "            if previous_shank != m['Shank']:\n",
    "                filt = bk.signal.passband(lfps[m['Shank']], f-deltas[i]/2, f+deltas[i]/2, order=2)\n",
    "                _, phase = bk.signal.hilbert(filt)\n",
    "                previous_shank = m['Shank']\n",
    "\n",
    "            phases_signal_distrib, _ = np.histogram(phase.values,100,density=True)\n",
    "            weights = phases_signal_distrib*100 / np.sum(phases_signal_distrib)\n",
    "            mod_freq_neurons[i, j] = compute_mrl(n.restrict(state), phase,weights)\n",
    "\n",
    "    np.save('Analysis/freq_mod/freq_mod_local_200um_3_200_100_NREM.npy',((freq_bins,mod_freq_neurons),metadata,bands))\n",
    "    return bands,freq_bins, mod_freq_neurons\n"
   ]
  },
  {
   "cell_type": "code",
   "execution_count": 8,
   "metadata": {},
   "outputs": [
    {
     "name": "stderr",
     "output_type": "stream",
     "text": [
      "100%|██████████| 61/61 [31:54:00<00:00, 1882.63s/it]  "
     ]
    },
    {
     "name": "stdout",
     "output_type": "stream",
     "text": [
      "Batch finished in 114840.26113843918\n",
      "Some session were not processed correctly\n",
      "['Rat11-20150402', 'Rat11-20150403']\n",
      "3.278688524590164 %\n"
     ]
    },
    {
     "name": "stderr",
     "output_type": "stream",
     "text": [
      "\n"
     ]
    }
   ],
   "source": [
    "kwargs = {'state': 'sws',\n",
    "          'frange': [3, 200],\n",
    "          'nbins': 100,\n",
    "          'save': True,\n",
    "          'force_compute': False}\n",
    "batch,metadata = bk.load.batch(main_local,local_base='/mnt/electrophy/Gabrielle/GG-Dataset-Light/',**kwargs)"
   ]
  },
  {
   "cell_type": "code",
   "execution_count": 7,
   "metadata": {},
   "outputs": [
    {
     "name": "stdout",
     "output_type": "stream",
     "text": [
      "Rat : 8 on day : 6\n",
      "Working with session Rat08-20130713 @ /mnt/electrophy/Gabrielle/GG-Dataset-Light/Rat08/Rat08-20130713\n",
      "yes\n"
     ]
    }
   ],
   "source": [
    "bk.load.current_session_linux()\n",
    "if np.any(bk.load.analysis('freq_mod/freq_mod_local_200um_3_200_100_NREM.npy')):\n",
    "    print('yes')"
   ]
  },
  {
   "cell_type": "code",
   "execution_count": 9,
   "metadata": {},
   "outputs": [
    {
     "name": "stdout",
     "output_type": "stream",
     "text": [
      "Rat : 8 on day : 6\n",
      "Working with session Rat08-20130713 @ /mnt/electrophy/Gabrielle/GG-Dataset-Light/Rat08/Rat08-20130713\n"
     ]
    },
    {
     "ename": "ValueError",
     "evalue": "too many values to unpack (expected 3)",
     "output_type": "error",
     "traceback": [
      "\u001b[0;31m---------------------------------------------------------------------------\u001b[0m",
      "\u001b[0;31mValueError\u001b[0m                                Traceback (most recent call last)",
      "\u001b[0;32m/tmp/ipykernel_683970/3807058099.py\u001b[0m in \u001b[0;36m<module>\u001b[0;34m\u001b[0m\n\u001b[1;32m      4\u001b[0m           \u001b[0;34m'save'\u001b[0m\u001b[0;34m:\u001b[0m \u001b[0;32mTrue\u001b[0m\u001b[0;34m,\u001b[0m\u001b[0;34m\u001b[0m\u001b[0;34m\u001b[0m\u001b[0m\n\u001b[1;32m      5\u001b[0m           'force_compute': False}\n\u001b[0;32m----> 6\u001b[0;31m bands,freq_bins, mod_freq_neurons = main_local('/mnt/electrophy/Gabrielle/GG-Dataset-Light/',\n\u001b[0m\u001b[1;32m      7\u001b[0m            'Rat08/Rat08-20130713', **kwargs)\n",
      "\u001b[0;31mValueError\u001b[0m: too many values to unpack (expected 3)"
     ]
    }
   ],
   "source": [
    "kwargs = {'state': 'Rem',\n",
    "          'frange': [3, 200],\n",
    "          'nbins': 100,\n",
    "          'save': True,\n",
    "          'force_compute': False}\n",
    "bands,freq_bins, mod_freq_neurons = main_local('/mnt/electrophy/Gabrielle/GG-Dataset-Light/',\n",
    "           'Rat08/Rat08-20130713', **kwargs)"
   ]
  },
  {
   "cell_type": "code",
   "execution_count": 9,
   "metadata": {},
   "outputs": [],
   "source": [
    "def main(base_folder,local_path,*args,**kwargs):\n",
    "    save = kwargs['save']\n",
    "    force_compute = kwargs['force_compute']\n",
    "    \n",
    "    bk.load.current_session_linux(base_folder,local_path)\n",
    "    data = bk.load.analysis('freq_mod/freq_mod_hpc_3_150_75.npy')\n",
    "    \n",
    "    if data is not False and not force_compute:\n",
    "        return data\n",
    "    \n",
    "    neurons, metadata = bk.load.spikes()\n",
    "    states = bk.load.states()\n",
    "    hpc_channel = bk.load.ripple_channel()\n",
    "    lfp = bk.load.lfp_in_intervals(hpc_channel,states['Rem'])\n",
    "\n",
    "    \n",
    "    bands,f,mod_freq_neurons = compute_modulation_across_frequencies(neurons,lfp,states['Rem'],3,200,70,method='both')\n",
    "    if save:\n",
    "        os.makedirs('Analysis/freq_mod',exist_ok=True)\n",
    "        np.save('Analysis/freq_mod/freq_mod_hpc_3_150_75.npy',((f,mod_freq_neurons),metadata,bands))\n",
    "\n",
    "    return (f,mod_freq_neurons),metadata,bands"
   ]
  },
  {
   "cell_type": "code",
   "execution_count": 10,
   "metadata": {},
   "outputs": [
    {
     "name": "stderr",
     "output_type": "stream",
     "text": [
      "Sessions: 100%|██████████| 61/61 [00:31<00:00,  1.92it/s]"
     ]
    },
    {
     "name": "stdout",
     "output_type": "stream",
     "text": [
      "Batch finished in 31.753708124160767\n",
      "Some session were not processed correctly\n",
      "['Rat08-20130712', 'Rat08-20130718', 'Rat08-20130719', 'Rat08-20130720', 'Rat08-20130722', 'Rat09-20140324', 'Rat09-20140325', 'Rat09-20140326', 'Rat09-20140327', 'Rat09-20140328', 'Rat09-20140329', 'Rat09-20140331', 'Rat09-20140401', 'Rat09-20140402', 'Rat09-20140403', 'Rat09-20140404', 'Rat09-20140405', 'Rat09-20140407', 'Rat09-20140408', 'Rat09-20140409', 'Rat11-20150316', 'Rat11-20150402', 'Rat11-20150403']\n",
      "37.704918032786885 %\n"
     ]
    },
    {
     "name": "stderr",
     "output_type": "stream",
     "text": [
      "\n"
     ]
    }
   ],
   "source": [
    "kwargs = {'save': True,\n",
    "          'force_compute': False}\n",
    "batch,metadata = bk.load.batch(main,local_base='/mnt/electrophy/Gabrielle/GG-Dataset-Light/',**kwargs)"
   ]
  },
  {
   "cell_type": "code",
   "execution_count": 8,
   "metadata": {},
   "outputs": [
    {
     "name": "stderr",
     "output_type": "stream",
     "text": [
      "/home/billel/anaconda3/lib/python3.9/site-packages/numpy/core/_asarray.py:171: VisibleDeprecationWarning: Creating an ndarray from ragged nested sequences (which is a list-or-tuple of lists-or-tuples-or ndarrays with different lengths or shapes) is deprecated. If you meant to do this, you must specify 'dtype=object' when creating the ndarray.\n",
      "  return array(a, dtype, copy=False, order=order, subok=True)\n"
     ]
    }
   ],
   "source": [
    "np.save('/mnt/work/Analyse/Variables/frequency_modulation/frequency_mod_hpc_corrected',batch)"
   ]
  },
  {
   "cell_type": "code",
   "execution_count": 4,
   "metadata": {},
   "outputs": [],
   "source": [
    "batch,metadata = np.load('/mnt/work/Analyse/Variables/frequency_modulation/frequency_mod_hpc.npy',allow_pickle=True).flatten()[0]"
   ]
  },
  {
   "cell_type": "code",
   "execution_count": 17,
   "metadata": {},
   "outputs": [],
   "source": [
    "all_mod_freq_neurons = {'MRL':[],\n",
    "'PPC':[]}\n",
    "all_metadata = pd.DataFrame()\n",
    "for b in batch:\n",
    "    # if b == 'Rat08-20130713':\n",
    "    f = batch[b][0][0]\n",
    "    mod_freq_neurons = batch[b][0][1]\n",
    "    for m in all_mod_freq_neurons:\n",
    "      all_mod_freq_neurons[m].append(mod_freq_neurons[m])\n",
    "    all_metadata = pd.concat((all_metadata,batch[b][1]))\n",
    "\n",
    "\n",
    "      # for i in range(252):\n",
    "      #   fig,ax = plt.subplots(1,2)\n",
    "\n",
    "      #   ax[0].plot(f,mod_freq_neurons['MRL'][:,i])\n",
    "      #   ax[0].set_ylim(0,0.4)\n",
    "      #   ax[0].set_xlim(0,200)\n",
    "\n",
    "      #   ax[0].set_title('MRL')\n",
    "        \n",
    "        \n",
    "        \n",
    "      #   ax[1].plot(f,mod_freq_neurons['PPC'][:,i])\n",
    "      #   ax[1].set_title('PPC')\n",
    "      #   ax[1].set_ylim(0,0.10)\n",
    "      #   ax[1].set_xlim(0,100)\n",
    "        \n",
    "      #   plt.suptitle(f'#{i} - {metadata.Region.iloc[i]}')\n",
    "      #   plt.tight_layout()\n",
    "all_mod_freq_neurons['MRL'] = np.hstack(all_mod_freq_neurons['MRL']).T\n",
    "all_mod_freq_neurons['PPC'] = np.hstack(all_mod_freq_neurons['PPC']).T"
   ]
  },
  {
   "cell_type": "code",
   "execution_count": 21,
   "metadata": {},
   "outputs": [
    {
     "data": {
      "text/plain": [
       "<matplotlib.legend.Legend at 0x7f114e50f310>"
      ]
     },
     "execution_count": 21,
     "metadata": {},
     "output_type": "execute_result"
    },
    {
     "data": {
      "image/png": "[encoded data removed]",
      "text/plain": [
       "<Figure size 1200x800 with 1 Axes>"
      ]
     },
     "metadata": {
      "needs_background": "light"
     },
     "output_type": "display_data"
    }
   ],
   "source": [
    "plt.figure(dpi =200)\n",
    "structures = ['Hpc','CeCM','BLA','Pir','BMA']\n",
    "for stru in structures:\n",
    "    average_mrl = np.nanmean(all_mod_freq_neurons['MRL'][all_metadata.Region == stru],0)\n",
    "    plt.plot(f,average_mrl)\n",
    "plt.legend(structures)"
   ]
  },
  {
   "cell_type": "code",
   "execution_count": 22,
   "metadata": {},
   "outputs": [
    {
     "name": "stdout",
     "output_type": "stream",
     "text": [
      "Using matplotlib backend: Qt5Agg\n"
     ]
    },
    {
     "data": {
      "text/plain": [
       "[<matplotlib.lines.Line2D at 0x7fd48c6380d0>]"
      ]
     },
     "execution_count": 22,
     "metadata": {},
     "output_type": "execute_result"
    }
   ],
   "source": []
  },
  {
   "cell_type": "code",
   "execution_count": 15,
   "metadata": {},
   "outputs": [
    {
     "ename": "NameError",
     "evalue": "name 'mrls_freq_neurons' is not defined",
     "output_type": "error",
     "traceback": [
      "\u001b[0;31m---------------------------------------------------------------------------\u001b[0m",
      "\u001b[0;31mNameError\u001b[0m                                 Traceback (most recent call last)",
      "\u001b[0;32m/tmp/ipykernel_317431/648963165.py\u001b[0m in \u001b[0;36m<module>\u001b[0;34m\u001b[0m\n\u001b[1;32m      2\u001b[0m     \u001b[0mfig\u001b[0m\u001b[0;34m,\u001b[0m\u001b[0max\u001b[0m \u001b[0;34m=\u001b[0m \u001b[0mplt\u001b[0m\u001b[0;34m.\u001b[0m\u001b[0msubplots\u001b[0m\u001b[0;34m(\u001b[0m\u001b[0;36m1\u001b[0m\u001b[0;34m,\u001b[0m\u001b[0;36m2\u001b[0m\u001b[0;34m)\u001b[0m\u001b[0;34m\u001b[0m\u001b[0;34m\u001b[0m\u001b[0m\n\u001b[1;32m      3\u001b[0m \u001b[0;34m\u001b[0m\u001b[0m\n\u001b[0;32m----> 4\u001b[0;31m     \u001b[0max\u001b[0m\u001b[0;34m[\u001b[0m\u001b[0;36m0\u001b[0m\u001b[0;34m]\u001b[0m\u001b[0;34m.\u001b[0m\u001b[0mplot\u001b[0m\u001b[0;34m(\u001b[0m\u001b[0mf\u001b[0m\u001b[0;34m,\u001b[0m\u001b[0mmrls_freq_neurons\u001b[0m\u001b[0;34m[\u001b[0m\u001b[0;34m:\u001b[0m\u001b[0;34m,\u001b[0m\u001b[0mi\u001b[0m\u001b[0;34m]\u001b[0m\u001b[0;34m)\u001b[0m\u001b[0;34m\u001b[0m\u001b[0;34m\u001b[0m\u001b[0m\n\u001b[0m\u001b[1;32m      5\u001b[0m     \u001b[0max\u001b[0m\u001b[0;34m[\u001b[0m\u001b[0;36m0\u001b[0m\u001b[0;34m]\u001b[0m\u001b[0;34m.\u001b[0m\u001b[0mset_ylim\u001b[0m\u001b[0;34m(\u001b[0m\u001b[0;36m0\u001b[0m\u001b[0;34m,\u001b[0m\u001b[0;36m0.4\u001b[0m\u001b[0;34m)\u001b[0m\u001b[0;34m\u001b[0m\u001b[0;34m\u001b[0m\u001b[0m\n\u001b[1;32m      6\u001b[0m     \u001b[0max\u001b[0m\u001b[0;34m[\u001b[0m\u001b[0;36m0\u001b[0m\u001b[0;34m]\u001b[0m\u001b[0;34m.\u001b[0m\u001b[0mset_xlim\u001b[0m\u001b[0;34m(\u001b[0m\u001b[0;36m0\u001b[0m\u001b[0;34m,\u001b[0m\u001b[0;36m200\u001b[0m\u001b[0;34m)\u001b[0m\u001b[0;34m\u001b[0m\u001b[0;34m\u001b[0m\u001b[0m\n",
      "\u001b[0;31mNameError\u001b[0m: name 'mrls_freq_neurons' is not defined"
     ]
    }
   ],
   "source": [
    "for i in range(252):\n",
    "    fig,ax = plt.subplots(1,2)\n",
    "\n",
    "    ax[0].plot(f,mrls_freq_neurons[:,i])\n",
    "    ax[0].set_ylim(0,0.4)\n",
    "    ax[0].set_xlim(0,200)\n",
    "\n",
    "    ax[0].set_title('MRL')\n",
    "    \n",
    "    \n",
    "    \n",
    "    ax[1].plot(f,ppc_freq_neurons[:,i])\n",
    "    ax[1].set_title('PPC')\n",
    "    ax[1].set_ylim(0,0.10)\n",
    "    ax[1].set_xlim(0,100)\n",
    "    \n",
    "    plt.suptitle(f'#{i} - {metadata.Region.iloc[i]}')\n",
    "    plt.tight_layout()"
   ]
  },
  {
   "cell_type": "code",
   "execution_count": 23,
   "metadata": {},
   "outputs": [
    {
     "data": {
      "application/vnd.jupyter.widget-view+json": {
       "model_id": "c78c81e887bd475388e1c28e55cc37bf",
       "version_major": 2,
       "version_minor": 0
      },
      "text/plain": [
       "  0%|          | 0/50 [00:00<?, ?it/s]"
      ]
     },
     "metadata": {},
     "output_type": "display_data"
    },
    {
     "ename": "NameError",
     "evalue": "name 'lfp' is not defined",
     "output_type": "error",
     "traceback": [
      "\u001b[0;31m---------------------------------------------------------------------------\u001b[0m",
      "\u001b[0;31mNameError\u001b[0m                                 Traceback (most recent call last)",
      "\u001b[0;32m/tmp/ipykernel_317431/4172713051.py\u001b[0m in \u001b[0;36m<module>\u001b[0;34m\u001b[0m\n\u001b[1;32m      2\u001b[0m \u001b[0mphase_locks\u001b[0m \u001b[0;34m=\u001b[0m \u001b[0;34m[\u001b[0m\u001b[0;34m]\u001b[0m\u001b[0;34m\u001b[0m\u001b[0;34m\u001b[0m\u001b[0m\n\u001b[1;32m      3\u001b[0m \u001b[0;32mfor\u001b[0m \u001b[0mi\u001b[0m \u001b[0;32min\u001b[0m \u001b[0mtqdm\u001b[0m\u001b[0;34m(\u001b[0m\u001b[0mfreq_bins\u001b[0m\u001b[0;34m)\u001b[0m\u001b[0;34m:\u001b[0m\u001b[0;34m\u001b[0m\u001b[0;34m\u001b[0m\u001b[0m\n\u001b[0;32m----> 4\u001b[0;31m     \u001b[0mfilt\u001b[0m \u001b[0;34m=\u001b[0m \u001b[0mbk\u001b[0m\u001b[0;34m.\u001b[0m\u001b[0msignal\u001b[0m\u001b[0;34m.\u001b[0m\u001b[0mpassband\u001b[0m\u001b[0;34m(\u001b[0m\u001b[0mlfp\u001b[0m\u001b[0;34m,\u001b[0m\u001b[0mi\u001b[0m\u001b[0;34m+\u001b[0m\u001b[0;36m0.1\u001b[0m\u001b[0;34m,\u001b[0m\u001b[0mi\u001b[0m\u001b[0;34m+\u001b[0m\u001b[0;36m1\u001b[0m\u001b[0;34m)\u001b[0m\u001b[0;34m\u001b[0m\u001b[0;34m\u001b[0m\u001b[0m\n\u001b[0m\u001b[1;32m      5\u001b[0m     \u001b[0mpower\u001b[0m\u001b[0;34m,\u001b[0m\u001b[0mphase\u001b[0m \u001b[0;34m=\u001b[0m \u001b[0mbk\u001b[0m\u001b[0;34m.\u001b[0m\u001b[0msignal\u001b[0m\u001b[0;34m.\u001b[0m\u001b[0mhilbert\u001b[0m\u001b[0;34m(\u001b[0m\u001b[0mfilt\u001b[0m\u001b[0;34m)\u001b[0m\u001b[0;34m\u001b[0m\u001b[0;34m\u001b[0m\u001b[0m\n\u001b[1;32m      6\u001b[0m \u001b[0;34m\u001b[0m\u001b[0m\n",
      "\u001b[0;31mNameError\u001b[0m: name 'lfp' is not defined"
     ]
    }
   ],
   "source": [
    "freq_bins = np.arange(0,50,1)\n",
    "phase_locks = []\n",
    "for i in tqdm(freq_bins):\n",
    "    filt = bk.signal.passband(lfp,i+0.1,i+1)\n",
    "    power,phase = bk.signal.hilbert(filt)\n",
    "\n",
    "\n",
    "    neurons_phase = []\n",
    "    neurons_rem_fr = []\n",
    "    for i, n in enumerate(neurons):\n",
    "        neurons_phase.append(phase.realign(n.restrict(states['Rem'])))\n",
    "        neurons_rem_fr.append(\n",
    "            len(n.restrict(states['Rem']))/states['Rem'].tot_length(time_units='s'))\n",
    "\n",
    "    pvalues = []\n",
    "    kappas = []\n",
    "    modulated = []\n",
    "    MRLs = []\n",
    "    for i, p in enumerate(neurons_phase):\n",
    "        pvalue = apy.rayleightest(p.values)\n",
    "        pvalues.append(pvalue)\n",
    "\n",
    "        kappa = concentration(p.values)\n",
    "        kappas.append(kappa)\n",
    "\n",
    "        MRL = mean_resultant_length(p.values)\n",
    "        MRLs.append(MRL)\n",
    "\n",
    "        if (pvalue < 0.01) and MRL > 0.04:\n",
    "            modulated.append(True)\n",
    "        else:\n",
    "            modulated.append(False)\n",
    "\n",
    "    phase_lock = pd.DataFrame({'FR_Rem': neurons_rem_fr,\n",
    "                               'MRL': MRLs,\n",
    "                               'Kappa': kappas,\n",
    "                               'pValue': pvalues,\n",
    "                               'modulated': modulated})\n",
    "\n",
    "    # pvalues = pd.DataFrame(pvalues, columns=['pValue'])\n",
    "    # FRRem = pd.DataFrame(neurons_rem_fr, columns=['FRRem'])\n",
    "\n",
    "    phase_lock = pd.concat([metadata, phase_lock], axis=1)\n",
    "    phase_locks.append(phase_lock)\n"
   ]
  },
  {
   "cell_type": "code",
   "execution_count": 14,
   "metadata": {},
   "outputs": [
    {
     "ename": "NameError",
     "evalue": "name 'neurons' is not defined",
     "output_type": "error",
     "traceback": [
      "\u001b[0;31m---------------------------------------------------------------------------\u001b[0m",
      "\u001b[0;31mNameError\u001b[0m                                 Traceback (most recent call last)",
      "\u001b[0;32m/tmp/ipykernel_317431/3688146012.py\u001b[0m in \u001b[0;36m<module>\u001b[0;34m\u001b[0m\n\u001b[1;32m      1\u001b[0m \u001b[0mget_ipython\u001b[0m\u001b[0;34m(\u001b[0m\u001b[0;34m)\u001b[0m\u001b[0;34m.\u001b[0m\u001b[0mrun_line_magic\u001b[0m\u001b[0;34m(\u001b[0m\u001b[0;34m'matplotlib'\u001b[0m\u001b[0;34m,\u001b[0m \u001b[0;34m'qt'\u001b[0m\u001b[0;34m)\u001b[0m\u001b[0;34m\u001b[0m\u001b[0;34m\u001b[0m\u001b[0m\n\u001b[0;32m----> 2\u001b[0;31m \u001b[0;32mfor\u001b[0m \u001b[0mj\u001b[0m\u001b[0;34m,\u001b[0m\u001b[0mn\u001b[0m \u001b[0;32min\u001b[0m \u001b[0menumerate\u001b[0m\u001b[0;34m(\u001b[0m\u001b[0mneurons\u001b[0m\u001b[0;34m[\u001b[0m\u001b[0;36m0\u001b[0m\u001b[0;34m:\u001b[0m\u001b[0;36m5\u001b[0m\u001b[0;34m]\u001b[0m\u001b[0;34m)\u001b[0m\u001b[0;34m:\u001b[0m\u001b[0;34m\u001b[0m\u001b[0;34m\u001b[0m\u001b[0m\n\u001b[0m\u001b[1;32m      3\u001b[0m     \u001b[0mplt\u001b[0m\u001b[0;34m.\u001b[0m\u001b[0mfigure\u001b[0m\u001b[0;34m(\u001b[0m\u001b[0;34m)\u001b[0m\u001b[0;34m\u001b[0m\u001b[0;34m\u001b[0m\u001b[0m\n\u001b[1;32m      4\u001b[0m     \u001b[0;32mfor\u001b[0m \u001b[0mi\u001b[0m\u001b[0;34m,\u001b[0m\u001b[0mp\u001b[0m \u001b[0;32min\u001b[0m \u001b[0menumerate\u001b[0m\u001b[0;34m(\u001b[0m\u001b[0mphase_locks\u001b[0m\u001b[0;34m)\u001b[0m\u001b[0;34m:\u001b[0m\u001b[0;34m\u001b[0m\u001b[0;34m\u001b[0m\u001b[0m\n\u001b[1;32m      5\u001b[0m         \u001b[0mplt\u001b[0m\u001b[0;34m.\u001b[0m\u001b[0mscatter\u001b[0m\u001b[0;34m(\u001b[0m\u001b[0mfreq_bins\u001b[0m\u001b[0;34m[\u001b[0m\u001b[0mi\u001b[0m\u001b[0;34m]\u001b[0m\u001b[0;34m+\u001b[0m\u001b[0;36m2.5\u001b[0m\u001b[0;34m,\u001b[0m\u001b[0mp\u001b[0m\u001b[0;34m[\u001b[0m\u001b[0;34m'MRL'\u001b[0m\u001b[0;34m]\u001b[0m\u001b[0;34m[\u001b[0m\u001b[0mj\u001b[0m\u001b[0;34m]\u001b[0m\u001b[0;34m,\u001b[0m\u001b[0mfacecolor\u001b[0m \u001b[0;34m=\u001b[0m \u001b[0;34m'grey'\u001b[0m\u001b[0;34m)\u001b[0m\u001b[0;34m\u001b[0m\u001b[0;34m\u001b[0m\u001b[0m\n",
      "\u001b[0;31mNameError\u001b[0m: name 'neurons' is not defined"
     ]
    }
   ],
   "source": [
    "%matplotlib qt\n",
    "for j,n in enumerate(neurons[0:5]):\n",
    "    plt.figure()\n",
    "    for i,p in enumerate(phase_locks):\n",
    "        plt.scatter(freq_bins[i]+2.5,p['MRL'][j],facecolor = 'grey')"
   ]
  },
  {
   "cell_type": "code",
   "execution_count": null,
   "metadata": {},
   "outputs": [],
   "source": []
  }
 ],
 "metadata": {
  "interpreter": {
   "hash": "dc93b3fb48dfd2593d4a40b397dc62a97606514bfa701f6565ff70ef36514844"
  },
  "kernelspec": {
   "display_name": "Python 3.9.7 64-bit ('base': conda)",
   "language": "python",
   "name": "python3"
  },
  "language_info": {
   "codemirror_mode": {
    "name": "ipython",
    "version": 3
   },
   "file_extension": ".py",
   "mimetype": "text/x-python",
   "name": "python",
   "nbconvert_exporter": "python",
   "pygments_lexer": "ipython3",
   "version": "3.9.7"
  },
  "orig_nbformat": 4
 },
 "nbformat": 4,
 "nbformat_minor": 2
}
