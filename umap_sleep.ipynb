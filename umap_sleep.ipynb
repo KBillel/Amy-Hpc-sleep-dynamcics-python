{
 "cells": [
  {
   "cell_type": "code",
   "execution_count": 2,
   "metadata": {},
   "outputs": [],
   "source": [
    "import bk.load\n",
    "import bk.compute\n",
    "\n",
    "import pandas as pd\n",
    "import numpy as np\n",
    "import matplotlib.pyplot as plt\n",
    "\n",
    "import neuroseries as nts\n",
    "\n",
    "from scipy.stats import zscore\n",
    "from tqdm import tqdm\n",
    "\n",
    "import umap\n",
    "import umap.plot"
   ]
  },
  {
   "cell_type": "code",
   "execution_count": 3,
   "metadata": {},
   "outputs": [
    {
     "name": "stdout",
     "output_type": "stream",
     "text": [
      "Rat : 8 on day : 6\n",
      "Working with session Rat08-20130713 @ /home/billel/Data/GG-Dataset/Rat08/Rat08-20130713\n",
      "Data already saved in Numpy format, loading them from here:\n",
      "Rat08-20130713-neurons.npy\n",
      "Rat08-20130713-metadata.npy\n"
     ]
    }
   ],
   "source": [
    "bk.load.current_session_linux()\n",
    "neurons,metadata = bk.load.spikes()\n",
    "states = bk.load.states()\n",
    "states.update({'sleep':states['Rem'].union(states['sws'])})"
   ]
  },
  {
   "cell_type": "code",
   "execution_count": 94,
   "metadata": {},
   "outputs": [],
   "source": [
    "actmat = bk.compute.binSpikes(neurons[metadata.Region == 'BLA'],0.50,as_Tsd=True)\n",
    "actmat = actmat.restrict(states['sleep'])"
   ]
  },
  {
   "cell_type": "code",
   "execution_count": 106,
   "metadata": {},
   "outputs": [
    {
     "data": {
      "text/plain": [
       "<matplotlib.image.AxesImage at 0x7fbb27566460>"
      ]
     },
     "execution_count": 106,
     "metadata": {},
     "output_type": "execute_result"
    }
   ],
   "source": [
    "plt.imshow(zscore(actmat.values[:5000,:],1),aspect='auto',interpolation='none')"
   ]
  },
  {
   "cell_type": "code",
   "execution_count": 95,
   "metadata": {},
   "outputs": [],
   "source": [
    "in_rem = states['Rem'].in_interval(actmat)\n",
    "in_sws = states['sws'].in_interval(actmat)\n",
    "\n",
    "state_vector = np.empty(len(actmat),dtype='object')\n",
    "state_vector[in_rem > 0] = 'REM'\n",
    "state_vector[in_sws > 0] = 'NREM'\n",
    "state_vector[state_vector == None] = 'None'"
   ]
  },
  {
   "cell_type": "code",
   "execution_count": 121,
   "metadata": {},
   "outputs": [
    {
     "data": {
      "text/plain": [
       "<AxesSubplot:>"
      ]
     },
     "execution_count": 121,
     "metadata": {},
     "output_type": "execute_result"
    }
   ],
   "source": [
    "%matplotlib qt\n",
    "mapper = umap.UMAP().fit(zscore(actmat.values,0))\n",
    "umap.plot.points(mapper, labels=state_vector)"
   ]
  },
  {
   "cell_type": "code",
   "execution_count": 120,
   "metadata": {},
   "outputs": [
    {
     "data": {
      "text/plain": [
       "array([0.10732339, 0.01531809, 0.33556376, ..., 0.1775795 , 0.13485741,\n",
       "       0.07884294])"
      ]
     },
     "execution_count": 120,
     "metadata": {},
     "output_type": "execute_result"
    }
   ],
   "source": [
    "np.nanmean(zscore(actmat.values,0),1)"
   ]
  },
  {
   "cell_type": "code",
   "execution_count": 78,
   "metadata": {},
   "outputs": [],
   "source": [
    "def dimreduction(neurons,binSize = 0.025,baseline_intervals = None):\n",
    "    from scipy.stats import zscore\n",
    "\n",
    "    t,actmat = bk.compute.binSpikes(neurons,binSize=binSize)\n",
    "    actmat = zscore(actmat,1)\n",
    "    actmat = actmat.T\n",
    "    actmat = nts.TsdFrame(t,actmat,time_units='s')\n",
    "\n",
    "    if baseline_intervals is not None:\n",
    "        c = np.corrcoef(actmat.restrict(baseline_intervals).values.T)\n",
    "    else: \n",
    "        c = np.corrcoef(actmat.values.T)\n",
    "    eigvalues,vectors = np.linalg.eig(c)\n",
    "    \n",
    "    #The documentation of numpy precise that eigvalues are not sorted.\n",
    "    order = np.argsort(eigvalues)[::-1]\n",
    "    eigvalues = eigvalues[order]\n",
    "    vectors = vectors[:,order]\n",
    "    \n",
    "    projections = np.zeros_like(actmat.values.T)\n",
    "    for i,v in enumerate(vectors.T):\n",
    "        projections[i] = actmat.values.dot(v)\n",
    "    \n",
    "    return t,projections"
   ]
  },
  {
   "cell_type": "code",
   "execution_count": null,
   "metadata": {},
   "outputs": [],
   "source": []
  }
 ],
 "metadata": {
  "interpreter": {
   "hash": "dc93b3fb48dfd2593d4a40b397dc62a97606514bfa701f6565ff70ef36514844"
  },
  "kernelspec": {
   "display_name": "Python 3.9.7 ('base')",
   "language": "python",
   "name": "python3"
  },
  "language_info": {
   "codemirror_mode": {
    "name": "ipython",
    "version": 3
   },
   "file_extension": ".py",
   "mimetype": "text/x-python",
   "name": "python",
   "nbconvert_exporter": "python",
   "pygments_lexer": "ipython3",
   "version": "3.9.7"
  },
  "orig_nbformat": 4
 },
 "nbformat": 4,
 "nbformat_minor": 2
}
