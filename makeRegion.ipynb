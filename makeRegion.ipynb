{
 "cells": [
  {
   "cell_type": "code",
   "execution_count": 3,
   "metadata": {},
   "outputs": [],
   "source": [
    "import bk.load\n",
    "import scipy.io\n",
    "import numpy as np\n",
    "import pandas as pd\n",
    "import os"
   ]
  },
  {
   "cell_type": "code",
   "execution_count": 1,
   "metadata": {},
   "outputs": [],
   "source": [
    "def makeRegionTypes(path):\n",
    "    \n",
    "    bk.load.current_session(path)\n",
    "    neurons,shanks = bk.load.loadSpikeData(bk.load.path)\n",
    "    \n",
    "    finalType = scipy.io.loadmat('Z:\\All-Rats\\AllRats-FinalType.mat')['finalType']\n",
    "    finalType = finalType[np.all(finalType[:,0:2]==[bk.load.rat,bk.load.day],1)]\n",
    "    \n",
    "    types = np.empty((shanks.shape[0],1),dtype = np.object)\n",
    "    types[finalType[:,4] == 0] = 'Unk'\n",
    "    types[finalType[:,4] == 1] = 'Pyr'\n",
    "    types[finalType[:,4] == 2] = 'Int'\n",
    "    \n",
    "    structures = scipy.io.loadmat('Z:\\All-Rats\\Structures\\structures.mat')\n",
    "    useless  = ['__header__','__version__','__globals__','olfact','basal']\n",
    "    for u in useless:\n",
    "        del structures[u]\n",
    "         \n",
    "    for s in structures:\n",
    "        structures[s] = structures[s][np.all(structures[s][:,0:2] == [bk.load.rat,bk.load.day],1),:]\n",
    "    \n",
    "    stru = []\n",
    "    for sh in shanks[:,0]:\n",
    "        for st in structures:\n",
    "            if np.any(structures[st]):\n",
    "                if sh in structures[st][:,2]:\n",
    "                    stru.append([st])\n",
    "                    break\n",
    "        else: stru.append(['None'])\n",
    "                    \n",
    "    metadata = np.hstack((shanks,stru,types))\n",
    "    metadata = pd.DataFrame(metadata,columns=['Shank','Id','Region','Type'])\n",
    "    \n",
    "    print('Saving metadata for ' + str(len(metadata)) + ' neurons as ' + bk.load.session+'-metadata')\n",
    "    np.save(bk.load.session+'-metadata',metadata)\n",
    "    \n",
    "    print('Deleting '+bk.load.session+'-neuronsShanks.npy')\n",
    "    os.remove(bk.load.session + '-neuronsShanks.npy')"
   ]
  },
  {
   "cell_type": "code",
   "execution_count": 23,
   "metadata": {},
   "outputs": [
    {
     "name": "stdout",
     "output_type": "stream",
     "text": [
      "Rat : 8 on day : 6\n",
      "Working with session Rat08-20130713 @ Z:\\Rat08\\Rat08-20130713\n"
     ]
    },
    {
     "data": {
      "text/plain": [
       "True"
      ]
     },
     "execution_count": 23,
     "metadata": {},
     "output_type": "execute_result"
    }
   ],
   "source": [
    "bk.load.current_session()"
   ]
  },
  {
   "cell_type": "code",
   "execution_count": 24,
   "metadata": {},
   "outputs": [
    {
     "name": "stdout",
     "output_type": "stream",
     "text": [
      "Rat : 8 on day : 6\n",
      "Working with session Rat08-20130713 @ Z:\\Rat08\\Rat08-20130713\n",
      "Data already saved in Numpy format, loading them from here:\n",
      "Rat08-20130713-neurons.npy\n",
      "Rat08-20130713-NeuronsShanks.npy\n"
     ]
    },
    {
     "ename": "FileNotFoundError",
     "evalue": "[Errno 2] No such file or directory: 'Z:\\\\Rat08\\\\Rat08-20130713//Rat08-20130713-neuronsShanks.npy'",
     "output_type": "error",
     "traceback": [
      "\u001b[1;31m---------------------------------------------------------------------------\u001b[0m",
      "\u001b[1;31mFileNotFoundError\u001b[0m                         Traceback (most recent call last)",
      "\u001b[1;32m<ipython-input-24-3dddc37cc831>\u001b[0m in \u001b[0;36m<module>\u001b[1;34m\u001b[0m\n\u001b[1;32m----> 1\u001b[1;33m \u001b[0mmakeRegionTypes\u001b[0m\u001b[1;33m(\u001b[0m\u001b[0mbk\u001b[0m\u001b[1;33m.\u001b[0m\u001b[0mload\u001b[0m\u001b[1;33m.\u001b[0m\u001b[0mpath\u001b[0m\u001b[1;33m)\u001b[0m\u001b[1;33m\u001b[0m\u001b[1;33m\u001b[0m\u001b[0m\n\u001b[0m",
      "\u001b[1;32m<ipython-input-22-49dbcd8b4c16>\u001b[0m in \u001b[0;36mmakeRegionTypes\u001b[1;34m(path)\u001b[0m\n\u001b[0;32m      2\u001b[0m \u001b[1;33m\u001b[0m\u001b[0m\n\u001b[0;32m      3\u001b[0m     \u001b[0mbk\u001b[0m\u001b[1;33m.\u001b[0m\u001b[0mload\u001b[0m\u001b[1;33m.\u001b[0m\u001b[0mcurrent_session\u001b[0m\u001b[1;33m(\u001b[0m\u001b[0mpath\u001b[0m\u001b[1;33m)\u001b[0m\u001b[1;33m\u001b[0m\u001b[1;33m\u001b[0m\u001b[0m\n\u001b[1;32m----> 4\u001b[1;33m     \u001b[0mneurons\u001b[0m\u001b[1;33m,\u001b[0m\u001b[0mshanks\u001b[0m \u001b[1;33m=\u001b[0m \u001b[0mbk\u001b[0m\u001b[1;33m.\u001b[0m\u001b[0mload\u001b[0m\u001b[1;33m.\u001b[0m\u001b[0mloadSpikeData\u001b[0m\u001b[1;33m(\u001b[0m\u001b[0mbk\u001b[0m\u001b[1;33m.\u001b[0m\u001b[0mload\u001b[0m\u001b[1;33m.\u001b[0m\u001b[0mpath\u001b[0m\u001b[1;33m)\u001b[0m\u001b[1;33m\u001b[0m\u001b[1;33m\u001b[0m\u001b[0m\n\u001b[0m\u001b[0;32m      5\u001b[0m \u001b[1;33m\u001b[0m\u001b[0m\n\u001b[0;32m      6\u001b[0m     \u001b[0mfinalType\u001b[0m \u001b[1;33m=\u001b[0m \u001b[0mscipy\u001b[0m\u001b[1;33m.\u001b[0m\u001b[0mio\u001b[0m\u001b[1;33m.\u001b[0m\u001b[0mloadmat\u001b[0m\u001b[1;33m(\u001b[0m\u001b[1;34m'Z:\\All-Rats\\AllRats-FinalType.mat'\u001b[0m\u001b[1;33m)\u001b[0m\u001b[1;33m[\u001b[0m\u001b[1;34m'finalType'\u001b[0m\u001b[1;33m]\u001b[0m\u001b[1;33m\u001b[0m\u001b[1;33m\u001b[0m\u001b[0m\n",
      "\u001b[1;32mZ:\\Python\\Billel\\bk\\load.py\u001b[0m in \u001b[0;36mloadSpikeData\u001b[1;34m(path, index, fs)\u001b[0m\n\u001b[0;32m    150\u001b[0m         \u001b[0mneurons\u001b[0m \u001b[1;33m=\u001b[0m \u001b[0mnp\u001b[0m\u001b[1;33m.\u001b[0m\u001b[0mload\u001b[0m\u001b[1;33m(\u001b[0m\u001b[0mpath\u001b[0m\u001b[1;33m+\u001b[0m\u001b[1;34m'//'\u001b[0m \u001b[1;33m+\u001b[0m \u001b[0msession\u001b[0m \u001b[1;33m+\u001b[0m\u001b[1;34m'-neurons.npy'\u001b[0m\u001b[1;33m,\u001b[0m\u001b[0mallow_pickle\u001b[0m\u001b[1;33m=\u001b[0m\u001b[1;32mTrue\u001b[0m\u001b[1;33m)\u001b[0m\u001b[1;33m\u001b[0m\u001b[1;33m\u001b[0m\u001b[0m\n\u001b[0;32m    151\u001b[0m         \u001b[0mprint\u001b[0m\u001b[1;33m(\u001b[0m\u001b[0msession\u001b[0m \u001b[1;33m+\u001b[0m\u001b[1;34m'-NeuronsShanks.npy'\u001b[0m\u001b[1;33m)\u001b[0m\u001b[1;33m\u001b[0m\u001b[1;33m\u001b[0m\u001b[0m\n\u001b[1;32m--> 152\u001b[1;33m         \u001b[0mshanks\u001b[0m \u001b[1;33m=\u001b[0m \u001b[0mnp\u001b[0m\u001b[1;33m.\u001b[0m\u001b[0mload\u001b[0m\u001b[1;33m(\u001b[0m\u001b[0mpath\u001b[0m\u001b[1;33m+\u001b[0m\u001b[1;34m'//'\u001b[0m \u001b[1;33m+\u001b[0m \u001b[0msession\u001b[0m \u001b[1;33m+\u001b[0m\u001b[1;34m'-neuronsShanks.npy'\u001b[0m\u001b[1;33m,\u001b[0m\u001b[0mallow_pickle\u001b[0m\u001b[1;33m=\u001b[0m\u001b[1;32mTrue\u001b[0m\u001b[1;33m)\u001b[0m\u001b[1;33m\u001b[0m\u001b[1;33m\u001b[0m\u001b[0m\n\u001b[0m\u001b[0;32m    153\u001b[0m \u001b[1;33m\u001b[0m\u001b[0m\n\u001b[0;32m    154\u001b[0m         \u001b[1;32mreturn\u001b[0m \u001b[0mneurons\u001b[0m\u001b[1;33m,\u001b[0m\u001b[0mshanks\u001b[0m\u001b[1;33m\u001b[0m\u001b[1;33m\u001b[0m\u001b[0m\n",
      "\u001b[1;32mC:\\ProgramData\\Anaconda3\\lib\\site-packages\\numpy\\lib\\npyio.py\u001b[0m in \u001b[0;36mload\u001b[1;34m(file, mmap_mode, allow_pickle, fix_imports, encoding)\u001b[0m\n\u001b[0;32m    414\u001b[0m             \u001b[0mown_fid\u001b[0m \u001b[1;33m=\u001b[0m \u001b[1;32mFalse\u001b[0m\u001b[1;33m\u001b[0m\u001b[1;33m\u001b[0m\u001b[0m\n\u001b[0;32m    415\u001b[0m         \u001b[1;32melse\u001b[0m\u001b[1;33m:\u001b[0m\u001b[1;33m\u001b[0m\u001b[1;33m\u001b[0m\u001b[0m\n\u001b[1;32m--> 416\u001b[1;33m             \u001b[0mfid\u001b[0m \u001b[1;33m=\u001b[0m \u001b[0mstack\u001b[0m\u001b[1;33m.\u001b[0m\u001b[0menter_context\u001b[0m\u001b[1;33m(\u001b[0m\u001b[0mopen\u001b[0m\u001b[1;33m(\u001b[0m\u001b[0mos_fspath\u001b[0m\u001b[1;33m(\u001b[0m\u001b[0mfile\u001b[0m\u001b[1;33m)\u001b[0m\u001b[1;33m,\u001b[0m \u001b[1;34m\"rb\"\u001b[0m\u001b[1;33m)\u001b[0m\u001b[1;33m)\u001b[0m\u001b[1;33m\u001b[0m\u001b[1;33m\u001b[0m\u001b[0m\n\u001b[0m\u001b[0;32m    417\u001b[0m             \u001b[0mown_fid\u001b[0m \u001b[1;33m=\u001b[0m \u001b[1;32mTrue\u001b[0m\u001b[1;33m\u001b[0m\u001b[1;33m\u001b[0m\u001b[0m\n\u001b[0;32m    418\u001b[0m \u001b[1;33m\u001b[0m\u001b[0m\n",
      "\u001b[1;31mFileNotFoundError\u001b[0m: [Errno 2] No such file or directory: 'Z:\\\\Rat08\\\\Rat08-20130713//Rat08-20130713-neuronsShanks.npy'"
     ]
    }
   ],
   "source": [
    "makeRegionTypes(bk.load.path)"
   ]
  },
  {
   "cell_type": "code",
   "execution_count": 4,
   "metadata": {},
   "outputs": [
    {
     "ename": "FileNotFoundError",
     "evalue": "[Errno 2] No such file or directory: 'Z:/All-Rats/Billel/session_indexing.csv'",
     "output_type": "error",
     "traceback": [
      "\u001b[0;31m---------------------------------------------------------------------------\u001b[0m",
      "\u001b[0;31mFileNotFoundError\u001b[0m                         Traceback (most recent call last)",
      "\u001b[0;32m<ipython-input-4-e645a58611ff>\u001b[0m in \u001b[0;36m<module>\u001b[0;34m\u001b[0m\n\u001b[1;32m      3\u001b[0m \u001b[0;34m\u001b[0m\u001b[0m\n\u001b[1;32m      4\u001b[0m \u001b[0;34m\u001b[0m\u001b[0m\n\u001b[0;32m----> 5\u001b[0;31m \u001b[0mmakeRegionTypes\u001b[0m\u001b[0;34m(\u001b[0m\u001b[0mbk\u001b[0m\u001b[0;34m.\u001b[0m\u001b[0mload\u001b[0m\u001b[0;34m.\u001b[0m\u001b[0mpath\u001b[0m\u001b[0;34m)\u001b[0m\u001b[0;34m\u001b[0m\u001b[0;34m\u001b[0m\u001b[0m\n\u001b[0m",
      "\u001b[0;32m<ipython-input-1-fdebf48ac198>\u001b[0m in \u001b[0;36mmakeRegionTypes\u001b[0;34m(path)\u001b[0m\n\u001b[1;32m      1\u001b[0m \u001b[0;32mdef\u001b[0m \u001b[0mmakeRegionTypes\u001b[0m\u001b[0;34m(\u001b[0m\u001b[0mpath\u001b[0m\u001b[0;34m)\u001b[0m\u001b[0;34m:\u001b[0m\u001b[0;34m\u001b[0m\u001b[0;34m\u001b[0m\u001b[0m\n\u001b[1;32m      2\u001b[0m \u001b[0;34m\u001b[0m\u001b[0m\n\u001b[0;32m----> 3\u001b[0;31m     \u001b[0mbk\u001b[0m\u001b[0;34m.\u001b[0m\u001b[0mload\u001b[0m\u001b[0;34m.\u001b[0m\u001b[0mcurrent_session\u001b[0m\u001b[0;34m(\u001b[0m\u001b[0mpath\u001b[0m\u001b[0;34m)\u001b[0m\u001b[0;34m\u001b[0m\u001b[0;34m\u001b[0m\u001b[0m\n\u001b[0m\u001b[1;32m      4\u001b[0m     \u001b[0mneurons\u001b[0m\u001b[0;34m,\u001b[0m\u001b[0mshanks\u001b[0m \u001b[0;34m=\u001b[0m \u001b[0mbk\u001b[0m\u001b[0;34m.\u001b[0m\u001b[0mload\u001b[0m\u001b[0;34m.\u001b[0m\u001b[0mloadSpikeData\u001b[0m\u001b[0;34m(\u001b[0m\u001b[0mbk\u001b[0m\u001b[0;34m.\u001b[0m\u001b[0mload\u001b[0m\u001b[0;34m.\u001b[0m\u001b[0mpath\u001b[0m\u001b[0;34m)\u001b[0m\u001b[0;34m\u001b[0m\u001b[0;34m\u001b[0m\u001b[0m\n\u001b[1;32m      5\u001b[0m \u001b[0;34m\u001b[0m\u001b[0m\n",
      "\u001b[0;32m~/Documents/Python/Amy-Hpc-sleep-dynamics-python/bk/load.py\u001b[0m in \u001b[0;36mcurrent_session\u001b[0;34m(path_local)\u001b[0m\n\u001b[1;32m     27\u001b[0m \u001b[0;34m\u001b[0m\u001b[0m\n\u001b[1;32m     28\u001b[0m \u001b[0;34m\u001b[0m\u001b[0m\n\u001b[0;32m---> 29\u001b[0;31m     \u001b[0msession_index\u001b[0m \u001b[0;34m=\u001b[0m \u001b[0mpd\u001b[0m\u001b[0;34m.\u001b[0m\u001b[0mread_csv\u001b[0m\u001b[0;34m(\u001b[0m\u001b[0;34m'Z:/All-Rats/Billel/session_indexing.csv'\u001b[0m\u001b[0;34m,\u001b[0m\u001b[0msep\u001b[0m \u001b[0;34m=\u001b[0m \u001b[0;34m';'\u001b[0m\u001b[0;34m)\u001b[0m\u001b[0;34m\u001b[0m\u001b[0;34m\u001b[0m\u001b[0m\n\u001b[0m\u001b[1;32m     30\u001b[0m \u001b[0;34m\u001b[0m\u001b[0m\n\u001b[1;32m     31\u001b[0m     \u001b[0mpath\u001b[0m \u001b[0;34m=\u001b[0m \u001b[0mpath_local\u001b[0m\u001b[0;34m\u001b[0m\u001b[0;34m\u001b[0m\u001b[0m\n",
      "\u001b[0;32m~/anaconda3/lib/python3.7/site-packages/pandas/io/parsers.py\u001b[0m in \u001b[0;36mread_csv\u001b[0;34m(filepath_or_buffer, sep, delimiter, header, names, index_col, usecols, squeeze, prefix, mangle_dupe_cols, dtype, engine, converters, true_values, false_values, skipinitialspace, skiprows, skipfooter, nrows, na_values, keep_default_na, na_filter, verbose, skip_blank_lines, parse_dates, infer_datetime_format, keep_date_col, date_parser, dayfirst, cache_dates, iterator, chunksize, compression, thousands, decimal, lineterminator, quotechar, quoting, doublequote, escapechar, comment, encoding, dialect, error_bad_lines, warn_bad_lines, delim_whitespace, low_memory, memory_map, float_precision)\u001b[0m\n\u001b[1;32m    684\u001b[0m     )\n\u001b[1;32m    685\u001b[0m \u001b[0;34m\u001b[0m\u001b[0m\n\u001b[0;32m--> 686\u001b[0;31m     \u001b[0;32mreturn\u001b[0m \u001b[0m_read\u001b[0m\u001b[0;34m(\u001b[0m\u001b[0mfilepath_or_buffer\u001b[0m\u001b[0;34m,\u001b[0m \u001b[0mkwds\u001b[0m\u001b[0;34m)\u001b[0m\u001b[0;34m\u001b[0m\u001b[0;34m\u001b[0m\u001b[0m\n\u001b[0m\u001b[1;32m    687\u001b[0m \u001b[0;34m\u001b[0m\u001b[0m\n\u001b[1;32m    688\u001b[0m \u001b[0;34m\u001b[0m\u001b[0m\n",
      "\u001b[0;32m~/anaconda3/lib/python3.7/site-packages/pandas/io/parsers.py\u001b[0m in \u001b[0;36m_read\u001b[0;34m(filepath_or_buffer, kwds)\u001b[0m\n\u001b[1;32m    450\u001b[0m \u001b[0;34m\u001b[0m\u001b[0m\n\u001b[1;32m    451\u001b[0m     \u001b[0;31m# Create the parser.\u001b[0m\u001b[0;34m\u001b[0m\u001b[0;34m\u001b[0m\u001b[0;34m\u001b[0m\u001b[0m\n\u001b[0;32m--> 452\u001b[0;31m     \u001b[0mparser\u001b[0m \u001b[0;34m=\u001b[0m \u001b[0mTextFileReader\u001b[0m\u001b[0;34m(\u001b[0m\u001b[0mfp_or_buf\u001b[0m\u001b[0;34m,\u001b[0m \u001b[0;34m**\u001b[0m\u001b[0mkwds\u001b[0m\u001b[0;34m)\u001b[0m\u001b[0;34m\u001b[0m\u001b[0;34m\u001b[0m\u001b[0m\n\u001b[0m\u001b[1;32m    453\u001b[0m \u001b[0;34m\u001b[0m\u001b[0m\n\u001b[1;32m    454\u001b[0m     \u001b[0;32mif\u001b[0m \u001b[0mchunksize\u001b[0m \u001b[0;32mor\u001b[0m \u001b[0miterator\u001b[0m\u001b[0;34m:\u001b[0m\u001b[0;34m\u001b[0m\u001b[0;34m\u001b[0m\u001b[0m\n",
      "\u001b[0;32m~/anaconda3/lib/python3.7/site-packages/pandas/io/parsers.py\u001b[0m in \u001b[0;36m__init__\u001b[0;34m(self, f, engine, **kwds)\u001b[0m\n\u001b[1;32m    934\u001b[0m             \u001b[0mself\u001b[0m\u001b[0;34m.\u001b[0m\u001b[0moptions\u001b[0m\u001b[0;34m[\u001b[0m\u001b[0;34m\"has_index_names\"\u001b[0m\u001b[0;34m]\u001b[0m \u001b[0;34m=\u001b[0m \u001b[0mkwds\u001b[0m\u001b[0;34m[\u001b[0m\u001b[0;34m\"has_index_names\"\u001b[0m\u001b[0;34m]\u001b[0m\u001b[0;34m\u001b[0m\u001b[0;34m\u001b[0m\u001b[0m\n\u001b[1;32m    935\u001b[0m \u001b[0;34m\u001b[0m\u001b[0m\n\u001b[0;32m--> 936\u001b[0;31m         \u001b[0mself\u001b[0m\u001b[0;34m.\u001b[0m\u001b[0m_make_engine\u001b[0m\u001b[0;34m(\u001b[0m\u001b[0mself\u001b[0m\u001b[0;34m.\u001b[0m\u001b[0mengine\u001b[0m\u001b[0;34m)\u001b[0m\u001b[0;34m\u001b[0m\u001b[0;34m\u001b[0m\u001b[0m\n\u001b[0m\u001b[1;32m    937\u001b[0m \u001b[0;34m\u001b[0m\u001b[0m\n\u001b[1;32m    938\u001b[0m     \u001b[0;32mdef\u001b[0m \u001b[0mclose\u001b[0m\u001b[0;34m(\u001b[0m\u001b[0mself\u001b[0m\u001b[0;34m)\u001b[0m\u001b[0;34m:\u001b[0m\u001b[0;34m\u001b[0m\u001b[0;34m\u001b[0m\u001b[0m\n",
      "\u001b[0;32m~/anaconda3/lib/python3.7/site-packages/pandas/io/parsers.py\u001b[0m in \u001b[0;36m_make_engine\u001b[0;34m(self, engine)\u001b[0m\n\u001b[1;32m   1166\u001b[0m     \u001b[0;32mdef\u001b[0m \u001b[0m_make_engine\u001b[0m\u001b[0;34m(\u001b[0m\u001b[0mself\u001b[0m\u001b[0;34m,\u001b[0m \u001b[0mengine\u001b[0m\u001b[0;34m=\u001b[0m\u001b[0;34m\"c\"\u001b[0m\u001b[0;34m)\u001b[0m\u001b[0;34m:\u001b[0m\u001b[0;34m\u001b[0m\u001b[0;34m\u001b[0m\u001b[0m\n\u001b[1;32m   1167\u001b[0m         \u001b[0;32mif\u001b[0m \u001b[0mengine\u001b[0m \u001b[0;34m==\u001b[0m \u001b[0;34m\"c\"\u001b[0m\u001b[0;34m:\u001b[0m\u001b[0;34m\u001b[0m\u001b[0;34m\u001b[0m\u001b[0m\n\u001b[0;32m-> 1168\u001b[0;31m             \u001b[0mself\u001b[0m\u001b[0;34m.\u001b[0m\u001b[0m_engine\u001b[0m \u001b[0;34m=\u001b[0m \u001b[0mCParserWrapper\u001b[0m\u001b[0;34m(\u001b[0m\u001b[0mself\u001b[0m\u001b[0;34m.\u001b[0m\u001b[0mf\u001b[0m\u001b[0;34m,\u001b[0m \u001b[0;34m**\u001b[0m\u001b[0mself\u001b[0m\u001b[0;34m.\u001b[0m\u001b[0moptions\u001b[0m\u001b[0;34m)\u001b[0m\u001b[0;34m\u001b[0m\u001b[0;34m\u001b[0m\u001b[0m\n\u001b[0m\u001b[1;32m   1169\u001b[0m         \u001b[0;32melse\u001b[0m\u001b[0;34m:\u001b[0m\u001b[0;34m\u001b[0m\u001b[0;34m\u001b[0m\u001b[0m\n\u001b[1;32m   1170\u001b[0m             \u001b[0;32mif\u001b[0m \u001b[0mengine\u001b[0m \u001b[0;34m==\u001b[0m \u001b[0;34m\"python\"\u001b[0m\u001b[0;34m:\u001b[0m\u001b[0;34m\u001b[0m\u001b[0;34m\u001b[0m\u001b[0m\n",
      "\u001b[0;32m~/anaconda3/lib/python3.7/site-packages/pandas/io/parsers.py\u001b[0m in \u001b[0;36m__init__\u001b[0;34m(self, src, **kwds)\u001b[0m\n\u001b[1;32m   1996\u001b[0m         \u001b[0mkwds\u001b[0m\u001b[0;34m[\u001b[0m\u001b[0;34m\"usecols\"\u001b[0m\u001b[0;34m]\u001b[0m \u001b[0;34m=\u001b[0m \u001b[0mself\u001b[0m\u001b[0;34m.\u001b[0m\u001b[0musecols\u001b[0m\u001b[0;34m\u001b[0m\u001b[0;34m\u001b[0m\u001b[0m\n\u001b[1;32m   1997\u001b[0m \u001b[0;34m\u001b[0m\u001b[0m\n\u001b[0;32m-> 1998\u001b[0;31m         \u001b[0mself\u001b[0m\u001b[0;34m.\u001b[0m\u001b[0m_reader\u001b[0m \u001b[0;34m=\u001b[0m \u001b[0mparsers\u001b[0m\u001b[0;34m.\u001b[0m\u001b[0mTextReader\u001b[0m\u001b[0;34m(\u001b[0m\u001b[0msrc\u001b[0m\u001b[0;34m,\u001b[0m \u001b[0;34m**\u001b[0m\u001b[0mkwds\u001b[0m\u001b[0;34m)\u001b[0m\u001b[0;34m\u001b[0m\u001b[0;34m\u001b[0m\u001b[0m\n\u001b[0m\u001b[1;32m   1999\u001b[0m         \u001b[0mself\u001b[0m\u001b[0;34m.\u001b[0m\u001b[0munnamed_cols\u001b[0m \u001b[0;34m=\u001b[0m \u001b[0mself\u001b[0m\u001b[0;34m.\u001b[0m\u001b[0m_reader\u001b[0m\u001b[0;34m.\u001b[0m\u001b[0munnamed_cols\u001b[0m\u001b[0;34m\u001b[0m\u001b[0;34m\u001b[0m\u001b[0m\n\u001b[1;32m   2000\u001b[0m \u001b[0;34m\u001b[0m\u001b[0m\n",
      "\u001b[0;32mpandas/_libs/parsers.pyx\u001b[0m in \u001b[0;36mpandas._libs.parsers.TextReader.__cinit__\u001b[0;34m()\u001b[0m\n",
      "\u001b[0;32mpandas/_libs/parsers.pyx\u001b[0m in \u001b[0;36mpandas._libs.parsers.TextReader._setup_parser_source\u001b[0;34m()\u001b[0m\n",
      "\u001b[0;31mFileNotFoundError\u001b[0m: [Errno 2] No such file or directory: 'Z:/All-Rats/Billel/session_indexing.csv'"
     ]
    }
   ],
   "source": [
    "bk.load.path = '/media/billel/GGLab-01-BK/DATA/Rat08-20130713/'\n",
    "bk.load.session = 'Rat08-20130713'\n",
    "\n",
    "\n",
    "makeRegionTypes(bk.load.path)"
   ]
  },
  {
   "cell_type": "code",
   "execution_count": 25,
   "metadata": {},
   "outputs": [],
   "source": [
    "data = np.load(bk.load.session+'-metadata.npy',allow_pickle=True)"
   ]
  },
  {
   "cell_type": "code",
   "execution_count": 176,
   "metadata": {},
   "outputs": [
    {
     "name": "stderr",
     "output_type": "stream",
     "text": [
      "100% |########################################################################|\r"
     ]
    },
    {
     "name": "stdout",
     "output_type": "stream",
     "text": [
      "Batch finished in 4.597650051116943\n",
      "Some session were not processed correctly\n",
      "['Rat08-20130708', 'Rat08-20130709', 'Rat08-20130710', 'Rat08-20130711', 'Rat08-20130712', 'Rat08-20130713', 'Rat08-20130715', 'Rat08-20130716', 'Rat08-20130717', 'Rat08-20130718', 'Rat08-20130719', 'Rat08-20130720', 'Rat08-20130722', 'Rat09-20140324', 'Rat09-20140325', 'Rat09-20140326', 'Rat09-20140327', 'Rat09-20140328', 'Rat09-20140329', 'Rat09-20140331', 'Rat09-20140401', 'Rat09-20140402', 'Rat09-20140403', 'Rat09-20140404', 'Rat09-20140405', 'Rat09-20140407', 'Rat09-20140408', 'Rat09-20140409', 'Rat10-20140619', 'Rat10-20140620', 'Rat10-20140622', 'Rat10-20140624', 'Rat10-20140626', 'Rat10-20140627', 'Rat10-20140628', 'Rat10-20140629', 'Rat10-20140701', 'Rat10-20140702', 'Rat10-20140703', 'Rat10-20140704', 'Rat10-20140705', 'Rat10-20140707', 'Rat10-20140708', 'Rat11-20150310', 'Rat11-20150312', 'Rat11-20150313', 'Rat11-20150314', 'Rat11-20150315', 'Rat11-20150316', 'Rat11-20150317', 'Rat11-20150321', 'Rat11-20150323', 'Rat11-20150325', 'Rat11-20150326', 'Rat11-20150327', 'Rat11-20150328', 'Rat11-20150330', 'Rat11-20150331', 'Rat11-20150401', 'Rat11-20150402', 'Rat11-20150403']\n",
      "100.0 %\n"
     ]
    },
    {
     "name": "stderr",
     "output_type": "stream",
     "text": [
      "\n"
     ]
    },
    {
     "data": {
      "text/plain": [
       "{}"
      ]
     },
     "execution_count": 176,
     "metadata": {},
     "output_type": "execute_result"
    }
   ],
   "source": [
    "bk.load.batch(makeRegionTypes)"
   ]
  },
  {
   "cell_type": "code",
   "execution_count": 32,
   "metadata": {},
   "outputs": [
    {
     "name": "stdout",
     "output_type": "stream",
     "text": [
      "Rat : 8 on day : 1\n",
      "Working with session Rat08-20130708 @ Z:\\Rat08\\Rat08-20130708\n"
     ]
    },
    {
     "data": {
      "text/plain": [
       "True"
      ]
     },
     "execution_count": 32,
     "metadata": {},
     "output_type": "execute_result"
    }
   ],
   "source": [
    "bk.load.current_session('Z:\\Rat08\\Rat08-20130708')"
   ]
  },
  {
   "cell_type": "code",
   "execution_count": 35,
   "metadata": {},
   "outputs": [
    {
     "name": "stdout",
     "output_type": "stream",
     "text": [
      "Rat : 8 on day : 1\n",
      "Working with session Rat08-20130708 @ Z:\\Rat08\\Rat08-20130708\n",
      "Data already saved in Numpy format, loading them from here:\n",
      "Rat08-20130708-neurons.npy\n",
      "Rat08-20130708-NeuronsShanks.npy\n"
     ]
    },
    {
     "ename": "ValueError",
     "evalue": "all the input array dimensions for the concatenation axis must match exactly, but along dimension 0, the array at index 0 has size 166 and the array at index 1 has size 160",
     "output_type": "error",
     "traceback": [
      "\u001b[1;31m---------------------------------------------------------------------------\u001b[0m",
      "\u001b[1;31mValueError\u001b[0m                                Traceback (most recent call last)",
      "\u001b[1;32m<ipython-input-35-ea2d2c35c6c7>\u001b[0m in \u001b[0;36m<module>\u001b[1;34m\u001b[0m\n\u001b[1;32m----> 1\u001b[1;33m \u001b[0mmakeRegionTypes\u001b[0m\u001b[1;33m(\u001b[0m\u001b[1;34m'Z:\\Rat08\\Rat08-20130708'\u001b[0m\u001b[1;33m)\u001b[0m\u001b[1;33m\u001b[0m\u001b[1;33m\u001b[0m\u001b[0m\n\u001b[0m",
      "\u001b[1;32m<ipython-input-22-49dbcd8b4c16>\u001b[0m in \u001b[0;36mmakeRegionTypes\u001b[1;34m(path)\u001b[0m\n\u001b[0;32m     28\u001b[0m                     \u001b[1;32mcontinue\u001b[0m\u001b[1;33m\u001b[0m\u001b[1;33m\u001b[0m\u001b[0m\n\u001b[0;32m     29\u001b[0m \u001b[1;33m\u001b[0m\u001b[0m\n\u001b[1;32m---> 30\u001b[1;33m     \u001b[0mmetadata\u001b[0m \u001b[1;33m=\u001b[0m \u001b[0mnp\u001b[0m\u001b[1;33m.\u001b[0m\u001b[0mhstack\u001b[0m\u001b[1;33m(\u001b[0m\u001b[1;33m(\u001b[0m\u001b[0mshanks\u001b[0m\u001b[1;33m,\u001b[0m\u001b[0mstru\u001b[0m\u001b[1;33m,\u001b[0m\u001b[0mtypes\u001b[0m\u001b[1;33m)\u001b[0m\u001b[1;33m)\u001b[0m\u001b[1;33m\u001b[0m\u001b[1;33m\u001b[0m\u001b[0m\n\u001b[0m\u001b[0;32m     31\u001b[0m     \u001b[0mmetadata\u001b[0m \u001b[1;33m=\u001b[0m \u001b[0mpd\u001b[0m\u001b[1;33m.\u001b[0m\u001b[0mDataFrame\u001b[0m\u001b[1;33m(\u001b[0m\u001b[0mmetadata\u001b[0m\u001b[1;33m,\u001b[0m\u001b[0mcolumns\u001b[0m\u001b[1;33m=\u001b[0m\u001b[1;33m[\u001b[0m\u001b[1;34m'Shank'\u001b[0m\u001b[1;33m,\u001b[0m\u001b[1;34m'Id'\u001b[0m\u001b[1;33m,\u001b[0m\u001b[1;34m'Region'\u001b[0m\u001b[1;33m,\u001b[0m\u001b[1;34m'Type'\u001b[0m\u001b[1;33m]\u001b[0m\u001b[1;33m)\u001b[0m\u001b[1;33m\u001b[0m\u001b[1;33m\u001b[0m\u001b[0m\n\u001b[0;32m     32\u001b[0m \u001b[1;33m\u001b[0m\u001b[0m\n",
      "\u001b[1;32m<__array_function__ internals>\u001b[0m in \u001b[0;36mhstack\u001b[1;34m(*args, **kwargs)\u001b[0m\n",
      "\u001b[1;32mC:\\ProgramData\\Anaconda3\\lib\\site-packages\\numpy\\core\\shape_base.py\u001b[0m in \u001b[0;36mhstack\u001b[1;34m(tup)\u001b[0m\n\u001b[0;32m    344\u001b[0m         \u001b[1;32mreturn\u001b[0m \u001b[0m_nx\u001b[0m\u001b[1;33m.\u001b[0m\u001b[0mconcatenate\u001b[0m\u001b[1;33m(\u001b[0m\u001b[0marrs\u001b[0m\u001b[1;33m,\u001b[0m \u001b[1;36m0\u001b[0m\u001b[1;33m)\u001b[0m\u001b[1;33m\u001b[0m\u001b[1;33m\u001b[0m\u001b[0m\n\u001b[0;32m    345\u001b[0m     \u001b[1;32melse\u001b[0m\u001b[1;33m:\u001b[0m\u001b[1;33m\u001b[0m\u001b[1;33m\u001b[0m\u001b[0m\n\u001b[1;32m--> 346\u001b[1;33m         \u001b[1;32mreturn\u001b[0m \u001b[0m_nx\u001b[0m\u001b[1;33m.\u001b[0m\u001b[0mconcatenate\u001b[0m\u001b[1;33m(\u001b[0m\u001b[0marrs\u001b[0m\u001b[1;33m,\u001b[0m \u001b[1;36m1\u001b[0m\u001b[1;33m)\u001b[0m\u001b[1;33m\u001b[0m\u001b[1;33m\u001b[0m\u001b[0m\n\u001b[0m\u001b[0;32m    347\u001b[0m \u001b[1;33m\u001b[0m\u001b[0m\n\u001b[0;32m    348\u001b[0m \u001b[1;33m\u001b[0m\u001b[0m\n",
      "\u001b[1;32m<__array_function__ internals>\u001b[0m in \u001b[0;36mconcatenate\u001b[1;34m(*args, **kwargs)\u001b[0m\n",
      "\u001b[1;31mValueError\u001b[0m: all the input array dimensions for the concatenation axis must match exactly, but along dimension 0, the array at index 0 has size 166 and the array at index 1 has size 160"
     ]
    }
   ],
   "source": [
    "makeRegionTypes('Z:\\Rat08\\Rat08-20130708')"
   ]
  },
  {
   "cell_type": "code",
   "execution_count": 159,
   "metadata": {},
   "outputs": [],
   "source": [
    "path = 'Z:\\Rat08\\Rat08-20130722'"
   ]
  },
  {
   "cell_type": "code",
   "execution_count": 160,
   "metadata": {},
   "outputs": [
    {
     "name": "stdout",
     "output_type": "stream",
     "text": [
      "Rat : 8 on day : 13\n",
      "Working with session Rat08-20130722 @ Z:\\Rat08\\Rat08-20130722\n",
      "Data already saved in Numpy format, loading them from here:\n",
      "Rat08-20130722-neurons.npy\n",
      "Rat08-20130722-NeuronsShanks.npy\n"
     ]
    },
    {
     "ename": "IndexError",
     "evalue": "boolean index did not match indexed array along dimension 0; dimension is 152 but corresponding boolean dimension is 127",
     "output_type": "error",
     "traceback": [
      "\u001b[1;31m---------------------------------------------------------------------------\u001b[0m",
      "\u001b[1;31mIndexError\u001b[0m                                Traceback (most recent call last)",
      "\u001b[1;32m<ipython-input-160-48178c906e52>\u001b[0m in \u001b[0;36m<module>\u001b[1;34m\u001b[0m\n\u001b[0;32m      6\u001b[0m \u001b[1;33m\u001b[0m\u001b[0m\n\u001b[0;32m      7\u001b[0m \u001b[0mtypes\u001b[0m \u001b[1;33m=\u001b[0m \u001b[0mnp\u001b[0m\u001b[1;33m.\u001b[0m\u001b[0mempty\u001b[0m\u001b[1;33m(\u001b[0m\u001b[1;33m(\u001b[0m\u001b[0mshanks\u001b[0m\u001b[1;33m.\u001b[0m\u001b[0mshape\u001b[0m\u001b[1;33m[\u001b[0m\u001b[1;36m0\u001b[0m\u001b[1;33m]\u001b[0m\u001b[1;33m,\u001b[0m\u001b[1;36m1\u001b[0m\u001b[1;33m)\u001b[0m\u001b[1;33m,\u001b[0m\u001b[0mdtype\u001b[0m \u001b[1;33m=\u001b[0m \u001b[0mnp\u001b[0m\u001b[1;33m.\u001b[0m\u001b[0mobject\u001b[0m\u001b[1;33m)\u001b[0m\u001b[1;33m\u001b[0m\u001b[1;33m\u001b[0m\u001b[0m\n\u001b[1;32m----> 8\u001b[1;33m \u001b[0mtypes\u001b[0m\u001b[1;33m[\u001b[0m\u001b[0mfinalType\u001b[0m\u001b[1;33m[\u001b[0m\u001b[1;33m:\u001b[0m\u001b[1;33m,\u001b[0m\u001b[1;36m4\u001b[0m\u001b[1;33m]\u001b[0m \u001b[1;33m==\u001b[0m \u001b[1;36m0\u001b[0m\u001b[1;33m]\u001b[0m \u001b[1;33m=\u001b[0m \u001b[1;34m'Unk'\u001b[0m\u001b[1;33m\u001b[0m\u001b[1;33m\u001b[0m\u001b[0m\n\u001b[0m\u001b[0;32m      9\u001b[0m \u001b[0mtypes\u001b[0m\u001b[1;33m[\u001b[0m\u001b[0mfinalType\u001b[0m\u001b[1;33m[\u001b[0m\u001b[1;33m:\u001b[0m\u001b[1;33m,\u001b[0m\u001b[1;36m4\u001b[0m\u001b[1;33m]\u001b[0m \u001b[1;33m==\u001b[0m \u001b[1;36m1\u001b[0m\u001b[1;33m]\u001b[0m \u001b[1;33m=\u001b[0m \u001b[1;34m'Pyr'\u001b[0m\u001b[1;33m\u001b[0m\u001b[1;33m\u001b[0m\u001b[0m\n\u001b[0;32m     10\u001b[0m \u001b[0mtypes\u001b[0m\u001b[1;33m[\u001b[0m\u001b[0mfinalType\u001b[0m\u001b[1;33m[\u001b[0m\u001b[1;33m:\u001b[0m\u001b[1;33m,\u001b[0m\u001b[1;36m4\u001b[0m\u001b[1;33m]\u001b[0m \u001b[1;33m==\u001b[0m \u001b[1;36m2\u001b[0m\u001b[1;33m]\u001b[0m \u001b[1;33m=\u001b[0m \u001b[1;34m'Int'\u001b[0m\u001b[1;33m\u001b[0m\u001b[1;33m\u001b[0m\u001b[0m\n",
      "\u001b[1;31mIndexError\u001b[0m: boolean index did not match indexed array along dimension 0; dimension is 152 but corresponding boolean dimension is 127"
     ]
    }
   ],
   "source": [
    "bk.load.current_session(path)\n",
    "neurons,shanks = bk.load.loadSpikeData(bk.load.path)\n",
    "\n",
    "finalType = scipy.io.loadmat('Z:\\All-Rats\\AllRats-FinalType.mat')['finalType']\n",
    "finalType = finalType[np.all(finalType[:,0:2]==[bk.load.rat,bk.load.day],1)]\n",
    "\n",
    "types = np.empty((shanks.shape[0],1),dtype = np.object)\n",
    "types[finalType[:,4] == 0] = 'Unk'\n",
    "types[finalType[:,4] == 1] = 'Pyr'\n",
    "types[finalType[:,4] == 2] = 'Int'\n",
    "\n",
    "structures = scipy.io.loadmat('Z:\\All-Rats\\Structures\\structures.mat')\n",
    "useless  = ['__header__','__version__','__globals__','olfact','basal']\n",
    "for u in useless:\n",
    "    del structures[u]\n",
    "\n",
    "for s in structures:\n",
    "    structures[s] = structures[s][np.all(structures[s][:,0:2] == [bk.load.rat,bk.load.day],1),:]\n",
    "\n",
    "stru = []\n",
    "for sh in shanks[:,0]:\n",
    "    for st in structures:\n",
    "        if np.any(structures[st]):\n",
    "            if sh in structures[st][:,2]:\n",
    "                stru.append([st])\n",
    "                break\n",
    "    else: stru.append(['None'])\n",
    "\n",
    "\n",
    "metadata = np.hstack((shanks,stru,types))\n",
    "metadata = pd.DataFrame(metadata,columns=['Shank','Id','Region','Type'])\n",
    "\n",
    "print('Saving metadata for ' + str(len(metadata)) + ' neurons as ' + bk.load.session+'-metadata')\n",
    "np.save(bk.load.session+'-metadata',metadata)\n",
    "print('Deleting '+bk.load.session+'-neuronsShanks.npy')\n",
    "\n",
    "os.remove(bk.load.session + '-neuronsShanks.npy')"
   ]
  },
  {
   "cell_type": "code",
   "execution_count": 166,
   "metadata": {},
   "outputs": [
    {
     "data": {
      "text/plain": [
       "(array([[ 8, 13,  5,  2,  1],\n",
       "        [ 8, 13,  5,  3,  1],\n",
       "        [ 8, 13,  5,  4,  1],\n",
       "        [ 8, 13,  5,  5,  1],\n",
       "        [ 8, 13,  5,  6,  1],\n",
       "        [ 8, 13,  5,  7,  1],\n",
       "        [ 8, 13,  5,  8,  1],\n",
       "        [ 8, 13,  5,  9,  1],\n",
       "        [ 8, 13,  5, 10,  1],\n",
       "        [ 8, 13,  5, 11,  2],\n",
       "        [ 8, 13,  5, 12,  1],\n",
       "        [ 8, 13,  5, 13,  1],\n",
       "        [ 8, 13,  5, 14,  1],\n",
       "        [ 8, 13,  5, 15,  1],\n",
       "        [ 8, 13,  5, 16,  1],\n",
       "        [ 8, 13,  5, 17,  1],\n",
       "        [ 8, 13,  5, 18,  1],\n",
       "        [ 8, 13,  5, 19,  1],\n",
       "        [ 8, 13,  5, 20,  2],\n",
       "        [ 8, 13,  5, 21,  1],\n",
       "        [ 8, 13,  5, 22,  1],\n",
       "        [ 8, 13,  5, 23,  1],\n",
       "        [ 8, 13,  5, 24,  1],\n",
       "        [ 8, 13,  5, 25,  1],\n",
       "        [ 8, 13,  5, 26,  1],\n",
       "        [ 8, 13,  5, 27,  1],\n",
       "        [ 8, 13,  5, 28,  1],\n",
       "        [ 8, 13,  5, 29,  1],\n",
       "        [ 8, 13,  5, 30,  1],\n",
       "        [ 8, 13,  5, 31,  1],\n",
       "        [ 8, 13,  5, 32,  1],\n",
       "        [ 8, 13,  5, 33,  1],\n",
       "        [ 8, 13,  5, 34,  1],\n",
       "        [ 8, 13,  5, 35,  1],\n",
       "        [ 8, 13,  5, 36,  1],\n",
       "        [ 8, 13,  5, 37,  1],\n",
       "        [ 8, 13,  5, 38,  1],\n",
       "        [ 8, 13,  5, 39,  1],\n",
       "        [ 8, 13,  5, 40,  1],\n",
       "        [ 8, 13,  5, 41,  1],\n",
       "        [ 8, 13,  5, 42,  1],\n",
       "        [ 8, 13,  5, 43,  1],\n",
       "        [ 8, 13,  5, 44,  1],\n",
       "        [ 8, 13,  5, 45,  1],\n",
       "        [ 8, 13,  5, 46,  1],\n",
       "        [ 8, 13,  6,  2,  1],\n",
       "        [ 8, 13,  6,  3,  2],\n",
       "        [ 8, 13,  6,  4,  1],\n",
       "        [ 8, 13,  6,  5,  1],\n",
       "        [ 8, 13,  6,  6,  1],\n",
       "        [ 8, 13,  6,  7,  1],\n",
       "        [ 8, 13,  6,  8,  1],\n",
       "        [ 8, 13,  6,  9,  1],\n",
       "        [ 8, 13,  7,  2,  1],\n",
       "        [ 8, 13, 13,  2,  0],\n",
       "        [ 8, 13, 13,  3,  0],\n",
       "        [ 8, 13, 13,  4,  0],\n",
       "        [ 8, 13, 13,  5,  0],\n",
       "        [ 8, 13, 14,  2,  0],\n",
       "        [ 8, 13, 14,  3,  0],\n",
       "        [ 8, 13, 14,  4,  0],\n",
       "        [ 8, 13, 14,  5,  0],\n",
       "        [ 8, 13, 14,  6,  0],\n",
       "        [ 8, 13, 14,  7,  0],\n",
       "        [ 8, 13, 14,  8,  0],\n",
       "        [ 8, 13, 15,  2,  0],\n",
       "        [ 8, 13, 15,  3,  0],\n",
       "        [ 8, 13, 15,  4,  0],\n",
       "        [ 8, 13, 15,  5,  0],\n",
       "        [ 8, 13, 16,  2,  0],\n",
       "        [ 8, 13, 16,  3,  0],\n",
       "        [ 8, 13, 16,  4,  2],\n",
       "        [ 8, 13, 16,  5,  0],\n",
       "        [ 8, 13, 16,  6,  0],\n",
       "        [ 8, 13, 16,  7,  0],\n",
       "        [ 8, 13, 17,  2,  1],\n",
       "        [ 8, 13, 17,  3,  1],\n",
       "        [ 8, 13, 17,  4,  1],\n",
       "        [ 8, 13, 17,  5,  1],\n",
       "        [ 8, 13, 18,  2,  1],\n",
       "        [ 8, 13, 18,  3,  1],\n",
       "        [ 8, 13, 18,  4,  1],\n",
       "        [ 8, 13, 18,  5,  1],\n",
       "        [ 8, 13, 18,  6,  1],\n",
       "        [ 8, 13, 18,  7,  1],\n",
       "        [ 8, 13, 18,  8,  2],\n",
       "        [ 8, 13, 18,  9,  1],\n",
       "        [ 8, 13, 18, 10,  1],\n",
       "        [ 8, 13, 18, 11,  1],\n",
       "        [ 8, 13, 18, 12,  1],\n",
       "        [ 8, 13, 18, 13,  1],\n",
       "        [ 8, 13, 18, 14,  1],\n",
       "        [ 8, 13, 18, 15,  1],\n",
       "        [ 8, 13, 19,  2,  1],\n",
       "        [ 8, 13, 19,  3,  1],\n",
       "        [ 8, 13, 19,  4,  1],\n",
       "        [ 8, 13, 19,  5,  1],\n",
       "        [ 8, 13, 19,  6,  1],\n",
       "        [ 8, 13, 19,  7,  2],\n",
       "        [ 8, 13, 19,  8,  1],\n",
       "        [ 8, 13, 19,  9,  1],\n",
       "        [ 8, 13, 19, 10,  1],\n",
       "        [ 8, 13, 19, 11,  1],\n",
       "        [ 8, 13, 20,  2,  1],\n",
       "        [ 8, 13, 20,  3,  1],\n",
       "        [ 8, 13, 20,  4,  1],\n",
       "        [ 8, 13, 20,  5,  1],\n",
       "        [ 8, 13, 20,  6,  1],\n",
       "        [ 8, 13, 20,  7,  1],\n",
       "        [ 8, 13, 20,  8,  1],\n",
       "        [ 8, 13, 20,  9,  2],\n",
       "        [ 8, 13, 20, 10,  1],\n",
       "        [ 8, 13, 20, 11,  1],\n",
       "        [ 8, 13, 20, 12,  1],\n",
       "        [ 8, 13, 20, 13,  1],\n",
       "        [ 8, 13, 20, 14,  1],\n",
       "        [ 8, 13, 20, 15,  1],\n",
       "        [ 8, 13, 20, 16,  1],\n",
       "        [ 8, 13, 20, 17,  1],\n",
       "        [ 8, 13, 20, 18,  1],\n",
       "        [ 8, 13, 20, 19,  1],\n",
       "        [ 8, 13, 20, 20,  1],\n",
       "        [ 8, 13, 20, 21,  1],\n",
       "        [ 8, 13, 20, 22,  1],\n",
       "        [ 8, 13, 20, 23,  1],\n",
       "        [ 8, 13, 20, 24,  1],\n",
       "        [ 8, 13, 20, 25,  1]], dtype=uint8),\n",
       " array([[ 5,  2],\n",
       "        [ 5,  4],\n",
       "        [ 5,  5],\n",
       "        [ 5,  6],\n",
       "        [ 5,  7],\n",
       "        [ 5,  8],\n",
       "        [ 5,  9],\n",
       "        [ 5, 10],\n",
       "        [ 5, 11],\n",
       "        [ 5, 12],\n",
       "        [ 5, 13],\n",
       "        [ 5, 14],\n",
       "        [ 5, 15],\n",
       "        [ 5, 16],\n",
       "        [ 5, 17],\n",
       "        [ 5, 19],\n",
       "        [ 5, 20],\n",
       "        [ 5, 21],\n",
       "        [ 5, 22],\n",
       "        [ 5, 23],\n",
       "        [ 5, 24],\n",
       "        [ 5, 25],\n",
       "        [ 5, 26],\n",
       "        [ 5, 27],\n",
       "        [ 5, 28],\n",
       "        [ 5, 29],\n",
       "        [ 5, 30],\n",
       "        [ 5, 31],\n",
       "        [ 5, 32],\n",
       "        [ 5, 33],\n",
       "        [ 5, 34],\n",
       "        [ 5, 35],\n",
       "        [ 5, 36],\n",
       "        [ 5, 37],\n",
       "        [ 5, 38],\n",
       "        [ 5, 39],\n",
       "        [ 5, 40],\n",
       "        [ 5, 41],\n",
       "        [ 5, 43],\n",
       "        [ 5, 44],\n",
       "        [ 5, 45],\n",
       "        [ 5, 46],\n",
       "        [ 5, 47],\n",
       "        [ 5, 48],\n",
       "        [ 5, 49],\n",
       "        [ 6,  2],\n",
       "        [ 6,  3],\n",
       "        [ 6,  4],\n",
       "        [ 6,  5],\n",
       "        [ 6,  6],\n",
       "        [ 6,  7],\n",
       "        [ 6,  8],\n",
       "        [ 6,  9],\n",
       "        [ 6, 10],\n",
       "        [ 6, 11],\n",
       "        [ 7,  2],\n",
       "        [13,  2],\n",
       "        [13,  3],\n",
       "        [13,  4],\n",
       "        [13,  5],\n",
       "        [13,  6],\n",
       "        [13,  7],\n",
       "        [13,  8],\n",
       "        [14,  2],\n",
       "        [14,  3],\n",
       "        [14,  4],\n",
       "        [14,  5],\n",
       "        [14,  6],\n",
       "        [14,  7],\n",
       "        [14,  8],\n",
       "        [14,  9],\n",
       "        [14, 10],\n",
       "        [15,  2],\n",
       "        [15,  3],\n",
       "        [15,  4],\n",
       "        [15,  5],\n",
       "        [15,  6],\n",
       "        [15,  7],\n",
       "        [15,  8],\n",
       "        [16,  2],\n",
       "        [16,  3],\n",
       "        [16,  4],\n",
       "        [16,  5],\n",
       "        [16,  6],\n",
       "        [16,  7],\n",
       "        [16,  8],\n",
       "        [16,  9],\n",
       "        [17,  2],\n",
       "        [17,  3],\n",
       "        [17,  4],\n",
       "        [17,  5],\n",
       "        [17,  6],\n",
       "        [17,  7],\n",
       "        [18,  2],\n",
       "        [18,  3],\n",
       "        [18,  4],\n",
       "        [18,  5],\n",
       "        [18,  6],\n",
       "        [18,  7],\n",
       "        [18,  8],\n",
       "        [18,  9],\n",
       "        [18, 10],\n",
       "        [18, 11],\n",
       "        [18, 12],\n",
       "        [18, 13],\n",
       "        [18, 14],\n",
       "        [18, 15],\n",
       "        [18, 16],\n",
       "        [18, 17],\n",
       "        [18, 18],\n",
       "        [18, 19],\n",
       "        [18, 20],\n",
       "        [19,  2],\n",
       "        [19,  3],\n",
       "        [19,  4],\n",
       "        [19,  5],\n",
       "        [19,  6],\n",
       "        [19,  7],\n",
       "        [19,  8],\n",
       "        [19,  9],\n",
       "        [19, 10],\n",
       "        [19, 11],\n",
       "        [19, 12],\n",
       "        [19, 13],\n",
       "        [19, 14],\n",
       "        [20,  2],\n",
       "        [20,  3],\n",
       "        [20,  4],\n",
       "        [20,  5],\n",
       "        [20,  6],\n",
       "        [20,  7],\n",
       "        [20,  8],\n",
       "        [20,  9],\n",
       "        [20, 10],\n",
       "        [20, 11],\n",
       "        [20, 12],\n",
       "        [20, 13],\n",
       "        [20, 14],\n",
       "        [20, 15],\n",
       "        [20, 16],\n",
       "        [20, 17],\n",
       "        [20, 18],\n",
       "        [20, 19],\n",
       "        [20, 20],\n",
       "        [20, 21],\n",
       "        [20, 22],\n",
       "        [20, 23],\n",
       "        [20, 24],\n",
       "        [20, 25],\n",
       "        [20, 26],\n",
       "        [20, 27],\n",
       "        [20, 28]], dtype=int64))"
      ]
     },
     "execution_count": 166,
     "metadata": {},
     "output_type": "execute_result"
    }
   ],
   "source": [
    "finalType"
   ]
  },
  {
   "cell_type": "code",
   "execution_count": 104,
   "metadata": {},
   "outputs": [
    {
     "name": "stdout",
     "output_type": "stream",
     "text": [
      "BLA[7]\n",
      "CeCM[ 5  6 13 14 15]\n",
      "DEn[10 11]\n",
      "Hpc[1 2 3 4]\n",
      "LaDL[ 8  9 17 18 19]\n",
      "Pir[12]\n"
     ]
    }
   ],
   "source": [
    "structures = scipy.io.loadmat('Z:\\All-Rats\\Structures\\structures.mat')\n",
    "useless  = ['__header__','__version__','__globals__','basal','olfact']\n",
    "for u in useless:\n",
    "    del structures[u]\n",
    "for s in structures:\n",
    "    structures[s] = structures[s][np.all(structures[s][:,0:2] == [bk.load.rat,bk.load.day],1),:]\n",
    "    \n",
    "for s in structures:\n",
    "    if np.any(structures[s]): print(s+str(structures[s][:,2]))"
   ]
  },
  {
   "cell_type": "code",
   "execution_count": 123,
   "metadata": {},
   "outputs": [
    {
     "data": {
      "text/plain": [
       "array([[1, 2, 'Hpc', 'Pyr', 'Hpc', 'Pyr'],\n",
       "       [2, 2, 'Hpc', 'Pyr', 'Hpc', 'Pyr'],\n",
       "       [2, 3, 'Hpc', 'Pyr', 'Hpc', 'Pyr'],\n",
       "       ...,\n",
       "       [19, 4, 'BLA', 'Pyr', 'BLA', 'Pyr'],\n",
       "       [19, 5, 'BLA', 'Pyr', 'BLA', 'Pyr'],\n",
       "       [19, 6, 'BLA', 'Pyr', 'BLA', 'Pyr']], dtype=object)"
      ]
     },
     "execution_count": 123,
     "metadata": {},
     "output_type": "execute_result"
    }
   ],
   "source": [
    "metadata"
   ]
  },
  {
   "cell_type": "code",
   "execution_count": 75,
   "metadata": {},
   "outputs": [
    {
     "data": {
      "text/plain": [
       "array([ 2,  3,  4,  5,  6,  7,  8,  9, 10, 11, 12, 13, 14, 15, 16, 17, 18,\n",
       "       19, 20], dtype=int64)"
      ]
     },
     "execution_count": 75,
     "metadata": {},
     "output_type": "execute_result"
    }
   ],
   "source": [
    "np.unique(shanks[:,0])"
   ]
  },
  {
   "cell_type": "code",
   "execution_count": 82,
   "metadata": {},
   "outputs": [
    {
     "name": "stdout",
     "output_type": "stream",
     "text": [
      "[ 5  6  7  8 16 17 18 19]\n",
      "[13 14 15]\n",
      "[ 9 10 11 20]\n",
      "[1 2 3 4]\n",
      "[12]\n",
      "[ 5  6  7  8 16 17 18 19]\n",
      "[12  9 10 11 20]\n"
     ]
    }
   ],
   "source": []
  },
  {
   "cell_type": "code",
   "execution_count": 138,
   "metadata": {},
   "outputs": [
    {
     "name": "stdout",
     "output_type": "stream",
     "text": [
      "hey\n",
      "hey\n",
      "hey\n",
      "hey\n",
      "hey\n",
      "jp\n"
     ]
    }
   ],
   "source": [
    "for i in range(10):\n",
    "    if i%2 == 0:\n",
    "        print('hey')\n",
    "else: print('jp')"
   ]
  },
  {
   "cell_type": "code",
   "execution_count": 144,
   "metadata": {},
   "outputs": [],
   "source": [
    "def l(path):\n",
    "    bk.load.current_session(path)\n",
    "    m = np.load(bk.load.session+'-metadata.npy',allow_pickle=True)\n",
    "    return m"
   ]
  },
  {
   "cell_type": "code",
   "execution_count": 146,
   "metadata": {},
   "outputs": [
    {
     "name": "stderr",
     "output_type": "stream",
     "text": [
      "100% |########################################################################|\r"
     ]
    },
    {
     "name": "stdout",
     "output_type": "stream",
     "text": [
      "Batch finished in 0.25281453132629395\n",
      "Some session were not processed correctly\n",
      "['Rat08-20130722']\n",
      "1.639344262295082 %\n"
     ]
    },
    {
     "name": "stderr",
     "output_type": "stream",
     "text": [
      "\n"
     ]
    }
   ],
   "source": [
    "a = bk.load.batch(l)"
   ]
  },
  {
   "cell_type": "code",
   "execution_count": 147,
   "metadata": {},
   "outputs": [
    {
     "data": {
      "text/plain": [
       "array([[1, 2, 'Pir', 'Pyr'],\n",
       "       [1, 3, 'Pir', 'Int'],\n",
       "       [1, 4, 'Pir', 'Pyr'],\n",
       "       [1, 5, 'Pir', 'Pyr'],\n",
       "       [2, 2, 'Pir', 'Pyr'],\n",
       "       [2, 3, 'Pir', 'Pyr'],\n",
       "       [2, 4, 'Pir', 'Pyr'],\n",
       "       [2, 5, 'Pir', 'Pyr'],\n",
       "       [2, 6, 'Pir', 'Pyr'],\n",
       "       [2, 7, 'Pir', 'Pyr'],\n",
       "       [2, 8, 'Pir', 'Pyr'],\n",
       "       [2, 9, 'Pir', 'Pyr'],\n",
       "       [3, 2, 'Pir', 'Pyr'],\n",
       "       [3, 3, 'Pir', 'Pyr'],\n",
       "       [3, 4, 'Pir', 'Pyr'],\n",
       "       [3, 5, 'Pir', 'Pyr'],\n",
       "       [4, 2, 'Pir', 'Int'],\n",
       "       [4, 3, 'Pir', 'Pyr'],\n",
       "       [4, 4, 'Pir', 'Pyr'],\n",
       "       [4, 5, 'Pir', 'Pyr'],\n",
       "       [4, 6, 'Pir', 'Pyr'],\n",
       "       [4, 7, 'Pir', 'Pyr'],\n",
       "       [4, 8, 'Pir', 'Pyr'],\n",
       "       [5, 2, 'Pir', 'Pyr'],\n",
       "       [5, 3, 'Pir', 'Pyr'],\n",
       "       [5, 4, 'Pir', 'Pyr'],\n",
       "       [5, 5, 'Pir', 'Int'],\n",
       "       [5, 6, 'Pir', 'Int'],\n",
       "       [6, 2, 'Pir', 'Pyr'],\n",
       "       [6, 3, 'Pir', 'Pyr'],\n",
       "       [6, 4, 'Pir', 'Pyr'],\n",
       "       [6, 5, 'Pir', 'Int'],\n",
       "       [7, 2, 'Pir', 'Pyr'],\n",
       "       [7, 3, 'Pir', 'Pyr'],\n",
       "       [7, 4, 'Pir', 'Pyr'],\n",
       "       [7, 5, 'Pir', 'Pyr'],\n",
       "       [7, 6, 'Pir', 'Pyr'],\n",
       "       [7, 7, 'Pir', 'Pyr'],\n",
       "       [7, 8, 'Pir', 'Pyr'],\n",
       "       [7, 9, 'Pir', 'Pyr'],\n",
       "       [7, 10, 'Pir', 'Pyr'],\n",
       "       [7, 11, 'Pir', 'Pyr'],\n",
       "       [7, 12, 'Pir', 'Pyr'],\n",
       "       [7, 13, 'Pir', 'Pyr'],\n",
       "       [7, 14, 'Pir', 'Pyr'],\n",
       "       [8, 2, 'Pir', 'Pyr'],\n",
       "       [8, 3, 'Pir', 'Pyr'],\n",
       "       [8, 4, 'Pir', 'Pyr'],\n",
       "       [8, 5, 'Pir', 'Pyr'],\n",
       "       [8, 6, 'Pir', 'Pyr'],\n",
       "       [8, 7, 'Pir', 'Pyr'],\n",
       "       [8, 8, 'Pir', 'Pyr'],\n",
       "       [8, 9, 'Pir', 'Pyr'],\n",
       "       [8, 10, 'Pir', 'Pyr'],\n",
       "       [8, 11, 'Pir', 'Pyr'],\n",
       "       [8, 12, 'Pir', 'Pyr'],\n",
       "       [8, 13, 'Pir', 'Pyr'],\n",
       "       [8, 14, 'Pir', 'Pyr'],\n",
       "       [8, 15, 'Pir', 'Pyr'],\n",
       "       [8, 16, 'Pir', 'Pyr'],\n",
       "       [9, 2, 'BMA', 'Pyr'],\n",
       "       [9, 3, 'BMA', 'Pyr'],\n",
       "       [12, 2, 'BLV', 'Pyr'],\n",
       "       [13, 2, 'BLV', 'Pyr'],\n",
       "       [13, 3, 'BLV', 'Pyr'],\n",
       "       [13, 4, 'BLV', 'Pyr'],\n",
       "       [13, 5, 'BLV', 'Pyr'],\n",
       "       [13, 6, 'BLV', 'Pyr'],\n",
       "       [14, 2, 'BLV', 'Pyr'],\n",
       "       [14, 3, 'BLV', 'Pyr'],\n",
       "       [14, 4, 'BLV', 'Int'],\n",
       "       [15, 2, 'BLV', 'Pyr'],\n",
       "       [15, 3, 'BLV', 'Pyr'],\n",
       "       [15, 4, 'BLV', 'Pyr'],\n",
       "       [15, 5, 'BLV', 'Pyr'],\n",
       "       [15, 6, 'BLV', 'Pyr'],\n",
       "       [15, 7, 'BLV', 'Pyr'],\n",
       "       [15, 8, 'BLV', 'Int'],\n",
       "       [15, 9, 'BLV', 'Pyr'],\n",
       "       [15, 10, 'BLV', 'Pyr'],\n",
       "       [16, 2, 'Pir', 'Pyr'],\n",
       "       [16, 3, 'Pir', 'Pyr'],\n",
       "       [16, 4, 'Pir', 'Pyr'],\n",
       "       [16, 5, 'Pir', 'Pyr'],\n",
       "       [16, 6, 'Pir', 'Pyr'],\n",
       "       [16, 7, 'Pir', 'Pyr'],\n",
       "       [16, 8, 'Pir', 'Pyr'],\n",
       "       [16, 9, 'Pir', 'Pyr'],\n",
       "       [16, 10, 'Pir', 'Pyr'],\n",
       "       [16, 11, 'Pir', 'Pyr'],\n",
       "       [16, 12, 'Pir', 'Pyr'],\n",
       "       [16, 13, 'Pir', 'Pyr'],\n",
       "       [16, 14, 'Pir', 'Pyr'],\n",
       "       [16, 15, 'Pir', 'Pyr']], dtype=object)"
      ]
     },
     "execution_count": 147,
     "metadata": {},
     "output_type": "execute_result"
    }
   ],
   "source": [
    "a['Rat09-20140405']"
   ]
  },
  {
   "cell_type": "code",
   "execution_count": 154,
   "metadata": {},
   "outputs": [],
   "source": [
    "d = pd.DataFrame(np.random.rand(5,5),columns=['a','b','c','d','d'])"
   ]
  },
  {
   "cell_type": "code",
   "execution_count": 152,
   "metadata": {},
   "outputs": [],
   "source": [
    "os.chdir('z:\\Python\\Billel')"
   ]
  },
  {
   "cell_type": "code",
   "execution_count": 172,
   "metadata": {},
   "outputs": [],
   "source": [
    "np.save('hey',d,allow_pickle=True)"
   ]
  },
  {
   "cell_type": "code",
   "execution_count": 173,
   "metadata": {},
   "outputs": [],
   "source": [
    "a = np.load('hey.npy')"
   ]
  },
  {
   "cell_type": "code",
   "execution_count": 174,
   "metadata": {},
   "outputs": [
    {
     "data": {
      "text/html": [
       "<div>\n",
       "<style scoped>\n",
       "    .dataframe tbody tr th:only-of-type {\n",
       "        vertical-align: middle;\n",
       "    }\n",
       "\n",
       "    .dataframe tbody tr th {\n",
       "        vertical-align: top;\n",
       "    }\n",
       "\n",
       "    .dataframe thead th {\n",
       "        text-align: right;\n",
       "    }\n",
       "</style>\n",
       "<table border=\"1\" class=\"dataframe\">\n",
       "  <thead>\n",
       "    <tr style=\"text-align: right;\">\n",
       "      <th></th>\n",
       "      <th>a</th>\n",
       "      <th>b</th>\n",
       "      <th>c</th>\n",
       "      <th>d</th>\n",
       "      <th>d</th>\n",
       "    </tr>\n",
       "  </thead>\n",
       "  <tbody>\n",
       "    <tr>\n",
       "      <th>0</th>\n",
       "      <td>0.463819</td>\n",
       "      <td>0.403983</td>\n",
       "      <td>0.235225</td>\n",
       "      <td>0.241080</td>\n",
       "      <td>0.915925</td>\n",
       "    </tr>\n",
       "    <tr>\n",
       "      <th>1</th>\n",
       "      <td>0.431776</td>\n",
       "      <td>0.572917</td>\n",
       "      <td>0.391561</td>\n",
       "      <td>0.855457</td>\n",
       "      <td>0.492264</td>\n",
       "    </tr>\n",
       "    <tr>\n",
       "      <th>2</th>\n",
       "      <td>0.362837</td>\n",
       "      <td>0.842247</td>\n",
       "      <td>0.363421</td>\n",
       "      <td>0.443556</td>\n",
       "      <td>0.842167</td>\n",
       "    </tr>\n",
       "    <tr>\n",
       "      <th>3</th>\n",
       "      <td>0.064445</td>\n",
       "      <td>0.778700</td>\n",
       "      <td>0.954831</td>\n",
       "      <td>0.132383</td>\n",
       "      <td>0.314215</td>\n",
       "    </tr>\n",
       "    <tr>\n",
       "      <th>4</th>\n",
       "      <td>0.608921</td>\n",
       "      <td>0.435984</td>\n",
       "      <td>0.281913</td>\n",
       "      <td>0.001495</td>\n",
       "      <td>0.185207</td>\n",
       "    </tr>\n",
       "  </tbody>\n",
       "</table>\n",
       "</div>"
      ],
      "text/plain": [
       "          a         b         c         d         d\n",
       "0  0.463819  0.403983  0.235225  0.241080  0.915925\n",
       "1  0.431776  0.572917  0.391561  0.855457  0.492264\n",
       "2  0.362837  0.842247  0.363421  0.443556  0.842167\n",
       "3  0.064445  0.778700  0.954831  0.132383  0.314215\n",
       "4  0.608921  0.435984  0.281913  0.001495  0.185207"
      ]
     },
     "execution_count": 174,
     "metadata": {},
     "output_type": "execute_result"
    }
   ],
   "source": [
    "d"
   ]
  },
  {
   "cell_type": "code",
   "execution_count": 175,
   "metadata": {},
   "outputs": [
    {
     "data": {
      "text/plain": [
       "array([[0.4638195 , 0.40398263, 0.23522491, 0.2410797 , 0.915925  ],\n",
       "       [0.43177558, 0.57291706, 0.3915606 , 0.85545651, 0.49226401],\n",
       "       [0.36283696, 0.84224736, 0.36342138, 0.44355559, 0.84216724],\n",
       "       [0.06444506, 0.77869983, 0.95483084, 0.13238335, 0.3142153 ],\n",
       "       [0.60892116, 0.43598425, 0.28191254, 0.00149543, 0.18520704]])"
      ]
     },
     "execution_count": 175,
     "metadata": {},
     "output_type": "execute_result"
    }
   ],
   "source": [
    "a"
   ]
  },
  {
   "cell_type": "code",
   "execution_count": null,
   "metadata": {},
   "outputs": [],
   "source": []
  }
 ],
 "metadata": {
  "kernelspec": {
   "display_name": "Python 3",
   "language": "python",
   "name": "python3"
  },
  "language_info": {
   "codemirror_mode": {
    "name": "ipython",
    "version": 3
   },
   "file_extension": ".py",
   "mimetype": "text/x-python",
   "name": "python",
   "nbconvert_exporter": "python",
   "pygments_lexer": "ipython3",
   "version": "3.7.6"
  }
 },
 "nbformat": 4,
 "nbformat_minor": 4
}
