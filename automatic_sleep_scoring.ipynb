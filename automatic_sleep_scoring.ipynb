{
 "cells": [
  {
   "cell_type": "code",
   "execution_count": 1,
   "metadata": {},
   "outputs": [],
   "source": [
    "import sys\n",
    "import itertools\n",
    "\n",
    "import numpy as np\n",
    "import pandas as pd\n",
    "import scipy.signal\n",
    "from tqdm import tqdm\n",
    "\n",
    "import neuroseries as nts\n",
    "\n",
    "\n",
    "import time\n",
    "import matplotlib.pyplot as plt\n",
    "\n",
    "import seaborn as sns \n",
    "import bk.load\n",
    "import bk.compute\n",
    "import bk.plot\n",
    "import bk.signal\n",
    "import bk.stats\n",
    "\n",
    "import os\n",
    "\n",
    "import sklearn.cluster"
   ]
  },
  {
   "cell_type": "code",
   "execution_count": 2,
   "metadata": {},
   "outputs": [],
   "source": [
    "%matplotlib qt"
   ]
  },
  {
   "cell_type": "code",
   "execution_count": 3,
   "metadata": {},
   "outputs": [],
   "source": [
    "# bk.load.current_session_linux('/mnt/electrophy/Billel/BK-Dataset/ePhys/','Rat95/Rat95-20220418')\n",
    "# # Load LFP and acc\n",
    "# lfp = bk.load.lfp(20)\n",
    "# acc = bk.load.lfp(98)\n",
    "# # Transforme acc in motion"
   ]
  },
  {
   "cell_type": "code",
   "execution_count": 4,
   "metadata": {},
   "outputs": [
    {
     "name": "stdout",
     "output_type": "stream",
     "text": [
      "Rat : 8 on day : 6\n",
      "Working with session Rat08-20130713 @ /mnt/electrophy/Gabrielle/GG-Dataset-Light/Rat08/Rat08-20130713\n"
     ]
    }
   ],
   "source": [
    "bk.load.current_session_linux()\n",
    "lfp = bk.load.lfp(23)"
   ]
  },
  {
   "cell_type": "code",
   "execution_count": 5,
   "metadata": {},
   "outputs": [],
   "source": [
    "f, t, Sxx = scipy.signal.spectrogram(lfp.values,1250,nperseg=5000,noverlap=4000)\n",
    "delta = (0.1<f) & (f<4)\n",
    "theta = (6<f) & (f<8)\n",
    "gamma = (40<f) & (f<100)\n",
    "\n",
    "\n",
    "delta_average = np.mean(np.log(Sxx[delta,:]),axis = 0)\n",
    "theta_average = np.mean(np.log(Sxx[theta,:]),axis = 0)\n",
    "gamma_average = np.mean(np.log(Sxx[gamma,:]),axis = 0)\n",
    "\n",
    "del lfp"
   ]
  },
  {
   "cell_type": "code",
   "execution_count": 6,
   "metadata": {},
   "outputs": [],
   "source": [
    "acc = bk.load.lfp(162)\n",
    "motion = np.abs(np.diff(acc.values))\n",
    "motion = scipy.signal.resample(motion,len(t))\n",
    "motion = bk.compute.smooth(motion,1250,2)"
   ]
  },
  {
   "cell_type": "code",
   "execution_count": 11,
   "metadata": {},
   "outputs": [
    {
     "data": {
      "text/plain": [
       "[<matplotlib.lines.Line2D at 0x7fb8127417f0>]"
      ]
     },
     "execution_count": 11,
     "metadata": {},
     "output_type": "execute_result"
    }
   ],
   "source": [
    "fig,ax = plt.subplots(2,1,sharex = True)\n",
    "ax[0].plot(motion)\n",
    "ax[1].plot(scipy.stats.zscore(delta_average))\n",
    "ax[1].plot(scipy.stats.zscore(theta_average))\n",
    "ax[1].plot(scipy.stats.zscore(gamma_average))"
   ]
  },
  {
   "cell_type": "code",
   "execution_count": 7,
   "metadata": {},
   "outputs": [
    {
     "data": {
      "text/plain": [
       "[<matplotlib.lines.Line2D at 0x7f1f4403f1c0>]"
      ]
     },
     "execution_count": 7,
     "metadata": {},
     "output_type": "execute_result"
    }
   ],
   "source": [
    "plt.plot(motion)"
   ]
  },
  {
   "cell_type": "code",
   "execution_count": 24,
   "metadata": {},
   "outputs": [
    {
     "data": {
      "text/plain": [
       "<matplotlib.legend.Legend at 0x7f1d745bd1c0>"
      ]
     },
     "execution_count": 24,
     "metadata": {},
     "output_type": "execute_result"
    },
    {
     "name": "stderr",
     "output_type": "stream",
     "text": [
      "/home/billel/anaconda3/lib/python3.9/site-packages/ipykernel/eventloops.py:105: MatplotlibDeprecationWarning: The 'renderer' parameter of do_3d_projection() was deprecated in Matplotlib 3.4 and will be removed two minor releases later.\n",
      "  app.exec_()\n",
      "Traceback (most recent call last):\n",
      "  File \"/home/billel/anaconda3/lib/python3.9/site-packages/matplotlib/backends/backend_qt5.py\", line 475, in _draw_idle\n",
      "    self.draw()\n",
      "  File \"/home/billel/anaconda3/lib/python3.9/site-packages/matplotlib/backends/backend_agg.py\", line 406, in draw\n",
      "    self.figure.draw(self.renderer)\n",
      "  File \"/home/billel/anaconda3/lib/python3.9/site-packages/matplotlib/artist.py\", line 74, in draw_wrapper\n",
      "    result = draw(artist, renderer, *args, **kwargs)\n",
      "  File \"/home/billel/anaconda3/lib/python3.9/site-packages/matplotlib/artist.py\", line 51, in draw_wrapper\n",
      "    return draw(artist, renderer, *args, **kwargs)\n",
      "  File \"/home/billel/anaconda3/lib/python3.9/site-packages/matplotlib/figure.py\", line 2790, in draw\n",
      "    mimage._draw_list_compositing_images(\n",
      "  File \"/home/billel/anaconda3/lib/python3.9/site-packages/matplotlib/image.py\", line 132, in _draw_list_compositing_images\n",
      "    a.draw(renderer)\n",
      "  File \"/home/billel/anaconda3/lib/python3.9/site-packages/matplotlib/artist.py\", line 51, in draw_wrapper\n",
      "    return draw(artist, renderer, *args, **kwargs)\n",
      "  File \"/home/billel/anaconda3/lib/python3.9/site-packages/mpl_toolkits/mplot3d/axes3d.py\", line 490, in draw\n",
      "    sorted(self.patches,\n",
      "  File \"/home/billel/anaconda3/lib/python3.9/site-packages/mpl_toolkits/mplot3d/axes3d.py\", line 478, in do_3d_projection\n",
      "    return artist.do_3d_projection(renderer)\n",
      "AttributeError: 'Polygon' object has no attribute 'do_3d_projection'\n"
     ]
    }
   ],
   "source": [
    "th = 0.65\n",
    "time_immo = 0\n",
    "wake = motion > th\n",
    "wake_inter = bk.compute.toIntervals(t,wake,'s')\n",
    "wake_inter = wake_inter.drop_short_intervals(3,'s').reset_index(drop = True)\n",
    "wake_inter.end = wake_inter.end + 30_000_000\n",
    "wake_inter = wake_inter.merge_close_intervals(30,'s')\n",
    "\n",
    "sleep = np.isnan(wake_inter.in_interval(nts.Ts(t,'s')))\n",
    "\n",
    "record_inter = nts.IntervalSet(np.min(acc.times()),np.max(acc.times())) \n",
    "sleep_inter = record_inter.set_diff(wake_inter)\n",
    "# sleep = motion < th\n",
    "# sleep_inter = bk.compute.toIntervals(t,sleep,'s').drop_short_intervals(time_immo,'s').reset_index(drop = True)\n",
    "plt.plot(t,motion)\n",
    "plt.axhline(th,color = 'r')\n",
    "\n",
    "bk.plot.intervals(sleep_inter,'grey')\n",
    "bk.plot.intervals(wake_inter,'red')\n",
    "\n",
    "\n",
    "plt.xlabel('Times (s)')\n",
    "plt.ylabel('Motion (diff of acc)')\n",
    "plt.legend(['Motion','Motion Treshold','Sleep','Wake',])\n"
   ]
  },
  {
   "cell_type": "code",
   "execution_count": 25,
   "metadata": {},
   "outputs": [],
   "source": [
    "# X = np.vstack((delta_average[sleep],theta_average[sleep],gamma_average[sleep])).T\n",
    "X = np.vstack((delta_average[sleep],theta_average[sleep],gamma_average[sleep])).T\n",
    "k = sklearn.cluster.k_means(X,2,n_init=100)\n",
    "theta_in_cluster = []\n",
    "for i in np.unique(k[1]):\n",
    "    theta_in_cluster.append(np.mean(theta_average[sleep][k[1] == i]))\n",
    "REM_cluster = np.argsort(theta_in_cluster)[-1]"
   ]
  },
  {
   "cell_type": "code",
   "execution_count": 26,
   "metadata": {},
   "outputs": [
    {
     "data": {
      "text/plain": [
       "<matplotlib.legend.Legend at 0x7f1d743fe130>"
      ]
     },
     "execution_count": 26,
     "metadata": {},
     "output_type": "execute_result"
    }
   ],
   "source": [
    "fig = plt.figure()\n",
    "ax = fig.add_subplot(projection='3d')\n",
    "ax.scatter(X[:,0],X[:,1],X[:,2],c = k[1],s = 5,alpha = 0.1,cmap = 'jet')\n",
    "ax.set_xlabel('Delta')\n",
    "ax.set_ylabel('Theta')\n",
    "ax.set_zlabel('Gamma')\n",
    "plt.legend(['REM','NREM'])"
   ]
  },
  {
   "cell_type": "markdown",
   "metadata": {},
   "source": [
    "# Assign labels to whole recordings"
   ]
  },
  {
   "cell_type": "code",
   "execution_count": 27,
   "metadata": {},
   "outputs": [
    {
     "name": "stderr",
     "output_type": "stream",
     "text": [
      "/home/billel/pCloudDrive/IFM/work/Code/Python/Billel/neuroseries/interval_set.py:66: UserWarning: start is not sorted\n",
      "  warn(msg, UserWarning)\n"
     ]
    }
   ],
   "source": [
    "labels = np.zeros(len(t),dtype = 'object')-1\n",
    "labels[sleep] = k[1]\n",
    "labels[labels != REM_cluster] = 'NREM'\n",
    "labels[labels == REM_cluster] = 'REM'\n",
    "labels[~sleep] = 'WAKE'\n",
    "\n",
    "states = {}\n",
    "for state in np.unique(labels):\n",
    "    states.update({state:bk.compute.toIntervals(t,labels == state,'s').merge_close_intervals(5,'s')})"
   ]
  },
  {
   "cell_type": "code",
   "execution_count": 28,
   "metadata": {},
   "outputs": [
    {
     "name": "stderr",
     "output_type": "stream",
     "text": [
      "/tmp/ipykernel_120969/881529831.py:2: MatplotlibDeprecationWarning: Passing the sharex parameter of subplots() positionally is deprecated since Matplotlib 3.3; the parameter will become keyword-only two minor releases later.\n",
      "  fig,ax = plt.subplots(3,1,True)\n",
      "/tmp/ipykernel_120969/881529831.py:3: RuntimeWarning: invalid value encountered in log\n",
      "  ax[0].pcolor(dt,f,np.log(dSxx),vmin = 0,vmax = 12,rasterized = True)\n",
      "/tmp/ipykernel_120969/881529831.py:3: MatplotlibDeprecationWarning: shading='flat' when X and Y have the same dimensions as C is deprecated since 3.3.  Either specify the corners of the quadrilaterals with X and Y, or pass shading='auto', 'nearest' or 'gouraud', or set rcParams['pcolor.shading'].  This will become an error two minor releases later.\n",
      "  ax[0].pcolor(dt,f,np.log(dSxx),vmin = 0,vmax = 12,rasterized = True)\n"
     ]
    },
    {
     "data": {
      "text/plain": [
       "[<matplotlib.lines.Line2D at 0x7f1c485d8e20>]"
      ]
     },
     "execution_count": 28,
     "metadata": {},
     "output_type": "execute_result"
    }
   ],
   "source": [
    "dSxx,dt = scipy.signal.resample(Sxx,1250,t,axis = 1)\n",
    "fig,ax = plt.subplots(3,1,True)\n",
    "ax[0].pcolor(dt,f,np.log(dSxx),vmin = 0,vmax = 12,rasterized = True)\n",
    "ax[0].set_ylim(0,50)\n",
    "# ax[1].plot(lfp.as_units('s'))\n",
    "plt.sca(ax[1])\n",
    "bk.plot.intervals(states['WAKE'],'green')\n",
    "bk.plot.intervals(states['REM'])\n",
    "bk.plot.intervals(states['NREM'],'grey')\n",
    "ax[2].plot(acc.as_units('s'))"
   ]
  }
 ],
 "metadata": {
  "interpreter": {
   "hash": "dc93b3fb48dfd2593d4a40b397dc62a97606514bfa701f6565ff70ef36514844"
  },
  "kernelspec": {
   "display_name": "Python 3.9.7 ('base')",
   "language": "python",
   "name": "python3"
  },
  "language_info": {
   "codemirror_mode": {
    "name": "ipython",
    "version": 3
   },
   "file_extension": ".py",
   "mimetype": "text/x-python",
   "name": "python",
   "nbconvert_exporter": "python",
   "pygments_lexer": "ipython3",
   "version": "3.9.7"
  },
  "orig_nbformat": 4
 },
 "nbformat": 4,
 "nbformat_minor": 2
}
