{
 "cells": [
  {
   "cell_type": "code",
   "execution_count": 2,
   "metadata": {},
   "outputs": [],
   "source": [
    "import sys\n",
    "import itertools\n",
    "\n",
    "import numpy as np\n",
    "import pandas as pd\n",
    "import scipy\n",
    "from scipy.signal import savgol_filter\n",
    "\n",
    "import neuroseries as nts\n",
    "\n",
    "from progressbar import ProgressBar\n",
    "\n",
    "import time\n",
    "import matplotlib.pyplot as plt\n",
    "\n",
    "\n",
    "import seaborn as sns \n",
    "import bk.load\n",
    "import bk.signal\n",
    "import bk.plot\n",
    "import importlib; \n",
    "importlib.reload(bk.signal)\n",
    "importlib.reload(bk.plot)\n",
    "%matplotlib qt\n",
    "import basefunction.anass_load as at"
   ]
  },
  {
   "cell_type": "code",
   "execution_count": 3,
   "metadata": {},
   "outputs": [],
   "source": [
    "def thetaMap(lfp,pos):\n",
    "    filt_lfp = bk.signal"
   ]
  },
  {
   "cell_type": "code",
   "execution_count": 4,
   "metadata": {},
   "outputs": [
    {
     "name": "stdout",
     "output_type": "stream",
     "text": [
      "Rat : 8 on day : 6\n",
      "Working with session Rat08-20130713 @ Z:\\Rat08\\Rat08-20130713\n"
     ]
    },
    {
     "data": {
      "text/plain": [
       "True"
      ]
     },
     "execution_count": 4,
     "metadata": {},
     "output_type": "execute_result"
    }
   ],
   "source": [
    "path = bk.load.sessions()['Path'][5]\n",
    "bk.load.current_session(path)"
   ]
  },
  {
   "cell_type": "code",
   "execution_count": 5,
   "metadata": {},
   "outputs": [],
   "source": [
    "lfp = bk.load.loadLFP(bk.load.path+ '\\\\' + bk.load.session+\".lfp\",166,13)"
   ]
  },
  {
   "cell_type": "code",
   "execution_count": 10,
   "metadata": {},
   "outputs": [
    {
     "data": {
      "text/plain": [
       "array([0.1024, 0.2816, 0.4608, 0.64  , 0.8192, 0.9984, 1.1776, 1.3568,\n",
       "       1.536 , 1.7152, 1.8944, 2.0736, 2.2528, 2.432 , 2.6112, 2.7904,\n",
       "       2.9696, 3.1488, 3.328 , 3.5072, 3.6864, 3.8656, 4.0448, 4.224 ,\n",
       "       4.4032, 4.5824, 4.7616, 4.9408, 5.12  , 5.2992, 5.4784, 5.6576,\n",
       "       5.8368, 6.016 , 6.1952, 6.3744, 6.5536, 6.7328, 6.912 , 7.0912,\n",
       "       7.2704, 7.4496, 7.6288, 7.808 , 7.9872, 8.1664, 8.3456, 8.5248,\n",
       "       8.704 , 8.8832])"
      ]
     },
     "execution_count": 10,
     "metadata": {},
     "output_type": "execute_result"
    }
   ],
   "source": [
    "filtered = bk.signal.passband(lfp,5,9)\n",
    "xa = scipy.signal.hilbert(filtered)\n",
    "xa = nts.Tsd(np.array(filtered.index),xa)"
   ]
  },
  {
   "cell_type": "code",
   "execution_count": 7,
   "metadata": {},
   "outputs": [],
   "source": [
    "x_power = np.abs(xa.values)**2\n",
    "x_power = nts.Tsd(np.array(filtered.index),x_power)\n",
    "\n",
    "x_phase = np.angle(xa.values)\n",
    "x_phase = nts.Tsd(np.array(filtered.index),x_phase)"
   ]
  },
  {
   "cell_type": "code",
   "execution_count": 8,
   "metadata": {},
   "outputs": [],
   "source": [
    "states = bk.load.states(bk.load.session)"
   ]
  },
  {
   "cell_type": "code",
   "execution_count": 18,
   "metadata": {},
   "outputs": [
    {
     "data": {
      "text/plain": [
       "[<matplotlib.lines.Line2D at 0x219e73950c8>]"
      ]
     },
     "execution_count": 18,
     "metadata": {},
     "output_type": "execute_result"
    }
   ],
   "source": [
    "sub = plt.subplot(3,1,1)\n",
    "plt.plot(lfp.as_units('s')[3200:3400])\n",
    "plt.plot(filtered.as_units('s')[3200:3400])\n",
    "bk.plot.intervals(states['Rem'],'orange')\n",
    "bk.plot.intervals(states['sws'],'grey')\n",
    "plt.subplot(3,1,2,sharex = sub)\n",
    "plt.plot(x_power.as_units('s')[3200:3400])\n",
    "plt.subplot(3,1,3,sharex = sub)\n",
    "plt.plot(x_phase.as_units('s')[3200:3400])\n",
    "# bk.plot.intervals(states['Rem'],'orange',time_units='us')\n",
    "# bk.plot.intervals(states['sws'],'grey',time_units='us')"
   ]
  },
  {
   "cell_type": "code",
   "execution_count": 91,
   "metadata": {},
   "outputs": [],
   "source": []
  },
  {
   "cell_type": "code",
   "execution_count": 105,
   "metadata": {},
   "outputs": [],
   "source": [
    "f,t,Sxx = scipy.signal.spectrogram(lfp.as_units('s'),fs=1250,mode= 'psd',nperseg=2500,noverlap=1250)\n",
    "mask = (3000<t) & (t<3500)\n",
    "plt.pcolormesh(t[mask], f, Sxx[:,mask])\n",
    "plt.clim(0,20000)\n",
    "plt.ylim(0,80)\n",
    "plt.ylabel('Frequency [Hz]')\n",
    "plt.xlabel('Time [sec]')\n",
    "plt.show()"
   ]
  },
  {
   "cell_type": "code",
   "execution_count": 66,
   "metadata": {},
   "outputs": [
    {
     "data": {
      "text/plain": [
       "101.2496"
      ]
     },
     "execution_count": 66,
     "metadata": {},
     "output_type": "execute_result"
    }
   ],
   "source": [
    "126562/1250"
   ]
  },
  {
   "cell_type": "code",
   "execution_count": 32,
   "metadata": {},
   "outputs": [],
   "source": [
    "f, Pxx_den = scipy.signal.welch(lfp.restrict(states['sws']), 1250, nperseg=1024)\n",
    "plt.plot(f, Pxx_den)\n",
    "plt.xlim(0,100)\n",
    "plt.xlabel('frequency [Hz]')\n",
    "plt.ylabel('PSD [V**2/Hz]')\n",
    "plt.show()"
   ]
  },
  {
   "cell_type": "code",
   "execution_count": 58,
   "metadata": {},
   "outputs": [
    {
     "data": {
      "text/plain": [
       "125000"
      ]
     },
     "execution_count": 58,
     "metadata": {},
     "output_type": "execute_result"
    }
   ],
   "source": [
    "len(t[0:125000])"
   ]
  },
  {
   "cell_type": "code",
   "execution_count": 59,
   "metadata": {},
   "outputs": [
    {
     "data": {
      "text/plain": [
       "100.0"
      ]
     },
     "execution_count": 59,
     "metadata": {},
     "output_type": "execute_result"
    }
   ],
   "source": [
    "125000/1250"
   ]
  },
  {
   "cell_type": "code",
   "execution_count": 93,
   "metadata": {},
   "outputs": [
    {
     "data": {
      "text/plain": [
       "array([[1.0653145e+00, 8.8852739e+00, 6.2840824e+00, ..., 4.1657593e+01,\n",
       "        1.0052242e+01, 1.2823708e+01],\n",
       "       [1.5123276e+01, 6.6955963e+01, 8.6185104e+01, ..., 1.0571002e+02,\n",
       "        3.5691235e+01, 2.9774002e+01],\n",
       "       [8.3028778e+01, 5.3204174e+01, 5.4733082e+01, ..., 1.8651159e+01,\n",
       "        7.5753471e+01, 2.6983379e+01],\n",
       "       ...,\n",
       "       [1.9402768e-02, 1.3160699e-02, 1.9652669e-03, ..., 5.5977809e-03,\n",
       "        2.8745562e-03, 4.8346939e-03],\n",
       "       [1.2387454e-02, 1.2122419e-02, 9.3830256e-03, ..., 1.2623433e-02,\n",
       "        5.8417977e-03, 4.0247748e-03],\n",
       "       [1.1820311e-02, 7.5002401e-03, 4.3947501e-03, ..., 1.0931775e-02,\n",
       "        3.7404182e-03, 9.3578445e-03]], dtype=float32)"
      ]
     },
     "execution_count": 93,
     "metadata": {},
     "output_type": "execute_result"
    },
    {
     "name": "stderr",
     "output_type": "stream",
     "text": [
      "C:\\ProgramData\\Anaconda3\\lib\\site-packages\\matplotlib\\colors.py:263: VisibleDeprecationWarning: Creating an ndarray from ragged nested sequences (which is a list-or-tuple of lists-or-tuples-or ndarrays with different lengths or shapes) is deprecated. If you meant to do this, you must specify 'dtype=object' when creating the ndarray\n",
      "  c = np.array(c)\n"
     ]
    }
   ],
   "source": [
    "Sxx"
   ]
  },
  {
   "cell_type": "code",
   "execution_count": 88,
   "metadata": {},
   "outputs": [
    {
     "data": {
      "text/html": [
       "<div>\n",
       "<style scoped>\n",
       "    .dataframe tbody tr th:only-of-type {\n",
       "        vertical-align: middle;\n",
       "    }\n",
       "\n",
       "    .dataframe tbody tr th {\n",
       "        vertical-align: top;\n",
       "    }\n",
       "\n",
       "    .dataframe thead th {\n",
       "        text-align: right;\n",
       "    }\n",
       "</style>\n",
       "<table border=\"1\" class=\"dataframe\">\n",
       "  <thead>\n",
       "    <tr style=\"text-align: right;\">\n",
       "      <th></th>\n",
       "      <th>start</th>\n",
       "      <th>end</th>\n",
       "    </tr>\n",
       "  </thead>\n",
       "  <tbody>\n",
       "    <tr>\n",
       "      <th>0</th>\n",
       "      <td>1448.0</td>\n",
       "      <td>1697.0</td>\n",
       "    </tr>\n",
       "    <tr>\n",
       "      <th>1</th>\n",
       "      <td>1777.0</td>\n",
       "      <td>1926.0</td>\n",
       "    </tr>\n",
       "    <tr>\n",
       "      <th>2</th>\n",
       "      <td>2104.0</td>\n",
       "      <td>2429.0</td>\n",
       "    </tr>\n",
       "    <tr>\n",
       "      <th>3</th>\n",
       "      <td>2826.0</td>\n",
       "      <td>3275.0</td>\n",
       "    </tr>\n",
       "    <tr>\n",
       "      <th>4</th>\n",
       "      <td>3383.0</td>\n",
       "      <td>3841.0</td>\n",
       "    </tr>\n",
       "    <tr>\n",
       "      <th>5</th>\n",
       "      <td>3888.0</td>\n",
       "      <td>3916.0</td>\n",
       "    </tr>\n",
       "    <tr>\n",
       "      <th>6</th>\n",
       "      <td>3970.0</td>\n",
       "      <td>3992.0</td>\n",
       "    </tr>\n",
       "    <tr>\n",
       "      <th>7</th>\n",
       "      <td>4024.0</td>\n",
       "      <td>4529.0</td>\n",
       "    </tr>\n",
       "    <tr>\n",
       "      <th>8</th>\n",
       "      <td>4568.0</td>\n",
       "      <td>4648.0</td>\n",
       "    </tr>\n",
       "    <tr>\n",
       "      <th>9</th>\n",
       "      <td>5044.0</td>\n",
       "      <td>5426.0</td>\n",
       "    </tr>\n",
       "    <tr>\n",
       "      <th>10</th>\n",
       "      <td>5489.0</td>\n",
       "      <td>6069.0</td>\n",
       "    </tr>\n",
       "    <tr>\n",
       "      <th>11</th>\n",
       "      <td>6368.0</td>\n",
       "      <td>6629.0</td>\n",
       "    </tr>\n",
       "    <tr>\n",
       "      <th>12</th>\n",
       "      <td>6970.0</td>\n",
       "      <td>7311.0</td>\n",
       "    </tr>\n",
       "    <tr>\n",
       "      <th>13</th>\n",
       "      <td>7375.0</td>\n",
       "      <td>7759.0</td>\n",
       "    </tr>\n",
       "    <tr>\n",
       "      <th>14</th>\n",
       "      <td>7788.0</td>\n",
       "      <td>7909.0</td>\n",
       "    </tr>\n",
       "    <tr>\n",
       "      <th>15</th>\n",
       "      <td>8485.0</td>\n",
       "      <td>8797.0</td>\n",
       "    </tr>\n",
       "    <tr>\n",
       "      <th>16</th>\n",
       "      <td>8887.0</td>\n",
       "      <td>9333.0</td>\n",
       "    </tr>\n",
       "    <tr>\n",
       "      <th>17</th>\n",
       "      <td>15516.0</td>\n",
       "      <td>16145.0</td>\n",
       "    </tr>\n",
       "    <tr>\n",
       "      <th>18</th>\n",
       "      <td>16436.0</td>\n",
       "      <td>16765.0</td>\n",
       "    </tr>\n",
       "    <tr>\n",
       "      <th>19</th>\n",
       "      <td>16801.0</td>\n",
       "      <td>17259.0</td>\n",
       "    </tr>\n",
       "    <tr>\n",
       "      <th>20</th>\n",
       "      <td>17364.0</td>\n",
       "      <td>17429.0</td>\n",
       "    </tr>\n",
       "    <tr>\n",
       "      <th>21</th>\n",
       "      <td>17497.0</td>\n",
       "      <td>17669.0</td>\n",
       "    </tr>\n",
       "    <tr>\n",
       "      <th>22</th>\n",
       "      <td>17689.0</td>\n",
       "      <td>17764.0</td>\n",
       "    </tr>\n",
       "    <tr>\n",
       "      <th>23</th>\n",
       "      <td>17791.0</td>\n",
       "      <td>17810.0</td>\n",
       "    </tr>\n",
       "    <tr>\n",
       "      <th>24</th>\n",
       "      <td>17852.0</td>\n",
       "      <td>18076.0</td>\n",
       "    </tr>\n",
       "    <tr>\n",
       "      <th>25</th>\n",
       "      <td>18132.0</td>\n",
       "      <td>18528.0</td>\n",
       "    </tr>\n",
       "    <tr>\n",
       "      <th>26</th>\n",
       "      <td>18663.0</td>\n",
       "      <td>18979.0</td>\n",
       "    </tr>\n",
       "    <tr>\n",
       "      <th>27</th>\n",
       "      <td>19086.0</td>\n",
       "      <td>19167.0</td>\n",
       "    </tr>\n",
       "    <tr>\n",
       "      <th>28</th>\n",
       "      <td>19187.0</td>\n",
       "      <td>19448.0</td>\n",
       "    </tr>\n",
       "    <tr>\n",
       "      <th>29</th>\n",
       "      <td>19546.0</td>\n",
       "      <td>19771.0</td>\n",
       "    </tr>\n",
       "    <tr>\n",
       "      <th>30</th>\n",
       "      <td>19818.0</td>\n",
       "      <td>20363.0</td>\n",
       "    </tr>\n",
       "    <tr>\n",
       "      <th>31</th>\n",
       "      <td>20867.0</td>\n",
       "      <td>21286.0</td>\n",
       "    </tr>\n",
       "    <tr>\n",
       "      <th>32</th>\n",
       "      <td>21359.0</td>\n",
       "      <td>21629.0</td>\n",
       "    </tr>\n",
       "    <tr>\n",
       "      <th>33</th>\n",
       "      <td>21675.0</td>\n",
       "      <td>21850.0</td>\n",
       "    </tr>\n",
       "  </tbody>\n",
       "</table>\n",
       "</div>"
      ],
      "text/plain": [
       "      start      end\n",
       "0    1448.0   1697.0\n",
       "1    1777.0   1926.0\n",
       "2    2104.0   2429.0\n",
       "3    2826.0   3275.0\n",
       "4    3383.0   3841.0\n",
       "5    3888.0   3916.0\n",
       "6    3970.0   3992.0\n",
       "7    4024.0   4529.0\n",
       "8    4568.0   4648.0\n",
       "9    5044.0   5426.0\n",
       "10   5489.0   6069.0\n",
       "11   6368.0   6629.0\n",
       "12   6970.0   7311.0\n",
       "13   7375.0   7759.0\n",
       "14   7788.0   7909.0\n",
       "15   8485.0   8797.0\n",
       "16   8887.0   9333.0\n",
       "17  15516.0  16145.0\n",
       "18  16436.0  16765.0\n",
       "19  16801.0  17259.0\n",
       "20  17364.0  17429.0\n",
       "21  17497.0  17669.0\n",
       "22  17689.0  17764.0\n",
       "23  17791.0  17810.0\n",
       "24  17852.0  18076.0\n",
       "25  18132.0  18528.0\n",
       "26  18663.0  18979.0\n",
       "27  19086.0  19167.0\n",
       "28  19187.0  19448.0\n",
       "29  19546.0  19771.0\n",
       "30  19818.0  20363.0\n",
       "31  20867.0  21286.0\n",
       "32  21359.0  21629.0\n",
       "33  21675.0  21850.0"
      ]
     },
     "execution_count": 88,
     "metadata": {},
     "output_type": "execute_result"
    }
   ],
   "source": [
    "states['sws'].as_units('s')"
   ]
  },
  {
   "cell_type": "code",
   "execution_count": 113,
   "metadata": {},
   "outputs": [],
   "source": [
    "v1 = np.random.randint(0,10,5)\n",
    "sample = np.random.randint(0,50,5)"
   ]
  },
  {
   "cell_type": "code",
   "execution_count": 114,
   "metadata": {},
   "outputs": [],
   "source": [
    "s = sample[v1 < 4]"
   ]
  },
  {
   "cell_type": "code",
   "execution_count": 116,
   "metadata": {},
   "outputs": [
    {
     "data": {
      "text/plain": [
       "array([31])"
      ]
     },
     "execution_count": 116,
     "metadata": {},
     "output_type": "execute_result"
    }
   ],
   "source": [
    "s"
   ]
  },
  {
   "cell_type": "code",
   "execution_count": null,
   "metadata": {},
   "outputs": [],
   "source": []
  }
 ],
 "metadata": {
  "kernelspec": {
   "display_name": "Python 3",
   "language": "python",
   "name": "python3"
  },
  "language_info": {
   "codemirror_mode": {
    "name": "ipython",
    "version": 3
   },
   "file_extension": ".py",
   "mimetype": "text/x-python",
   "name": "python",
   "nbconvert_exporter": "python",
   "pygments_lexer": "ipython3",
   "version": "3.7.6"
  }
 },
 "nbformat": 4,
 "nbformat_minor": 4
}
