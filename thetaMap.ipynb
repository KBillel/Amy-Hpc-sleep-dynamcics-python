{
 "cells": [
  {
   "cell_type": "code",
   "execution_count": null,
   "metadata": {},
   "outputs": [],
   "source": [
    "import sys\n",
    "import itertools\n",
    "import os\n",
    "\n",
    "import numpy as np\n",
    "import pandas as pd\n",
    "import scipy\n",
    "from scipy.signal import savgol_filter\n",
    "\n",
    "import neuroseries as nts\n",
    "\n",
    "from progressbar import ProgressBar\n",
    "\n",
    "import time\n",
    "import matplotlib.pyplot as plt\n",
    "\n",
    "\n",
    "import seaborn as sns \n",
    "import bk.load\n",
    "import bk.signal\n",
    "import bk.plot\n",
    "import importlib; \n",
    "importlib.reload(bk.signal)\n",
    "importlib.reload(bk.plot)\n",
    "%matplotlib qt\n",
    "import basefunction.anass_load as at"
   ]
  },
  {
   "cell_type": "code",
   "execution_count": 14,
   "metadata": {},
   "outputs": [],
   "source": [
    "def powerMap(lfp,pos,intervals,low=5,high=10):\n",
    "    #Filter in the band of interess\n",
    "    filtered = bk.signal.passband(lfp,low,high)\n",
    "#     plt.figure()\n",
    "    plt.plot(lfp)\n",
    "    plt.plot(filtered)\n",
    "#     plt.title(bk.load.session + ' #' +str(channel) + ' Filtered in range '+ str(low) + ' ' + str(high))\n",
    "    \n",
    "    # Compute analytic signal in order to have power\n",
    "    xa = scipy.signal.hilbert(filtered)\n",
    "    xa = nts.Tsd(np.array(filtered.index),xa)\n",
    "    x_power = scipy.stats.zscore(np.abs(xa.values)**2)\n",
    "#     x_power = (np.abs(xa.values)**2)\n",
    "#     g = scipy.signal.gaussian(1250,500)\n",
    "#     x_power = np.convolve(x_power,g,'same') \n",
    "    x_power = nts.Tsd(np.array(filtered.index),x_power*1000)\n",
    "    plt.plot(x_power)\n",
    "    \n",
    "    #reindex position using index of power\n",
    "    pos = pos.reindex(x_power.index,method = 'nearest')\n",
    "    pos['power'] = x_power.values\n",
    "    powerMap = np.histogram2d(pos.restrict(intervals)['x'],pos.restrict(intervals)['y'],weights=pos.restrict(intervals)['power'],bins = [50,20])\n",
    "    occupancy = np.histogram2d(pos.restrict(intervals)['x'],pos.restrict(intervals)['y'],[50,20])\n",
    "        \n",
    "    return powerMap[0],occupancy[0]\n",
    "\n",
    "\n",
    "def plotPowerMap(powermap,occupancy):\n",
    "#     plt.subplot(3,1,1)\n",
    "#     plt.imshow(powermap.T)\n",
    "#     plt.subplot(3,1,2)\n",
    "#     plt.imshow(occupancy.T)\n",
    "#     plt.subplot(3,1,3)\n",
    "#     plt.subplot(3,1,1)\n",
    "#     plt.imshow(powermap.T)\n",
    "#     plt.subplot(3,1,2)\n",
    "#     plt.imshow(occupancy.T)\n",
    "#     plt.subplot(3,1,3)\n",
    "    plt.imshow(np.divide(powermap.T,occupancy.T))\n",
    "#     sub = plt.subplot(4,1,1)\n",
    "#     plt.imshow(occupancy.T)\n",
    "#     plt.subplot(4,1,2)\n",
    "#     plt.imshow(a.T)\n",
    "#     plt.subplot(4,1,3)\n",
    "#     plt.imshow(.T/occupancy.T)\n",
    "#     plt.subplot(4,1,4)\n",
    "#     plt.plot(x_power.as_units('s'))\n",
    "#     bk.plot.intervals(inter,'orange')"
   ]
  },
  {
   "cell_type": "code",
   "execution_count": null,
   "metadata": {},
   "outputs": [],
   "source": [
    "def main(path,channel,low,high):\n",
    "    bk.load.current_session(path)\n",
    "    laps = scipy.io.loadmat(bk.load.session+'-LapType.mat')\n",
    "    run = scipy.io.loadmat(bk.load.session + '-TrackRunTimes.mat')\n",
    "    \n",
    "    runIntervals = scipy.io.loadmat('runintervals.mat')['runintervals']\n",
    "    runIntervals = nts.IntervalSet(runIntervals[:,0],runIntervals[:,1],time_units='s')\n",
    "\n",
    "    danger_laps = laps['aplaps'][0]['run'][0]\n",
    "    danger_laps = nts.IntervalSet(danger_laps[:,0],danger_laps[:,1],time_units = 's')\n",
    "\n",
    "    safe_laps = laps['safelaps'][0]['run'][0]\n",
    "    safe_laps = nts.IntervalSet(safe_laps[:,0],safe_laps[:,1],time_units = 's')\n",
    "\n",
    "    trackruntimes = run['trackruntimes']\n",
    "    trackruntimes = nts.IntervalSet(trackruntimes[:,0],trackruntimes[:,1],time_units = 's')\n",
    "    \n",
    "    laps = {'run':trackruntimes,'danger':danger_laps,'safe':safe_laps}\n",
    "    \n",
    "    \n",
    "    lfp = pd.Series(dtype = 'object')\n",
    "    print(runIntervals.as_units('s'))\n",
    "    for run in runIntervals.as_units('s').iloc:\n",
    "        lfp_ = bk.load.lfp(run['start'],run['end'],166,channel)\n",
    "        lfp = lfp.append(lfp_)\n",
    "    \n",
    "    lfp = nts.Tsd(lfp[~lfp.index.duplicated(keep='first')])\n",
    "    pos = bk.load.pos()\n",
    "    \n",
    "    powermap,occupancy = powerMap(lfp,pos,runIntervals,low,high)\n",
    "#     plt.figure()\n",
    "#     plotPowerMap(powermap,occupancy)\n",
    "    plt.title(bk.load.session + ' #' +str(channel) + ' Filtered in range '+ str(low) + ' ' + str(high))\n",
    "    return(powermap,occupancy)"
   ]
  },
  {
   "cell_type": "code",
   "execution_count": null,
   "metadata": {},
   "outputs": [
    {
     "name": "stdout",
     "output_type": "stream",
     "text": [
      "Rat : 8 on day : 6\n",
      "Working with session Rat08-20130713 @ Z:\\Rat08\\Rat08-20130713\n",
      "     start      end\n",
      "0      0.0    206.3\n",
      "1   9405.5  12649.0\n",
      "2  22415.0  22680.0\n",
      "Load LFP from Rat08-20130713.lfp\n",
      "Load LFP from Rat08-20130713.lfp\n",
      "Load LFP from Rat08-20130713.lfp\n"
     ]
    }
   ],
   "source": [
    "path = \"Z:\\Rat08\\Rat08-20130713\"\n",
    "# bk.load.path = '/media/billel/GGLab-01-BK/DATA/Rat08-20130713'\n",
    "\n",
    "channels = [23,105,150]\n",
    "low = [5,50]\n",
    "high = [10,80]\n",
    "p = 1 \n",
    "for i,c in enumerate(channels,0):\n",
    "    for j,b in enumerate(zip(low,high),0):\n",
    "        plt.subplot(len(channels),len(low),p)\n",
    "        occupancy = main(path,c,b[0],b[1])\n",
    "        p += 1\n",
    "plt.figure()\n",
    "plt.imshow(occupancy.T)\n",
    "plt.title(path)"
   ]
  },
  {
   "cell_type": "code",
   "execution_count": 15,
   "metadata": {},
   "outputs": [
    {
     "name": "stdout",
     "output_type": "stream",
     "text": [
      "Rat : 8 on day : 6\n",
      "Working with session Rat08-20130713 @ Z:\\Rat08\\Rat08-20130713\n",
      "     start      end\n",
      "0      0.0    206.3\n",
      "1   9405.5  12649.0\n",
      "2  22415.0  22680.0\n",
      "Load LFP from Rat08-20130713.lfp\n",
      "Load LFP from Rat08-20130713.lfp\n",
      "Load LFP from Rat08-20130713.lfp\n",
      "Rat : 8 on day : 6\n",
      "Working with session Rat08-20130713 @ Z:\\Rat08\\Rat08-20130713\n",
      "     start      end\n",
      "0      0.0    206.3\n",
      "1   9405.5  12649.0\n",
      "2  22415.0  22680.0\n",
      "Load LFP from Rat08-20130713.lfp\n",
      "Load LFP from Rat08-20130713.lfp\n",
      "Load LFP from Rat08-20130713.lfp\n"
     ]
    }
   ],
   "source": [
    "path = \"Z:\\Rat08\\Rat08-20130713\"\n",
    "p = plt.subplot(2,1,1)\n",
    "powermap,occupancy = main(path,13,5,10)\n",
    "p = plt.subplot(2,1,2,sharex=p)\n",
    "powermap2,occupanc2 = main(path,105,5,10)"
   ]
  },
  {
   "cell_type": "code",
   "execution_count": 43,
   "metadata": {},
   "outputs": [
    {
     "name": "stderr",
     "output_type": "stream",
     "text": [
      "C:\\ProgramData\\Anaconda3\\lib\\site-packages\\ipykernel_launcher.py:3: RuntimeWarning: invalid value encountered in true_divide\n",
      "  This is separate from the ipykernel package so we can avoid doing imports until\n",
      "C:\\ProgramData\\Anaconda3\\lib\\site-packages\\ipykernel_launcher.py:7: RuntimeWarning: invalid value encountered in true_divide\n",
      "  import sys\n"
     ]
    }
   ],
   "source": [
    "plt.figure()\n",
    "a = plt.subplot(2,1,1)\n",
    "plt.colorbar()\n",
    "\n",
    "plt.subplot(2,1,2,sharex = a)\n",
    "plt.colorbar()\n",
    "plt.show()"
   ]
  },
  {
   "cell_type": "code",
   "execution_count": 20,
   "metadata": {},
   "outputs": [
    {
     "name": "stdout",
     "output_type": "stream",
     "text": [
      "Rat : 8 on day : 6\n",
      "Working with session Rat08-20130713 @ Z:\\Rat08\\Rat08-20130713\n",
      "     start      end\n",
      "0      0.0    206.3\n",
      "1   9405.5  12649.0\n",
      "2  22415.0  22680.0\n",
      "Load LFP from Rat08-20130713.lfp\n",
      "Load LFP from Rat08-20130713.lfp\n",
      "Load LFP from Rat08-20130713.lfp\n",
      "     start      end\n",
      "0      0.0    206.3\n",
      "1   9405.5  12649.0\n",
      "2  22415.0  22680.0\n",
      "Load LFP from Rat08-20130713.lfp\n",
      "Load LFP from Rat08-20130713.lfp\n",
      "Load LFP from Rat08-20130713.lfp\n"
     ]
    }
   ],
   "source": [
    "bk.load.current_session(path)\n",
    "\n",
    "runIntervals = scipy.io.loadmat('runintervals.mat')['runintervals']\n",
    "runIntervals = nts.IntervalSet(runIntervals[:,0],runIntervals[:,1],time_units='s')\n",
    "\n",
    "channels = [23,105]\n",
    "lfps = dict()\n",
    "for c in channels:\n",
    "    lfp = pd.Series(dtype = 'object')\n",
    "    print(runIntervals.as_units('s'))\n",
    "    for run in runIntervals.as_units('s').iloc:\n",
    "        lfp_ = bk.load.lfp(run['start'],run['end'],166,c)\n",
    "        lfp = lfp.append(lfp_)\n",
    "\n",
    "    lfp = nts.Tsd(lfp[~lfp.index.duplicated(keep='first')])\n",
    "    lfps.update({c:lfp})\n",
    "pos = bk.load.pos()"
   ]
  },
  {
   "cell_type": "code",
   "execution_count": 64,
   "metadata": {},
   "outputs": [],
   "source": [
    "for lfp in lfps:\n",
    "    filt = bk.signal.passband(lfps[lfp],5,10)\n",
    "    xa = scipy.signal.hilbert(filt)\n",
    "    xa = nts.Tsd(np.array(filt.index),xa)\n",
    "#     x_power = scipy.stats.zscore(np.abs(xa.values)**2)\n",
    "    x_power = (np.abs(xa.values)**2)\n",
    "    g = scipy.signal.gaussian(1250,512)\n",
    "    x_power = np.convolve(x_power,g,'same')\n",
    "    x_power = nts.Tsd(xa.times(),x_power)\n",
    "    f,t,Sxx = scipy.signal.spectrogram(lfps[lfp].as_units('s'),fs=1250,mode= 'psd',nperseg=2500,noverlap=1250)\n",
    "    \n",
    "    plt.figure()\n",
    "    s = plt.subplot(3,1,1)\n",
    "    plt.plot(lfps[lfp].as_units('s'))\n",
    "    plt.plot(filt.as_units('s'))\n",
    "    plt.subplot(3,1,2,sharex=s)\n",
    "    plt.plot(x_power.as_units('s'))\n",
    "    plt.subplot(3,1,3,sharex=s)\n",
    "    plt.pcolormesh(t, f, Sxx)\n",
    "\n",
    "    "
   ]
  },
  {
   "cell_type": "code",
   "execution_count": 50,
   "metadata": {},
   "outputs": [
    {
     "data": {
      "text/plain": [
       "22655.308116542023"
      ]
     },
     "execution_count": 50,
     "metadata": {},
     "output_type": "execute_result"
    }
   ],
   "source": [
    "np.mean(x_power.as_units('s')[86:89])"
   ]
  },
  {
   "cell_type": "code",
   "execution_count": 51,
   "metadata": {},
   "outputs": [
    {
     "data": {
      "text/plain": [
       "8792.089292992887"
      ]
     },
     "execution_count": 51,
     "metadata": {},
     "output_type": "execute_result"
    }
   ],
   "source": [
    "np.mean(x_power.as_units('s')[92:94])"
   ]
  },
  {
   "cell_type": "code",
   "execution_count": 67,
   "metadata": {},
   "outputs": [
    {
     "data": {
      "text/plain": [
       "(0.0, 20.0)"
      ]
     },
     "execution_count": 67,
     "metadata": {},
     "output_type": "execute_result"
    }
   ],
   "source": [
    "plt.clim(0,25000)\n",
    "plt.ylim(0,20)"
   ]
  },
  {
   "cell_type": "code",
   "execution_count": 9,
   "metadata": {},
   "outputs": [
    {
     "name": "stdout",
     "output_type": "stream",
     "text": [
      "Rat : 8 on day : 7\n",
      "Working with session Rat08-20130715 @ Z:\\Rat08\\Rat08-20130715\n",
      "Load LFP from Rat08-20130715.lfp\n",
      "<class 'pandas.core.series.Series'>\n",
      "Load LFP from Rat08-20130715.lfp\n",
      "<class 'pandas.core.series.Series'>\n"
     ]
    },
    {
     "name": "stderr",
     "output_type": "stream",
     "text": [
      "Traceback (most recent call last):\n",
      "  File \"C:\\ProgramData\\Anaconda3\\lib\\site-packages\\matplotlib\\backends\\backend_qt5.py\", line 496, in _draw_idle\n",
      "    self.draw()\n",
      "  File \"C:\\ProgramData\\Anaconda3\\lib\\site-packages\\matplotlib\\backends\\backend_agg.py\", line 393, in draw\n",
      "    self.figure.draw(self.renderer)\n",
      "  File \"C:\\ProgramData\\Anaconda3\\lib\\site-packages\\matplotlib\\artist.py\", line 38, in draw_wrapper\n",
      "    return draw(artist, renderer, *args, **kwargs)\n",
      "  File \"C:\\ProgramData\\Anaconda3\\lib\\site-packages\\matplotlib\\figure.py\", line 1736, in draw\n",
      "    renderer, self, artists, self.suppressComposite)\n",
      "  File \"C:\\ProgramData\\Anaconda3\\lib\\site-packages\\matplotlib\\image.py\", line 137, in _draw_list_compositing_images\n",
      "    a.draw(renderer)\n",
      "  File \"C:\\ProgramData\\Anaconda3\\lib\\site-packages\\matplotlib\\artist.py\", line 38, in draw_wrapper\n",
      "    return draw(artist, renderer, *args, **kwargs)\n",
      "  File \"C:\\ProgramData\\Anaconda3\\lib\\site-packages\\matplotlib\\axes\\_base.py\", line 2630, in draw\n",
      "    mimage._draw_list_compositing_images(renderer, self, artists)\n",
      "  File \"C:\\ProgramData\\Anaconda3\\lib\\site-packages\\matplotlib\\image.py\", line 137, in _draw_list_compositing_images\n",
      "    a.draw(renderer)\n",
      "  File \"C:\\ProgramData\\Anaconda3\\lib\\site-packages\\matplotlib\\artist.py\", line 38, in draw_wrapper\n",
      "    return draw(artist, renderer, *args, **kwargs)\n",
      "  File \"C:\\ProgramData\\Anaconda3\\lib\\site-packages\\matplotlib\\collections.py\", line 2046, in draw\n",
      "    self.update_scalarmappable()\n",
      "  File \"C:\\ProgramData\\Anaconda3\\lib\\site-packages\\matplotlib\\collections.py\", line 791, in update_scalarmappable\n",
      "    self._facecolors = self.to_rgba(self._A, self._alpha)\n",
      "  File \"C:\\ProgramData\\Anaconda3\\lib\\site-packages\\matplotlib\\cm.py\", line 245, in to_rgba\n",
      "    rgba = self.cmap(x, alpha=alpha, bytes=bytes)\n",
      "  File \"C:\\ProgramData\\Anaconda3\\lib\\site-packages\\matplotlib\\colors.py\", line 613, in __call__\n",
      "    rgba = lut.take(xa, axis=0, mode='clip')\n",
      "TypeError: Cannot cast array data from dtype('complex128') to dtype('int64') according to the rule 'safe'\n",
      "Traceback (most recent call last):\n",
      "  File \"C:\\ProgramData\\Anaconda3\\lib\\site-packages\\matplotlib\\backends\\backend_qt5.py\", line 496, in _draw_idle\n",
      "    self.draw()\n",
      "  File \"C:\\ProgramData\\Anaconda3\\lib\\site-packages\\matplotlib\\backends\\backend_agg.py\", line 393, in draw\n",
      "    self.figure.draw(self.renderer)\n",
      "  File \"C:\\ProgramData\\Anaconda3\\lib\\site-packages\\matplotlib\\artist.py\", line 38, in draw_wrapper\n",
      "    return draw(artist, renderer, *args, **kwargs)\n",
      "  File \"C:\\ProgramData\\Anaconda3\\lib\\site-packages\\matplotlib\\figure.py\", line 1736, in draw\n",
      "    renderer, self, artists, self.suppressComposite)\n",
      "  File \"C:\\ProgramData\\Anaconda3\\lib\\site-packages\\matplotlib\\image.py\", line 137, in _draw_list_compositing_images\n",
      "    a.draw(renderer)\n",
      "  File \"C:\\ProgramData\\Anaconda3\\lib\\site-packages\\matplotlib\\artist.py\", line 38, in draw_wrapper\n",
      "    return draw(artist, renderer, *args, **kwargs)\n",
      "  File \"C:\\ProgramData\\Anaconda3\\lib\\site-packages\\matplotlib\\axes\\_base.py\", line 2630, in draw\n",
      "    mimage._draw_list_compositing_images(renderer, self, artists)\n",
      "  File \"C:\\ProgramData\\Anaconda3\\lib\\site-packages\\matplotlib\\image.py\", line 137, in _draw_list_compositing_images\n",
      "    a.draw(renderer)\n",
      "  File \"C:\\ProgramData\\Anaconda3\\lib\\site-packages\\matplotlib\\artist.py\", line 38, in draw_wrapper\n",
      "    return draw(artist, renderer, *args, **kwargs)\n",
      "  File \"C:\\ProgramData\\Anaconda3\\lib\\site-packages\\matplotlib\\collections.py\", line 2046, in draw\n",
      "    self.update_scalarmappable()\n",
      "  File \"C:\\ProgramData\\Anaconda3\\lib\\site-packages\\matplotlib\\collections.py\", line 791, in update_scalarmappable\n",
      "    self._facecolors = self.to_rgba(self._A, self._alpha)\n",
      "  File \"C:\\ProgramData\\Anaconda3\\lib\\site-packages\\matplotlib\\cm.py\", line 245, in to_rgba\n",
      "    rgba = self.cmap(x, alpha=alpha, bytes=bytes)\n",
      "  File \"C:\\ProgramData\\Anaconda3\\lib\\site-packages\\matplotlib\\colors.py\", line 613, in __call__\n",
      "    rgba = lut.take(xa, axis=0, mode='clip')\n",
      "TypeError: Cannot cast array data from dtype('complex128') to dtype('int64') according to the rule 'safe'\n"
     ]
    }
   ],
   "source": [
    "bk.load.current_session(path)\n",
    "states = bk.load.states()\n",
    "\n",
    "\n",
    "stru = [['HPC',23],['BLA',105]]\n",
    "for i in stru:\n",
    "    #lfp\n",
    "    lfp = bk.load.lfp(states['sws'].as_units('s')['start'][0],states['sws'].as_units('s')['end'][0]+50,166,i[1])\n",
    "    filt = bk.signal.passband(lfp,50,80)\n",
    "    \n",
    "    \n",
    "    f,t,Sxx = scipy.signal.spectrogram(lfp.as_units('s'),fs=1250,mode= 'psd',nperseg=2500,noverlap=1250)\n",
    "    t = t+states['sws'].as_units('s')['start'][0]\n",
    "    \n",
    "    widths = np.arange(1, 100)\n",
    "    cwtmatr = scipy.signal.cwt(lfp.as_units('s'),scipy.signal.morlet,widths)\n",
    "    \n",
    "    xa = scipy.signal.hilbert(filt)\n",
    "    power = scipy.stats.zscore(np.abs(xa)**2)\n",
    "    # g = scipy.signal.gaussian(12500,1250)\n",
    "\n",
    "    # power = scipy.stats.zscore(np.convolve(power,g,'same'))\n",
    "    power = nts.Tsd(filt.times(),power)\n",
    "\n",
    "    plt.figure()\n",
    "    sub = plt.subplot(4,1,1)\n",
    "    plt.title('LFP and filter')\n",
    "    plt.plot(lfp.as_units('s'))\n",
    "    plt.plot(filt.as_units('s'))\n",
    "    bk.plot.intervals(states['Rem'].iloc[0],col = 'orange')\n",
    "\n",
    "\n",
    "    plt.subplot(4,1,2,sharex = sub)\n",
    "    plt.pcolormesh(t, f, Sxx)\n",
    "    plt.clim(0,20000)\n",
    "    plt.ylim(0,80)\n",
    "    plt.ylabel('Frequency [Hz]')\n",
    "    plt.xlabel('Time [sec]')\n",
    "    \n",
    "\n",
    "    \n",
    "    plt.subplot(4,1,3,sharex=sub)\n",
    "    plt.title('Wavelet')\n",
    "    t = np.linspace(t[0],t[-1],490000)\n",
    "    plt.pcolormesh(t,widths,cwtmatr)\n",
    "    plt.clim(0,10000)\n",
    "\n",
    "\n",
    "    plt.subplot(4,1,4,sharex=sub)\n",
    "    plt.plot(power.as_units('s'))\n",
    "    plt.title(\"Power Hilbert\")\n",
    "\n",
    "    plt.show()\n",
    "    plt.suptitle(i[0])"
   ]
  },
  {
   "cell_type": "code",
   "execution_count": 46,
   "metadata": {},
   "outputs": [
    {
     "name": "stdout",
     "output_type": "stream",
     "text": [
      "(391,) (99,) (99, 490000)\n",
      "(391,) (1251,) (1251, 391)\n"
     ]
    }
   ],
   "source": [
    "print(np.shape(t),np.shape(widths),np.shape(cwtmatr))\n",
    "print(np.shape(t),np.shape(f),np.shape(Sxx))"
   ]
  },
  {
   "cell_type": "code",
   "execution_count": 47,
   "metadata": {},
   "outputs": [
    {
     "data": {
      "text/plain": [
       "array([0.000e+00, 5.000e-01, 1.000e+00, ..., 6.240e+02, 6.245e+02,\n",
       "       6.250e+02])"
      ]
     },
     "execution_count": 47,
     "metadata": {},
     "output_type": "execute_result"
    }
   ],
   "source": [
    "f"
   ]
  },
  {
   "cell_type": "code",
   "execution_count": 9,
   "metadata": {},
   "outputs": [
    {
     "data": {
      "text/plain": [
       "[<matplotlib.lines.Line2D at 0x137c3ae9148>]"
      ]
     },
     "execution_count": 9,
     "metadata": {},
     "output_type": "execute_result"
    }
   ],
   "source": [
    "filt = bk.signal.passband(lfp,4,8)\n",
    "xa = scipy.signal.hilbert(filt.values)\n",
    "x_phase = np.angle(xa)\n",
    "x_phase = nts.Tsd(np.array(lfp.index),x_phase)\n",
    "\n",
    "plt.figure()\n",
    "sub = plt.subplot(2,1,1)\n",
    "plt.plot(filt)\n",
    "plt.subplot(2,1,2,sharex = sub)\n",
    "plt.plot(x_phase,'.k')"
   ]
  },
  {
   "cell_type": "code",
   "execution_count": 54,
   "metadata": {},
   "outputs": [
    {
     "name": "stdout",
     "output_type": "stream",
     "text": [
      "Load LFP from Rat08-20130713.lfp\n"
     ]
    }
   ],
   "source": [
    "lfp = bk.load.lfp(0,20000,166,13)"
   ]
  },
  {
   "cell_type": "code",
   "execution_count": 55,
   "metadata": {},
   "outputs": [
    {
     "data": {
      "text/plain": [
       "[<matplotlib.lines.Line2D at 0x22521c02f08>]"
      ]
     },
     "execution_count": 55,
     "metadata": {},
     "output_type": "execute_result"
    }
   ],
   "source": [
    "lfp_rem = lfp.restrict(states['Rem'])\n",
    "f,Pxx = scipy.signal.welch(lfp_rem.values,fs=1250,nperseg = 2500,noverlap = 1250)\n",
    "# plt.figure()\n",
    "plt.plot(f,Pxx)"
   ]
  },
  {
   "cell_type": "code",
   "execution_count": null,
   "metadata": {},
   "outputs": [],
   "source": [
    "plt"
   ]
  },
  {
   "cell_type": "code",
   "execution_count": 179,
   "metadata": {},
   "outputs": [],
   "source": [
    "del states['drowsy']\n",
    "\n",
    "lfps = {}\n",
    "for lap in laps:\n",
    "    lfp_ = lfp.restrict(laps[lap])\n",
    "    lfps.update({lap:lfp_})\n",
    "\n",
    "for state in states:\n",
    "    lfp_ = lfp.restrict(states[state])\n",
    "    lfps.update({state:lfp_})"
   ]
  },
  {
   "cell_type": "code",
   "execution_count": 7,
   "metadata": {},
   "outputs": [
    {
     "name": "stderr",
     "output_type": "stream",
     "text": [
      "C:\\ProgramData\\Anaconda3\\lib\\site-packages\\ipykernel_launcher.py:22: RuntimeWarning: invalid value encountered in true_divide\n"
     ]
    }
   ],
   "source": [
    "\n",
    "# x_phase = np.angle(xa.values)\n",
    "# x_phase = nts.Tsd(np.array(filtered.index),x_phase)\n",
    "\n",
    "# x_rem = x_power.restrict(states['Rem'])\n",
    "# x_sws = x_power.restrict(states['sws'])\n",
    "\n",
    "# f_rem = scipy.signal.savgol_filter(x_rem.values,3001,2)\n",
    "# f_sws = scipy.signal.savgol_filter(x_sws.values,3001,2)\n",
    "\n",
    "\n",
    "# plt.plot(x_rem.as_units('s'))\n",
    "# plt.plot(x_sws.as_units('s'))"
   ]
  },
  {
   "cell_type": "code",
   "execution_count": 286,
   "metadata": {},
   "outputs": [],
   "source": [
    "\n",
    "# plt.plot(x_power.restrict(laps['run']))\n",
    "# plt.plot(pos.restrict(laps['run']))\n",
    "# plt.plot(position_power_run)"
   ]
  },
  {
   "cell_type": "code",
   "execution_count": 40,
   "metadata": {},
   "outputs": [
    {
     "name": "stdout",
     "output_type": "stream",
     "text": [
      "run\n",
      "safe\n",
      "danger\n"
     ]
    },
    {
     "data": {
      "text/plain": [
       "<matplotlib.legend.Legend at 0x7fd810892250>"
      ]
     },
     "execution_count": 40,
     "metadata": {},
     "output_type": "execute_result"
    }
   ],
   "source": [
    "p = ['run','safe','danger']\n",
    "\n",
    "for l in p:\n",
    "    print(l)\n",
    "    f, Pxx_den = scipy.signal.welch(lfps[l], 1250,nperseg=1024,nfft=1250*10,scaling='density')\n",
    "    plt.plot(f, Pxx_den)\n",
    "    plt.xlim(0,100)\n",
    "    plt.xlabel('frequency [Hz]')\n",
    "    plt.ylabel('PSD [V**2/Hz]')\n",
    "    plt.show()\n",
    "plt.xlim(2,20)\n",
    "plt.legend([i for i in p])"
   ]
  },
  {
   "cell_type": "code",
   "execution_count": 353,
   "metadata": {},
   "outputs": [
    {
     "data": {
      "text/html": [
       "<div>\n",
       "<style scoped>\n",
       "    .dataframe tbody tr th:only-of-type {\n",
       "        vertical-align: middle;\n",
       "    }\n",
       "\n",
       "    .dataframe tbody tr th {\n",
       "        vertical-align: top;\n",
       "    }\n",
       "\n",
       "    .dataframe thead th {\n",
       "        text-align: right;\n",
       "    }\n",
       "</style>\n",
       "<table border=\"1\" class=\"dataframe\">\n",
       "  <thead>\n",
       "    <tr style=\"text-align: right;\">\n",
       "      <th></th>\n",
       "      <th>start</th>\n",
       "      <th>end</th>\n",
       "    </tr>\n",
       "  </thead>\n",
       "  <tbody>\n",
       "    <tr>\n",
       "      <th>0</th>\n",
       "      <td>206</td>\n",
       "      <td>9405</td>\n",
       "    </tr>\n",
       "  </tbody>\n",
       "</table>\n",
       "</div>"
      ],
      "text/plain": [
       "   start   end\n",
       "0    206  9405"
      ]
     },
     "execution_count": 353,
     "metadata": {},
     "output_type": "execute_result"
    }
   ],
   "source": [
    "runInt"
   ]
  },
  {
   "cell_type": "code",
   "execution_count": 68,
   "metadata": {},
   "outputs": [],
   "source": [
    "plt.plot(position_power.as_units('s'))\n",
    "bk.plot.intervals(laps['run'],'black')"
   ]
  },
  {
   "cell_type": "code",
   "execution_count": 282,
   "metadata": {},
   "outputs": [],
   "source": []
  },
  {
   "cell_type": "code",
   "execution_count": 17,
   "metadata": {},
   "outputs": [
    {
     "name": "stdout",
     "output_type": "stream",
     "text": [
      "Rat : 8 on day : 6\n",
      "Working with session Rat08-20130713 @ Z:\\Rat08\\Rat08-20130713\n"
     ]
    },
    {
     "data": {
      "text/plain": [
       "True"
      ]
     },
     "execution_count": 17,
     "metadata": {},
     "output_type": "execute_result"
    }
   ],
   "source": [
    "path = bk.load.sessions()['Path'][5]\n",
    "bk.load.current_session(path)"
   ]
  },
  {
   "cell_type": "code",
   "execution_count": 18,
   "metadata": {},
   "outputs": [
    {
     "name": "stdout",
     "output_type": "stream",
     "text": [
      "opening\n"
     ]
    }
   ],
   "source": [
    "lfp = bk.load.loadLFP(bk.load.path+ '\\\\' + bk.load.session+\".lfp\",166,101)"
   ]
  },
  {
   "cell_type": "code",
   "execution_count": 287,
   "metadata": {},
   "outputs": [],
   "source": [
    "states = bk.load.states(bk.load.session)"
   ]
  },
  {
   "cell_type": "code",
   "execution_count": null,
   "metadata": {},
   "outputs": [],
   "source": []
  },
  {
   "cell_type": "code",
   "execution_count": 288,
   "metadata": {},
   "outputs": [
    {
     "data": {
      "text/plain": [
       "[<matplotlib.lines.Line2D at 0x2ac197e2ec8>]"
      ]
     },
     "execution_count": 288,
     "metadata": {},
     "output_type": "execute_result"
    }
   ],
   "source": [
    "sub = plt.subplot(3,1,1)\n",
    "plt.plot(lfp.as_units('s')[3200:3400])\n",
    "plt.plot(filtered.as_units('s')[3200:3400])\n",
    "bk.plot.intervals(states['Rem'],'orange')\n",
    "bk.plot.intervals(states['sws'],'grey')\n",
    "plt.subplot(3,1,2,sharex = sub)\n",
    "plt.plot(x_power.as_units('s')[3200:3400])\n",
    "plt.subplot(3,1,3,sharex = sub)\n",
    "plt.plot(x_phase.as_units('s')[3200:3400])\n",
    "# bk.plot.intervals(states['Rem'],'orange',time_units='us')\n",
    "# bk.plot.intervals(states['sws'],'grey',time_units='us')"
   ]
  },
  {
   "cell_type": "code",
   "execution_count": null,
   "metadata": {},
   "outputs": [],
   "source": []
  },
  {
   "cell_type": "code",
   "execution_count": 16,
   "metadata": {},
   "outputs": [
    {
     "ename": "NameError",
     "evalue": "name 'lfp' is not defined",
     "output_type": "error",
     "traceback": [
      "\u001b[1;31m---------------------------------------------------------------------------\u001b[0m",
      "\u001b[1;31mNameError\u001b[0m                                 Traceback (most recent call last)",
      "\u001b[1;32m<ipython-input-16-ccc2bdf73404>\u001b[0m in \u001b[0;36m<module>\u001b[1;34m\u001b[0m\n\u001b[1;32m----> 1\u001b[1;33m \u001b[0mf\u001b[0m\u001b[1;33m,\u001b[0m\u001b[0mt\u001b[0m\u001b[1;33m,\u001b[0m\u001b[0mSxx\u001b[0m \u001b[1;33m=\u001b[0m \u001b[0mscipy\u001b[0m\u001b[1;33m.\u001b[0m\u001b[0msignal\u001b[0m\u001b[1;33m.\u001b[0m\u001b[0mspectrogram\u001b[0m\u001b[1;33m(\u001b[0m\u001b[0mlfp\u001b[0m\u001b[1;33m.\u001b[0m\u001b[0mas_units\u001b[0m\u001b[1;33m(\u001b[0m\u001b[1;34m's'\u001b[0m\u001b[1;33m)\u001b[0m\u001b[1;33m,\u001b[0m\u001b[0mfs\u001b[0m\u001b[1;33m=\u001b[0m\u001b[1;36m1250\u001b[0m\u001b[1;33m,\u001b[0m\u001b[0mmode\u001b[0m\u001b[1;33m=\u001b[0m \u001b[1;34m'psd'\u001b[0m\u001b[1;33m,\u001b[0m\u001b[0mnperseg\u001b[0m\u001b[1;33m=\u001b[0m\u001b[1;36m2500\u001b[0m\u001b[1;33m,\u001b[0m\u001b[0mnoverlap\u001b[0m\u001b[1;33m=\u001b[0m\u001b[1;36m1250\u001b[0m\u001b[1;33m)\u001b[0m\u001b[1;33m\u001b[0m\u001b[1;33m\u001b[0m\u001b[0m\n\u001b[0m\u001b[0;32m      2\u001b[0m \u001b[0mmask\u001b[0m \u001b[1;33m=\u001b[0m \u001b[1;33m(\u001b[0m\u001b[1;36m3000\u001b[0m\u001b[1;33m<\u001b[0m\u001b[0mt\u001b[0m\u001b[1;33m)\u001b[0m \u001b[1;33m&\u001b[0m \u001b[1;33m(\u001b[0m\u001b[0mt\u001b[0m\u001b[1;33m<\u001b[0m\u001b[1;36m3500\u001b[0m\u001b[1;33m)\u001b[0m\u001b[1;33m\u001b[0m\u001b[1;33m\u001b[0m\u001b[0m\n\u001b[0;32m      3\u001b[0m \u001b[0mplt\u001b[0m\u001b[1;33m.\u001b[0m\u001b[0mpcolormesh\u001b[0m\u001b[1;33m(\u001b[0m\u001b[0mt\u001b[0m\u001b[1;33m[\u001b[0m\u001b[0mmask\u001b[0m\u001b[1;33m]\u001b[0m\u001b[1;33m,\u001b[0m \u001b[0mf\u001b[0m\u001b[1;33m,\u001b[0m \u001b[0mSxx\u001b[0m\u001b[1;33m[\u001b[0m\u001b[1;33m:\u001b[0m\u001b[1;33m,\u001b[0m\u001b[0mmask\u001b[0m\u001b[1;33m]\u001b[0m\u001b[1;33m)\u001b[0m\u001b[1;33m\u001b[0m\u001b[1;33m\u001b[0m\u001b[0m\n\u001b[0;32m      4\u001b[0m \u001b[0mplt\u001b[0m\u001b[1;33m.\u001b[0m\u001b[0mclim\u001b[0m\u001b[1;33m(\u001b[0m\u001b[1;36m0\u001b[0m\u001b[1;33m,\u001b[0m\u001b[1;36m20000\u001b[0m\u001b[1;33m)\u001b[0m\u001b[1;33m\u001b[0m\u001b[1;33m\u001b[0m\u001b[0m\n\u001b[0;32m      5\u001b[0m \u001b[0mplt\u001b[0m\u001b[1;33m.\u001b[0m\u001b[0mylim\u001b[0m\u001b[1;33m(\u001b[0m\u001b[1;36m0\u001b[0m\u001b[1;33m,\u001b[0m\u001b[1;36m80\u001b[0m\u001b[1;33m)\u001b[0m\u001b[1;33m\u001b[0m\u001b[1;33m\u001b[0m\u001b[0m\n",
      "\u001b[1;31mNameError\u001b[0m: name 'lfp' is not defined"
     ]
    }
   ],
   "source": [
    "f,t,Sxx = scipy.signal.spectrogram(lfp.as_units('s'),fs=1250,mode= 'psd',nperseg=2500,noverlap=1250)\n",
    "mask = (3000<t) & (t<3500)\n",
    "plt.pcolormesh(t[mask], f, Sxx[:,mask])\n",
    "plt.clim(0,20000)\n",
    "plt.ylim(0,80)\n",
    "plt.ylabel('Frequency [Hz]')\n",
    "plt.xlabel('Time [sec]')\n",
    "plt.show()"
   ]
  },
  {
   "cell_type": "code",
   "execution_count": null,
   "metadata": {},
   "outputs": [],
   "source": []
  },
  {
   "cell_type": "code",
   "execution_count": 32,
   "metadata": {},
   "outputs": [],
   "source": [
    "lfp_rem = lfp.restrict(states['Rem'])"
   ]
  },
  {
   "cell_type": "code",
   "execution_count": 355,
   "metadata": {},
   "outputs": [
    {
     "data": {
      "text/plain": [
       "[<matplotlib.lines.Line2D at 0x2ac724afec8>]"
      ]
     },
     "execution_count": 355,
     "metadata": {},
     "output_type": "execute_result"
    }
   ],
   "source": [
    "# f_rem = np.convolve(x_rem.values,k,'same')\n",
    "# f_sws = np.convolve(x_sws.values,k,'same')\n"
   ]
  },
  {
   "cell_type": "code",
   "execution_count": 33,
   "metadata": {},
   "outputs": [
    {
     "data": {
      "text/plain": [
       "[<matplotlib.lines.Line2D at 0x2667ec10f48>]"
      ]
     },
     "execution_count": 33,
     "metadata": {},
     "output_type": "execute_result"
    }
   ],
   "source": [
    "sub = plt.subplot(3,1,1)\n",
    "plt.plot(lfp_rem)\n",
    "f = bk.signal.passband(lfp_rem,5,10)\n",
    "plt.plot(bk.signal.passband(lfp_rem,5,10))\n",
    "plt.subplot(3,1,2 ,sharex = sub)\n",
    "xa = scipy.signal.hilbert(f)\n",
    "xa = nts.Tsd(np.array(f.index),xa)\n",
    "x_phase = np.angle(xa.values)\n",
    "x_phase = nts.Tsd(np.array(f.index),x_phase)\n",
    "\n",
    "x_power = \n",
    "plt.plot(x_phase)"
   ]
  },
  {
   "cell_type": "code",
   "execution_count": 10,
   "metadata": {},
   "outputs": [],
   "source": [
    "import pywt"
   ]
  },
  {
   "cell_type": "code",
   "execution_count": 11,
   "metadata": {},
   "outputs": [
    {
     "ename": "ModuleNotFoundError",
     "evalue": "No module named 'scaleogram'",
     "output_type": "error",
     "traceback": [
      "\u001b[1;31m---------------------------------------------------------------------------\u001b[0m",
      "\u001b[1;31mModuleNotFoundError\u001b[0m                       Traceback (most recent call last)",
      "\u001b[1;32m<ipython-input-11-60685fb974ad>\u001b[0m in \u001b[0;36m<module>\u001b[1;34m\u001b[0m\n\u001b[1;32m----> 1\u001b[1;33m \u001b[1;32mimport\u001b[0m \u001b[0mscaleogram\u001b[0m\u001b[1;33m\u001b[0m\u001b[1;33m\u001b[0m\u001b[0m\n\u001b[0m",
      "\u001b[1;31mModuleNotFoundError\u001b[0m: No module named 'scaleogram'"
     ]
    }
   ],
   "source": [
    "import scaleogram"
   ]
  },
  {
   "cell_type": "code",
   "execution_count": 23,
   "metadata": {},
   "outputs": [],
   "source": [
    "scales = np.arange(1,40)\n",
    "coef,freq = pywt.cwt(lfp,scales,'gaus1')"
   ]
  },
  {
   "cell_type": "code",
   "execution_count": 26,
   "metadata": {},
   "outputs": [
    {
     "data": {
      "text/plain": [
       "<matplotlib.collections.QuadMesh at 0x29c122e1a48>"
      ]
     },
     "execution_count": 26,
     "metadata": {},
     "output_type": "execute_result"
    }
   ],
   "source": [
    "plt.pcolormesh(t,freq,coef)"
   ]
  },
  {
   "cell_type": "code",
   "execution_count": null,
   "metadata": {},
   "outputs": [],
   "source": []
  }
 ],
 "metadata": {
  "kernelspec": {
   "display_name": "Python 3",
   "language": "python",
   "name": "python3"
  },
  "language_info": {
   "codemirror_mode": {
    "name": "ipython",
    "version": 3
   },
   "file_extension": ".py",
   "mimetype": "text/x-python",
   "name": "python",
   "nbconvert_exporter": "python",
   "pygments_lexer": "ipython3",
   "version": "3.7.6"
  }
 },
 "nbformat": 4,
 "nbformat_minor": 4
}
