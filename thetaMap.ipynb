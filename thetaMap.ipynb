{
 "cells": [
  {
   "cell_type": "code",
   "execution_count": 1,
   "metadata": {},
   "outputs": [],
   "source": [
    "import sys\n",
    "import itertools\n",
    "\n",
    "import numpy as np\n",
    "import pandas as pd\n",
    "import scipy\n",
    "from scipy.signal import savgol_filter\n",
    "\n",
    "import neuroseries as nts\n",
    "\n",
    "from progressbar import ProgressBar\n",
    "\n",
    "import time\n",
    "import matplotlib.pyplot as plt\n",
    "\n",
    "\n",
    "import seaborn as sns \n",
    "import bk.load\n",
    "import bk.signal\n",
    "import bk.plot\n",
    "import importlib; \n",
    "importlib.reload(bk.signal)\n",
    "importlib.reload(bk.plot)\n",
    "%matplotlib qt\n",
    "import basefunction.anass_load as at"
   ]
  },
  {
   "cell_type": "code",
   "execution_count": 4,
   "metadata": {},
   "outputs": [
    {
     "name": "stdout",
     "output_type": "stream",
     "text": [
      "Rat : 8 on day : 6\n",
      "Working with session Rat08-20130713 @ Z:\\Rat08\\Rat08-20130713\n"
     ]
    }
   ],
   "source": [
    "path = \"Z:\\Rat08\\Rat08-20130713\"\n",
    "\n",
    "bk.load.current_session(path)\n",
    "\n",
    "laps = scipy.io.loadmat(bk.load.session+'-LapType.mat')\n",
    "run = scipy.io.loadmat(bk.load.session + '-TrackRunTimes.mat')\n",
    "\n",
    "danger_laps = laps['aplaps'][0]['run'][0]\n",
    "danger_laps = nts.IntervalSet(danger_laps[:,0],danger_laps[:,1],time_units = 's')\n",
    "\n",
    "safe_laps = laps['safelaps'][0]['run'][0]\n",
    "safe_laps = nts.IntervalSet(safe_laps[:,0],safe_laps[:,1],time_units = 's')\n",
    "\n",
    "trackruntimes = run['trackruntimes']\n",
    "trackruntimes = nts.IntervalSet(trackruntimes[:,0],trackruntimes[:,1],time_units = 's')\n",
    "\n",
    "laps = {'run':trackruntimes,'danger':danger_laps,'safe':safe_laps}\n",
    "states = bk.load.states(bk.load.session)\n",
    "\n",
    "lfp = bk.load.loadLFP(bk.load.path+ '\\\\' + bk.load.session+\".lfp\",166,13)"
   ]
  },
  {
   "cell_type": "code",
   "execution_count": 6,
   "metadata": {},
   "outputs": [],
   "source": [
    "del states['drowsy']\n",
    "\n",
    "lfps = {}\n",
    "for lap in laps:\n",
    "    lfp_ = lfp.restrict(laps[lap])\n",
    "    lfps.update({lap:lfp_})\n",
    "\n",
    "for state in states:\n",
    "    lfp_ = lfp.restrict(states[state])\n",
    "    lfps.update({state:lfp_})"
   ]
  },
  {
   "cell_type": "code",
   "execution_count": 12,
   "metadata": {},
   "outputs": [
    {
     "data": {
      "text/plain": [
       "[<matplotlib.lines.Line2D at 0x2667e53e6c8>]"
      ]
     },
     "execution_count": 12,
     "metadata": {},
     "output_type": "execute_result"
    }
   ],
   "source": [
    "filtered = bk.signal.passband(lfp,5,10)\n",
    "xa = scipy.signal.hilbert(filtered)\n",
    "xa = nts.Tsd(np.array(filtered.index),xa)\n",
    "x_power = scipy.stats.zscore(np.abs(xa.values)**2)\n",
    "x_power = nts.Tsd(np.array(filtered.index),x_power)\n",
    "\n",
    "x_phase = np.angle(xa.values)\n",
    "x_phase = nts.Tsd(np.array(filtered.index),x_phase)\n",
    "\n",
    "x_rem = x_power.restrict(states['Rem'])\n",
    "x_sws = x_power.restrict(states['sws'])\n",
    "\n",
    "f_rem = scipy.signal.savgol_filter(x_rem.values,3001,2)\n",
    "f_sws = scipy.signal.savgol_filter(x_sws.values,3001,2)\n",
    "\n",
    "\n",
    "plt.plot(x_rem.as_units('s').index,f_rem)\n",
    "plt.plot(x_sws.as_units('s').index,f_sws)"
   ]
  },
  {
   "cell_type": "code",
   "execution_count": 280,
   "metadata": {},
   "outputs": [
    {
     "name": "stdout",
     "output_type": "stream",
     "text": [
      "run\n",
      "safe\n",
      "danger\n"
     ]
    },
    {
     "data": {
      "text/plain": [
       "<matplotlib.legend.Legend at 0x2ac18eafb48>"
      ]
     },
     "execution_count": 280,
     "metadata": {},
     "output_type": "execute_result"
    }
   ],
   "source": [
    "p = ['run','safe','danger']\n",
    "\n",
    "for l in p:\n",
    "    print(l)\n",
    "    f, Pxx_den = scipy.signal.welch(lfps[l], 1250,nperseg=1024,nfft=1250*10,scaling='density')\n",
    "    plt.plot(f, Pxx_den)\n",
    "    plt.xlim(0,100)\n",
    "    plt.xlabel('frequency [Hz]')\n",
    "    plt.ylabel('PSD [V**2/Hz]')\n",
    "    plt.show()\n",
    "plt.xlim(2,20)\n",
    "plt.legend([i for i in p])"
   ]
  },
  {
   "cell_type": "code",
   "execution_count": 281,
   "metadata": {},
   "outputs": [
    {
     "data": {
      "text/plain": [
       "dict_keys(['run', 'danger', 'safe', 'Rem', 'sws', 'wake'])"
      ]
     },
     "execution_count": 281,
     "metadata": {},
     "output_type": "execute_result"
    }
   ],
   "source": [
    "lfps.keys()"
   ]
  },
  {
   "cell_type": "code",
   "execution_count": 282,
   "metadata": {},
   "outputs": [],
   "source": [
    "def thetaMap(lfp,pos):\n",
    "    filt_lfp = bk.signal"
   ]
  },
  {
   "cell_type": "code",
   "execution_count": 283,
   "metadata": {},
   "outputs": [
    {
     "name": "stdout",
     "output_type": "stream",
     "text": [
      "Rat : 8 on day : 6\n",
      "Working with session Rat08-20130713 @ Z:\\Rat08\\Rat08-20130713\n"
     ]
    },
    {
     "data": {
      "text/plain": [
       "True"
      ]
     },
     "execution_count": 283,
     "metadata": {},
     "output_type": "execute_result"
    }
   ],
   "source": [
    "path = bk.load.sessions()['Path'][5]\n",
    "bk.load.current_session(path)"
   ]
  },
  {
   "cell_type": "code",
   "execution_count": 30,
   "metadata": {},
   "outputs": [],
   "source": [
    "lfp = bk.load.loadLFP(bk.load.path+ '\\\\' + bk.load.session+\".lfp\",166,101)"
   ]
  },
  {
   "cell_type": "code",
   "execution_count": 287,
   "metadata": {},
   "outputs": [],
   "source": [
    "states = bk.load.states(bk.load.session)"
   ]
  },
  {
   "cell_type": "code",
   "execution_count": null,
   "metadata": {},
   "outputs": [],
   "source": []
  },
  {
   "cell_type": "code",
   "execution_count": 288,
   "metadata": {},
   "outputs": [
    {
     "data": {
      "text/plain": [
       "[<matplotlib.lines.Line2D at 0x2ac197e2ec8>]"
      ]
     },
     "execution_count": 288,
     "metadata": {},
     "output_type": "execute_result"
    }
   ],
   "source": [
    "sub = plt.subplot(3,1,1)\n",
    "plt.plot(lfp.as_units('s')[3200:3400])\n",
    "plt.plot(filtered.as_units('s')[3200:3400])\n",
    "bk.plot.intervals(states['Rem'],'orange')\n",
    "bk.plot.intervals(states['sws'],'grey')\n",
    "plt.subplot(3,1,2,sharex = sub)\n",
    "plt.plot(x_power.as_units('s')[3200:3400])\n",
    "plt.subplot(3,1,3,sharex = sub)\n",
    "plt.plot(x_phase.as_units('s')[3200:3400])\n",
    "# bk.plot.intervals(states['Rem'],'orange',time_units='us')\n",
    "# bk.plot.intervals(states['sws'],'grey',time_units='us')"
   ]
  },
  {
   "cell_type": "code",
   "execution_count": null,
   "metadata": {},
   "outputs": [],
   "source": []
  },
  {
   "cell_type": "code",
   "execution_count": 289,
   "metadata": {},
   "outputs": [],
   "source": [
    "f,t,Sxx = scipy.signal.spectrogram(lfp.as_units('s'),fs=1250,mode= 'psd',nperseg=2500,noverlap=1250)\n",
    "mask = (3000<t) & (t<3500)\n",
    "plt.pcolormesh(t[mask], f, Sxx[:,mask])\n",
    "plt.clim(0,20000)\n",
    "plt.ylim(0,80)\n",
    "plt.ylabel('Frequency [Hz]')\n",
    "plt.xlabel('Time [sec]')\n",
    "plt.show()"
   ]
  },
  {
   "cell_type": "code",
   "execution_count": 140,
   "metadata": {},
   "outputs": [
    {
     "name": "stdout",
     "output_type": "stream",
     "text": [
      "Rem\n",
      "sws\n",
      "wake\n",
      "drowsy\n"
     ]
    }
   ],
   "source": []
  },
  {
   "cell_type": "code",
   "execution_count": 295,
   "metadata": {},
   "outputs": [],
   "source": []
  },
  {
   "cell_type": "code",
   "execution_count": 32,
   "metadata": {},
   "outputs": [],
   "source": [
    "lfp_rem = lfp.restrict(states['Rem'])"
   ]
  },
  {
   "cell_type": "code",
   "execution_count": 355,
   "metadata": {},
   "outputs": [
    {
     "data": {
      "text/plain": [
       "[<matplotlib.lines.Line2D at 0x2ac724afec8>]"
      ]
     },
     "execution_count": 355,
     "metadata": {},
     "output_type": "execute_result"
    }
   ],
   "source": [
    "# f_rem = np.convolve(x_rem.values,k,'same')\n",
    "# f_sws = np.convolve(x_sws.values,k,'same')\n"
   ]
  },
  {
   "cell_type": "code",
   "execution_count": 33,
   "metadata": {},
   "outputs": [
    {
     "data": {
      "text/plain": [
       "[<matplotlib.lines.Line2D at 0x2667ec10f48>]"
      ]
     },
     "execution_count": 33,
     "metadata": {},
     "output_type": "execute_result"
    }
   ],
   "source": [
    "sub = plt.subplot(3,1,1)\n",
    "plt.plot(lfp_rem)\n",
    "f = bk.signal.passband(lfp_rem,5,10)\n",
    "plt.plot(bk.signal.passband(lfp_rem,5,10))\n",
    "plt.subplot(3,1,2 ,sharex = sub)\n",
    "xa = scipy.signal.hilbert(f)\n",
    "xa = nts.Tsd(np.array(f.index),xa)\n",
    "x_phase = np.angle(xa.values)\n",
    "x_phase = nts.Tsd(np.array(f.index),x_phase)\n",
    "\n",
    "x_power = \n",
    "plt.plot(x_phase)"
   ]
  },
  {
   "cell_type": "code",
   "execution_count": null,
   "metadata": {},
   "outputs": [],
   "source": []
  }
 ],
 "metadata": {
  "kernelspec": {
   "display_name": "Python 3",
   "language": "python",
   "name": "python3"
  },
  "language_info": {
   "codemirror_mode": {
    "name": "ipython",
    "version": 3
   },
   "file_extension": ".py",
   "mimetype": "text/x-python",
   "name": "python",
   "nbconvert_exporter": "python",
   "pygments_lexer": "ipython3",
   "version": "3.7.6"
  }
 },
 "nbformat": 4,
 "nbformat_minor": 4
}
