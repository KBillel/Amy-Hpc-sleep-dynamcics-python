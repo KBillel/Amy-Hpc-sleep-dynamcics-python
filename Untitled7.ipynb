{
 "cells": [
  {
   "cell_type": "code",
   "execution_count": 28,
   "id": "3bf034c2-0c34-45c7-a822-6c07e42d0929",
   "metadata": {},
   "outputs": [],
   "source": []
  },
  {
   "cell_type": "code",
   "execution_count": 2,
   "id": "e2a2116e-5626-4873-878c-ff90ac700fdb",
   "metadata": {},
   "outputs": [
    {
     "name": "stdout",
     "output_type": "stream",
     "text": [
      "Rat : 8 on day : 6\n",
      "Working with session Rat08-20130713 @ /home/billel/Data/GG-Dataset/Rat08/Rat08-20130713\n"
     ]
    },
    {
     "data": {
      "text/plain": [
       "True"
      ]
     },
     "execution_count": 2,
     "metadata": {},
     "output_type": "execute_result"
    }
   ],
   "source": [
    "import bk.load\n",
    "\n",
    "bk.load.current_session_linux()\n",
    "states = bk.load.states()\n",
    "pre,post = bk.load.sleep()\n",
    "\n",
    "states_pre = {}\n",
    "for s,intervals in states.items():\n",
    "    states_pre.update({s:intervals.intersect(pre)})\n",
    "    \n",
    "for i in states_pre['sws'].iloc:\n",
    "print(i.start,i.end)"
   ]
  }
 ],
 "metadata": {
  "kernelspec": {
   "display_name": "Python 3",
   "language": "python",
   "name": "python3"
  },
  "language_info": {
   "codemirror_mode": {
    "name": "ipython",
    "version": 3
   },
   "file_extension": ".py",
   "mimetype": "text/x-python",
   "name": "python",
   "nbconvert_exporter": "python",
   "pygments_lexer": "ipython3",
   "version": "3.7.9"
  }
 },
 "nbformat": 4,
 "nbformat_minor": 5
}
