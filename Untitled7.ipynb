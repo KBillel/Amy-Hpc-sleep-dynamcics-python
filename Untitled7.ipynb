{
 "cells": [
  {
   "cell_type": "code",
   "execution_count": 1,
   "id": "71e6b3a5-fdaa-4b79-b45b-99269a5a469c",
   "metadata": {},
   "outputs": [],
   "source": [
    "import numpy as np\n",
    "import neuroseries as nts\n",
    "import pandas as pd"
   ]
  },
  {
   "cell_type": "code",
   "execution_count": 2,
   "id": "343fe944-417a-423f-8ca5-520a4eca9cf9",
   "metadata": {},
   "outputs": [],
   "source": [
    "import bk.load"
   ]
  },
  {
   "cell_type": "code",
   "execution_count": 3,
   "id": "2f003e84-3dfa-4a06-9285-65a979ebdb1c",
   "metadata": {},
   "outputs": [],
   "source": [
    "def toLong(states,time_units = 's'):\n",
    "    \n",
    "    long = pd.DataFrame()\n",
    "    for s,i in states.items():\n",
    "        i = i.as_units(time_units)\n",
    "        i['state'] = s\n",
    "        long = pd.concat((i,long))\n",
    "        \n",
    "    order = np.argsort(long.start)\n",
    "    long = long.iloc[order]\n",
    "\n",
    "    return long.reset_index(drop = True)"
   ]
  },
  {
   "cell_type": "code",
   "execution_count": 4,
   "id": "1e8d5986-fb56-4a59-8cc4-8dfe08db80d5",
   "metadata": {},
   "outputs": [
    {
     "name": "stdout",
     "output_type": "stream",
     "text": [
      "Rat : 8 on day : 6\n",
      "Working with session Rat08-20130713 @ /home/billel/Data/GG-Dataset/Rat08/Rat08-20130713\n"
     ]
    }
   ],
   "source": [
    "bk.load.current_session_linux()\n",
    "states = bk.load.states()"
   ]
  },
  {
   "cell_type": "code",
   "execution_count": 5,
   "id": "69c97ace-ad2d-4c97-85a7-0cd1f67aef08",
   "metadata": {},
   "outputs": [],
   "source": [
    "long = toLong(states)"
   ]
  },
  {
   "cell_type": "code",
   "execution_count": 6,
   "id": "52430d82-a03e-4855-9fb9-ebd0e87ba7de",
   "metadata": {},
   "outputs": [
    {
     "name": "stdout",
     "output_type": "stream",
     "text": [
      "1.0 545.0 wake\n",
      "546.0 739.0 drowsy\n",
      "740.0 857.0 wake\n",
      "858.0 921.0 drowsy\n",
      "922.0 1055.0 wake\n",
      "1056.0 1205.0 drowsy\n",
      "1206.0 1447.0 wake\n",
      "1448.0 1697.0 sws\n",
      "1698.0 1776.0 drowsy\n",
      "1777.0 1926.0 sws\n",
      "1927.0 2013.0 Rem\n",
      "2014.0 2103.0 drowsy\n",
      "2104.0 2429.0 sws\n",
      "2430.0 2603.0 Rem\n",
      "2604.0 2825.0 wake\n",
      "2826.0 3275.0 sws\n",
      "3276.0 3371.0 Rem\n",
      "3372.0 3382.0 drowsy\n",
      "3383.0 3841.0 sws\n",
      "3842.0 3887.0 Rem\n",
      "3888.0 3916.0 sws\n",
      "3917.0 3969.0 Rem\n",
      "3970.0 3992.0 sws\n",
      "3993.0 4023.0 Rem\n",
      "4024.0 4529.0 sws\n",
      "4530.0 4567.0 Rem\n",
      "4568.0 4648.0 sws\n",
      "4649.0 4671.0 drowsy\n",
      "4677.0 4838.0 Rem\n",
      "4839.0 4863.0 drowsy\n",
      "4864.0 4920.0 Rem\n",
      "4921.0 5043.0 drowsy\n",
      "5044.0 5426.0 sws\n",
      "5427.0 5488.0 Rem\n",
      "5489.0 6069.0 sws\n",
      "6070.0 6206.0 Rem\n",
      "6207.0 6367.0 wake\n",
      "6368.0 6629.0 sws\n",
      "6630.0 6944.0 wake\n",
      "6945.0 6969.0 drowsy\n",
      "6970.0 7311.0 sws\n",
      "7312.0 7374.0 Rem\n",
      "7375.0 7759.0 sws\n",
      "7760.0 7787.0 Rem\n",
      "7788.0 7909.0 sws\n",
      "7910.0 8030.0 Rem\n",
      "8031.0 8484.0 wake\n",
      "8485.0 8797.0 sws\n",
      "8798.0 8852.0 Rem\n",
      "8853.0 8871.0 drowsy\n",
      "8872.0 8885.0 wake\n",
      "8886.0 8886.0 drowsy\n",
      "8887.0 9333.0 sws\n",
      "9334.0 9402.0 Rem\n",
      "9403.0 13214.0 wake\n",
      "13215.0 13339.0 drowsy\n",
      "13340.0 15512.0 wake\n",
      "15513.0 15515.0 drowsy\n",
      "15516.0 16145.0 sws\n",
      "16146.0 16405.0 Rem\n",
      "16406.0 16435.0 drowsy\n",
      "16436.0 16765.0 sws\n",
      "16766.0 16787.0 Rem\n",
      "16788.0 16800.0 drowsy\n",
      "16801.0 17259.0 sws\n",
      "17260.0 17363.0 Rem\n",
      "17364.0 17429.0 sws\n",
      "17430.0 17496.0 Rem\n",
      "17497.0 17669.0 sws\n",
      "17670.0 17688.0 drowsy\n",
      "17689.0 17764.0 sws\n",
      "17765.0 17790.0 drowsy\n",
      "17791.0 17810.0 sws\n",
      "17811.0 17851.0 Rem\n",
      "17852.0 18076.0 sws\n",
      "18077.0 18131.0 Rem\n",
      "18132.0 18528.0 sws\n",
      "18529.0 18614.0 Rem\n",
      "18615.0 18662.0 drowsy\n",
      "18663.0 18979.0 sws\n",
      "18980.0 19084.0 Rem\n",
      "19086.0 19167.0 sws\n",
      "19168.0 19186.0 Rem\n",
      "19187.0 19448.0 sws\n",
      "19449.0 19545.0 Rem\n",
      "19546.0 19771.0 sws\n",
      "19772.0 19817.0 Rem\n",
      "19818.0 20363.0 sws\n",
      "20364.0 20710.0 wake\n",
      "20711.0 20866.0 drowsy\n",
      "20867.0 21286.0 sws\n",
      "21287.0 21358.0 Rem\n",
      "21359.0 21629.0 sws\n",
      "21630.0 21674.0 Rem\n",
      "21675.0 21850.0 sws\n",
      "21851.0 21953.0 Rem\n",
      "21954.0 22406.0 drowsy\n",
      "22407.0 22679.0 wake\n"
     ]
    }
   ],
   "source": [
    "for l in long.iloc:\n",
    "    print(l.start,l.end,l.state)"
   ]
  },
  {
   "cell_type": "code",
   "execution_count": null,
   "id": "848f2622-1218-4c39-90db-04513ac1ac4e",
   "metadata": {},
   "outputs": [],
   "source": []
  },
  {
   "cell_type": "code",
   "execution_count": null,
   "id": "307d7988-c1fd-4e44-8654-e980c4a25160",
   "metadata": {},
   "outputs": [],
   "source": []
  }
 ],
 "metadata": {
  "kernelspec": {
   "display_name": "Python 3",
   "language": "python",
   "name": "python3"
  },
  "language_info": {
   "codemirror_mode": {
    "name": "ipython",
    "version": 3
   },
   "file_extension": ".py",
   "mimetype": "text/x-python",
   "name": "python",
   "nbconvert_exporter": "python",
   "pygments_lexer": "ipython3",
   "version": "3.7.9"
  }
 },
 "nbformat": 4,
 "nbformat_minor": 5
}
