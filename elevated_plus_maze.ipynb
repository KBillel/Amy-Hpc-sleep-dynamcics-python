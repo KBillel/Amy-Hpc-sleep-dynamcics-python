{
 "cells": [
  {
   "cell_type": "code",
   "execution_count": 95,
   "metadata": {},
   "outputs": [],
   "source": [
    "import bk.compute\n",
    "import bk.load\n",
    "import bk.plot\n",
    "\n",
    "import pandas as pd\n",
    "import numpy as np\n",
    "import os\n",
    "import matplotlib.pyplot as plt\n",
    "\n",
    "import matplotlib\n",
    "from matplotlib.patches import Rectangle\n",
    "\n",
    "# import easydict\n",
    "# import ruamel\n",
    "\n",
    "import neuroseries as nts\n",
    "\n",
    "import cv2\n",
    "import yaml\n",
    "import pickle"
   ]
  },
  {
   "cell_type": "code",
   "execution_count": 9,
   "metadata": {},
   "outputs": [],
   "source": [
    "%matplotlib qt"
   ]
  },
  {
   "cell_type": "code",
   "execution_count": 10,
   "metadata": {},
   "outputs": [],
   "source": [
    "path =  'Y://elevated_plus_maze/'\n",
    "config_path = 'Y:\\elevated_plus_maze\\elevated_plus_maze-BM-2020-12-01\\config.yaml'"
   ]
  },
  {
   "cell_type": "code",
   "execution_count": 38,
   "metadata": {},
   "outputs": [],
   "source": [
    "def onclick(event):\n",
    "    global x,y,pause\n",
    "    plt.cla()\n",
    "    plt.imshow(frame)\n",
    "    try:\n",
    "        x\n",
    "    except:\n",
    "        x = [0,0]\n",
    "    try:\n",
    "        y\n",
    "    except:\n",
    "        y = [0,0]\n",
    "    if (str(event.button) == \"MouseButton.LEFT\") or (event.button == 1):\n",
    "        x[0], y[0] = event.xdata, event.ydata\n",
    "    elif (str(event.button) == \"MouseButton.RIGHT\") or (event.button == 3):\n",
    "        x[1], y[1] = event.xdata, event.ydata\n",
    "    elif (str(event.button) == \"MouseButton.MIDDLE\") or (event.button == 2):\n",
    "        fig.canvas.mpl_disconnect(cid)\n",
    "        pause = False\n",
    "    for i,j in zip(x,y):\n",
    "        plt.axvline(i)\n",
    "        plt.axhline(j)\n",
    "        plt.draw()"
   ]
  },
  {
   "cell_type": "code",
   "execution_count": 23,
   "metadata": {},
   "outputs": [],
   "source": [
    "sessions = []\n",
    "for subdirs, dirs, files in os.walk(path):\n",
    "    for file in files:\n",
    "        if file.endswith('filtered.h5'): \n",
    "            sessions.append(subdirs)\n",
    "            break\n",
    "metadata = []\n",
    "for subdirs, dirs, files in os.walk(path):\n",
    "    for file in files:\n",
    "        if file.endswith('meta.pickle'): \n",
    "            metadata.append(os.path.join(subdirs,file))\n",
    "            break\n",
    "\n",
    "videos = []\n",
    "for subdirs, dirs, files in os.walk(path):\n",
    "    for file in files:\n",
    "        if file.endswith('.mp4') and not file.endswith('labeled.mp4'): videos.append(os.path.join(subdirs,file))\n",
    "            \n",
    "crops_x1 = []\n",
    "crops_x2 = []\n",
    "crops_y1 = []\n",
    "crops_y2 = []\n",
    "for m in metadata:\n",
    "    with open(m,'rb') as f:\n",
    "        data = pickle.load(f)\n",
    "    x1,x2,y1,y2 = data['data']['cropping_parameters']\n",
    "    crops_x1.append(x1)\n",
    "    crops_x2.append(x2)\n",
    "    crops_y1.append(y1)\n",
    "    crops_y2.append(y2)\n",
    "    \n",
    "    \n",
    "positions_arms = {'open':np.empty([2,2],dtype='object'),'close':np.empty([2,2],dtype='object'),'center':np.empty([1,2],dtype='object')}\n",
    "positions = ['up', 'down','left', 'right']\n",
    "\n",
    "colors = {'open':'b','close':'orange','center':'green'}"
   ]
  },
  {
   "cell_type": "code",
   "execution_count": 28,
   "metadata": {},
   "outputs": [],
   "source": [
    "session = sessions[0]\n",
    "os.chdir(session)\n",
    "pos = bk.load.DLC_pos()\n",
    "v  = 'Y:\\elevated_plus_maze\\Rat06-20201123\\Rat06_201123_152703\\Basler_acA1300-200uc__23039139__20201123_152706224.mp4'"
   ]
  },
  {
   "cell_type": "code",
   "execution_count": 39,
   "metadata": {},
   "outputs": [],
   "source": [
    "j = 0\n",
    "for p in positions_arms:\n",
    "    if p == 'center':\n",
    "        positions_arms[p] = np.array([[(positions_arms['close'][0][0][1], positions_arms['close'][1][0][0]), (positions_arms['open'][0][1][1], positions_arms['open'][1][1][0])]],dtype='object')\n",
    "    else:\n",
    "        for i in range(positions_arms[p].shape[0]):\n",
    "            try:\n",
    "                del x,y\n",
    "            except:\n",
    "                pass\n",
    "\n",
    "            cap = cv2.VideoCapture(v)\n",
    "            ret,frame = cap.read()\n",
    "            frame=frame[crops_y1[0]:crops_y2[0], crops_x1[0]:crops_x2[0]]\n",
    "            pause = True\n",
    "            fig,ax = plt.subplots()\n",
    "            plt.imshow(frame)\n",
    "            plt.title(p + positions[j])\n",
    "            cid = fig.canvas.mpl_connect('button_press_event', onclick)\n",
    "\n",
    "            while pause:\n",
    "                plt.pause(0.1)\n",
    "\n",
    "            plt.close('all')\n",
    "            positions_arms[p][i] = [x,y]\n",
    "            j += 1\n"
   ]
  },
  {
   "cell_type": "code",
   "execution_count": 74,
   "metadata": {},
   "outputs": [],
   "source": [
    "length = len(pos.as_units('s')['snout']['x'])\n",
    "whereistherat = {'open':np.zeros([1,length],dtype='object'),'close':np.zeros([1,length],dtype='object'),'center':np.zeros([1,length],dtype='object')}\n",
    "for p in positions_arms:\n",
    "    for j in range(positions_arms[p].shape[0]):\n",
    "        (x1,x2), (y1,y2) = positions_arms[p][j]\n",
    "        for i in range(length):\n",
    "            if x1<pos.as_units('s')['snout']['x'].iloc[i]<x2 and y1<pos.as_units('s')['snout']['y'].iloc[i]<y2 :\n",
    "                whereistherat[p][0][i] = 1\n",
    "                \n",
    "intervals = {'open':[],'close':[],'center':[]}\n",
    "for p in positions_arms:\n",
    "    difference = np.diff(whereistherat[p][0].astype(np.int8))\n",
    "    start = pos.index[np.where(difference == 1)[0]]\n",
    "    end = pos.index[np.where(difference == -1)[0]]\n",
    "    intervals[p] = nts.IntervalSet(start,end, time_units='us')\n",
    "    \n",
    "frequencies = {'open':[],'close':[],'center':[]}\n",
    "for p in frequencies:\n",
    "    frequencies[p] = np.sum(whereistherat[p][0])/len(whereistherat[p][0])"
   ]
  },
  {
   "cell_type": "code",
   "execution_count": 135,
   "metadata": {},
   "outputs": [
    {
     "data": {
      "text/plain": [
       "Text(0.5, 1.0, 'the rat is in the kitchen')"
      ]
     },
     "execution_count": 135,
     "metadata": {},
     "output_type": "execute_result"
    }
   ],
   "source": [
    "plt.figure()\n",
    "\n",
    "for p in frequencies:\n",
    "    plt.bar(p,frequencies[p], color=colors[p])\n",
    "plt.title('Pourcent of time spent')\n",
    "    \n",
    "plt.figure()\n",
    "for p in intervals:\n",
    "    bk.plot.intervals(intervals[p], time_units='s', col =colors[p])\n",
    "plt.legend(['Open', 'Close', 'Center'])\n",
    "plt.title('the rat is in the kitchen')"
   ]
  },
  {
   "cell_type": "markdown",
   "metadata": {},
   "source": [
    "# Trash"
   ]
  },
  {
   "cell_type": "code",
   "execution_count": 41,
   "metadata": {},
   "outputs": [],
   "source": [
    "colors = ['r', 'b', 'green', 'orange', 'yellow']\n",
    "cap = cv2.VideoCapture(v)\n",
    "ret,frame = cap.read()\n",
    "frame_cropped=frame[crops_y1[0]:crops_y2[0], crops_x1[0]:crops_x2[0]]\n",
    "pause = True\n",
    "fig,ax = plt.subplots()\n",
    "\n",
    "plt.cla()\n",
    "plt.imshow(frame_cropped)\n",
    "ax = plt.gca()\n",
    "rectangles = []\n",
    "j = 0\n",
    "for p in positions_arms:\n",
    "    for i in range(positions_arms[p].shape[0]):\n",
    "        (x1,x2), (y1,y2) = positions_arms[p][i]\n",
    "        rectangle = Rectangle((x1,y1), x2-x1, y2-y1,linewidth=1,edgecolor=colors[j],facecolor=colors[j],alpha =0.5)\n",
    "        ax.add_patch(rectangle)\n",
    "        j += 1\n",
    "plt.draw()\n"
   ]
  },
  {
   "cell_type": "code",
   "execution_count": 34,
   "metadata": {},
   "outputs": [],
   "source": [
    "plt.scatter(pos.as_units('s')['snout']['x'], pos.as_units('s')['snout']['y'], c = viridis(colors),s=10)\n",
    "plt.show()"
   ]
  },
  {
   "cell_type": "code",
   "execution_count": 120,
   "metadata": {},
   "outputs": [
    {
     "name": "stdout",
     "output_type": "stream",
     "text": [
      "open\n",
      "close\n",
      "center\n"
     ]
    }
   ],
   "source": [
    "colors = {'open':'b','close':'orange','center':'green'}\n",
    "\n",
    "plt.figure()\n",
    "s = plt.subplot(2,1,1)\n",
    "for p in whereistherat:\n",
    "    plt.plot(whereistherat[p][0])\n",
    "    plt.legend(p)\n",
    "plt.title('the rat is in the kitchen')\n",
    "plt.subplot(2,1,2, sharex = s)\n",
    "for p in intervals:\n",
    "    bk.plot.intervals(intervals[p], time_units='s', col =colors[p])"
   ]
  },
  {
   "cell_type": "code",
   "execution_count": 33,
   "metadata": {},
   "outputs": [],
   "source": [
    "colors = np.linspace(0,1,len(pos.as_units('s')))\n",
    "viridis = matplotlib.cm.get_cmap('viridis')\n"
   ]
  },
  {
   "cell_type": "code",
   "execution_count": 32,
   "metadata": {},
   "outputs": [
    {
     "data": {
      "text/plain": [
       "<matplotlib.image.AxesImage at 0x1f91d74bf40>"
      ]
     },
     "execution_count": 32,
     "metadata": {},
     "output_type": "execute_result"
    }
   ],
   "source": [
    "cap = cv2.VideoCapture(v)\n",
    "ret,frame = cap.read()\n",
    "frame_cropped=frame[crops_y1[0]:crops_y2[0], crops_x1[0]:crops_x2[0]]\n",
    "pause = True\n",
    "fig,ax = plt.subplots()\n",
    "plt.imshow(frame_cropped)"
   ]
  }
 ],
 "metadata": {
  "kernelspec": {
   "display_name": "Python 3",
   "language": "python",
   "name": "python3"
  },
  "language_info": {
   "codemirror_mode": {
    "name": "ipython",
    "version": 3
   },
   "file_extension": ".py",
   "mimetype": "text/x-python",
   "name": "python",
   "nbconvert_exporter": "python",
   "pygments_lexer": "ipython3",
   "version": "3.8.5"
  }
 },
 "nbformat": 4,
 "nbformat_minor": 4
}
