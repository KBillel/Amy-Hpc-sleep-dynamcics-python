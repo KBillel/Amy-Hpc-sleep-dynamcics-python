{
 "cells": [
  {
   "cell_type": "code",
   "execution_count": 3,
   "metadata": {},
   "outputs": [],
   "source": [
    "from imports import *\n",
    "import gc"
   ]
  },
  {
   "cell_type": "code",
   "execution_count": 6,
   "metadata": {},
   "outputs": [],
   "source": [
    "def main(base_folder,local_path,*args,**kwargs):\n",
    "    bk.load.current_session_linux(base_folder,local_path)\n",
    "    states = bk.load.states(True)\n",
    "    neurons, metadata = bk.load.spikes()\n",
    "    fig,ax = plt.subplots(2,1,sharex=True,figsize = (16,9),dpi = 300)\n",
    "    plt.sca(ax[0])\n",
    "    bk.plot.rasterPlot(neurons)\n",
    "    bk.plot.intervals(states['NREM'],ax= ax[1],col = 'grey')\n",
    "    bk.plot.intervals(states['REM'],ax= ax[1])\n",
    "    bk.plot.intervals(states['wake'],ax = ax[1],col='green')\n",
    "    bk.plot.intervals(states['drowsy'],ax = ax[1],col='pink')\n",
    "    \n",
    "    ax[1].set_title('SleepScoring')\n",
    "    ax[0].set_title('Raster')\n",
    "\n",
    "    plt.savefig(f'/home/billel/Documents/SanityCheck/{bk.load.session}.png')\n",
    "    plt.clf()\n",
    "    plt.close('all')\n",
    "    gc.collect()"
   ]
  },
  {
   "cell_type": "code",
   "execution_count": 7,
   "metadata": {},
   "outputs": [
    {
     "name": "stderr",
     "output_type": "stream",
     "text": [
      "100%|██████████| 61/61 [32:37<00:00, 32.09s/it]"
     ]
    },
    {
     "name": "stdout",
     "output_type": "stream",
     "text": [
      "Batch finished in 1957.7164146900177\n",
      "Some session were not processed correctly\n",
      "['Rat08-20130720', 'Rat08-20130722', 'Rat09-20140407', 'Rat09-20140408', 'Rat09-20140409', 'Rat11-20150402', 'Rat11-20150403']\n",
      "11.475409836065573 %\n"
     ]
    },
    {
     "name": "stderr",
     "output_type": "stream",
     "text": [
      "\n"
     ]
    },
    {
     "data": {
      "text/plain": [
       "({'Rat08-20130708': None,\n",
       "  'Rat08-20130709': None,\n",
       "  'Rat08-20130710': None,\n",
       "  'Rat08-20130711': None,\n",
       "  'Rat08-20130712': None,\n",
       "  'Rat08-20130713': None,\n",
       "  'Rat08-20130715': None,\n",
       "  'Rat08-20130716': None,\n",
       "  'Rat08-20130717': None,\n",
       "  'Rat08-20130718': None,\n",
       "  'Rat08-20130719': None,\n",
       "  'Rat09-20140324': None,\n",
       "  'Rat09-20140325': None,\n",
       "  'Rat09-20140326': None,\n",
       "  'Rat09-20140327': None,\n",
       "  'Rat09-20140328': None,\n",
       "  'Rat09-20140329': None,\n",
       "  'Rat09-20140331': None,\n",
       "  'Rat09-20140401': None,\n",
       "  'Rat09-20140402': None,\n",
       "  'Rat09-20140403': None,\n",
       "  'Rat09-20140404': None,\n",
       "  'Rat09-20140405': None,\n",
       "  'Rat10-20140619': None,\n",
       "  'Rat10-20140620': None,\n",
       "  'Rat10-20140622': None,\n",
       "  'Rat10-20140624': None,\n",
       "  'Rat10-20140626': None,\n",
       "  'Rat10-20140627': None,\n",
       "  'Rat10-20140628': None,\n",
       "  'Rat10-20140629': None,\n",
       "  'Rat10-20140701': None,\n",
       "  'Rat10-20140702': None,\n",
       "  'Rat10-20140703': None,\n",
       "  'Rat10-20140704': None,\n",
       "  'Rat10-20140705': None,\n",
       "  'Rat10-20140707': None,\n",
       "  'Rat10-20140708': None,\n",
       "  'Rat11-20150310': None,\n",
       "  'Rat11-20150312': None,\n",
       "  'Rat11-20150313': None,\n",
       "  'Rat11-20150314': None,\n",
       "  'Rat11-20150315': None,\n",
       "  'Rat11-20150316': None,\n",
       "  'Rat11-20150317': None,\n",
       "  'Rat11-20150321': None,\n",
       "  'Rat11-20150323': None,\n",
       "  'Rat11-20150325': None,\n",
       "  'Rat11-20150326': None,\n",
       "  'Rat11-20150327': None,\n",
       "  'Rat11-20150328': None,\n",
       "  'Rat11-20150330': None,\n",
       "  'Rat11-20150331': None,\n",
       "  'Rat11-20150401': None},\n",
       "                 Rat  Day\n",
       " Rat08-20130708    8    1\n",
       " Rat08-20130709    8    2\n",
       " Rat08-20130710    8    3\n",
       " Rat08-20130711    8    4\n",
       " Rat08-20130712    8    5\n",
       " Rat08-20130713    8    6\n",
       " Rat08-20130715    8    7\n",
       " Rat08-20130716    8    8\n",
       " Rat08-20130717    8    9\n",
       " Rat08-20130718    8   10\n",
       " Rat08-20130719    8   11\n",
       " Rat09-20140324    9    1\n",
       " Rat09-20140325    9    2\n",
       " Rat09-20140326    9    3\n",
       " Rat09-20140327    9    4\n",
       " Rat09-20140328    9    5\n",
       " Rat09-20140329    9    6\n",
       " Rat09-20140331    9    7\n",
       " Rat09-20140401    9    8\n",
       " Rat09-20140402    9    9\n",
       " Rat09-20140403    9   10\n",
       " Rat09-20140404    9   11\n",
       " Rat09-20140405    9   12\n",
       " Rat10-20140619   10    1\n",
       " Rat10-20140620   10    2\n",
       " Rat10-20140622   10    3\n",
       " Rat10-20140624   10    4\n",
       " Rat10-20140626   10    5\n",
       " Rat10-20140627   10    6\n",
       " Rat10-20140628   10    7\n",
       " Rat10-20140629   10    8\n",
       " Rat10-20140701   10    9\n",
       " Rat10-20140702   10   10\n",
       " Rat10-20140703   10   11\n",
       " Rat10-20140704   10   12\n",
       " Rat10-20140705   10   13\n",
       " Rat10-20140707   10   14\n",
       " Rat10-20140708   10   15\n",
       " Rat11-20150310   11    2\n",
       " Rat11-20150312   11    3\n",
       " Rat11-20150313   11    4\n",
       " Rat11-20150314   11    5\n",
       " Rat11-20150315   11    6\n",
       " Rat11-20150316   11    7\n",
       " Rat11-20150317   11    8\n",
       " Rat11-20150321   11   11\n",
       " Rat11-20150323   11   12\n",
       " Rat11-20150325   11   14\n",
       " Rat11-20150326   11   15\n",
       " Rat11-20150327   11   16\n",
       " Rat11-20150328   11   17\n",
       " Rat11-20150330   11   18\n",
       " Rat11-20150331   11   19\n",
       " Rat11-20150401   11   20)"
      ]
     },
     "execution_count": 7,
     "metadata": {},
     "output_type": "execute_result"
    }
   ],
   "source": [
    "bk.load.batch(main)"
   ]
  },
  {
   "cell_type": "code",
   "execution_count": null,
   "metadata": {},
   "outputs": [],
   "source": []
  }
 ],
 "metadata": {
  "kernelspec": {
   "display_name": "Python 3.9.7 ('base')",
   "language": "python",
   "name": "python3"
  },
  "language_info": {
   "codemirror_mode": {
    "name": "ipython",
    "version": 3
   },
   "file_extension": ".py",
   "mimetype": "text/x-python",
   "name": "python",
   "nbconvert_exporter": "python",
   "pygments_lexer": "ipython3",
   "version": "3.9.7"
  },
  "orig_nbformat": 4,
  "vscode": {
   "interpreter": {
    "hash": "dc93b3fb48dfd2593d4a40b397dc62a97606514bfa701f6565ff70ef36514844"
   }
  }
 },
 "nbformat": 4,
 "nbformat_minor": 2
}
