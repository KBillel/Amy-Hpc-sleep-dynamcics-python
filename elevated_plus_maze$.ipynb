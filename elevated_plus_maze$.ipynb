{
 "cells": [
  {
   "cell_type": "code",
   "execution_count": 2,
   "metadata": {},
   "outputs": [],
   "source": [
    "import bk.compute\n",
    "import bk.load\n",
    "import bk.plot\n",
    "\n",
    "import pandas as pd\n",
    "import numpy as np\n",
    "import os\n",
    "import matplotlib.pyplot as plt\n",
    "import matplotlib\n",
    "from matplotlib.patches import Rectangle\n",
    "\n",
    "\n",
    "import cv2\n",
    "import yaml\n",
    "import pickle"
   ]
  },
  {
   "cell_type": "code",
   "execution_count": 3,
   "metadata": {},
   "outputs": [],
   "source": [
    "%matplotlib qt"
   ]
  },
  {
   "cell_type": "code",
   "execution_count": 4,
   "metadata": {},
   "outputs": [],
   "source": [
    "path =  'Y://elevated_plus_maze/'\n",
    "config_path = 'Y:\\elevated_plus_maze\\elevated_plus_maze-BM-2020-12-01\\config.yaml'"
   ]
  },
  {
   "cell_type": "code",
   "execution_count": 5,
   "metadata": {},
   "outputs": [],
   "source": [
    "sessions = []\n",
    "for subdirs, dirs, files in os.walk(path):\n",
    "    for file in files:\n",
    "        if file.endswith('filtered.h5'): sessions.append(subdirs)\n",
    "            \n",
    "metadata = []\n",
    "for subdirs, dirs, files in os.walk(path):\n",
    "    for file in files:\n",
    "        if file.endswith('.pickle'): metadata.append(os.path.join(subdirs,file))\n",
    "\n",
    "del metadata[0:2]\n",
    "\n",
    "videos = []\n",
    "for subdirs, dirs, files in os.walk(path):\n",
    "    for file in files:\n",
    "        if file.endswith('.mp4') and not file.endswith('labeled.mp4'): videos.append(os.path.join(subdirs,file))\n",
    "            \n",
    "crops_x1 = []\n",
    "crops_x2 = []\n",
    "crops_y1 = []\n",
    "crops_y2 = []\n",
    "for m in metadata:\n",
    "    with open(m,'rb') as f:\n",
    "        data = pickle.load(f)\n",
    "    x1,x2,y1,y2 = data['data']['cropping_parameters']\n",
    "    crops_x1.append(x1)\n",
    "    crops_x2.append(x2)\n",
    "    crops_y1.append(y1)\n",
    "    crops_y2.append(y2)"
   ]
  },
  {
   "cell_type": "code",
   "execution_count": 7,
   "metadata": {},
   "outputs": [],
   "source": [
    "session = sessions[0]\n",
    "os.chdir(session)\n",
    "pos = bk.load.DLC_pos()\n"
   ]
  },
  {
   "cell_type": "code",
   "execution_count": 8,
   "metadata": {},
   "outputs": [],
   "source": [
    "v  = 'Y:\\elevated_plus_maze\\Rat06-20201123\\Rat06_201123_152703\\Basler_acA1300-200uc__23039139__20201123_152706224.mp4'"
   ]
  },
  {
   "cell_type": "code",
   "execution_count": 7,
   "metadata": {},
   "outputs": [
    {
     "data": {
      "text/plain": [
       "<matplotlib.image.AxesImage at 0x2224183ec50>"
      ]
     },
     "execution_count": 7,
     "metadata": {},
     "output_type": "execute_result"
    }
   ],
   "source": [
    "cap = cv2.VideoCapture(v)\n",
    "ret,frame = cap.read()\n",
    "frame_cropped=frame[crops_y1[0]:crops_y2[0], crops_x1[0]:crops_x2[0]]\n",
    "pause = True\n",
    "fig,ax = plt.subplots()\n",
    "plt.imshow(frame_cropped)"
   ]
  },
  {
   "cell_type": "code",
   "execution_count": 15,
   "metadata": {},
   "outputs": [],
   "source": [
    "colors = np.linspace(0,1,len(pos.as_units('s')))\n",
    "viridis = matplotlib.cm.get_cmap('viridis')\n"
   ]
  },
  {
   "cell_type": "code",
   "execution_count": 12,
   "metadata": {},
   "outputs": [],
   "source": [
    "plt.scatter(pos.as_units('s')['snout']['x'], pos.as_units('s')['snout']['y'], c = viridis(colors),s=10)\n",
    "plt.show()"
   ]
  },
  {
   "cell_type": "code",
   "execution_count": 8,
   "metadata": {},
   "outputs": [],
   "source": [
    "def onclick(event):\n",
    "    global x,y,pause\n",
    "    plt.cla()\n",
    "    plt.imshow(frame)\n",
    "    try:\n",
    "        x\n",
    "    except:\n",
    "        x = [0,0]\n",
    "    try:\n",
    "        y\n",
    "    except:\n",
    "        y = [0,0]\n",
    "    if (str(event.button) == \"MouseButton.LEFT\") or (event.button == 1):\n",
    "        x[0], y[0] = event.xdata, event.ydata\n",
    "    elif (str(event.button) == \"MouseButton.RIGHT\") or (event.button == 3):\n",
    "        x[1], y[1] = event.xdata, event.ydata\n",
    "    elif (str(event.button) == \"MouseButton.MIDDLE\") or (event.button == 2):\n",
    "        fig.canvas.mpl_disconnect(cid)\n",
    "        pause = False\n",
    "    for i,j in zip(x,y):\n",
    "        plt.axvline(i)\n",
    "        plt.axhline(j)\n",
    "        plt.draw()"
   ]
  },
  {
   "cell_type": "code",
   "execution_count": 9,
   "metadata": {},
   "outputs": [],
   "source": [
    "positions_arms = {'open':np.empty([2,2],dtype='object'),'close':np.empty([2,2],dtype='object'),'center':np.empty([1,2],dtype='object')}\n",
    "positions = ['up', 'down','left', 'right']"
   ]
  },
  {
   "cell_type": "code",
   "execution_count": 10,
   "metadata": {},
   "outputs": [],
   "source": [
    "j = 0\n",
    "for p in positions_arms:\n",
    "    if p == 'center':\n",
    "        positions_arms[p] = np.array([[(positions_arms['close'][0][0][1], positions_arms['close'][1][0][0]), (positions_arms['open'][0][1][1], positions_arms['open'][1][1][0])]],dtype='object')\n",
    "    else:\n",
    "        for i in range(positions_arms[p].shape[0]):\n",
    "            try:\n",
    "                del x,y\n",
    "            except:\n",
    "                pass\n",
    "\n",
    "            cap = cv2.VideoCapture(v)\n",
    "            ret,frame = cap.read()\n",
    "            frame=frame[crops_y1[0]:crops_y2[0], crops_x1[0]:crops_x2[0]]\n",
    "            pause = True\n",
    "            fig,ax = plt.subplots()\n",
    "            plt.imshow(frame)\n",
    "            plt.title(p + positions[j])\n",
    "            cid = fig.canvas.mpl_connect('button_press_event', onclick)\n",
    "\n",
    "            while pause:\n",
    "                plt.pause(0.1)\n",
    "\n",
    "            plt.close('all')\n",
    "            positions_arms[p][i] = [x,y]\n",
    "            j += 1\n"
   ]
  },
  {
   "cell_type": "code",
   "execution_count": 1,
   "metadata": {},
   "outputs": [
    {
     "ename": "NameError",
     "evalue": "name 'np' is not defined",
     "output_type": "error",
     "traceback": [
      "\u001b[1;31m---------------------------------------------------------------------------\u001b[0m",
      "\u001b[1;31mNameError\u001b[0m                                 Traceback (most recent call last)",
      "\u001b[1;32m<ipython-input-1-9d3a90b4af60>\u001b[0m in \u001b[0;36m<module>\u001b[1;34m()\u001b[0m\n\u001b[0;32m      1\u001b[0m \u001b[0mcolors\u001b[0m \u001b[1;33m=\u001b[0m \u001b[1;33m[\u001b[0m\u001b[1;34m'r'\u001b[0m\u001b[1;33m,\u001b[0m \u001b[1;34m'b'\u001b[0m\u001b[1;33m,\u001b[0m \u001b[1;34m'green'\u001b[0m\u001b[1;33m,\u001b[0m \u001b[1;34m'orange'\u001b[0m\u001b[1;33m,\u001b[0m \u001b[1;34m'yellow'\u001b[0m\u001b[1;33m]\u001b[0m\u001b[1;33m\u001b[0m\u001b[0m\n\u001b[1;32m----> 2\u001b[1;33m \u001b[0mangle\u001b[0m \u001b[1;33m=\u001b[0m \u001b[0mnp\u001b[0m\u001b[1;33m.\u001b[0m\u001b[0mlinspace\u001b[0m\u001b[1;33m(\u001b[0m\u001b[1;36m0\u001b[0m\u001b[1;33m,\u001b[0m\u001b[1;36m360\u001b[0m\u001b[1;33m,\u001b[0m\u001b[1;36m20\u001b[0m\u001b[1;33m)\u001b[0m\u001b[1;33m\u001b[0m\u001b[0m\n\u001b[0m\u001b[0;32m      3\u001b[0m \u001b[0mcap\u001b[0m \u001b[1;33m=\u001b[0m \u001b[0mcv2\u001b[0m\u001b[1;33m.\u001b[0m\u001b[0mVideoCapture\u001b[0m\u001b[1;33m(\u001b[0m\u001b[0mv\u001b[0m\u001b[1;33m)\u001b[0m\u001b[1;33m\u001b[0m\u001b[0m\n\u001b[0;32m      4\u001b[0m \u001b[0mret\u001b[0m\u001b[1;33m,\u001b[0m\u001b[0mframe\u001b[0m \u001b[1;33m=\u001b[0m \u001b[0mcap\u001b[0m\u001b[1;33m.\u001b[0m\u001b[0mread\u001b[0m\u001b[1;33m(\u001b[0m\u001b[1;33m)\u001b[0m\u001b[1;33m\u001b[0m\u001b[0m\n\u001b[0;32m      5\u001b[0m \u001b[0mframe_cropped\u001b[0m\u001b[1;33m=\u001b[0m\u001b[0mframe\u001b[0m\u001b[1;33m[\u001b[0m\u001b[0mcrops_y1\u001b[0m\u001b[1;33m[\u001b[0m\u001b[1;36m0\u001b[0m\u001b[1;33m]\u001b[0m\u001b[1;33m:\u001b[0m\u001b[0mcrops_y2\u001b[0m\u001b[1;33m[\u001b[0m\u001b[1;36m0\u001b[0m\u001b[1;33m]\u001b[0m\u001b[1;33m,\u001b[0m \u001b[0mcrops_x1\u001b[0m\u001b[1;33m[\u001b[0m\u001b[1;36m0\u001b[0m\u001b[1;33m]\u001b[0m\u001b[1;33m:\u001b[0m\u001b[0mcrops_x2\u001b[0m\u001b[1;33m[\u001b[0m\u001b[1;36m0\u001b[0m\u001b[1;33m]\u001b[0m\u001b[1;33m]\u001b[0m\u001b[1;33m\u001b[0m\u001b[0m\n",
      "\u001b[1;31mNameError\u001b[0m: name 'np' is not defined"
     ]
    }
   ],
   "source": [
    "colors = ['r', 'b', 'green', 'orange', 'yellow']\n",
    "angle = np.linspace(0,360,20)\n",
    "cap = cv2.VideoCapture(v)\n",
    "ret,frame = cap.read()\n",
    "frame_cropped=frame[crops_y1[0]:crops_y2[0], crops_x1[0]:crops_x2[0]]\n",
    "pause = True\n",
    "fig,ax = plt.subplots()\n",
    "\n",
    "for a in angle:\n",
    "    plt.cla()\n",
    "    plt.imshow(frame_cropped)\n",
    "    ax = plt.gca()\n",
    "    rectangles = []\n",
    "    j = 0\n",
    "    for p in positions_arms:\n",
    "        for i in range(positions_arms[p].shape[0]):\n",
    "            (x1,x2), (y1,y2) = positions_arms[p][i]\n",
    "            rectangle = Rectangle((x1,y1), x2-x1, y2-y1,linewidth=1,edgecolor=colors[j],facecolor=colors[j],alpha =0.5)\n",
    "            ax.add_patch(rectangle)\n",
    "            j += 1\n",
    "    plt.draw()\n"
   ]
  },
  {
   "cell_type": "code",
   "execution_count": 46,
   "metadata": {},
   "outputs": [
    {
     "data": {
      "text/plain": [
       "<matplotlib.image.AxesImage at 0x207ab4b0c50>"
      ]
     },
     "execution_count": 46,
     "metadata": {},
     "output_type": "execute_result"
    }
   ],
   "source": [
    "cap = cv2.VideoCapture(v)\n",
    "ret,frame = cap.read()\n",
    "frame_cropped=frame[crops_y1[0]:crops_y2[0], crops_x1[0]:crops_x2[0]]\n",
    "fig,ax = plt.subplots()\n",
    "plt.imshow(frame_cropped)"
   ]
  }
 ],
 "metadata": {
  "kernelspec": {
   "display_name": "Python 3",
   "language": "python",
   "name": "python3"
  },
  "language_info": {
   "codemirror_mode": {
    "name": "ipython",
    "version": 3
   },
   "file_extension": ".py",
   "mimetype": "text/x-python",
   "name": "python",
   "nbconvert_exporter": "python",
   "pygments_lexer": "ipython3",
   "version": "3.7.0"
  }
 },
 "nbformat": 4,
 "nbformat_minor": 4
}
