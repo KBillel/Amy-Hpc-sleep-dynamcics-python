{
 "cells": [
  {
   "cell_type": "code",
   "execution_count": 2,
   "metadata": {},
   "outputs": [],
   "source": [
    "import os\n",
    "\n",
    "import bk.load\n",
    "import bk.compute\n",
    "import bk.plot\n",
    "import bk.signal\n",
    "\n",
    "import numpy as np\n",
    "import pandas as pd\n",
    "\n",
    "import scipy.signal\n",
    "import scipy.stats\n",
    "import scipy.io\n",
    "\n",
    "import matplotlib.pyplot as plt\n",
    "import matplotlib as mpl\n",
    "import neuroseries as nts\n",
    "\n",
    "from statsmodels.tsa.stattools import grangercausalitytests"
   ]
  },
  {
   "cell_type": "code",
   "execution_count": 3,
   "metadata": {},
   "outputs": [
    {
     "ename": "ModuleNotFoundError",
     "evalue": "No module named 'pycorrelate'",
     "output_type": "error",
     "traceback": [
      "\u001b[0;31m---------------------------------------------------------------------------\u001b[0m",
      "\u001b[0;31mModuleNotFoundError\u001b[0m                       Traceback (most recent call last)",
      "\u001b[0;32m/tmp/ipykernel_58357/837315566.py\u001b[0m in \u001b[0;36m<module>\u001b[0;34m\u001b[0m\n\u001b[0;32m----> 1\u001b[0;31m \u001b[0;32mimport\u001b[0m \u001b[0mpycorrelate\u001b[0m\u001b[0;34m\u001b[0m\u001b[0;34m\u001b[0m\u001b[0m\n\u001b[0m",
      "\u001b[0;31mModuleNotFoundError\u001b[0m: No module named 'pycorrelate'"
     ]
    }
   ],
   "source": [
    "import pycorrelate"
   ]
  },
  {
   "cell_type": "code",
   "execution_count": null,
   "metadata": {},
   "outputs": [
    {
     "name": "stdout",
     "output_type": "stream",
     "text": [
      "Rat : 8 on day : 6\n",
      "Working with session Rat08-20130713 @ Z:\\Rat08\\Rat08-20130713\n"
     ]
    }
   ],
   "source": [
    "bk.load.current_session()\n",
    "stru = {'hpc':13,'BLA':105}\n",
    "states = bk.load.states()"
   ]
  },
  {
   "cell_type": "code",
   "execution_count": 14,
   "metadata": {},
   "outputs": [
    {
     "name": "stdout",
     "output_type": "stream",
     "text": [
      "hpc 13\n",
      "BLA 105\n"
     ]
    }
   ],
   "source": [
    "lfp = {}\n",
    "for s,c in zip(stru.keys(),stru.values()):\n",
    "    print(s,c)\n",
    "    lfp.update({s:bk.load.lfp_in_intervals(166,c,states['wake'])})"
   ]
  },
  {
   "cell_type": "code",
   "execution_count": 15,
   "metadata": {},
   "outputs": [],
   "source": [
    "xcorr = pycorrelate.ucorrelate(lfp['hpc'].values,lfp['BLA'].values,maxlag= 1250)"
   ]
  },
  {
   "cell_type": "code",
   "execution_count": 16,
   "metadata": {},
   "outputs": [],
   "source": [
    "t = np.linspace(0,1,1250)"
   ]
  },
  {
   "cell_type": "code",
   "execution_count": 17,
   "metadata": {},
   "outputs": [
    {
     "data": {
      "text/plain": [
       "1250"
      ]
     },
     "execution_count": 17,
     "metadata": {},
     "output_type": "execute_result"
    }
   ],
   "source": [
    "len(t)"
   ]
  },
  {
   "cell_type": "code",
   "execution_count": 18,
   "metadata": {},
   "outputs": [],
   "source": [
    "%matplotlib qt"
   ]
  },
  {
   "cell_type": "code",
   "execution_count": 19,
   "metadata": {},
   "outputs": [
    {
     "data": {
      "text/plain": [
       "1250"
      ]
     },
     "execution_count": 19,
     "metadata": {},
     "output_type": "execute_result"
    }
   ],
   "source": [
    "len(xcorr)"
   ]
  },
  {
   "cell_type": "code",
   "execution_count": 20,
   "metadata": {},
   "outputs": [
    {
     "data": {
      "text/plain": [
       "[<matplotlib.lines.Line2D at 0x2e1aab3d388>]"
      ]
     },
     "execution_count": 20,
     "metadata": {},
     "output_type": "execute_result"
    }
   ],
   "source": [
    "plt.plot(t,xcorr)"
   ]
  },
  {
   "cell_type": "code",
   "execution_count": null,
   "metadata": {},
   "outputs": [],
   "source": [
    "scipy.signal.correlate()"
   ]
  },
  {
   "cell_type": "code",
   "execution_count": 14,
   "metadata": {},
   "outputs": [
    {
     "data": {
      "text/plain": [
       "array([3.71808426e+11])"
      ]
     },
     "execution_count": 14,
     "metadata": {},
     "output_type": "execute_result"
    }
   ],
   "source": [
    "plt.plot(xcorr)"
   ]
  },
  {
   "cell_type": "code",
   "execution_count": 50,
   "metadata": {},
   "outputs": [],
   "source": [
    "data = pd.DataFrame(columns=['hpc','bla'],data = zip(lfp['hpc'],lfp['BLA']))"
   ]
  },
  {
   "cell_type": "code",
   "execution_count": 45,
   "metadata": {},
   "outputs": [
    {
     "name": "stdout",
     "output_type": "stream",
     "text": [
      "Using matplotlib backend: Qt5Agg\n"
     ]
    },
    {
     "data": {
      "text/plain": [
       "[<matplotlib.lines.Line2D at 0x18d3fede808>,\n",
       " <matplotlib.lines.Line2D at 0x18d3f9c6fc8>]"
      ]
     },
     "execution_count": 45,
     "metadata": {},
     "output_type": "execute_result"
    }
   ],
   "source": [
    "%matplotlib\n",
    "plt.plot(data)"
   ]
  },
  {
   "cell_type": "code",
   "execution_count": 51,
   "metadata": {},
   "outputs": [
    {
     "data": {
      "text/plain": [
       "<Figure size 640x480 with 0 Axes>"
      ]
     },
     "execution_count": 51,
     "metadata": {},
     "output_type": "execute_result"
    }
   ],
   "source": [
    "plt.figure()"
   ]
  },
  {
   "cell_type": "code",
   "execution_count": 52,
   "metadata": {},
   "outputs": [
    {
     "data": {
      "text/plain": [
       "(array([[0., 0., 0., ..., 0., 0., 0.],\n",
       "        [0., 0., 0., ..., 0., 0., 0.],\n",
       "        [0., 0., 0., ..., 0., 0., 0.],\n",
       "        ...,\n",
       "        [0., 0., 0., ..., 0., 0., 0.],\n",
       "        [0., 0., 0., ..., 0., 0., 0.],\n",
       "        [0., 0., 0., ..., 0., 0., 0.]]),\n",
       " array([-9182.   , -9104.952, -9027.904, -8950.856, -8873.808, -8796.76 ,\n",
       "        -8719.712, -8642.664, -8565.616, -8488.568, -8411.52 , -8334.472,\n",
       "        -8257.424, -8180.376, -8103.328, -8026.28 , -7949.232, -7872.184,\n",
       "        -7795.136, -7718.088, -7641.04 , -7563.992, -7486.944, -7409.896,\n",
       "        -7332.848, -7255.8  , -7178.752, -7101.704, -7024.656, -6947.608,\n",
       "        -6870.56 , -6793.512, -6716.464, -6639.416, -6562.368, -6485.32 ,\n",
       "        -6408.272, -6331.224, -6254.176, -6177.128, -6100.08 , -6023.032,\n",
       "        -5945.984, -5868.936, -5791.888, -5714.84 , -5637.792, -5560.744,\n",
       "        -5483.696, -5406.648, -5329.6  , -5252.552, -5175.504, -5098.456,\n",
       "        -5021.408, -4944.36 , -4867.312, -4790.264, -4713.216, -4636.168,\n",
       "        -4559.12 , -4482.072, -4405.024, -4327.976, -4250.928, -4173.88 ,\n",
       "        -4096.832, -4019.784, -3942.736, -3865.688, -3788.64 , -3711.592,\n",
       "        -3634.544, -3557.496, -3480.448, -3403.4  , -3326.352, -3249.304,\n",
       "        -3172.256, -3095.208, -3018.16 , -2941.112, -2864.064, -2787.016,\n",
       "        -2709.968, -2632.92 , -2555.872, -2478.824, -2401.776, -2324.728,\n",
       "        -2247.68 , -2170.632, -2093.584, -2016.536, -1939.488, -1862.44 ,\n",
       "        -1785.392, -1708.344, -1631.296, -1554.248, -1477.2  , -1400.152,\n",
       "        -1323.104, -1246.056, -1169.008, -1091.96 , -1014.912,  -937.864,\n",
       "         -860.816,  -783.768,  -706.72 ,  -629.672,  -552.624,  -475.576,\n",
       "         -398.528,  -321.48 ,  -244.432,  -167.384,   -90.336,   -13.288,\n",
       "           63.76 ,   140.808,   217.856,   294.904,   371.952,   449.   ,\n",
       "          526.048,   603.096,   680.144,   757.192,   834.24 ,   911.288,\n",
       "          988.336,  1065.384,  1142.432,  1219.48 ,  1296.528,  1373.576,\n",
       "         1450.624,  1527.672,  1604.72 ,  1681.768,  1758.816,  1835.864,\n",
       "         1912.912,  1989.96 ,  2067.008,  2144.056,  2221.104,  2298.152,\n",
       "         2375.2  ,  2452.248,  2529.296,  2606.344,  2683.392,  2760.44 ,\n",
       "         2837.488,  2914.536,  2991.584,  3068.632,  3145.68 ,  3222.728,\n",
       "         3299.776,  3376.824,  3453.872,  3530.92 ,  3607.968,  3685.016,\n",
       "         3762.064,  3839.112,  3916.16 ,  3993.208,  4070.256,  4147.304,\n",
       "         4224.352,  4301.4  ,  4378.448,  4455.496,  4532.544,  4609.592,\n",
       "         4686.64 ,  4763.688,  4840.736,  4917.784,  4994.832,  5071.88 ,\n",
       "         5148.928,  5225.976,  5303.024,  5380.072,  5457.12 ,  5534.168,\n",
       "         5611.216,  5688.264,  5765.312,  5842.36 ,  5919.408,  5996.456,\n",
       "         6073.504,  6150.552,  6227.6  ,  6304.648,  6381.696,  6458.744,\n",
       "         6535.792,  6612.84 ,  6689.888,  6766.936,  6843.984,  6921.032,\n",
       "         6998.08 ,  7075.128,  7152.176,  7229.224,  7306.272,  7383.32 ,\n",
       "         7460.368,  7537.416,  7614.464,  7691.512,  7768.56 ,  7845.608,\n",
       "         7922.656,  7999.704,  8076.752,  8153.8  ,  8230.848,  8307.896,\n",
       "         8384.944,  8461.992,  8539.04 ,  8616.088,  8693.136,  8770.184,\n",
       "         8847.232,  8924.28 ,  9001.328,  9078.376,  9155.424,  9232.472,\n",
       "         9309.52 ,  9386.568,  9463.616,  9540.664,  9617.712,  9694.76 ,\n",
       "         9771.808,  9848.856,  9925.904, 10002.952, 10080.   ]),\n",
       " array([-1305. , -1292.5, -1280. , -1267.5, -1255. , -1242.5, -1230. ,\n",
       "        -1217.5, -1205. , -1192.5, -1180. , -1167.5, -1155. , -1142.5,\n",
       "        -1130. , -1117.5, -1105. , -1092.5, -1080. , -1067.5, -1055. ,\n",
       "        -1042.5, -1030. , -1017.5, -1005. ,  -992.5,  -980. ,  -967.5,\n",
       "         -955. ,  -942.5,  -930. ,  -917.5,  -905. ,  -892.5,  -880. ,\n",
       "         -867.5,  -855. ,  -842.5,  -830. ,  -817.5,  -805. ,  -792.5,\n",
       "         -780. ,  -767.5,  -755. ,  -742.5,  -730. ,  -717.5,  -705. ,\n",
       "         -692.5,  -680. ,  -667.5,  -655. ,  -642.5,  -630. ,  -617.5,\n",
       "         -605. ,  -592.5,  -580. ,  -567.5,  -555. ,  -542.5,  -530. ,\n",
       "         -517.5,  -505. ,  -492.5,  -480. ,  -467.5,  -455. ,  -442.5,\n",
       "         -430. ,  -417.5,  -405. ,  -392.5,  -380. ,  -367.5,  -355. ,\n",
       "         -342.5,  -330. ,  -317.5,  -305. ,  -292.5,  -280. ,  -267.5,\n",
       "         -255. ,  -242.5,  -230. ,  -217.5,  -205. ,  -192.5,  -180. ,\n",
       "         -167.5,  -155. ,  -142.5,  -130. ,  -117.5,  -105. ,   -92.5,\n",
       "          -80. ,   -67.5,   -55. ,   -42.5,   -30. ,   -17.5,    -5. ,\n",
       "            7.5,    20. ,    32.5,    45. ,    57.5,    70. ,    82.5,\n",
       "           95. ,   107.5,   120. ,   132.5,   145. ,   157.5,   170. ,\n",
       "          182.5,   195. ,   207.5,   220. ,   232.5,   245. ,   257.5,\n",
       "          270. ,   282.5,   295. ,   307.5,   320. ,   332.5,   345. ,\n",
       "          357.5,   370. ,   382.5,   395. ,   407.5,   420. ,   432.5,\n",
       "          445. ,   457.5,   470. ,   482.5,   495. ,   507.5,   520. ,\n",
       "          532.5,   545. ,   557.5,   570. ,   582.5,   595. ,   607.5,\n",
       "          620. ,   632.5,   645. ,   657.5,   670. ,   682.5,   695. ,\n",
       "          707.5,   720. ,   732.5,   745. ,   757.5,   770. ,   782.5,\n",
       "          795. ,   807.5,   820. ,   832.5,   845. ,   857.5,   870. ,\n",
       "          882.5,   895. ,   907.5,   920. ,   932.5,   945. ,   957.5,\n",
       "          970. ,   982.5,   995. ,  1007.5,  1020. ,  1032.5,  1045. ,\n",
       "         1057.5,  1070. ,  1082.5,  1095. ,  1107.5,  1120. ,  1132.5,\n",
       "         1145. ,  1157.5,  1170. ,  1182.5,  1195. ,  1207.5,  1220. ,\n",
       "         1232.5,  1245. ,  1257.5,  1270. ,  1282.5,  1295. ,  1307.5,\n",
       "         1320. ,  1332.5,  1345. ,  1357.5,  1370. ,  1382.5,  1395. ,\n",
       "         1407.5,  1420. ,  1432.5,  1445. ,  1457.5,  1470. ,  1482.5,\n",
       "         1495. ,  1507.5,  1520. ,  1532.5,  1545. ,  1557.5,  1570. ,\n",
       "         1582.5,  1595. ,  1607.5,  1620. ,  1632.5,  1645. ,  1657.5,\n",
       "         1670. ,  1682.5,  1695. ,  1707.5,  1720. ,  1732.5,  1745. ,\n",
       "         1757.5,  1770. ,  1782.5,  1795. ,  1807.5,  1820. ]),\n",
       " <matplotlib.collections.QuadMesh at 0x18d42ea4848>)"
      ]
     },
     "execution_count": 52,
     "metadata": {},
     "output_type": "execute_result"
    }
   ],
   "source": [
    "plt.hist2d(data['hpc'],data['bla'],250)"
   ]
  },
  {
   "cell_type": "code",
   "execution_count": 1,
   "metadata": {},
   "outputs": [
    {
     "ename": "NameError",
     "evalue": "name 'grangercausalitytests' is not defined",
     "output_type": "error",
     "traceback": [
      "\u001b[0;31m---------------------------------------------------------------------------\u001b[0m",
      "\u001b[0;31mNameError\u001b[0m                                 Traceback (most recent call last)",
      "\u001b[0;32m/tmp/ipykernel_58357/207917907.py\u001b[0m in \u001b[0;36m<module>\u001b[0;34m\u001b[0m\n\u001b[0;32m----> 1\u001b[0;31m \u001b[0mt\u001b[0m \u001b[0;34m=\u001b[0m \u001b[0mgrangercausalitytests\u001b[0m\u001b[0;34m(\u001b[0m\u001b[0mdata\u001b[0m\u001b[0;34m,\u001b[0m\u001b[0;34m[\u001b[0m\u001b[0;36m1\u001b[0m\u001b[0;34m,\u001b[0m\u001b[0;36m100\u001b[0m\u001b[0;34m,\u001b[0m\u001b[0;36m250\u001b[0m\u001b[0;34m]\u001b[0m\u001b[0;34m)\u001b[0m\u001b[0;34m\u001b[0m\u001b[0;34m\u001b[0m\u001b[0m\n\u001b[0m",
      "\u001b[0;31mNameError\u001b[0m: name 'grangercausalitytests' is not defined"
     ]
    }
   ],
   "source": [
    "t = grangercausalitytests(data,[1,100,250])"
   ]
  },
  {
   "cell_type": "code",
   "execution_count": 10,
   "metadata": {},
   "outputs": [
    {
     "data": {
      "text/plain": [
       "{1: ({'ssr_ftest': (892.9686113623726, 7.5079325226834655e-196, 243721.0, 1),\n",
       "   'ssr_chi2test': (892.979603053011, 3.295924645536245e-196, 1),\n",
       "   'lrtest': (891.3476953422651, 7.459983070510807e-196, 1),\n",
       "   'params_ftest': (892.9686113624231, 7.507932522376613e-196, 243721.0, 1.0)},\n",
       "  [<statsmodels.regression.linear_model.RegressionResultsWrapper at 0x18d3327d3c8>,\n",
       "   <statsmodels.regression.linear_model.RegressionResultsWrapper at 0x18d33216bc8>,\n",
       "   array([[0., 1., 0.]])]),\n",
       " 100: ({'ssr_ftest': (15.930555952139336,\n",
       "    2.9324489648765307e-266,\n",
       "    243424.0,\n",
       "    100),\n",
       "   'ssr_chi2test': (1594.3710126527974, 1.6089820253775208e-267, 100),\n",
       "   'lrtest': (1589.1765899173915, 1.8414255066104933e-266, 100),\n",
       "   'params_ftest': (15.9305559521149,\n",
       "    2.9324489682456776e-266,\n",
       "    243424.0,\n",
       "    100.0)},\n",
       "  [<statsmodels.regression.linear_model.RegressionResultsWrapper at 0x18d33280448>,\n",
       "   <statsmodels.regression.linear_model.RegressionResultsWrapper at 0x18d33280788>,\n",
       "   array([[0., 0., 0., ..., 0., 0., 0.],\n",
       "          [0., 0., 0., ..., 0., 0., 0.],\n",
       "          [0., 0., 0., ..., 0., 0., 0.],\n",
       "          ...,\n",
       "          [0., 0., 0., ..., 0., 0., 0.],\n",
       "          [0., 0., 0., ..., 1., 0., 0.],\n",
       "          [0., 0., 0., ..., 0., 1., 0.]])]),\n",
       " 250: ({'ssr_ftest': (4.811454650982971,\n",
       "    5.609586736104298e-124,\n",
       "    242974.0,\n",
       "    250),\n",
       "   'ssr_chi2test': (1205.343906290466, 8.220181344323926e-125, 250),\n",
       "   'lrtest': (1202.370137566235, 2.6784118453328806e-124, 250),\n",
       "   'params_ftest': (4.81145465098051,\n",
       "    5.609586737433341e-124,\n",
       "    242974.0,\n",
       "    250.0)},\n",
       "  [<statsmodels.regression.linear_model.RegressionResultsWrapper at 0x18d35310d48>,\n",
       "   <statsmodels.regression.linear_model.RegressionResultsWrapper at 0x18d35310bc8>,\n",
       "   array([[0., 0., 0., ..., 0., 0., 0.],\n",
       "          [0., 0., 0., ..., 0., 0., 0.],\n",
       "          [0., 0., 0., ..., 0., 0., 0.],\n",
       "          ...,\n",
       "          [0., 0., 0., ..., 0., 0., 0.],\n",
       "          [0., 0., 0., ..., 1., 0., 0.],\n",
       "          [0., 0., 0., ..., 0., 1., 0.]])]),\n",
       " 1000: ({'ssr_ftest': (1.3730233776291847,\n",
       "    3.743988682913168e-14,\n",
       "    240724.0,\n",
       "    1000),\n",
       "   'ssr_chi2test': (1384.436530362755, 6.544827520652792e-15, 1000),\n",
       "   'lrtest': (1380.5032571982592, 1.1389961978853435e-14, 1000),\n",
       "   'params_ftest': (1.3730233776267202,\n",
       "    3.743988684182499e-14,\n",
       "    240724.0,\n",
       "    1000.0)},\n",
       "  [<statsmodels.regression.linear_model.RegressionResultsWrapper at 0x18d35297e88>,\n",
       "   <statsmodels.regression.linear_model.RegressionResultsWrapper at 0x18d35297bc8>,\n",
       "   array([[0., 0., 0., ..., 0., 0., 0.],\n",
       "          [0., 0., 0., ..., 0., 0., 0.],\n",
       "          [0., 0., 0., ..., 0., 0., 0.],\n",
       "          ...,\n",
       "          [0., 0., 0., ..., 0., 0., 0.],\n",
       "          [0., 0., 0., ..., 1., 0., 0.],\n",
       "          [0., 0., 0., ..., 0., 1., 0.]])])}"
      ]
     },
     "execution_count": 10,
     "metadata": {},
     "output_type": "execute_result"
    }
   ],
   "source": [
    "t"
   ]
  },
  {
   "cell_type": "code",
   "execution_count": 21,
   "metadata": {},
   "outputs": [
    {
     "data": {
      "text/html": [
       "<div>\n",
       "<style scoped>\n",
       "    .dataframe tbody tr th:only-of-type {\n",
       "        vertical-align: middle;\n",
       "    }\n",
       "\n",
       "    .dataframe tbody tr th {\n",
       "        vertical-align: top;\n",
       "    }\n",
       "\n",
       "    .dataframe thead th {\n",
       "        text-align: right;\n",
       "    }\n",
       "</style>\n",
       "<table border=\"1\" class=\"dataframe\">\n",
       "  <thead>\n",
       "    <tr style=\"text-align: right;\">\n",
       "      <th></th>\n",
       "      <th>BLA</th>\n",
       "      <th>hpc</th>\n",
       "    </tr>\n",
       "  </thead>\n",
       "  <tbody>\n",
       "    <tr>\n",
       "      <th>0</th>\n",
       "      <td>45.793646</td>\n",
       "      <td>-688.494296</td>\n",
       "    </tr>\n",
       "    <tr>\n",
       "      <th>1</th>\n",
       "      <td>46.156013</td>\n",
       "      <td>-683.512884</td>\n",
       "    </tr>\n",
       "    <tr>\n",
       "      <th>2</th>\n",
       "      <td>-209.762557</td>\n",
       "      <td>-227.974382</td>\n",
       "    </tr>\n",
       "    <tr>\n",
       "      <th>3</th>\n",
       "      <td>133.859321</td>\n",
       "      <td>-593.645165</td>\n",
       "    </tr>\n",
       "    <tr>\n",
       "      <th>4</th>\n",
       "      <td>423.604664</td>\n",
       "      <td>-85.516785</td>\n",
       "    </tr>\n",
       "    <tr>\n",
       "      <th>...</th>\n",
       "      <td>...</td>\n",
       "      <td>...</td>\n",
       "    </tr>\n",
       "    <tr>\n",
       "      <th>118545</th>\n",
       "      <td>459.132473</td>\n",
       "      <td>-33.425150</td>\n",
       "    </tr>\n",
       "    <tr>\n",
       "      <th>118546</th>\n",
       "      <td>521.179597</td>\n",
       "      <td>-180.166589</td>\n",
       "    </tr>\n",
       "    <tr>\n",
       "      <th>118547</th>\n",
       "      <td>329.781805</td>\n",
       "      <td>-120.184726</td>\n",
       "    </tr>\n",
       "    <tr>\n",
       "      <th>118548</th>\n",
       "      <td>255.771098</td>\n",
       "      <td>-71.932208</td>\n",
       "    </tr>\n",
       "    <tr>\n",
       "      <th>118549</th>\n",
       "      <td>250.581668</td>\n",
       "      <td>-115.726640</td>\n",
       "    </tr>\n",
       "  </tbody>\n",
       "</table>\n",
       "<p>118550 rows × 2 columns</p>\n",
       "</div>"
      ],
      "text/plain": [
       "               BLA         hpc\n",
       "0        45.793646 -688.494296\n",
       "1        46.156013 -683.512884\n",
       "2      -209.762557 -227.974382\n",
       "3       133.859321 -593.645165\n",
       "4       423.604664  -85.516785\n",
       "...            ...         ...\n",
       "118545  459.132473  -33.425150\n",
       "118546  521.179597 -180.166589\n",
       "118547  329.781805 -120.184726\n",
       "118548  255.771098  -71.932208\n",
       "118549  250.581668 -115.726640\n",
       "\n",
       "[118550 rows x 2 columns]"
      ]
     },
     "execution_count": 21,
     "metadata": {},
     "output_type": "execute_result"
    }
   ],
   "source": [
    "data"
   ]
  },
  {
   "cell_type": "code",
   "execution_count": 30,
   "metadata": {},
   "outputs": [
    {
     "data": {
      "text/plain": [
       "[0, 500, 1000, 1500, 2000]"
      ]
     },
     "execution_count": 30,
     "metadata": {},
     "output_type": "execute_result"
    }
   ],
   "source": [
    "list(np.arange(0,2500,500)+1)"
   ]
  },
  {
   "cell_type": "code",
   "execution_count": 25,
   "metadata": {},
   "outputs": [],
   "source": [
    "%matplotlib qt"
   ]
  },
  {
   "cell_type": "code",
   "execution_count": 26,
   "metadata": {},
   "outputs": [
    {
     "data": {
      "text/plain": [
       "[<matplotlib.lines.Line2D at 0x2dd58cc3248>,\n",
       " <matplotlib.lines.Line2D at 0x2dd58cc37c8>]"
      ]
     },
     "execution_count": 26,
     "metadata": {},
     "output_type": "execute_result"
    }
   ],
   "source": [
    "plt.plot(data)"
   ]
  },
  {
   "cell_type": "code",
   "execution_count": 21,
   "metadata": {},
   "outputs": [
    {
     "data": {
      "text/html": [
       "<div>\n",
       "<style scoped>\n",
       "    .dataframe tbody tr th:only-of-type {\n",
       "        vertical-align: middle;\n",
       "    }\n",
       "\n",
       "    .dataframe tbody tr th {\n",
       "        vertical-align: top;\n",
       "    }\n",
       "\n",
       "    .dataframe thead th {\n",
       "        text-align: right;\n",
       "    }\n",
       "</style>\n",
       "<table border=\"1\" class=\"dataframe\">\n",
       "  <thead>\n",
       "    <tr style=\"text-align: right;\">\n",
       "      <th></th>\n",
       "      <th>BLA</th>\n",
       "      <th>hpc</th>\n",
       "    </tr>\n",
       "  </thead>\n",
       "  <tbody>\n",
       "    <tr>\n",
       "      <th>0</th>\n",
       "      <td>18.0</td>\n",
       "      <td>-667.0</td>\n",
       "    </tr>\n",
       "    <tr>\n",
       "      <th>1</th>\n",
       "      <td>95.0</td>\n",
       "      <td>-742.0</td>\n",
       "    </tr>\n",
       "    <tr>\n",
       "      <th>2</th>\n",
       "      <td>60.0</td>\n",
       "      <td>-735.0</td>\n",
       "    </tr>\n",
       "    <tr>\n",
       "      <th>3</th>\n",
       "      <td>60.0</td>\n",
       "      <td>-736.0</td>\n",
       "    </tr>\n",
       "    <tr>\n",
       "      <th>4</th>\n",
       "      <td>133.0</td>\n",
       "      <td>-738.0</td>\n",
       "    </tr>\n",
       "    <tr>\n",
       "      <th>...</th>\n",
       "      <td>...</td>\n",
       "      <td>...</td>\n",
       "    </tr>\n",
       "    <tr>\n",
       "      <th>2963745</th>\n",
       "      <td>281.0</td>\n",
       "      <td>-89.0</td>\n",
       "    </tr>\n",
       "    <tr>\n",
       "      <th>2963746</th>\n",
       "      <td>401.0</td>\n",
       "      <td>-154.0</td>\n",
       "    </tr>\n",
       "    <tr>\n",
       "      <th>2963747</th>\n",
       "      <td>478.0</td>\n",
       "      <td>-193.0</td>\n",
       "    </tr>\n",
       "    <tr>\n",
       "      <th>2963748</th>\n",
       "      <td>446.0</td>\n",
       "      <td>-244.0</td>\n",
       "    </tr>\n",
       "    <tr>\n",
       "      <th>2963749</th>\n",
       "      <td>453.0</td>\n",
       "      <td>-271.0</td>\n",
       "    </tr>\n",
       "  </tbody>\n",
       "</table>\n",
       "<p>2963750 rows × 2 columns</p>\n",
       "</div>"
      ],
      "text/plain": [
       "           BLA    hpc\n",
       "0         18.0 -667.0\n",
       "1         95.0 -742.0\n",
       "2         60.0 -735.0\n",
       "3         60.0 -736.0\n",
       "4        133.0 -738.0\n",
       "...        ...    ...\n",
       "2963745  281.0  -89.0\n",
       "2963746  401.0 -154.0\n",
       "2963747  478.0 -193.0\n",
       "2963748  446.0 -244.0\n",
       "2963749  453.0 -271.0\n",
       "\n",
       "[2963750 rows x 2 columns]"
      ]
     },
     "execution_count": 21,
     "metadata": {},
     "output_type": "execute_result"
    }
   ],
   "source": []
  },
  {
   "cell_type": "code",
   "execution_count": 10,
   "metadata": {},
   "outputs": [
    {
     "data": {
      "text/plain": [
       "[<matplotlib.lines.Line2D at 0x24a073bbb48>]"
      ]
     },
     "execution_count": 10,
     "metadata": {},
     "output_type": "execute_result"
    },
    {
     "data": {
      "image/png": "[encoded data removed]",
      "text/plain": [
       "<Figure size 432x288 with 1 Axes>"
      ]
     },
     "metadata": {
      "needs_background": "light"
     },
     "output_type": "display_data"
    }
   ],
   "source": [
    "t = np.arange(0,50)\n",
    "plt.plot(scipy.signal.decimate(lfp['hpc'],25))\n",
    "plt.plot(lfp['hpc'].values)"
   ]
  },
  {
   "cell_type": "code",
   "execution_count": 14,
   "metadata": {},
   "outputs": [
    {
     "data": {
      "text/plain": [
       "array([0.        , 0.02040816, 0.04081633, 0.06122449, 0.08163265,\n",
       "       0.10204082, 0.12244898, 0.14285714, 0.16326531, 0.18367347,\n",
       "       0.20408163, 0.2244898 , 0.24489796, 0.26530612, 0.28571429,\n",
       "       0.30612245, 0.32653061, 0.34693878, 0.36734694, 0.3877551 ,\n",
       "       0.40816327, 0.42857143, 0.44897959, 0.46938776, 0.48979592,\n",
       "       0.51020408, 0.53061224, 0.55102041, 0.57142857, 0.59183673,\n",
       "       0.6122449 , 0.63265306, 0.65306122, 0.67346939, 0.69387755,\n",
       "       0.71428571, 0.73469388, 0.75510204, 0.7755102 , 0.79591837,\n",
       "       0.81632653, 0.83673469, 0.85714286, 0.87755102, 0.89795918,\n",
       "       0.91836735, 0.93877551, 0.95918367, 0.97959184, 1.        ])"
      ]
     },
     "execution_count": 14,
     "metadata": {},
     "output_type": "execute_result"
    }
   ],
   "source": []
  },
  {
   "cell_type": "code",
   "execution_count": 13,
   "metadata": {},
   "outputs": [],
   "source": [
    "t = np.linspace(0,100,100000)\n",
    "x = np.sin(30*t)\n",
    "y = np.sin(30*t+0.1)"
   ]
  },
  {
   "cell_type": "code",
   "execution_count": 14,
   "metadata": {},
   "outputs": [],
   "source": [
    "x = x+np.random.rand(len(x))*5\n",
    "y = y+np.random.rand(len(x))*3"
   ]
  },
  {
   "cell_type": "code",
   "execution_count": 15,
   "metadata": {},
   "outputs": [],
   "source": [
    "x = nts.Tsd(t,x)\n",
    "y = nts.Tsd(t,y)"
   ]
  },
  {
   "cell_type": "code",
   "execution_count": 16,
   "metadata": {},
   "outputs": [],
   "source": [
    "_,phasex = bk.signal.hilbert(x)\n",
    "_,phasey = bk.signal.hilbert(y)"
   ]
  },
  {
   "cell_type": "code",
   "execution_count": 17,
   "metadata": {},
   "outputs": [
    {
     "data": {
      "text/plain": [
       "(array([[0., 0., 0., ..., 1., 0., 2.],\n",
       "        [1., 2., 1., ..., 1., 0., 2.],\n",
       "        [1., 0., 1., ..., 1., 0., 1.],\n",
       "        ...,\n",
       "        [0., 0., 0., ..., 0., 0., 0.],\n",
       "        [0., 2., 0., ..., 0., 0., 2.],\n",
       "        [1., 0., 0., ..., 1., 0., 1.]]),\n",
       " array([-3.13784347e+00, -3.01231974e+00, -2.88679600e+00, -2.76127226e+00,\n",
       "        -2.63574853e+00, -2.51022479e+00, -2.38470105e+00, -2.25917732e+00,\n",
       "        -2.13365358e+00, -2.00812984e+00, -1.88260611e+00, -1.75708237e+00,\n",
       "        -1.63155863e+00, -1.50603490e+00, -1.38051116e+00, -1.25498742e+00,\n",
       "        -1.12946368e+00, -1.00393995e+00, -8.78416212e-01, -7.52892475e-01,\n",
       "        -6.27368738e-01, -5.01845001e-01, -3.76321265e-01, -2.50797528e-01,\n",
       "        -1.25273791e-01,  2.49945600e-04,  1.25773682e-01,  2.51297419e-01,\n",
       "         3.76821156e-01,  5.02344893e-01,  6.27868629e-01,  7.53392366e-01,\n",
       "         8.78916103e-01,  1.00443984e+00,  1.12996358e+00,  1.25548731e+00,\n",
       "         1.38101105e+00,  1.50653479e+00,  1.63205852e+00,  1.75758226e+00,\n",
       "         1.88310600e+00,  2.00862973e+00,  2.13415347e+00,  2.25967721e+00,\n",
       "         2.38520094e+00,  2.51072468e+00,  2.63624842e+00,  2.76177215e+00,\n",
       "         2.88729589e+00,  3.01281963e+00,  3.13834336e+00]),\n",
       " array([-3.14053495e+00, -3.01490173e+00, -2.88926850e+00, -2.76363528e+00,\n",
       "        -2.63800205e+00, -2.51236883e+00, -2.38673560e+00, -2.26110238e+00,\n",
       "        -2.13546915e+00, -2.00983593e+00, -1.88420271e+00, -1.75856948e+00,\n",
       "        -1.63293626e+00, -1.50730303e+00, -1.38166981e+00, -1.25603658e+00,\n",
       "        -1.13040336e+00, -1.00477013e+00, -8.79136909e-01, -7.53503684e-01,\n",
       "        -6.27870460e-01, -5.02237235e-01, -3.76604010e-01, -2.50970786e-01,\n",
       "        -1.25337561e-01,  2.95663371e-04,  1.25928888e-01,  2.51562113e-01,\n",
       "         3.77195337e-01,  5.02828562e-01,  6.28461786e-01,  7.54095011e-01,\n",
       "         8.79728235e-01,  1.00536146e+00,  1.13099468e+00,  1.25662791e+00,\n",
       "         1.38226113e+00,  1.50789436e+00,  1.63352758e+00,  1.75916081e+00,\n",
       "         1.88479403e+00,  2.01042726e+00,  2.13606048e+00,  2.26169371e+00,\n",
       "         2.38732693e+00,  2.51296016e+00,  2.63859338e+00,  2.76422660e+00,\n",
       "         2.88985983e+00,  3.01549305e+00,  3.14112628e+00]),\n",
       " <matplotlib.collections.QuadMesh at 0x201968c8a08>)"
      ]
     },
     "execution_count": 17,
     "metadata": {},
     "output_type": "execute_result"
    },
    {
     "data": {
      "image/png": "[encoded data removed]",
      "text/plain": [
       "<Figure size 432x288 with 2 Axes>"
      ]
     },
     "metadata": {
      "needs_background": "light"
     },
     "output_type": "display_data"
    }
   ],
   "source": [
    "plt.figure()\n",
    "plt.subplot(1,2,1)\n",
    "plt.title('Amplitude')\n",
    "plt.hist2d(x,y,50)\n",
    "plt.subplot(1,2,2)\n",
    "plt.title('Phase')\n",
    "plt.hist2d(phasex,phasey,50)"
   ]
  },
  {
   "cell_type": "code",
   "execution_count": 20,
   "metadata": {},
   "outputs": [
    {
     "data": {
      "text/plain": [
       "(0.0, 1.0)"
      ]
     },
     "execution_count": 20,
     "metadata": {},
     "output_type": "execute_result"
    },
    {
     "data": {
      "image/png": "[encoded data removed]",
      "text/plain": [
       "<Figure size 432x288 with 2 Axes>"
      ]
     },
     "metadata": {
      "needs_background": "light"
     },
     "output_type": "display_data"
    }
   ],
   "source": [
    "plt.figure()\n",
    "s = plt.subplot(2,1,1)\n",
    "plt.plot(t,x)\n",
    "plt.plot(t,y)\n",
    "plt.subplot(2,1,2,sharex = s)\n",
    "plt.plot(t,phasex)\n",
    "plt.plot(t,phasey)\n",
    "plt.xlim(0,1)"
   ]
  },
  {
   "cell_type": "code",
   "execution_count": 91,
   "metadata": {},
   "outputs": [
    {
     "data": {
      "text/plain": [
       "(array([[0., 0., 0., ..., 0., 1., 0.],\n",
       "        [0., 0., 0., ..., 0., 0., 1.],\n",
       "        [0., 0., 0., ..., 0., 0., 0.],\n",
       "        ...,\n",
       "        [0., 0., 0., ..., 0., 0., 0.],\n",
       "        [0., 1., 0., ..., 0., 0., 0.],\n",
       "        [0., 0., 0., ..., 0., 0., 0.]]),\n",
       " array([-3.14146550e+00, -3.11005052e+00, -3.07863553e+00, -3.04722054e+00,\n",
       "        -3.01580556e+00, -2.98439057e+00, -2.95297559e+00, -2.92156060e+00,\n",
       "        -2.89014562e+00, -2.85873063e+00, -2.82731565e+00, -2.79590066e+00,\n",
       "        -2.76448567e+00, -2.73307069e+00, -2.70165570e+00, -2.67024072e+00,\n",
       "        -2.63882573e+00, -2.60741075e+00, -2.57599576e+00, -2.54458078e+00,\n",
       "        -2.51316579e+00, -2.48175081e+00, -2.45033582e+00, -2.41892083e+00,\n",
       "        -2.38750585e+00, -2.35609086e+00, -2.32467588e+00, -2.29326089e+00,\n",
       "        -2.26184591e+00, -2.23043092e+00, -2.19901594e+00, -2.16760095e+00,\n",
       "        -2.13618596e+00, -2.10477098e+00, -2.07335599e+00, -2.04194101e+00,\n",
       "        -2.01052602e+00, -1.97911104e+00, -1.94769605e+00, -1.91628107e+00,\n",
       "        -1.88486608e+00, -1.85345109e+00, -1.82203611e+00, -1.79062112e+00,\n",
       "        -1.75920614e+00, -1.72779115e+00, -1.69637617e+00, -1.66496118e+00,\n",
       "        -1.63354620e+00, -1.60213121e+00, -1.57071623e+00, -1.53930124e+00,\n",
       "        -1.50788625e+00, -1.47647127e+00, -1.44505628e+00, -1.41364130e+00,\n",
       "        -1.38222631e+00, -1.35081133e+00, -1.31939634e+00, -1.28798136e+00,\n",
       "        -1.25656637e+00, -1.22515138e+00, -1.19373640e+00, -1.16232141e+00,\n",
       "        -1.13090643e+00, -1.09949144e+00, -1.06807646e+00, -1.03666147e+00,\n",
       "        -1.00524649e+00, -9.73831501e-01, -9.42416515e-01, -9.11001530e-01,\n",
       "        -8.79586544e-01, -8.48171559e-01, -8.16756573e-01, -7.85341588e-01,\n",
       "        -7.53926602e-01, -7.22511617e-01, -6.91096631e-01, -6.59681646e-01,\n",
       "        -6.28266660e-01, -5.96851675e-01, -5.65436689e-01, -5.34021704e-01,\n",
       "        -5.02606718e-01, -4.71191733e-01, -4.39776747e-01, -4.08361762e-01,\n",
       "        -3.76946776e-01, -3.45531791e-01, -3.14116805e-01, -2.82701820e-01,\n",
       "        -2.51286834e-01, -2.19871849e-01, -1.88456863e-01, -1.57041878e-01,\n",
       "        -1.25626892e-01, -9.42119067e-02, -6.27969212e-02, -3.13819357e-02,\n",
       "         3.30498312e-05,  3.14480353e-02,  6.28630208e-02,  9.42780063e-02,\n",
       "         1.25692992e-01,  1.57107977e-01,  1.88522963e-01,  2.19937948e-01,\n",
       "         2.51352934e-01,  2.82767919e-01,  3.14182905e-01,  3.45597890e-01,\n",
       "         3.77012876e-01,  4.08427861e-01,  4.39842847e-01,  4.71257832e-01,\n",
       "         5.02672818e-01,  5.34087803e-01,  5.65502789e-01,  5.96917774e-01,\n",
       "         6.28332760e-01,  6.59747745e-01,  6.91162731e-01,  7.22577716e-01,\n",
       "         7.53992702e-01,  7.85407687e-01,  8.16822673e-01,  8.48237658e-01,\n",
       "         8.79652644e-01,  9.11067629e-01,  9.42482615e-01,  9.73897600e-01,\n",
       "         1.00531259e+00,  1.03672757e+00,  1.06814256e+00,  1.09955754e+00,\n",
       "         1.13097253e+00,  1.16238751e+00,  1.19380250e+00,  1.22521748e+00,\n",
       "         1.25663247e+00,  1.28804746e+00,  1.31946244e+00,  1.35087743e+00,\n",
       "         1.38229241e+00,  1.41370740e+00,  1.44512238e+00,  1.47653737e+00,\n",
       "         1.50795235e+00,  1.53936734e+00,  1.57078233e+00,  1.60219731e+00,\n",
       "         1.63361230e+00,  1.66502728e+00,  1.69644227e+00,  1.72785725e+00,\n",
       "         1.75927224e+00,  1.79068722e+00,  1.82210221e+00,  1.85351719e+00,\n",
       "         1.88493218e+00,  1.91634717e+00,  1.94776215e+00,  1.97917714e+00,\n",
       "         2.01059212e+00,  2.04200711e+00,  2.07342209e+00,  2.10483708e+00,\n",
       "         2.13625206e+00,  2.16766705e+00,  2.19908204e+00,  2.23049702e+00,\n",
       "         2.26191201e+00,  2.29332699e+00,  2.32474198e+00,  2.35615696e+00,\n",
       "         2.38757195e+00,  2.41898693e+00,  2.45040192e+00,  2.48181690e+00,\n",
       "         2.51323189e+00,  2.54464688e+00,  2.57606186e+00,  2.60747685e+00,\n",
       "         2.63889183e+00,  2.67030682e+00,  2.70172180e+00,  2.73313679e+00,\n",
       "         2.76455177e+00,  2.79596676e+00,  2.82738175e+00,  2.85879673e+00,\n",
       "         2.89021172e+00,  2.92162670e+00,  2.95304169e+00,  2.98445667e+00,\n",
       "         3.01587166e+00,  3.04728664e+00,  3.07870163e+00,  3.11011661e+00,\n",
       "         3.14153160e+00]),\n",
       " array([-3.14144230e+00, -3.11002792e+00, -3.07861354e+00, -3.04719915e+00,\n",
       "        -3.01578477e+00, -2.98437038e+00, -2.95295600e+00, -2.92154162e+00,\n",
       "        -2.89012723e+00, -2.85871285e+00, -2.82729846e+00, -2.79588408e+00,\n",
       "        -2.76446970e+00, -2.73305531e+00, -2.70164093e+00, -2.67022654e+00,\n",
       "        -2.63881216e+00, -2.60739778e+00, -2.57598339e+00, -2.54456901e+00,\n",
       "        -2.51315462e+00, -2.48174024e+00, -2.45032586e+00, -2.41891147e+00,\n",
       "        -2.38749709e+00, -2.35608270e+00, -2.32466832e+00, -2.29325394e+00,\n",
       "        -2.26183955e+00, -2.23042517e+00, -2.19901078e+00, -2.16759640e+00,\n",
       "        -2.13618202e+00, -2.10476763e+00, -2.07335325e+00, -2.04193886e+00,\n",
       "        -2.01052448e+00, -1.97911009e+00, -1.94769571e+00, -1.91628133e+00,\n",
       "        -1.88486694e+00, -1.85345256e+00, -1.82203817e+00, -1.79062379e+00,\n",
       "        -1.75920941e+00, -1.72779502e+00, -1.69638064e+00, -1.66496625e+00,\n",
       "        -1.63355187e+00, -1.60213749e+00, -1.57072310e+00, -1.53930872e+00,\n",
       "        -1.50789433e+00, -1.47647995e+00, -1.44506557e+00, -1.41365118e+00,\n",
       "        -1.38223680e+00, -1.35082241e+00, -1.31940803e+00, -1.28799365e+00,\n",
       "        -1.25657926e+00, -1.22516488e+00, -1.19375049e+00, -1.16233611e+00,\n",
       "        -1.13092173e+00, -1.09950734e+00, -1.06809296e+00, -1.03667857e+00,\n",
       "        -1.00526419e+00, -9.73849806e-01, -9.42435422e-01, -9.11021038e-01,\n",
       "        -8.79606654e-01, -8.48192270e-01, -8.16777886e-01, -7.85363502e-01,\n",
       "        -7.53949118e-01, -7.22534734e-01, -6.91120350e-01, -6.59705966e-01,\n",
       "        -6.28291582e-01, -5.96877198e-01, -5.65462814e-01, -5.34048430e-01,\n",
       "        -5.02634046e-01, -4.71219661e-01, -4.39805277e-01, -4.08390893e-01,\n",
       "        -3.76976509e-01, -3.45562125e-01, -3.14147741e-01, -2.82733357e-01,\n",
       "        -2.51318973e-01, -2.19904589e-01, -1.88490205e-01, -1.57075821e-01,\n",
       "        -1.25661437e-01, -9.42470531e-02, -6.28326691e-02, -3.14182851e-02,\n",
       "        -3.90104151e-06,  3.14104830e-02,  6.28248670e-02,  9.42392510e-02,\n",
       "         1.25653635e-01,  1.57068019e-01,  1.88482403e-01,  2.19896787e-01,\n",
       "         2.51311171e-01,  2.82725555e-01,  3.14139939e-01,  3.45554323e-01,\n",
       "         3.76968707e-01,  4.08383091e-01,  4.39797475e-01,  4.71211859e-01,\n",
       "         5.02626243e-01,  5.34040627e-01,  5.65455011e-01,  5.96869396e-01,\n",
       "         6.28283780e-01,  6.59698164e-01,  6.91112548e-01,  7.22526932e-01,\n",
       "         7.53941316e-01,  7.85355700e-01,  8.16770084e-01,  8.48184468e-01,\n",
       "         8.79598852e-01,  9.11013236e-01,  9.42427620e-01,  9.73842004e-01,\n",
       "         1.00525639e+00,  1.03667077e+00,  1.06808516e+00,  1.09949954e+00,\n",
       "         1.13091392e+00,  1.16232831e+00,  1.19374269e+00,  1.22515708e+00,\n",
       "         1.25657146e+00,  1.28798584e+00,  1.31940023e+00,  1.35081461e+00,\n",
       "         1.38222900e+00,  1.41364338e+00,  1.44505776e+00,  1.47647215e+00,\n",
       "         1.50788653e+00,  1.53930092e+00,  1.57071530e+00,  1.60212968e+00,\n",
       "         1.63354407e+00,  1.66495845e+00,  1.69637284e+00,  1.72778722e+00,\n",
       "         1.75920160e+00,  1.79061599e+00,  1.82203037e+00,  1.85344476e+00,\n",
       "         1.88485914e+00,  1.91627352e+00,  1.94768791e+00,  1.97910229e+00,\n",
       "         2.01051668e+00,  2.04193106e+00,  2.07334544e+00,  2.10475983e+00,\n",
       "         2.13617421e+00,  2.16758860e+00,  2.19900298e+00,  2.23041737e+00,\n",
       "         2.26183175e+00,  2.29324613e+00,  2.32466052e+00,  2.35607490e+00,\n",
       "         2.38748929e+00,  2.41890367e+00,  2.45031805e+00,  2.48173244e+00,\n",
       "         2.51314682e+00,  2.54456121e+00,  2.57597559e+00,  2.60738997e+00,\n",
       "         2.63880436e+00,  2.67021874e+00,  2.70163313e+00,  2.73304751e+00,\n",
       "         2.76446189e+00,  2.79587628e+00,  2.82729066e+00,  2.85870505e+00,\n",
       "         2.89011943e+00,  2.92153381e+00,  2.95294820e+00,  2.98436258e+00,\n",
       "         3.01577697e+00,  3.04719135e+00,  3.07860573e+00,  3.11002012e+00,\n",
       "         3.14143450e+00]),\n",
       " <matplotlib.collections.QuadMesh at 0x18df969e608>)"
      ]
     },
     "execution_count": 91,
     "metadata": {},
     "output_type": "execute_result"
    }
   ],
   "source": [
    "plt.hist2d(phasex,phasey,200)"
   ]
  },
  {
   "cell_type": "code",
   "execution_count": null,
   "metadata": {},
   "outputs": [],
   "source": []
  }
 ],
 "metadata": {
  "kernelspec": {
   "display_name": "base",
   "language": "python",
   "name": "python3"
  },
  "language_info": {
   "codemirror_mode": {
    "name": "ipython",
    "version": 3
   },
   "file_extension": ".py",
   "mimetype": "text/x-python",
   "name": "python",
   "nbconvert_exporter": "python",
   "pygments_lexer": "ipython3",
   "version": "3.9.7"
  },
  "vscode": {
   "interpreter": {
    "hash": "dc93b3fb48dfd2593d4a40b397dc62a97606514bfa701f6565ff70ef36514844"
   }
  }
 },
 "nbformat": 4,
 "nbformat_minor": 4
}
