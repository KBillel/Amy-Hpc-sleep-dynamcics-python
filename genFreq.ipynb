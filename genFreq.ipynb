{
 "cells": [
  {
   "cell_type": "code",
   "execution_count": 1,
   "metadata": {},
   "outputs": [],
   "source": [
    "import numpy as np"
   ]
  },
  {
   "cell_type": "code",
   "execution_count": 16,
   "metadata": {},
   "outputs": [],
   "source": [
    "freqs = np.linspace(4,150,50)\n",
    "delta = np.zeros_like(freqs)\n",
    "\n",
    "\n",
    "for i,f in enumerate(freqs):\n",
    "    if f < 8:\n",
    "        delta[i] = 4\n",
    "    elif f>8 and f<20:\n",
    "        delta[i] = 4+(f-8) * 1/2\n",
    "    elif f>20 and f<45:\n",
    "        delta[i] = 10 + (f-20) * 2/5\n",
    "    else:\n",
    "        delta[i] = 20\n",
    "\n",
    "fmin = freqs - delta/2\n",
    "fmax = freqs +delta/2"
   ]
  },
  {
   "cell_type": "code",
   "execution_count": 20,
   "metadata": {},
   "outputs": [
    {
     "data": {
      "text/plain": [
       "array([  4.        ,   6.97959184,   9.95918367,  12.93877551,\n",
       "        15.91836735,  18.89795918,  21.87755102,  24.85714286,\n",
       "        27.83673469,  30.81632653,  33.79591837,  36.7755102 ,\n",
       "        39.75510204,  42.73469388,  45.71428571,  48.69387755,\n",
       "        51.67346939,  54.65306122,  57.63265306,  60.6122449 ,\n",
       "        63.59183673,  66.57142857,  69.55102041,  72.53061224,\n",
       "        75.51020408,  78.48979592,  81.46938776,  84.44897959,\n",
       "        87.42857143,  90.40816327,  93.3877551 ,  96.36734694,\n",
       "        99.34693878, 102.32653061, 105.30612245, 108.28571429,\n",
       "       111.26530612, 114.24489796, 117.2244898 , 120.20408163,\n",
       "       123.18367347, 126.16326531, 129.14285714, 132.12244898,\n",
       "       135.10204082, 138.08163265, 141.06122449, 144.04081633,\n",
       "       147.02040816, 150.        ])"
      ]
     },
     "execution_count": 20,
     "metadata": {},
     "output_type": "execute_result"
    }
   ],
   "source": [
    "freqs"
   ]
  },
  {
   "cell_type": "code",
   "execution_count": 18,
   "metadata": {},
   "outputs": [],
   "source": []
  },
  {
   "cell_type": "code",
   "execution_count": 19,
   "metadata": {},
   "outputs": [
    {
     "name": "stdout",
     "output_type": "stream",
     "text": [
      "(2.0, 6.0)\n",
      "(4.979591836734694, 8.979591836734695)\n",
      "(7.469387755102041, 12.448979591836736)\n",
      "(9.704081632653061, 16.1734693877551)\n",
      "(11.938775510204081, 19.89795918367347)\n",
      "(14.173469387755103, 23.622448979591837)\n",
      "(16.50204081632653, 27.253061224489795)\n",
      "(18.885714285714286, 30.82857142857143)\n",
      "(21.26938775510204, 34.40408163265306)\n",
      "(23.653061224489797, 37.9795918367347)\n",
      "(26.036734693877555, 41.55510204081633)\n",
      "(28.420408163265307, 45.13061224489796)\n",
      "(30.80408163265306, 48.70612244897959)\n",
      "(33.18775510204082, 52.28163265306123)\n",
      "(35.714285714285715, 55.714285714285715)\n",
      "(38.693877551020414, 58.693877551020414)\n",
      "(41.673469387755105, 61.673469387755105)\n",
      "(44.6530612244898, 64.65306122448979)\n",
      "(47.632653061224495, 67.63265306122449)\n",
      "(50.61224489795919, 70.61224489795919)\n",
      "(53.591836734693885, 73.59183673469389)\n",
      "(56.571428571428584, 76.57142857142858)\n",
      "(59.55102040816327, 79.55102040816327)\n",
      "(62.530612244897966, 82.53061224489797)\n",
      "(65.51020408163265, 85.51020408163265)\n",
      "(68.48979591836735, 88.48979591836735)\n",
      "(71.46938775510205, 91.46938775510205)\n",
      "(74.44897959183675, 94.44897959183675)\n",
      "(77.42857142857143, 97.42857142857143)\n",
      "(80.40816326530613, 100.40816326530613)\n",
      "(83.38775510204083, 103.38775510204083)\n",
      "(86.36734693877551, 106.36734693877551)\n",
      "(89.34693877551021, 109.34693877551021)\n",
      "(92.32653061224491, 112.32653061224491)\n",
      "(95.3061224489796, 115.3061224489796)\n",
      "(98.28571428571429, 118.28571428571429)\n",
      "(101.26530612244899, 121.26530612244899)\n",
      "(104.24489795918367, 124.24489795918367)\n",
      "(107.22448979591837, 127.22448979591837)\n",
      "(110.20408163265307, 130.20408163265307)\n",
      "(113.18367346938777, 133.18367346938777)\n",
      "(116.16326530612245, 136.16326530612247)\n",
      "(119.14285714285717, 139.14285714285717)\n",
      "(122.12244897959184, 142.12244897959184)\n",
      "(125.10204081632654, 145.10204081632654)\n",
      "(128.08163265306123, 148.08163265306123)\n",
      "(131.06122448979593, 151.06122448979593)\n",
      "(134.04081632653063, 154.04081632653063)\n",
      "(137.0204081632653, 157.0204081632653)\n",
      "(140.0, 160.0)\n"
     ]
    }
   ],
   "source": [
    "for f in zip(fmin,fmax): print(f)"
   ]
  },
  {
   "cell_type": "code",
   "execution_count": 2,
   "metadata": {},
   "outputs": [],
   "source": [
    "from tqdm import tqdm"
   ]
  },
  {
   "cell_type": "code",
   "execution_count": 3,
   "metadata": {},
   "outputs": [],
   "source": [
    "from time import sleep"
   ]
  },
  {
   "cell_type": "code",
   "execution_count": 5,
   "metadata": {},
   "outputs": [
    {
     "name": "stderr",
     "output_type": "stream",
     "text": [
      "outer:   7%|▋         | 2/30 [00:09<02:07,  4.55s/it]\n"
     ]
    },
    {
     "ename": "KeyboardInterrupt",
     "evalue": "",
     "output_type": "error",
     "traceback": [
      "\u001b[0;31m---------------------------------------------------------------------------\u001b[0m",
      "\u001b[0;31mKeyboardInterrupt\u001b[0m                         Traceback (most recent call last)",
      "\u001b[0;32m/tmp/ipykernel_308301/828403325.py\u001b[0m in \u001b[0;36m<module>\u001b[0;34m\u001b[0m\n\u001b[1;32m      1\u001b[0m \u001b[0;32mfor\u001b[0m \u001b[0mr\u001b[0m \u001b[0;32min\u001b[0m \u001b[0mtqdm\u001b[0m\u001b[0;34m(\u001b[0m\u001b[0mrange\u001b[0m\u001b[0;34m(\u001b[0m\u001b[0;36m30\u001b[0m\u001b[0;34m)\u001b[0m\u001b[0;34m,\u001b[0m\u001b[0mposition\u001b[0m\u001b[0;34m=\u001b[0m\u001b[0;36m0\u001b[0m\u001b[0;34m,\u001b[0m\u001b[0mdesc\u001b[0m \u001b[0;34m=\u001b[0m \u001b[0;34m'outer'\u001b[0m\u001b[0;34m,\u001b[0m\u001b[0;34m)\u001b[0m\u001b[0;34m:\u001b[0m\u001b[0;34m\u001b[0m\u001b[0;34m\u001b[0m\u001b[0m\n\u001b[1;32m      2\u001b[0m     \u001b[0;32mfor\u001b[0m \u001b[0mb\u001b[0m \u001b[0;32min\u001b[0m \u001b[0mtqdm\u001b[0m\u001b[0;34m(\u001b[0m\u001b[0mrange\u001b[0m\u001b[0;34m(\u001b[0m\u001b[0;36m30\u001b[0m\u001b[0;34m)\u001b[0m\u001b[0;34m,\u001b[0m\u001b[0mposition\u001b[0m\u001b[0;34m=\u001b[0m\u001b[0;36m1\u001b[0m\u001b[0;34m,\u001b[0m\u001b[0mdesc\u001b[0m\u001b[0;34m=\u001b[0m\u001b[0;34m'inner'\u001b[0m\u001b[0;34m,\u001b[0m\u001b[0mleave\u001b[0m \u001b[0;34m=\u001b[0m \u001b[0;32mFalse\u001b[0m\u001b[0;34m,\u001b[0m\u001b[0mdelay\u001b[0m\u001b[0;34m=\u001b[0m\u001b[0;36m0\u001b[0m\u001b[0;34m)\u001b[0m\u001b[0;34m:\u001b[0m\u001b[0;34m\u001b[0m\u001b[0;34m\u001b[0m\u001b[0m\n\u001b[0;32m----> 3\u001b[0;31m         \u001b[0msleep\u001b[0m\u001b[0;34m(\u001b[0m\u001b[0;36m0.1\u001b[0m\u001b[0;34m)\u001b[0m\u001b[0;34m\u001b[0m\u001b[0;34m\u001b[0m\u001b[0m\n\u001b[0m\u001b[1;32m      4\u001b[0m \u001b[0;34m\u001b[0m\u001b[0m\n",
      "\u001b[0;31mKeyboardInterrupt\u001b[0m: "
     ]
    }
   ],
   "source": [
    "for r in tqdm(range(30),position=0,desc = 'outer',):\n",
    "    for b in tqdm(range(30),position=1,desc='inner',leave = False,delay=0):\n",
    "        sleep(0.1)\n",
    "        \n"
   ]
  },
  {
   "cell_type": "code",
   "execution_count": 12,
   "metadata": {},
   "outputs": [],
   "source": [
    "from tqdm import tqdm\n",
    "from time import sleep"
   ]
  },
  {
   "cell_type": "code",
   "execution_count": 13,
   "metadata": {},
   "outputs": [
    {
     "name": "stderr",
     "output_type": "stream",
     "text": [
      "sleeping:   0%|          | 0/20 [00:00<?, ?it/s]"
     ]
    }
   ],
   "source": [
    "sleeping = tqdm(range(20), desc = 'sleeping')\n",
    "outside =  tqdm(range(15), desc = 'inside', leave = False)"
   ]
  },
  {
   "cell_type": "code",
   "execution_count": 14,
   "metadata": {},
   "outputs": [
    {
     "name": "stderr",
     "output_type": "stream",
     "text": [
      "sleeping: 100%|██████████| 20/20 [00:30<00:00,  1.52s/it]\n"
     ]
    }
   ],
   "source": [
    "\n",
    "for i in sleeping:\n",
    "     for j in outside:\n",
    "        sleep(.1)\n",
    "        outside.update()\n"
   ]
  },
  {
   "cell_type": "code",
   "execution_count": null,
   "metadata": {},
   "outputs": [],
   "source": []
  }
 ],
 "metadata": {
  "kernelspec": {
   "display_name": "Python 3.9.7 ('base')",
   "language": "python",
   "name": "python3"
  },
  "language_info": {
   "codemirror_mode": {
    "name": "ipython",
    "version": 3
   },
   "file_extension": ".py",
   "mimetype": "text/x-python",
   "name": "python",
   "nbconvert_exporter": "python",
   "pygments_lexer": "ipython3",
   "version": "3.9.7"
  },
  "orig_nbformat": 4,
  "vscode": {
   "interpreter": {
    "hash": "dc93b3fb48dfd2593d4a40b397dc62a97606514bfa701f6565ff70ef36514844"
   }
  }
 },
 "nbformat": 4,
 "nbformat_minor": 2
}
