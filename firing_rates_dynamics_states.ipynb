{
 "cells": [
  {
   "cell_type": "code",
   "execution_count": 1,
   "metadata": {},
   "outputs": [],
   "source": [
    "import bk.load\n",
    "import bk.compute\n",
    "\n",
    "import pandas as pd\n",
    "import numpy as np\n",
    "import matplotlib.pyplot as plt\n",
    "\n",
    "import neuroseries as nts\n",
    "\n",
    "from scipy.stats import zscore\n",
    "from tqdm import tqdm"
   ]
  },
  {
   "cell_type": "code",
   "execution_count": 2,
   "metadata": {},
   "outputs": [],
   "source": [
    "def firing_rates_intervals(neurons,intervals,nbins):\n",
    "    intervals_activity_matrix = []\n",
    "    for s,e in tqdm(intervals.as_units('s').iloc(),total = len(intervals)):\n",
    "        inter = nts.IntervalSet(s,e,time_units='s')\n",
    "        bin_size = inter.duration(time_units='s')/nbins\n",
    "        t,binned = bk.compute.binSpikes(neurons,start = s,stop = e,nbins = nbins)\n",
    "        binned = binned/bin_size\n",
    "\n",
    "        intervals_activity_matrix.append(binned)\n",
    "    return np.mean(intervals_activity_matrix,0)\n",
    "\n",
    "def mean_firing_rates_intervals(neurons,intervals,name = None):\n",
    "    firing_rates = []\n",
    "    for n in neurons:\n",
    "        fr = len(n.restrict(intervals))/intervals.tot_length(time_units = 's')\n",
    "        firing_rates.append(fr)\n",
    "    if name is None: name = 'FR'   \n",
    "    firing_rates = pd.DataFrame(firing_rates,columns=[name])\n",
    "    return firing_rates"
   ]
  },
  {
   "cell_type": "code",
   "execution_count": 3,
   "metadata": {},
   "outputs": [],
   "source": [
    "def main(base_folder, local_path, *args, **kwargs):  \n",
    "    bk.load.current_session_linux(base_folder=base_folder,local_path=local_path)\n",
    "    neurons,metadata = bk.load.spikes()\n",
    "    states = bk.load.states()\n",
    "    sleep = states['Rem'].union(states['sws'])\n",
    "\n",
    "    for s in ['wake','drowsy']: states.pop(s)\n",
    "\n",
    "    all_average_firing = {}\n",
    "    for k,state in states.items():\n",
    "        all_average_firing.update({k:firing_rates_intervals(neurons,state,kwargs['nbins'][k])})\n",
    "\n",
    "    fr = mean_firing_rates_intervals(neurons,sleep,'FR_sleep')\n",
    "    metadata = pd.concat((metadata,fr),1)\n",
    "    return all_average_firing,metadata\n",
    "\n",
    "def merging(batch_output):\n",
    "    states_activity = {'Rem':[],\n",
    "                        'sws':[],\n",
    "                        'wake_homecage':[]}\n",
    "    metadata = pd.DataFrame()\n",
    "    for k,b in batch_output.items():\n",
    "        metadata = pd.concat((metadata,b[1]))\n",
    "\n",
    "        for kk,state_activity in b[0].items():\n",
    "            states_activity[kk].append(state_activity)\n",
    "    \n",
    "    for k,state_activity in states_activity.items():\n",
    "        states_activity[k] = np.vstack(state_activity)\n",
    "    return states_activity,metadata\n",
    "\n",
    "def plot(activity,metadata,norm = True,order = None,quintile = False,ax = None):\n",
    "\n",
    "    if norm:\n",
    "        activity = zscore(activity,1)\n",
    "    if order == 'fr':\n",
    "        order = np.argsort(metadata.FR_sleep)\n",
    "        activity = activity[order,:]\n",
    "        metadata = metadata.iloc[order]\n",
    "\n",
    "\n",
    "    if ax is None: fig, ax = plt.subplots(1,2)\n",
    "    ax[0].imshow(activity,aspect = 'auto',interpolation = 'None')\n",
    "    if quintile:\n",
    "        labels = ['Very Low','Low','Medium','High','Very High']\n",
    "        labels_neurons = pd.qcut(metadata.FR_sleep,5,labels = labels)\n",
    "        for label in labels:\n",
    "            ax[1].plot(np.nanmean(activity[labels_neurons == label,:],0))\n",
    "            ax[1].legend(labels)\n",
    "    else:\n",
    "        ax[1].plot(np.nanmean(activity,0),'k--')    \n",
    "    ax[1].set_ylim(-1,1)\n"
   ]
  },
  {
   "cell_type": "code",
   "execution_count": 4,
   "metadata": {},
   "outputs": [
    {
     "name": "stderr",
     "output_type": "stream",
     "text": [
      "100%|██████████| 61/61 [04:08<00:00,  4.07s/it]"
     ]
    },
    {
     "name": "stdout",
     "output_type": "stream",
     "text": [
      "Batch finished in 248.15912222862244\n",
      "Some session were not processed correctly\n",
      "['Rat08-20130720', 'Rat08-20130722', 'Rat09-20140407', 'Rat09-20140408', 'Rat09-20140409', 'Rat11-20150402', 'Rat11-20150403']\n",
      "11.475409836065573 %\n"
     ]
    },
    {
     "name": "stderr",
     "output_type": "stream",
     "text": [
      "\n"
     ]
    }
   ],
   "source": [
    "kwargs = {'nbins':\n",
    "         {\n",
    "             'Rem':60,\n",
    "             'sws':60,\n",
    "             'wake_homecage':60\n",
    "         }}\n",
    "batch_output_60 = bk.load.batch(main,**kwargs)\n",
    "states_activity,metadata = merging(batch_output_60)"
   ]
  },
  {
   "cell_type": "code",
   "execution_count": 9,
   "metadata": {},
   "outputs": [],
   "source": [
    "%matplotlib qt\n",
    "# metadata.Type[metadata.Region == 'CeCM'] = 'Int'\n",
    "for stru in np.unique(['Hpc','BLA']):\n",
    "    fig,ax = plt.subplots(3,3,gridspec_kw = {'height_ratios':[4,1,5]},figsize =(16,9),dpi = 300)\n",
    "    for i,state in enumerate(['sws','Rem','wake_homecage']):\n",
    "        mask_pyr = (metadata.Region == stru) & (metadata.Type == 'Pyr') \n",
    "        mask_int = (metadata.Region == stru) & (metadata.Type == 'Int') \n",
    "        if np.any(mask_pyr):\n",
    "            plot(states_activity[state][mask_pyr],metadata[mask_pyr],\n",
    "                norm = True,\n",
    "                order = 'fr',\n",
    "                quintile = True,\n",
    "                ax = [ax[0,i],ax[2,i]])\n",
    "        if np.any(mask_int):\n",
    "            plot(states_activity[state][mask_int],metadata[mask_int],\n",
    "                norm = True,\n",
    "                order = 'fr',\n",
    "                quintile = False,\n",
    "                ax = [ax[1,i],ax[2,i]])\n",
    "\n",
    "        plt.suptitle(f'{stru} ordered - zScored')\n",
    "        plt.sca(ax[0,i])\n",
    "        plt.title(f'{state}')\n",
    "    plt.savefig(f'/home/billel/pCloudDrive/IFM/work/Figures/Figures_Gabrielle/states/dynamic/{stru}.svg')\n",
    "    plt.savefig(f'/home/billel/pCloudDrive/IFM/work/Figures/Figures_Gabrielle/states/dynamic/{stru}.png')\n",
    "\n"
   ]
  },
  {
   "cell_type": "code",
   "execution_count": null,
   "metadata": {},
   "outputs": [],
   "source": []
  }
 ],
 "metadata": {
  "interpreter": {
   "hash": "dc93b3fb48dfd2593d4a40b397dc62a97606514bfa701f6565ff70ef36514844"
  },
  "kernelspec": {
   "display_name": "Python 3.9.7 ('base')",
   "language": "python",
   "name": "python3"
  },
  "language_info": {
   "codemirror_mode": {
    "name": "ipython",
    "version": 3
   },
   "file_extension": ".py",
   "mimetype": "text/x-python",
   "name": "python",
   "nbconvert_exporter": "python",
   "pygments_lexer": "ipython3",
   "version": "3.9.7"
  },
  "orig_nbformat": 4
 },
 "nbformat": 4,
 "nbformat_minor": 2
}
