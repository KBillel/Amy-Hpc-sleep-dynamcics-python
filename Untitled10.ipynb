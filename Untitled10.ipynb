{
 "cells": [
  {
   "cell_type": "code",
   "execution_count": 6,
   "id": "9d4ec577-ac43-4f88-87a3-ac2ca1e7fcd6",
   "metadata": {},
   "outputs": [],
   "source": [
    "import bk.load\n",
    "import bk.compute\n",
    "\n",
    "import numpy as np"
   ]
  },
  {
   "cell_type": "code",
   "execution_count": 2,
   "id": "29e2d4d3-6fd9-42a7-b47c-98d6e628111d",
   "metadata": {},
   "outputs": [],
   "source": [
    "a = bk.load.current_session_linux"
   ]
  },
  {
   "cell_type": "code",
   "execution_count": 3,
   "id": "c8deddcd-c3b7-4058-9871-7c3fdaba77ee",
   "metadata": {},
   "outputs": [
    {
     "data": {
      "text/plain": [
       "<function bk.load.current_session_linux(base_folder='/home/billel/Data/GG-Dataset/', local_path='Rat08/Rat08-20130713')>"
      ]
     },
     "execution_count": 3,
     "metadata": {},
     "output_type": "execute_result"
    }
   ],
   "source": [
    "a"
   ]
  },
  {
   "cell_type": "code",
   "execution_count": 13,
   "id": "f25b3298-7694-4629-a5f9-13e9d4b8e38b",
   "metadata": {},
   "outputs": [],
   "source": [
    "def ma_function(variable,func):\n",
    "    print(func(variable))"
   ]
  },
  {
   "cell_type": "code",
   "execution_count": 14,
   "id": "e303e78b-cd05-4094-8072-e7dedf848e3a",
   "metadata": {},
   "outputs": [],
   "source": [
    "def main(i):\n",
    "    if i == 'rand':\n",
    "        fun = np.random.rand\n",
    "    elif i == 'zeros':\n",
    "        fun = np.zeros\n",
    "\n",
    "    ma_function(5,fun)"
   ]
  },
  {
   "cell_type": "code",
   "execution_count": 15,
   "id": "4cb255b1-3605-4110-b513-774c9ee3f7e1",
   "metadata": {},
   "outputs": [
    {
     "name": "stdout",
     "output_type": "stream",
     "text": [
      "[0.56929557 0.41361638 0.96104831 0.98166887 0.25533214]\n"
     ]
    }
   ],
   "source": [
    "main('rand')"
   ]
  },
  {
   "cell_type": "code",
   "execution_count": 17,
   "id": "90540eed-202c-40b5-8777-efc880de059b",
   "metadata": {},
   "outputs": [
    {
     "name": "stdout",
     "output_type": "stream",
     "text": [
      "[0. 0. 0. 0. 0.]\n"
     ]
    }
   ],
   "source": [
    "main('zeros')"
   ]
  },
  {
   "cell_type": "code",
   "execution_count": null,
   "id": "126b1417-4b03-40f1-b084-b1023f2c0bc1",
   "metadata": {},
   "outputs": [],
   "source": []
  }
 ],
 "metadata": {
  "kernelspec": {
   "display_name": "Python 3",
   "language": "python",
   "name": "python3"
  },
  "language_info": {
   "codemirror_mode": {
    "name": "ipython",
    "version": 3
   },
   "file_extension": ".py",
   "mimetype": "text/x-python",
   "name": "python",
   "nbconvert_exporter": "python",
   "pygments_lexer": "ipython3",
   "version": "3.7.9"
  }
 },
 "nbformat": 4,
 "nbformat_minor": 5
}
