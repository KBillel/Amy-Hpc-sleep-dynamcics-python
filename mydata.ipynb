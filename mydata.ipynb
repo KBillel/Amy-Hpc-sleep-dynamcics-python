{
 "cells": [
  {
   "cell_type": "code",
   "execution_count": 3,
   "metadata": {},
   "outputs": [],
   "source": [
    "import bk.load\n",
    "import bk.compute\n",
    "import matplotlib.pyplot as plt\n",
    "\n",
    "import scipy.signal\n",
    "import numpy as np\n",
    "\n",
    "import bk.signal\n",
    "import bk.compute\n",
    "import bk.plot\n",
    "\n",
    "import neuroseries as nts"
   ]
  },
  {
   "cell_type": "code",
   "execution_count": 4,
   "metadata": {},
   "outputs": [
    {
     "name": "stdout",
     "output_type": "stream",
     "text": [
      "Rat : 91 on day : 3\n",
      "Working with session Rat95-20220411 @ /mnt/electrophy/Billel/BK-Dataset/ePhys/Rat95/Rat95-20220411\n"
     ]
    },
    {
     "data": {
      "text/plain": [
       "True"
      ]
     },
     "execution_count": 4,
     "metadata": {},
     "output_type": "execute_result"
    }
   ],
   "source": [
    "bk.load.current_session_linux('/mnt/electrophy/Billel/BK-Dataset/ePhys/','Rat95/Rat95-20220411')"
   ]
  },
  {
   "cell_type": "code",
   "execution_count": 5,
   "metadata": {},
   "outputs": [],
   "source": [
    "TTL = bk.load.digitalin(0)"
   ]
  },
  {
   "cell_type": "code",
   "execution_count": 8,
   "metadata": {},
   "outputs": [
    {
     "data": {
      "text/plain": [
       "array([0.00000e+00, 5.00000e-05, 1.00000e-04, ..., 4.99985e+00,\n",
       "       4.99990e+00, 4.99995e+00])"
      ]
     },
     "execution_count": 8,
     "metadata": {},
     "output_type": "execute_result"
    }
   ],
   "source": [
    "np.arange(0,5,1/20000)"
   ]
  },
  {
   "cell_type": "code",
   "execution_count": 13,
   "metadata": {},
   "outputs": [
    {
     "data": {
      "text/plain": [
       "[<matplotlib.lines.Line2D at 0x7faf20d32400>]"
      ]
     },
     "execution_count": 13,
     "metadata": {},
     "output_type": "execute_result"
    }
   ],
   "source": [
    "%matplotlib qt\n",
    "t = np.arange(0,len(TTL)/20_000,1/20_000)\n",
    "plt.plot(t,TTL)"
   ]
  },
  {
   "cell_type": "code",
   "execution_count": 36,
   "metadata": {},
   "outputs": [
    {
     "name": "stdout",
     "output_type": "stream",
     "text": [
      "Rat : 51 on day : 19\n",
      "Working with session Rat51-20211202 @ /mnt/electrophy/Billel/BK-Dataset/Rat51/Rat51-20211202\n"
     ]
    },
    {
     "data": {
      "text/plain": [
       "True"
      ]
     },
     "execution_count": 36,
     "metadata": {},
     "output_type": "execute_result"
    }
   ],
   "source": [
    "bk.load.current_session_linux('/mnt/electrophy/Billel/BK-Dataset/','Rat51/Rat51-20211202')"
   ]
  },
  {
   "cell_type": "code",
   "execution_count": 2,
   "metadata": {},
   "outputs": [
    {
     "name": "stdout",
     "output_type": "stream",
     "text": [
      "Rat : 51 on day : 21\n",
      "Working with session Rat51-20211208 @ /mnt/electrophy/Billel/BK-Dataset/Rat51/Rat51-20211208\n"
     ]
    },
    {
     "data": {
      "text/plain": [
       "True"
      ]
     },
     "execution_count": 2,
     "metadata": {},
     "output_type": "execute_result"
    }
   ],
   "source": [
    "bk.load.current_session_linux('/mnt/electrophy/Billel/BK-Dataset/','Rat51/Rat51-20211208')"
   ]
  },
  {
   "cell_type": "code",
   "execution_count": 3,
   "metadata": {},
   "outputs": [
    {
     "name": "stdout",
     "output_type": "stream",
     "text": [
      "/!\\ memmap is not compatible with volt_step /!\\ \n",
      "/!\\ memmap is not compatible with volt_step /!\\ \n",
      "/!\\ memmap is not compatible with volt_step /!\\ \n"
     ]
    }
   ],
   "source": [
    "data = bk.load.digitalin(4)\n",
    "stim = bk.compute.tone_intervals(data)\n",
    "data = data[::20_000]\n",
    "lfp = bk.load.lfp(1)\n",
    "acc = []\n",
    "for i in range(32,35):\n",
    "    acc.append(bk.load.lfp(i,memmap=True))\n",
    "motion = np.linalg.norm(acc,axis = 0)\n",
    "acc = bk.load.lfp(34)\n",
    "\n",
    "# lfp_stim = lfp.restrict(stim)\n",
    "# np.save('lfpstim.npy',lfp_stim)"
   ]
  },
  {
   "cell_type": "code",
   "execution_count": 4,
   "metadata": {},
   "outputs": [],
   "source": [
    "f, t, sxx = scipy.signal.spectrogram(\n",
    "    lfp, 1250, nperseg=1250*5, noverlap=1250*0)\n",
    "\n",
    "f_delta = f<4\n",
    "f_theta = (f>7) * (f<10)\n",
    "\n",
    "r =  np.mean(sxx[f_theta,:],0)/np.mean(sxx[f_delta,:],0)\n",
    "t_r = np.arange(0,len(r))\n",
    "r = nts.Tsd(t,r,time_units='s')\n",
    "# r_sm = bk.compute.nts_smooth(r,10,10)\n",
    "r_sm = r"
   ]
  },
  {
   "cell_type": "code",
   "execution_count": 5,
   "metadata": {},
   "outputs": [
    {
     "name": "stderr",
     "output_type": "stream",
     "text": [
      "/tmp/ipykernel_1275230/3302408814.py:2: MatplotlibDeprecationWarning: Passing the sharex parameter of subplots() positionally is deprecated since Matplotlib 3.3; the parameter will become keyword-only two minor releases later.\n",
      "  fig,ax = plt.subplots(3,1,True)\n"
     ]
    }
   ],
   "source": [
    "%matplotlib qt\n",
    "fig,ax = plt.subplots(3,1,True)\n",
    "ax[0].pcolormesh(t,f,np.log(sxx),shading = 'auto',vmin = 1,vmax = 8,rasterized = True)\n",
    "\n",
    "\n",
    "\n",
    "ax[0].set_ylim(0,60)\n",
    "a = ax[0].twinx()\n",
    "a.plot(r_sm.as_units('s'),'white')\n",
    "a.set_ylim(-5,20)\n",
    "plt.sca(ax[1])\n",
    "ax[1].plot(lfp.as_units('s'))\n",
    "bk.plot.intervals(stim)\n",
    "\n",
    "ax[1].set_ylim(-750,750)\n",
    "\n",
    "# ax[2].plot(acc.as_units('s'))\n",
    "ax[2].plot(acc.as_units('s').index,motion,color = 'red')\n",
    "\n",
    "plt.suptitle(bk.load.session)\n",
    "plt.tight_layout()\n",
    "# plt.plot(r,'white')"
   ]
  },
  {
   "cell_type": "code",
   "execution_count": 55,
   "metadata": {},
   "outputs": [],
   "source": [
    "bite = []\n",
    "for i,j,k in os.walk('/mnt/electrophy/Billel/BK-Dataset/Rat51/Rat51-20211208/'):\n",
    "    if not j:\n",
    "        for l in k:\n",
    "            if l == 'amplifier.dat':\n",
    "                bite.append(os.path.getsize(os.path.join(i,l)))"
   ]
  },
  {
   "cell_type": "code",
   "execution_count": 56,
   "metadata": {},
   "outputs": [
    {
     "data": {
      "text/plain": [
       "37863418880"
      ]
     },
     "execution_count": 56,
     "metadata": {},
     "output_type": "execute_result"
    }
   ],
   "source": [
    "import numpy as np\n",
    "np.sum(bite)"
   ]
  },
  {
   "cell_type": "code",
   "execution_count": 54,
   "metadata": {},
   "outputs": [
    {
     "data": {
      "text/plain": [
       "27045.2992"
      ]
     },
     "execution_count": 54,
     "metadata": {},
     "output_type": "execute_result"
    }
   ],
   "source": [
    "37863418880 / (20_000*2*35)"
   ]
  },
  {
   "cell_type": "code",
   "execution_count": 59,
   "metadata": {},
   "outputs": [
    {
     "data": {
      "text/plain": [
       "27045.2992"
      ]
     },
     "execution_count": 59,
     "metadata": {},
     "output_type": "execute_result"
    }
   ],
   "source": [
    "37863418880/ (20_000*2*35)"
   ]
  },
  {
   "cell_type": "code",
   "execution_count": null,
   "metadata": {},
   "outputs": [],
   "source": []
  }
 ],
 "metadata": {
  "interpreter": {
   "hash": "dc93b3fb48dfd2593d4a40b397dc62a97606514bfa701f6565ff70ef36514844"
  },
  "kernelspec": {
   "display_name": "Python 3.8.5 64-bit ('base': conda)",
   "name": "python3"
  },
  "language_info": {
   "codemirror_mode": {
    "name": "ipython",
    "version": 3
   },
   "file_extension": ".py",
   "mimetype": "text/x-python",
   "name": "python",
   "nbconvert_exporter": "python",
   "pygments_lexer": "ipython3",
   "version": "3.9.7"
  },
  "orig_nbformat": 4
 },
 "nbformat": 4,
 "nbformat_minor": 2
}
