{
 "cells": [
  {
   "cell_type": "markdown",
   "id": "56c11ba2-ef38-4bcf-8c8f-c99a9d8de28f",
   "metadata": {},
   "source": [
    "# Compare first REM and last REM epochs of sleep"
   ]
  },
  {
   "cell_type": "markdown",
   "id": "02ee5b28-74a5-4716-9b13-9322d270da5f",
   "metadata": {},
   "source": [
    "# Load DATA (neurons and states)"
   ]
  },
  {
   "cell_type": "markdown",
   "id": "71b4b145-d89e-4a79-9fe7-bff24a795e77",
   "metadata": {},
   "source": [
    "# Isolate first REM epochs before exp and after exp and compare them to the last REM. "
   ]
  },
  {
   "cell_type": "code",
   "execution_count": 1,
   "id": "b8b78777-07b0-4dbe-9157-415c4b20e4a4",
   "metadata": {},
   "outputs": [],
   "source": [
    "import bk.load\n",
    "import scipy.signal"
   ]
  },
  {
   "cell_type": "code",
   "execution_count": 3,
   "id": "2dc736a5-b270-4278-a664-3fa51324713a",
   "metadata": {},
   "outputs": [
    {
     "name": "stdout",
     "output_type": "stream",
     "text": [
      "Rat : 8 on day : 6\n",
      "Working with session Rat08-20130713 @ /home/billel/Data/GG-Dataset/Rat08/Rat08-20130713\n"
     ]
    }
   ],
   "source": [
    "bk.load.current_session_linux()\n",
    "lfp = bk.load.lfp(23,0,50)"
   ]
  }
 ],
 "metadata": {
  "kernelspec": {
   "display_name": "Python 3",
   "language": "python",
   "name": "python3"
  },
  "language_info": {
   "codemirror_mode": {
    "name": "ipython",
    "version": 3
   },
   "file_extension": ".py",
   "mimetype": "text/x-python",
   "name": "python",
   "nbconvert_exporter": "python",
   "pygments_lexer": "ipython3",
   "version": "3.8.5"
  }
 },
 "nbformat": 4,
 "nbformat_minor": 5
}
