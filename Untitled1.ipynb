{
 "cells": [
  {
   "cell_type": "code",
   "execution_count": 5,
   "id": "progressive-andorra",
   "metadata": {},
   "outputs": [],
   "source": [
    "import numpy as np\n",
    "import scipy as sp\n",
    "\n",
    "import scipy.io as spio\n",
    "import matplotlib.pyplot as plt\n",
    "\n",
    "import bk.plot\n",
    "import neuroseries as nts"
   ]
  },
  {
   "cell_type": "code",
   "execution_count": 6,
   "id": "substantial-ridge",
   "metadata": {},
   "outputs": [],
   "source": [
    "NREM_REM = spio.loadmat('/media/billel/GGLab-01-BK/DATA/All-Rats/Billel/NREM-REM/NREM-REM.mat')"
   ]
  },
  {
   "cell_type": "code",
   "execution_count": 7,
   "id": "incomplete-spencer",
   "metadata": {},
   "outputs": [],
   "source": [
    "%matplotlib qt"
   ]
  },
  {
   "cell_type": "code",
   "execution_count": 81,
   "id": "emotional-following",
   "metadata": {},
   "outputs": [],
   "source": [
    "BLA_PYR = NREM_REM['BLA_PYR_ALL'][0][0][3]\n",
    "BLA_INT = NREM_REM['BLA_INT_ALL'][0][0][3]\n",
    "\n",
    "HPC_PYR = NREM_REM['HPC_PYR_ALL'][0][0][3]\n",
    "HPC_INT = NREM_REM['HPC_INT_ALL'][0][0][3]\n",
    "\n",
    "rem = nts.IntervalSet(31,40,time_units = 's')"
   ]
  },
  {
   "cell_type": "code",
   "execution_count": 82,
   "id": "valid-province",
   "metadata": {},
   "outputs": [
    {
     "data": {
      "text/plain": [
       "(1024, 40)"
      ]
     },
     "execution_count": 82,
     "metadata": {},
     "output_type": "execute_result"
    }
   ],
   "source": [
    "HPC_PYR.shape"
   ]
  },
  {
   "cell_type": "code",
   "execution_count": 83,
   "id": "roman-example",
   "metadata": {},
   "outputs": [
    {
     "data": {
      "text/plain": [
       "Text(0.5, 1.0, 'Firing Rates across transitons from NREM-REM')"
      ]
     },
     "execution_count": 83,
     "metadata": {},
     "output_type": "execute_result"
    }
   ],
   "source": [
    "fig,ax = plt.subplots()\n",
    "bk.plot.intervals(rem)\n",
    "\n",
    "plt.plot(np.mean(BLA_PYR,0),'+-',color = 'green')\n",
    "plt.legend(['REM','Pyr'])\n",
    "ax2=ax.twinx()\n",
    "ax2.plot(np.mean(BLA_INT,0),'black')\n",
    "plt.xlim([0,40])\n",
    "plt.legend(['Int'])\n",
    "plt.title('Firing Rates across transitons from NREM-REM')"
   ]
  },
  {
   "cell_type": "code",
   "execution_count": 87,
   "id": "desirable-facility",
   "metadata": {},
   "outputs": [],
   "source": [
    "def pourcent_increase(neurons):\n",
    "    mean_NREM = np.mean(neurons[:,0:30],1)\n",
    "    mean_REM = np.mean(neurons[:,31:40],1)\n",
    "    print(mean_REM.shape)\n",
    "    print(np.sum(mean_REM>mean_NREM)/neurons.shape[0]*100)"
   ]
  },
  {
   "cell_type": "code",
   "execution_count": 62,
   "id": "unsigned-intelligence",
   "metadata": {},
   "outputs": [],
   "source": [
    "BLA_PYR = BLA_PYR.T"
   ]
  },
  {
   "cell_type": "code",
   "execution_count": 71,
   "id": "horizontal-finder",
   "metadata": {},
   "outputs": [
    {
     "data": {
      "text/plain": [
       "(1770, 40)"
      ]
     },
     "execution_count": 71,
     "metadata": {},
     "output_type": "execute_result"
    }
   ],
   "source": [
    "BLA_PYR.shape"
   ]
  },
  {
   "cell_type": "code",
   "execution_count": 86,
   "id": "continuous-fortune",
   "metadata": {},
   "outputs": [
    {
     "data": {
      "text/plain": [
       "(260, 40)"
      ]
     },
     "execution_count": 86,
     "metadata": {},
     "output_type": "execute_result"
    }
   ],
   "source": [
    "BLA_INT.shape"
   ]
  },
  {
   "cell_type": "code",
   "execution_count": 92,
   "id": "unavailable-college",
   "metadata": {},
   "outputs": [
    {
     "name": "stdout",
     "output_type": "stream",
     "text": [
      "(147,)\n",
      "64.62585034013605\n"
     ]
    }
   ],
   "source": [
    "pourcent_increase(HPC_INT)"
   ]
  },
  {
   "cell_type": "code",
   "execution_count": 63,
   "id": "heated-archive",
   "metadata": {},
   "outputs": [],
   "source": [
    "a  = np.array([[31,40]])"
   ]
  },
  {
   "cell_type": "code",
   "execution_count": 101,
   "id": "flying-technique",
   "metadata": {},
   "outputs": [],
   "source": [
    "import scipy.stats"
   ]
  },
  {
   "cell_type": "code",
   "execution_count": null,
   "id": "annoying-orange",
   "metadata": {},
   "outputs": [],
   "source": [
    "np.quantile(np.mean(BLA_PYR,0),1)"
   ]
  },
  {
   "cell_type": "code",
   "execution_count": 110,
   "id": "pregnant-stability",
   "metadata": {},
   "outputs": [],
   "source": [
    "import pandas as pd"
   ]
  },
  {
   "cell_type": "code",
   "execution_count": 113,
   "id": "blessed-retention",
   "metadata": {},
   "outputs": [],
   "source": [
    "df = pd.DataFrame(np.mean(BLA_PYR,0))"
   ]
  },
  {
   "cell_type": "code",
   "execution_count": 121,
   "id": "loving-chicago",
   "metadata": {},
   "outputs": [],
   "source": [
    "quantiles = pd.qcut(np.mean(BLA_PYR,0),5)"
   ]
  },
  {
   "cell_type": "code",
   "execution_count": 130,
   "id": "laughing-honduras",
   "metadata": {},
   "outputs": [
    {
     "data": {
      "text/plain": [
       "-0.001"
      ]
     },
     "execution_count": 130,
     "metadata": {},
     "output_type": "execute_result"
    }
   ],
   "source": [
    "quantiles.categories[0]"
   ]
  },
  {
   "cell_type": "code",
   "execution_count": 132,
   "id": "dynamic-adventure",
   "metadata": {},
   "outputs": [],
   "source": [
    "mean_fr = np.mean(BLA_PYR,0)"
   ]
  },
  {
   "cell_type": "code",
   "execution_count": 145,
   "id": "coordinated-cyprus",
   "metadata": {},
   "outputs": [],
   "source": [
    "for i in quantiles.categories:\n",
    "    plt.plot(np.mean(BLA_PYR[:,(i.left<mean_fr) & (mean_fr<i.right)],1))\n",
    "bk.plot.intervals(rem)"
   ]
  },
  {
   "cell_type": "code",
   "execution_count": 135,
   "id": "pursuant-mediterranean",
   "metadata": {},
   "outputs": [
    {
     "data": {
      "text/plain": [
       "(1770,)"
      ]
     },
     "execution_count": 135,
     "metadata": {},
     "output_type": "execute_result"
    }
   ],
   "source": [
    "mean_fr.shape"
   ]
  },
  {
   "cell_type": "code",
   "execution_count": 138,
   "id": "conditional-logging",
   "metadata": {},
   "outputs": [
    {
     "data": {
      "text/plain": [
       "1770"
      ]
     },
     "execution_count": 138,
     "metadata": {},
     "output_type": "execute_result"
    }
   ],
   "source": [
    "len((i.left<mean_fr) & (mean_fr<i.right))"
   ]
  },
  {
   "cell_type": "code",
   "execution_count": 140,
   "id": "cognitive-interim",
   "metadata": {},
   "outputs": [
    {
     "data": {
      "text/plain": [
       "array([[0.11285253, 0.121349  , 0.03082929, ..., 0.49506959, 0.11296976,\n",
       "        0.12932934],\n",
       "       [0.33015928, 0.25490931, 0.09188431, ..., 0.41901644, 0.11504755,\n",
       "        0.14987747],\n",
       "       [0.27528888, 0.42491335, 0.04752864, ..., 0.6258993 , 0.1854459 ,\n",
       "        0.19594396],\n",
       "       ...,\n",
       "       [0.16056194, 0.53474783, 0.04598592, ..., 0.64853406, 0.55053018,\n",
       "        0.21622872],\n",
       "       [0.18630216, 1.02529885, 0.12883073, ..., 0.76797484, 0.19110514,\n",
       "        0.2188425 ],\n",
       "       [0.22160088, 0.48285992, 0.16514838, ..., 0.67339152, 0.06466301,\n",
       "        0.15628879]])"
      ]
     },
     "execution_count": 140,
     "metadata": {},
     "output_type": "execute_result"
    }
   ],
   "source": [
    "BLA_PYR"
   ]
  },
  {
   "cell_type": "code",
   "execution_count": null,
   "id": "different-projection",
   "metadata": {},
   "outputs": [],
   "source": []
  }
 ],
 "metadata": {
  "kernelspec": {
   "display_name": "Python 3",
   "language": "python",
   "name": "python3"
  },
  "language_info": {
   "codemirror_mode": {
    "name": "ipython",
    "version": 3
   },
   "file_extension": ".py",
   "mimetype": "text/x-python",
   "name": "python",
   "nbconvert_exporter": "python",
   "pygments_lexer": "ipython3",
   "version": "3.7.9"
  }
 },
 "nbformat": 4,
 "nbformat_minor": 5
}
