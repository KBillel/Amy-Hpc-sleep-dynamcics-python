{
 "cells": [
  {
   "cell_type": "code",
   "execution_count": 5,
   "metadata": {},
   "outputs": [],
   "source": [
    "import numpy as np\n",
    "import scipy as sp\n",
    "\n",
    "import scipy.io as spio\n",
    "import matplotlib.pyplot as plt\n",
    "import scipy.stats\n",
    "import bk.plot\n",
    "import neuroseries as nts"
   ]
  },
  {
   "cell_type": "code",
   "execution_count": 2,
   "metadata": {},
   "outputs": [],
   "source": [
    "NREM_REM = spio.loadmat('/media/billel/GGLab-01-BK/DATA/All-Rats/Billel/NREM-REM/NREM-REM.mat')"
   ]
  },
  {
   "cell_type": "code",
   "execution_count": 3,
   "metadata": {},
   "outputs": [],
   "source": [
    "%matplotlib qt"
   ]
  },
  {
   "cell_type": "code",
   "execution_count": 4,
   "metadata": {},
   "outputs": [],
   "source": [
    "BLA_PYR = NREM_REM['BLA_PYR_ALL'][0][0][3]\n",
    "BLA_INT = NREM_REM['BLA_INT_ALL'][0][0][3]\n",
    "\n",
    "HPC_PYR = NREM_REM['HPC_PYR_ALL'][0][0][3]\n",
    "HPC_INT = NREM_REM['HPC_INT_ALL'][0][0][3]\n",
    "\n",
    "rem = nts.IntervalSet(31,40,time_units = 's')"
   ]
  },
  {
   "cell_type": "code",
   "execution_count": 8,
   "metadata": {},
   "outputs": [
    {
     "data": {
      "text/plain": [
       "<matplotlib.image.AxesImage at 0x7facbd642f10>"
      ]
     },
     "execution_count": 8,
     "metadata": {},
     "output_type": "execute_result"
    }
   ],
   "source": [
    "plt.imshow(scipy.stats.zscore(BLA_PYR,0),aspect = 'auto')"
   ]
  },
  {
   "cell_type": "code",
   "execution_count": 82,
   "metadata": {},
   "outputs": [
    {
     "data": {
      "text/plain": [
       "(1024, 40)"
      ]
     },
     "execution_count": 82,
     "metadata": {},
     "output_type": "execute_result"
    }
   ],
   "source": [
    "HPC_PYR.shape"
   ]
  },
  {
   "cell_type": "code",
   "execution_count": 83,
   "metadata": {},
   "outputs": [
    {
     "data": {
      "text/plain": [
       "Text(0.5, 1.0, 'Firing Rates across transitons from NREM-REM')"
      ]
     },
     "execution_count": 83,
     "metadata": {},
     "output_type": "execute_result"
    }
   ],
   "source": [
    "fig,ax = plt.subplots()\n",
    "bk.plot.intervals(rem)\n",
    "\n",
    "plt.plot(np.mean(BLA_PYR,0),'+-',color = 'green')\n",
    "plt.legend(['REM','Pyr'])\n",
    "ax2=ax.twinx()\n",
    "ax2.plot(np.mean(BLA_INT,0),'black')\n",
    "plt.xlim([0,40])\n",
    "plt.legend(['Int'])\n",
    "plt.title('Firing Rates across transitons from NREM-REM')"
   ]
  },
  {
   "cell_type": "code",
   "execution_count": 51,
   "metadata": {},
   "outputs": [],
   "source": [
    "def pourcent_increase(neurons):\n",
    "    mean_NREM = np.mean(neurons[:,0:30],1)\n",
    "    mean_REM = np.mean(neurons[:,31:40],1)\n",
    "    print(mean_REM.shape)\n",
    "    print(np.sum(mean_REM>mean_NREM)/neurons.shape[0]*100)\n",
    "    \n",
    "    \n",
    "    order = np.argsort(mean_REM/mean_NREM)\n",
    "    print(order)\n",
    "    plt.subplot(1,2,1)\n",
    "    plt.imshow(scipy.stats.zscore(neurons,1),aspect = 'auto')\n",
    "    \n",
    "    plt.clim(-2,2)\n",
    "    plt.subplot(1,2,2)\n",
    "    plt.imshow(scipy.stats.zscore(neurons[order],1),aspect = 'auto')\n",
    "    plt.clim(-2,2)\n"
   ]
  },
  {
   "cell_type": "code",
   "execution_count": 64,
   "metadata": {},
   "outputs": [
    {
     "name": "stdout",
     "output_type": "stream",
     "text": [
      "HPC_PYR\n",
      "(1024,)\n",
      "37.6953125\n",
      "[ 653  647  138 ...  646  651 1023]\n",
      "HPC_INT\n",
      "(147,)\n",
      "64.62585034013605\n",
      "[ 16  12  99  46 143   6 100  18 120  98  81  33 107  69 139 146  53 134\n",
      " 116  38  75  57  11   5 126 144  41  14  94  49 103 127   2   0   1 138\n",
      "  60  70  86  77 142  30 129  71  17  85  27   7  37  76  82  54   9 122\n",
      "  42  10  87  65 114 109  56 118   3  72 135  83 140  63 133  96  62  47\n",
      "  21   8 123 130  90  73  23 124 125  79  29  95  93  44 106  89  31  22\n",
      " 112  26 136  32  91  97 113  25  40 137  39  28  67 117  36  48  84  34\n",
      "  88  59 132 119 145 102  19 108 115  15  24  45 121 141  51  13 131  78\n",
      "  20  92 104  52 101   4 128  55  43 105 110  50  35  74  80  68  61  64\n",
      "  58 111  66]\n",
      "BLA_PYR\n",
      "(1770,)\n",
      "64.35028248587571\n",
      "[1313  534  634 ...  880  257  919]\n"
     ]
    },
    {
     "name": "stderr",
     "output_type": "stream",
     "text": [
      "/home/billel/anaconda3/lib/python3.7/site-packages/ipykernel_launcher.py:8: RuntimeWarning: invalid value encountered in true_divide\n",
      "  \n"
     ]
    },
    {
     "name": "stdout",
     "output_type": "stream",
     "text": [
      "BLA_INT\n",
      "(260,)\n",
      "79.23076923076923\n",
      "[  7 152 146 140 236 130  37 255  77  97 191 157 118 243 259  29  81  10\n",
      " 100  62  41  98 124  95  78 249  58 168  33 166 159  86  93 250  92 240\n",
      " 164 187  13  91 135  51 165  71  36  52 144  64  20 172  88  24 173  65\n",
      "  31  43 242 234  87  90  18  30  63   0  21 258  73 229 111 254  16  46\n",
      " 115 158 160  23 131 189 138 214  82 186  53 238  35 141 137  44 143 231\n",
      " 235 185  76 136 216 217  26  45 126  28   1  22  25  38 142   6  56 175\n",
      "  74  34  50 198 150 106 151 102 169 105 206  17  14 178 220 109 122 174\n",
      " 117  47 246   2 223 128 221 188 210 161  42  80 222  61  94  40 196 207\n",
      " 208  48 184 180 212 201  15 183 176  57 133   4 127  60 154  85 193  39\n",
      " 190 192 244 156 182  83 199 153 149   3 247 139 194 230 119 145 155 233\n",
      "  12 148 116 113 204 171 257   5 101 224  59  69  27 108 237 163 252 195\n",
      " 241 251 179 253  72 147 123 209  66  67 228 202  79 205 239 248 225 245\n",
      " 120 107 200 215  68 219 134  32  11  19  99 121 211 218   9 110 132 232\n",
      " 197 104 181 103 170 203 256 129 167 162 125  70 227  75 114   8  84 213\n",
      "  96  89  49 226 177 112  55  54]\n"
     ]
    }
   ],
   "source": [
    "names = ['HPC_PYR','HPC_INT','BLA_PYR','BLA_INT']\n",
    "for n,t in zip([HPC_PYR,HPC_INT,BLA_PYR,BLA_INT],names):\n",
    "    plt.figure()\n",
    "    print(t)\n",
    "    pourcent_increase(n)\n",
    "    plt.suptitle(t)"
   ]
  },
  {
   "cell_type": "code",
   "execution_count": 62,
   "metadata": {},
   "outputs": [],
   "source": [
    "BLA_PYR = BLA_PYR.T"
   ]
  },
  {
   "cell_type": "code",
   "execution_count": 71,
   "metadata": {},
   "outputs": [
    {
     "data": {
      "text/plain": [
       "(1770, 40)"
      ]
     },
     "execution_count": 71,
     "metadata": {},
     "output_type": "execute_result"
    }
   ],
   "source": [
    "BLA_PYR.shape"
   ]
  },
  {
   "cell_type": "code",
   "execution_count": 86,
   "metadata": {},
   "outputs": [
    {
     "data": {
      "text/plain": [
       "(260, 40)"
      ]
     },
     "execution_count": 86,
     "metadata": {},
     "output_type": "execute_result"
    }
   ],
   "source": [
    "BLA_INT.shape"
   ]
  },
  {
   "cell_type": "code",
   "execution_count": 63,
   "metadata": {},
   "outputs": [],
   "source": [
    "a  = np.array([[31,40]])"
   ]
  },
  {
   "cell_type": "code",
   "execution_count": 101,
   "metadata": {},
   "outputs": [],
   "source": [
    "import scipy.stats"
   ]
  },
  {
   "cell_type": "code",
   "execution_count": null,
   "metadata": {},
   "outputs": [],
   "source": [
    "np.quantile(np.mean(BLA_PYR,0),1)"
   ]
  },
  {
   "cell_type": "code",
   "execution_count": 110,
   "metadata": {},
   "outputs": [],
   "source": [
    "import pandas as pd"
   ]
  },
  {
   "cell_type": "code",
   "execution_count": 113,
   "metadata": {},
   "outputs": [],
   "source": [
    "df = pd.DataFrame(np.mean(BLA_PYR,0))"
   ]
  },
  {
   "cell_type": "code",
   "execution_count": 121,
   "metadata": {},
   "outputs": [],
   "source": [
    "quantiles = pd.qcut(np.mean(BLA_PYR,0),5)"
   ]
  },
  {
   "cell_type": "code",
   "execution_count": 130,
   "metadata": {},
   "outputs": [
    {
     "data": {
      "text/plain": [
       "-0.001"
      ]
     },
     "execution_count": 130,
     "metadata": {},
     "output_type": "execute_result"
    }
   ],
   "source": [
    "quantiles.categories[0]"
   ]
  },
  {
   "cell_type": "code",
   "execution_count": 132,
   "metadata": {},
   "outputs": [],
   "source": [
    "mean_fr = np.mean(BLA_PYR,0)"
   ]
  },
  {
   "cell_type": "code",
   "execution_count": 145,
   "metadata": {},
   "outputs": [],
   "source": [
    "for i in quantiles.categories:\n",
    "    plt.plot(np.mean(BLA_PYR[:,(i.left<mean_fr) & (mean_fr<i.right)],1))\n",
    "bk.plot.intervals(rem)"
   ]
  },
  {
   "cell_type": "code",
   "execution_count": 135,
   "metadata": {},
   "outputs": [
    {
     "data": {
      "text/plain": [
       "(1770,)"
      ]
     },
     "execution_count": 135,
     "metadata": {},
     "output_type": "execute_result"
    }
   ],
   "source": [
    "mean_fr.shape"
   ]
  },
  {
   "cell_type": "code",
   "execution_count": 138,
   "metadata": {},
   "outputs": [
    {
     "data": {
      "text/plain": [
       "1770"
      ]
     },
     "execution_count": 138,
     "metadata": {},
     "output_type": "execute_result"
    }
   ],
   "source": [
    "len((i.left<mean_fr) & (mean_fr<i.right))"
   ]
  },
  {
   "cell_type": "code",
   "execution_count": 140,
   "metadata": {},
   "outputs": [
    {
     "data": {
      "text/plain": [
       "array([[0.11285253, 0.121349  , 0.03082929, ..., 0.49506959, 0.11296976,\n",
       "        0.12932934],\n",
       "       [0.33015928, 0.25490931, 0.09188431, ..., 0.41901644, 0.11504755,\n",
       "        0.14987747],\n",
       "       [0.27528888, 0.42491335, 0.04752864, ..., 0.6258993 , 0.1854459 ,\n",
       "        0.19594396],\n",
       "       ...,\n",
       "       [0.16056194, 0.53474783, 0.04598592, ..., 0.64853406, 0.55053018,\n",
       "        0.21622872],\n",
       "       [0.18630216, 1.02529885, 0.12883073, ..., 0.76797484, 0.19110514,\n",
       "        0.2188425 ],\n",
       "       [0.22160088, 0.48285992, 0.16514838, ..., 0.67339152, 0.06466301,\n",
       "        0.15628879]])"
      ]
     },
     "execution_count": 140,
     "metadata": {},
     "output_type": "execute_result"
    }
   ],
   "source": [
    "BLA_PYR"
   ]
  },
  {
   "cell_type": "code",
   "execution_count": null,
   "metadata": {},
   "outputs": [],
   "source": []
  }
 ],
 "metadata": {
  "kernelspec": {
   "display_name": "Python 3",
   "language": "python",
   "name": "python3"
  },
  "language_info": {
   "codemirror_mode": {
    "name": "ipython",
    "version": 3
   },
   "file_extension": ".py",
   "mimetype": "text/x-python",
   "name": "python",
   "nbconvert_exporter": "python",
   "pygments_lexer": "ipython3",
   "version": "3.7.6"
  }
 },
 "nbformat": 4,
 "nbformat_minor": 5
}
