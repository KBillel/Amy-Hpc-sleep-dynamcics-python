{
 "cells": [
  {
   "cell_type": "code",
   "execution_count": 97,
   "id": "representative-transcript",
   "metadata": {},
   "outputs": [],
   "source": [
    "import numpy as np\n",
    "import scipy as sp\n",
    "\n",
    "import scipy.io as spio\n",
    "import matplotlib.pyplot as plt\n",
    "\n",
    "import bk.plot\n",
    "import neuroseries as nts"
   ]
  },
  {
   "cell_type": "code",
   "execution_count": 11,
   "id": "broadband-force",
   "metadata": {},
   "outputs": [],
   "source": [
    "NREM_REM = spio.loadmat('/media/billel/GGLab-01-BK/DATA/All-Rats/Billel/NREM-REM/NREM-REM.mat')"
   ]
  },
  {
   "cell_type": "code",
   "execution_count": 28,
   "id": "athletic-remark",
   "metadata": {},
   "outputs": [],
   "source": [
    "%matplotlib qt"
   ]
  },
  {
   "cell_type": "code",
   "execution_count": 84,
   "id": "protecting-blair",
   "metadata": {},
   "outputs": [],
   "source": [
    "BLA_PYR = NREM_REM['BLA_PYR_ALL'][0][0][3].T\n",
    "BLA_INT = NREM_REM['BLA_INT_ALL'][0][0][3].T\n",
    "\n",
    "rem = nts.IntervalSet(31,40,time_units = 's')"
   ]
  },
  {
   "cell_type": "code",
   "execution_count": 146,
   "id": "viral-governor",
   "metadata": {},
   "outputs": [
    {
     "data": {
      "text/plain": [
       "Text(0.5, 1.0, 'Firing Rates across transitons from NREM-REM')"
      ]
     },
     "execution_count": 146,
     "metadata": {},
     "output_type": "execute_result"
    }
   ],
   "source": [
    "fig,ax = plt.subplots()\n",
    "bk.plot.intervals(rem)\n",
    "\n",
    "plt.plot(np.mean(BLA_PYR,1),'+-',color = 'green')\n",
    "plt.legend(['REM','Pyr'])\n",
    "ax2=ax.twinx()\n",
    "ax2.plot(np.mean(BLA_INT,1),'black')\n",
    "plt.xlim([0,40])\n",
    "plt.legend(['Int'])\n",
    "plt.title('Firing Rates across transitons from NREM-REM')"
   ]
  },
  {
   "cell_type": "code",
   "execution_count": 63,
   "id": "foreign-reynolds",
   "metadata": {},
   "outputs": [],
   "source": [
    "a  = np.array([[31,40]])"
   ]
  },
  {
   "cell_type": "code",
   "execution_count": 101,
   "id": "classified-apparatus",
   "metadata": {},
   "outputs": [],
   "source": [
    "import scipy.stats"
   ]
  },
  {
   "cell_type": "code",
   "execution_count": null,
   "id": "casual-copper",
   "metadata": {},
   "outputs": [],
   "source": [
    "np.quantile(np.mean(BLA_PYR,0),1)"
   ]
  },
  {
   "cell_type": "code",
   "execution_count": 110,
   "id": "addressed-outline",
   "metadata": {},
   "outputs": [],
   "source": [
    "import pandas as pd"
   ]
  },
  {
   "cell_type": "code",
   "execution_count": 113,
   "id": "funny-housing",
   "metadata": {},
   "outputs": [],
   "source": [
    "df = pd.DataFrame(np.mean(BLA_PYR,0))"
   ]
  },
  {
   "cell_type": "code",
   "execution_count": 121,
   "id": "artificial-content",
   "metadata": {},
   "outputs": [],
   "source": [
    "quantiles = pd.qcut(np.mean(BLA_PYR,0),5)"
   ]
  },
  {
   "cell_type": "code",
   "execution_count": 130,
   "id": "lovely-contemporary",
   "metadata": {},
   "outputs": [
    {
     "data": {
      "text/plain": [
       "-0.001"
      ]
     },
     "execution_count": 130,
     "metadata": {},
     "output_type": "execute_result"
    }
   ],
   "source": [
    "quantiles.categories[0]"
   ]
  },
  {
   "cell_type": "code",
   "execution_count": 132,
   "id": "meaning-dominant",
   "metadata": {},
   "outputs": [],
   "source": [
    "mean_fr = np.mean(BLA_PYR,0)"
   ]
  },
  {
   "cell_type": "code",
   "execution_count": 145,
   "id": "ceramic-increase",
   "metadata": {},
   "outputs": [],
   "source": [
    "for i in quantiles.categories:\n",
    "    plt.plot(np.mean(BLA_PYR[:,(i.left<mean_fr) & (mean_fr<i.right)],1))\n",
    "bk.plot.intervals(rem)"
   ]
  },
  {
   "cell_type": "code",
   "execution_count": 135,
   "id": "concerned-bottle",
   "metadata": {},
   "outputs": [
    {
     "data": {
      "text/plain": [
       "(1770,)"
      ]
     },
     "execution_count": 135,
     "metadata": {},
     "output_type": "execute_result"
    }
   ],
   "source": [
    "mean_fr.shape"
   ]
  },
  {
   "cell_type": "code",
   "execution_count": 138,
   "id": "listed-patient",
   "metadata": {},
   "outputs": [
    {
     "data": {
      "text/plain": [
       "1770"
      ]
     },
     "execution_count": 138,
     "metadata": {},
     "output_type": "execute_result"
    }
   ],
   "source": [
    "len((i.left<mean_fr) & (mean_fr<i.right))"
   ]
  },
  {
   "cell_type": "code",
   "execution_count": 140,
   "id": "similar-syntax",
   "metadata": {},
   "outputs": [
    {
     "data": {
      "text/plain": [
       "array([[0.11285253, 0.121349  , 0.03082929, ..., 0.49506959, 0.11296976,\n",
       "        0.12932934],\n",
       "       [0.33015928, 0.25490931, 0.09188431, ..., 0.41901644, 0.11504755,\n",
       "        0.14987747],\n",
       "       [0.27528888, 0.42491335, 0.04752864, ..., 0.6258993 , 0.1854459 ,\n",
       "        0.19594396],\n",
       "       ...,\n",
       "       [0.16056194, 0.53474783, 0.04598592, ..., 0.64853406, 0.55053018,\n",
       "        0.21622872],\n",
       "       [0.18630216, 1.02529885, 0.12883073, ..., 0.76797484, 0.19110514,\n",
       "        0.2188425 ],\n",
       "       [0.22160088, 0.48285992, 0.16514838, ..., 0.67339152, 0.06466301,\n",
       "        0.15628879]])"
      ]
     },
     "execution_count": 140,
     "metadata": {},
     "output_type": "execute_result"
    }
   ],
   "source": [
    "BLA_PYR"
   ]
  },
  {
   "cell_type": "code",
   "execution_count": null,
   "id": "married-thomas",
   "metadata": {},
   "outputs": [],
   "source": []
  }
 ],
 "metadata": {
  "kernelspec": {
   "display_name": "Python 3",
   "language": "python",
   "name": "python3"
  },
  "language_info": {
   "codemirror_mode": {
    "name": "ipython",
    "version": 3
   },
   "file_extension": ".py",
   "mimetype": "text/x-python",
   "name": "python",
   "nbconvert_exporter": "python",
   "pygments_lexer": "ipython3",
   "version": "3.7.9"
  }
 },
 "nbformat": 4,
 "nbformat_minor": 5
}
