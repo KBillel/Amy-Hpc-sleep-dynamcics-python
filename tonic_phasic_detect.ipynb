{
 "cells": [
  {
   "cell_type": "code",
   "execution_count": 1,
   "metadata": {},
   "outputs": [],
   "source": [
    "%run imports"
   ]
  },
  {
   "cell_type": "code",
   "execution_count": 3,
   "metadata": {},
   "outputs": [],
   "source": [
    "def detect_phasic(lfp, intervals, th):\n",
    "    phasic = nts.IntervalSet(0,0)\n",
    "    for s, e in intervals.iloc:\n",
    "        inter_ = nts.IntervalSet(s, e)\n",
    "        t, f, Sxx = bk.signal.wavelet_spectrogram_intervals(lfp,inter_,1, 0.5, 250, 100)\n",
    "        \n",
    "        broad_power = nts.Tsd(t,np.nanmean(Sxx,0),'s')\n",
    "        z_broad_power = bk.compute.nts_zscore(broad_power)\n",
    "\n",
    "        d = z_broad_power.values > th\n",
    "        phasic_ = bk.compute.toIntervals(t,d,'s')\n",
    "        phasic = phasic.union(phasic_)\n",
    "    phasic = phasic.merge_close_intervals(200,'ms')\n",
    "    phasic = phasic.drop_short_intervals(500,'ms').reset_index(drop = True)\n",
    "\n",
    "    return phasic"
   ]
  },
  {
   "cell_type": "code",
   "execution_count": 19,
   "metadata": {},
   "outputs": [],
   "source": [
    "def write_phasic_tonic(base_folder,local_folder,*args,**kwargs):\n",
    "    bk.load.current_session_linux(base_folder,local_folder)\n",
    "    states = bk.load.states(True)\n",
    "\n",
    "    lfp = {}\n",
    "    lfp['Hpc'] = bk.load.lfp_in_intervals(bk.load.ripple_channel(),states['REM'])\n",
    "    phREM = detect_phasic(lfp['Hpc'],states['REM'],2)\n",
    "    toREM = states['REM'].set_diff(phREM)\n",
    "\n",
    "    phREM['state'] = 'phREM'\n",
    "    toREM['state'] = 'toREM'\n",
    "\n",
    "    phasic = pd.concat((phREM,toREM))\n",
    "\n",
    "    phasic.to_csv('Intervals/phasic_tonic.csv')"
   ]
  },
  {
   "cell_type": "code",
   "execution_count": 20,
   "metadata": {},
   "outputs": [
    {
     "name": "stdout",
     "output_type": "stream",
     "text": [
      "Rat : 8 on day : 6\n",
      "Working with session Rat08-20130713 @ /mnt/electrophy/Gabrielle/GG-Dataset-Light/Rat08/Rat08-20130713\n"
     ]
    },
    {
     "name": "stderr",
     "output_type": "stream",
     "text": [
      "/home/billel/pCloudDrive/IFM/work/Code/Python/Billel/neuroseries/interval_set.py:66: UserWarning: start is not sorted\n",
      "  warn(msg, UserWarning)\n"
     ]
    }
   ],
   "source": [
    "write_phasic_tonic('/mnt/electrophy/Gabrielle/GG-Dataset-Light/','Rat08/Rat08-20130713')"
   ]
  },
  {
   "cell_type": "code",
   "execution_count": 21,
   "metadata": {},
   "outputs": [
    {
     "name": "stderr",
     "output_type": "stream",
     "text": [
      "100%|██████████| 61/61 [1:15:34<00:00, 74.33s/it]"
     ]
    },
    {
     "name": "stdout",
     "output_type": "stream",
     "text": [
      "Batch finished in 4534.265228509903\n",
      "Some session were not processed correctly\n",
      "['Rat08-20130718', 'Rat08-20130719', 'Rat08-20130720', 'Rat08-20130722', 'Rat09-20140324', 'Rat09-20140325', 'Rat09-20140326', 'Rat09-20140327', 'Rat09-20140328', 'Rat09-20140329', 'Rat09-20140331', 'Rat09-20140401', 'Rat09-20140402', 'Rat09-20140403', 'Rat09-20140404', 'Rat09-20140405', 'Rat09-20140407', 'Rat09-20140408', 'Rat09-20140409', 'Rat11-20150402', 'Rat11-20150403']\n",
      "34.42622950819672 %\n"
     ]
    },
    {
     "name": "stderr",
     "output_type": "stream",
     "text": [
      "\n"
     ]
    },
    {
     "data": {
      "text/plain": [
       "({'Rat08-20130708': None,\n",
       "  'Rat08-20130709': None,\n",
       "  'Rat08-20130710': None,\n",
       "  'Rat08-20130711': None,\n",
       "  'Rat08-20130712': None,\n",
       "  'Rat08-20130713': None,\n",
       "  'Rat08-20130715': None,\n",
       "  'Rat08-20130716': None,\n",
       "  'Rat08-20130717': None,\n",
       "  'Rat10-20140619': None,\n",
       "  'Rat10-20140620': None,\n",
       "  'Rat10-20140622': None,\n",
       "  'Rat10-20140624': None,\n",
       "  'Rat10-20140626': None,\n",
       "  'Rat10-20140627': None,\n",
       "  'Rat10-20140628': None,\n",
       "  'Rat10-20140629': None,\n",
       "  'Rat10-20140701': None,\n",
       "  'Rat10-20140702': None,\n",
       "  'Rat10-20140703': None,\n",
       "  'Rat10-20140704': None,\n",
       "  'Rat10-20140705': None,\n",
       "  'Rat10-20140707': None,\n",
       "  'Rat10-20140708': None,\n",
       "  'Rat11-20150310': None,\n",
       "  'Rat11-20150312': None,\n",
       "  'Rat11-20150313': None,\n",
       "  'Rat11-20150314': None,\n",
       "  'Rat11-20150315': None,\n",
       "  'Rat11-20150316': None,\n",
       "  'Rat11-20150317': None,\n",
       "  'Rat11-20150321': None,\n",
       "  'Rat11-20150323': None,\n",
       "  'Rat11-20150325': None,\n",
       "  'Rat11-20150326': None,\n",
       "  'Rat11-20150327': None,\n",
       "  'Rat11-20150328': None,\n",
       "  'Rat11-20150330': None,\n",
       "  'Rat11-20150331': None,\n",
       "  'Rat11-20150401': None},\n",
       "                 Rat  Day\n",
       " Rat08-20130708    8    1\n",
       " Rat08-20130709    8    2\n",
       " Rat08-20130710    8    3\n",
       " Rat08-20130711    8    4\n",
       " Rat08-20130712    8    5\n",
       " Rat08-20130713    8    6\n",
       " Rat08-20130715    8    7\n",
       " Rat08-20130716    8    8\n",
       " Rat08-20130717    8    9\n",
       " Rat10-20140619   10    1\n",
       " Rat10-20140620   10    2\n",
       " Rat10-20140622   10    3\n",
       " Rat10-20140624   10    4\n",
       " Rat10-20140626   10    5\n",
       " Rat10-20140627   10    6\n",
       " Rat10-20140628   10    7\n",
       " Rat10-20140629   10    8\n",
       " Rat10-20140701   10    9\n",
       " Rat10-20140702   10   10\n",
       " Rat10-20140703   10   11\n",
       " Rat10-20140704   10   12\n",
       " Rat10-20140705   10   13\n",
       " Rat10-20140707   10   14\n",
       " Rat10-20140708   10   15\n",
       " Rat11-20150310   11    2\n",
       " Rat11-20150312   11    3\n",
       " Rat11-20150313   11    4\n",
       " Rat11-20150314   11    5\n",
       " Rat11-20150315   11    6\n",
       " Rat11-20150316   11    7\n",
       " Rat11-20150317   11    8\n",
       " Rat11-20150321   11   11\n",
       " Rat11-20150323   11   12\n",
       " Rat11-20150325   11   14\n",
       " Rat11-20150326   11   15\n",
       " Rat11-20150327   11   16\n",
       " Rat11-20150328   11   17\n",
       " Rat11-20150330   11   18\n",
       " Rat11-20150331   11   19\n",
       " Rat11-20150401   11   20)"
      ]
     },
     "execution_count": 21,
     "metadata": {},
     "output_type": "execute_result"
    }
   ],
   "source": [
    "bk.load.batch(write_phasic_tonic)"
   ]
  },
  {
   "cell_type": "code",
   "execution_count": 18,
   "metadata": {},
   "outputs": [
    {
     "data": {
      "text/html": [
       "<div>\n",
       "<style scoped>\n",
       "    .dataframe tbody tr th:only-of-type {\n",
       "        vertical-align: middle;\n",
       "    }\n",
       "\n",
       "    .dataframe tbody tr th {\n",
       "        vertical-align: top;\n",
       "    }\n",
       "\n",
       "    .dataframe thead th {\n",
       "        text-align: right;\n",
       "    }\n",
       "</style>\n",
       "<table border=\"1\" class=\"dataframe\">\n",
       "  <thead>\n",
       "    <tr style=\"text-align: right;\">\n",
       "      <th></th>\n",
       "      <th>start</th>\n",
       "      <th>end</th>\n",
       "      <th>event</th>\n",
       "      <th>state</th>\n",
       "    </tr>\n",
       "  </thead>\n",
       "  <tbody>\n",
       "    <tr>\n",
       "      <th>0</th>\n",
       "      <td>1927040000</td>\n",
       "      <td>1928923200</td>\n",
       "      <td>phREM</td>\n",
       "      <td>phREM</td>\n",
       "    </tr>\n",
       "    <tr>\n",
       "      <th>1</th>\n",
       "      <td>2432904800</td>\n",
       "      <td>2433468000</td>\n",
       "      <td>phREM</td>\n",
       "      <td>phREM</td>\n",
       "    </tr>\n",
       "    <tr>\n",
       "      <th>2</th>\n",
       "      <td>2519546400</td>\n",
       "      <td>2520676000</td>\n",
       "      <td>phREM</td>\n",
       "      <td>phREM</td>\n",
       "    </tr>\n",
       "    <tr>\n",
       "      <th>3</th>\n",
       "      <td>2543480000</td>\n",
       "      <td>2544552800</td>\n",
       "      <td>phREM</td>\n",
       "      <td>phREM</td>\n",
       "    </tr>\n",
       "    <tr>\n",
       "      <th>4</th>\n",
       "      <td>2593708000</td>\n",
       "      <td>2594536800</td>\n",
       "      <td>phREM</td>\n",
       "      <td>phREM</td>\n",
       "    </tr>\n",
       "    <tr>\n",
       "      <th>...</th>\n",
       "      <td>...</td>\n",
       "      <td>...</td>\n",
       "      <td>...</td>\n",
       "      <td>...</td>\n",
       "    </tr>\n",
       "    <tr>\n",
       "      <th>102</th>\n",
       "      <td>21630000000</td>\n",
       "      <td>21633331199</td>\n",
       "      <td>NaN</td>\n",
       "      <td>toREM</td>\n",
       "    </tr>\n",
       "    <tr>\n",
       "      <th>103</th>\n",
       "      <td>21633868799</td>\n",
       "      <td>21674000000</td>\n",
       "      <td>NaN</td>\n",
       "      <td>toREM</td>\n",
       "    </tr>\n",
       "    <tr>\n",
       "      <th>104</th>\n",
       "      <td>21851000000</td>\n",
       "      <td>21857498399</td>\n",
       "      <td>NaN</td>\n",
       "      <td>toREM</td>\n",
       "    </tr>\n",
       "    <tr>\n",
       "      <th>105</th>\n",
       "      <td>21858067999</td>\n",
       "      <td>21945161599</td>\n",
       "      <td>NaN</td>\n",
       "      <td>toREM</td>\n",
       "    </tr>\n",
       "    <tr>\n",
       "      <th>106</th>\n",
       "      <td>21945797599</td>\n",
       "      <td>21953000000</td>\n",
       "      <td>NaN</td>\n",
       "      <td>toREM</td>\n",
       "    </tr>\n",
       "  </tbody>\n",
       "</table>\n",
       "<p>184 rows × 4 columns</p>\n",
       "</div>"
      ],
      "text/plain": [
       "           start          end  event  state\n",
       "0     1927040000   1928923200  phREM  phREM\n",
       "1     2432904800   2433468000  phREM  phREM\n",
       "2     2519546400   2520676000  phREM  phREM\n",
       "3     2543480000   2544552800  phREM  phREM\n",
       "4     2593708000   2594536800  phREM  phREM\n",
       "..           ...          ...    ...    ...\n",
       "102  21630000000  21633331199    NaN  toREM\n",
       "103  21633868799  21674000000    NaN  toREM\n",
       "104  21851000000  21857498399    NaN  toREM\n",
       "105  21858067999  21945161599    NaN  toREM\n",
       "106  21945797599  21953000000    NaN  toREM\n",
       "\n",
       "[184 rows x 4 columns]"
      ]
     },
     "execution_count": 18,
     "metadata": {},
     "output_type": "execute_result"
    }
   ],
   "source": [
    "phREM['state'] = 'phREM'\n",
    "toREM['state'] = 'toREM'\n",
    "\n",
    "pd.concat((phREM,toREM))"
   ]
  },
  {
   "cell_type": "code",
   "execution_count": 5,
   "metadata": {},
   "outputs": [
    {
     "name": "stderr",
     "output_type": "stream",
     "text": [
      "/home/billel/pCloudDrive/IFM/work/Code/Python/Billel/neuroseries/interval_set.py:66: UserWarning: start is not sorted\n",
      "  warn(msg, UserWarning)\n"
     ]
    }
   ],
   "source": [
    "phasic = detect_phasic(lfp['Hpc'],states['REM'],2)\n",
    "phREM = phasic\n",
    "toREM = states['REM'].set_diff(phREM)"
   ]
  },
  {
   "cell_type": "code",
   "execution_count": 8,
   "metadata": {},
   "outputs": [],
   "source": [
    "Sxx = {}\n",
    "for stru in ['BLA','Hpc']:\n",
    "    t, f, Sxx[stru] = bk.signal.wavelet_spectrogram_intervals(lfp[stru],states['REM'],2, 0.5, 25, 20)\n",
    "\n",
    "z_sm_broad_power = {}\n",
    "for stru in ['BLA','Hpc']:\n",
    "    broad_power = nts.Tsd(t,np.nanmean(Sxx[stru],0),'s')\n",
    "    z_broad_power = bk.compute.nts_zscore(broad_power)\n",
    "    z_sm_broad_power[stru] = bk.compute.nts_smooth(z_broad_power,500,1)"
   ]
  },
  {
   "cell_type": "code",
   "execution_count": 9,
   "metadata": {},
   "outputs": [],
   "source": [
    "%matplotlib qt\n",
    "\n",
    "fig, ax = plt.subplots(2, 1, sharex=True)\n",
    "# ax[0].pcolormesh(t, f, Sxx['Hpc'], shading='gouraud')\n",
    "ax_power = ax[0].twinx()\n",
    "# ax_power.plot(z_sm_broad_power['Hpc'].as_units('s'), 'w')\n",
    "# plt.xlim(4500, 5500)\n",
    "ax[0].set_ylim(0, 25)\n",
    "ax[1].plot(lfp['Hpc'].as_units('s'))\n",
    "bk.plot.intervals(phasic,ax=ax[1])"
   ]
  },
  {
   "cell_type": "code",
   "execution_count": 12,
   "metadata": {},
   "outputs": [],
   "source": [
    "f,Sxx_ph = scipy.signal.welch(lfp['BLA'].restrict(phREM),fs = 1250,nperseg = 1250,noverlap = 625)\n",
    "f,Sxx_to = scipy.signal.welch(lfp['BLA'].restrict(toREM),fs = 1250,nperseg = 1250,noverlap = 625)\n",
    "\n",
    "plt.plot(f,np.log(Sxx_to))\n",
    "plt.plot(f,np.log(Sxx_ph))\n",
    "\n",
    "plt.xlim(0,200)\n",
    "plt.ylim(-3,8)\n",
    "plt.legend(['toREM','phREM'])\n",
    "plt.show()"
   ]
  },
  {
   "cell_type": "code",
   "execution_count": null,
   "metadata": {},
   "outputs": [
    {
     "name": "stdout",
     "output_type": "stream",
     "text": [
      "Rat : 8 on day : 6\n",
      "Working with session Rat08-20130713 @ /mnt/electrophy/Gabrielle/GG-Dataset-Light/Rat08/Rat08-20130713\n",
      "Data already saved in Numpy format, loading them from here:\n",
      "Rat08-20130713-neurons.npy\n",
      "Rat08-20130713-metadata.npy\n",
      "You are using 0.01 ms bins with the function fast off. Consider using \"Fast = True\" in order to speed up the computations\n"
     ]
    },
    {
     "name": "stderr",
     "output_type": "stream",
     "text": [
      "81it [00:00, 2695.91it/s]\n"
     ]
    },
    {
     "ename": "IndexError",
     "evalue": "boolean index did not match indexed array along dimension 0; dimension is 600 but corresponding boolean dimension is 252",
     "output_type": "error",
     "traceback": [
      "\u001b[0;31m---------------------------------------------------------------------------\u001b[0m",
      "\u001b[0;31mIndexError\u001b[0m                                Traceback (most recent call last)",
      "\u001b[0;32m/tmp/ipykernel_59276/996736415.py\u001b[0m in \u001b[0;36m<module>\u001b[0;34m\u001b[0m\n\u001b[1;32m      3\u001b[0m \u001b[0mt\u001b[0m \u001b[0;34m=\u001b[0m \u001b[0mnp\u001b[0m\u001b[0;34m.\u001b[0m\u001b[0mmean\u001b[0m\u001b[0;34m(\u001b[0m\u001b[0mphREM\u001b[0m\u001b[0;34m.\u001b[0m\u001b[0mas_units\u001b[0m\u001b[0;34m(\u001b[0m\u001b[0;34m's'\u001b[0m\u001b[0;34m)\u001b[0m\u001b[0;34m.\u001b[0m\u001b[0miloc\u001b[0m\u001b[0;34m[\u001b[0m\u001b[0;34m:\u001b[0m\u001b[0;34m]\u001b[0m\u001b[0;34m,\u001b[0m\u001b[0;36m1\u001b[0m\u001b[0;34m)\u001b[0m\u001b[0;34m\u001b[0m\u001b[0;34m\u001b[0m\u001b[0m\n\u001b[1;32m      4\u001b[0m \u001b[0mwin\u001b[0m\u001b[0;34m,\u001b[0m \u001b[0mpsth_ph\u001b[0m \u001b[0;34m=\u001b[0m \u001b[0mbk\u001b[0m\u001b[0;34m.\u001b[0m\u001b[0mcompute\u001b[0m\u001b[0;34m.\u001b[0m\u001b[0mpsth\u001b[0m\u001b[0;34m(\u001b[0m\u001b[0mneurons\u001b[0m\u001b[0;34m,\u001b[0m\u001b[0mt\u001b[0m\u001b[0;34m.\u001b[0m\u001b[0mvalues\u001b[0m\u001b[0;34m,\u001b[0m\u001b[0;36m0.010\u001b[0m\u001b[0;34m,\u001b[0m\u001b[0;34m[\u001b[0m\u001b[0;34m-\u001b[0m\u001b[0;36m3\u001b[0m\u001b[0;34m,\u001b[0m\u001b[0;36m3\u001b[0m\u001b[0;34m]\u001b[0m\u001b[0;34m)\u001b[0m\u001b[0;34m\u001b[0m\u001b[0;34m\u001b[0m\u001b[0m\n\u001b[0;32m----> 5\u001b[0;31m \u001b[0mbk\u001b[0m\u001b[0;34m.\u001b[0m\u001b[0mplot\u001b[0m\u001b[0;34m.\u001b[0m\u001b[0mconfidence_intervals\u001b[0m\u001b[0;34m(\u001b[0m\u001b[0mwin\u001b[0m\u001b[0;34m,\u001b[0m\u001b[0mnp\u001b[0m\u001b[0;34m.\u001b[0m\u001b[0mmean\u001b[0m\u001b[0;34m(\u001b[0m\u001b[0mpsth_ph\u001b[0m\u001b[0;34m[\u001b[0m\u001b[0mmetadata\u001b[0m\u001b[0;34m.\u001b[0m\u001b[0mRegion\u001b[0m \u001b[0;34m==\u001b[0m \u001b[0;34m'Hpc'\u001b[0m\u001b[0;34m]\u001b[0m\u001b[0;34m,\u001b[0m\u001b[0;36m1\u001b[0m\u001b[0;34m)\u001b[0m\u001b[0;34m)\u001b[0m\u001b[0;34m\u001b[0m\u001b[0;34m\u001b[0m\u001b[0m\n\u001b[0m",
      "\u001b[0;31mIndexError\u001b[0m: boolean index did not match indexed array along dimension 0; dimension is 600 but corresponding boolean dimension is 252"
     ]
    }
   ],
   "source": [
    "bk.load.current_session_linux()\n",
    "neurons, metadata = bk.load.spikes()\n",
    "t = np.mean(phREM.as_units('s').iloc[:],1)\n",
    "win, psth_ph = bk.compute.psth(neurons,t.values,0.010,[-3,3])\n",
    "\n",
    "%matplotlib qt\n",
    "fig,ax = plt.subplots(1)\n",
    "y = psth_ph[:,(metadata.Region == 'Hpc') &(metadata.Type == 'Pyr')]\n",
    "bk.plot.confidence_intervals(win,y.T,'blue',ax)\n",
    "y = psth_ph[:,(metadata.Region == 'BLA') & (metadata.Type == 'Pyr')]\n",
    "bk.plot.confidence_intervals(win,y.T,'green',ax)\n"
   ]
  },
  {
   "cell_type": "code",
   "execution_count": 32,
   "metadata": {},
   "outputs": [
    {
     "data": {
      "text/plain": [
       "<module 'bk.signal' from '/home/billel/pCloudDrive/IFM/work/Code/Python/Billel/bk/signal.py'>"
      ]
     },
     "execution_count": 32,
     "metadata": {},
     "output_type": "execute_result"
    }
   ],
   "source": [
    "from importlib import reload\n",
    "reload(bk.signal)"
   ]
  },
  {
   "cell_type": "code",
   "execution_count": 36,
   "metadata": {},
   "outputs": [],
   "source": [
    "filt = {}\n",
    "filt['Hpc'] = bk.signal.passband(lfp['Hpc'],6,12)\n",
    "\n",
    "inst_fq = bk.signal.instantaneous_frequency(filt['Hpc'],1250)"
   ]
  },
  {
   "cell_type": "code",
   "execution_count": 37,
   "metadata": {},
   "outputs": [],
   "source": [
    "power,phase = bk.signal.hilbert(filt['Hpc'])"
   ]
  },
  {
   "cell_type": "code",
   "execution_count": 54,
   "metadata": {},
   "outputs": [],
   "source": [
    "fig,ax = plt.subplots(1)\n",
    "ax.plot(bk.compute.nts_smooth(inst_fq,1250,125).as_units('s'))\n",
    "bk.plot.intervals(phREM,'orange',ax = ax)"
   ]
  },
  {
   "cell_type": "code",
   "execution_count": null,
   "metadata": {},
   "outputs": [],
   "source": []
  }
 ],
 "metadata": {
  "kernelspec": {
   "display_name": "Python 3.9.7 ('base')",
   "language": "python",
   "name": "python3"
  },
  "language_info": {
   "codemirror_mode": {
    "name": "ipython",
    "version": 3
   },
   "file_extension": ".py",
   "mimetype": "text/x-python",
   "name": "python",
   "nbconvert_exporter": "python",
   "pygments_lexer": "ipython3",
   "version": "3.9.7 (default, Sep 16 2021, 13:09:58) \n[GCC 7.5.0]"
  },
  "orig_nbformat": 4,
  "vscode": {
   "interpreter": {
    "hash": "dc93b3fb48dfd2593d4a40b397dc62a97606514bfa701f6565ff70ef36514844"
   }
  }
 },
 "nbformat": 4,
 "nbformat_minor": 2
}
