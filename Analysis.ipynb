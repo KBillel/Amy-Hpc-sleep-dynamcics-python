{
 "cells": [
  {
   "cell_type": "code",
   "execution_count": 1,
   "metadata": {},
   "outputs": [],
   "source": [
    "%matplotlib qt\n",
    "\n",
    "import neuroseries as nts\n",
    "\n",
    "import numpy as np\n",
    "import pandas as pd\n",
    "import matplotlib.pyplot as plt\n",
    "import scipy.stats\n",
    "import scipy.ndimage\n",
    "import os\n",
    "\n",
    "import scipy.signal\n",
    "import scipy.stats\n",
    "\n",
    "import bk.load as bk\n",
    "import bk.plot\n",
    "import bk.compute\n",
    "\n",
    "def TTLtoTimes(TTL,Fs = 20000):\n",
    "    \n",
    "    if isinstance(TTL[0],(np.bool_,bool)):\n",
    "        TTL = list(map(int,TTL))\n",
    "    \n",
    "    diff_TTL = np.diff(TTL)\n",
    "    \n",
    "    t_start = np.where(diff_TTL == 1)[0]\n",
    "    t_end = np.where(diff_TTL == -1)[0]\n",
    "    t_TTL = np.array([np.mean(interval) for interval in zip(t_start,t_end)])\n",
    "    \n",
    "    return t_TTL/Fs\n",
    "\n",
    "def TTL_to_intervals(TTL,Fs = 20000):\n",
    "    if isinstance(TTL[0],(np.bool_,bool)):\n",
    "        TTL = list(map(int,TTL))\n",
    "    \n",
    "    diff_TTL = np.diff(TTL)\n",
    "    \n",
    "    t_start = np.where(diff_TTL == 1)[0]\n",
    "    t_end = np.where(diff_TTL == -1)[0]\n",
    "    t_TTL = np.array([np.mean(interval) for interval in zip(t_start,t_end)])\n",
    "    \n",
    "    return (t_start/Fs,t_end/Fs)\n",
    "\n",
    "def speed(pos):\n",
    "    \n",
    "    x_speed = np.diff(pos['x'])/np.diff(pos.index)\n",
    "    y_speed = np.diff(pos['y'])/np.diff(pos.index)\n",
    "    \n",
    "    v = np.sqrt(x_speed**2 + y_speed**2)\n",
    "    \n",
    "    return v\n",
    "\n",
    "def load_pos():\n",
    "    import pandas as pd\n",
    "    files = os.listdir()\n",
    "    for f in files: \n",
    "        if f.endswith('.h5'): \n",
    "            filename = f\n",
    "    \n",
    "    data = pd.read_hdf(filename)\n",
    "    data = data[data.keys()[0][0]]\n",
    "    return data\n",
    "\n",
    "def load_digitalin(channels,Fs = 20000):\n",
    "    import pandas as pd\n",
    "    \n",
    "    digital_word = np.fromfile('digitalin.dat','uint16')\n",
    "    sample = len(digital_word)\n",
    "    time = np.arange(0,sample)\n",
    "    time = time/Fs\n",
    "\n",
    "    chan = {}\n",
    "    \n",
    "    for i in range(len(channels)):\n",
    "        chan.update({channels[i]:(digital_word & 2**i)>0})\n",
    "\n",
    "    return time,chan\n",
    "\n",
    "# def load_digitalin(path,nchannels=16,Fs = 20000):\n",
    "#     import pandas as pd\n",
    "    \n",
    "#     digital_word = np.fromfile(path,'uint16')\n",
    "#     sample = len(digital_word)\n",
    "#     time = np.arange(0,sample)\n",
    "#     time = time/Fs\n",
    "\n",
    "    \n",
    "#     for i in range(nchannels):\n",
    "#         if i == 0: data = (digital_word & 2**i)>0\n",
    "#         else: data = np.vstack((data,(digital_word & 2**i)>0))\n",
    "\n",
    "#     return data\n",
    "\n"
   ]
  },
  {
   "cell_type": "code",
   "execution_count": 2,
   "metadata": {},
   "outputs": [],
   "source": [
    "def lfp(start, stop, n_channels=90, channel=64, frequency=1250.0, precision='int16',verbose = False):\n",
    "    \n",
    "    p = session+\".lfp\"\n",
    "    if verbose:\n",
    "        print('Load LFP from ' + p)\n",
    "    # From Guillaume viejo\n",
    "    import neuroseries as nts\n",
    "    bytes_size = 2\n",
    "    start_index = int(start*frequency*n_channels*bytes_size)\n",
    "    stop_index = int(stop*frequency*n_channels*bytes_size)\n",
    "    #In order not to read after the file\n",
    "    if stop_index > os.path.getsize(p): stop_index = os.path.getsize(p)\n",
    "    fp = np.memmap(p, np.int16, 'r', start_index, shape = (stop_index - start_index)//bytes_size)\n",
    "    data = np.array(fp).reshape(len(fp)//n_channels, n_channels)\n",
    "\n",
    "    if type(channel) is not list:\n",
    "        timestep = np.arange(0, len(data))/frequency+start\n",
    "        return nts.Tsd(timestep, data[:,channel], time_units = 's')\n",
    "    elif type(channel) is list:\n",
    "        timestep = np.arange(0, len(data))/frequency+start\n",
    "        return nts.TsdFrame(timestep, data[:,channel], time_units = 's')"
   ]
  },
  {
   "cell_type": "code",
   "execution_count": 27,
   "metadata": {},
   "outputs": [],
   "source": [
    "session = 'Rat03-20201002'"
   ]
  },
  {
   "cell_type": "code",
   "execution_count": 5,
   "metadata": {},
   "outputs": [],
   "source": [
    "os.chdir('R:/Rat25/Rat25-210402/Rat25_210402_113108/')"
   ]
  },
  {
   "cell_type": "code",
   "execution_count": 7,
   "metadata": {},
   "outputs": [],
   "source": [
    "d = bk.load.digitalin('digitalin.dat')"
   ]
  },
  {
   "cell_type": "code",
   "execution_count": 10,
   "metadata": {},
   "outputs": [
    {
     "data": {
      "text/plain": [
       "[<matplotlib.lines.Line2D at 0x1438303fd08>]"
      ]
     },
     "execution_count": 10,
     "metadata": {},
     "output_type": "execute_result"
    }
   ],
   "source": [
    "plt.plot(d[0,0:2000000:16])"
   ]
  },
  {
   "cell_type": "code",
   "execution_count": 1,
   "metadata": {},
   "outputs": [
    {
     "ename": "NameError",
     "evalue": "name 'plt' is not defined",
     "output_type": "error",
     "traceback": [
      "\u001b[1;31m---------------------------------------------------------------------------\u001b[0m",
      "\u001b[1;31mNameError\u001b[0m                                 Traceback (most recent call last)",
      "\u001b[1;32m<ipython-input-1-08833efed17c>\u001b[0m in \u001b[0;36m<module>\u001b[1;34m\u001b[0m\n\u001b[1;32m----> 1\u001b[1;33m \u001b[0mplt\u001b[0m\u001b[1;33m.\u001b[0m\u001b[0mplot\u001b[0m\u001b[1;33m(\u001b[0m\u001b[0mt\u001b[0m\u001b[1;33m[\u001b[0m\u001b[1;33m:\u001b[0m\u001b[1;33m:\u001b[0m\u001b[1;36m16\u001b[0m\u001b[1;33m]\u001b[0m\u001b[1;33m,\u001b[0m\u001b[0mdigital\u001b[0m\u001b[1;33m[\u001b[0m\u001b[1;34m'Exp'\u001b[0m\u001b[1;33m]\u001b[0m\u001b[1;33m[\u001b[0m\u001b[1;33m:\u001b[0m\u001b[1;33m:\u001b[0m\u001b[1;36m16\u001b[0m\u001b[1;33m]\u001b[0m\u001b[1;33m)\u001b[0m\u001b[1;33m\u001b[0m\u001b[1;33m\u001b[0m\u001b[0m\n\u001b[0m",
      "\u001b[1;31mNameError\u001b[0m: name 'plt' is not defined"
     ]
    }
   ],
   "source": [
    "plt.plot(t[::16],digital['Exp'][::16])"
   ]
  },
  {
   "cell_type": "code",
   "execution_count": 2,
   "metadata": {},
   "outputs": [],
   "source": [
    "os.chdir('D:\\Rat03\\Rat03-20201002')"
   ]
  },
  {
   "cell_type": "code",
   "execution_count": 29,
   "metadata": {},
   "outputs": [],
   "source": [
    "# data = bk.load.digitalin('digitalin.dat')\n",
    "l = lfp(0,500,102,5)"
   ]
  },
  {
   "cell_type": "code",
   "execution_count": 18,
   "metadata": {},
   "outputs": [],
   "source": [
    "t = np.arange(0,len(data[0,:])/20000,1/20000,dtype = 'float16')"
   ]
  },
  {
   "cell_type": "code",
   "execution_count": 35,
   "metadata": {},
   "outputs": [
    {
     "data": {
      "text/plain": [
       "(0.0, 10.0)"
      ]
     },
     "execution_count": 35,
     "metadata": {},
     "output_type": "execute_result"
    }
   ],
   "source": [
    "plt.plot(l.as_units('s'))\n",
    "plt.plot(t[0:20000*10],data[0,0:20000*10]*1000)\n",
    "plt.xlim(0,10)"
   ]
  },
  {
   "cell_type": "code",
   "execution_count": 20,
   "metadata": {},
   "outputs": [
    {
     "data": {
      "text/plain": [
       "(155964960,)"
      ]
     },
     "execution_count": 20,
     "metadata": {},
     "output_type": "execute_result"
    }
   ],
   "source": [
    "t.shape"
   ]
  },
  {
   "cell_type": "code",
   "execution_count": 15,
   "metadata": {},
   "outputs": [],
   "source": [
    "import numpy as np"
   ]
  },
  {
   "cell_type": "code",
   "execution_count": 24,
   "metadata": {},
   "outputs": [
    {
     "data": {
      "text/plain": [
       "<matplotlib.lines.Line2D at 0x197a3838c70>"
      ]
     },
     "execution_count": 24,
     "metadata": {},
     "output_type": "execute_result"
    }
   ],
   "source": [
    "plt.plot(t[::2],data[0,::2])\n",
    "plt.axvline(107352/1000,color = 'red')\n",
    "plt.axvline(7370748/1000,color = 'red')\n",
    "plt.axvline(7582031.9999999/1000,color = 'red')"
   ]
  },
  {
   "cell_type": "code",
   "execution_count": null,
   "metadata": {},
   "outputs": [],
   "source": [
    "def DLC_pos(filtered = True):\n",
    "    \"\"\"\n",
    "    Load position from DLC files (*.h5) and returns it as a nts.TsdFrame\n",
    "    \"\"\"\n",
    "    \n",
    "    files = os.listdir()\n",
    "    for f in files:\n",
    "        if filtered and f.endswith('filtered.h5'): \n",
    "            filename = f\n",
    "            break\n",
    "        if not filtered and not f.endswith('filtered.h5') and f.endswith('.h5'):\n",
    "            filename = f\n",
    "            break\n",
    "            \n",
    "    data = pd.read_hdf(filename)\n",
    "    data = data[data.keys()[0][0]]\n",
    "    \n",
    "    TTL = bk.load.digitalin('digitalin.dat')[0,:]\n",
    "    tf = np.array(bk.compute.TTL_to_times(TTL))\n",
    "    \n",
    "    if len(tf)>len(data):\n",
    "        tf = np.delete(tf,-1)\n",
    "    \n",
    "    data.index = tf * 1_000_000\n",
    "    pos = nts.TsdFrame(data)\n",
    "    return pos\n",
    "        "
   ]
  },
  {
   "cell_type": "code",
   "execution_count": 6,
   "metadata": {},
   "outputs": [],
   "source": [
    "path = 'Y:\\classical_fear_conditionning\\Rat01-20200630'\n",
    "subpath = os.listdir(path)\n",
    "\n",
    "os.chdir(os.path.join(path,subpath[0]))\n",
    "pos = bk.load.DLC_pos()\n",
    "speed = bk.compute.speed(pos,2,columns_to_drop=['e_tail'])\n"
   ]
  },
  {
   "cell_type": "code",
   "execution_count": 9,
   "metadata": {},
   "outputs": [],
   "source": [
    "plt.figure()\n",
    "fr = bk.compute.freezing_intervals(speed,18,mode='multiple_speed',clean = True)\n",
    "bk.plot.intervals(fr,'orange')"
   ]
  },
  {
   "cell_type": "code",
   "execution_count": 2,
   "metadata": {},
   "outputs": [],
   "source": [
    "start = [0,5,10,12]\n",
    "end = [4.5,6,11,12.1]\n",
    "\n",
    "a = nts.IntervalSet(start,end,time_units='s')"
   ]
  },
  {
   "cell_type": "code",
   "execution_count": 5,
   "metadata": {},
   "outputs": [
    {
     "data": {
      "text/html": [
       "<div>\n",
       "<style scoped>\n",
       "    .dataframe tbody tr th:only-of-type {\n",
       "        vertical-align: middle;\n",
       "    }\n",
       "\n",
       "    .dataframe tbody tr th {\n",
       "        vertical-align: top;\n",
       "    }\n",
       "\n",
       "    .dataframe thead th {\n",
       "        text-align: right;\n",
       "    }\n",
       "</style>\n",
       "<table border=\"1\" class=\"dataframe\">\n",
       "  <thead>\n",
       "    <tr style=\"text-align: right;\">\n",
       "      <th></th>\n",
       "      <th>start</th>\n",
       "      <th>end</th>\n",
       "    </tr>\n",
       "  </thead>\n",
       "  <tbody>\n",
       "  </tbody>\n",
       "</table>\n",
       "</div>"
      ],
      "text/plain": [
       "Empty IntervalSet\n",
       "Columns: [start, end]\n",
       "Index: []"
      ]
     },
     "execution_count": 5,
     "metadata": {},
     "output_type": "execute_result"
    }
   ],
   "source": [
    "a.drop_short_intervals(4.6,time_units='s')"
   ]
  },
  {
   "cell_type": "code",
   "execution_count": 8,
   "metadata": {},
   "outputs": [],
   "source": [
    "plt.show()"
   ]
  },
  {
   "cell_type": "code",
   "execution_count": 27,
   "metadata": {},
   "outputs": [],
   "source": [
    "pos = nts.TsdFrame(np.linspace(0,50,len(data)),data)"
   ]
  },
  {
   "cell_type": "code",
   "execution_count": 8,
   "metadata": {},
   "outputs": [],
   "source": [
    "# path = 'Y:/ExampleSession/rat01_200630_114732'\n",
    "# path = 'Y:/ExampleSession/rat01_200630_171900'\n",
    "# path = 'Y:/ExampleSession/rat01_200630_183149/'\n",
    "\n",
    "# path = 'Y:/ExampleSession/RAT02/rat02_200707_114611'\n",
    "\n",
    "\n",
    "# i = 1\n",
    "# title = ['Fear','Tone','Context']\n",
    "\n",
    "# os.chdir(path)\n",
    "# step = 1\n",
    "\n",
    "# time,data = load_digitalin(['TTL','Shock','Tone'])\n",
    "# pos = load_pos()\n",
    "\n",
    "# s = speed(pos['snout'])\n",
    "# s = scipy.ndimage.gaussian_filter1d(s,1)\n",
    "\n",
    "# tf = TTLtoTimes(data['TTL'])\n",
    "# time = time-tf[0]\n",
    "# tf = np.delete(tf,-1)\n",
    "\n",
    "# pos.index = tf-tf[0]\n",
    "# time = time[0:-1:step]\n",
    "\n",
    "# fig = plt.subplot(1,1,i)\n",
    "# plt.tight_layout()\n",
    "# plt.title(title[i-1])\n",
    "# plt.plot(time,data['TTL'][0:-1:step])\n",
    "# plt.plot(time,data['Shock'][0:-1:step] * 3)\n",
    "# plt.plot(time,data['Tone'][0:-1:step]*2)\n",
    "# plt.plot(pos.index[:-1],s/15)\n",
    "# plt.legend(['TTL','Shock','Tone','Speed'])\n",
    "# plt.xlabel('Time (s)')\n",
    "# #plt.vlines(x=tf,ymin = 0, ymax = 3,color='red')\n",
    "# i += 1\n",
    "\n",
    "# plt.show()"
   ]
  },
  {
   "cell_type": "code",
   "execution_count": 9,
   "metadata": {},
   "outputs": [],
   "source": [
    "def freezing(speed,treshold, mode='single_speed'):\n",
    "    \"\"\"\n",
    "        BK 8/11/20\n",
    "        Input \n",
    "            speed: speed vector as output by bk.compute.speed (not yet implemented. But it's an nts.frame)\n",
    "            treshold: arbritary units\n",
    "    \"\"\"\n",
    "    \n",
    "    if mode.lower() =='single_speed':\n",
    "        fs =  1/scipy.stats.mode(np.diff(speed.index)).mode[0]\n",
    "        freezing = speed.values<threshold\n",
    "        if freezing[0] == 1: freezing[0] = 0\n",
    "        if freezing[-1] == 1: freezing = np.append(freezing,0)\n",
    "\n",
    "        dfreeze = np.diff(freezing.astype(np.int8))\n",
    "        start = np.where(dfreeze == 1)[0]/fs + speed.index[0]\n",
    "        end = np.where(dfreeze == -1)[0]/fs + speed.index[0]\n",
    "    elif mode.lower() == 'multiple_speed':\n",
    "        fs =  1/scipy.stats.mode(np.diff(speed.index)).mode[0]\n",
    "        freezing = np.array((np.sum(all_speed.as_units('s'),axis = 1))/5 < threshold)\n",
    "        if freezing[0] == 1: freezing[0] = 0\n",
    "        if freezing[-1] == 1: freezing = np.append(freezing,0)\n",
    "\n",
    "        dfreeze = np.diff(freezing.astype(np.int8))\n",
    "        start = np.where(dfreeze == 1)[0]/fs + speed.index[0]\n",
    "        end = np.where(dfreeze == -1)[0]/fs + speed.index[0]\n",
    "        #print('not implemented')\n",
    "    elif mode.lower() == 'pca':\n",
    "        print('not implanted')\n",
    "    else:\n",
    "        print('Mode not recognized')\n",
    "        return False\n",
    "    freezing_intervals = nts.IntervalSet(start,end)\n",
    "    return freezing_intervals\n",
    "\n",
    "def consolidate_intervals(freezing_intervals,t_min):\n",
    "    starts = []\n",
    "    ends = []\n",
    "    for i,z in enumerate(zip(freezing_intervals.as_units('s').start, freezing_intervals.as_units('s').end)):\n",
    "        s=z[0]\n",
    "        e=z[1]\n",
    "        if ends:\n",
    "            if s<ends[-1]: continue\n",
    "        if i == freezing_intervals.shape[0]-1:\n",
    "            starts.append(s)\n",
    "            ends.append(e)\n",
    "        elif freezing_intervals.as_units('s').start[i+1]-e<t_min:\n",
    "            starts.append(s)\n",
    "            j=i\n",
    "            while freezing_intervals.as_units('s').start[j+1]-freezing_intervals.as_units('s').end[j]<t_min and j<(len(freezing_intervals.as_units('s').start)-2):\n",
    "                j=j+1\n",
    "            if j<(len(freezing_intervals.as_units('s').start)-2):\n",
    "                ends.append(freezing_intervals.as_units('s').end[j])\n",
    "            else:\n",
    "                ends.append(freezing_intervals.as_units('s').end[j+1])\n",
    "        else:\n",
    "            starts.append(s)\n",
    "            ends.append(e)\n",
    "        \n",
    "    freeze = nts.IntervalSet(starts,ends,time_units = 's')\n",
    "    return freeze\n",
    "\n",
    "def freezing_video(video_path,output_file,tf,freezing_intervals):\n",
    "    \n",
    "    \"\"\"\n",
    "        video_path : path to the video to be displaying\n",
    "        outputfile : path to the video to written\n",
    "        tf : vector of time containing timing of each frame\n",
    "        freezing intervals : Intervals when the animal is freezing (as nts.Interval_Set)\n",
    "    \"\"\"\n",
    "    import cv2\n",
    "\n",
    "    if os.path.exists(output_file):\n",
    "        print(output_file,'already exist, please delete manually')\n",
    "        return\n",
    "    \n",
    "    tf = nts.Ts(tf-tf[0],time_units='s')\n",
    "    freezing_frames = np.where(freezing_intervals.in_interval(tf)>=0)[0]\n",
    "    fs =  1/scipy.stats.mode(np.diff(tf.as_units('s').index)).mode[0]\n",
    "    cap  = cv2.VideoCapture(video_path)\n",
    "    frame_width = int(cap.get(3))\n",
    "    frame_height = int(cap.get(4))\n",
    "    \n",
    "    nf = 0\n",
    "    out = cv2.VideoWriter(output_file,cv2.VideoWriter_fourcc('M','J','P','G'), fs, (frame_width,frame_height))\n",
    "    while True:\n",
    "        \n",
    "        ret,frame = cap.read()\n",
    "        if ret == True:\n",
    "            if nf in freezing_frames: frame = cv2.circle(frame,(25,25),10,(0,0,255),20)\n",
    "\n",
    "            cv2.imshow(video_path,frame)\n",
    "            out.write(frame)\n",
    "            if cv2.waitKey(1) & 0xFF == ord('q'): \n",
    "                break\n",
    "            nf +=1\n",
    "        else:\n",
    "            break\n",
    "    cap.release()\n",
    "    out.release()\n",
    "    \n",
    "    return True"
   ]
  },
  {
   "cell_type": "code",
   "execution_count": 10,
   "metadata": {},
   "outputs": [
    {
     "name": "stdout",
     "output_type": "stream",
     "text": [
      "[11.6357088  12.24101139 12.79317226 ...  8.76313895  9.21187629\n",
      "  9.39674661]\n"
     ]
    }
   ],
   "source": [
    "# path = '/media/billel/DATA/ExampleSession/RAT01/'\n",
    "path = 'Y:/ExampleSession/RAT01/'\n",
    "subpath = os.listdir(path)\n",
    "\n",
    "os.chdir(os.path.join(path,subpath[0]))\n",
    "# os.chdir('Y:/ExampleSession/RAT01/rat01_200630_171900')\n",
    "step = 20\n",
    "\n",
    "time,data = load_digitalin(['TTL','Shock','Tone'])\n",
    "\n",
    "tf = TTLtoTimes(data['TTL'])\n",
    "tf = np.delete(tf,-1)\n",
    "\n",
    "time = time-tf[0]\n",
    "\n",
    "pos = load_pos()\n",
    "pos.index = tf-tf[0]\n",
    "\n",
    "\n",
    "s = speed(pos['snout'])\n",
    "s = scipy.ndimage.gaussian_filter1d(s,2)\n",
    "print(s)\n",
    "s = nts.Tsd(pos.index.values[:-1],s,time_units='s')\n",
    "\n",
    "\n",
    "time = time[0:-1:step]\n",
    "fig = plt.subplot(1,1,1)\n",
    "plt.tight_layout()\n",
    "plt.title('Freezing')\n",
    "plt.plot(time,data['TTL'][0:-1:step])\n",
    "plt.plot(time,data['Shock'][0:-1:step] * 3)\n",
    "plt.plot(time,data['Tone'][0:-1:step]*2)\n",
    "plt.plot(pos.index[:-1],s.values/1500)\n",
    "plt.legend(['TTL','Shock','Tone','Speed'])\n",
    "plt.xlabel('Time (s)')\n",
    "#plt.vlines(x=tf,ymin = 0, ymax = 3,color='red')\n",
    "\n",
    "freezing_intervals = bk.compute.freezing_intervals(s,50)\n",
    "freezing_intervals = consolidate_intervals(freezing_intervals,0.300)\n",
    "freezing_intervals = freezing_intervals[(freezing_intervals.as_units('s').end-freezing_intervals.as_units('s').start)>2.5]\n",
    "\n",
    "bk.plot.intervals(freezing_intervals,col='orange')\n",
    "\n",
    "plt.show()\n",
    "\n",
    "# freezing_video(video_path='rat01-fear.mp4',output_file='freezing.avi',tf = tf,freezing_intervals = freezing_intervals)"
   ]
  },
  {
   "cell_type": "code",
   "execution_count": 13,
   "metadata": {},
   "outputs": [],
   "source": [
    "a = bk.compute.tone_intervals(data['Tone'])"
   ]
  },
  {
   "cell_type": "code",
   "execution_count": 11,
   "metadata": {},
   "outputs": [
    {
     "data": {
      "text/html": [
       "<div>\n",
       "<style scoped>\n",
       "    .dataframe tbody tr th:only-of-type {\n",
       "        vertical-align: middle;\n",
       "    }\n",
       "\n",
       "    .dataframe tbody tr th {\n",
       "        vertical-align: top;\n",
       "    }\n",
       "\n",
       "    .dataframe thead th {\n",
       "        text-align: right;\n",
       "    }\n",
       "</style>\n",
       "<table border=\"1\" class=\"dataframe\">\n",
       "  <thead>\n",
       "    <tr style=\"text-align: right;\">\n",
       "      <th></th>\n",
       "      <th>start</th>\n",
       "      <th>end</th>\n",
       "    </tr>\n",
       "  </thead>\n",
       "  <tbody>\n",
       "    <tr>\n",
       "      <th>0</th>\n",
       "      <td>0</td>\n",
       "      <td>11163875</td>\n",
       "    </tr>\n",
       "    <tr>\n",
       "      <th>1</th>\n",
       "      <td>11630425</td>\n",
       "      <td>18295425</td>\n",
       "    </tr>\n",
       "    <tr>\n",
       "      <th>24</th>\n",
       "      <td>66416725</td>\n",
       "      <td>69782550</td>\n",
       "    </tr>\n",
       "    <tr>\n",
       "      <th>31</th>\n",
       "      <td>79880025</td>\n",
       "      <td>85012075</td>\n",
       "    </tr>\n",
       "    <tr>\n",
       "      <th>36</th>\n",
       "      <td>92176950</td>\n",
       "      <td>96775800</td>\n",
       "    </tr>\n",
       "    <tr>\n",
       "      <th>49</th>\n",
       "      <td>116270925</td>\n",
       "      <td>120603175</td>\n",
       "    </tr>\n",
       "    <tr>\n",
       "      <th>53</th>\n",
       "      <td>123769050</td>\n",
       "      <td>128634500</td>\n",
       "    </tr>\n",
       "    <tr>\n",
       "      <th>73</th>\n",
       "      <td>158293750</td>\n",
       "      <td>173223350</td>\n",
       "    </tr>\n",
       "    <tr>\n",
       "      <th>74</th>\n",
       "      <td>175222850</td>\n",
       "      <td>184020650</td>\n",
       "    </tr>\n",
       "    <tr>\n",
       "      <th>76</th>\n",
       "      <td>186953250</td>\n",
       "      <td>191885350</td>\n",
       "    </tr>\n",
       "    <tr>\n",
       "      <th>80</th>\n",
       "      <td>196750800</td>\n",
       "      <td>224277250</td>\n",
       "    </tr>\n",
       "    <tr>\n",
       "      <th>81</th>\n",
       "      <td>224610500</td>\n",
       "      <td>232775125</td>\n",
       "    </tr>\n",
       "    <tr>\n",
       "      <th>82</th>\n",
       "      <td>233908175</td>\n",
       "      <td>256402550</td>\n",
       "    </tr>\n",
       "    <tr>\n",
       "      <th>85</th>\n",
       "      <td>260101625</td>\n",
       "      <td>265433625</td>\n",
       "    </tr>\n",
       "    <tr>\n",
       "      <th>88</th>\n",
       "      <td>270099125</td>\n",
       "      <td>323419125</td>\n",
       "    </tr>\n",
       "    <tr>\n",
       "      <th>91</th>\n",
       "      <td>331317150</td>\n",
       "      <td>349712550</td>\n",
       "    </tr>\n",
       "    <tr>\n",
       "      <th>98</th>\n",
       "      <td>355777700</td>\n",
       "      <td>358843600</td>\n",
       "    </tr>\n",
       "    <tr>\n",
       "      <th>101</th>\n",
       "      <td>360943075</td>\n",
       "      <td>373140025</td>\n",
       "    </tr>\n",
       "    <tr>\n",
       "      <th>102</th>\n",
       "      <td>373506600</td>\n",
       "      <td>379071875</td>\n",
       "    </tr>\n",
       "    <tr>\n",
       "      <th>105</th>\n",
       "      <td>381871175</td>\n",
       "      <td>389036050</td>\n",
       "    </tr>\n",
       "    <tr>\n",
       "      <th>109</th>\n",
       "      <td>393668225</td>\n",
       "      <td>400833100</td>\n",
       "    </tr>\n",
       "    <tr>\n",
       "      <th>117</th>\n",
       "      <td>409797525</td>\n",
       "      <td>445655225</td>\n",
       "    </tr>\n",
       "    <tr>\n",
       "      <th>118</th>\n",
       "      <td>446055125</td>\n",
       "      <td>473614900</td>\n",
       "    </tr>\n",
       "    <tr>\n",
       "      <th>119</th>\n",
       "      <td>476480850</td>\n",
       "      <td>479680050</td>\n",
       "    </tr>\n",
       "    <tr>\n",
       "      <th>120</th>\n",
       "      <td>480013300</td>\n",
       "      <td>483612400</td>\n",
       "    </tr>\n",
       "    <tr>\n",
       "      <th>122</th>\n",
       "      <td>487011550</td>\n",
       "      <td>583354125</td>\n",
       "    </tr>\n",
       "    <tr>\n",
       "      <th>130</th>\n",
       "      <td>592385200</td>\n",
       "      <td>597517250</td>\n",
       "    </tr>\n",
       "  </tbody>\n",
       "</table>\n",
       "</div>"
      ],
      "text/plain": [
       "         start        end\n",
       "0            0   11163875\n",
       "1     11630425   18295425\n",
       "24    66416725   69782550\n",
       "31    79880025   85012075\n",
       "36    92176950   96775800\n",
       "49   116270925  120603175\n",
       "53   123769050  128634500\n",
       "73   158293750  173223350\n",
       "74   175222850  184020650\n",
       "76   186953250  191885350\n",
       "80   196750800  224277250\n",
       "81   224610500  232775125\n",
       "82   233908175  256402550\n",
       "85   260101625  265433625\n",
       "88   270099125  323419125\n",
       "91   331317150  349712550\n",
       "98   355777700  358843600\n",
       "101  360943075  373140025\n",
       "102  373506600  379071875\n",
       "105  381871175  389036050\n",
       "109  393668225  400833100\n",
       "117  409797525  445655225\n",
       "118  446055125  473614900\n",
       "119  476480850  479680050\n",
       "120  480013300  483612400\n",
       "122  487011550  583354125\n",
       "130  592385200  597517250"
      ]
     },
     "execution_count": 11,
     "metadata": {},
     "output_type": "execute_result"
    }
   ],
   "source": [
    "freezing_intervals"
   ]
  },
  {
   "cell_type": "code",
   "execution_count": 7,
   "metadata": {},
   "outputs": [
    {
     "data": {
      "text/plain": [
       "<Figure size 640x480 with 0 Axes>"
      ]
     },
     "execution_count": 7,
     "metadata": {},
     "output_type": "execute_result"
    }
   ],
   "source": [
    "plt.figure()"
   ]
  },
  {
   "cell_type": "code",
   "execution_count": 31,
   "metadata": {},
   "outputs": [],
   "source": [
    "# plt.plot(data['Tone'])\n",
    "\n",
    "Tone = TTL_to_intervals(data['Tone'])"
   ]
  },
  {
   "cell_type": "code",
   "execution_count": 32,
   "metadata": {},
   "outputs": [],
   "source": [
    "Tone = nts.IntervalSet(Tone[0],Tone[1],time_units='s')"
   ]
  },
  {
   "cell_type": "code",
   "execution_count": 33,
   "metadata": {},
   "outputs": [],
   "source": [
    "Tone = Tone.merge_close_intervals(1,time_units='s')\n",
    "Tone = Tone.drop_short_intervals(1,time_units = 's')"
   ]
  },
  {
   "cell_type": "code",
   "execution_count": 34,
   "metadata": {},
   "outputs": [],
   "source": [
    "bk.plot.intervals(Tone,col = 'Orange')"
   ]
  },
  {
   "cell_type": "code",
   "execution_count": 39,
   "metadata": {},
   "outputs": [
    {
     "name": "stdout",
     "output_type": "stream",
     "text": [
      "['base_tail' 'end_tail' 'left_ear' 'right_ear' 'snout']\n"
     ]
    }
   ],
   "source": [
    "body = []\n",
    "for i in pos:\n",
    "    body.append(i[0])\n",
    "body = np.unique(body)\n",
    "print(body)"
   ]
  },
  {
   "cell_type": "code",
   "execution_count": 26,
   "metadata": {},
   "outputs": [],
   "source": [
    "all_speed = np.empty((len(pos)-1,5))\n",
    "i = 0\n",
    "for b in body:\n",
    "    all_speed[:,i] = speed(pos[b])\n",
    "    i +=1\n",
    "plt.figure()\n",
    "all_speed = all_speed[1500:,:]\n",
    "all_speed = scipy.ndimage.gaussian_filter1d(all_speed,2,axis=0)\n",
    "plt.plot(all_speed)\n",
    "plt.legend(body)\n",
    "all_speed = nts.TsdFrame(t = pos.index.values[1500:-1],d = all_speed, time_units = 's',columns = body)"
   ]
  },
  {
   "cell_type": "code",
   "execution_count": 221,
   "metadata": {},
   "outputs": [],
   "source": [
    "y = np.sin(np.arange(0,6,0.01))\n",
    "np_conv = np.convolve(y,gaussian,'same')/10\n",
    "scipy_conv = scipy.signal.fftconvolve(y,gaussian,'same')\n",
    "scipy_filter = scipy.ndimage.gaussian_filter1d(y,10)"
   ]
  },
  {
   "cell_type": "code",
   "execution_count": 222,
   "metadata": {},
   "outputs": [
    {
     "data": {
      "text/plain": [
       "<matplotlib.legend.Legend at 0x20c8b119948>"
      ]
     },
     "execution_count": 222,
     "metadata": {},
     "output_type": "execute_result"
    }
   ],
   "source": [
    "plt.plot(y)\n",
    "plt.plot(np_conv)\n",
    "plt.plot(scipy_conv)\n",
    "plt.plot(scipy_filter)\n",
    "\n",
    "plt.legend(['ori','np','scipy conv','scipy ndimage'])"
   ]
  },
  {
   "cell_type": "code",
   "execution_count": 134,
   "metadata": {},
   "outputs": [],
   "source": [
    "speedos = nts.TsdFrame(t = tf)"
   ]
  },
  {
   "cell_type": "code",
   "execution_count": 143,
   "metadata": {},
   "outputs": [],
   "source": []
  },
  {
   "cell_type": "code",
   "execution_count": 144,
   "metadata": {},
   "outputs": [
    {
     "data": {
      "text/html": [
       "<div>\n",
       "<style scoped>\n",
       "    .dataframe tbody tr th:only-of-type {\n",
       "        vertical-align: middle;\n",
       "    }\n",
       "\n",
       "    .dataframe tbody tr th {\n",
       "        vertical-align: top;\n",
       "    }\n",
       "\n",
       "    .dataframe thead th {\n",
       "        text-align: right;\n",
       "    }\n",
       "</style>\n",
       "<table border=\"1\" class=\"dataframe\">\n",
       "  <thead>\n",
       "    <tr style=\"text-align: right;\">\n",
       "      <th></th>\n",
       "      <th>base_tail</th>\n",
       "      <th>end_tail</th>\n",
       "      <th>left_ear</th>\n",
       "      <th>right_ear</th>\n",
       "      <th>snout</th>\n",
       "    </tr>\n",
       "    <tr>\n",
       "      <th>Time (us)</th>\n",
       "      <th></th>\n",
       "      <th></th>\n",
       "      <th></th>\n",
       "      <th></th>\n",
       "      <th></th>\n",
       "    </tr>\n",
       "  </thead>\n",
       "  <tbody>\n",
       "    <tr>\n",
       "      <th>0</th>\n",
       "      <td>37.583033</td>\n",
       "      <td>724.806739</td>\n",
       "      <td>1190.980166</td>\n",
       "      <td>683.069592</td>\n",
       "      <td>1358.278619</td>\n",
       "    </tr>\n",
       "    <tr>\n",
       "      <th>33325</th>\n",
       "      <td>37.569126</td>\n",
       "      <td>734.036610</td>\n",
       "      <td>1183.248852</td>\n",
       "      <td>657.804164</td>\n",
       "      <td>1361.083096</td>\n",
       "    </tr>\n",
       "    <tr>\n",
       "      <th>66650</th>\n",
       "      <td>37.516557</td>\n",
       "      <td>749.482695</td>\n",
       "      <td>1167.085870</td>\n",
       "      <td>610.186259</td>\n",
       "      <td>1366.088526</td>\n",
       "    </tr>\n",
       "    <tr>\n",
       "      <th>99975</th>\n",
       "      <td>37.380474</td>\n",
       "      <td>765.833503</td>\n",
       "      <td>1141.208035</td>\n",
       "      <td>545.493193</td>\n",
       "      <td>1372.104397</td>\n",
       "    </tr>\n",
       "    <tr>\n",
       "      <th>133325</th>\n",
       "      <td>37.102946</td>\n",
       "      <td>776.710469</td>\n",
       "      <td>1104.110209</td>\n",
       "      <td>470.389676</td>\n",
       "      <td>1377.368749</td>\n",
       "    </tr>\n",
       "    <tr>\n",
       "      <th>...</th>\n",
       "      <td>...</td>\n",
       "      <td>...</td>\n",
       "      <td>...</td>\n",
       "      <td>...</td>\n",
       "      <td>...</td>\n",
       "    </tr>\n",
       "    <tr>\n",
       "      <th>622420199</th>\n",
       "      <td>8.080557</td>\n",
       "      <td>27.901076</td>\n",
       "      <td>15.482479</td>\n",
       "      <td>13.704811</td>\n",
       "      <td>12.590928</td>\n",
       "    </tr>\n",
       "    <tr>\n",
       "      <th>622453524</th>\n",
       "      <td>8.057923</td>\n",
       "      <td>28.757154</td>\n",
       "      <td>15.204255</td>\n",
       "      <td>13.513517</td>\n",
       "      <td>12.524467</td>\n",
       "    </tr>\n",
       "    <tr>\n",
       "      <th>622486850</th>\n",
       "      <td>8.046167</td>\n",
       "      <td>29.480066</td>\n",
       "      <td>14.942245</td>\n",
       "      <td>13.340893</td>\n",
       "      <td>12.481720</td>\n",
       "    </tr>\n",
       "    <tr>\n",
       "      <th>622520199</th>\n",
       "      <td>8.041334</td>\n",
       "      <td>30.004413</td>\n",
       "      <td>14.740363</td>\n",
       "      <td>13.211495</td>\n",
       "      <td>12.457083</td>\n",
       "    </tr>\n",
       "    <tr>\n",
       "      <th>622553524</th>\n",
       "      <td>8.039854</td>\n",
       "      <td>30.281102</td>\n",
       "      <td>14.630875</td>\n",
       "      <td>13.142287</td>\n",
       "      <td>12.445980</td>\n",
       "    </tr>\n",
       "  </tbody>\n",
       "</table>\n",
       "<p>18678 rows × 5 columns</p>\n",
       "</div>"
      ],
      "text/plain": [
       "           base_tail    end_tail     left_ear   right_ear        snout\n",
       "Time (us)                                                             \n",
       "0          37.583033  724.806739  1190.980166  683.069592  1358.278619\n",
       "33325      37.569126  734.036610  1183.248852  657.804164  1361.083096\n",
       "66650      37.516557  749.482695  1167.085870  610.186259  1366.088526\n",
       "99975      37.380474  765.833503  1141.208035  545.493193  1372.104397\n",
       "133325     37.102946  776.710469  1104.110209  470.389676  1377.368749\n",
       "...              ...         ...          ...         ...          ...\n",
       "622420199   8.080557   27.901076    15.482479   13.704811    12.590928\n",
       "622453524   8.057923   28.757154    15.204255   13.513517    12.524467\n",
       "622486850   8.046167   29.480066    14.942245   13.340893    12.481720\n",
       "622520199   8.041334   30.004413    14.740363   13.211495    12.457083\n",
       "622553524   8.039854   30.281102    14.630875   13.142287    12.445980\n",
       "\n",
       "[18678 rows x 5 columns]"
      ]
     },
     "execution_count": 144,
     "metadata": {},
     "output_type": "execute_result"
    }
   ],
   "source": [
    "speedos"
   ]
  },
  {
   "cell_type": "code",
   "execution_count": 13,
   "metadata": {},
   "outputs": [],
   "source": [
    "import sklearn.manifold as skm\n",
    "import scipy.stats\n",
    "from matplotlib import cm"
   ]
  },
  {
   "cell_type": "code",
   "execution_count": 40,
   "metadata": {},
   "outputs": [],
   "source": [
    "tsne = skm.TSNE(n_components=2).fit_transform(all_speed)"
   ]
  },
  {
   "cell_type": "code",
   "execution_count": 42,
   "metadata": {},
   "outputs": [
    {
     "data": {
      "text/plain": [
       "<matplotlib.colorbar.Colorbar at 0x7f612c08a9a0>"
      ]
     },
     "execution_count": 42,
     "metadata": {},
     "output_type": "execute_result"
    }
   ],
   "source": [
    "c = scipy.stats.zscore(all_speed.snout.values)\n",
    "# c = np.linspace(0,1,len(all_speed))\n",
    "viridis = cm.get_cmap('viridis')\n",
    "plt.clf()\n",
    "plt.scatter(tsne[:,0],tsne[:,1],cmap=plt.get_cmap('viridis'),c =viridis(c) )\n",
    "plt.colorbar()"
   ]
  },
  {
   "cell_type": "code",
   "execution_count": 1,
   "metadata": {},
   "outputs": [],
   "source": [
    "def plot_frame_video(video_path):\n",
    "    \n",
    "    \"\"\"\n",
    "        video_path : path to the video to be displaying\n",
    "        outputfile : path to the video to written\n",
    "        tf : vector of time containing timing of each frame\n",
    "        freezing intervals : Intervals when the animal is freezing (as nts.Interval_Set)\n",
    "    \"\"\"\n",
    "\n",
    "    \n",
    "\n",
    "    import cv2\n",
    "    cap  = cv2.VideoCapture(video_path)\n",
    "    frame_width = int(cap.get(3))\n",
    "    frame_height = int(cap.get(4))\n",
    "\n",
    "    while True:\n",
    "        ret,frame = cap.read()\n",
    "        if ret == True:\n",
    "            cv2.imshow(video_path,frame)\n",
    "        else:\n",
    "            break\n",
    "            \n",
    "        if cv2.waitKey(1) & 0xFF == ord('q'): \n",
    "            break\n",
    "        \n",
    "    cap.release()\n",
    "    \n",
    "    return True"
   ]
  },
  {
   "cell_type": "code",
   "execution_count": 3,
   "metadata": {},
   "outputs": [
    {
     "data": {
      "text/plain": [
       "True"
      ]
     },
     "execution_count": 3,
     "metadata": {},
     "output_type": "execute_result"
    }
   ],
   "source": [
    "plot_frame_video('/media/sf_Y/classical_fear_conditionning/Rat09-20201118/Rat09_201118_110003/Basler_acA1300-200uc__23039139__20201118_110005549.mp4')"
   ]
  },
  {
   "cell_type": "code",
   "execution_count": 103,
   "metadata": {},
   "outputs": [],
   "source": [
    "import sklearn.manifold as skm"
   ]
  },
  {
   "cell_type": "code",
   "execution_count": 62,
   "metadata": {},
   "outputs": [],
   "source": []
  },
  {
   "cell_type": "code",
   "execution_count": 86,
   "metadata": {},
   "outputs": [],
   "source": [
    "from matplotlib import cm"
   ]
  },
  {
   "cell_type": "code",
   "execution_count": 88,
   "metadata": {},
   "outputs": [],
   "source": []
  },
  {
   "cell_type": "code",
   "execution_count": 94,
   "metadata": {},
   "outputs": [
    {
     "data": {
      "text/plain": [
       "<matplotlib.colorbar.Colorbar at 0x7f8e293ca5b0>"
      ]
     },
     "execution_count": 94,
     "metadata": {},
     "output_type": "execute_result"
    }
   ],
   "source": []
  },
  {
   "cell_type": "code",
   "execution_count": null,
   "metadata": {},
   "outputs": [],
   "source": [
    "def GetStartExp(Exp,Fs = 20000):\n",
    "    \n",
    "    if isinstance(Exp[0],(np.bool_,bool)):\n",
    "        Exp = list(map(int,Exp))\n",
    "    \n",
    "    diff_Exp = np.diff(Exp)\n",
    "    \n",
    "    t_start = np.where(diff_Exp == 1)[0]    \n",
    "    return t_start/Fs"
   ]
  },
  {
   "cell_type": "code",
   "execution_count": null,
   "metadata": {},
   "outputs": [],
   "source": [
    "files = os.listdir()\n",
    "for f in files:\n",
    "    if f.endswith('.mp4'):\n",
    "        nFrame = CountFrames(f)\n",
    "\n",
    "        if len(tf)>nFrame:\n",
    "            tf = np.delete(tf,-1)\n",
    "            break"
   ]
  }
 ],
 "metadata": {
  "kernelspec": {
   "display_name": "Python 3",
   "language": "python",
   "name": "python3"
  },
  "language_info": {
   "codemirror_mode": {
    "name": "ipython",
    "version": 3
   },
   "file_extension": ".py",
   "mimetype": "text/x-python",
   "name": "python",
   "nbconvert_exporter": "python",
   "pygments_lexer": "ipython3",
   "version": "3.8.5"
  }
 },
 "nbformat": 4,
 "nbformat_minor": 4
}
