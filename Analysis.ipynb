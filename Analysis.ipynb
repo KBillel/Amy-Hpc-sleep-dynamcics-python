{
 "cells": [
  {
   "cell_type": "code",
   "execution_count": 26,
   "metadata": {},
   "outputs": [],
   "source": [
    "%matplotlib qt\n",
    "\n",
    "import neuroseries as nts\n",
    "\n",
    "import numpy as np\n",
    "import matplotlib.pyplot as plt\n",
    "import scipy.stats\n",
    "import scipy.ndimage\n",
    "import os\n",
    "\n",
    "import scipy.signal\n",
    "import scipy.stats\n",
    "\n",
    "import bk.load as bk\n",
    "import bk.plot\n",
    "import bk.compute\n",
    "\n",
    "def TTLtoTimes(TTL,Fs = 20000):\n",
    "    \n",
    "    if isinstance(TTL[0],(np.bool_,bool)):\n",
    "        TTL = list(map(int,TTL))\n",
    "    \n",
    "    diff_TTL = np.diff(TTL)\n",
    "    \n",
    "    t_start = np.where(diff_TTL == 1)[0]\n",
    "    t_end = np.where(diff_TTL == -1)[0]\n",
    "    t_TTL = np.array([np.mean(interval) for interval in zip(t_start,t_end)])\n",
    "    \n",
    "    return t_TTL/Fs\n",
    "\n",
    "def speed(pos):\n",
    "    \n",
    "    x_speed = np.diff(pos['x'])/np.diff(pos.index)\n",
    "    y_speed = np.diff(pos['y'])/np.diff(pos.index)\n",
    "    \n",
    "    v = np.sqrt(x_speed**2 + y_speed**2)\n",
    "    \n",
    "    return v\n",
    "\n",
    "def load_pos():\n",
    "    import pandas as pd\n",
    "    files = os.listdir()\n",
    "    for f in files: \n",
    "        if f.endswith('.h5'): \n",
    "            filename = f\n",
    "    \n",
    "    data = pd.read_hdf(filename)\n",
    "    data = data[data.keys()[0][0]]\n",
    "    return data\n",
    "\n",
    "def load_digitalin(channels,Fs = 20000):\n",
    "    import pandas as pd\n",
    "    \n",
    "    digital_word = np.fromfile('digitalin.dat','uint16')\n",
    "    sample = len(digital_word)\n",
    "    time = np.arange(0,sample)\n",
    "    time = time/Fs\n",
    "\n",
    "    chan = {}\n",
    "    \n",
    "    for i in range(len(channels)):\n",
    "        chan.update({channels[i]:(digital_word & 2**i)>0})\n",
    "\n",
    "    return time,chan\n",
    "\n",
    "# def load_digitalin(path,nchannels=16,Fs = 20000):\n",
    "#     import pandas as pd\n",
    "    \n",
    "#     digital_word = np.fromfile(path,'uint16')\n",
    "#     sample = len(digital_word)\n",
    "#     time = np.arange(0,sample)\n",
    "#     time = time/Fs\n",
    "\n",
    "    \n",
    "#     for i in range(nchannels):\n",
    "#         if i == 0: data = (digital_word & 2**i)>0\n",
    "#         else: data = np.vstack((data,(digital_word & 2**i)>0))\n",
    "\n",
    "#     return data\n",
    "\n"
   ]
  },
  {
   "cell_type": "code",
   "execution_count": 52,
   "metadata": {
    "jupyter": {
     "source_hidden": true
    }
   },
   "outputs": [
    {
     "name": "stderr",
     "output_type": "stream",
     "text": [
      "C:\\ProgramData\\Anaconda3\\lib\\site-packages\\ipykernel_launcher.py:27: MatplotlibDeprecationWarning: Adding an axes using the same arguments as a previous axes currently reuses the earlier instance.  In a future version, a new instance will always be created and returned.  Meanwhile, this warning can be suppressed, and the future behavior ensured, by passing a unique label to each axes instance.\n"
     ]
    }
   ],
   "source": [
    "path = 'Y:/ExampleSession/rat01_200630_114732'\n",
    "path = 'Y:/ExampleSession/rat01_200630_171900'\n",
    "path = 'Y:/ExampleSession/rat01_200630_183149/'\n",
    "\n",
    "path = 'Y:/ExampleSession/RAT02/rat02_200707_114611'\n",
    "\n",
    "\n",
    "i = 1\n",
    "title = ['Fear','Tone','Context']\n",
    "\n",
    "os.chdir(path)\n",
    "step = 1\n",
    "\n",
    "time,data = load_digitalin(['TTL','Shock','Tone'])\n",
    "pos = load_pos()\n",
    "\n",
    "s = speed(pos['snout'])\n",
    "s = scipy.ndimage.gaussian_filter1d(s,1)\n",
    "\n",
    "tf = TTLtoTimes(data['TTL'])\n",
    "time = time-tf[0]\n",
    "tf = np.delete(tf,-1)\n",
    "\n",
    "pos.index = tf-tf[0]\n",
    "time = time[0:-1:step]\n",
    "\n",
    "fig = plt.subplot(1,1,i)\n",
    "plt.tight_layout()\n",
    "plt.title(title[i-1])\n",
    "plt.plot(time,data['TTL'][0:-1:step])\n",
    "plt.plot(time,data['Shock'][0:-1:step] * 3)\n",
    "plt.plot(time,data['Tone'][0:-1:step]*2)\n",
    "plt.plot(pos.index[:-1],s/15)\n",
    "plt.legend(['TTL','Shock','Tone','Speed'])\n",
    "plt.xlabel('Time (s)')\n",
    "#plt.vlines(x=tf,ymin = 0, ymax = 3,color='red')\n",
    "i += 1\n",
    "\n",
    "plt.show()"
   ]
  },
  {
   "cell_type": "code",
   "execution_count": 54,
   "metadata": {},
   "outputs": [
    {
     "data": {
      "text/html": [
       "<div>\n",
       "<style scoped>\n",
       "    .dataframe tbody tr th:only-of-type {\n",
       "        vertical-align: middle;\n",
       "    }\n",
       "\n",
       "    .dataframe tbody tr th {\n",
       "        vertical-align: top;\n",
       "    }\n",
       "\n",
       "    .dataframe thead th {\n",
       "        text-align: right;\n",
       "    }\n",
       "</style>\n",
       "<table border=\"1\" class=\"dataframe\">\n",
       "  <thead>\n",
       "    <tr style=\"text-align: right;\">\n",
       "      <th>coords</th>\n",
       "      <th>x</th>\n",
       "      <th>y</th>\n",
       "      <th>likelihood</th>\n",
       "    </tr>\n",
       "    <tr>\n",
       "      <th>Time (s)</th>\n",
       "      <th></th>\n",
       "      <th></th>\n",
       "      <th></th>\n",
       "    </tr>\n",
       "  </thead>\n",
       "  <tbody>\n",
       "    <tr>\n",
       "      <th>0.000000</th>\n",
       "      <td>380.488586</td>\n",
       "      <td>186.74437</td>\n",
       "      <td>0.000012</td>\n",
       "    </tr>\n",
       "    <tr>\n",
       "      <th>0.033324</th>\n",
       "      <td>NaN</td>\n",
       "      <td>NaN</td>\n",
       "      <td>NaN</td>\n",
       "    </tr>\n",
       "    <tr>\n",
       "      <th>0.066675</th>\n",
       "      <td>NaN</td>\n",
       "      <td>NaN</td>\n",
       "      <td>NaN</td>\n",
       "    </tr>\n",
       "    <tr>\n",
       "      <th>0.099999</th>\n",
       "      <td>NaN</td>\n",
       "      <td>NaN</td>\n",
       "      <td>NaN</td>\n",
       "    </tr>\n",
       "    <tr>\n",
       "      <th>0.133324</th>\n",
       "      <td>NaN</td>\n",
       "      <td>NaN</td>\n",
       "      <td>NaN</td>\n",
       "    </tr>\n",
       "    <tr>\n",
       "      <th>...</th>\n",
       "      <td>...</td>\n",
       "      <td>...</td>\n",
       "      <td>...</td>\n",
       "    </tr>\n",
       "    <tr>\n",
       "      <th>617.954025</th>\n",
       "      <td>NaN</td>\n",
       "      <td>NaN</td>\n",
       "      <td>NaN</td>\n",
       "    </tr>\n",
       "    <tr>\n",
       "      <th>617.987350</th>\n",
       "      <td>NaN</td>\n",
       "      <td>NaN</td>\n",
       "      <td>NaN</td>\n",
       "    </tr>\n",
       "    <tr>\n",
       "      <th>618.020675</th>\n",
       "      <td>NaN</td>\n",
       "      <td>NaN</td>\n",
       "      <td>NaN</td>\n",
       "    </tr>\n",
       "    <tr>\n",
       "      <th>618.054025</th>\n",
       "      <td>NaN</td>\n",
       "      <td>NaN</td>\n",
       "      <td>NaN</td>\n",
       "    </tr>\n",
       "    <tr>\n",
       "      <th>618.087350</th>\n",
       "      <td>NaN</td>\n",
       "      <td>NaN</td>\n",
       "      <td>NaN</td>\n",
       "    </tr>\n",
       "  </tbody>\n",
       "</table>\n",
       "<p>18544 rows × 3 columns</p>\n",
       "</div>"
      ],
      "text/plain": [
       "coords               x          y  likelihood\n",
       "Time (s)                                     \n",
       "0.000000    380.488586  186.74437    0.000012\n",
       "0.033324           NaN        NaN         NaN\n",
       "0.066675           NaN        NaN         NaN\n",
       "0.099999           NaN        NaN         NaN\n",
       "0.133324           NaN        NaN         NaN\n",
       "...                ...        ...         ...\n",
       "617.954025         NaN        NaN         NaN\n",
       "617.987350         NaN        NaN         NaN\n",
       "618.020675         NaN        NaN         NaN\n",
       "618.054025         NaN        NaN         NaN\n",
       "618.087350         NaN        NaN         NaN\n",
       "\n",
       "[18544 rows x 3 columns]"
      ]
     },
     "execution_count": 54,
     "metadata": {},
     "output_type": "execute_result"
    }
   ],
   "source": [
    "pos.as_units('s')"
   ]
  },
  {
   "cell_type": "code",
   "execution_count": 53,
   "metadata": {},
   "outputs": [],
   "source": [
    "pos = nts.TsdFrame(t = pos.index.values,d = pos['snout'],time_units='s')\n"
   ]
  },
  {
   "cell_type": "code",
   "execution_count": 5,
   "metadata": {},
   "outputs": [],
   "source": [
    "path = '/media/billel/DATA/ExampleSession/RAT01/'\n"
   ]
  },
  {
   "cell_type": "code",
   "execution_count": 13,
   "metadata": {},
   "outputs": [],
   "source": [
    "path = '/media/billel/DATA/ExampleSession/RAT01/'\n",
    "subpath = os.listdir(path)"
   ]
  },
  {
   "cell_type": "code",
   "execution_count": 27,
   "metadata": {},
   "outputs": [],
   "source": [
    "i = 1\n",
    "title = ['Fear','Tone','Context']\n",
    "\n",
    "\n",
    "# os.chdir(os.path.join(path,subpath[1]))\n",
    "os.chdir('Y:/ExampleSession/RAT01/rat01_200630_171900')\n",
    "step = 20\n",
    "\n",
    "\n",
    "\n",
    "\n",
    "\n",
    "time,data = load_digitalin(['TTL','Shock','Tone'])\n",
    "\n",
    "tf = TTLtoTimes(data['TTL'])\n",
    "tf = np.delete(tf,-1)\n",
    "\n",
    "time = time-tf[0]\n",
    "\n",
    "pos = load_pos()\n",
    "pos.index = tf-tf[0]\n",
    "\n",
    "\n",
    "s = speed(pos['snout'])\n",
    "s = scipy.ndimage.gaussian_filter1d(s,1)\n",
    "s = nts.Tsd(pos.index.values[:-1],s,time_units='s')\n",
    "\n",
    "\n",
    "time = time[0:-1:step]\n",
    "fig = plt.subplot(1,1,i)\n",
    "plt.tight_layout()\n",
    "plt.title(title[i-1])\n",
    "plt.plot(time,data['TTL'][0:-1:step])\n",
    "plt.plot(time,data['Shock'][0:-1:step] * 3)\n",
    "plt.plot(time,data['Tone'][0:-1:step]*2)\n",
    "plt.plot(pos.index[:-1],s.values/1500)\n",
    "plt.legend(['TTL','Shock','Tone','Speed'])\n",
    "plt.xlabel('Time (s)')\n",
    "#plt.vlines(x=tf,ymin = 0, ymax = 3,color='red')\n",
    "i += 1\n",
    "\n",
    "bk.plot.intervals(bk.compute.freezing(s,50),col='orange')\n",
    "plt.show()"
   ]
  },
  {
   "cell_type": "code",
   "execution_count": 30,
   "metadata": {},
   "outputs": [],
   "source": [
    "def freezing(speed,treshold):\n",
    "    \"\"\"\n",
    "        BK 8/11/20\n",
    "        Input \n",
    "            speed: speed vector as output by bk.compute.speed (not yet implemented. But it's an nts.frame)\n",
    "            treshold: arbritary units\n",
    "    \"\"\"\n",
    "    \n",
    "    fs =  1/scipy.stats.mode(np.diff(speed.index)).mode[0]\n",
    "    freezing = speed.values<treshold\n",
    "    if freezing[0] == 1: freezing[0] = 0\n",
    "    if freezing[-1] == 1: freezing = np.append(freezing,0)\n",
    "        \n",
    "    dfreeze = np.diff(freezing.astype(np.int8))\n",
    "    start = np.where(dfreeze == 1)[0]/fs + speed.index[0]\n",
    "    end = np.where(dfreeze == -1)[0]/fs + speed.index[0]\n",
    "    \n",
    "    freezing_intervals = nts.IntervalSet(start,end)\n",
    "    return freezing_intervals"
   ]
  },
  {
   "cell_type": "code",
   "execution_count": 6,
   "metadata": {},
   "outputs": [],
   "source": [
    "speed = s \n",
    "treshold = 1"
   ]
  },
  {
   "cell_type": "code",
   "execution_count": 7,
   "metadata": {},
   "outputs": [
    {
     "name": "stdout",
     "output_type": "stream",
     "text": [
      "Empty IntervalSet\n",
      "Columns: [start, end]\n",
      "Index: []\n"
     ]
    }
   ],
   "source": [
    "fs =  1/scipy.stats.mode(np.diff(speed.index)).mode[0]\n",
    "freezing = speed.values<treshold\n",
    "if freezing[0] == 1: freezing[0] = 0\n",
    "if freezing[-1] == 1: freezing = np.append(freezing,0)\n",
    "\n",
    "dfreeze = np.diff(freezing.astype(np.int8))\n",
    "\n",
    "start = np.where(dfreeze == 1)[0]/fs + speed.index[0]\n",
    "end = np.where(dfreeze == -1)[0]/fs + speed.index[0]\n",
    "\n",
    "freezing_intervals = nts.IntervalSet(start,end,time_units = 's')"
   ]
  },
  {
   "cell_type": "code",
   "execution_count": 9,
   "metadata": {},
   "outputs": [
    {
     "data": {
      "text/plain": [
       "array([ 269.38943355, 1118.12733579, 2096.431932  , ...,   10.30124845,\n",
       "         13.91425449,   15.7500021 ])"
      ]
     },
     "execution_count": 9,
     "metadata": {},
     "output_type": "execute_result"
    }
   ],
   "source": [
    "speed.values"
   ]
  },
  {
   "cell_type": "code",
   "execution_count": 15,
   "metadata": {},
   "outputs": [],
   "source": [
    "del freezing"
   ]
  },
  {
   "cell_type": "code",
   "execution_count": 57,
   "metadata": {},
   "outputs": [],
   "source": [
    "path = 'Y:/ExampleSession/RAT01/rat01_200630_114732/'\n",
    "os.chdir(path)"
   ]
  },
  {
   "cell_type": "code",
   "execution_count": 64,
   "metadata": {},
   "outputs": [],
   "source": [
    "t_TTL = load_digitalin(['TTL'])"
   ]
  },
  {
   "cell_type": "code",
   "execution_count": 72,
   "metadata": {},
   "outputs": [],
   "source": [
    "t_TTL = TTLtoTimes(t_TTL[1]['TTL'])"
   ]
  },
  {
   "cell_type": "code",
   "execution_count": 73,
   "metadata": {},
   "outputs": [
    {
     "data": {
      "text/plain": [
       "array([ 20.675375,  20.708725,  20.74205 , ..., 618.32965 , 618.362975,\n",
       "       618.3827  ])"
      ]
     },
     "execution_count": 73,
     "metadata": {},
     "output_type": "execute_result"
    }
   ],
   "source": []
  },
  {
   "cell_type": "code",
   "execution_count": 87,
   "metadata": {},
   "outputs": [],
   "source": [
    "pos = load_pos()\n",
    "t_TTL = np.delete(t_TTL,-1)\n",
    "pos.index = t_TTL - t_TTL[0]"
   ]
  },
  {
   "cell_type": "code",
   "execution_count": 101,
   "metadata": {},
   "outputs": [],
   "source": [
    "s = speed(pos['snout'])\n",
    "s = nts.Tsd(t=pos.index.values[:-1],d = s,time_units='s')"
   ]
  },
  {
   "cell_type": "code",
   "execution_count": 95,
   "metadata": {},
   "outputs": [
    {
     "data": {
      "text/plain": [
       "[<matplotlib.lines.Line2D at 0x20b8854a208>]"
      ]
     },
     "execution_count": 95,
     "metadata": {},
     "output_type": "execute_result"
    }
   ],
   "source": [
    "plt.plot(s)"
   ]
  },
  {
   "cell_type": "code",
   "execution_count": 104,
   "metadata": {},
   "outputs": [
    {
     "data": {
      "text/plain": [
       "Time (s)\n",
       "0.000000       7.832967\n",
       "0.033350       8.782744\n",
       "0.066675      22.644989\n",
       "0.100000      14.177008\n",
       "0.133350      14.646234\n",
       "                ...    \n",
       "597.520950     1.695441\n",
       "597.554275    10.491249\n",
       "597.587625    10.262282\n",
       "597.620950    11.373562\n",
       "597.654275     7.952450\n",
       "Length: 17931, dtype: float64"
      ]
     },
     "execution_count": 104,
     "metadata": {},
     "output_type": "execute_result"
    }
   ],
   "source": [
    "pos['snout']\n",
    "s.as_units('s')"
   ]
  },
  {
   "cell_type": "code",
   "execution_count": 111,
   "metadata": {},
   "outputs": [],
   "source": [
    "f = bk.compute.freezing(s,20)"
   ]
  },
  {
   "cell_type": "code",
   "execution_count": 110,
   "metadata": {},
   "outputs": [
    {
     "data": {
      "text/plain": [
       "[<matplotlib.lines.Line2D at 0x20b817be048>]"
      ]
     },
     "execution_count": 110,
     "metadata": {},
     "output_type": "execute_result"
    }
   ],
   "source": [
    "plt.plot(s.as_units('s'))"
   ]
  },
  {
   "cell_type": "code",
   "execution_count": 113,
   "metadata": {},
   "outputs": [],
   "source": [
    "bk.plot.intervals(f,col= 'orange')"
   ]
  },
  {
   "cell_type": "code",
   "execution_count": 224,
   "metadata": {},
   "outputs": [],
   "source": [
    "time,data = load_digitalin(['TTL','Shock','Tone'])\n",
    "\n",
    "tf = TTLtoTimes(data['TTL'])\n",
    "tf = np.delete(tf,-1)\n",
    "\n",
    "time = time-tf[0]\n",
    "\n",
    "pos = load_pos()\n",
    "pos.index = tf-tf[0]\n",
    "step = 20\n",
    "\n",
    "s = speed(pos['snout'])\n",
    "size = 20\n",
    "gaussian = scipy.signal.gaussian(size,30)\n",
    "s = np.convolve(s,gaussian,'same')/size\n",
    "\n",
    "# s = scipy.ndimage.gaussian_filter1d(s,20)\n",
    "s = nts.Tsd(pos.index.values[:-1],s,time_units='s')\n",
    "\n",
    "plt.figure()\n",
    "time = time[0:-1:step]\n",
    "fig = plt.subplot(1,1,1)\n",
    "plt.tight_layout()\n",
    "plt.title(title[i-1])\n",
    "plt.plot(time,data['TTL'][0:-1:step])\n",
    "plt.plot(time,data['Shock'][0:-1:step] * 3)\n",
    "plt.plot(time,data['Tone'][0:-1:step]*2)\n",
    "plt.plot(pos.index[:-1],s.values/1500)\n",
    "plt.legend(['TTL','Shock','Tone','Speed'])\n",
    "plt.xlabel('Time (s)')\n",
    "#plt.vlines(x=tf,ymin = 0, ymax = 3,color='red')\n",
    "\n",
    "\n",
    "bk.plot.intervals(bk.compute.freezing(s,20),col='orange')\n",
    "plt.show()"
   ]
  },
  {
   "cell_type": "code",
   "execution_count": 225,
   "metadata": {},
   "outputs": [
    {
     "data": {
      "text/plain": [
       "[<matplotlib.lines.Line2D at 0x20c8ef55a08>]"
      ]
     },
     "execution_count": 225,
     "metadata": {},
     "output_type": "execute_result"
    }
   ],
   "source": [
    "plt.figure()\n",
    "plt.plot(scipy.signal.gaussian(500,5))\n"
   ]
  },
  {
   "cell_type": "code",
   "execution_count": 226,
   "metadata": {},
   "outputs": [
    {
     "data": {
      "text/plain": [
       "Int64Index([        0,     33350,     66675,    100000,    133350,    166675,\n",
       "               199999,    233350,    266674,    300000,\n",
       "            ...\n",
       "            597354300, 597387625, 597420950, 597454274, 597487625, 597520950,\n",
       "            597554275, 597587625, 597620950, 597654275],\n",
       "           dtype='int64', name='Time (us)', length=17931)"
      ]
     },
     "execution_count": 226,
     "metadata": {},
     "output_type": "execute_result"
    }
   ],
   "source": [
    "s.index"
   ]
  },
  {
   "cell_type": "code",
   "execution_count": 129,
   "metadata": {},
   "outputs": [],
   "source": [
    "s = speed(pos['snout'])"
   ]
  },
  {
   "cell_type": "code",
   "execution_count": 130,
   "metadata": {},
   "outputs": [
    {
     "data": {
      "text/plain": [
       "48.77639213044943"
      ]
     },
     "execution_count": 130,
     "metadata": {},
     "output_type": "execute_result"
    }
   ],
   "source": [
    "s.mean()"
   ]
  },
  {
   "cell_type": "code",
   "execution_count": 133,
   "metadata": {},
   "outputs": [
    {
     "data": {
      "text/plain": [
       "array([431.60497243, 443.29986216, 454.99992449, ..., 612.47055474,\n",
       "       591.45811707, 570.76316348])"
      ]
     },
     "execution_count": 133,
     "metadata": {},
     "output_type": "execute_result"
    }
   ],
   "source": [
    "s.values"
   ]
  },
  {
   "cell_type": "code",
   "execution_count": 134,
   "metadata": {},
   "outputs": [
    {
     "data": {
      "text/plain": [
       "[<matplotlib.lines.Line2D at 0x20b8ce24b88>]"
      ]
     },
     "execution_count": 134,
     "metadata": {},
     "output_type": "execute_result"
    }
   ],
   "source": [
    "plt.plot(s.values)"
   ]
  },
  {
   "cell_type": "code",
   "execution_count": 148,
   "metadata": {},
   "outputs": [],
   "source": [
    "y = np.sin(np.arange(0,6,0.01))"
   ]
  },
  {
   "cell_type": "code",
   "execution_count": 209,
   "metadata": {},
   "outputs": [],
   "source": [
    "y = speed(pos['snout'])\n",
    "gaussian = scipy.signal.gaussian(10,10)\n",
    "\n"
   ]
  },
  {
   "cell_type": "code",
   "execution_count": 221,
   "metadata": {},
   "outputs": [],
   "source": [
    "y = np.sin(np.arange(0,6,0.01))\n",
    "np_conv = np.convolve(y,gaussian,'same')/10\n",
    "scipy_conv = scipy.signal.fftconvolve(y,gaussian,'same')\n",
    "scipy_filter = scipy.ndimage.gaussian_filter1d(y,10)"
   ]
  },
  {
   "cell_type": "code",
   "execution_count": 222,
   "metadata": {},
   "outputs": [
    {
     "data": {
      "text/plain": [
       "<matplotlib.legend.Legend at 0x20c8b119948>"
      ]
     },
     "execution_count": 222,
     "metadata": {},
     "output_type": "execute_result"
    }
   ],
   "source": [
    "plt.plot(y)\n",
    "plt.plot(np_conv)\n",
    "plt.plot(scipy_conv)\n",
    "plt.plot(scipy_filter)\n",
    "\n",
    "plt.legend(['ori','np','scipy conv','scipy ndimage'])"
   ]
  },
  {
   "cell_type": "code",
   "execution_count": 167,
   "metadata": {},
   "outputs": [
    {
     "data": {
      "text/plain": [
       "[<matplotlib.lines.Line2D at 0x20b8cb11a48>]"
      ]
     },
     "execution_count": 167,
     "metadata": {},
     "output_type": "execute_result"
    }
   ],
   "source": []
  },
  {
   "cell_type": "code",
   "execution_count": null,
   "metadata": {},
   "outputs": [],
   "source": [
    "scipy.ndimage.gaussian_filter1d()"
   ]
  }
 ],
 "metadata": {
  "kernelspec": {
   "display_name": "Python 3",
   "language": "python",
   "name": "python3"
  },
  "language_info": {
   "codemirror_mode": {
    "name": "ipython",
    "version": 3
   },
   "file_extension": ".py",
   "mimetype": "text/x-python",
   "name": "python",
   "nbconvert_exporter": "python",
   "pygments_lexer": "ipython3",
   "version": "3.7.6"
  }
 },
 "nbformat": 4,
 "nbformat_minor": 4
}
