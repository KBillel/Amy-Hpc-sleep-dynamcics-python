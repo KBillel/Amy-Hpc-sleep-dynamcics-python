{
 "cells": [
  {
   "cell_type": "code",
   "execution_count": 1,
   "metadata": {},
   "outputs": [],
   "source": [
    "%matplotlib qt\n",
    "\n",
    "import neuroseries as nts\n",
    "\n",
    "import numpy as np\n",
    "import matplotlib.pyplot as plt\n",
    "import scipy.stats\n",
    "import scipy.ndimage\n",
    "import os\n",
    "\n",
    "import scipy.signal\n",
    "import scipy.stats\n",
    "\n",
    "import bk.load as bk\n",
    "import bk.plot\n",
    "import bk.compute\n",
    "\n",
    "def TTLtoTimes(TTL,Fs = 20000):\n",
    "    \n",
    "    if isinstance(TTL[0],(np.bool_,bool)):\n",
    "        TTL = list(map(int,TTL))\n",
    "    \n",
    "    diff_TTL = np.diff(TTL)\n",
    "    \n",
    "    t_start = np.where(diff_TTL == 1)[0]\n",
    "    t_end = np.where(diff_TTL == -1)[0]\n",
    "    t_TTL = np.array([np.mean(interval) for interval in zip(t_start,t_end)])\n",
    "    \n",
    "    return t_TTL/Fs\n",
    "\n",
    "def speed(pos):\n",
    "    \n",
    "    x_speed = np.diff(pos['x'])/np.diff(pos.index)\n",
    "    y_speed = np.diff(pos['y'])/np.diff(pos.index)\n",
    "    \n",
    "    v = np.sqrt(x_speed**2 + y_speed**2)\n",
    "    \n",
    "    return v\n",
    "\n",
    "def load_pos():\n",
    "    import pandas as pd\n",
    "    files = os.listdir()\n",
    "    for f in files: \n",
    "        if f.endswith('.h5'): \n",
    "            filename = f\n",
    "    \n",
    "    data = pd.read_hdf(filename)\n",
    "    data = data[data.keys()[0][0]]\n",
    "    return data\n",
    "\n",
    "def load_digitalin(channels,Fs = 20000):\n",
    "    import pandas as pd\n",
    "    \n",
    "    digital_word = np.fromfile('digitalin.dat','uint16')\n",
    "    sample = len(digital_word)\n",
    "    time = np.arange(0,sample)\n",
    "    time = time/Fs\n",
    "\n",
    "    chan = {}\n",
    "    \n",
    "    for i in range(len(channels)):\n",
    "        chan.update({channels[i]:(digital_word & 2**i)>0})\n",
    "\n",
    "    return time,chan\n",
    "\n",
    "# def load_digitalin(path,nchannels=16,Fs = 20000):\n",
    "#     import pandas as pd\n",
    "    \n",
    "#     digital_word = np.fromfile(path,'uint16')\n",
    "#     sample = len(digital_word)\n",
    "#     time = np.arange(0,sample)\n",
    "#     time = time/Fs\n",
    "\n",
    "    \n",
    "#     for i in range(nchannels):\n",
    "#         if i == 0: data = (digital_word & 2**i)>0\n",
    "#         else: data = np.vstack((data,(digital_word & 2**i)>0))\n",
    "\n",
    "#     return data\n",
    "\n"
   ]
  },
  {
   "cell_type": "code",
   "execution_count": 52,
   "metadata": {
    "jupyter": {
     "source_hidden": true
    }
   },
   "outputs": [
    {
     "name": "stderr",
     "output_type": "stream",
     "text": [
      "C:\\ProgramData\\Anaconda3\\lib\\site-packages\\ipykernel_launcher.py:27: MatplotlibDeprecationWarning: Adding an axes using the same arguments as a previous axes currently reuses the earlier instance.  In a future version, a new instance will always be created and returned.  Meanwhile, this warning can be suppressed, and the future behavior ensured, by passing a unique label to each axes instance.\n"
     ]
    }
   ],
   "source": [
    "path = 'Y:/ExampleSession/rat01_200630_114732'\n",
    "path = 'Y:/ExampleSession/rat01_200630_171900'\n",
    "path = 'Y:/ExampleSession/rat01_200630_183149/'\n",
    "\n",
    "path = 'Y:/ExampleSession/RAT02/rat02_200707_114611'\n",
    "\n",
    "\n",
    "i = 1\n",
    "title = ['Fear','Tone','Context']\n",
    "\n",
    "os.chdir(path)\n",
    "step = 1\n",
    "\n",
    "time,data = load_digitalin(['TTL','Shock','Tone'])\n",
    "pos = load_pos()\n",
    "\n",
    "s = speed(pos['snout'])\n",
    "s = scipy.ndimage.gaussian_filter1d(s,1)\n",
    "\n",
    "tf = TTLtoTimes(data['TTL'])\n",
    "time = time-tf[0]\n",
    "tf = np.delete(tf,-1)\n",
    "\n",
    "pos.index = tf-tf[0]\n",
    "time = time[0:-1:step]\n",
    "\n",
    "fig = plt.subplot(1,1,i)\n",
    "plt.tight_layout()\n",
    "plt.title(title[i-1])\n",
    "plt.plot(time,data['TTL'][0:-1:step])\n",
    "plt.plot(time,data['Shock'][0:-1:step] * 3)\n",
    "plt.plot(time,data['Tone'][0:-1:step]*2)\n",
    "plt.plot(pos.index[:-1],s/15)\n",
    "plt.legend(['TTL','Shock','Tone','Speed'])\n",
    "plt.xlabel('Time (s)')\n",
    "#plt.vlines(x=tf,ymin = 0, ymax = 3,color='red')\n",
    "i += 1\n",
    "\n",
    "plt.show()"
   ]
  },
  {
   "cell_type": "code",
   "execution_count": 54,
   "metadata": {},
   "outputs": [
    {
     "data": {
      "text/html": [
       "<div>\n",
       "<style scoped>\n",
       "    .dataframe tbody tr th:only-of-type {\n",
       "        vertical-align: middle;\n",
       "    }\n",
       "\n",
       "    .dataframe tbody tr th {\n",
       "        vertical-align: top;\n",
       "    }\n",
       "\n",
       "    .dataframe thead th {\n",
       "        text-align: right;\n",
       "    }\n",
       "</style>\n",
       "<table border=\"1\" class=\"dataframe\">\n",
       "  <thead>\n",
       "    <tr style=\"text-align: right;\">\n",
       "      <th>coords</th>\n",
       "      <th>x</th>\n",
       "      <th>y</th>\n",
       "      <th>likelihood</th>\n",
       "    </tr>\n",
       "    <tr>\n",
       "      <th>Time (s)</th>\n",
       "      <th></th>\n",
       "      <th></th>\n",
       "      <th></th>\n",
       "    </tr>\n",
       "  </thead>\n",
       "  <tbody>\n",
       "    <tr>\n",
       "      <th>0.000000</th>\n",
       "      <td>380.488586</td>\n",
       "      <td>186.74437</td>\n",
       "      <td>0.000012</td>\n",
       "    </tr>\n",
       "    <tr>\n",
       "      <th>0.033324</th>\n",
       "      <td>NaN</td>\n",
       "      <td>NaN</td>\n",
       "      <td>NaN</td>\n",
       "    </tr>\n",
       "    <tr>\n",
       "      <th>0.066675</th>\n",
       "      <td>NaN</td>\n",
       "      <td>NaN</td>\n",
       "      <td>NaN</td>\n",
       "    </tr>\n",
       "    <tr>\n",
       "      <th>0.099999</th>\n",
       "      <td>NaN</td>\n",
       "      <td>NaN</td>\n",
       "      <td>NaN</td>\n",
       "    </tr>\n",
       "    <tr>\n",
       "      <th>0.133324</th>\n",
       "      <td>NaN</td>\n",
       "      <td>NaN</td>\n",
       "      <td>NaN</td>\n",
       "    </tr>\n",
       "    <tr>\n",
       "      <th>...</th>\n",
       "      <td>...</td>\n",
       "      <td>...</td>\n",
       "      <td>...</td>\n",
       "    </tr>\n",
       "    <tr>\n",
       "      <th>617.954025</th>\n",
       "      <td>NaN</td>\n",
       "      <td>NaN</td>\n",
       "      <td>NaN</td>\n",
       "    </tr>\n",
       "    <tr>\n",
       "      <th>617.987350</th>\n",
       "      <td>NaN</td>\n",
       "      <td>NaN</td>\n",
       "      <td>NaN</td>\n",
       "    </tr>\n",
       "    <tr>\n",
       "      <th>618.020675</th>\n",
       "      <td>NaN</td>\n",
       "      <td>NaN</td>\n",
       "      <td>NaN</td>\n",
       "    </tr>\n",
       "    <tr>\n",
       "      <th>618.054025</th>\n",
       "      <td>NaN</td>\n",
       "      <td>NaN</td>\n",
       "      <td>NaN</td>\n",
       "    </tr>\n",
       "    <tr>\n",
       "      <th>618.087350</th>\n",
       "      <td>NaN</td>\n",
       "      <td>NaN</td>\n",
       "      <td>NaN</td>\n",
       "    </tr>\n",
       "  </tbody>\n",
       "</table>\n",
       "<p>18544 rows × 3 columns</p>\n",
       "</div>"
      ],
      "text/plain": [
       "coords               x          y  likelihood\n",
       "Time (s)                                     \n",
       "0.000000    380.488586  186.74437    0.000012\n",
       "0.033324           NaN        NaN         NaN\n",
       "0.066675           NaN        NaN         NaN\n",
       "0.099999           NaN        NaN         NaN\n",
       "0.133324           NaN        NaN         NaN\n",
       "...                ...        ...         ...\n",
       "617.954025         NaN        NaN         NaN\n",
       "617.987350         NaN        NaN         NaN\n",
       "618.020675         NaN        NaN         NaN\n",
       "618.054025         NaN        NaN         NaN\n",
       "618.087350         NaN        NaN         NaN\n",
       "\n",
       "[18544 rows x 3 columns]"
      ]
     },
     "execution_count": 54,
     "metadata": {},
     "output_type": "execute_result"
    }
   ],
   "source": [
    "pos.as_units('s')"
   ]
  },
  {
   "cell_type": "code",
   "execution_count": 53,
   "metadata": {},
   "outputs": [],
   "source": [
    "pos = nts.TsdFrame(t = pos.index.values,d = pos['snout'],time_units='s')\n"
   ]
  },
  {
   "cell_type": "code",
   "execution_count": 5,
   "metadata": {},
   "outputs": [],
   "source": [
    "path = '/media/billel/DATA/ExampleSession/RAT01/'\n"
   ]
  },
  {
   "cell_type": "code",
   "execution_count": 13,
   "metadata": {},
   "outputs": [],
   "source": [
    "path = '/media/billel/DATA/ExampleSession/RAT01/'\n",
    "subpath = os.listdir(path)"
   ]
  },
  {
   "cell_type": "code",
   "execution_count": 140,
   "metadata": {},
   "outputs": [
    {
     "name": "stderr",
     "output_type": "stream",
     "text": [
      "Z:\\Python\\Billel\\neuroseries\\interval_set.py:65: UserWarning: start and end not of the same length\n",
      "  warn(msg, UserWarning)\n"
     ]
    }
   ],
   "source": [
    "i = 1\n",
    "title = ['Fear','Tone','Context']\n",
    "\n",
    "\n",
    "# os.chdir(os.path.join(path,subpath[1]))\n",
    "os.chdir('Y:/ExampleSession/RAT01/rat01_200630_171900')\n",
    "step = 20\n",
    "\n",
    "\n",
    "\n",
    "\n",
    "\n",
    "time,data = load_digitalin(['TTL','Shock','Tone'])\n",
    "\n",
    "tf = TTLtoTimes(data['TTL'])\n",
    "tf = np.delete(tf,-1)\n",
    "\n",
    "time = time-tf[0]\n",
    "\n",
    "pos = load_pos()\n",
    "pos.index = tf-tf[0]\n",
    "\n",
    "\n",
    "s = speed(pos['snout'])\n",
    "s = scipy.ndimage.gaussian_filter1d(s,1)\n",
    "s = nts.Tsd(pos.index.values[:-1],s,time_units='s')\n",
    "\n",
    "\n",
    "time = time[0:-1:step]\n",
    "fig = plt.subplot(2,1,1)\n",
    "plt.tight_layout()\n",
    "plt.title(title[i-1])\n",
    "plt.plot(time,data['TTL'][0:-1:step])\n",
    "plt.plot(time,data['Shock'][0:-1:step] * 3)\n",
    "plt.plot(time,data['Tone'][0:-1:step]*2)\n",
    "plt.plot(pos.index[:-1],s.values/1500)\n",
    "plt.legend(['TTL','Shock','Tone','Speed'])\n",
    "plt.xlabel('Time (s)')\n",
    "#plt.vlines(x=tf,ymin = 0, ymax = 3,color='red')\n",
    "i += 1\n",
    "freezing_intervals = bk.compute.freezing(s,50)\n",
    "bk.plot.intervals(freezing_intervals,col='orange')\n",
    "\n",
    "inter = nts.IntervalSet(starts,ends,time_units='s')\n",
    "plt.subplot(2,1,2,sharex=fig)\n",
    "bk.plot.intervals(inter,col='grey')\n",
    "\n",
    "plt.show()"
   ]
  },
  {
   "cell_type": "code",
   "execution_count": 139,
   "metadata": {},
   "outputs": [
    {
     "ename": "KeyError",
     "evalue": "466",
     "output_type": "error",
     "traceback": [
      "\u001b[1;31m---------------------------------------------------------------------------\u001b[0m",
      "\u001b[1;31mKeyError\u001b[0m                                  Traceback (most recent call last)",
      "\u001b[1;32m<ipython-input-139-2677c3652516>\u001b[0m in \u001b[0;36m<module>\u001b[1;34m()\u001b[0m\n\u001b[0;32m     13\u001b[0m        \u001b[1;31m# ends.append(freezing_intervals.as_units('s').end[i+1])\u001b[0m\u001b[1;33m\u001b[0m\u001b[1;33m\u001b[0m\u001b[0m\n\u001b[0;32m     14\u001b[0m         \u001b[0mj\u001b[0m\u001b[1;33m=\u001b[0m\u001b[0mi\u001b[0m\u001b[1;33m\u001b[0m\u001b[0m\n\u001b[1;32m---> 15\u001b[1;33m         \u001b[1;32mwhile\u001b[0m \u001b[0mfreezing_intervals\u001b[0m\u001b[1;33m.\u001b[0m\u001b[0mas_units\u001b[0m\u001b[1;33m(\u001b[0m\u001b[1;34m's'\u001b[0m\u001b[1;33m)\u001b[0m\u001b[1;33m.\u001b[0m\u001b[0mstart\u001b[0m\u001b[1;33m[\u001b[0m\u001b[0mj\u001b[0m\u001b[1;33m+\u001b[0m\u001b[1;36m1\u001b[0m\u001b[1;33m]\u001b[0m\u001b[1;33m-\u001b[0m\u001b[0mfreezing_intervals\u001b[0m\u001b[1;33m.\u001b[0m\u001b[0mas_units\u001b[0m\u001b[1;33m(\u001b[0m\u001b[1;34m's'\u001b[0m\u001b[1;33m)\u001b[0m\u001b[1;33m.\u001b[0m\u001b[0mend\u001b[0m\u001b[1;33m[\u001b[0m\u001b[0mj\u001b[0m\u001b[1;33m]\u001b[0m\u001b[1;33m<\u001b[0m\u001b[0mtmin\u001b[0m\u001b[1;33m:\u001b[0m\u001b[1;33m\u001b[0m\u001b[0m\n\u001b[0m\u001b[0;32m     16\u001b[0m             \u001b[0mj\u001b[0m\u001b[1;33m=\u001b[0m\u001b[0mj\u001b[0m\u001b[1;33m+\u001b[0m\u001b[1;36m1\u001b[0m\u001b[1;33m\u001b[0m\u001b[0m\n\u001b[0;32m     17\u001b[0m         \u001b[0mends\u001b[0m\u001b[1;33m.\u001b[0m\u001b[0mappend\u001b[0m\u001b[1;33m(\u001b[0m\u001b[0mfreezing_intervals\u001b[0m\u001b[1;33m.\u001b[0m\u001b[0mas_units\u001b[0m\u001b[1;33m(\u001b[0m\u001b[1;34m's'\u001b[0m\u001b[1;33m)\u001b[0m\u001b[1;33m.\u001b[0m\u001b[0mend\u001b[0m\u001b[1;33m[\u001b[0m\u001b[0mj\u001b[0m\u001b[1;33m]\u001b[0m\u001b[1;33m)\u001b[0m\u001b[1;33m\u001b[0m\u001b[0m\n",
      "\u001b[1;32mC:\\ProgramData\\Anaconda3\\lib\\site-packages\\pandas\\core\\series.py\u001b[0m in \u001b[0;36m__getitem__\u001b[1;34m(self, key)\u001b[0m\n\u001b[0;32m    765\u001b[0m         \u001b[0mkey\u001b[0m \u001b[1;33m=\u001b[0m \u001b[0mcom\u001b[0m\u001b[1;33m.\u001b[0m\u001b[0m_apply_if_callable\u001b[0m\u001b[1;33m(\u001b[0m\u001b[0mkey\u001b[0m\u001b[1;33m,\u001b[0m \u001b[0mself\u001b[0m\u001b[1;33m)\u001b[0m\u001b[1;33m\u001b[0m\u001b[0m\n\u001b[0;32m    766\u001b[0m         \u001b[1;32mtry\u001b[0m\u001b[1;33m:\u001b[0m\u001b[1;33m\u001b[0m\u001b[0m\n\u001b[1;32m--> 767\u001b[1;33m             \u001b[0mresult\u001b[0m \u001b[1;33m=\u001b[0m \u001b[0mself\u001b[0m\u001b[1;33m.\u001b[0m\u001b[0mindex\u001b[0m\u001b[1;33m.\u001b[0m\u001b[0mget_value\u001b[0m\u001b[1;33m(\u001b[0m\u001b[0mself\u001b[0m\u001b[1;33m,\u001b[0m \u001b[0mkey\u001b[0m\u001b[1;33m)\u001b[0m\u001b[1;33m\u001b[0m\u001b[0m\n\u001b[0m\u001b[0;32m    768\u001b[0m \u001b[1;33m\u001b[0m\u001b[0m\n\u001b[0;32m    769\u001b[0m             \u001b[1;32mif\u001b[0m \u001b[1;32mnot\u001b[0m \u001b[0mis_scalar\u001b[0m\u001b[1;33m(\u001b[0m\u001b[0mresult\u001b[0m\u001b[1;33m)\u001b[0m\u001b[1;33m:\u001b[0m\u001b[1;33m\u001b[0m\u001b[0m\n",
      "\u001b[1;32mC:\\ProgramData\\Anaconda3\\lib\\site-packages\\pandas\\core\\indexes\\base.py\u001b[0m in \u001b[0;36mget_value\u001b[1;34m(self, series, key)\u001b[0m\n\u001b[0;32m   3116\u001b[0m         \u001b[1;32mtry\u001b[0m\u001b[1;33m:\u001b[0m\u001b[1;33m\u001b[0m\u001b[0m\n\u001b[0;32m   3117\u001b[0m             return self._engine.get_value(s, k,\n\u001b[1;32m-> 3118\u001b[1;33m                                           tz=getattr(series.dtype, 'tz', None))\n\u001b[0m\u001b[0;32m   3119\u001b[0m         \u001b[1;32mexcept\u001b[0m \u001b[0mKeyError\u001b[0m \u001b[1;32mas\u001b[0m \u001b[0me1\u001b[0m\u001b[1;33m:\u001b[0m\u001b[1;33m\u001b[0m\u001b[0m\n\u001b[0;32m   3120\u001b[0m             \u001b[1;32mif\u001b[0m \u001b[0mlen\u001b[0m\u001b[1;33m(\u001b[0m\u001b[0mself\u001b[0m\u001b[1;33m)\u001b[0m \u001b[1;33m>\u001b[0m \u001b[1;36m0\u001b[0m \u001b[1;32mand\u001b[0m \u001b[0mself\u001b[0m\u001b[1;33m.\u001b[0m\u001b[0minferred_type\u001b[0m \u001b[1;32min\u001b[0m \u001b[1;33m[\u001b[0m\u001b[1;34m'integer'\u001b[0m\u001b[1;33m,\u001b[0m \u001b[1;34m'boolean'\u001b[0m\u001b[1;33m]\u001b[0m\u001b[1;33m:\u001b[0m\u001b[1;33m\u001b[0m\u001b[0m\n",
      "\u001b[1;32mpandas\\_libs\\index.pyx\u001b[0m in \u001b[0;36mpandas._libs.index.IndexEngine.get_value\u001b[1;34m()\u001b[0m\n",
      "\u001b[1;32mpandas\\_libs\\index.pyx\u001b[0m in \u001b[0;36mpandas._libs.index.IndexEngine.get_value\u001b[1;34m()\u001b[0m\n",
      "\u001b[1;32mpandas\\_libs\\index.pyx\u001b[0m in \u001b[0;36mpandas._libs.index.IndexEngine.get_loc\u001b[1;34m()\u001b[0m\n",
      "\u001b[1;32mpandas\\_libs\\hashtable_class_helper.pxi\u001b[0m in \u001b[0;36mpandas._libs.hashtable.Int64HashTable.get_item\u001b[1;34m()\u001b[0m\n",
      "\u001b[1;32mpandas\\_libs\\hashtable_class_helper.pxi\u001b[0m in \u001b[0;36mpandas._libs.hashtable.Int64HashTable.get_item\u001b[1;34m()\u001b[0m\n",
      "\u001b[1;31mKeyError\u001b[0m: 466"
     ]
    }
   ],
   "source": [
    "tmin= 0.2\n",
    "starts = []\n",
    "ends = []\n",
    "for i,z in enumerate(zip(freezing_intervals.as_units('s').start, freezing_intervals.as_units('s').end)):\n",
    "    s=z[0]\n",
    "    e=z[1]\n",
    "    \n",
    "    if ends:\n",
    "        if s<ends[-1]: continue\n",
    "    \n",
    "    if freezing_intervals.as_units('s').start[i+1]-e<tmin:\n",
    "        starts.append(s)\n",
    "       # ends.append(freezing_intervals.as_units('s').end[i+1])\n",
    "        j=i\n",
    "        while freezing_intervals.as_units('s').start[j+1]-freezing_intervals.as_units('s').end[j]<tmin:\n",
    "            j=j+1\n",
    "        ends.append(freezing_intervals.as_units('s').end[j])\n",
    "    else:\n",
    "        starts.append(s)\n",
    "        ends.append(e)\n"
   ]
  },
  {
   "cell_type": "code",
   "execution_count": 36,
   "metadata": {},
   "outputs": [
    {
     "name": "stdout",
     "output_type": "stream",
     "text": [
      "         start        end\n",
      "0       466550    2499375\n",
      "1      1632925    4198950\n",
      "2      2432725    5298675\n",
      "3      3732400    5898525\n",
      "4      5232025    6198450\n",
      "5      5831875    6964925\n",
      "6      6165125    7531450\n",
      "7      6731650    7731400\n",
      "8      7198200    8097975\n",
      "9      7598100    8797800\n",
      "10     7964675    9064400\n",
      "11     8397900   10564025\n",
      "12     8997750   11463800\n",
      "13    10497375   12263600\n",
      "14    11197200   12496875\n",
      "15    11630425   12996750\n",
      "16    12430225   14163125\n",
      "17    12763475   14496375\n",
      "18    14096475   15029575\n",
      "19    14363075   17029075\n",
      "20    14829625   17862200\n",
      "21    16962425   18228775\n",
      "22    17762225   18662000\n",
      "23    18128800   19928350\n",
      "24    18428725   21694575\n",
      "25    19628425   22127800\n",
      "26    21661250   22627675\n",
      "27    22027825   22994250\n",
      "28    22394400   24193950\n",
      "29    22927600   24527200\n",
      "..         ...        ...\n",
      "436  387003225  393068375\n",
      "437  390469025  393401625\n",
      "438  390702300  394934575\n",
      "439  393135025  396767450\n",
      "440  393468275  398633650\n",
      "441  394967900  401699550\n",
      "442  397034050  402665975\n",
      "443  398666975  404932075\n",
      "444  401766200  408197925\n",
      "445  402732625  408731125\n",
      "446  404998725  414563000\n",
      "447  408231250  415196175\n",
      "448  408797775  416462525\n",
      "449  414629650  416995725\n",
      "450  415229500  420228250\n",
      "451  416595825  428226250\n",
      "452  417095700  434191425\n",
      "453  420261575  438823600\n",
      "454  428359550  439790025\n",
      "455  434258075  439989975\n",
      "456  438890250  441256325\n",
      "457  439823350  446988225\n",
      "458  440023300  450187425\n",
      "459  441356300  451353800\n",
      "460  447054875  452453525\n",
      "461  450287400  475814350\n",
      "462  451387125  538598650\n",
      "463  452520175  622411025\n",
      "464  475847675  622411025\n",
      "465  538631975  622411025\n",
      "\n",
      "[466 rows x 2 columns]\n"
     ]
    }
   ],
   "source": [
    "print(freezing_intervals)"
   ]
  },
  {
   "cell_type": "code",
   "execution_count": 30,
   "metadata": {},
   "outputs": [],
   "source": [
    "def freezing(speed,treshold):\n",
    "    \"\"\"\n",
    "        BK 8/11/20\n",
    "        Input \n",
    "            speed: speed vector as output by bk.compute.speed (not yet implemented. But it's an nts.frame)\n",
    "            treshold: arbritary units\n",
    "    \"\"\"\n",
    "    \n",
    "    fs =  1/scipy.stats.mode(np.diff(speed.index)).mode[0]\n",
    "    freezing = speed.values<treshold\n",
    "    if freezing[0] == 1: freezing[0] = 0\n",
    "    if freezing[-1] == 1: freezing = np.append(freezing,0)\n",
    "        \n",
    "    dfreeze = np.diff(freezing.astype(np.int8))\n",
    "    start = np.where(dfreeze == 1)[0]/fs + speed.index[0]\n",
    "    end = np.where(dfreeze == -1)[0]/fs + speed.index[0]\n",
    "    \n",
    "    freezing_intervals = nts.IntervalSet(start,end)\n",
    "    return freezing_intervals"
   ]
  },
  {
   "cell_type": "code",
   "execution_count": 6,
   "metadata": {},
   "outputs": [],
   "source": [
    "speed = s \n",
    "treshold = 1"
   ]
  },
  {
   "cell_type": "code",
   "execution_count": 7,
   "metadata": {},
   "outputs": [
    {
     "name": "stdout",
     "output_type": "stream",
     "text": [
      "Empty IntervalSet\n",
      "Columns: [start, end]\n",
      "Index: []\n"
     ]
    }
   ],
   "source": [
    "fs =  1/scipy.stats.mode(np.diff(speed.index)).mode[0]\n",
    "freezing = speed.values<treshold\n",
    "if freezing[0] == 1: freezing[0] = 0\n",
    "if freezing[-1] == 1: freezing = np.append(freezing,0)\n",
    "\n",
    "dfreeze = np.diff(freezing.astype(np.int8))\n",
    "\n",
    "start = np.where(dfreeze == 1)[0]/fs + speed.index[0]\n",
    "end = np.where(dfreeze == -1)[0]/fs + speed.index[0]\n",
    "\n",
    "freezing_intervals = nts.IntervalSet(start,end,time_units = 's')"
   ]
  },
  {
   "cell_type": "code",
   "execution_count": 9,
   "metadata": {},
   "outputs": [
    {
     "data": {
      "text/plain": [
       "array([ 269.38943355, 1118.12733579, 2096.431932  , ...,   10.30124845,\n",
       "         13.91425449,   15.7500021 ])"
      ]
     },
     "execution_count": 9,
     "metadata": {},
     "output_type": "execute_result"
    }
   ],
   "source": [
    "speed.values"
   ]
  },
  {
   "cell_type": "code",
   "execution_count": 15,
   "metadata": {},
   "outputs": [],
   "source": [
    "del freezing"
   ]
  },
  {
   "cell_type": "code",
   "execution_count": 57,
   "metadata": {},
   "outputs": [],
   "source": [
    "path = 'Y:/ExampleSession/RAT01/rat01_200630_114732/'\n",
    "os.chdir(path)"
   ]
  },
  {
   "cell_type": "code",
   "execution_count": 64,
   "metadata": {},
   "outputs": [],
   "source": [
    "t_TTL = load_digitalin(['TTL'])"
   ]
  },
  {
   "cell_type": "code",
   "execution_count": 72,
   "metadata": {},
   "outputs": [],
   "source": [
    "t_TTL = TTLtoTimes(t_TTL[1]['TTL'])"
   ]
  },
  {
   "cell_type": "code",
   "execution_count": 73,
   "metadata": {},
   "outputs": [
    {
     "data": {
      "text/plain": [
       "array([ 20.675375,  20.708725,  20.74205 , ..., 618.32965 , 618.362975,\n",
       "       618.3827  ])"
      ]
     },
     "execution_count": 73,
     "metadata": {},
     "output_type": "execute_result"
    }
   ],
   "source": []
  },
  {
   "cell_type": "code",
   "execution_count": 87,
   "metadata": {},
   "outputs": [],
   "source": [
    "pos = load_pos()\n",
    "t_TTL = np.delete(t_TTL,-1)\n",
    "pos.index = t_TTL - t_TTL[0]"
   ]
  },
  {
   "cell_type": "code",
   "execution_count": 101,
   "metadata": {},
   "outputs": [],
   "source": [
    "s = speed(pos['snout'])\n",
    "s = nts.Tsd(t=pos.index.values[:-1],d = s,time_units='s')"
   ]
  },
  {
   "cell_type": "code",
   "execution_count": 95,
   "metadata": {},
   "outputs": [
    {
     "data": {
      "text/plain": [
       "[<matplotlib.lines.Line2D at 0x20b8854a208>]"
      ]
     },
     "execution_count": 95,
     "metadata": {},
     "output_type": "execute_result"
    }
   ],
   "source": [
    "plt.plot(s)"
   ]
  },
  {
   "cell_type": "code",
   "execution_count": 104,
   "metadata": {},
   "outputs": [
    {
     "data": {
      "text/plain": [
       "Time (s)\n",
       "0.000000       7.832967\n",
       "0.033350       8.782744\n",
       "0.066675      22.644989\n",
       "0.100000      14.177008\n",
       "0.133350      14.646234\n",
       "                ...    \n",
       "597.520950     1.695441\n",
       "597.554275    10.491249\n",
       "597.587625    10.262282\n",
       "597.620950    11.373562\n",
       "597.654275     7.952450\n",
       "Length: 17931, dtype: float64"
      ]
     },
     "execution_count": 104,
     "metadata": {},
     "output_type": "execute_result"
    }
   ],
   "source": [
    "pos['snout']\n",
    "s.as_units('s')"
   ]
  },
  {
   "cell_type": "code",
   "execution_count": 111,
   "metadata": {},
   "outputs": [],
   "source": [
    "f = bk.compute.freezing(s,20)"
   ]
  },
  {
   "cell_type": "code",
   "execution_count": 110,
   "metadata": {},
   "outputs": [
    {
     "data": {
      "text/plain": [
       "[<matplotlib.lines.Line2D at 0x20b817be048>]"
      ]
     },
     "execution_count": 110,
     "metadata": {},
     "output_type": "execute_result"
    }
   ],
   "source": [
    "plt.plot(s.as_units('s'))"
   ]
  },
  {
   "cell_type": "code",
   "execution_count": 113,
   "metadata": {},
   "outputs": [],
   "source": [
    "bk.plot.intervals(f,col= 'orange')"
   ]
  },
  {
   "cell_type": "code",
   "execution_count": 224,
   "metadata": {},
   "outputs": [],
   "source": [
    "time,data = load_digitalin(['TTL','Shock','Tone'])\n",
    "\n",
    "tf = TTLtoTimes(data['TTL'])\n",
    "tf = np.delete(tf,-1)\n",
    "\n",
    "time = time-tf[0]\n",
    "\n",
    "pos = load_pos()\n",
    "pos.index = tf-tf[0]\n",
    "step = 20\n",
    "\n",
    "s = speed(pos['snout'])\n",
    "size = 20\n",
    "gaussian = scipy.signal.gaussian(size,30)\n",
    "s = np.convolve(s,gaussian,'same')/size\n",
    "\n",
    "# s = scipy.ndimage.gaussian_filter1d(s,20)\n",
    "s = nts.Tsd(pos.index.values[:-1],s,time_units='s')\n",
    "\n",
    "plt.figure()\n",
    "time = time[0:-1:step]\n",
    "fig = plt.subplot(1,1,1)\n",
    "plt.tight_layout()\n",
    "plt.title(title[i-1])\n",
    "plt.plot(time,data['TTL'][0:-1:step])\n",
    "plt.plot(time,data['Shock'][0:-1:step] * 3)\n",
    "plt.plot(time,data['Tone'][0:-1:step]*2)\n",
    "plt.plot(pos.index[:-1],s.values/1500)\n",
    "plt.legend(['TTL','Shock','Tone','Speed'])\n",
    "plt.xlabel('Time (s)')\n",
    "#plt.vlines(x=tf,ymin = 0, ymax = 3,color='red')\n",
    "\n",
    "\n",
    "bk.plot.intervals(bk.compute.freezing(s,20),col='orange')\n",
    "plt.show()"
   ]
  },
  {
   "cell_type": "code",
   "execution_count": 225,
   "metadata": {},
   "outputs": [
    {
     "data": {
      "text/plain": [
       "[<matplotlib.lines.Line2D at 0x20c8ef55a08>]"
      ]
     },
     "execution_count": 225,
     "metadata": {},
     "output_type": "execute_result"
    }
   ],
   "source": [
    "plt.figure()\n",
    "plt.plot(scipy.signal.gaussian(500,5))\n"
   ]
  },
  {
   "cell_type": "code",
   "execution_count": 226,
   "metadata": {},
   "outputs": [
    {
     "data": {
      "text/plain": [
       "Int64Index([        0,     33350,     66675,    100000,    133350,    166675,\n",
       "               199999,    233350,    266674,    300000,\n",
       "            ...\n",
       "            597354300, 597387625, 597420950, 597454274, 597487625, 597520950,\n",
       "            597554275, 597587625, 597620950, 597654275],\n",
       "           dtype='int64', name='Time (us)', length=17931)"
      ]
     },
     "execution_count": 226,
     "metadata": {},
     "output_type": "execute_result"
    }
   ],
   "source": [
    "s.index"
   ]
  },
  {
   "cell_type": "code",
   "execution_count": 129,
   "metadata": {},
   "outputs": [],
   "source": [
    "s = speed(pos['snout'])"
   ]
  },
  {
   "cell_type": "code",
   "execution_count": 130,
   "metadata": {},
   "outputs": [
    {
     "data": {
      "text/plain": [
       "48.77639213044943"
      ]
     },
     "execution_count": 130,
     "metadata": {},
     "output_type": "execute_result"
    }
   ],
   "source": [
    "s.mean()"
   ]
  },
  {
   "cell_type": "code",
   "execution_count": 133,
   "metadata": {},
   "outputs": [
    {
     "data": {
      "text/plain": [
       "array([431.60497243, 443.29986216, 454.99992449, ..., 612.47055474,\n",
       "       591.45811707, 570.76316348])"
      ]
     },
     "execution_count": 133,
     "metadata": {},
     "output_type": "execute_result"
    }
   ],
   "source": [
    "s.values"
   ]
  },
  {
   "cell_type": "code",
   "execution_count": 134,
   "metadata": {},
   "outputs": [
    {
     "data": {
      "text/plain": [
       "[<matplotlib.lines.Line2D at 0x20b8ce24b88>]"
      ]
     },
     "execution_count": 134,
     "metadata": {},
     "output_type": "execute_result"
    }
   ],
   "source": [
    "plt.plot(s.values)"
   ]
  },
  {
   "cell_type": "code",
   "execution_count": 148,
   "metadata": {},
   "outputs": [],
   "source": [
    "y = np.sin(np.arange(0,6,0.01))"
   ]
  },
  {
   "cell_type": "code",
   "execution_count": 209,
   "metadata": {},
   "outputs": [],
   "source": [
    "y = speed(pos['snout'])\n",
    "gaussian = scipy.signal.gaussian(10,10)\n",
    "\n"
   ]
  },
  {
   "cell_type": "code",
   "execution_count": 221,
   "metadata": {},
   "outputs": [],
   "source": [
    "y = np.sin(np.arange(0,6,0.01))\n",
    "np_conv = np.convolve(y,gaussian,'same')/10\n",
    "scipy_conv = scipy.signal.fftconvolve(y,gaussian,'same')\n",
    "scipy_filter = scipy.ndimage.gaussian_filter1d(y,10)"
   ]
  },
  {
   "cell_type": "code",
   "execution_count": 222,
   "metadata": {},
   "outputs": [
    {
     "data": {
      "text/plain": [
       "<matplotlib.legend.Legend at 0x20c8b119948>"
      ]
     },
     "execution_count": 222,
     "metadata": {},
     "output_type": "execute_result"
    }
   ],
   "source": [
    "plt.plot(y)\n",
    "plt.plot(np_conv)\n",
    "plt.plot(scipy_conv)\n",
    "plt.plot(scipy_filter)\n",
    "\n",
    "plt.legend(['ori','np','scipy conv','scipy ndimage'])"
   ]
  },
  {
   "cell_type": "code",
   "execution_count": 2,
   "metadata": {},
   "outputs": [],
   "source": [
    "def consolidateIntervals(intervals, tmin):\n",
    "    \n",
    "    for i in intervals:\n",
    "        print(i)\n",
    "    start = []\n",
    "    end = []\n",
    "    \n",
    "  #  intervals_consolidated = nts.Interval_Set(start,end,time_unit ='s')\n",
    "\n"
   ]
  },
  {
   "cell_type": "code",
   "execution_count": null,
   "metadata": {},
   "outputs": [],
   "source": [
    "scipy.ndimage.gaussian_filter1d()"
   ]
  }
 ],
 "metadata": {
  "kernelspec": {
   "display_name": "Python 3",
   "language": "python",
   "name": "python3"
  },
  "language_info": {
   "codemirror_mode": {
    "name": "ipython",
    "version": 3
   },
   "file_extension": ".py",
   "mimetype": "text/x-python",
   "name": "python",
   "nbconvert_exporter": "python",
   "pygments_lexer": "ipython3",
   "version": "3.7.0"
  }
 },
 "nbformat": 4,
 "nbformat_minor": 4
}
