{
 "cells": [
  {
   "cell_type": "code",
   "execution_count": null,
   "metadata": {},
   "outputs": [],
   "source": [
    "%matplotlib qt\n",
    "\n",
    "\n",
    "import os, sys\n",
    "\n",
    "\n",
    "import pandas as pd\n",
    "import numpy as np\n",
    "\n",
    "import scipy.io\n",
    "import scipy.stats\n",
    "\n",
    "import matplotlib\n",
    "import matplotlib.cm as cm\n",
    "import matplotlib.pyplot as plt\n",
    "\n",
    "import seaborn as sns\n",
    "\n",
    "import neuroseries as nts\n",
    "\n",
    "import basefunction.anass_load as bf\n",
    "import basefunction.bk_load as bk\n",
    "\n",
    "import re\n",
    "import pickle"
   ]
  },
  {
   "cell_type": "markdown",
   "metadata": {},
   "source": [
    "# Helpers functions"
   ]
  },
  {
   "cell_type": "code",
   "execution_count": 2,
   "metadata": {},
   "outputs": [],
   "source": [
    "def intervals_sum(intervals,units = 's'):\n",
    "    to_sum = []\n",
    "    for i in intervals.as_units(units).values:\n",
    "        to_sum.append(np.diff(i))\n",
    "    return np.sum(to_sum)"
   ]
  },
  {
   "cell_type": "code",
   "execution_count": 3,
   "metadata": {},
   "outputs": [],
   "source": [
    "path = \"Z:\\Rat08\\Rat08-20130713\"\n",
    "\n",
    "\n",
    "def main(path):\n",
    "    \n",
    "    # Initialising variables\n",
    "    bk.set_current_session(path)\n",
    "    \n",
    "    laps = scipy.io.loadmat(bk.session+'-LapType.mat')\n",
    "\n",
    "    danger_laps = laps['aplaps'][0]['run'][0]\n",
    "    danger_laps = nts.IntervalSet(danger_laps[:,0],danger_laps[:,1],time_units = 's')\n",
    "\n",
    "    safe_laps = laps['safelaps'][0]['run'][0]\n",
    "    safe_laps = nts.IntervalSet(safe_laps[:,0],safe_laps[:,1],time_units = 's')\n",
    "\n",
    "    laps = {'danger':danger_laps,'safe':safe_laps}\n",
    "\n",
    "    airpuff = scipy.io.loadmat('airpuff.mat')['airpuff']\n",
    "    airpuff_loc = scipy.io.loadmat(bk.session + '-PlaceCells.mat')['airP'][0][0]*137\n",
    "    airpuff_t = nts.Tsd(np.array(pd.read_csv(bk.session+'.puf.evt',sep = '\\t',header=None)[0]),time_units='ms')\n",
    "\n",
    "    pos = bk.load_pos(bk.session)\n",
    "    # pos_run = pos.restrict(danger_laps).as_units('s')\n",
    "\n",
    "    # Loading Spikes Data\n",
    "    \n",
    "    spks,meta = bk.loadSpikeData(bk.path)\n",
    "    \n",
    "    #Computing mean firing rates for each kind of laps for each neurons\n",
    "    FR = {}\n",
    "    for laps_type in laps:\n",
    "        FR.update({laps_type:[]})\n",
    "        for i,n in enumerate(spks):\n",
    "            tmp = n.restrict(laps[laps_type])\n",
    "            fr_tmp = (tmp.times().shape[0])/(intervals_sum(laps[laps_type]))\n",
    "            FR[laps_type].append(fr_tmp)\n",
    "    \n",
    "    # Zip everything in a dataframe\n",
    "    \n",
    "    df = pd.DataFrame(zip(meta),columns=['meta'])\n",
    "    for i in FR:\n",
    "        a = np.array(FR[i])\n",
    "        df[i] = FR[i]\n",
    "\n",
    "    \n",
    "    safe_fr = np.log(df.safe)\n",
    "    danger_fr = np.log(df.danger)\n",
    "    df['log_safe'] = safe_fr\n",
    "    df['log_danger'] = danger_fr\n",
    "    \n",
    "    df = df.replace([np.inf, -np.inf], np.nan).dropna(how=\"all\")\n",
    "    \n",
    "    \n",
    "    # Plot\n",
    "    \n",
    "    \n",
    "    pal = sns.cubehelix_palette(2, rot=-.5, dark=.3)\n",
    "\n",
    "    \n",
    "    plt.figure()\n",
    "    sns.violinplot(data = df[['log_safe','log_danger']],palette = pal,inner = 'points')\n",
    "    plt.title(bk.session)\n",
    "    plt.show()\n",
    "    \n",
    "    print(scipy.stats.wilcoxon(df['log_safe'],df['log_danger']))\n",
    "    "
   ]
  },
  {
   "cell_type": "code",
   "execution_count": 4,
   "metadata": {},
   "outputs": [],
   "source": [
    "# plt.figure()\n",
    "\n",
    "# step = 100\n",
    "# for i in range(0,pos_run.shape[0],2):\n",
    "#     plt.plot(pos_run['x'].iloc[i:i+step],pos_run['y'].iloc[i:i+step])\n",
    "#     plt.plot(airpuff_loc,30,'o',color = 'red')\n",
    "#     plt.title(pos_run.index[i])\n",
    "#     plt.xlim(25,390)\n",
    "#     plt.ylim(0,50)\n",
    "#     plt.pause(0.001)\n",
    "#     plt.cla()"
   ]
  },
  {
   "cell_type": "code",
   "execution_count": 5,
   "metadata": {},
   "outputs": [],
   "source": [
    "# hpc_shank = bf.get_structure_shanks(session,'Hpc')\n",
    "\n",
    "# hpc_mask = []\n",
    "# for i in meta[:,0]:\n",
    "#     hpc_mask.append(i in hpc_shank)\n",
    "# hpc_neurons = spks[hpc_mask]\n",
    "# meta[hpc_mask]\n",
    "\n",
    "\n",
    "# bla_shank = bf.get_structure_shanks(session,'BLA')\n",
    "# bla_mask = []\n",
    "# for i in meta[:,0]:\n",
    "#     bla_mask.append(i in bla_shank)\n",
    "# # spks = spks[bla_mask]\n",
    "# # meta = meta[bla_mask]"
   ]
  },
  {
   "cell_type": "code",
   "execution_count": null,
   "metadata": {},
   "outputs": [
    {
     "name": "stderr",
     "output_type": "stream",
     "text": [
      "  0% |                                                                        |\r"
     ]
    },
    {
     "name": "stdout",
     "output_type": "stream",
     "text": [
      "Loading Data from Rat08-20130708\n",
      "Rat : 8 on day : 1\n",
      "Working with session Rat08-20130708 @ Z:\\Rat08\\Rat08-20130708\n",
      "Loading Rat08-20130708.clu.1\n"
     ]
    }
   ],
   "source": [
    "bk.batch(main,verbose = True)"
   ]
  },
  {
   "cell_type": "code",
   "execution_count": 67,
   "metadata": {},
   "outputs": [
    {
     "name": "stdout",
     "output_type": "stream",
     "text": [
      "WilcoxonResult(statistic=12717.0, pvalue=0.005405792663209245)\n"
     ]
    }
   ],
   "source": [
    "print(scipy.stats.wilcoxon(df['log_safe'],df['log_danger']))"
   ]
  },
  {
   "cell_type": "code",
   "execution_count": 44,
   "metadata": {},
   "outputs": [
    {
     "data": {
      "text/plain": [
       "<matplotlib.axes._subplots.AxesSubplot at 0x22003428dc8>"
      ]
     },
     "execution_count": 44,
     "metadata": {},
     "output_type": "execute_result"
    }
   ],
   "source": [
    "pal = sns.cubehelix_palette(2, rot=-.5, dark=.3)\n",
    "\n",
    "sns.violinplot(data = df[['log_safe','log_danger']],palette = pal,inner = 'points')\n"
   ]
  },
  {
   "cell_type": "code",
   "execution_count": 62,
   "metadata": {},
   "outputs": [
    {
     "data": {
      "text/plain": [
       "(array([  6,  20,  23,  24,  28,  36,  44,  48,  56,  75,  92, 193, 195,\n",
       "        198, 204, 216, 217], dtype=int64),)"
      ]
     },
     "execution_count": 62,
     "metadata": {},
     "output_type": "execute_result"
    }
   ],
   "source": [
    "np.where(df['safe']==0)"
   ]
  },
  {
   "cell_type": "code",
   "execution_count": null,
   "metadata": {},
   "outputs": [],
   "source": []
  }
 ],
 "metadata": {
  "kernelspec": {
   "display_name": "Python 3",
   "language": "python",
   "name": "python3"
  },
  "language_info": {
   "codemirror_mode": {
    "name": "ipython",
    "version": 3
   },
   "file_extension": ".py",
   "mimetype": "text/x-python",
   "name": "python",
   "nbconvert_exporter": "python",
   "pygments_lexer": "ipython3",
   "version": "3.7.6"
  }
 },
 "nbformat": 4,
 "nbformat_minor": 4
}
