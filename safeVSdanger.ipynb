{
 "cells": [
  {
   "cell_type": "code",
   "execution_count": null,
   "metadata": {},
   "outputs": [],
   "source": [
    "%matplotlib qt\n",
    "\n",
    "\n",
    "import os, sys\n",
    "\n",
    "\n",
    "import pandas as pd\n",
    "import numpy as np\n",
    "\n",
    "import scipy.io\n",
    "import scipy.stats\n",
    "\n",
    "import matplotlib\n",
    "import matplotlib.cm as cm\n",
    "import matplotlib.pyplot as plt\n",
    "\n",
    "import seaborn as sns\n",
    "\n",
    "import neuroseries as nts\n",
    "\n",
    "import basefunction.anass_load as bf\n",
    "import basefunction.bk_load as bk\n",
    "\n",
    "import re\n",
    "import pickle"
   ]
  },
  {
   "cell_type": "markdown",
   "metadata": {},
   "source": [
    "# Helpers functions"
   ]
  },
  {
   "cell_type": "code",
   "execution_count": null,
   "metadata": {},
   "outputs": [],
   "source": [
    "def intervals_sum(intervals,units = 's'):\n",
    "    to_sum = []\n",
    "    for i in intervals.as_units(units).values:\n",
    "        to_sum.append(np.diff(i))\n",
    "    return np.sum(to_sum)"
   ]
  },
  {
   "cell_type": "code",
   "execution_count": 396,
   "metadata": {},
   "outputs": [
    {
     "name": "stdout",
     "output_type": "stream",
     "text": [
      "Rat : 8 on day : 6\n",
      "Working with session Rat08-20130713 @ Z:\\Rat08\\Rat08-20130713\n",
      "Loading Rat08-20130713.clu.1\n",
      "Loading Rat08-20130713.clu.2\n",
      "Loading Rat08-20130713.clu.3\n",
      "Loading Rat08-20130713.clu.4\n",
      "Loading Rat08-20130713.clu.5\n",
      "Loading Rat08-20130713.clu.6\n",
      "Loading Rat08-20130713.clu.7\n",
      "Loading Rat08-20130713.clu.8\n",
      "Loading Rat08-20130713.clu.9\n",
      "Loading Rat08-20130713.clu.10\n",
      "Loading Rat08-20130713.clu.11\n",
      "Loading Rat08-20130713.clu.12\n",
      "Loading Rat08-20130713.clu.13\n",
      "Loading Rat08-20130713.clu.14\n",
      "Loading Rat08-20130713.clu.15\n",
      "Loading Rat08-20130713.clu.16\n",
      "Loading Rat08-20130713.clu.17\n",
      "Loading Rat08-20130713.clu.18\n",
      "Loading Rat08-20130713.clu.19\n",
      "Loading Rat08-20130713.clu.20\n"
     ]
    }
   ],
   "source": [
    "path = \"Z:\\Rat08\\Rat08-20130713\"\n",
    "\n",
    "\n",
    "def main(path):\n",
    "    \n",
    "    # Initialising variables\n",
    "    bk.set_current_session(path)\n",
    "    \n",
    "    laps = scipy.io.loadmat(bk.session+'-LapType.mat')\n",
    "\n",
    "    danger_laps = laps['aplaps'][0]['run'][0]\n",
    "    danger_laps = nts.IntervalSet(danger_laps[:,0],danger_laps[:,1],time_units = 's')\n",
    "\n",
    "    safe_laps = laps['safelaps'][0]['run'][0]\n",
    "    safe_laps = nts.IntervalSet(safe_laps[:,0],safe_laps[:,1],time_units = 's')\n",
    "\n",
    "    laps = {'danger':danger_laps,'safe':safe_laps}\n",
    "\n",
    "    airpuff = scipy.io.loadmat('airpuff.mat')['airpuff']\n",
    "    airpuff_loc = scipy.io.loadmat(bk.session + '-PlaceCells.mat')['airP'][0][0]*137\n",
    "    airpuff_t = nts.Tsd(np.array(pd.read_csv(bk.session+'.puf.evt',sep = '\\t',header=None)[0]),time_units='ms')\n",
    "\n",
    "    pos = bk.load_pos(bk.session)\n",
    "    # pos_run = pos.restrict(danger_laps).as_units('s')\n",
    "\n",
    "    # Loading Spikes Data\n",
    "    \n",
    "    spks,meta = bk.loadSpikeData(bk.path)\n",
    "    \n",
    "    #Computing mean firing rates for each kind of laps for each neurons\n",
    "    FR = {}\n",
    "    for laps_type in laps:\n",
    "        FR.update({laps_type:[]})\n",
    "        for i,n in enumerate(spks):\n",
    "            tmp = n.restrict(laps[laps_type])\n",
    "            fr_tmp = (tmp.times().shape[0])/(intervals_sum(laps[laps_type]))\n",
    "            FR[laps_type].append(fr_tmp)\n",
    "    \n",
    "    # Zip everything in a dataframe\n",
    "    \n",
    "    df = pd.DataFrame(zip(meta),columns=['meta'])\n",
    "    for i in FR:\n",
    "        a = np.array(FR[i])\n",
    "        df[i] = FR[i]\n",
    "\n",
    "    \n",
    "    safe_fr = np.log(df.safe)\n",
    "    danger_fr = np.log(df.danger)\n",
    "    df['log_safe'] = safe_fr\n",
    "    df['log_danger'] = danger_fr\n",
    "    \n",
    "#     df = df.replace([np.inf, -np.inf], np.nan).dropna(how=\"any\")\n",
    "    return df\n",
    "    \n",
    "    \n",
    "    # Plot\n",
    "    \n",
    "    \n",
    "    pal = sns.cubehelix_palette(2, rot=-.5, dark=.3)\n",
    "\n",
    "    \n",
    "#     plt.figure()\n",
    "#     sns.violinplot(data = df[['log_safe','log_danger']],palette = pal,inner = 'points')\n",
    "#     plt.title(bk.session)\n",
    "#     plt.show()\n",
    "    \n",
    "    print(scipy.stats.wilcoxon(df['log_safe'],df['log_danger']))\n",
    "    \n",
    "df = main('Z:\\Rat08\\Rat08-20130713')"
   ]
  },
  {
   "cell_type": "code",
   "execution_count": 409,
   "metadata": {},
   "outputs": [
    {
     "name": "stdout",
     "output_type": "stream",
     "text": [
      "WilcoxonResult(statistic=13435.5, pvalue=0.03065584650548224)\n"
     ]
    },
    {
     "name": "stderr",
     "output_type": "stream",
     "text": [
      "C:\\ProgramData\\Anaconda3\\lib\\site-packages\\scipy\\stats\\morestats.py:2947: RuntimeWarning: invalid value encountered in subtract\n",
      "  d = x - y\n"
     ]
    }
   ],
   "source": [
    "df.replace([-np.inf,np.inf],np.nan).dropna(how = 'any')\n",
    "\n",
    "print(scipy.stats.wilcoxon(df['log_safe'],df['log_danger']))"
   ]
  },
  {
   "cell_type": "code",
   "execution_count": 4,
   "metadata": {},
   "outputs": [],
   "source": [
    "# plt.figure()\n",
    "\n",
    "# step = 100\n",
    "# for i in range(0,pos_run.shape[0],2):\n",
    "#     plt.plot(pos_run['x'].iloc[i:i+step],pos_run['y'].iloc[i:i+step])\n",
    "#     plt.plot(airpuff_loc,30,'o',color = 'red')\n",
    "#     plt.title(pos_run.index[i])\n",
    "#     plt.xlim(25,390)\n",
    "#     plt.ylim(0,50)\n",
    "#     plt.pause(0.001)\n",
    "#     plt.cla()"
   ]
  },
  {
   "cell_type": "code",
   "execution_count": 5,
   "metadata": {},
   "outputs": [],
   "source": [
    "# hpc_shank = bf.get_structure_shanks(session,'Hpc')\n",
    "\n",
    "# hpc_mask = []\n",
    "# for i in meta[:,0]:\n",
    "#     hpc_mask.append(i in hpc_shank)\n",
    "# hpc_neurons = spks[hpc_mask]\n",
    "# meta[hpc_mask]\n",
    "\n",
    "\n",
    "# bla_shank = bf.get_structure_shanks(session,'BLA')\n",
    "# bla_mask = []\n",
    "# for i in meta[:,0]:\n",
    "#     bla_mask.append(i in bla_shank)\n",
    "# # spks = spks[bla_mask]\n",
    "# # meta = meta[bla_mask]"
   ]
  },
  {
   "cell_type": "code",
   "execution_count": 10,
   "metadata": {
    "collapsed": true,
    "jupyter": {
     "outputs_hidden": true
    }
   },
   "outputs": [
    {
     "name": "stderr",
     "output_type": "stream",
     "text": [
      "  0% |                                                                        |\r"
     ]
    },
    {
     "name": "stdout",
     "output_type": "stream",
     "text": [
      "Loading Data from Rat08-20130708\n",
      "Rat : 8 on day : 1\n",
      "Working with session Rat08-20130708 @ Z:\\Rat08\\Rat08-20130708\n",
      "[ 1  2  3  4  5  6  7  8  9 10 11 12 13 14 15 16 17 18 19 20] [ 1  2  3  4  5  6  7  8  9 10 11 12 13 14 15 16 17 18 19 20]\n",
      "Loading Rat08-20130708.clu.1\n",
      "Loading Rat08-20130708.clu.2\n",
      "Loading Rat08-20130708.clu.3\n",
      "Loading Rat08-20130708.clu.4\n",
      "Loading Rat08-20130708.clu.5\n",
      "Loading Rat08-20130708.clu.6\n",
      "Loading Rat08-20130708.clu.7\n",
      "Loading Rat08-20130708.clu.8\n",
      "Loading Rat08-20130708.clu.9\n",
      "Loading Rat08-20130708.clu.10\n",
      "Loading Rat08-20130708.clu.11\n",
      "Loading Rat08-20130708.clu.12\n",
      "Loading Rat08-20130708.clu.13\n",
      "Loading Rat08-20130708.clu.14\n",
      "Loading Rat08-20130708.clu.15\n",
      "Loading Rat08-20130708.clu.16\n",
      "Loading Rat08-20130708.clu.17\n",
      "Loading Rat08-20130708.clu.18\n",
      "Loading Rat08-20130708.clu.19\n",
      "Loading Rat08-20130708.clu.20\n"
     ]
    },
    {
     "name": "stderr",
     "output_type": "stream",
     "text": [
      "Z:\\Python\\Billel\\basefunction\\bk_load.py:181: VisibleDeprecationWarning: Creating an ndarray from ragged nested sequences (which is a list-or-tuple of lists-or-tuples-or ndarrays with different lengths or shapes) is deprecated. If you meant to do this, you must specify 'dtype=object' when creating the ndarray\n",
      "  shank = np.hstack(shank)\n",
      "C:\\ProgramData\\Anaconda3\\lib\\site-packages\\pandas\\core\\series.py:726: RuntimeWarning: divide by zero encountered in log\n",
      "  result = getattr(ufunc, method)(*inputs, **kwargs)\n",
      "  1% |#                                                                       |\r"
     ]
    },
    {
     "name": "stdout",
     "output_type": "stream",
     "text": [
      "WilcoxonResult(statistic=3819.0, pvalue=0.8889377307687892)\n",
      "Loading Data from Rat08-20130709\n",
      "Rat : 8 on day : 2\n",
      "Working with session Rat08-20130709 @ Z:\\Rat08\\Rat08-20130709\n",
      "[ 1  2  3  4  5  6  7  8  9 10 11 12 13 14 15 16 17 18 19 20] [ 1  2  3  4  5  6  7  8  9 10 11 12 13 14 15 16 17 18 19 20]\n",
      "Loading Rat08-20130709.clu.1\n",
      "Loading Rat08-20130709.clu.2\n",
      "Loading Rat08-20130709.clu.3\n",
      "Loading Rat08-20130709.clu.4\n",
      "Loading Rat08-20130709.clu.5\n",
      "Loading Rat08-20130709.clu.6\n",
      "Loading Rat08-20130709.clu.7\n",
      "Loading Rat08-20130709.clu.8\n",
      "Loading Rat08-20130709.clu.9\n",
      "Loading Rat08-20130709.clu.10\n",
      "Loading Rat08-20130709.clu.11\n",
      "Loading Rat08-20130709.clu.12\n",
      "Loading Rat08-20130709.clu.13\n",
      "Loading Rat08-20130709.clu.14\n",
      "Loading Rat08-20130709.clu.15\n",
      "Loading Rat08-20130709.clu.16\n",
      "Loading Rat08-20130709.clu.17\n",
      "Loading Rat08-20130709.clu.18\n",
      "Loading Rat08-20130709.clu.19\n",
      "Loading Rat08-20130709.clu.20\n"
     ]
    },
    {
     "name": "stderr",
     "output_type": "stream",
     "text": [
      "Z:\\Python\\Billel\\basefunction\\bk_load.py:181: VisibleDeprecationWarning: Creating an ndarray from ragged nested sequences (which is a list-or-tuple of lists-or-tuples-or ndarrays with different lengths or shapes) is deprecated. If you meant to do this, you must specify 'dtype=object' when creating the ndarray\n",
      "  shank = np.hstack(shank)\n",
      "C:\\ProgramData\\Anaconda3\\lib\\site-packages\\pandas\\core\\series.py:726: RuntimeWarning: divide by zero encountered in log\n",
      "  result = getattr(ufunc, method)(*inputs, **kwargs)\n",
      "  3% |##                                                                      |\r"
     ]
    },
    {
     "name": "stdout",
     "output_type": "stream",
     "text": [
      "WilcoxonResult(statistic=4447.0, pvalue=0.4588958270676018)\n",
      "Loading Data from Rat08-20130710\n",
      "Rat : 8 on day : 3\n",
      "Working with session Rat08-20130710 @ Z:\\Rat08\\Rat08-20130710\n",
      "[ 1  2  3  4  5  6  7  8  9 10 11 12 13 14 15 16 17 18 19 20] [ 1  2  3  4  5  6  7  8  9 10 11 12 13 14 15 16 17 18 19 20]\n",
      "Loading Rat08-20130710.clu.1\n",
      "Loading Rat08-20130710.clu.2\n",
      "Loading Rat08-20130710.clu.3\n",
      "Loading Rat08-20130710.clu.4\n",
      "Loading Rat08-20130710.clu.5\n",
      "Loading Rat08-20130710.clu.6\n",
      "Loading Rat08-20130710.clu.7\n",
      "Loading Rat08-20130710.clu.8\n",
      "Loading Rat08-20130710.clu.9\n",
      "Loading Rat08-20130710.clu.10\n",
      "Loading Rat08-20130710.clu.11\n",
      "Loading Rat08-20130710.clu.12\n",
      "Loading Rat08-20130710.clu.13\n",
      "Loading Rat08-20130710.clu.14\n",
      "Loading Rat08-20130710.clu.15\n",
      "Loading Rat08-20130710.clu.16\n",
      "Loading Rat08-20130710.clu.17\n",
      "Loading Rat08-20130710.clu.18\n",
      "Loading Rat08-20130710.clu.19\n",
      "Loading Rat08-20130710.clu.20\n"
     ]
    },
    {
     "name": "stderr",
     "output_type": "stream",
     "text": [
      "Z:\\Python\\Billel\\basefunction\\bk_load.py:181: VisibleDeprecationWarning: Creating an ndarray from ragged nested sequences (which is a list-or-tuple of lists-or-tuples-or ndarrays with different lengths or shapes) is deprecated. If you meant to do this, you must specify 'dtype=object' when creating the ndarray\n",
      "  shank = np.hstack(shank)\n",
      "C:\\ProgramData\\Anaconda3\\lib\\site-packages\\pandas\\core\\series.py:726: RuntimeWarning: divide by zero encountered in log\n",
      "  result = getattr(ufunc, method)(*inputs, **kwargs)\n",
      "  4% |###                                                                     |\r"
     ]
    },
    {
     "name": "stdout",
     "output_type": "stream",
     "text": [
      "WilcoxonResult(statistic=7224.0, pvalue=0.40472483982307805)\n",
      "Loading Data from Rat08-20130711\n",
      "Rat : 8 on day : 4\n",
      "Working with session Rat08-20130711 @ Z:\\Rat08\\Rat08-20130711\n",
      "[ 1  2  3  4  5  6  7  8  9 10 11 12 13 14 15 16 17 18 19 20] [ 1  2  3  4  5  6  7  8  9 10 11 12 13 14 15 16 17 18 19 20]\n",
      "Loading Rat08-20130711.clu.1\n",
      "Loading Rat08-20130711.clu.2\n",
      "Loading Rat08-20130711.clu.3\n",
      "Loading Rat08-20130711.clu.4\n",
      "Loading Rat08-20130711.clu.5\n",
      "Loading Rat08-20130711.clu.6\n",
      "Loading Rat08-20130711.clu.7\n",
      "Loading Rat08-20130711.clu.8\n",
      "Loading Rat08-20130711.clu.9\n",
      "Loading Rat08-20130711.clu.10\n",
      "Loading Rat08-20130711.clu.11\n",
      "Loading Rat08-20130711.clu.12\n",
      "Loading Rat08-20130711.clu.13\n",
      "Loading Rat08-20130711.clu.14\n",
      "Loading Rat08-20130711.clu.15\n",
      "Loading Rat08-20130711.clu.16\n",
      "Loading Rat08-20130711.clu.17\n",
      "Loading Rat08-20130711.clu.18\n",
      "Loading Rat08-20130711.clu.19\n",
      "Loading Rat08-20130711.clu.20\n"
     ]
    },
    {
     "name": "stderr",
     "output_type": "stream",
     "text": [
      "Z:\\Python\\Billel\\basefunction\\bk_load.py:181: VisibleDeprecationWarning: Creating an ndarray from ragged nested sequences (which is a list-or-tuple of lists-or-tuples-or ndarrays with different lengths or shapes) is deprecated. If you meant to do this, you must specify 'dtype=object' when creating the ndarray\n",
      "  shank = np.hstack(shank)\n",
      "C:\\ProgramData\\Anaconda3\\lib\\site-packages\\pandas\\core\\series.py:726: RuntimeWarning: divide by zero encountered in log\n",
      "  result = getattr(ufunc, method)(*inputs, **kwargs)\n",
      "  6% |####                                                                    |\r"
     ]
    },
    {
     "name": "stdout",
     "output_type": "stream",
     "text": [
      "WilcoxonResult(statistic=7225.0, pvalue=0.6487481175082965)\n",
      "Loading Data from Rat08-20130712\n",
      "Rat : 8 on day : 5\n",
      "Working with session Rat08-20130712 @ Z:\\Rat08\\Rat08-20130712\n",
      "[ 1  2  3  4  5  6  7  8  9 10 11 12 13 14 15 16 17 18 19 20] [ 1  2  3  4  5  6  7  8  9 10 11 12 13 14 15 16 17 18 19 20]\n",
      "Loading Rat08-20130712.clu.1\n",
      "Loading Rat08-20130712.clu.2\n",
      "Loading Rat08-20130712.clu.3\n",
      "Loading Rat08-20130712.clu.4\n",
      "Loading Rat08-20130712.clu.5\n",
      "Loading Rat08-20130712.clu.6\n",
      "Loading Rat08-20130712.clu.7\n",
      "Loading Rat08-20130712.clu.8\n",
      "Loading Rat08-20130712.clu.9\n",
      "Loading Rat08-20130712.clu.10\n",
      "Loading Rat08-20130712.clu.11\n",
      "Loading Rat08-20130712.clu.12\n",
      "Loading Rat08-20130712.clu.13\n",
      "Loading Rat08-20130712.clu.14\n",
      "Loading Rat08-20130712.clu.15\n",
      "Loading Rat08-20130712.clu.16\n",
      "Loading Rat08-20130712.clu.17\n",
      "Loading Rat08-20130712.clu.18\n",
      "Loading Rat08-20130712.clu.19\n",
      "Loading Rat08-20130712.clu.20\n"
     ]
    },
    {
     "name": "stderr",
     "output_type": "stream",
     "text": [
      "Z:\\Python\\Billel\\basefunction\\bk_load.py:181: VisibleDeprecationWarning: Creating an ndarray from ragged nested sequences (which is a list-or-tuple of lists-or-tuples-or ndarrays with different lengths or shapes) is deprecated. If you meant to do this, you must specify 'dtype=object' when creating the ndarray\n",
      "  shank = np.hstack(shank)\n",
      "C:\\ProgramData\\Anaconda3\\lib\\site-packages\\pandas\\core\\series.py:726: RuntimeWarning: divide by zero encountered in log\n",
      "  result = getattr(ufunc, method)(*inputs, **kwargs)\n",
      "  8% |#####                                                                   |\r"
     ]
    },
    {
     "name": "stdout",
     "output_type": "stream",
     "text": [
      "WilcoxonResult(statistic=7623.0, pvalue=0.4558638762047398)\n",
      "Loading Data from Rat08-20130713\n",
      "Rat : 8 on day : 6\n",
      "Working with session Rat08-20130713 @ Z:\\Rat08\\Rat08-20130713\n",
      "[ 1  2  3  4  5  6  7  8  9 10 11 12 13 14 15 16 17 18 19 20] [ 1  2  3  4  5  6  7  8  9 10 11 12 13 14 15 16 17 18 19 20]\n",
      "Loading Rat08-20130713.clu.1\n",
      "Loading Rat08-20130713.clu.2\n",
      "Loading Rat08-20130713.clu.3\n",
      "Loading Rat08-20130713.clu.4\n",
      "Loading Rat08-20130713.clu.5\n",
      "Loading Rat08-20130713.clu.6\n",
      "Loading Rat08-20130713.clu.7\n",
      "Loading Rat08-20130713.clu.8\n",
      "Loading Rat08-20130713.clu.9\n",
      "Loading Rat08-20130713.clu.10\n",
      "Loading Rat08-20130713.clu.11\n",
      "Loading Rat08-20130713.clu.12\n",
      "Loading Rat08-20130713.clu.13\n",
      "Loading Rat08-20130713.clu.14\n",
      "Loading Rat08-20130713.clu.15\n",
      "Loading Rat08-20130713.clu.16\n",
      "Loading Rat08-20130713.clu.17\n",
      "Loading Rat08-20130713.clu.18\n",
      "Loading Rat08-20130713.clu.19\n",
      "Loading Rat08-20130713.clu.20\n"
     ]
    },
    {
     "name": "stderr",
     "output_type": "stream",
     "text": [
      "Z:\\Python\\Billel\\basefunction\\bk_load.py:181: VisibleDeprecationWarning: Creating an ndarray from ragged nested sequences (which is a list-or-tuple of lists-or-tuples-or ndarrays with different lengths or shapes) is deprecated. If you meant to do this, you must specify 'dtype=object' when creating the ndarray\n",
      "  shank = np.hstack(shank)\n",
      "C:\\ProgramData\\Anaconda3\\lib\\site-packages\\pandas\\core\\series.py:726: RuntimeWarning: divide by zero encountered in log\n",
      "  result = getattr(ufunc, method)(*inputs, **kwargs)\n",
      "  9% |#######                                                                 |\r"
     ]
    },
    {
     "name": "stdout",
     "output_type": "stream",
     "text": [
      "WilcoxonResult(statistic=12717.0, pvalue=0.436106722595317)\n",
      "Loading Data from Rat08-20130715\n",
      "Rat : 8 on day : 7\n",
      "Working with session Rat08-20130715 @ Z:\\Rat08\\Rat08-20130715\n",
      "[ 1  2  3  4  5  6  7  8  9 10 11 12 13 14 15 16 17 18 19 20] [ 1  2  3  4  5  6  7  8  9 10 11 12 13 14 15 16 17 18 19 20]\n",
      "Loading Rat08-20130715.clu.1\n",
      "Loading Rat08-20130715.clu.2\n",
      "Loading Rat08-20130715.clu.3\n",
      "Loading Rat08-20130715.clu.4\n",
      "Loading Rat08-20130715.clu.5\n",
      "Loading Rat08-20130715.clu.6\n",
      "Loading Rat08-20130715.clu.7\n",
      "Loading Rat08-20130715.clu.8\n",
      "Loading Rat08-20130715.clu.9\n",
      "Loading Rat08-20130715.clu.10\n",
      "Loading Rat08-20130715.clu.11\n",
      "Loading Rat08-20130715.clu.12\n",
      "Loading Rat08-20130715.clu.13\n",
      "Loading Rat08-20130715.clu.14\n",
      "Loading Rat08-20130715.clu.15\n",
      "Loading Rat08-20130715.clu.16\n",
      "Loading Rat08-20130715.clu.17\n",
      "Loading Rat08-20130715.clu.18\n",
      "Loading Rat08-20130715.clu.19\n",
      "Loading Rat08-20130715.clu.20\n"
     ]
    },
    {
     "name": "stderr",
     "output_type": "stream",
     "text": [
      "Z:\\Python\\Billel\\basefunction\\bk_load.py:181: VisibleDeprecationWarning: Creating an ndarray from ragged nested sequences (which is a list-or-tuple of lists-or-tuples-or ndarrays with different lengths or shapes) is deprecated. If you meant to do this, you must specify 'dtype=object' when creating the ndarray\n",
      "  shank = np.hstack(shank)\n",
      "C:\\ProgramData\\Anaconda3\\lib\\site-packages\\pandas\\core\\series.py:726: RuntimeWarning: divide by zero encountered in log\n",
      "  result = getattr(ufunc, method)(*inputs, **kwargs)\n",
      " 11% |########                                                                |\r"
     ]
    },
    {
     "name": "stdout",
     "output_type": "stream",
     "text": [
      "WilcoxonResult(statistic=6486.0, pvalue=0.846841450100954)\n",
      "Loading Data from Rat08-20130716\n",
      "Rat : 8 on day : 8\n",
      "Working with session Rat08-20130716 @ Z:\\Rat08\\Rat08-20130716\n",
      "[ 1  2  3  4  5  6  7  8  9 10 11 12 13 14 15 16 17 18 19 20] [ 1  2  3  4  5  6  7  8  9 10 11 12 13 14 15 16 17 18 19 20]\n",
      "Loading Rat08-20130716.clu.1\n",
      "Loading Rat08-20130716.clu.2\n",
      "Loading Rat08-20130716.clu.3\n",
      "Loading Rat08-20130716.clu.4\n",
      "Loading Rat08-20130716.clu.5\n",
      "Loading Rat08-20130716.clu.6\n",
      "Loading Rat08-20130716.clu.7\n",
      "Loading Rat08-20130716.clu.8\n",
      "Loading Rat08-20130716.clu.9\n",
      "Loading Rat08-20130716.clu.10\n",
      "Loading Rat08-20130716.clu.11\n",
      "Loading Rat08-20130716.clu.12\n",
      "Loading Rat08-20130716.clu.13\n",
      "Loading Rat08-20130716.clu.14\n",
      "Loading Rat08-20130716.clu.15\n",
      "Loading Rat08-20130716.clu.16\n",
      "Loading Rat08-20130716.clu.17\n",
      "Loading Rat08-20130716.clu.18\n",
      "Loading Rat08-20130716.clu.19\n",
      "Loading Rat08-20130716.clu.20\n"
     ]
    },
    {
     "name": "stderr",
     "output_type": "stream",
     "text": [
      "Z:\\Python\\Billel\\basefunction\\bk_load.py:181: VisibleDeprecationWarning: Creating an ndarray from ragged nested sequences (which is a list-or-tuple of lists-or-tuples-or ndarrays with different lengths or shapes) is deprecated. If you meant to do this, you must specify 'dtype=object' when creating the ndarray\n",
      "  shank = np.hstack(shank)\n",
      "C:\\ProgramData\\Anaconda3\\lib\\site-packages\\pandas\\core\\series.py:726: RuntimeWarning: divide by zero encountered in log\n",
      "  result = getattr(ufunc, method)(*inputs, **kwargs)\n",
      " 13% |#########                                                               |\r"
     ]
    },
    {
     "name": "stdout",
     "output_type": "stream",
     "text": [
      "WilcoxonResult(statistic=6630.0, pvalue=0.030451787550978448)\n",
      "Loading Data from Rat08-20130717\n",
      "Rat : 8 on day : 9\n",
      "Working with session Rat08-20130717 @ Z:\\Rat08\\Rat08-20130717\n",
      "[ 1  2  3  4  5  6  7  8  9 10 11 12 13 14 15 16 17 18 19 20] [ 1  2  3  4  5  6  7  8  9 10 11 12 13 14 15 16 17 18 19 20]\n",
      "Loading Rat08-20130717.clu.1\n",
      "Loading Rat08-20130717.clu.2\n",
      "Loading Rat08-20130717.clu.3\n",
      "Loading Rat08-20130717.clu.4\n",
      "Loading Rat08-20130717.clu.5\n",
      "Loading Rat08-20130717.clu.6\n",
      "Loading Rat08-20130717.clu.7\n",
      "Loading Rat08-20130717.clu.8\n",
      "Loading Rat08-20130717.clu.9\n",
      "Loading Rat08-20130717.clu.10\n",
      "Loading Rat08-20130717.clu.11\n",
      "Loading Rat08-20130717.clu.12\n",
      "Loading Rat08-20130717.clu.13\n",
      "Loading Rat08-20130717.clu.14\n",
      "Loading Rat08-20130717.clu.15\n",
      "Loading Rat08-20130717.clu.16\n",
      "Loading Rat08-20130717.clu.17\n",
      "Loading Rat08-20130717.clu.18\n",
      "Loading Rat08-20130717.clu.19\n",
      "Loading Rat08-20130717.clu.20\n"
     ]
    },
    {
     "name": "stderr",
     "output_type": "stream",
     "text": [
      "Z:\\Python\\Billel\\basefunction\\bk_load.py:181: VisibleDeprecationWarning: Creating an ndarray from ragged nested sequences (which is a list-or-tuple of lists-or-tuples-or ndarrays with different lengths or shapes) is deprecated. If you meant to do this, you must specify 'dtype=object' when creating the ndarray\n",
      "  shank = np.hstack(shank)\n",
      "C:\\ProgramData\\Anaconda3\\lib\\site-packages\\pandas\\core\\series.py:726: RuntimeWarning: divide by zero encountered in log\n",
      "  result = getattr(ufunc, method)(*inputs, **kwargs)\n",
      " 21% |###############                                                         |\r"
     ]
    },
    {
     "name": "stdout",
     "output_type": "stream",
     "text": [
      "WilcoxonResult(statistic=8750.0, pvalue=0.6709144903478542)\n",
      "Loading Data from Rat08-20130718\n",
      "Rat : 8 on day : 10\n",
      "Working with session Rat08-20130718 @ Z:\\Rat08\\Rat08-20130718\n",
      "Error in session Rat08-20130718\n",
      "Loading Data from Rat08-20130719\n",
      "Rat : 8 on day : 11\n",
      "Working with session Rat08-20130719 @ Z:\\Rat08\\Rat08-20130719\n",
      "Error in session Rat08-20130719\n",
      "Loading Data from Rat08-20130720\n",
      "Rat : 8 on day : 12\n",
      "Working with session Rat08-20130720 @ Z:\\Rat08\\Rat08-20130720\n",
      "Error in session Rat08-20130720\n",
      "Loading Data from Rat08-20130722\n",
      "Rat : 8 on day : 13\n",
      "Working with session Rat08-20130722 @ Z:\\Rat08\\Rat08-20130722\n",
      "Error in session Rat08-20130722\n",
      "Loading Data from Rat09-20140324\n"
     ]
    },
    {
     "name": "stderr",
     "output_type": "stream",
     "text": [
      " 29% |#####################                                                   |\r"
     ]
    },
    {
     "name": "stdout",
     "output_type": "stream",
     "text": [
      "Rat : 9 on day : 1\n",
      "Working with session Rat09-20140324 @ Z:\\Rat09\\Rat09-20140324\n",
      "Error in session Rat09-20140324\n",
      "Loading Data from Rat09-20140325\n",
      "Rat : 9 on day : 2\n",
      "Working with session Rat09-20140325 @ Z:\\Rat09\\Rat09-20140325\n",
      "Error in session Rat09-20140325\n",
      "Loading Data from Rat09-20140326\n",
      "Rat : 9 on day : 3\n",
      "Working with session Rat09-20140326 @ Z:\\Rat09\\Rat09-20140326\n",
      "Error in session Rat09-20140326\n",
      "Loading Data from Rat09-20140327\n",
      "Rat : 9 on day : 4\n",
      "Working with session Rat09-20140327 @ Z:\\Rat09\\Rat09-20140327\n",
      "Error in session Rat09-20140327\n",
      "Loading Data from Rat09-20140328\n",
      "Rat : 9 on day : 5\n",
      "Working with session Rat09-20140328 @ Z:\\Rat09\\Rat09-20140328\n",
      "Error in session Rat09-20140328\n",
      "Loading Data from Rat09-20140329\n",
      "Rat : 9 on day : 6\n",
      "Working with session Rat09-20140329 @ Z:\\Rat09\\Rat09-20140329\n"
     ]
    },
    {
     "name": "stderr",
     "output_type": "stream",
     "text": [
      " 37% |###########################                                             |\r"
     ]
    },
    {
     "name": "stdout",
     "output_type": "stream",
     "text": [
      "Error in session Rat09-20140329\n",
      "Loading Data from Rat09-20140331\n",
      "Rat : 9 on day : 7\n",
      "Working with session Rat09-20140331 @ Z:\\Rat09\\Rat09-20140331\n",
      "Error in session Rat09-20140331\n",
      "Loading Data from Rat09-20140401\n",
      "Rat : 9 on day : 8\n",
      "Working with session Rat09-20140401 @ Z:\\Rat09\\Rat09-20140401\n",
      "Error in session Rat09-20140401\n",
      "Loading Data from Rat09-20140402\n",
      "Rat : 9 on day : 9\n",
      "Working with session Rat09-20140402 @ Z:\\Rat09\\Rat09-20140402\n",
      "Error in session Rat09-20140402\n",
      "Loading Data from Rat09-20140403\n",
      "Rat : 9 on day : 10\n",
      "Working with session Rat09-20140403 @ Z:\\Rat09\\Rat09-20140403\n",
      "Error in session Rat09-20140403\n",
      "Loading Data from Rat09-20140404\n",
      "Rat : 9 on day : 11\n",
      "Working with session Rat09-20140404 @ Z:\\Rat09\\Rat09-20140404\n"
     ]
    },
    {
     "name": "stderr",
     "output_type": "stream",
     "text": [
      " 45% |#################################                                       |\r"
     ]
    },
    {
     "name": "stdout",
     "output_type": "stream",
     "text": [
      "Error in session Rat09-20140404\n",
      "Loading Data from Rat09-20140405\n",
      "Rat : 9 on day : 12\n",
      "Working with session Rat09-20140405 @ Z:\\Rat09\\Rat09-20140405\n",
      "Error in session Rat09-20140405\n",
      "Loading Data from Rat09-20140407\n",
      "Rat : 9 on day : 13\n",
      "Working with session Rat09-20140407 @ Z:\\Rat09\\Rat09-20140407\n",
      "Error in session Rat09-20140407\n",
      "Loading Data from Rat09-20140408\n",
      "Rat : 9 on day : 14\n",
      "Working with session Rat09-20140408 @ Z:\\Rat09\\Rat09-20140408\n",
      "Error in session Rat09-20140408\n",
      "Loading Data from Rat09-20140409\n",
      "Rat : 9 on day : 15\n",
      "Working with session Rat09-20140409 @ Z:\\Rat09\\Rat09-20140409\n",
      "Error in session Rat09-20140409\n",
      "Loading Data from Rat10-20140619\n",
      "Rat : 10 on day : 1\n",
      "Working with session Rat10-20140619 @ Z:\\Rat10\\Rat10-20140619\n",
      "[ 1  2  3  4  5  6  7  8  9 10 11 12 13 14 15 16 17 18 19 20] [ 1  2  3  4  5  6  7  8  9 10 11 12 13 14 15 16 17 18 19 20]\n",
      "Loading Rat10-20140619.clu.1\n",
      "Loading Rat10-20140619.clu.2\n",
      "Loading Rat10-20140619.clu.3\n",
      "Loading Rat10-20140619.clu.4\n",
      "Loading Rat10-20140619.clu.5\n",
      "Loading Rat10-20140619.clu.6\n",
      "Loading Rat10-20140619.clu.7\n",
      "Loading Rat10-20140619.clu.8\n",
      "Loading Rat10-20140619.clu.9\n",
      "Loading Rat10-20140619.clu.10\n",
      "Loading Rat10-20140619.clu.11\n",
      "Loading Rat10-20140619.clu.12\n",
      "Loading Rat10-20140619.clu.13\n",
      "Loading Rat10-20140619.clu.14\n",
      "Loading Rat10-20140619.clu.15\n",
      "Loading Rat10-20140619.clu.16\n",
      "Loading Rat10-20140619.clu.17\n",
      "Loading Rat10-20140619.clu.18\n",
      "Loading Rat10-20140619.clu.19\n",
      "Loading Rat10-20140619.clu.20\n"
     ]
    },
    {
     "name": "stderr",
     "output_type": "stream",
     "text": [
      "Z:\\Python\\Billel\\basefunction\\bk_load.py:181: VisibleDeprecationWarning: Creating an ndarray from ragged nested sequences (which is a list-or-tuple of lists-or-tuples-or ndarrays with different lengths or shapes) is deprecated. If you meant to do this, you must specify 'dtype=object' when creating the ndarray\n",
      "  shank = np.hstack(shank)\n",
      "C:\\ProgramData\\Anaconda3\\lib\\site-packages\\pandas\\core\\series.py:726: RuntimeWarning: divide by zero encountered in log\n",
      "  result = getattr(ufunc, method)(*inputs, **kwargs)\n",
      " 47% |##################################                                      |\r"
     ]
    },
    {
     "name": "stdout",
     "output_type": "stream",
     "text": [
      "WilcoxonResult(statistic=1035.0, pvalue=0.11742621034432427)\n",
      "Loading Data from Rat10-20140620\n",
      "Rat : 10 on day : 2\n",
      "Working with session Rat10-20140620 @ Z:\\Rat10\\Rat10-20140620\n",
      "[ 1  2  3  4  5  6  7  8  9 10 11 12 13 14 15 16 17 18 19 20] [ 1  2  3  4  5  6  7  8  9 10 11 12 13 14 15 16 17 18 19 20]\n",
      "Loading Rat10-20140620.clu.1\n",
      "Loading Rat10-20140620.clu.2\n",
      "Loading Rat10-20140620.clu.3\n",
      "Loading Rat10-20140620.clu.4\n",
      "Loading Rat10-20140620.clu.5\n",
      "Loading Rat10-20140620.clu.6\n",
      "Loading Rat10-20140620.clu.7\n",
      "Loading Rat10-20140620.clu.8\n",
      "Loading Rat10-20140620.clu.9\n",
      "Loading Rat10-20140620.clu.10\n",
      "Loading Rat10-20140620.clu.11\n",
      "Loading Rat10-20140620.clu.12\n",
      "Loading Rat10-20140620.clu.13\n",
      "Loading Rat10-20140620.clu.14\n",
      "Loading Rat10-20140620.clu.15\n",
      "Loading Rat10-20140620.clu.16\n",
      "Loading Rat10-20140620.clu.17\n",
      "Loading Rat10-20140620.clu.18\n",
      "Loading Rat10-20140620.clu.19\n",
      "Loading Rat10-20140620.clu.20\n"
     ]
    },
    {
     "name": "stderr",
     "output_type": "stream",
     "text": [
      "Z:\\Python\\Billel\\basefunction\\bk_load.py:181: VisibleDeprecationWarning: Creating an ndarray from ragged nested sequences (which is a list-or-tuple of lists-or-tuples-or ndarrays with different lengths or shapes) is deprecated. If you meant to do this, you must specify 'dtype=object' when creating the ndarray\n",
      "  shank = np.hstack(shank)\n",
      "C:\\ProgramData\\Anaconda3\\lib\\site-packages\\pandas\\core\\series.py:726: RuntimeWarning: divide by zero encountered in log\n",
      "  result = getattr(ufunc, method)(*inputs, **kwargs)\n",
      " 49% |###################################                                     |\r"
     ]
    },
    {
     "name": "stdout",
     "output_type": "stream",
     "text": [
      "WilcoxonResult(statistic=1348.0, pvalue=0.6842934391086908)\n",
      "Loading Data from Rat10-20140622\n",
      "Rat : 10 on day : 3\n",
      "Working with session Rat10-20140622 @ Z:\\Rat10\\Rat10-20140622\n",
      "[ 1  2  3  4  5  6  7  8  9 10 11 12 13 14 15 16 17 18 19 20] [ 1  2  3  4  5  6  7  8  9 10 11 12 13 14 15 16 17 18 19 20]\n",
      "Loading Rat10-20140622.clu.1\n",
      "Loading Rat10-20140622.clu.2\n",
      "Loading Rat10-20140622.clu.3\n",
      "Loading Rat10-20140622.clu.4\n",
      "Loading Rat10-20140622.clu.5\n",
      "Loading Rat10-20140622.clu.6\n",
      "Loading Rat10-20140622.clu.7\n",
      "Loading Rat10-20140622.clu.8\n",
      "Loading Rat10-20140622.clu.9\n",
      "Loading Rat10-20140622.clu.10\n",
      "Loading Rat10-20140622.clu.11\n",
      "Loading Rat10-20140622.clu.12\n",
      "Loading Rat10-20140622.clu.13\n",
      "Loading Rat10-20140622.clu.14\n",
      "Loading Rat10-20140622.clu.15\n",
      "Loading Rat10-20140622.clu.16\n",
      "Loading Rat10-20140622.clu.17\n",
      "Loading Rat10-20140622.clu.18\n",
      "Loading Rat10-20140622.clu.19\n",
      "Loading Rat10-20140622.clu.20\n"
     ]
    },
    {
     "name": "stderr",
     "output_type": "stream",
     "text": [
      "Z:\\Python\\Billel\\basefunction\\bk_load.py:181: VisibleDeprecationWarning: Creating an ndarray from ragged nested sequences (which is a list-or-tuple of lists-or-tuples-or ndarrays with different lengths or shapes) is deprecated. If you meant to do this, you must specify 'dtype=object' when creating the ndarray\n",
      "  shank = np.hstack(shank)\n",
      "C:\\ProgramData\\Anaconda3\\lib\\site-packages\\pandas\\core\\series.py:726: RuntimeWarning: divide by zero encountered in log\n",
      "  result = getattr(ufunc, method)(*inputs, **kwargs)\n",
      " 50% |####################################                                    |\r"
     ]
    },
    {
     "name": "stdout",
     "output_type": "stream",
     "text": [
      "WilcoxonResult(statistic=2196.0, pvalue=0.060801337809064854)\n",
      "Loading Data from Rat10-20140624\n",
      "Rat : 10 on day : 4\n",
      "Working with session Rat10-20140624 @ Z:\\Rat10\\Rat10-20140624\n",
      "[ 1  2  3  4  5  6  7  8  9 10 11 12 13 14 15 16 17 18 19 20] [ 1  2  3  4  5  6  7  8  9 10 11 12 13 14 15 16 17 18 19 20]\n",
      "Loading Rat10-20140624.clu.1\n",
      "Loading Rat10-20140624.clu.2\n",
      "Loading Rat10-20140624.clu.3\n",
      "Loading Rat10-20140624.clu.4\n",
      "Loading Rat10-20140624.clu.5\n",
      "Loading Rat10-20140624.clu.6\n",
      "Loading Rat10-20140624.clu.7\n",
      "Loading Rat10-20140624.clu.8\n",
      "Loading Rat10-20140624.clu.9\n",
      "Loading Rat10-20140624.clu.10\n",
      "Loading Rat10-20140624.clu.11\n",
      "Loading Rat10-20140624.clu.12\n",
      "Loading Rat10-20140624.clu.13\n",
      "Loading Rat10-20140624.clu.14\n",
      "Loading Rat10-20140624.clu.15\n",
      "Loading Rat10-20140624.clu.16\n",
      "Loading Rat10-20140624.clu.17\n",
      "Loading Rat10-20140624.clu.18\n",
      "Loading Rat10-20140624.clu.19\n",
      "Loading Rat10-20140624.clu.20\n"
     ]
    },
    {
     "name": "stderr",
     "output_type": "stream",
     "text": [
      "Z:\\Python\\Billel\\basefunction\\bk_load.py:181: VisibleDeprecationWarning: Creating an ndarray from ragged nested sequences (which is a list-or-tuple of lists-or-tuples-or ndarrays with different lengths or shapes) is deprecated. If you meant to do this, you must specify 'dtype=object' when creating the ndarray\n",
      "  shank = np.hstack(shank)\n",
      "C:\\ProgramData\\Anaconda3\\lib\\site-packages\\pandas\\core\\series.py:726: RuntimeWarning: divide by zero encountered in log\n",
      "  result = getattr(ufunc, method)(*inputs, **kwargs)\n",
      " 52% |#####################################                                   |\r"
     ]
    },
    {
     "name": "stdout",
     "output_type": "stream",
     "text": [
      "WilcoxonResult(statistic=1566.0, pvalue=0.10287415968146363)\n",
      "Loading Data from Rat10-20140626\n",
      "Rat : 10 on day : 5\n",
      "Working with session Rat10-20140626 @ Z:\\Rat10\\Rat10-20140626\n",
      "[ 1  2  3  4  5  6  7  8  9 10 11 12 13 14 15 16 17 18 19 20] [ 1  2  3  4  5  6  7  8  9 10 11 12 13 14 15 16 17 18 19 20]\n",
      "Loading Rat10-20140626.clu.1\n",
      "Loading Rat10-20140626.clu.2\n",
      "Loading Rat10-20140626.clu.3\n",
      "Loading Rat10-20140626.clu.4\n",
      "Loading Rat10-20140626.clu.5\n",
      "Loading Rat10-20140626.clu.6\n",
      "Loading Rat10-20140626.clu.7\n",
      "Loading Rat10-20140626.clu.8\n",
      "Loading Rat10-20140626.clu.9\n",
      "Loading Rat10-20140626.clu.10\n",
      "Loading Rat10-20140626.clu.11\n",
      "Loading Rat10-20140626.clu.12\n",
      "Loading Rat10-20140626.clu.13\n",
      "Loading Rat10-20140626.clu.14\n",
      "Loading Rat10-20140626.clu.15\n",
      "Loading Rat10-20140626.clu.16\n",
      "Loading Rat10-20140626.clu.17\n",
      "Loading Rat10-20140626.clu.18\n",
      "Loading Rat10-20140626.clu.19\n",
      "Loading Rat10-20140626.clu.20\n"
     ]
    },
    {
     "name": "stderr",
     "output_type": "stream",
     "text": [
      "Z:\\Python\\Billel\\basefunction\\bk_load.py:181: VisibleDeprecationWarning: Creating an ndarray from ragged nested sequences (which is a list-or-tuple of lists-or-tuples-or ndarrays with different lengths or shapes) is deprecated. If you meant to do this, you must specify 'dtype=object' when creating the ndarray\n",
      "  shank = np.hstack(shank)\n",
      "C:\\ProgramData\\Anaconda3\\lib\\site-packages\\pandas\\core\\series.py:726: RuntimeWarning: divide by zero encountered in log\n",
      "  result = getattr(ufunc, method)(*inputs, **kwargs)\n",
      " 54% |######################################                                  |\r"
     ]
    },
    {
     "name": "stdout",
     "output_type": "stream",
     "text": [
      "WilcoxonResult(statistic=998.0, pvalue=0.49224674140787017)\n",
      "Loading Data from Rat10-20140627\n",
      "Rat : 10 on day : 6\n",
      "Working with session Rat10-20140627 @ Z:\\Rat10\\Rat10-20140627\n",
      "[ 1  2  3  4  5  6  7  8  9 10 11 12 13 14 15 16 17 18 19 20] [ 1  2  3  4  5  6  7  8  9 10 11 12 13 14 15 16 17 18 19 20]\n",
      "Loading Rat10-20140627.clu.1\n",
      "Loading Rat10-20140627.clu.2\n",
      "Loading Rat10-20140627.clu.3\n",
      "Loading Rat10-20140627.clu.4\n",
      "Loading Rat10-20140627.clu.5\n",
      "Loading Rat10-20140627.clu.6\n",
      "Loading Rat10-20140627.clu.7\n",
      "Loading Rat10-20140627.clu.8\n",
      "Loading Rat10-20140627.clu.9\n",
      "Loading Rat10-20140627.clu.10\n",
      "Loading Rat10-20140627.clu.11\n",
      "Loading Rat10-20140627.clu.12\n",
      "Loading Rat10-20140627.clu.13\n",
      "Loading Rat10-20140627.clu.14\n",
      "Loading Rat10-20140627.clu.15\n",
      "Loading Rat10-20140627.clu.16\n",
      "Loading Rat10-20140627.clu.17\n",
      "Loading Rat10-20140627.clu.18\n",
      "Loading Rat10-20140627.clu.19\n",
      "Loading Rat10-20140627.clu.20\n"
     ]
    },
    {
     "name": "stderr",
     "output_type": "stream",
     "text": [
      "Z:\\Python\\Billel\\basefunction\\bk_load.py:181: VisibleDeprecationWarning: Creating an ndarray from ragged nested sequences (which is a list-or-tuple of lists-or-tuples-or ndarrays with different lengths or shapes) is deprecated. If you meant to do this, you must specify 'dtype=object' when creating the ndarray\n",
      "  shank = np.hstack(shank)\n",
      "C:\\ProgramData\\Anaconda3\\lib\\site-packages\\pandas\\core\\series.py:726: RuntimeWarning: divide by zero encountered in log\n",
      "  result = getattr(ufunc, method)(*inputs, **kwargs)\n",
      " 55% |########################################                                |\r"
     ]
    },
    {
     "name": "stdout",
     "output_type": "stream",
     "text": [
      "WilcoxonResult(statistic=1149.0, pvalue=0.7265119590722122)\n",
      "Loading Data from Rat10-20140628\n",
      "Rat : 10 on day : 7\n",
      "Working with session Rat10-20140628 @ Z:\\Rat10\\Rat10-20140628\n",
      "[ 1  2  3  4  5  6  7  8  9 10 11 12 13 14 15 16 17 18 19 20] [ 1  2  3  4  5  6  7  8  9 10 11 12 13 14 15 16 17 18 19 20]\n",
      "Loading Rat10-20140628.clu.1\n",
      "Loading Rat10-20140628.clu.2\n",
      "Loading Rat10-20140628.clu.3\n",
      "Loading Rat10-20140628.clu.4\n",
      "Loading Rat10-20140628.clu.5\n",
      "Loading Rat10-20140628.clu.6\n",
      "Loading Rat10-20140628.clu.7\n",
      "Loading Rat10-20140628.clu.8\n",
      "Loading Rat10-20140628.clu.9\n",
      "Loading Rat10-20140628.clu.10\n",
      "Loading Rat10-20140628.clu.11\n",
      "Loading Rat10-20140628.clu.12\n",
      "Loading Rat10-20140628.clu.13\n",
      "Loading Rat10-20140628.clu.14\n",
      "Loading Rat10-20140628.clu.15\n",
      "Loading Rat10-20140628.clu.16\n",
      "Loading Rat10-20140628.clu.17\n",
      "Loading Rat10-20140628.clu.18\n",
      "Loading Rat10-20140628.clu.19\n",
      "Loading Rat10-20140628.clu.20\n"
     ]
    },
    {
     "name": "stderr",
     "output_type": "stream",
     "text": [
      "Z:\\Python\\Billel\\basefunction\\bk_load.py:181: VisibleDeprecationWarning: Creating an ndarray from ragged nested sequences (which is a list-or-tuple of lists-or-tuples-or ndarrays with different lengths or shapes) is deprecated. If you meant to do this, you must specify 'dtype=object' when creating the ndarray\n",
      "  shank = np.hstack(shank)\n",
      "C:\\ProgramData\\Anaconda3\\lib\\site-packages\\pandas\\core\\series.py:726: RuntimeWarning: divide by zero encountered in log\n",
      "  result = getattr(ufunc, method)(*inputs, **kwargs)\n",
      " 57% |#########################################                               |\r"
     ]
    },
    {
     "name": "stdout",
     "output_type": "stream",
     "text": [
      "WilcoxonResult(statistic=573.0, pvalue=8.273101963567386e-09)\n",
      "Loading Data from Rat10-20140629\n",
      "Rat : 10 on day : 8\n",
      "Working with session Rat10-20140629 @ Z:\\Rat10\\Rat10-20140629\n",
      "[ 1  2  3  4  5  6  7  8  9 10 11 12 13 14 15 16 17 18 19 20] [ 1  2  3  4  5  6  7  8  9 10 11 12 13 14 15 16 17 18 19 20]\n",
      "Loading Rat10-20140629.clu.1\n",
      "Loading Rat10-20140629.clu.2\n",
      "Loading Rat10-20140629.clu.3\n",
      "Loading Rat10-20140629.clu.4\n",
      "Loading Rat10-20140629.clu.5\n",
      "Loading Rat10-20140629.clu.6\n",
      "Loading Rat10-20140629.clu.7\n",
      "Loading Rat10-20140629.clu.8\n",
      "Loading Rat10-20140629.clu.9\n",
      "Loading Rat10-20140629.clu.10\n",
      "Loading Rat10-20140629.clu.11\n",
      "Loading Rat10-20140629.clu.12\n",
      "Loading Rat10-20140629.clu.13\n",
      "Loading Rat10-20140629.clu.14\n",
      "Loading Rat10-20140629.clu.15\n",
      "Loading Rat10-20140629.clu.16\n",
      "Loading Rat10-20140629.clu.17\n",
      "Loading Rat10-20140629.clu.18\n",
      "Loading Rat10-20140629.clu.19\n",
      "Loading Rat10-20140629.clu.20\n"
     ]
    },
    {
     "name": "stderr",
     "output_type": "stream",
     "text": [
      "Z:\\Python\\Billel\\basefunction\\bk_load.py:181: VisibleDeprecationWarning: Creating an ndarray from ragged nested sequences (which is a list-or-tuple of lists-or-tuples-or ndarrays with different lengths or shapes) is deprecated. If you meant to do this, you must specify 'dtype=object' when creating the ndarray\n",
      "  shank = np.hstack(shank)\n",
      "C:\\ProgramData\\Anaconda3\\lib\\site-packages\\pandas\\core\\series.py:726: RuntimeWarning: divide by zero encountered in log\n",
      "  result = getattr(ufunc, method)(*inputs, **kwargs)\n",
      " 59% |##########################################                              |\r"
     ]
    },
    {
     "name": "stdout",
     "output_type": "stream",
     "text": [
      "WilcoxonResult(statistic=2168.0, pvalue=0.36151815207303784)\n",
      "Loading Data from Rat10-20140701\n",
      "Rat : 10 on day : 9\n",
      "Working with session Rat10-20140701 @ Z:\\Rat10\\Rat10-20140701\n",
      "[ 1  2  3  4  5  6  7  8  9 10 11 12 13 14 15 16 17 18 19 20] [ 1  2  3  4  5  6  7  8  9 10 11 12 13 14 15 16 17 18 19 20]\n",
      "Loading Rat10-20140701.clu.1\n",
      "Loading Rat10-20140701.clu.2\n",
      "Loading Rat10-20140701.clu.3\n",
      "Loading Rat10-20140701.clu.4\n",
      "Loading Rat10-20140701.clu.5\n",
      "Loading Rat10-20140701.clu.6\n",
      "Loading Rat10-20140701.clu.7\n",
      "Loading Rat10-20140701.clu.8\n",
      "Loading Rat10-20140701.clu.9\n",
      "Loading Rat10-20140701.clu.10\n",
      "Loading Rat10-20140701.clu.11\n",
      "Loading Rat10-20140701.clu.12\n",
      "Loading Rat10-20140701.clu.13\n",
      "Loading Rat10-20140701.clu.14\n",
      "Loading Rat10-20140701.clu.15\n",
      "Loading Rat10-20140701.clu.16\n",
      "Loading Rat10-20140701.clu.17\n",
      "Loading Rat10-20140701.clu.18\n",
      "Loading Rat10-20140701.clu.19\n",
      "Loading Rat10-20140701.clu.20\n"
     ]
    },
    {
     "name": "stderr",
     "output_type": "stream",
     "text": [
      "Z:\\Python\\Billel\\basefunction\\bk_load.py:181: VisibleDeprecationWarning: Creating an ndarray from ragged nested sequences (which is a list-or-tuple of lists-or-tuples-or ndarrays with different lengths or shapes) is deprecated. If you meant to do this, you must specify 'dtype=object' when creating the ndarray\n",
      "  shank = np.hstack(shank)\n",
      " 60% |###########################################                             |\r"
     ]
    },
    {
     "name": "stdout",
     "output_type": "stream",
     "text": [
      "WilcoxonResult(statistic=386.0, pvalue=0.7470049080205658)\n",
      "Loading Data from Rat10-20140702\n",
      "Rat : 10 on day : 10\n",
      "Working with session Rat10-20140702 @ Z:\\Rat10\\Rat10-20140702\n",
      "[ 1  2  3  4  5  6  7  8  9 10 11 12 13 14 15 16 17 18 19 20] [ 1  2  3  4  5  6  7  8  9 10 11 12 13 14 15 16 17 18 19 20]\n",
      "Loading Rat10-20140702.clu.1\n",
      "Loading Rat10-20140702.clu.2\n",
      "Loading Rat10-20140702.clu.3\n",
      "Loading Rat10-20140702.clu.4\n",
      "Loading Rat10-20140702.clu.5\n",
      "Loading Rat10-20140702.clu.6\n",
      "Loading Rat10-20140702.clu.7\n",
      "Loading Rat10-20140702.clu.8\n",
      "Loading Rat10-20140702.clu.9\n",
      "Loading Rat10-20140702.clu.10\n",
      "Loading Rat10-20140702.clu.11\n",
      "Loading Rat10-20140702.clu.12\n",
      "Loading Rat10-20140702.clu.13\n",
      "Loading Rat10-20140702.clu.14\n",
      "Loading Rat10-20140702.clu.15\n",
      "Loading Rat10-20140702.clu.16\n",
      "Loading Rat10-20140702.clu.17\n",
      "Loading Rat10-20140702.clu.18\n",
      "Loading Rat10-20140702.clu.19\n",
      "Loading Rat10-20140702.clu.20\n"
     ]
    },
    {
     "name": "stderr",
     "output_type": "stream",
     "text": [
      "Z:\\Python\\Billel\\basefunction\\bk_load.py:181: VisibleDeprecationWarning: Creating an ndarray from ragged nested sequences (which is a list-or-tuple of lists-or-tuples-or ndarrays with different lengths or shapes) is deprecated. If you meant to do this, you must specify 'dtype=object' when creating the ndarray\n",
      "  shank = np.hstack(shank)\n",
      " 65% |###############################################                         |\r"
     ]
    },
    {
     "name": "stdout",
     "output_type": "stream",
     "text": [
      "WilcoxonResult(statistic=824.0, pvalue=0.38282266834277046)\n",
      "Loading Data from Rat10-20140703\n",
      "Rat : 10 on day : 11\n",
      "Working with session Rat10-20140703 @ Z:\\Rat10\\Rat10-20140703\n",
      "Error in session Rat10-20140703\n",
      "Loading Data from Rat10-20140704\n",
      "Rat : 10 on day : 12\n",
      "Working with session Rat10-20140704 @ Z:\\Rat10\\Rat10-20140704\n",
      "Error in session Rat10-20140704\n",
      "Loading Data from Rat10-20140705\n",
      "Rat : 10 on day : 13\n",
      "Working with session Rat10-20140705 @ Z:\\Rat10\\Rat10-20140705\n",
      "[ 1  2  3  4  5  6  7  8  9 10 11 12 13 14 15 16 17 18 19 20] [ 1  2  3  4  5  6  7  8  9 10 11 12 13 14 15 16 17 18 19 20]\n",
      "Loading Rat10-20140705.clu.1\n",
      "Loading Rat10-20140705.clu.2\n",
      "Loading Rat10-20140705.clu.3\n",
      "Loading Rat10-20140705.clu.4\n",
      "Loading Rat10-20140705.clu.5\n",
      "Loading Rat10-20140705.clu.6\n",
      "Loading Rat10-20140705.clu.7\n",
      "Loading Rat10-20140705.clu.8\n",
      "Loading Rat10-20140705.clu.9\n",
      "Loading Rat10-20140705.clu.10\n",
      "Loading Rat10-20140705.clu.11\n",
      "Loading Rat10-20140705.clu.12\n",
      "Loading Rat10-20140705.clu.13\n",
      "Loading Rat10-20140705.clu.14\n",
      "Loading Rat10-20140705.clu.15\n",
      "Loading Rat10-20140705.clu.16\n",
      "Loading Rat10-20140705.clu.17\n",
      "Loading Rat10-20140705.clu.18\n",
      "Loading Rat10-20140705.clu.19\n",
      "Loading Rat10-20140705.clu.20\n"
     ]
    },
    {
     "name": "stderr",
     "output_type": "stream",
     "text": [
      "Z:\\Python\\Billel\\basefunction\\bk_load.py:181: VisibleDeprecationWarning: Creating an ndarray from ragged nested sequences (which is a list-or-tuple of lists-or-tuples-or ndarrays with different lengths or shapes) is deprecated. If you meant to do this, you must specify 'dtype=object' when creating the ndarray\n",
      "  shank = np.hstack(shank)\n",
      "C:\\ProgramData\\Anaconda3\\lib\\site-packages\\pandas\\core\\series.py:726: RuntimeWarning: divide by zero encountered in log\n",
      "  result = getattr(ufunc, method)(*inputs, **kwargs)\n",
      "C:\\ProgramData\\Anaconda3\\lib\\site-packages\\ipykernel_launcher.py:61: RuntimeWarning: More than 20 figures have been opened. Figures created through the pyplot interface (`matplotlib.pyplot.figure`) are retained until explicitly closed and may consume too much memory. (To control this warning, see the rcParam `figure.max_open_warning`).\n",
      " 68% |#################################################                       |\r"
     ]
    },
    {
     "name": "stdout",
     "output_type": "stream",
     "text": [
      "WilcoxonResult(statistic=500.0, pvalue=0.4982421741726051)\n",
      "Loading Data from Rat10-20140707\n",
      "Rat : 10 on day : 14\n",
      "Working with session Rat10-20140707 @ Z:\\Rat10\\Rat10-20140707\n",
      "Error in session Rat10-20140707\n",
      "Loading Data from Rat10-20140708\n",
      "Rat : 10 on day : 15\n",
      "Working with session Rat10-20140708 @ Z:\\Rat10\\Rat10-20140708\n",
      "[ 1  2  3  4  5  6  7  8  9 10 11 12 13 14 15 16 17 18 19 20] [ 1  2  3  4  5  6  7  8  9 10 11 12 13 14 15 16 17 18 19 20]\n",
      "Loading Rat10-20140708.clu.1\n",
      "Loading Rat10-20140708.clu.2\n",
      "Loading Rat10-20140708.clu.3\n",
      "Loading Rat10-20140708.clu.4\n",
      "Loading Rat10-20140708.clu.5\n",
      "Loading Rat10-20140708.clu.6\n",
      "Loading Rat10-20140708.clu.7\n",
      "Loading Rat10-20140708.clu.8\n",
      "Loading Rat10-20140708.clu.9\n",
      "Loading Rat10-20140708.clu.10\n",
      "Loading Rat10-20140708.clu.11\n",
      "Loading Rat10-20140708.clu.12\n",
      "Loading Rat10-20140708.clu.13\n",
      "Loading Rat10-20140708.clu.14\n",
      "Loading Rat10-20140708.clu.15\n",
      "Loading Rat10-20140708.clu.16\n",
      "Loading Rat10-20140708.clu.17\n",
      "Loading Rat10-20140708.clu.18\n",
      "Loading Rat10-20140708.clu.19\n",
      "Loading Rat10-20140708.clu.20\n"
     ]
    },
    {
     "name": "stderr",
     "output_type": "stream",
     "text": [
      "Z:\\Python\\Billel\\basefunction\\bk_load.py:181: VisibleDeprecationWarning: Creating an ndarray from ragged nested sequences (which is a list-or-tuple of lists-or-tuples-or ndarrays with different lengths or shapes) is deprecated. If you meant to do this, you must specify 'dtype=object' when creating the ndarray\n",
      "  shank = np.hstack(shank)\n",
      "C:\\ProgramData\\Anaconda3\\lib\\site-packages\\pandas\\core\\series.py:726: RuntimeWarning: divide by zero encountered in log\n",
      "  result = getattr(ufunc, method)(*inputs, **kwargs)\n",
      "C:\\ProgramData\\Anaconda3\\lib\\site-packages\\ipykernel_launcher.py:61: RuntimeWarning: More than 20 figures have been opened. Figures created through the pyplot interface (`matplotlib.pyplot.figure`) are retained until explicitly closed and may consume too much memory. (To control this warning, see the rcParam `figure.max_open_warning`).\n",
      " 72% |###################################################                     |\r"
     ]
    },
    {
     "name": "stdout",
     "output_type": "stream",
     "text": [
      "WilcoxonResult(statistic=681.0, pvalue=0.5964389439214697)\n",
      "Loading Data from Rat11-20150310\n",
      "Rat : 11 on day : 2\n",
      "Working with session Rat11-20150310 @ Z:\\Rat11\\Rat11-20150310\n",
      "Error in session Rat11-20150310\n",
      "Loading Data from Rat11-20150312\n",
      "Rat : 11 on day : 3\n",
      "Working with session Rat11-20150312 @ Z:\\Rat11\\Rat11-20150312\n",
      "[ 1  2  3  4  5  6  7  8  9 10 11 12 13 14 15 16 17 18 19 20] [ 1  2  3  4  5  6  7  8  9 10 11 12 13 14 15 16 17 18 19 20]\n",
      "Loading Rat11-20150312.clu.1\n",
      "Loading Rat11-20150312.clu.2\n",
      "Loading Rat11-20150312.clu.3\n",
      "Loading Rat11-20150312.clu.4\n",
      "Loading Rat11-20150312.clu.5\n",
      "Loading Rat11-20150312.clu.6\n",
      "Loading Rat11-20150312.clu.7\n",
      "Loading Rat11-20150312.clu.8\n",
      "Loading Rat11-20150312.clu.9\n",
      "Loading Rat11-20150312.clu.10\n",
      "Loading Rat11-20150312.clu.11\n",
      "Loading Rat11-20150312.clu.12\n",
      "Loading Rat11-20150312.clu.13\n",
      "Loading Rat11-20150312.clu.14\n",
      "Loading Rat11-20150312.clu.15\n",
      "Loading Rat11-20150312.clu.16\n",
      "Loading Rat11-20150312.clu.17\n",
      "Loading Rat11-20150312.clu.18\n",
      "Loading Rat11-20150312.clu.19\n",
      "Loading Rat11-20150312.clu.20\n"
     ]
    },
    {
     "name": "stderr",
     "output_type": "stream",
     "text": [
      "Z:\\Python\\Billel\\basefunction\\bk_load.py:181: VisibleDeprecationWarning: Creating an ndarray from ragged nested sequences (which is a list-or-tuple of lists-or-tuples-or ndarrays with different lengths or shapes) is deprecated. If you meant to do this, you must specify 'dtype=object' when creating the ndarray\n",
      "  shank = np.hstack(shank)\n",
      "C:\\ProgramData\\Anaconda3\\lib\\site-packages\\pandas\\core\\series.py:726: RuntimeWarning: divide by zero encountered in log\n",
      "  result = getattr(ufunc, method)(*inputs, **kwargs)\n",
      "C:\\ProgramData\\Anaconda3\\lib\\site-packages\\ipykernel_launcher.py:61: RuntimeWarning: More than 20 figures have been opened. Figures created through the pyplot interface (`matplotlib.pyplot.figure`) are retained until explicitly closed and may consume too much memory. (To control this warning, see the rcParam `figure.max_open_warning`).\n",
      " 73% |#####################################################                   |\r"
     ]
    },
    {
     "name": "stdout",
     "output_type": "stream",
     "text": [
      "WilcoxonResult(statistic=1838.0, pvalue=0.3128432872814024)\n",
      "Loading Data from Rat11-20150313\n",
      "Rat : 11 on day : 4\n",
      "Working with session Rat11-20150313 @ Z:\\Rat11\\Rat11-20150313\n",
      "[ 1  2  3  4  5  6  7  8  9 10 11 12 13 14 15 16 17 18 19 20] [ 1  2  3  4  5  6  7  8  9 10 11 12 13 14 15 16 17 18 19 20]\n",
      "Loading Rat11-20150313.clu.1\n",
      "Loading Rat11-20150313.clu.2\n",
      "Loading Rat11-20150313.clu.3\n",
      "Loading Rat11-20150313.clu.4\n",
      "Loading Rat11-20150313.clu.5\n",
      "Loading Rat11-20150313.clu.6\n",
      "Loading Rat11-20150313.clu.7\n",
      "Loading Rat11-20150313.clu.8\n",
      "Loading Rat11-20150313.clu.9\n",
      "Loading Rat11-20150313.clu.10\n",
      "Loading Rat11-20150313.clu.11\n",
      "Loading Rat11-20150313.clu.12\n",
      "Loading Rat11-20150313.clu.13\n",
      "Loading Rat11-20150313.clu.14\n",
      "Loading Rat11-20150313.clu.15\n",
      "Loading Rat11-20150313.clu.16\n",
      "Loading Rat11-20150313.clu.17\n",
      "Loading Rat11-20150313.clu.18\n",
      "Loading Rat11-20150313.clu.19\n",
      "Loading Rat11-20150313.clu.20\n"
     ]
    },
    {
     "name": "stderr",
     "output_type": "stream",
     "text": [
      "Z:\\Python\\Billel\\basefunction\\bk_load.py:181: VisibleDeprecationWarning: Creating an ndarray from ragged nested sequences (which is a list-or-tuple of lists-or-tuples-or ndarrays with different lengths or shapes) is deprecated. If you meant to do this, you must specify 'dtype=object' when creating the ndarray\n",
      "  shank = np.hstack(shank)\n",
      "C:\\ProgramData\\Anaconda3\\lib\\site-packages\\pandas\\core\\series.py:726: RuntimeWarning: divide by zero encountered in log\n",
      "  result = getattr(ufunc, method)(*inputs, **kwargs)\n",
      "C:\\ProgramData\\Anaconda3\\lib\\site-packages\\ipykernel_launcher.py:61: RuntimeWarning: More than 20 figures have been opened. Figures created through the pyplot interface (`matplotlib.pyplot.figure`) are retained until explicitly closed and may consume too much memory. (To control this warning, see the rcParam `figure.max_open_warning`).\n",
      " 75% |######################################################                  |\r"
     ]
    },
    {
     "name": "stdout",
     "output_type": "stream",
     "text": [
      "WilcoxonResult(statistic=3494.0, pvalue=0.217494703321074)\n",
      "Loading Data from Rat11-20150314\n",
      "Rat : 11 on day : 5\n",
      "Working with session Rat11-20150314 @ Z:\\Rat11\\Rat11-20150314\n",
      "[ 1  2  3  4  5  6  7  8  9 10 11 12 13 14 15 16 17 18 19 20] [ 1  2  3  4  5  6  7  8  9 10 11 12 13 14 15 16 17 18 19 20]\n",
      "Loading Rat11-20150314.clu.1\n",
      "Loading Rat11-20150314.clu.2\n",
      "Loading Rat11-20150314.clu.3\n",
      "Loading Rat11-20150314.clu.4\n",
      "Loading Rat11-20150314.clu.5\n",
      "Loading Rat11-20150314.clu.6\n",
      "Loading Rat11-20150314.clu.7\n",
      "Loading Rat11-20150314.clu.8\n",
      "Loading Rat11-20150314.clu.9\n",
      "Loading Rat11-20150314.clu.10\n",
      "Loading Rat11-20150314.clu.11\n",
      "Loading Rat11-20150314.clu.12\n",
      "Loading Rat11-20150314.clu.13\n",
      "Loading Rat11-20150314.clu.14\n",
      "Loading Rat11-20150314.clu.15\n",
      "Loading Rat11-20150314.clu.16\n",
      "Loading Rat11-20150314.clu.17\n",
      "Loading Rat11-20150314.clu.18\n",
      "Loading Rat11-20150314.clu.19\n",
      "Loading Rat11-20150314.clu.20\n"
     ]
    },
    {
     "name": "stderr",
     "output_type": "stream",
     "text": [
      "Z:\\Python\\Billel\\basefunction\\bk_load.py:181: VisibleDeprecationWarning: Creating an ndarray from ragged nested sequences (which is a list-or-tuple of lists-or-tuples-or ndarrays with different lengths or shapes) is deprecated. If you meant to do this, you must specify 'dtype=object' when creating the ndarray\n",
      "  shank = np.hstack(shank)\n",
      "C:\\ProgramData\\Anaconda3\\lib\\site-packages\\pandas\\core\\series.py:726: RuntimeWarning: divide by zero encountered in log\n",
      "  result = getattr(ufunc, method)(*inputs, **kwargs)\n",
      "C:\\ProgramData\\Anaconda3\\lib\\site-packages\\ipykernel_launcher.py:61: RuntimeWarning: More than 20 figures have been opened. Figures created through the pyplot interface (`matplotlib.pyplot.figure`) are retained until explicitly closed and may consume too much memory. (To control this warning, see the rcParam `figure.max_open_warning`).\n",
      " 78% |########################################################                |\r"
     ]
    },
    {
     "name": "stdout",
     "output_type": "stream",
     "text": [
      "WilcoxonResult(statistic=4692.0, pvalue=0.825895301056291)\n",
      "Loading Data from Rat11-20150315\n",
      "Rat : 11 on day : 6\n",
      "Working with session Rat11-20150315 @ Z:\\Rat11\\Rat11-20150315\n",
      "Error in session Rat11-20150315\n",
      "Loading Data from Rat11-20150316\n",
      "Rat : 11 on day : 7\n",
      "Working with session Rat11-20150316 @ Z:\\Rat11\\Rat11-20150316\n",
      "[ 1  2  3  4  5  6  7  8  9 10 11 12 13 14 15 16 17 18 19 20] [ 1  2  3  4  5  6  7  8  9 10 11 12 13 14 15 16 17 18 19 20]\n",
      "Loading Rat11-20150316.clu.1\n",
      "Loading Rat11-20150316.clu.2\n",
      "Loading Rat11-20150316.clu.3\n",
      "Loading Rat11-20150316.clu.4\n",
      "Loading Rat11-20150316.clu.5\n",
      "Loading Rat11-20150316.clu.6\n",
      "Loading Rat11-20150316.clu.7\n",
      "Loading Rat11-20150316.clu.8\n",
      "Loading Rat11-20150316.clu.9\n",
      "Loading Rat11-20150316.clu.10\n",
      "Loading Rat11-20150316.clu.11\n",
      "Loading Rat11-20150316.clu.12\n",
      "Loading Rat11-20150316.clu.13\n"
     ]
    },
    {
     "name": "stderr",
     "output_type": "stream",
     "text": [
      " 80% |#########################################################               |\r"
     ]
    },
    {
     "name": "stdout",
     "output_type": "stream",
     "text": [
      "Error in session Rat11-20150316\n",
      "Loading Data from Rat11-20150317\n",
      "Rat : 11 on day : 8\n",
      "Working with session Rat11-20150317 @ Z:\\Rat11\\Rat11-20150317\n",
      "[ 1  2  3  4  5  6  7  8  9 10 11 12 13 14 15 16 17 18 19 20] [ 1  2  3  4  5  6  7  8  9 10 11 12 13 14 15 16 17 18 19 20]\n",
      "Error in session Rat11-20150317\n"
     ]
    },
    {
     "ename": "KeyboardInterrupt",
     "evalue": "",
     "output_type": "error",
     "traceback": [
      "\u001b[1;31m---------------------------------------------------------------------------\u001b[0m",
      "\u001b[1;31mKeyboardInterrupt\u001b[0m                         Traceback (most recent call last)",
      "\u001b[1;32m<ipython-input-10-afa0c3d26a6f>\u001b[0m in \u001b[0;36m<module>\u001b[1;34m\u001b[0m\n\u001b[1;32m----> 1\u001b[1;33m \u001b[0mbk\u001b[0m\u001b[1;33m.\u001b[0m\u001b[0mbatch\u001b[0m\u001b[1;33m(\u001b[0m\u001b[0mmain\u001b[0m\u001b[1;33m,\u001b[0m\u001b[0mverbose\u001b[0m \u001b[1;33m=\u001b[0m \u001b[1;32mTrue\u001b[0m\u001b[1;33m)\u001b[0m\u001b[1;33m\u001b[0m\u001b[1;33m\u001b[0m\u001b[0m\n\u001b[0m",
      "\u001b[1;32mZ:\\Python\\Billel\\basefunction\\bk_load.py\u001b[0m in \u001b[0;36mbatch\u001b[1;34m(func, verbose)\u001b[0m\n\u001b[0;32m     70\u001b[0m             \u001b[0merror\u001b[0m\u001b[1;33m.\u001b[0m\u001b[0mappend\u001b[0m\u001b[1;33m(\u001b[0m\u001b[0msession\u001b[0m\u001b[1;33m)\u001b[0m\u001b[1;33m\u001b[0m\u001b[1;33m\u001b[0m\u001b[0m\n\u001b[0;32m     71\u001b[0m             \u001b[0mprint\u001b[0m\u001b[1;33m(\u001b[0m\u001b[1;34m'Error in session '\u001b[0m \u001b[1;33m+\u001b[0m \u001b[0msession\u001b[0m\u001b[1;33m)\u001b[0m\u001b[1;33m\u001b[0m\u001b[1;33m\u001b[0m\u001b[0m\n\u001b[1;32m---> 72\u001b[1;33m             \u001b[1;32mif\u001b[0m \u001b[1;32mnot\u001b[0m \u001b[0mverbose\u001b[0m\u001b[1;33m:\u001b[0m \u001b[0mclear_output\u001b[0m\u001b[1;33m(\u001b[0m\u001b[1;33m)\u001b[0m\u001b[1;33m\u001b[0m\u001b[1;33m\u001b[0m\u001b[0m\n\u001b[0m\u001b[0;32m     73\u001b[0m     \u001b[0mprint\u001b[0m\u001b[1;33m(\u001b[0m\u001b[1;34m'Batch finished in '\u001b[0m \u001b[1;33m+\u001b[0m \u001b[0mstr\u001b[0m\u001b[1;33m(\u001b[0m\u001b[0mtime\u001b[0m\u001b[1;33m.\u001b[0m\u001b[0mtime\u001b[0m\u001b[1;33m(\u001b[0m\u001b[1;33m)\u001b[0m \u001b[1;33m-\u001b[0m \u001b[0mt\u001b[0m\u001b[1;33m)\u001b[0m\u001b[1;33m)\u001b[0m\u001b[1;33m\u001b[0m\u001b[1;33m\u001b[0m\u001b[0m\n\u001b[0;32m     74\u001b[0m \u001b[1;33m\u001b[0m\u001b[0m\n",
      "\u001b[1;31mKeyboardInterrupt\u001b[0m: "
     ]
    }
   ],
   "source": [
    "bk.batch(main,verbose = True)"
   ]
  },
  {
   "cell_type": "code",
   "execution_count": 7,
   "metadata": {},
   "outputs": [
    {
     "ename": "NameError",
     "evalue": "name 'df' is not defined",
     "output_type": "error",
     "traceback": [
      "\u001b[1;31m---------------------------------------------------------------------------\u001b[0m",
      "\u001b[1;31mNameError\u001b[0m                                 Traceback (most recent call last)",
      "\u001b[1;32m<ipython-input-7-a38359e25057>\u001b[0m in \u001b[0;36m<module>\u001b[1;34m\u001b[0m\n\u001b[1;32m----> 1\u001b[1;33m \u001b[0mprint\u001b[0m\u001b[1;33m(\u001b[0m\u001b[0mscipy\u001b[0m\u001b[1;33m.\u001b[0m\u001b[0mstats\u001b[0m\u001b[1;33m.\u001b[0m\u001b[0mwilcoxon\u001b[0m\u001b[1;33m(\u001b[0m\u001b[0mdf\u001b[0m\u001b[1;33m[\u001b[0m\u001b[1;34m'log_safe'\u001b[0m\u001b[1;33m]\u001b[0m\u001b[1;33m,\u001b[0m\u001b[0mdf\u001b[0m\u001b[1;33m[\u001b[0m\u001b[1;34m'log_danger'\u001b[0m\u001b[1;33m]\u001b[0m\u001b[1;33m)\u001b[0m\u001b[1;33m)\u001b[0m\u001b[1;33m\u001b[0m\u001b[1;33m\u001b[0m\u001b[0m\n\u001b[0m",
      "\u001b[1;31mNameError\u001b[0m: name 'df' is not defined"
     ]
    }
   ],
   "source": [
    "print(scipy.stats.wilcoxon(df['log_safe'],df['log_danger']))"
   ]
  },
  {
   "cell_type": "code",
   "execution_count": 44,
   "metadata": {},
   "outputs": [
    {
     "data": {
      "text/plain": [
       "<matplotlib.axes._subplots.AxesSubplot at 0x22003428dc8>"
      ]
     },
     "execution_count": 44,
     "metadata": {},
     "output_type": "execute_result"
    }
   ],
   "source": [
    "pal = sns.cubehelix_palette(2, rot=-.5, dark=.3)\n",
    "\n",
    "sns.violinplot(data = df[['log_safe','log_danger']],palette = pal,inner = 'points')\n"
   ]
  },
  {
   "cell_type": "code",
   "execution_count": 62,
   "metadata": {},
   "outputs": [
    {
     "data": {
      "text/plain": [
       "(array([  6,  20,  23,  24,  28,  36,  44,  48,  56,  75,  92, 193, 195,\n",
       "        198, 204, 216, 217], dtype=int64),)"
      ]
     },
     "execution_count": 62,
     "metadata": {},
     "output_type": "execute_result"
    }
   ],
   "source": [
    "np.where(df['safe']==0)"
   ]
  },
  {
   "cell_type": "code",
   "execution_count": 388,
   "metadata": {},
   "outputs": [
    {
     "ename": "ValueError",
     "evalue": "unknown method \"[ -3.37408718  23.67988845  52.28260955   5.58474959 -15.2404666\n -21.17349896  36.53146158  23.23300141  -3.79908716   8.0300465\n -16.10952108 -20.07867717  38.78780456 -36.89048098  -3.97451738\n -16.51615244  14.60478976 -19.70249076  -4.57780056  20.01441897\n   9.91213456 -28.71793492   0.41222274 -10.92882107  42.09971523\n  -5.73331413   9.373646    46.19667533   0.40072149  -4.8140443\n   8.11854077 -42.33244361 -53.98136809   3.92845755  29.70314074\n  29.86403851  22.82096649 -22.46695072  50.67765287 -29.88198242\n   2.54419921 -54.83700015 -16.94935294  -2.37456796 -47.90542327\n -47.91213747  18.28843825 -36.08324892 -30.3366669   -9.41713071]\"",
     "output_type": "error",
     "traceback": [
      "\u001b[1;31m---------------------------------------------------------------------------\u001b[0m",
      "\u001b[1;31mValueError\u001b[0m                                Traceback (most recent call last)",
      "\u001b[1;32m<ipython-input-388-d03f661ff9ef>\u001b[0m in \u001b[0;36m<module>\u001b[1;34m\u001b[0m\n\u001b[0;32m      4\u001b[0m \u001b[1;31m# b[np.random.choice(50,45)] = np.nan\u001b[0m\u001b[1;33m\u001b[0m\u001b[1;33m\u001b[0m\u001b[1;33m\u001b[0m\u001b[0m\n\u001b[0;32m      5\u001b[0m \u001b[1;33m\u001b[0m\u001b[0m\n\u001b[1;32m----> 6\u001b[1;33m \u001b[0mst\u001b[0m\u001b[1;33m.\u001b[0m\u001b[0mrankdata\u001b[0m\u001b[1;33m(\u001b[0m\u001b[0ma\u001b[0m\u001b[1;33m,\u001b[0m\u001b[0mb\u001b[0m\u001b[1;33m)\u001b[0m\u001b[1;33m\u001b[0m\u001b[1;33m\u001b[0m\u001b[0m\n\u001b[0m",
      "\u001b[1;32mC:\\ProgramData\\Anaconda3\\lib\\site-packages\\scipy\\stats\\stats.py\u001b[0m in \u001b[0;36mrankdata\u001b[1;34m(a, method, axis)\u001b[0m\n\u001b[0;32m   8027\u001b[0m     \"\"\"\n\u001b[0;32m   8028\u001b[0m     \u001b[1;32mif\u001b[0m \u001b[0mmethod\u001b[0m \u001b[1;32mnot\u001b[0m \u001b[1;32min\u001b[0m \u001b[1;33m(\u001b[0m\u001b[1;34m'average'\u001b[0m\u001b[1;33m,\u001b[0m \u001b[1;34m'min'\u001b[0m\u001b[1;33m,\u001b[0m \u001b[1;34m'max'\u001b[0m\u001b[1;33m,\u001b[0m \u001b[1;34m'dense'\u001b[0m\u001b[1;33m,\u001b[0m \u001b[1;34m'ordinal'\u001b[0m\u001b[1;33m)\u001b[0m\u001b[1;33m:\u001b[0m\u001b[1;33m\u001b[0m\u001b[1;33m\u001b[0m\u001b[0m\n\u001b[1;32m-> 8029\u001b[1;33m         \u001b[1;32mraise\u001b[0m \u001b[0mValueError\u001b[0m\u001b[1;33m(\u001b[0m\u001b[1;34m'unknown method \"{0}\"'\u001b[0m\u001b[1;33m.\u001b[0m\u001b[0mformat\u001b[0m\u001b[1;33m(\u001b[0m\u001b[0mmethod\u001b[0m\u001b[1;33m)\u001b[0m\u001b[1;33m)\u001b[0m\u001b[1;33m\u001b[0m\u001b[1;33m\u001b[0m\u001b[0m\n\u001b[0m\u001b[0;32m   8030\u001b[0m \u001b[1;33m\u001b[0m\u001b[0m\n\u001b[0;32m   8031\u001b[0m     \u001b[1;32mif\u001b[0m \u001b[0maxis\u001b[0m \u001b[1;32mis\u001b[0m \u001b[1;32mnot\u001b[0m \u001b[1;32mNone\u001b[0m\u001b[1;33m:\u001b[0m\u001b[1;33m\u001b[0m\u001b[1;33m\u001b[0m\u001b[0m\n",
      "\u001b[1;31mValueError\u001b[0m: unknown method \"[ -3.37408718  23.67988845  52.28260955   5.58474959 -15.2404666\n -21.17349896  36.53146158  23.23300141  -3.79908716   8.0300465\n -16.10952108 -20.07867717  38.78780456 -36.89048098  -3.97451738\n -16.51615244  14.60478976 -19.70249076  -4.57780056  20.01441897\n   9.91213456 -28.71793492   0.41222274 -10.92882107  42.09971523\n  -5.73331413   9.373646    46.19667533   0.40072149  -4.8140443\n   8.11854077 -42.33244361 -53.98136809   3.92845755  29.70314074\n  29.86403851  22.82096649 -22.46695072  50.67765287 -29.88198242\n   2.54419921 -54.83700015 -16.94935294  -2.37456796 -47.90542327\n -47.91213747  18.28843825 -36.08324892 -30.3366669   -9.41713071]\""
     ]
    }
   ],
   "source": [
    "a = np.random.normal(0,30,50)\n",
    "b = np.random.normal(0,30,50)\n",
    "\n",
    "# b[np.random.choice(50,45)] = np.nan\n",
    "\n",
    "st.rankdata(a,b)"
   ]
  },
  {
   "cell_type": "markdown",
   "metadata": {},
   "source": [
    "# np.random.choice(50,2)"
   ]
  },
  {
   "cell_type": "code",
   "execution_count": 365,
   "metadata": {},
   "outputs": [
    {
     "data": {
      "text/plain": [
       "array([-inf,   2.,   5.,   5.,  nan])"
      ]
     },
     "execution_count": 365,
     "metadata": {},
     "output_type": "execute_result"
    }
   ],
   "source": [
    "np.sort([5, 5 ,2, -np.inf,-np.nan])"
   ]
  },
  {
   "cell_type": "code",
   "execution_count": 393,
   "metadata": {},
   "outputs": [
    {
     "data": {
      "text/plain": [
       "nan"
      ]
     },
     "execution_count": 393,
     "metadata": {},
     "output_type": "execute_result"
    }
   ],
   "source": [
    "np.nan - 5"
   ]
  },
  {
   "cell_type": "code",
   "execution_count": null,
   "metadata": {},
   "outputs": [],
   "source": []
  }
 ],
 "metadata": {
  "kernelspec": {
   "display_name": "Python 3",
   "language": "python",
   "name": "python3"
  },
  "language_info": {
   "codemirror_mode": {
    "name": "ipython",
    "version": 3
   },
   "file_extension": ".py",
   "mimetype": "text/x-python",
   "name": "python",
   "nbconvert_exporter": "python",
   "pygments_lexer": "ipython3",
   "version": "3.7.6"
  }
 },
 "nbformat": 4,
 "nbformat_minor": 4
}
