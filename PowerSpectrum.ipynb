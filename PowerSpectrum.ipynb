{
 "cells": [
  {
   "cell_type": "code",
   "execution_count": 4,
   "id": "e790cf82-132d-40e2-8597-7a96e19c3bf1",
   "metadata": {},
   "outputs": [
    {
     "name": "stdout",
     "output_type": "stream",
     "text": [
      "The memory_profiler extension is already loaded. To reload it, use:\n",
      "  %reload_ext memory_profiler\n"
     ]
    }
   ],
   "source": [
    "import sys\n",
    "import itertools\n",
    "\n",
    "import numpy as np\n",
    "import pandas as pd\n",
    "import scipy.signal\n",
    "from scipy.signal import savgol_filter\n",
    "from scipy.stats import zscore\n",
    "\n",
    "from tqdm import tqdm\n",
    "\n",
    "import neuroseries as nts\n",
    "\n",
    "\n",
    "import time\n",
    "import matplotlib.pyplot as plt\n",
    "# %matplotlib qt\n",
    "\n",
    "import seaborn as sns \n",
    "import bk.load\n",
    "import bk.compute\n",
    "import bk.plot\n",
    "\n",
    "import os\n",
    "%load_ext memory_profiler\n",
    "import cProfile"
   ]
  },
  {
   "cell_type": "code",
   "execution_count": 5,
   "id": "aa882aab-2e61-4fdc-8214-835840aff9c0",
   "metadata": {},
   "outputs": [],
   "source": [
    "import matplotlib as mpl\n",
    "# COLOR = 'white'\n",
    "# mpl.rcParams['text.color'] = COLOR\n",
    "# mpl.rcParams['axes.labelcolor'] = COLOR\n",
    "# mpl.rcParams['axes.edgecolor'] = COLOR\n",
    "# mpl.rcParams['xtick.color'] = COLOR\n",
    "# mpl.rcParams['ytick.color'] = COLOR\n",
    "# mpl.rcParams['figure.facecolor'] = '#282C34'\n",
    "# mpl.rcParams['axes.facecolor'] = '#282C34'\n",
    "mpl.rcParams['svg.fonttype'] = 'none'\n",
    "# %matplotlib qt"
   ]
  },
  {
   "cell_type": "code",
   "execution_count": 24,
   "id": "2029ddac-15f6-45a1-b278-619d0759eb5e",
   "metadata": {},
   "outputs": [],
   "source": [
    "def plot_power_spectrum(t,spec,xlim,log = True):\n",
    "    if log: \n",
    "        plt.loglog(t,spec)\n",
    "        plt.xlim(xlim)\n",
    "    \n",
    "def plot_average_power_spectrum(power,stru):\n",
    "    col = ['orange','black','green','red']\n",
    "    for (s,spec),c in zip(power.items(),col):\n",
    "        f = spec[0]\n",
    "        spec = spec[1]\n",
    "\n",
    "        log_spec = np.log(spec)\n",
    "        mean_log_spec = np.mean(log_spec,0)\n",
    "        std_log_spec = np.std(log_spec,0)\n",
    "\n",
    "\n",
    "        plt.semilogx(f,mean_log_spec,f'{c}')\n",
    "#         plt.plot(f,mean_log_spec+std_log_spec,f'{c}',linestyle='dashed')\n",
    "#         plt.plot(f,mean_log_spec-std_log_spec,f'{c}',linestyle='dashed')\n",
    "        plt.fill_between(f,mean_log_spec+std_log_spec,mean_log_spec-std_log_spec,color=c,alpha = 0.2)\n",
    "        plt.xlim([0,100])\n",
    "        plt.ylim([2.5,13])\n",
    "    plt.legend(power.keys())\n",
    "    plt.xlabel('Frequency Hz')\n",
    "    plt.ylabel('Power Spectrum(log)')\n",
    "    plt.title(f'Power Spectrum In the {stru} \\n n_session = {len(spec)}')"
   ]
  },
  {
   "cell_type": "code",
   "execution_count": 15,
   "id": "da4a3e91-8f8d-4de0-bca7-52489efe0d6f",
   "metadata": {},
   "outputs": [],
   "source": [
    "def compute_average_spec_state(local_path = 'Rat08/Rat08-20130713',arg = ['BLA',True]):\n",
    "    \n",
    "    stru = arg[0]\n",
    "    plot = arg[1]\n",
    "    \n",
    "    bk.load.current_session_linux(local_path = local_path)\n",
    "    \n",
    "    print('Stru set to ',stru)\n",
    "    states = bk.load.states()\n",
    "    pos = bk.load.pos()\n",
    "    speed = bk.compute.old_speed(pos,20)\n",
    "    \n",
    "    low_velocity = bk.compute.toIntervals(speed.index,speed.values<2)\n",
    "    quiet_wake = states['wake'].intersect(low_velocity)\n",
    "    quiet_wake = quiet_wake.merge_close_intervals(0.2,time_units = 's')\n",
    "    quiet_wake = quiet_wake.drop_short_intervals(5,time_units = 's')\n",
    "\n",
    "    states.update({'quiet_wake':quiet_wake})\n",
    "    runintervals = bk.load.run_intervals()\n",
    "    states.update({'run':runintervals})\n",
    "    del states['drowsy'],states['wake']\n",
    "    \n",
    "    \n",
    "    chan = bk.load.random_channel(stru)\n",
    "    \n",
    "    lfps = {}\n",
    "    for s,interval in states.items():\n",
    "        lfps.update({s:bk.load.lfp_in_intervals(chan,interval)})\n",
    "\n",
    "    power_spectrum = {}\n",
    "    for s,l in lfps.items():\n",
    "        f,spec = scipy.signal.welch(l.values,fs=1250,nperseg=5000,noverlap=2500)\n",
    "        power_spectrum.update({s:(f,spec)})\n",
    "        \n",
    "    if plot == True:\n",
    "        plt.figure()\n",
    "        for s,spec in power_spectrum.items():\n",
    "            plot_power_spectrum(spec[0],spec[1],[0,100],True)\n",
    "        plt.legend(power_spectrum.keys())\n",
    "    \n",
    "    return power_spectrum"
   ]
  },
  {
   "cell_type": "code",
   "execution_count": 16,
   "id": "31743708-93d9-48e2-9a68-c30b38cf0b30",
   "metadata": {},
   "outputs": [],
   "source": [
    "def merge(spec):\n",
    "    states = ['Rem','sws','quiet_wake','run']\n",
    "    power_spectrum = {}\n",
    "    for s in states:\n",
    "        av = []\n",
    "        for sess,power_spec in spec.items():\n",
    "            av.append(power_spec[s][1])\n",
    "            power_spectrum.update({s:(power_spec[s][0],av)})\n",
    "    return power_spectrum"
   ]
  },
  {
   "cell_type": "code",
   "execution_count": 20,
   "id": "8f06974c-bbbb-4f80-9228-9b1cbcba78d8",
   "metadata": {},
   "outputs": [
    {
     "name": "stderr",
     "output_type": "stream",
     "text": [
      "100%|██████████| 61/61 [50:00<00:00, 49.19s/it]"
     ]
    },
    {
     "name": "stdout",
     "output_type": "stream",
     "text": [
      "Batch finished in 3000.3418550491333\n",
      "Some session were not processed correctly\n",
      "['Rat08-20130718', 'Rat08-20130719', 'Rat08-20130720', 'Rat08-20130722', 'Rat09-20140404', 'Rat09-20140405', 'Rat09-20140407', 'Rat09-20140408', 'Rat09-20140409', 'Rat10-20140704', 'Rat10-20140705', 'Rat10-20140707', 'Rat10-20140708', 'Rat11-20150310', 'Rat11-20150312', 'Rat11-20150313', 'Rat11-20150314', 'Rat11-20150315', 'Rat11-20150316', 'Rat11-20150317', 'Rat11-20150401', 'Rat11-20150402', 'Rat11-20150403']\n",
      "37.704918032786885 %\n"
     ]
    },
    {
     "name": "stderr",
     "output_type": "stream",
     "text": [
      "\n"
     ]
    }
   ],
   "source": [
    "average_spec_state_hpc = bk.load.batch(compute_average_spec_state,['Hpc',False],linux = True)\n",
    "average_spec_state_bla = bk.load.batch(compute_average_spec_state,['BLA',False],linux = True)"
   ]
  },
  {
   "cell_type": "code",
   "execution_count": 22,
   "id": "eb98a59e-81e1-4128-ab44-f7608910733a",
   "metadata": {},
   "outputs": [],
   "source": [
    "power_hpc = merge(average_spec_state_hpc)\n",
    "power_bla = merge(average_spec_state_bla)"
   ]
  },
  {
   "cell_type": "code",
   "execution_count": 28,
   "id": "bc6b3018-e598-4e87-9919-d200ff4ef7e6",
   "metadata": {},
   "outputs": [
    {
     "name": "stderr",
     "output_type": "stream",
     "text": [
      "<ipython-input-24-c402bb41929b>:21: UserWarning: Attempted to set non-positive left xlim on a log-scaled axis.\n",
      "Invalid limit will be ignored.\n",
      "  plt.xlim([0,100])\n",
      "<ipython-input-24-c402bb41929b>:21: UserWarning: Attempted to set non-positive left xlim on a log-scaled axis.\n",
      "Invalid limit will be ignored.\n",
      "  plt.xlim([0,100])\n",
      "<ipython-input-24-c402bb41929b>:21: UserWarning: Attempted to set non-positive left xlim on a log-scaled axis.\n",
      "Invalid limit will be ignored.\n",
      "  plt.xlim([0,100])\n",
      "<ipython-input-24-c402bb41929b>:21: UserWarning: Attempted to set non-positive left xlim on a log-scaled axis.\n",
      "Invalid limit will be ignored.\n",
      "  plt.xlim([0,100])\n",
      "<ipython-input-24-c402bb41929b>:21: UserWarning: Attempted to set non-positive left xlim on a log-scaled axis.\n",
      "Invalid limit will be ignored.\n",
      "  plt.xlim([0,100])\n",
      "<ipython-input-24-c402bb41929b>:21: UserWarning: Attempted to set non-positive left xlim on a log-scaled axis.\n",
      "Invalid limit will be ignored.\n",
      "  plt.xlim([0,100])\n",
      "<ipython-input-24-c402bb41929b>:21: UserWarning: Attempted to set non-positive left xlim on a log-scaled axis.\n",
      "Invalid limit will be ignored.\n",
      "  plt.xlim([0,100])\n",
      "<ipython-input-24-c402bb41929b>:21: UserWarning: Attempted to set non-positive left xlim on a log-scaled axis.\n",
      "Invalid limit will be ignored.\n",
      "  plt.xlim([0,100])\n"
     ]
    }
   ],
   "source": [
    "plt.figure()\n",
    "plot_average_power_spectrum(power_hpc,'Hpc')\n",
    "# plt.savefig(f'/mnt/work/Figures_Gabrielle/average_hpc_power_spec.svg')\n",
    "plt.xlim(1,100)\n",
    "plt.show()\n",
    "plt.figure()\n",
    "plot_average_power_spectrum(power_bla,'BLA')\n",
    "# plt.savefig(f'/mnt/work/Figures_Gabrielle/average_bla_power_spec.svg')\n",
    "plt.xlim(1,100)\n",
    "plt.show()"
   ]
  },
  {
   "cell_type": "code",
   "execution_count": null,
   "id": "a507f8c3-79ed-4eb4-8843-20e7264c5536",
   "metadata": {},
   "outputs": [],
   "source": []
  },
  {
   "cell_type": "code",
   "execution_count": null,
   "id": "919863b0-db1b-4ee6-9ab9-9c48a42e58f2",
   "metadata": {},
   "outputs": [],
   "source": []
  }
 ],
 "metadata": {
  "kernelspec": {
   "display_name": "Python 3",
   "language": "python",
   "name": "python3"
  },
  "language_info": {
   "codemirror_mode": {
    "name": "ipython",
    "version": 3
   },
   "file_extension": ".py",
   "mimetype": "text/x-python",
   "name": "python",
   "nbconvert_exporter": "python",
   "pygments_lexer": "ipython3",
   "version": "3.8.5"
  }
 },
 "nbformat": 4,
 "nbformat_minor": 5
}
