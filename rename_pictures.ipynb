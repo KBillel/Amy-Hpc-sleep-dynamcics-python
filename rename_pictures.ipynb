{
 "cells": [
  {
   "cell_type": "code",
   "execution_count": 1,
   "metadata": {},
   "outputs": [],
   "source": [
    "import os\n",
    "import numpy as np"
   ]
  },
  {
   "cell_type": "code",
   "execution_count": 2,
   "metadata": {},
   "outputs": [
    {
     "name": "stdout",
     "output_type": "stream",
     "text": [
      "['Rat120', '03', 'Scene', '1', 'TR1.czi']\n",
      "['Rat121', '01', 'TR1.czi']\n",
      "['Rat121', '01', 'TR2.czi']\n",
      "['Rat121', '01', 'TR3.czi']\n",
      "['Rat121', '01', 'TR4.czi']\n",
      "['Rat121', '01', 'TR5.czi']\n",
      "['Rat121', '01', 'TR6.czi']\n",
      "['Rat121', '02', 'TR1.czi']\n",
      "['Rat121', '02', 'TR3.czi']\n",
      "['Rat121', '02', 'TR4.czi']\n",
      "['Rat121', '02', 'TR5.czi']\n",
      "['Rat122', '01', 'TR1.czi']\n",
      "['Rat122', '01', 'TR2.czi']\n",
      "['Rat122', '01', 'TR3.czi']\n",
      "['Rat122', '01', 'TR4.czi']\n",
      "['Rat122', '01', 'TR5.czi']\n",
      "['Rat122', '01', 'TR6.czi']\n",
      "['Rat122', '02', 'TR2.czi']\n",
      "['Rat122', '02', 'TR3.czi']\n",
      "['Rat122', '02', 'TR4.czi']\n",
      "['Rat122', '02', 'TR5.czi']\n",
      "['Rat122', '02', 'TR6.czi']\n",
      "['Rat122', '03', 'TR1.czi']\n",
      "['Rat122', '03', 'TR2.czi']\n",
      "['Rat123', '01', 'TR1.czi']\n",
      "['Rat123', '01', 'TR2.czi']\n",
      "['Rat123', '01', 'TR3.czi']\n",
      "['Rat123', '01', 'TR4.czi']\n",
      "['Rat123', '01', 'TR5.czi']\n",
      "['Rat123', '01', 'TR6.czi']\n",
      "['Rat123', '02', 'TR2.czi']\n",
      "['Rat123', '02', 'TR3.czi']\n",
      "['Rat123', '02', 'TR4.czi']\n",
      "['Rat123', '02', 'TR5.czi']\n",
      "['Rat123', '02', 'TR6.czi']\n",
      "['Rat124', '01', 'TR1.czi']\n",
      "['Rat124', '01', 'TR2.czi']\n",
      "['Rat124', '01', 'TR3.czi']\n",
      "['Rat124', '01', 'TR4.czi']\n",
      "['Rat124', '01', 'TR5.czi']\n",
      "['Rat124', '01', 'TR6.czi']\n",
      "['Rat124', '02', 'TR1.czi']\n",
      "['Rat124', '02', 'TR2.czi']\n",
      "['Rat124', '02', 'TR3.czi']\n",
      "['Rat124', '02', 'TR4.czi']\n",
      "['Rat120', '02', 'Scene', '6', 'TR4.czi']\n",
      "['Rat121', '02', 'TR2.czi']\n",
      "['Rat122', '02', 'TR1.czi']\n",
      "['Rat123', '02', 'TR1.czi']\n",
      "['Rat120', '01', 'Scene', '1', 'TR3.czi']\n",
      "['Rat120', '01', 'Scene', '2', 'TR5.czi']\n",
      "['Rat120', '01', 'Scene', '3', 'TR1.czi']\n",
      "['Rat120', '01', 'Scene', '4', 'TR6.czi']\n",
      "['Rat120', '01', 'Scene', '5', 'TR4.czi']\n",
      "['Rat120', '01', 'Scene', '6', 'TR2.czi']\n",
      "['Rat120', '02', 'Scene', '1', 'TR1.czi']\n",
      "['Rat120', '02', 'Scene', '2', 'TR3.czi']\n",
      "['Rat120', '02', 'Scene', '3', 'TR5.czi']\n",
      "['Rat120', '02', 'Scene', '4', 'TR2.czi']\n",
      "['Rat120', '02', 'Scene', '5', 'TR6.czi']\n"
     ]
    }
   ],
   "source": [
    "path = '/media/billel/GGLab05 - BK/Bk/post-proc/'\n",
    "\n",
    "a = os.listdir(path)\n",
    "\n",
    "names = []\n",
    "for i in a:\n",
    "    print(i.rsplit('-'))\n",
    "    splited = i.rsplit('-')\n",
    "    if 'Scene' in i:\n",
    "        names.append(f'{splited[0]}-{splited[1]}-{splited[4]}')\n",
    "    else:\n",
    "        names.append(i)\n",
    "\n",
    "os.chdir(path)\n",
    "for i,n in enumerate(a):\n",
    "    os.rename(n,names[i])"
   ]
  },
  {
   "cell_type": "code",
   "execution_count": null,
   "metadata": {},
   "outputs": [],
   "source": []
  }
 ],
 "metadata": {
  "interpreter": {
   "hash": "dc93b3fb48dfd2593d4a40b397dc62a97606514bfa701f6565ff70ef36514844"
  },
  "kernelspec": {
   "display_name": "Python 3.9.7 ('base')",
   "language": "python",
   "name": "python3"
  },
  "language_info": {
   "codemirror_mode": {
    "name": "ipython",
    "version": 3
   },
   "file_extension": ".py",
   "mimetype": "text/x-python",
   "name": "python",
   "nbconvert_exporter": "python",
   "pygments_lexer": "ipython3",
   "version": "3.9.7"
  },
  "orig_nbformat": 4
 },
 "nbformat": 4,
 "nbformat_minor": 2
}
