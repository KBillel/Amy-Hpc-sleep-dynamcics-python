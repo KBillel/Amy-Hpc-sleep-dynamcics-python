{
 "cells": [
  {
   "cell_type": "code",
   "execution_count": 6,
   "metadata": {},
   "outputs": [],
   "source": [
    "import os\n",
    "import numpy as np"
   ]
  },
  {
   "cell_type": "code",
   "execution_count": 47,
   "metadata": {},
   "outputs": [],
   "source": [
    "path = '/mnt/electrophy/Billel/BK-Dataset/Rat81/Slices/'"
   ]
  },
  {
   "cell_type": "code",
   "execution_count": 48,
   "metadata": {},
   "outputs": [],
   "source": [
    "a = os.listdir(path)"
   ]
  },
  {
   "cell_type": "code",
   "execution_count": 49,
   "metadata": {},
   "outputs": [
    {
     "data": {
      "text/plain": [
       "['Rat81-01-Scene-1-TR1.czi',\n",
       " 'Rat81-01-Scene-2-TR5.czi',\n",
       " 'Rat81-01-Scene-3-TR3.czi',\n",
       " 'Rat81-01-Scene-4-TR4.czi',\n",
       " 'Rat81-01-Scene-5-TR2.czi',\n",
       " 'Rat81-01-Scene-6-TR6.czi',\n",
       " 'Rat81-02-Scene-1-TR1.czi',\n",
       " 'Rat81-02-Scene-2-TR5.czi',\n",
       " 'Rat81-02-Scene-3-TR3.czi',\n",
       " 'Rat81-02-Scene-4-TR4.czi',\n",
       " 'Rat81-02-Scene-5-TR2.czi',\n",
       " 'Rat81-02-Scene-6-TR6.czi',\n",
       " 'Rat81-04-Scene-1-TR3.czi',\n",
       " 'Rat81-04-Scene-2-TR1.czi',\n",
       " 'Rat81-04-Scene-3-TR5.czi',\n",
       " 'Rat81-04-Scene-4-TR4.czi',\n",
       " 'Rat81-04-Scene-5-TR6.czi',\n",
       " 'Rat81-04-Scene-6-TR2.czi',\n",
       " 'Rat81-05-Scene-1-TR1.czi',\n",
       " 'Rat81-05-Scene-2-TR3.czi',\n",
       " 'Rat81-05-Scene-3-TR5.czi',\n",
       " 'Rat81-05-Scene-4-TR4.czi',\n",
       " 'Rat81-05-Scene-5-TR2.czi',\n",
       " 'Rat81-05-Scene-6-TR6.czi']"
      ]
     },
     "execution_count": 49,
     "metadata": {},
     "output_type": "execute_result"
    }
   ],
   "source": [
    "a"
   ]
  },
  {
   "cell_type": "code",
   "execution_count": null,
   "metadata": {},
   "outputs": [],
   "source": []
  },
  {
   "cell_type": "code",
   "execution_count": 39,
   "metadata": {},
   "outputs": [
    {
     "data": {
      "text/plain": [
       "True"
      ]
     },
     "execution_count": 39,
     "metadata": {},
     "output_type": "execute_result"
    }
   ],
   "source": [
    "'Scene' in a[-1]"
   ]
  },
  {
   "cell_type": "code",
   "execution_count": 50,
   "metadata": {},
   "outputs": [
    {
     "name": "stdout",
     "output_type": "stream",
     "text": [
      "['Rat81', '01', 'Scene', '1', 'TR1.czi']\n",
      "['Rat81', '01', 'Scene', '2', 'TR5.czi']\n",
      "['Rat81', '01', 'Scene', '3', 'TR3.czi']\n",
      "['Rat81', '01', 'Scene', '4', 'TR4.czi']\n",
      "['Rat81', '01', 'Scene', '5', 'TR2.czi']\n",
      "['Rat81', '01', 'Scene', '6', 'TR6.czi']\n",
      "['Rat81', '02', 'Scene', '1', 'TR1.czi']\n",
      "['Rat81', '02', 'Scene', '2', 'TR5.czi']\n",
      "['Rat81', '02', 'Scene', '3', 'TR3.czi']\n",
      "['Rat81', '02', 'Scene', '4', 'TR4.czi']\n",
      "['Rat81', '02', 'Scene', '5', 'TR2.czi']\n",
      "['Rat81', '02', 'Scene', '6', 'TR6.czi']\n",
      "['Rat81', '04', 'Scene', '1', 'TR3.czi']\n",
      "['Rat81', '04', 'Scene', '2', 'TR1.czi']\n",
      "['Rat81', '04', 'Scene', '3', 'TR5.czi']\n",
      "['Rat81', '04', 'Scene', '4', 'TR4.czi']\n",
      "['Rat81', '04', 'Scene', '5', 'TR6.czi']\n",
      "['Rat81', '04', 'Scene', '6', 'TR2.czi']\n",
      "['Rat81', '05', 'Scene', '1', 'TR1.czi']\n",
      "['Rat81', '05', 'Scene', '2', 'TR3.czi']\n",
      "['Rat81', '05', 'Scene', '3', 'TR5.czi']\n",
      "['Rat81', '05', 'Scene', '4', 'TR4.czi']\n",
      "['Rat81', '05', 'Scene', '5', 'TR2.czi']\n",
      "['Rat81', '05', 'Scene', '6', 'TR6.czi']\n"
     ]
    }
   ],
   "source": [
    "names = []\n",
    "for i in a:\n",
    "    print(i.rsplit('-'))\n",
    "    splited = i.rsplit('-')\n",
    "    if 'Scene' in i:\n",
    "        names.append(f'{splited[0]}-{splited[1]}-{splited[4]}')\n",
    "    else:\n",
    "        names.append(i)"
   ]
  },
  {
   "cell_type": "code",
   "execution_count": 51,
   "metadata": {},
   "outputs": [
    {
     "data": {
      "text/plain": [
       "['Rat81-01-TR1.czi',\n",
       " 'Rat81-01-TR5.czi',\n",
       " 'Rat81-01-TR3.czi',\n",
       " 'Rat81-01-TR4.czi',\n",
       " 'Rat81-01-TR2.czi',\n",
       " 'Rat81-01-TR6.czi',\n",
       " 'Rat81-02-TR1.czi',\n",
       " 'Rat81-02-TR5.czi',\n",
       " 'Rat81-02-TR3.czi',\n",
       " 'Rat81-02-TR4.czi',\n",
       " 'Rat81-02-TR2.czi',\n",
       " 'Rat81-02-TR6.czi',\n",
       " 'Rat81-04-TR3.czi',\n",
       " 'Rat81-04-TR1.czi',\n",
       " 'Rat81-04-TR5.czi',\n",
       " 'Rat81-04-TR4.czi',\n",
       " 'Rat81-04-TR6.czi',\n",
       " 'Rat81-04-TR2.czi',\n",
       " 'Rat81-05-TR1.czi',\n",
       " 'Rat81-05-TR3.czi',\n",
       " 'Rat81-05-TR5.czi',\n",
       " 'Rat81-05-TR4.czi',\n",
       " 'Rat81-05-TR2.czi',\n",
       " 'Rat81-05-TR6.czi']"
      ]
     },
     "execution_count": 51,
     "metadata": {},
     "output_type": "execute_result"
    }
   ],
   "source": [
    "names"
   ]
  },
  {
   "cell_type": "code",
   "execution_count": 52,
   "metadata": {},
   "outputs": [],
   "source": [
    "os.chdir(path)\n",
    "for i,n in enumerate(a):\n",
    "    os.rename(n,names[i])"
   ]
  },
  {
   "cell_type": "code",
   "execution_count": 30,
   "metadata": {},
   "outputs": [
    {
     "data": {
      "text/plain": [
       "array(['Rat80-02-TR1.czi', 'Rat80-02-TR2.czi', 'Rat80-02-TR3.czi',\n",
       "       'Rat80-02-TR4.czi', 'Rat80-02-TR5.czi', 'Rat80-02-TR6.czi',\n",
       "       'Rat80-03-TR1.czi', 'Rat80-03-TR2.czi', 'Rat80-03-TR3.czi',\n",
       "       'Rat80-03-TR4.czi', 'Rat80-03-TR5.czi', 'Rat80-03-TR6.czi',\n",
       "       'Rat80-04-TR1.czi', 'Rat80-04-TR2.czi', 'Rat80-04-TR3.czi',\n",
       "       'Rat80-04-TR4.czi', 'Rat80-04-TR5.czi', 'Rat80-04-TR6.czi',\n",
       "       'Rat80-05-TR1.czi', 'Rat80-05-TR2.czi', 'Rat80-05-TR3.czi',\n",
       "       'Rat80-05-TR4.czi', 'Rat80-05-TR5.czi', 'Rat80-05-TR6.czi',\n",
       "       'Rat80-06-TR1.czi', 'Rat80-06-TR2.czi', 'Rat80-06-TR3.czi',\n",
       "       'Rat80-06-TR4.czi', 'Rat80-06-TR5.czi', 'Rat80-06-TR6.czi',\n",
       "       'Rat80-07-TR1.czi', 'Rat80-07-TR5.czi'], dtype='<U16')"
      ]
     },
     "execution_count": 30,
     "metadata": {},
     "output_type": "execute_result"
    }
   ],
   "source": [
    "np.sort(names)"
   ]
  },
  {
   "cell_type": "code",
   "execution_count": null,
   "metadata": {},
   "outputs": [],
   "source": [
    "os.rename()"
   ]
  }
 ],
 "metadata": {
  "interpreter": {
   "hash": "dc93b3fb48dfd2593d4a40b397dc62a97606514bfa701f6565ff70ef36514844"
  },
  "kernelspec": {
   "display_name": "Python 3.9.7 ('base')",
   "language": "python",
   "name": "python3"
  },
  "language_info": {
   "codemirror_mode": {
    "name": "ipython",
    "version": 3
   },
   "file_extension": ".py",
   "mimetype": "text/x-python",
   "name": "python",
   "nbconvert_exporter": "python",
   "pygments_lexer": "ipython3",
   "version": "3.9.7"
  },
  "orig_nbformat": 4
 },
 "nbformat": 4,
 "nbformat_minor": 2
}
