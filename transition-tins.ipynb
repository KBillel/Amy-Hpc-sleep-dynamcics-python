{
 "cells": [
  {
   "cell_type": "code",
   "execution_count": 5,
   "metadata": {},
   "outputs": [
    {
     "name": "stdout",
     "output_type": "stream",
     "text": [
      "The memory_profiler extension is already loaded. To reload it, use:\n",
      "  %reload_ext memory_profiler\n"
     ]
    }
   ],
   "source": [
    "import sys\n",
    "import itertools\n",
    "\n",
    "import numpy as np\n",
    "import pandas as pd\n",
    "import scipy.signal\n",
    "\n",
    "from tqdm import tqdm\n",
    "\n",
    "import neuroseries as nts\n",
    "\n",
    "\n",
    "import time\n",
    "import matplotlib.pyplot as plt\n",
    "# %matplotlib qt\n",
    "\n",
    "import seaborn as sns\n",
    "import bk.load\n",
    "import bk.compute\n",
    "import bk.plot\n",
    "\n",
    "import os\n",
    "%load_ext memory_profiler\n"
   ]
  },
  {
   "cell_type": "code",
   "execution_count": 6,
   "metadata": {},
   "outputs": [],
   "source": [
    "def transition(states, template, epsilon=0):\n",
    "    \"\"\"\n",
    "    author: BK\n",
    "    states : dict of nts.Interval_set\n",
    "    template : list of state.\n",
    "    epsilon : int, will drop any \n",
    "     in which there is an epoch shorter than epsilon 's'\n",
    "    This function will find transition that match the template \n",
    "    \"\"\"\n",
    "    if epsilon is list:\n",
    "        print(\"eplist\")\n",
    "    long = pd.DataFrame()\n",
    "\n",
    "    # Concatenate all epochs into a single dataframe\n",
    "    for s, i in states.items():\n",
    "        i[\"state\"] = s\n",
    "        long = pd.concat((i, long))\n",
    "        del i[\"state\"]\n",
    "    order = np.argsort(long.start)\n",
    "    long = long.iloc[order]\n",
    "\n",
    "\n",
    "     \n",
    "    transition_times = []\n",
    "    transition_intervals = []\n",
    "    # For each state, check if the next epochs match the template\n",
    "    # If yes add the beginning of this epoch and then end of last one in transition_intervals. Save also the time of changes\n",
    "    for i, s in enumerate(long.state):\n",
    "        tmp = list(long.state[i: i + len(template)])\n",
    "        if tmp == template:\n",
    "            tmp_transition = long.iloc[i: i + len(template)]\n",
    "            #             print(d.iloc[i:i+len(template)])\n",
    "            length = (tmp_transition.end - tmp_transition.start) / 1_000_000\n",
    "            if np.any(length.values < epsilon):\n",
    "                continue\n",
    "            tmp_pre = np.array(tmp_transition.end[:-1])\n",
    "            tmp_post = np.array(tmp_transition.start[1:])\n",
    "            tmp_times = np.mean([tmp_pre, tmp_post], 0)\n",
    "\n",
    "            transition_intervals.append(\n",
    "                [tmp_transition.start.iloc[0], tmp_transition.end.iloc[-1]]\n",
    "            )\n",
    "            transition_times.append(tmp_times)\n",
    "\n",
    "    # Converting to intervals set in order to work with neuroseries easily\n",
    "    transition_times = np.array(transition_times)\n",
    "    transition_intervals = np.array(transition_intervals)\n",
    "    transition_intervals = nts.IntervalSet(\n",
    "        start=transition_intervals[:, 0],\n",
    "        end=transition_intervals[:, 1],\n",
    "        force_no_fix=True,\n",
    "    )\n",
    "    return transition_intervals, transition_times\n"
   ]
  },
  {
   "cell_type": "markdown",
   "metadata": {},
   "source": [
    "# Small Demo"
   ]
  },
  {
   "cell_type": "code",
   "execution_count": 8,
   "metadata": {},
   "outputs": [
    {
     "name": "stdout",
     "output_type": "stream",
     "text": [
      "Rat : 8 on day : 6\n",
      "Working with session Rat08-20130713 @ /home/billel/Data/GG-Dataset/Rat08/Rat08-20130713\n"
     ]
    }
   ],
   "source": [
    "bk.load.current_session_linux()\n",
    "states = bk.load.states()\n",
    "\n",
    "# We are going to look for NREM-REM transitions\n",
    "nrem_rem_intervals,nrem_rem_timings = transition(states,['sws','Rem'])"
   ]
  },
  {
   "cell_type": "markdown",
   "metadata": {},
   "source": [
    "# Plotting the computations"
   ]
  },
  {
   "cell_type": "code",
   "execution_count": 15,
   "metadata": {},
   "outputs": [
    {
     "data": {
      "text/plain": [
       "array([[1.92650e+09],\n",
       "       [2.42950e+09],\n",
       "       [3.27550e+09],\n",
       "       [3.84150e+09],\n",
       "       [3.91650e+09],\n",
       "       [3.99250e+09],\n",
       "       [4.52950e+09],\n",
       "       [5.42650e+09],\n",
       "       [6.06950e+09],\n",
       "       [7.31150e+09],\n",
       "       [7.75950e+09],\n",
       "       [7.90950e+09],\n",
       "       [8.79750e+09],\n",
       "       [9.33350e+09],\n",
       "       [1.61455e+10],\n",
       "       [1.67655e+10],\n",
       "       [1.72595e+10],\n",
       "       [1.74295e+10],\n",
       "       [1.78105e+10],\n",
       "       [1.80765e+10],\n",
       "       [1.85285e+10],\n",
       "       [1.89795e+10],\n",
       "       [1.91675e+10],\n",
       "       [1.94485e+10],\n",
       "       [1.97715e+10],\n",
       "       [2.12865e+10],\n",
       "       [2.16295e+10],\n",
       "       [2.18505e+10]])"
      ]
     },
     "execution_count": 15,
     "metadata": {},
     "output_type": "execute_result"
    }
   ],
   "source": [
    "nrem_rem_timings"
   ]
  },
  {
   "cell_type": "code",
   "execution_count": 23,
   "metadata": {},
   "outputs": [
    {
     "name": "stderr",
     "output_type": "stream",
     "text": [
      "/tmp/ipykernel_619034/4287821694.py:1: MatplotlibDeprecationWarning: Passing the sharex parameter of subplots() positionally is deprecated since Matplotlib 3.3; the parameter will become keyword-only two minor releases later.\n",
      "  fig,ax = plt.subplots(2,1,True)\n"
     ]
    },
    {
     "data": {
      "text/plain": [
       "Text(0.5, 1.0, 'NREM and REM epochs')"
      ]
     },
     "execution_count": 23,
     "metadata": {},
     "output_type": "execute_result"
    },
    {
     "data": {
      "image/png": "[encoded data removed]",
      "text/plain": [
       "<Figure size 432x288 with 2 Axes>"
      ]
     },
     "metadata": {
      "needs_background": "light"
     },
     "output_type": "display_data"
    }
   ],
   "source": [
    "fig,ax = plt.subplots(2,1,True)\n",
    "plt.sca(ax[0])\n",
    "bk.plot.intervals(states['Rem'],'orange') # plot rem epochs in orange\n",
    "bk.plot.intervals(states['sws'],'grey') # plot sws epochs in grey\n",
    "\n",
    "plt.sca(ax[1])\n",
    "bk.plot.intervals(nrem_rem_intervals,'green') # Plot nrem_rem epochs\n",
    "for i in nrem_rem_timings/1_000_000: plt.axvline(i,color = 'red') # Plot timing of transitions\n",
    "\n",
    "ax[0].set_title('NREM and REM epochs')"
   ]
  },
  {
   "cell_type": "code",
   "execution_count": null,
   "metadata": {},
   "outputs": [],
   "source": []
  }
 ],
 "metadata": {
  "interpreter": {
   "hash": "dc93b3fb48dfd2593d4a40b397dc62a97606514bfa701f6565ff70ef36514844"
  },
  "kernelspec": {
   "display_name": "Python 3.8.5 64-bit ('base': conda)",
   "language": "python",
   "name": "python3"
  },
  "language_info": {
   "codemirror_mode": {
    "name": "ipython",
    "version": 3
   },
   "file_extension": ".py",
   "mimetype": "text/x-python",
   "name": "python",
   "nbconvert_exporter": "python",
   "pygments_lexer": "ipython3",
   "version": "3.8.5"
  },
  "orig_nbformat": 4
 },
 "nbformat": 4,
 "nbformat_minor": 2
}
