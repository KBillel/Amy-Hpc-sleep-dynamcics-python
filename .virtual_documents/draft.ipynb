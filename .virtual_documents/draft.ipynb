import os

import bk.load
import bk.compute
import bk.plot
import bk.signal

import numpy as np

import scipy as sp


import matplotlib.pyplot as plt
import matplotlib as mpl
import neuroseries as nts

import pycorrelate

import basefunction.pdc_tdf as pdc_tdf


get_ipython().run_line_magic("matplotlib", " widget")


path = '/media/billel/GGLab-01-BK/DATA/Rat08-20130713/'
os.chdir(path)
bk.load.path = path
bk.load.rat = 8
bk.load.session = 'Rat08-20130713'
bk.load.day = 6


states['sws'][0:1].as_units('s')


states = bk.load.states()
nrem_lfp = bk.load.lfp_in_intervals(166, 101, states['Rem'][0:1])


f, t, Sxx = sp.signal.spectrogram(nrem_lfp, 1250, nperseg=100, noverlap=75)

# plt.figure()
ax = plt.subplot(211)
plt.plot(nrem_lfp.as_units('s'))
plt.plot(bk.signal.passband(nrem_lfp, 40, 100).as_units('s'), 'r')
# bk.plot.intervals(states['sws'], 'grey')
plt.subplot(212, sharex=ax)
plt.pcolormesh(t+states['Rem'].as_units('s').iloc[0].start, f, Sxx)
plt.clim(0, 2000)
plt.ylim(0,100)


states['sws'].as_units('s')



