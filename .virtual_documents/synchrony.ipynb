import sys
import itertools

import numpy as np
import pandas as pd
import scipy.signal
from scipy.signal import savgol_filter

from tqdm import tqdm

import neuroseries as nts


import time
import matplotlib.pyplot as plt
get_ipython().run_line_magic("matplotlib", " qt")

import seaborn as sns 
import bk.load
import bk.compute
import bk.plot

import os

# import basefunction.anass_load as at


# def binEdges2centers(BinEdges):
#     #Vitor Code (Thanks)
#     BinCenters = np.convolve(BinEdges,[.5,.5],'same')
#     BinCenters = BinCenters[1::]

#     return BinCenters


# def synchrony(neurons,metadata,binSize,stru,sm = 201,method = 'corr',plot = True):
#     Old version, please refer to below
#     try: bk.load.session
#     except NameError: bk.load.session = None
    
# #     binSize = 0.1
#     winSize = int(1/binSize)
#     step = int(1/binSize)

    
#     print(len(neurons))
#     print(binSize)
    

#     binned,t = binSpikes(neurons,binSize)
    
#     stru_shank = {}
#     stru_mask  = {}
    
#     for s in stru:
#             stru_shank.update({s:at.get_structure_shanks(bk.load.session,s)})
#             if not np.any(stru_shank[s]):
#                 print('Could not compute ' + s + ' because is you don\'t have shank in it')
#                 continue
#             stru_mask.update({s:[i in stru_shank[s] for i in metadata[:,0]]})
    
#     if method == 'corr':
#         pbar = ProgressBar()
#         corr = np.empty((int(binned.shape[1]/step)+1,len(neurons),len(neurons)))   

#         for i,j in enumerate(pbar(range(0,binned.shape[1],step))):
#             corr[i] = np.corrcoef(binned[:,j:j+winSize])
#             corr[i][np.isnan(corr[i])] = 0
#         t = t[::step]
#         # corr = np.abs(corr)

#         stru_corr  = {}
#         stru_sync  = {}
            
#         for s in stru_mask.keys():
#             print('computing '+s)
#             stru_corr.update({s:corr[:,:,stru_mask[s]][:,stru_mask[s]]})
#             stru_sync.update({s:np.nanmean(stru_corr[s],axis = (1,2))})

#         stru_corr.update({'Hpc-BLA':corr[:,:,stru_mask['Hpc']][:,stru_mask['BLA']]})
#         stru_sync.update({'Hpc-BLA':np.nanmean(stru_corr['Hpc-BLA'],axis = (1,2))})

#         # for s,s2 in itertools.combinations(stru_mask.keys(),2):
#         #     print('computing '+s+'-'+s2)
#         #     stru_corr.update({s+'-'+s2:corr[:,:,stru_mask[s]][:,stru_mask[s2]]})
#         #     stru_sync.update({s+'-'+s2:np.nanmean(stru_corr[s+'-'+s2],axis = (1,2))})

#     elif method == 'coactivation':
#         #Binarize the binning.
#         #count number of cell active at each timebin
#         # nb of cell active / total number in da category for each time point. 
    
#         binarize_binned = np.where(binned<1,binned,1)
#         stru_sync  = {}
#         for s in stru_mask.keys():
#             print('computing '+s)
#             stru_sync.update({s:np.sum(binarize_binned[stru_mask[s],:],0)/binarize_binned.shape[0]})
            
#     elif method == 'firing':
#         stru_sync  = {}
#         for s in stru_mask.keys():
#             print('computing '+s)
#             stru_sync.update({s:np.mean(binned[stru_mask[s],:],0)/binSize})
#     else:    

#         print(method + ' Is an unknown method')
#         raise ValueError('Unknow Method')
    
    
#     if plot:
#         for s in stru_sync:
#             plt.plot(t,savgol_filter(stru_sync[s],sm,3))
#         plt.title('synchrony during ' + bk.session)
#         plt.legend([s for s in stru_sync.keys()])
#         plt.ylabel('r')
#         plt.xlabel('Time(s)')

#         Rem = nts.IntervalSet(scipy.io.loadmat('States.mat')['Rem'][:,0],scipy.io.loadmat('States.mat')['Rem'][:,1],time_units = 's')
#         plotIntervals(Rem,'darkorange')

#         sws = nts.IntervalSet(scipy.io.loadmat('States.mat')['sws'][:,0],scipy.io.loadmat('States.mat')['sws'][:,1],time_units = 's')
#         plotIntervals(sws,'grey')
    
#     return stru_sync


# def binSpikes(neurons,binSize = 0.05,start = 0,stop = 0):
#     if stop == 0:
#         stop = np.max([neuron.as_units('s').index[-1] for neuron in neurons])

#     bins = np.arange(start,stop,binSize)
#     binned = []
#     for neuron in neurons:
#         hist,b = np.histogram(neuron.as_units('s').index,bins = bins)
#         binned.append(hist)

#     return np.array(binned), binEdges2centers(b)

# def plotIntervals(intervals,col):
#     for interval in intervals.as_units('s').values:
#         plt.axvspan(interval[0],interval[1], facecolor=col, alpha=0.5)
        


def synchrony(neurons,binSize,winSize,sm = 201,method = 'corr',plot = True):
    try: bk.load.session
    except NameError : bk.load.session = None
        
#     winSize = int(500/binSize) 
#     step = int(500/binSize)

    
    
    print(len(neurons),' neurons')
    step = 50
    t,binned = bk.compute.binSpikes(neurons,binSize)
    
    if method.lower() == 'corr':
        
        corr = np.empty(int(binned.shape[1]/step)+1)
        for i,j in enumerate(tqdm(range(0,binned.shape[1],step))):
            corr_mat = np.corrcoef(binned[:,j:j+winSize])
#             corr_mat[np.isnan(corr_mat)] = 0
            corr[i] = np.nanmean(corr_mat)
        t = t[::step]
        
        return t,corr
# def main(path):
#     neurons,metadata = bk.loadSpikeData(path)
#     synchrony = synchrony(neurons,metadata,['Hpc','BLA'])
    
#     return neurons,metadata


bk.load.current_session()


path = '/media/billel/GGLab-01-BK/DATA/Rat08-20130713/'
os.chdir(path)
bk.load.path = path
bk.load.rat = 8
bk.load.session = 'Rat08-20130713'
bk.load.day = 6


neurons,metadata = bk.load.loadSpikeData(bk.load.path)
states = bk.load.states()
stru = ['Hpc','BLA']
plt.figure()
for s in stru:
    t,c = synchrony(neurons[metadata.Region == s],0.025,201)
    plt.plot(t,c)
bk.plot.intervals(states['Rem'],'orange')
bk.plot.intervals(states['sws'],'grey')


transitions = bk.compute.transitions_times(states)


states.update(transitions[0])


transitions2 = bk.compute.transitions_times(states)


x = plt.subplot(4,1,1)
bk.plot.intervals(states['Rem'],'orange')
bk.plot.intervals(states['sws'],'grey')
plt.subplot(4,1,2,sharex=x)
bk.plot.intervals(states['sws','Rem'])
plt.subplot(4,1,3,sharex=x)
bk.plot.intervals(transitions2[0][('sws','Rem'),'sws'])
plt.subplot(4,1,4,sharex=x)
bk.plot.intervals(transitions2[0]['sws',('Rem','sws')])


bk.plot.intervals(states['sws','Rem'])


for i in transitions2[0]: print(i)


transitions[0]








# path = bk.sessions()['Path'][4]
# bk.current_session(path)
# neurons,metadata = bk.loadSpikeData(bk.path)

methods = ['firing','coactivation','corr']
sms = [5001,5001,201]
plt.figure()
sub = plt.subplot(3,1,1)
for i,m in enumerate(methods):
    plt.subplot(len(methods),1,i+1,sharex = sub)
    syn = synchrony(neurons,metadata,0.05,['Hpc','BLA'],method = m ,sm = sms[i])
    plt.xlabel('')
    if i == 0:
        plt.title('Firing Rates')
    else:
        plt.title('Syncrhony calculated using '+ m )
plt.suptitle(bk.load.session)
plt.show()





plt.subplot(3,1,1)
plt.title('Firing Rates')


methods = ['firing','coactivation','corr']
sms = [11,1001,201]
plt.figure()
sub = plt.subplot(3,1,1)
for i,m in enumerate(methods):
    plt.subplot(len(methods),1,i+1)
    syn = synchrony(neurons,metadata,100,['Hpc','BLA'],method = m ,sm = sms[i])
    plt.xlabel('')
    plt.title('Synchrony calculated using '+ m )
plt.show()


plt.figure()
plt.subplot(1,3,1)
plt.imshow(stru_corr['Hpc'][21000,:,:])
plt.clim(-1,1)
plt.subplot(1,3,2)
plt.imshow(np.abs(stru_corr['Hpc'][21000,:,:]))
plt.clim(-1,1)
plt.subplot(1,3,3)
plt.colorbar()


for i in range(0,binned.shape[1],step):
    plt.clf()
    corr = np.corrcoef(binned[:,i:i+winSize])
    corr[np.isnan(corr)] = 0
    sns.heatmap(corr,square = True,vmin = 0,vmax = 0.1,cmap = 'viridis')
    plt.title(i)
    plt.draw()






x = np.arange(0,25,0.001)
y = np.sin(x)
y_g = scipy.signal.convolve(y,g,'same')

plt.plot(x,y)
plt.plot(x,y_g)


g = scipy.signal.windows.gaussian(50000,1,sym=True)
np.sum(g)


plt.plot(g)






