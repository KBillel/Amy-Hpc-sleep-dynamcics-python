import sys
import itertools

import numpy as np
import pandas as pd
import scipy.signal
from scipy.signal import savgol_filter

from tqdm import tqdm

import neuroseries as nts


import time
import matplotlib.pyplot as plt
get_ipython().run_line_magic("matplotlib", " qt")

import seaborn as sns 
import bk.load
import bk.compute
import bk.plot

import os

# import basefunction.anass_load as at


# def binEdges2centers(BinEdges):
#     #Vitor Code (Thanks)
#     BinCenters = np.convolve(BinEdges,[.5,.5],'same')
#     BinCenters = BinCenters[1::]

#     return BinCenters


# def synchrony(neurons,metadata,binSize,stru,sm = 201,method = 'corr',plot = True):
#     #Old version, please refer to below
#     try: bk.load.session
#     except NameError: bk.load.session = None
    
# #     binSize = 0.1
#     winSize = int(1/binSize)
#     step = int(1/binSize)

    
#     print(len(neurons))
#     print(binSize)
    

#     binned,t = binSpikes(neurons,binSize)
    
#     stru_shank = {}
#     stru_mask  = {}
    
#     for s in stru:
#             stru_shank.update({s:at.get_structure_shanks(bk.load.session,s)})
#             if not np.any(stru_shank[s]):
#                 print('Could not compute ' + s + ' because is you don\'t have shank in it')
#                 continue
#             stru_mask.update({s:[i in stru_shank[s] for i in metadata[:,0]]})
    
#     if method == 'corr':
#         pbar = ProgressBar()
#         corr = np.empty((int(binned.shape[1]/step)+1,len(neurons),len(neurons)))   

#         for i,j in enumerate(pbar(range(0,binned.shape[1],step))):
#             corr[i] = np.corrcoef(binned[:,j:j+winSize])
#             corr[i][np.isnan(corr[i])] = 0
#         t = t[::step]
#         # corr = np.abs(corr)

#         stru_corr  = {}
#         stru_sync  = {}
            
#         for s in stru_mask.keys():
#             print('computing '+s)
#             stru_corr.update({s:corr[:,:,stru_mask[s]][:,stru_mask[s]]})
#             stru_sync.update({s:np.nanmean(stru_corr[s],axis = (1,2))})

#         stru_corr.update({'Hpc-BLA':corr[:,:,stru_mask['Hpc']][:,stru_mask['BLA']]})
#         stru_sync.update({'Hpc-BLA':np.nanmean(stru_corr['Hpc-BLA'],axis = (1,2))})

#         # for s,s2 in itertools.combinations(stru_mask.keys(),2):
#         #     print('computing '+s+'-'+s2)
#         #     stru_corr.update({s+'-'+s2:corr[:,:,stru_mask[s]][:,stru_mask[s2]]})
#         #     stru_sync.update({s+'-'+s2:np.nanmean(stru_corr[s+'-'+s2],axis = (1,2))})

#     elif method == 'coactivation':
#         #Binarize the binning.
#         #count number of cell active at each timebin
#         # nb of cell active / total number in da category for each time point. 
    
#         binarize_binned = np.where(binned<1,binned,1)
#         stru_sync  = {}
#         for s in stru_mask.keys():
#             print('computing '+s)
#             stru_sync.update({s:np.sum(binarize_binned[stru_mask[s],:],0)/binarize_binned.shape[0]})
            
#     elif method == 'firing':
#         stru_sync  = {}
#         for s in stru_mask.keys():
#             print('computing '+s)
#             stru_sync.update({s:np.mean(binned[stru_mask[s],:],0)/binSize})
#     else:    

#         print(method + ' Is an unknown method')
#         raise ValueError('Unknow Method')
    
    
#     if plot:
#         for s in stru_sync:
#             plt.plot(t,savgol_filter(stru_sync[s],sm,3))
#         plt.title('synchrony during ' + bk.session)
#         plt.legend([s for s in stru_sync.keys()])
#         plt.ylabel('r')
#         plt.xlabel('Time(s)')

#         Rem = nts.IntervalSet(scipy.io.loadmat('States.mat')['Rem'][:,0],scipy.io.loadmat('States.mat')['Rem'][:,1],time_units = 's')
#         plotIntervals(Rem,'darkorange')

#         sws = nts.IntervalSet(scipy.io.loadmat('States.mat')['sws'][:,0],scipy.io.loadmat('States.mat')['sws'][:,1],time_units = 's')
#         plotIntervals(sws,'grey')
    
#     return stru_sync

# def binSpikes(neurons,binSize = 0.05,start = 0,stop = 0):
#     if stop == 0:
#         stop = np.max([neuron.as_units('s').index[-1] for neuron in neurons])

#     bins = np.arange(start,stop,binSize)
#     binned = []
#     for neuron in neurons:
#         hist,b = np.histogram(neuron.as_units('s').index,bins = bins)
#         binned.append(hist)

#     return np.array(binned), binEdges2centers(b)

# def plotIntervals(intervals,col):
#     for interval in intervals.as_units('s').values:
#         plt.axvspan(interval[0],interval[1], facecolor=col, alpha=0.5)


def synchrony(neurons,binSize,winSize,step,sm = 201,method = 'corr',plot = True):
    try: bk.load.session
    except NameError : bk.load.session = None
    
    winSize = int(winSize / binSize)
    step = int(step/binSize)
    print('Computing synchrony with following parameters')
    print('winSize (bins) : ',winSize*2)
    print('Step    (bins) : ',step)
    print(len(neurons),' neurons')
    t,binned = bk.compute.binSpikes(neurons,binSize)
    
    if method.lower() == 'corr':
        
        #Don't really why, but it's working this way ... 
        corr_sample = binned.shape[1]/step
        if not corr_sample.is_integer(): 
            corr_sample = int(corr_sample)+1
        else:
            corr_sample = int(corr_sample)
            
        corr = np.zeros(corr_sample)
        for i,j in enumerate(tqdm(range(0,binned.shape[1],step))):
            
            corr_mat = np.corrcoef(binned[:,j-winSize:j+winSize])
#             corr_mat[np.isnan(corr_mat)] = 0
            corr[i] = np.nanmean(corr_mat)
        t = t[::step]
        
        corr = nts.Tsd(t,corr,time_units = 's')
        return corr

def average_over_transitions(signal,nBins,intervals,timing,states):
    if len(intervals) < 4: return 0
    
    c_all = []
    pre_all = []
    post_all = []
    
    for event,t in zip(intervals.iloc,timing.index.values):
        pre = nts.IntervalSet(event[0],t)
        post = nts.IntervalSet(t,event[1])
        event = nts.IntervalSet(event[0],event[1])

        if pre.tot_length(time_units = 's') < 150: continue
        if post.tot_length(time_units = 's') < 50: continue
        
        s = signal.restrict(event)
        s.index = s.index-t
        s_pre = signal.restrict(pre)
        s_post = signal.restrict(post)
        
        plt.plot(s.as_units('s')[-150:50],'grey',alpha = 0.1)
        c_all.append(s.as_units('s')[-150:50])
        pre_all.append(np.mean(s.as_units('s')[-150:0].values)) 
        post_all.append(np.mean(s.as_units('s')[0:50].values))
        
    c_all = np.array(c_all)
    c_all_ave = nts.Tsd(s.as_units('s')[-150:50].index.values*1_000_000,np.nanmean(c_all,0))
    
    plt.axvline(0,color = 'red')
    plt.axvspan(0,50,facecolor = 'orange',alpha = 0.5)
    plt.plot(c_all_ave.as_units('s'))
    print(np.nanmean(np.array([pre_all,post_all]),1))
    
    return c_all


def main(path):
    
    binSize = 0.025
    winSize = 2
    step = 1
    
#     bk.load.current_session(path)
#     bk.load.
    neurons,metadata = bk.load.loadSpikeData(bk.load.path)
    states = bk.load.states()
    stru = metadata.Region.unique()
    stru = np.delete(stru,stru == 'None')
    
    transitions = bk.compute.transitions_times(states)
#     fig = plt.figure()
    c_all = {}
    fig,ax = plt.subplots(len(stru),sharex = True)
    plt.suptitle(f'{bk.load.session} \nbin = {binSize}s + win = {winSize*2}s + step = {step}s')

    for i,s in enumerate(stru,0):
        t = 'Pyr'
        nNeurons = len(neurons[(metadata.Region == s) & (metadata.Type == t)])
        print(s,t)
        c = synchrony(neurons[(metadata.Region == s) & (metadata.Type == t)],binSize = binSize,winSize = winSize,step = step)
        c_sm = bk.compute.nts_smooth(c,100,50)
        plt.subplot(len(stru),1,i+1)
        plt.title(f'{s} + {t} - #{nNeurons}')
#         average = average_over_transitions(c,[30,12],transitions[0][('sws', 'Rem')],transitions[1][('sws', 'Rem')],states)
#         c_all.update({s:average})
    
        plt.plot(c.as_units('s'),alpha = 0.5)
        plt.plot(bk.compute.nts_smooth(c,1000,5).as_units('s'),'-r')

        bk.plot.intervals(states['Rem'],'orange')
        bk.plot.intervals(states['sws'],'grey')
        plt.xlim([0,5000])

        #     c = nts.Tsd(c.index.values,np.convolve(c.values,g,'same'))
    #     plt.plot(bk.compute.nts_smooth(c,100,).as_units('s'))
    # bk.plot.intervals(states['Rem'],'orange')
    # bk.plot.intervals(states['sws'],'grey')
    return c_all


path = '/media/billel/GGLab-01-BK/DATA/Rat08-20130713/'
os.chdir(path)
bk.load.path = path
bk.load.rat = 8
bk.load.session = 'Rat08-20130713'
bk.load.day = 6

binSize = 0.025
winSize = 2
step = 1

#     bk.load.current_session(path)
#     bk.load.
neurons,metadata = bk.load.loadSpikeData(bk.load.path)
states = bk.load.states()
stru = metadata.Region.unique()
stru = np.delete(stru,stru == 'None')

transitions = bk.compute.transitions_times(states)
fig = plt.figure()
c_all = {}
fig,ax = plt.subplots(len(stru),sharex = True)
plt.suptitle(f'{bk.load.session} \nbin = {binSize}s + win = {winSize*2}s + step = {step}s')




stru = ['Hpc','BLA']
for i,s in enumerate(stru):
    t = 'Pyr'
    c = synchrony(neurons[(metadata.Region == s) & (metadata.Type == t)],binSize = binSize,winSize = winSize,step = step)
    c_sm = bk.compute.nts_smooth(c,90,25)
    plt.plot(c_sm.as_units('s'))
bk.plot.intervals(states['Rem'],col = 'orange')
bk.plot.intervals(states['sws'],col = 'grey')


for i,s in enumerate(stru,0):
    t = 'Pyr'
    nNeurons = len(neurons[(metadata.Region == s) & (metadata.Type == t)])
    print(s,t)
    n = neurons[(metadata.Region == s) & (metadata.Type == t)]
    c = synchrony(neurons[(metadata.Region == s) & (metadata.Type == t)],binSize = binSize,winSize = winSize,step = step)
    c_sm = bk.compute.nts_smooth(c,90,25)
    plt.subplot(len(stru),1,i+1)
    plt.title(f'{s} + {t} - #{nNeurons}')
#     average = average_over_transitions(c,[30,12],transitions[0][('sws', 'Rem')],transitions[1][('sws', 'Rem')],states)
#         c_all.update({s:average})

#     plt.plot(c.as_units('s'),alpha = 0.5)
    plt.plot(bk.compute.nts_smooth(c,20,5).as_units('s'),'-r')
    bk.plot.intervals(states['Rem'],'orange')
    bk.plot.intervals(states['sws'],'grey')
    plt.xlim([0,5000])


nts.IntervalSet(0,5000)


c_sm = bk.signal.nts


main("/media/billel/GGLab-01-BK/DATA/Rat08-20130713")


main('Z:\Rat08\Rat08-20130713')


batch = bk.load.batch(main)


path = '/media/billel/GGLab-01-BK/DATA/Rat08-20130713/'
os.chdir(path)
bk.load.path = path
bk.load.rat = 8
bk.load.session = 'Rat08-20130713'
bk.load.day = 6


neurons,metadata = bk.load.loadSpikeData(bk.load.path)


interval = nts.IntervalSet(1250,1251,time_units='s')


for i,n in enumerate(neurons):
    neurons[i] = n.restrict(interval)


t,b = bk.compute.binSpikes(neurons,binSize= 0.050)
corr = np.corrcoef(b)
plt.figure()
plt.imshow(corr)


bk.load.current_session('Z:\Rat08\Rat08-20130710')
neurons,metadata = bk.load.loadSpikeData(bk.load.path)

neurons = neurons[(metadata.Region == 'CeCM') & (metadata.Type == 'Pyr')]

c = synchrony(neurons,binSize = 0.025,winSize = 5,step = 1.125)





bk.load.current_session()


get_ipython().run_line_magic("matplotlib", " inline")


a = batch['Rat08-20130708']


a = np.array(['test','deux'])


np.delete(a,1)


a


for i,p in a.items():
    plt.figure()

    plt.plot(p)
    plt.title(i)


transitions[1][('Rem', 'sws')]


for i in transitions[0].items(): print(i[0])


transitions


states.update(transitions[0])


transitions2 = bk.compute.transitions_times(states)


x = plt.subplot(4,1,1)
bk.plot.intervals(states['Rem'],'orange')
bk.plot.intervals(states['sws'],'grey')
plt.subplot(4,1,2,sharex=x)
bk.plot.intervals(states['sws','Rem'])
plt.subplot(4,1,3,sharex=x)
bk.plot.intervals(transitions2[0][('sws','Rem'),'sws'])
plt.subplot(4,1,4,sharex=x)
bk.plot.intervals(transitions2[0]['sws',('Rem','sws')])


bk.plot.intervals(states['sws','Rem'])


for i in transitions2[0]: print(i)


transitions[0]








# path = bk.sessions()['Path'][4]
# bk.current_session(path)
# neurons,metadata = bk.loadSpikeData(bk.path)

methods = ['firing','coactivation','corr']
sms = [5001,5001,201]
plt.figure()
sub = plt.subplot(3,1,1)
for i,m in enumerate(methods):
    plt.subplot(len(methods),1,i+1,sharex = sub)
    syn = synchrony(neurons,metadata,0.05,['Hpc','BLA'],method = m ,sm = sms[i])
    plt.xlabel('')
    if i == 0:
        plt.title('Firing Rates')
    else:
        plt.title('Syncrhony calculated using '+ m )
plt.suptitle(bk.load.session)
plt.show()





plt.subplot(3,1,1)
plt.title('Firing Rates')


methods = ['firing','coactivation','corr']
sms = [11,1001,201]
plt.figure()
sub = plt.subplot(3,1,1)
for i,m in enumerate(methods):
    plt.subplot(len(methods),1,i+1)
    syn = synchrony(neurons,metadata,100,['Hpc','BLA'],method = m ,sm = sms[i])
    plt.xlabel('')
    plt.title('Synchrony calculated using '+ m )
plt.show()


plt.figure()
plt.subplot(1,3,1)
plt.imshow(stru_corr['Hpc'][21000,:,:])
plt.clim(-1,1)
plt.subplot(1,3,2)
plt.imshow(np.abs(stru_corr['Hpc'][21000,:,:]))
plt.clim(-1,1)
plt.subplot(1,3,3)
plt.colorbar()


for i in range(0,binned.shape[1],step):
    plt.clf()
    corr = np.corrcoef(binned[:,i:i+winSize])
    corr[np.isnan(corr)] = 0
    sns.heatmap(corr,square = True,vmin = 0,vmax = 0.1,cmap = 'viridis')
    plt.title(i)
    plt.draw()






x = np.arange(0,25,0.001)
y = np.sin(x)
y_g = scipy.signal.convolve(y,g,'same')

plt.plot(x,y)
plt.plot(x,y_g)


g = scipy.signal.windows.gaussian(50000,1,sym=True)
np.sum(g)


plt.plot(g)






