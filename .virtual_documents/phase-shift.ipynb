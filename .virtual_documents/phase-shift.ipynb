import os

import bk.load
import bk.compute
import bk.plot
import bk.signal

import numpy as np

import scipy.signal
import scipy.stats
import scipy.io

import matplotlib.pyplot as plt
import matplotlib as mpl
import neuroseries as nts

import pycorrelate

import basefunction.pdc_tdf as pdc_tdf


def plot_phase_shift(path):
    
#     bk.load.current_session(path)
    states = bk.load.states()
    run = scipy.io.loadmat(bk.load.session + '-TrackRunTimes.mat')['trackruntimes']
    run = nts.IntervalSet(run[:,0],run[:,1],time_units='s')
    theta = {'Rem':states['Rem'],'run':run,'wake':states['wake']}
    
    
    nchannels = 166
    
    bla = 105
    hpc = 1
    
    plt.figure()
    plt.suptitle(f'Theta PhaseShift in session {bk.load.session}')
    for i,state in enumerate(theta,1):
        lfp_hpc = bk.load.lfp_in_intervals(nchannels,hpc,theta[state])
        lfp_bla = bk.load.lfp_in_intervals(nchannels,bla,theta[state])

        filt_hpc = bk.signal.passband(lfp_hpc,4,8)
        filt_bla = bk.signal.passband(lfp_bla,4,8)

        power_hpc,phase_hpc = bk.signal.hilbert(filt_hpc,deg = True)
        power_bla,phase_bla = bk.signal.hilbert(filt_bla,deg = True)

        plt.subplot(3,1,i)
        plt.hist2d(phase_hpc.values+180,phase_bla.values+180,100)
        plt.title(f'Theta Phase shift during {state}')
        plt.xlabel('hpc_phase')
        plt.ylabel('bla_phase')

        # plt.figure()
    # plt.suptitle('Spectrograms')
plot_phase_shift(bk.load.path)


 for i,state in enumerate(theta,4):

        lfp_hpc = bk.load.lfp_in_intervals(nchannels,hpc,theta[state])
        lfp_bla = bk.load.lfp_in_intervals(nchannels,bla,theta[state])

        f,spec_hpc = scipy.signal.welch(lfp_hpc,fs = 1250,nperseg=10000,noverlap=9000)
        f,spec_bla = scipy.signal.welch(lfp_bla,fs = 1250,nperseg=10000,noverlap=9000)

        plt.subplot(3,3,i)
        plt.title(f'Power Spectrum during {state}')
        plt.plot(f,spec_hpc)
        plt.plot(f,spec_bla)
        plt.xlim(0,100)
        plt.yscale('log')
        plt.legend(['Hpc','BLA'])
        
    for i,state in enumerate(theta,7):
        lfp_hpc = bk.load.lfp_in_intervals(nchannels,hpc,theta[state])
        lfp_bla = bk.load.lfp_in_intervals(nchannels,bla,theta[state])
        
        t = np.linspace(-1,1,2500)
        xcorrpos =  pycorrelate.ucorrelate(lfp_hpc.values-np.mean(lfp_hpc.values),lfp_bla.values-np.mean(lfp_bla.values),maxlag= 1250)
        xcorrneg =  pycorrelate.ucorrelate(lfp_bla.values-np.mean(lfp_bla.values),lfp_hpc.values-np.mean(lfp_hpc.values),maxlag= 1250)
        plt.subplot(3,3,i)
        plt.title(f'Cross-corr of RAW Lfp during {state}')
        plt.plot(t,np.hstack((xcorrneg[::-1],xcorrpos)))


get_ipython().run_line_magic("matplotlib", " qt")


COLOR = 'white'
mpl.rcParams['text.color'] = COLOR
mpl.rcParams['axes.labelcolor'] = COLOR
mpl.rcParams['axes.edgecolor'] = COLOR
mpl.rcParams['xtick.color'] = COLOR
mpl.rcParams['ytick.color'] = COLOR
mpl.rcParams['figure.facecolor'] = '#282C34'
mpl.rcParams['axes.facecolor'] = '#282C34'


path = '/media/billel/GGLab-01-BK/DATA/Rat08-20130713/'
os.chdir(path)
bk.load.path = path
bk.load.rat = 8
bk.load.session = 'Rat08-20130713'
bk.load.day = 6


bk.load.current_session()


neurons,metadata = bk.load.loadSpikeData(bk.load.path)


metadata


plot_phase_shift(bk.load.path)


states = bk.load.states()


nch = 166
hpc = 23
bla = 105

lfp_hpc = bk.load.lfp_in_intervals(nch,hpc,states['Rem'])
lfp_bla = bk.load.lfp_in_intervals(nch,bla,states['Rem'])


fit = pdc_tdf.mvar_fit(np.array((lfp_hpc.values,lfp_bla.values)),2500)


pdc,f = pdc_tdf.DTF(fit[0])


pdc_tdf.plot_all(f,pdc,'hey')


scipy.signal.butter()


sessions = bk.load.sessions()
sessions = sessions[sessions['Rat'] == 8]

for s in sessions['Path']:
    plot_phase_shift(s)




path = bk.load.path
states = bk.load.states()
run = scipy.io.loadmat(bk.load.session + '-TrackRunTimes.mat')['trackruntimes']
run = nts.IntervalSet(run[:,0],run[:,1],time_units='s')
theta = {'Rem':states['Rem'],'run':run,'wake':states['wake']}


bk.load.current_session('Z:\Rat08\Rat08-20130715')
plot_phase_shift(bk.load.path)


plt.figure()
plt.suptitle(bk.load.session)


plt.subplot(1,2,1)
plt.title('REM')
stru = {'hpc':13,'BLA':105}
lfp = {}
for s,c in zip(stru.keys(),stru.values()):
    print(s,c)
    lfp.update({s:bk.load.lfp_in_intervals(166,c,theta['Rem'])})
xcorrpos = pycorrelate.ucorrelate(lfp['hpc'].values,lfp['BLA'].values,maxlag= 1250)
xcorrneg =  pycorrelate.ucorrelate(lfp['BLA'].values,lfp['hpc'].values,maxlag= 1250)
t = np.linspace(-1,1,2500)
plt.plot(t,np.hstack((xcorrneg[::-1],xcorrpos)))

plt.subplot(1,2,2)
plt.title('RUN')
stru = {'hpc':13,'BLA':105}
lfp = {}
for s,c in zip(stru.keys(),stru.values()):
    print(s,c)
    lfp.update({s:bk.load.lfp_in_intervals(166,c,theta['run'])})
xcorrpos = pycorrelate.ucorrelate(lfp['hpc'].values,lfp['BLA'].values,maxlag= 1250)
xcorrneg =  pycorrelate.ucorrelate(lfp['BLA'].values,lfp['hpc'].values,maxlag= 1250)
t = np.linspace(-1,1,2500)
plt.plot(t,np.hstack((xcorrneg[::-1],xcorrpos)))





pycorrelate.ucorrelate()


plot_phase_shift(bk.load.path)


states = bk.load.states()


lfps = bk.load.lfp_in_intervals(166,13,states['Rem'])
filtered = bk.signal.passband(lfps,4,8)
power,phase = bk.signal.hilbert(filtered)
s = plt.subplot(3,1,1)
plt.plot(lfps)
plt.plot(filtered)
plt.subplot(3,1,2,sharex = s)
plt.plot(phase)


f,spec = scipy.signal.welch(lfps,fs = 1250,nperseg=5000,noverlap=4500)


plt.plot(f,np.log(spec))


plt.plot(lfps)


plot_phase_shift(bk.load.path)


for p in sessions['Path']:
    plot_phase_shift(p)


np.round(3.22816000e+01,decimals=1)


np.round(run[:,1],decimals = 1)


32.3*1_000_000


np.round(32.2816,decimals=1)


nts.IntervalSet(0,32300000,time_units='us').as_units('s')


bk.load.current_session(path)
states = bk.load.states()
run = scipy.io.loadmat(bk.load.session + '-TrackRunTimes.mat')['trackruntimes']
print(run)
print(np.round(run[:,1],decimals = 1))
run = nts.IntervalSet(np.round(run[:,0],decimals = 1),np.round(run[:,1],decimals = 1),time_units='s')
run = nts.IntervalSet(np.round(run.start,decimals = 1),np.round(run.end,decimals = 1))
print(run.as_units('s'))
theta = {'Rem':states['Rem'],'run':run,'wake':states['wake']}


bk.load.current_session(path)
states = bk.load.states()
run = scipy.io.loadmat(bk.load.session + '-TrackRunTimes.mat')['trackruntimes']


path = 'Z:\Rat08\Rat08-20130710'
plot_phase_shift(path)





np.round(32.2999999,decimals=1)


t = np.arange(0,len(lfp_hpc),1)/1250

lfp_bla = bk.load.lfp_in_intervals(172,150,theta['run'])
lfp_hpc= bk.load.lfp_in_intervals(172,65,theta['run'])
plt.figure()
plt.suptitle('Example LFPs during RUN')
s = plt.subplot(2,1,1)
plt.title("Hpc")
plt.plot(t,lfp_hpc.values, c = 'azure',linewidth = 0.5)
plt.plot(t,bk.signal.passband(lfp_hpc,4,8).values,c = 'r')
plt.subplot(2,1,2,sharex=s,sharey = s)
plt.title('BLA')
plt.plot(t,lfp_bla.values, c = 'azure',linewidth = 0.5)
plt.plot(t,bk.signal.passband(lfp_bla,4,8).values,c = 'r')



plt.yscale('log')


lfp_hpc = bk.load.lfp_in_intervals(166,23,theta['run'])
filt_hpc = bk.signal.passband(lfp_hpc,4,8)
power_hpc,phase_hpc = bk.signal.hilbert(filt_hpc,deg = True)


lfp_hpc = bk.load.lfp_in_intervals(172,150,theta['run'])
lfp_bla = bk.load.lfp_in_intervals(172,45,theta['run'])

f,coh = scipy.signal.coherence(lfp_hpc,lfp_bla,fs = 1250,nperseg=5000,noverlap=2500,detrend='linear')
plt.plot(f,coh)


plt.plot(lfp_hpc)
plt.plot(lfp_bla)


lfp_fake = nts.Tsd(lfp_hpc.index.values,np.random.rand(len(lfp_hpc)))
filt_fake = bk.signal.passband(lfp_fake,4,8)
power_fake,phase_fake = bk.signal.hilbert(filt_fake,deg = True)


s = plt.subplot(2,1,1)
plt.plot(lfp_fake.index,lfp_fake.values-np.mean(lfp_fake.values),'azure')
plt.plot(filt_fake,'red')
plt.subplot(2,1,2,sharex = s)
plt.plot(phase_fake)


plt.hist2d(phase_hpc.values+180,phase_fake.values+180,100)
plt.xlabel('hpc_phase')
plt.ylabel('fake_phase')


t = np.arange(0,3*np.pi,0.1)
y = np.sin(t)
y = nts.Tsd(t,y)


plt.plot(t,y)


a = [0,0,0,0,0,0,0,0]
b = [0,0,0,0,0,0,0,0]

np.corrcoef(a,b)






