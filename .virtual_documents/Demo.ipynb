import os
import sys

import matplotlib.pyplot as plt
import numpy as np
import pandas as pd

import bk.load
import bk.compute
import bk.plot
import bk.signal

import scipy as sp

get_ipython().run_line_magic("matplotlib", " inline")


bk.load.current_session('Z:\Rat08\Rat08-20130708')


print('Rat : ',bk.load.rat)
print('Day : ',bk.load.day)
print('Path : ',bk.load.path)
print('Name of session : ', bk.load.session)


# lfp_hpc = bk.load.lfp(2000,3500,166,13)
# lfp_bla = bk.load.lfp(2000,3500,166,101)

filt_lfp_hpc = bk.signal.passband(lfp_hpc,100,300)
filt_lfp_bla = bk.signal.passband(lfp_bla,100,300)

ax = plt.subplot(2,1,1)
# plt.plot(lfp_hpc.as_units('s'),color = 'grey',alpha = 0.5)
hpc_zscore = sp.stats.zscore(filt_lfp_hpc.values)
bla_zscore = sp.stats.zscore(filt_lfp_bla.values)
plt.plot(filt_lfp_hpc.as_units('s').index,hpc_zscore,color = 'r')
bk.plot.intervals(states['sws'])



plt.subplot(2,1,2,sharex=ax)
# plt.plot(lfp_bla.as_units('s'),color = 'grey',alpha = 0.5)
plt.plot(filt_lfp_bla.as_units('s').index,bla_zscore,color = 'r')
bk.plot.intervals(states['sws'])


lfp_hpc = bk.load.lfp(0,20000,166,101)


states = bk.load.states()

lfp_rem = lfp_hpc.restrict(states['Rem'])
lfp_sws = lfp_hpc.restrict(states['sws'])


plt.plot(lfp_rem,'orange')
plt.plot(lfp_sws,'grey')


f,power_sws = sp.signal.welch(lfp_sws,1250,nperseg = 5000, noverlap=2500)
f,power_rem = sp.signal.welch(lfp_rem,1250,nperseg = 5000, noverlap=2500)

plt.subplot(1,2,1)
plt.title('SWS')
plt.plot(f,np.log(power_sws))
plt.xlim(0,100)

plt.subplot(1,2,2)
plt.title('REM')
plt.plot(f,np.log(power_rem))
plt.xlim(0,100)


f,t,sxx = sp.signal.spectrogram(lfp_rem,1250,nperseg=250,noverlap=125)
plt.pcolormesh(t,f,sxx)
plt.clim(0,200)


neurons,metadata = bk.load.loadSpikeData(bk.load.path)


y = np.ones(len(neurons[0]))


plt.plot(neurons[0].as_units('s').index,y,'|')


bk.plot.rasterPlot([neurons[0]],np.array([[0,20000]]))


pos = bk.load.pos()


plt.plot(pos['x'],pos['y'])





plt.figure()
pos_when_spike = pos.realign(neurons[13])
plt.plot(pos['x'],pos['y'])
plt.plot(pos_when_spike.as_units('s')['x'],pos_when_spike.as_units('s')['y'],'ro')


plt.figure()
plt.hist2d(pos['x'],pos['y'],bins = 100)
plt.plot(pos_when_spike.as_units('s')['x'],pos_when_spike.as_units('s')['y'],'ro',markersize = 1)


neurons[0].realign(pos).as_units('s')
