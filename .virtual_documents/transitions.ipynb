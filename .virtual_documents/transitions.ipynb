import numpy as np
import scipy as sp
import pandas as pd
import scipy.io as spio
import matplotlib.pyplot as plt
import scipy.stats
import bk.plot
import neuroseries as nts
get_ipython().run_line_magic("matplotlib", " qt")


# NREM_REM = spio.loadmat('/media/billel/GGLab-01-BK/DATA/All-Rats/Billel/NREM-REM/NREM-REM.mat')
NREM_REM = spio.loadmat('/home/billel/pCloudDrive/Data/NREM_REM.mat')['NREM_REM_ALL_Pooled']['activity'][0][0]
NREM_REM_meta = pd.read_csv('/home/billel/pCloudDrive/Data/NREM_REM_metadata.csv',sep = ';')
NREM_REM_meta.Region[NREM_REM_meta.Region == 'olfact'] = 'Pir'
NREM_REM_meta.Type[NREM_REM_meta.Region == 'CeCM'] = 'Int'


stru = np.unique(NREM_REM_meta.Region)
types = np.unique(NREM_REM_meta.Type)


transition_matrix = NREM_REM[(NREM_REM_meta.Region == 'BLA') & (NREM_REM_meta.Type == 'Pyr'),:]


plt.figure()
plt.imshow(scipy.stats.zscore(transition_matrix,1),aspect ='auto')


for i,t in enumerate(types):
    plt.figure()
    plt.suptitle(t)
    for j,s in enumerate(stru):
        
        transition_matrix = NREM_REM[(NREM_REM_meta.Region == s) & (NREM_REM_meta.Type == t),:]
#         transition_matrix = scipy.stats.zscore(transition_matrix,1)
        mean_NREM = np.nanmean(transition_matrix[:,0:30],1)
        mean_REM =  np.nanmean(transition_matrix[:,31:40],1)
        print(s,t)
        mean_fr = np.mean(transition_matrix,1)
        
        q = []
        for i in range(5):
            q.append(np.int(len(transition_matrix)/5 * (i+1))-1)
        q.pop()
        ratio = mean_REM
        order = np.argsort(ratio)
        order_fr = np.argsort(mean_fr)
        plt.subplot(1,len(stru),j+1)
        plt.title(s)
        transition_matrix = scipy.stats.zscore(transition_matrix,1)
        plt.imshow(transition_matrix[order_fr],aspect = 'auto',interpolation = 'none')
        for i in q:
            plt.axhline(i,color = 'red',linestyle ='--')
        plt.ylim([len(transition_matrix)-0.5,0])
        plt.clim([-3,3])


plt.imshow(scipy.stats.zscore(NREM_REM[NREM_REM_meta.Region == 'BLA',:],1),aspect = 'auto',)





stru





BLA_PYR = NREM_REM['BLA_PYR_ALL'][0][0][3]
BLA_INT = NREM_REM['BLA_INT_ALL'][0][0][3]

HPC_PYR = NREM_REM['HPC_PYR_ALL'][0][0][3]
HPC_INT = NREM_REM['HPC_INT_ALL'][0][0][3]

rem = nts.IntervalSet(31,40,time_units = 's')


plt.imshow(scipy.stats.zscore(BLA_PYR,0),aspect = 'auto')


fig,ax = plt.subplots()
bk.plot.intervals(rem)

plt.plot(np.mean(BLA_PYR,0),'+-',color = 'green')
plt.legend(['REM','Pyr'])
ax2=ax.twinx()
ax2.plot(np.mean(BLA_INT,0),'black')
plt.xlim([0,40])
plt.legend(['Int'])
plt.title('Firing Rates across transitons from NREM-REM')


def pourcent_increase(neurons):
    mean_NREM = np.mean(neurons[:,0:30],1)
    mean_REM = np.mean(neurons[:,31:40],1)
    mean_all = np.mean(neurons,1)
    print(mean_REM.shape)
    print(np.sum(mean_REM>mean_NREM)/neurons.shape[0]*100)
    
    
    order = np.argsort(mean_REM/mean_NREM)
#     order = np.argsort(mean_all)
    print(order)
    plt.subplot(1,2,1)
    plt.imshow(scipy.stats.zscore(neurons,1),aspect = 'auto')
    
    plt.clim(-2,2)
    plt.subplot(1,2,2)
    plt.imshow(scipy.stats.zscore(neurons[order],1),aspect = 'auto')
    plt.clim(-2,2)






names = ['HPC_PYR','HPC_INT','BLA_PYR','BLA_INT']
for n,t in zip([HPC_PYR,HPC_INT,BLA_PYR,BLA_INT],names):
    plt.figure()
    print(t)
    pourcent_increase(n)
    plt.suptitle(t)


df = pd.DataFrame(np.mean(BLA_PYR,0))


quantiles = pd.qcut(np.mean(BLA_PYR,0),5)


quantiles.categories[0]
