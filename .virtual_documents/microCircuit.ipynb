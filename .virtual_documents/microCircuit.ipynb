#Import libraries

get_ipython().run_line_magic("matplotlib", " qt")

import os, sys
    

import pandas as pd
import numpy as np
import scipy.io

import matplotlib
import matplotlib.cm as cm
import matplotlib.pyplot as plt

matplotlib.rcParams.update({'figure.max_open_warning': 0})
plt.rcParams['svg.fonttype'] = 'none'

import seaborn as sns


import networkx as nx


import basefunction.anass_load as bf
# import basefunction.bk_load as bk
import bk.load


def draw_node(df,idx_type):
    
    #Author : BK 7/2020
    # Input df and idx as returned by get_hubs()
    # Output is a plot of the hubs
    
    
    G = nx.DiGraph()
    
    cm = plt.get_cmap('gist_rainbow')
    for i,node in enumerate(np.unique([df['pre_syn'].values,df['post_syn'].values])):
        if idx_type[i,3] == 1:
            G.add_node(node,color = cm(i/len(df)),id = node,Type = 'Pyr')
        elif idx_type[i,3] == 2:
            G.add_node(node,color = cm(i/len(df)),id = node,Type = 'Int')
        else:
            G.add_node(node,color = cm(i/len(df)),id = node,Type = 'Unknown')
#     for i,node in enumerate(np.unique([df['pre_syn'].values,df['post_syn'].values])):
#         G.add_node(node,color = colors[i])
    
    
    
    pyr_nodes = [n for (n,ty) in nx.get_node_attributes(G,'Type').items() if ty == 'Pyr']
    int_nodes = [n for (n,ty) in nx.get_node_attributes(G,'Type').items() if ty == 'Int']
    other_nodes = list(set(G.nodes()) - set(pyr_nodes) - set(int_nodes))
    
#     print(G.nodes())
#     print(pyr_nodes)
#     print(int_nodes)
#     print(other_nodes)

#  Print to check data
    for edge in zip(df['pre_syn'],df['post_syn']):
        syn_type = df['value'][(df['pre_syn'] == edge[0]) & (df['post_syn'] == edge[1])].values[0]
        if syn_type == 'exc':
            color = 'Red'
        elif syn_type == 'inh':
            color = 'Blue'
        G.add_edge(*edge,color = color)   

    node_colors = nx.get_node_attributes(G,'color')
    edge_colors = nx.get_edge_attributes(G, 'color')
    node_shapes = nx.get_node_attributes(G,'shape')


    pos = nx.spring_layout(G,k = 1)
    
    
    nx.draw_networkx_nodes(G,pos,
                           nodelist=pyr_nodes,
                           node_size = 500,
                           node_color = list([node_colors[i] for i in pyr_nodes]),
                           node_shape = '^')
    nx.draw_networkx_nodes(G,pos,
                           nodelist=int_nodes,
                           node_color = list([node_colors[i] for i in int_nodes]),
                           node_size = 500,
                           node_shape = 'o')
    nx.draw_networkx_nodes(G,pos,
                           nodelist=other_nodes,
                           node_color = list([node_colors[i] for i in int_nodes]),
                           node_size = 500,
                           node_shape = 'd')
    nx.draw(G,
            pos,
            with_labels = True,
            nodelist = [],
            connectionstyle='arc3, rad = 0.3', 
            edge_list = G.edges(),
            edge_color = edge_colors.values(),
            alpha = 0.8,
            width=2.0, 
            edge_cmap=plt.cm.Set2)
    
    
def get_hubs():
    #Author : BK 12/08/20
    #Input : path to session
    #Output :
    # df : DataFrame of the hubs
    # idx : np.array of correspondance between shank id vs id in the whole session
    # hubs : np.array of cells in center of hubs
    
    
#     session_index = pd.read_csv('Z:/All-Rats/Billel/session_indexing.csv',sep = ';')

#     session = path.split('\\')[2]
#     os.chdir(path)
    
    
    #Need to run bk.set_current_session first.
    try: bk.session 
    except NameError: bk.session = None
    
    
    #Load matlab variables
    MonoSynConvClick = scipy.io.loadmat(bk.session +'-MonoSynConvClick.mat') 
    activity = scipy.io.loadmat('Billel/Transitions/NREM_REM_ALL.mat')['binned']['activity'][0][0]
    metadata = scipy.io.loadmat('Billel/Transitions/NREM_REM_ALL.mat')['binned']['metadata'][0][0]
    finalType = scipy.io.loadmat('Z:/All-Rats/AllRats-FinalType.mat')['finalType']

    BLA_Shank = bf.get_structure_shanks(bk.session,'BLA')[0] #Get Shank for amygdala

    #Clean finalType in order to have only good day and good rat
    finalType = finalType[(finalType[:,0] == bk.rat) & (finalType[:,1] == bk.day),2:5]
    
    #Get Idx variable in MonoSynConvClick /!\ There is some weird things going on here : 
    idx = MonoSynConvClick['Idx']
    idx = np.hstack((idx[:,:],np.array([finalType[np.all((i[0:2] == finalType[:,0:2]),1),2] for i in idx])))
    # Add type columns to idx from finalType
    
    
    #Keep only BLA Cells 
    inh_pre_syn_shank = MonoSynConvClick['FinalInhMonoSyn'][:,0]
    inh_str_mask = [x in BLA_Shank for x in inh_pre_syn_shank]
    
    inh_pre_syn = MonoSynConvClick['FinalInhMonoSynID'][inh_str_mask,0]
    inh_post_syn = MonoSynConvClick['FinalInhMonoSynID'][inh_str_mask,1]
    type_inh_syn = ['inh']*len(inh_pre_syn)

    exc_pre_syn_shank = MonoSynConvClick['FinalExcMonoSyn'][:,0]
    exc_str_mask = [x in BLA_Shank for x in exc_pre_syn_shank]
    exc_pre_syn = MonoSynConvClick['FinalExcMonoSynID'][exc_str_mask,0]
    exc_post_syn = MonoSynConvClick['FinalExcMonoSynID'][exc_str_mask,1]
    type_exc_syn = ['exc']*len(exc_pre_syn)

    
    type_syn = np.append(type_inh_syn,type_exc_syn)
    pre_syn = np.append(inh_pre_syn,exc_pre_syn)
    post_syn = np.append(inh_post_syn,exc_post_syn)



    # Construct a DataFrame because it is way more elegant
    df = pd.DataFrame({'pre_syn':pre_syn,'post_syn':post_syn,'value':type_syn})
    df['value']=pd.Categorical(df['value'])
    
    #Keep only inh cells with more than 2 mono-syn connexion.
    
    hubs = []
    for i in np.unique([df['pre_syn'].values,df['post_syn'].values]):
        if (len(df[df['pre_syn'] == i])>2) & any(df['value'][df['pre_syn'] == i] == 'inh'):
            hubs.append(i)
    
    print('Found ' + str(len(hubs)) + ' hubs')
    
    return df,idx,hubs

def get_activity():
    
    # Check for set_current_session 
    try: bk.load.session 
    except NameError: bk.load.session = None
        
    activity = scipy.io.loadmat('Billel/Transitions/NREM_REM_ALL.mat')['binned']['activity'][0][0]
    metadata = scipy.io.loadmat('Billel/Transitions/NREM_REM_ALL.mat')['binned']['metadata'][0][0]
    
    return activity,metadata

def get_transitions_activity():
    
    try: bk.load.session 
    except NameError: bk.load.session = None
    
    neurons,shanks = bk.load.loadSpikeData(bk.load.path)
    states = bk.load.states()
    
    transition_events = get_transition_events(states)

def get_transition_events(states,state1,state2):
    states_ = np.empty((0,2))
    transition_events = np.array([])
    for s1 in states[state1].as_units('s').iloc:
        for s2 in states[state2].as_units('s').iloc:
            if ((s1.end+2)>s2.start) and ((s1.end+2)<s2.end) and (s2.end-s2.start)>50:
                transition_events = np.append(transition_events,s1.end)
                states_ = np.vstack((states_,[s1.start,s2.end]))

    transition_events = nts.Tsd(transition_events,time_units='s')
    states_ = nts.IntervalSet(states_[:,0],states_[:,1],time_units = 's')
    return states_,transition_events
    
def draw_hubs(df,idx,hubs,activity,metadata,plot = True):
    # Author : BK 12/08/20
    # Input : df,idx,hubs as given by get_hubs(session) and activity,metadata given by get_activity
    # Output : it's a plot
    
    cm = plt.get_cmap('gist_rainbow')
    
    for hub in hubs:
        df_hub = df[(df['pre_syn'] == hub) | (df['post_syn'] == hub)]
#         df_hub = df
        repeat = df_hub.pivot_table(index=['pre_syn'],aggfunc='size')
        center = np.argmax(repeat)
        center = repeat.index[center]
#         print(str(center)+' Should be the center of graph')

        l = np.unique([df_hub['pre_syn'].values,df_hub['post_syn'].values])
        idx_type = idx[[x in l for x in idx[:,2]]]

        
        if plot:
            plt.figure()
            plt.suptitle(bk.session)
            plt.subplot(1,2,1)
            for c,i in enumerate(np.unique([df_hub['pre_syn'].values,df_hub['post_syn'].values])):
                n_mask = metadata[:,4] == i
                norm = np.mean(activity[20:30,n_mask,:])
                plt.plot((np.mean(activity[:,n_mask,:],2)/1),color = cm(c/len(df_hub)))
        #         plt.plot((v[:,17]),color = cm(c/len(df_hub)))

            plt.axvspan(30,41, facecolor='darkorange', alpha=0.5)
            plt.title('Activity')
            plt.ylabel('FR')
            plt.xlabel('Time Normalized')
            plt.subplot(1,2,2)
            plt.title(str(idx[idx[:,2] == center,0:2]) +'#' + str(center)+ ' cell hub')
            plt.show()
            draw_node(df_hub,idx_type)
        
def flatten_activity(activity):  
    # Because of how reshape works we have to swap axes before reshaping. We need to have the slowest index in the end so it can be reshape in "C" Order.
    # This function take activity matrix as Time,Neurons,Events and transforms it into Time,Events,Neurones
    flat_activity = np.swapaxes(activity,1,2).reshape(-1,activity.shape[1])
    return flat_activity 

def get_hubs_corr(df,idx,hubs,activity,metadata,plot = False):
    
    #Author : BK 08/2020
    #Compute the corr of all cells in activity for a given session. Then extract mean corr value for each hubs (hubs cell vs all other cells)
    n = 1000
    
    if len(hubs) == 0:
        return 0
    if len(activity.shape) != 2:
        print('Flattenning Activity')
        activity = flatten_activity(activity)
    if plot:
        plt.figure()
        plt.title(bk.session)
        plt.xlabel('Normalized Time')
        plt.ylabel('Firing Rates')
        plt.plot(activity[:,0:5])
        
    
    activity_corr = np.corrcoef(activity.T)
    
    # Correlation of a neurons with itself is 1 but should be discarded in the analysis therefore set to NaN
    
    np.fill_diagonal(activity_corr,np.nan)
#     plt.imshow(activity_corr)
    
    BLA_Shank = bf.get_structure_shanks(bk.session,'BLA') #NEED TO KEEP ONLY BLA FOR MEAN OF THE EVERYTHING
    metadata_bla_mask = [x in BLA_Shank for x in metadata[:,2]]
    
    activity_corr_bla = activity_corr[metadata_bla_mask,:]
    activity_corr_bla = activity_corr_bla[:,metadata_bla_mask]
    
    if plot:
        plt.figure()
        sns.heatmap(activity_corr_bla,cmap = 'viridis',square = True,vmin = -0.5,vmax = 0.5)
        
#         plt.imshow(abs(activity_corr_bla))
#         plt.colorbar()
            

    #Dont really known if what I have done is correct... Took the mean of acitvity_corr. Also i'm only considering magnitude of r therefore I abs everything
    
    hubs_corr = {bk.session:np.nanmean(np.abs(activity_corr))}
    
    
    for hub in hubs:
            df_hub = df[df['pre_syn'] == hub]
            pre_syn_id = np.unique(df_hub['pre_syn'])
            post_syn_id = np.unique(df_hub['post_syn'])
            

            
            idx_hub = np.array([idx[(i == idx[:,2])][0,:] for i in post_syn_id])
            
            
            shank_clu_pre = np.array(idx[pre_syn_id == idx[:,2],0:2])[0]
            corr_mask_pre = np.all(shank_clu_pre == metadata[:,2:4],1)
            
            
            hub_corr = []
            for i in post_syn_id:
                shank_clu_post = np.array(idx[i == idx[:,2],0:2])
                corr_mask_post = np.all(shank_clu_post == metadata[:,2:4],1)
                hub_corr.extend(activity_corr[corr_mask_pre,corr_mask_post])
            if plot:
                plt.figure()
                sns.heatmap([hub_corr],square = True,cmap = 'viridis')
                plt.ylabel(str(hub))
                

            #Gen n fake hub in order to do bootstrap
            fake_corr = [] # Corr of the all fake hub with the same cells in the center of the hub
            for i in range(n):
                n_cells = len(df_hub['pre_syn']) #Take same number of cells than in the original hub
                cells = np.unique(metadata[metadata_bla_mask,4]) # Take only cells in the BLA
                random_cells = np.sort(np.random.choice(cells,n_cells,replace = False))
                fake_hub = {'pre_syn':df_hub['pre_syn'],'post_syn':random_cells} #Create a fake hub
                df_fake_hub = pd.DataFrame(fake_hub)
                
                post_syn_id = np.unique(df_fake_hub['post_syn'])
                
                fake_corr_hub = [] # Corr of all cells in the fake hub
                for j in post_syn_id:
                    shank_clu_post = np.array(idx[j == idx[:,2],0:2])
                    corr_mask_post = np.all(shank_clu_post == metadata[:,2:4],1)
                    
                    fake_corr_hub.extend(activity_corr[corr_mask_pre,corr_mask_post])
                
                fake_corr.append(np.nanmean(fake_corr_hub))
            if plot:
                plt.figure()
                h,_,_ = plt.hist(fake_corr,bins = 30,density = True)
                plt.xlim([-1, 1])
                plt.vlines(np.nanmean(fake_corr),0,max(h),color = 'r')
                plt.vlines(np.nanmean(hub_corr),0,max(h),color = 'g')
                plt.title(str(shank_clu_pre)+str(hub) + bk.session)
                plt.xlabel('Mean correlation of FR during NREM-REM sleep')
                plt.ylabel('Probability')
                plt.legend(['Mean of Fake Hubs','Mean of Real Hub'])
                plt.show()
            
            hubs_corr.update({str(shank_clu_pre):[np.nanmean(hub_corr),fake_corr]})
#             print(np.nanmean(hub_corr))
#             print(np.nanmean(np.abs(activity_corr)))
    hubs_corr = pd.DataFrame(hubs_corr,index = ['hubs','fake'])
    return hubs_corr
    
#             print(idx_hub)
#             print(pre_syn_id,post_syn_id)
#             corr_mask = [metadata[np.all((i[0:2] == metadata[:,2:4]),1),:] for i in idx_hub]
#             print(corr_mask)

        


def microCircuit(path = 'Z:\Rat08\Rat08-20130713' ,plot = False):
    bk.set_current_session(path)
    df,idx,hubs = get_hubs()
    activity,metadata = get_activity()
    draw_hubs(df,idx,hubs,activity,metadata,plot)
    hubs_corr = get_hubs_corr(df,idx,hubs,activity,metadata,plot)
    return hubs_corr


def microCircuitSmallTimeScale(path,plot = False):
    bk.set_current_session(path)
    df,idx,hubs = get_hubs()
    activity,metadata = get_transition_activity()
    draw_hubs(df,idx,hubs,activity,metadata,plot)
    hubs_corr = get_hubs_corr(df,idx,hubs,activity,metadata,plot)
    return hubs_corr


microCircuit(plot=True)


plt.xlim(-0.25,0.25)


a = bk.batch(microCircuit)


hubs = []
surrogate = []
for i in a.keys():
    if np.all(a[i] == 0): continue
    for j in a[i].keys():
        if j.startswith('Rat'): 
            continue
        hubs.append(a[i][j]['hubs'])
        surrogate.extend(a[i][j]['fake'])
        


dict_corr = {'surrogate':surrogate,'hubs':hubs}

# hubs = pd.Series(hubs)

pal = sns.cubehelix_palette(2, rot=-.5, dark=.3)
plt.figure()
# sns.swarmplot(data = df_corr,palette = pal)
ax = sns.swarmplot(data = [np.random.choice(dict_corr['surrogate'],250),dict_corr['hubs']],palette = pal)
ax.set_xticklabels([i for i in dict_corr.keys()])
plt.ylabel('Mean correlation of FR during NREM-REM sleep')
plt.show()

# scipy.stats.wilcoxon(df_corr['Surrogates'],df_corr['Hubs'])



# np.random.choice(dict_corr['surrogate'],250).shape


mean = []
for i in a.keys():
    if np.all((a[i] == 0)): continue #If no hubs in the session, do not compute anything on it 
    mean.extend(a[i][i].values)
print(np.mean(mean))

hubs = []
for i in a.keys():
    if np.all((a[i] == 0)): continue
    for j in a[i].keys():
        hubs.extend(a[i][j])
        

plt.figure()
sns.violinplot(data = [mean,hubs],inner = 'points')
plt.show()

scipy.stats.wilcoxon(mean,b)


hubs


plt.close('all')
# for i in a:
#     if isinstance(a[i],int): continue
#     for j in a[i]:
#         if any(a[i][j]>0.3): print(i)
path = 'Z:\\Rat11\\Rat11-20150326'        
a = microCircuit(path,False)


a['Rat08-20130713']['[ 6 11]']['fake']


path = 'Z:\Rat11\Rat11-20150326'
microCircuit(path,plot = True)


# session_index = pd.read_csv('Z:/All-Rats/Billel/session_indexing.csv',sep = ';')


# for path in session_index['Path']:
#     try:
#         draw_hub(path)
#     except:
#         print('oups')


session_index = pd.read_csv('Z:/All-Rats/Billel/session_indexing.csv',sep = ';')
path = 'Z:\\Rat08\\Rat08-20130713'
session = path.split('\\')[2]
os.chdir(path)
print(os.getcwd())

MonoSynConvClick = scipy.io.loadmat(session +'-MonoSynConvClick.mat')

finalType = scipy.io.loadmat('Z:/All-Rats/AllRats-FinalType.mat')['finalType']
rat = session_index['Rat'][session_index['Path'] == path].values
day = session_index['Day'][session_index['Path'] == path].values

print(finalType.shape)

finalType = finalType[(finalType[:,0] == rat) & (finalType[:,1] == day),2:5]
print(finalType.shape)
idx = MonoSynConvClick['Idx']
print(idx.shape)

tout_type = np.array([finalType[np.all((i[0:2] == finalType[:,0:2]),1),2] for i in idx])
print(tout_type.shape)
print(idx.shape)

print(finalType,idx)


path = "Z:\Rat10\Rat10-20140628"

session = path.split('\\')[2]
os.chdir(path)
activity = scipy.io.loadmat('Billel/Transitions/NREM_REM_ALL.mat')['binned']['activity'][0][0]
metadata = scipy.io.loadmat('Billel/Transitions/NREM_REM_ALL.mat')['binned']['metadata'][0][0]

finalType = scipy.io.loadmat('Z:/All-Rats/AllRats-FinalType.mat')['finalType']

flat_activity = flatten_activity(activity)
corr = np.corrcoef(flat_activity.T)

plt.figure()
plt.imshow(corr)
plt.show()

# print(metadata)


path = 'Z:\Rat11\Rat11-20150326'
bk.set_current_session(path)
df,idx,hubs = get_hubs()
hubs = [90] #Only looking for the hub with cell 90 because it is the one swwith the greater correlation
activity,metadata = get_activity()
draw_hubs(df,idx,hubs,activity,metadata,True)
hubs_corr = get_hubs_corr(df,idx,hubs,activity,metadata)

print(hubs_corr)


plt.close('all')


path = 'Z:\Rat11\Rat11-20150326'
microCircuit(path)


a


a


path = '/home/billel/Documents/Data/'


def states(path):
    #BK : 17/09/2020
    #Return a dict with variable from States.
#     if session_path == 0 : session_path = get_session_path(session_name)
    states = scipy.io.loadmat(path + '/States.mat')
    
    useless  = ['__header__','__version__','__globals__']
    for u in useless:
        del states[u]
    states_ = {}
    for state in states:
        states_.update({state:nts.IntervalSet(states[state][:,0],states[state][:,1],time_units = 's')})
        
    return states_


states = states(path)


import neuroseries as nts





transition_events


s,t = get_transition_events(states,'sws','Rem')


a = np.hstack((s,t))


s.shape



