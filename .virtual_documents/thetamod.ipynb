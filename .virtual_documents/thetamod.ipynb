import matplotlib.pyplot as plt
import scipy.io
import scipy.stats
import numpy as np

get_ipython().run_line_magic("matplotlib", " qt")

import itertools


theta_path = "/home/billel/pCloudDrive/IFM/Work/ThetaModAll.mat"
structures_path = '/home/billel/pCloudDrive/IFM/Work/structures.mat'
finalType = '/home/billel/pCloudDrive/IFM/Work/AllRats-FinalType.mat'


thetamod = scipy.io.loadmat(theta_path)
stru = scipy.io.loadmat(structures_path)
finalType = scipy.io.loadmat(finalType)['finalType']


lfps = ['hpc','bla']
structures = ['Hpc','BLA']


plt.figure()

for lfp in lfps:
    r = thetamod['stats'][lfp][0][0]['r'][0][0]
    metadata = thetamod['metadata'][lfp][0][0]
    for structure in structures:
        print(structure + " with theta from " + lfp)

        structure_mask = np.array([np.any(np.all(i == stru[structure],1)) for i in metadata[:,0:3]])
        type_mask = np.array([finalType[np.all(i == finalType[:,0:4],1),4]for i in metadata[:,0:4]]).T == 1
        structure_type_mask = type_mask * structure_mask
        
        print(structure_type_mask.shape)
        n = len(r[:,(type_mask * structure_mask)[0]][0])
        print(n)
        c = scipy.stats.cumfreq(r[:,(structure_mask*type_mask)[0]][0],30)
        x = c.lowerlimit + np.linspace(0, c.binsize*c.cumcount.size,c.cumcount.size)
        plt.plot(x,c.cumcount/n)
legend_list = list(itertools.product(lfps,structures))
print(legend_list[0])
for i,_ in enumerate(legend_list):
    legend_list[i] = "RML of " + legend_list[i][1] + " relative to theta from " + legend_list[i][0]
plt.title('Distribution of RML')
plt.legend(legend_list)


np.array(metadata[:,0:3] == stru['Hpc'])


a = np.array([1,2,3,4,5,6,7,8,9])
b = np.array([1,2,3,9,7,5,6,8,7])


bla_mask = [np.any(np.all(i == stru[structure],1)) for i in metadata[:,0:3]]


type_mask * structure_mask


type_mask.T


structure_mask = [np.all(i == stru[structure],1) for i in metadata[:,0:3]]


a = ['b','c']
a[0] = a[0]+"aze"


type_mask


min(r[0])


type_mask*





# for i in metadata[:,0:4]: 
#     print(len(finalType[np.all(i == finalType[:,0:4],1)]))
#     print(finalType[np.all(i == finalType[:,0:4],1)])
#     print(i)

type_mask = np.array([finalType[np.all(i == finalType[:,0:4],1),4]for i in metadata[:,0:4]]) == 1


type_mask


structure_mask = np.array([np.any(np.all(i == stru[structure],1)) for i in metadata[:,0:3]])
type_mask = np.array([finalType[np.all(i == finalType[:,0:4],1),4]for i in metadata[:,0:4]]) == 2
        


a = structure_mask


b = type_mask.squeeze()


a*b





?np.save



