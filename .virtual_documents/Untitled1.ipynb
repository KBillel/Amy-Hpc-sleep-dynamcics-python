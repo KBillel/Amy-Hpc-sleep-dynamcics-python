import numpy as np
import scipy as sp

import scipy.io as spio
import matplotlib.pyplot as plt

import bk.plot
import neuroseries as nts


NREM_REM = spio.loadmat('/media/billel/GGLab-01-BK/DATA/All-Rats/Billel/NREM-REM/NREM-REM.mat')


get_ipython().run_line_magic("matplotlib", " qt")


BLA_PYR = NREM_REM['BLA_PYR_ALL'][0][0][3].T
BLA_INT = NREM_REM['BLA_INT_ALL'][0][0][3].T

rem = nts.IntervalSet(31,40,time_units = 's')


fig,ax = plt.subplots()
bk.plot.intervals(rem)

plt.plot(np.mean(BLA_PYR,1),'+-',color = 'green')
plt.legend(['REM','Pyr'])
ax2=ax.twinx()
ax2.plot(np.mean(BLA_INT,1),'black')
plt.xlim([0,40])
plt.legend(['Int'])
plt.title('Firing Rates across transitons from NREM-REM')


a  = np.array([[31,40]])


import scipy.stats


np.quantile(np.mean(BLA_PYR,0),1)


import pandas as pd


df = pd.DataFrame(np.mean(BLA_PYR,0))


quantiles = pd.qcut(np.mean(BLA_PYR,0),5)


quantiles.categories[0]


mean_fr = np.mean(BLA_PYR,0)


for i in quantiles.categories:
    plt.plot(np.mean(BLA_PYR[:,(i.left<mean_fr) & (mean_fr<i.right)],1))
bk.plot.intervals(rem)


mean_fr.shape


len((i.left<mean_fr) & (mean_fr<i.right))


BLA_PYR



