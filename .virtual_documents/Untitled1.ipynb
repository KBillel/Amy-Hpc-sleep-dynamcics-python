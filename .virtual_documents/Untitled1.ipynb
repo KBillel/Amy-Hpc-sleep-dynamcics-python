import numpy as np
import scipy as sp

import scipy.io as spio
import matplotlib.pyplot as plt
import scipy.stats
import bk.plot
import neuroseries as nts


NREM_REM = spio.loadmat('/media/billel/GGLab-01-BK/DATA/All-Rats/Billel/NREM-REM/NREM-REM.mat')


get_ipython().run_line_magic("matplotlib", " qt")


BLA_PYR = NREM_REM['BLA_PYR_ALL'][0][0][3]
BLA_INT = NREM_REM['BLA_INT_ALL'][0][0][3]

HPC_PYR = NREM_REM['HPC_PYR_ALL'][0][0][3]
HPC_INT = NREM_REM['HPC_INT_ALL'][0][0][3]

rem = nts.IntervalSet(31,40,time_units = 's')


plt.imshow(scipy.stats.zscore(BLA_PYR,0),aspect = 'auto')


HPC_PYR.shape


fig,ax = plt.subplots()
bk.plot.intervals(rem)

plt.plot(np.mean(BLA_PYR,0),'+-',color = 'green')
plt.legend(['REM','Pyr'])
ax2=ax.twinx()
ax2.plot(np.mean(BLA_INT,0),'black')
plt.xlim([0,40])
plt.legend(['Int'])
plt.title('Firing Rates across transitons from NREM-REM')


def pourcent_increase(neurons):
    mean_NREM = np.mean(neurons[:,0:30],1)
    mean_REM = np.mean(neurons[:,31:40],1)
    print(mean_REM.shape)
    print(np.sum(mean_REM>mean_NREM)/neurons.shape[0]*100)
    
    
    order = np.argsort(mean_REM/mean_NREM)
    print(order)
    plt.subplot(1,2,1)
    plt.imshow(scipy.stats.zscore(neurons,1),aspect = 'auto')
    
    plt.clim(-2,2)
    plt.subplot(1,2,2)
    plt.imshow(scipy.stats.zscore(neurons[order],1),aspect = 'auto')
    plt.clim(-2,2)



names = ['HPC_PYR','HPC_INT','BLA_PYR','BLA_INT']
for n,t in zip([HPC_PYR,HPC_INT,BLA_PYR,BLA_INT],names):
    plt.figure()
    print(t)
    pourcent_increase(n)
    plt.suptitle(t)


BLA_PYR = BLA_PYR.T


BLA_PYR.shape


BLA_INT.shape


a  = np.array([[31,40]])


import scipy.stats


np.quantile(np.mean(BLA_PYR,0),1)


import pandas as pd


df = pd.DataFrame(np.mean(BLA_PYR,0))


quantiles = pd.qcut(np.mean(BLA_PYR,0),5)


quantiles.categories[0]


mean_fr = np.mean(BLA_PYR,0)


for i in quantiles.categories:
    plt.plot(np.mean(BLA_PYR[:,(i.left<mean_fr) & (mean_fr<i.right)],1))
bk.plot.intervals(rem)


mean_fr.shape


len((i.left<mean_fr) & (mean_fr<i.right))


BLA_PYR



