import os
import bk.load


path = '/media/billel/GGLab-01-BK/DATA/Rat08-20130713/'
os.chdir(path)
bk.load.path = path
bk.load.rat = 8
bk.load.session = 'Rat08-20130713'
bk.load.day = 6


neurons,metadta = bk.load.loadSpikeData(bk.load.path)


metadta



