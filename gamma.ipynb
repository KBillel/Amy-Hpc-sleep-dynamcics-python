{
 "cells": [
  {
   "cell_type": "code",
   "execution_count": 1,
   "metadata": {},
   "outputs": [],
   "source": [
    "import sys\n",
    "import itertools\n",
    "\n",
    "import numpy as np\n",
    "import pandas as pd\n",
    "import scipy.signal\n",
    "from scipy.signal import savgol_filter\n",
    "from scipy.stats import zscore\n",
    "from tqdm import tqdm\n",
    "\n",
    "import neuroseries as nts\n",
    "\n",
    "\n",
    "import time\n",
    "import matplotlib.pyplot as plt\n",
    "\n",
    "import seaborn as sns \n",
    "import bk.load\n",
    "import bk.compute\n",
    "import bk.plot\n",
    "\n",
    "import os\n",
    "\n",
    "plt.rcParams['svg.fonttype'] = 'none'\n",
    "%matplotlib qt\n"
   ]
  },
  {
   "cell_type": "code",
   "execution_count": 2,
   "metadata": {},
   "outputs": [
    {
     "name": "stdout",
     "output_type": "stream",
     "text": [
      "Rat : 8 on day : 6\n",
      "Working with session Rat08-20130713 @ /mnt/electrophy/Gabrielle/GG-Dataset-Light/Rat08/Rat08-20130713\n"
     ]
    }
   ],
   "source": [
    "bk.load.current_session_linux()\n",
    "states = bk.load.states()\n",
    "transitions = bk.compute.transition(states,['sws','Rem'],50)"
   ]
  },
  {
   "cell_type": "code",
   "execution_count": 3,
   "metadata": {},
   "outputs": [],
   "source": [
    "chans = {'left_bla': bk.load.bla_channels()['left'],\n",
    "        'right_bla': bk.load.bla_channels()['right'],\n",
    "        'hpc': bk.load.ripple_channel()}\n",
    "\n",
    "lfp = bk.load.lfp(chans['right_bla'])\n"
   ]
  },
  {
   "cell_type": "code",
   "execution_count": 11,
   "metadata": {},
   "outputs": [
    {
     "name": "stdout",
     "output_type": "stream",
     "text": [
      "delta\n",
      "theta\n",
      "gamma\n"
     ]
    }
   ],
   "source": [
    "f, t, Sxx = scipy.signal.spectrogram(\n",
    "    lfp, 1250, nperseg=10000, noverlap=8000)\n",
    "\n",
    "band = {'delta': [0.1, 4],\n",
    "        'theta': [5, 10],\n",
    "        'gamma': [60, 80]}\n",
    "\n",
    "filter = {}\n",
    "power = {}\n",
    "for b, (i, j) in band.items():\n",
    "    print(b)\n",
    "    filt = (i < f) & (f < j)\n",
    "    filter.update({b: filt})\n",
    "\n",
    "    power.update({b: nts.Tsd(t, np.mean((Sxx[filt, :]), 0), time_units='s')})\n",
    "\n",
    "for b in power:\n",
    "    power[b] = power[b].restrict((states['Rem']))\n"
   ]
  },
  {
   "cell_type": "code",
   "execution_count": 12,
   "metadata": {},
   "outputs": [
    {
     "data": {
      "text/plain": [
       "[<matplotlib.lines.Line2D at 0x7fc859de1190>]"
      ]
     },
     "execution_count": 12,
     "metadata": {},
     "output_type": "execute_result"
    }
   ],
   "source": [
    "fig,ax = plt.subplots(5,1,sharex=True)\n",
    "plt.sca(ax[0])\n",
    "bk.plot.intervals(transitions[0],'red')\n",
    "plt.plot(lfp.as_units('s'))\n",
    "plt.sca(ax[1])\n",
    "bk.plot.intervals(states['sws'],'grey')\n",
    "bk.plot.intervals(states['Rem'])\n",
    "\n",
    "ax[2].plot(zscore(power['delta'].as_units('s')))\n",
    "ax[3].plot(zscore(power['theta'].as_units('s')))\n",
    "plt.sca(ax[3])\n",
    "bk.plot.intervals(theta_bouts)\n",
    "ax[4].plot(zscore(power['gamma'].as_units('s')))\n",
    "\n",
    "# for i in range(2,5):ax[i].set_ylim(-3,3)\n"
   ]
  },
  {
   "cell_type": "code",
   "execution_count": 9,
   "metadata": {},
   "outputs": [],
   "source": [
    "theta_bouts = bk.load.intervals('BLA_REM_theta_bouts')"
   ]
  },
  {
   "cell_type": "code",
   "execution_count": 8,
   "metadata": {},
   "outputs": [
    {
     "data": {
      "text/plain": [
       "['sleep_scoring.csv',\n",
       " 'sleep_wake.csv',\n",
       " 'runs.csv',\n",
       " 'BLA_REM_theta_bouts.csv',\n",
       " 'sleep_scoring_automatic.csv',\n",
       " 'laps.csv']"
      ]
     },
     "execution_count": 8,
     "metadata": {},
     "output_type": "execute_result"
    }
   ],
   "source": [
    "bk.load.computed_intervals()"
   ]
  }
 ],
 "metadata": {
  "kernelspec": {
   "display_name": "Python 3.9.7 ('base')",
   "language": "python",
   "name": "python3"
  },
  "language_info": {
   "codemirror_mode": {
    "name": "ipython",
    "version": 3
   },
   "file_extension": ".py",
   "mimetype": "text/x-python",
   "name": "python",
   "nbconvert_exporter": "python",
   "pygments_lexer": "ipython3",
   "version": "3.9.12 (main, Jun  1 2022, 11:38:51) \n[GCC 7.5.0]"
  },
  "orig_nbformat": 4,
  "vscode": {
   "interpreter": {
    "hash": "dc93b3fb48dfd2593d4a40b397dc62a97606514bfa701f6565ff70ef36514844"
   }
  }
 },
 "nbformat": 4,
 "nbformat_minor": 2
}
