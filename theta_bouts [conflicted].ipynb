{
 "cells": [
  {
   "cell_type": "code",
   "execution_count": 1,
   "metadata": {},
   "outputs": [],
   "source": [
    "import bk.load\n",
    "import bk.signal\n",
    "import bk.plot\n",
    "import bk.compute\n",
    "\n",
    "import neuroseries as nts\n",
    "import matplotlib.pyplot as plt\n",
    "\n",
    "\n",
    "import scipy.signal\n",
    "from scipy.stats import zscore\n",
    "import numpy as np\n",
    "import seaborn as sns\n",
    "import pandas as pd"
   ]
  },
  {
   "cell_type": "code",
   "execution_count": 2,
   "metadata": {},
   "outputs": [
    {
     "name": "stdout",
     "output_type": "stream",
     "text": [
      "Rat : 8 on day : 6\n",
      "Working with session Rat08-20130713 @ /mnt/electrophy/Gabrielle/GG-Dataset-Light/Rat08/Rat08-20130713\n"
     ]
    }
   ],
   "source": [
    "%matplotlib qt\n",
    "bk.load.current_session_linux('/mnt/electrophy/Gabrielle/GG-Dataset-Light/','Rat08/Rat08-20130713')\n",
    "theta_bouts = bk.load.intervals('BLA_REM_theta_bouts')"
   ]
  },
  {
   "cell_type": "code",
   "execution_count": 3,
   "metadata": {},
   "outputs": [],
   "source": [
    "def write_bla_theta_bouts(base_folder, local_path, *args, **kwargs):\n",
    "    bk.load.current_session_linux(\n",
    "        base_folder=base_folder, local_path=local_path)\n",
    "    bla_channels = bk.load.bla_channels()\n",
    "    bla_channel = [c[1] for c in bla_channels.items() if ~np.isnan(c[1])][0]\n",
    "    states = bk.load.states()\n",
    "    \n",
    "\n",
    "    lfp = bk.load.lfp_in_intervals(bla_channel,states['Rem'])\n",
    "    theta_bouts = bk.signal.power_bouts(lfp, 6, 10, 1.5)\n",
    "    theta_bouts = theta_bouts.drop_short_intervals(0.2, 's')\n",
    "    theta_bouts = theta_bouts.iloc[theta_bouts.duration('s')<10]\n",
    "\n",
    "    theta_bouts['state'] = 'THETA'\n",
    "    theta_bouts.to_csv('Intervals/BLA_REM_theta_bouts.csv',index = False)"
   ]
  },
  {
   "cell_type": "code",
   "execution_count": 4,
   "metadata": {},
   "outputs": [],
   "source": [
    "# bk.load.batch(write_bla_theta_bouts,local_base='/mnt/electrophy/Gabrielle/GG-Dataset-Light/')"
   ]
  },
  {
   "cell_type": "code",
   "execution_count": 5,
   "metadata": {},
   "outputs": [
    {
     "name": "stdout",
     "output_type": "stream",
     "text": [
      "Rat : 8 on day : 6\n",
      "Working with session Rat08-20130713 @ /mnt/electrophy/Gabrielle/GG-Dataset-Light/Rat08/Rat08-20130713\n",
      "Data already saved in Numpy format, loading them from here:\n",
      "Rat08-20130713-neurons.npy\n",
      "Rat08-20130713-metadata.npy\n",
      "Empty DataFrame\n",
      "Columns: [FR_Theta_Bouts, FR_Outside_Theta_Bouts]\n",
      "Index: []\n"
     ]
    }
   ],
   "source": [
    "# bk.load.current_session_linux()\n",
    "# neurons, metadata = bk.load.spikes()\n",
    "# states = bk.load.states()\n",
    "# theta_bouts = bk.load.intervals('BLA_REM_theta_bouts').drop_short_intervals(0.2,'s').reset_index(drop = True)\n",
    "# outside_theta_bouts = states['Rem'].set_diff(theta_bouts)\n",
    "\n",
    "# fr = {'theta_bouts':[],\n",
    "#     'outside_theta_bouts':[]}\n",
    "# for n in neurons:\n",
    "#     fr['theta_bouts'].append(bk.compute.fr(n,theta_bouts))\n",
    "#     fr['outside_theta_bouts'].append(bk.compute.fr(n,outside_theta_bouts))\n",
    "\n",
    "# df = pd.DataFrame(fr,columns=['FR_Theta_Bouts','FR_Outside_Theta_Bouts'])\n",
    "# print(df)"
   ]
  },
  {
   "cell_type": "code",
   "execution_count": 5,
   "metadata": {},
   "outputs": [],
   "source": [
    "def firing_rates_theta_bouts(base_folder, local_path, *args, **kwargs):\n",
    "    bk.load.current_session_linux(\n",
    "        base_folder=base_folder, \n",
    "        local_path=local_path)\n",
    "    neurons, metadata = bk.load.spikes()\n",
    "    thetamod = pd.read_csv('Analysis/Thetamod/hpc_theta_phase_lock.csv')\n",
    "    states = bk.load.states()\n",
    "    theta_bouts = bk.load.intervals('BLA_REM_theta_bouts').drop_short_intervals(0.2,'s').reset_index(drop= True)\n",
    "    outside_theta_bouts = states['Rem'].set_diff(theta_bouts)\n",
    "\n",
    "    fr = {'theta_bouts':[],\n",
    "        'outside_theta_bouts':[]}\n",
    "    for n in neurons:\n",
    "        fr['theta_bouts'].append(bk.compute.fr(n,theta_bouts))\n",
    "        fr['outside_theta_bouts'].append(bk.compute.fr(n,outside_theta_bouts))\n",
    "\n",
    "    df = pd.DataFrame(fr)\n",
    "    return pd.concat((metadata,df,thetamod.modulated),axis = 1)\n"
   ]
  },
  {
   "cell_type": "code",
   "execution_count": 6,
   "metadata": {},
   "outputs": [
    {
     "name": "stderr",
     "output_type": "stream",
     "text": [
      "100%|██████████| 61/61 [01:18<00:00,  1.29s/it]"
     ]
    },
    {
     "name": "stdout",
     "output_type": "stream",
     "text": [
      "Batch finished in 78.72525119781494\n",
      "Some session were not processed correctly\n",
      "['Rat08-20130712', 'Rat08-20130718', 'Rat08-20130719', 'Rat08-20130720', 'Rat08-20130722', 'Rat09-20140324', 'Rat09-20140325', 'Rat09-20140326', 'Rat09-20140327', 'Rat09-20140328', 'Rat09-20140329', 'Rat09-20140331', 'Rat09-20140401', 'Rat09-20140402', 'Rat09-20140403', 'Rat09-20140404', 'Rat09-20140405', 'Rat09-20140407', 'Rat09-20140408', 'Rat09-20140409', 'Rat10-20140705', 'Rat10-20140707', 'Rat10-20140708', 'Rat11-20150310', 'Rat11-20150312', 'Rat11-20150313', 'Rat11-20150314', 'Rat11-20150315', 'Rat11-20150316', 'Rat11-20150317', 'Rat11-20150401', 'Rat11-20150402', 'Rat11-20150403']\n",
      "54.09836065573771 %\n"
     ]
    },
    {
     "name": "stderr",
     "output_type": "stream",
     "text": [
      "\n"
     ]
    }
   ],
   "source": [
    "batch = bk.load.batch(firing_rates_theta_bouts,local_base='/mnt/electrophy/Gabrielle/GG-Dataset-Light/')"
   ]
  },
  {
   "cell_type": "code",
   "execution_count": 8,
   "metadata": {},
   "outputs": [
    {
     "data": {
      "text/plain": [
       "<matplotlib.legend.Legend at 0x7f3ba977a910>"
      ]
     },
     "execution_count": 8,
     "metadata": {},
     "output_type": "execute_result"
    }
   ],
   "source": [
    "df = pd.concat(batch)\n",
    "df = df[(df['theta_bouts'] != 0) & (df['theta_bouts'] != 0)]\n",
    "df_fr = df[['theta_bouts','outside_theta_bouts']]\n",
    "df_fr_mod = df_fr[((df.Region == 'BLA') & (df.Type == 'Pyr'))]\n",
    "\n",
    "fig,ax = plt.subplots(1,1)\n",
    "bk.plot.cumsum_curves(df_fr_mod['theta_bouts'],1000,ax,log = True)\n",
    "bk.plot.cumsum_curves(df_fr_mod['outside_theta_bouts'],1000,ax,log = True)\n",
    "\n",
    "plt.legend(['Theta_Bouts','No_Theta_Bouts'])"
   ]
  },
  {
   "cell_type": "code",
   "execution_count": 150,
   "metadata": {},
   "outputs": [],
   "source": [
    "theta = np.cumsum(theta)\n",
    "notheta = np.cumsum(notheta)"
   ]
  },
  {
   "cell_type": "code",
   "execution_count": 151,
   "metadata": {},
   "outputs": [
    {
     "data": {
      "text/plain": [
       "[<matplotlib.lines.Line2D at 0x7f57dce69070>]"
      ]
     },
     "execution_count": 151,
     "metadata": {},
     "output_type": "execute_result"
    }
   ],
   "source": [
    "plt.semilogx(thetabin[1:], theta)\n",
    "plt.semilogx(nothetabin[1:], notheta)"
   ]
  },
  {
   "cell_type": "code",
   "execution_count": 15,
   "metadata": {},
   "outputs": [
    {
     "data": {
      "text/plain": [
       "(array([ 1.,  0.,  0.,  0.,  0.,  0.,  0.,  0.,  1.,  0.,  1.,  0.,  0.,\n",
       "         0.,  0.,  1.,  0.,  1.,  1.,  0.,  0.,  1.,  1.,  1.,  0.,  0.,\n",
       "         1.,  1.,  2.,  2.,  2.,  3.,  1.,  2.,  0.,  3.,  1.,  2.,  0.,\n",
       "         1.,  2.,  3.,  2.,  3.,  0.,  5.,  3.,  4.,  2.,  5.,  3.,  3.,\n",
       "         4.,  6.,  5.,  5.,  4.,  6.,  4.,  5.,  5.,  6., 10.,  8.,  5.,\n",
       "         7., 11.,  8.,  6.,  9., 12., 12.,  9., 13., 15., 12., 16., 14.,\n",
       "        10., 15., 11., 12., 18., 13., 20., 17., 15., 25., 17., 23., 21.,\n",
       "        10., 18., 20., 17., 15., 17., 18., 16., 18., 21., 20., 19., 17.,\n",
       "        22., 20., 19., 16., 17., 24., 17., 13., 13., 13., 22.,  9., 14.,\n",
       "        12., 16., 12., 17., 10., 12.,  6., 11.,  3.,  7.,  8.,  8., 13.,\n",
       "         4.,  8.,  5.,  2.,  4.,  4.,  5.,  1.,  4.,  4.,  4.,  5.,  4.,\n",
       "         3.,  2.,  4.,  0.,  1.,  0.,  0.,  1.,  1.,  0.,  0.,  1.,  0.,\n",
       "         0.,  0.,  2.,  4.,  0.,  1.,  0.,  1.,  0.,  0.,  0.,  0.,  1.,\n",
       "         0.,  0.,  0.,  0.,  0.,  0.,  1.,  0.,  0.,  0.,  0.,  0.,  0.,\n",
       "         0.,  0.,  0.,  0.,  0.,  0.,  0.,  0.,  0.,  0.,  0.,  0.,  0.,\n",
       "         0.,  0.,  0.,  0.,  1.]),\n",
       " array([-4.02247738, -3.98645737, -3.95043736, -3.91441735, -3.87839734,\n",
       "        -3.84237733, -3.80635732, -3.77033732, -3.73431731, -3.6982973 ,\n",
       "        -3.66227729, -3.62625728, -3.59023727, -3.55421726, -3.51819725,\n",
       "        -3.48217724, -3.44615724, -3.41013723, -3.37411722, -3.33809721,\n",
       "        -3.3020772 , -3.26605719, -3.23003718, -3.19401717, -3.15799716,\n",
       "        -3.12197716, -3.08595715, -3.04993714, -3.01391713, -2.97789712,\n",
       "        -2.94187711, -2.9058571 , -2.86983709, -2.83381708, -2.79779708,\n",
       "        -2.76177707, -2.72575706, -2.68973705, -2.65371704, -2.61769703,\n",
       "        -2.58167702, -2.54565701, -2.50963701, -2.473617  , -2.43759699,\n",
       "        -2.40157698, -2.36555697, -2.32953696, -2.29351695, -2.25749694,\n",
       "        -2.22147693, -2.18545693, -2.14943692, -2.11341691, -2.0773969 ,\n",
       "        -2.04137689, -2.00535688, -1.96933687, -1.93331686, -1.89729685,\n",
       "        -1.86127685, -1.82525684, -1.78923683, -1.75321682, -1.71719681,\n",
       "        -1.6811768 , -1.64515679, -1.60913678, -1.57311677, -1.53709677,\n",
       "        -1.50107676, -1.46505675, -1.42903674, -1.39301673, -1.35699672,\n",
       "        -1.32097671, -1.2849567 , -1.24893669, -1.21291669, -1.17689668,\n",
       "        -1.14087667, -1.10485666, -1.06883665, -1.03281664, -0.99679663,\n",
       "        -0.96077662, -0.92475662, -0.88873661, -0.8527166 , -0.81669659,\n",
       "        -0.78067658, -0.74465657, -0.70863656, -0.67261655, -0.63659654,\n",
       "        -0.60057654, -0.56455653, -0.52853652, -0.49251651, -0.4564965 ,\n",
       "        -0.42047649, -0.38445648, -0.34843647, -0.31241646, -0.27639646,\n",
       "        -0.24037645, -0.20435644, -0.16833643, -0.13231642, -0.09629641,\n",
       "        -0.0602764 , -0.02425639,  0.01176362,  0.04778362,  0.08380363,\n",
       "         0.11982364,  0.15584365,  0.19186366,  0.22788367,  0.26390368,\n",
       "         0.29992369,  0.3359437 ,  0.3719637 ,  0.40798371,  0.44400372,\n",
       "         0.48002373,  0.51604374,  0.55206375,  0.58808376,  0.62410377,\n",
       "         0.66012378,  0.69614378,  0.73216379,  0.7681838 ,  0.80420381,\n",
       "         0.84022382,  0.87624383,  0.91226384,  0.94828385,  0.98430385,\n",
       "         1.02032386,  1.05634387,  1.09236388,  1.12838389,  1.1644039 ,\n",
       "         1.20042391,  1.23644392,  1.27246393,  1.30848393,  1.34450394,\n",
       "         1.38052395,  1.41654396,  1.45256397,  1.48858398,  1.52460399,\n",
       "         1.560624  ,  1.59664401,  1.63266401,  1.66868402,  1.70470403,\n",
       "         1.74072404,  1.77674405,  1.81276406,  1.84878407,  1.88480408,\n",
       "         1.92082409,  1.95684409,  1.9928641 ,  2.02888411,  2.06490412,\n",
       "         2.10092413,  2.13694414,  2.17296415,  2.20898416,  2.24500417,\n",
       "         2.28102417,  2.31704418,  2.35306419,  2.3890842 ,  2.42510421,\n",
       "         2.46112422,  2.49714423,  2.53316424,  2.56918424,  2.60520425,\n",
       "         2.64122426,  2.67724427,  2.71326428,  2.74928429,  2.7853043 ,\n",
       "         2.82132431,  2.85734432,  2.89336432,  2.92938433,  2.96540434,\n",
       "         3.00142435,  3.03744436,  3.07346437,  3.10948438,  3.14550439,\n",
       "         3.1815244 ]),\n",
       " <BarContainer object of 200 artists>)"
      ]
     },
     "execution_count": 15,
     "metadata": {},
     "output_type": "execute_result"
    }
   ],
   "source": [
    "plt.hist(np.log(df_fr_mod['theta_bouts']),200,alpha = 0.5)\n",
    "plt.hist(np.log(df_fr_mod['outside_theta_bouts']),200,alpha = 0.5)\n"
   ]
  },
  {
   "cell_type": "code",
   "execution_count": null,
   "metadata": {},
   "outputs": [],
   "source": []
  },
  {
   "cell_type": "code",
   "execution_count": 92,
   "metadata": {},
   "outputs": [],
   "source": []
  },
  {
   "cell_type": "code",
   "execution_count": 86,
   "metadata": {},
   "outputs": [
    {
     "data": {
      "text/plain": [
       "<AxesSubplot:>"
      ]
     },
     "execution_count": 86,
     "metadata": {},
     "output_type": "execute_result"
    }
   ],
   "source": [
    "sns.violinplot(data = df_fr[(df.Region == 'BLA') & (df.modulated == True)])"
   ]
  },
  {
   "cell_type": "code",
   "execution_count": 89,
   "metadata": {},
   "outputs": [
    {
     "data": {
      "text/plain": [
       "WilcoxonResult(statistic=5171.0, pvalue=0.0015907016655836155)"
      ]
     },
     "execution_count": 89,
     "metadata": {},
     "output_type": "execute_result"
    }
   ],
   "source": [
    "scipy.stats.wilcoxon(df_fr_mod['theta_bouts'],df_fr_mod['outside_theta_bouts'])"
   ]
  },
  {
   "cell_type": "code",
   "execution_count": 93,
   "metadata": {},
   "outputs": [
    {
     "data": {
      "text/plain": [
       "-0.030014068137631914"
      ]
     },
     "execution_count": 93,
     "metadata": {},
     "output_type": "execute_result"
    }
   ],
   "source": [
    "np.mean(df_fr_mod['theta_bouts'])"
   ]
  },
  {
   "cell_type": "code",
   "execution_count": 95,
   "metadata": {},
   "outputs": [
    {
     "data": {
      "text/plain": [
       "0.06420983316107717"
      ]
     },
     "execution_count": 95,
     "metadata": {},
     "output_type": "execute_result"
    }
   ],
   "source": [
    "np.mean(df_fr_mod['outside_theta_bouts'])"
   ]
  },
  {
   "cell_type": "code",
   "execution_count": 94,
   "metadata": {},
   "outputs": [],
   "source": [
    "def merge_firing_rates_theta_bouts(batch):\n",
    "    return pd.concat(batch)"
   ]
  },
  {
   "cell_type": "code",
   "execution_count": 3,
   "metadata": {},
   "outputs": [],
   "source": [
    "def main(base_folder, local_path, *args, **kwargs):\n",
    "    bk.load.current_session_linux(\n",
    "        base_folder=base_folder, local_path=local_path)\n",
    "    bla_channels = bk.load.bla_channels()\n",
    "    states = bk.load.states()\n",
    "    \n",
    "    lfp = bk.load.lfp_in_intervals(bla_channels['left'],states['Rem'])\n",
    "    \n",
    "    t,f,Sxx = bk.signal.wavelet_spectrogram_intervals(lfp,states['Rem'],32,0.5,20,50)\n",
    "\n",
    "    power = bk.signal.wavelet_bandpower(lfp, 6, 10)\n",
    "    power_baseline = bk.signal.wavelet_bandpower(lfp, 0.5, 4)\n",
    "    power = nts.Tsd(power.index.values,power.values/power_baseline.values)\n",
    "    power = bk.compute.nts_zscore(power)\n",
    "\n",
    "    theta_bouts = bk.signal.power_bouts(lfp, 6, 10, 1.5, norm=True)\n",
    "    # theta_bouts = theta_bouts.drop_short_intervals(0.2, 's')\n",
    "    if len(theta_bouts) == 0:\n",
    "        return None\n",
    "    theta_bouts_rates = bk.compute.interval_rates(theta_bouts, 10)\n",
    "    \n",
    "    fig, ax = plt.subplots(3, 1, True)\n",
    "    ax[0].pcolor(t, f, Sxx)\n",
    "    ax[1].plot(power.as_units('s'))\n",
    "    # ax[1].plot(theta_bouts_rates.as_units('s'), 'r')\n",
    "    # ax[1].set_ylim(-4,4)\n",
    "    plt.sca(ax[1])\n",
    "    plt.axhline(1.5,color = 'red')\n",
    "    bk.plot.intervals(theta_bouts, time_units='s')\n",
    "    ax[2].plot(lfp.as_units('s'))\n",
    "\n",
    "    plt.suptitle('REM Theta Bouts BLA')\n",
    "\n",
    "    ax[1].set_ylabel('Power (average wavelet')\n",
    "    ax[0].set_ylabel('Freq')\n",
    "    ax[2].set_xlabel('Time (s)')\n",
    "    ax[2].set_ylabel('LFP')\n"
   ]
  },
  {
   "cell_type": "code",
   "execution_count": 5,
   "metadata": {},
   "outputs": [
    {
     "name": "stdout",
     "output_type": "stream",
     "text": [
      "Rat : 8 on day : 6\n",
      "Working with session Rat08-20130713 @ /mnt/electrophy/Gabrielle/GG-Dataset/Rat08/Rat08-20130713\n"
     ]
    },
    {
     "name": "stderr",
     "output_type": "stream",
     "text": [
      "/tmp/ipykernel_150246/2612961313.py:22: MatplotlibDeprecationWarning: Passing the sharex parameter of subplots() positionally is deprecated since Matplotlib 3.3; the parameter will become keyword-only two minor releases later.\n",
      "  fig, ax = plt.subplots(3, 1, True)\n",
      "/tmp/ipykernel_150246/2612961313.py:23: MatplotlibDeprecationWarning: shading='flat' when X and Y have the same dimensions as C is deprecated since 3.3.  Either specify the corners of the quadrilaterals with X and Y, or pass shading='auto', 'nearest' or 'gouraud', or set rcParams['pcolor.shading'].  This will become an error two minor releases later.\n",
      "  ax[0].pcolor(t, f, Sxx)\n"
     ]
    }
   ],
   "source": [
    "main(base_folder='/mnt/electrophy/Gabrielle/GG-Dataset',local_path='Rat08/Rat08-20130713')\n",
    "# main(base_folder='/mnt/electrophy/Gabrielle/GG-Dataset',local_path='Rat08/Rat08-20130713')\n",
    "# main(base_folder='/mnt/electrophy/Gabrielle/GG-Dataset',local_path='Rat08/Rat08-20130714')"
   ]
  },
  {
   "cell_type": "code",
   "execution_count": 4,
   "metadata": {},
   "outputs": [
    {
     "name": "stdout",
     "output_type": "stream",
     "text": [
      "Rat : 8 on day : 6\n",
      "Working with session Rat08-20130713 @ /home/billel/Data/GG-Dataset/Rat08/Rat08-20130713\n",
      "Data already saved in Numpy format, loading them from here:\n",
      "Rat08-20130713-neurons.npy\n",
      "Rat08-20130713-metadata.npy\n"
     ]
    }
   ],
   "source": [
    "bk.load.current_session_linux()\n",
    "neurons, metadata = bk.load.spikes()\n",
    "\n",
    "bla_channels = bk.load.bla_channels()\n",
    "states = bk.load.states()\n",
    "\n",
    "lfp = bk.load.lfp_in_intervals(bla_channels['left'],states['Rem'])\n",
    "\n",
    "# t,f,Sxx = bk.signal.wavelet_spectrogram_intervals(lfp,states['Rem'],32,0.5,20,50)\n",
    "\n",
    "# power = bk.signal.wavelet_bandpower(lfp, 6, 10)\n",
    "# power_baseline = bk.signal.wavelet_bandpower(lfp, 0.5, 4)\n",
    "# power = nts.Tsd(power.index.values,power.values/power_baseline.values)\n",
    "# power = bk.compute.nts_zscore(power)\n",
    "\n",
    "theta_bouts = bk.signal.power_bouts(lfp, 6, 10, 1.5)\n",
    "theta_bouts = theta_bouts.drop_short_intervals(0.2, 's')\n",
    "theta_bouts = theta_bouts.iloc[theta_bouts.duration('s')<15]\n",
    "no_theta_bouts = states['Rem'].set_diff(theta_bouts)"
   ]
  },
  {
   "cell_type": "code",
   "execution_count": 11,
   "metadata": {},
   "outputs": [],
   "source": [
    "f , sxx = scipy.signal.welch(lfp.restrict(theta_bouts).values,1250,nperseg=5000,noverlap=2500)"
   ]
  },
  {
   "cell_type": "code",
   "execution_count": 5,
   "metadata": {},
   "outputs": [
    {
     "ename": "NameError",
     "evalue": "name 'no_theta_bouts' is not defined",
     "output_type": "error",
     "traceback": [
      "\u001b[0;31m---------------------------------------------------------------------------\u001b[0m",
      "\u001b[0;31mNameError\u001b[0m                                 Traceback (most recent call last)",
      "\u001b[0;32m/tmp/ipykernel_154557/3913067838.py\u001b[0m in \u001b[0;36m<module>\u001b[0;34m\u001b[0m\n\u001b[1;32m      3\u001b[0m \u001b[0;32mfor\u001b[0m \u001b[0mn\u001b[0m \u001b[0;32min\u001b[0m \u001b[0mneurons\u001b[0m\u001b[0;34m:\u001b[0m\u001b[0;34m\u001b[0m\u001b[0;34m\u001b[0m\u001b[0m\n\u001b[1;32m      4\u001b[0m     \u001b[0mfr_theta\u001b[0m\u001b[0;34m.\u001b[0m\u001b[0mappend\u001b[0m\u001b[0;34m(\u001b[0m\u001b[0mlen\u001b[0m\u001b[0;34m(\u001b[0m\u001b[0mn\u001b[0m\u001b[0;34m.\u001b[0m\u001b[0mrestrict\u001b[0m\u001b[0;34m(\u001b[0m\u001b[0mtheta_bouts\u001b[0m\u001b[0;34m)\u001b[0m\u001b[0;34m)\u001b[0m\u001b[0;34m/\u001b[0m\u001b[0mtheta_bouts\u001b[0m\u001b[0;34m.\u001b[0m\u001b[0mtot_length\u001b[0m\u001b[0;34m(\u001b[0m\u001b[0;34m's'\u001b[0m\u001b[0;34m)\u001b[0m\u001b[0;34m)\u001b[0m\u001b[0;34m\u001b[0m\u001b[0;34m\u001b[0m\u001b[0m\n\u001b[0;32m----> 5\u001b[0;31m     \u001b[0mfr_notheta\u001b[0m\u001b[0;34m.\u001b[0m\u001b[0mappend\u001b[0m\u001b[0;34m(\u001b[0m\u001b[0mlen\u001b[0m\u001b[0;34m(\u001b[0m\u001b[0mn\u001b[0m\u001b[0;34m.\u001b[0m\u001b[0mrestrict\u001b[0m\u001b[0;34m(\u001b[0m\u001b[0mno_theta_bouts\u001b[0m\u001b[0;34m)\u001b[0m\u001b[0;34m)\u001b[0m\u001b[0;34m/\u001b[0m\u001b[0mno_theta_bouts\u001b[0m\u001b[0;34m.\u001b[0m\u001b[0mtot_length\u001b[0m\u001b[0;34m(\u001b[0m\u001b[0;34m's'\u001b[0m\u001b[0;34m)\u001b[0m\u001b[0;34m)\u001b[0m\u001b[0;34m\u001b[0m\u001b[0;34m\u001b[0m\u001b[0m\n\u001b[0m",
      "\u001b[0;31mNameError\u001b[0m: name 'no_theta_bouts' is not defined"
     ]
    }
   ],
   "source": [
    "fr_theta = []\n",
    "fr_notheta = []\n",
    "for n in neurons:\n",
    "    fr_theta.append(len(n.restrict(theta_bouts))/theta_bouts.tot_length('s'))\n",
    "    fr_notheta.append(len(n.restrict(no_theta_bouts))/no_theta_bouts.tot_length('s'))"
   ]
  },
  {
   "cell_type": "code",
   "execution_count": 29,
   "metadata": {},
   "outputs": [],
   "source": [
    "df = pd.DataFrame([fr_notheta,fr_theta]).T"
   ]
  },
  {
   "cell_type": "code",
   "execution_count": 33,
   "metadata": {},
   "outputs": [
    {
     "data": {
      "text/plain": [
       "<AxesSubplot:>"
      ]
     },
     "execution_count": 33,
     "metadata": {},
     "output_type": "execute_result"
    }
   ],
   "source": [
    "sns.violinplot(data = df[metadata.Region == 'BLA'])"
   ]
  },
  {
   "cell_type": "code",
   "execution_count": 34,
   "metadata": {},
   "outputs": [
    {
     "data": {
      "text/html": [
       "<div>\n",
       "<style scoped>\n",
       "    .dataframe tbody tr th:only-of-type {\n",
       "        vertical-align: middle;\n",
       "    }\n",
       "\n",
       "    .dataframe tbody tr th {\n",
       "        vertical-align: top;\n",
       "    }\n",
       "\n",
       "    .dataframe thead th {\n",
       "        text-align: right;\n",
       "    }\n",
       "</style>\n",
       "<table border=\"1\" class=\"dataframe\">\n",
       "  <thead>\n",
       "    <tr style=\"text-align: right;\">\n",
       "      <th></th>\n",
       "      <th>0</th>\n",
       "      <th>1</th>\n",
       "    </tr>\n",
       "  </thead>\n",
       "  <tbody>\n",
       "    <tr>\n",
       "      <th>60</th>\n",
       "      <td>0.218683</td>\n",
       "      <td>0.401717</td>\n",
       "    </tr>\n",
       "    <tr>\n",
       "      <th>61</th>\n",
       "      <td>0.475436</td>\n",
       "      <td>0.339228</td>\n",
       "    </tr>\n",
       "    <tr>\n",
       "      <th>62</th>\n",
       "      <td>0.200090</td>\n",
       "      <td>0.249957</td>\n",
       "    </tr>\n",
       "    <tr>\n",
       "      <th>63</th>\n",
       "      <td>0.482518</td>\n",
       "      <td>0.276738</td>\n",
       "    </tr>\n",
       "    <tr>\n",
       "      <th>64</th>\n",
       "      <td>0.168217</td>\n",
       "      <td>0.223176</td>\n",
       "    </tr>\n",
       "    <tr>\n",
       "      <th>...</th>\n",
       "      <td>...</td>\n",
       "      <td>...</td>\n",
       "    </tr>\n",
       "    <tr>\n",
       "      <th>247</th>\n",
       "      <td>0.801246</td>\n",
       "      <td>0.785580</td>\n",
       "    </tr>\n",
       "    <tr>\n",
       "      <th>248</th>\n",
       "      <td>0.065074</td>\n",
       "      <td>0.017854</td>\n",
       "    </tr>\n",
       "    <tr>\n",
       "      <th>249</th>\n",
       "      <td>0.092520</td>\n",
       "      <td>0.089270</td>\n",
       "    </tr>\n",
       "    <tr>\n",
       "      <th>250</th>\n",
       "      <td>0.108013</td>\n",
       "      <td>0.062489</td>\n",
       "    </tr>\n",
       "    <tr>\n",
       "      <th>251</th>\n",
       "      <td>0.473665</td>\n",
       "      <td>0.571331</td>\n",
       "    </tr>\n",
       "  </tbody>\n",
       "</table>\n",
       "<p>94 rows × 2 columns</p>\n",
       "</div>"
      ],
      "text/plain": [
       "            0         1\n",
       "60   0.218683  0.401717\n",
       "61   0.475436  0.339228\n",
       "62   0.200090  0.249957\n",
       "63   0.482518  0.276738\n",
       "64   0.168217  0.223176\n",
       "..        ...       ...\n",
       "247  0.801246  0.785580\n",
       "248  0.065074  0.017854\n",
       "249  0.092520  0.089270\n",
       "250  0.108013  0.062489\n",
       "251  0.473665  0.571331\n",
       "\n",
       "[94 rows x 2 columns]"
      ]
     },
     "execution_count": 34,
     "metadata": {},
     "output_type": "execute_result"
    }
   ],
   "source": [
    "df[metadata.Region == 'BLA']"
   ]
  },
  {
   "cell_type": "code",
   "execution_count": 36,
   "metadata": {},
   "outputs": [],
   "source": [
    "bk.plot.intervals(no_theta_bouts)\n",
    "bk.plot.intervals(theta_bouts,'red')"
   ]
  },
  {
   "cell_type": "code",
   "execution_count": 35,
   "metadata": {},
   "outputs": [
    {
     "data": {
      "text/html": [
       "<div>\n",
       "<style scoped>\n",
       "    .dataframe tbody tr th:only-of-type {\n",
       "        vertical-align: middle;\n",
       "    }\n",
       "\n",
       "    .dataframe tbody tr th {\n",
       "        vertical-align: top;\n",
       "    }\n",
       "\n",
       "    .dataframe thead th {\n",
       "        text-align: right;\n",
       "    }\n",
       "</style>\n",
       "<table border=\"1\" class=\"dataframe\">\n",
       "  <thead>\n",
       "    <tr style=\"text-align: right;\">\n",
       "      <th></th>\n",
       "      <th>start</th>\n",
       "      <th>end</th>\n",
       "    </tr>\n",
       "  </thead>\n",
       "  <tbody>\n",
       "    <tr>\n",
       "      <th>0</th>\n",
       "      <td>1927000000</td>\n",
       "      <td>1930337600</td>\n",
       "    </tr>\n",
       "    <tr>\n",
       "      <th>1</th>\n",
       "      <td>1930546400</td>\n",
       "      <td>1948744800</td>\n",
       "    </tr>\n",
       "    <tr>\n",
       "      <th>2</th>\n",
       "      <td>1948990400</td>\n",
       "      <td>1949092000</td>\n",
       "    </tr>\n",
       "    <tr>\n",
       "      <th>3</th>\n",
       "      <td>1949328800</td>\n",
       "      <td>1950888000</td>\n",
       "    </tr>\n",
       "    <tr>\n",
       "      <th>4</th>\n",
       "      <td>1951216800</td>\n",
       "      <td>1952005600</td>\n",
       "    </tr>\n",
       "    <tr>\n",
       "      <th>...</th>\n",
       "      <td>...</td>\n",
       "      <td>...</td>\n",
       "    </tr>\n",
       "    <tr>\n",
       "      <th>369</th>\n",
       "      <td>21934737600</td>\n",
       "      <td>21935128000</td>\n",
       "    </tr>\n",
       "    <tr>\n",
       "      <th>370</th>\n",
       "      <td>21935545600</td>\n",
       "      <td>21937792800</td>\n",
       "    </tr>\n",
       "    <tr>\n",
       "      <th>371</th>\n",
       "      <td>21938172000</td>\n",
       "      <td>21938337600</td>\n",
       "    </tr>\n",
       "    <tr>\n",
       "      <th>372</th>\n",
       "      <td>21938733600</td>\n",
       "      <td>21950388000</td>\n",
       "    </tr>\n",
       "    <tr>\n",
       "      <th>373</th>\n",
       "      <td>21950629600</td>\n",
       "      <td>21953000000</td>\n",
       "    </tr>\n",
       "  </tbody>\n",
       "</table>\n",
       "<p>374 rows × 2 columns</p>\n",
       "</div>"
      ],
      "text/plain": [
       "           start          end\n",
       "0     1927000000   1930337600\n",
       "1     1930546400   1948744800\n",
       "2     1948990400   1949092000\n",
       "3     1949328800   1950888000\n",
       "4     1951216800   1952005600\n",
       "..           ...          ...\n",
       "369  21934737600  21935128000\n",
       "370  21935545600  21937792800\n",
       "371  21938172000  21938337600\n",
       "372  21938733600  21950388000\n",
       "373  21950629600  21953000000\n",
       "\n",
       "[374 rows x 2 columns]"
      ]
     },
     "execution_count": 35,
     "metadata": {},
     "output_type": "execute_result"
    }
   ],
   "source": [
    "no_theta_bouts"
   ]
  },
  {
   "cell_type": "code",
   "execution_count": 46,
   "metadata": {},
   "outputs": [],
   "source": [
    "fr = bk.compute.binSpikes(neurons[metadata.Region == 'BLA'],0.025,as_Tsd=True)\n",
    "z_fr = bk.compute.nts_zscore(fr)"
   ]
  },
  {
   "cell_type": "code",
   "execution_count": 49,
   "metadata": {},
   "outputs": [
    {
     "name": "stderr",
     "output_type": "stream",
     "text": [
      "/tmp/ipykernel_154557/4160410391.py:1: MatplotlibDeprecationWarning: Passing the sharex parameter of subplots() positionally is deprecated since Matplotlib 3.3; the parameter will become keyword-only two minor releases later.\n",
      "  fig,ax = plt.subplots(3,1,True)\n"
     ]
    }
   ],
   "source": [
    "fig,ax = plt.subplots(3,1,True)\n",
    "plt.sca(ax[0])\n",
    "bk.plot.intervals(no_theta_bouts)\n",
    "bk.plot.intervals(theta_bouts,'red')\n",
    "ax[1].plot(fr.restrict(states['Rem']).as_units('s'))\n",
    "plt.sca(ax[2])\n",
    "bk.plot.rasterPlot(neurons[metadata.Region == 'BLA'])"
   ]
  },
  {
   "cell_type": "code",
   "execution_count": 39,
   "metadata": {},
   "outputs": [],
   "source": [
    "from scipy.stats import zscore"
   ]
  },
  {
   "cell_type": "code",
   "execution_count": 43,
   "metadata": {},
   "outputs": [
    {
     "data": {
      "text/plain": [
       "<matplotlib.image.AxesImage at 0x7ff3f1b32b50>"
      ]
     },
     "execution_count": 43,
     "metadata": {},
     "output_type": "execute_result"
    }
   ],
   "source": [
    "plt.imshow(zscore(fr.values,axis = 0).T,aspect = 'auto')"
   ]
  },
  {
   "cell_type": "code",
   "execution_count": 24,
   "metadata": {},
   "outputs": [
    {
     "data": {
      "text/plain": [
       "array([0.00000000e+00, 8.00000000e-04, 1.60000000e-03, ...,\n",
       "       1.40023998e+05, 1.40023998e+05, 1.40023999e+05])"
      ]
     },
     "execution_count": 24,
     "metadata": {},
     "output_type": "execute_result"
    }
   ],
   "source": [
    "np.arange(0,len(lfp_theta_bla),1/1250)"
   ]
  },
  {
   "cell_type": "code",
   "execution_count": 49,
   "metadata": {},
   "outputs": [
    {
     "ename": "AttributeError",
     "evalue": "module 'numpy' has no attribute 'dim'",
     "output_type": "error",
     "traceback": [
      "\u001b[0;31m---------------------------------------------------------------------------\u001b[0m",
      "\u001b[0;31mAttributeError\u001b[0m                            Traceback (most recent call last)",
      "\u001b[0;32m/tmp/ipykernel_153646/1395438679.py\u001b[0m in \u001b[0;36m<module>\u001b[0;34m\u001b[0m\n\u001b[0;32m----> 1\u001b[0;31m \u001b[0mnp\u001b[0m\u001b[0;34m.\u001b[0m\u001b[0mdim\u001b[0m\u001b[0;34m(\u001b[0m\u001b[0mlfp\u001b[0m\u001b[0;34m)\u001b[0m\u001b[0;34m\u001b[0m\u001b[0;34m\u001b[0m\u001b[0m\n\u001b[0m",
      "\u001b[0;32m~/anaconda3/lib/python3.9/site-packages/numpy/__init__.py\u001b[0m in \u001b[0;36m__getattr__\u001b[0;34m(attr)\u001b[0m\n\u001b[1;32m    301\u001b[0m                 \u001b[0;32mreturn\u001b[0m \u001b[0mTester\u001b[0m\u001b[0;34m\u001b[0m\u001b[0;34m\u001b[0m\u001b[0m\n\u001b[1;32m    302\u001b[0m \u001b[0;34m\u001b[0m\u001b[0m\n\u001b[0;32m--> 303\u001b[0;31m             raise AttributeError(\"module {!r} has no attribute \"\n\u001b[0m\u001b[1;32m    304\u001b[0m                                  \"{!r}\".format(__name__, attr))\n\u001b[1;32m    305\u001b[0m \u001b[0;34m\u001b[0m\u001b[0m\n",
      "\u001b[0;31mAttributeError\u001b[0m: module 'numpy' has no attribute 'dim'"
     ]
    }
   ],
   "source": [
    "np.dim(lfp)"
   ]
  },
  {
   "cell_type": "code",
   "execution_count": 5,
   "metadata": {},
   "outputs": [],
   "source": [
    "lfp_theta_bla = lfp.restrict(theta_bouts)\n"
   ]
  },
  {
   "cell_type": "code",
   "execution_count": 15,
   "metadata": {},
   "outputs": [],
   "source": [
    "t,f,Sxx = bk.signal.wavelet_spectrogram(lfp_theta_bla,0.5,20,50)\n",
    "told = t\n",
    "Sxx,t = scipy.signal.resample(Sxx,3000,t,axis = 1)\n",
    "\n"
   ]
  },
  {
   "cell_type": "code",
   "execution_count": 29,
   "metadata": {},
   "outputs": [
    {
     "name": "stderr",
     "output_type": "stream",
     "text": [
      "/tmp/ipykernel_155662/3970369101.py:1: MatplotlibDeprecationWarning: Passing the sharex parameter of subplots() positionally is deprecated since Matplotlib 3.3; the parameter will become keyword-only two minor releases later.\n",
      "  fig,ax = plt.subplots(2,1,True)\n",
      "/tmp/ipykernel_155662/3970369101.py:5: MatplotlibDeprecationWarning: shading='flat' when X and Y have the same dimensions as C is deprecated since 3.3.  Either specify the corners of the quadrilaterals with X and Y, or pass shading='auto', 'nearest' or 'gouraud', or set rcParams['pcolor.shading'].  This will become an error two minor releases later.\n",
      "  ax[1].pcolor(t,f,Sxx)\n"
     ]
    },
    {
     "data": {
      "text/plain": [
       "<matplotlib.collections.PolyCollection at 0x7f92cf0ed790>"
      ]
     },
     "execution_count": 29,
     "metadata": {},
     "output_type": "execute_result"
    }
   ],
   "source": [
    "fig,ax = plt.subplots(2,1,True)\n",
    "t = t-t[0]\n",
    "tlfp = np.linspace(0,t[-1],len(lfp_theta_bla))\n",
    "ax[0].plot(tlfp,lfp_theta_bla.values)\n",
    "ax[1].pcolor(t,f,Sxx)"
   ]
  },
  {
   "cell_type": "code",
   "execution_count": 60,
   "metadata": {},
   "outputs": [
    {
     "data": {
      "text/plain": [
       "(3000, 140024)"
      ]
     },
     "execution_count": 60,
     "metadata": {},
     "output_type": "execute_result"
    }
   ],
   "source": [
    "np.linspace()"
   ]
  },
  {
   "cell_type": "code",
   "execution_count": 44,
   "metadata": {},
   "outputs": [
    {
     "data": {
      "text/html": [
       "<div>\n",
       "<style scoped>\n",
       "    .dataframe tbody tr th:only-of-type {\n",
       "        vertical-align: middle;\n",
       "    }\n",
       "\n",
       "    .dataframe tbody tr th {\n",
       "        vertical-align: top;\n",
       "    }\n",
       "\n",
       "    .dataframe thead th {\n",
       "        text-align: right;\n",
       "    }\n",
       "</style>\n",
       "<table border=\"1\" class=\"dataframe\">\n",
       "  <thead>\n",
       "    <tr style=\"text-align: right;\">\n",
       "      <th></th>\n",
       "      <th>start</th>\n",
       "      <th>end</th>\n",
       "    </tr>\n",
       "  </thead>\n",
       "  <tbody>\n",
       "    <tr>\n",
       "      <th>0</th>\n",
       "      <td>1927000000</td>\n",
       "      <td>2013000000</td>\n",
       "    </tr>\n",
       "    <tr>\n",
       "      <th>1</th>\n",
       "      <td>2430000000</td>\n",
       "      <td>2603000000</td>\n",
       "    </tr>\n",
       "    <tr>\n",
       "      <th>2</th>\n",
       "      <td>3276000000</td>\n",
       "      <td>3371000000</td>\n",
       "    </tr>\n",
       "    <tr>\n",
       "      <th>3</th>\n",
       "      <td>3842000000</td>\n",
       "      <td>3887000000</td>\n",
       "    </tr>\n",
       "    <tr>\n",
       "      <th>4</th>\n",
       "      <td>3917000000</td>\n",
       "      <td>3969000000</td>\n",
       "    </tr>\n",
       "    <tr>\n",
       "      <th>5</th>\n",
       "      <td>3993000000</td>\n",
       "      <td>4023000000</td>\n",
       "    </tr>\n",
       "    <tr>\n",
       "      <th>6</th>\n",
       "      <td>4530000000</td>\n",
       "      <td>4567000000</td>\n",
       "    </tr>\n",
       "    <tr>\n",
       "      <th>7</th>\n",
       "      <td>4677000000</td>\n",
       "      <td>4838000000</td>\n",
       "    </tr>\n",
       "    <tr>\n",
       "      <th>8</th>\n",
       "      <td>4864000000</td>\n",
       "      <td>4920000000</td>\n",
       "    </tr>\n",
       "    <tr>\n",
       "      <th>9</th>\n",
       "      <td>5427000000</td>\n",
       "      <td>5488000000</td>\n",
       "    </tr>\n",
       "    <tr>\n",
       "      <th>10</th>\n",
       "      <td>6070000000</td>\n",
       "      <td>6206000000</td>\n",
       "    </tr>\n",
       "    <tr>\n",
       "      <th>11</th>\n",
       "      <td>7312000000</td>\n",
       "      <td>7374000000</td>\n",
       "    </tr>\n",
       "    <tr>\n",
       "      <th>12</th>\n",
       "      <td>7760000000</td>\n",
       "      <td>7787000000</td>\n",
       "    </tr>\n",
       "    <tr>\n",
       "      <th>13</th>\n",
       "      <td>7910000000</td>\n",
       "      <td>8030000000</td>\n",
       "    </tr>\n",
       "    <tr>\n",
       "      <th>14</th>\n",
       "      <td>8798000000</td>\n",
       "      <td>8852000000</td>\n",
       "    </tr>\n",
       "    <tr>\n",
       "      <th>15</th>\n",
       "      <td>9334000000</td>\n",
       "      <td>9402000000</td>\n",
       "    </tr>\n",
       "    <tr>\n",
       "      <th>16</th>\n",
       "      <td>16146000000</td>\n",
       "      <td>16405000000</td>\n",
       "    </tr>\n",
       "    <tr>\n",
       "      <th>17</th>\n",
       "      <td>16766000000</td>\n",
       "      <td>16787000000</td>\n",
       "    </tr>\n",
       "    <tr>\n",
       "      <th>18</th>\n",
       "      <td>17260000000</td>\n",
       "      <td>17363000000</td>\n",
       "    </tr>\n",
       "    <tr>\n",
       "      <th>19</th>\n",
       "      <td>17430000000</td>\n",
       "      <td>17496000000</td>\n",
       "    </tr>\n",
       "    <tr>\n",
       "      <th>20</th>\n",
       "      <td>17811000000</td>\n",
       "      <td>17851000000</td>\n",
       "    </tr>\n",
       "    <tr>\n",
       "      <th>21</th>\n",
       "      <td>18077000000</td>\n",
       "      <td>18131000000</td>\n",
       "    </tr>\n",
       "    <tr>\n",
       "      <th>22</th>\n",
       "      <td>18529000000</td>\n",
       "      <td>18614000000</td>\n",
       "    </tr>\n",
       "    <tr>\n",
       "      <th>23</th>\n",
       "      <td>18980000000</td>\n",
       "      <td>19084000000</td>\n",
       "    </tr>\n",
       "    <tr>\n",
       "      <th>24</th>\n",
       "      <td>19168000000</td>\n",
       "      <td>19186000000</td>\n",
       "    </tr>\n",
       "    <tr>\n",
       "      <th>25</th>\n",
       "      <td>19449000000</td>\n",
       "      <td>19545000000</td>\n",
       "    </tr>\n",
       "    <tr>\n",
       "      <th>26</th>\n",
       "      <td>19772000000</td>\n",
       "      <td>19817000000</td>\n",
       "    </tr>\n",
       "    <tr>\n",
       "      <th>27</th>\n",
       "      <td>21287000000</td>\n",
       "      <td>21358000000</td>\n",
       "    </tr>\n",
       "    <tr>\n",
       "      <th>28</th>\n",
       "      <td>21630000000</td>\n",
       "      <td>21674000000</td>\n",
       "    </tr>\n",
       "    <tr>\n",
       "      <th>29</th>\n",
       "      <td>21851000000</td>\n",
       "      <td>21953000000</td>\n",
       "    </tr>\n",
       "  </tbody>\n",
       "</table>\n",
       "</div>"
      ],
      "text/plain": [
       "          start          end\n",
       "0    1927000000   2013000000\n",
       "1    2430000000   2603000000\n",
       "2    3276000000   3371000000\n",
       "3    3842000000   3887000000\n",
       "4    3917000000   3969000000\n",
       "5    3993000000   4023000000\n",
       "6    4530000000   4567000000\n",
       "7    4677000000   4838000000\n",
       "8    4864000000   4920000000\n",
       "9    5427000000   5488000000\n",
       "10   6070000000   6206000000\n",
       "11   7312000000   7374000000\n",
       "12   7760000000   7787000000\n",
       "13   7910000000   8030000000\n",
       "14   8798000000   8852000000\n",
       "15   9334000000   9402000000\n",
       "16  16146000000  16405000000\n",
       "17  16766000000  16787000000\n",
       "18  17260000000  17363000000\n",
       "19  17430000000  17496000000\n",
       "20  17811000000  17851000000\n",
       "21  18077000000  18131000000\n",
       "22  18529000000  18614000000\n",
       "23  18980000000  19084000000\n",
       "24  19168000000  19186000000\n",
       "25  19449000000  19545000000\n",
       "26  19772000000  19817000000\n",
       "27  21287000000  21358000000\n",
       "28  21630000000  21674000000\n",
       "29  21851000000  21953000000"
      ]
     },
     "execution_count": 44,
     "metadata": {},
     "output_type": "execute_result"
    }
   ],
   "source": [
    "states['Rem']"
   ]
  },
  {
   "cell_type": "code",
   "execution_count": 81,
   "metadata": {},
   "outputs": [],
   "source": [
    "def voss(nrows, ncols=16):\n",
    "    \"\"\"Generates pink noise using the Voss-McCartney algorithm.\n",
    "    \n",
    "    nrows: number of values to generate\n",
    "    rcols: number of random sources to add\n",
    "    \n",
    "    returns: NumPy array\n",
    "    \"\"\"\n",
    "    array = np.empty((nrows, ncols))\n",
    "    array.fill(np.nan)\n",
    "    array[0, :] = np.random.random(ncols)\n",
    "    array[:, 0] = np.random.random(nrows)\n",
    "    \n",
    "    # the total number of changes is nrows\n",
    "    n = nrows\n",
    "    cols = np.random.geometric(0.5, n)\n",
    "    cols[cols >= ncols] = 0\n",
    "    rows = np.random.randint(nrows, size=n)\n",
    "    array[rows, cols] = np.random.random(n)\n",
    "\n",
    "    df = pd.DataFrame(array)\n",
    "    df.fillna(method='ffill', axis=0, inplace=True)\n",
    "    total = df.sum(axis=1)\n",
    "\n",
    "    return total.values"
   ]
  },
  {
   "cell_type": "code",
   "execution_count": 90,
   "metadata": {},
   "outputs": [
    {
     "name": "stdout",
     "output_type": "stream",
     "text": [
      "Rat : 8 on day : 6\n",
      "Working with session Rat08-20130713 @ /home/billel/Data/GG-Dataset/Rat08/Rat08-20130713\n"
     ]
    }
   ],
   "source": [
    "bk.load.current_session_linux()\n",
    "states = bk.load.states()\n",
    "lfp_bla = bk.load.lfp_in_intervals(bk.load.bla_channels()['left'],states['Rem'])\n"
   ]
  },
  {
   "cell_type": "code",
   "execution_count": 84,
   "metadata": {},
   "outputs": [],
   "source": [
    "y = voss(10000*1250)*1000"
   ]
  },
  {
   "cell_type": "code",
   "execution_count": 96,
   "metadata": {},
   "outputs": [
    {
     "name": "stderr",
     "output_type": "stream",
     "text": [
      "/tmp/ipykernel_155662/275949914.py:5: RuntimeWarning: divide by zero encountered in log\n",
      "  plt.plot(f,np.log(Sx*f))\n"
     ]
    },
    {
     "data": {
      "text/plain": [
       "(0.0, 100.0)"
      ]
     },
     "execution_count": 96,
     "metadata": {},
     "output_type": "execute_result"
    }
   ],
   "source": [
    "f, Sx = scipy.signal.welch(lfp_bla.values,1250,nperseg=5000,noverlap = 4500)\n",
    "f, sx0 = scipy.signal.welch(y,1250,nperseg=5000,noverlap = 4500)\n",
    "Sx_Log = 10*np.log10(Sx/sx0)\n",
    "plt.plot(f,Sx_Log)\n",
    "plt.plot(f,np.log(Sx*f))\n",
    "\n",
    "# f, Sx = scipy.signal.welch(lfp_hpc.values,1250,nperseg=5000,noverlap = 4500)\n",
    "# f, sx0 = scipy.signal.welch(y,1250,nperseg=5000,noverlap = 4500)\n",
    "# Sx_Log = 10*np.log10(Sx/sx0)\n",
    "# plt.plot(f,Sx_Log)\n",
    "\n",
    "plt.xlim(0,100)"
   ]
  },
  {
   "cell_type": "code",
   "execution_count": 40,
   "metadata": {},
   "outputs": [
    {
     "data": {
      "text/plain": [
       "[<matplotlib.lines.Line2D at 0x7f92e282d100>]"
      ]
     },
     "execution_count": 40,
     "metadata": {},
     "output_type": "execute_result"
    }
   ],
   "source": [
    "plt.plot(lfp)"
   ]
  },
  {
   "cell_type": "code",
   "execution_count": 55,
   "metadata": {},
   "outputs": [],
   "source": [
    "f,sx0 =  scipy.signal.welch(lfp_bla.values,1250,nperseg=5000,noverlap=4500)"
   ]
  },
  {
   "cell_type": "code",
   "execution_count": 57,
   "metadata": {},
   "outputs": [
    {
     "data": {
      "text/plain": [
       "[<matplotlib.lines.Line2D at 0x7f92b9076670>]"
      ]
     },
     "execution_count": 57,
     "metadata": {},
     "output_type": "execute_result"
    }
   ],
   "source": [
    "plt.plot(f,Sx_Log)"
   ]
  },
  {
   "cell_type": "code",
   "execution_count": null,
   "metadata": {},
   "outputs": [],
   "source": []
  }
 ],
 "metadata": {
  "interpreter": {
   "hash": "dc93b3fb48dfd2593d4a40b397dc62a97606514bfa701f6565ff70ef36514844"
  },
  "kernelspec": {
   "display_name": "Python 3.9.7 ('base')",
   "language": "python",
   "name": "python3"
  },
  "language_info": {
   "codemirror_mode": {
    "name": "ipython",
    "version": 3
   },
   "file_extension": ".py",
   "mimetype": "text/x-python",
   "name": "python",
   "nbconvert_exporter": "python",
   "pygments_lexer": "ipython3",
   "version": "3.9.7"
  },
  "orig_nbformat": 4
 },
 "nbformat": 4,
 "nbformat_minor": 2
}
