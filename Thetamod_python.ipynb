{
 "cells": [
  {
   "cell_type": "code",
   "execution_count": 2,
   "id": "a84343ec",
   "metadata": {},
   "outputs": [],
   "source": [
    "import astropy.stats as apy"
   ]
  },
  {
   "cell_type": "code",
   "execution_count": 3,
   "id": "a20422e3",
   "metadata": {},
   "outputs": [],
   "source": [
    "import bk.load\n",
    "import bk.compute\n",
    "import bk.plot\n",
    "import bk.signal"
   ]
  },
  {
   "cell_type": "code",
   "execution_count": 4,
   "id": "2a8bf8ec",
   "metadata": {},
   "outputs": [],
   "source": [
    "import pandas as pd\n",
    "import numpy as np\n",
    "import scipy as sp"
   ]
  },
  {
   "cell_type": "code",
   "execution_count": 5,
   "id": "b96d75f6",
   "metadata": {},
   "outputs": [],
   "source": [
    "import matplotlib.pyplot as plt"
   ]
  },
  {
   "cell_type": "code",
   "execution_count": 6,
   "id": "dce45a11",
   "metadata": {},
   "outputs": [],
   "source": [
    "import scipy.signal\n",
    "import scipy.stats"
   ]
  },
  {
   "cell_type": "code",
   "execution_count": null,
   "id": "cf06246e-fb22-42d1-8b81-a5eb1d1b5d86",
   "metadata": {},
   "outputs": [],
   "source": []
  },
  {
   "cell_type": "code",
   "execution_count": 7,
   "id": "1c2469bb",
   "metadata": {},
   "outputs": [
    {
     "name": "stdout",
     "output_type": "stream",
     "text": [
      "Rat : 8 on day : 6\n",
      "Working with session Rat08-20130713 @ /home/billel/Data/GG-Dataset/Rat08/Rat08-20130713\n",
      "Data already saved in Numpy format, loading them from here:\n",
      "Rat08-20130713-neurons.npy\n",
      "Rat08-20130713-metadata.npy\n"
     ]
    }
   ],
   "source": [
    "bk.load.current_session_linux()\n",
    "states = bk.load.states()\n",
    "lfp = bk.load.lfp_in_intervals(166,23,states['Rem'])\n",
    "lfp_filt = bk.signal.passband(lfp,4,12)\n",
    "power,phase = bk.signal.hilbert(lfp_filt)\n",
    "\n",
    "neurons,metadata = bk.load.loadSpikeData(bk.load.path)"
   ]
  },
  {
   "cell_type": "code",
   "execution_count": 18,
   "id": "44174dea-8abd-483b-b575-a90fc4469174",
   "metadata": {},
   "outputs": [],
   "source": [
    "neurons_phase = []\n",
    "for i,n in enumerate(neurons):\n",
    "    neurons_phase.append(phase.realign(n.restrict(states['Rem'])))\n",
    "\n",
    "a = []\n",
    "pvalue = []\n",
    "for i,p in enumerate(neurons_phase):\n",
    "#     print(p.values)\n",
    "    im = np.exp(1j* p.values)\n",
    "#     print(im)\n",
    "    pvalue.append(apy.rayleightest(p.values))\n",
    "    a.append(np.abs((np.nanmean(im))))\n",
    "#     print(np.abs(np.nanmean(p)))\n",
    "#     if pvalue < 0.001 and rvalue > 0.04: print(1)\n",
    "count = 0\n",
    "for i in range(len(neurons)):\n",
    "#     fig,ax = plt.subplot_mosaic('''\n",
    "#                                 A.\n",
    "#                                 BC\n",
    "#                                 ''')\n",
    "#     polar_ax = fig.add_subplot(2,2,2,polar=True)                                       \n",
    "#     ax['A'].plot(lfp)\n",
    "#     ax['A'].plot(lfp_filt)\n",
    "#     plt.sca(ax['A'])\n",
    "#     bk.plot.intervals(states['Rem'],time_units='us')\n",
    "#     ax['B'].plot(phase)\n",
    "#     ax['B'].plot(neurons_phase[i],'ro')\n",
    "\n",
    "#     h,a_bin = np.histogram(neurons_phase[i].values,50)\n",
    "#     a_bin = np.convolve(a_bin,[.5,.5],'same')[1::]\n",
    "# #     a = a*(360/np.pi)\n",
    "#     polar_ax.bar(a_bin,h,a_bin[1]-a_bin[0])\n",
    "#     ax['C'].bar(a_bin,h,a_bin[1]-a_bin[0],color ='blue')\n",
    "#     ax['C'].bar(a_bin+2*np.pi,h,a_bin[1]-a_bin[0],color ='blue')\n",
    "# #     ax['C'].set_xlim([])\n",
    "\n",
    "#     ax['A'].get_shared_x_axes().join(ax['A'], ax['B']) \n",
    "#     plt.suptitle(f'Neuron #{i} pVal = {pvalue[i]}, MRL = {a[i]}')\n",
    "    \n",
    "    if (pvalue[i] <0.001) and (a[i] > 0.04): count += 1"
   ]
  },
  {
   "cell_type": "code",
   "execution_count": 17,
   "id": "f816f00b-eff7-4d8d-8a38-b8f582e33848",
   "metadata": {},
   "outputs": [
    {
     "data": {
      "text/plain": [
       "20"
      ]
     },
     "execution_count": 17,
     "metadata": {},
     "output_type": "execute_result"
    }
   ],
   "source": [
    "count"
   ]
  },
  {
   "cell_type": "code",
   "execution_count": 39,
   "id": "ba7acb2f",
   "metadata": {},
   "outputs": [
    {
     "name": "stdout",
     "output_type": "stream",
     "text": [
      "Data already saved in Numpy format, loading them from here:\n",
      "Rat11-20150330-neurons.npy\n",
      "Rat11-20150330-metadata.npy\n"
     ]
    }
   ],
   "source": [
    "apy.rayleightest()"
   ]
  },
  {
   "cell_type": "code",
   "execution_count": 15,
   "id": "8393c68e-cd6c-43e7-8009-ffa97a46b6d1",
   "metadata": {},
   "outputs": [
    {
     "data": {
      "text/plain": [
       "Time (s)\n",
       "1932.60705     0.512474\n",
       "1934.18450    -0.866768\n",
       "1957.53985     0.989487\n",
       "1957.84760     2.477128\n",
       "1964.39475    -0.930833\n",
       "                 ...   \n",
       "21951.79420   -0.437793\n",
       "21951.88565   -2.127056\n",
       "21952.00285    2.710703\n",
       "21952.12010    1.858501\n",
       "21952.12950    2.361948\n",
       "Length: 1134, dtype: float64"
      ]
     },
     "execution_count": 15,
     "metadata": {},
     "output_type": "execute_result"
    }
   ],
   "source": [
    "p.as_units('s')"
   ]
  },
  {
   "cell_type": "code",
   "execution_count": 41,
   "id": "d7193082",
   "metadata": {},
   "outputs": [],
   "source": []
  },
  {
   "cell_type": "code",
   "execution_count": 16,
   "id": "145d2110",
   "metadata": {},
   "outputs": [],
   "source": []
  },
  {
   "cell_type": "code",
   "execution_count": 64,
   "id": "5f275df1",
   "metadata": {},
   "outputs": [],
   "source": [
    "\n"
   ]
  },
  {
   "cell_type": "code",
   "execution_count": 242,
   "id": "68aa7d74",
   "metadata": {},
   "outputs": [],
   "source": []
  },
  {
   "cell_type": "code",
   "execution_count": 243,
   "id": "45911e9b",
   "metadata": {},
   "outputs": [
    {
     "data": {
      "text/plain": [
       "(50,)"
      ]
     },
     "execution_count": 243,
     "metadata": {},
     "output_type": "execute_result"
    }
   ],
   "source": [
    "h.shape"
   ]
  },
  {
   "cell_type": "code",
   "execution_count": 247,
   "id": "f431c26c",
   "metadata": {},
   "outputs": [
    {
     "data": {
      "text/plain": [
       "array([-3.07790296, -2.95227438, -2.82664579, -2.70101721, -2.57538863,\n",
       "       -2.44976005, -2.32413147, -2.19850289, -2.0728743 , -1.94724572,\n",
       "       -1.82161714, -1.69598856, -1.57035998, -1.4447314 , -1.31910281,\n",
       "       -1.19347423, -1.06784565, -0.94221707, -0.81658849, -0.69095991,\n",
       "       -0.56533132, -0.43970274, -0.31407416, -0.18844558, -0.062817  ,\n",
       "        0.06281158,  0.18844017,  0.31406875,  0.43969733,  0.56532591,\n",
       "        0.69095449,  0.81658307,  0.94221166,  1.06784024,  1.19346882,\n",
       "        1.3190974 ,  1.44472598,  1.57035456,  1.69598315,  1.82161173,\n",
       "        1.94724031,  2.07286889,  2.19849747,  2.32412605,  2.44975464,\n",
       "        2.57538322,  2.7010118 ,  2.82664038,  2.95226896,  3.07789754])"
      ]
     },
     "execution_count": 247,
     "metadata": {},
     "output_type": "execute_result"
    }
   ],
   "source": [
    "t"
   ]
  },
  {
   "cell_type": "code",
   "execution_count": null,
   "id": "b656d45e",
   "metadata": {},
   "outputs": [],
   "source": []
  }
 ],
 "metadata": {
  "kernelspec": {
   "display_name": "Python 3",
   "language": "python",
   "name": "python3"
  },
  "language_info": {
   "codemirror_mode": {
    "name": "ipython",
    "version": 3
   },
   "file_extension": ".py",
   "mimetype": "text/x-python",
   "name": "python",
   "nbconvert_exporter": "python",
   "pygments_lexer": "ipython3",
   "version": "3.8.5"
  }
 },
 "nbformat": 4,
 "nbformat_minor": 5
}
