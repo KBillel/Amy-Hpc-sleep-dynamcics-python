{
 "cells": [
  {
   "cell_type": "code",
   "execution_count": 2,
   "metadata": {},
   "outputs": [],
   "source": [
    "import deeplabcut as dlc\n",
    "import sys\n",
    "import os\n",
    "import cv2\n",
    "import time\n",
    "import matplotlib.pyplot as plt\n",
    "# %matplotlib qt\n",
    "import pickle\n",
    "import numpy as np"
   ]
  },
  {
   "cell_type": "code",
   "execution_count": 3,
   "metadata": {},
   "outputs": [],
   "source": [
    "def onclick(event):\n",
    "    global x,y,pause\n",
    "    \n",
    "    plt.cla()\n",
    "    plt.imshow(frame)\n",
    "    try:\n",
    "        x\n",
    "    except:\n",
    "        x = [0,0]\n",
    "    try:\n",
    "        y\n",
    "    except:\n",
    "        y = [0,0]\n",
    "    \n",
    "    if str(event.button) == \"MouseButton.LEFT\":\n",
    "        x[0], y[0] = event.xdata, event.ydata\n",
    "    elif str(event.button) == \"MouseButton.RIGHT\":\n",
    "        x[1], y[1] = event.xdata, event.ydata\n",
    "    elif str(event.button) == \"MouseButton.MIDDLE\":\n",
    "        fig.canvas.mpl_disconnect(cid)\n",
    "        pause = False\n",
    "        \n",
    "    for i,j in zip(x,y):\n",
    "        plt.axvline(i)\n",
    "        plt.axhline(j)\n",
    "        plt.draw()"
   ]
  },
  {
   "cell_type": "code",
   "execution_count": 4,
   "metadata": {},
   "outputs": [],
   "source": [
    "config_path = 'D:/DeepLabCut_Tutorial_Temps/fear_tuto_dlc-Billel-2021-02-15/config.yaml'"
   ]
  },
  {
   "cell_type": "code",
   "execution_count": 5,
   "metadata": {},
   "outputs": [],
   "source": [
    "path = 'D:/DeepLabCut_Tutorial_Temps/MonExperience/'"
   ]
  },
  {
   "cell_type": "markdown",
   "metadata": {},
   "source": [
    "# Find Videos"
   ]
  },
  {
   "cell_type": "code",
   "execution_count": 6,
   "metadata": {},
   "outputs": [
    {
     "data": {
      "text/plain": [
       "['D:/DeepLabCut_Tutorial_Temps/MonExperience/Rat23\\\\Rat23-20210128_152809\\\\Basler_acA1300-200uc__23039139__20210128_152809881.mp4',\n",
       " 'D:/DeepLabCut_Tutorial_Temps/MonExperience/Rat23\\\\Rat23-20210128_210128_103618\\\\Basler_acA1300-200uc__23039139__20210128_103619873.mp4',\n",
       " 'D:/DeepLabCut_Tutorial_Temps/MonExperience/Rat23\\\\Rat23-20210128_210128_143126\\\\Basler_acA1300-200uc__23039139__20210128_143130383.mp4',\n",
       " 'D:/DeepLabCut_Tutorial_Temps/MonExperience/Rat24\\\\Rat24-20210129_210129_163341\\\\Basler_acA1300-200uc__23039139__20210129_163346459.mp4',\n",
       " 'D:/DeepLabCut_Tutorial_Temps/MonExperience/Rat24\\\\Rat24_20210129_210129_113321\\\\Basler_acA1300-200uc__23039139__20210129_113328761.mp4',\n",
       " 'D:/DeepLabCut_Tutorial_Temps/MonExperience/Rat24\\\\Rat24_20210129_210129_152259\\\\Basler_acA1300-200uc__23039139__20210129_152304254.mp4']"
      ]
     },
     "execution_count": 6,
     "metadata": {},
     "output_type": "execute_result"
    }
   ],
   "source": [
    "videos = []\n",
    "for subdirs, dirs, files in os.walk(path):\n",
    "    for file in files:\n",
    "        if file.endswith('.mp4') and not file.endswith('labeled.mp4'): videos.append(os.path.join(subdirs,file))\n",
    "# config_path = 'E:\\classical_fear_conditionning\\classical_fear_conditionning-BM-2020-11-20\\config.yaml'\n",
    "videos"
   ]
  },
  {
   "cell_type": "markdown",
   "metadata": {},
   "source": [
    "# Crop Videos"
   ]
  },
  {
   "cell_type": "code",
   "execution_count": 11,
   "metadata": {},
   "outputs": [
    {
     "data": {
      "text/plain": [
       "[([539.7597402597404, 858.3744588744592],\n",
       "  [183.46536796536782, 485.4567099567098]),\n",
       " ([470.49567099567105, 977.5086580086584],\n",
       "  [225.0238095238093, 521.4740259740258]),\n",
       " ([459.41341991341994, 1019.0670995670998],\n",
       "  [213.9415584415583, 485.4567099567098]),\n",
       " ([523.1363636363637, 863.9155844155846],\n",
       "  [169.61255411255388, 474.3744588744587]),\n",
       " ([462.1839826839828, 985.8203463203465],\n",
       "  [194.5476190476188, 518.7034632034631]),\n",
       " ([464.9545454545455, 1010.7554112554114],\n",
       "  [216.71212121212102, 504.8506493506492])]"
      ]
     },
     "execution_count": 11,
     "metadata": {},
     "output_type": "execute_result"
    }
   ],
   "source": [
    "crop = []\n",
    "for v in videos:\n",
    "    try:\n",
    "        del x,y\n",
    "    except:\n",
    "        pass\n",
    "    cap = cv2.VideoCapture(v)\n",
    "    ret,frame = cap.read()\n",
    "\n",
    "    pause = True\n",
    "    fig,ax = plt.subplots()\n",
    "    plt.imshow(frame)\n",
    "    cid = fig.canvas.mpl_connect('button_press_event', onclick)\n",
    "\n",
    "    while pause:\n",
    "        plt.pause(0.1)\n",
    "    plt.close('all')\n",
    "    crop.append((x,y))\n",
    "    \n",
    "crop"
   ]
  },
  {
   "cell_type": "markdown",
   "metadata": {},
   "source": [
    "# Analyse Videos : "
   ]
  },
  {
   "cell_type": "code",
   "execution_count": 12,
   "metadata": {},
   "outputs": [
    {
     "name": "stderr",
     "output_type": "stream",
     "text": [
      "Config:\n",
      "{'all_joints': [[0], [1], [2], [3], [4]],\n",
      " 'all_joints_names': ['snout',\n",
      "                      'left_ear',\n",
      "                      'right_ear',\n",
      "                      'base_tail',\n",
      "                      'end_tail'],\n",
      " 'batch_size': 1,\n",
      " 'crop_pad': 0,\n",
      " 'dataset': 'training-datasets\\\\iteration-1\\\\UnaugmentedDataSet_fear_tuto_dlcFeb15\\\\fear_tuto_dlc_Billel95shuffle1.mat',\n",
      " 'dataset_type': 'imgaug',\n",
      " 'deterministic': False,\n",
      " 'fg_fraction': 0.25,\n",
      " 'global_scale': 0.8,\n",
      " 'init_weights': 'C:\\\\Users\\\\Billel.Khouader\\\\.conda\\\\envs\\\\DLC-GPU\\\\lib\\\\site-packages\\\\deeplabcut\\\\pose_estimation_tensorflow\\\\models\\\\pretrained\\\\resnet_v1_50.ckpt',\n",
      " 'intermediate_supervision': False,\n",
      " 'intermediate_supervision_layer': 12,\n",
      " 'location_refinement': True,\n",
      " 'locref_huber_loss': True,\n",
      " 'locref_loss_weight': 1.0,\n",
      " 'locref_stdev': 7.2801,\n",
      " 'log_dir': 'log',\n",
      " 'mean_pixel': [123.68, 116.779, 103.939],\n",
      " 'mirror': False,\n",
      " 'net_type': 'resnet_50',\n",
      " 'num_joints': 5,\n",
      " 'optimizer': 'sgd',\n",
      " 'pairwise_huber_loss': True,\n",
      " 'pairwise_predict': False,\n",
      " 'partaffinityfield_predict': False,\n",
      " 'regularize': False,\n",
      " 'scoremap_dir': 'test',\n",
      " 'shuffle': True,\n",
      " 'snapshot_prefix': 'D:\\\\DeepLabCut_Tutorial_Temps\\\\fear_tuto_dlc-Billel-2021-02-15\\\\dlc-models\\\\iteration-1\\\\fear_tuto_dlcFeb15-trainset95shuffle1\\\\test\\\\snapshot',\n",
      " 'stride': 8.0,\n",
      " 'weigh_negatives': False,\n",
      " 'weigh_only_present_joints': False,\n",
      " 'weigh_part_predictions': False,\n",
      " 'weight_decay': 0.0001}\n"
     ]
    },
    {
     "name": "stdout",
     "output_type": "stream",
     "text": [
      "Overwriting cropping parameters: [539, 858, 183, 485]\n",
      "These are used for all videos, but won't be save to the cfg file.\n",
      "Using snapshot-1030000 for model D:/DeepLabCut_Tutorial_Temps/fear_tuto_dlc-Billel-2021-02-15\\dlc-models\\iteration-1\\fear_tuto_dlcFeb15-trainset95shuffle1\n",
      "Initializing ResNet\n"
     ]
    },
    {
     "name": "stderr",
     "output_type": "stream",
     "text": [
      "  0%|                                                                                     | 0/19667 [00:00<?, ?it/s]"
     ]
    },
    {
     "name": "stdout",
     "output_type": "stream",
     "text": [
      "Starting to analyze %  D:/DeepLabCut_Tutorial_Temps/MonExperience/Rat23\\Rat23-20210128_152809\\Basler_acA1300-200uc__23039139__20210128_152809881.mp4\n",
      "D:\\DeepLabCut_Tutorial_Temps\\MonExperience\\Rat23\\Rat23-20210128_152809  already exists!\n",
      "Loading  D:/DeepLabCut_Tutorial_Temps/MonExperience/Rat23\\Rat23-20210128_152809\\Basler_acA1300-200uc__23039139__20210128_152809881.mp4\n",
      "Duration of video [s]:  655.57 , recorded with  30.0 fps!\n",
      "Overall # of frames:  19667  found with (before cropping) frame dimensions:  1280 1024\n",
      "Starting to extract posture\n",
      "Cropping based on the x1 = 539 x2 = 858 y1 = 183 y2 = 485. You can adjust the cropping coordinates in the config.yaml file.\n"
     ]
    },
    {
     "name": "stderr",
     "output_type": "stream",
     "text": [
      "19796it [04:49, 68.36it/s]                                                                                          \n"
     ]
    },
    {
     "name": "stdout",
     "output_type": "stream",
     "text": [
      "Saving results in D:\\DeepLabCut_Tutorial_Temps\\MonExperience\\Rat23\\Rat23-20210128_152809...\n",
      "Saving csv poses!\n",
      "The videos are analyzed. Now your research can truly start! \n",
      " You can create labeled videos with 'create_labeled_video'\n",
      "If the tracking is not satisfactory for some videos, consider expanding the training set. You can use the function 'extract_outlier_frames' to extract a few representative outlier frames.\n",
      "Filtering with median model D:/DeepLabCut_Tutorial_Temps/MonExperience/Rat23\\Rat23-20210128_152809\\Basler_acA1300-200uc__23039139__20210128_152809881.mp4\n",
      "Saving filtered csv poses!\n"
     ]
    },
    {
     "name": "stderr",
     "output_type": "stream",
     "text": [
      "Config:\n",
      "{'all_joints': [[0], [1], [2], [3], [4]],\n",
      " 'all_joints_names': ['snout',\n",
      "                      'left_ear',\n",
      "                      'right_ear',\n",
      "                      'base_tail',\n",
      "                      'end_tail'],\n",
      " 'batch_size': 1,\n",
      " 'crop_pad': 0,\n",
      " 'dataset': 'training-datasets\\\\iteration-1\\\\UnaugmentedDataSet_fear_tuto_dlcFeb15\\\\fear_tuto_dlc_Billel95shuffle1.mat',\n",
      " 'dataset_type': 'imgaug',\n",
      " 'deterministic': False,\n",
      " 'fg_fraction': 0.25,\n",
      " 'global_scale': 0.8,\n",
      " 'init_weights': 'C:\\\\Users\\\\Billel.Khouader\\\\.conda\\\\envs\\\\DLC-GPU\\\\lib\\\\site-packages\\\\deeplabcut\\\\pose_estimation_tensorflow\\\\models\\\\pretrained\\\\resnet_v1_50.ckpt',\n",
      " 'intermediate_supervision': False,\n",
      " 'intermediate_supervision_layer': 12,\n",
      " 'location_refinement': True,\n",
      " 'locref_huber_loss': True,\n",
      " 'locref_loss_weight': 1.0,\n",
      " 'locref_stdev': 7.2801,\n",
      " 'log_dir': 'log',\n",
      " 'mean_pixel': [123.68, 116.779, 103.939],\n",
      " 'mirror': False,\n",
      " 'net_type': 'resnet_50',\n",
      " 'num_joints': 5,\n",
      " 'optimizer': 'sgd',\n",
      " 'pairwise_huber_loss': True,\n",
      " 'pairwise_predict': False,\n",
      " 'partaffinityfield_predict': False,\n",
      " 'regularize': False,\n",
      " 'scoremap_dir': 'test',\n",
      " 'shuffle': True,\n",
      " 'snapshot_prefix': 'D:\\\\DeepLabCut_Tutorial_Temps\\\\fear_tuto_dlc-Billel-2021-02-15\\\\dlc-models\\\\iteration-1\\\\fear_tuto_dlcFeb15-trainset95shuffle1\\\\test\\\\snapshot',\n",
      " 'stride': 8.0,\n",
      " 'weigh_negatives': False,\n",
      " 'weigh_only_present_joints': False,\n",
      " 'weigh_part_predictions': False,\n",
      " 'weight_decay': 0.0001}\n"
     ]
    },
    {
     "name": "stdout",
     "output_type": "stream",
     "text": [
      "Overwriting cropping parameters: [470, 977, 225, 521]\n",
      "These are used for all videos, but won't be save to the cfg file.\n",
      "Using snapshot-1030000 for model D:/DeepLabCut_Tutorial_Temps/fear_tuto_dlc-Billel-2021-02-15\\dlc-models\\iteration-1\\fear_tuto_dlcFeb15-trainset95shuffle1\n",
      "Initializing ResNet\n"
     ]
    },
    {
     "name": "stderr",
     "output_type": "stream",
     "text": [
      "  0%|                                                                                     | 0/19098 [00:00<?, ?it/s]"
     ]
    },
    {
     "name": "stdout",
     "output_type": "stream",
     "text": [
      "Starting to analyze %  D:/DeepLabCut_Tutorial_Temps/MonExperience/Rat23\\Rat23-20210128_210128_103618\\Basler_acA1300-200uc__23039139__20210128_103619873.mp4\n",
      "D:\\DeepLabCut_Tutorial_Temps\\MonExperience\\Rat23\\Rat23-20210128_210128_103618  already exists!\n",
      "Loading  D:/DeepLabCut_Tutorial_Temps/MonExperience/Rat23\\Rat23-20210128_210128_103618\\Basler_acA1300-200uc__23039139__20210128_103619873.mp4\n",
      "Duration of video [s]:  636.6 , recorded with  30.0 fps!\n",
      "Overall # of frames:  19098  found with (before cropping) frame dimensions:  1280 1024\n",
      "Starting to extract posture\n",
      "Cropping based on the x1 = 470 x2 = 977 y1 = 225 y2 = 521. You can adjust the cropping coordinates in the config.yaml file.\n"
     ]
    },
    {
     "name": "stderr",
     "output_type": "stream",
     "text": [
      "19190it [05:39, 56.53it/s]                                                                                          \n"
     ]
    },
    {
     "name": "stdout",
     "output_type": "stream",
     "text": [
      "Saving results in D:\\DeepLabCut_Tutorial_Temps\\MonExperience\\Rat23\\Rat23-20210128_210128_103618...\n",
      "Saving csv poses!\n",
      "The videos are analyzed. Now your research can truly start! \n",
      " You can create labeled videos with 'create_labeled_video'\n",
      "If the tracking is not satisfactory for some videos, consider expanding the training set. You can use the function 'extract_outlier_frames' to extract a few representative outlier frames.\n",
      "Filtering with median model D:/DeepLabCut_Tutorial_Temps/MonExperience/Rat23\\Rat23-20210128_210128_103618\\Basler_acA1300-200uc__23039139__20210128_103619873.mp4\n",
      "Saving filtered csv poses!\n"
     ]
    },
    {
     "name": "stderr",
     "output_type": "stream",
     "text": [
      "Config:\n",
      "{'all_joints': [[0], [1], [2], [3], [4]],\n",
      " 'all_joints_names': ['snout',\n",
      "                      'left_ear',\n",
      "                      'right_ear',\n",
      "                      'base_tail',\n",
      "                      'end_tail'],\n",
      " 'batch_size': 1,\n",
      " 'crop_pad': 0,\n",
      " 'dataset': 'training-datasets\\\\iteration-1\\\\UnaugmentedDataSet_fear_tuto_dlcFeb15\\\\fear_tuto_dlc_Billel95shuffle1.mat',\n",
      " 'dataset_type': 'imgaug',\n",
      " 'deterministic': False,\n",
      " 'fg_fraction': 0.25,\n",
      " 'global_scale': 0.8,\n",
      " 'init_weights': 'C:\\\\Users\\\\Billel.Khouader\\\\.conda\\\\envs\\\\DLC-GPU\\\\lib\\\\site-packages\\\\deeplabcut\\\\pose_estimation_tensorflow\\\\models\\\\pretrained\\\\resnet_v1_50.ckpt',\n",
      " 'intermediate_supervision': False,\n",
      " 'intermediate_supervision_layer': 12,\n",
      " 'location_refinement': True,\n",
      " 'locref_huber_loss': True,\n",
      " 'locref_loss_weight': 1.0,\n",
      " 'locref_stdev': 7.2801,\n",
      " 'log_dir': 'log',\n",
      " 'mean_pixel': [123.68, 116.779, 103.939],\n",
      " 'mirror': False,\n",
      " 'net_type': 'resnet_50',\n",
      " 'num_joints': 5,\n",
      " 'optimizer': 'sgd',\n",
      " 'pairwise_huber_loss': True,\n",
      " 'pairwise_predict': False,\n",
      " 'partaffinityfield_predict': False,\n",
      " 'regularize': False,\n",
      " 'scoremap_dir': 'test',\n",
      " 'shuffle': True,\n",
      " 'snapshot_prefix': 'D:\\\\DeepLabCut_Tutorial_Temps\\\\fear_tuto_dlc-Billel-2021-02-15\\\\dlc-models\\\\iteration-1\\\\fear_tuto_dlcFeb15-trainset95shuffle1\\\\test\\\\snapshot',\n",
      " 'stride': 8.0,\n",
      " 'weigh_negatives': False,\n",
      " 'weigh_only_present_joints': False,\n",
      " 'weigh_part_predictions': False,\n",
      " 'weight_decay': 0.0001}\n"
     ]
    },
    {
     "name": "stdout",
     "output_type": "stream",
     "text": [
      "Overwriting cropping parameters: [459, 1019, 213, 485]\n",
      "These are used for all videos, but won't be save to the cfg file.\n",
      "Using snapshot-1030000 for model D:/DeepLabCut_Tutorial_Temps/fear_tuto_dlc-Billel-2021-02-15\\dlc-models\\iteration-1\\fear_tuto_dlcFeb15-trainset95shuffle1\n",
      "Initializing ResNet\n"
     ]
    },
    {
     "name": "stderr",
     "output_type": "stream",
     "text": [
      "  0%|                                                                                     | 0/19779 [00:00<?, ?it/s]"
     ]
    },
    {
     "name": "stdout",
     "output_type": "stream",
     "text": [
      "Starting to analyze %  D:/DeepLabCut_Tutorial_Temps/MonExperience/Rat23\\Rat23-20210128_210128_143126\\Basler_acA1300-200uc__23039139__20210128_143130383.mp4\n",
      "D:\\DeepLabCut_Tutorial_Temps\\MonExperience\\Rat23\\Rat23-20210128_210128_143126  already exists!\n",
      "Loading  D:/DeepLabCut_Tutorial_Temps/MonExperience/Rat23\\Rat23-20210128_210128_143126\\Basler_acA1300-200uc__23039139__20210128_143130383.mp4\n",
      "Duration of video [s]:  659.3 , recorded with  30.0 fps!\n",
      "Overall # of frames:  19779  found with (before cropping) frame dimensions:  1280 1024\n",
      "Starting to extract posture\n",
      "Cropping based on the x1 = 459 x2 = 1019 y1 = 213 y2 = 485. You can adjust the cropping coordinates in the config.yaml file.\n"
     ]
    },
    {
     "name": "stderr",
     "output_type": "stream",
     "text": [
      "19897it [05:42, 58.06it/s]                                                                                          \n"
     ]
    },
    {
     "name": "stdout",
     "output_type": "stream",
     "text": [
      "Saving results in D:\\DeepLabCut_Tutorial_Temps\\MonExperience\\Rat23\\Rat23-20210128_210128_143126...\n",
      "Saving csv poses!\n",
      "The videos are analyzed. Now your research can truly start! \n",
      " You can create labeled videos with 'create_labeled_video'\n",
      "If the tracking is not satisfactory for some videos, consider expanding the training set. You can use the function 'extract_outlier_frames' to extract a few representative outlier frames.\n",
      "Filtering with median model D:/DeepLabCut_Tutorial_Temps/MonExperience/Rat23\\Rat23-20210128_210128_143126\\Basler_acA1300-200uc__23039139__20210128_143130383.mp4\n",
      "Saving filtered csv poses!\n"
     ]
    },
    {
     "name": "stderr",
     "output_type": "stream",
     "text": [
      "Config:\n",
      "{'all_joints': [[0], [1], [2], [3], [4]],\n",
      " 'all_joints_names': ['snout',\n",
      "                      'left_ear',\n",
      "                      'right_ear',\n",
      "                      'base_tail',\n",
      "                      'end_tail'],\n",
      " 'batch_size': 1,\n",
      " 'crop_pad': 0,\n",
      " 'dataset': 'training-datasets\\\\iteration-1\\\\UnaugmentedDataSet_fear_tuto_dlcFeb15\\\\fear_tuto_dlc_Billel95shuffle1.mat',\n",
      " 'dataset_type': 'imgaug',\n",
      " 'deterministic': False,\n",
      " 'fg_fraction': 0.25,\n",
      " 'global_scale': 0.8,\n",
      " 'init_weights': 'C:\\\\Users\\\\Billel.Khouader\\\\.conda\\\\envs\\\\DLC-GPU\\\\lib\\\\site-packages\\\\deeplabcut\\\\pose_estimation_tensorflow\\\\models\\\\pretrained\\\\resnet_v1_50.ckpt',\n",
      " 'intermediate_supervision': False,\n",
      " 'intermediate_supervision_layer': 12,\n",
      " 'location_refinement': True,\n",
      " 'locref_huber_loss': True,\n",
      " 'locref_loss_weight': 1.0,\n",
      " 'locref_stdev': 7.2801,\n",
      " 'log_dir': 'log',\n",
      " 'mean_pixel': [123.68, 116.779, 103.939],\n",
      " 'mirror': False,\n",
      " 'net_type': 'resnet_50',\n",
      " 'num_joints': 5,\n",
      " 'optimizer': 'sgd',\n",
      " 'pairwise_huber_loss': True,\n",
      " 'pairwise_predict': False,\n",
      " 'partaffinityfield_predict': False,\n",
      " 'regularize': False,\n",
      " 'scoremap_dir': 'test',\n",
      " 'shuffle': True,\n",
      " 'snapshot_prefix': 'D:\\\\DeepLabCut_Tutorial_Temps\\\\fear_tuto_dlc-Billel-2021-02-15\\\\dlc-models\\\\iteration-1\\\\fear_tuto_dlcFeb15-trainset95shuffle1\\\\test\\\\snapshot',\n",
      " 'stride': 8.0,\n",
      " 'weigh_negatives': False,\n",
      " 'weigh_only_present_joints': False,\n",
      " 'weigh_part_predictions': False,\n",
      " 'weight_decay': 0.0001}\n"
     ]
    },
    {
     "name": "stdout",
     "output_type": "stream",
     "text": [
      "Overwriting cropping parameters: [523, 863, 169, 474]\n",
      "These are used for all videos, but won't be save to the cfg file.\n",
      "Using snapshot-1030000 for model D:/DeepLabCut_Tutorial_Temps/fear_tuto_dlc-Billel-2021-02-15\\dlc-models\\iteration-1\\fear_tuto_dlcFeb15-trainset95shuffle1\n",
      "Initializing ResNet\n"
     ]
    },
    {
     "name": "stderr",
     "output_type": "stream",
     "text": [
      "  0%|                                                                                     | 0/19336 [00:00<?, ?it/s]"
     ]
    },
    {
     "name": "stdout",
     "output_type": "stream",
     "text": [
      "Starting to analyze %  D:/DeepLabCut_Tutorial_Temps/MonExperience/Rat24\\Rat24-20210129_210129_163341\\Basler_acA1300-200uc__23039139__20210129_163346459.mp4\n",
      "D:\\DeepLabCut_Tutorial_Temps\\MonExperience\\Rat24\\Rat24-20210129_210129_163341  already exists!\n",
      "Loading  D:/DeepLabCut_Tutorial_Temps/MonExperience/Rat24\\Rat24-20210129_210129_163341\\Basler_acA1300-200uc__23039139__20210129_163346459.mp4\n",
      "Duration of video [s]:  644.53 , recorded with  30.0 fps!\n",
      "Overall # of frames:  19336  found with (before cropping) frame dimensions:  1280 1024\n",
      "Starting to extract posture\n",
      "Cropping based on the x1 = 523 x2 = 863 y1 = 169 y2 = 474. You can adjust the cropping coordinates in the config.yaml file.\n"
     ]
    },
    {
     "name": "stderr",
     "output_type": "stream",
     "text": [
      "19493it [04:57, 65.51it/s]                                                                                          \n"
     ]
    },
    {
     "name": "stdout",
     "output_type": "stream",
     "text": [
      "Saving results in D:\\DeepLabCut_Tutorial_Temps\\MonExperience\\Rat24\\Rat24-20210129_210129_163341...\n",
      "Saving csv poses!\n",
      "The videos are analyzed. Now your research can truly start! \n",
      " You can create labeled videos with 'create_labeled_video'\n",
      "If the tracking is not satisfactory for some videos, consider expanding the training set. You can use the function 'extract_outlier_frames' to extract a few representative outlier frames.\n",
      "Filtering with median model D:/DeepLabCut_Tutorial_Temps/MonExperience/Rat24\\Rat24-20210129_210129_163341\\Basler_acA1300-200uc__23039139__20210129_163346459.mp4\n",
      "Saving filtered csv poses!\n"
     ]
    },
    {
     "name": "stderr",
     "output_type": "stream",
     "text": [
      "Config:\n",
      "{'all_joints': [[0], [1], [2], [3], [4]],\n",
      " 'all_joints_names': ['snout',\n",
      "                      'left_ear',\n",
      "                      'right_ear',\n",
      "                      'base_tail',\n",
      "                      'end_tail'],\n",
      " 'batch_size': 1,\n",
      " 'crop_pad': 0,\n",
      " 'dataset': 'training-datasets\\\\iteration-1\\\\UnaugmentedDataSet_fear_tuto_dlcFeb15\\\\fear_tuto_dlc_Billel95shuffle1.mat',\n",
      " 'dataset_type': 'imgaug',\n",
      " 'deterministic': False,\n",
      " 'fg_fraction': 0.25,\n",
      " 'global_scale': 0.8,\n",
      " 'init_weights': 'C:\\\\Users\\\\Billel.Khouader\\\\.conda\\\\envs\\\\DLC-GPU\\\\lib\\\\site-packages\\\\deeplabcut\\\\pose_estimation_tensorflow\\\\models\\\\pretrained\\\\resnet_v1_50.ckpt',\n",
      " 'intermediate_supervision': False,\n",
      " 'intermediate_supervision_layer': 12,\n",
      " 'location_refinement': True,\n",
      " 'locref_huber_loss': True,\n",
      " 'locref_loss_weight': 1.0,\n",
      " 'locref_stdev': 7.2801,\n",
      " 'log_dir': 'log',\n",
      " 'mean_pixel': [123.68, 116.779, 103.939],\n",
      " 'mirror': False,\n",
      " 'net_type': 'resnet_50',\n",
      " 'num_joints': 5,\n",
      " 'optimizer': 'sgd',\n",
      " 'pairwise_huber_loss': True,\n",
      " 'pairwise_predict': False,\n",
      " 'partaffinityfield_predict': False,\n",
      " 'regularize': False,\n",
      " 'scoremap_dir': 'test',\n",
      " 'shuffle': True,\n",
      " 'snapshot_prefix': 'D:\\\\DeepLabCut_Tutorial_Temps\\\\fear_tuto_dlc-Billel-2021-02-15\\\\dlc-models\\\\iteration-1\\\\fear_tuto_dlcFeb15-trainset95shuffle1\\\\test\\\\snapshot',\n",
      " 'stride': 8.0,\n",
      " 'weigh_negatives': False,\n",
      " 'weigh_only_present_joints': False,\n",
      " 'weigh_part_predictions': False,\n",
      " 'weight_decay': 0.0001}\n"
     ]
    },
    {
     "name": "stdout",
     "output_type": "stream",
     "text": [
      "Overwriting cropping parameters: [462, 985, 194, 518]\n",
      "These are used for all videos, but won't be save to the cfg file.\n",
      "Using snapshot-1030000 for model D:/DeepLabCut_Tutorial_Temps/fear_tuto_dlc-Billel-2021-02-15\\dlc-models\\iteration-1\\fear_tuto_dlcFeb15-trainset95shuffle1\n",
      "Initializing ResNet\n"
     ]
    },
    {
     "name": "stderr",
     "output_type": "stream",
     "text": [
      "  0%|                                                                                     | 0/19202 [00:00<?, ?it/s]"
     ]
    },
    {
     "name": "stdout",
     "output_type": "stream",
     "text": [
      "Starting to analyze %  D:/DeepLabCut_Tutorial_Temps/MonExperience/Rat24\\Rat24_20210129_210129_113321\\Basler_acA1300-200uc__23039139__20210129_113328761.mp4\n",
      "D:\\DeepLabCut_Tutorial_Temps\\MonExperience\\Rat24\\Rat24_20210129_210129_113321  already exists!\n",
      "Loading  D:/DeepLabCut_Tutorial_Temps/MonExperience/Rat24\\Rat24_20210129_210129_113321\\Basler_acA1300-200uc__23039139__20210129_113328761.mp4\n",
      "Duration of video [s]:  640.07 , recorded with  30.0 fps!\n",
      "Overall # of frames:  19202  found with (before cropping) frame dimensions:  1280 1024\n",
      "Starting to extract posture\n",
      "Cropping based on the x1 = 462 x2 = 985 y1 = 194 y2 = 518. You can adjust the cropping coordinates in the config.yaml file.\n"
     ]
    },
    {
     "name": "stderr",
     "output_type": "stream",
     "text": [
      "19392it [05:42, 56.63it/s]                                                                                          \n"
     ]
    },
    {
     "name": "stdout",
     "output_type": "stream",
     "text": [
      "Saving results in D:\\DeepLabCut_Tutorial_Temps\\MonExperience\\Rat24\\Rat24_20210129_210129_113321...\n",
      "Saving csv poses!\n",
      "The videos are analyzed. Now your research can truly start! \n",
      " You can create labeled videos with 'create_labeled_video'\n",
      "If the tracking is not satisfactory for some videos, consider expanding the training set. You can use the function 'extract_outlier_frames' to extract a few representative outlier frames.\n",
      "Filtering with median model D:/DeepLabCut_Tutorial_Temps/MonExperience/Rat24\\Rat24_20210129_210129_113321\\Basler_acA1300-200uc__23039139__20210129_113328761.mp4\n",
      "Saving filtered csv poses!\n"
     ]
    },
    {
     "name": "stderr",
     "output_type": "stream",
     "text": [
      "Config:\n",
      "{'all_joints': [[0], [1], [2], [3], [4]],\n",
      " 'all_joints_names': ['snout',\n",
      "                      'left_ear',\n",
      "                      'right_ear',\n",
      "                      'base_tail',\n",
      "                      'end_tail'],\n",
      " 'batch_size': 1,\n",
      " 'crop_pad': 0,\n",
      " 'dataset': 'training-datasets\\\\iteration-1\\\\UnaugmentedDataSet_fear_tuto_dlcFeb15\\\\fear_tuto_dlc_Billel95shuffle1.mat',\n",
      " 'dataset_type': 'imgaug',\n",
      " 'deterministic': False,\n",
      " 'fg_fraction': 0.25,\n",
      " 'global_scale': 0.8,\n",
      " 'init_weights': 'C:\\\\Users\\\\Billel.Khouader\\\\.conda\\\\envs\\\\DLC-GPU\\\\lib\\\\site-packages\\\\deeplabcut\\\\pose_estimation_tensorflow\\\\models\\\\pretrained\\\\resnet_v1_50.ckpt',\n",
      " 'intermediate_supervision': False,\n",
      " 'intermediate_supervision_layer': 12,\n",
      " 'location_refinement': True,\n",
      " 'locref_huber_loss': True,\n",
      " 'locref_loss_weight': 1.0,\n",
      " 'locref_stdev': 7.2801,\n",
      " 'log_dir': 'log',\n",
      " 'mean_pixel': [123.68, 116.779, 103.939],\n",
      " 'mirror': False,\n",
      " 'net_type': 'resnet_50',\n",
      " 'num_joints': 5,\n",
      " 'optimizer': 'sgd',\n",
      " 'pairwise_huber_loss': True,\n",
      " 'pairwise_predict': False,\n",
      " 'partaffinityfield_predict': False,\n",
      " 'regularize': False,\n",
      " 'scoremap_dir': 'test',\n",
      " 'shuffle': True,\n",
      " 'snapshot_prefix': 'D:\\\\DeepLabCut_Tutorial_Temps\\\\fear_tuto_dlc-Billel-2021-02-15\\\\dlc-models\\\\iteration-1\\\\fear_tuto_dlcFeb15-trainset95shuffle1\\\\test\\\\snapshot',\n",
      " 'stride': 8.0,\n",
      " 'weigh_negatives': False,\n",
      " 'weigh_only_present_joints': False,\n",
      " 'weigh_part_predictions': False,\n",
      " 'weight_decay': 0.0001}\n"
     ]
    },
    {
     "name": "stdout",
     "output_type": "stream",
     "text": [
      "Overwriting cropping parameters: [464, 1010, 216, 504]\n",
      "These are used for all videos, but won't be save to the cfg file.\n",
      "Using snapshot-1030000 for model D:/DeepLabCut_Tutorial_Temps/fear_tuto_dlc-Billel-2021-02-15\\dlc-models\\iteration-1\\fear_tuto_dlcFeb15-trainset95shuffle1\n",
      "Initializing ResNet\n"
     ]
    },
    {
     "name": "stderr",
     "output_type": "stream",
     "text": [
      "  0%|                                                                                     | 0/19159 [00:00<?, ?it/s]"
     ]
    },
    {
     "name": "stdout",
     "output_type": "stream",
     "text": [
      "Starting to analyze %  D:/DeepLabCut_Tutorial_Temps/MonExperience/Rat24\\Rat24_20210129_210129_152259\\Basler_acA1300-200uc__23039139__20210129_152304254.mp4\n",
      "D:\\DeepLabCut_Tutorial_Temps\\MonExperience\\Rat24\\Rat24_20210129_210129_152259  already exists!\n",
      "Loading  D:/DeepLabCut_Tutorial_Temps/MonExperience/Rat24\\Rat24_20210129_210129_152259\\Basler_acA1300-200uc__23039139__20210129_152304254.mp4\n",
      "Duration of video [s]:  638.63 , recorded with  30.0 fps!\n",
      "Overall # of frames:  19159  found with (before cropping) frame dimensions:  1280 1024\n",
      "Starting to extract posture\n",
      "Cropping based on the x1 = 464 x2 = 1010 y1 = 216 y2 = 504. You can adjust the cropping coordinates in the config.yaml file.\n"
     ]
    },
    {
     "name": "stderr",
     "output_type": "stream",
     "text": [
      "19291it [05:36, 57.27it/s]                                                                                          \n"
     ]
    },
    {
     "name": "stdout",
     "output_type": "stream",
     "text": [
      "Saving results in D:\\DeepLabCut_Tutorial_Temps\\MonExperience\\Rat24\\Rat24_20210129_210129_152259...\n",
      "Saving csv poses!\n",
      "The videos are analyzed. Now your research can truly start! \n",
      " You can create labeled videos with 'create_labeled_video'\n",
      "If the tracking is not satisfactory for some videos, consider expanding the training set. You can use the function 'extract_outlier_frames' to extract a few representative outlier frames.\n",
      "Filtering with median model D:/DeepLabCut_Tutorial_Temps/MonExperience/Rat24\\Rat24_20210129_210129_152259\\Basler_acA1300-200uc__23039139__20210129_152304254.mp4\n",
      "Saving filtered csv poses!\n"
     ]
    }
   ],
   "source": [
    "for v,c in zip(videos,crop):\n",
    "    x1,x2 = c[0]\n",
    "    y1,y2 = c[1]\n",
    "    c = [x1,x2,y1,y2]\n",
    "    c = list(map(int,c))\n",
    "    \n",
    "    dlc.analyze_videos(config_path,v,cropping=c,save_as_csv=True)\n",
    "    dlc.filterpredictions(config_path,v,save_as_csv = True)"
   ]
  },
  {
   "cell_type": "markdown",
   "metadata": {},
   "source": [
    "# Create labeled Videos"
   ]
  },
  {
   "cell_type": "code",
   "execution_count": 14,
   "metadata": {},
   "outputs": [],
   "source": [
    "# Select if you want to user filtered positions or not\n",
    "filt = True\n",
    "for v in videos:\n",
    "    dlc.create_labeled_video(config_path,v,filtered=filt)"
   ]
  },
  {
   "cell_type": "markdown",
   "metadata": {},
   "source": [
    "# Get Crop metadata"
   ]
  },
  {
   "cell_type": "code",
   "execution_count": 6,
   "metadata": {},
   "outputs": [
    {
     "data": {
      "text/plain": [
       "['D:/DeepLabCut_Tutorial_Temps/MonExperience/Rat23\\\\Rat23-20210128_152809\\\\Basler_acA1300-200uc__23039139__20210128_152809881DLC_resnet_50_fear_tuto_dlcFeb15shuffle1_4000_meta.pickle',\n",
       " 'D:/DeepLabCut_Tutorial_Temps/MonExperience/Rat23\\\\Rat23-20210128_210128_103618\\\\Basler_acA1300-200uc__23039139__20210128_103619873DLC_resnet_50_fear_tuto_dlcFeb15shuffle1_4000_meta.pickle',\n",
       " 'D:/DeepLabCut_Tutorial_Temps/MonExperience/Rat23\\\\Rat23-20210128_210128_143126\\\\Basler_acA1300-200uc__23039139__20210128_143130383DLC_resnet_50_fear_tuto_dlcFeb15shuffle1_4000_meta.pickle',\n",
       " 'D:/DeepLabCut_Tutorial_Temps/MonExperience/Rat24\\\\Rat24-20210129_210129_163341\\\\Basler_acA1300-200uc__23039139__20210129_163346459DLC_resnet_50_fear_tuto_dlcFeb15shuffle1_4000_meta.pickle',\n",
       " 'D:/DeepLabCut_Tutorial_Temps/MonExperience/Rat24\\\\Rat24_20210129_210129_113321\\\\Basler_acA1300-200uc__23039139__20210129_113328761DLC_resnet_50_fear_tuto_dlcFeb15shuffle1_4000_meta.pickle',\n",
       " 'D:/DeepLabCut_Tutorial_Temps/MonExperience/Rat24\\\\Rat24_20210129_210129_152259\\\\Basler_acA1300-200uc__23039139__20210129_152304254DLC_resnet_50_fear_tuto_dlcFeb15shuffle1_4000_meta.pickle']"
      ]
     },
     "execution_count": 6,
     "metadata": {},
     "output_type": "execute_result"
    }
   ],
   "source": [
    "metadata = []\n",
    "for subdirs, dirs, files in os.walk(path):\n",
    "    for file in files:\n",
    "        if file.endswith('.pickle'): metadata.append(os.path.join(subdirs,file))\n",
    "\n",
    "metadata"
   ]
  },
  {
   "cell_type": "markdown",
   "metadata": {},
   "source": [
    "# Extract outliers frames"
   ]
  },
  {
   "cell_type": "code",
   "execution_count": 20,
   "metadata": {
    "collapsed": true,
    "jupyter": {
     "outputs_hidden": true
    },
    "tags": []
   },
   "outputs": [
    {
     "name": "stdout",
     "output_type": "stream",
     "text": [
      "525 870 187 510\n",
      "Method  jump  found  3216  putative outlier frames.\n",
      "Do you want to proceed with extracting  20  of those?\n",
      "If this list is very large, perhaps consider changing the parameters (start, stop, p_bound, comparisonbodyparts) or use a different method.\n"
     ]
    },
    {
     "name": "stdin",
     "output_type": "stream",
     "text": [
      "yes/no yes\n"
     ]
    },
    {
     "name": "stderr",
     "output_type": "stream",
     "text": [
      "4it [00:00, 35.88it/s]"
     ]
    },
    {
     "name": "stdout",
     "output_type": "stream",
     "text": [
      "Frames from video Basler_acA1300-200uc__23039139__20210128_152809881  already extracted (more will be added)!\n",
      "Loading video...\n",
      "Duration of video [s]:  655.5666666666667 , recorded @  30.0 fps!\n",
      "Overall # of frames:  19667 with (cropped) frame dimensions: \n",
      "Kmeans-quantization based extracting of frames from 0.0  seconds to 655.57  seconds.\n",
      "Extracting and downsampling... 3216  frames from the video.\n"
     ]
    },
    {
     "name": "stderr",
     "output_type": "stream",
     "text": [
      "3216it [01:10, 45.50it/s]\n"
     ]
    },
    {
     "name": "stdout",
     "output_type": "stream",
     "text": [
      "Kmeans clustering ... (this might take a while)\n",
      "Let's select frames indices: [4823, 178, 19584, 645, 14415, 4157, 249, 1182, 669, 19655, 663, 594, 1593, 10447, 474, 10949, 19540, 8604, 19572, 13861]\n",
      "New video was added to the project! Use the function 'extract_frames' to select frames for labeling.\n",
      "The outlier frames are extracted. They are stored in the subdirectory labeled-data\\Basler_acA1300-200uc__23039139__20210128_152809881.\n",
      "Once you extracted frames for all videos, use 'refine_labels' to manually correct the labels.\n",
      "475 990 234 521\n",
      "Method  jump  found  2498  putative outlier frames.\n",
      "Do you want to proceed with extracting  20  of those?\n",
      "If this list is very large, perhaps consider changing the parameters (start, stop, p_bound, comparisonbodyparts) or use a different method.\n"
     ]
    },
    {
     "name": "stdin",
     "output_type": "stream",
     "text": [
      "yes/no no\n"
     ]
    },
    {
     "name": "stdout",
     "output_type": "stream",
     "text": [
      "Nothing extracted, please change the parameters and start again...\n",
      "464 1012 201 493\n",
      "Method  jump  found  1005  putative outlier frames.\n",
      "Do you want to proceed with extracting  20  of those?\n",
      "If this list is very large, perhaps consider changing the parameters (start, stop, p_bound, comparisonbodyparts) or use a different method.\n"
     ]
    },
    {
     "name": "stdin",
     "output_type": "stream",
     "text": [
      "yes/no no\n"
     ]
    },
    {
     "name": "stdout",
     "output_type": "stream",
     "text": [
      "Nothing extracted, please change the parameters and start again...\n",
      "519 862 165 468\n",
      "Method  jump  found  3275  putative outlier frames.\n",
      "Do you want to proceed with extracting  20  of those?\n",
      "If this list is very large, perhaps consider changing the parameters (start, stop, p_bound, comparisonbodyparts) or use a different method.\n"
     ]
    },
    {
     "name": "stdin",
     "output_type": "stream",
     "text": [
      "yes/no no\n"
     ]
    },
    {
     "name": "stdout",
     "output_type": "stream",
     "text": [
      "Nothing extracted, please change the parameters and start again...\n",
      "475 981 209 515\n",
      "Method  jump  found  2903  putative outlier frames.\n",
      "Do you want to proceed with extracting  20  of those?\n",
      "If this list is very large, perhaps consider changing the parameters (start, stop, p_bound, comparisonbodyparts) or use a different method.\n"
     ]
    },
    {
     "name": "stdin",
     "output_type": "stream",
     "text": [
      "yes/no no\n"
     ]
    },
    {
     "name": "stdout",
     "output_type": "stream",
     "text": [
      "Nothing extracted, please change the parameters and start again...\n",
      "478 987 218 507\n",
      "Method  jump  found  3260  putative outlier frames.\n",
      "Do you want to proceed with extracting  20  of those?\n",
      "If this list is very large, perhaps consider changing the parameters (start, stop, p_bound, comparisonbodyparts) or use a different method.\n"
     ]
    },
    {
     "name": "stdin",
     "output_type": "stream",
     "text": [
      "yes/no no\n"
     ]
    },
    {
     "name": "stdout",
     "output_type": "stream",
     "text": [
      "Nothing extracted, please change the parameters and start again...\n"
     ]
    }
   ],
   "source": [
    "numframes2pick = 20\n",
    "for v,m in zip(videos,metadata):\n",
    "    with open(m,'rb') as f:\n",
    "        data = pickle.load(f)\n",
    "    x1,x2,y1,y2 = data['data']['cropping_parameters']\n",
    "    print(x1,x2,y1,y2)\n",
    "    cfg = dlc.utils.auxiliaryfunctions.read_config(config_path)\n",
    "    \n",
    "    cfg['numframes2pick'] = numframes2pick\n",
    "    cfg['cropping'] = True\n",
    "    cfg['x1'] = x1\n",
    "    cfg['x2'] = x2\n",
    "    cfg['y1'] = y1\n",
    "    cfg['y2'] = y2\n",
    "    dlc.utils.auxiliaryfunctions.write_config(config_path,cfg)\n",
    "    \n",
    "    dlc.extract_outlier_frames(config_path,v)"
   ]
  },
  {
   "cell_type": "markdown",
   "metadata": {},
   "source": [
    "# Refine Labels"
   ]
  },
  {
   "cell_type": "code",
   "execution_count": null,
   "metadata": {
    "collapsed": true,
    "jupyter": {
     "outputs_hidden": true
    },
    "tags": []
   },
   "outputs": [
    {
     "name": "stdout",
     "output_type": "stream",
     "text": [
      "Checking labels if they are outside the image\n",
      "A training dataset file is already found for this video. The refined machine labels are merged to this data!\n",
      "Closing... The refined labels are stored in a subdirectory under labeled-data. Use the function 'merge_datasets' to augment the training dataset, and then re-train a network using create_training_dataset followed by train_network!\n"
     ]
    }
   ],
   "source": [
    "dlc.refine_labels(config_path)"
   ]
  },
  {
   "cell_type": "markdown",
   "metadata": {},
   "source": [
    "# Check Labels "
   ]
  },
  {
   "cell_type": "code",
   "execution_count": 6,
   "metadata": {
    "collapsed": true,
    "jupyter": {
     "outputs_hidden": true
    },
    "tags": []
   },
   "outputs": [
    {
     "name": "stderr",
     "output_type": "stream",
     "text": [
      "  0%|                                                                                                                                           | 0/45 [00:00<?, ?it/s]"
     ]
    },
    {
     "name": "stdout",
     "output_type": "stream",
     "text": [
      "Creating images with labels by Billel.\n",
      "D:/DeepLabCut_Tutorial_Temps/fear_tuto_dlc-Billel-2021-02-15\\labeled-data\\Basler_acA1300-200uc__23039139__20210128_152809881_labeled  already exists!\n"
     ]
    },
    {
     "name": "stderr",
     "output_type": "stream",
     "text": [
      "100%|██████████████████████████████████████████████████████████████████████████████████████████████████████████████████████████████████| 45/45 [00:04<00:00, 10.99it/s]\n",
      "  0%|                                                                                                                                            | 0/2 [00:00<?, ?it/s]"
     ]
    },
    {
     "name": "stdout",
     "output_type": "stream",
     "text": [
      "D:/DeepLabCut_Tutorial_Temps/fear_tuto_dlc-Billel-2021-02-15\\labeled-data\\Basler_acA1300-200uc__23039139__20210128_103619873_labeled  already exists!\n"
     ]
    },
    {
     "name": "stderr",
     "output_type": "stream",
     "text": [
      "100%|████████████████████████████████████████████████████████████████████████████████████████████████████████████████████████████████████| 2/2 [00:00<00:00, 11.48it/s]\n",
      "  0%|                                                                                                                                            | 0/2 [00:00<?, ?it/s]"
     ]
    },
    {
     "name": "stdout",
     "output_type": "stream",
     "text": [
      "D:/DeepLabCut_Tutorial_Temps/fear_tuto_dlc-Billel-2021-02-15\\labeled-data\\Basler_acA1300-200uc__23039139__20210128_143130383_labeled  already exists!\n"
     ]
    },
    {
     "name": "stderr",
     "output_type": "stream",
     "text": [
      "100%|████████████████████████████████████████████████████████████████████████████████████████████████████████████████████████████████████| 2/2 [00:00<00:00,  9.99it/s]\n",
      "  0%|                                                                                                                                            | 0/2 [00:00<?, ?it/s]"
     ]
    },
    {
     "name": "stdout",
     "output_type": "stream",
     "text": [
      "D:/DeepLabCut_Tutorial_Temps/fear_tuto_dlc-Billel-2021-02-15\\labeled-data\\Basler_acA1300-200uc__23039139__20210129_113328761_labeled  already exists!\n"
     ]
    },
    {
     "name": "stderr",
     "output_type": "stream",
     "text": [
      "100%|████████████████████████████████████████████████████████████████████████████████████████████████████████████████████████████████████| 2/2 [00:00<00:00, 11.61it/s]\n",
      "  0%|                                                                                                                                            | 0/2 [00:00<?, ?it/s]"
     ]
    },
    {
     "name": "stdout",
     "output_type": "stream",
     "text": [
      "D:/DeepLabCut_Tutorial_Temps/fear_tuto_dlc-Billel-2021-02-15\\labeled-data\\Basler_acA1300-200uc__23039139__20210129_152304254_labeled  already exists!\n"
     ]
    },
    {
     "name": "stderr",
     "output_type": "stream",
     "text": [
      "100%|████████████████████████████████████████████████████████████████████████████████████████████████████████████████████████████████████| 2/2 [00:00<00:00, 10.04it/s]\n",
      "100%|████████████████████████████████████████████████████████████████████████████████████████████████████████████████████████████████████| 1/1 [00:00<00:00, 18.26it/s]"
     ]
    },
    {
     "name": "stdout",
     "output_type": "stream",
     "text": [
      "D:/DeepLabCut_Tutorial_Temps/fear_tuto_dlc-Billel-2021-02-15\\labeled-data\\Basler_acA1300-200uc__23039139__20210129_163346459_labeled  already exists!\n",
      "If all the labels are ok, then use the function 'create_training_dataset' to create the training dataset!\n"
     ]
    },
    {
     "name": "stderr",
     "output_type": "stream",
     "text": [
      "\n"
     ]
    }
   ],
   "source": [
    "dlc.check_labels(config_path)"
   ]
  },
  {
   "cell_type": "markdown",
   "metadata": {},
   "source": [
    "# Merge Dataset"
   ]
  },
  {
   "cell_type": "code",
   "execution_count": 7,
   "metadata": {},
   "outputs": [
    {
     "name": "stdout",
     "output_type": "stream",
     "text": [
      "Merged data sets and updated refinement iteration to 1.\n",
      "Now you can create a new training set for the expanded annotated images (use create_training_dataset).\n"
     ]
    }
   ],
   "source": [
    "dlc.merge_datasets(config_path)"
   ]
  },
  {
   "cell_type": "markdown",
   "metadata": {},
   "source": [
    "# Create Training Dataset"
   ]
  },
  {
   "cell_type": "code",
   "execution_count": 8,
   "metadata": {
    "collapsed": true,
    "jupyter": {
     "outputs_hidden": true
    },
    "tags": []
   },
   "outputs": [
    {
     "name": "stdout",
     "output_type": "stream",
     "text": [
      "The training dataset is successfully created. Use the function 'train_network' to start training. Happy training!\n"
     ]
    },
    {
     "data": {
      "text/plain": [
       "[(0.95,\n",
       "  1,\n",
       "  (array([42, 47, 30, 14, 29, 21, 33, 37,  3, 17, 18, 44, 35, 50, 12, 49, 52,\n",
       "           4,  9, 43, 45,  7, 22, 13, 15, 19, 32, 41,  0,  2, 51, 27, 11, 38,\n",
       "          16, 40, 39, 20, 25, 24, 34,  5, 28, 36,  1,  6, 31, 26, 10, 48, 23]),\n",
       "   array([ 8, 46, 53])))]"
      ]
     },
     "execution_count": 8,
     "metadata": {},
     "output_type": "execute_result"
    }
   ],
   "source": [
    "dlc.create_training_dataset(config_path)"
   ]
  },
  {
   "cell_type": "markdown",
   "metadata": {},
   "source": [
    "# Training Network "
   ]
  },
  {
   "cell_type": "code",
   "execution_count": 7,
   "metadata": {
    "collapsed": true,
    "jupyter": {
     "outputs_hidden": true
    },
    "tags": []
   },
   "outputs": [
    {
     "name": "stderr",
     "output_type": "stream",
     "text": [
      "Config:\n",
      "{'all_joints': [[0], [1], [2], [3], [4]],\n",
      " 'all_joints_names': ['snout',\n",
      "                      'left_ear',\n",
      "                      'right_ear',\n",
      "                      'base_tail',\n",
      "                      'end_tail'],\n",
      " 'alpha_r': 0.02,\n",
      " 'batch_size': 1,\n",
      " 'crop_pad': 0,\n",
      " 'cropratio': 0.4,\n",
      " 'dataset': 'training-datasets\\\\iteration-1\\\\UnaugmentedDataSet_fear_tuto_dlcFeb15\\\\fear_tuto_dlc_Billel95shuffle1.mat',\n",
      " 'dataset_type': 'default',\n",
      " 'decay_steps': 30000,\n",
      " 'deterministic': False,\n",
      " 'display_iters': 1000,\n",
      " 'fg_fraction': 0.25,\n",
      " 'global_scale': 0.8,\n",
      " 'init_weights': 'C:\\\\Users\\\\Billel.Khouader\\\\.conda\\\\envs\\\\DLC-GPU\\\\lib\\\\site-packages\\\\deeplabcut\\\\pose_estimation_tensorflow\\\\models\\\\pretrained\\\\resnet_v1_50.ckpt',\n",
      " 'intermediate_supervision': False,\n",
      " 'intermediate_supervision_layer': 12,\n",
      " 'location_refinement': True,\n",
      " 'locref_huber_loss': True,\n",
      " 'locref_loss_weight': 0.05,\n",
      " 'locref_stdev': 7.2801,\n",
      " 'log_dir': 'log',\n",
      " 'lr_init': 0.0005,\n",
      " 'max_input_size': 1500,\n",
      " 'mean_pixel': [123.68, 116.779, 103.939],\n",
      " 'metadataset': 'training-datasets\\\\iteration-1\\\\UnaugmentedDataSet_fear_tuto_dlcFeb15\\\\Documentation_data-fear_tuto_dlc_95shuffle1.pickle',\n",
      " 'min_input_size': 64,\n",
      " 'mirror': False,\n",
      " 'multi_step': [[0.005, 10000],\n",
      "                [0.02, 430000],\n",
      "                [0.002, 730000],\n",
      "                [0.001, 1030000]],\n",
      " 'net_type': 'resnet_50',\n",
      " 'num_joints': 5,\n",
      " 'optimizer': 'sgd',\n",
      " 'pairwise_huber_loss': False,\n",
      " 'pairwise_predict': False,\n",
      " 'partaffinityfield_predict': False,\n",
      " 'pos_dist_thresh': 17,\n",
      " 'project_path': 'D:/DeepLabCut_Tutorial_Temps/fear_tuto_dlc-Billel-2021-02-15',\n",
      " 'regularize': False,\n",
      " 'rotation': 25,\n",
      " 'rotratio': 0.4,\n",
      " 'save_iters': 50000,\n",
      " 'scale_jitter_lo': 0.5,\n",
      " 'scale_jitter_up': 1.25,\n",
      " 'scoremap_dir': 'test',\n",
      " 'shuffle': True,\n",
      " 'snapshot_prefix': 'D:\\\\DeepLabCut_Tutorial_Temps\\\\fear_tuto_dlc-Billel-2021-02-15\\\\dlc-models\\\\iteration-1\\\\fear_tuto_dlcFeb15-trainset95shuffle1\\\\train\\\\snapshot',\n",
      " 'stride': 8.0,\n",
      " 'weigh_negatives': False,\n",
      " 'weigh_only_present_joints': False,\n",
      " 'weigh_part_predictions': False,\n",
      " 'weight_decay': 0.0001}\n"
     ]
    },
    {
     "name": "stdout",
     "output_type": "stream",
     "text": [
      "Selecting single-animal trainer\n",
      "Starting with imgaug pose-dataset loader (=default).\n",
      "Batch Size is 1\n",
      "Initializing ResNet\n",
      "Loading ImageNet-pretrained resnet_50\n",
      "Training parameter:\n",
      "{'stride': 8.0, 'weigh_part_predictions': False, 'weigh_negatives': False, 'fg_fraction': 0.25, 'mean_pixel': [123.68, 116.779, 103.939], 'shuffle': True, 'snapshot_prefix': 'D:\\\\DeepLabCut_Tutorial_Temps\\\\fear_tuto_dlc-Billel-2021-02-15\\\\dlc-models\\\\iteration-1\\\\fear_tuto_dlcFeb15-trainset95shuffle1\\\\train\\\\snapshot', 'log_dir': 'log', 'global_scale': 0.8, 'location_refinement': True, 'locref_stdev': 7.2801, 'locref_loss_weight': 0.05, 'locref_huber_loss': True, 'optimizer': 'sgd', 'intermediate_supervision': False, 'intermediate_supervision_layer': 12, 'regularize': False, 'weight_decay': 0.0001, 'crop_pad': 0, 'scoremap_dir': 'test', 'batch_size': 1, 'dataset_type': 'default', 'deterministic': False, 'mirror': False, 'pairwise_huber_loss': False, 'weigh_only_present_joints': False, 'partaffinityfield_predict': False, 'pairwise_predict': False, 'all_joints': [[0], [1], [2], [3], [4]], 'all_joints_names': ['snout', 'left_ear', 'right_ear', 'base_tail', 'end_tail'], 'alpha_r': 0.02, 'cropratio': 0.4, 'dataset': 'training-datasets\\\\iteration-1\\\\UnaugmentedDataSet_fear_tuto_dlcFeb15\\\\fear_tuto_dlc_Billel95shuffle1.mat', 'decay_steps': 30000, 'display_iters': 1000, 'init_weights': 'C:\\\\Users\\\\Billel.Khouader\\\\.conda\\\\envs\\\\DLC-GPU\\\\lib\\\\site-packages\\\\deeplabcut\\\\pose_estimation_tensorflow\\\\models\\\\pretrained\\\\resnet_v1_50.ckpt', 'lr_init': 0.0005, 'max_input_size': 1500, 'metadataset': 'training-datasets\\\\iteration-1\\\\UnaugmentedDataSet_fear_tuto_dlcFeb15\\\\Documentation_data-fear_tuto_dlc_95shuffle1.pickle', 'min_input_size': 64, 'multi_step': [[0.005, 10000], [0.02, 430000], [0.002, 730000], [0.001, 1030000]], 'net_type': 'resnet_50', 'num_joints': 5, 'pos_dist_thresh': 17, 'project_path': 'D:/DeepLabCut_Tutorial_Temps/fear_tuto_dlc-Billel-2021-02-15', 'rotation': 25, 'rotratio': 0.4, 'save_iters': 50000, 'scale_jitter_lo': 0.5, 'scale_jitter_up': 1.25, 'covering': True, 'elastic_transform': True, 'motion_blur': True, 'motion_blur_params': {'k': 7, 'angle': [-90, 90]}}\n",
      "Starting training....\n"
     ]
    },
    {
     "name": "stderr",
     "output_type": "stream",
     "text": [
      "iteration: 1000 loss: 0.0394 lr: 0.005\n",
      "iteration: 2000 loss: 0.0252 lr: 0.005\n",
      "iteration: 3000 loss: 0.0204 lr: 0.005\n",
      "iteration: 4000 loss: 0.0173 lr: 0.005\n",
      "iteration: 5000 loss: 0.0154 lr: 0.005\n",
      "iteration: 6000 loss: 0.0138 lr: 0.005\n",
      "iteration: 7000 loss: 0.0125 lr: 0.005\n",
      "iteration: 8000 loss: 0.0118 lr: 0.005\n",
      "iteration: 9000 loss: 0.0113 lr: 0.005\n",
      "iteration: 10000 loss: 0.0108 lr: 0.005\n",
      "iteration: 11000 loss: 0.0149 lr: 0.02\n",
      "iteration: 12000 loss: 0.0128 lr: 0.02\n",
      "iteration: 13000 loss: 0.0113 lr: 0.02\n",
      "iteration: 14000 loss: 0.0110 lr: 0.02\n",
      "iteration: 15000 loss: 0.0099 lr: 0.02\n",
      "iteration: 16000 loss: 0.0092 lr: 0.02\n",
      "iteration: 17000 loss: 0.0092 lr: 0.02\n",
      "iteration: 18000 loss: 0.0087 lr: 0.02\n",
      "iteration: 19000 loss: 0.0088 lr: 0.02\n",
      "iteration: 20000 loss: 0.0083 lr: 0.02\n",
      "iteration: 21000 loss: 0.0081 lr: 0.02\n",
      "iteration: 22000 loss: 0.0078 lr: 0.02\n",
      "iteration: 23000 loss: 0.0076 lr: 0.02\n",
      "iteration: 24000 loss: 0.0076 lr: 0.02\n",
      "iteration: 25000 loss: 0.0074 lr: 0.02\n",
      "iteration: 26000 loss: 0.0072 lr: 0.02\n",
      "iteration: 27000 loss: 0.0071 lr: 0.02\n",
      "iteration: 28000 loss: 0.0071 lr: 0.02\n",
      "iteration: 29000 loss: 0.0070 lr: 0.02\n",
      "iteration: 30000 loss: 0.0069 lr: 0.02\n",
      "iteration: 31000 loss: 0.0066 lr: 0.02\n",
      "iteration: 32000 loss: 0.0066 lr: 0.02\n",
      "iteration: 33000 loss: 0.0066 lr: 0.02\n",
      "iteration: 34000 loss: 0.0068 lr: 0.02\n",
      "iteration: 35000 loss: 0.0063 lr: 0.02\n",
      "iteration: 36000 loss: 0.0063 lr: 0.02\n",
      "iteration: 37000 loss: 0.0062 lr: 0.02\n",
      "iteration: 38000 loss: 0.0063 lr: 0.02\n",
      "iteration: 39000 loss: 0.0063 lr: 0.02\n",
      "iteration: 40000 loss: 0.0062 lr: 0.02\n",
      "iteration: 41000 loss: 0.0061 lr: 0.02\n",
      "iteration: 42000 loss: 0.0059 lr: 0.02\n",
      "iteration: 43000 loss: 0.0059 lr: 0.02\n",
      "iteration: 44000 loss: 0.0060 lr: 0.02\n",
      "iteration: 45000 loss: 0.0057 lr: 0.02\n",
      "iteration: 46000 loss: 0.0057 lr: 0.02\n",
      "iteration: 47000 loss: 0.0057 lr: 0.02\n",
      "iteration: 48000 loss: 0.0056 lr: 0.02\n",
      "iteration: 49000 loss: 0.0057 lr: 0.02\n",
      "iteration: 50000 loss: 0.0057 lr: 0.02\n",
      "iteration: 51000 loss: 0.0057 lr: 0.02\n",
      "iteration: 52000 loss: 0.0055 lr: 0.02\n",
      "iteration: 53000 loss: 0.0055 lr: 0.02\n",
      "iteration: 54000 loss: 0.0053 lr: 0.02\n",
      "iteration: 55000 loss: 0.0053 lr: 0.02\n",
      "iteration: 56000 loss: 0.0052 lr: 0.02\n",
      "iteration: 57000 loss: 0.0053 lr: 0.02\n",
      "iteration: 58000 loss: 0.0055 lr: 0.02\n",
      "iteration: 59000 loss: 0.0053 lr: 0.02\n",
      "iteration: 60000 loss: 0.0053 lr: 0.02\n",
      "iteration: 61000 loss: 0.0052 lr: 0.02\n",
      "iteration: 62000 loss: 0.0052 lr: 0.02\n",
      "iteration: 63000 loss: 0.0051 lr: 0.02\n",
      "iteration: 64000 loss: 0.0051 lr: 0.02\n",
      "iteration: 65000 loss: 0.0051 lr: 0.02\n",
      "iteration: 66000 loss: 0.0051 lr: 0.02\n",
      "iteration: 67000 loss: 0.0050 lr: 0.02\n",
      "iteration: 68000 loss: 0.0050 lr: 0.02\n",
      "iteration: 69000 loss: 0.0050 lr: 0.02\n",
      "iteration: 70000 loss: 0.0048 lr: 0.02\n",
      "iteration: 71000 loss: 0.0051 lr: 0.02\n",
      "iteration: 72000 loss: 0.0050 lr: 0.02\n",
      "iteration: 73000 loss: 0.0049 lr: 0.02\n",
      "iteration: 74000 loss: 0.0048 lr: 0.02\n",
      "iteration: 75000 loss: 0.0047 lr: 0.02\n",
      "iteration: 76000 loss: 0.0048 lr: 0.02\n",
      "iteration: 77000 loss: 0.0047 lr: 0.02\n",
      "iteration: 78000 loss: 0.0047 lr: 0.02\n",
      "iteration: 79000 loss: 0.0047 lr: 0.02\n",
      "iteration: 80000 loss: 0.0046 lr: 0.02\n",
      "iteration: 81000 loss: 0.0045 lr: 0.02\n",
      "iteration: 82000 loss: 0.0045 lr: 0.02\n",
      "iteration: 83000 loss: 0.0045 lr: 0.02\n",
      "iteration: 84000 loss: 0.0045 lr: 0.02\n",
      "iteration: 85000 loss: 0.0046 lr: 0.02\n",
      "iteration: 86000 loss: 0.0045 lr: 0.02\n",
      "iteration: 87000 loss: 0.0044 lr: 0.02\n",
      "iteration: 88000 loss: 0.0044 lr: 0.02\n",
      "iteration: 89000 loss: 0.0045 lr: 0.02\n",
      "iteration: 90000 loss: 0.0044 lr: 0.02\n",
      "iteration: 91000 loss: 0.0044 lr: 0.02\n",
      "iteration: 92000 loss: 0.0044 lr: 0.02\n",
      "iteration: 93000 loss: 0.0045 lr: 0.02\n",
      "iteration: 94000 loss: 0.0043 lr: 0.02\n",
      "iteration: 95000 loss: 0.0042 lr: 0.02\n",
      "iteration: 96000 loss: 0.0042 lr: 0.02\n",
      "iteration: 97000 loss: 0.0043 lr: 0.02\n",
      "iteration: 98000 loss: 0.0042 lr: 0.02\n",
      "iteration: 99000 loss: 0.0043 lr: 0.02\n",
      "iteration: 100000 loss: 0.0042 lr: 0.02\n",
      "iteration: 101000 loss: 0.0041 lr: 0.02\n",
      "iteration: 102000 loss: 0.0042 lr: 0.02\n",
      "iteration: 103000 loss: 0.0040 lr: 0.02\n",
      "iteration: 104000 loss: 0.0042 lr: 0.02\n",
      "iteration: 105000 loss: 0.0040 lr: 0.02\n",
      "iteration: 106000 loss: 0.0042 lr: 0.02\n",
      "iteration: 107000 loss: 0.0041 lr: 0.02\n",
      "iteration: 108000 loss: 0.0040 lr: 0.02\n",
      "iteration: 109000 loss: 0.0040 lr: 0.02\n",
      "iteration: 110000 loss: 0.0041 lr: 0.02\n",
      "iteration: 111000 loss: 0.0040 lr: 0.02\n",
      "iteration: 112000 loss: 0.0039 lr: 0.02\n",
      "iteration: 113000 loss: 0.0040 lr: 0.02\n",
      "iteration: 114000 loss: 0.0038 lr: 0.02\n",
      "iteration: 115000 loss: 0.0038 lr: 0.02\n",
      "iteration: 116000 loss: 0.0039 lr: 0.02\n",
      "iteration: 117000 loss: 0.0038 lr: 0.02\n",
      "iteration: 118000 loss: 0.0038 lr: 0.02\n",
      "iteration: 119000 loss: 0.0038 lr: 0.02\n",
      "iteration: 120000 loss: 0.0037 lr: 0.02\n",
      "iteration: 121000 loss: 0.0037 lr: 0.02\n",
      "iteration: 122000 loss: 0.0036 lr: 0.02\n",
      "iteration: 123000 loss: 0.0037 lr: 0.02\n",
      "iteration: 124000 loss: 0.0039 lr: 0.02\n",
      "iteration: 125000 loss: 0.0036 lr: 0.02\n",
      "iteration: 126000 loss: 0.0038 lr: 0.02\n",
      "iteration: 127000 loss: 0.0037 lr: 0.02\n",
      "iteration: 128000 loss: 0.0037 lr: 0.02\n",
      "iteration: 129000 loss: 0.0037 lr: 0.02\n",
      "iteration: 130000 loss: 0.0036 lr: 0.02\n",
      "iteration: 131000 loss: 0.0036 lr: 0.02\n",
      "iteration: 132000 loss: 0.0036 lr: 0.02\n",
      "iteration: 133000 loss: 0.0036 lr: 0.02\n",
      "iteration: 134000 loss: 0.0035 lr: 0.02\n",
      "iteration: 135000 loss: 0.0036 lr: 0.02\n",
      "iteration: 136000 loss: 0.0035 lr: 0.02\n",
      "iteration: 137000 loss: 0.0035 lr: 0.02\n",
      "iteration: 138000 loss: 0.0036 lr: 0.02\n",
      "iteration: 139000 loss: 0.0035 lr: 0.02\n",
      "iteration: 140000 loss: 0.0036 lr: 0.02\n",
      "iteration: 141000 loss: 0.0036 lr: 0.02\n",
      "iteration: 142000 loss: 0.0035 lr: 0.02\n",
      "iteration: 143000 loss: 0.0035 lr: 0.02\n",
      "iteration: 144000 loss: 0.0035 lr: 0.02\n",
      "iteration: 145000 loss: 0.0035 lr: 0.02\n",
      "iteration: 146000 loss: 0.0034 lr: 0.02\n",
      "iteration: 147000 loss: 0.0034 lr: 0.02\n",
      "iteration: 148000 loss: 0.0035 lr: 0.02\n",
      "iteration: 149000 loss: 0.0034 lr: 0.02\n",
      "iteration: 150000 loss: 0.0034 lr: 0.02\n",
      "iteration: 151000 loss: 0.0034 lr: 0.02\n",
      "iteration: 152000 loss: 0.0035 lr: 0.02\n",
      "iteration: 153000 loss: 0.0035 lr: 0.02\n",
      "iteration: 154000 loss: 0.0035 lr: 0.02\n",
      "iteration: 155000 loss: 0.0034 lr: 0.02\n",
      "iteration: 156000 loss: 0.0033 lr: 0.02\n",
      "iteration: 157000 loss: 0.0034 lr: 0.02\n",
      "iteration: 158000 loss: 0.0034 lr: 0.02\n",
      "iteration: 159000 loss: 0.0034 lr: 0.02\n",
      "iteration: 160000 loss: 0.0033 lr: 0.02\n",
      "iteration: 161000 loss: 0.0037 lr: 0.02\n",
      "iteration: 162000 loss: 0.0033 lr: 0.02\n",
      "iteration: 163000 loss: 0.0034 lr: 0.02\n",
      "iteration: 164000 loss: 0.0035 lr: 0.02\n",
      "iteration: 165000 loss: 0.0034 lr: 0.02\n",
      "iteration: 166000 loss: 0.0034 lr: 0.02\n",
      "iteration: 167000 loss: 0.0033 lr: 0.02\n",
      "iteration: 168000 loss: 0.0033 lr: 0.02\n",
      "iteration: 169000 loss: 0.0031 lr: 0.02\n",
      "iteration: 170000 loss: 0.0034 lr: 0.02\n",
      "iteration: 171000 loss: 0.0032 lr: 0.02\n",
      "iteration: 172000 loss: 0.0033 lr: 0.02\n",
      "iteration: 173000 loss: 0.0032 lr: 0.02\n",
      "iteration: 174000 loss: 0.0034 lr: 0.02\n",
      "iteration: 175000 loss: 0.0032 lr: 0.02\n",
      "iteration: 176000 loss: 0.0033 lr: 0.02\n",
      "iteration: 177000 loss: 0.0033 lr: 0.02\n",
      "iteration: 178000 loss: 0.0032 lr: 0.02\n",
      "iteration: 179000 loss: 0.0031 lr: 0.02\n",
      "iteration: 180000 loss: 0.0032 lr: 0.02\n",
      "iteration: 181000 loss: 0.0032 lr: 0.02\n",
      "iteration: 182000 loss: 0.0033 lr: 0.02\n",
      "iteration: 183000 loss: 0.0034 lr: 0.02\n",
      "iteration: 184000 loss: 0.0032 lr: 0.02\n",
      "iteration: 185000 loss: 0.0034 lr: 0.02\n",
      "iteration: 186000 loss: 0.0033 lr: 0.02\n",
      "iteration: 187000 loss: 0.0032 lr: 0.02\n",
      "iteration: 188000 loss: 0.0032 lr: 0.02\n",
      "iteration: 189000 loss: 0.0032 lr: 0.02\n",
      "iteration: 190000 loss: 0.0033 lr: 0.02\n",
      "iteration: 191000 loss: 0.0032 lr: 0.02\n",
      "iteration: 192000 loss: 0.0032 lr: 0.02\n",
      "iteration: 193000 loss: 0.0032 lr: 0.02\n",
      "iteration: 194000 loss: 0.0032 lr: 0.02\n",
      "iteration: 195000 loss: 0.0031 lr: 0.02\n",
      "iteration: 196000 loss: 0.0032 lr: 0.02\n",
      "iteration: 197000 loss: 0.0030 lr: 0.02\n",
      "iteration: 198000 loss: 0.0032 lr: 0.02\n",
      "iteration: 199000 loss: 0.0031 lr: 0.02\n",
      "iteration: 200000 loss: 0.0032 lr: 0.02\n",
      "iteration: 201000 loss: 0.0032 lr: 0.02\n",
      "iteration: 202000 loss: 0.0031 lr: 0.02\n",
      "iteration: 203000 loss: 0.0032 lr: 0.02\n",
      "iteration: 204000 loss: 0.0032 lr: 0.02\n",
      "iteration: 205000 loss: 0.0031 lr: 0.02\n",
      "iteration: 206000 loss: 0.0031 lr: 0.02\n",
      "iteration: 207000 loss: 0.0031 lr: 0.02\n",
      "iteration: 208000 loss: 0.0032 lr: 0.02\n",
      "iteration: 209000 loss: 0.0031 lr: 0.02\n",
      "iteration: 210000 loss: 0.0031 lr: 0.02\n",
      "iteration: 211000 loss: 0.0031 lr: 0.02\n",
      "iteration: 212000 loss: 0.0031 lr: 0.02\n",
      "iteration: 213000 loss: 0.0031 lr: 0.02\n",
      "iteration: 214000 loss: 0.0031 lr: 0.02\n",
      "iteration: 215000 loss: 0.0030 lr: 0.02\n",
      "iteration: 216000 loss: 0.0031 lr: 0.02\n",
      "iteration: 217000 loss: 0.0030 lr: 0.02\n",
      "iteration: 218000 loss: 0.0031 lr: 0.02\n",
      "iteration: 219000 loss: 0.0031 lr: 0.02\n",
      "iteration: 220000 loss: 0.0031 lr: 0.02\n",
      "iteration: 221000 loss: 0.0030 lr: 0.02\n",
      "iteration: 222000 loss: 0.0030 lr: 0.02\n",
      "iteration: 223000 loss: 0.0030 lr: 0.02\n",
      "iteration: 224000 loss: 0.0030 lr: 0.02\n",
      "iteration: 225000 loss: 0.0032 lr: 0.02\n",
      "iteration: 226000 loss: 0.0031 lr: 0.02\n",
      "iteration: 227000 loss: 0.0030 lr: 0.02\n",
      "iteration: 228000 loss: 0.0031 lr: 0.02\n",
      "iteration: 229000 loss: 0.0030 lr: 0.02\n",
      "iteration: 230000 loss: 0.0030 lr: 0.02\n",
      "iteration: 231000 loss: 0.0030 lr: 0.02\n",
      "iteration: 232000 loss: 0.0031 lr: 0.02\n",
      "iteration: 233000 loss: 0.0030 lr: 0.02\n",
      "iteration: 234000 loss: 0.0029 lr: 0.02\n",
      "iteration: 235000 loss: 0.0031 lr: 0.02\n",
      "iteration: 236000 loss: 0.0030 lr: 0.02\n",
      "iteration: 237000 loss: 0.0030 lr: 0.02\n",
      "iteration: 238000 loss: 0.0029 lr: 0.02\n",
      "iteration: 239000 loss: 0.0031 lr: 0.02\n",
      "iteration: 240000 loss: 0.0030 lr: 0.02\n",
      "iteration: 241000 loss: 0.0030 lr: 0.02\n",
      "iteration: 242000 loss: 0.0029 lr: 0.02\n",
      "iteration: 243000 loss: 0.0030 lr: 0.02\n",
      "iteration: 244000 loss: 0.0030 lr: 0.02\n",
      "iteration: 245000 loss: 0.0030 lr: 0.02\n",
      "iteration: 246000 loss: 0.0031 lr: 0.02\n",
      "iteration: 247000 loss: 0.0030 lr: 0.02\n",
      "iteration: 248000 loss: 0.0029 lr: 0.02\n",
      "iteration: 249000 loss: 0.0031 lr: 0.02\n",
      "iteration: 250000 loss: 0.0028 lr: 0.02\n",
      "iteration: 251000 loss: 0.0030 lr: 0.02\n",
      "iteration: 252000 loss: 0.0029 lr: 0.02\n",
      "iteration: 253000 loss: 0.0030 lr: 0.02\n",
      "iteration: 254000 loss: 0.0030 lr: 0.02\n",
      "iteration: 255000 loss: 0.0029 lr: 0.02\n",
      "iteration: 256000 loss: 0.0029 lr: 0.02\n",
      "iteration: 257000 loss: 0.0029 lr: 0.02\n",
      "iteration: 258000 loss: 0.0030 lr: 0.02\n",
      "iteration: 259000 loss: 0.0030 lr: 0.02\n",
      "iteration: 260000 loss: 0.0029 lr: 0.02\n",
      "iteration: 261000 loss: 0.0028 lr: 0.02\n",
      "iteration: 262000 loss: 0.0029 lr: 0.02\n",
      "iteration: 263000 loss: 0.0029 lr: 0.02\n",
      "iteration: 264000 loss: 0.0030 lr: 0.02\n",
      "iteration: 265000 loss: 0.0029 lr: 0.02\n",
      "iteration: 266000 loss: 0.0030 lr: 0.02\n",
      "iteration: 267000 loss: 0.0028 lr: 0.02\n",
      "iteration: 268000 loss: 0.0029 lr: 0.02\n",
      "iteration: 269000 loss: 0.0028 lr: 0.02\n",
      "iteration: 270000 loss: 0.0028 lr: 0.02\n",
      "iteration: 271000 loss: 0.0028 lr: 0.02\n",
      "iteration: 272000 loss: 0.0029 lr: 0.02\n",
      "iteration: 273000 loss: 0.0029 lr: 0.02\n",
      "iteration: 274000 loss: 0.0029 lr: 0.02\n",
      "iteration: 275000 loss: 0.0029 lr: 0.02\n",
      "iteration: 276000 loss: 0.0029 lr: 0.02\n",
      "iteration: 277000 loss: 0.0030 lr: 0.02\n",
      "iteration: 278000 loss: 0.0029 lr: 0.02\n",
      "iteration: 279000 loss: 0.0028 lr: 0.02\n",
      "iteration: 280000 loss: 0.0029 lr: 0.02\n",
      "iteration: 281000 loss: 0.0028 lr: 0.02\n",
      "iteration: 282000 loss: 0.0029 lr: 0.02\n",
      "iteration: 283000 loss: 0.0029 lr: 0.02\n",
      "iteration: 284000 loss: 0.0028 lr: 0.02\n",
      "iteration: 285000 loss: 0.0028 lr: 0.02\n",
      "iteration: 286000 loss: 0.0029 lr: 0.02\n",
      "iteration: 287000 loss: 0.0029 lr: 0.02\n",
      "iteration: 288000 loss: 0.0028 lr: 0.02\n",
      "iteration: 289000 loss: 0.0029 lr: 0.02\n",
      "iteration: 290000 loss: 0.0029 lr: 0.02\n",
      "iteration: 291000 loss: 0.0029 lr: 0.02\n",
      "iteration: 292000 loss: 0.0029 lr: 0.02\n",
      "iteration: 293000 loss: 0.0030 lr: 0.02\n",
      "iteration: 294000 loss: 0.0029 lr: 0.02\n",
      "iteration: 295000 loss: 0.0028 lr: 0.02\n",
      "iteration: 296000 loss: 0.0028 lr: 0.02\n",
      "iteration: 297000 loss: 0.0028 lr: 0.02\n",
      "iteration: 298000 loss: 0.0029 lr: 0.02\n",
      "iteration: 299000 loss: 0.0028 lr: 0.02\n",
      "iteration: 300000 loss: 0.0028 lr: 0.02\n",
      "iteration: 301000 loss: 0.0028 lr: 0.02\n",
      "iteration: 302000 loss: 0.0027 lr: 0.02\n",
      "iteration: 303000 loss: 0.0028 lr: 0.02\n",
      "iteration: 304000 loss: 0.0028 lr: 0.02\n",
      "iteration: 305000 loss: 0.0029 lr: 0.02\n",
      "iteration: 306000 loss: 0.0028 lr: 0.02\n",
      "iteration: 307000 loss: 0.0028 lr: 0.02\n",
      "iteration: 308000 loss: 0.0028 lr: 0.02\n",
      "iteration: 309000 loss: 0.0028 lr: 0.02\n",
      "iteration: 310000 loss: 0.0027 lr: 0.02\n",
      "iteration: 311000 loss: 0.0027 lr: 0.02\n",
      "iteration: 312000 loss: 0.0027 lr: 0.02\n",
      "iteration: 313000 loss: 0.0028 lr: 0.02\n",
      "iteration: 314000 loss: 0.0027 lr: 0.02\n",
      "iteration: 315000 loss: 0.0027 lr: 0.02\n",
      "iteration: 316000 loss: 0.0027 lr: 0.02\n",
      "iteration: 317000 loss: 0.0029 lr: 0.02\n",
      "iteration: 318000 loss: 0.0028 lr: 0.02\n",
      "iteration: 319000 loss: 0.0028 lr: 0.02\n",
      "iteration: 320000 loss: 0.0027 lr: 0.02\n",
      "iteration: 321000 loss: 0.0028 lr: 0.02\n",
      "iteration: 322000 loss: 0.0027 lr: 0.02\n",
      "iteration: 323000 loss: 0.0028 lr: 0.02\n",
      "iteration: 324000 loss: 0.0027 lr: 0.02\n",
      "iteration: 325000 loss: 0.0027 lr: 0.02\n",
      "iteration: 326000 loss: 0.0028 lr: 0.02\n",
      "iteration: 327000 loss: 0.0028 lr: 0.02\n",
      "iteration: 328000 loss: 0.0028 lr: 0.02\n",
      "iteration: 329000 loss: 0.0028 lr: 0.02\n",
      "iteration: 330000 loss: 0.0027 lr: 0.02\n",
      "iteration: 331000 loss: 0.0028 lr: 0.02\n",
      "iteration: 332000 loss: 0.0028 lr: 0.02\n",
      "iteration: 333000 loss: 0.0030 lr: 0.02\n",
      "iteration: 334000 loss: 0.0028 lr: 0.02\n",
      "iteration: 335000 loss: 0.0028 lr: 0.02\n",
      "iteration: 336000 loss: 0.0027 lr: 0.02\n",
      "iteration: 337000 loss: 0.0028 lr: 0.02\n",
      "iteration: 338000 loss: 0.0027 lr: 0.02\n",
      "iteration: 339000 loss: 0.0028 lr: 0.02\n",
      "iteration: 340000 loss: 0.0027 lr: 0.02\n",
      "iteration: 341000 loss: 0.0028 lr: 0.02\n",
      "iteration: 342000 loss: 0.0026 lr: 0.02\n",
      "iteration: 343000 loss: 0.0027 lr: 0.02\n",
      "iteration: 344000 loss: 0.0027 lr: 0.02\n",
      "iteration: 345000 loss: 0.0027 lr: 0.02\n",
      "iteration: 346000 loss: 0.0027 lr: 0.02\n",
      "iteration: 347000 loss: 0.0027 lr: 0.02\n",
      "iteration: 348000 loss: 0.0027 lr: 0.02\n",
      "iteration: 349000 loss: 0.0027 lr: 0.02\n",
      "iteration: 350000 loss: 0.0027 lr: 0.02\n",
      "iteration: 351000 loss: 0.0028 lr: 0.02\n",
      "iteration: 352000 loss: 0.0027 lr: 0.02\n",
      "iteration: 353000 loss: 0.0027 lr: 0.02\n",
      "iteration: 354000 loss: 0.0027 lr: 0.02\n",
      "iteration: 355000 loss: 0.0027 lr: 0.02\n",
      "iteration: 356000 loss: 0.0027 lr: 0.02\n",
      "iteration: 357000 loss: 0.0028 lr: 0.02\n",
      "iteration: 358000 loss: 0.0027 lr: 0.02\n",
      "iteration: 359000 loss: 0.0027 lr: 0.02\n",
      "iteration: 360000 loss: 0.0028 lr: 0.02\n",
      "iteration: 361000 loss: 0.0028 lr: 0.02\n",
      "iteration: 362000 loss: 0.0029 lr: 0.02\n",
      "iteration: 363000 loss: 0.0026 lr: 0.02\n",
      "iteration: 364000 loss: 0.0027 lr: 0.02\n",
      "iteration: 365000 loss: 0.0027 lr: 0.02\n",
      "iteration: 366000 loss: 0.0027 lr: 0.02\n",
      "iteration: 367000 loss: 0.0027 lr: 0.02\n",
      "iteration: 368000 loss: 0.0028 lr: 0.02\n",
      "iteration: 369000 loss: 0.0027 lr: 0.02\n",
      "iteration: 370000 loss: 0.0027 lr: 0.02\n",
      "iteration: 371000 loss: 0.0027 lr: 0.02\n",
      "iteration: 372000 loss: 0.0027 lr: 0.02\n",
      "iteration: 373000 loss: 0.0027 lr: 0.02\n",
      "iteration: 374000 loss: 0.0027 lr: 0.02\n",
      "iteration: 375000 loss: 0.0026 lr: 0.02\n",
      "iteration: 376000 loss: 0.0026 lr: 0.02\n",
      "iteration: 377000 loss: 0.0027 lr: 0.02\n",
      "iteration: 378000 loss: 0.0027 lr: 0.02\n",
      "iteration: 379000 loss: 0.0027 lr: 0.02\n",
      "iteration: 380000 loss: 0.0027 lr: 0.02\n",
      "iteration: 381000 loss: 0.0026 lr: 0.02\n",
      "iteration: 382000 loss: 0.0026 lr: 0.02\n",
      "iteration: 383000 loss: 0.0027 lr: 0.02\n",
      "iteration: 384000 loss: 0.0027 lr: 0.02\n",
      "iteration: 385000 loss: 0.0031 lr: 0.02\n",
      "iteration: 386000 loss: 0.0026 lr: 0.02\n",
      "iteration: 387000 loss: 0.0027 lr: 0.02\n",
      "iteration: 388000 loss: 0.0028 lr: 0.02\n",
      "iteration: 389000 loss: 0.0027 lr: 0.02\n",
      "iteration: 390000 loss: 0.0027 lr: 0.02\n",
      "iteration: 391000 loss: 0.0027 lr: 0.02\n",
      "iteration: 392000 loss: 0.0026 lr: 0.02\n",
      "iteration: 393000 loss: 0.0026 lr: 0.02\n",
      "iteration: 394000 loss: 0.0026 lr: 0.02\n",
      "iteration: 395000 loss: 0.0027 lr: 0.02\n",
      "iteration: 396000 loss: 0.0027 lr: 0.02\n",
      "iteration: 397000 loss: 0.0026 lr: 0.02\n",
      "iteration: 398000 loss: 0.0027 lr: 0.02\n",
      "iteration: 399000 loss: 0.0027 lr: 0.02\n",
      "iteration: 400000 loss: 0.0027 lr: 0.02\n",
      "iteration: 401000 loss: 0.0027 lr: 0.02\n",
      "iteration: 402000 loss: 0.0027 lr: 0.02\n",
      "iteration: 403000 loss: 0.0025 lr: 0.02\n",
      "iteration: 404000 loss: 0.0026 lr: 0.02\n",
      "iteration: 405000 loss: 0.0027 lr: 0.02\n",
      "iteration: 406000 loss: 0.0027 lr: 0.02\n",
      "iteration: 407000 loss: 0.0026 lr: 0.02\n",
      "iteration: 408000 loss: 0.0025 lr: 0.02\n",
      "iteration: 409000 loss: 0.0026 lr: 0.02\n",
      "iteration: 410000 loss: 0.0026 lr: 0.02\n",
      "iteration: 411000 loss: 0.0027 lr: 0.02\n",
      "iteration: 412000 loss: 0.0026 lr: 0.02\n",
      "iteration: 413000 loss: 0.0029 lr: 0.02\n",
      "iteration: 414000 loss: 0.0026 lr: 0.02\n",
      "iteration: 415000 loss: 0.0027 lr: 0.02\n",
      "iteration: 416000 loss: 0.0027 lr: 0.02\n",
      "iteration: 417000 loss: 0.0026 lr: 0.02\n",
      "iteration: 418000 loss: 0.0025 lr: 0.02\n",
      "iteration: 419000 loss: 0.0026 lr: 0.02\n",
      "iteration: 420000 loss: 0.0027 lr: 0.02\n",
      "iteration: 421000 loss: 0.0027 lr: 0.02\n",
      "iteration: 422000 loss: 0.0026 lr: 0.02\n",
      "iteration: 423000 loss: 0.0025 lr: 0.02\n",
      "iteration: 424000 loss: 0.0026 lr: 0.02\n",
      "iteration: 425000 loss: 0.0025 lr: 0.02\n",
      "iteration: 426000 loss: 0.0026 lr: 0.02\n",
      "iteration: 427000 loss: 0.0026 lr: 0.02\n",
      "iteration: 428000 loss: 0.0026 lr: 0.02\n",
      "iteration: 429000 loss: 0.0027 lr: 0.02\n",
      "iteration: 430000 loss: 0.0027 lr: 0.02\n",
      "iteration: 431000 loss: 0.0024 lr: 0.002\n",
      "iteration: 432000 loss: 0.0023 lr: 0.002\n",
      "iteration: 433000 loss: 0.0022 lr: 0.002\n",
      "iteration: 434000 loss: 0.0022 lr: 0.002\n",
      "iteration: 435000 loss: 0.0023 lr: 0.002\n",
      "iteration: 436000 loss: 0.0023 lr: 0.002\n",
      "iteration: 437000 loss: 0.0022 lr: 0.002\n",
      "iteration: 438000 loss: 0.0022 lr: 0.002\n",
      "iteration: 439000 loss: 0.0021 lr: 0.002\n",
      "iteration: 440000 loss: 0.0022 lr: 0.002\n",
      "iteration: 441000 loss: 0.0022 lr: 0.002\n",
      "iteration: 442000 loss: 0.0022 lr: 0.002\n",
      "iteration: 443000 loss: 0.0022 lr: 0.002\n",
      "iteration: 444000 loss: 0.0022 lr: 0.002\n",
      "iteration: 445000 loss: 0.0022 lr: 0.002\n",
      "iteration: 446000 loss: 0.0022 lr: 0.002\n",
      "iteration: 447000 loss: 0.0021 lr: 0.002\n",
      "iteration: 448000 loss: 0.0021 lr: 0.002\n",
      "iteration: 449000 loss: 0.0022 lr: 0.002\n",
      "iteration: 450000 loss: 0.0022 lr: 0.002\n",
      "iteration: 451000 loss: 0.0021 lr: 0.002\n",
      "iteration: 452000 loss: 0.0021 lr: 0.002\n",
      "iteration: 453000 loss: 0.0022 lr: 0.002\n",
      "iteration: 454000 loss: 0.0021 lr: 0.002\n",
      "iteration: 455000 loss: 0.0021 lr: 0.002\n",
      "iteration: 456000 loss: 0.0022 lr: 0.002\n",
      "iteration: 457000 loss: 0.0022 lr: 0.002\n",
      "iteration: 458000 loss: 0.0022 lr: 0.002\n",
      "iteration: 459000 loss: 0.0021 lr: 0.002\n",
      "iteration: 460000 loss: 0.0021 lr: 0.002\n",
      "iteration: 461000 loss: 0.0020 lr: 0.002\n",
      "iteration: 462000 loss: 0.0022 lr: 0.002\n",
      "iteration: 463000 loss: 0.0021 lr: 0.002\n",
      "iteration: 464000 loss: 0.0021 lr: 0.002\n",
      "iteration: 465000 loss: 0.0021 lr: 0.002\n",
      "iteration: 466000 loss: 0.0021 lr: 0.002\n",
      "iteration: 467000 loss: 0.0021 lr: 0.002\n",
      "iteration: 468000 loss: 0.0021 lr: 0.002\n",
      "iteration: 469000 loss: 0.0022 lr: 0.002\n",
      "iteration: 470000 loss: 0.0021 lr: 0.002\n",
      "iteration: 471000 loss: 0.0021 lr: 0.002\n",
      "iteration: 472000 loss: 0.0020 lr: 0.002\n",
      "iteration: 473000 loss: 0.0021 lr: 0.002\n",
      "iteration: 474000 loss: 0.0021 lr: 0.002\n",
      "iteration: 475000 loss: 0.0020 lr: 0.002\n",
      "iteration: 476000 loss: 0.0021 lr: 0.002\n",
      "iteration: 477000 loss: 0.0021 lr: 0.002\n",
      "iteration: 478000 loss: 0.0021 lr: 0.002\n",
      "iteration: 479000 loss: 0.0020 lr: 0.002\n",
      "iteration: 480000 loss: 0.0020 lr: 0.002\n",
      "iteration: 481000 loss: 0.0021 lr: 0.002\n",
      "iteration: 482000 loss: 0.0020 lr: 0.002\n",
      "iteration: 483000 loss: 0.0021 lr: 0.002\n",
      "iteration: 484000 loss: 0.0021 lr: 0.002\n",
      "iteration: 485000 loss: 0.0021 lr: 0.002\n",
      "iteration: 486000 loss: 0.0021 lr: 0.002\n",
      "iteration: 487000 loss: 0.0022 lr: 0.002\n",
      "iteration: 488000 loss: 0.0021 lr: 0.002\n",
      "iteration: 489000 loss: 0.0021 lr: 0.002\n",
      "iteration: 490000 loss: 0.0020 lr: 0.002\n",
      "iteration: 491000 loss: 0.0021 lr: 0.002\n",
      "iteration: 492000 loss: 0.0021 lr: 0.002\n",
      "iteration: 493000 loss: 0.0021 lr: 0.002\n",
      "iteration: 494000 loss: 0.0021 lr: 0.002\n",
      "iteration: 495000 loss: 0.0021 lr: 0.002\n",
      "iteration: 496000 loss: 0.0021 lr: 0.002\n",
      "iteration: 497000 loss: 0.0021 lr: 0.002\n",
      "iteration: 498000 loss: 0.0021 lr: 0.002\n",
      "iteration: 499000 loss: 0.0021 lr: 0.002\n",
      "iteration: 500000 loss: 0.0021 lr: 0.002\n",
      "iteration: 501000 loss: 0.0021 lr: 0.002\n",
      "iteration: 502000 loss: 0.0021 lr: 0.002\n",
      "iteration: 503000 loss: 0.0021 lr: 0.002\n",
      "iteration: 504000 loss: 0.0020 lr: 0.002\n",
      "iteration: 505000 loss: 0.0021 lr: 0.002\n",
      "iteration: 506000 loss: 0.0020 lr: 0.002\n",
      "iteration: 507000 loss: 0.0021 lr: 0.002\n",
      "iteration: 508000 loss: 0.0021 lr: 0.002\n",
      "iteration: 509000 loss: 0.0020 lr: 0.002\n",
      "iteration: 510000 loss: 0.0020 lr: 0.002\n",
      "iteration: 511000 loss: 0.0020 lr: 0.002\n",
      "iteration: 512000 loss: 0.0021 lr: 0.002\n",
      "iteration: 513000 loss: 0.0021 lr: 0.002\n",
      "iteration: 514000 loss: 0.0021 lr: 0.002\n",
      "iteration: 515000 loss: 0.0021 lr: 0.002\n",
      "iteration: 516000 loss: 0.0021 lr: 0.002\n",
      "iteration: 517000 loss: 0.0021 lr: 0.002\n",
      "iteration: 518000 loss: 0.0021 lr: 0.002\n",
      "iteration: 519000 loss: 0.0021 lr: 0.002\n",
      "iteration: 520000 loss: 0.0020 lr: 0.002\n",
      "iteration: 521000 loss: 0.0020 lr: 0.002\n",
      "iteration: 522000 loss: 0.0020 lr: 0.002\n",
      "iteration: 523000 loss: 0.0021 lr: 0.002\n",
      "iteration: 524000 loss: 0.0020 lr: 0.002\n",
      "iteration: 525000 loss: 0.0021 lr: 0.002\n",
      "iteration: 526000 loss: 0.0020 lr: 0.002\n",
      "iteration: 527000 loss: 0.0021 lr: 0.002\n",
      "iteration: 528000 loss: 0.0020 lr: 0.002\n",
      "iteration: 529000 loss: 0.0021 lr: 0.002\n",
      "iteration: 530000 loss: 0.0020 lr: 0.002\n",
      "iteration: 531000 loss: 0.0020 lr: 0.002\n",
      "iteration: 532000 loss: 0.0020 lr: 0.002\n",
      "iteration: 533000 loss: 0.0021 lr: 0.002\n",
      "iteration: 534000 loss: 0.0021 lr: 0.002\n",
      "iteration: 535000 loss: 0.0020 lr: 0.002\n",
      "iteration: 536000 loss: 0.0020 lr: 0.002\n",
      "iteration: 537000 loss: 0.0020 lr: 0.002\n",
      "iteration: 538000 loss: 0.0021 lr: 0.002\n",
      "iteration: 539000 loss: 0.0020 lr: 0.002\n",
      "iteration: 540000 loss: 0.0020 lr: 0.002\n",
      "iteration: 541000 loss: 0.0021 lr: 0.002\n",
      "iteration: 542000 loss: 0.0021 lr: 0.002\n",
      "iteration: 543000 loss: 0.0021 lr: 0.002\n",
      "iteration: 544000 loss: 0.0021 lr: 0.002\n",
      "iteration: 545000 loss: 0.0021 lr: 0.002\n",
      "iteration: 546000 loss: 0.0020 lr: 0.002\n",
      "iteration: 547000 loss: 0.0020 lr: 0.002\n",
      "iteration: 548000 loss: 0.0021 lr: 0.002\n",
      "iteration: 549000 loss: 0.0021 lr: 0.002\n",
      "iteration: 550000 loss: 0.0020 lr: 0.002\n",
      "iteration: 551000 loss: 0.0020 lr: 0.002\n",
      "iteration: 552000 loss: 0.0021 lr: 0.002\n",
      "iteration: 553000 loss: 0.0021 lr: 0.002\n",
      "iteration: 554000 loss: 0.0020 lr: 0.002\n",
      "iteration: 555000 loss: 0.0021 lr: 0.002\n",
      "iteration: 556000 loss: 0.0021 lr: 0.002\n",
      "iteration: 557000 loss: 0.0020 lr: 0.002\n",
      "iteration: 558000 loss: 0.0020 lr: 0.002\n",
      "iteration: 559000 loss: 0.0021 lr: 0.002\n",
      "iteration: 560000 loss: 0.0021 lr: 0.002\n",
      "iteration: 561000 loss: 0.0020 lr: 0.002\n",
      "iteration: 562000 loss: 0.0021 lr: 0.002\n",
      "iteration: 563000 loss: 0.0020 lr: 0.002\n",
      "iteration: 564000 loss: 0.0020 lr: 0.002\n",
      "iteration: 565000 loss: 0.0021 lr: 0.002\n",
      "iteration: 566000 loss: 0.0020 lr: 0.002\n",
      "iteration: 567000 loss: 0.0020 lr: 0.002\n",
      "iteration: 568000 loss: 0.0020 lr: 0.002\n",
      "iteration: 569000 loss: 0.0021 lr: 0.002\n",
      "iteration: 570000 loss: 0.0020 lr: 0.002\n",
      "iteration: 571000 loss: 0.0019 lr: 0.002\n",
      "iteration: 572000 loss: 0.0020 lr: 0.002\n",
      "iteration: 573000 loss: 0.0020 lr: 0.002\n",
      "iteration: 574000 loss: 0.0020 lr: 0.002\n",
      "iteration: 575000 loss: 0.0020 lr: 0.002\n",
      "iteration: 576000 loss: 0.0021 lr: 0.002\n",
      "iteration: 577000 loss: 0.0020 lr: 0.002\n",
      "iteration: 578000 loss: 0.0020 lr: 0.002\n",
      "iteration: 579000 loss: 0.0020 lr: 0.002\n",
      "iteration: 580000 loss: 0.0020 lr: 0.002\n",
      "iteration: 581000 loss: 0.0021 lr: 0.002\n",
      "iteration: 582000 loss: 0.0020 lr: 0.002\n",
      "iteration: 583000 loss: 0.0020 lr: 0.002\n",
      "iteration: 584000 loss: 0.0021 lr: 0.002\n",
      "iteration: 585000 loss: 0.0021 lr: 0.002\n",
      "iteration: 586000 loss: 0.0021 lr: 0.002\n",
      "iteration: 587000 loss: 0.0020 lr: 0.002\n",
      "iteration: 588000 loss: 0.0020 lr: 0.002\n",
      "iteration: 589000 loss: 0.0020 lr: 0.002\n",
      "iteration: 590000 loss: 0.0021 lr: 0.002\n",
      "iteration: 591000 loss: 0.0020 lr: 0.002\n",
      "iteration: 592000 loss: 0.0021 lr: 0.002\n",
      "iteration: 593000 loss: 0.0021 lr: 0.002\n",
      "iteration: 594000 loss: 0.0020 lr: 0.002\n",
      "iteration: 595000 loss: 0.0021 lr: 0.002\n",
      "iteration: 596000 loss: 0.0020 lr: 0.002\n",
      "iteration: 597000 loss: 0.0021 lr: 0.002\n",
      "iteration: 598000 loss: 0.0021 lr: 0.002\n",
      "iteration: 599000 loss: 0.0021 lr: 0.002\n",
      "iteration: 600000 loss: 0.0021 lr: 0.002\n",
      "iteration: 601000 loss: 0.0020 lr: 0.002\n",
      "iteration: 602000 loss: 0.0020 lr: 0.002\n",
      "iteration: 603000 loss: 0.0020 lr: 0.002\n",
      "iteration: 604000 loss: 0.0021 lr: 0.002\n",
      "iteration: 605000 loss: 0.0020 lr: 0.002\n",
      "iteration: 606000 loss: 0.0021 lr: 0.002\n",
      "iteration: 607000 loss: 0.0020 lr: 0.002\n",
      "iteration: 608000 loss: 0.0020 lr: 0.002\n",
      "iteration: 609000 loss: 0.0020 lr: 0.002\n",
      "iteration: 610000 loss: 0.0021 lr: 0.002\n",
      "iteration: 611000 loss: 0.0020 lr: 0.002\n",
      "iteration: 612000 loss: 0.0020 lr: 0.002\n",
      "iteration: 613000 loss: 0.0020 lr: 0.002\n",
      "iteration: 614000 loss: 0.0020 lr: 0.002\n",
      "iteration: 615000 loss: 0.0021 lr: 0.002\n",
      "iteration: 616000 loss: 0.0021 lr: 0.002\n",
      "iteration: 617000 loss: 0.0021 lr: 0.002\n",
      "iteration: 618000 loss: 0.0020 lr: 0.002\n",
      "iteration: 619000 loss: 0.0020 lr: 0.002\n",
      "iteration: 620000 loss: 0.0020 lr: 0.002\n",
      "iteration: 621000 loss: 0.0020 lr: 0.002\n",
      "iteration: 622000 loss: 0.0020 lr: 0.002\n",
      "iteration: 623000 loss: 0.0020 lr: 0.002\n",
      "iteration: 624000 loss: 0.0019 lr: 0.002\n",
      "iteration: 625000 loss: 0.0020 lr: 0.002\n",
      "iteration: 626000 loss: 0.0020 lr: 0.002\n",
      "iteration: 627000 loss: 0.0020 lr: 0.002\n",
      "iteration: 628000 loss: 0.0020 lr: 0.002\n",
      "iteration: 629000 loss: 0.0020 lr: 0.002\n",
      "iteration: 630000 loss: 0.0020 lr: 0.002\n",
      "iteration: 631000 loss: 0.0020 lr: 0.002\n",
      "iteration: 632000 loss: 0.0020 lr: 0.002\n",
      "iteration: 633000 loss: 0.0020 lr: 0.002\n",
      "iteration: 634000 loss: 0.0020 lr: 0.002\n",
      "iteration: 635000 loss: 0.0020 lr: 0.002\n",
      "iteration: 636000 loss: 0.0020 lr: 0.002\n",
      "iteration: 637000 loss: 0.0020 lr: 0.002\n",
      "iteration: 638000 loss: 0.0021 lr: 0.002\n",
      "iteration: 639000 loss: 0.0020 lr: 0.002\n",
      "iteration: 640000 loss: 0.0020 lr: 0.002\n",
      "iteration: 641000 loss: 0.0020 lr: 0.002\n",
      "iteration: 642000 loss: 0.0020 lr: 0.002\n",
      "iteration: 643000 loss: 0.0020 lr: 0.002\n",
      "iteration: 644000 loss: 0.0020 lr: 0.002\n",
      "iteration: 645000 loss: 0.0019 lr: 0.002\n",
      "iteration: 646000 loss: 0.0020 lr: 0.002\n",
      "iteration: 647000 loss: 0.0020 lr: 0.002\n",
      "iteration: 648000 loss: 0.0020 lr: 0.002\n",
      "iteration: 649000 loss: 0.0021 lr: 0.002\n",
      "iteration: 650000 loss: 0.0020 lr: 0.002\n",
      "iteration: 651000 loss: 0.0019 lr: 0.002\n",
      "iteration: 652000 loss: 0.0020 lr: 0.002\n",
      "iteration: 653000 loss: 0.0019 lr: 0.002\n",
      "iteration: 654000 loss: 0.0021 lr: 0.002\n",
      "iteration: 655000 loss: 0.0020 lr: 0.002\n",
      "iteration: 656000 loss: 0.0020 lr: 0.002\n",
      "iteration: 657000 loss: 0.0020 lr: 0.002\n",
      "iteration: 658000 loss: 0.0020 lr: 0.002\n",
      "iteration: 659000 loss: 0.0021 lr: 0.002\n",
      "iteration: 660000 loss: 0.0020 lr: 0.002\n",
      "iteration: 661000 loss: 0.0021 lr: 0.002\n",
      "iteration: 662000 loss: 0.0020 lr: 0.002\n",
      "iteration: 663000 loss: 0.0020 lr: 0.002\n",
      "iteration: 664000 loss: 0.0020 lr: 0.002\n",
      "iteration: 665000 loss: 0.0020 lr: 0.002\n",
      "iteration: 666000 loss: 0.0020 lr: 0.002\n",
      "iteration: 667000 loss: 0.0020 lr: 0.002\n",
      "iteration: 668000 loss: 0.0020 lr: 0.002\n",
      "iteration: 669000 loss: 0.0021 lr: 0.002\n",
      "iteration: 670000 loss: 0.0020 lr: 0.002\n",
      "iteration: 671000 loss: 0.0020 lr: 0.002\n",
      "iteration: 672000 loss: 0.0020 lr: 0.002\n",
      "iteration: 673000 loss: 0.0020 lr: 0.002\n",
      "iteration: 674000 loss: 0.0020 lr: 0.002\n",
      "iteration: 675000 loss: 0.0020 lr: 0.002\n",
      "iteration: 676000 loss: 0.0020 lr: 0.002\n",
      "iteration: 677000 loss: 0.0020 lr: 0.002\n",
      "iteration: 678000 loss: 0.0020 lr: 0.002\n",
      "iteration: 679000 loss: 0.0021 lr: 0.002\n",
      "iteration: 680000 loss: 0.0020 lr: 0.002\n",
      "iteration: 681000 loss: 0.0020 lr: 0.002\n",
      "iteration: 682000 loss: 0.0020 lr: 0.002\n",
      "iteration: 683000 loss: 0.0021 lr: 0.002\n",
      "iteration: 684000 loss: 0.0021 lr: 0.002\n",
      "iteration: 685000 loss: 0.0020 lr: 0.002\n",
      "iteration: 686000 loss: 0.0020 lr: 0.002\n",
      "iteration: 687000 loss: 0.0020 lr: 0.002\n",
      "iteration: 688000 loss: 0.0020 lr: 0.002\n",
      "iteration: 689000 loss: 0.0021 lr: 0.002\n",
      "iteration: 690000 loss: 0.0020 lr: 0.002\n",
      "iteration: 691000 loss: 0.0020 lr: 0.002\n",
      "iteration: 692000 loss: 0.0020 lr: 0.002\n",
      "iteration: 693000 loss: 0.0020 lr: 0.002\n",
      "iteration: 694000 loss: 0.0020 lr: 0.002\n",
      "iteration: 695000 loss: 0.0020 lr: 0.002\n",
      "iteration: 696000 loss: 0.0020 lr: 0.002\n",
      "iteration: 697000 loss: 0.0020 lr: 0.002\n",
      "iteration: 698000 loss: 0.0020 lr: 0.002\n",
      "iteration: 699000 loss: 0.0020 lr: 0.002\n",
      "iteration: 700000 loss: 0.0020 lr: 0.002\n",
      "iteration: 701000 loss: 0.0020 lr: 0.002\n",
      "iteration: 702000 loss: 0.0020 lr: 0.002\n",
      "iteration: 703000 loss: 0.0020 lr: 0.002\n",
      "iteration: 704000 loss: 0.0020 lr: 0.002\n",
      "iteration: 705000 loss: 0.0020 lr: 0.002\n",
      "iteration: 706000 loss: 0.0020 lr: 0.002\n",
      "iteration: 707000 loss: 0.0020 lr: 0.002\n",
      "iteration: 708000 loss: 0.0020 lr: 0.002\n",
      "iteration: 709000 loss: 0.0021 lr: 0.002\n",
      "iteration: 710000 loss: 0.0020 lr: 0.002\n",
      "iteration: 711000 loss: 0.0020 lr: 0.002\n",
      "iteration: 712000 loss: 0.0020 lr: 0.002\n",
      "iteration: 713000 loss: 0.0020 lr: 0.002\n",
      "iteration: 714000 loss: 0.0019 lr: 0.002\n",
      "iteration: 715000 loss: 0.0020 lr: 0.002\n",
      "iteration: 716000 loss: 0.0019 lr: 0.002\n",
      "iteration: 717000 loss: 0.0020 lr: 0.002\n",
      "iteration: 718000 loss: 0.0021 lr: 0.002\n",
      "iteration: 719000 loss: 0.0020 lr: 0.002\n",
      "iteration: 720000 loss: 0.0020 lr: 0.002\n",
      "iteration: 721000 loss: 0.0020 lr: 0.002\n",
      "iteration: 722000 loss: 0.0020 lr: 0.002\n",
      "iteration: 723000 loss: 0.0020 lr: 0.002\n",
      "iteration: 724000 loss: 0.0020 lr: 0.002\n",
      "iteration: 725000 loss: 0.0020 lr: 0.002\n",
      "iteration: 726000 loss: 0.0020 lr: 0.002\n",
      "iteration: 727000 loss: 0.0020 lr: 0.002\n",
      "iteration: 728000 loss: 0.0020 lr: 0.002\n",
      "iteration: 729000 loss: 0.0021 lr: 0.002\n",
      "iteration: 730000 loss: 0.0020 lr: 0.002\n",
      "iteration: 731000 loss: 0.0020 lr: 0.001\n",
      "iteration: 732000 loss: 0.0019 lr: 0.001\n",
      "iteration: 733000 loss: 0.0019 lr: 0.001\n",
      "iteration: 734000 loss: 0.0019 lr: 0.001\n",
      "iteration: 735000 loss: 0.0020 lr: 0.001\n",
      "iteration: 736000 loss: 0.0020 lr: 0.001\n",
      "iteration: 737000 loss: 0.0019 lr: 0.001\n",
      "iteration: 738000 loss: 0.0020 lr: 0.001\n",
      "iteration: 739000 loss: 0.0020 lr: 0.001\n",
      "iteration: 740000 loss: 0.0020 lr: 0.001\n",
      "iteration: 741000 loss: 0.0020 lr: 0.001\n",
      "iteration: 742000 loss: 0.0020 lr: 0.001\n",
      "iteration: 743000 loss: 0.0020 lr: 0.001\n",
      "iteration: 744000 loss: 0.0019 lr: 0.001\n",
      "iteration: 745000 loss: 0.0020 lr: 0.001\n",
      "iteration: 746000 loss: 0.0020 lr: 0.001\n",
      "iteration: 747000 loss: 0.0019 lr: 0.001\n",
      "iteration: 748000 loss: 0.0020 lr: 0.001\n",
      "iteration: 749000 loss: 0.0019 lr: 0.001\n",
      "iteration: 750000 loss: 0.0020 lr: 0.001\n",
      "iteration: 751000 loss: 0.0020 lr: 0.001\n",
      "iteration: 752000 loss: 0.0019 lr: 0.001\n",
      "iteration: 753000 loss: 0.0020 lr: 0.001\n",
      "iteration: 754000 loss: 0.0020 lr: 0.001\n",
      "iteration: 755000 loss: 0.0020 lr: 0.001\n",
      "iteration: 756000 loss: 0.0020 lr: 0.001\n",
      "iteration: 757000 loss: 0.0019 lr: 0.001\n",
      "iteration: 758000 loss: 0.0019 lr: 0.001\n",
      "iteration: 759000 loss: 0.0020 lr: 0.001\n",
      "iteration: 760000 loss: 0.0019 lr: 0.001\n",
      "iteration: 761000 loss: 0.0020 lr: 0.001\n",
      "iteration: 762000 loss: 0.0019 lr: 0.001\n",
      "iteration: 763000 loss: 0.0020 lr: 0.001\n",
      "iteration: 764000 loss: 0.0020 lr: 0.001\n",
      "iteration: 765000 loss: 0.0019 lr: 0.001\n",
      "iteration: 766000 loss: 0.0019 lr: 0.001\n",
      "iteration: 767000 loss: 0.0020 lr: 0.001\n",
      "iteration: 768000 loss: 0.0020 lr: 0.001\n",
      "iteration: 769000 loss: 0.0020 lr: 0.001\n",
      "iteration: 770000 loss: 0.0019 lr: 0.001\n",
      "iteration: 771000 loss: 0.0019 lr: 0.001\n",
      "iteration: 772000 loss: 0.0019 lr: 0.001\n",
      "iteration: 773000 loss: 0.0019 lr: 0.001\n",
      "iteration: 774000 loss: 0.0020 lr: 0.001\n",
      "iteration: 775000 loss: 0.0019 lr: 0.001\n",
      "iteration: 776000 loss: 0.0019 lr: 0.001\n",
      "iteration: 777000 loss: 0.0020 lr: 0.001\n",
      "iteration: 778000 loss: 0.0019 lr: 0.001\n",
      "iteration: 779000 loss: 0.0020 lr: 0.001\n",
      "iteration: 780000 loss: 0.0019 lr: 0.001\n",
      "iteration: 781000 loss: 0.0019 lr: 0.001\n",
      "iteration: 782000 loss: 0.0020 lr: 0.001\n",
      "iteration: 783000 loss: 0.0020 lr: 0.001\n",
      "iteration: 784000 loss: 0.0019 lr: 0.001\n",
      "iteration: 785000 loss: 0.0020 lr: 0.001\n",
      "iteration: 786000 loss: 0.0019 lr: 0.001\n",
      "iteration: 787000 loss: 0.0019 lr: 0.001\n",
      "iteration: 788000 loss: 0.0019 lr: 0.001\n",
      "iteration: 789000 loss: 0.0020 lr: 0.001\n",
      "iteration: 790000 loss: 0.0020 lr: 0.001\n",
      "iteration: 791000 loss: 0.0020 lr: 0.001\n",
      "iteration: 792000 loss: 0.0019 lr: 0.001\n",
      "iteration: 793000 loss: 0.0019 lr: 0.001\n",
      "iteration: 794000 loss: 0.0019 lr: 0.001\n",
      "iteration: 795000 loss: 0.0020 lr: 0.001\n",
      "iteration: 796000 loss: 0.0019 lr: 0.001\n",
      "iteration: 797000 loss: 0.0019 lr: 0.001\n",
      "iteration: 798000 loss: 0.0019 lr: 0.001\n",
      "iteration: 799000 loss: 0.0019 lr: 0.001\n",
      "iteration: 800000 loss: 0.0020 lr: 0.001\n",
      "iteration: 801000 loss: 0.0020 lr: 0.001\n",
      "iteration: 802000 loss: 0.0020 lr: 0.001\n",
      "iteration: 803000 loss: 0.0020 lr: 0.001\n",
      "iteration: 804000 loss: 0.0018 lr: 0.001\n",
      "iteration: 805000 loss: 0.0020 lr: 0.001\n",
      "iteration: 806000 loss: 0.0019 lr: 0.001\n",
      "iteration: 807000 loss: 0.0020 lr: 0.001\n",
      "iteration: 808000 loss: 0.0019 lr: 0.001\n",
      "iteration: 809000 loss: 0.0019 lr: 0.001\n",
      "iteration: 810000 loss: 0.0020 lr: 0.001\n",
      "iteration: 811000 loss: 0.0020 lr: 0.001\n",
      "iteration: 812000 loss: 0.0020 lr: 0.001\n",
      "iteration: 813000 loss: 0.0020 lr: 0.001\n",
      "iteration: 814000 loss: 0.0020 lr: 0.001\n",
      "iteration: 815000 loss: 0.0020 lr: 0.001\n",
      "iteration: 816000 loss: 0.0020 lr: 0.001\n",
      "iteration: 817000 loss: 0.0019 lr: 0.001\n",
      "iteration: 818000 loss: 0.0020 lr: 0.001\n",
      "iteration: 819000 loss: 0.0019 lr: 0.001\n",
      "iteration: 820000 loss: 0.0019 lr: 0.001\n",
      "iteration: 821000 loss: 0.0020 lr: 0.001\n",
      "iteration: 822000 loss: 0.0020 lr: 0.001\n",
      "iteration: 823000 loss: 0.0020 lr: 0.001\n",
      "iteration: 824000 loss: 0.0020 lr: 0.001\n",
      "iteration: 825000 loss: 0.0020 lr: 0.001\n",
      "iteration: 826000 loss: 0.0020 lr: 0.001\n",
      "iteration: 827000 loss: 0.0020 lr: 0.001\n",
      "iteration: 828000 loss: 0.0020 lr: 0.001\n",
      "iteration: 829000 loss: 0.0020 lr: 0.001\n",
      "iteration: 830000 loss: 0.0019 lr: 0.001\n",
      "iteration: 831000 loss: 0.0019 lr: 0.001\n",
      "iteration: 832000 loss: 0.0020 lr: 0.001\n",
      "iteration: 833000 loss: 0.0020 lr: 0.001\n",
      "iteration: 834000 loss: 0.0019 lr: 0.001\n",
      "iteration: 835000 loss: 0.0019 lr: 0.001\n",
      "iteration: 836000 loss: 0.0019 lr: 0.001\n",
      "iteration: 837000 loss: 0.0019 lr: 0.001\n",
      "iteration: 838000 loss: 0.0020 lr: 0.001\n",
      "iteration: 839000 loss: 0.0020 lr: 0.001\n",
      "iteration: 840000 loss: 0.0019 lr: 0.001\n",
      "iteration: 841000 loss: 0.0020 lr: 0.001\n",
      "iteration: 842000 loss: 0.0020 lr: 0.001\n",
      "iteration: 843000 loss: 0.0020 lr: 0.001\n",
      "iteration: 844000 loss: 0.0019 lr: 0.001\n",
      "iteration: 845000 loss: 0.0019 lr: 0.001\n",
      "iteration: 846000 loss: 0.0019 lr: 0.001\n",
      "iteration: 847000 loss: 0.0020 lr: 0.001\n",
      "iteration: 848000 loss: 0.0020 lr: 0.001\n",
      "iteration: 849000 loss: 0.0019 lr: 0.001\n",
      "iteration: 850000 loss: 0.0020 lr: 0.001\n",
      "iteration: 851000 loss: 0.0020 lr: 0.001\n",
      "iteration: 852000 loss: 0.0020 lr: 0.001\n",
      "iteration: 853000 loss: 0.0020 lr: 0.001\n",
      "iteration: 854000 loss: 0.0019 lr: 0.001\n",
      "iteration: 855000 loss: 0.0019 lr: 0.001\n",
      "iteration: 856000 loss: 0.0020 lr: 0.001\n",
      "iteration: 857000 loss: 0.0019 lr: 0.001\n",
      "iteration: 858000 loss: 0.0020 lr: 0.001\n",
      "iteration: 859000 loss: 0.0019 lr: 0.001\n",
      "iteration: 860000 loss: 0.0020 lr: 0.001\n",
      "iteration: 861000 loss: 0.0020 lr: 0.001\n",
      "iteration: 862000 loss: 0.0019 lr: 0.001\n",
      "iteration: 863000 loss: 0.0019 lr: 0.001\n",
      "iteration: 864000 loss: 0.0019 lr: 0.001\n",
      "iteration: 865000 loss: 0.0019 lr: 0.001\n",
      "iteration: 866000 loss: 0.0019 lr: 0.001\n",
      "iteration: 867000 loss: 0.0019 lr: 0.001\n",
      "iteration: 868000 loss: 0.0020 lr: 0.001\n",
      "iteration: 869000 loss: 0.0019 lr: 0.001\n",
      "iteration: 870000 loss: 0.0020 lr: 0.001\n",
      "iteration: 871000 loss: 0.0020 lr: 0.001\n",
      "iteration: 872000 loss: 0.0019 lr: 0.001\n",
      "iteration: 873000 loss: 0.0019 lr: 0.001\n",
      "iteration: 874000 loss: 0.0020 lr: 0.001\n",
      "iteration: 875000 loss: 0.0019 lr: 0.001\n",
      "iteration: 876000 loss: 0.0019 lr: 0.001\n",
      "iteration: 877000 loss: 0.0020 lr: 0.001\n",
      "iteration: 878000 loss: 0.0019 lr: 0.001\n",
      "iteration: 879000 loss: 0.0019 lr: 0.001\n",
      "iteration: 880000 loss: 0.0020 lr: 0.001\n",
      "iteration: 881000 loss: 0.0020 lr: 0.001\n",
      "iteration: 882000 loss: 0.0020 lr: 0.001\n",
      "iteration: 883000 loss: 0.0020 lr: 0.001\n",
      "iteration: 884000 loss: 0.0020 lr: 0.001\n",
      "iteration: 885000 loss: 0.0020 lr: 0.001\n",
      "iteration: 886000 loss: 0.0019 lr: 0.001\n",
      "iteration: 887000 loss: 0.0019 lr: 0.001\n",
      "iteration: 888000 loss: 0.0020 lr: 0.001\n",
      "iteration: 889000 loss: 0.0020 lr: 0.001\n",
      "iteration: 890000 loss: 0.0020 lr: 0.001\n",
      "iteration: 891000 loss: 0.0020 lr: 0.001\n",
      "iteration: 892000 loss: 0.0019 lr: 0.001\n",
      "iteration: 893000 loss: 0.0019 lr: 0.001\n",
      "iteration: 894000 loss: 0.0018 lr: 0.001\n",
      "iteration: 895000 loss: 0.0020 lr: 0.001\n",
      "iteration: 896000 loss: 0.0020 lr: 0.001\n",
      "iteration: 897000 loss: 0.0019 lr: 0.001\n",
      "iteration: 898000 loss: 0.0019 lr: 0.001\n",
      "iteration: 899000 loss: 0.0019 lr: 0.001\n",
      "iteration: 900000 loss: 0.0020 lr: 0.001\n",
      "iteration: 901000 loss: 0.0020 lr: 0.001\n",
      "iteration: 902000 loss: 0.0019 lr: 0.001\n",
      "iteration: 903000 loss: 0.0020 lr: 0.001\n",
      "iteration: 904000 loss: 0.0019 lr: 0.001\n",
      "iteration: 905000 loss: 0.0020 lr: 0.001\n",
      "iteration: 906000 loss: 0.0020 lr: 0.001\n",
      "iteration: 907000 loss: 0.0020 lr: 0.001\n",
      "iteration: 908000 loss: 0.0019 lr: 0.001\n",
      "iteration: 909000 loss: 0.0019 lr: 0.001\n",
      "iteration: 910000 loss: 0.0019 lr: 0.001\n",
      "iteration: 911000 loss: 0.0019 lr: 0.001\n",
      "iteration: 912000 loss: 0.0019 lr: 0.001\n",
      "iteration: 913000 loss: 0.0020 lr: 0.001\n",
      "iteration: 914000 loss: 0.0019 lr: 0.001\n",
      "iteration: 915000 loss: 0.0020 lr: 0.001\n",
      "iteration: 916000 loss: 0.0019 lr: 0.001\n",
      "iteration: 917000 loss: 0.0019 lr: 0.001\n",
      "iteration: 918000 loss: 0.0020 lr: 0.001\n",
      "iteration: 919000 loss: 0.0019 lr: 0.001\n",
      "iteration: 920000 loss: 0.0020 lr: 0.001\n",
      "iteration: 921000 loss: 0.0019 lr: 0.001\n",
      "iteration: 922000 loss: 0.0019 lr: 0.001\n",
      "iteration: 923000 loss: 0.0019 lr: 0.001\n",
      "iteration: 924000 loss: 0.0020 lr: 0.001\n",
      "iteration: 925000 loss: 0.0020 lr: 0.001\n",
      "iteration: 926000 loss: 0.0020 lr: 0.001\n",
      "iteration: 927000 loss: 0.0020 lr: 0.001\n",
      "iteration: 928000 loss: 0.0020 lr: 0.001\n",
      "iteration: 929000 loss: 0.0020 lr: 0.001\n",
      "iteration: 930000 loss: 0.0020 lr: 0.001\n",
      "iteration: 931000 loss: 0.0018 lr: 0.001\n",
      "iteration: 932000 loss: 0.0019 lr: 0.001\n",
      "iteration: 933000 loss: 0.0019 lr: 0.001\n",
      "iteration: 934000 loss: 0.0019 lr: 0.001\n",
      "iteration: 935000 loss: 0.0019 lr: 0.001\n",
      "iteration: 936000 loss: 0.0020 lr: 0.001\n",
      "iteration: 937000 loss: 0.0019 lr: 0.001\n",
      "iteration: 938000 loss: 0.0019 lr: 0.001\n",
      "iteration: 939000 loss: 0.0019 lr: 0.001\n",
      "iteration: 940000 loss: 0.0019 lr: 0.001\n",
      "iteration: 941000 loss: 0.0019 lr: 0.001\n",
      "iteration: 942000 loss: 0.0019 lr: 0.001\n",
      "iteration: 943000 loss: 0.0019 lr: 0.001\n",
      "iteration: 944000 loss: 0.0020 lr: 0.001\n",
      "iteration: 945000 loss: 0.0020 lr: 0.001\n",
      "iteration: 946000 loss: 0.0020 lr: 0.001\n",
      "iteration: 947000 loss: 0.0020 lr: 0.001\n",
      "iteration: 948000 loss: 0.0019 lr: 0.001\n",
      "iteration: 949000 loss: 0.0019 lr: 0.001\n",
      "iteration: 950000 loss: 0.0019 lr: 0.001\n",
      "iteration: 951000 loss: 0.0019 lr: 0.001\n",
      "iteration: 952000 loss: 0.0019 lr: 0.001\n",
      "iteration: 953000 loss: 0.0019 lr: 0.001\n",
      "iteration: 954000 loss: 0.0020 lr: 0.001\n",
      "iteration: 955000 loss: 0.0020 lr: 0.001\n",
      "iteration: 956000 loss: 0.0019 lr: 0.001\n",
      "iteration: 957000 loss: 0.0019 lr: 0.001\n",
      "iteration: 958000 loss: 0.0019 lr: 0.001\n",
      "iteration: 959000 loss: 0.0019 lr: 0.001\n",
      "iteration: 960000 loss: 0.0020 lr: 0.001\n",
      "iteration: 961000 loss: 0.0020 lr: 0.001\n",
      "iteration: 962000 loss: 0.0019 lr: 0.001\n",
      "iteration: 963000 loss: 0.0019 lr: 0.001\n",
      "iteration: 964000 loss: 0.0020 lr: 0.001\n",
      "iteration: 965000 loss: 0.0020 lr: 0.001\n",
      "iteration: 966000 loss: 0.0020 lr: 0.001\n",
      "iteration: 967000 loss: 0.0020 lr: 0.001\n",
      "iteration: 968000 loss: 0.0019 lr: 0.001\n",
      "iteration: 969000 loss: 0.0019 lr: 0.001\n",
      "iteration: 970000 loss: 0.0020 lr: 0.001\n",
      "iteration: 971000 loss: 0.0019 lr: 0.001\n",
      "iteration: 972000 loss: 0.0020 lr: 0.001\n",
      "iteration: 973000 loss: 0.0020 lr: 0.001\n",
      "iteration: 974000 loss: 0.0020 lr: 0.001\n",
      "iteration: 975000 loss: 0.0019 lr: 0.001\n",
      "iteration: 976000 loss: 0.0019 lr: 0.001\n",
      "iteration: 977000 loss: 0.0019 lr: 0.001\n",
      "iteration: 978000 loss: 0.0020 lr: 0.001\n",
      "iteration: 979000 loss: 0.0019 lr: 0.001\n",
      "iteration: 980000 loss: 0.0019 lr: 0.001\n",
      "iteration: 981000 loss: 0.0019 lr: 0.001\n",
      "iteration: 982000 loss: 0.0019 lr: 0.001\n",
      "iteration: 983000 loss: 0.0020 lr: 0.001\n",
      "iteration: 984000 loss: 0.0020 lr: 0.001\n",
      "iteration: 985000 loss: 0.0019 lr: 0.001\n",
      "iteration: 986000 loss: 0.0020 lr: 0.001\n",
      "iteration: 987000 loss: 0.0019 lr: 0.001\n",
      "iteration: 988000 loss: 0.0020 lr: 0.001\n",
      "iteration: 989000 loss: 0.0019 lr: 0.001\n",
      "iteration: 990000 loss: 0.0020 lr: 0.001\n",
      "iteration: 991000 loss: 0.0020 lr: 0.001\n",
      "iteration: 992000 loss: 0.0019 lr: 0.001\n",
      "iteration: 993000 loss: 0.0019 lr: 0.001\n",
      "iteration: 994000 loss: 0.0020 lr: 0.001\n",
      "iteration: 995000 loss: 0.0019 lr: 0.001\n",
      "iteration: 996000 loss: 0.0020 lr: 0.001\n",
      "iteration: 997000 loss: 0.0019 lr: 0.001\n",
      "iteration: 998000 loss: 0.0019 lr: 0.001\n",
      "iteration: 999000 loss: 0.0019 lr: 0.001\n",
      "iteration: 1000000 loss: 0.0019 lr: 0.001\n",
      "iteration: 1001000 loss: 0.0019 lr: 0.001\n",
      "iteration: 1002000 loss: 0.0019 lr: 0.001\n",
      "iteration: 1003000 loss: 0.0020 lr: 0.001\n",
      "iteration: 1004000 loss: 0.0019 lr: 0.001\n",
      "iteration: 1005000 loss: 0.0019 lr: 0.001\n",
      "iteration: 1006000 loss: 0.0020 lr: 0.001\n",
      "iteration: 1007000 loss: 0.0019 lr: 0.001\n",
      "iteration: 1008000 loss: 0.0018 lr: 0.001\n",
      "iteration: 1009000 loss: 0.0019 lr: 0.001\n",
      "iteration: 1010000 loss: 0.0018 lr: 0.001\n",
      "iteration: 1011000 loss: 0.0019 lr: 0.001\n",
      "iteration: 1012000 loss: 0.0019 lr: 0.001\n",
      "iteration: 1013000 loss: 0.0019 lr: 0.001\n",
      "iteration: 1014000 loss: 0.0020 lr: 0.001\n",
      "iteration: 1015000 loss: 0.0019 lr: 0.001\n",
      "iteration: 1016000 loss: 0.0019 lr: 0.001\n",
      "iteration: 1017000 loss: 0.0019 lr: 0.001\n",
      "iteration: 1018000 loss: 0.0019 lr: 0.001\n",
      "iteration: 1019000 loss: 0.0019 lr: 0.001\n",
      "iteration: 1020000 loss: 0.0019 lr: 0.001\n",
      "iteration: 1021000 loss: 0.0019 lr: 0.001\n",
      "iteration: 1022000 loss: 0.0019 lr: 0.001\n",
      "iteration: 1023000 loss: 0.0019 lr: 0.001\n",
      "iteration: 1024000 loss: 0.0019 lr: 0.001\n",
      "iteration: 1025000 loss: 0.0020 lr: 0.001\n",
      "iteration: 1026000 loss: 0.0019 lr: 0.001\n",
      "iteration: 1027000 loss: 0.0019 lr: 0.001\n",
      "iteration: 1028000 loss: 0.0018 lr: 0.001\n",
      "iteration: 1029000 loss: 0.0020 lr: 0.001\n",
      "iteration: 1030000 loss: 0.0019 lr: 0.001\n"
     ]
    },
    {
     "name": "stdout",
     "output_type": "stream",
     "text": [
      "The network is now trained and ready to evaluate. Use the function 'evaluate_network' to evaluate the network.\n"
     ]
    },
    {
     "name": "stderr",
     "output_type": "stream",
     "text": [
      "Exception in thread Thread-6:\n",
      "Traceback (most recent call last):\n",
      "  File \"C:\\Users\\Billel.Khouader\\.conda\\envs\\DLC-GPU\\lib\\site-packages\\tensorflow\\python\\client\\session.py\", line 1334, in _do_call\n",
      "    return fn(*args)\n",
      "  File \"C:\\Users\\Billel.Khouader\\.conda\\envs\\DLC-GPU\\lib\\site-packages\\tensorflow\\python\\client\\session.py\", line 1319, in _run_fn\n",
      "    options, feed_dict, fetch_list, target_list, run_metadata)\n",
      "  File \"C:\\Users\\Billel.Khouader\\.conda\\envs\\DLC-GPU\\lib\\site-packages\\tensorflow\\python\\client\\session.py\", line 1407, in _call_tf_sessionrun\n",
      "    run_metadata)\n",
      "tensorflow.python.framework.errors_impl.CancelledError: Enqueue operation was cancelled\n",
      "\t [[{{node fifo_queue_enqueue}}]]\n",
      "\n",
      "During handling of the above exception, another exception occurred:\n",
      "\n",
      "Traceback (most recent call last):\n",
      "  File \"C:\\Users\\Billel.Khouader\\.conda\\envs\\DLC-GPU\\lib\\threading.py\", line 926, in _bootstrap_inner\n",
      "    self.run()\n",
      "  File \"C:\\Users\\Billel.Khouader\\.conda\\envs\\DLC-GPU\\lib\\threading.py\", line 870, in run\n",
      "    self._target(*self._args, **self._kwargs)\n",
      "  File \"C:\\Users\\Billel.Khouader\\.conda\\envs\\DLC-GPU\\lib\\site-packages\\deeplabcut\\pose_estimation_tensorflow\\train.py\", line 91, in load_and_enqueue\n",
      "    sess.run(enqueue_op, feed_dict=food)\n",
      "  File \"C:\\Users\\Billel.Khouader\\.conda\\envs\\DLC-GPU\\lib\\site-packages\\tensorflow\\python\\client\\session.py\", line 929, in run\n",
      "    run_metadata_ptr)\n",
      "  File \"C:\\Users\\Billel.Khouader\\.conda\\envs\\DLC-GPU\\lib\\site-packages\\tensorflow\\python\\client\\session.py\", line 1152, in _run\n",
      "    feed_dict_tensor, options, run_metadata)\n",
      "  File \"C:\\Users\\Billel.Khouader\\.conda\\envs\\DLC-GPU\\lib\\site-packages\\tensorflow\\python\\client\\session.py\", line 1328, in _do_run\n",
      "    run_metadata)\n",
      "  File \"C:\\Users\\Billel.Khouader\\.conda\\envs\\DLC-GPU\\lib\\site-packages\\tensorflow\\python\\client\\session.py\", line 1348, in _do_call\n",
      "    raise type(e)(node_def, op, message)\n",
      "tensorflow.python.framework.errors_impl.CancelledError: Enqueue operation was cancelled\n",
      "\t [[node fifo_queue_enqueue (defined at C:\\Users\\Billel.Khouader\\.conda\\envs\\DLC-GPU\\lib\\site-packages\\deeplabcut\\pose_estimation_tensorflow\\train.py:77) ]]\n",
      "\n",
      "Caused by op 'fifo_queue_enqueue', defined at:\n",
      "  File \"C:\\Users\\Billel.Khouader\\.conda\\envs\\DLC-GPU\\lib\\runpy.py\", line 193, in _run_module_as_main\n",
      "    \"__main__\", mod_spec)\n",
      "  File \"C:\\Users\\Billel.Khouader\\.conda\\envs\\DLC-GPU\\lib\\runpy.py\", line 85, in _run_code\n",
      "    exec(code, run_globals)\n",
      "  File \"C:\\Users\\Billel.Khouader\\.conda\\envs\\DLC-GPU\\lib\\site-packages\\ipykernel_launcher.py\", line 16, in <module>\n",
      "    app.launch_new_instance()\n",
      "  File \"C:\\Users\\Billel.Khouader\\.conda\\envs\\DLC-GPU\\lib\\site-packages\\traitlets\\config\\application.py\", line 845, in launch_instance\n",
      "    app.start()\n",
      "  File \"C:\\Users\\Billel.Khouader\\.conda\\envs\\DLC-GPU\\lib\\site-packages\\ipykernel\\kernelapp.py\", line 612, in start\n",
      "    self.io_loop.start()\n",
      "  File \"C:\\Users\\Billel.Khouader\\.conda\\envs\\DLC-GPU\\lib\\site-packages\\tornado\\platform\\asyncio.py\", line 199, in start\n",
      "    self.asyncio_loop.run_forever()\n",
      "  File \"C:\\Users\\Billel.Khouader\\.conda\\envs\\DLC-GPU\\lib\\asyncio\\base_events.py\", line 541, in run_forever\n",
      "    self._run_once()\n",
      "  File \"C:\\Users\\Billel.Khouader\\.conda\\envs\\DLC-GPU\\lib\\asyncio\\base_events.py\", line 1786, in _run_once\n",
      "    handle._run()\n",
      "  File \"C:\\Users\\Billel.Khouader\\.conda\\envs\\DLC-GPU\\lib\\asyncio\\events.py\", line 88, in _run\n",
      "    self._context.run(self._callback, *self._args)\n",
      "  File \"C:\\Users\\Billel.Khouader\\.conda\\envs\\DLC-GPU\\lib\\site-packages\\tornado\\ioloop.py\", line 688, in <lambda>\n",
      "    lambda f: self._run_callback(functools.partial(callback, future))\n",
      "  File \"C:\\Users\\Billel.Khouader\\.conda\\envs\\DLC-GPU\\lib\\site-packages\\tornado\\ioloop.py\", line 741, in _run_callback\n",
      "    ret = callback()\n",
      "  File \"C:\\Users\\Billel.Khouader\\.conda\\envs\\DLC-GPU\\lib\\site-packages\\tornado\\gen.py\", line 814, in inner\n",
      "    self.ctx_run(self.run)\n",
      "  File \"C:\\Users\\Billel.Khouader\\.conda\\envs\\DLC-GPU\\lib\\site-packages\\tornado\\gen.py\", line 775, in run\n",
      "    yielded = self.gen.send(value)\n",
      "  File \"C:\\Users\\Billel.Khouader\\.conda\\envs\\DLC-GPU\\lib\\site-packages\\ipykernel\\kernelbase.py\", line 365, in process_one\n",
      "    yield gen.maybe_future(dispatch(*args))\n",
      "  File \"C:\\Users\\Billel.Khouader\\.conda\\envs\\DLC-GPU\\lib\\site-packages\\tornado\\gen.py\", line 234, in wrapper\n",
      "    yielded = ctx_run(next, result)\n",
      "  File \"C:\\Users\\Billel.Khouader\\.conda\\envs\\DLC-GPU\\lib\\site-packages\\ipykernel\\kernelbase.py\", line 268, in dispatch_shell\n",
      "    yield gen.maybe_future(handler(stream, idents, msg))\n",
      "  File \"C:\\Users\\Billel.Khouader\\.conda\\envs\\DLC-GPU\\lib\\site-packages\\tornado\\gen.py\", line 234, in wrapper\n",
      "    yielded = ctx_run(next, result)\n",
      "  File \"C:\\Users\\Billel.Khouader\\.conda\\envs\\DLC-GPU\\lib\\site-packages\\ipykernel\\kernelbase.py\", line 545, in execute_request\n",
      "    user_expressions, allow_stdin,\n",
      "  File \"C:\\Users\\Billel.Khouader\\.conda\\envs\\DLC-GPU\\lib\\site-packages\\tornado\\gen.py\", line 234, in wrapper\n",
      "    yielded = ctx_run(next, result)\n",
      "  File \"C:\\Users\\Billel.Khouader\\.conda\\envs\\DLC-GPU\\lib\\site-packages\\ipykernel\\ipkernel.py\", line 306, in do_execute\n",
      "    res = shell.run_cell(code, store_history=store_history, silent=silent)\n",
      "  File \"C:\\Users\\Billel.Khouader\\.conda\\envs\\DLC-GPU\\lib\\site-packages\\ipykernel\\zmqshell.py\", line 536, in run_cell\n",
      "    return super(ZMQInteractiveShell, self).run_cell(*args, **kwargs)\n",
      "  File \"C:\\Users\\Billel.Khouader\\.conda\\envs\\DLC-GPU\\lib\\site-packages\\IPython\\core\\interactiveshell.py\", line 2887, in run_cell\n",
      "    raw_cell, store_history, silent, shell_futures)\n",
      "  File \"C:\\Users\\Billel.Khouader\\.conda\\envs\\DLC-GPU\\lib\\site-packages\\IPython\\core\\interactiveshell.py\", line 2932, in _run_cell\n",
      "    return runner(coro)\n",
      "  File \"C:\\Users\\Billel.Khouader\\.conda\\envs\\DLC-GPU\\lib\\site-packages\\IPython\\core\\async_helpers.py\", line 68, in _pseudo_sync_runner\n",
      "    coro.send(None)\n",
      "  File \"C:\\Users\\Billel.Khouader\\.conda\\envs\\DLC-GPU\\lib\\site-packages\\IPython\\core\\interactiveshell.py\", line 3156, in run_cell_async\n",
      "    interactivity=interactivity, compiler=compiler, result=result)\n",
      "  File \"C:\\Users\\Billel.Khouader\\.conda\\envs\\DLC-GPU\\lib\\site-packages\\IPython\\core\\interactiveshell.py\", line 3347, in run_ast_nodes\n",
      "    if (await self.run_code(code, result,  async_=asy)):\n",
      "  File \"C:\\Users\\Billel.Khouader\\.conda\\envs\\DLC-GPU\\lib\\site-packages\\IPython\\core\\interactiveshell.py\", line 3427, in run_code\n",
      "    exec(code_obj, self.user_global_ns, self.user_ns)\n",
      "  File \"<ipython-input-7-78726fdaac56>\", line 1, in <module>\n",
      "    dlc.train_network(config_path)\n",
      "  File \"C:\\Users\\Billel.Khouader\\.conda\\envs\\DLC-GPU\\lib\\site-packages\\deeplabcut\\pose_estimation_tensorflow\\training.py\", line 189, in train_network\n",
      "    allow_growth=allow_growth,\n",
      "  File \"C:\\Users\\Billel.Khouader\\.conda\\envs\\DLC-GPU\\lib\\site-packages\\deeplabcut\\pose_estimation_tensorflow\\train.py\", line 180, in train\n",
      "    batch, enqueue_op, placeholders = setup_preloading(batch_spec)\n",
      "  File \"C:\\Users\\Billel.Khouader\\.conda\\envs\\DLC-GPU\\lib\\site-packages\\deeplabcut\\pose_estimation_tensorflow\\train.py\", line 77, in setup_preloading\n",
      "    enqueue_op = q.enqueue(placeholders_list)\n",
      "  File \"C:\\Users\\Billel.Khouader\\.conda\\envs\\DLC-GPU\\lib\\site-packages\\tensorflow\\python\\ops\\data_flow_ops.py\", line 345, in enqueue\n",
      "    self._queue_ref, vals, name=scope)\n",
      "  File \"C:\\Users\\Billel.Khouader\\.conda\\envs\\DLC-GPU\\lib\\site-packages\\tensorflow\\python\\ops\\gen_data_flow_ops.py\", line 4158, in queue_enqueue_v2\n",
      "    timeout_ms=timeout_ms, name=name)\n",
      "  File \"C:\\Users\\Billel.Khouader\\.conda\\envs\\DLC-GPU\\lib\\site-packages\\tensorflow\\python\\framework\\op_def_library.py\", line 788, in _apply_op_helper\n",
      "    op_def=op_def)\n",
      "  File \"C:\\Users\\Billel.Khouader\\.conda\\envs\\DLC-GPU\\lib\\site-packages\\tensorflow\\python\\util\\deprecation.py\", line 507, in new_func\n",
      "    return func(*args, **kwargs)\n",
      "  File \"C:\\Users\\Billel.Khouader\\.conda\\envs\\DLC-GPU\\lib\\site-packages\\tensorflow\\python\\framework\\ops.py\", line 3300, in create_op\n",
      "    op_def=op_def)\n",
      "  File \"C:\\Users\\Billel.Khouader\\.conda\\envs\\DLC-GPU\\lib\\site-packages\\tensorflow\\python\\framework\\ops.py\", line 1801, in __init__\n",
      "    self._traceback = tf_stack.extract_stack()\n",
      "\n",
      "CancelledError (see above for traceback): Enqueue operation was cancelled\n",
      "\t [[node fifo_queue_enqueue (defined at C:\\Users\\Billel.Khouader\\.conda\\envs\\DLC-GPU\\lib\\site-packages\\deeplabcut\\pose_estimation_tensorflow\\train.py:77) ]]\n",
      "\n",
      "\n"
     ]
    }
   ],
   "source": [
    "dlc.train_network(config_path)"
   ]
  },
  {
   "cell_type": "markdown",
   "metadata": {},
   "source": [
    "# Evaluate Network"
   ]
  },
  {
   "cell_type": "code",
   "execution_count": 8,
   "metadata": {
    "collapsed": true,
    "jupyter": {
     "outputs_hidden": true
    },
    "tags": []
   },
   "outputs": [
    {
     "name": "stderr",
     "output_type": "stream",
     "text": [
      "Note: NumExpr detected 16 cores but \"NUMEXPR_MAX_THREADS\" not set, so enforcing safe limit of 8.\n",
      "NumExpr defaulting to 8 threads.\n",
      "Config:\n",
      "{'all_joints': [[0], [1], [2], [3], [4]],\n",
      " 'all_joints_names': ['snout',\n",
      "                      'left_ear',\n",
      "                      'right_ear',\n",
      "                      'base_tail',\n",
      "                      'end_tail'],\n",
      " 'batch_size': 1,\n",
      " 'crop_pad': 0,\n",
      " 'dataset': 'training-datasets\\\\iteration-1\\\\UnaugmentedDataSet_fear_tuto_dlcFeb15\\\\fear_tuto_dlc_Billel95shuffle1.mat',\n",
      " 'dataset_type': 'imgaug',\n",
      " 'deterministic': False,\n",
      " 'fg_fraction': 0.25,\n",
      " 'global_scale': 0.8,\n",
      " 'init_weights': 'C:\\\\Users\\\\Billel.Khouader\\\\.conda\\\\envs\\\\DLC-GPU\\\\lib\\\\site-packages\\\\deeplabcut\\\\pose_estimation_tensorflow\\\\models\\\\pretrained\\\\resnet_v1_50.ckpt',\n",
      " 'intermediate_supervision': False,\n",
      " 'intermediate_supervision_layer': 12,\n",
      " 'location_refinement': True,\n",
      " 'locref_huber_loss': True,\n",
      " 'locref_loss_weight': 1.0,\n",
      " 'locref_stdev': 7.2801,\n",
      " 'log_dir': 'log',\n",
      " 'mean_pixel': [123.68, 116.779, 103.939],\n",
      " 'mirror': False,\n",
      " 'net_type': 'resnet_50',\n",
      " 'num_joints': 5,\n",
      " 'optimizer': 'sgd',\n",
      " 'pairwise_huber_loss': True,\n",
      " 'pairwise_predict': False,\n",
      " 'partaffinityfield_predict': False,\n",
      " 'regularize': False,\n",
      " 'scoremap_dir': 'test',\n",
      " 'shuffle': True,\n",
      " 'snapshot_prefix': 'D:\\\\DeepLabCut_Tutorial_Temps\\\\fear_tuto_dlc-Billel-2021-02-15\\\\dlc-models\\\\iteration-1\\\\fear_tuto_dlcFeb15-trainset95shuffle1\\\\test\\\\snapshot',\n",
      " 'stride': 8.0,\n",
      " 'weigh_negatives': False,\n",
      " 'weigh_only_present_joints': False,\n",
      " 'weigh_part_predictions': False,\n",
      " 'weight_decay': 0.0001}\n"
     ]
    },
    {
     "name": "stdout",
     "output_type": "stream",
     "text": [
      "D:/DeepLabCut_Tutorial_Temps/fear_tuto_dlc-Billel-2021-02-15/evaluation-results/  already exists!\n",
      "Running  DLC_resnet_50_fear_tuto_dlcFeb15shuffle1_1030000  with # of trainingiterations: 1030000\n",
      "Initializing ResNet\n"
     ]
    },
    {
     "name": "stderr",
     "output_type": "stream",
     "text": [
      "0it [00:00, ?it/s]"
     ]
    },
    {
     "name": "stdout",
     "output_type": "stream",
     "text": [
      "Analyzing data...\n"
     ]
    },
    {
     "name": "stderr",
     "output_type": "stream",
     "text": [
      "54it [00:02, 22.26it/s]\n"
     ]
    },
    {
     "name": "stdout",
     "output_type": "stream",
     "text": [
      "Done and results stored for snapshot:  snapshot-1030000\n",
      "Results for 1030000  training iterations: 95 1 train error: 2.75 pixels. Test error: 5.62  pixels.\n",
      "With pcutoff of 0.6  train error: 0.96 pixels. Test error: 5.62 pixels\n",
      "Thereby, the errors are given by the average distances between the labels by DLC and the scorer.\n",
      "The network is evaluated and the results are stored in the subdirectory 'evaluation_results'.\n",
      "If it generalizes well, choose the best model for prediction and update the config file with the appropriate index for the 'snapshotindex'.\n",
      "Use the function 'analyze_video' to make predictions on new videos.\n",
      "Otherwise consider retraining the network (see DeepLabCut workflow Fig 2)\n"
     ]
    }
   ],
   "source": [
    "dlc.evaluate_network(config_path)"
   ]
  },
  {
   "cell_type": "markdown",
   "metadata": {},
   "source": [
    "# ReAnalyze Videos /!\\ Will delete old deeplabcut files and reanalyse with the latest network /!\\"
   ]
  },
  {
   "cell_type": "code",
   "execution_count": null,
   "metadata": {},
   "outputs": [],
   "source": []
  },
  {
   "cell_type": "code",
   "execution_count": null,
   "metadata": {},
   "outputs": [],
   "source": [
    "config_path = 'E:\\classical_fear_conditionning\\classical_fear_conditionning-BM-2020-11-20\\config.yaml'"
   ]
  },
  {
   "cell_type": "code",
   "execution_count": null,
   "metadata": {},
   "outputs": [],
   "source": [
    "path = 'Y://classical_fear_conditionning/'"
   ]
  },
  {
   "cell_type": "code",
   "execution_count": null,
   "metadata": {},
   "outputs": [],
   "source": [
    "videos = ['Y://classical_fear_conditionning\\Rat24\\Rat24_20210129_210129_113321\\Basler_acA1300-200uc__23039139__20210129_113328761.mp4',\n",
    "         'Y://classical_fear_conditionning\\Rat24\\Rat24_20210129_210129_152259\\Basler_acA1300-200uc__23039139__20210129_152304254.mp4',\n",
    "         'Y://classical_fear_conditionning\\Rat24\\Rat24-20210129_210129_163341\\Basler_acA1300-200uc__23039139__20210129_163346459.mp4']"
   ]
  },
  {
   "cell_type": "code",
   "execution_count": null,
   "metadata": {},
   "outputs": [],
   "source": [
    "dlc.filterpredictions()"
   ]
  },
  {
   "cell_type": "code",
   "execution_count": null,
   "metadata": {},
   "outputs": [],
   "source": [
    "crop"
   ]
  },
  {
   "cell_type": "code",
   "execution_count": null,
   "metadata": {},
   "outputs": [],
   "source": [
    "for v,m in zip(videos,metadata):\n",
    "    with open(m,'rb') as f:\n",
    "        data = pickle.load(f)\n",
    "    x1,x2,y1,y2 = data['data']['cropping_parameters']\n",
    "    \n",
    "    cfg = dlc.utils.auxiliaryfunctions.read_config(config_path)\n",
    "    cfg['x1'] = x1\n",
    "    cfg['x2'] = x2\n",
    "    cfg['y1'] = y1\n",
    "    cfg['y2'] = y2\n",
    "    dlc.utils.auxiliaryfunctions.write_config(config_path,cfg)\n",
    "    dlc.create_labeled_video(config_path,v,filtered=True)"
   ]
  },
  {
   "cell_type": "code",
   "execution_count": 19,
   "metadata": {},
   "outputs": [
    {
     "ename": "NameError",
     "evalue": "name 'crop' is not defined",
     "output_type": "error",
     "traceback": [
      "\u001b[1;31m---------------------------------------------------------------------------\u001b[0m",
      "\u001b[1;31mNameError\u001b[0m                                 Traceback (most recent call last)",
      "\u001b[1;32m<ipython-input-19-b029c3d71c03>\u001b[0m in \u001b[0;36m<module>\u001b[1;34m\u001b[0m\n\u001b[1;32m----> 1\u001b[1;33m \u001b[1;32mfor\u001b[0m \u001b[0mv\u001b[0m\u001b[1;33m,\u001b[0m\u001b[0mc\u001b[0m \u001b[1;32min\u001b[0m \u001b[0mzip\u001b[0m\u001b[1;33m(\u001b[0m\u001b[0mvideos\u001b[0m\u001b[1;33m,\u001b[0m\u001b[0mcrop\u001b[0m\u001b[1;33m)\u001b[0m\u001b[1;33m:\u001b[0m\u001b[1;33m\u001b[0m\u001b[1;33m\u001b[0m\u001b[0m\n\u001b[0m\u001b[0;32m      2\u001b[0m     \u001b[0mx1\u001b[0m\u001b[1;33m,\u001b[0m\u001b[0mx2\u001b[0m \u001b[1;33m=\u001b[0m \u001b[0mc\u001b[0m\u001b[1;33m[\u001b[0m\u001b[1;36m0\u001b[0m\u001b[1;33m]\u001b[0m\u001b[1;33m\u001b[0m\u001b[1;33m\u001b[0m\u001b[0m\n\u001b[0;32m      3\u001b[0m     \u001b[0my1\u001b[0m\u001b[1;33m,\u001b[0m\u001b[0my2\u001b[0m \u001b[1;33m=\u001b[0m \u001b[0mc\u001b[0m\u001b[1;33m[\u001b[0m\u001b[1;36m1\u001b[0m\u001b[1;33m]\u001b[0m\u001b[1;33m\u001b[0m\u001b[1;33m\u001b[0m\u001b[0m\n\u001b[0;32m      4\u001b[0m     \u001b[0mc\u001b[0m \u001b[1;33m=\u001b[0m \u001b[1;33m[\u001b[0m\u001b[0mx1\u001b[0m\u001b[1;33m,\u001b[0m\u001b[0mx2\u001b[0m\u001b[1;33m,\u001b[0m\u001b[0my1\u001b[0m\u001b[1;33m,\u001b[0m\u001b[0my2\u001b[0m\u001b[1;33m]\u001b[0m\u001b[1;33m\u001b[0m\u001b[1;33m\u001b[0m\u001b[0m\n\u001b[0;32m      5\u001b[0m     \u001b[0mc\u001b[0m \u001b[1;33m=\u001b[0m \u001b[0mlist\u001b[0m\u001b[1;33m(\u001b[0m\u001b[0mmap\u001b[0m\u001b[1;33m(\u001b[0m\u001b[0mint\u001b[0m\u001b[1;33m,\u001b[0m\u001b[0mc\u001b[0m\u001b[1;33m)\u001b[0m\u001b[1;33m)\u001b[0m\u001b[1;33m\u001b[0m\u001b[1;33m\u001b[0m\u001b[0m\n",
      "\u001b[1;31mNameError\u001b[0m: name 'crop' is not defined"
     ]
    }
   ],
   "source": [
    "for v,c in zip(videos,crop):\n",
    "    x1,x2 = c[0]\n",
    "    y1,y2 = c[1]\n",
    "    c = [x1,x2,y1,y2]\n",
    "    c = list(map(int,c))\n",
    "    \n",
    "    dlc.create_labeled_video(config_path,v,filtered=True)"
   ]
  },
  {
   "cell_type": "code",
   "execution_count": null,
   "metadata": {},
   "outputs": [],
   "source": [
    "videos = ['Y://fear_conditionning_ptsd/Rat16/Rat16-20201202/Rat16_201202_171552/Basler_acA1300-200uc__23039139__20201202_171555498.mp4']"
   ]
  },
  {
   "cell_type": "code",
   "execution_count": null,
   "metadata": {},
   "outputs": [],
   "source": [
    "for v in videos:\n",
    "    dlc.create_labeled_video(config_path,v,filtered=True)"
   ]
  },
  {
   "cell_type": "code",
   "execution_count": null,
   "metadata": {},
   "outputs": [],
   "source": [
    "dlc.evaluate_network(config_path)"
   ]
  },
  {
   "cell_type": "code",
   "execution_count": null,
   "metadata": {},
   "outputs": [],
   "source": [
    "dlc.merge_datasets(config_path)"
   ]
  },
  {
   "cell_type": "code",
   "execution_count": null,
   "metadata": {},
   "outputs": [],
   "source": [
    "dlc.check_labels(config_path)"
   ]
  },
  {
   "cell_type": "code",
   "execution_count": null,
   "metadata": {},
   "outputs": [],
   "source": [
    "dlc.create_training_dataset(config_path)"
   ]
  },
  {
   "cell_type": "code",
   "execution_count": null,
   "metadata": {},
   "outputs": [],
   "source": [
    "dlc.train_network(config_path)"
   ]
  },
  {
   "cell_type": "code",
   "execution_count": null,
   "metadata": {},
   "outputs": [],
   "source": [
    "dlc.launch_dlc()"
   ]
  }
 ],
 "metadata": {
  "kernelspec": {
   "display_name": "Python 3",
   "language": "python",
   "name": "python3"
  },
  "language_info": {
   "codemirror_mode": {
    "name": "ipython",
    "version": 3
   },
   "file_extension": ".py",
   "mimetype": "text/x-python",
   "name": "python",
   "nbconvert_exporter": "python",
   "pygments_lexer": "ipython3",
   "version": "3.7.9"
  }
 },
 "nbformat": 4,
 "nbformat_minor": 4
}
