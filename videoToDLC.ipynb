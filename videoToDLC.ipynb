{
 "cells": [
  {
   "cell_type": "code",
   "execution_count": 1,
   "metadata": {},
   "outputs": [],
   "source": [
    "import deeplabcut as dlc\n",
    "import sys\n",
    "import os\n",
    "import cv2\n",
    "import time\n",
    "import matplotlib.pyplot as plt\n",
    "#%matplotlib qt\n",
    "import pickle\n",
    "import numpy as np"
   ]
  },
  {
   "cell_type": "code",
   "execution_count": 3,
   "metadata": {},
   "outputs": [],
   "source": [
    "def onclick(event):\n",
    "    global x,y,pause\n",
    "    \n",
    "    plt.cla()\n",
    "    plt.imshow(frame)\n",
    "    try:\n",
    "        x\n",
    "    except:\n",
    "        x = [0,0]\n",
    "    try:\n",
    "        y\n",
    "    except:\n",
    "        y = [0,0]\n",
    "    \n",
    "    if str(event.button) == \"MouseButton.LEFT\":\n",
    "        x[0], y[0] = event.xdata, event.ydata\n",
    "    elif str(event.button) == \"MouseButton.RIGHT\":\n",
    "        x[1], y[1] = event.xdata, event.ydata\n",
    "    elif str(event.button) == \"MouseButton.MIDDLE\":\n",
    "        fig.canvas.mpl_disconnect(cid)\n",
    "        pause = False\n",
    "        \n",
    "    for i,j in zip(x,y):\n",
    "        plt.axvline(i)\n",
    "        plt.axhline(j)\n",
    "        plt.draw()"
   ]
  },
  {
   "cell_type": "code",
   "execution_count": 4,
   "metadata": {},
   "outputs": [
    {
     "name": "stdout",
     "output_type": "stream",
     "text": [
      "hey\n"
     ]
    }
   ],
   "source": [
    "print('hey')"
   ]
  },
  {
   "cell_type": "code",
   "execution_count": 5,
   "metadata": {},
   "outputs": [],
   "source": [
    "path = 'Y:/elevated_plus_maze/'\n",
    "videos = []\n",
    "for subdirs, dirs, files in os.walk(path):\n",
    "    for file in files:\n",
    "        if file.endswith('.mp4') and not file.endswith('labeled.mp4'): videos.append(os.path.join(subdirs,file))\n",
    "\n",
    "            \n",
    "config_path = 'Y:\\elevated_plus_maze\\elevated_plus_maze-BM-2020-12-01\\config.yaml'"
   ]
  },
  {
   "cell_type": "code",
   "execution_count": 6,
   "metadata": {},
   "outputs": [
    {
     "data": {
      "text/plain": [
       "['Y:/elevated_plus_maze/Rat06-20201123\\\\Rat06_201123_152703\\\\Basler_acA1300-200uc__23039139__20201123_152706224.mp4',\n",
       " 'Y:/elevated_plus_maze/Rat07-20201123\\\\Rat07_201123_154150\\\\Basler_acA1300-200uc__23039139__20201123_154152804.mp4',\n",
       " 'Y:/elevated_plus_maze/Rat08-20201123\\\\Rat08_201123_155820\\\\Basler_acA1300-200uc__23039139__20201123_155821934.mp4',\n",
       " 'Y:/elevated_plus_maze/Rat09-20201130\\\\Rat09_201130_145247\\\\Basler_acA1300-200uc__23039139__20201130_145248866.mp4',\n",
       " 'Y:/elevated_plus_maze/Rat10-20201130\\\\Rat10_201130_150837\\\\Basler_acA1300-200uc__23039139__20201130_150839776.mp4',\n",
       " 'Y:/elevated_plus_maze/Rat11-20201130\\\\Rat11_201130_152319\\\\Basler_acA1300-200uc__23039139__20201130_152321432.mp4',\n",
       " 'Y:/elevated_plus_maze/Rat12-20201130\\\\Rat12_201130_153751\\\\Basler_acA1300-200uc__23039139__20201130_153753849.mp4']"
      ]
     },
     "execution_count": 6,
     "metadata": {},
     "output_type": "execute_result"
    }
   ],
   "source": [
    "videos"
   ]
  },
  {
   "cell_type": "code",
   "execution_count": 8,
   "metadata": {},
   "outputs": [],
   "source": [
    "crop = []\n",
    "\n",
    "for v in videos:\n",
    "    try:\n",
    "        del x,y\n",
    "    except:\n",
    "        pass\n",
    "\n",
    "    cap = cv2.VideoCapture(v)\n",
    "    ret,frame = cap.read()\n",
    "    \n",
    "    pause = True\n",
    "    fig,ax = plt.subplots()\n",
    "    plt.imshow(frame)\n",
    "    cid = fig.canvas.mpl_connect('button_press_event', onclick)\n",
    "    \n",
    "    while pause:\n",
    "        plt.pause(0.1)\n",
    "        \n",
    "    plt.close('all')\n",
    "    crop.append((x,y))"
   ]
  },
  {
   "cell_type": "code",
   "execution_count": 9,
   "metadata": {},
   "outputs": [
    {
     "data": {
      "text/plain": [
       "[([293.1796536796537, 1199.15367965368],\n",
       "  [42.166666666666515, 632.2965367965367]),\n",
       " ([301.491341991342, 1190.8419913419916],\n",
       "  [36.62554112554085, 643.3787878787878]),\n",
       " ([271.0151515151515, 1188.071428571429],\n",
       "  [42.166666666666515, 635.0670995670995]),\n",
       " ([287.63852813852816, 1190.8419913419916],\n",
       "  [72.64285714285688, 665.54329004329]),\n",
       " ([307.03246753246754, 1193.6125541125546],\n",
       "  [61.56060606060578, 673.8549783549782]),\n",
       " ([301.491341991342, 1179.7597402597407],\n",
       "  [44.937229437229234, 623.9848484848484]),\n",
       " ([282.0974025974026, 1176.9891774891778],\n",
       "  [28.31385281385269, 607.3614718614717])]"
      ]
     },
     "execution_count": 9,
     "metadata": {},
     "output_type": "execute_result"
    }
   ],
   "source": [
    "crop"
   ]
  },
  {
   "cell_type": "code",
   "execution_count": 10,
   "metadata": {
    "collapsed": true,
    "jupyter": {
     "outputs_hidden": true
    }
   },
   "outputs": [
    {
     "name": "stdout",
     "output_type": "stream",
     "text": [
      "Overwriting cropping parameters: [293, 1199, 42, 632]\n",
      "These are used for all videos, but won't be save to the cfg file.\n",
      "Using snapshot-650000 for model Y:\\elevated_plus_maze\\elevated_plus_maze-BM-2020-12-01\\dlc-models\\iteration-3\\elevated_plus_mazeDec01-trainset95shuffle1\n",
      "Initializing ResNet\n"
     ]
    },
    {
     "name": "stderr",
     "output_type": "stream",
     "text": [
      "  0%|                                                                                     | 0/17534 [00:00<?, ?it/s]"
     ]
    },
    {
     "name": "stdout",
     "output_type": "stream",
     "text": [
      "Starting to analyze %  Y:/elevated_plus_maze/Rat06-20201123\\Rat06_201123_152703\\Basler_acA1300-200uc__23039139__20201123_152706224.mp4\n",
      "Y:\\elevated_plus_maze\\Rat06-20201123\\Rat06_201123_152703  already exists!\n",
      "Loading  Y:/elevated_plus_maze/Rat06-20201123\\Rat06_201123_152703\\Basler_acA1300-200uc__23039139__20201123_152706224.mp4\n",
      "Duration of video [s]:  584.47 , recorded with  30.0 fps!\n",
      "Overall # of frames:  17534  found with (before cropping) frame dimensions:  1280 1024\n",
      "Starting to extract posture\n",
      "Cropping based on the x1 = 293 x2 = 1199 y1 = 42 y2 = 632. You can adjust the cropping coordinates in the config.yaml file.\n"
     ]
    },
    {
     "name": "stderr",
     "output_type": "stream",
     "text": [
      "17675it [09:51, 29.69it/s]                                                                                          "
     ]
    },
    {
     "name": "stdout",
     "output_type": "stream",
     "text": [
      "Detected frames:  17534\n"
     ]
    },
    {
     "name": "stderr",
     "output_type": "stream",
     "text": [
      "17675it [09:52, 29.82it/s]\n"
     ]
    },
    {
     "name": "stdout",
     "output_type": "stream",
     "text": [
      "Saving results in Y:\\elevated_plus_maze\\Rat06-20201123\\Rat06_201123_152703...\n",
      "Saving csv poses!\n",
      "The videos are analyzed. Now your research can truly start! \n",
      " You can create labeled videos with 'create_labeled_video'\n",
      "If the tracking is not satisfactory for some videos, consider expanding the training set. You can use the function 'extract_outlier_frames' to extract a few representative outlier frames.\n",
      "Filtering with arima model Y:/elevated_plus_maze/Rat06-20201123\\Rat06_201123_152703\\Basler_acA1300-200uc__23039139__20201123_152706224.mp4\n"
     ]
    },
    {
     "name": "stderr",
     "output_type": "stream",
     "text": [
      "C:\\Users\\maelle.christiaens\\.conda\\envs\\DLC-GPU\\lib\\site-packages\\statsmodels\\tsa\\statespace\\sarimax.py:966: UserWarning: Non-stationary starting autoregressive parameters found. Using zeros as starting parameters.\n",
      "  warn('Non-stationary starting autoregressive parameters'\n",
      "C:\\Users\\maelle.christiaens\\.conda\\envs\\DLC-GPU\\lib\\site-packages\\statsmodels\\tsa\\statespace\\sarimax.py:978: UserWarning: Non-invertible starting MA parameters found. Using zeros as starting parameters.\n",
      "  warn('Non-invertible starting MA parameters found.'\n",
      "C:\\Users\\maelle.christiaens\\.conda\\envs\\DLC-GPU\\lib\\site-packages\\statsmodels\\base\\model.py:568: ConvergenceWarning: Maximum Likelihood optimization failed to converge. Check mle_retvals\n",
      "  ConvergenceWarning)\n",
      "C:\\Users\\maelle.christiaens\\.conda\\envs\\DLC-GPU\\lib\\site-packages\\statsmodels\\base\\model.py:568: ConvergenceWarning: Maximum Likelihood optimization failed to converge. Check mle_retvals\n",
      "  ConvergenceWarning)\n",
      "C:\\Users\\maelle.christiaens\\.conda\\envs\\DLC-GPU\\lib\\site-packages\\statsmodels\\base\\model.py:568: ConvergenceWarning: Maximum Likelihood optimization failed to converge. Check mle_retvals\n",
      "  ConvergenceWarning)\n",
      "C:\\Users\\maelle.christiaens\\.conda\\envs\\DLC-GPU\\lib\\site-packages\\statsmodels\\base\\model.py:568: ConvergenceWarning: Maximum Likelihood optimization failed to converge. Check mle_retvals\n",
      "  ConvergenceWarning)\n",
      "C:\\Users\\maelle.christiaens\\.conda\\envs\\DLC-GPU\\lib\\site-packages\\statsmodels\\base\\model.py:568: ConvergenceWarning: Maximum Likelihood optimization failed to converge. Check mle_retvals\n",
      "  ConvergenceWarning)\n"
     ]
    },
    {
     "name": "stdout",
     "output_type": "stream",
     "text": [
      "Saving filtered csv poses!\n",
      "Overwriting cropping parameters: [301, 1190, 36, 643]\n",
      "These are used for all videos, but won't be save to the cfg file.\n",
      "Using snapshot-650000 for model Y:\\elevated_plus_maze\\elevated_plus_maze-BM-2020-12-01\\dlc-models\\iteration-3\\elevated_plus_mazeDec01-trainset95shuffle1\n",
      "Initializing ResNet\n"
     ]
    },
    {
     "name": "stderr",
     "output_type": "stream",
     "text": [
      "  0%|                                                                                     | 0/17662 [00:00<?, ?it/s]"
     ]
    },
    {
     "name": "stdout",
     "output_type": "stream",
     "text": [
      "Starting to analyze %  Y:/elevated_plus_maze/Rat07-20201123\\Rat07_201123_154150\\Basler_acA1300-200uc__23039139__20201123_154152804.mp4\n",
      "Y:\\elevated_plus_maze\\Rat07-20201123\\Rat07_201123_154150  already exists!\n",
      "Loading  Y:/elevated_plus_maze/Rat07-20201123\\Rat07_201123_154150\\Basler_acA1300-200uc__23039139__20201123_154152804.mp4\n",
      "Duration of video [s]:  588.73 , recorded with  30.0 fps!\n",
      "Overall # of frames:  17662  found with (before cropping) frame dimensions:  1280 1024\n",
      "Starting to extract posture\n",
      "Cropping based on the x1 = 301 x2 = 1190 y1 = 36 y2 = 643. You can adjust the cropping coordinates in the config.yaml file.\n"
     ]
    },
    {
     "name": "stderr",
     "output_type": "stream",
     "text": [
      "17776it [09:45, 30.36it/s]                                                                                          "
     ]
    },
    {
     "name": "stdout",
     "output_type": "stream",
     "text": [
      "Detected frames:  17662\n",
      "Saving results in Y:\\elevated_plus_maze\\Rat07-20201123\\Rat07_201123_154150...\n",
      "Saving csv poses!\n"
     ]
    },
    {
     "name": "stderr",
     "output_type": "stream",
     "text": [
      "\n"
     ]
    },
    {
     "name": "stdout",
     "output_type": "stream",
     "text": [
      "The videos are analyzed. Now your research can truly start! \n",
      " You can create labeled videos with 'create_labeled_video'\n",
      "If the tracking is not satisfactory for some videos, consider expanding the training set. You can use the function 'extract_outlier_frames' to extract a few representative outlier frames.\n",
      "Filtering with arima model Y:/elevated_plus_maze/Rat07-20201123\\Rat07_201123_154150\\Basler_acA1300-200uc__23039139__20201123_154152804.mp4\n"
     ]
    },
    {
     "name": "stderr",
     "output_type": "stream",
     "text": [
      "C:\\Users\\maelle.christiaens\\.conda\\envs\\DLC-GPU\\lib\\site-packages\\statsmodels\\base\\model.py:568: ConvergenceWarning: Maximum Likelihood optimization failed to converge. Check mle_retvals\n",
      "  ConvergenceWarning)\n",
      "C:\\Users\\maelle.christiaens\\.conda\\envs\\DLC-GPU\\lib\\site-packages\\statsmodels\\base\\model.py:568: ConvergenceWarning: Maximum Likelihood optimization failed to converge. Check mle_retvals\n",
      "  ConvergenceWarning)\n",
      "C:\\Users\\maelle.christiaens\\.conda\\envs\\DLC-GPU\\lib\\site-packages\\statsmodels\\base\\model.py:568: ConvergenceWarning: Maximum Likelihood optimization failed to converge. Check mle_retvals\n",
      "  ConvergenceWarning)\n",
      "C:\\Users\\maelle.christiaens\\.conda\\envs\\DLC-GPU\\lib\\site-packages\\statsmodels\\base\\model.py:568: ConvergenceWarning: Maximum Likelihood optimization failed to converge. Check mle_retvals\n",
      "  ConvergenceWarning)\n"
     ]
    },
    {
     "name": "stdout",
     "output_type": "stream",
     "text": [
      "Saving filtered csv poses!\n",
      "Overwriting cropping parameters: [271, 1188, 42, 635]\n",
      "These are used for all videos, but won't be save to the cfg file.\n",
      "Using snapshot-650000 for model Y:\\elevated_plus_maze\\elevated_plus_maze-BM-2020-12-01\\dlc-models\\iteration-3\\elevated_plus_mazeDec01-trainset95shuffle1\n",
      "Initializing ResNet\n"
     ]
    },
    {
     "name": "stderr",
     "output_type": "stream",
     "text": [
      "  0%|                                                                                     | 0/17839 [00:00<?, ?it/s]"
     ]
    },
    {
     "name": "stdout",
     "output_type": "stream",
     "text": [
      "Starting to analyze %  Y:/elevated_plus_maze/Rat08-20201123\\Rat08_201123_155820\\Basler_acA1300-200uc__23039139__20201123_155821934.mp4\n",
      "Y:\\elevated_plus_maze\\Rat08-20201123\\Rat08_201123_155820  already exists!\n",
      "Loading  Y:/elevated_plus_maze/Rat08-20201123\\Rat08_201123_155820\\Basler_acA1300-200uc__23039139__20201123_155821934.mp4\n",
      "Duration of video [s]:  594.63 , recorded with  30.0 fps!\n",
      "Overall # of frames:  17839  found with (before cropping) frame dimensions:  1280 1024\n",
      "Starting to extract posture\n",
      "Cropping based on the x1 = 271 x2 = 1188 y1 = 42 y2 = 635. You can adjust the cropping coordinates in the config.yaml file.\n"
     ]
    },
    {
     "name": "stderr",
     "output_type": "stream",
     "text": [
      "17978it [10:11, 29.13it/s]                                                                                          "
     ]
    },
    {
     "name": "stdout",
     "output_type": "stream",
     "text": [
      "Detected frames:  17839\n"
     ]
    },
    {
     "name": "stderr",
     "output_type": "stream",
     "text": [
      "17978it [10:12, 29.35it/s]\n"
     ]
    },
    {
     "name": "stdout",
     "output_type": "stream",
     "text": [
      "Saving results in Y:\\elevated_plus_maze\\Rat08-20201123\\Rat08_201123_155820...\n",
      "Saving csv poses!\n",
      "The videos are analyzed. Now your research can truly start! \n",
      " You can create labeled videos with 'create_labeled_video'\n",
      "If the tracking is not satisfactory for some videos, consider expanding the training set. You can use the function 'extract_outlier_frames' to extract a few representative outlier frames.\n",
      "Filtering with arima model Y:/elevated_plus_maze/Rat08-20201123\\Rat08_201123_155820\\Basler_acA1300-200uc__23039139__20201123_155821934.mp4\n"
     ]
    },
    {
     "name": "stderr",
     "output_type": "stream",
     "text": [
      "C:\\Users\\maelle.christiaens\\.conda\\envs\\DLC-GPU\\lib\\site-packages\\statsmodels\\base\\model.py:568: ConvergenceWarning: Maximum Likelihood optimization failed to converge. Check mle_retvals\n",
      "  ConvergenceWarning)\n",
      "C:\\Users\\maelle.christiaens\\.conda\\envs\\DLC-GPU\\lib\\site-packages\\statsmodels\\base\\model.py:568: ConvergenceWarning: Maximum Likelihood optimization failed to converge. Check mle_retvals\n",
      "  ConvergenceWarning)\n",
      "C:\\Users\\maelle.christiaens\\.conda\\envs\\DLC-GPU\\lib\\site-packages\\statsmodels\\base\\model.py:568: ConvergenceWarning: Maximum Likelihood optimization failed to converge. Check mle_retvals\n",
      "  ConvergenceWarning)\n",
      "C:\\Users\\maelle.christiaens\\.conda\\envs\\DLC-GPU\\lib\\site-packages\\statsmodels\\base\\model.py:568: ConvergenceWarning: Maximum Likelihood optimization failed to converge. Check mle_retvals\n",
      "  ConvergenceWarning)\n",
      "C:\\Users\\maelle.christiaens\\.conda\\envs\\DLC-GPU\\lib\\site-packages\\statsmodels\\base\\model.py:568: ConvergenceWarning: Maximum Likelihood optimization failed to converge. Check mle_retvals\n",
      "  ConvergenceWarning)\n"
     ]
    },
    {
     "name": "stdout",
     "output_type": "stream",
     "text": [
      "Saving filtered csv poses!\n",
      "Overwriting cropping parameters: [287, 1190, 72, 665]\n",
      "These are used for all videos, but won't be save to the cfg file.\n",
      "Using snapshot-650000 for model Y:\\elevated_plus_maze\\elevated_plus_maze-BM-2020-12-01\\dlc-models\\iteration-3\\elevated_plus_mazeDec01-trainset95shuffle1\n",
      "Initializing ResNet\n"
     ]
    },
    {
     "name": "stderr",
     "output_type": "stream",
     "text": [
      "  0%|                                                                                     | 0/17539 [00:00<?, ?it/s]"
     ]
    },
    {
     "name": "stdout",
     "output_type": "stream",
     "text": [
      "Starting to analyze %  Y:/elevated_plus_maze/Rat09-20201130\\Rat09_201130_145247\\Basler_acA1300-200uc__23039139__20201130_145248866.mp4\n",
      "Y:\\elevated_plus_maze\\Rat09-20201130\\Rat09_201130_145247  already exists!\n",
      "Loading  Y:/elevated_plus_maze/Rat09-20201130\\Rat09_201130_145247\\Basler_acA1300-200uc__23039139__20201130_145248866.mp4\n",
      "Duration of video [s]:  584.63 , recorded with  30.0 fps!\n",
      "Overall # of frames:  17539  found with (before cropping) frame dimensions:  1280 1024\n",
      "Starting to extract posture\n",
      "Cropping based on the x1 = 287 x2 = 1190 y1 = 72 y2 = 665. You can adjust the cropping coordinates in the config.yaml file.\n"
     ]
    },
    {
     "name": "stderr",
     "output_type": "stream",
     "text": [
      "17675it [09:47, 30.07it/s]                                                                                          "
     ]
    },
    {
     "name": "stdout",
     "output_type": "stream",
     "text": [
      "Detected frames:  17539\n"
     ]
    },
    {
     "name": "stderr",
     "output_type": "stream",
     "text": [
      "\n"
     ]
    },
    {
     "name": "stdout",
     "output_type": "stream",
     "text": [
      "Saving results in Y:\\elevated_plus_maze\\Rat09-20201130\\Rat09_201130_145247...\n",
      "Saving csv poses!\n",
      "The videos are analyzed. Now your research can truly start! \n",
      " You can create labeled videos with 'create_labeled_video'\n",
      "If the tracking is not satisfactory for some videos, consider expanding the training set. You can use the function 'extract_outlier_frames' to extract a few representative outlier frames.\n",
      "Filtering with arima model Y:/elevated_plus_maze/Rat09-20201130\\Rat09_201130_145247\\Basler_acA1300-200uc__23039139__20201130_145248866.mp4\n"
     ]
    },
    {
     "name": "stderr",
     "output_type": "stream",
     "text": [
      "C:\\Users\\maelle.christiaens\\.conda\\envs\\DLC-GPU\\lib\\site-packages\\statsmodels\\base\\model.py:568: ConvergenceWarning: Maximum Likelihood optimization failed to converge. Check mle_retvals\n",
      "  ConvergenceWarning)\n",
      "C:\\Users\\maelle.christiaens\\.conda\\envs\\DLC-GPU\\lib\\site-packages\\statsmodels\\base\\model.py:568: ConvergenceWarning: Maximum Likelihood optimization failed to converge. Check mle_retvals\n",
      "  ConvergenceWarning)\n",
      "C:\\Users\\maelle.christiaens\\.conda\\envs\\DLC-GPU\\lib\\site-packages\\statsmodels\\base\\model.py:568: ConvergenceWarning: Maximum Likelihood optimization failed to converge. Check mle_retvals\n",
      "  ConvergenceWarning)\n",
      "C:\\Users\\maelle.christiaens\\.conda\\envs\\DLC-GPU\\lib\\site-packages\\statsmodels\\base\\model.py:568: ConvergenceWarning: Maximum Likelihood optimization failed to converge. Check mle_retvals\n",
      "  ConvergenceWarning)\n",
      "C:\\Users\\maelle.christiaens\\.conda\\envs\\DLC-GPU\\lib\\site-packages\\statsmodels\\base\\model.py:568: ConvergenceWarning: Maximum Likelihood optimization failed to converge. Check mle_retvals\n",
      "  ConvergenceWarning)\n",
      "C:\\Users\\maelle.christiaens\\.conda\\envs\\DLC-GPU\\lib\\site-packages\\statsmodels\\base\\model.py:568: ConvergenceWarning: Maximum Likelihood optimization failed to converge. Check mle_retvals\n",
      "  ConvergenceWarning)\n"
     ]
    },
    {
     "name": "stdout",
     "output_type": "stream",
     "text": [
      "Saving filtered csv poses!\n",
      "Overwriting cropping parameters: [307, 1193, 61, 673]\n",
      "These are used for all videos, but won't be save to the cfg file.\n",
      "Using snapshot-650000 for model Y:\\elevated_plus_maze\\elevated_plus_maze-BM-2020-12-01\\dlc-models\\iteration-3\\elevated_plus_mazeDec01-trainset95shuffle1\n",
      "Initializing ResNet\n"
     ]
    },
    {
     "name": "stderr",
     "output_type": "stream",
     "text": [
      "  0%|                                                                                     | 0/17755 [00:00<?, ?it/s]"
     ]
    },
    {
     "name": "stdout",
     "output_type": "stream",
     "text": [
      "Starting to analyze %  Y:/elevated_plus_maze/Rat10-20201130\\Rat10_201130_150837\\Basler_acA1300-200uc__23039139__20201130_150839776.mp4\n",
      "Y:\\elevated_plus_maze\\Rat10-20201130\\Rat10_201130_150837  already exists!\n",
      "Loading  Y:/elevated_plus_maze/Rat10-20201130\\Rat10_201130_150837\\Basler_acA1300-200uc__23039139__20201130_150839776.mp4\n",
      "Duration of video [s]:  591.83 , recorded with  30.0 fps!\n",
      "Overall # of frames:  17755  found with (before cropping) frame dimensions:  1280 1024\n",
      "Starting to extract posture\n",
      "Cropping based on the x1 = 307 x2 = 1193 y1 = 61 y2 = 673. You can adjust the cropping coordinates in the config.yaml file.\n"
     ]
    },
    {
     "name": "stderr",
     "output_type": "stream",
     "text": [
      "17877it [10:02, 29.69it/s]                                                                                          "
     ]
    },
    {
     "name": "stdout",
     "output_type": "stream",
     "text": [
      "Detected frames:  17755\n",
      "Saving results in Y:\\elevated_plus_maze\\Rat10-20201130\\Rat10_201130_150837...\n",
      "Saving csv poses!\n"
     ]
    },
    {
     "name": "stderr",
     "output_type": "stream",
     "text": [
      "\n"
     ]
    },
    {
     "name": "stdout",
     "output_type": "stream",
     "text": [
      "The videos are analyzed. Now your research can truly start! \n",
      " You can create labeled videos with 'create_labeled_video'\n",
      "If the tracking is not satisfactory for some videos, consider expanding the training set. You can use the function 'extract_outlier_frames' to extract a few representative outlier frames.\n",
      "Filtering with arima model Y:/elevated_plus_maze/Rat10-20201130\\Rat10_201130_150837\\Basler_acA1300-200uc__23039139__20201130_150839776.mp4\n"
     ]
    },
    {
     "name": "stderr",
     "output_type": "stream",
     "text": [
      "C:\\Users\\maelle.christiaens\\.conda\\envs\\DLC-GPU\\lib\\site-packages\\statsmodels\\base\\model.py:568: ConvergenceWarning: Maximum Likelihood optimization failed to converge. Check mle_retvals\n",
      "  ConvergenceWarning)\n",
      "C:\\Users\\maelle.christiaens\\.conda\\envs\\DLC-GPU\\lib\\site-packages\\statsmodels\\base\\model.py:568: ConvergenceWarning: Maximum Likelihood optimization failed to converge. Check mle_retvals\n",
      "  ConvergenceWarning)\n",
      "C:\\Users\\maelle.christiaens\\.conda\\envs\\DLC-GPU\\lib\\site-packages\\statsmodels\\base\\model.py:568: ConvergenceWarning: Maximum Likelihood optimization failed to converge. Check mle_retvals\n",
      "  ConvergenceWarning)\n"
     ]
    },
    {
     "name": "stdout",
     "output_type": "stream",
     "text": [
      "Saving filtered csv poses!\n",
      "Overwriting cropping parameters: [301, 1179, 44, 623]\n",
      "These are used for all videos, but won't be save to the cfg file.\n",
      "Using snapshot-650000 for model Y:\\elevated_plus_maze\\elevated_plus_maze-BM-2020-12-01\\dlc-models\\iteration-3\\elevated_plus_mazeDec01-trainset95shuffle1\n",
      "Initializing ResNet\n"
     ]
    },
    {
     "name": "stderr",
     "output_type": "stream",
     "text": [
      "  0%|                                                                                     | 0/17943 [00:00<?, ?it/s]"
     ]
    },
    {
     "name": "stdout",
     "output_type": "stream",
     "text": [
      "Starting to analyze %  Y:/elevated_plus_maze/Rat11-20201130\\Rat11_201130_152319\\Basler_acA1300-200uc__23039139__20201130_152321432.mp4\n",
      "Y:\\elevated_plus_maze\\Rat11-20201130\\Rat11_201130_152319  already exists!\n",
      "Loading  Y:/elevated_plus_maze/Rat11-20201130\\Rat11_201130_152319\\Basler_acA1300-200uc__23039139__20201130_152321432.mp4\n",
      "Duration of video [s]:  598.1 , recorded with  30.0 fps!\n",
      "Overall # of frames:  17943  found with (before cropping) frame dimensions:  1280 1024\n",
      "Starting to extract posture\n",
      "Cropping based on the x1 = 301 x2 = 1179 y1 = 44 y2 = 623. You can adjust the cropping coordinates in the config.yaml file.\n"
     ]
    },
    {
     "name": "stderr",
     "output_type": "stream",
     "text": [
      "18079it [09:42, 31.03it/s]                                                                                          "
     ]
    },
    {
     "name": "stdout",
     "output_type": "stream",
     "text": [
      "Detected frames:  17943\n",
      "Saving results in Y:\\elevated_plus_maze\\Rat11-20201130\\Rat11_201130_152319...\n",
      "Saving csv poses!\n"
     ]
    },
    {
     "name": "stderr",
     "output_type": "stream",
     "text": [
      "\n"
     ]
    },
    {
     "name": "stdout",
     "output_type": "stream",
     "text": [
      "The videos are analyzed. Now your research can truly start! \n",
      " You can create labeled videos with 'create_labeled_video'\n",
      "If the tracking is not satisfactory for some videos, consider expanding the training set. You can use the function 'extract_outlier_frames' to extract a few representative outlier frames.\n",
      "Filtering with arima model Y:/elevated_plus_maze/Rat11-20201130\\Rat11_201130_152319\\Basler_acA1300-200uc__23039139__20201130_152321432.mp4\n"
     ]
    },
    {
     "name": "stderr",
     "output_type": "stream",
     "text": [
      "C:\\Users\\maelle.christiaens\\.conda\\envs\\DLC-GPU\\lib\\site-packages\\statsmodels\\base\\model.py:568: ConvergenceWarning: Maximum Likelihood optimization failed to converge. Check mle_retvals\n",
      "  ConvergenceWarning)\n",
      "C:\\Users\\maelle.christiaens\\.conda\\envs\\DLC-GPU\\lib\\site-packages\\statsmodels\\base\\model.py:568: ConvergenceWarning: Maximum Likelihood optimization failed to converge. Check mle_retvals\n",
      "  ConvergenceWarning)\n",
      "C:\\Users\\maelle.christiaens\\.conda\\envs\\DLC-GPU\\lib\\site-packages\\statsmodels\\base\\model.py:568: ConvergenceWarning: Maximum Likelihood optimization failed to converge. Check mle_retvals\n",
      "  ConvergenceWarning)\n",
      "C:\\Users\\maelle.christiaens\\.conda\\envs\\DLC-GPU\\lib\\site-packages\\statsmodels\\base\\model.py:568: ConvergenceWarning: Maximum Likelihood optimization failed to converge. Check mle_retvals\n",
      "  ConvergenceWarning)\n",
      "C:\\Users\\maelle.christiaens\\.conda\\envs\\DLC-GPU\\lib\\site-packages\\statsmodels\\base\\model.py:568: ConvergenceWarning: Maximum Likelihood optimization failed to converge. Check mle_retvals\n",
      "  ConvergenceWarning)\n"
     ]
    },
    {
     "name": "stdout",
     "output_type": "stream",
     "text": [
      "Saving filtered csv poses!\n",
      "Overwriting cropping parameters: [282, 1176, 28, 607]\n",
      "These are used for all videos, but won't be save to the cfg file.\n",
      "Using snapshot-650000 for model Y:\\elevated_plus_maze\\elevated_plus_maze-BM-2020-12-01\\dlc-models\\iteration-3\\elevated_plus_mazeDec01-trainset95shuffle1\n",
      "Initializing ResNet\n"
     ]
    },
    {
     "name": "stderr",
     "output_type": "stream",
     "text": [
      "  0%|                                                                                     | 0/17936 [00:00<?, ?it/s]"
     ]
    },
    {
     "name": "stdout",
     "output_type": "stream",
     "text": [
      "Starting to analyze %  Y:/elevated_plus_maze/Rat12-20201130\\Rat12_201130_153751\\Basler_acA1300-200uc__23039139__20201130_153753849.mp4\n",
      "Y:\\elevated_plus_maze\\Rat12-20201130\\Rat12_201130_153751  already exists!\n",
      "Loading  Y:/elevated_plus_maze/Rat12-20201130\\Rat12_201130_153751\\Basler_acA1300-200uc__23039139__20201130_153753849.mp4\n",
      "Duration of video [s]:  597.87 , recorded with  30.0 fps!\n",
      "Overall # of frames:  17936  found with (before cropping) frame dimensions:  1280 1024\n",
      "Starting to extract posture\n",
      "Cropping based on the x1 = 282 x2 = 1176 y1 = 28 y2 = 607. You can adjust the cropping coordinates in the config.yaml file.\n"
     ]
    },
    {
     "name": "stderr",
     "output_type": "stream",
     "text": [
      "18079it [09:43, 30.98it/s]                                                                                          "
     ]
    },
    {
     "name": "stdout",
     "output_type": "stream",
     "text": [
      "Detected frames:  17936\n",
      "Saving results in Y:\\elevated_plus_maze\\Rat12-20201130\\Rat12_201130_153751...\n",
      "Saving csv poses!\n"
     ]
    },
    {
     "name": "stderr",
     "output_type": "stream",
     "text": [
      "\n"
     ]
    },
    {
     "name": "stdout",
     "output_type": "stream",
     "text": [
      "The videos are analyzed. Now your research can truly start! \n",
      " You can create labeled videos with 'create_labeled_video'\n",
      "If the tracking is not satisfactory for some videos, consider expanding the training set. You can use the function 'extract_outlier_frames' to extract a few representative outlier frames.\n",
      "Filtering with arima model Y:/elevated_plus_maze/Rat12-20201130\\Rat12_201130_153751\\Basler_acA1300-200uc__23039139__20201130_153753849.mp4\n"
     ]
    },
    {
     "name": "stderr",
     "output_type": "stream",
     "text": [
      "C:\\Users\\maelle.christiaens\\.conda\\envs\\DLC-GPU\\lib\\site-packages\\statsmodels\\base\\model.py:568: ConvergenceWarning: Maximum Likelihood optimization failed to converge. Check mle_retvals\n",
      "  ConvergenceWarning)\n",
      "C:\\Users\\maelle.christiaens\\.conda\\envs\\DLC-GPU\\lib\\site-packages\\statsmodels\\base\\model.py:568: ConvergenceWarning: Maximum Likelihood optimization failed to converge. Check mle_retvals\n",
      "  ConvergenceWarning)\n"
     ]
    },
    {
     "name": "stdout",
     "output_type": "stream",
     "text": [
      "Saving filtered csv poses!\n"
     ]
    }
   ],
   "source": [
    "for v,c in zip(videos,crop):\n",
    "    x1,x2 = c[0]\n",
    "    y1,y2 = c[1]\n",
    "    c = [x1,x2,y1,y2]\n",
    "    c = list(map(int,c))\n",
    "    \n",
    "    dlc.analyze_videos(config_path,v,cropping=c,save_as_csv=True)\n",
    "    dlc.filterpredictions(config_path,v,save_as_csv = True,filtertype='arima')"
   ]
  },
  {
   "cell_type": "code",
   "execution_count": 7,
   "metadata": {},
   "outputs": [],
   "source": [
    "metadata = []\n",
    "for subdirs, dirs, files in os.walk(path):\n",
    "    for file in files:\n",
    "        if file.endswith('.pickle'): metadata.append(os.path.join(subdirs,file))\n",
    "\n",
    "del metadata[0]"
   ]
  },
  {
   "cell_type": "code",
   "execution_count": 11,
   "metadata": {},
   "outputs": [],
   "source": [
    "for v in videos:\n",
    "    dlc.create_labeled_video(config_path,v,filtered=False)"
   ]
  },
  {
   "cell_type": "code",
   "execution_count": 16,
   "metadata": {
    "collapsed": true,
    "jupyter": {
     "outputs_hidden": true
    }
   },
   "outputs": [
    {
     "name": "stdout",
     "output_type": "stream",
     "text": [
      "Method  jump  found  458  putative outlier frames.\n",
      "Do you want to proceed with extracting  10  of those?\n",
      "If this list is very large, perhaps consider changing the parameters (start, stop, p_bound, comparisonbodyparts) or use a different method.\n"
     ]
    },
    {
     "name": "stdin",
     "output_type": "stream",
     "text": [
      "yes/no y\n"
     ]
    },
    {
     "name": "stdout",
     "output_type": "stream",
     "text": [
      "Frames from video Basler_acA1300-200uc__23039139__20201123_152706224  already extracted (more will be added)!\n",
      "Loading video...\n"
     ]
    },
    {
     "name": "stderr",
     "output_type": "stream",
     "text": [
      "7it [00:00, 23.79it/s]"
     ]
    },
    {
     "name": "stdout",
     "output_type": "stream",
     "text": [
      "Duration of video [s]:  584.467 , recorded @  30.0 fps!\n",
      "Overall # of frames:  17534 with (cropped) frame dimensions: \n",
      "Kmeans-quantization based extracting of frames from 0.0  seconds to 584.47  seconds.\n",
      "Extracting and downsampling... 458  frames from the video.\n"
     ]
    },
    {
     "name": "stderr",
     "output_type": "stream",
     "text": [
      "458it [00:14, 32.55it/s]\n"
     ]
    },
    {
     "name": "stdout",
     "output_type": "stream",
     "text": [
      "Kmeans clustering ... (this might take a while)\n",
      "Let's select frames indices: [13417, 177, 36, 107, 129, 162, 149, 91, 151, 185]\n",
      "Creating the symbolic link of the video\n",
      "AUTOMATIC ADDING OF VIDEO TO CONFIG FILE FAILED! You need to do this manually for including it in the config.yaml file!\n",
      "Videopath: Y:/elevated_plus_maze/Rat06-20201123\\Rat06_201123_152703\\Basler_acA1300-200uc__23039139__20201123_152706224.mp4 Coordinates for cropping: (293, 1199, 42, 632)\n",
      "The outlier frames are extracted. They are stored in the subdirectory labeled-data\\Basler_acA1300-200uc__23039139__20201123_152706224.\n",
      "Once you extracted frames for all videos, use 'refine_labels' to manually correct the labels.\n",
      "Method  jump  found  534  putative outlier frames.\n",
      "Do you want to proceed with extracting  10  of those?\n",
      "If this list is very large, perhaps consider changing the parameters (start, stop, p_bound, comparisonbodyparts) or use a different method.\n"
     ]
    },
    {
     "name": "stdin",
     "output_type": "stream",
     "text": [
      "yes/no y\n"
     ]
    },
    {
     "name": "stderr",
     "output_type": "stream",
     "text": [
      "1it [00:00,  9.97it/s]"
     ]
    },
    {
     "name": "stdout",
     "output_type": "stream",
     "text": [
      "Frames from video Basler_acA1300-200uc__23039139__20201123_154152804  already extracted (more will be added)!\n",
      "Loading video...\n",
      "Duration of video [s]:  588.734 , recorded @  30.0 fps!\n",
      "Overall # of frames:  17662 with (cropped) frame dimensions: \n",
      "Kmeans-quantization based extracting of frames from 0.0  seconds to 588.73  seconds.\n",
      "Extracting and downsampling... 534  frames from the video.\n"
     ]
    },
    {
     "name": "stderr",
     "output_type": "stream",
     "text": [
      "534it [00:15, 33.49it/s]\n"
     ]
    },
    {
     "name": "stdout",
     "output_type": "stream",
     "text": [
      "Kmeans clustering ... (this might take a while)\n",
      "Let's select frames indices: [225, 1380, 54, 215, 183, 244, 222, 156, 206, 213]\n",
      "Creating the symbolic link of the video\n",
      "AUTOMATIC ADDING OF VIDEO TO CONFIG FILE FAILED! You need to do this manually for including it in the config.yaml file!\n",
      "Videopath: Y:/elevated_plus_maze/Rat07-20201123\\Rat07_201123_154150\\Basler_acA1300-200uc__23039139__20201123_154152804.mp4 Coordinates for cropping: (301, 1190, 36, 643)\n",
      "The outlier frames are extracted. They are stored in the subdirectory labeled-data\\Basler_acA1300-200uc__23039139__20201123_154152804.\n",
      "Once you extracted frames for all videos, use 'refine_labels' to manually correct the labels.\n",
      "Method  jump  found  1324  putative outlier frames.\n",
      "Do you want to proceed with extracting  10  of those?\n",
      "If this list is very large, perhaps consider changing the parameters (start, stop, p_bound, comparisonbodyparts) or use a different method.\n"
     ]
    },
    {
     "name": "stdin",
     "output_type": "stream",
     "text": [
      "yes/no y\n"
     ]
    },
    {
     "name": "stderr",
     "output_type": "stream",
     "text": [
      "2it [00:00, 19.85it/s]"
     ]
    },
    {
     "name": "stdout",
     "output_type": "stream",
     "text": [
      "Frames from video Basler_acA1300-200uc__23039139__20201123_155821934  already extracted (more will be added)!\n",
      "Loading video...\n",
      "Duration of video [s]:  594.634 , recorded @  30.0 fps!\n",
      "Overall # of frames:  17839 with (cropped) frame dimensions: \n",
      "Kmeans-quantization based extracting of frames from 0.0  seconds to 594.63  seconds.\n",
      "Extracting and downsampling... 1324  frames from the video.\n"
     ]
    },
    {
     "name": "stderr",
     "output_type": "stream",
     "text": [
      "1324it [00:38, 34.12it/s]\n"
     ]
    },
    {
     "name": "stdout",
     "output_type": "stream",
     "text": [
      "Kmeans clustering ... (this might take a while)\n",
      "Let's select frames indices: [2110, 271, 433, 415, 382, 341, 448, 14, 352, 486]\n",
      "Creating the symbolic link of the video\n",
      "AUTOMATIC ADDING OF VIDEO TO CONFIG FILE FAILED! You need to do this manually for including it in the config.yaml file!\n",
      "Videopath: Y:/elevated_plus_maze/Rat08-20201123\\Rat08_201123_155820\\Basler_acA1300-200uc__23039139__20201123_155821934.mp4 Coordinates for cropping: (271, 1188, 42, 635)\n",
      "The outlier frames are extracted. They are stored in the subdirectory labeled-data\\Basler_acA1300-200uc__23039139__20201123_155821934.\n",
      "Once you extracted frames for all videos, use 'refine_labels' to manually correct the labels.\n",
      "Method  jump  found  699  putative outlier frames.\n",
      "Do you want to proceed with extracting  10  of those?\n",
      "If this list is very large, perhaps consider changing the parameters (start, stop, p_bound, comparisonbodyparts) or use a different method.\n"
     ]
    },
    {
     "name": "stdin",
     "output_type": "stream",
     "text": [
      "yes/no y\n"
     ]
    },
    {
     "name": "stderr",
     "output_type": "stream",
     "text": [
      "0it [00:00, ?it/s]"
     ]
    },
    {
     "name": "stdout",
     "output_type": "stream",
     "text": [
      "Frames from video Basler_acA1300-200uc__23039139__20201130_145248866  already extracted (more will be added)!\n",
      "Loading video...\n",
      "Duration of video [s]:  584.634 , recorded @  30.0 fps!\n",
      "Overall # of frames:  17539 with (cropped) frame dimensions: \n",
      "Kmeans-quantization based extracting of frames from 0.0  seconds to 584.63  seconds.\n",
      "Extracting and downsampling... 699  frames from the video.\n"
     ]
    },
    {
     "name": "stderr",
     "output_type": "stream",
     "text": [
      "699it [00:22, 31.42it/s]\n"
     ]
    },
    {
     "name": "stdout",
     "output_type": "stream",
     "text": [
      "Kmeans clustering ... (this might take a while)\n",
      "Let's select frames indices: [6584, 101, 146, 126, 112, 176, 165, 13378, 124, 108]\n",
      "Creating the symbolic link of the video\n",
      "AUTOMATIC ADDING OF VIDEO TO CONFIG FILE FAILED! You need to do this manually for including it in the config.yaml file!\n",
      "Videopath: Y:/elevated_plus_maze/Rat09-20201130\\Rat09_201130_145247\\Basler_acA1300-200uc__23039139__20201130_145248866.mp4 Coordinates for cropping: (287, 1190, 72, 665)\n",
      "The outlier frames are extracted. They are stored in the subdirectory labeled-data\\Basler_acA1300-200uc__23039139__20201130_145248866.\n",
      "Once you extracted frames for all videos, use 'refine_labels' to manually correct the labels.\n",
      "Method  jump  found  547  putative outlier frames.\n",
      "Do you want to proceed with extracting  10  of those?\n",
      "If this list is very large, perhaps consider changing the parameters (start, stop, p_bound, comparisonbodyparts) or use a different method.\n"
     ]
    },
    {
     "name": "stdin",
     "output_type": "stream",
     "text": [
      "yes/no y\n"
     ]
    },
    {
     "name": "stderr",
     "output_type": "stream",
     "text": [
      "0it [00:00, ?it/s]"
     ]
    },
    {
     "name": "stdout",
     "output_type": "stream",
     "text": [
      "Frames from video Basler_acA1300-200uc__23039139__20201130_150839776  already extracted (more will be added)!\n",
      "Loading video...\n",
      "Duration of video [s]:  591.834 , recorded @  30.0 fps!\n",
      "Overall # of frames:  17755 with (cropped) frame dimensions: \n",
      "Kmeans-quantization based extracting of frames from 0.0  seconds to 591.83  seconds.\n",
      "Extracting and downsampling... 547  frames from the video.\n"
     ]
    },
    {
     "name": "stderr",
     "output_type": "stream",
     "text": [
      "547it [00:17, 31.37it/s]\n"
     ]
    },
    {
     "name": "stdout",
     "output_type": "stream",
     "text": [
      "Kmeans clustering ... (this might take a while)\n",
      "Let's select frames indices: [14457, 444, 349, 237, 291, 377, 3839, 306, 455, 393]\n",
      "Creating the symbolic link of the video\n",
      "AUTOMATIC ADDING OF VIDEO TO CONFIG FILE FAILED! You need to do this manually for including it in the config.yaml file!\n",
      "Videopath: Y:/elevated_plus_maze/Rat10-20201130\\Rat10_201130_150837\\Basler_acA1300-200uc__23039139__20201130_150839776.mp4 Coordinates for cropping: (307, 1193, 61, 673)\n",
      "The outlier frames are extracted. They are stored in the subdirectory labeled-data\\Basler_acA1300-200uc__23039139__20201130_150839776.\n",
      "Once you extracted frames for all videos, use 'refine_labels' to manually correct the labels.\n",
      "Method  jump  found  783  putative outlier frames.\n",
      "Do you want to proceed with extracting  10  of those?\n",
      "If this list is very large, perhaps consider changing the parameters (start, stop, p_bound, comparisonbodyparts) or use a different method.\n"
     ]
    },
    {
     "name": "stdin",
     "output_type": "stream",
     "text": [
      "yes/no y\n"
     ]
    },
    {
     "name": "stderr",
     "output_type": "stream",
     "text": [
      "1it [00:00,  9.97it/s]"
     ]
    },
    {
     "name": "stdout",
     "output_type": "stream",
     "text": [
      "Frames from video Basler_acA1300-200uc__23039139__20201130_152321432  already extracted (more will be added)!\n",
      "Loading video...\n",
      "Duration of video [s]:  598.1 , recorded @  30.0 fps!\n",
      "Overall # of frames:  17943 with (cropped) frame dimensions: \n",
      "Kmeans-quantization based extracting of frames from 0.0  seconds to 598.1  seconds.\n",
      "Extracting and downsampling... 783  frames from the video.\n"
     ]
    },
    {
     "name": "stderr",
     "output_type": "stream",
     "text": [
      "783it [00:23, 32.84it/s]\n"
     ]
    },
    {
     "name": "stdout",
     "output_type": "stream",
     "text": [
      "Kmeans clustering ... (this might take a while)\n",
      "Let's select frames indices: [229, 13654, 594, 540, 608, 522, 572, 551, 531, 519]\n",
      "Creating the symbolic link of the video\n",
      "AUTOMATIC ADDING OF VIDEO TO CONFIG FILE FAILED! You need to do this manually for including it in the config.yaml file!\n",
      "Videopath: Y:/elevated_plus_maze/Rat11-20201130\\Rat11_201130_152319\\Basler_acA1300-200uc__23039139__20201130_152321432.mp4 Coordinates for cropping: (301, 1179, 44, 623)\n",
      "The outlier frames are extracted. They are stored in the subdirectory labeled-data\\Basler_acA1300-200uc__23039139__20201130_152321432.\n",
      "Once you extracted frames for all videos, use 'refine_labels' to manually correct the labels.\n",
      "Method  jump  found  527  putative outlier frames.\n",
      "Do you want to proceed with extracting  10  of those?\n",
      "If this list is very large, perhaps consider changing the parameters (start, stop, p_bound, comparisonbodyparts) or use a different method.\n"
     ]
    },
    {
     "name": "stdin",
     "output_type": "stream",
     "text": [
      "yes/no y\n"
     ]
    },
    {
     "name": "stderr",
     "output_type": "stream",
     "text": [
      "2it [00:00, 19.83it/s]"
     ]
    },
    {
     "name": "stdout",
     "output_type": "stream",
     "text": [
      "Frames from video Basler_acA1300-200uc__23039139__20201130_153753849  already extracted (more will be added)!\n",
      "Loading video...\n",
      "Duration of video [s]:  597.867 , recorded @  30.0 fps!\n",
      "Overall # of frames:  17936 with (cropped) frame dimensions: \n",
      "Kmeans-quantization based extracting of frames from 0.0  seconds to 597.87  seconds.\n",
      "Extracting and downsampling... 527  frames from the video.\n"
     ]
    },
    {
     "name": "stderr",
     "output_type": "stream",
     "text": [
      "527it [00:13, 38.36it/s]\n"
     ]
    },
    {
     "name": "stdout",
     "output_type": "stream",
     "text": [
      "Kmeans clustering ... (this might take a while)\n",
      "Let's select frames indices: [586, 341, 7693, 77, 481, 599, 536, 171, 247, 570]\n",
      "Creating the symbolic link of the video\n",
      "AUTOMATIC ADDING OF VIDEO TO CONFIG FILE FAILED! You need to do this manually for including it in the config.yaml file!\n",
      "Videopath: Y:/elevated_plus_maze/Rat12-20201130\\Rat12_201130_153751\\Basler_acA1300-200uc__23039139__20201130_153753849.mp4 Coordinates for cropping: (282, 1176, 28, 607)\n",
      "The outlier frames are extracted. They are stored in the subdirectory labeled-data\\Basler_acA1300-200uc__23039139__20201130_153753849.\n",
      "Once you extracted frames for all videos, use 'refine_labels' to manually correct the labels.\n"
     ]
    }
   ],
   "source": [
    "for v,m in zip(videos,metadata):\n",
    "    with open(m,'rb') as f:\n",
    "        data = pickle.load(f)\n",
    "    x1,x2,y1,y2 = data['data']['cropping_parameters']\n",
    "    \n",
    "    cfg = dlc.utils.auxiliaryfunctions.read_config(config_path)\n",
    "    cfg['x1'] = x1\n",
    "    cfg['x2'] = x2\n",
    "    cfg['y1'] = y1\n",
    "    cfg['y2'] = y2\n",
    "    dlc.utils.auxiliaryfunctions.write_config(config_path,cfg)\n",
    "    \n",
    "    dlc.extract_outlier_frames(config_path,v)"
   ]
  },
  {
   "cell_type": "code",
   "execution_count": null,
   "metadata": {},
   "outputs": [],
   "source": [
    "dlc.evaluate_network(config_path)"
   ]
  },
  {
   "cell_type": "code",
   "execution_count": null,
   "metadata": {},
   "outputs": [
    {
     "name": "stdout",
     "output_type": "stream",
     "text": [
      "Checking labels if they are outside the image\n",
      "A training dataset file is already found for this video. The refined machine labels are merged to this data!\n",
      "Checking labels if they are outside the image\n",
      "A training dataset file is already found for this video. The refined machine labels are merged to this data!\n",
      "Checking labels if they are outside the image\n",
      "A training dataset file is already found for this video. The refined machine labels are merged to this data!\n",
      "Checking labels if they are outside the image\n",
      "A training dataset file is already found for this video. The refined machine labels are merged to this data!\n",
      "Checking labels if they are outside the image\n",
      "A training dataset file is already found for this video. The refined machine labels are merged to this data!\n",
      "Checking labels if they are outside the image\n",
      "A training dataset file is already found for this video. The refined machine labels are merged to this data!\n",
      "Checking labels if they are outside the image\n",
      "A training dataset file is already found for this video. The refined machine labels are merged to this data!\n",
      "Closing... The refined labels are stored in a subdirectory under labeled-data. Use the function 'merge_datasets' to augment the training dataset, and then re-train a network using create_training_dataset followed by train_network!\n"
     ]
    }
   ],
   "source": [
    "dlc.refine_labels(config_path)"
   ]
  },
  {
   "cell_type": "code",
   "execution_count": 7,
   "metadata": {},
   "outputs": [
    {
     "name": "stdout",
     "output_type": "stream",
     "text": [
      "Merged data sets and updated refinement iteration to 4.\n",
      "Now you can create a new training set for the expanded annotated images (use create_training_dataset).\n"
     ]
    }
   ],
   "source": [
    "dlc.merge_datasets(config_path)"
   ]
  },
  {
   "cell_type": "code",
   "execution_count": null,
   "metadata": {},
   "outputs": [],
   "source": [
    "dlc.check_labels(config_path)"
   ]
  },
  {
   "cell_type": "code",
   "execution_count": 8,
   "metadata": {},
   "outputs": [
    {
     "name": "stdout",
     "output_type": "stream",
     "text": [
      "The training dataset is successfully created. Use the function 'train_network' to start training. Happy training!\n"
     ]
    },
    {
     "data": {
      "text/plain": [
       "[(0.95,\n",
       "  1,\n",
       "  (array([ 78,  23,  57,  63, 106,   4, 102,  85,  66,   8,  21,  52, 119,\n",
       "           37, 123, 122, 109, 126, 100,  69,  26,  70,  84,  65,  18, 124,\n",
       "           83,  30,  40,  14,  47,   5, 104, 128,  33,  34,  44,  76,  25,\n",
       "            2,  38,   1,  68,  77,   6,  93,  96,  92,  32, 113,  43, 101,\n",
       "           42,  59,  31, 116, 114,  15,  67,  94,   3,  22,  58,  75,  48,\n",
       "           27,  13,  88,  41,  28,   0,   7, 107,  81, 117,  71, 121,  20,\n",
       "           53, 103,   9,  10,  61,  54,  45,  46,  50, 105,  89,  36,  97,\n",
       "           95,  24,  72,  51,  91,  90,  11,  35,  12,  19, 120, 115, 112,\n",
       "           64,  17,  87,  39,  74,  60,  86, 129,  29,  16, 118, 111,  80,\n",
       "           56, 127,  98, 110,  79, 125]),\n",
       "   array([ 49, 108,  99,  62,  82,  55,  73])))]"
      ]
     },
     "execution_count": 8,
     "metadata": {},
     "output_type": "execute_result"
    }
   ],
   "source": [
    "dlc.create_training_dataset(config_path)"
   ]
  },
  {
   "cell_type": "code",
   "execution_count": null,
   "metadata": {},
   "outputs": [
    {
     "name": "stderr",
     "output_type": "stream",
     "text": [
      "Config:\n",
      "{'all_joints': [[0], [1], [2], [3], [4]],\n",
      " 'all_joints_names': ['snout', 'left_ear', 'right_ear', 'b_tail', 'e_tail'],\n",
      " 'batch_size': 1,\n",
      " 'crop_pad': 0,\n",
      " 'cropratio': 0.4,\n",
      " 'dataset': 'training-datasets\\\\iteration-4\\\\UnaugmentedDataSet_elevated_plus_mazeDec01\\\\elevated_plus_maze_Maelle95shuffle1.mat',\n",
      " 'dataset_type': 'default',\n",
      " 'deterministic': False,\n",
      " 'display_iters': 1000,\n",
      " 'fg_fraction': 0.25,\n",
      " 'global_scale': 0.8,\n",
      " 'init_weights': 'C:\\\\Users\\\\maelle.christiaens\\\\.conda\\\\envs\\\\DLC-GPU\\\\lib\\\\site-packages\\\\deeplabcut\\\\pose_estimation_tensorflow\\\\models\\\\pretrained\\\\resnet_v1_50.ckpt',\n",
      " 'intermediate_supervision': False,\n",
      " 'intermediate_supervision_layer': 12,\n",
      " 'location_refinement': True,\n",
      " 'locref_huber_loss': True,\n",
      " 'locref_loss_weight': 0.05,\n",
      " 'locref_stdev': 7.2801,\n",
      " 'log_dir': 'log',\n",
      " 'max_input_size': 1500,\n",
      " 'mean_pixel': [123.68, 116.779, 103.939],\n",
      " 'metadataset': 'training-datasets\\\\iteration-4\\\\UnaugmentedDataSet_elevated_plus_mazeDec01\\\\Documentation_data-elevated_plus_maze_95shuffle1.pickle',\n",
      " 'min_input_size': 64,\n",
      " 'mirror': False,\n",
      " 'multi_step': [[0.005, 10000],\n",
      "                [0.02, 430000],\n",
      "                [0.002, 730000],\n",
      "                [0.001, 1030000]],\n",
      " 'net_type': 'resnet_50',\n",
      " 'num_joints': 5,\n",
      " 'optimizer': 'sgd',\n",
      " 'pairwise_huber_loss': False,\n",
      " 'pairwise_predict': False,\n",
      " 'partaffinityfield_predict': False,\n",
      " 'pos_dist_thresh': 17,\n",
      " 'project_path': 'Y:\\\\elevated_plus_maze\\\\elevated_plus_maze-BM-2020-12-01',\n",
      " 'regularize': False,\n",
      " 'rotation': 25,\n",
      " 'rotratio': 0.4,\n",
      " 'save_iters': 50000,\n",
      " 'scale_jitter_lo': 0.5,\n",
      " 'scale_jitter_up': 1.25,\n",
      " 'scoremap_dir': 'test',\n",
      " 'shuffle': True,\n",
      " 'snapshot_prefix': 'Y:\\\\elevated_plus_maze\\\\elevated_plus_maze-BM-2020-12-01\\\\dlc-models\\\\iteration-4\\\\elevated_plus_mazeDec01-trainset95shuffle1\\\\train\\\\snapshot',\n",
      " 'stride': 8.0,\n",
      " 'weigh_negatives': False,\n",
      " 'weigh_only_present_joints': False,\n",
      " 'weigh_part_predictions': False,\n",
      " 'weight_decay': 0.0001}\n"
     ]
    },
    {
     "name": "stdout",
     "output_type": "stream",
     "text": [
      "Selecting single-animal trainer\n",
      "Starting with imgaug pose-dataset loader (=default).\n",
      "Batch Size is 1\n",
      "Initializing ResNet\n",
      "Loading ImageNet-pretrained resnet_50\n",
      "Training parameter:\n",
      "{'stride': 8.0, 'weigh_part_predictions': False, 'weigh_negatives': False, 'fg_fraction': 0.25, 'mean_pixel': [123.68, 116.779, 103.939], 'shuffle': True, 'snapshot_prefix': 'Y:\\\\elevated_plus_maze\\\\elevated_plus_maze-BM-2020-12-01\\\\dlc-models\\\\iteration-4\\\\elevated_plus_mazeDec01-trainset95shuffle1\\\\train\\\\snapshot', 'log_dir': 'log', 'global_scale': 0.8, 'location_refinement': True, 'locref_stdev': 7.2801, 'locref_loss_weight': 0.05, 'locref_huber_loss': True, 'optimizer': 'sgd', 'intermediate_supervision': False, 'intermediate_supervision_layer': 12, 'regularize': False, 'weight_decay': 0.0001, 'crop_pad': 0, 'scoremap_dir': 'test', 'batch_size': 1, 'dataset_type': 'default', 'deterministic': False, 'mirror': False, 'pairwise_huber_loss': False, 'weigh_only_present_joints': False, 'partaffinityfield_predict': False, 'pairwise_predict': False, 'all_joints': [[0], [1], [2], [3], [4]], 'all_joints_names': ['snout', 'left_ear', 'right_ear', 'b_tail', 'e_tail'], 'cropratio': 0.4, 'dataset': 'training-datasets\\\\iteration-4\\\\UnaugmentedDataSet_elevated_plus_mazeDec01\\\\elevated_plus_maze_Maelle95shuffle1.mat', 'display_iters': 1000, 'init_weights': 'C:\\\\Users\\\\maelle.christiaens\\\\.conda\\\\envs\\\\DLC-GPU\\\\lib\\\\site-packages\\\\deeplabcut\\\\pose_estimation_tensorflow\\\\models\\\\pretrained\\\\resnet_v1_50.ckpt', 'max_input_size': 1500, 'metadataset': 'training-datasets\\\\iteration-4\\\\UnaugmentedDataSet_elevated_plus_mazeDec01\\\\Documentation_data-elevated_plus_maze_95shuffle1.pickle', 'min_input_size': 64, 'multi_step': [[0.005, 10000], [0.02, 430000], [0.002, 730000], [0.001, 1030000]], 'net_type': 'resnet_50', 'num_joints': 5, 'pos_dist_thresh': 17, 'project_path': 'Y:\\\\elevated_plus_maze\\\\elevated_plus_maze-BM-2020-12-01', 'rotation': 25, 'rotratio': 0.4, 'save_iters': 50000, 'scale_jitter_lo': 0.5, 'scale_jitter_up': 1.25, 'covering': True, 'elastic_transform': True, 'motion_blur': True, 'motion_blur_params': {'k': 7, 'angle': [-90, 90]}}\n",
      "Starting training....\n"
     ]
    },
    {
     "name": "stderr",
     "output_type": "stream",
     "text": [
      "iteration: 1000 loss: 0.0299 lr: 0.005\n",
      "iteration: 2000 loss: 0.0220 lr: 0.005\n",
      "iteration: 3000 loss: 0.0185 lr: 0.005\n",
      "iteration: 4000 loss: 0.0156 lr: 0.005\n",
      "iteration: 5000 loss: 0.0138 lr: 0.005\n",
      "iteration: 6000 loss: 0.0126 lr: 0.005\n",
      "iteration: 7000 loss: 0.0113 lr: 0.005\n",
      "iteration: 8000 loss: 0.0103 lr: 0.005\n",
      "iteration: 9000 loss: 0.0097 lr: 0.005\n",
      "iteration: 10000 loss: 0.0093 lr: 0.005\n",
      "iteration: 11000 loss: 0.0126 lr: 0.02\n",
      "iteration: 12000 loss: 0.0104 lr: 0.02\n",
      "iteration: 13000 loss: 0.0088 lr: 0.02\n",
      "iteration: 14000 loss: 0.0079 lr: 0.02\n",
      "iteration: 15000 loss: 0.0071 lr: 0.02\n",
      "iteration: 16000 loss: 0.0065 lr: 0.02\n",
      "iteration: 17000 loss: 0.0060 lr: 0.02\n",
      "iteration: 18000 loss: 0.0058 lr: 0.02\n",
      "iteration: 19000 loss: 0.0052 lr: 0.02\n",
      "iteration: 20000 loss: 0.0050 lr: 0.02\n",
      "iteration: 21000 loss: 0.0049 lr: 0.02\n",
      "iteration: 22000 loss: 0.0046 lr: 0.02\n",
      "iteration: 23000 loss: 0.0045 lr: 0.02\n",
      "iteration: 24000 loss: 0.0045 lr: 0.02\n",
      "iteration: 25000 loss: 0.0042 lr: 0.02\n",
      "iteration: 26000 loss: 0.0042 lr: 0.02\n",
      "iteration: 27000 loss: 0.0039 lr: 0.02\n",
      "iteration: 28000 loss: 0.0037 lr: 0.02\n",
      "iteration: 29000 loss: 0.0038 lr: 0.02\n",
      "iteration: 30000 loss: 0.0038 lr: 0.02\n",
      "iteration: 31000 loss: 0.0039 lr: 0.02\n",
      "iteration: 32000 loss: 0.0036 lr: 0.02\n",
      "iteration: 33000 loss: 0.0036 lr: 0.02\n",
      "iteration: 34000 loss: 0.0033 lr: 0.02\n",
      "iteration: 35000 loss: 0.0035 lr: 0.02\n",
      "iteration: 36000 loss: 0.0033 lr: 0.02\n",
      "iteration: 37000 loss: 0.0033 lr: 0.02\n",
      "iteration: 38000 loss: 0.0033 lr: 0.02\n",
      "iteration: 39000 loss: 0.0032 lr: 0.02\n",
      "iteration: 40000 loss: 0.0032 lr: 0.02\n",
      "iteration: 41000 loss: 0.0033 lr: 0.02\n",
      "iteration: 42000 loss: 0.0031 lr: 0.02\n",
      "iteration: 43000 loss: 0.0031 lr: 0.02\n",
      "iteration: 44000 loss: 0.0030 lr: 0.02\n",
      "iteration: 45000 loss: 0.0031 lr: 0.02\n",
      "iteration: 46000 loss: 0.0030 lr: 0.02\n",
      "iteration: 47000 loss: 0.0029 lr: 0.02\n",
      "iteration: 48000 loss: 0.0029 lr: 0.02\n",
      "iteration: 49000 loss: 0.0029 lr: 0.02\n",
      "iteration: 50000 loss: 0.0028 lr: 0.02\n",
      "iteration: 51000 loss: 0.0029 lr: 0.02\n",
      "iteration: 52000 loss: 0.0027 lr: 0.02\n",
      "iteration: 53000 loss: 0.0028 lr: 0.02\n",
      "iteration: 54000 loss: 0.0028 lr: 0.02\n",
      "iteration: 55000 loss: 0.0028 lr: 0.02\n",
      "iteration: 56000 loss: 0.0026 lr: 0.02\n",
      "iteration: 57000 loss: 0.0028 lr: 0.02\n",
      "iteration: 58000 loss: 0.0027 lr: 0.02\n",
      "iteration: 59000 loss: 0.0026 lr: 0.02\n",
      "iteration: 60000 loss: 0.0027 lr: 0.02\n",
      "iteration: 61000 loss: 0.0026 lr: 0.02\n",
      "iteration: 62000 loss: 0.0026 lr: 0.02\n",
      "iteration: 63000 loss: 0.0026 lr: 0.02\n",
      "iteration: 64000 loss: 0.0025 lr: 0.02\n",
      "iteration: 65000 loss: 0.0025 lr: 0.02\n",
      "iteration: 66000 loss: 0.0026 lr: 0.02\n",
      "iteration: 67000 loss: 0.0026 lr: 0.02\n",
      "iteration: 68000 loss: 0.0026 lr: 0.02\n",
      "iteration: 69000 loss: 0.0025 lr: 0.02\n",
      "iteration: 70000 loss: 0.0025 lr: 0.02\n",
      "iteration: 71000 loss: 0.0025 lr: 0.02\n",
      "iteration: 72000 loss: 0.0024 lr: 0.02\n",
      "iteration: 73000 loss: 0.0024 lr: 0.02\n",
      "iteration: 74000 loss: 0.0025 lr: 0.02\n",
      "iteration: 75000 loss: 0.0025 lr: 0.02\n",
      "iteration: 76000 loss: 0.0024 lr: 0.02\n",
      "iteration: 77000 loss: 0.0024 lr: 0.02\n",
      "iteration: 78000 loss: 0.0024 lr: 0.02\n",
      "iteration: 79000 loss: 0.0024 lr: 0.02\n",
      "iteration: 80000 loss: 0.0024 lr: 0.02\n",
      "iteration: 81000 loss: 0.0023 lr: 0.02\n",
      "iteration: 82000 loss: 0.0024 lr: 0.02\n",
      "iteration: 83000 loss: 0.0024 lr: 0.02\n",
      "iteration: 84000 loss: 0.0023 lr: 0.02\n",
      "iteration: 85000 loss: 0.0023 lr: 0.02\n",
      "iteration: 86000 loss: 0.0024 lr: 0.02\n",
      "iteration: 87000 loss: 0.0023 lr: 0.02\n",
      "iteration: 88000 loss: 0.0023 lr: 0.02\n",
      "iteration: 89000 loss: 0.0023 lr: 0.02\n",
      "iteration: 90000 loss: 0.0023 lr: 0.02\n",
      "iteration: 91000 loss: 0.0023 lr: 0.02\n",
      "iteration: 92000 loss: 0.0022 lr: 0.02\n",
      "iteration: 93000 loss: 0.0023 lr: 0.02\n",
      "iteration: 94000 loss: 0.0024 lr: 0.02\n",
      "iteration: 95000 loss: 0.0023 lr: 0.02\n",
      "iteration: 96000 loss: 0.0022 lr: 0.02\n",
      "iteration: 97000 loss: 0.0022 lr: 0.02\n",
      "iteration: 98000 loss: 0.0023 lr: 0.02\n",
      "iteration: 99000 loss: 0.0022 lr: 0.02\n",
      "iteration: 100000 loss: 0.0022 lr: 0.02\n",
      "iteration: 101000 loss: 0.0022 lr: 0.02\n",
      "iteration: 102000 loss: 0.0023 lr: 0.02\n",
      "iteration: 103000 loss: 0.0022 lr: 0.02\n",
      "iteration: 104000 loss: 0.0022 lr: 0.02\n",
      "iteration: 105000 loss: 0.0022 lr: 0.02\n",
      "iteration: 106000 loss: 0.0022 lr: 0.02\n",
      "iteration: 107000 loss: 0.0023 lr: 0.02\n",
      "iteration: 108000 loss: 0.0022 lr: 0.02\n",
      "iteration: 109000 loss: 0.0022 lr: 0.02\n",
      "iteration: 110000 loss: 0.0021 lr: 0.02\n",
      "iteration: 111000 loss: 0.0022 lr: 0.02\n",
      "iteration: 112000 loss: 0.0021 lr: 0.02\n",
      "iteration: 113000 loss: 0.0021 lr: 0.02\n",
      "iteration: 114000 loss: 0.0021 lr: 0.02\n",
      "iteration: 115000 loss: 0.0021 lr: 0.02\n",
      "iteration: 116000 loss: 0.0021 lr: 0.02\n",
      "iteration: 117000 loss: 0.0021 lr: 0.02\n",
      "iteration: 118000 loss: 0.0021 lr: 0.02\n",
      "iteration: 119000 loss: 0.0021 lr: 0.02\n",
      "iteration: 120000 loss: 0.0021 lr: 0.02\n",
      "iteration: 121000 loss: 0.0021 lr: 0.02\n",
      "iteration: 122000 loss: 0.0021 lr: 0.02\n",
      "iteration: 123000 loss: 0.0021 lr: 0.02\n",
      "iteration: 124000 loss: 0.0021 lr: 0.02\n",
      "iteration: 125000 loss: 0.0021 lr: 0.02\n",
      "iteration: 126000 loss: 0.0021 lr: 0.02\n",
      "iteration: 127000 loss: 0.0021 lr: 0.02\n",
      "iteration: 128000 loss: 0.0021 lr: 0.02\n",
      "iteration: 129000 loss: 0.0021 lr: 0.02\n",
      "iteration: 130000 loss: 0.0021 lr: 0.02\n",
      "iteration: 131000 loss: 0.0021 lr: 0.02\n",
      "iteration: 132000 loss: 0.0021 lr: 0.02\n",
      "iteration: 133000 loss: 0.0021 lr: 0.02\n",
      "iteration: 134000 loss: 0.0022 lr: 0.02\n",
      "iteration: 135000 loss: 0.0021 lr: 0.02\n",
      "iteration: 136000 loss: 0.0021 lr: 0.02\n",
      "iteration: 137000 loss: 0.0020 lr: 0.02\n",
      "iteration: 138000 loss: 0.0020 lr: 0.02\n",
      "iteration: 139000 loss: 0.0021 lr: 0.02\n",
      "iteration: 140000 loss: 0.0021 lr: 0.02\n",
      "iteration: 141000 loss: 0.0020 lr: 0.02\n",
      "iteration: 142000 loss: 0.0021 lr: 0.02\n",
      "iteration: 143000 loss: 0.0020 lr: 0.02\n",
      "iteration: 144000 loss: 0.0020 lr: 0.02\n",
      "iteration: 145000 loss: 0.0021 lr: 0.02\n",
      "iteration: 146000 loss: 0.0020 lr: 0.02\n",
      "iteration: 147000 loss: 0.0020 lr: 0.02\n",
      "iteration: 148000 loss: 0.0020 lr: 0.02\n",
      "iteration: 149000 loss: 0.0020 lr: 0.02\n",
      "iteration: 150000 loss: 0.0020 lr: 0.02\n",
      "iteration: 151000 loss: 0.0020 lr: 0.02\n",
      "iteration: 152000 loss: 0.0020 lr: 0.02\n",
      "iteration: 153000 loss: 0.0019 lr: 0.02\n",
      "iteration: 154000 loss: 0.0019 lr: 0.02\n",
      "iteration: 155000 loss: 0.0020 lr: 0.02\n",
      "iteration: 156000 loss: 0.0019 lr: 0.02\n",
      "iteration: 157000 loss: 0.0019 lr: 0.02\n",
      "iteration: 158000 loss: 0.0020 lr: 0.02\n",
      "iteration: 159000 loss: 0.0020 lr: 0.02\n",
      "iteration: 160000 loss: 0.0019 lr: 0.02\n",
      "iteration: 161000 loss: 0.0020 lr: 0.02\n",
      "iteration: 162000 loss: 0.0019 lr: 0.02\n",
      "iteration: 163000 loss: 0.0019 lr: 0.02\n",
      "iteration: 164000 loss: 0.0019 lr: 0.02\n",
      "iteration: 165000 loss: 0.0020 lr: 0.02\n",
      "iteration: 166000 loss: 0.0019 lr: 0.02\n",
      "iteration: 167000 loss: 0.0020 lr: 0.02\n",
      "iteration: 168000 loss: 0.0020 lr: 0.02\n",
      "iteration: 169000 loss: 0.0019 lr: 0.02\n",
      "iteration: 170000 loss: 0.0019 lr: 0.02\n",
      "iteration: 171000 loss: 0.0020 lr: 0.02\n",
      "iteration: 172000 loss: 0.0020 lr: 0.02\n",
      "iteration: 173000 loss: 0.0019 lr: 0.02\n",
      "iteration: 174000 loss: 0.0019 lr: 0.02\n",
      "iteration: 175000 loss: 0.0019 lr: 0.02\n",
      "iteration: 176000 loss: 0.0019 lr: 0.02\n",
      "iteration: 177000 loss: 0.0019 lr: 0.02\n",
      "iteration: 178000 loss: 0.0019 lr: 0.02\n",
      "iteration: 179000 loss: 0.0019 lr: 0.02\n",
      "iteration: 180000 loss: 0.0019 lr: 0.02\n",
      "iteration: 181000 loss: 0.0019 lr: 0.02\n",
      "iteration: 182000 loss: 0.0019 lr: 0.02\n",
      "iteration: 183000 loss: 0.0019 lr: 0.02\n",
      "iteration: 184000 loss: 0.0019 lr: 0.02\n",
      "iteration: 185000 loss: 0.0019 lr: 0.02\n",
      "iteration: 186000 loss: 0.0019 lr: 0.02\n",
      "iteration: 187000 loss: 0.0019 lr: 0.02\n",
      "iteration: 188000 loss: 0.0019 lr: 0.02\n",
      "iteration: 189000 loss: 0.0019 lr: 0.02\n",
      "iteration: 190000 loss: 0.0019 lr: 0.02\n",
      "iteration: 191000 loss: 0.0019 lr: 0.02\n",
      "iteration: 192000 loss: 0.0019 lr: 0.02\n",
      "iteration: 193000 loss: 0.0018 lr: 0.02\n",
      "iteration: 194000 loss: 0.0019 lr: 0.02\n",
      "iteration: 195000 loss: 0.0019 lr: 0.02\n",
      "iteration: 196000 loss: 0.0018 lr: 0.02\n",
      "iteration: 197000 loss: 0.0018 lr: 0.02\n",
      "iteration: 198000 loss: 0.0019 lr: 0.02\n",
      "iteration: 199000 loss: 0.0019 lr: 0.02\n",
      "iteration: 200000 loss: 0.0019 lr: 0.02\n",
      "iteration: 201000 loss: 0.0019 lr: 0.02\n",
      "iteration: 202000 loss: 0.0019 lr: 0.02\n",
      "iteration: 203000 loss: 0.0019 lr: 0.02\n",
      "iteration: 204000 loss: 0.0019 lr: 0.02\n",
      "iteration: 205000 loss: 0.0018 lr: 0.02\n",
      "iteration: 206000 loss: 0.0019 lr: 0.02\n",
      "iteration: 207000 loss: 0.0019 lr: 0.02\n",
      "iteration: 208000 loss: 0.0018 lr: 0.02\n",
      "iteration: 209000 loss: 0.0018 lr: 0.02\n",
      "iteration: 210000 loss: 0.0018 lr: 0.02\n",
      "iteration: 211000 loss: 0.0018 lr: 0.02\n",
      "iteration: 212000 loss: 0.0019 lr: 0.02\n",
      "iteration: 213000 loss: 0.0018 lr: 0.02\n",
      "iteration: 214000 loss: 0.0018 lr: 0.02\n",
      "iteration: 215000 loss: 0.0019 lr: 0.02\n",
      "iteration: 216000 loss: 0.0018 lr: 0.02\n",
      "iteration: 217000 loss: 0.0019 lr: 0.02\n",
      "iteration: 218000 loss: 0.0018 lr: 0.02\n",
      "iteration: 219000 loss: 0.0019 lr: 0.02\n",
      "iteration: 220000 loss: 0.0018 lr: 0.02\n",
      "iteration: 221000 loss: 0.0019 lr: 0.02\n",
      "iteration: 222000 loss: 0.0018 lr: 0.02\n",
      "iteration: 223000 loss: 0.0018 lr: 0.02\n",
      "iteration: 224000 loss: 0.0018 lr: 0.02\n",
      "iteration: 225000 loss: 0.0019 lr: 0.02\n",
      "iteration: 226000 loss: 0.0018 lr: 0.02\n",
      "iteration: 227000 loss: 0.0018 lr: 0.02\n",
      "iteration: 228000 loss: 0.0018 lr: 0.02\n",
      "iteration: 229000 loss: 0.0018 lr: 0.02\n",
      "iteration: 230000 loss: 0.0019 lr: 0.02\n",
      "iteration: 231000 loss: 0.0018 lr: 0.02\n",
      "iteration: 232000 loss: 0.0018 lr: 0.02\n",
      "iteration: 233000 loss: 0.0019 lr: 0.02\n",
      "iteration: 234000 loss: 0.0018 lr: 0.02\n",
      "iteration: 235000 loss: 0.0018 lr: 0.02\n",
      "iteration: 236000 loss: 0.0018 lr: 0.02\n",
      "iteration: 237000 loss: 0.0018 lr: 0.02\n",
      "iteration: 238000 loss: 0.0018 lr: 0.02\n",
      "iteration: 239000 loss: 0.0018 lr: 0.02\n",
      "iteration: 240000 loss: 0.0018 lr: 0.02\n",
      "iteration: 241000 loss: 0.0019 lr: 0.02\n",
      "iteration: 242000 loss: 0.0017 lr: 0.02\n",
      "iteration: 243000 loss: 0.0018 lr: 0.02\n",
      "iteration: 244000 loss: 0.0018 lr: 0.02\n",
      "iteration: 245000 loss: 0.0018 lr: 0.02\n",
      "iteration: 246000 loss: 0.0018 lr: 0.02\n",
      "iteration: 247000 loss: 0.0018 lr: 0.02\n",
      "iteration: 248000 loss: 0.0017 lr: 0.02\n",
      "iteration: 249000 loss: 0.0018 lr: 0.02\n",
      "iteration: 250000 loss: 0.0018 lr: 0.02\n",
      "iteration: 251000 loss: 0.0018 lr: 0.02\n",
      "iteration: 252000 loss: 0.0018 lr: 0.02\n",
      "iteration: 253000 loss: 0.0018 lr: 0.02\n",
      "iteration: 254000 loss: 0.0017 lr: 0.02\n",
      "iteration: 255000 loss: 0.0018 lr: 0.02\n",
      "iteration: 256000 loss: 0.0018 lr: 0.02\n",
      "iteration: 257000 loss: 0.0018 lr: 0.02\n",
      "iteration: 258000 loss: 0.0018 lr: 0.02\n",
      "iteration: 259000 loss: 0.0018 lr: 0.02\n",
      "iteration: 260000 loss: 0.0018 lr: 0.02\n",
      "iteration: 261000 loss: 0.0017 lr: 0.02\n",
      "iteration: 262000 loss: 0.0018 lr: 0.02\n",
      "iteration: 263000 loss: 0.0017 lr: 0.02\n",
      "iteration: 264000 loss: 0.0018 lr: 0.02\n",
      "iteration: 265000 loss: 0.0018 lr: 0.02\n",
      "iteration: 266000 loss: 0.0017 lr: 0.02\n",
      "iteration: 267000 loss: 0.0018 lr: 0.02\n",
      "iteration: 268000 loss: 0.0018 lr: 0.02\n",
      "iteration: 269000 loss: 0.0018 lr: 0.02\n",
      "iteration: 270000 loss: 0.0018 lr: 0.02\n",
      "iteration: 271000 loss: 0.0018 lr: 0.02\n",
      "iteration: 272000 loss: 0.0017 lr: 0.02\n",
      "iteration: 273000 loss: 0.0018 lr: 0.02\n",
      "iteration: 274000 loss: 0.0018 lr: 0.02\n",
      "iteration: 275000 loss: 0.0017 lr: 0.02\n",
      "iteration: 276000 loss: 0.0018 lr: 0.02\n",
      "iteration: 277000 loss: 0.0018 lr: 0.02\n",
      "iteration: 278000 loss: 0.0017 lr: 0.02\n",
      "iteration: 279000 loss: 0.0017 lr: 0.02\n",
      "iteration: 280000 loss: 0.0018 lr: 0.02\n",
      "iteration: 281000 loss: 0.0017 lr: 0.02\n",
      "iteration: 282000 loss: 0.0018 lr: 0.02\n",
      "iteration: 283000 loss: 0.0018 lr: 0.02\n",
      "iteration: 284000 loss: 0.0018 lr: 0.02\n",
      "iteration: 285000 loss: 0.0018 lr: 0.02\n",
      "iteration: 286000 loss: 0.0017 lr: 0.02\n",
      "iteration: 287000 loss: 0.0017 lr: 0.02\n",
      "iteration: 288000 loss: 0.0018 lr: 0.02\n",
      "iteration: 289000 loss: 0.0018 lr: 0.02\n",
      "iteration: 290000 loss: 0.0017 lr: 0.02\n",
      "iteration: 291000 loss: 0.0018 lr: 0.02\n",
      "iteration: 292000 loss: 0.0018 lr: 0.02\n",
      "iteration: 293000 loss: 0.0018 lr: 0.02\n",
      "iteration: 294000 loss: 0.0018 lr: 0.02\n",
      "iteration: 295000 loss: 0.0018 lr: 0.02\n",
      "iteration: 296000 loss: 0.0017 lr: 0.02\n",
      "iteration: 297000 loss: 0.0017 lr: 0.02\n",
      "iteration: 298000 loss: 0.0017 lr: 0.02\n",
      "iteration: 299000 loss: 0.0018 lr: 0.02\n",
      "iteration: 300000 loss: 0.0017 lr: 0.02\n",
      "iteration: 301000 loss: 0.0017 lr: 0.02\n",
      "iteration: 302000 loss: 0.0017 lr: 0.02\n",
      "iteration: 303000 loss: 0.0018 lr: 0.02\n",
      "iteration: 304000 loss: 0.0018 lr: 0.02\n",
      "iteration: 305000 loss: 0.0018 lr: 0.02\n",
      "iteration: 306000 loss: 0.0017 lr: 0.02\n",
      "iteration: 307000 loss: 0.0017 lr: 0.02\n",
      "iteration: 308000 loss: 0.0018 lr: 0.02\n",
      "iteration: 309000 loss: 0.0017 lr: 0.02\n",
      "iteration: 310000 loss: 0.0018 lr: 0.02\n",
      "iteration: 311000 loss: 0.0017 lr: 0.02\n",
      "iteration: 312000 loss: 0.0017 lr: 0.02\n",
      "iteration: 313000 loss: 0.0017 lr: 0.02\n",
      "iteration: 314000 loss: 0.0018 lr: 0.02\n",
      "iteration: 315000 loss: 0.0017 lr: 0.02\n",
      "iteration: 316000 loss: 0.0017 lr: 0.02\n",
      "iteration: 317000 loss: 0.0017 lr: 0.02\n",
      "iteration: 318000 loss: 0.0017 lr: 0.02\n",
      "iteration: 319000 loss: 0.0018 lr: 0.02\n",
      "iteration: 320000 loss: 0.0017 lr: 0.02\n",
      "iteration: 321000 loss: 0.0017 lr: 0.02\n",
      "iteration: 322000 loss: 0.0017 lr: 0.02\n",
      "iteration: 323000 loss: 0.0017 lr: 0.02\n",
      "iteration: 324000 loss: 0.0017 lr: 0.02\n",
      "iteration: 325000 loss: 0.0017 lr: 0.02\n",
      "iteration: 326000 loss: 0.0017 lr: 0.02\n",
      "iteration: 327000 loss: 0.0017 lr: 0.02\n",
      "iteration: 328000 loss: 0.0017 lr: 0.02\n",
      "iteration: 329000 loss: 0.0017 lr: 0.02\n",
      "iteration: 330000 loss: 0.0017 lr: 0.02\n",
      "iteration: 331000 loss: 0.0017 lr: 0.02\n",
      "iteration: 332000 loss: 0.0017 lr: 0.02\n",
      "iteration: 333000 loss: 0.0017 lr: 0.02\n",
      "iteration: 334000 loss: 0.0017 lr: 0.02\n",
      "iteration: 335000 loss: 0.0017 lr: 0.02\n",
      "iteration: 336000 loss: 0.0017 lr: 0.02\n",
      "iteration: 337000 loss: 0.0017 lr: 0.02\n",
      "iteration: 338000 loss: 0.0017 lr: 0.02\n",
      "iteration: 339000 loss: 0.0016 lr: 0.02\n",
      "iteration: 340000 loss: 0.0017 lr: 0.02\n",
      "iteration: 341000 loss: 0.0017 lr: 0.02\n",
      "iteration: 342000 loss: 0.0017 lr: 0.02\n",
      "iteration: 343000 loss: 0.0016 lr: 0.02\n",
      "iteration: 344000 loss: 0.0017 lr: 0.02\n",
      "iteration: 345000 loss: 0.0017 lr: 0.02\n",
      "iteration: 346000 loss: 0.0017 lr: 0.02\n",
      "iteration: 347000 loss: 0.0017 lr: 0.02\n",
      "iteration: 348000 loss: 0.0017 lr: 0.02\n",
      "iteration: 349000 loss: 0.0017 lr: 0.02\n",
      "iteration: 350000 loss: 0.0017 lr: 0.02\n",
      "iteration: 351000 loss: 0.0017 lr: 0.02\n",
      "iteration: 352000 loss: 0.0017 lr: 0.02\n",
      "iteration: 353000 loss: 0.0017 lr: 0.02\n",
      "iteration: 354000 loss: 0.0017 lr: 0.02\n",
      "iteration: 355000 loss: 0.0017 lr: 0.02\n",
      "iteration: 356000 loss: 0.0017 lr: 0.02\n",
      "iteration: 357000 loss: 0.0017 lr: 0.02\n",
      "iteration: 358000 loss: 0.0017 lr: 0.02\n",
      "iteration: 359000 loss: 0.0017 lr: 0.02\n",
      "iteration: 360000 loss: 0.0017 lr: 0.02\n",
      "iteration: 361000 loss: 0.0017 lr: 0.02\n",
      "iteration: 362000 loss: 0.0017 lr: 0.02\n",
      "iteration: 363000 loss: 0.0017 lr: 0.02\n",
      "iteration: 364000 loss: 0.0016 lr: 0.02\n",
      "iteration: 365000 loss: 0.0017 lr: 0.02\n",
      "iteration: 366000 loss: 0.0017 lr: 0.02\n",
      "iteration: 367000 loss: 0.0017 lr: 0.02\n",
      "iteration: 368000 loss: 0.0016 lr: 0.02\n",
      "iteration: 369000 loss: 0.0017 lr: 0.02\n",
      "iteration: 370000 loss: 0.0017 lr: 0.02\n",
      "iteration: 371000 loss: 0.0017 lr: 0.02\n",
      "iteration: 372000 loss: 0.0017 lr: 0.02\n",
      "iteration: 373000 loss: 0.0017 lr: 0.02\n",
      "iteration: 374000 loss: 0.0017 lr: 0.02\n",
      "iteration: 375000 loss: 0.0017 lr: 0.02\n",
      "iteration: 376000 loss: 0.0017 lr: 0.02\n",
      "iteration: 377000 loss: 0.0016 lr: 0.02\n",
      "iteration: 378000 loss: 0.0017 lr: 0.02\n",
      "iteration: 379000 loss: 0.0017 lr: 0.02\n",
      "iteration: 380000 loss: 0.0017 lr: 0.02\n",
      "iteration: 381000 loss: 0.0017 lr: 0.02\n",
      "iteration: 382000 loss: 0.0017 lr: 0.02\n",
      "iteration: 383000 loss: 0.0017 lr: 0.02\n",
      "iteration: 384000 loss: 0.0017 lr: 0.02\n",
      "iteration: 385000 loss: 0.0017 lr: 0.02\n",
      "iteration: 386000 loss: 0.0017 lr: 0.02\n",
      "iteration: 387000 loss: 0.0017 lr: 0.02\n",
      "iteration: 388000 loss: 0.0017 lr: 0.02\n",
      "iteration: 389000 loss: 0.0016 lr: 0.02\n",
      "iteration: 390000 loss: 0.0017 lr: 0.02\n",
      "iteration: 391000 loss: 0.0017 lr: 0.02\n",
      "iteration: 392000 loss: 0.0017 lr: 0.02\n",
      "iteration: 393000 loss: 0.0017 lr: 0.02\n",
      "iteration: 394000 loss: 0.0016 lr: 0.02\n",
      "iteration: 395000 loss: 0.0017 lr: 0.02\n",
      "iteration: 396000 loss: 0.0017 lr: 0.02\n",
      "iteration: 397000 loss: 0.0017 lr: 0.02\n",
      "iteration: 398000 loss: 0.0017 lr: 0.02\n",
      "iteration: 399000 loss: 0.0016 lr: 0.02\n",
      "iteration: 400000 loss: 0.0017 lr: 0.02\n",
      "iteration: 401000 loss: 0.0017 lr: 0.02\n",
      "iteration: 402000 loss: 0.0016 lr: 0.02\n",
      "iteration: 403000 loss: 0.0016 lr: 0.02\n",
      "iteration: 404000 loss: 0.0017 lr: 0.02\n",
      "iteration: 405000 loss: 0.0017 lr: 0.02\n",
      "iteration: 406000 loss: 0.0016 lr: 0.02\n",
      "iteration: 407000 loss: 0.0016 lr: 0.02\n",
      "iteration: 408000 loss: 0.0016 lr: 0.02\n",
      "iteration: 409000 loss: 0.0017 lr: 0.02\n",
      "iteration: 410000 loss: 0.0016 lr: 0.02\n",
      "iteration: 411000 loss: 0.0016 lr: 0.02\n",
      "iteration: 412000 loss: 0.0017 lr: 0.02\n",
      "iteration: 413000 loss: 0.0017 lr: 0.02\n",
      "iteration: 414000 loss: 0.0017 lr: 0.02\n",
      "iteration: 415000 loss: 0.0017 lr: 0.02\n",
      "iteration: 416000 loss: 0.0017 lr: 0.02\n",
      "iteration: 417000 loss: 0.0017 lr: 0.02\n",
      "iteration: 418000 loss: 0.0016 lr: 0.02\n",
      "iteration: 419000 loss: 0.0016 lr: 0.02\n",
      "iteration: 420000 loss: 0.0017 lr: 0.02\n",
      "iteration: 421000 loss: 0.0016 lr: 0.02\n",
      "iteration: 422000 loss: 0.0016 lr: 0.02\n",
      "iteration: 423000 loss: 0.0017 lr: 0.02\n",
      "iteration: 424000 loss: 0.0016 lr: 0.02\n",
      "iteration: 425000 loss: 0.0016 lr: 0.02\n",
      "iteration: 426000 loss: 0.0017 lr: 0.02\n",
      "iteration: 427000 loss: 0.0016 lr: 0.02\n",
      "iteration: 428000 loss: 0.0017 lr: 0.02\n",
      "iteration: 429000 loss: 0.0017 lr: 0.02\n",
      "iteration: 430000 loss: 0.0016 lr: 0.02\n",
      "iteration: 431000 loss: 0.0015 lr: 0.002\n",
      "iteration: 432000 loss: 0.0015 lr: 0.002\n",
      "iteration: 433000 loss: 0.0015 lr: 0.002\n",
      "iteration: 434000 loss: 0.0015 lr: 0.002\n",
      "iteration: 435000 loss: 0.0015 lr: 0.002\n",
      "iteration: 436000 loss: 0.0015 lr: 0.002\n",
      "iteration: 437000 loss: 0.0015 lr: 0.002\n",
      "iteration: 438000 loss: 0.0014 lr: 0.002\n",
      "iteration: 439000 loss: 0.0015 lr: 0.002\n",
      "iteration: 440000 loss: 0.0014 lr: 0.002\n",
      "iteration: 441000 loss: 0.0014 lr: 0.002\n",
      "iteration: 442000 loss: 0.0014 lr: 0.002\n",
      "iteration: 443000 loss: 0.0015 lr: 0.002\n",
      "iteration: 444000 loss: 0.0014 lr: 0.002\n",
      "iteration: 445000 loss: 0.0014 lr: 0.002\n",
      "iteration: 446000 loss: 0.0014 lr: 0.002\n",
      "iteration: 447000 loss: 0.0015 lr: 0.002\n",
      "iteration: 448000 loss: 0.0014 lr: 0.002\n",
      "iteration: 449000 loss: 0.0014 lr: 0.002\n",
      "iteration: 450000 loss: 0.0014 lr: 0.002\n",
      "iteration: 451000 loss: 0.0015 lr: 0.002\n",
      "iteration: 452000 loss: 0.0014 lr: 0.002\n",
      "iteration: 453000 loss: 0.0014 lr: 0.002\n",
      "iteration: 454000 loss: 0.0014 lr: 0.002\n",
      "iteration: 455000 loss: 0.0014 lr: 0.002\n",
      "iteration: 456000 loss: 0.0014 lr: 0.002\n",
      "iteration: 457000 loss: 0.0014 lr: 0.002\n",
      "iteration: 458000 loss: 0.0014 lr: 0.002\n",
      "iteration: 459000 loss: 0.0014 lr: 0.002\n",
      "iteration: 460000 loss: 0.0014 lr: 0.002\n",
      "iteration: 461000 loss: 0.0014 lr: 0.002\n",
      "iteration: 462000 loss: 0.0014 lr: 0.002\n",
      "iteration: 463000 loss: 0.0014 lr: 0.002\n",
      "iteration: 464000 loss: 0.0014 lr: 0.002\n",
      "iteration: 465000 loss: 0.0015 lr: 0.002\n",
      "iteration: 466000 loss: 0.0014 lr: 0.002\n",
      "iteration: 467000 loss: 0.0014 lr: 0.002\n",
      "iteration: 468000 loss: 0.0014 lr: 0.002\n",
      "iteration: 469000 loss: 0.0014 lr: 0.002\n",
      "iteration: 470000 loss: 0.0014 lr: 0.002\n",
      "iteration: 471000 loss: 0.0014 lr: 0.002\n",
      "iteration: 472000 loss: 0.0014 lr: 0.002\n",
      "iteration: 473000 loss: 0.0014 lr: 0.002\n",
      "iteration: 474000 loss: 0.0014 lr: 0.002\n",
      "iteration: 475000 loss: 0.0014 lr: 0.002\n",
      "iteration: 476000 loss: 0.0014 lr: 0.002\n",
      "iteration: 477000 loss: 0.0014 lr: 0.002\n",
      "iteration: 478000 loss: 0.0014 lr: 0.002\n",
      "iteration: 479000 loss: 0.0014 lr: 0.002\n",
      "iteration: 480000 loss: 0.0014 lr: 0.002\n",
      "iteration: 481000 loss: 0.0014 lr: 0.002\n",
      "iteration: 482000 loss: 0.0014 lr: 0.002\n",
      "iteration: 483000 loss: 0.0014 lr: 0.002\n",
      "iteration: 484000 loss: 0.0014 lr: 0.002\n",
      "iteration: 485000 loss: 0.0014 lr: 0.002\n",
      "iteration: 486000 loss: 0.0014 lr: 0.002\n",
      "iteration: 487000 loss: 0.0014 lr: 0.002\n",
      "iteration: 488000 loss: 0.0014 lr: 0.002\n",
      "iteration: 489000 loss: 0.0014 lr: 0.002\n",
      "iteration: 490000 loss: 0.0014 lr: 0.002\n",
      "iteration: 491000 loss: 0.0014 lr: 0.002\n",
      "iteration: 492000 loss: 0.0014 lr: 0.002\n",
      "iteration: 493000 loss: 0.0014 lr: 0.002\n",
      "iteration: 494000 loss: 0.0014 lr: 0.002\n",
      "iteration: 495000 loss: 0.0014 lr: 0.002\n",
      "iteration: 496000 loss: 0.0014 lr: 0.002\n",
      "iteration: 497000 loss: 0.0014 lr: 0.002\n",
      "iteration: 498000 loss: 0.0014 lr: 0.002\n",
      "iteration: 499000 loss: 0.0014 lr: 0.002\n",
      "iteration: 500000 loss: 0.0014 lr: 0.002\n",
      "iteration: 501000 loss: 0.0014 lr: 0.002\n",
      "iteration: 502000 loss: 0.0014 lr: 0.002\n",
      "iteration: 503000 loss: 0.0014 lr: 0.002\n",
      "iteration: 504000 loss: 0.0014 lr: 0.002\n",
      "iteration: 505000 loss: 0.0014 lr: 0.002\n",
      "iteration: 506000 loss: 0.0014 lr: 0.002\n",
      "iteration: 507000 loss: 0.0014 lr: 0.002\n",
      "iteration: 508000 loss: 0.0014 lr: 0.002\n",
      "iteration: 509000 loss: 0.0014 lr: 0.002\n",
      "iteration: 510000 loss: 0.0014 lr: 0.002\n",
      "iteration: 511000 loss: 0.0014 lr: 0.002\n",
      "iteration: 512000 loss: 0.0014 lr: 0.002\n",
      "iteration: 513000 loss: 0.0014 lr: 0.002\n",
      "iteration: 514000 loss: 0.0014 lr: 0.002\n",
      "iteration: 515000 loss: 0.0014 lr: 0.002\n",
      "iteration: 516000 loss: 0.0014 lr: 0.002\n",
      "iteration: 517000 loss: 0.0014 lr: 0.002\n",
      "iteration: 518000 loss: 0.0014 lr: 0.002\n",
      "iteration: 519000 loss: 0.0014 lr: 0.002\n",
      "iteration: 520000 loss: 0.0014 lr: 0.002\n",
      "iteration: 521000 loss: 0.0014 lr: 0.002\n",
      "iteration: 522000 loss: 0.0014 lr: 0.002\n",
      "iteration: 523000 loss: 0.0014 lr: 0.002\n",
      "iteration: 524000 loss: 0.0014 lr: 0.002\n",
      "iteration: 525000 loss: 0.0014 lr: 0.002\n",
      "iteration: 526000 loss: 0.0014 lr: 0.002\n",
      "iteration: 527000 loss: 0.0014 lr: 0.002\n",
      "iteration: 528000 loss: 0.0014 lr: 0.002\n",
      "iteration: 529000 loss: 0.0014 lr: 0.002\n",
      "iteration: 530000 loss: 0.0014 lr: 0.002\n",
      "iteration: 531000 loss: 0.0014 lr: 0.002\n",
      "iteration: 532000 loss: 0.0014 lr: 0.002\n",
      "iteration: 533000 loss: 0.0014 lr: 0.002\n",
      "iteration: 534000 loss: 0.0014 lr: 0.002\n",
      "iteration: 535000 loss: 0.0014 lr: 0.002\n",
      "iteration: 536000 loss: 0.0014 lr: 0.002\n",
      "iteration: 537000 loss: 0.0014 lr: 0.002\n",
      "iteration: 538000 loss: 0.0014 lr: 0.002\n",
      "iteration: 539000 loss: 0.0014 lr: 0.002\n",
      "iteration: 540000 loss: 0.0014 lr: 0.002\n",
      "iteration: 541000 loss: 0.0014 lr: 0.002\n",
      "iteration: 542000 loss: 0.0014 lr: 0.002\n",
      "iteration: 543000 loss: 0.0014 lr: 0.002\n",
      "iteration: 544000 loss: 0.0014 lr: 0.002\n",
      "iteration: 545000 loss: 0.0014 lr: 0.002\n",
      "iteration: 546000 loss: 0.0014 lr: 0.002\n",
      "iteration: 547000 loss: 0.0014 lr: 0.002\n",
      "iteration: 548000 loss: 0.0014 lr: 0.002\n",
      "iteration: 549000 loss: 0.0014 lr: 0.002\n",
      "iteration: 550000 loss: 0.0014 lr: 0.002\n",
      "iteration: 551000 loss: 0.0014 lr: 0.002\n",
      "iteration: 552000 loss: 0.0014 lr: 0.002\n",
      "iteration: 553000 loss: 0.0014 lr: 0.002\n",
      "iteration: 554000 loss: 0.0014 lr: 0.002\n",
      "iteration: 555000 loss: 0.0014 lr: 0.002\n",
      "iteration: 556000 loss: 0.0014 lr: 0.002\n",
      "iteration: 557000 loss: 0.0014 lr: 0.002\n",
      "iteration: 558000 loss: 0.0014 lr: 0.002\n",
      "iteration: 559000 loss: 0.0014 lr: 0.002\n",
      "iteration: 560000 loss: 0.0014 lr: 0.002\n",
      "iteration: 561000 loss: 0.0014 lr: 0.002\n",
      "iteration: 562000 loss: 0.0014 lr: 0.002\n",
      "iteration: 563000 loss: 0.0014 lr: 0.002\n",
      "iteration: 564000 loss: 0.0014 lr: 0.002\n",
      "iteration: 565000 loss: 0.0014 lr: 0.002\n",
      "iteration: 566000 loss: 0.0014 lr: 0.002\n",
      "iteration: 567000 loss: 0.0014 lr: 0.002\n",
      "iteration: 568000 loss: 0.0014 lr: 0.002\n",
      "iteration: 569000 loss: 0.0014 lr: 0.002\n",
      "iteration: 570000 loss: 0.0014 lr: 0.002\n",
      "iteration: 571000 loss: 0.0014 lr: 0.002\n",
      "iteration: 572000 loss: 0.0014 lr: 0.002\n",
      "iteration: 573000 loss: 0.0014 lr: 0.002\n",
      "iteration: 574000 loss: 0.0014 lr: 0.002\n",
      "iteration: 575000 loss: 0.0014 lr: 0.002\n",
      "iteration: 576000 loss: 0.0014 lr: 0.002\n",
      "iteration: 577000 loss: 0.0014 lr: 0.002\n",
      "iteration: 578000 loss: 0.0014 lr: 0.002\n",
      "iteration: 579000 loss: 0.0014 lr: 0.002\n",
      "iteration: 580000 loss: 0.0014 lr: 0.002\n",
      "iteration: 581000 loss: 0.0014 lr: 0.002\n",
      "iteration: 582000 loss: 0.0014 lr: 0.002\n",
      "iteration: 583000 loss: 0.0014 lr: 0.002\n",
      "iteration: 584000 loss: 0.0014 lr: 0.002\n",
      "iteration: 585000 loss: 0.0014 lr: 0.002\n",
      "iteration: 586000 loss: 0.0014 lr: 0.002\n",
      "iteration: 587000 loss: 0.0013 lr: 0.002\n",
      "iteration: 588000 loss: 0.0014 lr: 0.002\n",
      "iteration: 589000 loss: 0.0014 lr: 0.002\n",
      "iteration: 590000 loss: 0.0014 lr: 0.002\n",
      "iteration: 591000 loss: 0.0014 lr: 0.002\n",
      "iteration: 592000 loss: 0.0013 lr: 0.002\n",
      "iteration: 593000 loss: 0.0014 lr: 0.002\n",
      "iteration: 594000 loss: 0.0014 lr: 0.002\n",
      "iteration: 595000 loss: 0.0014 lr: 0.002\n",
      "iteration: 596000 loss: 0.0014 lr: 0.002\n",
      "iteration: 597000 loss: 0.0014 lr: 0.002\n",
      "iteration: 598000 loss: 0.0014 lr: 0.002\n",
      "iteration: 599000 loss: 0.0014 lr: 0.002\n",
      "iteration: 600000 loss: 0.0014 lr: 0.002\n",
      "iteration: 601000 loss: 0.0014 lr: 0.002\n",
      "iteration: 602000 loss: 0.0014 lr: 0.002\n",
      "iteration: 603000 loss: 0.0014 lr: 0.002\n",
      "iteration: 604000 loss: 0.0014 lr: 0.002\n",
      "iteration: 605000 loss: 0.0014 lr: 0.002\n",
      "iteration: 606000 loss: 0.0013 lr: 0.002\n",
      "iteration: 607000 loss: 0.0014 lr: 0.002\n",
      "iteration: 608000 loss: 0.0014 lr: 0.002\n",
      "iteration: 609000 loss: 0.0014 lr: 0.002\n",
      "iteration: 610000 loss: 0.0014 lr: 0.002\n",
      "iteration: 611000 loss: 0.0014 lr: 0.002\n",
      "iteration: 612000 loss: 0.0014 lr: 0.002\n",
      "iteration: 613000 loss: 0.0014 lr: 0.002\n",
      "iteration: 614000 loss: 0.0014 lr: 0.002\n",
      "iteration: 615000 loss: 0.0014 lr: 0.002\n",
      "iteration: 616000 loss: 0.0014 lr: 0.002\n",
      "iteration: 617000 loss: 0.0014 lr: 0.002\n",
      "iteration: 618000 loss: 0.0014 lr: 0.002\n",
      "iteration: 619000 loss: 0.0014 lr: 0.002\n",
      "iteration: 620000 loss: 0.0014 lr: 0.002\n",
      "iteration: 621000 loss: 0.0014 lr: 0.002\n",
      "iteration: 622000 loss: 0.0014 lr: 0.002\n",
      "iteration: 623000 loss: 0.0014 lr: 0.002\n",
      "iteration: 624000 loss: 0.0014 lr: 0.002\n",
      "iteration: 625000 loss: 0.0014 lr: 0.002\n",
      "iteration: 626000 loss: 0.0014 lr: 0.002\n",
      "iteration: 627000 loss: 0.0014 lr: 0.002\n",
      "iteration: 628000 loss: 0.0014 lr: 0.002\n",
      "iteration: 629000 loss: 0.0014 lr: 0.002\n",
      "iteration: 630000 loss: 0.0014 lr: 0.002\n",
      "iteration: 631000 loss: 0.0014 lr: 0.002\n",
      "iteration: 632000 loss: 0.0014 lr: 0.002\n",
      "iteration: 633000 loss: 0.0014 lr: 0.002\n",
      "iteration: 634000 loss: 0.0014 lr: 0.002\n",
      "iteration: 635000 loss: 0.0014 lr: 0.002\n",
      "iteration: 636000 loss: 0.0014 lr: 0.002\n",
      "iteration: 637000 loss: 0.0014 lr: 0.002\n",
      "iteration: 638000 loss: 0.0014 lr: 0.002\n",
      "iteration: 639000 loss: 0.0014 lr: 0.002\n",
      "iteration: 640000 loss: 0.0014 lr: 0.002\n",
      "iteration: 641000 loss: 0.0014 lr: 0.002\n",
      "iteration: 642000 loss: 0.0014 lr: 0.002\n",
      "iteration: 643000 loss: 0.0014 lr: 0.002\n",
      "iteration: 644000 loss: 0.0014 lr: 0.002\n",
      "iteration: 645000 loss: 0.0014 lr: 0.002\n",
      "iteration: 646000 loss: 0.0014 lr: 0.002\n",
      "iteration: 647000 loss: 0.0014 lr: 0.002\n",
      "iteration: 648000 loss: 0.0015 lr: 0.002\n",
      "iteration: 649000 loss: 0.0014 lr: 0.002\n",
      "iteration: 650000 loss: 0.0014 lr: 0.002\n",
      "iteration: 651000 loss: 0.0014 lr: 0.002\n",
      "iteration: 652000 loss: 0.0014 lr: 0.002\n",
      "iteration: 653000 loss: 0.0014 lr: 0.002\n",
      "iteration: 654000 loss: 0.0014 lr: 0.002\n",
      "iteration: 655000 loss: 0.0014 lr: 0.002\n",
      "iteration: 656000 loss: 0.0013 lr: 0.002\n",
      "iteration: 657000 loss: 0.0014 lr: 0.002\n",
      "iteration: 658000 loss: 0.0013 lr: 0.002\n",
      "iteration: 659000 loss: 0.0014 lr: 0.002\n",
      "iteration: 660000 loss: 0.0014 lr: 0.002\n",
      "iteration: 661000 loss: 0.0014 lr: 0.002\n",
      "iteration: 662000 loss: 0.0014 lr: 0.002\n",
      "iteration: 663000 loss: 0.0014 lr: 0.002\n",
      "iteration: 664000 loss: 0.0014 lr: 0.002\n",
      "iteration: 665000 loss: 0.0014 lr: 0.002\n",
      "iteration: 666000 loss: 0.0014 lr: 0.002\n",
      "iteration: 667000 loss: 0.0014 lr: 0.002\n",
      "iteration: 668000 loss: 0.0014 lr: 0.002\n",
      "iteration: 669000 loss: 0.0014 lr: 0.002\n",
      "iteration: 670000 loss: 0.0014 lr: 0.002\n",
      "iteration: 671000 loss: 0.0014 lr: 0.002\n",
      "iteration: 672000 loss: 0.0014 lr: 0.002\n",
      "iteration: 673000 loss: 0.0014 lr: 0.002\n",
      "iteration: 674000 loss: 0.0014 lr: 0.002\n",
      "iteration: 675000 loss: 0.0014 lr: 0.002\n",
      "iteration: 676000 loss: 0.0014 lr: 0.002\n",
      "iteration: 677000 loss: 0.0014 lr: 0.002\n",
      "iteration: 678000 loss: 0.0014 lr: 0.002\n",
      "iteration: 679000 loss: 0.0014 lr: 0.002\n",
      "iteration: 680000 loss: 0.0014 lr: 0.002\n",
      "iteration: 681000 loss: 0.0014 lr: 0.002\n",
      "iteration: 682000 loss: 0.0014 lr: 0.002\n",
      "iteration: 683000 loss: 0.0014 lr: 0.002\n",
      "iteration: 684000 loss: 0.0014 lr: 0.002\n",
      "iteration: 685000 loss: 0.0014 lr: 0.002\n",
      "iteration: 686000 loss: 0.0014 lr: 0.002\n",
      "iteration: 687000 loss: 0.0014 lr: 0.002\n",
      "iteration: 688000 loss: 0.0014 lr: 0.002\n",
      "iteration: 689000 loss: 0.0014 lr: 0.002\n",
      "iteration: 690000 loss: 0.0014 lr: 0.002\n",
      "iteration: 691000 loss: 0.0014 lr: 0.002\n",
      "iteration: 692000 loss: 0.0014 lr: 0.002\n",
      "iteration: 693000 loss: 0.0014 lr: 0.002\n",
      "iteration: 694000 loss: 0.0014 lr: 0.002\n",
      "iteration: 695000 loss: 0.0014 lr: 0.002\n",
      "iteration: 696000 loss: 0.0014 lr: 0.002\n",
      "iteration: 697000 loss: 0.0014 lr: 0.002\n",
      "iteration: 698000 loss: 0.0014 lr: 0.002\n",
      "iteration: 699000 loss: 0.0014 lr: 0.002\n",
      "iteration: 700000 loss: 0.0014 lr: 0.002\n",
      "iteration: 701000 loss: 0.0014 lr: 0.002\n",
      "iteration: 702000 loss: 0.0014 lr: 0.002\n",
      "iteration: 703000 loss: 0.0014 lr: 0.002\n",
      "iteration: 704000 loss: 0.0014 lr: 0.002\n",
      "iteration: 705000 loss: 0.0014 lr: 0.002\n",
      "iteration: 706000 loss: 0.0014 lr: 0.002\n",
      "iteration: 707000 loss: 0.0014 lr: 0.002\n",
      "iteration: 708000 loss: 0.0014 lr: 0.002\n",
      "iteration: 709000 loss: 0.0014 lr: 0.002\n",
      "iteration: 710000 loss: 0.0014 lr: 0.002\n",
      "iteration: 711000 loss: 0.0014 lr: 0.002\n",
      "iteration: 712000 loss: 0.0014 lr: 0.002\n",
      "iteration: 713000 loss: 0.0014 lr: 0.002\n",
      "iteration: 714000 loss: 0.0014 lr: 0.002\n",
      "iteration: 715000 loss: 0.0014 lr: 0.002\n",
      "iteration: 716000 loss: 0.0014 lr: 0.002\n",
      "iteration: 717000 loss: 0.0014 lr: 0.002\n",
      "iteration: 718000 loss: 0.0014 lr: 0.002\n",
      "iteration: 719000 loss: 0.0014 lr: 0.002\n",
      "iteration: 720000 loss: 0.0014 lr: 0.002\n",
      "iteration: 721000 loss: 0.0014 lr: 0.002\n",
      "iteration: 722000 loss: 0.0014 lr: 0.002\n",
      "iteration: 723000 loss: 0.0014 lr: 0.002\n",
      "iteration: 724000 loss: 0.0014 lr: 0.002\n",
      "iteration: 725000 loss: 0.0014 lr: 0.002\n",
      "iteration: 726000 loss: 0.0014 lr: 0.002\n",
      "iteration: 727000 loss: 0.0014 lr: 0.002\n",
      "iteration: 728000 loss: 0.0014 lr: 0.002\n",
      "iteration: 729000 loss: 0.0014 lr: 0.002\n",
      "iteration: 730000 loss: 0.0014 lr: 0.002\n",
      "iteration: 731000 loss: 0.0014 lr: 0.001\n",
      "iteration: 732000 loss: 0.0014 lr: 0.001\n",
      "iteration: 733000 loss: 0.0014 lr: 0.001\n",
      "iteration: 734000 loss: 0.0014 lr: 0.001\n",
      "iteration: 735000 loss: 0.0014 lr: 0.001\n",
      "iteration: 736000 loss: 0.0013 lr: 0.001\n",
      "iteration: 737000 loss: 0.0014 lr: 0.001\n",
      "iteration: 738000 loss: 0.0014 lr: 0.001\n",
      "iteration: 739000 loss: 0.0014 lr: 0.001\n",
      "iteration: 740000 loss: 0.0014 lr: 0.001\n",
      "iteration: 741000 loss: 0.0014 lr: 0.001\n",
      "iteration: 742000 loss: 0.0014 lr: 0.001\n",
      "iteration: 743000 loss: 0.0014 lr: 0.001\n",
      "iteration: 744000 loss: 0.0014 lr: 0.001\n",
      "iteration: 745000 loss: 0.0014 lr: 0.001\n",
      "iteration: 746000 loss: 0.0013 lr: 0.001\n",
      "iteration: 747000 loss: 0.0013 lr: 0.001\n",
      "iteration: 748000 loss: 0.0014 lr: 0.001\n",
      "iteration: 749000 loss: 0.0013 lr: 0.001\n",
      "iteration: 750000 loss: 0.0014 lr: 0.001\n",
      "iteration: 751000 loss: 0.0014 lr: 0.001\n",
      "iteration: 752000 loss: 0.0014 lr: 0.001\n",
      "iteration: 753000 loss: 0.0013 lr: 0.001\n",
      "iteration: 754000 loss: 0.0013 lr: 0.001\n",
      "iteration: 755000 loss: 0.0014 lr: 0.001\n",
      "iteration: 756000 loss: 0.0014 lr: 0.001\n",
      "iteration: 757000 loss: 0.0014 lr: 0.001\n",
      "iteration: 758000 loss: 0.0014 lr: 0.001\n",
      "iteration: 759000 loss: 0.0014 lr: 0.001\n",
      "iteration: 760000 loss: 0.0014 lr: 0.001\n",
      "iteration: 761000 loss: 0.0014 lr: 0.001\n",
      "iteration: 762000 loss: 0.0013 lr: 0.001\n",
      "iteration: 763000 loss: 0.0013 lr: 0.001\n",
      "iteration: 764000 loss: 0.0013 lr: 0.001\n",
      "iteration: 765000 loss: 0.0014 lr: 0.001\n",
      "iteration: 766000 loss: 0.0014 lr: 0.001\n",
      "iteration: 767000 loss: 0.0014 lr: 0.001\n",
      "iteration: 768000 loss: 0.0013 lr: 0.001\n",
      "iteration: 769000 loss: 0.0013 lr: 0.001\n",
      "iteration: 770000 loss: 0.0014 lr: 0.001\n",
      "iteration: 771000 loss: 0.0014 lr: 0.001\n",
      "iteration: 772000 loss: 0.0014 lr: 0.001\n",
      "iteration: 773000 loss: 0.0013 lr: 0.001\n",
      "iteration: 774000 loss: 0.0013 lr: 0.001\n",
      "iteration: 775000 loss: 0.0014 lr: 0.001\n",
      "iteration: 776000 loss: 0.0013 lr: 0.001\n",
      "iteration: 777000 loss: 0.0014 lr: 0.001\n",
      "iteration: 778000 loss: 0.0014 lr: 0.001\n",
      "iteration: 779000 loss: 0.0014 lr: 0.001\n",
      "iteration: 780000 loss: 0.0014 lr: 0.001\n",
      "iteration: 781000 loss: 0.0014 lr: 0.001\n",
      "iteration: 782000 loss: 0.0014 lr: 0.001\n",
      "iteration: 783000 loss: 0.0014 lr: 0.001\n",
      "iteration: 784000 loss: 0.0014 lr: 0.001\n",
      "iteration: 785000 loss: 0.0014 lr: 0.001\n",
      "iteration: 786000 loss: 0.0014 lr: 0.001\n",
      "iteration: 787000 loss: 0.0013 lr: 0.001\n",
      "iteration: 788000 loss: 0.0014 lr: 0.001\n",
      "iteration: 789000 loss: 0.0014 lr: 0.001\n",
      "iteration: 790000 loss: 0.0014 lr: 0.001\n",
      "iteration: 791000 loss: 0.0014 lr: 0.001\n",
      "iteration: 792000 loss: 0.0013 lr: 0.001\n",
      "iteration: 793000 loss: 0.0014 lr: 0.001\n",
      "iteration: 794000 loss: 0.0013 lr: 0.001\n",
      "iteration: 795000 loss: 0.0014 lr: 0.001\n",
      "iteration: 796000 loss: 0.0014 lr: 0.001\n",
      "iteration: 797000 loss: 0.0014 lr: 0.001\n",
      "iteration: 798000 loss: 0.0013 lr: 0.001\n",
      "iteration: 799000 loss: 0.0014 lr: 0.001\n",
      "iteration: 800000 loss: 0.0013 lr: 0.001\n",
      "iteration: 801000 loss: 0.0014 lr: 0.001\n",
      "iteration: 802000 loss: 0.0013 lr: 0.001\n",
      "iteration: 803000 loss: 0.0013 lr: 0.001\n",
      "iteration: 804000 loss: 0.0014 lr: 0.001\n",
      "iteration: 805000 loss: 0.0013 lr: 0.001\n",
      "iteration: 806000 loss: 0.0013 lr: 0.001\n",
      "iteration: 807000 loss: 0.0014 lr: 0.001\n",
      "iteration: 808000 loss: 0.0013 lr: 0.001\n",
      "iteration: 809000 loss: 0.0014 lr: 0.001\n",
      "iteration: 810000 loss: 0.0014 lr: 0.001\n",
      "iteration: 811000 loss: 0.0013 lr: 0.001\n",
      "iteration: 812000 loss: 0.0014 lr: 0.001\n",
      "iteration: 813000 loss: 0.0014 lr: 0.001\n",
      "iteration: 814000 loss: 0.0014 lr: 0.001\n",
      "iteration: 815000 loss: 0.0014 lr: 0.001\n",
      "iteration: 816000 loss: 0.0014 lr: 0.001\n",
      "iteration: 817000 loss: 0.0013 lr: 0.001\n",
      "iteration: 818000 loss: 0.0014 lr: 0.001\n",
      "iteration: 819000 loss: 0.0014 lr: 0.001\n",
      "iteration: 820000 loss: 0.0013 lr: 0.001\n",
      "iteration: 821000 loss: 0.0013 lr: 0.001\n",
      "iteration: 822000 loss: 0.0014 lr: 0.001\n",
      "iteration: 823000 loss: 0.0014 lr: 0.001\n",
      "iteration: 824000 loss: 0.0014 lr: 0.001\n",
      "iteration: 825000 loss: 0.0014 lr: 0.001\n",
      "iteration: 826000 loss: 0.0014 lr: 0.001\n",
      "iteration: 827000 loss: 0.0013 lr: 0.001\n",
      "iteration: 828000 loss: 0.0013 lr: 0.001\n",
      "iteration: 829000 loss: 0.0014 lr: 0.001\n",
      "iteration: 830000 loss: 0.0013 lr: 0.001\n",
      "iteration: 831000 loss: 0.0013 lr: 0.001\n",
      "iteration: 832000 loss: 0.0013 lr: 0.001\n",
      "iteration: 833000 loss: 0.0013 lr: 0.001\n",
      "iteration: 834000 loss: 0.0013 lr: 0.001\n",
      "iteration: 835000 loss: 0.0014 lr: 0.001\n",
      "iteration: 836000 loss: 0.0013 lr: 0.001\n",
      "iteration: 837000 loss: 0.0014 lr: 0.001\n",
      "iteration: 838000 loss: 0.0014 lr: 0.001\n",
      "iteration: 839000 loss: 0.0014 lr: 0.001\n",
      "iteration: 840000 loss: 0.0014 lr: 0.001\n",
      "iteration: 841000 loss: 0.0014 lr: 0.001\n",
      "iteration: 842000 loss: 0.0013 lr: 0.001\n",
      "iteration: 843000 loss: 0.0014 lr: 0.001\n",
      "iteration: 844000 loss: 0.0014 lr: 0.001\n",
      "iteration: 845000 loss: 0.0013 lr: 0.001\n",
      "iteration: 846000 loss: 0.0014 lr: 0.001\n",
      "iteration: 847000 loss: 0.0013 lr: 0.001\n",
      "iteration: 848000 loss: 0.0014 lr: 0.001\n",
      "iteration: 849000 loss: 0.0014 lr: 0.001\n",
      "iteration: 850000 loss: 0.0013 lr: 0.001\n",
      "iteration: 851000 loss: 0.0014 lr: 0.001\n",
      "iteration: 852000 loss: 0.0013 lr: 0.001\n",
      "iteration: 853000 loss: 0.0014 lr: 0.001\n",
      "iteration: 854000 loss: 0.0014 lr: 0.001\n",
      "iteration: 855000 loss: 0.0014 lr: 0.001\n",
      "iteration: 856000 loss: 0.0014 lr: 0.001\n",
      "iteration: 857000 loss: 0.0013 lr: 0.001\n",
      "iteration: 858000 loss: 0.0013 lr: 0.001\n",
      "iteration: 859000 loss: 0.0013 lr: 0.001\n",
      "iteration: 860000 loss: 0.0014 lr: 0.001\n",
      "iteration: 861000 loss: 0.0013 lr: 0.001\n",
      "iteration: 862000 loss: 0.0013 lr: 0.001\n",
      "iteration: 863000 loss: 0.0013 lr: 0.001\n",
      "iteration: 864000 loss: 0.0014 lr: 0.001\n",
      "iteration: 865000 loss: 0.0013 lr: 0.001\n",
      "iteration: 866000 loss: 0.0014 lr: 0.001\n",
      "iteration: 867000 loss: 0.0013 lr: 0.001\n",
      "iteration: 868000 loss: 0.0014 lr: 0.001\n",
      "iteration: 869000 loss: 0.0013 lr: 0.001\n",
      "iteration: 870000 loss: 0.0013 lr: 0.001\n",
      "iteration: 871000 loss: 0.0014 lr: 0.001\n",
      "iteration: 872000 loss: 0.0014 lr: 0.001\n",
      "iteration: 873000 loss: 0.0013 lr: 0.001\n",
      "iteration: 874000 loss: 0.0013 lr: 0.001\n",
      "iteration: 875000 loss: 0.0014 lr: 0.001\n",
      "iteration: 876000 loss: 0.0014 lr: 0.001\n",
      "iteration: 877000 loss: 0.0014 lr: 0.001\n",
      "iteration: 878000 loss: 0.0013 lr: 0.001\n",
      "iteration: 879000 loss: 0.0014 lr: 0.001\n",
      "iteration: 880000 loss: 0.0014 lr: 0.001\n",
      "iteration: 881000 loss: 0.0013 lr: 0.001\n",
      "iteration: 882000 loss: 0.0014 lr: 0.001\n",
      "iteration: 883000 loss: 0.0014 lr: 0.001\n",
      "iteration: 884000 loss: 0.0013 lr: 0.001\n",
      "iteration: 885000 loss: 0.0013 lr: 0.001\n",
      "iteration: 886000 loss: 0.0014 lr: 0.001\n",
      "iteration: 887000 loss: 0.0013 lr: 0.001\n",
      "iteration: 888000 loss: 0.0014 lr: 0.001\n",
      "iteration: 889000 loss: 0.0014 lr: 0.001\n",
      "iteration: 890000 loss: 0.0013 lr: 0.001\n",
      "iteration: 891000 loss: 0.0013 lr: 0.001\n",
      "iteration: 892000 loss: 0.0013 lr: 0.001\n",
      "iteration: 893000 loss: 0.0014 lr: 0.001\n",
      "iteration: 894000 loss: 0.0013 lr: 0.001\n",
      "iteration: 895000 loss: 0.0013 lr: 0.001\n",
      "iteration: 896000 loss: 0.0014 lr: 0.001\n",
      "iteration: 897000 loss: 0.0013 lr: 0.001\n",
      "iteration: 898000 loss: 0.0014 lr: 0.001\n",
      "iteration: 899000 loss: 0.0013 lr: 0.001\n",
      "iteration: 900000 loss: 0.0014 lr: 0.001\n",
      "iteration: 901000 loss: 0.0013 lr: 0.001\n",
      "iteration: 902000 loss: 0.0014 lr: 0.001\n",
      "iteration: 903000 loss: 0.0014 lr: 0.001\n",
      "iteration: 904000 loss: 0.0014 lr: 0.001\n",
      "iteration: 905000 loss: 0.0014 lr: 0.001\n",
      "iteration: 906000 loss: 0.0013 lr: 0.001\n",
      "iteration: 907000 loss: 0.0014 lr: 0.001\n",
      "iteration: 908000 loss: 0.0013 lr: 0.001\n",
      "iteration: 909000 loss: 0.0013 lr: 0.001\n",
      "iteration: 910000 loss: 0.0014 lr: 0.001\n",
      "iteration: 911000 loss: 0.0013 lr: 0.001\n",
      "iteration: 912000 loss: 0.0013 lr: 0.001\n",
      "iteration: 913000 loss: 0.0014 lr: 0.001\n",
      "iteration: 914000 loss: 0.0014 lr: 0.001\n",
      "iteration: 915000 loss: 0.0013 lr: 0.001\n",
      "iteration: 916000 loss: 0.0014 lr: 0.001\n",
      "iteration: 917000 loss: 0.0013 lr: 0.001\n",
      "iteration: 918000 loss: 0.0013 lr: 0.001\n",
      "iteration: 919000 loss: 0.0013 lr: 0.001\n",
      "iteration: 920000 loss: 0.0013 lr: 0.001\n",
      "iteration: 921000 loss: 0.0014 lr: 0.001\n",
      "iteration: 922000 loss: 0.0013 lr: 0.001\n",
      "iteration: 923000 loss: 0.0013 lr: 0.001\n",
      "iteration: 924000 loss: 0.0013 lr: 0.001\n",
      "iteration: 925000 loss: 0.0014 lr: 0.001\n",
      "iteration: 926000 loss: 0.0013 lr: 0.001\n",
      "iteration: 927000 loss: 0.0013 lr: 0.001\n",
      "iteration: 928000 loss: 0.0013 lr: 0.001\n",
      "iteration: 929000 loss: 0.0013 lr: 0.001\n",
      "iteration: 930000 loss: 0.0014 lr: 0.001\n",
      "iteration: 931000 loss: 0.0013 lr: 0.001\n",
      "iteration: 932000 loss: 0.0013 lr: 0.001\n",
      "iteration: 933000 loss: 0.0013 lr: 0.001\n",
      "iteration: 934000 loss: 0.0013 lr: 0.001\n",
      "iteration: 935000 loss: 0.0013 lr: 0.001\n",
      "iteration: 936000 loss: 0.0013 lr: 0.001\n",
      "iteration: 937000 loss: 0.0013 lr: 0.001\n",
      "iteration: 938000 loss: 0.0013 lr: 0.001\n",
      "iteration: 939000 loss: 0.0013 lr: 0.001\n",
      "iteration: 940000 loss: 0.0013 lr: 0.001\n"
     ]
    }
   ],
   "source": [
    "dlc.train_network(config_path)"
   ]
  },
  {
   "cell_type": "code",
   "execution_count": null,
   "metadata": {},
   "outputs": [],
   "source": [
    "dlc.launch_dlc()"
   ]
  }
 ],
 "metadata": {
  "kernelspec": {
   "display_name": "Python 3",
   "language": "python",
   "name": "python3"
  },
  "language_info": {
   "codemirror_mode": {
    "name": "ipython",
    "version": 3
   },
   "file_extension": ".py",
   "mimetype": "text/x-python",
   "name": "python",
   "nbconvert_exporter": "python",
   "pygments_lexer": "ipython3",
   "version": "3.7.9"
  }
 },
 "nbformat": 4,
 "nbformat_minor": 4
}
