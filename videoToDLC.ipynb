{
 "cells": [
  {
   "cell_type": "code",
   "execution_count": 1,
   "metadata": {},
   "outputs": [
    {
     "ename": "ModuleNotFoundError",
     "evalue": "No module named 'deeplabcut'",
     "output_type": "error",
     "traceback": [
      "\u001b[1;31m---------------------------------------------------------------------------\u001b[0m",
      "\u001b[1;31mModuleNotFoundError\u001b[0m                       Traceback (most recent call last)",
      "\u001b[1;32m<ipython-input-1-301aab800d1e>\u001b[0m in \u001b[0;36m<module>\u001b[1;34m\u001b[0m\n\u001b[1;32m----> 1\u001b[1;33m \u001b[1;32mimport\u001b[0m \u001b[0mdeeplabcut\u001b[0m \u001b[1;32mas\u001b[0m \u001b[0mdlc\u001b[0m\u001b[1;33m\u001b[0m\u001b[1;33m\u001b[0m\u001b[0m\n\u001b[0m\u001b[0;32m      2\u001b[0m \u001b[1;32mimport\u001b[0m \u001b[0msys\u001b[0m\u001b[1;33m\u001b[0m\u001b[1;33m\u001b[0m\u001b[0m\n\u001b[0;32m      3\u001b[0m \u001b[1;32mimport\u001b[0m \u001b[0mos\u001b[0m\u001b[1;33m\u001b[0m\u001b[1;33m\u001b[0m\u001b[0m\n\u001b[0;32m      4\u001b[0m \u001b[1;32mimport\u001b[0m \u001b[0mcv2\u001b[0m\u001b[1;33m\u001b[0m\u001b[1;33m\u001b[0m\u001b[0m\n\u001b[0;32m      5\u001b[0m \u001b[1;32mimport\u001b[0m \u001b[0mtime\u001b[0m\u001b[1;33m\u001b[0m\u001b[1;33m\u001b[0m\u001b[0m\n",
      "\u001b[1;31mModuleNotFoundError\u001b[0m: No module named 'deeplabcut'"
     ]
    }
   ],
   "source": [
    "import deeplabcut as dlc\n",
    "import sys\n",
    "import os\n",
    "import cv2\n",
    "import time\n",
    "import matplotlib.pyplot as plt\n",
    "#%matplotlib qt\n",
    "import pickle\n",
    "import numpy as np"
   ]
  },
  {
   "cell_type": "code",
   "execution_count": 2,
   "metadata": {},
   "outputs": [],
   "source": [
    "def onclick(event):\n",
    "    global x,y,pause\n",
    "    \n",
    "    plt.cla()\n",
    "    plt.imshow(frame)\n",
    "    try:\n",
    "        x\n",
    "    except:\n",
    "        x = [0,0]\n",
    "    try:\n",
    "        y\n",
    "    except:\n",
    "        y = [0,0]\n",
    "    \n",
    "    if str(event.button) == \"MouseButton.LEFT\":\n",
    "        x[0], y[0] = event.xdata, event.ydata\n",
    "    elif str(event.button) == \"MouseButton.RIGHT\":\n",
    "        x[1], y[1] = event.xdata, event.ydata\n",
    "    elif str(event.button) == \"MouseButton.MIDDLE\":\n",
    "        fig.canvas.mpl_disconnect(cid)\n",
    "        pause = False\n",
    "        \n",
    "    for i,j in zip(x,y):\n",
    "        plt.axvline(i)\n",
    "        plt.axhline(j)\n",
    "        plt.draw()"
   ]
  },
  {
   "cell_type": "code",
   "execution_count": 4,
   "metadata": {},
   "outputs": [
    {
     "name": "stdout",
     "output_type": "stream",
     "text": [
      "hey\n"
     ]
    }
   ],
   "source": [
    "print('hey')"
   ]
  },
  {
   "cell_type": "code",
   "execution_count": 3,
   "metadata": {},
   "outputs": [],
   "source": [
    "path = 'Y://classical_fear_conditionning/'\n",
    "videos = []\n",
    "for subdirs, dirs, files in os.walk(path):\n",
    "    for file in files:\n",
    "        if file.endswith('.mp4') and not file.endswith('labeled.mp4'): videos.append(os.path.join(subdirs,file))\n",
    "\n",
    "            \n",
    "config_path = 'E:\\classical_fear_conditionning\\classical_fear_conditionning-BM-2020-11-20\\config.yaml'"
   ]
  },
  {
   "cell_type": "code",
   "execution_count": 5,
   "metadata": {},
   "outputs": [],
   "source": [
    "config_path = 'E:\\classical_fear_conditionning\\classical_fear_conditionning-BM-2020-11-20\\config.yaml'"
   ]
  },
  {
   "cell_type": "code",
   "execution_count": 5,
   "metadata": {},
   "outputs": [],
   "source": [
    "videos = ['Y://classical_fear_conditionning/Rat22\\\\Rat22_201222_120833\\\\Basler_acA1300-200uc__23039139__20201222_120835714.mp4',\n",
    " 'Y://classical_fear_conditionning/Rat22\\\\Rat22_201222_160006\\\\Basler_acA1300-200uc__23039139__20201222_160008250.mp4',\n",
    " 'Y://classical_fear_conditionning/Rat22\\\\Rat22_201222_170048\\\\Basler_acA1300-200uc__23039139__20201222_170050146.mp4']"
   ]
  },
  {
   "cell_type": "code",
   "execution_count": 1,
   "metadata": {},
   "outputs": [
    {
     "ename": "NameError",
     "evalue": "name 'os' is not defined",
     "output_type": "error",
     "traceback": [
      "\u001b[1;31m------------------------------------------\u001b[0m",
      "\u001b[1;31mNameError\u001b[0mTraceback (most recent call last)",
      "\u001b[1;32m<ipython-input-1-39726b4f48da>\u001b[0m in \u001b[0;36m<module>\u001b[1;34m\u001b[0m\n\u001b[0;32m      1\u001b[0m \u001b[0mpath\u001b[0m \u001b[1;33m=\u001b[0m \u001b[1;34m'Y://classical_fear_conditionning/'\u001b[0m\u001b[1;33m\u001b[0m\u001b[1;33m\u001b[0m\u001b[0m\n\u001b[0;32m      2\u001b[0m \u001b[0mcrops\u001b[0m \u001b[1;33m=\u001b[0m \u001b[1;33m[\u001b[0m\u001b[1;33m]\u001b[0m\u001b[1;33m\u001b[0m\u001b[1;33m\u001b[0m\u001b[0m\n\u001b[1;32m----> 3\u001b[1;33m \u001b[1;32mfor\u001b[0m \u001b[0msubdirs\u001b[0m\u001b[1;33m,\u001b[0m \u001b[0mdirs\u001b[0m\u001b[1;33m,\u001b[0m \u001b[0mfiles\u001b[0m \u001b[1;32min\u001b[0m \u001b[0mos\u001b[0m\u001b[1;33m.\u001b[0m\u001b[0mwalk\u001b[0m\u001b[1;33m(\u001b[0m\u001b[0mpath\u001b[0m\u001b[1;33m)\u001b[0m\u001b[1;33m:\u001b[0m\u001b[1;33m\u001b[0m\u001b[1;33m\u001b[0m\u001b[0m\n\u001b[0m\u001b[0;32m      4\u001b[0m     \u001b[1;32mif\u001b[0m \u001b[1;34m'crops.npy'\u001b[0m \u001b[1;32min\u001b[0m \u001b[0mfiles\u001b[0m\u001b[1;33m:\u001b[0m\u001b[1;33m\u001b[0m\u001b[1;33m\u001b[0m\u001b[0m\n\u001b[0;32m      5\u001b[0m         \u001b[0mprint\u001b[0m\u001b[1;33m(\u001b[0m\u001b[1;34m'crops'\u001b[0m\u001b[1;33m)\u001b[0m\u001b[1;33m\u001b[0m\u001b[1;33m\u001b[0m\u001b[0m\n",
      "\u001b[1;31mNameError\u001b[0m: name 'os' is not defined"
     ]
    }
   ],
   "source": [
    "path = 'Y://classical_fear_conditionning/'\n",
    "crops = []\n",
    "for subdirs, dirs, files in os.walk(path):\n",
    "    if 'crops.npy' in files:\n",
    "        print('crops')\n",
    "        with open('crops.npy', 'rb') as f:\n",
    "            x = np.load(f)\n",
    "            y = np.load(f)\n",
    "        crops.append((x,y))\n",
    "        continue\n",
    "\n",
    "    for file in files:\n",
    "        if file.endswith('meta.pickle'):\n",
    "            print('pickle')\n",
    "            os.chdir(subdirs)\n",
    "            with open(file, 'rb') as f:\n",
    "                data = pickle.load(f)\n",
    "            x1, x2, y1, y2 = data['data']['cropping_parameters']\n",
    "            crops.append(((x1,x2),(y1,y2)))\n",
    "            with open('crops.npy', 'wb') as f:\n",
    "                np.save(f, (x1,x2))\n",
    "                np.save(f, (y1,y2))\n",
    "\n",
    "#             os.remove(file)\n",
    "            continue\n",
    "\n",
    "        elif file.endswith('.mp4') and not file.endswith('labeled.mp4'):\n",
    "            print('manual')\n",
    "            os.chdir(subdirs)\n",
    "            v = file\n",
    "            print(v)\n",
    "            try:\n",
    "                del x,y\n",
    "            except:\n",
    "                pass\n",
    "\n",
    "            cap = cv2.VideoCapture(v)\n",
    "            ret,frame = cap.read()\n",
    "\n",
    "            pause = True\n",
    "            fig,ax = plt.subplots()\n",
    "            plt.imshow(frame)\n",
    "            cid = fig.canvas.mpl_connect('button_press_event', onclick)\n",
    "\n",
    "            while pause:\n",
    "                plt.pause(0.1)\n",
    "\n",
    "            plt.close('all')\n",
    "            crops.append((x,y))\n",
    "            with open('crops.npy', 'wb') as f:\n",
    "                np.save(f, x)\n",
    "                np.save(f, y)"
   ]
  },
  {
   "cell_type": "code",
   "execution_count": 33,
   "metadata": {},
   "outputs": [],
   "source": [
    "videos = ['Y://classical_fear_conditionning/Rat01-20200630/rat01_200630_114732/rat01-fear.mp4']"
   ]
  },
  {
   "cell_type": "code",
   "execution_count": 6,
   "metadata": {},
   "outputs": [],
   "source": [
    "crop = []\n",
    "\n",
    "for v in videos:\n",
    "    try:\n",
    "        del x,y\n",
    "    except:\n",
    "        pass\n",
    "\n",
    "    cap = cv2.VideoCapture(v)\n",
    "    ret,frame = cap.read()\n",
    "    \n",
    "    pause = True\n",
    "    fig,ax = plt.subplots()\n",
    "    plt.imshow(frame)\n",
    "    cid = fig.canvas.mpl_connect('button_press_event', onclick)\n",
    "    \n",
    "    while pause:\n",
    "        plt.pause(0.1)\n",
    "        \n",
    "    plt.close('all')\n",
    "    crop.append((x,y))"
   ]
  },
  {
   "cell_type": "code",
   "execution_count": 25,
   "metadata": {},
   "outputs": [],
   "source": [
    "for v,m in zip(video,crop):\n",
    "    with open(m,'rb') as f:\n",
    "        data = pickle.load(f)\n",
    "    x1,x2,y1,y2 = data['data']['cropping_parameters']\n",
    "    \n",
    "    cfg = dlc.utils.auxiliaryfunctions.read_config(config_path)\n",
    "    cfg['x1'] = x1\n",
    "    cfg['x2'] = x2\n",
    "    cfg['y1'] = y1\n",
    "    cfg['y2'] = y2\n",
    "    dlc.utils.auxiliaryfunctions.write_config(config_path,cfg)\n",
    "    dlc.create_labeled_video(config_path,v,filtered=True)"
   ]
  },
  {
   "cell_type": "code",
   "execution_count": 13,
   "metadata": {
    "collapsed": true,
    "jupyter": {
     "outputs_hidden": true
    }
   },
   "outputs": [
    {
     "name": "stdout",
     "output_type": "stream",
     "text": [
      "Using snapshot-1030000 for model E:\\classical_fear_conditionning\\classical_fear_conditionning-BM-2020-11-20\\dlc-models\\iteration-3\\classical_fear_conditionningNov20-trainset95shuffle1\n",
      "Initializing ResNet\n"
     ]
    },
    {
     "name": "stderr",
     "output_type": "stream",
     "text": [
      "  0%|                                               | 0/8308 [00:00<?, ?it/s]"
     ]
    },
    {
     "name": "stdout",
     "output_type": "stream",
     "text": [
      "Starting to analyze %  Y://fear_conditionning_ptsd/Rat13\\Rat13-20201202\\Rat13_201202_183404\\Basler_acA1300-200uc__23039139__20201202_183406294.mp4\n",
      "Y:\\fear_conditionning_ptsd\\Rat13\\Rat13-20201202\\Rat13_201202_183404  already exists!\n",
      "Loading  Y://fear_conditionning_ptsd/Rat13\\Rat13-20201202\\Rat13_201202_183404\\Basler_acA1300-200uc__23039139__20201202_183406294.mp4\n",
      "Duration of video [s]:  276.93 , recorded with  30.0 fps!\n",
      "Overall # of frames:  8308  found with (before cropping) frame dimensions:  1280 1024\n",
      "Starting to extract posture\n",
      "Cropping based on the x1 = 570 x2 = 883 y1 = 211 y2 = 538. You can adjust the cropping coordinates in the config.yaml file.\n"
     ]
    },
    {
     "name": "stderr",
     "output_type": "stream",
     "text": [
      "8383it [02:21, 59.28it/s]                                                    "
     ]
    },
    {
     "name": "stdout",
     "output_type": "stream",
     "text": [
      "Detected frames:  8308\n",
      "Saving results in Y:\\fear_conditionning_ptsd\\Rat13\\Rat13-20201202\\Rat13_201202_183404...\n",
      "Saving csv poses!\n"
     ]
    },
    {
     "name": "stderr",
     "output_type": "stream",
     "text": [
      "\n"
     ]
    },
    {
     "name": "stdout",
     "output_type": "stream",
     "text": [
      "The videos are analyzed. Now your research can truly start! \n",
      " You can create labeled videos with 'create_labeled_video'\n",
      "If the tracking is not satisfactory for some videos, consider expanding the training set. You can use the function 'extract_outlier_frames' to extract a few representative outlier frames.\n",
      "Filtering with arima model Y://fear_conditionning_ptsd/Rat13\\Rat13-20201202\\Rat13_201202_183404\\Basler_acA1300-200uc__23039139__20201202_183406294.mp4\n",
      "Saving filtered csv poses!\n",
      "Using snapshot-1030000 for model E:\\classical_fear_conditionning\\classical_fear_conditionning-BM-2020-11-20\\dlc-models\\iteration-3\\classical_fear_conditionningNov20-trainset95shuffle1\n",
      "Initializing ResNet\n"
     ]
    },
    {
     "name": "stderr",
     "output_type": "stream",
     "text": [
      "  0%|                                               | 0/8556 [00:00<?, ?it/s]"
     ]
    },
    {
     "name": "stdout",
     "output_type": "stream",
     "text": [
      "Starting to analyze %  Y://fear_conditionning_ptsd/Rat13\\Rat13-20201203\\Rat13_201203_112541\\Basler_acA1300-200uc__23039139__20201203_112543520.mp4\n",
      "Y:\\fear_conditionning_ptsd\\Rat13\\Rat13-20201203\\Rat13_201203_112541  already exists!\n",
      "Loading  Y://fear_conditionning_ptsd/Rat13\\Rat13-20201203\\Rat13_201203_112541\\Basler_acA1300-200uc__23039139__20201203_112543520.mp4\n",
      "Duration of video [s]:  285.2 , recorded with  30.0 fps!\n",
      "Overall # of frames:  8556  found with (before cropping) frame dimensions:  1280 1024\n",
      "Starting to extract posture\n",
      "Cropping based on the x1 = 456 x2 = 980 y1 = 191 y2 = 490. You can adjust the cropping coordinates in the config.yaml file.\n"
     ]
    },
    {
     "name": "stderr",
     "output_type": "stream",
     "text": [
      "8585it [02:55, 48.98it/s]                                                    "
     ]
    },
    {
     "name": "stdout",
     "output_type": "stream",
     "text": [
      "Detected frames:  8556\n",
      "Saving results in Y:\\fear_conditionning_ptsd\\Rat13\\Rat13-20201203\\Rat13_201203_112541...\n",
      "Saving csv poses!\n"
     ]
    },
    {
     "name": "stderr",
     "output_type": "stream",
     "text": [
      "\n"
     ]
    },
    {
     "name": "stdout",
     "output_type": "stream",
     "text": [
      "The videos are analyzed. Now your research can truly start! \n",
      " You can create labeled videos with 'create_labeled_video'\n",
      "If the tracking is not satisfactory for some videos, consider expanding the training set. You can use the function 'extract_outlier_frames' to extract a few representative outlier frames.\n",
      "Filtering with arima model Y://fear_conditionning_ptsd/Rat13\\Rat13-20201203\\Rat13_201203_112541\\Basler_acA1300-200uc__23039139__20201203_112543520.mp4\n",
      "Saving filtered csv poses!\n",
      "Using snapshot-1030000 for model E:\\classical_fear_conditionning\\classical_fear_conditionning-BM-2020-11-20\\dlc-models\\iteration-3\\classical_fear_conditionningNov20-trainset95shuffle1\n",
      "Initializing ResNet\n"
     ]
    },
    {
     "name": "stderr",
     "output_type": "stream",
     "text": [
      "  0%|                                               | 0/7916 [00:00<?, ?it/s]"
     ]
    },
    {
     "name": "stdout",
     "output_type": "stream",
     "text": [
      "Starting to analyze %  Y://fear_conditionning_ptsd/Rat13\\Rat13-20201203\\Rat13_201203_154214\\Basler_acA1300-200uc__23039139__20201203_154217024.mp4\n",
      "Y:\\fear_conditionning_ptsd\\Rat13\\Rat13-20201203\\Rat13_201203_154214  already exists!\n",
      "Loading  Y://fear_conditionning_ptsd/Rat13\\Rat13-20201203\\Rat13_201203_154214\\Basler_acA1300-200uc__23039139__20201203_154217024.mp4\n",
      "Duration of video [s]:  263.87 , recorded with  30.0 fps!\n",
      "Overall # of frames:  7916  found with (before cropping) frame dimensions:  1280 1024\n",
      "Starting to extract posture\n",
      "Cropping based on the x1 = 453 x2 = 974 y1 = 211 y2 = 485. You can adjust the cropping coordinates in the config.yaml file.\n"
     ]
    },
    {
     "name": "stderr",
     "output_type": "stream",
     "text": [
      "7979it [02:42, 49.01it/s]                                                    "
     ]
    },
    {
     "name": "stdout",
     "output_type": "stream",
     "text": [
      "Detected frames:  7916\n",
      "Saving results in Y:\\fear_conditionning_ptsd\\Rat13\\Rat13-20201203\\Rat13_201203_154214...\n",
      "Saving csv poses!\n"
     ]
    },
    {
     "name": "stderr",
     "output_type": "stream",
     "text": [
      "\n"
     ]
    },
    {
     "name": "stdout",
     "output_type": "stream",
     "text": [
      "The videos are analyzed. Now your research can truly start! \n",
      " You can create labeled videos with 'create_labeled_video'\n",
      "If the tracking is not satisfactory for some videos, consider expanding the training set. You can use the function 'extract_outlier_frames' to extract a few representative outlier frames.\n",
      "Filtering with arima model Y://fear_conditionning_ptsd/Rat13\\Rat13-20201203\\Rat13_201203_154214\\Basler_acA1300-200uc__23039139__20201203_154217024.mp4\n"
     ]
    },
    {
     "name": "stderr",
     "output_type": "stream",
     "text": [
      "C:\\Users\\maelle.christiaens\\.conda\\envs\\DLC-GPU\\lib\\site-packages\\statsmodels\\base\\model.py:568: ConvergenceWarning: Maximum Likelihood optimization failed to converge. Check mle_retvals\n",
      "  ConvergenceWarning)\n",
      "C:\\Users\\maelle.christiaens\\.conda\\envs\\DLC-GPU\\lib\\site-packages\\statsmodels\\base\\model.py:568: ConvergenceWarning: Maximum Likelihood optimization failed to converge. Check mle_retvals\n",
      "  ConvergenceWarning)\n"
     ]
    },
    {
     "name": "stdout",
     "output_type": "stream",
     "text": [
      "Saving filtered csv poses!\n",
      "Using snapshot-1030000 for model E:\\classical_fear_conditionning\\classical_fear_conditionning-BM-2020-11-20\\dlc-models\\iteration-3\\classical_fear_conditionningNov20-trainset95shuffle1\n",
      "Initializing ResNet\n"
     ]
    },
    {
     "name": "stderr",
     "output_type": "stream",
     "text": [
      "  0%|                                               | 0/8158 [00:00<?, ?it/s]"
     ]
    },
    {
     "name": "stdout",
     "output_type": "stream",
     "text": [
      "Starting to analyze %  Y://fear_conditionning_ptsd/Rat13\\Rat13-20201203\\Rat13_201203_164205\\Basler_acA1300-200uc__23039139__20201203_164208326.mp4\n",
      "Y:\\fear_conditionning_ptsd\\Rat13\\Rat13-20201203\\Rat13_201203_164205  already exists!\n",
      "Loading  Y://fear_conditionning_ptsd/Rat13\\Rat13-20201203\\Rat13_201203_164205\\Basler_acA1300-200uc__23039139__20201203_164208326.mp4\n",
      "Duration of video [s]:  271.93 , recorded with  30.0 fps!\n",
      "Overall # of frames:  8158  found with (before cropping) frame dimensions:  1280 1024\n",
      "Starting to extract posture\n",
      "Cropping based on the x1 = 581 x2 = 886 y1 = 202 y2 = 490. You can adjust the cropping coordinates in the config.yaml file.\n"
     ]
    },
    {
     "name": "stderr",
     "output_type": "stream",
     "text": [
      "8181it [02:25, 56.22it/s]                                                    "
     ]
    },
    {
     "name": "stdout",
     "output_type": "stream",
     "text": [
      "Detected frames:  8158\n",
      "Saving results in Y:\\fear_conditionning_ptsd\\Rat13\\Rat13-20201203\\Rat13_201203_164205...\n",
      "Saving csv poses!\n"
     ]
    },
    {
     "name": "stderr",
     "output_type": "stream",
     "text": [
      "\n"
     ]
    },
    {
     "name": "stdout",
     "output_type": "stream",
     "text": [
      "The videos are analyzed. Now your research can truly start! \n",
      " You can create labeled videos with 'create_labeled_video'\n",
      "If the tracking is not satisfactory for some videos, consider expanding the training set. You can use the function 'extract_outlier_frames' to extract a few representative outlier frames.\n",
      "Filtering with arima model Y://fear_conditionning_ptsd/Rat13\\Rat13-20201203\\Rat13_201203_164205\\Basler_acA1300-200uc__23039139__20201203_164208326.mp4\n"
     ]
    },
    {
     "name": "stderr",
     "output_type": "stream",
     "text": [
      "C:\\Users\\maelle.christiaens\\.conda\\envs\\DLC-GPU\\lib\\site-packages\\statsmodels\\tsa\\statespace\\sarimax.py:966: UserWarning: Non-stationary starting autoregressive parameters found. Using zeros as starting parameters.\n",
      "  warn('Non-stationary starting autoregressive parameters'\n",
      "C:\\Users\\maelle.christiaens\\.conda\\envs\\DLC-GPU\\lib\\site-packages\\statsmodels\\base\\model.py:568: ConvergenceWarning: Maximum Likelihood optimization failed to converge. Check mle_retvals\n",
      "  ConvergenceWarning)\n",
      "C:\\Users\\maelle.christiaens\\.conda\\envs\\DLC-GPU\\lib\\site-packages\\statsmodels\\base\\model.py:568: ConvergenceWarning: Maximum Likelihood optimization failed to converge. Check mle_retvals\n",
      "  ConvergenceWarning)\n",
      "C:\\Users\\maelle.christiaens\\.conda\\envs\\DLC-GPU\\lib\\site-packages\\statsmodels\\base\\model.py:568: ConvergenceWarning: Maximum Likelihood optimization failed to converge. Check mle_retvals\n",
      "  ConvergenceWarning)\n",
      "C:\\Users\\maelle.christiaens\\.conda\\envs\\DLC-GPU\\lib\\site-packages\\statsmodels\\base\\model.py:568: ConvergenceWarning: Maximum Likelihood optimization failed to converge. Check mle_retvals\n",
      "  ConvergenceWarning)\n",
      "C:\\Users\\maelle.christiaens\\.conda\\envs\\DLC-GPU\\lib\\site-packages\\statsmodels\\base\\model.py:568: ConvergenceWarning: Maximum Likelihood optimization failed to converge. Check mle_retvals\n",
      "  ConvergenceWarning)\n",
      "C:\\Users\\maelle.christiaens\\.conda\\envs\\DLC-GPU\\lib\\site-packages\\statsmodels\\tsa\\statespace\\sarimax.py:978: UserWarning: Non-invertible starting MA parameters found. Using zeros as starting parameters.\n",
      "  warn('Non-invertible starting MA parameters found.'\n",
      "C:\\Users\\maelle.christiaens\\.conda\\envs\\DLC-GPU\\lib\\site-packages\\statsmodels\\base\\model.py:568: ConvergenceWarning: Maximum Likelihood optimization failed to converge. Check mle_retvals\n",
      "  ConvergenceWarning)\n"
     ]
    },
    {
     "name": "stdout",
     "output_type": "stream",
     "text": [
      "Saving filtered csv poses!\n",
      "Using snapshot-1030000 for model E:\\classical_fear_conditionning\\classical_fear_conditionning-BM-2020-11-20\\dlc-models\\iteration-3\\classical_fear_conditionningNov20-trainset95shuffle1\n",
      "Initializing ResNet\n"
     ]
    },
    {
     "name": "stderr",
     "output_type": "stream",
     "text": [
      "  0%|                                               | 0/7947 [00:00<?, ?it/s]"
     ]
    },
    {
     "name": "stdout",
     "output_type": "stream",
     "text": [
      "Starting to analyze %  Y://fear_conditionning_ptsd/Rat14\\Rat14-20201203\\Rat14_201203_165203\\Basler_acA1300-200uc__23039139__20201203_165206485.mp4\n",
      "Y:\\fear_conditionning_ptsd\\Rat14\\Rat14-20201203\\Rat14_201203_165203  already exists!\n",
      "Loading  Y://fear_conditionning_ptsd/Rat14\\Rat14-20201203\\Rat14_201203_165203\\Basler_acA1300-200uc__23039139__20201203_165206485.mp4\n",
      "Duration of video [s]:  264.9 , recorded with  30.0 fps!\n",
      "Overall # of frames:  7947  found with (before cropping) frame dimensions:  1280 1024\n",
      "Starting to extract posture\n",
      "Cropping based on the x1 = 584 x2 = 897 y1 = 197 y2 = 504. You can adjust the cropping coordinates in the config.yaml file.\n"
     ]
    },
    {
     "name": "stderr",
     "output_type": "stream",
     "text": [
      "7979it [02:23, 55.45it/s]                                                    "
     ]
    },
    {
     "name": "stdout",
     "output_type": "stream",
     "text": [
      "Detected frames:  7947\n",
      "Saving results in Y:\\fear_conditionning_ptsd\\Rat14\\Rat14-20201203\\Rat14_201203_165203...\n",
      "Saving csv poses!\n"
     ]
    },
    {
     "name": "stderr",
     "output_type": "stream",
     "text": [
      "\n"
     ]
    },
    {
     "name": "stdout",
     "output_type": "stream",
     "text": [
      "The videos are analyzed. Now your research can truly start! \n",
      " You can create labeled videos with 'create_labeled_video'\n",
      "If the tracking is not satisfactory for some videos, consider expanding the training set. You can use the function 'extract_outlier_frames' to extract a few representative outlier frames.\n",
      "Filtering with arima model Y://fear_conditionning_ptsd/Rat14\\Rat14-20201203\\Rat14_201203_165203\\Basler_acA1300-200uc__23039139__20201203_165206485.mp4\n",
      "Saving filtered csv poses!\n",
      "Using snapshot-1030000 for model E:\\classical_fear_conditionning\\classical_fear_conditionning-BM-2020-11-20\\dlc-models\\iteration-3\\classical_fear_conditionningNov20-trainset95shuffle1\n",
      "Initializing ResNet\n"
     ]
    },
    {
     "name": "stderr",
     "output_type": "stream",
     "text": [
      "  0%|                                               | 0/9055 [00:00<?, ?it/s]"
     ]
    },
    {
     "name": "stdout",
     "output_type": "stream",
     "text": [
      "Starting to analyze %  Y://fear_conditionning_ptsd/Rat14\\Rat14-20201204\\Rat14_201204_113458\\Basler_acA1300-200uc__23039139__20201204_113501813.mp4\n",
      "Y:\\fear_conditionning_ptsd\\Rat14\\Rat14-20201204\\Rat14_201204_113458  already exists!\n",
      "Loading  Y://fear_conditionning_ptsd/Rat14\\Rat14-20201204\\Rat14_201204_113458\\Basler_acA1300-200uc__23039139__20201204_113501813.mp4\n",
      "Duration of video [s]:  301.83 , recorded with  30.0 fps!\n",
      "Overall # of frames:  9055  found with (before cropping) frame dimensions:  1280 1024\n",
      "Starting to extract posture\n",
      "Cropping based on the x1 = 431 x2 = 952 y1 = 252 y2 = 563. You can adjust the cropping coordinates in the config.yaml file.\n"
     ]
    },
    {
     "name": "stderr",
     "output_type": "stream",
     "text": [
      "9090it [03:11, 47.40it/s]                                                    "
     ]
    },
    {
     "name": "stdout",
     "output_type": "stream",
     "text": [
      "Detected frames:  9055\n",
      "Saving results in Y:\\fear_conditionning_ptsd\\Rat14\\Rat14-20201204\\Rat14_201204_113458...\n",
      "Saving csv poses!\n"
     ]
    },
    {
     "name": "stderr",
     "output_type": "stream",
     "text": [
      "\n"
     ]
    },
    {
     "name": "stdout",
     "output_type": "stream",
     "text": [
      "The videos are analyzed. Now your research can truly start! \n",
      " You can create labeled videos with 'create_labeled_video'\n",
      "If the tracking is not satisfactory for some videos, consider expanding the training set. You can use the function 'extract_outlier_frames' to extract a few representative outlier frames.\n",
      "Filtering with arima model Y://fear_conditionning_ptsd/Rat14\\Rat14-20201204\\Rat14_201204_113458\\Basler_acA1300-200uc__23039139__20201204_113501813.mp4\n",
      "Saving filtered csv poses!\n",
      "Using snapshot-1030000 for model E:\\classical_fear_conditionning\\classical_fear_conditionning-BM-2020-11-20\\dlc-models\\iteration-3\\classical_fear_conditionningNov20-trainset95shuffle1\n",
      "Initializing ResNet\n"
     ]
    },
    {
     "name": "stderr",
     "output_type": "stream",
     "text": [
      "  0%|                                               | 0/8208 [00:00<?, ?it/s]"
     ]
    },
    {
     "name": "stdout",
     "output_type": "stream",
     "text": [
      "Starting to analyze %  Y://fear_conditionning_ptsd/Rat14\\Rat14-20201204\\Rat14_201204_161859\\Basler_acA1300-200uc__23039139__20201204_161901930.mp4\n",
      "Y:\\fear_conditionning_ptsd\\Rat14\\Rat14-20201204\\Rat14_201204_161859  already exists!\n",
      "Loading  Y://fear_conditionning_ptsd/Rat14\\Rat14-20201204\\Rat14_201204_161859\\Basler_acA1300-200uc__23039139__20201204_161901930.mp4\n",
      "Duration of video [s]:  273.6 , recorded with  30.0 fps!\n",
      "Overall # of frames:  8208  found with (before cropping) frame dimensions:  1280 1024\n",
      "Starting to extract posture\n",
      "Cropping based on the x1 = 578 x2 = 891 y1 = 241 y2 = 557. You can adjust the cropping coordinates in the config.yaml file.\n"
     ]
    },
    {
     "name": "stderr",
     "output_type": "stream",
     "text": [
      "8282it [02:28, 55.94it/s]                                                    \n"
     ]
    },
    {
     "name": "stdout",
     "output_type": "stream",
     "text": [
      "Detected frames:  8208\n",
      "Saving results in Y:\\fear_conditionning_ptsd\\Rat14\\Rat14-20201204\\Rat14_201204_161859...\n",
      "Saving csv poses!\n",
      "The videos are analyzed. Now your research can truly start! \n",
      " You can create labeled videos with 'create_labeled_video'\n",
      "If the tracking is not satisfactory for some videos, consider expanding the training set. You can use the function 'extract_outlier_frames' to extract a few representative outlier frames.\n",
      "Filtering with arima model Y://fear_conditionning_ptsd/Rat14\\Rat14-20201204\\Rat14_201204_161859\\Basler_acA1300-200uc__23039139__20201204_161901930.mp4\n",
      "Saving filtered csv poses!\n",
      "Using snapshot-1030000 for model E:\\classical_fear_conditionning\\classical_fear_conditionning-BM-2020-11-20\\dlc-models\\iteration-3\\classical_fear_conditionningNov20-trainset95shuffle1\n",
      "Initializing ResNet\n"
     ]
    },
    {
     "name": "stderr",
     "output_type": "stream",
     "text": [
      "  0%|                                               | 0/8137 [00:00<?, ?it/s]"
     ]
    },
    {
     "name": "stdout",
     "output_type": "stream",
     "text": [
      "Starting to analyze %  Y://fear_conditionning_ptsd/Rat14\\Rat14-20201204\\Rat14_201204_172709\\Basler_acA1300-200uc__23039139__20201204_172711737.mp4\n",
      "Y:\\fear_conditionning_ptsd\\Rat14\\Rat14-20201204\\Rat14_201204_172709  already exists!\n",
      "Loading  Y://fear_conditionning_ptsd/Rat14\\Rat14-20201204\\Rat14_201204_172709\\Basler_acA1300-200uc__23039139__20201204_172711737.mp4\n",
      "Duration of video [s]:  271.23 , recorded with  30.0 fps!\n",
      "Overall # of frames:  8137  found with (before cropping) frame dimensions:  1280 1024\n",
      "Starting to extract posture\n",
      "Cropping based on the x1 = 440 x2 = 960 y1 = 252 y2 = 560. You can adjust the cropping coordinates in the config.yaml file.\n"
     ]
    },
    {
     "name": "stderr",
     "output_type": "stream",
     "text": [
      "8181it [02:51, 47.84it/s]                                                    "
     ]
    },
    {
     "name": "stdout",
     "output_type": "stream",
     "text": [
      "Detected frames:  8137\n",
      "Saving results in Y:\\fear_conditionning_ptsd\\Rat14\\Rat14-20201204\\Rat14_201204_172709...\n",
      "Saving csv poses!\n"
     ]
    },
    {
     "name": "stderr",
     "output_type": "stream",
     "text": [
      "\n"
     ]
    },
    {
     "name": "stdout",
     "output_type": "stream",
     "text": [
      "The videos are analyzed. Now your research can truly start! \n",
      " You can create labeled videos with 'create_labeled_video'\n",
      "If the tracking is not satisfactory for some videos, consider expanding the training set. You can use the function 'extract_outlier_frames' to extract a few representative outlier frames.\n",
      "Filtering with arima model Y://fear_conditionning_ptsd/Rat14\\Rat14-20201204\\Rat14_201204_172709\\Basler_acA1300-200uc__23039139__20201204_172711737.mp4\n"
     ]
    },
    {
     "name": "stderr",
     "output_type": "stream",
     "text": [
      "C:\\Users\\maelle.christiaens\\.conda\\envs\\DLC-GPU\\lib\\site-packages\\statsmodels\\base\\model.py:568: ConvergenceWarning: Maximum Likelihood optimization failed to converge. Check mle_retvals\n",
      "  ConvergenceWarning)\n"
     ]
    },
    {
     "name": "stdout",
     "output_type": "stream",
     "text": [
      "Saving filtered csv poses!\n",
      "Using snapshot-1030000 for model E:\\classical_fear_conditionning\\classical_fear_conditionning-BM-2020-11-20\\dlc-models\\iteration-3\\classical_fear_conditionningNov20-trainset95shuffle1\n",
      "Initializing ResNet\n"
     ]
    },
    {
     "name": "stderr",
     "output_type": "stream",
     "text": [
      "  0%|                                               | 0/8194 [00:00<?, ?it/s]"
     ]
    },
    {
     "name": "stdout",
     "output_type": "stream",
     "text": [
      "Starting to analyze %  Y://fear_conditionning_ptsd/Rat15\\Rat15-20201130\\Rat15_201130_164002\\Basler_acA1300-200uc__23039139__20201130_164007396.mp4\n",
      "Y:\\fear_conditionning_ptsd\\Rat15\\Rat15-20201130\\Rat15_201130_164002  already exists!\n",
      "Loading  Y://fear_conditionning_ptsd/Rat15\\Rat15-20201130\\Rat15_201130_164002\\Basler_acA1300-200uc__23039139__20201130_164007396.mp4\n",
      "Duration of video [s]:  273.13 , recorded with  30.0 fps!\n",
      "Overall # of frames:  8194  found with (before cropping) frame dimensions:  1280 1024\n",
      "Starting to extract posture\n",
      "Cropping based on the x1 = 559 x2 = 874 y1 = 166 y2 = 468. You can adjust the cropping coordinates in the config.yaml file.\n"
     ]
    },
    {
     "name": "stderr",
     "output_type": "stream",
     "text": [
      "8262it [02:25, 56.91it/s]                                                    "
     ]
    },
    {
     "name": "stdout",
     "output_type": "stream",
     "text": [
      "Detected frames:  8194\n",
      "Saving results in Y:\\fear_conditionning_ptsd\\Rat15\\Rat15-20201130\\Rat15_201130_164002...\n",
      "Saving csv poses!\n"
     ]
    },
    {
     "name": "stderr",
     "output_type": "stream",
     "text": [
      "\n"
     ]
    },
    {
     "name": "stdout",
     "output_type": "stream",
     "text": [
      "The videos are analyzed. Now your research can truly start! \n",
      " You can create labeled videos with 'create_labeled_video'\n",
      "If the tracking is not satisfactory for some videos, consider expanding the training set. You can use the function 'extract_outlier_frames' to extract a few representative outlier frames.\n",
      "Filtering with arima model Y://fear_conditionning_ptsd/Rat15\\Rat15-20201130\\Rat15_201130_164002\\Basler_acA1300-200uc__23039139__20201130_164007396.mp4\n",
      "Saving filtered csv poses!\n",
      "Using snapshot-1030000 for model E:\\classical_fear_conditionning\\classical_fear_conditionning-BM-2020-11-20\\dlc-models\\iteration-3\\classical_fear_conditionningNov20-trainset95shuffle1\n",
      "Initializing ResNet\n"
     ]
    },
    {
     "name": "stderr",
     "output_type": "stream",
     "text": [
      "  0%|                                               | 0/9455 [00:00<?, ?it/s]"
     ]
    },
    {
     "name": "stdout",
     "output_type": "stream",
     "text": [
      "Starting to analyze %  Y://fear_conditionning_ptsd/Rat15\\Rat15-20201201\\Rat15_201201_115713\\Basler_acA1300-200uc__23039139__20201201_115716478.mp4\n",
      "Y:\\fear_conditionning_ptsd\\Rat15\\Rat15-20201201\\Rat15_201201_115713  already exists!\n",
      "Loading  Y://fear_conditionning_ptsd/Rat15\\Rat15-20201201\\Rat15_201201_115713\\Basler_acA1300-200uc__23039139__20201201_115716478.mp4\n",
      "Duration of video [s]:  315.17 , recorded with  30.0 fps!\n",
      "Overall # of frames:  9455  found with (before cropping) frame dimensions:  1280 1024\n",
      "Starting to extract posture\n",
      "Cropping based on the x1 = 462 x2 = 969 y1 = 227 y2 = 521. You can adjust the cropping coordinates in the config.yaml file.\n"
     ]
    },
    {
     "name": "stderr",
     "output_type": "stream",
     "text": [
      "9494it [03:09, 50.11it/s]                                                    "
     ]
    },
    {
     "name": "stdout",
     "output_type": "stream",
     "text": [
      "Detected frames:  9455\n",
      "Saving results in Y:\\fear_conditionning_ptsd\\Rat15\\Rat15-20201201\\Rat15_201201_115713...\n",
      "Saving csv poses!\n"
     ]
    },
    {
     "name": "stderr",
     "output_type": "stream",
     "text": [
      "\n"
     ]
    },
    {
     "name": "stdout",
     "output_type": "stream",
     "text": [
      "The videos are analyzed. Now your research can truly start! \n",
      " You can create labeled videos with 'create_labeled_video'\n",
      "If the tracking is not satisfactory for some videos, consider expanding the training set. You can use the function 'extract_outlier_frames' to extract a few representative outlier frames.\n",
      "Filtering with arima model Y://fear_conditionning_ptsd/Rat15\\Rat15-20201201\\Rat15_201201_115713\\Basler_acA1300-200uc__23039139__20201201_115716478.mp4\n"
     ]
    },
    {
     "name": "stderr",
     "output_type": "stream",
     "text": [
      "C:\\Users\\maelle.christiaens\\.conda\\envs\\DLC-GPU\\lib\\site-packages\\statsmodels\\base\\model.py:568: ConvergenceWarning: Maximum Likelihood optimization failed to converge. Check mle_retvals\n",
      "  ConvergenceWarning)\n"
     ]
    },
    {
     "name": "stdout",
     "output_type": "stream",
     "text": [
      "Saving filtered csv poses!\n",
      "Using snapshot-1030000 for model E:\\classical_fear_conditionning\\classical_fear_conditionning-BM-2020-11-20\\dlc-models\\iteration-3\\classical_fear_conditionningNov20-trainset95shuffle1\n",
      "Initializing ResNet\n"
     ]
    },
    {
     "name": "stderr",
     "output_type": "stream",
     "text": [
      "  0%|                                               | 0/8636 [00:00<?, ?it/s]"
     ]
    },
    {
     "name": "stdout",
     "output_type": "stream",
     "text": [
      "Starting to analyze %  Y://fear_conditionning_ptsd/Rat15\\Rat15-20201201\\Rat15_201201_155055\\Basler_acA1300-200uc__23039139__20201201_155058121.mp4\n",
      "Y:\\fear_conditionning_ptsd\\Rat15\\Rat15-20201201\\Rat15_201201_155055  already exists!\n",
      "Loading  Y://fear_conditionning_ptsd/Rat15\\Rat15-20201201\\Rat15_201201_155055\\Basler_acA1300-200uc__23039139__20201201_155058121.mp4\n",
      "Duration of video [s]:  287.87 , recorded with  30.0 fps!\n",
      "Overall # of frames:  8636  found with (before cropping) frame dimensions:  1280 1024\n",
      "Starting to extract posture\n",
      "Cropping based on the x1 = 448 x2 = 985 y1 = 216 y2 = 515. You can adjust the cropping coordinates in the config.yaml file.\n"
     ]
    },
    {
     "name": "stderr",
     "output_type": "stream",
     "text": [
      "8686it [03:02, 47.70it/s]                                                    "
     ]
    },
    {
     "name": "stdout",
     "output_type": "stream",
     "text": [
      "Detected frames:  8636\n",
      "Saving results in Y:\\fear_conditionning_ptsd\\Rat15\\Rat15-20201201\\Rat15_201201_155055...\n",
      "Saving csv poses!\n"
     ]
    },
    {
     "name": "stderr",
     "output_type": "stream",
     "text": [
      "\n"
     ]
    },
    {
     "name": "stdout",
     "output_type": "stream",
     "text": [
      "The videos are analyzed. Now your research can truly start! \n",
      " You can create labeled videos with 'create_labeled_video'\n",
      "If the tracking is not satisfactory for some videos, consider expanding the training set. You can use the function 'extract_outlier_frames' to extract a few representative outlier frames.\n",
      "Filtering with arima model Y://fear_conditionning_ptsd/Rat15\\Rat15-20201201\\Rat15_201201_155055\\Basler_acA1300-200uc__23039139__20201201_155058121.mp4\n"
     ]
    },
    {
     "name": "stderr",
     "output_type": "stream",
     "text": [
      "C:\\Users\\maelle.christiaens\\.conda\\envs\\DLC-GPU\\lib\\site-packages\\statsmodels\\base\\model.py:568: ConvergenceWarning: Maximum Likelihood optimization failed to converge. Check mle_retvals\n",
      "  ConvergenceWarning)\n",
      "C:\\Users\\maelle.christiaens\\.conda\\envs\\DLC-GPU\\lib\\site-packages\\statsmodels\\base\\model.py:568: ConvergenceWarning: Maximum Likelihood optimization failed to converge. Check mle_retvals\n",
      "  ConvergenceWarning)\n"
     ]
    },
    {
     "name": "stdout",
     "output_type": "stream",
     "text": [
      "Saving filtered csv poses!\n",
      "Using snapshot-1030000 for model E:\\classical_fear_conditionning\\classical_fear_conditionning-BM-2020-11-20\\dlc-models\\iteration-3\\classical_fear_conditionningNov20-trainset95shuffle1\n",
      "Initializing ResNet\n"
     ]
    },
    {
     "name": "stderr",
     "output_type": "stream",
     "text": [
      "  0%|                                               | 0/3270 [00:00<?, ?it/s]"
     ]
    },
    {
     "name": "stdout",
     "output_type": "stream",
     "text": [
      "Starting to analyze %  Y://fear_conditionning_ptsd/Rat15\\Rat15-20201201\\Rat15_201201_171738\\Basler_acA1300-200uc__23039139__20201201_171741115.mp4\n",
      "Y:\\fear_conditionning_ptsd\\Rat15\\Rat15-20201201\\Rat15_201201_171738  already exists!\n",
      "Loading  Y://fear_conditionning_ptsd/Rat15\\Rat15-20201201\\Rat15_201201_171738\\Basler_acA1300-200uc__23039139__20201201_171741115.mp4\n",
      "Duration of video [s]:  109.0 , recorded with  30.0 fps!\n",
      "Overall # of frames:  3270  found with (before cropping) frame dimensions:  1280 1024\n",
      "Starting to extract posture\n",
      "Cropping based on the x1 = 556 x2 = 863 y1 = 238 y2 = 538. You can adjust the cropping coordinates in the config.yaml file.\n"
     ]
    },
    {
     "name": "stderr",
     "output_type": "stream",
     "text": [
      "3296it [00:59, 55.86it/s]                                                    \n"
     ]
    },
    {
     "name": "stdout",
     "output_type": "stream",
     "text": [
      "Detected frames:  3270\n",
      "Saving results in Y:\\fear_conditionning_ptsd\\Rat15\\Rat15-20201201\\Rat15_201201_171738...\n",
      "Saving csv poses!\n",
      "The videos are analyzed. Now your research can truly start! \n",
      " You can create labeled videos with 'create_labeled_video'\n",
      "If the tracking is not satisfactory for some videos, consider expanding the training set. You can use the function 'extract_outlier_frames' to extract a few representative outlier frames.\n",
      "Filtering with arima model Y://fear_conditionning_ptsd/Rat15\\Rat15-20201201\\Rat15_201201_171738\\Basler_acA1300-200uc__23039139__20201201_171741115.mp4\n",
      "Saving filtered csv poses!\n",
      "Using snapshot-1030000 for model E:\\classical_fear_conditionning\\classical_fear_conditionning-BM-2020-11-20\\dlc-models\\iteration-3\\classical_fear_conditionningNov20-trainset95shuffle1\n",
      "Initializing ResNet\n"
     ]
    },
    {
     "name": "stderr",
     "output_type": "stream",
     "text": [
      "  0%|                                               | 0/8182 [00:00<?, ?it/s]"
     ]
    },
    {
     "name": "stdout",
     "output_type": "stream",
     "text": [
      "Starting to analyze %  Y://fear_conditionning_ptsd/Rat16\\Rat16-20201201\\Rat16_201201_172742\\Basler_acA1300-200uc__23039139__20201201_172745824.mp4\n",
      "Y:\\fear_conditionning_ptsd\\Rat16\\Rat16-20201201\\Rat16_201201_172742  already exists!\n",
      "Loading  Y://fear_conditionning_ptsd/Rat16\\Rat16-20201201\\Rat16_201201_172742\\Basler_acA1300-200uc__23039139__20201201_172745824.mp4\n",
      "Duration of video [s]:  272.73 , recorded with  30.0 fps!\n",
      "Overall # of frames:  8182  found with (before cropping) frame dimensions:  1280 1024\n",
      "Starting to extract posture\n",
      "Cropping based on the x1 = 553 x2 = 877 y1 = 219 y2 = 524. You can adjust the cropping coordinates in the config.yaml file.\n"
     ]
    },
    {
     "name": "stderr",
     "output_type": "stream",
     "text": [
      "8262it [02:29, 55.25it/s]                                                    \n"
     ]
    },
    {
     "name": "stdout",
     "output_type": "stream",
     "text": [
      "Detected frames:  8182\n",
      "Saving results in Y:\\fear_conditionning_ptsd\\Rat16\\Rat16-20201201\\Rat16_201201_172742...\n",
      "Saving csv poses!\n",
      "The videos are analyzed. Now your research can truly start! \n",
      " You can create labeled videos with 'create_labeled_video'\n",
      "If the tracking is not satisfactory for some videos, consider expanding the training set. You can use the function 'extract_outlier_frames' to extract a few representative outlier frames.\n",
      "Filtering with arima model Y://fear_conditionning_ptsd/Rat16\\Rat16-20201201\\Rat16_201201_172742\\Basler_acA1300-200uc__23039139__20201201_172745824.mp4\n",
      "Saving filtered csv poses!\n",
      "Using snapshot-1030000 for model E:\\classical_fear_conditionning\\classical_fear_conditionning-BM-2020-11-20\\dlc-models\\iteration-3\\classical_fear_conditionningNov20-trainset95shuffle1\n",
      "Initializing ResNet\n"
     ]
    },
    {
     "name": "stderr",
     "output_type": "stream",
     "text": [
      "  0%|                                               | 0/8262 [00:00<?, ?it/s]"
     ]
    },
    {
     "name": "stdout",
     "output_type": "stream",
     "text": [
      "Starting to analyze %  Y://fear_conditionning_ptsd/Rat16\\Rat16-20201202\\Rat16_201202_132308\\Basler_acA1300-200uc__23039139__20201202_132311436.mp4\n",
      "Y:\\fear_conditionning_ptsd\\Rat16\\Rat16-20201202\\Rat16_201202_132308  already exists!\n",
      "Loading  Y://fear_conditionning_ptsd/Rat16\\Rat16-20201202\\Rat16_201202_132308\\Basler_acA1300-200uc__23039139__20201202_132311436.mp4\n",
      "Duration of video [s]:  275.4 , recorded with  30.0 fps!\n",
      "Overall # of frames:  8262  found with (before cropping) frame dimensions:  1280 1024\n",
      "Starting to extract posture\n",
      "Cropping based on the x1 = 456 x2 = 988 y1 = 213 y2 = 513. You can adjust the cropping coordinates in the config.yaml file.\n"
     ]
    },
    {
     "name": "stderr",
     "output_type": "stream",
     "text": [
      "8282it [02:52, 48.02it/s]                                                    "
     ]
    },
    {
     "name": "stdout",
     "output_type": "stream",
     "text": [
      "Detected frames:  8262\n",
      "Saving results in Y:\\fear_conditionning_ptsd\\Rat16\\Rat16-20201202\\Rat16_201202_132308...\n",
      "Saving csv poses!\n"
     ]
    },
    {
     "name": "stderr",
     "output_type": "stream",
     "text": [
      "\n"
     ]
    },
    {
     "name": "stdout",
     "output_type": "stream",
     "text": [
      "The videos are analyzed. Now your research can truly start! \n",
      " You can create labeled videos with 'create_labeled_video'\n",
      "If the tracking is not satisfactory for some videos, consider expanding the training set. You can use the function 'extract_outlier_frames' to extract a few representative outlier frames.\n",
      "Filtering with arima model Y://fear_conditionning_ptsd/Rat16\\Rat16-20201202\\Rat16_201202_132308\\Basler_acA1300-200uc__23039139__20201202_132311436.mp4\n",
      "Saving filtered csv poses!\n",
      "Using snapshot-1030000 for model E:\\classical_fear_conditionning\\classical_fear_conditionning-BM-2020-11-20\\dlc-models\\iteration-3\\classical_fear_conditionningNov20-trainset95shuffle1\n",
      "Initializing ResNet\n"
     ]
    },
    {
     "name": "stderr",
     "output_type": "stream",
     "text": [
      "  0%|                                               | 0/7917 [00:00<?, ?it/s]"
     ]
    },
    {
     "name": "stdout",
     "output_type": "stream",
     "text": [
      "Starting to analyze %  Y://fear_conditionning_ptsd/Rat16\\Rat16-20201202\\Rat16_201202_171552\\Basler_acA1300-200uc__23039139__20201202_171555498.mp4\n",
      "Y:\\fear_conditionning_ptsd\\Rat16\\Rat16-20201202\\Rat16_201202_171552  already exists!\n",
      "Loading  Y://fear_conditionning_ptsd/Rat16\\Rat16-20201202\\Rat16_201202_171552\\Basler_acA1300-200uc__23039139__20201202_171555498.mp4\n",
      "Duration of video [s]:  263.9 , recorded with  30.0 fps!\n",
      "Overall # of frames:  7917  found with (before cropping) frame dimensions:  1280 1024\n",
      "Starting to extract posture\n",
      "Cropping based on the x1 = 567 x2 = 872 y1 = 216 y2 = 529. You can adjust the cropping coordinates in the config.yaml file.\n"
     ]
    },
    {
     "name": "stderr",
     "output_type": "stream",
     "text": [
      "7979it [02:22, 55.91it/s]                                                    "
     ]
    },
    {
     "name": "stdout",
     "output_type": "stream",
     "text": [
      "Detected frames:  7917\n",
      "Saving results in Y:\\fear_conditionning_ptsd\\Rat16\\Rat16-20201202\\Rat16_201202_171552...\n",
      "Saving csv poses!\n"
     ]
    },
    {
     "name": "stderr",
     "output_type": "stream",
     "text": [
      "\n"
     ]
    },
    {
     "name": "stdout",
     "output_type": "stream",
     "text": [
      "The videos are analyzed. Now your research can truly start! \n",
      " You can create labeled videos with 'create_labeled_video'\n",
      "If the tracking is not satisfactory for some videos, consider expanding the training set. You can use the function 'extract_outlier_frames' to extract a few representative outlier frames.\n",
      "Filtering with arima model Y://fear_conditionning_ptsd/Rat16\\Rat16-20201202\\Rat16_201202_171552\\Basler_acA1300-200uc__23039139__20201202_171555498.mp4\n"
     ]
    },
    {
     "name": "stderr",
     "output_type": "stream",
     "text": [
      "C:\\Users\\maelle.christiaens\\.conda\\envs\\DLC-GPU\\lib\\site-packages\\statsmodels\\base\\model.py:568: ConvergenceWarning: Maximum Likelihood optimization failed to converge. Check mle_retvals\n",
      "  ConvergenceWarning)\n",
      "C:\\Users\\maelle.christiaens\\.conda\\envs\\DLC-GPU\\lib\\site-packages\\statsmodels\\base\\model.py:568: ConvergenceWarning: Maximum Likelihood optimization failed to converge. Check mle_retvals\n",
      "  ConvergenceWarning)\n"
     ]
    },
    {
     "name": "stdout",
     "output_type": "stream",
     "text": [
      "Saving filtered csv poses!\n",
      "Using snapshot-1030000 for model E:\\classical_fear_conditionning\\classical_fear_conditionning-BM-2020-11-20\\dlc-models\\iteration-3\\classical_fear_conditionningNov20-trainset95shuffle1\n",
      "Initializing ResNet\n"
     ]
    },
    {
     "name": "stderr",
     "output_type": "stream",
     "text": [
      "  0%|                                               | 0/7365 [00:00<?, ?it/s]"
     ]
    },
    {
     "name": "stdout",
     "output_type": "stream",
     "text": [
      "Starting to analyze %  Y://fear_conditionning_ptsd/Rat16\\Rat16-20201202\\Rat16_201202_182329\\Basler_acA1300-200uc__23039139__20201202_182331883.mp4\n",
      "Y:\\fear_conditionning_ptsd\\Rat16\\Rat16-20201202\\Rat16_201202_182329  already exists!\n",
      "Loading  Y://fear_conditionning_ptsd/Rat16\\Rat16-20201202\\Rat16_201202_182329\\Basler_acA1300-200uc__23039139__20201202_182331883.mp4\n",
      "Duration of video [s]:  245.5 , recorded with  30.0 fps!\n",
      "Overall # of frames:  7365  found with (before cropping) frame dimensions:  1280 1024\n",
      "Starting to extract posture\n",
      "Cropping based on the x1 = 567 x2 = 872 y1 = 216 y2 = 529. You can adjust the cropping coordinates in the config.yaml file.\n"
     ]
    },
    {
     "name": "stderr",
     "output_type": "stream",
     "text": [
      "7373it [02:11, 56.26it/s]                                                    "
     ]
    },
    {
     "name": "stdout",
     "output_type": "stream",
     "text": [
      "Detected frames:  7365\n",
      "Saving results in Y:\\fear_conditionning_ptsd\\Rat16\\Rat16-20201202\\Rat16_201202_182329...\n",
      "Saving csv poses!\n"
     ]
    },
    {
     "name": "stderr",
     "output_type": "stream",
     "text": [
      "\n"
     ]
    },
    {
     "name": "stdout",
     "output_type": "stream",
     "text": [
      "The videos are analyzed. Now your research can truly start! \n",
      " You can create labeled videos with 'create_labeled_video'\n",
      "If the tracking is not satisfactory for some videos, consider expanding the training set. You can use the function 'extract_outlier_frames' to extract a few representative outlier frames.\n",
      "Filtering with arima model Y://fear_conditionning_ptsd/Rat16\\Rat16-20201202\\Rat16_201202_182329\\Basler_acA1300-200uc__23039139__20201202_182331883.mp4\n"
     ]
    },
    {
     "name": "stderr",
     "output_type": "stream",
     "text": [
      "C:\\Users\\maelle.christiaens\\.conda\\envs\\DLC-GPU\\lib\\site-packages\\statsmodels\\base\\model.py:568: ConvergenceWarning: Maximum Likelihood optimization failed to converge. Check mle_retvals\n",
      "  ConvergenceWarning)\n",
      "C:\\Users\\maelle.christiaens\\.conda\\envs\\DLC-GPU\\lib\\site-packages\\statsmodels\\base\\model.py:568: ConvergenceWarning: Maximum Likelihood optimization failed to converge. Check mle_retvals\n",
      "  ConvergenceWarning)\n"
     ]
    },
    {
     "name": "stdout",
     "output_type": "stream",
     "text": [
      "Saving filtered csv poses!\n"
     ]
    }
   ],
   "source": [
    "for v,m in zip(videos,metadata):\n",
    "    with open(m,'rb') as f:\n",
    "        data = pickle.load(f)\n",
    "    x1,x2,y1,y2 = data['data']['cropping_parameters']\n",
    "    \n",
    "    cfg = dlc.utils.auxiliaryfunctions.read_config(config_path)\n",
    "    cfg['x1'] = x1\n",
    "    cfg['x2'] = x2\n",
    "    cfg['y1'] = y1\n",
    "    cfg['y2'] = y2\n",
    "    dlc.utils.auxiliaryfunctions.write_config(config_path,cfg)\n",
    "    dlc.analyze_videos(config_path,v,save_as_csv=True)\n",
    "    dlc.filterpredictions(config_path,v,save_as_csv = True,filtertype='arima')"
   ]
  },
  {
   "cell_type": "code",
   "execution_count": null,
   "metadata": {},
   "outputs": [],
   "source": [
    "for v in videos:\n",
    "    "
   ]
  },
  {
   "cell_type": "code",
   "execution_count": 7,
   "metadata": {},
   "outputs": [
    {
     "name": "stdout",
     "output_type": "stream",
     "text": [
      "Overwriting cropping parameters: [434, 947, 213, 488]\n",
      "These are used for all videos, but won't be save to the cfg file.\n",
      "Using snapshot-1030000 for model E:\\classical_fear_conditionning\\classical_fear_conditionning-BM-2020-11-20\\dlc-models\\iteration-3\\classical_fear_conditionningNov20-trainset95shuffle1\n",
      "Initializing ResNet\n"
     ]
    },
    {
     "name": "stderr",
     "output_type": "stream",
     "text": [
      "  0%|          | 0/19014 [00:00<?, ?it/s]"
     ]
    },
    {
     "name": "stdout",
     "output_type": "stream",
     "text": [
      "Starting to analyze %  Y://classical_fear_conditionning/Rat22\\Rat22_201222_120833\\Basler_acA1300-200uc__23039139__20201222_120835714.mp4\n",
      "Y:\\classical_fear_conditionning\\Rat22\\Rat22_201222_120833  already exists!\n",
      "Loading  Y://classical_fear_conditionning/Rat22\\Rat22_201222_120833\\Basler_acA1300-200uc__23039139__20201222_120835714.mp4\n",
      "Duration of video [s]:  633.8 , recorded with  30.0 fps!\n",
      "Overall # of frames:  19014  found with (before cropping) frame dimensions:  1280 1024\n",
      "Starting to extract posture\n",
      "Cropping based on the x1 = 434 x2 = 947 y1 = 213 y2 = 488. You can adjust the cropping coordinates in the config.yaml file.\n"
     ]
    },
    {
     "name": "stderr",
     "output_type": "stream",
     "text": [
      "19190it [05:52, 54.42it/s]               "
     ]
    },
    {
     "name": "stdout",
     "output_type": "stream",
     "text": [
      "Detected frames:  19014\n",
      "Saving results in Y:\\classical_fear_conditionning\\Rat22\\Rat22_201222_120833...\n",
      "Saving csv poses!\n"
     ]
    },
    {
     "name": "stderr",
     "output_type": "stream",
     "text": [
      "\n"
     ]
    },
    {
     "name": "stdout",
     "output_type": "stream",
     "text": [
      "The videos are analyzed. Now your research can truly start! \n",
      " You can create labeled videos with 'create_labeled_video'\n",
      "If the tracking is not satisfactory for some videos, consider expanding the training set. You can use the function 'extract_outlier_frames' to extract a few representative outlier frames.\n",
      "Filtering with arima model Y://classical_fear_conditionning/Rat22\\Rat22_201222_120833\\Basler_acA1300-200uc__23039139__20201222_120835714.mp4\n"
     ]
    },
    {
     "name": "stderr",
     "output_type": "stream",
     "text": [
      "C:\\Users\\maelle.christiaens\\.conda\\envs\\DLC-GPU\\lib\\site-packages\\statsmodels\\tsa\\statespace\\sarimax.py:966: UserWarning: Non-stationary starting autoregressive parameters found. Using zeros as starting parameters.\n",
      "  warn('Non-stationary starting autoregressive parameters'\n",
      "C:\\Users\\maelle.christiaens\\.conda\\envs\\DLC-GPU\\lib\\site-packages\\statsmodels\\tsa\\statespace\\sarimax.py:978: UserWarning: Non-invertible starting MA parameters found. Using zeros as starting parameters.\n",
      "  warn('Non-invertible starting MA parameters found.'\n",
      "C:\\Users\\maelle.christiaens\\.conda\\envs\\DLC-GPU\\lib\\site-packages\\statsmodels\\base\\model.py:568: ConvergenceWarning: Maximum Likelihood optimization failed to converge. Check mle_retvals\n",
      "  ConvergenceWarning)\n",
      "C:\\Users\\maelle.christiaens\\.conda\\envs\\DLC-GPU\\lib\\site-packages\\statsmodels\\base\\model.py:568: ConvergenceWarning: Maximum Likelihood optimization failed to converge. Check mle_retvals\n",
      "  ConvergenceWarning)\n",
      "C:\\Users\\maelle.christiaens\\.conda\\envs\\DLC-GPU\\lib\\site-packages\\statsmodels\\base\\model.py:568: ConvergenceWarning: Maximum Likelihood optimization failed to converge. Check mle_retvals\n",
      "  ConvergenceWarning)\n",
      "C:\\Users\\maelle.christiaens\\.conda\\envs\\DLC-GPU\\lib\\site-packages\\statsmodels\\base\\model.py:568: ConvergenceWarning: Maximum Likelihood optimization failed to converge. Check mle_retvals\n",
      "  ConvergenceWarning)\n",
      "C:\\Users\\maelle.christiaens\\.conda\\envs\\DLC-GPU\\lib\\site-packages\\statsmodels\\base\\model.py:568: ConvergenceWarning: Maximum Likelihood optimization failed to converge. Check mle_retvals\n",
      "  ConvergenceWarning)\n",
      "C:\\Users\\maelle.christiaens\\.conda\\envs\\DLC-GPU\\lib\\site-packages\\statsmodels\\base\\model.py:568: ConvergenceWarning: Maximum Likelihood optimization failed to converge. Check mle_retvals\n",
      "  ConvergenceWarning)\n",
      "C:\\Users\\maelle.christiaens\\.conda\\envs\\DLC-GPU\\lib\\site-packages\\statsmodels\\base\\model.py:568: ConvergenceWarning: Maximum Likelihood optimization failed to converge. Check mle_retvals\n",
      "  ConvergenceWarning)\n",
      "C:\\Users\\maelle.christiaens\\.conda\\envs\\DLC-GPU\\lib\\site-packages\\statsmodels\\base\\model.py:568: ConvergenceWarning: Maximum Likelihood optimization failed to converge. Check mle_retvals\n",
      "  ConvergenceWarning)\n"
     ]
    },
    {
     "name": "stdout",
     "output_type": "stream",
     "text": [
      "Saving filtered csv poses!\n",
      "Overwriting cropping parameters: [434, 947, 216, 488]\n",
      "These are used for all videos, but won't be save to the cfg file.\n",
      "Using snapshot-1030000 for model E:\\classical_fear_conditionning\\classical_fear_conditionning-BM-2020-11-20\\dlc-models\\iteration-3\\classical_fear_conditionningNov20-trainset95shuffle1\n",
      "Initializing ResNet\n"
     ]
    },
    {
     "name": "stderr",
     "output_type": "stream",
     "text": [
      "  0%|          | 0/18828 [00:00<?, ?it/s]"
     ]
    },
    {
     "name": "stdout",
     "output_type": "stream",
     "text": [
      "Starting to analyze %  Y://classical_fear_conditionning/Rat22\\Rat22_201222_160006\\Basler_acA1300-200uc__23039139__20201222_160008250.mp4\n",
      "Y:\\classical_fear_conditionning\\Rat22\\Rat22_201222_160006  already exists!\n",
      "Loading  Y://classical_fear_conditionning/Rat22\\Rat22_201222_160006\\Basler_acA1300-200uc__23039139__20201222_160008250.mp4\n",
      "Duration of video [s]:  627.6 , recorded with  30.0 fps!\n",
      "Overall # of frames:  18828  found with (before cropping) frame dimensions:  1280 1024\n",
      "Starting to extract posture\n",
      "Cropping based on the x1 = 434 x2 = 947 y1 = 216 y2 = 488. You can adjust the cropping coordinates in the config.yaml file.\n"
     ]
    },
    {
     "name": "stderr",
     "output_type": "stream",
     "text": [
      "18988it [06:24, 49.36it/s]               "
     ]
    },
    {
     "name": "stdout",
     "output_type": "stream",
     "text": [
      "Detected frames:  18828\n",
      "Saving results in Y:\\classical_fear_conditionning\\Rat22\\Rat22_201222_160006...\n",
      "Saving csv poses!\n"
     ]
    },
    {
     "name": "stderr",
     "output_type": "stream",
     "text": [
      "\n"
     ]
    },
    {
     "name": "stdout",
     "output_type": "stream",
     "text": [
      "The videos are analyzed. Now your research can truly start! \n",
      " You can create labeled videos with 'create_labeled_video'\n",
      "If the tracking is not satisfactory for some videos, consider expanding the training set. You can use the function 'extract_outlier_frames' to extract a few representative outlier frames.\n",
      "Filtering with arima model Y://classical_fear_conditionning/Rat22\\Rat22_201222_160006\\Basler_acA1300-200uc__23039139__20201222_160008250.mp4\n"
     ]
    },
    {
     "name": "stderr",
     "output_type": "stream",
     "text": [
      "C:\\Users\\maelle.christiaens\\.conda\\envs\\DLC-GPU\\lib\\site-packages\\statsmodels\\base\\model.py:568: ConvergenceWarning: Maximum Likelihood optimization failed to converge. Check mle_retvals\n",
      "  ConvergenceWarning)\n",
      "C:\\Users\\maelle.christiaens\\.conda\\envs\\DLC-GPU\\lib\\site-packages\\statsmodels\\base\\model.py:568: ConvergenceWarning: Maximum Likelihood optimization failed to converge. Check mle_retvals\n",
      "  ConvergenceWarning)\n",
      "C:\\Users\\maelle.christiaens\\.conda\\envs\\DLC-GPU\\lib\\site-packages\\statsmodels\\base\\model.py:568: ConvergenceWarning: Maximum Likelihood optimization failed to converge. Check mle_retvals\n",
      "  ConvergenceWarning)\n",
      "C:\\Users\\maelle.christiaens\\.conda\\envs\\DLC-GPU\\lib\\site-packages\\statsmodels\\base\\model.py:568: ConvergenceWarning: Maximum Likelihood optimization failed to converge. Check mle_retvals\n",
      "  ConvergenceWarning)\n",
      "C:\\Users\\maelle.christiaens\\.conda\\envs\\DLC-GPU\\lib\\site-packages\\statsmodels\\base\\model.py:568: ConvergenceWarning: Maximum Likelihood optimization failed to converge. Check mle_retvals\n",
      "  ConvergenceWarning)\n",
      "C:\\Users\\maelle.christiaens\\.conda\\envs\\DLC-GPU\\lib\\site-packages\\statsmodels\\base\\model.py:568: ConvergenceWarning: Maximum Likelihood optimization failed to converge. Check mle_retvals\n",
      "  ConvergenceWarning)\n",
      "C:\\Users\\maelle.christiaens\\.conda\\envs\\DLC-GPU\\lib\\site-packages\\statsmodels\\base\\model.py:568: ConvergenceWarning: Maximum Likelihood optimization failed to converge. Check mle_retvals\n",
      "  ConvergenceWarning)\n"
     ]
    },
    {
     "name": "stdout",
     "output_type": "stream",
     "text": [
      "Saving filtered csv poses!\n",
      "Overwriting cropping parameters: [536, 838, 208, 488]\n",
      "These are used for all videos, but won't be save to the cfg file.\n",
      "Using snapshot-1030000 for model E:\\classical_fear_conditionning\\classical_fear_conditionning-BM-2020-11-20\\dlc-models\\iteration-3\\classical_fear_conditionningNov20-trainset95shuffle1\n",
      "Initializing ResNet\n"
     ]
    },
    {
     "name": "stderr",
     "output_type": "stream",
     "text": [
      "  0%|          | 0/19377 [00:00<?, ?it/s]"
     ]
    },
    {
     "name": "stdout",
     "output_type": "stream",
     "text": [
      "Starting to analyze %  Y://classical_fear_conditionning/Rat22\\Rat22_201222_170048\\Basler_acA1300-200uc__23039139__20201222_170050146.mp4\n",
      "Y:\\classical_fear_conditionning\\Rat22\\Rat22_201222_170048  already exists!\n",
      "Loading  Y://classical_fear_conditionning/Rat22\\Rat22_201222_170048\\Basler_acA1300-200uc__23039139__20201222_170050146.mp4\n",
      "Duration of video [s]:  645.9 , recorded with  30.0 fps!\n",
      "Overall # of frames:  19377  found with (before cropping) frame dimensions:  1280 1024\n",
      "Starting to extract posture\n",
      "Cropping based on the x1 = 536 x2 = 838 y1 = 208 y2 = 488. You can adjust the cropping coordinates in the config.yaml file.\n"
     ]
    },
    {
     "name": "stderr",
     "output_type": "stream",
     "text": [
      "19493it [05:44, 56.60it/s]               "
     ]
    },
    {
     "name": "stdout",
     "output_type": "stream",
     "text": [
      "Detected frames:  19377\n",
      "Saving results in Y:\\classical_fear_conditionning\\Rat22\\Rat22_201222_170048...\n",
      "Saving csv poses!\n"
     ]
    },
    {
     "name": "stderr",
     "output_type": "stream",
     "text": [
      "\n"
     ]
    },
    {
     "name": "stdout",
     "output_type": "stream",
     "text": [
      "The videos are analyzed. Now your research can truly start! \n",
      " You can create labeled videos with 'create_labeled_video'\n",
      "If the tracking is not satisfactory for some videos, consider expanding the training set. You can use the function 'extract_outlier_frames' to extract a few representative outlier frames.\n",
      "Filtering with arima model Y://classical_fear_conditionning/Rat22\\Rat22_201222_170048\\Basler_acA1300-200uc__23039139__20201222_170050146.mp4\n"
     ]
    },
    {
     "name": "stderr",
     "output_type": "stream",
     "text": [
      "C:\\Users\\maelle.christiaens\\.conda\\envs\\DLC-GPU\\lib\\site-packages\\statsmodels\\base\\model.py:568: ConvergenceWarning: Maximum Likelihood optimization failed to converge. Check mle_retvals\n",
      "  ConvergenceWarning)\n",
      "C:\\Users\\maelle.christiaens\\.conda\\envs\\DLC-GPU\\lib\\site-packages\\statsmodels\\base\\model.py:568: ConvergenceWarning: Maximum Likelihood optimization failed to converge. Check mle_retvals\n",
      "  ConvergenceWarning)\n",
      "C:\\Users\\maelle.christiaens\\.conda\\envs\\DLC-GPU\\lib\\site-packages\\statsmodels\\base\\model.py:568: ConvergenceWarning: Maximum Likelihood optimization failed to converge. Check mle_retvals\n",
      "  ConvergenceWarning)\n",
      "C:\\Users\\maelle.christiaens\\.conda\\envs\\DLC-GPU\\lib\\site-packages\\statsmodels\\base\\model.py:568: ConvergenceWarning: Maximum Likelihood optimization failed to converge. Check mle_retvals\n",
      "  ConvergenceWarning)\n",
      "C:\\Users\\maelle.christiaens\\.conda\\envs\\DLC-GPU\\lib\\site-packages\\statsmodels\\base\\model.py:568: ConvergenceWarning: Maximum Likelihood optimization failed to converge. Check mle_retvals\n",
      "  ConvergenceWarning)\n",
      "C:\\Users\\maelle.christiaens\\.conda\\envs\\DLC-GPU\\lib\\site-packages\\statsmodels\\base\\model.py:568: ConvergenceWarning: Maximum Likelihood optimization failed to converge. Check mle_retvals\n",
      "  ConvergenceWarning)\n"
     ]
    },
    {
     "name": "stdout",
     "output_type": "stream",
     "text": [
      "Saving filtered csv poses!\n"
     ]
    }
   ],
   "source": [
    "for v,c in zip(videos,crop):\n",
    "    x1,x2 = c[0]\n",
    "    y1,y2 = c[1]\n",
    "    c = [x1,x2,y1,y2]\n",
    "    c = list(map(int,c))\n",
    "    \n",
    "    dlc.analyze_videos(config_path,v,cropping=c,save_as_csv=True)\n",
    "    dlc.filterpredictions(config_path,v,save_as_csv = True,filtertype='arima')"
   ]
  },
  {
   "cell_type": "code",
   "execution_count": 10,
   "metadata": {},
   "outputs": [],
   "source": [
    "for v,c in zip(videos,crop):\n",
    "    x1,x2 = c[0]\n",
    "    y1,y2 = c[1]\n",
    "    c = [x1,x2,y1,y2]\n",
    "    c = list(map(int,c))\n",
    "    \n",
    "    dlc.create_labeled_video(config_path,v,filtered=True)"
   ]
  },
  {
   "cell_type": "code",
   "execution_count": 14,
   "metadata": {},
   "outputs": [],
   "source": [
    "metadata = []\n",
    "for subdirs, dirs, files in os.walk(path):\n",
    "    for file in files:\n",
    "        if file.endswith('.pickle'): metadata.append(os.path.join(subdirs,file))\n",
    "\n",
    "del metadata[0]"
   ]
  },
  {
   "cell_type": "code",
   "execution_count": 17,
   "metadata": {},
   "outputs": [],
   "source": [
    "for v in videos:\n",
    "    dlc.create_labeled_video(config_path,v,filtered=True)"
   ]
  },
  {
   "cell_type": "code",
   "execution_count": 30,
   "metadata": {},
   "outputs": [],
   "source": [
    "videos = ['Y://classical_fear_conditionning/Rat09-20201118\\\\Rat09_201118_110003\\\\Basler_acA1300-200uc__23039139__20201118_110005549.mp4',\n",
    " 'Y://classical_fear_conditionning/Rat09-20201118\\\\Rat09_201118_170529\\\\Basler_acA1300-200uc__23039139__20201118_170532638.mp4',\n",
    " 'Y://classical_fear_conditionning/Rat09-20201118\\\\Rat09_201118_180813\\\\Basler_acA1300-200uc__23039139__20201118_180815777.mp4',\n",
    " 'Y://classical_fear_conditionning/Rat10-20201118\\\\Rat10_201118_111531\\\\Basler_acA1300-200uc__23039139__20201118_111533373.mp4',\n",
    " 'Y://classical_fear_conditionning/Rat10-20201118\\\\Rat10_201118_172028\\\\Basler_acA1300-200uc__23039139__20201118_172030485.mp4',\n",
    " 'Y://classical_fear_conditionning/Rat10-20201118\\\\Rat10_201118_182234\\\\Basler_acA1300-200uc__23039139__20201118_182236751.mp4',\n",
    " 'Y://classical_fear_conditionning/Rat11-20201117\\\\Rat11_201117_112130\\\\Basler_acA1300-200uc__23039139__20201117_112134026.mp4',\n",
    " 'Y://classical_fear_conditionning/Rat11-20201117\\\\Rat11_201117_172705\\\\Basler_acA1300-200uc__23039139__20201117_172708091.mp4',\n",
    " 'Y://classical_fear_conditionning/Rat11-20201117\\\\Rat11_201117_183012\\\\Basler_acA1300-200uc__23039139__20201117_183015528.mp4',\n",
    " 'Y://classical_fear_conditionning/Rat18-20201216\\\\Rat18_201216_115232\\\\Basler_acA1300-200uc__23039139__20201216_115234548.mp4',\n",
    " 'Y://classical_fear_conditionning/Rat18-20201216\\\\Rat18_201216_160525\\\\Basler_acA1300-200uc__23039139__20201216_160527476.mp4',\n",
    " 'Y://classical_fear_conditionning/Rat18-20201216\\\\Rat18_201216_171056\\\\Basler_acA1300-200uc__23039139__20201216_171058405.mp4',\n",
    " 'Y://classical_fear_conditionning/Rat19-20201217\\\\Rat19_201217_115246\\\\Basler_acA1300-200uc__23039139__20201217_115249031.mp4',\n",
    " 'Y://classical_fear_conditionning/Rat19-20201217\\\\Rat19_201217_162502\\\\Basler_acA1300-200uc__23039139__20201217_162504659.mp4',\n",
    " 'Y://classical_fear_conditionning/Rat19-20201217\\\\Rat19_201217_171115\\\\Basler_acA1300-200uc__23039139__20201217_171117978.mp4',\n",
    " 'Y://classical_fear_conditionning/Rat20-20201218\\\\Rat20_201218_115320\\\\Basler_acA1300-200uc__23039139__20201218_115322857.mp4',\n",
    " 'Y://classical_fear_conditionning/Rat20-20201218\\\\Rat20_201218_163147\\\\Basler_acA1300-200uc__23039139__20201218_163149355.mp4',\n",
    " 'Y://classical_fear_conditionning/Rat20-20201218\\\\Rat20_201218_172829\\\\Basler_acA1300-200uc__23039139__20201218_172831109.mp4']"
   ]
  },
  {
   "cell_type": "code",
   "execution_count": 31,
   "metadata": {},
   "outputs": [],
   "source": [
    "metadata = ['Y://classical_fear_conditionning/Rat09-20201118\\\\Rat09_201118_110003\\\\Basler_acA1300-200uc__23039139__20201118_110005549DLC_resnet50_classical_fear_conditionningNov20shuffle1_1030000_meta.pickle',\n",
    " 'Y://classical_fear_conditionning/Rat09-20201118\\\\Rat09_201118_170529\\\\Basler_acA1300-200uc__23039139__20201118_170532638DLC_resnet50_classical_fear_conditionningNov20shuffle1_1030000_meta.pickle',\n",
    " 'Y://classical_fear_conditionning/Rat09-20201118\\\\Rat09_201118_180813\\\\Basler_acA1300-200uc__23039139__20201118_180815777DLC_resnet50_classical_fear_conditionningNov20shuffle1_1030000_meta.pickle',\n",
    " 'Y://classical_fear_conditionning/Rat10-20201118\\\\Rat10_201118_111531\\\\Basler_acA1300-200uc__23039139__20201118_111533373DLC_resnet50_classical_fear_conditionningNov20shuffle1_1030000_meta.pickle',\n",
    " 'Y://classical_fear_conditionning/Rat10-20201118\\\\Rat10_201118_172028\\\\Basler_acA1300-200uc__23039139__20201118_172030485DLC_resnet50_classical_fear_conditionningNov20shuffle1_1030000_meta.pickle',\n",
    " 'Y://classical_fear_conditionning/Rat10-20201118\\\\Rat10_201118_182234\\\\Basler_acA1300-200uc__23039139__20201118_182236751DLC_resnet50_classical_fear_conditionningNov20shuffle1_1030000_meta.pickle',\n",
    " 'Y://classical_fear_conditionning/Rat11-20201117\\\\Rat11_201117_112130\\\\Basler_acA1300-200uc__23039139__20201117_112134026DLC_resnet50_classical_fear_conditionningNov20shuffle1_1030000_meta.pickle',\n",
    " 'Y://classical_fear_conditionning/Rat11-20201117\\\\Rat11_201117_172705\\\\Basler_acA1300-200uc__23039139__20201117_172708091DLC_resnet50_classical_fear_conditionningNov20shuffle1_1030000_meta.pickle',\n",
    " 'Y://classical_fear_conditionning/Rat11-20201117\\\\Rat11_201117_183012\\\\Basler_acA1300-200uc__23039139__20201117_183015528DLC_resnet50_classical_fear_conditionningNov20shuffle1_1030000_meta.pickle',\n",
    " 'Y://classical_fear_conditionning/Rat18-20201216\\\\Rat18_201216_115232\\\\Basler_acA1300-200uc__23039139__20201216_115234548DLC_resnet50_classical_fear_conditionningNov20shuffle1_1030000_meta.pickle',\n",
    " 'Y://classical_fear_conditionning/Rat18-20201216\\\\Rat18_201216_160525\\\\Basler_acA1300-200uc__23039139__20201216_160527476DLC_resnet50_classical_fear_conditionningNov20shuffle1_1030000_meta.pickle',\n",
    " 'Y://classical_fear_conditionning/Rat18-20201216\\\\Rat18_201216_171056\\\\Basler_acA1300-200uc__23039139__20201216_171058405DLC_resnet50_classical_fear_conditionningNov20shuffle1_1030000_meta.pickle',\n",
    " 'Y://classical_fear_conditionning/Rat19-20201217\\\\Rat19_201217_115246\\\\Basler_acA1300-200uc__23039139__20201217_115249031DLC_resnet50_classical_fear_conditionningNov20shuffle1_1030000_meta.pickle',\n",
    " 'Y://classical_fear_conditionning/Rat19-20201217\\\\Rat19_201217_162502\\\\Basler_acA1300-200uc__23039139__20201217_162504659DLC_resnet50_classical_fear_conditionningNov20shuffle1_1030000_meta.pickle',\n",
    " 'Y://classical_fear_conditionning/Rat19-20201217\\\\Rat19_201217_171115\\\\Basler_acA1300-200uc__23039139__20201217_171117978DLC_resnet50_classical_fear_conditionningNov20shuffle1_1030000_meta.pickle',\n",
    " 'Y://classical_fear_conditionning/Rat20-20201218\\\\Rat20_201218_115320\\\\Basler_acA1300-200uc__23039139__20201218_115322857DLC_resnet50_classical_fear_conditionningNov20shuffle1_1030000_meta.pickle',\n",
    " 'Y://classical_fear_conditionning/Rat20-20201218\\\\Rat20_201218_163147\\\\Basler_acA1300-200uc__23039139__20201218_163149355DLC_resnet50_classical_fear_conditionningNov20shuffle1_1030000_meta.pickle',\n",
    " 'Y://classical_fear_conditionning/Rat20-20201218\\\\Rat20_201218_172829\\\\Basler_acA1300-200uc__23039139__20201218_172831109DLC_resnet50_classical_fear_conditionningNov20shuffle1_1030000_meta.pickle']"
   ]
  },
  {
   "cell_type": "code",
   "execution_count": 32,
   "metadata": {
    "collapsed": true,
    "jupyter": {
     "outputs_hidden": true
    }
   },
   "outputs": [
    {
     "name": "stdout",
     "output_type": "stream",
     "text": [
      "Method  jump  found  1789  putative outlier frames.\n",
      "Do you want to proceed with extracting  10  of those?\n",
      "If this list is very large, perhaps consider changing the parameters (start, stop, p_bound, comparisonbodyparts) or use a different method.\n"
     ]
    },
    {
     "name": "stdin",
     "output_type": "stream",
     "text": [
      "yes/no yes\n"
     ]
    },
    {
     "name": "stdout",
     "output_type": "stream",
     "text": [
      "Frames from video Basler_acA1300-200uc__23039139__20201118_110005549  already extracted (more will be added)!\n",
      "Loading video...\n"
     ]
    },
    {
     "name": "stderr",
     "output_type": "stream",
     "text": [
      "8it [00:00, 23.01it/s]"
     ]
    },
    {
     "name": "stdout",
     "output_type": "stream",
     "text": [
      "Duration of video [s]:  609.234 , recorded @  30.0 fps!\n",
      "Overall # of frames:  18277 with (cropped) frame dimensions: \n",
      "Kmeans-quantization based extracting of frames from 0.0  seconds to 609.23  seconds.\n",
      "Extracting and downsampling... 1789  frames from the video.\n"
     ]
    },
    {
     "name": "stderr",
     "output_type": "stream",
     "text": [
      "1789it [00:47, 37.69it/s]\n"
     ]
    },
    {
     "name": "stdout",
     "output_type": "stream",
     "text": [
      "Kmeans clustering ... (this might take a while)\n",
      "Let's select frames indices: [55, 16669, 809, 7483, 10323, 796, 774, 8044, 11010, 1672]\n",
      "Creating the symbolic link of the video\n",
      "AUTOMATIC ADDING OF VIDEO TO CONFIG FILE FAILED! You need to do this manually for including it in the config.yaml file!\n",
      "Videopath: Y://classical_fear_conditionning/Rat09-20201118\\Rat09_201118_110003\\Basler_acA1300-200uc__23039139__20201118_110005549.mp4 Coordinates for cropping: (473, 960, 213, 499)\n",
      "The outlier frames are extracted. They are stored in the subdirectory labeled-data\\Basler_acA1300-200uc__23039139__20201118_110005549.\n",
      "Once you extracted frames for all videos, use 'refine_labels' to manually correct the labels.\n",
      "Method  jump  found  661  putative outlier frames.\n",
      "Do you want to proceed with extracting  10  of those?\n",
      "If this list is very large, perhaps consider changing the parameters (start, stop, p_bound, comparisonbodyparts) or use a different method.\n"
     ]
    },
    {
     "name": "stdin",
     "output_type": "stream",
     "text": [
      "yes/no yes\n"
     ]
    },
    {
     "name": "stdout",
     "output_type": "stream",
     "text": [
      "Frames from video Basler_acA1300-200uc__23039139__20201118_170532638  already extracted (more will be added)!\n",
      "Loading video...\n",
      "Duration of video [s]:  620.9 , recorded @  30.0 fps!\n",
      "Overall # of frames:  18627 with (cropped) frame dimensions: \n",
      "Kmeans-quantization based extracting of frames from 0.0  seconds to 620.9  seconds.\n"
     ]
    },
    {
     "name": "stderr",
     "output_type": "stream",
     "text": [
      "2it [00:00, 17.98it/s]"
     ]
    },
    {
     "name": "stdout",
     "output_type": "stream",
     "text": [
      "Extracting and downsampling... 661  frames from the video.\n"
     ]
    },
    {
     "name": "stderr",
     "output_type": "stream",
     "text": [
      "661it [00:17, 37.37it/s]\n"
     ]
    },
    {
     "name": "stdout",
     "output_type": "stream",
     "text": [
      "Kmeans clustering ... (this might take a while)\n",
      "Let's select frames indices: [8904, 731, 1106, 1077, 1175, 168, 1211, 647, 3900, 56]\n",
      "Creating the symbolic link of the video\n",
      "AUTOMATIC ADDING OF VIDEO TO CONFIG FILE FAILED! You need to do this manually for including it in the config.yaml file!\n",
      "Videopath: Y://classical_fear_conditionning/Rat09-20201118\\Rat09_201118_170529\\Basler_acA1300-200uc__23039139__20201118_170532638.mp4 Coordinates for cropping: (531, 872, 216, 557)\n",
      "The outlier frames are extracted. They are stored in the subdirectory labeled-data\\Basler_acA1300-200uc__23039139__20201118_170532638.\n",
      "Once you extracted frames for all videos, use 'refine_labels' to manually correct the labels.\n",
      "Method  jump  found  990  putative outlier frames.\n",
      "Do you want to proceed with extracting  10  of those?\n",
      "If this list is very large, perhaps consider changing the parameters (start, stop, p_bound, comparisonbodyparts) or use a different method.\n"
     ]
    },
    {
     "name": "stdin",
     "output_type": "stream",
     "text": [
      "yes/no yes\n"
     ]
    },
    {
     "name": "stdout",
     "output_type": "stream",
     "text": [
      "Frames from video Basler_acA1300-200uc__23039139__20201118_180815777  already extracted (more will be added)!\n",
      "Loading video...\n"
     ]
    },
    {
     "name": "stderr",
     "output_type": "stream",
     "text": [
      "2it [00:00, 17.63it/s]"
     ]
    },
    {
     "name": "stdout",
     "output_type": "stream",
     "text": [
      "Duration of video [s]:  607.434 , recorded @  30.0 fps!\n",
      "Overall # of frames:  18223 with (cropped) frame dimensions: \n",
      "Kmeans-quantization based extracting of frames from 0.0  seconds to 607.43  seconds.\n",
      "Extracting and downsampling... 990  frames from the video.\n"
     ]
    },
    {
     "name": "stderr",
     "output_type": "stream",
     "text": [
      "990it [00:26, 37.49it/s]\n"
     ]
    },
    {
     "name": "stdout",
     "output_type": "stream",
     "text": [
      "Kmeans clustering ... (this might take a while)\n",
      "Let's select frames indices: [2514, 103, 927, 16416, 883, 2789, 872, 931, 10567, 890]\n",
      "Creating the symbolic link of the video\n",
      "AUTOMATIC ADDING OF VIDEO TO CONFIG FILE FAILED! You need to do this manually for including it in the config.yaml file!\n",
      "Videopath: Y://classical_fear_conditionning/Rat09-20201118\\Rat09_201118_180813\\Basler_acA1300-200uc__23039139__20201118_180815777.mp4 Coordinates for cropping: (415, 947, 133, 424)\n",
      "The outlier frames are extracted. They are stored in the subdirectory labeled-data\\Basler_acA1300-200uc__23039139__20201118_180815777.\n",
      "Once you extracted frames for all videos, use 'refine_labels' to manually correct the labels.\n",
      "Method  jump  found  1427  putative outlier frames.\n",
      "Do you want to proceed with extracting  10  of those?\n",
      "If this list is very large, perhaps consider changing the parameters (start, stop, p_bound, comparisonbodyparts) or use a different method.\n"
     ]
    },
    {
     "name": "stdin",
     "output_type": "stream",
     "text": [
      "yes/no yes\n"
     ]
    },
    {
     "name": "stdout",
     "output_type": "stream",
     "text": [
      "Frames from video Basler_acA1300-200uc__23039139__20201118_111533373  already extracted (more will be added)!\n",
      "Loading video...\n"
     ]
    },
    {
     "name": "stderr",
     "output_type": "stream",
     "text": [
      "1it [00:00,  7.57it/s]"
     ]
    },
    {
     "name": "stdout",
     "output_type": "stream",
     "text": [
      "Duration of video [s]:  602.634 , recorded @  30.0 fps!\n",
      "Overall # of frames:  18079 with (cropped) frame dimensions: \n",
      "Kmeans-quantization based extracting of frames from 0.0  seconds to 602.63  seconds.\n",
      "Extracting and downsampling... 1427  frames from the video.\n"
     ]
    },
    {
     "name": "stderr",
     "output_type": "stream",
     "text": [
      "1427it [00:38, 36.85it/s]\n"
     ]
    },
    {
     "name": "stdout",
     "output_type": "stream",
     "text": [
      "Kmeans clustering ... (this might take a while)\n",
      "Let's select frames indices: [219, 13513, 695, 5390, 581, 718, 472, 2933, 513, 6688]\n",
      "Creating the symbolic link of the video\n",
      "AUTOMATIC ADDING OF VIDEO TO CONFIG FILE FAILED! You need to do this manually for including it in the config.yaml file!\n",
      "Videopath: Y://classical_fear_conditionning/Rat10-20201118\\Rat10_201118_111531\\Basler_acA1300-200uc__23039139__20201118_111533373.mp4 Coordinates for cropping: (498, 985, 152, 471)\n",
      "The outlier frames are extracted. They are stored in the subdirectory labeled-data\\Basler_acA1300-200uc__23039139__20201118_111533373.\n",
      "Once you extracted frames for all videos, use 'refine_labels' to manually correct the labels.\n",
      "Method  jump  found  106  putative outlier frames.\n",
      "Do you want to proceed with extracting  10  of those?\n",
      "If this list is very large, perhaps consider changing the parameters (start, stop, p_bound, comparisonbodyparts) or use a different method.\n"
     ]
    },
    {
     "name": "stdin",
     "output_type": "stream",
     "text": [
      "yes/no yes\n"
     ]
    },
    {
     "name": "stdout",
     "output_type": "stream",
     "text": [
      "Frames from video Basler_acA1300-200uc__23039139__20201118_172030485  already extracted (more will be added)!\n",
      "Loading video...\n",
      "Duration of video [s]:  583.834 , recorded @  30.0 "
     ]
    },
    {
     "name": "stderr",
     "output_type": "stream",
     "text": [
      "2it [00:00, 16.52it/s]"
     ]
    },
    {
     "name": "stdout",
     "output_type": "stream",
     "text": [
      "fps!\n",
      "Overall # of frames:  17515 with (cropped) frame dimensions: \n",
      "Kmeans-quantization based extracting of frames from 0.0  seconds to 583.83  seconds.\n",
      "Extracting and downsampling... 106  frames from the video.\n"
     ]
    },
    {
     "name": "stderr",
     "output_type": "stream",
     "text": [
      "106it [00:02, 40.10it/s]\n"
     ]
    },
    {
     "name": "stdout",
     "output_type": "stream",
     "text": [
      "Kmeans clustering ... (this might take a while)\n",
      "Let's select frames indices: [147, 175, 80, 20, 181, 161, 172, 120, 241, 211]\n",
      "Creating the symbolic link of the video\n",
      "AUTOMATIC ADDING OF VIDEO TO CONFIG FILE FAILED! You need to do this manually for including it in the config.yaml file!\n",
      "Videopath: Y://classical_fear_conditionning/Rat10-20201118\\Rat10_201118_172028\\Basler_acA1300-200uc__23039139__20201118_172030485.mp4 Coordinates for cropping: (586, 922, 213, 540)\n",
      "The outlier frames are extracted. They are stored in the subdirectory labeled-data\\Basler_acA1300-200uc__23039139__20201118_172030485.\n",
      "Once you extracted frames for all videos, use 'refine_labels' to manually correct the labels.\n",
      "Method  jump  found  793  putative outlier frames.\n",
      "Do you want to proceed with extracting  10  of those?\n",
      "If this list is very large, perhaps consider changing the parameters (start, stop, p_bound, comparisonbodyparts) or use a different method.\n"
     ]
    },
    {
     "name": "stdin",
     "output_type": "stream",
     "text": [
      "yes/no yes\n"
     ]
    },
    {
     "name": "stdout",
     "output_type": "stream",
     "text": [
      "Frames from video Basler_acA1300-200uc__23039139__20201118_182236751  already extracted (more will be added)!\n",
      "Loading video...\n"
     ]
    },
    {
     "name": "stderr",
     "output_type": "stream",
     "text": [
      "2it [00:00, 16.51it/s]"
     ]
    },
    {
     "name": "stdout",
     "output_type": "stream",
     "text": [
      "Duration of video [s]:  598.734 , recorded @  30.0 fps!\n",
      "Overall # of frames:  17962 with (cropped) frame dimensions: \n",
      "Kmeans-quantization based extracting of frames from 0.0  seconds to 598.73  seconds.\n",
      "Extracting and downsampling... 793  frames from the video.\n"
     ]
    },
    {
     "name": "stderr",
     "output_type": "stream",
     "text": [
      "793it [00:20, 39.28it/s]\n"
     ]
    },
    {
     "name": "stdout",
     "output_type": "stream",
     "text": [
      "Kmeans clustering ... (this might take a while)\n",
      "Let's select frames indices: [316, 16369, 502, 423, 7277, 13176, 17637, 7842, 24, 13112]\n",
      "Creating the symbolic link of the video\n",
      "AUTOMATIC ADDING OF VIDEO TO CONFIG FILE FAILED! You need to do this manually for including it in the config.yaml file!\n",
      "Videopath: Y://classical_fear_conditionning/Rat10-20201118\\Rat10_201118_182234\\Basler_acA1300-200uc__23039139__20201118_182236751.mp4 Coordinates for cropping: (442, 955, 136, 438)\n",
      "The outlier frames are extracted. They are stored in the subdirectory labeled-data\\Basler_acA1300-200uc__23039139__20201118_182236751.\n",
      "Once you extracted frames for all videos, use 'refine_labels' to manually correct the labels.\n",
      "Method  jump  found  882  putative outlier frames.\n",
      "Do you want to proceed with extracting  10  of those?\n",
      "If this list is very large, perhaps consider changing the parameters (start, stop, p_bound, comparisonbodyparts) or use a different method.\n"
     ]
    },
    {
     "name": "stdin",
     "output_type": "stream",
     "text": [
      "yes/no yes\n"
     ]
    },
    {
     "name": "stdout",
     "output_type": "stream",
     "text": [
      "Frames from video Basler_acA1300-200uc__23039139__20201117_112134026  already extracted (more will be added)!\n",
      "Loading video...\n",
      "Duration of video [s]:  606.667 , recorded @  30.0 fps!\n",
      "Overall # of frames:  18200 with (cropped) frame dimensions: \n",
      "Kmeans-quantization based extracting of frames from 0.0  seconds to "
     ]
    },
    {
     "name": "stderr",
     "output_type": "stream",
     "text": [
      "8it [00:00, 30.77it/s]"
     ]
    },
    {
     "name": "stdout",
     "output_type": "stream",
     "text": [
      "606.67  seconds.\n",
      "Extracting and downsampling... 882  frames from the video.\n"
     ]
    },
    {
     "name": "stderr",
     "output_type": "stream",
     "text": [
      "882it [00:22, 39.49it/s]\n"
     ]
    },
    {
     "name": "stdout",
     "output_type": "stream",
     "text": [
      "Kmeans clustering ... (this might take a while)\n",
      "Let's select frames indices: [9913, 692, 14724, 15310, 9921, 16922, 314, 5293, 9941, 2371]\n",
      "Creating the symbolic link of the video\n",
      "AUTOMATIC ADDING OF VIDEO TO CONFIG FILE FAILED! You need to do this manually for including it in the config.yaml file!\n",
      "Videopath: Y://classical_fear_conditionning/Rat11-20201117\\Rat11_201117_112130\\Basler_acA1300-200uc__23039139__20201117_112134026.mp4 Coordinates for cropping: (495, 999, 183, 468)\n",
      "The outlier frames are extracted. They are stored in the subdirectory labeled-data\\Basler_acA1300-200uc__23039139__20201117_112134026.\n",
      "Once you extracted frames for all videos, use 'refine_labels' to manually correct the labels.\n",
      "Method  jump  found  370  putative outlier frames.\n",
      "Do you want to proceed with extracting  10  of those?\n",
      "If this list is very large, perhaps consider changing the parameters (start, stop, p_bound, comparisonbodyparts) or use a different method.\n"
     ]
    },
    {
     "name": "stdin",
     "output_type": "stream",
     "text": [
      "yes/no yes\n"
     ]
    },
    {
     "name": "stdout",
     "output_type": "stream",
     "text": [
      "Frames from video Basler_acA1300-200uc__23039139__20201117_172708091  already extracted (more will be added)!\n",
      "Loading video...\n",
      "Duration of video [s]:  608.234 , recorded @  30.0 fps!\n"
     ]
    },
    {
     "name": "stderr",
     "output_type": "stream",
     "text": [
      "2it [00:00, 18.01it/s]"
     ]
    },
    {
     "name": "stdout",
     "output_type": "stream",
     "text": [
      "Overall # of frames:  18247 with (cropped) frame dimensions: \n",
      "Kmeans-quantization based extracting of frames from 0.0  seconds to 608.23  seconds.\n",
      "Extracting and downsampling... 370  frames from the video.\n"
     ]
    },
    {
     "name": "stderr",
     "output_type": "stream",
     "text": [
      "370it [00:09, 37.16it/s]\n"
     ]
    },
    {
     "name": "stdout",
     "output_type": "stream",
     "text": [
      "Kmeans clustering ... (this might take a while)\n",
      "Let's select frames indices: [235, 8576, 17129, 803, 414, 10289, 766, 9315, 284, 999]\n",
      "Creating the symbolic link of the video\n",
      "AUTOMATIC ADDING OF VIDEO TO CONFIG FILE FAILED! You need to do this manually for including it in the config.yaml file!\n",
      "Videopath: Y://classical_fear_conditionning/Rat11-20201117\\Rat11_201117_172705\\Basler_acA1300-200uc__23039139__20201117_172708091.mp4 Coordinates for cropping: (489, 1002, 183, 477)\n",
      "The outlier frames are extracted. They are stored in the subdirectory labeled-data\\Basler_acA1300-200uc__23039139__20201117_172708091.\n",
      "Once you extracted frames for all videos, use 'refine_labels' to manually correct the labels.\n",
      "Method  jump  found  290  putative outlier frames.\n",
      "Do you want to proceed with extracting  10  of those?\n",
      "If this list is very large, perhaps consider changing the parameters (start, stop, p_bound, comparisonbodyparts) or use a different method.\n"
     ]
    },
    {
     "name": "stdin",
     "output_type": "stream",
     "text": [
      "yes/no yes\n"
     ]
    },
    {
     "name": "stdout",
     "output_type": "stream",
     "text": [
      "Frames from video Basler_acA1300-200uc__23039139__20201117_183015528  already extracted (more will be added)!\n",
      "Loading video...\n"
     ]
    },
    {
     "name": "stderr",
     "output_type": "stream",
     "text": [
      "2it [00:00, 19.38it/s]"
     ]
    },
    {
     "name": "stdout",
     "output_type": "stream",
     "text": [
      "Duration of video [s]:  602.634 , recorded @  30.0 fps!\n",
      "Overall # of frames:  18079 with (cropped) frame dimensions: \n",
      "Kmeans-quantization based extracting of frames from 0.0  seconds to 602.63  seconds.\n",
      "Extracting and downsampling... 290  frames from the video.\n"
     ]
    },
    {
     "name": "stderr",
     "output_type": "stream",
     "text": [
      "290it [00:07, 40.96it/s]\n"
     ]
    },
    {
     "name": "stdout",
     "output_type": "stream",
     "text": [
      "Kmeans clustering ... (this might take a while)\n",
      "Let's select frames indices: [456, 243, 322, 465, 529, 365, 485, 175, 356, 1245]\n",
      "Creating the symbolic link of the video\n",
      "AUTOMATIC ADDING OF VIDEO TO CONFIG FILE FAILED! You need to do this manually for including it in the config.yaml file!\n",
      "Videopath: Y://classical_fear_conditionning/Rat11-20201117\\Rat11_201117_183012\\Basler_acA1300-200uc__23039139__20201117_183015528.mp4 Coordinates for cropping: (539, 874, 233, 540)\n",
      "The outlier frames are extracted. They are stored in the subdirectory labeled-data\\Basler_acA1300-200uc__23039139__20201117_183015528.\n",
      "Once you extracted frames for all videos, use 'refine_labels' to manually correct the labels.\n",
      "Method  jump  found  2403  putative outlier frames.\n",
      "Do you want to proceed with extracting  10  of those?\n",
      "If this list is very large, perhaps consider changing the parameters (start, stop, p_bound, comparisonbodyparts) or use a different method.\n"
     ]
    },
    {
     "name": "stdin",
     "output_type": "stream",
     "text": [
      "yes/no yes\n"
     ]
    },
    {
     "name": "stdout",
     "output_type": "stream",
     "text": [
      "Loading video...\n"
     ]
    },
    {
     "name": "stderr",
     "output_type": "stream",
     "text": [
      "1it [00:00,  8.97it/s]"
     ]
    },
    {
     "name": "stdout",
     "output_type": "stream",
     "text": [
      "Duration of video [s]:  639.834 , recorded @  30.0 fps!\n",
      "Overall # of frames:  19195 with (cropped) frame dimensions: \n",
      "Kmeans-quantization based extracting of frames from 0.0  seconds to 639.83  seconds.\n",
      "Extracting and downsampling... 2403  frames from the video.\n"
     ]
    },
    {
     "name": "stderr",
     "output_type": "stream",
     "text": [
      "2403it [01:00, 40.01it/s]\n"
     ]
    },
    {
     "name": "stdout",
     "output_type": "stream",
     "text": [
      "Kmeans clustering ... (this might take a while)\n",
      "Let's select frames indices: [553, 6112, 870, 452, 10141, 873, 3418, 14727, 422, 152]\n",
      "Creating the symbolic link of the video\n",
      "AUTOMATIC ADDING OF VIDEO TO CONFIG FILE FAILED! You need to do this manually for including it in the config.yaml file!\n",
      "Videopath: Y://classical_fear_conditionning/Rat18-20201216\\Rat18_201216_115232\\Basler_acA1300-200uc__23039139__20201216_115234548.mp4 Coordinates for cropping: (453, 949, 219, 496)\n",
      "The outlier frames are extracted. They are stored in the subdirectory labeled-data\\Basler_acA1300-200uc__23039139__20201216_115234548.\n",
      "Once you extracted frames for all videos, use 'refine_labels' to manually correct the labels.\n",
      "Method  jump  found  2760  putative outlier frames.\n",
      "Do you want to proceed with extracting  10  of those?\n",
      "If this list is very large, perhaps consider changing the parameters (start, stop, p_bound, comparisonbodyparts) or use a different method.\n"
     ]
    },
    {
     "name": "stdin",
     "output_type": "stream",
     "text": [
      "yes/no yes\n"
     ]
    },
    {
     "name": "stdout",
     "output_type": "stream",
     "text": [
      "Loading video...\n"
     ]
    },
    {
     "name": "stderr",
     "output_type": "stream",
     "text": [
      "1it [00:00,  9.14it/s]"
     ]
    },
    {
     "name": "stdout",
     "output_type": "stream",
     "text": [
      "Duration of video [s]:  647.434 , recorded @  30.0 fps!\n",
      "Overall # of frames:  19423 with (cropped) frame dimensions: \n",
      "Kmeans-quantization based extracting of frames from 0.0  seconds to 647.43  seconds.\n",
      "Extracting and downsampling... 2760  frames from the video.\n"
     ]
    },
    {
     "name": "stderr",
     "output_type": "stream",
     "text": [
      "2760it [01:09, 39.99it/s]\n"
     ]
    },
    {
     "name": "stdout",
     "output_type": "stream",
     "text": [
      "Kmeans clustering ... (this might take a while)\n",
      "Let's select frames indices: [8205, 209, 8692, 9780, 840, 554, 18080, 450, 2936, 506]\n",
      "Creating the symbolic link of the video\n",
      "AUTOMATIC ADDING OF VIDEO TO CONFIG FILE FAILED! You need to do this manually for including it in the config.yaml file!\n",
      "Videopath: Y://classical_fear_conditionning/Rat18-20201216\\Rat18_201216_160525\\Basler_acA1300-200uc__23039139__20201216_160527476.mp4 Coordinates for cropping: (509, 841, 241, 571)\n",
      "The outlier frames are extracted. They are stored in the subdirectory labeled-data\\Basler_acA1300-200uc__23039139__20201216_160527476.\n",
      "Once you extracted frames for all videos, use 'refine_labels' to manually correct the labels.\n",
      "Method  jump  found  1863  putative outlier frames.\n",
      "Do you want to proceed with extracting  10  of those?\n",
      "If this list is very large, perhaps consider changing the parameters (start, stop, p_bound, comparisonbodyparts) or use a different method.\n"
     ]
    },
    {
     "name": "stdin",
     "output_type": "stream",
     "text": [
      "yes/no yes\n"
     ]
    },
    {
     "name": "stdout",
     "output_type": "stream",
     "text": [
      "Loading video...\n"
     ]
    },
    {
     "name": "stderr",
     "output_type": "stream",
     "text": [
      "1it [00:00,  9.88it/s]"
     ]
    },
    {
     "name": "stdout",
     "output_type": "stream",
     "text": [
      "Duration of video [s]:  629.534 , recorded @  30.0 fps!\n",
      "Overall # of frames:  18886 with (cropped) frame dimensions: \n",
      "Kmeans-quantization based extracting of frames from 0.0  seconds to 629.53  seconds.\n",
      "Extracting and downsampling... 1863  frames from the video.\n"
     ]
    },
    {
     "name": "stderr",
     "output_type": "stream",
     "text": [
      "1863it [00:48, 38.24it/s]\n"
     ]
    },
    {
     "name": "stdout",
     "output_type": "stream",
     "text": [
      "Kmeans clustering ... (this might take a while)\n",
      "Let's select frames indices: [273, 375, 231, 418, 7067, 429, 89, 309, 398]\n",
      "Creating the symbolic link of the video\n",
      "AUTOMATIC ADDING OF VIDEO TO CONFIG FILE FAILED! You need to do this manually for including it in the config.yaml file!\n",
      "Videopath: Y://classical_fear_conditionning/Rat18-20201216\\Rat18_201216_171056\\Basler_acA1300-200uc__23039139__20201216_171058405.mp4 Coordinates for cropping: (437, 960, 247, 518)\n",
      "The outlier frames are extracted. They are stored in the subdirectory labeled-data\\Basler_acA1300-200uc__23039139__20201216_171058405.\n",
      "Once you extracted frames for all videos, use 'refine_labels' to manually correct the labels.\n",
      "Method  jump  found  467  putative outlier frames.\n",
      "Do you want to proceed with extracting  10  of those?\n",
      "If this list is very large, perhaps consider changing the parameters (start, stop, p_bound, comparisonbodyparts) or use a different method.\n"
     ]
    },
    {
     "name": "stdin",
     "output_type": "stream",
     "text": [
      "yes/no yes\n"
     ]
    },
    {
     "name": "stdout",
     "output_type": "stream",
     "text": [
      "Loading video...\n",
      "Duration of video [s]:  622.2 , recorded @ "
     ]
    },
    {
     "name": "stderr",
     "output_type": "stream",
     "text": [
      "2it [00:00, 17.92it/s]"
     ]
    },
    {
     "name": "stdout",
     "output_type": "stream",
     "text": [
      " 30.0 fps!\n",
      "Overall # of frames:  18666 with (cropped) frame dimensions: \n",
      "Kmeans-quantization based extracting of frames from 0.0  seconds to 622.2  seconds.\n",
      "Extracting and downsampling... 467  frames from the video.\n"
     ]
    },
    {
     "name": "stderr",
     "output_type": "stream",
     "text": [
      "467it [00:14, 32.02it/s]\n"
     ]
    },
    {
     "name": "stdout",
     "output_type": "stream",
     "text": [
      "Kmeans clustering ... (this might take a while)\n",
      "Let's select frames indices: [193, 8329, 319, 34, 228, 112, 335, 148, 106, 3429]\n",
      "Creating the symbolic link of the video\n",
      "AUTOMATIC ADDING OF VIDEO TO CONFIG FILE FAILED! You need to do this manually for including it in the config.yaml file!\n",
      "Videopath: Y://classical_fear_conditionning/Rat19-20201217\\Rat19_201217_115246\\Basler_acA1300-200uc__23039139__20201217_115249031.mp4 Coordinates for cropping: (440, 960, 241, 524)\n",
      "The outlier frames are extracted. They are stored in the subdirectory labeled-data\\Basler_acA1300-200uc__23039139__20201217_115249031.\n",
      "Once you extracted frames for all videos, use 'refine_labels' to manually correct the labels.\n",
      "Method  jump  found  3922  putative outlier frames.\n",
      "Do you want to proceed with extracting  10  of those?\n",
      "If this list is very large, perhaps consider changing the parameters (start, stop, p_bound, comparisonbodyparts) or use a different method.\n"
     ]
    },
    {
     "name": "stdin",
     "output_type": "stream",
     "text": [
      "yes/no yes\n"
     ]
    },
    {
     "name": "stdout",
     "output_type": "stream",
     "text": [
      "Loading video...\n"
     ]
    },
    {
     "name": "stderr",
     "output_type": "stream",
     "text": [
      "1it [00:00,  9.67it/s]"
     ]
    },
    {
     "name": "stdout",
     "output_type": "stream",
     "text": [
      "Duration of video [s]:  625.834 , recorded @  30.0 fps!\n",
      "Overall # of frames:  18775 with (cropped) frame dimensions: \n",
      "Kmeans-quantization based extracting of frames from 0.0  seconds to 625.83  seconds.\n",
      "Extracting and downsampling... 3922  frames from the video.\n"
     ]
    },
    {
     "name": "stderr",
     "output_type": "stream",
     "text": [
      "3922it [01:37, 40.15it/s]\n"
     ]
    },
    {
     "name": "stdout",
     "output_type": "stream",
     "text": [
      "Kmeans clustering ... (this might take a while)\n",
      "Let's select frames indices: [4380, 234, 2135, 5640, 91, 17304, 16857, 11716, 152, 357]\n",
      "Creating the symbolic link of the video\n",
      "AUTOMATIC ADDING OF VIDEO TO CONFIG FILE FAILED! You need to do this manually for including it in the config.yaml file!\n",
      "Videopath: Y://classical_fear_conditionning/Rat19-20201217\\Rat19_201217_162502\\Basler_acA1300-200uc__23039139__20201217_162504659.mp4 Coordinates for cropping: (437, 952, 236, 524)\n",
      "The outlier frames are extracted. They are stored in the subdirectory labeled-data\\Basler_acA1300-200uc__23039139__20201217_162504659.\n",
      "Once you extracted frames for all videos, use 'refine_labels' to manually correct the labels.\n",
      "Method  jump  found  2715  putative outlier frames.\n",
      "Do you want to proceed with extracting  10  of those?\n",
      "If this list is very large, perhaps consider changing the parameters (start, stop, p_bound, comparisonbodyparts) or use a different method.\n"
     ]
    },
    {
     "name": "stdin",
     "output_type": "stream",
     "text": [
      "yes/no yes\n"
     ]
    },
    {
     "name": "stdout",
     "output_type": "stream",
     "text": [
      "Loading video...\n"
     ]
    },
    {
     "name": "stderr",
     "output_type": "stream",
     "text": [
      "1it [00:00,  8.99it/s]"
     ]
    },
    {
     "name": "stdout",
     "output_type": "stream",
     "text": [
      "Duration of video [s]:  653.767 , recorded @  30.0 fps!\n",
      "Overall # of frames:  19613 with (cropped) frame dimensions: \n",
      "Kmeans-quantization based extracting of frames from 0.0  seconds to 653.77  seconds.\n",
      "Extracting and downsampling... 2715  frames from the video.\n"
     ]
    },
    {
     "name": "stderr",
     "output_type": "stream",
     "text": [
      "2715it [01:08, 39.79it/s]\n"
     ]
    },
    {
     "name": "stdout",
     "output_type": "stream",
     "text": [
      "Kmeans clustering ... (this might take a while)\n",
      "Let's select frames indices: [10119, 696, 460, 713, 13630, 582, 1032, 11047, 339, 524]\n",
      "Creating the symbolic link of the video\n",
      "AUTOMATIC ADDING OF VIDEO TO CONFIG FILE FAILED! You need to do this manually for including it in the config.yaml file!\n",
      "Videopath: Y://classical_fear_conditionning/Rat19-20201217\\Rat19_201217_171115\\Basler_acA1300-200uc__23039139__20201217_171117978.mp4 Coordinates for cropping: (556, 850, 197, 496)\n",
      "The outlier frames are extracted. They are stored in the subdirectory labeled-data\\Basler_acA1300-200uc__23039139__20201217_171117978.\n",
      "Once you extracted frames for all videos, use 'refine_labels' to manually correct the labels.\n",
      "Method  jump  found  1341  putative outlier frames.\n",
      "Do you want to proceed with extracting  10  of those?\n",
      "If this list is very large, perhaps consider changing the parameters (start, stop, p_bound, comparisonbodyparts) or use a different method.\n"
     ]
    },
    {
     "name": "stdin",
     "output_type": "stream",
     "text": [
      "yes/no yes\n"
     ]
    },
    {
     "name": "stdout",
     "output_type": "stream",
     "text": [
      "Loading video...\n"
     ]
    },
    {
     "name": "stderr",
     "output_type": "stream",
     "text": [
      "2it [00:00, 18.30it/s]"
     ]
    },
    {
     "name": "stdout",
     "output_type": "stream",
     "text": [
      "Duration of video [s]:  637.1 , recorded @  30.0 fps!\n",
      "Overall # of frames:  19113 with (cropped) frame dimensions: \n",
      "Kmeans-quantization based extracting of frames from 0.0  seconds to 637.1  seconds.\n",
      "Extracting and downsampling... 1341  frames from the video.\n"
     ]
    },
    {
     "name": "stderr",
     "output_type": "stream",
     "text": [
      "1341it [00:35, 38.17it/s]\n"
     ]
    },
    {
     "name": "stdout",
     "output_type": "stream",
     "text": [
      "Kmeans clustering ... (this might take a while)\n",
      "Let's select frames indices: [18388, 457, 809, 586, 454, 399, 224, 9501, 821, 3452]\n",
      "Creating the symbolic link of the video\n",
      "AUTOMATIC ADDING OF VIDEO TO CONFIG FILE FAILED! You need to do this manually for including it in the config.yaml file!\n",
      "Videopath: Y://classical_fear_conditionning/Rat20-20201218\\Rat20_201218_115320\\Basler_acA1300-200uc__23039139__20201218_115322857.mp4 Coordinates for cropping: (442, 969, 227, 507)\n",
      "The outlier frames are extracted. They are stored in the subdirectory labeled-data\\Basler_acA1300-200uc__23039139__20201218_115322857.\n",
      "Once you extracted frames for all videos, use 'refine_labels' to manually correct the labels.\n",
      "Method  jump  found  5098  putative outlier frames.\n",
      "Do you want to proceed with extracting  10  of those?\n",
      "If this list is very large, perhaps consider changing the parameters (start, stop, p_bound, comparisonbodyparts) or use a different method.\n"
     ]
    },
    {
     "name": "stdin",
     "output_type": "stream",
     "text": [
      "yes/no yes\n"
     ]
    },
    {
     "name": "stdout",
     "output_type": "stream",
     "text": [
      "Loading video...\n",
      "Duration of video [s]:  652.5 , recorded @  30.0 fps!\n",
      "Overall # of frames:  19575 with (cropped) frame dimensions: \n",
      "Kmeans-quantization based extracting of frames from 0.0  seconds to 652.5  seconds.\n"
     ]
    },
    {
     "name": "stderr",
     "output_type": "stream",
     "text": [
      "1it [00:00,  5.76it/s]"
     ]
    },
    {
     "name": "stdout",
     "output_type": "stream",
     "text": [
      "Extracting and downsampling... 5098  frames from the video.\n"
     ]
    },
    {
     "name": "stderr",
     "output_type": "stream",
     "text": [
      "5098it [02:02, 41.55it/s]\n"
     ]
    },
    {
     "name": "stdout",
     "output_type": "stream",
     "text": [
      "Kmeans clustering ... (this might take a while)\n",
      "Let's select frames indices: [18721, 11324, 3451, 14842, 1720, 16078, 15265, 18026, 761, 15294]\n",
      "Creating the symbolic link of the video\n",
      "AUTOMATIC ADDING OF VIDEO TO CONFIG FILE FAILED! You need to do this manually for including it in the config.yaml file!\n",
      "Videopath: Y://classical_fear_conditionning/Rat20-20201218\\Rat20_201218_163147\\Basler_acA1300-200uc__23039139__20201218_163149355.mp4 Coordinates for cropping: (550, 855, 208, 527)\n",
      "The outlier frames are extracted. They are stored in the subdirectory labeled-data\\Basler_acA1300-200uc__23039139__20201218_163149355.\n",
      "Once you extracted frames for all videos, use 'refine_labels' to manually correct the labels.\n",
      "Method  jump  found  2268  putative outlier frames.\n",
      "Do you want to proceed with extracting  10  of those?\n",
      "If this list is very large, perhaps consider changing the parameters (start, stop, p_bound, comparisonbodyparts) or use a different method.\n"
     ]
    },
    {
     "name": "stdin",
     "output_type": "stream",
     "text": [
      "yes/no yes\n"
     ]
    },
    {
     "name": "stderr",
     "output_type": "stream",
     "text": [
      "1it [00:00,  9.89it/s]"
     ]
    },
    {
     "name": "stdout",
     "output_type": "stream",
     "text": [
      "Loading video...\n",
      "Duration of video [s]:  624.334 , recorded @  30.0 fps!\n",
      "Overall # of frames:  18730 with (cropped) frame dimensions: \n",
      "Kmeans-quantization based extracting of frames from 0.0  seconds to 624.33  seconds.\n",
      "Extracting and downsampling... 2268  frames from the video.\n"
     ]
    },
    {
     "name": "stderr",
     "output_type": "stream",
     "text": [
      "2268it [00:54, 41.40it/s]\n"
     ]
    },
    {
     "name": "stdout",
     "output_type": "stream",
     "text": [
      "Kmeans clustering ... (this might take a while)\n",
      "Let's select frames indices: [17472, 92, 383, 14233, 441, 174, 18642, 17772, 26, 16613]\n",
      "Creating the symbolic link of the video\n",
      "AUTOMATIC ADDING OF VIDEO TO CONFIG FILE FAILED! You need to do this manually for including it in the config.yaml file!\n",
      "Videopath: Y://classical_fear_conditionning/Rat20-20201218\\Rat20_201218_172829\\Basler_acA1300-200uc__23039139__20201218_172831109.mp4 Coordinates for cropping: (442, 947, 230, 502)\n",
      "The outlier frames are extracted. They are stored in the subdirectory labeled-data\\Basler_acA1300-200uc__23039139__20201218_172831109.\n",
      "Once you extracted frames for all videos, use 'refine_labels' to manually correct the labels.\n"
     ]
    }
   ],
   "source": [
    "for v,m in zip(videos,metadata):\n",
    "    with open(m,'rb') as f:\n",
    "        data = pickle.load(f)\n",
    "    x1,x2,y1,y2 = data['data']['cropping_parameters']\n",
    "    \n",
    "    cfg = dlc.utils.auxiliaryfunctions.read_config(config_path)\n",
    "    cfg['x1'] = x1\n",
    "    cfg['x2'] = x2\n",
    "    cfg['y1'] = y1\n",
    "    cfg['y2'] = y2\n",
    "    dlc.utils.auxiliaryfunctions.write_config(config_path,cfg)\n",
    "    \n",
    "    dlc.extract_outlier_frames(config_path,v)"
   ]
  },
  {
   "cell_type": "code",
   "execution_count": 10,
   "metadata": {},
   "outputs": [
    {
     "name": "stderr",
     "output_type": "stream",
     "text": [
      "Config:\n",
      "{'all_joints': [[0], [1], [2], [3], [4]],\n",
      " 'all_joints_names': ['snout', 'left_ear', 'right_ear', 'b_tail', 'e_tail'],\n",
      " 'batch_size': 1,\n",
      " 'crop_pad': 0,\n",
      " 'dataset': 'training-datasets\\\\iteration-3\\\\UnaugmentedDataSet_classical_fear_conditionningNov20\\\\classical_fear_conditionning_Maelle95shuffle1.mat',\n",
      " 'dataset_type': 'imgaug',\n",
      " 'deterministic': False,\n",
      " 'fg_fraction': 0.25,\n",
      " 'global_scale': 0.8,\n",
      " 'init_weights': 'C:\\\\Users\\\\maelle.christiaens\\\\.conda\\\\envs\\\\DLC-GPU\\\\lib\\\\site-packages\\\\deeplabcut\\\\pose_estimation_tensorflow\\\\models\\\\pretrained\\\\resnet_v1_50.ckpt',\n",
      " 'intermediate_supervision': False,\n",
      " 'intermediate_supervision_layer': 12,\n",
      " 'location_refinement': True,\n",
      " 'locref_huber_loss': True,\n",
      " 'locref_loss_weight': 1.0,\n",
      " 'locref_stdev': 7.2801,\n",
      " 'log_dir': 'log',\n",
      " 'mean_pixel': [123.68, 116.779, 103.939],\n",
      " 'mirror': False,\n",
      " 'net_type': 'resnet_50',\n",
      " 'num_joints': 5,\n",
      " 'optimizer': 'sgd',\n",
      " 'pairwise_huber_loss': True,\n",
      " 'pairwise_predict': False,\n",
      " 'partaffinityfield_predict': False,\n",
      " 'regularize': False,\n",
      " 'scoremap_dir': 'test',\n",
      " 'shuffle': True,\n",
      " 'snapshot_prefix': 'E:\\\\classical_fear_conditionning\\\\classical_fear_conditionning-BM-2020-11-20\\\\dlc-models\\\\iteration-3\\\\classical_fear_conditionningNov20-trainset95shuffle1\\\\test\\\\snapshot',\n",
      " 'stride': 8.0,\n",
      " 'weigh_negatives': False,\n",
      " 'weigh_only_present_joints': False,\n",
      " 'weigh_part_predictions': False,\n",
      " 'weight_decay': 0.0001}\n"
     ]
    },
    {
     "name": "stdout",
     "output_type": "stream",
     "text": [
      "E:\\classical_fear_conditionning\\classical_fear_conditionning-BM-2020-11-20/evaluation-results/  already exists!\n",
      "Running  DLC_resnet50_classical_fear_conditionningNov20shuffle1_1030000  with # of trainingiterations: 1030000\n",
      "Initializing ResNet\n"
     ]
    },
    {
     "name": "stderr",
     "output_type": "stream",
     "text": [
      "0it [00:00, ?it/s]"
     ]
    },
    {
     "name": "stdout",
     "output_type": "stream",
     "text": [
      "Analyzing data...\n"
     ]
    },
    {
     "name": "stderr",
     "output_type": "stream",
     "text": [
      "271it [00:06, 41.94it/s]"
     ]
    },
    {
     "name": "stdout",
     "output_type": "stream",
     "text": [
      "Done and results stored for snapshot:  snapshot-1030000\n",
      "Results for 1030000  training iterations: 95 1 train error: 1.44 pixels. Test error: 5.72  pixels.\n",
      "With pcutoff of 0.1  train error: 1.13 pixels. Test error: 5.31 pixels\n",
      "Thereby, the errors are given by the average distances between the labels by DLC and the scorer.\n",
      "The network is evaluated and the results are stored in the subdirectory 'evaluation_results'.\n",
      "If it generalizes well, choose the best model for prediction and update the config file with the appropriate index for the 'snapshotindex'.\n",
      "Use the function 'analyze_video' to make predictions on new videos.\n",
      "Otherwise consider retraining the network (see DeepLabCut workflow Fig 2)\n"
     ]
    },
    {
     "name": "stderr",
     "output_type": "stream",
     "text": [
      "\n"
     ]
    }
   ],
   "source": [
    "dlc.evaluate_network(config_path)"
   ]
  },
  {
   "cell_type": "code",
   "execution_count": null,
   "metadata": {},
   "outputs": [
    {
     "name": "stdout",
     "output_type": "stream",
     "text": [
      "Checking labels if they are outside the image\n",
      "Checking labels if they are outside the image\n",
      "Checking labels if they are outside the image\n",
      "Checking labels if they are outside the image\n",
      "Checking labels if they are outside the image\n",
      "Checking labels if they are outside the image\n",
      "Checking labels if they are outside the image\n",
      "A training dataset file is already found for this video. The refined machine labels are merged to this data!\n",
      "Checking labels if they are outside the image\n",
      "A training dataset file is already found for this video. The refined machine labels are merged to this data!\n",
      "Checking labels if they are outside the image\n",
      "A training dataset file is already found for this video. The refined machine labels are merged to this data!\n",
      "Checking labels if they are outside the image\n",
      "Checking labels if they are outside the image\n",
      "A training dataset file is already found for this video. The refined machine labels are merged to this data!\n",
      "Checking labels if they are outside the image\n",
      "A training dataset file is already found for this video. The refined machine labels are merged to this data!\n",
      "Checking labels if they are outside the image\n",
      "Checking labels if they are outside the image\n",
      "A training dataset file is already found for this video. The refined machine labels are merged to this data!\n",
      "Closing... The refined labels are stored in a subdirectory under labeled-data. Use the function 'merge_datasets' to augment the training dataset, and then re-train a network using create_training_dataset followed by train_network!\n"
     ]
    }
   ],
   "source": [
    "dlc.refine_labels(config_path)"
   ]
  },
  {
   "cell_type": "code",
   "execution_count": 5,
   "metadata": {
    "collapsed": true,
    "jupyter": {
     "outputs_hidden": true
    }
   },
   "outputs": [
    {
     "name": "stdout",
     "output_type": "stream",
     "text": [
      "The following folder was not manually refined,... E:\\classical_fear_conditionning\\classical_fear_conditionning-BM-2020-11-20\\labeled-data\\Basler_acA1300-200uc__23039139__20200707_172932793\n",
      "The following folder was not manually refined,... E:\\classical_fear_conditionning\\classical_fear_conditionning-BM-2020-11-20\\labeled-data\\Basler_acA1300-200uc__23039139__20201109_121631619\n",
      "The following folder was not manually refined,... E:\\classical_fear_conditionning\\classical_fear_conditionning-BM-2020-11-20\\labeled-data\\Basler_acA1300-200uc__23039139__20201109_161956558\n",
      "The following folder was not manually refined,... E:\\classical_fear_conditionning\\classical_fear_conditionning-BM-2020-11-20\\labeled-data\\Basler_acA1300-200uc__23039139__20201109_170654127\n",
      "The following folder was not manually refined,... E:\\classical_fear_conditionning\\classical_fear_conditionning-BM-2020-11-20\\labeled-data\\Basler_acA1300-200uc__23039139__20201109_171631263\n",
      "The following folder was not manually refined,... E:\\classical_fear_conditionning\\classical_fear_conditionning-BM-2020-11-20\\labeled-data\\Basler_acA1300-200uc__23039139__20201110_113811828\n",
      "The following folder was not manually refined,... E:\\classical_fear_conditionning\\classical_fear_conditionning-BM-2020-11-20\\labeled-data\\Basler_acA1300-200uc__23039139__20201110_153159547\n",
      "The following folder was not manually refined,... E:\\classical_fear_conditionning\\classical_fear_conditionning-BM-2020-11-20\\labeled-data\\Basler_acA1300-200uc__23039139__20201110_161906309\n",
      "The following folder was not manually refined,... E:\\classical_fear_conditionning\\classical_fear_conditionning-BM-2020-11-20\\labeled-data\\Basler_acA1300-200uc__23039139__20201117_110149796\n",
      "The following folder was not manually refined,... E:\\classical_fear_conditionning\\classical_fear_conditionning-BM-2020-11-20\\labeled-data\\Basler_acA1300-200uc__23039139__20201117_112134026\n",
      "The following folder was not manually refined,... E:\\classical_fear_conditionning\\classical_fear_conditionning-BM-2020-11-20\\labeled-data\\Basler_acA1300-200uc__23039139__20201117_171305839\n",
      "The following folder was not manually refined,... E:\\classical_fear_conditionning\\classical_fear_conditionning-BM-2020-11-20\\labeled-data\\Basler_acA1300-200uc__23039139__20201117_172708091\n",
      "The following folder was not manually refined,... E:\\classical_fear_conditionning\\classical_fear_conditionning-BM-2020-11-20\\labeled-data\\Basler_acA1300-200uc__23039139__20201117_183015528\n",
      "The following folder was not manually refined,... E:\\classical_fear_conditionning\\classical_fear_conditionning-BM-2020-11-20\\labeled-data\\Basler_acA1300-200uc__23039139__20201118_111533373\n",
      "The following folder was not manually refined,... E:\\classical_fear_conditionning\\classical_fear_conditionning-BM-2020-11-20\\labeled-data\\Basler_acA1300-200uc__23039139__20201130_164007396\n",
      "The following folder was not manually refined,... E:\\classical_fear_conditionning\\classical_fear_conditionning-BM-2020-11-20\\labeled-data\\Basler_acA1300-200uc__23039139__20201201_114229659\n",
      "The following folder was not manually refined,... E:\\classical_fear_conditionning\\classical_fear_conditionning-BM-2020-11-20\\labeled-data\\Basler_acA1300-200uc__23039139__20201201_115716478\n",
      "The following folder was not manually refined,... E:\\classical_fear_conditionning\\classical_fear_conditionning-BM-2020-11-20\\labeled-data\\Basler_acA1300-200uc__23039139__20201201_155058121\n",
      "The following folder was not manually refined,... E:\\classical_fear_conditionning\\classical_fear_conditionning-BM-2020-11-20\\labeled-data\\Basler_acA1300-200uc__23039139__20201201_171014184\n",
      "The following folder was not manually refined,... E:\\classical_fear_conditionning\\classical_fear_conditionning-BM-2020-11-20\\labeled-data\\Basler_acA1300-200uc__23039139__20201201_171741115\n",
      "The following folder was not manually refined,... E:\\classical_fear_conditionning\\classical_fear_conditionning-BM-2020-11-20\\labeled-data\\Basler_acA1300-200uc__23039139__20201201_172745824\n",
      "The following folder was not manually refined,... E:\\classical_fear_conditionning\\classical_fear_conditionning-BM-2020-11-20\\labeled-data\\Basler_acA1300-200uc__23039139__20201202_132311436\n",
      "The following folder was not manually refined,... E:\\classical_fear_conditionning\\classical_fear_conditionning-BM-2020-11-20\\labeled-data\\Basler_acA1300-200uc__23039139__20201202_171555498\n",
      "The following folder was not manually refined,... E:\\classical_fear_conditionning\\classical_fear_conditionning-BM-2020-11-20\\labeled-data\\Basler_acA1300-200uc__23039139__20201202_182209029\n",
      "The following folder was not manually refined,... E:\\classical_fear_conditionning\\classical_fear_conditionning-BM-2020-11-20\\labeled-data\\Basler_acA1300-200uc__23039139__20201202_183406294\n",
      "The following folder was not manually refined,... E:\\classical_fear_conditionning\\classical_fear_conditionning-BM-2020-11-20\\labeled-data\\Basler_acA1300-200uc__23039139__20201203_112543520\n",
      "The following folder was not manually refined,... E:\\classical_fear_conditionning\\classical_fear_conditionning-BM-2020-11-20\\labeled-data\\Basler_acA1300-200uc__23039139__20201203_154217024\n",
      "The following folder was not manually refined,... E:\\classical_fear_conditionning\\classical_fear_conditionning-BM-2020-11-20\\labeled-data\\Basler_acA1300-200uc__23039139__20201203_164208326\n",
      "The following folder was not manually refined,... E:\\classical_fear_conditionning\\classical_fear_conditionning-BM-2020-11-20\\labeled-data\\Basler_acA1300-200uc__23039139__20201203_165206485\n",
      "The following folder was not manually refined,... E:\\classical_fear_conditionning\\classical_fear_conditionning-BM-2020-11-20\\labeled-data\\Basler_acA1300-200uc__23039139__20201204_113501813\n",
      "The following folder was not manually refined,... E:\\classical_fear_conditionning\\classical_fear_conditionning-BM-2020-11-20\\labeled-data\\Basler_acA1300-200uc__23039139__20201204_161901930\n",
      "The following folder was not manually refined,... E:\\classical_fear_conditionning\\classical_fear_conditionning-BM-2020-11-20\\labeled-data\\Basler_acA1300-200uc__23039139__20201204_172711737\n",
      "The following folder was not manually refined,... E:\\classical_fear_conditionning\\classical_fear_conditionning-BM-2020-11-20\\labeled-data\\Basler_acA1300-200uc__23039139__20201216_115234548\n",
      "The following folder was not manually refined,... E:\\classical_fear_conditionning\\classical_fear_conditionning-BM-2020-11-20\\labeled-data\\Basler_acA1300-200uc__23039139__20201217_162504659\n",
      "The following folder was not manually refined,... E:\\classical_fear_conditionning\\classical_fear_conditionning-BM-2020-11-20\\labeled-data\\test\n",
      "Please label, or remove the un-corrected folders.\n"
     ]
    }
   ],
   "source": [
    "dlc.merge_datasets(config_path)"
   ]
  },
  {
   "cell_type": "code",
   "execution_count": 6,
   "metadata": {
    "collapsed": true,
    "jupyter": {
     "outputs_hidden": true
    }
   },
   "outputs": [
    {
     "name": "stdout",
     "output_type": "stream",
     "text": [
      "Creating images with labels by Maelle.\n",
      "E:\\classical_fear_conditionning\\classical_fear_conditionning-BM-2020-11-20\\labeled-data\\rat01-fear_labeled  already exists!\n"
     ]
    },
    {
     "name": "stderr",
     "output_type": "stream",
     "text": [
      "  0%| | 0/10 [00C:\\Users\\maelle.christiaens\\.conda\\envs\\DLC-GPU\\lib\\site-packages\\deeplabcut\\utils\\visualization.py:305: FutureWarning: Pass-through of possibly RGB images in gray2rgb is deprecated. In version 0.19, input arrays will always be considered grayscale, even if the last dimension has length 3 or 4. To prevent this warning and ensure compatibility with future versions, detect RGB images outside of this function.\n",
      "  im.set_data(color.gray2rgb(ic[i]))\n",
      "100%|█| 10/10 [0\n",
      "  0%| | 0/10 [00"
     ]
    },
    {
     "name": "stdout",
     "output_type": "stream",
     "text": [
      "E:\\classical_fear_conditionning\\classical_fear_conditionning-BM-2020-11-20\\labeled-data\\rat01-tone_labeled  already exists!\n"
     ]
    },
    {
     "name": "stderr",
     "output_type": "stream",
     "text": [
      "C:\\Users\\maelle.christiaens\\.conda\\envs\\DLC-GPU\\lib\\site-packages\\deeplabcut\\utils\\visualization.py:305: FutureWarning: Pass-through of possibly RGB images in gray2rgb is deprecated. In version 0.19, input arrays will always be considered grayscale, even if the last dimension has length 3 or 4. To prevent this warning and ensure compatibility with future versions, detect RGB images outside of this function.\n",
      "  im.set_data(color.gray2rgb(ic[i]))\n",
      "100%|█| 10/10 [0\n",
      "  0%| | 0/10 [00C:\\Users\\maelle.christiaens\\.conda\\envs\\DLC-GPU\\lib\\site-packages\\deeplabcut\\utils\\visualization.py:305: FutureWarning: Pass-through of possibly RGB images in gray2rgb is deprecated. In version 0.19, input arrays will always be considered grayscale, even if the last dimension has length 3 or 4. To prevent this warning and ensure compatibility with future versions, detect RGB images outside of this function.\n",
      "  im.set_data(color.gray2rgb(ic[i]))\n"
     ]
    },
    {
     "name": "stdout",
     "output_type": "stream",
     "text": [
      "E:\\classical_fear_conditionning\\classical_fear_conditionning-BM-2020-11-20\\labeled-data\\rat01-context_labeled  already exists!\n"
     ]
    },
    {
     "name": "stderr",
     "output_type": "stream",
     "text": [
      "100%|█| 10/10 [0\n"
     ]
    },
    {
     "name": "stdout",
     "output_type": "stream",
     "text": [
      "E:\\classical_fear_conditionning\\classical_fear_conditionning-BM-2020-11-20\\labeled-data\\Basler_acA1300-200uc__23039139__20200707_114623419_labeled  already exists!\n"
     ]
    },
    {
     "name": "stderr",
     "output_type": "stream",
     "text": [
      "  0%| | 0/45 [00C:\\Users\\maelle.christiaens\\.conda\\envs\\DLC-GPU\\lib\\site-packages\\deeplabcut\\utils\\visualization.py:305: FutureWarning: Pass-through of possibly RGB images in gray2rgb is deprecated. In version 0.19, input arrays will always be considered grayscale, even if the last dimension has length 3 or 4. To prevent this warning and ensure compatibility with future versions, detect RGB images outside of this function.\n",
      "  im.set_data(color.gray2rgb(ic[i]))\n",
      "100%|█| 45/45 [0\n"
     ]
    },
    {
     "name": "stdout",
     "output_type": "stream",
     "text": [
      "Attention: E:\\classical_fear_conditionning\\classical_fear_conditionning-BM-2020-11-20\\labeled-data\\Basler_acA1300-200uc__23039139__20200707_172932793 does not appear to have labeled data!\n",
      "E:\\classical_fear_conditionning\\classical_fear_conditionning-BM-2020-11-20\\labeled-data\\Basler_acA1300-200uc__23039139__20200707_183434894_labeled  already exists!\n"
     ]
    },
    {
     "name": "stderr",
     "output_type": "stream",
     "text": [
      "100%|█| 47/47 [0\n",
      "  0%| | 0/20 [00"
     ]
    },
    {
     "name": "stdout",
     "output_type": "stream",
     "text": [
      "E:\\classical_fear_conditionning\\classical_fear_conditionning-BM-2020-11-20\\labeled-data\\Basler_acA1300-200uc__23039139__20201118_110005549_labeled  already exists!\n"
     ]
    },
    {
     "name": "stderr",
     "output_type": "stream",
     "text": [
      "100%|█| 20/20 [0\n",
      " 10%| | 2/20 [00"
     ]
    },
    {
     "name": "stdout",
     "output_type": "stream",
     "text": [
      "E:\\classical_fear_conditionning\\classical_fear_conditionning-BM-2020-11-20\\labeled-data\\Basler_acA1300-200uc__23039139__20201118_170532638_labeled  already exists!\n"
     ]
    },
    {
     "name": "stderr",
     "output_type": "stream",
     "text": [
      "100%|█| 20/20 [0\n",
      "100%|█| 20/20 [0\n",
      " 10%| | 2/20 [00"
     ]
    },
    {
     "name": "stdout",
     "output_type": "stream",
     "text": [
      "Attention: E:\\classical_fear_conditionning\\classical_fear_conditionning-BM-2020-11-20\\labeled-data\\Basler_acA1300-200uc__23039139__20201118_111533373 does not appear to have labeled data!\n",
      "E:\\classical_fear_conditionning\\classical_fear_conditionning-BM-2020-11-20\\labeled-data\\Basler_acA1300-200uc__23039139__20201118_172030485_labeled  already exists!\n"
     ]
    },
    {
     "name": "stderr",
     "output_type": "stream",
     "text": [
      "100%|█| 20/20 [0\n"
     ]
    },
    {
     "name": "stdout",
     "output_type": "stream",
     "text": [
      "E:\\classical_fear_conditionning\\classical_fear_conditionning-BM-2020-11-20\\labeled-data\\Basler_acA1300-200uc__23039139__20201118_182236751_labeled  already exists!\n"
     ]
    },
    {
     "name": "stderr",
     "output_type": "stream",
     "text": [
      "100%|█| 20/20 [0\n"
     ]
    },
    {
     "name": "stdout",
     "output_type": "stream",
     "text": [
      "Attention: E:\\classical_fear_conditionning\\classical_fear_conditionning-BM-2020-11-20\\labeled-data\\Basler_acA1300-200uc__23039139__20201117_112134026 does not appear to have labeled data!\n",
      "Attention: E:\\classical_fear_conditionning\\classical_fear_conditionning-BM-2020-11-20\\labeled-data\\Basler_acA1300-200uc__23039139__20201117_172708091 does not appear to have labeled data!\n",
      "Attention: E:\\classical_fear_conditionning\\classical_fear_conditionning-BM-2020-11-20\\labeled-data\\Basler_acA1300-200uc__23039139__20201117_183015528 does not appear to have labeled data!\n",
      "Attention: E:\\classical_fear_conditionning\\classical_fear_conditionning-BM-2020-11-20\\labeled-data\\Basler_acA1300-200uc__23039139__20201117_110149796 does not appear to have labeled data!\n",
      "Attention: E:\\classical_fear_conditionning\\classical_fear_conditionning-BM-2020-11-20\\labeled-data\\Basler_acA1300-200uc__23039139__20201117_171305839 does not appear to have labeled data!\n",
      "E:\\classical_fear_conditionning\\classical_fear_conditionning-BM-2020-11-20\\labeled-data\\Basler_acA1300-200uc__23039139__20201117_181456585_labeled  already exists!\n"
     ]
    },
    {
     "name": "stderr",
     "output_type": "stream",
     "text": [
      "100%|█| 49/49 [0"
     ]
    },
    {
     "name": "stdout",
     "output_type": "stream",
     "text": [
      "If all the labels are ok, then use the function 'create_training_dataset' to create the training dataset!\n"
     ]
    },
    {
     "name": "stderr",
     "output_type": "stream",
     "text": [
      "\n"
     ]
    }
   ],
   "source": [
    "dlc.check_labels(config_path)"
   ]
  },
  {
   "cell_type": "code",
   "execution_count": 7,
   "metadata": {
    "collapsed": true,
    "jupyter": {
     "outputs_hidden": true
    }
   },
   "outputs": [
    {
     "name": "stdout",
     "output_type": "stream",
     "text": [
      "E:\\classical_fear_conditionning\\classical_fear_conditionning-BM-2020-11-20\\training-datasets\\iteration-3\\UnaugmentedDataSet_classical_fear_conditionningNov20  already exists!\n",
      "E:\\classical_fear_conditionning\\classical_fear_conditionning-BM-2020-11-20\\labeled-data\\Basler_acA1300-200uc__23039139__20200707_172932793\\CollectedData_Maelle.h5  not found (perhaps not annotated). If training on cropped data, make sure to call `cropimagesandlabels` prior to creating the dataset.\n",
      "E:\\classical_fear_conditionning\\classical_fear_conditionning-BM-2020-11-20\\labeled-data\\Basler_acA1300-200uc__23039139__20201118_111533373\\CollectedData_Maelle.h5  not found (perhaps not annotated). If training on cropped data, make sure to call `cropimagesandlabels` prior to creating the dataset.\n",
      "E:\\classical_fear_conditionning\\classical_fear_conditionning-BM-2020-11-20\\labeled-data\\Basler_acA1300-200uc__23039139__20201117_112134026\\CollectedData_Maelle.h5  not found (perhaps not annotated). If training on cropped data, make sure to call `cropimagesandlabels` prior to creating the dataset.\n",
      "E:\\classical_fear_conditionning\\classical_fear_conditionning-BM-2020-11-20\\labeled-data\\Basler_acA1300-200uc__23039139__20201117_172708091\\CollectedData_Maelle.h5  not found (perhaps not annotated). If training on cropped data, make sure to call `cropimagesandlabels` prior to creating the dataset.\n",
      "E:\\classical_fear_conditionning\\classical_fear_conditionning-BM-2020-11-20\\labeled-data\\Basler_acA1300-200uc__23039139__20201117_183015528\\CollectedData_Maelle.h5  not found (perhaps not annotated). If training on cropped data, make sure to call `cropimagesandlabels` prior to creating the dataset.\n",
      "E:\\classical_fear_conditionning\\classical_fear_conditionning-BM-2020-11-20\\labeled-data\\Basler_acA1300-200uc__23039139__20201117_110149796\\CollectedData_Maelle.h5  not found (perhaps not annotated). If training on cropped data, make sure to call `cropimagesandlabels` prior to creating the dataset.\n",
      "E:\\classical_fear_conditionning\\classical_fear_conditionning-BM-2020-11-20\\labeled-data\\Basler_acA1300-200uc__23039139__20201117_171305839\\CollectedData_Maelle.h5  not found (perhaps not annotated). If training on cropped data, make sure to call `cropimagesandlabels` prior to creating the dataset.\n",
      "E:\\classical_fear_conditionning\\classical_fear_conditionning-BM-2020-11-20\\dlc-models\\iteration-3\\classical_fear_conditionningNov20-trainset95shuffle1  already exists!\n",
      "E:\\classical_fear_conditionning\\classical_fear_conditionning-BM-2020-11-20\\dlc-models\\iteration-3\\classical_fear_conditionningNov20-trainset95shuffle1/train  already exists!\n",
      "E:\\classical_fear_conditionning\\classical_fear_conditionning-BM-2020-11-20\\dlc-models\\iteration-3\\classical_fear_conditionningNov20-trainset95shuffle1/test  already exists!\n",
      "The training dataset is successfully created. Use the function 'train_network' to start training. Happy training!\n"
     ]
    },
    {
     "data": {
      "text/plain": [
       "[(0.95,\n",
       "  1,\n",
       "  (array([214, 107, 246,  34, 166, 208,  91, 131,   4, 143, 180,  62,  93,\n",
       "          204,  69,  54, 190,  52, 258,  21,  79, 244, 186, 122, 210,  53,\n",
       "          105,  81, 242,  14, 124, 101, 142, 193,  65, 170, 172,  51, 130,\n",
       "          239, 141, 213, 179,  40,  74, 111, 219, 121, 109,  43, 194,  88,\n",
       "          247,  37,  45, 115, 234,  13,  28, 125,  18, 265,  63, 181,  23,\n",
       "          253,  96, 222, 201, 202,  80, 196, 205, 228, 259,  33, 151, 226,\n",
       "           57, 197,   5, 257,  47, 241, 264,  84, 183,   2, 165, 154, 162,\n",
       "          184,  83,  99, 133,  90,  85, 159, 137, 248, 120, 110, 232, 114,\n",
       "           67, 106,  41, 240, 220, 163, 250, 224,   8, 175, 108, 221,  92,\n",
       "          211, 238, 102, 262, 177, 263, 164, 169,   6, 135,  89,  76,  94,\n",
       "          260, 167, 158, 182, 146,  59,  31, 192,  95, 139,   1, 270, 236,\n",
       "           42,   7, 195, 129, 206, 134,  61,  24, 132, 251, 188, 152,  39,\n",
       "           49, 243,  55, 147,  22, 215,  75, 199,  82,  48,  38,  25,  10,\n",
       "           15, 176, 136, 237,  19,  98, 119,  26, 127,  66, 178, 128, 168,\n",
       "            9,  17, 116,  46, 225,  64,  68, 185, 161, 144,  29, 117, 123,\n",
       "           20, 233,  97, 217, 112, 261, 255, 212, 200,  44, 256,  58, 191,\n",
       "          174,  11,  78, 227, 148, 173,  60,  35,  16,  77,  72, 187,  71,\n",
       "          252, 126, 149, 268, 153, 140, 249, 156, 203, 216, 138, 104,  70,\n",
       "           50, 267, 229, 160, 223, 254, 100, 269, 235,  56, 266,  73, 155,\n",
       "          198, 207,  86,  12, 209,  32, 103, 189, 230,  87]),\n",
       "   array([150,   0, 113,  36, 145,   3, 157, 218, 118, 231, 245, 171,  30,\n",
       "           27])))]"
      ]
     },
     "execution_count": 7,
     "metadata": {},
     "output_type": "execute_result"
    }
   ],
   "source": [
    "dlc.create_training_dataset(config_path)"
   ]
  },
  {
   "cell_type": "code",
   "execution_count": 8,
   "metadata": {
    "collapsed": true,
    "jupyter": {
     "outputs_hidden": true
    }
   },
   "outputs": [
    {
     "name": "stderr",
     "output_type": "stream",
     "text": [
      "Config:\n",
      "{'all_joints': [[0], [1], [2], [3], [4]],\n",
      " 'all_joints_names': ['snout', 'left_ear', 'right_ear', 'b_tail', 'e_tail'],\n",
      " 'batch_size': 1,\n",
      " 'crop_pad': 0,\n",
      " 'cropratio': 0.4,\n",
      " 'dataset': 'training-datasets\\\\iteration-3\\\\UnaugmentedDataSet_classical_fear_conditionningNov20\\\\classical_fear_conditionning_Maelle95shuffle1.mat',\n",
      " 'dataset_type': 'default',\n",
      " 'deterministic': False,\n",
      " 'display_iters': 1000,\n",
      " 'fg_fraction': 0.25,\n",
      " 'global_scale': 0.8,\n",
      " 'init_weights': 'C:\\\\Users\\\\maelle.christiaens\\\\.conda\\\\envs\\\\DLC-GPU\\\\lib\\\\site-packages\\\\deeplabcut\\\\pose_estimation_tensorflow\\\\models\\\\pretrained\\\\resnet_v1_50.ckpt',\n",
      " 'intermediate_supervision': False,\n",
      " 'intermediate_supervision_layer': 12,\n",
      " 'location_refinement': True,\n",
      " 'locref_huber_loss': True,\n",
      " 'locref_loss_weight': 0.05,\n",
      " 'locref_stdev': 7.2801,\n",
      " 'log_dir': 'log',\n",
      " 'max_input_size': 1500,\n",
      " 'mean_pixel': [123.68, 116.779, 103.939],\n",
      " 'metadataset': 'training-datasets\\\\iteration-3\\\\UnaugmentedDataSet_classical_fear_conditionningNov20\\\\Documentation_data-classical_fear_conditionning_95shuffle1.pickle',\n",
      " 'min_input_size': 64,\n",
      " 'mirror': False,\n",
      " 'multi_step': [[0.005, 10000],\n",
      "                [0.02, 430000],\n",
      "                [0.002, 730000],\n",
      "                [0.001, 1030000]],\n",
      " 'net_type': 'resnet_50',\n",
      " 'num_joints': 5,\n",
      " 'optimizer': 'sgd',\n",
      " 'pairwise_huber_loss': False,\n",
      " 'pairwise_predict': False,\n",
      " 'partaffinityfield_predict': False,\n",
      " 'pos_dist_thresh': 17,\n",
      " 'project_path': 'E:\\\\classical_fear_conditionning\\\\classical_fear_conditionning-BM-2020-11-20',\n",
      " 'regularize': False,\n",
      " 'rotation': 25,\n",
      " 'rotratio': 0.4,\n",
      " 'save_iters': 50000,\n",
      " 'scale_jitter_lo': 0.5,\n",
      " 'scale_jitter_up': 1.25,\n",
      " 'scoremap_dir': 'test',\n",
      " 'shuffle': True,\n",
      " 'snapshot_prefix': 'E:\\\\classical_fear_conditionning\\\\classical_fear_conditionning-BM-2020-11-20\\\\dlc-models\\\\iteration-3\\\\classical_fear_conditionningNov20-trainset95shuffle1\\\\train\\\\snapshot',\n",
      " 'stride': 8.0,\n",
      " 'weigh_negatives': False,\n",
      " 'weigh_only_present_joints': False,\n",
      " 'weigh_part_predictions': False,\n",
      " 'weight_decay': 0.0001}\n"
     ]
    },
    {
     "name": "stdout",
     "output_type": "stream",
     "text": [
      "Selecting single-animal trainer\n",
      "Starting with imgaug pose-dataset loader (=default).\n",
      "Batch Size is 1\n",
      "Initializing ResNet\n",
      "Loading ImageNet-pretrained resnet_50\n",
      "Training parameter:\n",
      "{'stride': 8.0, 'weigh_part_predictions': False, 'weigh_negatives': False, 'fg_fraction': 0.25, 'mean_pixel': [123.68, 116.779, 103.939], 'shuffle': True, 'snapshot_prefix': 'E:\\\\classical_fear_conditionning\\\\classical_fear_conditionning-BM-2020-11-20\\\\dlc-models\\\\iteration-3\\\\classical_fear_conditionningNov20-trainset95shuffle1\\\\train\\\\snapshot', 'log_dir': 'log', 'global_scale': 0.8, 'location_refinement': True, 'locref_stdev': 7.2801, 'locref_loss_weight': 0.05, 'locref_huber_loss': True, 'optimizer': 'sgd', 'intermediate_supervision': False, 'intermediate_supervision_layer': 12, 'regularize': False, 'weight_decay': 0.0001, 'crop_pad': 0, 'scoremap_dir': 'test', 'batch_size': 1, 'dataset_type': 'default', 'deterministic': False, 'mirror': False, 'pairwise_huber_loss': False, 'weigh_only_present_joints': False, 'partaffinityfield_predict': False, 'pairwise_predict': False, 'all_joints': [[0], [1], [2], [3], [4]], 'all_joints_names': ['snout', 'left_ear', 'right_ear', 'b_tail', 'e_tail'], 'cropratio': 0.4, 'dataset': 'training-datasets\\\\iteration-3\\\\UnaugmentedDataSet_classical_fear_conditionningNov20\\\\classical_fear_conditionning_Maelle95shuffle1.mat', 'display_iters': 1000, 'init_weights': 'C:\\\\Users\\\\maelle.christiaens\\\\.conda\\\\envs\\\\DLC-GPU\\\\lib\\\\site-packages\\\\deeplabcut\\\\pose_estimation_tensorflow\\\\models\\\\pretrained\\\\resnet_v1_50.ckpt', 'max_input_size': 1500, 'metadataset': 'training-datasets\\\\iteration-3\\\\UnaugmentedDataSet_classical_fear_conditionningNov20\\\\Documentation_data-classical_fear_conditionning_95shuffle1.pickle', 'min_input_size': 64, 'multi_step': [[0.005, 10000], [0.02, 430000], [0.002, 730000], [0.001, 1030000]], 'net_type': 'resnet_50', 'num_joints': 5, 'pos_dist_thresh': 17, 'project_path': 'E:\\\\classical_fear_conditionning\\\\classical_fear_conditionning-BM-2020-11-20', 'rotation': 25, 'rotratio': 0.4, 'save_iters': 50000, 'scale_jitter_lo': 0.5, 'scale_jitter_up': 1.25, 'covering': True, 'elastic_transform': True, 'motion_blur': True, 'motion_blur_params': {'k': 7, 'angle': [-90, 90]}}\n",
      "Starting training....\n"
     ]
    },
    {
     "name": "stderr",
     "output_type": "stream",
     "text": [
      "iteration: 1000 loss: 0.0465 lr: 0.005\n",
      "iteration: 2000 loss: 0.0351 lr: 0.005\n",
      "iteration: 3000 loss: 0.0307 lr: 0.005\n",
      "iteration: 4000 loss: 0.0268 lr: 0.005\n",
      "iteration: 5000 loss: 0.0242 lr: 0.005\n",
      "iteration: 6000 loss: 0.0232 lr: 0.005\n",
      "iteration: 7000 loss: 0.0215 lr: 0.005\n",
      "iteration: 8000 loss: 0.0199 lr: 0.005\n",
      "iteration: 9000 loss: 0.0192 lr: 0.005\n",
      "iteration: 10000 loss: 0.0182 lr: 0.005\n",
      "iteration: 11000 loss: 0.0233 lr: 0.02\n",
      "iteration: 12000 loss: 0.0201 lr: 0.02\n",
      "iteration: 13000 loss: 0.0185 lr: 0.02\n",
      "iteration: 14000 loss: 0.0172 lr: 0.02\n",
      "iteration: 15000 loss: 0.0159 lr: 0.02\n",
      "iteration: 16000 loss: 0.0158 lr: 0.02\n",
      "iteration: 17000 loss: 0.0147 lr: 0.02\n",
      "iteration: 18000 loss: 0.0142 lr: 0.02\n",
      "iteration: 19000 loss: 0.0133 lr: 0.02\n",
      "iteration: 20000 loss: 0.0129 lr: 0.02\n",
      "iteration: 21000 loss: 0.0129 lr: 0.02\n",
      "iteration: 22000 loss: 0.0125 lr: 0.02\n",
      "iteration: 23000 loss: 0.0116 lr: 0.02\n",
      "iteration: 24000 loss: 0.0115 lr: 0.02\n",
      "iteration: 25000 loss: 0.0115 lr: 0.02\n",
      "iteration: 26000 loss: 0.0110 lr: 0.02\n",
      "iteration: 27000 loss: 0.0107 lr: 0.02\n",
      "iteration: 28000 loss: 0.0105 lr: 0.02\n",
      "iteration: 29000 loss: 0.0104 lr: 0.02\n",
      "iteration: 30000 loss: 0.0103 lr: 0.02\n",
      "iteration: 31000 loss: 0.0102 lr: 0.02\n",
      "iteration: 32000 loss: 0.0102 lr: 0.02\n",
      "iteration: 33000 loss: 0.0096 lr: 0.02\n",
      "iteration: 34000 loss: 0.0097 lr: 0.02\n",
      "iteration: 35000 loss: 0.0097 lr: 0.02\n",
      "iteration: 36000 loss: 0.0093 lr: 0.02\n",
      "iteration: 37000 loss: 0.0093 lr: 0.02\n",
      "iteration: 38000 loss: 0.0093 lr: 0.02\n",
      "iteration: 39000 loss: 0.0090 lr: 0.02\n",
      "iteration: 40000 loss: 0.0088 lr: 0.02\n",
      "iteration: 41000 loss: 0.0091 lr: 0.02\n",
      "iteration: 42000 loss: 0.0087 lr: 0.02\n",
      "iteration: 43000 loss: 0.0089 lr: 0.02\n",
      "iteration: 44000 loss: 0.0086 lr: 0.02\n",
      "iteration: 45000 loss: 0.0088 lr: 0.02\n",
      "iteration: 46000 loss: 0.0086 lr: 0.02\n",
      "iteration: 47000 loss: 0.0084 lr: 0.02\n",
      "iteration: 48000 loss: 0.0085 lr: 0.02\n",
      "iteration: 49000 loss: 0.0083 lr: 0.02\n",
      "iteration: 50000 loss: 0.0082 lr: 0.02\n",
      "iteration: 51000 loss: 0.0082 lr: 0.02\n",
      "iteration: 52000 loss: 0.0082 lr: 0.02\n",
      "iteration: 53000 loss: 0.0086 lr: 0.02\n",
      "iteration: 54000 loss: 0.0081 lr: 0.02\n",
      "iteration: 55000 loss: 0.0079 lr: 0.02\n",
      "iteration: 56000 loss: 0.0082 lr: 0.02\n",
      "iteration: 57000 loss: 0.0079 lr: 0.02\n",
      "iteration: 58000 loss: 0.0080 lr: 0.02\n",
      "iteration: 59000 loss: 0.0078 lr: 0.02\n",
      "iteration: 60000 loss: 0.0077 lr: 0.02\n",
      "iteration: 61000 loss: 0.0078 lr: 0.02\n",
      "iteration: 62000 loss: 0.0074 lr: 0.02\n",
      "iteration: 63000 loss: 0.0080 lr: 0.02\n",
      "iteration: 64000 loss: 0.0077 lr: 0.02\n",
      "iteration: 65000 loss: 0.0076 lr: 0.02\n",
      "iteration: 66000 loss: 0.0076 lr: 0.02\n",
      "iteration: 67000 loss: 0.0075 lr: 0.02\n",
      "iteration: 68000 loss: 0.0073 lr: 0.02\n",
      "iteration: 69000 loss: 0.0075 lr: 0.02\n",
      "iteration: 70000 loss: 0.0076 lr: 0.02\n",
      "iteration: 71000 loss: 0.0073 lr: 0.02\n",
      "iteration: 72000 loss: 0.0073 lr: 0.02\n",
      "iteration: 73000 loss: 0.0073 lr: 0.02\n",
      "iteration: 74000 loss: 0.0072 lr: 0.02\n",
      "iteration: 75000 loss: 0.0072 lr: 0.02\n",
      "iteration: 76000 loss: 0.0071 lr: 0.02\n",
      "iteration: 77000 loss: 0.0071 lr: 0.02\n",
      "iteration: 78000 loss: 0.0073 lr: 0.02\n",
      "iteration: 79000 loss: 0.0071 lr: 0.02\n",
      "iteration: 80000 loss: 0.0070 lr: 0.02\n",
      "iteration: 81000 loss: 0.0069 lr: 0.02\n",
      "iteration: 82000 loss: 0.0070 lr: 0.02\n",
      "iteration: 83000 loss: 0.0071 lr: 0.02\n",
      "iteration: 84000 loss: 0.0071 lr: 0.02\n",
      "iteration: 85000 loss: 0.0069 lr: 0.02\n",
      "iteration: 86000 loss: 0.0069 lr: 0.02\n",
      "iteration: 87000 loss: 0.0071 lr: 0.02\n",
      "iteration: 88000 loss: 0.0070 lr: 0.02\n",
      "iteration: 89000 loss: 0.0069 lr: 0.02\n",
      "iteration: 90000 loss: 0.0069 lr: 0.02\n",
      "iteration: 91000 loss: 0.0067 lr: 0.02\n",
      "iteration: 92000 loss: 0.0071 lr: 0.02\n",
      "iteration: 93000 loss: 0.0067 lr: 0.02\n",
      "iteration: 94000 loss: 0.0068 lr: 0.02\n",
      "iteration: 95000 loss: 0.0065 lr: 0.02\n",
      "iteration: 96000 loss: 0.0067 lr: 0.02\n",
      "iteration: 97000 loss: 0.0065 lr: 0.02\n",
      "iteration: 98000 loss: 0.0067 lr: 0.02\n",
      "iteration: 99000 loss: 0.0066 lr: 0.02\n",
      "iteration: 100000 loss: 0.0065 lr: 0.02\n",
      "iteration: 101000 loss: 0.0067 lr: 0.02\n",
      "iteration: 102000 loss: 0.0067 lr: 0.02\n",
      "iteration: 103000 loss: 0.0063 lr: 0.02\n",
      "iteration: 104000 loss: 0.0065 lr: 0.02\n",
      "iteration: 105000 loss: 0.0065 lr: 0.02\n",
      "iteration: 106000 loss: 0.0065 lr: 0.02\n",
      "iteration: 107000 loss: 0.0065 lr: 0.02\n",
      "iteration: 108000 loss: 0.0067 lr: 0.02\n",
      "iteration: 109000 loss: 0.0063 lr: 0.02\n",
      "iteration: 110000 loss: 0.0064 lr: 0.02\n",
      "iteration: 111000 loss: 0.0064 lr: 0.02\n",
      "iteration: 112000 loss: 0.0062 lr: 0.02\n",
      "iteration: 113000 loss: 0.0063 lr: 0.02\n",
      "iteration: 114000 loss: 0.0064 lr: 0.02\n",
      "iteration: 115000 loss: 0.0062 lr: 0.02\n",
      "iteration: 116000 loss: 0.0063 lr: 0.02\n",
      "iteration: 117000 loss: 0.0062 lr: 0.02\n",
      "iteration: 118000 loss: 0.0061 lr: 0.02\n",
      "iteration: 119000 loss: 0.0063 lr: 0.02\n",
      "iteration: 120000 loss: 0.0059 lr: 0.02\n",
      "iteration: 121000 loss: 0.0062 lr: 0.02\n",
      "iteration: 122000 loss: 0.0060 lr: 0.02\n",
      "iteration: 123000 loss: 0.0060 lr: 0.02\n",
      "iteration: 124000 loss: 0.0059 lr: 0.02\n",
      "iteration: 125000 loss: 0.0060 lr: 0.02\n",
      "iteration: 126000 loss: 0.0060 lr: 0.02\n",
      "iteration: 127000 loss: 0.0062 lr: 0.02\n",
      "iteration: 128000 loss: 0.0059 lr: 0.02\n",
      "iteration: 129000 loss: 0.0059 lr: 0.02\n",
      "iteration: 130000 loss: 0.0059 lr: 0.02\n",
      "iteration: 131000 loss: 0.0059 lr: 0.02\n",
      "iteration: 132000 loss: 0.0060 lr: 0.02\n",
      "iteration: 133000 loss: 0.0059 lr: 0.02\n",
      "iteration: 134000 loss: 0.0061 lr: 0.02\n",
      "iteration: 135000 loss: 0.0059 lr: 0.02\n",
      "iteration: 136000 loss: 0.0060 lr: 0.02\n",
      "iteration: 137000 loss: 0.0060 lr: 0.02\n",
      "iteration: 138000 loss: 0.0059 lr: 0.02\n",
      "iteration: 139000 loss: 0.0059 lr: 0.02\n",
      "iteration: 140000 loss: 0.0058 lr: 0.02\n",
      "iteration: 141000 loss: 0.0057 lr: 0.02\n",
      "iteration: 142000 loss: 0.0058 lr: 0.02\n",
      "iteration: 143000 loss: 0.0056 lr: 0.02\n",
      "iteration: 144000 loss: 0.0058 lr: 0.02\n",
      "iteration: 145000 loss: 0.0057 lr: 0.02\n",
      "iteration: 146000 loss: 0.0057 lr: 0.02\n",
      "iteration: 147000 loss: 0.0056 lr: 0.02\n",
      "iteration: 148000 loss: 0.0057 lr: 0.02\n",
      "iteration: 149000 loss: 0.0056 lr: 0.02\n",
      "iteration: 150000 loss: 0.0057 lr: 0.02\n",
      "iteration: 151000 loss: 0.0057 lr: 0.02\n",
      "iteration: 152000 loss: 0.0056 lr: 0.02\n",
      "iteration: 153000 loss: 0.0056 lr: 0.02\n",
      "iteration: 154000 loss: 0.0056 lr: 0.02\n",
      "iteration: 155000 loss: 0.0058 lr: 0.02\n",
      "iteration: 156000 loss: 0.0056 lr: 0.02\n",
      "iteration: 157000 loss: 0.0057 lr: 0.02\n",
      "iteration: 158000 loss: 0.0054 lr: 0.02\n",
      "iteration: 159000 loss: 0.0053 lr: 0.02\n",
      "iteration: 160000 loss: 0.0057 lr: 0.02\n",
      "iteration: 161000 loss: 0.0054 lr: 0.02\n",
      "iteration: 162000 loss: 0.0054 lr: 0.02\n",
      "iteration: 163000 loss: 0.0053 lr: 0.02\n",
      "iteration: 164000 loss: 0.0054 lr: 0.02\n",
      "iteration: 165000 loss: 0.0053 lr: 0.02\n",
      "iteration: 166000 loss: 0.0053 lr: 0.02\n",
      "iteration: 167000 loss: 0.0052 lr: 0.02\n",
      "iteration: 168000 loss: 0.0054 lr: 0.02\n",
      "iteration: 169000 loss: 0.0054 lr: 0.02\n",
      "iteration: 170000 loss: 0.0053 lr: 0.02\n",
      "iteration: 171000 loss: 0.0051 lr: 0.02\n",
      "iteration: 172000 loss: 0.0056 lr: 0.02\n",
      "iteration: 173000 loss: 0.0054 lr: 0.02\n",
      "iteration: 174000 loss: 0.0053 lr: 0.02\n",
      "iteration: 175000 loss: 0.0054 lr: 0.02\n",
      "iteration: 176000 loss: 0.0051 lr: 0.02\n",
      "iteration: 177000 loss: 0.0050 lr: 0.02\n",
      "iteration: 178000 loss: 0.0051 lr: 0.02\n",
      "iteration: 179000 loss: 0.0053 lr: 0.02\n",
      "iteration: 180000 loss: 0.0052 lr: 0.02\n",
      "iteration: 181000 loss: 0.0050 lr: 0.02\n",
      "iteration: 182000 loss: 0.0052 lr: 0.02\n",
      "iteration: 183000 loss: 0.0052 lr: 0.02\n",
      "iteration: 184000 loss: 0.0053 lr: 0.02\n",
      "iteration: 185000 loss: 0.0049 lr: 0.02\n",
      "iteration: 186000 loss: 0.0050 lr: 0.02\n",
      "iteration: 187000 loss: 0.0051 lr: 0.02\n",
      "iteration: 188000 loss: 0.0051 lr: 0.02\n",
      "iteration: 189000 loss: 0.0052 lr: 0.02\n",
      "iteration: 190000 loss: 0.0050 lr: 0.02\n",
      "iteration: 191000 loss: 0.0050 lr: 0.02\n",
      "iteration: 192000 loss: 0.0053 lr: 0.02\n",
      "iteration: 193000 loss: 0.0050 lr: 0.02\n",
      "iteration: 194000 loss: 0.0052 lr: 0.02\n",
      "iteration: 195000 loss: 0.0050 lr: 0.02\n",
      "iteration: 196000 loss: 0.0051 lr: 0.02\n",
      "iteration: 197000 loss: 0.0051 lr: 0.02\n",
      "iteration: 198000 loss: 0.0048 lr: 0.02\n",
      "iteration: 199000 loss: 0.0049 lr: 0.02\n",
      "iteration: 200000 loss: 0.0049 lr: 0.02\n",
      "iteration: 201000 loss: 0.0050 lr: 0.02\n",
      "iteration: 202000 loss: 0.0049 lr: 0.02\n",
      "iteration: 203000 loss: 0.0049 lr: 0.02\n",
      "iteration: 204000 loss: 0.0048 lr: 0.02\n",
      "iteration: 205000 loss: 0.0048 lr: 0.02\n",
      "iteration: 206000 loss: 0.0048 lr: 0.02\n",
      "iteration: 207000 loss: 0.0048 lr: 0.02\n",
      "iteration: 208000 loss: 0.0049 lr: 0.02\n",
      "iteration: 209000 loss: 0.0048 lr: 0.02\n",
      "iteration: 210000 loss: 0.0048 lr: 0.02\n",
      "iteration: 211000 loss: 0.0047 lr: 0.02\n",
      "iteration: 212000 loss: 0.0050 lr: 0.02\n",
      "iteration: 213000 loss: 0.0049 lr: 0.02\n",
      "iteration: 214000 loss: 0.0046 lr: 0.02\n",
      "iteration: 215000 loss: 0.0047 lr: 0.02\n",
      "iteration: 216000 loss: 0.0049 lr: 0.02\n",
      "iteration: 217000 loss: 0.0048 lr: 0.02\n",
      "iteration: 218000 loss: 0.0049 lr: 0.02\n",
      "iteration: 219000 loss: 0.0049 lr: 0.02\n",
      "iteration: 220000 loss: 0.0048 lr: 0.02\n",
      "iteration: 221000 loss: 0.0047 lr: 0.02\n",
      "iteration: 222000 loss: 0.0047 lr: 0.02\n",
      "iteration: 223000 loss: 0.0047 lr: 0.02\n",
      "iteration: 224000 loss: 0.0048 lr: 0.02\n",
      "iteration: 225000 loss: 0.0046 lr: 0.02\n",
      "iteration: 226000 loss: 0.0048 lr: 0.02\n",
      "iteration: 227000 loss: 0.0045 lr: 0.02\n",
      "iteration: 228000 loss: 0.0048 lr: 0.02\n",
      "iteration: 229000 loss: 0.0048 lr: 0.02\n",
      "iteration: 230000 loss: 0.0046 lr: 0.02\n",
      "iteration: 231000 loss: 0.0047 lr: 0.02\n",
      "iteration: 232000 loss: 0.0049 lr: 0.02\n",
      "iteration: 233000 loss: 0.0046 lr: 0.02\n",
      "iteration: 234000 loss: 0.0048 lr: 0.02\n",
      "iteration: 235000 loss: 0.0047 lr: 0.02\n",
      "iteration: 236000 loss: 0.0047 lr: 0.02\n",
      "iteration: 237000 loss: 0.0047 lr: 0.02\n",
      "iteration: 238000 loss: 0.0046 lr: 0.02\n",
      "iteration: 239000 loss: 0.0046 lr: 0.02\n",
      "iteration: 240000 loss: 0.0046 lr: 0.02\n",
      "iteration: 241000 loss: 0.0047 lr: 0.02\n",
      "iteration: 242000 loss: 0.0046 lr: 0.02\n",
      "iteration: 243000 loss: 0.0047 lr: 0.02\n",
      "iteration: 244000 loss: 0.0047 lr: 0.02\n",
      "iteration: 245000 loss: 0.0047 lr: 0.02\n",
      "iteration: 246000 loss: 0.0046 lr: 0.02\n",
      "iteration: 247000 loss: 0.0045 lr: 0.02\n",
      "iteration: 248000 loss: 0.0047 lr: 0.02\n",
      "iteration: 249000 loss: 0.0046 lr: 0.02\n",
      "iteration: 250000 loss: 0.0047 lr: 0.02\n",
      "iteration: 251000 loss: 0.0046 lr: 0.02\n",
      "iteration: 252000 loss: 0.0046 lr: 0.02\n",
      "iteration: 253000 loss: 0.0045 lr: 0.02\n",
      "iteration: 254000 loss: 0.0044 lr: 0.02\n",
      "iteration: 255000 loss: 0.0046 lr: 0.02\n",
      "iteration: 256000 loss: 0.0046 lr: 0.02\n",
      "iteration: 257000 loss: 0.0045 lr: 0.02\n",
      "iteration: 258000 loss: 0.0046 lr: 0.02\n",
      "iteration: 259000 loss: 0.0045 lr: 0.02\n",
      "iteration: 260000 loss: 0.0044 lr: 0.02\n",
      "iteration: 261000 loss: 0.0046 lr: 0.02\n",
      "iteration: 262000 loss: 0.0044 lr: 0.02\n",
      "iteration: 263000 loss: 0.0045 lr: 0.02\n",
      "iteration: 264000 loss: 0.0044 lr: 0.02\n",
      "iteration: 265000 loss: 0.0044 lr: 0.02\n",
      "iteration: 266000 loss: 0.0046 lr: 0.02\n",
      "iteration: 267000 loss: 0.0044 lr: 0.02\n",
      "iteration: 268000 loss: 0.0045 lr: 0.02\n",
      "iteration: 269000 loss: 0.0046 lr: 0.02\n",
      "iteration: 270000 loss: 0.0045 lr: 0.02\n",
      "iteration: 271000 loss: 0.0044 lr: 0.02\n",
      "iteration: 272000 loss: 0.0045 lr: 0.02\n",
      "iteration: 273000 loss: 0.0044 lr: 0.02\n",
      "iteration: 274000 loss: 0.0043 lr: 0.02\n",
      "iteration: 275000 loss: 0.0044 lr: 0.02\n",
      "iteration: 276000 loss: 0.0046 lr: 0.02\n",
      "iteration: 277000 loss: 0.0045 lr: 0.02\n",
      "iteration: 278000 loss: 0.0044 lr: 0.02\n",
      "iteration: 279000 loss: 0.0043 lr: 0.02\n",
      "iteration: 280000 loss: 0.0044 lr: 0.02\n",
      "iteration: 281000 loss: 0.0044 lr: 0.02\n",
      "iteration: 282000 loss: 0.0045 lr: 0.02\n",
      "iteration: 283000 loss: 0.0043 lr: 0.02\n",
      "iteration: 284000 loss: 0.0044 lr: 0.02\n",
      "iteration: 285000 loss: 0.0042 lr: 0.02\n",
      "iteration: 286000 loss: 0.0045 lr: 0.02\n",
      "iteration: 287000 loss: 0.0043 lr: 0.02\n",
      "iteration: 288000 loss: 0.0045 lr: 0.02\n",
      "iteration: 289000 loss: 0.0044 lr: 0.02\n",
      "iteration: 290000 loss: 0.0042 lr: 0.02\n",
      "iteration: 291000 loss: 0.0044 lr: 0.02\n",
      "iteration: 292000 loss: 0.0043 lr: 0.02\n",
      "iteration: 293000 loss: 0.0043 lr: 0.02\n",
      "iteration: 294000 loss: 0.0043 lr: 0.02\n",
      "iteration: 295000 loss: 0.0043 lr: 0.02\n",
      "iteration: 296000 loss: 0.0044 lr: 0.02\n",
      "iteration: 297000 loss: 0.0042 lr: 0.02\n",
      "iteration: 298000 loss: 0.0043 lr: 0.02\n",
      "iteration: 299000 loss: 0.0043 lr: 0.02\n",
      "iteration: 300000 loss: 0.0042 lr: 0.02\n",
      "iteration: 301000 loss: 0.0043 lr: 0.02\n",
      "iteration: 302000 loss: 0.0044 lr: 0.02\n",
      "iteration: 303000 loss: 0.0042 lr: 0.02\n",
      "iteration: 304000 loss: 0.0043 lr: 0.02\n",
      "iteration: 305000 loss: 0.0042 lr: 0.02\n",
      "iteration: 306000 loss: 0.0042 lr: 0.02\n",
      "iteration: 307000 loss: 0.0043 lr: 0.02\n",
      "iteration: 308000 loss: 0.0043 lr: 0.02\n",
      "iteration: 309000 loss: 0.0042 lr: 0.02\n",
      "iteration: 310000 loss: 0.0042 lr: 0.02\n",
      "iteration: 311000 loss: 0.0044 lr: 0.02\n",
      "iteration: 312000 loss: 0.0044 lr: 0.02\n",
      "iteration: 313000 loss: 0.0043 lr: 0.02\n",
      "iteration: 314000 loss: 0.0042 lr: 0.02\n",
      "iteration: 315000 loss: 0.0042 lr: 0.02\n",
      "iteration: 316000 loss: 0.0042 lr: 0.02\n",
      "iteration: 317000 loss: 0.0043 lr: 0.02\n",
      "iteration: 318000 loss: 0.0043 lr: 0.02\n",
      "iteration: 319000 loss: 0.0043 lr: 0.02\n",
      "iteration: 320000 loss: 0.0042 lr: 0.02\n",
      "iteration: 321000 loss: 0.0042 lr: 0.02\n",
      "iteration: 322000 loss: 0.0041 lr: 0.02\n",
      "iteration: 323000 loss: 0.0042 lr: 0.02\n",
      "iteration: 324000 loss: 0.0041 lr: 0.02\n",
      "iteration: 325000 loss: 0.0043 lr: 0.02\n",
      "iteration: 326000 loss: 0.0040 lr: 0.02\n",
      "iteration: 327000 loss: 0.0041 lr: 0.02\n",
      "iteration: 328000 loss: 0.0042 lr: 0.02\n",
      "iteration: 329000 loss: 0.0043 lr: 0.02\n",
      "iteration: 330000 loss: 0.0041 lr: 0.02\n",
      "iteration: 331000 loss: 0.0041 lr: 0.02\n",
      "iteration: 332000 loss: 0.0043 lr: 0.02\n",
      "iteration: 333000 loss: 0.0042 lr: 0.02\n",
      "iteration: 334000 loss: 0.0042 lr: 0.02\n",
      "iteration: 335000 loss: 0.0043 lr: 0.02\n",
      "iteration: 336000 loss: 0.0042 lr: 0.02\n",
      "iteration: 337000 loss: 0.0042 lr: 0.02\n",
      "iteration: 338000 loss: 0.0040 lr: 0.02\n",
      "iteration: 339000 loss: 0.0040 lr: 0.02\n",
      "iteration: 340000 loss: 0.0041 lr: 0.02\n",
      "iteration: 341000 loss: 0.0043 lr: 0.02\n",
      "iteration: 342000 loss: 0.0042 lr: 0.02\n",
      "iteration: 343000 loss: 0.0042 lr: 0.02\n",
      "iteration: 344000 loss: 0.0039 lr: 0.02\n",
      "iteration: 345000 loss: 0.0040 lr: 0.02\n",
      "iteration: 346000 loss: 0.0043 lr: 0.02\n",
      "iteration: 347000 loss: 0.0043 lr: 0.02\n",
      "iteration: 348000 loss: 0.0041 lr: 0.02\n",
      "iteration: 349000 loss: 0.0042 lr: 0.02\n",
      "iteration: 350000 loss: 0.0041 lr: 0.02\n",
      "iteration: 351000 loss: 0.0041 lr: 0.02\n",
      "iteration: 352000 loss: 0.0041 lr: 0.02\n",
      "iteration: 353000 loss: 0.0041 lr: 0.02\n",
      "iteration: 354000 loss: 0.0041 lr: 0.02\n",
      "iteration: 355000 loss: 0.0040 lr: 0.02\n",
      "iteration: 356000 loss: 0.0042 lr: 0.02\n",
      "iteration: 357000 loss: 0.0040 lr: 0.02\n",
      "iteration: 358000 loss: 0.0040 lr: 0.02\n",
      "iteration: 359000 loss: 0.0040 lr: 0.02\n",
      "iteration: 360000 loss: 0.0041 lr: 0.02\n",
      "iteration: 361000 loss: 0.0041 lr: 0.02\n",
      "iteration: 362000 loss: 0.0042 lr: 0.02\n",
      "iteration: 363000 loss: 0.0041 lr: 0.02\n",
      "iteration: 364000 loss: 0.0040 lr: 0.02\n",
      "iteration: 365000 loss: 0.0041 lr: 0.02\n",
      "iteration: 366000 loss: 0.0041 lr: 0.02\n",
      "iteration: 367000 loss: 0.0041 lr: 0.02\n",
      "iteration: 368000 loss: 0.0041 lr: 0.02\n",
      "iteration: 369000 loss: 0.0041 lr: 0.02\n",
      "iteration: 370000 loss: 0.0040 lr: 0.02\n",
      "iteration: 371000 loss: 0.0040 lr: 0.02\n",
      "iteration: 372000 loss: 0.0040 lr: 0.02\n",
      "iteration: 373000 loss: 0.0040 lr: 0.02\n",
      "iteration: 374000 loss: 0.0040 lr: 0.02\n",
      "iteration: 375000 loss: 0.0040 lr: 0.02\n",
      "iteration: 376000 loss: 0.0040 lr: 0.02\n",
      "iteration: 377000 loss: 0.0040 lr: 0.02\n",
      "iteration: 378000 loss: 0.0040 lr: 0.02\n",
      "iteration: 379000 loss: 0.0040 lr: 0.02\n",
      "iteration: 380000 loss: 0.0039 lr: 0.02\n",
      "iteration: 381000 loss: 0.0041 lr: 0.02\n",
      "iteration: 382000 loss: 0.0041 lr: 0.02\n",
      "iteration: 383000 loss: 0.0040 lr: 0.02\n",
      "iteration: 384000 loss: 0.0041 lr: 0.02\n",
      "iteration: 385000 loss: 0.0041 lr: 0.02\n",
      "iteration: 386000 loss: 0.0039 lr: 0.02\n",
      "iteration: 387000 loss: 0.0040 lr: 0.02\n",
      "iteration: 388000 loss: 0.0041 lr: 0.02\n",
      "iteration: 389000 loss: 0.0038 lr: 0.02\n",
      "iteration: 390000 loss: 0.0039 lr: 0.02\n",
      "iteration: 391000 loss: 0.0041 lr: 0.02\n",
      "iteration: 392000 loss: 0.0040 lr: 0.02\n",
      "iteration: 393000 loss: 0.0040 lr: 0.02\n",
      "iteration: 394000 loss: 0.0041 lr: 0.02\n",
      "iteration: 395000 loss: 0.0039 lr: 0.02\n",
      "iteration: 396000 loss: 0.0040 lr: 0.02\n",
      "iteration: 397000 loss: 0.0040 lr: 0.02\n",
      "iteration: 398000 loss: 0.0041 lr: 0.02\n",
      "iteration: 399000 loss: 0.0039 lr: 0.02\n",
      "iteration: 400000 loss: 0.0039 lr: 0.02\n",
      "iteration: 401000 loss: 0.0038 lr: 0.02\n",
      "iteration: 402000 loss: 0.0041 lr: 0.02\n",
      "iteration: 403000 loss: 0.0038 lr: 0.02\n",
      "iteration: 404000 loss: 0.0040 lr: 0.02\n",
      "iteration: 405000 loss: 0.0040 lr: 0.02\n",
      "iteration: 406000 loss: 0.0037 lr: 0.02\n",
      "iteration: 407000 loss: 0.0039 lr: 0.02\n",
      "iteration: 408000 loss: 0.0039 lr: 0.02\n",
      "iteration: 409000 loss: 0.0040 lr: 0.02\n",
      "iteration: 410000 loss: 0.0040 lr: 0.02\n",
      "iteration: 411000 loss: 0.0039 lr: 0.02\n",
      "iteration: 412000 loss: 0.0039 lr: 0.02\n",
      "iteration: 413000 loss: 0.0038 lr: 0.02\n",
      "iteration: 414000 loss: 0.0040 lr: 0.02\n",
      "iteration: 415000 loss: 0.0040 lr: 0.02\n",
      "iteration: 416000 loss: 0.0039 lr: 0.02\n",
      "iteration: 417000 loss: 0.0039 lr: 0.02\n",
      "iteration: 418000 loss: 0.0038 lr: 0.02\n",
      "iteration: 419000 loss: 0.0038 lr: 0.02\n",
      "iteration: 420000 loss: 0.0038 lr: 0.02\n",
      "iteration: 421000 loss: 0.0039 lr: 0.02\n",
      "iteration: 422000 loss: 0.0038 lr: 0.02\n",
      "iteration: 423000 loss: 0.0038 lr: 0.02\n",
      "iteration: 424000 loss: 0.0039 lr: 0.02\n",
      "iteration: 425000 loss: 0.0040 lr: 0.02\n",
      "iteration: 426000 loss: 0.0040 lr: 0.02\n",
      "iteration: 427000 loss: 0.0040 lr: 0.02\n",
      "iteration: 428000 loss: 0.0038 lr: 0.02\n",
      "iteration: 429000 loss: 0.0039 lr: 0.02\n",
      "iteration: 430000 loss: 0.0039 lr: 0.02\n",
      "iteration: 431000 loss: 0.0035 lr: 0.002\n",
      "iteration: 432000 loss: 0.0035 lr: 0.002\n",
      "iteration: 433000 loss: 0.0034 lr: 0.002\n",
      "iteration: 434000 loss: 0.0033 lr: 0.002\n",
      "iteration: 435000 loss: 0.0032 lr: 0.002\n",
      "iteration: 436000 loss: 0.0033 lr: 0.002\n",
      "iteration: 437000 loss: 0.0034 lr: 0.002\n",
      "iteration: 438000 loss: 0.0033 lr: 0.002\n",
      "iteration: 439000 loss: 0.0033 lr: 0.002\n",
      "iteration: 440000 loss: 0.0033 lr: 0.002\n",
      "iteration: 441000 loss: 0.0032 lr: 0.002\n",
      "iteration: 442000 loss: 0.0033 lr: 0.002\n",
      "iteration: 443000 loss: 0.0033 lr: 0.002\n",
      "iteration: 444000 loss: 0.0031 lr: 0.002\n",
      "iteration: 445000 loss: 0.0032 lr: 0.002\n",
      "iteration: 446000 loss: 0.0033 lr: 0.002\n",
      "iteration: 447000 loss: 0.0032 lr: 0.002\n",
      "iteration: 448000 loss: 0.0032 lr: 0.002\n",
      "iteration: 449000 loss: 0.0032 lr: 0.002\n",
      "iteration: 450000 loss: 0.0032 lr: 0.002\n",
      "iteration: 451000 loss: 0.0032 lr: 0.002\n",
      "iteration: 452000 loss: 0.0033 lr: 0.002\n",
      "iteration: 453000 loss: 0.0032 lr: 0.002\n",
      "iteration: 454000 loss: 0.0031 lr: 0.002\n",
      "iteration: 455000 loss: 0.0031 lr: 0.002\n",
      "iteration: 456000 loss: 0.0031 lr: 0.002\n",
      "iteration: 457000 loss: 0.0031 lr: 0.002\n",
      "iteration: 458000 loss: 0.0031 lr: 0.002\n",
      "iteration: 459000 loss: 0.0031 lr: 0.002\n",
      "iteration: 460000 loss: 0.0031 lr: 0.002\n",
      "iteration: 461000 loss: 0.0032 lr: 0.002\n",
      "iteration: 462000 loss: 0.0031 lr: 0.002\n",
      "iteration: 463000 loss: 0.0031 lr: 0.002\n",
      "iteration: 464000 loss: 0.0031 lr: 0.002\n",
      "iteration: 465000 loss: 0.0031 lr: 0.002\n",
      "iteration: 466000 loss: 0.0032 lr: 0.002\n",
      "iteration: 467000 loss: 0.0031 lr: 0.002\n",
      "iteration: 468000 loss: 0.0031 lr: 0.002\n",
      "iteration: 469000 loss: 0.0031 lr: 0.002\n",
      "iteration: 470000 loss: 0.0030 lr: 0.002\n",
      "iteration: 471000 loss: 0.0032 lr: 0.002\n",
      "iteration: 472000 loss: 0.0031 lr: 0.002\n",
      "iteration: 473000 loss: 0.0031 lr: 0.002\n",
      "iteration: 474000 loss: 0.0031 lr: 0.002\n",
      "iteration: 475000 loss: 0.0031 lr: 0.002\n",
      "iteration: 476000 loss: 0.0031 lr: 0.002\n",
      "iteration: 477000 loss: 0.0032 lr: 0.002\n",
      "iteration: 478000 loss: 0.0031 lr: 0.002\n",
      "iteration: 479000 loss: 0.0031 lr: 0.002\n",
      "iteration: 480000 loss: 0.0030 lr: 0.002\n",
      "iteration: 481000 loss: 0.0032 lr: 0.002\n",
      "iteration: 482000 loss: 0.0031 lr: 0.002\n",
      "iteration: 483000 loss: 0.0032 lr: 0.002\n",
      "iteration: 484000 loss: 0.0030 lr: 0.002\n",
      "iteration: 485000 loss: 0.0030 lr: 0.002\n",
      "iteration: 486000 loss: 0.0031 lr: 0.002\n",
      "iteration: 487000 loss: 0.0031 lr: 0.002\n",
      "iteration: 488000 loss: 0.0031 lr: 0.002\n",
      "iteration: 489000 loss: 0.0031 lr: 0.002\n",
      "iteration: 490000 loss: 0.0031 lr: 0.002\n",
      "iteration: 491000 loss: 0.0030 lr: 0.002\n",
      "iteration: 492000 loss: 0.0032 lr: 0.002\n",
      "iteration: 493000 loss: 0.0031 lr: 0.002\n",
      "iteration: 494000 loss: 0.0031 lr: 0.002\n",
      "iteration: 495000 loss: 0.0031 lr: 0.002\n",
      "iteration: 496000 loss: 0.0031 lr: 0.002\n",
      "iteration: 497000 loss: 0.0030 lr: 0.002\n",
      "iteration: 498000 loss: 0.0031 lr: 0.002\n",
      "iteration: 499000 loss: 0.0030 lr: 0.002\n",
      "iteration: 500000 loss: 0.0031 lr: 0.002\n",
      "iteration: 501000 loss: 0.0031 lr: 0.002\n",
      "iteration: 502000 loss: 0.0031 lr: 0.002\n",
      "iteration: 503000 loss: 0.0030 lr: 0.002\n",
      "iteration: 504000 loss: 0.0031 lr: 0.002\n",
      "iteration: 505000 loss: 0.0031 lr: 0.002\n",
      "iteration: 506000 loss: 0.0031 lr: 0.002\n",
      "iteration: 507000 loss: 0.0031 lr: 0.002\n",
      "iteration: 508000 loss: 0.0030 lr: 0.002\n",
      "iteration: 509000 loss: 0.0031 lr: 0.002\n",
      "iteration: 510000 loss: 0.0030 lr: 0.002\n",
      "iteration: 511000 loss: 0.0031 lr: 0.002\n",
      "iteration: 512000 loss: 0.0030 lr: 0.002\n",
      "iteration: 513000 loss: 0.0029 lr: 0.002\n",
      "iteration: 514000 loss: 0.0031 lr: 0.002\n",
      "iteration: 515000 loss: 0.0031 lr: 0.002\n",
      "iteration: 516000 loss: 0.0031 lr: 0.002\n",
      "iteration: 517000 loss: 0.0031 lr: 0.002\n",
      "iteration: 518000 loss: 0.0031 lr: 0.002\n",
      "iteration: 519000 loss: 0.0031 lr: 0.002\n",
      "iteration: 520000 loss: 0.0030 lr: 0.002\n",
      "iteration: 521000 loss: 0.0031 lr: 0.002\n",
      "iteration: 522000 loss: 0.0031 lr: 0.002\n",
      "iteration: 523000 loss: 0.0030 lr: 0.002\n",
      "iteration: 524000 loss: 0.0031 lr: 0.002\n",
      "iteration: 525000 loss: 0.0029 lr: 0.002\n",
      "iteration: 526000 loss: 0.0031 lr: 0.002\n",
      "iteration: 527000 loss: 0.0030 lr: 0.002\n",
      "iteration: 528000 loss: 0.0030 lr: 0.002\n",
      "iteration: 529000 loss: 0.0029 lr: 0.002\n",
      "iteration: 530000 loss: 0.0031 lr: 0.002\n",
      "iteration: 531000 loss: 0.0030 lr: 0.002\n",
      "iteration: 532000 loss: 0.0030 lr: 0.002\n",
      "iteration: 533000 loss: 0.0030 lr: 0.002\n",
      "iteration: 534000 loss: 0.0029 lr: 0.002\n",
      "iteration: 535000 loss: 0.0030 lr: 0.002\n",
      "iteration: 536000 loss: 0.0030 lr: 0.002\n",
      "iteration: 537000 loss: 0.0029 lr: 0.002\n",
      "iteration: 538000 loss: 0.0028 lr: 0.002\n",
      "iteration: 539000 loss: 0.0031 lr: 0.002\n",
      "iteration: 540000 loss: 0.0030 lr: 0.002\n",
      "iteration: 541000 loss: 0.0029 lr: 0.002\n",
      "iteration: 542000 loss: 0.0030 lr: 0.002\n",
      "iteration: 543000 loss: 0.0031 lr: 0.002\n",
      "iteration: 544000 loss: 0.0029 lr: 0.002\n",
      "iteration: 545000 loss: 0.0030 lr: 0.002\n",
      "iteration: 546000 loss: 0.0031 lr: 0.002\n",
      "iteration: 547000 loss: 0.0029 lr: 0.002\n",
      "iteration: 548000 loss: 0.0029 lr: 0.002\n",
      "iteration: 549000 loss: 0.0030 lr: 0.002\n",
      "iteration: 550000 loss: 0.0031 lr: 0.002\n",
      "iteration: 551000 loss: 0.0031 lr: 0.002\n",
      "iteration: 552000 loss: 0.0030 lr: 0.002\n",
      "iteration: 553000 loss: 0.0029 lr: 0.002\n",
      "iteration: 554000 loss: 0.0030 lr: 0.002\n",
      "iteration: 555000 loss: 0.0030 lr: 0.002\n",
      "iteration: 556000 loss: 0.0030 lr: 0.002\n",
      "iteration: 557000 loss: 0.0030 lr: 0.002\n",
      "iteration: 558000 loss: 0.0030 lr: 0.002\n",
      "iteration: 559000 loss: 0.0030 lr: 0.002\n",
      "iteration: 560000 loss: 0.0030 lr: 0.002\n",
      "iteration: 561000 loss: 0.0029 lr: 0.002\n",
      "iteration: 562000 loss: 0.0030 lr: 0.002\n",
      "iteration: 563000 loss: 0.0030 lr: 0.002\n",
      "iteration: 564000 loss: 0.0029 lr: 0.002\n",
      "iteration: 565000 loss: 0.0030 lr: 0.002\n",
      "iteration: 566000 loss: 0.0029 lr: 0.002\n",
      "iteration: 567000 loss: 0.0029 lr: 0.002\n",
      "iteration: 568000 loss: 0.0030 lr: 0.002\n",
      "iteration: 569000 loss: 0.0028 lr: 0.002\n",
      "iteration: 570000 loss: 0.0030 lr: 0.002\n",
      "iteration: 571000 loss: 0.0028 lr: 0.002\n",
      "iteration: 572000 loss: 0.0030 lr: 0.002\n",
      "iteration: 573000 loss: 0.0030 lr: 0.002\n",
      "iteration: 574000 loss: 0.0030 lr: 0.002\n",
      "iteration: 575000 loss: 0.0030 lr: 0.002\n",
      "iteration: 576000 loss: 0.0029 lr: 0.002\n",
      "iteration: 577000 loss: 0.0029 lr: 0.002\n",
      "iteration: 578000 loss: 0.0030 lr: 0.002\n",
      "iteration: 579000 loss: 0.0030 lr: 0.002\n",
      "iteration: 580000 loss: 0.0030 lr: 0.002\n",
      "iteration: 581000 loss: 0.0030 lr: 0.002\n",
      "iteration: 582000 loss: 0.0030 lr: 0.002\n",
      "iteration: 583000 loss: 0.0030 lr: 0.002\n",
      "iteration: 584000 loss: 0.0029 lr: 0.002\n",
      "iteration: 585000 loss: 0.0030 lr: 0.002\n",
      "iteration: 586000 loss: 0.0030 lr: 0.002\n",
      "iteration: 587000 loss: 0.0031 lr: 0.002\n",
      "iteration: 588000 loss: 0.0029 lr: 0.002\n",
      "iteration: 589000 loss: 0.0030 lr: 0.002\n",
      "iteration: 590000 loss: 0.0031 lr: 0.002\n",
      "iteration: 591000 loss: 0.0030 lr: 0.002\n",
      "iteration: 592000 loss: 0.0030 lr: 0.002\n",
      "iteration: 593000 loss: 0.0031 lr: 0.002\n",
      "iteration: 594000 loss: 0.0029 lr: 0.002\n",
      "iteration: 595000 loss: 0.0029 lr: 0.002\n",
      "iteration: 596000 loss: 0.0030 lr: 0.002\n",
      "iteration: 597000 loss: 0.0030 lr: 0.002\n",
      "iteration: 598000 loss: 0.0029 lr: 0.002\n",
      "iteration: 599000 loss: 0.0029 lr: 0.002\n",
      "iteration: 600000 loss: 0.0030 lr: 0.002\n",
      "iteration: 601000 loss: 0.0030 lr: 0.002\n",
      "iteration: 602000 loss: 0.0029 lr: 0.002\n",
      "iteration: 603000 loss: 0.0030 lr: 0.002\n",
      "iteration: 604000 loss: 0.0029 lr: 0.002\n",
      "iteration: 605000 loss: 0.0029 lr: 0.002\n",
      "iteration: 606000 loss: 0.0029 lr: 0.002\n",
      "iteration: 607000 loss: 0.0029 lr: 0.002\n",
      "iteration: 608000 loss: 0.0030 lr: 0.002\n",
      "iteration: 609000 loss: 0.0030 lr: 0.002\n",
      "iteration: 610000 loss: 0.0029 lr: 0.002\n",
      "iteration: 611000 loss: 0.0030 lr: 0.002\n",
      "iteration: 612000 loss: 0.0028 lr: 0.002\n",
      "iteration: 613000 loss: 0.0030 lr: 0.002\n",
      "iteration: 614000 loss: 0.0028 lr: 0.002\n",
      "iteration: 615000 loss: 0.0030 lr: 0.002\n",
      "iteration: 616000 loss: 0.0029 lr: 0.002\n",
      "iteration: 617000 loss: 0.0030 lr: 0.002\n",
      "iteration: 618000 loss: 0.0030 lr: 0.002\n",
      "iteration: 619000 loss: 0.0030 lr: 0.002\n",
      "iteration: 620000 loss: 0.0030 lr: 0.002\n",
      "iteration: 621000 loss: 0.0029 lr: 0.002\n",
      "iteration: 622000 loss: 0.0030 lr: 0.002\n",
      "iteration: 623000 loss: 0.0029 lr: 0.002\n",
      "iteration: 624000 loss: 0.0029 lr: 0.002\n",
      "iteration: 625000 loss: 0.0030 lr: 0.002\n",
      "iteration: 626000 loss: 0.0029 lr: 0.002\n",
      "iteration: 627000 loss: 0.0030 lr: 0.002\n",
      "iteration: 628000 loss: 0.0029 lr: 0.002\n",
      "iteration: 629000 loss: 0.0029 lr: 0.002\n",
      "iteration: 630000 loss: 0.0029 lr: 0.002\n",
      "iteration: 631000 loss: 0.0029 lr: 0.002\n",
      "iteration: 632000 loss: 0.0029 lr: 0.002\n",
      "iteration: 633000 loss: 0.0029 lr: 0.002\n",
      "iteration: 634000 loss: 0.0030 lr: 0.002\n",
      "iteration: 635000 loss: 0.0030 lr: 0.002\n",
      "iteration: 636000 loss: 0.0028 lr: 0.002\n",
      "iteration: 637000 loss: 0.0030 lr: 0.002\n",
      "iteration: 638000 loss: 0.0029 lr: 0.002\n",
      "iteration: 639000 loss: 0.0030 lr: 0.002\n",
      "iteration: 640000 loss: 0.0029 lr: 0.002\n",
      "iteration: 641000 loss: 0.0029 lr: 0.002\n",
      "iteration: 642000 loss: 0.0028 lr: 0.002\n",
      "iteration: 643000 loss: 0.0029 lr: 0.002\n",
      "iteration: 644000 loss: 0.0029 lr: 0.002\n",
      "iteration: 645000 loss: 0.0030 lr: 0.002\n",
      "iteration: 646000 loss: 0.0029 lr: 0.002\n",
      "iteration: 647000 loss: 0.0030 lr: 0.002\n",
      "iteration: 648000 loss: 0.0029 lr: 0.002\n",
      "iteration: 649000 loss: 0.0030 lr: 0.002\n",
      "iteration: 650000 loss: 0.0029 lr: 0.002\n",
      "iteration: 651000 loss: 0.0029 lr: 0.002\n",
      "iteration: 652000 loss: 0.0028 lr: 0.002\n",
      "iteration: 653000 loss: 0.0030 lr: 0.002\n",
      "iteration: 654000 loss: 0.0030 lr: 0.002\n",
      "iteration: 655000 loss: 0.0029 lr: 0.002\n",
      "iteration: 656000 loss: 0.0030 lr: 0.002\n",
      "iteration: 657000 loss: 0.0030 lr: 0.002\n",
      "iteration: 658000 loss: 0.0030 lr: 0.002\n",
      "iteration: 659000 loss: 0.0030 lr: 0.002\n",
      "iteration: 660000 loss: 0.0029 lr: 0.002\n",
      "iteration: 661000 loss: 0.0028 lr: 0.002\n",
      "iteration: 662000 loss: 0.0029 lr: 0.002\n",
      "iteration: 663000 loss: 0.0029 lr: 0.002\n",
      "iteration: 664000 loss: 0.0030 lr: 0.002\n",
      "iteration: 665000 loss: 0.0030 lr: 0.002\n",
      "iteration: 666000 loss: 0.0029 lr: 0.002\n",
      "iteration: 667000 loss: 0.0030 lr: 0.002\n",
      "iteration: 668000 loss: 0.0029 lr: 0.002\n",
      "iteration: 669000 loss: 0.0029 lr: 0.002\n",
      "iteration: 670000 loss: 0.0029 lr: 0.002\n",
      "iteration: 671000 loss: 0.0029 lr: 0.002\n",
      "iteration: 672000 loss: 0.0029 lr: 0.002\n",
      "iteration: 673000 loss: 0.0030 lr: 0.002\n",
      "iteration: 674000 loss: 0.0029 lr: 0.002\n",
      "iteration: 675000 loss: 0.0029 lr: 0.002\n",
      "iteration: 676000 loss: 0.0029 lr: 0.002\n",
      "iteration: 677000 loss: 0.0029 lr: 0.002\n",
      "iteration: 678000 loss: 0.0028 lr: 0.002\n",
      "iteration: 679000 loss: 0.0029 lr: 0.002\n",
      "iteration: 680000 loss: 0.0029 lr: 0.002\n",
      "iteration: 681000 loss: 0.0029 lr: 0.002\n",
      "iteration: 682000 loss: 0.0029 lr: 0.002\n",
      "iteration: 683000 loss: 0.0028 lr: 0.002\n",
      "iteration: 684000 loss: 0.0029 lr: 0.002\n",
      "iteration: 685000 loss: 0.0030 lr: 0.002\n",
      "iteration: 686000 loss: 0.0028 lr: 0.002\n",
      "iteration: 687000 loss: 0.0028 lr: 0.002\n",
      "iteration: 688000 loss: 0.0029 lr: 0.002\n",
      "iteration: 689000 loss: 0.0029 lr: 0.002\n",
      "iteration: 690000 loss: 0.0029 lr: 0.002\n",
      "iteration: 691000 loss: 0.0030 lr: 0.002\n",
      "iteration: 692000 loss: 0.0029 lr: 0.002\n",
      "iteration: 693000 loss: 0.0029 lr: 0.002\n",
      "iteration: 694000 loss: 0.0029 lr: 0.002\n",
      "iteration: 695000 loss: 0.0029 lr: 0.002\n",
      "iteration: 696000 loss: 0.0028 lr: 0.002\n",
      "iteration: 697000 loss: 0.0029 lr: 0.002\n",
      "iteration: 698000 loss: 0.0029 lr: 0.002\n",
      "iteration: 699000 loss: 0.0030 lr: 0.002\n",
      "iteration: 700000 loss: 0.0030 lr: 0.002\n",
      "iteration: 701000 loss: 0.0030 lr: 0.002\n",
      "iteration: 702000 loss: 0.0029 lr: 0.002\n",
      "iteration: 703000 loss: 0.0029 lr: 0.002\n",
      "iteration: 704000 loss: 0.0028 lr: 0.002\n",
      "iteration: 705000 loss: 0.0029 lr: 0.002\n",
      "iteration: 706000 loss: 0.0029 lr: 0.002\n",
      "iteration: 707000 loss: 0.0029 lr: 0.002\n",
      "iteration: 708000 loss: 0.0029 lr: 0.002\n",
      "iteration: 709000 loss: 0.0029 lr: 0.002\n",
      "iteration: 710000 loss: 0.0029 lr: 0.002\n",
      "iteration: 711000 loss: 0.0030 lr: 0.002\n",
      "iteration: 712000 loss: 0.0029 lr: 0.002\n",
      "iteration: 713000 loss: 0.0029 lr: 0.002\n",
      "iteration: 714000 loss: 0.0029 lr: 0.002\n",
      "iteration: 715000 loss: 0.0030 lr: 0.002\n",
      "iteration: 716000 loss: 0.0029 lr: 0.002\n",
      "iteration: 717000 loss: 0.0029 lr: 0.002\n",
      "iteration: 718000 loss: 0.0029 lr: 0.002\n",
      "iteration: 719000 loss: 0.0029 lr: 0.002\n",
      "iteration: 720000 loss: 0.0029 lr: 0.002\n",
      "iteration: 721000 loss: 0.0028 lr: 0.002\n",
      "iteration: 722000 loss: 0.0029 lr: 0.002\n",
      "iteration: 723000 loss: 0.0028 lr: 0.002\n",
      "iteration: 724000 loss: 0.0028 lr: 0.002\n",
      "iteration: 725000 loss: 0.0029 lr: 0.002\n",
      "iteration: 726000 loss: 0.0028 lr: 0.002\n",
      "iteration: 727000 loss: 0.0029 lr: 0.002\n",
      "iteration: 728000 loss: 0.0029 lr: 0.002\n",
      "iteration: 729000 loss: 0.0029 lr: 0.002\n",
      "iteration: 730000 loss: 0.0028 lr: 0.002\n",
      "iteration: 731000 loss: 0.0028 lr: 0.001\n",
      "iteration: 732000 loss: 0.0028 lr: 0.001\n",
      "iteration: 733000 loss: 0.0028 lr: 0.001\n",
      "iteration: 734000 loss: 0.0029 lr: 0.001\n",
      "iteration: 735000 loss: 0.0029 lr: 0.001\n",
      "iteration: 736000 loss: 0.0030 lr: 0.001\n",
      "iteration: 737000 loss: 0.0029 lr: 0.001\n",
      "iteration: 738000 loss: 0.0028 lr: 0.001\n",
      "iteration: 739000 loss: 0.0028 lr: 0.001\n",
      "iteration: 740000 loss: 0.0028 lr: 0.001\n",
      "iteration: 741000 loss: 0.0029 lr: 0.001\n",
      "iteration: 742000 loss: 0.0029 lr: 0.001\n",
      "iteration: 743000 loss: 0.0029 lr: 0.001\n",
      "iteration: 744000 loss: 0.0028 lr: 0.001\n",
      "iteration: 745000 loss: 0.0029 lr: 0.001\n",
      "iteration: 746000 loss: 0.0028 lr: 0.001\n",
      "iteration: 747000 loss: 0.0029 lr: 0.001\n",
      "iteration: 748000 loss: 0.0028 lr: 0.001\n",
      "iteration: 749000 loss: 0.0029 lr: 0.001\n",
      "iteration: 750000 loss: 0.0031 lr: 0.001\n",
      "iteration: 751000 loss: 0.0029 lr: 0.001\n",
      "iteration: 752000 loss: 0.0028 lr: 0.001\n",
      "iteration: 753000 loss: 0.0028 lr: 0.001\n",
      "iteration: 754000 loss: 0.0028 lr: 0.001\n",
      "iteration: 755000 loss: 0.0028 lr: 0.001\n",
      "iteration: 756000 loss: 0.0028 lr: 0.001\n",
      "iteration: 757000 loss: 0.0029 lr: 0.001\n",
      "iteration: 758000 loss: 0.0028 lr: 0.001\n",
      "iteration: 759000 loss: 0.0029 lr: 0.001\n",
      "iteration: 760000 loss: 0.0029 lr: 0.001\n",
      "iteration: 761000 loss: 0.0029 lr: 0.001\n",
      "iteration: 762000 loss: 0.0028 lr: 0.001\n",
      "iteration: 763000 loss: 0.0029 lr: 0.001\n",
      "iteration: 764000 loss: 0.0028 lr: 0.001\n",
      "iteration: 765000 loss: 0.0029 lr: 0.001\n",
      "iteration: 766000 loss: 0.0029 lr: 0.001\n",
      "iteration: 767000 loss: 0.0029 lr: 0.001\n",
      "iteration: 768000 loss: 0.0028 lr: 0.001\n",
      "iteration: 769000 loss: 0.0028 lr: 0.001\n",
      "iteration: 770000 loss: 0.0028 lr: 0.001\n",
      "iteration: 771000 loss: 0.0028 lr: 0.001\n",
      "iteration: 772000 loss: 0.0028 lr: 0.001\n",
      "iteration: 773000 loss: 0.0028 lr: 0.001\n",
      "iteration: 774000 loss: 0.0028 lr: 0.001\n",
      "iteration: 775000 loss: 0.0028 lr: 0.001\n",
      "iteration: 776000 loss: 0.0028 lr: 0.001\n",
      "iteration: 777000 loss: 0.0028 lr: 0.001\n",
      "iteration: 778000 loss: 0.0029 lr: 0.001\n",
      "iteration: 779000 loss: 0.0029 lr: 0.001\n",
      "iteration: 780000 loss: 0.0028 lr: 0.001\n",
      "iteration: 781000 loss: 0.0029 lr: 0.001\n",
      "iteration: 782000 loss: 0.0028 lr: 0.001\n",
      "iteration: 783000 loss: 0.0028 lr: 0.001\n",
      "iteration: 784000 loss: 0.0028 lr: 0.001\n",
      "iteration: 785000 loss: 0.0029 lr: 0.001\n",
      "iteration: 786000 loss: 0.0028 lr: 0.001\n",
      "iteration: 787000 loss: 0.0028 lr: 0.001\n",
      "iteration: 788000 loss: 0.0027 lr: 0.001\n",
      "iteration: 789000 loss: 0.0027 lr: 0.001\n",
      "iteration: 790000 loss: 0.0029 lr: 0.001\n",
      "iteration: 791000 loss: 0.0028 lr: 0.001\n",
      "iteration: 792000 loss: 0.0027 lr: 0.001\n",
      "iteration: 793000 loss: 0.0028 lr: 0.001\n",
      "iteration: 794000 loss: 0.0027 lr: 0.001\n",
      "iteration: 795000 loss: 0.0027 lr: 0.001\n",
      "iteration: 796000 loss: 0.0028 lr: 0.001\n",
      "iteration: 797000 loss: 0.0027 lr: 0.001\n",
      "iteration: 798000 loss: 0.0028 lr: 0.001\n",
      "iteration: 799000 loss: 0.0027 lr: 0.001\n",
      "iteration: 800000 loss: 0.0028 lr: 0.001\n",
      "iteration: 801000 loss: 0.0028 lr: 0.001\n",
      "iteration: 802000 loss: 0.0029 lr: 0.001\n",
      "iteration: 803000 loss: 0.0029 lr: 0.001\n",
      "iteration: 804000 loss: 0.0029 lr: 0.001\n",
      "iteration: 805000 loss: 0.0028 lr: 0.001\n",
      "iteration: 806000 loss: 0.0028 lr: 0.001\n",
      "iteration: 807000 loss: 0.0029 lr: 0.001\n",
      "iteration: 808000 loss: 0.0029 lr: 0.001\n",
      "iteration: 809000 loss: 0.0028 lr: 0.001\n",
      "iteration: 810000 loss: 0.0027 lr: 0.001\n",
      "iteration: 811000 loss: 0.0027 lr: 0.001\n",
      "iteration: 812000 loss: 0.0028 lr: 0.001\n",
      "iteration: 813000 loss: 0.0030 lr: 0.001\n",
      "iteration: 814000 loss: 0.0027 lr: 0.001\n",
      "iteration: 815000 loss: 0.0028 lr: 0.001\n",
      "iteration: 816000 loss: 0.0029 lr: 0.001\n",
      "iteration: 817000 loss: 0.0028 lr: 0.001\n",
      "iteration: 818000 loss: 0.0028 lr: 0.001\n",
      "iteration: 819000 loss: 0.0027 lr: 0.001\n",
      "iteration: 820000 loss: 0.0028 lr: 0.001\n",
      "iteration: 821000 loss: 0.0028 lr: 0.001\n",
      "iteration: 822000 loss: 0.0028 lr: 0.001\n",
      "iteration: 823000 loss: 0.0029 lr: 0.001\n",
      "iteration: 824000 loss: 0.0028 lr: 0.001\n",
      "iteration: 825000 loss: 0.0029 lr: 0.001\n",
      "iteration: 826000 loss: 0.0028 lr: 0.001\n",
      "iteration: 827000 loss: 0.0028 lr: 0.001\n",
      "iteration: 828000 loss: 0.0028 lr: 0.001\n",
      "iteration: 829000 loss: 0.0028 lr: 0.001\n",
      "iteration: 830000 loss: 0.0028 lr: 0.001\n",
      "iteration: 831000 loss: 0.0029 lr: 0.001\n",
      "iteration: 832000 loss: 0.0028 lr: 0.001\n",
      "iteration: 833000 loss: 0.0029 lr: 0.001\n",
      "iteration: 834000 loss: 0.0027 lr: 0.001\n",
      "iteration: 835000 loss: 0.0029 lr: 0.001\n",
      "iteration: 836000 loss: 0.0029 lr: 0.001\n",
      "iteration: 837000 loss: 0.0028 lr: 0.001\n",
      "iteration: 838000 loss: 0.0027 lr: 0.001\n",
      "iteration: 839000 loss: 0.0028 lr: 0.001\n",
      "iteration: 840000 loss: 0.0027 lr: 0.001\n",
      "iteration: 841000 loss: 0.0029 lr: 0.001\n",
      "iteration: 842000 loss: 0.0028 lr: 0.001\n",
      "iteration: 843000 loss: 0.0027 lr: 0.001\n",
      "iteration: 844000 loss: 0.0028 lr: 0.001\n",
      "iteration: 845000 loss: 0.0028 lr: 0.001\n",
      "iteration: 846000 loss: 0.0028 lr: 0.001\n",
      "iteration: 847000 loss: 0.0028 lr: 0.001\n",
      "iteration: 848000 loss: 0.0027 lr: 0.001\n",
      "iteration: 849000 loss: 0.0028 lr: 0.001\n",
      "iteration: 850000 loss: 0.0028 lr: 0.001\n",
      "iteration: 851000 loss: 0.0028 lr: 0.001\n",
      "iteration: 852000 loss: 0.0028 lr: 0.001\n",
      "iteration: 853000 loss: 0.0029 lr: 0.001\n",
      "iteration: 854000 loss: 0.0029 lr: 0.001\n",
      "iteration: 855000 loss: 0.0028 lr: 0.001\n",
      "iteration: 856000 loss: 0.0028 lr: 0.001\n",
      "iteration: 857000 loss: 0.0028 lr: 0.001\n",
      "iteration: 858000 loss: 0.0028 lr: 0.001\n",
      "iteration: 859000 loss: 0.0028 lr: 0.001\n",
      "iteration: 860000 loss: 0.0028 lr: 0.001\n",
      "iteration: 861000 loss: 0.0028 lr: 0.001\n",
      "iteration: 862000 loss: 0.0029 lr: 0.001\n",
      "iteration: 863000 loss: 0.0029 lr: 0.001\n",
      "iteration: 864000 loss: 0.0027 lr: 0.001\n",
      "iteration: 865000 loss: 0.0028 lr: 0.001\n",
      "iteration: 866000 loss: 0.0027 lr: 0.001\n",
      "iteration: 867000 loss: 0.0028 lr: 0.001\n",
      "iteration: 868000 loss: 0.0028 lr: 0.001\n",
      "iteration: 869000 loss: 0.0028 lr: 0.001\n",
      "iteration: 870000 loss: 0.0028 lr: 0.001\n",
      "iteration: 871000 loss: 0.0028 lr: 0.001\n",
      "iteration: 872000 loss: 0.0027 lr: 0.001\n",
      "iteration: 873000 loss: 0.0028 lr: 0.001\n",
      "iteration: 874000 loss: 0.0027 lr: 0.001\n",
      "iteration: 875000 loss: 0.0028 lr: 0.001\n",
      "iteration: 876000 loss: 0.0028 lr: 0.001\n",
      "iteration: 877000 loss: 0.0028 lr: 0.001\n",
      "iteration: 878000 loss: 0.0028 lr: 0.001\n",
      "iteration: 879000 loss: 0.0027 lr: 0.001\n",
      "iteration: 880000 loss: 0.0028 lr: 0.001\n",
      "iteration: 881000 loss: 0.0028 lr: 0.001\n",
      "iteration: 882000 loss: 0.0028 lr: 0.001\n",
      "iteration: 883000 loss: 0.0028 lr: 0.001\n",
      "iteration: 884000 loss: 0.0028 lr: 0.001\n",
      "iteration: 885000 loss: 0.0028 lr: 0.001\n",
      "iteration: 886000 loss: 0.0029 lr: 0.001\n",
      "iteration: 887000 loss: 0.0028 lr: 0.001\n",
      "iteration: 888000 loss: 0.0028 lr: 0.001\n",
      "iteration: 889000 loss: 0.0028 lr: 0.001\n",
      "iteration: 890000 loss: 0.0028 lr: 0.001\n",
      "iteration: 891000 loss: 0.0027 lr: 0.001\n",
      "iteration: 892000 loss: 0.0028 lr: 0.001\n",
      "iteration: 893000 loss: 0.0028 lr: 0.001\n",
      "iteration: 894000 loss: 0.0027 lr: 0.001\n",
      "iteration: 895000 loss: 0.0028 lr: 0.001\n",
      "iteration: 896000 loss: 0.0027 lr: 0.001\n",
      "iteration: 897000 loss: 0.0028 lr: 0.001\n",
      "iteration: 898000 loss: 0.0029 lr: 0.001\n",
      "iteration: 899000 loss: 0.0028 lr: 0.001\n",
      "iteration: 900000 loss: 0.0028 lr: 0.001\n",
      "iteration: 901000 loss: 0.0027 lr: 0.001\n",
      "iteration: 902000 loss: 0.0029 lr: 0.001\n",
      "iteration: 903000 loss: 0.0028 lr: 0.001\n",
      "iteration: 904000 loss: 0.0028 lr: 0.001\n",
      "iteration: 905000 loss: 0.0027 lr: 0.001\n",
      "iteration: 906000 loss: 0.0028 lr: 0.001\n",
      "iteration: 907000 loss: 0.0027 lr: 0.001\n",
      "iteration: 908000 loss: 0.0027 lr: 0.001\n",
      "iteration: 909000 loss: 0.0028 lr: 0.001\n",
      "iteration: 910000 loss: 0.0028 lr: 0.001\n",
      "iteration: 911000 loss: 0.0029 lr: 0.001\n",
      "iteration: 912000 loss: 0.0029 lr: 0.001\n",
      "iteration: 913000 loss: 0.0028 lr: 0.001\n",
      "iteration: 914000 loss: 0.0027 lr: 0.001\n",
      "iteration: 915000 loss: 0.0028 lr: 0.001\n",
      "iteration: 916000 loss: 0.0028 lr: 0.001\n",
      "iteration: 917000 loss: 0.0028 lr: 0.001\n",
      "iteration: 918000 loss: 0.0027 lr: 0.001\n",
      "iteration: 919000 loss: 0.0028 lr: 0.001\n",
      "iteration: 920000 loss: 0.0029 lr: 0.001\n",
      "iteration: 921000 loss: 0.0028 lr: 0.001\n",
      "iteration: 922000 loss: 0.0029 lr: 0.001\n",
      "iteration: 923000 loss: 0.0027 lr: 0.001\n",
      "iteration: 924000 loss: 0.0028 lr: 0.001\n",
      "iteration: 925000 loss: 0.0028 lr: 0.001\n",
      "iteration: 926000 loss: 0.0028 lr: 0.001\n",
      "iteration: 927000 loss: 0.0029 lr: 0.001\n",
      "iteration: 928000 loss: 0.0027 lr: 0.001\n",
      "iteration: 929000 loss: 0.0028 lr: 0.001\n",
      "iteration: 930000 loss: 0.0028 lr: 0.001\n",
      "iteration: 931000 loss: 0.0029 lr: 0.001\n",
      "iteration: 932000 loss: 0.0028 lr: 0.001\n",
      "iteration: 933000 loss: 0.0028 lr: 0.001\n",
      "iteration: 934000 loss: 0.0027 lr: 0.001\n",
      "iteration: 935000 loss: 0.0028 lr: 0.001\n",
      "iteration: 936000 loss: 0.0028 lr: 0.001\n",
      "iteration: 937000 loss: 0.0027 lr: 0.001\n",
      "iteration: 938000 loss: 0.0028 lr: 0.001\n",
      "iteration: 939000 loss: 0.0028 lr: 0.001\n",
      "iteration: 940000 loss: 0.0026 lr: 0.001\n",
      "iteration: 941000 loss: 0.0029 lr: 0.001\n",
      "iteration: 942000 loss: 0.0027 lr: 0.001\n",
      "iteration: 943000 loss: 0.0029 lr: 0.001\n",
      "iteration: 944000 loss: 0.0028 lr: 0.001\n",
      "iteration: 945000 loss: 0.0028 lr: 0.001\n",
      "iteration: 946000 loss: 0.0027 lr: 0.001\n",
      "iteration: 947000 loss: 0.0028 lr: 0.001\n",
      "iteration: 948000 loss: 0.0028 lr: 0.001\n",
      "iteration: 949000 loss: 0.0027 lr: 0.001\n",
      "iteration: 950000 loss: 0.0028 lr: 0.001\n",
      "iteration: 951000 loss: 0.0028 lr: 0.001\n",
      "iteration: 952000 loss: 0.0026 lr: 0.001\n",
      "iteration: 953000 loss: 0.0028 lr: 0.001\n",
      "iteration: 954000 loss: 0.0029 lr: 0.001\n",
      "iteration: 955000 loss: 0.0027 lr: 0.001\n",
      "iteration: 956000 loss: 0.0028 lr: 0.001\n",
      "iteration: 957000 loss: 0.0027 lr: 0.001\n",
      "iteration: 958000 loss: 0.0027 lr: 0.001\n",
      "iteration: 959000 loss: 0.0028 lr: 0.001\n",
      "iteration: 960000 loss: 0.0028 lr: 0.001\n",
      "iteration: 961000 loss: 0.0027 lr: 0.001\n",
      "iteration: 962000 loss: 0.0028 lr: 0.001\n",
      "iteration: 963000 loss: 0.0028 lr: 0.001\n",
      "iteration: 964000 loss: 0.0029 lr: 0.001\n",
      "iteration: 965000 loss: 0.0027 lr: 0.001\n",
      "iteration: 966000 loss: 0.0029 lr: 0.001\n",
      "iteration: 967000 loss: 0.0027 lr: 0.001\n",
      "iteration: 968000 loss: 0.0028 lr: 0.001\n",
      "iteration: 969000 loss: 0.0027 lr: 0.001\n",
      "iteration: 970000 loss: 0.0028 lr: 0.001\n",
      "iteration: 971000 loss: 0.0028 lr: 0.001\n",
      "iteration: 972000 loss: 0.0027 lr: 0.001\n",
      "iteration: 973000 loss: 0.0028 lr: 0.001\n",
      "iteration: 974000 loss: 0.0028 lr: 0.001\n",
      "iteration: 975000 loss: 0.0028 lr: 0.001\n",
      "iteration: 976000 loss: 0.0028 lr: 0.001\n",
      "iteration: 977000 loss: 0.0028 lr: 0.001\n",
      "iteration: 978000 loss: 0.0028 lr: 0.001\n",
      "iteration: 979000 loss: 0.0028 lr: 0.001\n",
      "iteration: 980000 loss: 0.0028 lr: 0.001\n",
      "iteration: 981000 loss: 0.0029 lr: 0.001\n",
      "iteration: 982000 loss: 0.0027 lr: 0.001\n",
      "iteration: 983000 loss: 0.0026 lr: 0.001\n",
      "iteration: 984000 loss: 0.0027 lr: 0.001\n",
      "iteration: 985000 loss: 0.0028 lr: 0.001\n",
      "iteration: 986000 loss: 0.0028 lr: 0.001\n",
      "iteration: 987000 loss: 0.0028 lr: 0.001\n",
      "iteration: 988000 loss: 0.0027 lr: 0.001\n",
      "iteration: 989000 loss: 0.0028 lr: 0.001\n",
      "iteration: 990000 loss: 0.0028 lr: 0.001\n",
      "iteration: 991000 loss: 0.0028 lr: 0.001\n",
      "iteration: 992000 loss: 0.0027 lr: 0.001\n",
      "iteration: 993000 loss: 0.0028 lr: 0.001\n",
      "iteration: 994000 loss: 0.0027 lr: 0.001\n",
      "iteration: 995000 loss: 0.0027 lr: 0.001\n",
      "iteration: 996000 loss: 0.0028 lr: 0.001\n",
      "iteration: 997000 loss: 0.0028 lr: 0.001\n",
      "iteration: 998000 loss: 0.0027 lr: 0.001\n",
      "iteration: 999000 loss: 0.0028 lr: 0.001\n",
      "iteration: 1000000 loss: 0.0028 lr: 0.001\n",
      "iteration: 1001000 loss: 0.0027 lr: 0.001\n",
      "iteration: 1002000 loss: 0.0028 lr: 0.001\n",
      "iteration: 1003000 loss: 0.0028 lr: 0.001\n",
      "iteration: 1004000 loss: 0.0028 lr: 0.001\n",
      "iteration: 1005000 loss: 0.0027 lr: 0.001\n",
      "iteration: 1006000 loss: 0.0027 lr: 0.001\n",
      "iteration: 1007000 loss: 0.0028 lr: 0.001\n",
      "iteration: 1008000 loss: 0.0027 lr: 0.001\n",
      "iteration: 1009000 loss: 0.0028 lr: 0.001\n",
      "iteration: 1010000 loss: 0.0028 lr: 0.001\n",
      "iteration: 1011000 loss: 0.0028 lr: 0.001\n",
      "iteration: 1012000 loss: 0.0028 lr: 0.001\n",
      "iteration: 1013000 loss: 0.0028 lr: 0.001\n",
      "iteration: 1014000 loss: 0.0027 lr: 0.001\n",
      "iteration: 1015000 loss: 0.0027 lr: 0.001\n",
      "iteration: 1016000 loss: 0.0028 lr: 0.001\n",
      "iteration: 1017000 loss: 0.0027 lr: 0.001\n",
      "iteration: 1018000 loss: 0.0028 lr: 0.001\n",
      "iteration: 1019000 loss: 0.0027 lr: 0.001\n",
      "iteration: 1020000 loss: 0.0027 lr: 0.001\n",
      "iteration: 1021000 loss: 0.0027 lr: 0.001\n",
      "iteration: 1022000 loss: 0.0027 lr: 0.001\n",
      "iteration: 1023000 loss: 0.0028 lr: 0.001\n",
      "iteration: 1024000 loss: 0.0028 lr: 0.001\n",
      "iteration: 1025000 loss: 0.0028 lr: 0.001\n",
      "iteration: 1026000 loss: 0.0028 lr: 0.001\n",
      "iteration: 1027000 loss: 0.0027 lr: 0.001\n",
      "iteration: 1028000 loss: 0.0028 lr: 0.001\n",
      "iteration: 1029000 loss: 0.0029 lr: 0.001\n",
      "iteration: 1030000 loss: 0.0027 lr: 0.001\n"
     ]
    },
    {
     "name": "stdout",
     "output_type": "stream",
     "text": [
      "The network is now trained and ready to evaluate. Use the function 'evaluate_network' to evaluate the network.\n"
     ]
    },
    {
     "name": "stderr",
     "output_type": "stream",
     "text": [
      "Exception in thread Thread-7:\n",
      "Traceback (most recent call last):\n",
      "  File \"C:\\Users\\maelle.christiaens\\.conda\\envs\\DLC-GPU\\lib\\site-packages\\tensorflow\\python\\client\\session.py\", line 1334, in _do_call\n",
      "    return fn(*args)\n",
      "  File \"C:\\Users\\maelle.christiaens\\.conda\\envs\\DLC-GPU\\lib\\site-packages\\tensorflow\\python\\client\\session.py\", line 1319, in _run_fn\n",
      "    options, feed_dict, fetch_list, target_list, run_metadata)\n",
      "  File \"C:\\Users\\maelle.christiaens\\.conda\\envs\\DLC-GPU\\lib\\site-packages\\tensorflow\\python\\client\\session.py\", line 1407, in _call_tf_sessionrun\n",
      "    run_metadata)\n",
      "tensorflow.python.framework.errors_impl.CancelledError: Enqueue operation was cancelled\n",
      "\t [[{{node fifo_queue_enqueue}}]]\n",
      "\n",
      "During handling of the above exception, another exception occurred:\n",
      "\n",
      "Traceback (most recent call last):\n",
      "  File \"C:\\Users\\maelle.christiaens\\.conda\\envs\\DLC-GPU\\lib\\threading.py\", line 926, in _bootstrap_inner\n",
      "    self.run()\n",
      "  File \"C:\\Users\\maelle.christiaens\\.conda\\envs\\DLC-GPU\\lib\\threading.py\", line 870, in run\n",
      "    self._target(*self._args, **self._kwargs)\n",
      "  File \"C:\\Users\\maelle.christiaens\\.conda\\envs\\DLC-GPU\\lib\\site-packages\\deeplabcut\\pose_estimation_tensorflow\\train.py\", line 91, in load_and_enqueue\n",
      "    sess.run(enqueue_op, feed_dict=food)\n",
      "  File \"C:\\Users\\maelle.christiaens\\.conda\\envs\\DLC-GPU\\lib\\site-packages\\tensorflow\\python\\client\\session.py\", line 929, in run\n",
      "    run_metadata_ptr)\n",
      "  File \"C:\\Users\\maelle.christiaens\\.conda\\envs\\DLC-GPU\\lib\\site-packages\\tensorflow\\python\\client\\session.py\", line 1152, in _run\n",
      "    feed_dict_tensor, options, run_metadata)\n",
      "  File \"C:\\Users\\maelle.christiaens\\.conda\\envs\\DLC-GPU\\lib\\site-packages\\tensorflow\\python\\client\\session.py\", line 1328, in _do_run\n",
      "    run_metadata)\n",
      "  File \"C:\\Users\\maelle.christiaens\\.conda\\envs\\DLC-GPU\\lib\\site-packages\\tensorflow\\python\\client\\session.py\", line 1348, in _do_call\n",
      "    raise type(e)(node_def, op, message)\n",
      "tensorflow.python.framework.errors_impl.CancelledError: Enqueue operation was cancelled\n",
      "\t [[node fifo_queue_enqueue (defined at C:\\Users\\maelle.christiaens\\.conda\\envs\\DLC-GPU\\lib\\site-packages\\deeplabcut\\pose_estimation_tensorflow\\train.py:77) ]]\n",
      "\n",
      "Caused by op 'fifo_queue_enqueue', defined at:\n",
      "  File \"C:\\Users\\maelle.christiaens\\.conda\\envs\\DLC-GPU\\lib\\runpy.py\", line 193, in _run_module_as_main\n",
      "    \"__main__\", mod_spec)\n",
      "  File \"C:\\Users\\maelle.christiaens\\.conda\\envs\\DLC-GPU\\lib\\runpy.py\", line 85, in _run_code\n",
      "    exec(code, run_globals)\n",
      "  File \"C:\\Users\\maelle.christiaens\\.conda\\envs\\DLC-GPU\\lib\\site-packages\\ipykernel_launcher.py\", line 16, in <module>\n",
      "    app.launch_new_instance()\n",
      "  File \"C:\\Users\\maelle.christiaens\\.conda\\envs\\DLC-GPU\\lib\\site-packages\\traitlets\\config\\application.py\", line 845, in launch_instance\n",
      "    app.start()\n",
      "  File \"C:\\Users\\maelle.christiaens\\.conda\\envs\\DLC-GPU\\lib\\site-packages\\ipykernel\\kernelapp.py\", line 612, in start\n",
      "    self.io_loop.start()\n",
      "  File \"C:\\Users\\maelle.christiaens\\.conda\\envs\\DLC-GPU\\lib\\site-packages\\tornado\\platform\\asyncio.py\", line 149, in start\n",
      "    self.asyncio_loop.run_forever()\n",
      "  File \"C:\\Users\\maelle.christiaens\\.conda\\envs\\DLC-GPU\\lib\\asyncio\\base_events.py\", line 541, in run_forever\n",
      "    self._run_once()\n",
      "  File \"C:\\Users\\maelle.christiaens\\.conda\\envs\\DLC-GPU\\lib\\asyncio\\base_events.py\", line 1786, in _run_once\n",
      "    handle._run()\n",
      "  File \"C:\\Users\\maelle.christiaens\\.conda\\envs\\DLC-GPU\\lib\\asyncio\\events.py\", line 88, in _run\n",
      "    self._context.run(self._callback, *self._args)\n",
      "  File \"C:\\Users\\maelle.christiaens\\.conda\\envs\\DLC-GPU\\lib\\site-packages\\tornado\\ioloop.py\", line 690, in <lambda>\n",
      "    lambda f: self._run_callback(functools.partial(callback, future))\n",
      "  File \"C:\\Users\\maelle.christiaens\\.conda\\envs\\DLC-GPU\\lib\\site-packages\\tornado\\ioloop.py\", line 743, in _run_callback\n",
      "    ret = callback()\n",
      "  File \"C:\\Users\\maelle.christiaens\\.conda\\envs\\DLC-GPU\\lib\\site-packages\\tornado\\gen.py\", line 787, in inner\n",
      "    self.run()\n",
      "  File \"C:\\Users\\maelle.christiaens\\.conda\\envs\\DLC-GPU\\lib\\site-packages\\tornado\\gen.py\", line 748, in run\n",
      "    yielded = self.gen.send(value)\n",
      "  File \"C:\\Users\\maelle.christiaens\\.conda\\envs\\DLC-GPU\\lib\\site-packages\\ipykernel\\kernelbase.py\", line 365, in process_one\n",
      "    yield gen.maybe_future(dispatch(*args))\n",
      "  File \"C:\\Users\\maelle.christiaens\\.conda\\envs\\DLC-GPU\\lib\\site-packages\\tornado\\gen.py\", line 209, in wrapper\n",
      "    yielded = next(result)\n",
      "  File \"C:\\Users\\maelle.christiaens\\.conda\\envs\\DLC-GPU\\lib\\site-packages\\ipykernel\\kernelbase.py\", line 268, in dispatch_shell\n",
      "    yield gen.maybe_future(handler(stream, idents, msg))\n",
      "  File \"C:\\Users\\maelle.christiaens\\.conda\\envs\\DLC-GPU\\lib\\site-packages\\tornado\\gen.py\", line 209, in wrapper\n",
      "    yielded = next(result)\n",
      "  File \"C:\\Users\\maelle.christiaens\\.conda\\envs\\DLC-GPU\\lib\\site-packages\\ipykernel\\kernelbase.py\", line 545, in execute_request\n",
      "    user_expressions, allow_stdin,\n",
      "  File \"C:\\Users\\maelle.christiaens\\.conda\\envs\\DLC-GPU\\lib\\site-packages\\tornado\\gen.py\", line 209, in wrapper\n",
      "    yielded = next(result)\n",
      "  File \"C:\\Users\\maelle.christiaens\\.conda\\envs\\DLC-GPU\\lib\\site-packages\\ipykernel\\ipkernel.py\", line 306, in do_execute\n",
      "    res = shell.run_cell(code, store_history=store_history, silent=silent)\n",
      "  File \"C:\\Users\\maelle.christiaens\\.conda\\envs\\DLC-GPU\\lib\\site-packages\\ipykernel\\zmqshell.py\", line 536, in run_cell\n",
      "    return super(ZMQInteractiveShell, self).run_cell(*args, **kwargs)\n",
      "  File \"C:\\Users\\maelle.christiaens\\.conda\\envs\\DLC-GPU\\lib\\site-packages\\IPython\\core\\interactiveshell.py\", line 2878, in run_cell\n",
      "    raw_cell, store_history, silent, shell_futures)\n",
      "  File \"C:\\Users\\maelle.christiaens\\.conda\\envs\\DLC-GPU\\lib\\site-packages\\IPython\\core\\interactiveshell.py\", line 2923, in _run_cell\n",
      "    return runner(coro)\n",
      "  File \"C:\\Users\\maelle.christiaens\\.conda\\envs\\DLC-GPU\\lib\\site-packages\\IPython\\core\\async_helpers.py\", line 68, in _pseudo_sync_runner\n",
      "    coro.send(None)\n",
      "  File \"C:\\Users\\maelle.christiaens\\.conda\\envs\\DLC-GPU\\lib\\site-packages\\IPython\\core\\interactiveshell.py\", line 3147, in run_cell_async\n",
      "    interactivity=interactivity, compiler=compiler, result=result)\n",
      "  File \"C:\\Users\\maelle.christiaens\\.conda\\envs\\DLC-GPU\\lib\\site-packages\\IPython\\core\\interactiveshell.py\", line 3338, in run_ast_nodes\n",
      "    if (await self.run_code(code, result,  async_=asy)):\n",
      "  File \"C:\\Users\\maelle.christiaens\\.conda\\envs\\DLC-GPU\\lib\\site-packages\\IPython\\core\\interactiveshell.py\", line 3418, in run_code\n",
      "    exec(code_obj, self.user_global_ns, self.user_ns)\n",
      "  File \"<ipython-input-8-78726fdaac56>\", line 1, in <module>\n",
      "    dlc.train_network(config_path)\n",
      "  File \"C:\\Users\\maelle.christiaens\\.conda\\envs\\DLC-GPU\\lib\\site-packages\\deeplabcut\\pose_estimation_tensorflow\\training.py\", line 189, in train_network\n",
      "    allow_growth=allow_growth,\n",
      "  File \"C:\\Users\\maelle.christiaens\\.conda\\envs\\DLC-GPU\\lib\\site-packages\\deeplabcut\\pose_estimation_tensorflow\\train.py\", line 172, in train\n",
      "    batch, enqueue_op, placeholders = setup_preloading(batch_spec)\n",
      "  File \"C:\\Users\\maelle.christiaens\\.conda\\envs\\DLC-GPU\\lib\\site-packages\\deeplabcut\\pose_estimation_tensorflow\\train.py\", line 77, in setup_preloading\n",
      "    enqueue_op = q.enqueue(placeholders_list)\n",
      "  File \"C:\\Users\\maelle.christiaens\\.conda\\envs\\DLC-GPU\\lib\\site-packages\\tensorflow\\python\\ops\\data_flow_ops.py\", line 345, in enqueue\n",
      "    self._queue_ref, vals, name=scope)\n",
      "  File \"C:\\Users\\maelle.christiaens\\.conda\\envs\\DLC-GPU\\lib\\site-packages\\tensorflow\\python\\ops\\gen_data_flow_ops.py\", line 4158, in queue_enqueue_v2\n",
      "    timeout_ms=timeout_ms, name=name)\n",
      "  File \"C:\\Users\\maelle.christiaens\\.conda\\envs\\DLC-GPU\\lib\\site-packages\\tensorflow\\python\\framework\\op_def_library.py\", line 788, in _apply_op_helper\n",
      "    op_def=op_def)\n",
      "  File \"C:\\Users\\maelle.christiaens\\.conda\\envs\\DLC-GPU\\lib\\site-packages\\tensorflow\\python\\util\\deprecation.py\", line 507, in new_func\n",
      "    return func(*args, **kwargs)\n",
      "  File \"C:\\Users\\maelle.christiaens\\.conda\\envs\\DLC-GPU\\lib\\site-packages\\tensorflow\\python\\framework\\ops.py\", line 3300, in create_op\n",
      "    op_def=op_def)\n",
      "  File \"C:\\Users\\maelle.christiaens\\.conda\\envs\\DLC-GPU\\lib\\site-packages\\tensorflow\\python\\framework\\ops.py\", line 1801, in __init__\n",
      "    self._traceback = tf_stack.extract_stack()\n",
      "\n",
      "CancelledError (see above for traceback): Enqueue operation was cancelled\n",
      "\t [[node fifo_queue_enqueue (defined at C:\\Users\\maelle.christiaens\\.conda\\envs\\DLC-GPU\\lib\\site-packages\\deeplabcut\\pose_estimation_tensorflow\\train.py:77) ]]\n",
      "\n",
      "\n"
     ]
    }
   ],
   "source": [
    "dlc.train_network(config_path)"
   ]
  },
  {
   "cell_type": "code",
   "execution_count": null,
   "metadata": {},
   "outputs": [],
   "source": [
    "dlc.launch_dlc()"
   ]
  }
 ],
 "metadata": {
  "kernelspec": {
   "display_name": "Python 3",
   "language": "python",
   "name": "python3"
  },
  "language_info": {
   "codemirror_mode": {
    "name": "ipython",
    "version": 3
   },
   "file_extension": ".py",
   "mimetype": "text/x-python",
   "name": "python",
   "nbconvert_exporter": "python",
   "pygments_lexer": "ipython3",
   "version": "3.8.5"
  }
 },
 "nbformat": 4,
 "nbformat_minor": 4
}
