{
 "cells": [
  {
   "cell_type": "markdown",
   "id": "7b67e366-fb60-4e09-b9f3-ec4db1cfb089",
   "metadata": {},
   "source": [
    "# Transitions NREM-REM"
   ]
  },
  {
   "cell_type": "code",
   "execution_count": 59,
   "id": "343f8ff4-cd17-452f-9da0-9d4424f2907e",
   "metadata": {},
   "outputs": [
    {
     "name": "stdout",
     "output_type": "stream",
     "text": [
      "The memory_profiler extension is already loaded. To reload it, use:\n",
      "  %reload_ext memory_profiler\n"
     ]
    }
   ],
   "source": [
    "import sys\n",
    "import itertools\n",
    "\n",
    "import numpy as np\n",
    "import pandas as pd\n",
    "import scipy.signal\n",
    "from scipy.signal import savgol_filter\n",
    "from scipy.stats import zscore\n",
    "\n",
    "from tqdm import tqdm\n",
    "\n",
    "import neuroseries as nts\n",
    "\n",
    "\n",
    "import time\n",
    "import matplotlib.pyplot as plt\n",
    "# %matplotlib qt\n",
    "\n",
    "import seaborn as sns \n",
    "import bk.load\n",
    "import bk.compute\n",
    "import bk.plot\n",
    "\n",
    "import os\n",
    "%load_ext memory_profiler\n",
    "import cProfile"
   ]
  },
  {
   "cell_type": "code",
   "execution_count": 2,
   "id": "3ec8f593-3a5e-4034-aa35-1a1ab3690f7f",
   "metadata": {},
   "outputs": [],
   "source": [
    "import matplotlib as mpl\n",
    "# COLOR = 'white'\n",
    "# mpl.rcParams['text.color'] = COLOR\n",
    "# mpl.rcParams['axes.labelcolor'] = COLOR\n",
    "# mpl.rcParams['axes.edgecolor'] = COLOR\n",
    "# mpl.rcParams['xtick.color'] = COLOR\n",
    "# mpl.rcParams['ytick.color'] = COLOR\n",
    "# mpl.rcParams['figure.facecolor'] = '#282C34'\n",
    "# mpl.rcParams['axes.facecolor'] = '#282C34'\n",
    "mpl.rcParams['svg.fonttype'] = 'none'\n",
    "# %matplotlib qt"
   ]
  },
  {
   "cell_type": "markdown",
   "id": "7271bf13-36cb-455d-9016-6ba3f1e0ae7f",
   "metadata": {},
   "source": [
    "# Utils Functions"
   ]
  },
  {
   "cell_type": "code",
   "execution_count": 3,
   "id": "38fc1f23-3b78-4aaa-8783-55bdac2c82f8",
   "metadata": {},
   "outputs": [],
   "source": [
    "def transition(states, template,epsilon = 0):\n",
    "    '''\n",
    "    author: BK\n",
    "    states : dict of nts.Interval_set\n",
    "    template : list of state.\n",
    "    epsilon : int, will drop any transition in which there is an epoch shorter than epsilon 's'\n",
    "    This function will find transition that match the template \n",
    "    '''\n",
    "    \n",
    "    long = pd.DataFrame()\n",
    "    for s,i in states.items():\n",
    "        i['state'] = s\n",
    "        long = pd.concat((i,long))\n",
    "        del i['state']\n",
    "    order = np.argsort(long.start)\n",
    "    long = long.iloc[order]\n",
    "    \n",
    "    transition_times = []\n",
    "    transition_intervals = []\n",
    "    for i,s in enumerate(long.state):\n",
    "        tmp = list(long.state[i:i+len(template)])\n",
    "        if tmp == template:\n",
    "            tmp_transition = long.iloc[i:i+len(template)]\n",
    "#             print(d.iloc[i:i+len(template)])\n",
    "            length = (tmp_transition.end - tmp_transition.start)/1_000_000\n",
    "            if np.any(length.values<epsilon): \n",
    "                continue\n",
    "            tmp_pre = np.array(tmp_transition.end[:-1])\n",
    "            tmp_post = np.array(tmp_transition.start[1:])\n",
    "            tmp_times = np.mean([tmp_pre,tmp_post],0)\n",
    "            \n",
    "            \n",
    "            transition_intervals.append([tmp_transition.start.iloc[0],tmp_transition.end.iloc[-1]])\n",
    "            transition_times.append(tmp_times)\n",
    "    \n",
    "    transition_times = np.array(transition_times)\n",
    "    transition_intervals = np.array(transition_intervals)\n",
    "    transition_intervals = nts.IntervalSet(start = transition_intervals[:,0],end = transition_intervals[:,1],force_no_fix = True)\n",
    "    return transition_intervals,transition_times"
   ]
  },
  {
   "cell_type": "markdown",
   "id": "25db52f0-b0e5-407f-aa81-6a305cea8c70",
   "metadata": {
    "tags": []
   },
   "source": [
    "## Computing"
   ]
  },
  {
   "cell_type": "code",
   "execution_count": 4,
   "id": "90c384de-e0cb-49e3-b1c7-aa296321bfa3",
   "metadata": {},
   "outputs": [],
   "source": [
    "def sanity_check(neurons,states,intervals):\n",
    "    plt.ioff()\n",
    "    f = plt.figure(figsize=(12,4),dpi = 300)\n",
    "    ax = plt.subplot(3,1,1)\n",
    "    plt.suptitle(f'Rat : {bk.load.rat} Day : {bk.load.day} - {bk.load.session}')\n",
    "    \n",
    "    for k,s in states.items():\n",
    "        if   k == 'Rem'    : c = 'orange'\n",
    "        elif k == 'sws'    : c = 'grey'\n",
    "        elif k == 'wake'   : c = 'pink'\n",
    "        elif k == 'drowsy' : c = 'green'\n",
    "            \n",
    "        bk.plot.intervals(s,c)\n",
    "\n",
    "    \n",
    "    plt.subplot(3,1,2,sharex = ax)\n",
    "    bk.plot.intervals(intervals)\n",
    "    \n",
    "    plt.subplot(3,1,3,sharex = ax)\n",
    "    bk.plot.rasterPlot(neurons)\n",
    "    plt.tight_layout()\n",
    "    plt.savefig(f'/home/billel/figs/{bk.load.session}.jpeg')\n",
    "    f.clear()\n",
    "    plt.close(f)\n",
    "#     lfp = bk.load.loadLFP()\n",
    "#     plt.subplot(4,1,4,sharex = ax)\n",
    "#     plt.plot(lfp.as_units('s'))\n",
    "    "
   ]
  },
  {
   "cell_type": "code",
   "execution_count": 5,
   "id": "26bcc97d-d5ab-4e09-a199-26915db4dbf8",
   "metadata": {
    "tags": []
   },
   "outputs": [],
   "source": [
    "def main(local_path = 'Rat08/Rat08-20130713',arg = None,plot = False, save = False):\n",
    "    #Variables :\n",
    "    if arg == None:\n",
    "        transition_interest = [['Rem','sws','Rem']] #Template of transitions to follow.\n",
    "        bin_epochs = [12,30,12]\n",
    "    else:\n",
    "        transition_interest = [arg[0]]\n",
    "        bin_epochs = arg[1]\n",
    "    \n",
    "    bk.load.current_session_linux(local_path = local_path)\n",
    "    neurons,metadata = bk.load.loadSpikeData(bk.load.path)\n",
    "    states = bk.load.states()\n",
    "    \n",
    "    #Check transitions : \n",
    "    \n",
    "\n",
    "    for i,transition_name in enumerate(transition_interest): #For each kind of transitions\n",
    "        print(f'Computing {transition_name} transitions')\n",
    "        intervals,timing = transition(states,transition_name,epsilon=50) #Find the timing of the transitions\n",
    "        \n",
    "        \n",
    "        print(f'Found {len(intervals)} transitions')\n",
    "        transition_activity = []\n",
    "        for event,t in zip(intervals.iloc,timing): #For each transitions\n",
    "            epochs = np.array([[event.start,t[0]],[t[0],t[1]],[t[1],event.end]])\n",
    "            #epochs = np.array([(event.start,t[0]),(t[0],event.end)],dtype = np.int64)\n",
    "            epochs = nts.IntervalSet(start = epochs[:,0],end = epochs[:,1])\n",
    "            #Creates intervals for each state of the transitions events.\n",
    "\n",
    "\n",
    "    #         binned = np.array(shape = (252,np.sum(bin_epochs)))\n",
    "    #         binned = np.empty(shape = (252,np.sum(bin_epochs),len(intervals)+1))\n",
    "            binned = np.empty(shape = (len(neurons),1))\n",
    "            for i,epoch in enumerate(epochs.as_units('s').iloc):\n",
    "                start = epoch.start\n",
    "                end = epoch.end\n",
    "                nbins = bin_epochs[i]\n",
    "                _,b = bk.compute.binSpikes(neurons,start = start,stop = end,nbins=nbins)\n",
    "                b = b/((end-start)/nbins) # Converting to firing rates\n",
    "\n",
    "                binned = np.hstack((binned,b))\n",
    "            binned = binned[:,1:]\n",
    "            transition_activity.append(binned)\n",
    "        \n",
    "        transition_activity = np.array(transition_activity)\n",
    "        transition_activity = np.moveaxis(transition_activity,0,2)\n",
    "        if plot:\n",
    "            print(np.mean(transition_activity[metadata.Region == \"BLA\"],2).T.shape)\n",
    "            y_bla = scipy.stats.zscore(np.mean(transition_activity[metadata.Region == \"BLA\"],2).T,0)\n",
    "            y_hpc = scipy.stats.zscore(np.mean(transition_activity[metadata.Region == \"Hpc\"],2).T,0)\n",
    "\n",
    "            plt.figure()\n",
    "            plt.plot(y_bla,'green')\n",
    "            plt.plot(y_hpc,'blue')\n",
    "\n",
    "            plt.title(f'Rat:{bk.load.rat}, Day{bk.load.day} {bk.load.session}')\n",
    "        print(os.getcwd())\n",
    "        # sanity_check(neurons,states,intervals)\n",
    "        return np.array(transition_activity),metadata"
   ]
  },
  {
   "cell_type": "code",
   "execution_count": 7,
   "id": "1d713322-b69f-4361-8963-fa436c014c66",
   "metadata": {},
   "outputs": [
    {
     "name": "stdout",
     "output_type": "stream",
     "text": [
      "Rat : 8 on day : 6\n",
      "Working with session Rat08-20130713 @ /home/billel/Data/GG-Dataset/Rat08/Rat08-20130713\n"
     ]
    },
    {
     "data": {
      "text/plain": [
       "True"
      ]
     },
     "execution_count": 7,
     "metadata": {},
     "output_type": "execute_result"
    }
   ],
   "source": [
    "bk.load.current_session_linux()"
   ]
  },
  {
   "cell_type": "code",
   "execution_count": 8,
   "id": "c815f490-d1e4-4cdc-beea-0f13b189501e",
   "metadata": {
    "tags": []
   },
   "outputs": [
    {
     "name": "stderr",
     "output_type": "stream",
     "text": [
      "100%|██████████| 61/61 [01:04<00:00,  1.06s/it]"
     ]
    },
    {
     "name": "stdout",
     "output_type": "stream",
     "text": [
      "Batch finished in 64.72613191604614\n",
      "Some session were not processed correctly\n",
      "['Rat08-20130712', 'Rat08-20130716', 'Rat08-20130717', 'Rat08-20130718', 'Rat08-20130720', 'Rat08-20130722', 'Rat09-20140324', 'Rat09-20140325', 'Rat09-20140328', 'Rat09-20140329', 'Rat09-20140331', 'Rat09-20140401', 'Rat09-20140402', 'Rat09-20140404', 'Rat09-20140407', 'Rat10-20140622', 'Rat10-20140628', 'Rat10-20140701', 'Rat10-20140702', 'Rat10-20140703', 'Rat10-20140707', 'Rat11-20150313', 'Rat11-20150315', 'Rat11-20150316', 'Rat11-20150317', 'Rat11-20150321', 'Rat11-20150325', 'Rat11-20150327', 'Rat11-20150328', 'Rat11-20150330', 'Rat11-20150331', 'Rat11-20150402', 'Rat11-20150403']\n",
      "54.09836065573771 %\n"
     ]
    },
    {
     "name": "stderr",
     "output_type": "stream",
     "text": [
      "\n"
     ]
    }
   ],
   "source": [
    "arg = [['sws','Rem','sws'],[30,12,30]]\n",
    "NREM_REM_NREM = bk.load.batch(main,arg,verbose=False,linux=True)\n",
    "arg = [['Rem','sws','Rem'],[12,30,12]]\n",
    "REM_NREM_REM = bk.load.batch(main,arg,verbose=False,linux=True)"
   ]
  },
  {
   "cell_type": "markdown",
   "id": "d9ad826a-99ea-44c9-8966-840d64b9735b",
   "metadata": {},
   "source": [
    " ## Merging"
   ]
  },
  {
   "cell_type": "code",
   "execution_count": 149,
   "id": "533ee531-c957-4356-b651-ae149f1a6a8d",
   "metadata": {},
   "outputs": [],
   "source": [
    "def merge(batch,name,discard):\n",
    "    transitions_activity = []\n",
    "    metadata = []\n",
    "    n_transitions = 0\n",
    "    n_sessions = 0\n",
    "    for i,b in batch.items():\n",
    "        #if i not in discard:\n",
    "         if True:\n",
    "            transitions_activity.append(np.mean(b[0],2))\n",
    "            metadata.append(b[1])\n",
    "            n_transitions += b[0].shape[2]\n",
    "            n_sessions += 1 \n",
    "    merged = {'name':name,'average_transition':np.vstack(transitions_activity),'metadata':pd.concat(metadata),'n_transitions':n_transitions,'n_sessions':n_sessions}\n",
    "    merged['metadata'].Type[merged['metadata'].Region == 'CeCM'] = 'Int'\n",
    "    return merged"
   ]
  },
  {
   "cell_type": "code",
   "execution_count": 150,
   "id": "1d82d6ad-8934-4675-8bb3-ad2cd160130a",
   "metadata": {},
   "outputs": [],
   "source": [
    "discard = ['Rat08-20130718','Rat09-20140408','Rat09-20140409','Rat10-20140619','Rat10-20140620','Rat10-20140622']"
   ]
  },
  {
   "cell_type": "code",
   "execution_count": 151,
   "id": "5d23f0bc-7c95-48f5-be02-387e1965c8c3",
   "metadata": {},
   "outputs": [],
   "source": [
    "m_NREM_REM_NREM = merge(NREM_REM_NREM,'NREM_REM_NREM',discard)\n",
    "m_REM_NREM_REM = merge(REM_NREM_REM,'REM_NREM_REM',discard)"
   ]
  },
  {
   "cell_type": "markdown",
   "id": "1cc6ba79-5b60-46bb-92e9-4d19aadfe0e8",
   "metadata": {},
   "source": [
    "## Plotting"
   ]
  },
  {
   "cell_type": "code",
   "execution_count": 152,
   "id": "709d5809-7ead-4de0-8f44-2a4544b94e4c",
   "metadata": {},
   "outputs": [],
   "source": [
    "%matplotlib qt"
   ]
  },
  {
   "cell_type": "code",
   "execution_count": 168,
   "id": "131c1bd3-c4e1-46a7-b77f-30ad45ed8118",
   "metadata": {},
   "outputs": [
    {
     "name": "stdout",
     "output_type": "stream",
     "text": [
      "HpcPyr\n",
      "WilcoxonResult(statistic=164057.0, pvalue=0.45658392885319543)\n",
      "HpcInt\n",
      "WilcoxonResult(statistic=3186.0, pvalue=0.5684921227549036)\n",
      "CeCMInt\n",
      "WilcoxonResult(statistic=87562.0, pvalue=0.9613028206686308)\n",
      "BLAPyr\n",
      "WilcoxonResult(statistic=301924.0, pvalue=0.209615298054312)\n",
      "BLAInt\n",
      "WilcoxonResult(statistic=7135.0, pvalue=0.642062222443402)\n",
      "PirPyr\n",
      "WilcoxonResult(statistic=280840.0, pvalue=0.6494352151216134)\n",
      "PirInt\n",
      "WilcoxonResult(statistic=2535.0, pvalue=0.8908732749937845)\n"
     ]
    }
   ],
   "source": [
    "stru = ['Hpc','CeCM','BLA','Pir']\n",
    "types = ['Pyr','Int']\n",
    "transitions = [m_NREM_REM_NREM]\n",
    "for trans in transitions:\n",
    "    for s in stru:\n",
    "        fig,ax = plt.subplot_mosaic('''AB\n",
    "                                       AC''')\n",
    "        stru_mask = trans['metadata'].Region == s\n",
    "        for t in types:\n",
    "            types_mask = trans['metadata'].Type == t\n",
    "            stru_type_activity = trans['average_transition'][(stru_mask) & types_mask]\n",
    "            if np.any(stru_type_activity) :\n",
    "                print(s+t)\n",
    "                pre_fr = np.mean(zscore(stru_type_activity[:,0:30],0),1)\n",
    "                post_fr = np.mean(zscore(stru_type_activity[:,42:],0),1)\n",
    "                \n",
    "                print(scipy.stats.wilcoxon(pre_fr,post_fr))\n",
    "                a = np.array([pre_fr,post_fr]).T\n",
    "                v = pd.DataFrame(a,columns=[f'{t}Pre',f'{t}Post'])\n",
    "                ax['A'].plot(zscore(np.mean(stru_type_activity.T,1)))\n",
    "                ax['A'].axvspan(15,30)\n",
    "                ax['A'].axvspan(42,42+15)\n",
    "                ax['A'].axvspan(30,42,color = 'orange')\n",
    "                if t == 'Pyr':\n",
    "                    plt.sca(ax['B'])\n",
    "                    sns.violinplot(data = v,inner = 'point')\n",
    "                else:\n",
    "                    plt.sca(ax['C'])\n",
    "                    sns.violinplot(data = v,inner = 'point')\n",
    "\n",
    "                plt.suptitle(trans['name']+s)\n",
    "            \n",
    "            plt.title(f'{t}')"
   ]
  },
  {
   "cell_type": "code",
   "execution_count": 126,
   "id": "fb0f1ff5-0fb3-4490-a8ad-1ff31ca3598f",
   "metadata": {},
   "outputs": [
    {
     "ename": "NameError",
     "evalue": "name 'transitions_activity' is not defined",
     "output_type": "error",
     "traceback": [
      "\u001b[0;31m---------------------------------------------------------------------------\u001b[0m",
      "\u001b[0;31mNameError\u001b[0m                                 Traceback (most recent call last)",
      "\u001b[0;32m<ipython-input-126-f6aa2c11a319>\u001b[0m in \u001b[0;36m<module>\u001b[0;34m\u001b[0m\n\u001b[1;32m      2\u001b[0m     \u001b[0mplt\u001b[0m\u001b[0;34m.\u001b[0m\u001b[0mfigure\u001b[0m\u001b[0;34m(\u001b[0m\u001b[0;34m)\u001b[0m\u001b[0;34m\u001b[0m\u001b[0;34m\u001b[0m\u001b[0m\n\u001b[1;32m      3\u001b[0m     \u001b[0;32mfor\u001b[0m \u001b[0mt\u001b[0m\u001b[0;34m,\u001b[0m\u001b[0mj\u001b[0m \u001b[0;32min\u001b[0m \u001b[0menumerate\u001b[0m\u001b[0;34m(\u001b[0m\u001b[0;34m[\u001b[0m\u001b[0;34m'Pyr'\u001b[0m\u001b[0;34m,\u001b[0m\u001b[0;34m'Int'\u001b[0m\u001b[0;34m]\u001b[0m\u001b[0;34m,\u001b[0m\u001b[0;36m1\u001b[0m\u001b[0;34m)\u001b[0m\u001b[0;34m:\u001b[0m\u001b[0;34m\u001b[0m\u001b[0;34m\u001b[0m\u001b[0m\n\u001b[0;32m----> 4\u001b[0;31m         \u001b[0mstru_type_activity\u001b[0m \u001b[0;34m=\u001b[0m \u001b[0mtransitions_activity\u001b[0m\u001b[0;34m[\u001b[0m\u001b[0;34m(\u001b[0m\u001b[0mmetadata\u001b[0m\u001b[0;34m.\u001b[0m\u001b[0mRegion\u001b[0m \u001b[0;34m==\u001b[0m \u001b[0mi\u001b[0m\u001b[0;34m)\u001b[0m \u001b[0;34m&\u001b[0m \u001b[0;34m(\u001b[0m\u001b[0mmetadata\u001b[0m\u001b[0;34m.\u001b[0m\u001b[0mType\u001b[0m \u001b[0;34m==\u001b[0m \u001b[0mj\u001b[0m\u001b[0;34m)\u001b[0m\u001b[0;34m]\u001b[0m\u001b[0;34m\u001b[0m\u001b[0;34m\u001b[0m\u001b[0m\n\u001b[0m\u001b[1;32m      5\u001b[0m         \u001b[0mplt\u001b[0m\u001b[0;34m.\u001b[0m\u001b[0msubplot\u001b[0m\u001b[0;34m(\u001b[0m\u001b[0;36m1\u001b[0m\u001b[0;34m,\u001b[0m\u001b[0;36m2\u001b[0m\u001b[0;34m,\u001b[0m\u001b[0mt\u001b[0m\u001b[0;34m)\u001b[0m\u001b[0;34m\u001b[0m\u001b[0;34m\u001b[0m\u001b[0m\n\u001b[1;32m      6\u001b[0m         \u001b[0;32mif\u001b[0m \u001b[0mnp\u001b[0m\u001b[0;34m.\u001b[0m\u001b[0many\u001b[0m\u001b[0;34m(\u001b[0m\u001b[0mstru_type_activity\u001b[0m\u001b[0;34m)\u001b[0m\u001b[0;34m:\u001b[0m\u001b[0;34m\u001b[0m\u001b[0;34m\u001b[0m\u001b[0m\n",
      "\u001b[0;31mNameError\u001b[0m: name 'transitions_activity' is not defined"
     ]
    }
   ],
   "source": [
    "for r,i in enumerate(['Hpc','CeCM','BLA','Pir']):\n",
    "    plt.figure()\n",
    "    for t,j in enumerate(['Pyr','Int'],1):\n",
    "        stru_type_activity = transitions_activity[(metadata.Region == i) & (metadata.Type == j)]\n",
    "        plt.subplot(1,2,t)\n",
    "        if np.any(stru_type_activity):\n",
    "#             order = np.argsort(np.mean(stru_type_activity[:,30:41],1)/np.mean(stru_type_activity,1))\n",
    "            plt.title(f'Stru : {i} type : {j}')\n",
    "            plt.imshow(stru_type_activity[:,:],aspect='auto');\n",
    "            plt.clim([-5,5])\n",
    "    plt.tight_layout()"
   ]
  },
  {
   "cell_type": "code",
   "execution_count": 141,
   "id": "194fe07b-9b18-4d4e-8914-ffa515510de1",
   "metadata": {},
   "outputs": [
    {
     "data": {
      "text/html": [
       "<div>\n",
       "<style scoped>\n",
       "    .dataframe tbody tr th:only-of-type {\n",
       "        vertical-align: middle;\n",
       "    }\n",
       "\n",
       "    .dataframe tbody tr th {\n",
       "        vertical-align: top;\n",
       "    }\n",
       "\n",
       "    .dataframe thead th {\n",
       "        text-align: right;\n",
       "    }\n",
       "</style>\n",
       "<table border=\"1\" class=\"dataframe\">\n",
       "  <thead>\n",
       "    <tr style=\"text-align: right;\">\n",
       "      <th></th>\n",
       "      <th>Rat</th>\n",
       "      <th>Day</th>\n",
       "      <th>Shank</th>\n",
       "      <th>Id</th>\n",
       "      <th>Region</th>\n",
       "      <th>Type</th>\n",
       "    </tr>\n",
       "  </thead>\n",
       "  <tbody>\n",
       "    <tr>\n",
       "      <th>0</th>\n",
       "      <td>8</td>\n",
       "      <td>1</td>\n",
       "      <td>4</td>\n",
       "      <td>2</td>\n",
       "      <td>Hpc</td>\n",
       "      <td>Pyr</td>\n",
       "    </tr>\n",
       "    <tr>\n",
       "      <th>1</th>\n",
       "      <td>8</td>\n",
       "      <td>1</td>\n",
       "      <td>4</td>\n",
       "      <td>3</td>\n",
       "      <td>Hpc</td>\n",
       "      <td>Pyr</td>\n",
       "    </tr>\n",
       "    <tr>\n",
       "      <th>2</th>\n",
       "      <td>8</td>\n",
       "      <td>1</td>\n",
       "      <td>4</td>\n",
       "      <td>4</td>\n",
       "      <td>Hpc</td>\n",
       "      <td>Int</td>\n",
       "    </tr>\n",
       "    <tr>\n",
       "      <th>3</th>\n",
       "      <td>8</td>\n",
       "      <td>1</td>\n",
       "      <td>4</td>\n",
       "      <td>5</td>\n",
       "      <td>Hpc</td>\n",
       "      <td>Pyr</td>\n",
       "    </tr>\n",
       "    <tr>\n",
       "      <th>4</th>\n",
       "      <td>8</td>\n",
       "      <td>1</td>\n",
       "      <td>4</td>\n",
       "      <td>6</td>\n",
       "      <td>Hpc</td>\n",
       "      <td>Pyr</td>\n",
       "    </tr>\n",
       "    <tr>\n",
       "      <th>...</th>\n",
       "      <td>...</td>\n",
       "      <td>...</td>\n",
       "      <td>...</td>\n",
       "      <td>...</td>\n",
       "      <td>...</td>\n",
       "      <td>...</td>\n",
       "    </tr>\n",
       "    <tr>\n",
       "      <th>73</th>\n",
       "      <td>11</td>\n",
       "      <td>20</td>\n",
       "      <td>18</td>\n",
       "      <td>15</td>\n",
       "      <td>Hpc</td>\n",
       "      <td>Int</td>\n",
       "    </tr>\n",
       "    <tr>\n",
       "      <th>74</th>\n",
       "      <td>11</td>\n",
       "      <td>20</td>\n",
       "      <td>20</td>\n",
       "      <td>2</td>\n",
       "      <td>Hpc</td>\n",
       "      <td>Pyr</td>\n",
       "    </tr>\n",
       "    <tr>\n",
       "      <th>75</th>\n",
       "      <td>11</td>\n",
       "      <td>20</td>\n",
       "      <td>20</td>\n",
       "      <td>3</td>\n",
       "      <td>Hpc</td>\n",
       "      <td>Pyr</td>\n",
       "    </tr>\n",
       "    <tr>\n",
       "      <th>76</th>\n",
       "      <td>11</td>\n",
       "      <td>20</td>\n",
       "      <td>20</td>\n",
       "      <td>4</td>\n",
       "      <td>Hpc</td>\n",
       "      <td>Pyr</td>\n",
       "    </tr>\n",
       "    <tr>\n",
       "      <th>104</th>\n",
       "      <td>11</td>\n",
       "      <td>21</td>\n",
       "      <td>18</td>\n",
       "      <td>2</td>\n",
       "      <td>Hpc</td>\n",
       "      <td>Pyr</td>\n",
       "    </tr>\n",
       "  </tbody>\n",
       "</table>\n",
       "<p>938 rows × 6 columns</p>\n",
       "</div>"
      ],
      "text/plain": [
       "    Rat Day Shank  Id Region Type\n",
       "0     8   1     4   2    Hpc  Pyr\n",
       "1     8   1     4   3    Hpc  Pyr\n",
       "2     8   1     4   4    Hpc  Int\n",
       "3     8   1     4   5    Hpc  Pyr\n",
       "4     8   1     4   6    Hpc  Pyr\n",
       "..   ..  ..   ...  ..    ...  ...\n",
       "73   11  20    18  15    Hpc  Int\n",
       "74   11  20    20   2    Hpc  Pyr\n",
       "75   11  20    20   3    Hpc  Pyr\n",
       "76   11  20    20   4    Hpc  Pyr\n",
       "104  11  21    18   2    Hpc  Pyr\n",
       "\n",
       "[938 rows x 6 columns]"
      ]
     },
     "execution_count": 141,
     "metadata": {},
     "output_type": "execute_result"
    }
   ],
   "source": [
    "metadata[metadata.Region == 'Hpc']"
   ]
  },
  {
   "cell_type": "code",
   "execution_count": 67,
   "id": "941e2fb5-0c51-45c5-9bc3-93a70382c31e",
   "metadata": {},
   "outputs": [
    {
     "name": "stdout",
     "output_type": "stream",
     "text": [
      "Rat : 8 on day : 6\n",
      "Working with session Rat08-20130713 @ /home/billel/Data/GG-Dataset/Rat08/Rat08-20130713\n"
     ]
    },
    {
     "data": {
      "text/plain": [
       "True"
      ]
     },
     "execution_count": 67,
     "metadata": {},
     "output_type": "execute_result"
    }
   ],
   "source": [
    "bk.load.current_session_linux()"
   ]
  },
  {
   "cell_type": "code",
   "execution_count": 68,
   "id": "dbdf7ccd-d9ca-458b-af14-b80bf31f04a5",
   "metadata": {},
   "outputs": [],
   "source": [
    "states = bk.load.states()"
   ]
  },
  {
   "cell_type": "code",
   "execution_count": 69,
   "id": "a653916c-76f0-4bf8-9751-a561cf27b7d5",
   "metadata": {},
   "outputs": [
    {
     "data": {
      "text/plain": [
       "(          start          end\n",
       " 0    1448000000   1697000000\n",
       " 1    1777000000   1926000000\n",
       " 2    2104000000   2429000000\n",
       " 3    2826000000   3275000000\n",
       " 4    3383000000   3841000000\n",
       " 5    3888000000   3916000000\n",
       " 6    3970000000   3992000000\n",
       " 7    4024000000   4529000000\n",
       " 8    4568000000   4648000000\n",
       " 9    5044000000   5426000000\n",
       " 10   5489000000   6069000000\n",
       " 11   6368000000   6629000000\n",
       " 12   6970000000   7311000000\n",
       " 13   7375000000   7759000000\n",
       " 14   7788000000   7909000000\n",
       " 15   8485000000   8797000000\n",
       " 16   8887000000   9333000000\n",
       " 17  15516000000  16145000000\n",
       " 18  16436000000  16765000000\n",
       " 19  16801000000  17259000000\n",
       " 20  17364000000  17429000000\n",
       " 21  17497000000  17669000000\n",
       " 22  17689000000  17764000000\n",
       " 23  17791000000  17810000000\n",
       " 24  17852000000  18076000000\n",
       " 25  18132000000  18528000000\n",
       " 26  18663000000  18979000000\n",
       " 27  19086000000  19167000000\n",
       " 28  19187000000  19448000000\n",
       " 29  19546000000  19771000000\n",
       " 30  19818000000  20363000000\n",
       " 31  20867000000  21286000000\n",
       " 32  21359000000  21629000000\n",
       " 33  21675000000  21850000000,\n",
       " array([], shape=(34, 0), dtype=float64))"
      ]
     },
     "execution_count": 69,
     "metadata": {},
     "output_type": "execute_result"
    }
   ],
   "source": [
    "transition(states,['sws'])"
   ]
  },
  {
   "cell_type": "code",
   "execution_count": 4,
   "id": "768229e7-d84f-4fe4-bdb1-bc12ef5297d1",
   "metadata": {
    "tags": []
   },
   "outputs": [],
   "source": [
    "# transition_interest = [('Rem','sws'),('sws','Rem'),('Rem','wake')]\n",
    "# s = \"ABC\"\n",
    "# fig,ax = plt.subplot_mosaic('ABC')\n",
    "# for ii,i in enumerate(transition_interest):\n",
    "#     binned = []\n",
    "#     for event,trans_time in zip(transitions[i].as_units('s').iloc,times[i].as_units('s').index.values):\n",
    "#         print(trans_time)\n",
    "#         print('he')\n",
    "#         start = event.start\n",
    "#         end = event.end\n",
    "        \n",
    "#         if (end-trans_time)<50 or (trans_time-start) <50: continue\n",
    "# #         if (end-trans_time) > 180: end = trans_time+120\n",
    "# #         if (trans_time-start) > 180: start = trans_time-120\n",
    "        \n",
    "        \n",
    "        \n",
    "#         t_pre,b_pre = bk.compute.binSpikes(neurons,start = start,stop = trans_time,nbins=30)\n",
    "#         t_post,b_post = bk.compute.binSpikes(neurons,start = trans_time,stop = end,nbins=12)\n",
    "#         b_pre = b_pre/((trans_time-start)/30)\n",
    "#         b_post = b_post/((end-trans_time)/12)\n",
    "#         t = np.hstack((t_pre,t_post))\n",
    "#         b = np.hstack((b_pre,b_post))\n",
    "        \n",
    "# #         plt.figure()\n",
    "# #         plt.plot(t,b.T)\n",
    "# #         plt.axvline(trans_time,color = 'red')\n",
    "#         binned.append(b)\n",
    "#     ax[s[ii]].plot(np.mean(binned,0).T)\n",
    "    \n",
    "# plt.suptitle('Transition')"
   ]
  }
 ],
 "metadata": {
  "kernelspec": {
   "display_name": "Python 3",
   "language": "python",
   "name": "python3"
  },
  "language_info": {
   "codemirror_mode": {
    "name": "ipython",
    "version": 3
   },
   "file_extension": ".py",
   "mimetype": "text/x-python",
   "name": "python",
   "nbconvert_exporter": "python",
   "pygments_lexer": "ipython3",
   "version": "3.8.5"
  }
 },
 "nbformat": 4,
 "nbformat_minor": 5
}
