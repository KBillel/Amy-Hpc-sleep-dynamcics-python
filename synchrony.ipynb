{
 "cells": [
  {
   "cell_type": "markdown",
   "metadata": {},
   "source": [
    "### Try to find a way to compute the synchrony of neurons accross time"
   ]
  },
  {
   "cell_type": "code",
   "execution_count": 43,
   "metadata": {},
   "outputs": [],
   "source": [
    "import sys\n",
    "import itertools\n",
    "\n",
    "import numpy as np\n",
    "import pandas as pd\n",
    "import scipy.signal\n",
    "from scipy.signal import savgol_filter\n",
    "\n",
    "from tqdm import tqdm\n",
    "\n",
    "import neuroseries as nts\n",
    "\n",
    "\n",
    "import time\n",
    "import matplotlib.pyplot as plt\n",
    "%matplotlib qt\n",
    "\n",
    "import seaborn as sns \n",
    "import bk.load\n",
    "import bk.compute\n",
    "import bk.plot\n",
    "\n",
    "import os\n",
    "\n",
    "# import basefunction.anass_load as at"
   ]
  },
  {
   "cell_type": "code",
   "execution_count": 44,
   "metadata": {},
   "outputs": [],
   "source": [
    "# def binEdges2centers(BinEdges):\n",
    "#     #Vitor Code (Thanks)\n",
    "#     BinCenters = np.convolve(BinEdges,[.5,.5],'same')\n",
    "#     BinCenters = BinCenters[1::]\n",
    "\n",
    "#     return BinCenters"
   ]
  },
  {
   "cell_type": "code",
   "execution_count": 45,
   "metadata": {
    "jupyter": {
     "source_hidden": true
    }
   },
   "outputs": [],
   "source": [
    "# def synchrony(neurons,metadata,binSize,stru,sm = 201,method = 'corr',plot = True):\n",
    "#     #Old version, please refer to below\n",
    "#     try: bk.load.session\n",
    "#     except NameError: bk.load.session = None\n",
    "    \n",
    "# #     binSize = 0.1\n",
    "#     winSize = int(1/binSize)\n",
    "#     step = int(1/binSize)\n",
    "\n",
    "    \n",
    "#     print(len(neurons))\n",
    "#     print(binSize)\n",
    "    \n",
    "\n",
    "#     binned,t = binSpikes(neurons,binSize)\n",
    "    \n",
    "#     stru_shank = {}\n",
    "#     stru_mask  = {}\n",
    "    \n",
    "#     for s in stru:\n",
    "#             stru_shank.update({s:at.get_structure_shanks(bk.load.session,s)})\n",
    "#             if not np.any(stru_shank[s]):\n",
    "#                 print('Could not compute ' + s + ' because is you don\\'t have shank in it')\n",
    "#                 continue\n",
    "#             stru_mask.update({s:[i in stru_shank[s] for i in metadata[:,0]]})\n",
    "    \n",
    "#     if method == 'corr':\n",
    "#         pbar = ProgressBar()\n",
    "#         corr = np.empty((int(binned.shape[1]/step)+1,len(neurons),len(neurons)))   \n",
    "\n",
    "#         for i,j in enumerate(pbar(range(0,binned.shape[1],step))):\n",
    "#             corr[i] = np.corrcoef(binned[:,j:j+winSize])\n",
    "#             corr[i][np.isnan(corr[i])] = 0\n",
    "#         t = t[::step]\n",
    "#         # corr = np.abs(corr)\n",
    "\n",
    "#         stru_corr  = {}\n",
    "#         stru_sync  = {}\n",
    "            \n",
    "#         for s in stru_mask.keys():\n",
    "#             print('computing '+s)\n",
    "#             stru_corr.update({s:corr[:,:,stru_mask[s]][:,stru_mask[s]]})\n",
    "#             stru_sync.update({s:np.nanmean(stru_corr[s],axis = (1,2))})\n",
    "\n",
    "#         stru_corr.update({'Hpc-BLA':corr[:,:,stru_mask['Hpc']][:,stru_mask['BLA']]})\n",
    "#         stru_sync.update({'Hpc-BLA':np.nanmean(stru_corr['Hpc-BLA'],axis = (1,2))})\n",
    "\n",
    "#         # for s,s2 in itertools.combinations(stru_mask.keys(),2):\n",
    "#         #     print('computing '+s+'-'+s2)\n",
    "#         #     stru_corr.update({s+'-'+s2:corr[:,:,stru_mask[s]][:,stru_mask[s2]]})\n",
    "#         #     stru_sync.update({s+'-'+s2:np.nanmean(stru_corr[s+'-'+s2],axis = (1,2))})\n",
    "\n",
    "#     elif method == 'coactivation':\n",
    "#         #Binarize the binning.\n",
    "#         #count number of cell active at each timebin\n",
    "#         # nb of cell active / total number in da category for each time point. \n",
    "    \n",
    "#         binarize_binned = np.where(binned<1,binned,1)\n",
    "#         stru_sync  = {}\n",
    "#         for s in stru_mask.keys():\n",
    "#             print('computing '+s)\n",
    "#             stru_sync.update({s:np.sum(binarize_binned[stru_mask[s],:],0)/binarize_binned.shape[0]})\n",
    "            \n",
    "#     elif method == 'firing':\n",
    "#         stru_sync  = {}\n",
    "#         for s in stru_mask.keys():\n",
    "#             print('computing '+s)\n",
    "#             stru_sync.update({s:np.mean(binned[stru_mask[s],:],0)/binSize})\n",
    "#     else:    \n",
    "\n",
    "#         print(method + ' Is an unknown method')\n",
    "#         raise ValueError('Unknow Method')\n",
    "    \n",
    "    \n",
    "#     if plot:\n",
    "#         for s in stru_sync:\n",
    "#             plt.plot(t,savgol_filter(stru_sync[s],sm,3))\n",
    "#         plt.title('synchrony during ' + bk.session)\n",
    "#         plt.legend([s for s in stru_sync.keys()])\n",
    "#         plt.ylabel('r')\n",
    "#         plt.xlabel('Time(s)')\n",
    "\n",
    "#         Rem = nts.IntervalSet(scipy.io.loadmat('States.mat')['Rem'][:,0],scipy.io.loadmat('States.mat')['Rem'][:,1],time_units = 's')\n",
    "#         plotIntervals(Rem,'darkorange')\n",
    "\n",
    "#         sws = nts.IntervalSet(scipy.io.loadmat('States.mat')['sws'][:,0],scipy.io.loadmat('States.mat')['sws'][:,1],time_units = 's')\n",
    "#         plotIntervals(sws,'grey')\n",
    "    \n",
    "#     return stru_sync\n",
    "\n",
    "# def binSpikes(neurons,binSize = 0.05,start = 0,stop = 0):\n",
    "#     if stop == 0:\n",
    "#         stop = np.max([neuron.as_units('s').index[-1] for neuron in neurons])\n",
    "\n",
    "#     bins = np.arange(start,stop,binSize)\n",
    "#     binned = []\n",
    "#     for neuron in neurons:\n",
    "#         hist,b = np.histogram(neuron.as_units('s').index,bins = bins)\n",
    "#         binned.append(hist)\n",
    "\n",
    "#     return np.array(binned), binEdges2centers(b)\n",
    "\n",
    "# def plotIntervals(intervals,col):\n",
    "#     for interval in intervals.as_units('s').values:\n",
    "#         plt.axvspan(interval[0],interval[1], facecolor=col, alpha=0.5)"
   ]
  },
  {
   "cell_type": "code",
   "execution_count": 159,
   "metadata": {},
   "outputs": [],
   "source": [
    "def synchrony(neurons,binSize,winSize,step,sm = 201,method = 'corr',plot = True):\n",
    "    try: bk.load.session\n",
    "    except NameError : bk.load.session = None\n",
    "    \n",
    "    winSize = int(winSize / binSize)\n",
    "    step = int(step/binSize)\n",
    "    print('Computing synchrony with following parameters')\n",
    "    print('winSize (bins) : ',winSize*2)\n",
    "    print('Step    (bins) : ',step)\n",
    "    print(len(neurons),' neurons')\n",
    "    t,binned = bk.compute.binSpikes(neurons,binSize)\n",
    "    \n",
    "    if method.lower() == 'corr':\n",
    "        \n",
    "        #Don't really why, but it's working this way ... \n",
    "        corr_sample = binned.shape[1]/step\n",
    "        if not corr_sample.is_integer(): \n",
    "            corr_sample = int(corr_sample)+1\n",
    "        else:\n",
    "            corr_sample = int(corr_sample)\n",
    "            \n",
    "        corr = np.zeros(corr_sample)\n",
    "        for i,j in enumerate(tqdm(range(0,binned.shape[1],step))):\n",
    "            \n",
    "            corr_mat = np.corrcoef(binned[:,j-winSize:j+winSize])\n",
    "#             corr_mat[np.isnan(corr_mat)] = 0\n",
    "            corr[i] = np.nanmean(corr_mat)\n",
    "        t = t[::step]\n",
    "        \n",
    "        corr = nts.Tsd(t,corr,time_units = 's')\n",
    "        return corr\n",
    "\n",
    "def average_over_transitions(signal,nBins,intervals,timing,states):\n",
    "    if len(intervals) < 4: return 0\n",
    "    \n",
    "    c_all = []\n",
    "    pre_all = []\n",
    "    post_all = []\n",
    "    \n",
    "    for event,t in zip(intervals.iloc,timing.index.values):\n",
    "        pre = nts.IntervalSet(event[0],t)\n",
    "        post = nts.IntervalSet(t,event[1])\n",
    "        event = nts.IntervalSet(event[0],event[1])\n",
    "\n",
    "        if pre.tot_length(time_units = 's') < 150: continue\n",
    "        if post.tot_length(time_units = 's') < 50: continue\n",
    "        \n",
    "        s = signal.restrict(event)\n",
    "        s.index = s.index-t\n",
    "        s_pre = signal.restrict(pre)\n",
    "        s_post = signal.restrict(post)\n",
    "        \n",
    "        plt.plot(s.as_units('s')[-150:50],'grey',alpha = 0.1)\n",
    "        c_all.append(s.as_units('s')[-150:50])\n",
    "        pre_all.append(np.mean(s.as_units('s')[-150:0].values)) \n",
    "        post_all.append(np.mean(s.as_units('s')[0:50].values))\n",
    "        \n",
    "    c_all = np.array(c_all)\n",
    "    c_all_ave = nts.Tsd(s.as_units('s')[-150:50].index.values*1_000_000,np.nanmean(c_all,0))\n",
    "    \n",
    "    plt.axvline(0,color = 'red')\n",
    "    plt.axvspan(0,50,facecolor = 'orange',alpha = 0.5)\n",
    "    plt.plot(c_all_ave.as_units('s'))\n",
    "    print(np.nanmean(np.array([pre_all,post_all]),1))\n",
    "    \n",
    "    return c_all"
   ]
  },
  {
   "cell_type": "code",
   "execution_count": 160,
   "metadata": {},
   "outputs": [],
   "source": [
    "def main(path):\n",
    "    bk.load.current_session(path)\n",
    "    neurons,metadata = bk.load.loadSpikeData(bk.load.path)\n",
    "    states = bk.load.states()\n",
    "    stru = metadata.Region.unique()\n",
    "    stru = np.delete(stru,stru == 'None')\n",
    "    \n",
    "    transitions = bk.compute.transitions_times(states)\n",
    "    plt.figure()\n",
    "    plt.suptitle(bk.load.session)\n",
    "    c_all = {}\n",
    "    for i,s in enumerate(stru,0):\n",
    "        t = 'Pyr'\n",
    "        print(s,t)\n",
    "        c = synchrony(neurons[(metadata.Region == s) & (metadata.Type == t)],binSize = 0.005,winSize = 1,step = 1)\n",
    "        c_sm = bk.compute.nts_smooth(c,100,50)\n",
    "        plt.subplot(len(stru),1,i+1)\n",
    "        plt.title(f'{s} + {t}')\n",
    "        average = average_over_transitions(c,[30,12],transitions[0][('sws', 'Rem')],transitions[1][('sws', 'Rem')],states)\n",
    "        c_all.update({s:average})\n",
    "    #     plt.plot(c.as_units('s'),alpha = 0.8) \n",
    "    #     plt.plot(c_sm.as_units('s'),alpha = 0.9)\n",
    "\n",
    "        #     c = nts.Tsd(c.index.values,np.convolve(c.values,g,'same'))\n",
    "    #     plt.plot(bk.compute.nts_smooth(c,100,).as_units('s'))\n",
    "    # bk.plot.intervals(states['Rem'],'orange')\n",
    "    # bk.plot.intervals(states['sws'],'grey')\n",
    "    return c_all"
   ]
  },
  {
   "cell_type": "code",
   "execution_count": 71,
   "metadata": {
    "jupyter": {
     "source_hidden": true
    }
   },
   "outputs": [
    {
     "ename": "FileNotFoundError",
     "evalue": "[WinError 3] The system cannot find the path specified: '/media/billel/GGLab-01-BK/DATA/Rat08-20130713/'",
     "output_type": "error",
     "traceback": [
      "\u001b[1;31m---------------------------------------------------------------------------\u001b[0m",
      "\u001b[1;31mFileNotFoundError\u001b[0m                         Traceback (most recent call last)",
      "\u001b[1;32m<ipython-input-71-6b857cc4c5ef>\u001b[0m in \u001b[0;36m<module>\u001b[1;34m\u001b[0m\n\u001b[0;32m      1\u001b[0m \u001b[0mpath\u001b[0m \u001b[1;33m=\u001b[0m \u001b[1;34m'/media/billel/GGLab-01-BK/DATA/Rat08-20130713/'\u001b[0m\u001b[1;33m\u001b[0m\u001b[1;33m\u001b[0m\u001b[0m\n\u001b[1;32m----> 2\u001b[1;33m \u001b[0mos\u001b[0m\u001b[1;33m.\u001b[0m\u001b[0mchdir\u001b[0m\u001b[1;33m(\u001b[0m\u001b[0mpath\u001b[0m\u001b[1;33m)\u001b[0m\u001b[1;33m\u001b[0m\u001b[1;33m\u001b[0m\u001b[0m\n\u001b[0m\u001b[0;32m      3\u001b[0m \u001b[0mbk\u001b[0m\u001b[1;33m.\u001b[0m\u001b[0mload\u001b[0m\u001b[1;33m.\u001b[0m\u001b[0mpath\u001b[0m \u001b[1;33m=\u001b[0m \u001b[0mpath\u001b[0m\u001b[1;33m\u001b[0m\u001b[1;33m\u001b[0m\u001b[0m\n\u001b[0;32m      4\u001b[0m \u001b[0mbk\u001b[0m\u001b[1;33m.\u001b[0m\u001b[0mload\u001b[0m\u001b[1;33m.\u001b[0m\u001b[0mrat\u001b[0m \u001b[1;33m=\u001b[0m \u001b[1;36m8\u001b[0m\u001b[1;33m\u001b[0m\u001b[1;33m\u001b[0m\u001b[0m\n\u001b[0;32m      5\u001b[0m \u001b[0mbk\u001b[0m\u001b[1;33m.\u001b[0m\u001b[0mload\u001b[0m\u001b[1;33m.\u001b[0m\u001b[0msession\u001b[0m \u001b[1;33m=\u001b[0m \u001b[1;34m'Rat08-20130713'\u001b[0m\u001b[1;33m\u001b[0m\u001b[1;33m\u001b[0m\u001b[0m\n",
      "\u001b[1;31mFileNotFoundError\u001b[0m: [WinError 3] The system cannot find the path specified: '/media/billel/GGLab-01-BK/DATA/Rat08-20130713/'"
     ]
    }
   ],
   "source": [
    "path = '/media/billel/GGLab-01-BK/DATA/Rat08-20130713/'\n",
    "os.chdir(path)\n",
    "bk.load.path = path\n",
    "bk.load.rat = 8\n",
    "bk.load.session = 'Rat08-20130713'\n",
    "bk.load.day = 6"
   ]
  },
  {
   "cell_type": "code",
   "execution_count": 105,
   "metadata": {},
   "outputs": [
    {
     "name": "stdout",
     "output_type": "stream",
     "text": [
      "Data already saved in Numpy format, loading them from here:\n",
      "Rat08-20130713-neurons.npy\n",
      "Rat08-20130713-metadata.npy\n"
     ]
    }
   ],
   "source": [
    "neurons,metadata = bk.load.loadSpikeData(bk.load.path)"
   ]
  },
  {
   "cell_type": "code",
   "execution_count": 109,
   "metadata": {},
   "outputs": [],
   "source": [
    "interval = nts.IntervalSet(1250,1251,time_units='s')"
   ]
  },
  {
   "cell_type": "code",
   "execution_count": 119,
   "metadata": {},
   "outputs": [],
   "source": [
    "for i,n in enumerate(neurons):\n",
    "    neurons[i] = n.restrict(interval)"
   ]
  },
  {
   "cell_type": "code",
   "execution_count": 111,
   "metadata": {},
   "outputs": [
    {
     "name": "stderr",
     "output_type": "stream",
     "text": [
      "C:\\ProgramData\\Anaconda3\\lib\\site-packages\\numpy\\lib\\function_base.py:2559: RuntimeWarning: invalid value encountered in true_divide\n",
      "  c /= stddev[:, None]\n",
      "C:\\ProgramData\\Anaconda3\\lib\\site-packages\\numpy\\lib\\function_base.py:2560: RuntimeWarning: invalid value encountered in true_divide\n",
      "  c /= stddev[None, :]\n"
     ]
    },
    {
     "data": {
      "text/plain": [
       "<matplotlib.image.AxesImage at 0x1d98c3d4688>"
      ]
     },
     "execution_count": 111,
     "metadata": {},
     "output_type": "execute_result"
    }
   ],
   "source": [
    "t,b = bk.compute.binSpikes(neurons,binSize= 0.050)\n",
    "corr = np.corrcoef(b)\n",
    "plt.figure()\n",
    "plt.imshow(corr)"
   ]
  },
  {
   "cell_type": "code",
   "execution_count": 72,
   "metadata": {},
   "outputs": [],
   "source": [
    "%matplotlib qt"
   ]
  },
  {
   "cell_type": "code",
   "execution_count": 161,
   "metadata": {},
   "outputs": [
    {
     "name": "stdout",
     "output_type": "stream",
     "text": [
      "Rat : 8 on day : 6\n",
      "Working with session Rat08-20130713 @ Z:\\Rat08\\Rat08-20130713\n",
      "Data already saved in Numpy format, loading them from here:\n",
      "Rat08-20130713-neurons.npy\n",
      "Rat08-20130713-metadata.npy\n",
      "Looking at transition from Rem  to  sws\n",
      "Looking at transition from Rem  to  wake\n",
      "Looking at transition from Rem  to  drowsy\n",
      "Looking at transition from sws  to  Rem\n",
      "Looking at transition from sws  to  wake\n",
      "Looking at transition from sws  to  drowsy\n",
      "Looking at transition from wake  to  Rem\n",
      "Looking at transition from wake  to  sws\n",
      "Looking at transition from wake  to  drowsy\n",
      "Looking at transition from drowsy  to  Rem\n",
      "Looking at transition from drowsy  to  sws\n",
      "Looking at transition from drowsy  to  wake\n",
      "Hpc Pyr\n",
      "Computing synchrony with following parameters\n",
      "winSize (bins) :  400\n",
      "Step    (bins) :  200\n",
      "55  neurons\n"
     ]
    },
    {
     "name": "stderr",
     "output_type": "stream",
     "text": [
      "  0%|                                                                                        | 0/22680 [00:00<?, ?it/s]C:\\ProgramData\\Anaconda3\\lib\\site-packages\\numpy\\lib\\function_base.py:380: RuntimeWarning: Mean of empty slice.\n",
      "  avg = a.mean(axis)\n",
      "C:\\ProgramData\\Anaconda3\\lib\\site-packages\\numpy\\core\\_methods.py:163: RuntimeWarning: invalid value encountered in true_divide\n",
      "  ret, rcount, out=ret, casting='unsafe', subok=False)\n",
      "C:\\ProgramData\\Anaconda3\\lib\\site-packages\\numpy\\lib\\function_base.py:2551: RuntimeWarning: Degrees of freedom <= 0 for slice\n",
      "  c = cov(x, y, rowvar)\n",
      "C:\\ProgramData\\Anaconda3\\lib\\site-packages\\numpy\\lib\\function_base.py:2480: RuntimeWarning: divide by zero encountered in true_divide\n",
      "  c *= np.true_divide(1, fact)\n",
      "C:\\ProgramData\\Anaconda3\\lib\\site-packages\\numpy\\lib\\function_base.py:2480: RuntimeWarning: invalid value encountered in multiply\n",
      "  c *= np.true_divide(1, fact)\n",
      "C:\\ProgramData\\Anaconda3\\lib\\site-packages\\ipykernel_launcher.py:27: RuntimeWarning: Mean of empty slice\n",
      "C:\\ProgramData\\Anaconda3\\lib\\site-packages\\numpy\\lib\\function_base.py:2559: RuntimeWarning: invalid value encountered in true_divide\n",
      "  c /= stddev[:, None]\n",
      "C:\\ProgramData\\Anaconda3\\lib\\site-packages\\numpy\\lib\\function_base.py:2560: RuntimeWarning: invalid value encountered in true_divide\n",
      "  c /= stddev[None, :]\n",
      "100%|██████████████████████████████████████████████████████████████████████████| 22680/22680 [00:06<00:00, 3357.30it/s]\n"
     ]
    },
    {
     "name": "stdout",
     "output_type": "stream",
     "text": [
      "[0.04405542 0.06505787]\n",
      "BLA Pyr\n",
      "Computing synchrony with following parameters\n",
      "winSize (bins) :  400\n",
      "Step    (bins) :  200\n",
      "83  neurons\n"
     ]
    },
    {
     "name": "stderr",
     "output_type": "stream",
     "text": [
      "100%|██████████████████████████████████████████████████████████████████████████| 22680/22680 [00:09<00:00, 2291.64it/s]\n"
     ]
    },
    {
     "name": "stdout",
     "output_type": "stream",
     "text": [
      "[0.03124476 0.03347193]\n",
      "VEn Pyr\n",
      "Computing synchrony with following parameters\n",
      "winSize (bins) :  400\n",
      "Step    (bins) :  200\n",
      "19  neurons\n"
     ]
    },
    {
     "name": "stderr",
     "output_type": "stream",
     "text": [
      "100%|██████████████████████████████████████████████████████████████████████████| 22680/22680 [00:04<00:00, 5176.66it/s]\n"
     ]
    },
    {
     "name": "stdout",
     "output_type": "stream",
     "text": [
      "[0.13796508 0.12988148]\n",
      "Pir Pyr\n",
      "Computing synchrony with following parameters\n",
      "winSize (bins) :  400\n",
      "Step    (bins) :  200\n",
      "66  neurons\n"
     ]
    },
    {
     "name": "stderr",
     "output_type": "stream",
     "text": [
      "100%|██████████████████████████████████████████████████████████████████████████| 22680/22680 [00:09<00:00, 2461.95it/s]\n"
     ]
    },
    {
     "name": "stdout",
     "output_type": "stream",
     "text": [
      "[0.03383098 0.03102754]\n"
     ]
    },
    {
     "data": {
      "text/plain": [
       "{'Hpc': array([[0.03132757, 0.0362891 , 0.05791865, ..., 0.08062644, 0.05875151,\n",
       "         0.04548292],\n",
       "        [0.03810431, 0.04099019, 0.03335246, ..., 0.0429612 , 0.04574816,\n",
       "         0.04731604],\n",
       "        [0.03263422, 0.04323061, 0.03202493, ..., 0.04814957, 0.05889714,\n",
       "         0.06582373],\n",
       "        ...,\n",
       "        [0.03093928, 0.03875635, 0.03822057, ..., 0.04038981, 0.04319971,\n",
       "         0.04378941],\n",
       "        [0.06511455, 0.03788135, 0.04427912, ..., 0.08089406, 0.06328917,\n",
       "         0.05203788],\n",
       "        [0.11917939, 0.1320573 , 0.13574546, ..., 0.04548472, 0.05238341,\n",
       "         0.0512629 ]]),\n",
       " 'BLA': array([[0.02930958, 0.02466287, 0.02455832, ..., 0.02677227, 0.02518651,\n",
       "         0.02762031],\n",
       "        [0.02789554, 0.03265995, 0.03253286, ..., 0.02112285, 0.02585693,\n",
       "         0.0289702 ],\n",
       "        [0.02996874, 0.03028512, 0.02918044, ..., 0.03297709, 0.03105357,\n",
       "         0.03350639],\n",
       "        ...,\n",
       "        [0.0271851 , 0.03149432, 0.04351361, ..., 0.02602291, 0.03690667,\n",
       "         0.03574352],\n",
       "        [0.0317001 , 0.02796887, 0.03009305, ..., 0.03146172, 0.03015746,\n",
       "         0.03481301],\n",
       "        [0.04685719, 0.04714833, 0.03762029, ..., 0.03225465, 0.03464461,\n",
       "         0.03730709]]),\n",
       " 'VEn': array([[0.08532867, 0.08652103, 0.0901502 , ..., 0.08537973, 0.11697759,\n",
       "         0.15819187],\n",
       "        [0.14018056, 0.33166249, 0.14509917, ..., 0.10632517, 0.10542642,\n",
       "         0.09289001],\n",
       "        [0.0959005 , 0.09654802, 0.1395814 , ..., 0.24678476, 0.12139957,\n",
       "         0.09593035],\n",
       "        ...,\n",
       "        [0.08866808, 0.09207157, 0.19426535, ..., 0.13834039, 0.24563054,\n",
       "         0.10780978],\n",
       "        [0.33020822, 0.1396659 , 0.09633665, ..., 0.10735693, 0.11975101,\n",
       "         0.16167854],\n",
       "        [0.16303226, 0.12005116, 0.15994528, ..., 0.07673027, 0.11783347,\n",
       "         0.11944592]]),\n",
       " 'Pir': array([[0.03966289, 0.03717995, 0.03416798, ..., 0.02872249, 0.03436099,\n",
       "         0.03665985],\n",
       "        [0.03127696, 0.02690042, 0.02740468, ..., 0.02948246, 0.03097648,\n",
       "         0.02899822],\n",
       "        [0.04552273, 0.03899204, 0.04293961, ..., 0.03081696, 0.03559212,\n",
       "         0.03391607],\n",
       "        ...,\n",
       "        [0.0336163 , 0.03223674, 0.03304631, ..., 0.03465129, 0.0272963 ,\n",
       "         0.0292586 ],\n",
       "        [0.03465684, 0.02598185, 0.0253111 , ..., 0.02922028, 0.03245251,\n",
       "         0.02801682],\n",
       "        [0.03277157, 0.04128261, 0.03933993, ..., 0.02748485, 0.03314365,\n",
       "         0.05298627]])}"
      ]
     },
     "execution_count": 161,
     "metadata": {},
     "output_type": "execute_result"
    }
   ],
   "source": [
    "main('Z:\\Rat08\\Rat08-20130713')"
   ]
  },
  {
   "cell_type": "code",
   "execution_count": 97,
   "metadata": {},
   "outputs": [
    {
     "name": "stdout",
     "output_type": "stream",
     "text": [
      "Rat : 8 on day : 3\n",
      "Working with session Rat08-20130710 @ Z:\\Rat08\\Rat08-20130710\n",
      "Data already saved in Numpy format, loading them from here:\n",
      "Rat08-20130710-neurons.npy\n",
      "Rat08-20130710-metadata.npy\n",
      "Computing synchrony with following parameters\n",
      "winSize (bins) :  80\n",
      "Step    (bins) :  45\n",
      "13  neurons\n"
     ]
    },
    {
     "name": "stderr",
     "output_type": "stream",
     "text": [
      "  0%|                                                                                        | 0/22396 [00:00<?, ?it/s]C:\\ProgramData\\Anaconda3\\lib\\site-packages\\numpy\\lib\\function_base.py:380: RuntimeWarning: Mean of empty slice.\n",
      "  avg = a.mean(axis)\n",
      "C:\\ProgramData\\Anaconda3\\lib\\site-packages\\numpy\\core\\_methods.py:163: RuntimeWarning: invalid value encountered in true_divide\n",
      "  ret, rcount, out=ret, casting='unsafe', subok=False)\n",
      "C:\\ProgramData\\Anaconda3\\lib\\site-packages\\numpy\\lib\\function_base.py:2551: RuntimeWarning: Degrees of freedom <= 0 for slice\n",
      "  c = cov(x, y, rowvar)\n",
      "C:\\ProgramData\\Anaconda3\\lib\\site-packages\\numpy\\lib\\function_base.py:2480: RuntimeWarning: divide by zero encountered in true_divide\n",
      "  c *= np.true_divide(1, fact)\n",
      "C:\\ProgramData\\Anaconda3\\lib\\site-packages\\numpy\\lib\\function_base.py:2480: RuntimeWarning: invalid value encountered in multiply\n",
      "  c *= np.true_divide(1, fact)\n",
      "C:\\ProgramData\\Anaconda3\\lib\\site-packages\\numpy\\lib\\function_base.py:2559: RuntimeWarning: invalid value encountered in true_divide\n",
      "  c /= stddev[:, None]\n",
      "C:\\ProgramData\\Anaconda3\\lib\\site-packages\\numpy\\lib\\function_base.py:2560: RuntimeWarning: invalid value encountered in true_divide\n",
      "  c /= stddev[None, :]\n",
      "100%|██████████████████████████████████████████████████████████████████████████| 22396/22396 [00:02<00:00, 8089.84it/s]"
     ]
    },
    {
     "name": "stdout",
     "output_type": "stream",
     "text": [
      "22396\n",
      "22396\n"
     ]
    },
    {
     "name": "stderr",
     "output_type": "stream",
     "text": [
      "\n"
     ]
    }
   ],
   "source": [
    "bk.load.current_session('Z:\\Rat08\\Rat08-20130710')\n",
    "neurons,metadata = bk.load.loadSpikeData(bk.load.path)\n",
    "\n",
    "neurons = neurons[(metadata.Region == 'CeCM') & (metadata.Type == 'Pyr')]\n",
    "\n",
    "c = synchrony(neurons,binSize = 0.025,winSize = 5,step = 1.125)"
   ]
  },
  {
   "cell_type": "code",
   "execution_count": 69,
   "metadata": {},
   "outputs": [
    {
     "data": {
      "text/plain": [
       "[<matplotlib.lines.Line2D at 0x1d9d2f21448>]"
      ]
     },
     "execution_count": 69,
     "metadata": {},
     "output_type": "execute_result"
    }
   ],
   "source": []
  },
  {
   "cell_type": "code",
   "execution_count": 122,
   "metadata": {},
   "outputs": [
    {
     "name": "stdout",
     "output_type": "stream",
     "text": [
      "Rat : 8 on day : 6\n",
      "Working with session Rat08-20130713 @ Z:\\Rat08\\Rat08-20130713\n"
     ]
    },
    {
     "data": {
      "text/plain": [
       "True"
      ]
     },
     "execution_count": 122,
     "metadata": {},
     "output_type": "execute_result"
    }
   ],
   "source": [
    "bk.load.current_session()"
   ]
  },
  {
   "cell_type": "code",
   "execution_count": 101,
   "metadata": {},
   "outputs": [
    {
     "name": "stderr",
     "output_type": "stream",
     "text": [
      " 20%|████████████████▏                                                                 | 12/61 [01:54<02:13,  2.72s/it]"
     ]
    },
    {
     "name": "stdout",
     "output_type": "stream",
     "text": [
      "Loading Data from Rat08-20130722\n",
      "Rat : 8 on day : 13\n",
      "Working with session Rat08-20130722 @ Z:\\Rat08\\Rat08-20130722\n",
      "Data already saved in Numpy format, loading them from here:\n",
      "Rat08-20130722-neurons.npy\n",
      "Rat08-20130722-metadata.npy\n",
      "Error in session Rat08-20130722\n"
     ]
    },
    {
     "name": "stderr",
     "output_type": "stream",
     "text": [
      " 20%|████████████████▏                                                                 | 12/61 [01:54<07:46,  9.52s/it]\n"
     ]
    },
    {
     "ename": "KeyboardInterrupt",
     "evalue": "",
     "output_type": "error",
     "traceback": [
      "\u001b[1;31m---------------------------------------------------------------------------\u001b[0m",
      "\u001b[1;31mFileNotFoundError\u001b[0m                         Traceback (most recent call last)",
      "\u001b[1;32mZ:\\Python\\Billel\\bk\\load.py\u001b[0m in \u001b[0;36mbatch\u001b[1;34m(func, verbose)\u001b[0m\n\u001b[0;32m     68\u001b[0m         \u001b[1;32mtry\u001b[0m\u001b[1;33m:\u001b[0m\u001b[1;33m\u001b[0m\u001b[1;33m\u001b[0m\u001b[0m\n\u001b[1;32m---> 69\u001b[1;33m             \u001b[0moutput\u001b[0m \u001b[1;33m=\u001b[0m \u001b[0mfunc\u001b[0m\u001b[1;33m(\u001b[0m\u001b[0mpath\u001b[0m\u001b[1;33m)\u001b[0m\u001b[1;33m\u001b[0m\u001b[1;33m\u001b[0m\u001b[0m\n\u001b[0m\u001b[0;32m     70\u001b[0m             \u001b[0moutput_dict\u001b[0m\u001b[1;33m.\u001b[0m\u001b[0mupdate\u001b[0m\u001b[1;33m(\u001b[0m\u001b[1;33m{\u001b[0m\u001b[0msession\u001b[0m\u001b[1;33m:\u001b[0m\u001b[0moutput\u001b[0m\u001b[1;33m}\u001b[0m\u001b[1;33m)\u001b[0m\u001b[1;33m\u001b[0m\u001b[1;33m\u001b[0m\u001b[0m\n",
      "\u001b[1;32m<ipython-input-99-4727d1a29b1b>\u001b[0m in \u001b[0;36mmain\u001b[1;34m(path)\u001b[0m\n\u001b[0;32m      2\u001b[0m     \u001b[0mbk\u001b[0m\u001b[1;33m.\u001b[0m\u001b[0mload\u001b[0m\u001b[1;33m.\u001b[0m\u001b[0mcurrent_session\u001b[0m\u001b[1;33m(\u001b[0m\u001b[0mpath\u001b[0m\u001b[1;33m)\u001b[0m\u001b[1;33m\u001b[0m\u001b[1;33m\u001b[0m\u001b[0m\n\u001b[1;32m----> 3\u001b[1;33m     \u001b[0mneurons\u001b[0m\u001b[1;33m,\u001b[0m\u001b[0mmetadata\u001b[0m \u001b[1;33m=\u001b[0m \u001b[0mbk\u001b[0m\u001b[1;33m.\u001b[0m\u001b[0mload\u001b[0m\u001b[1;33m.\u001b[0m\u001b[0mloadSpikeData\u001b[0m\u001b[1;33m(\u001b[0m\u001b[0mbk\u001b[0m\u001b[1;33m.\u001b[0m\u001b[0mload\u001b[0m\u001b[1;33m.\u001b[0m\u001b[0mpath\u001b[0m\u001b[1;33m)\u001b[0m\u001b[1;33m\u001b[0m\u001b[1;33m\u001b[0m\u001b[0m\n\u001b[0m\u001b[0;32m      4\u001b[0m     \u001b[0mstates\u001b[0m \u001b[1;33m=\u001b[0m \u001b[0mbk\u001b[0m\u001b[1;33m.\u001b[0m\u001b[0mload\u001b[0m\u001b[1;33m.\u001b[0m\u001b[0mstates\u001b[0m\u001b[1;33m(\u001b[0m\u001b[1;33m)\u001b[0m\u001b[1;33m\u001b[0m\u001b[1;33m\u001b[0m\u001b[0m\n",
      "\u001b[1;32mZ:\\Python\\Billel\\bk\\load.py\u001b[0m in \u001b[0;36mloadSpikeData\u001b[1;34m(path, index, fs)\u001b[0m\n\u001b[0;32m    156\u001b[0m         \u001b[0mprint\u001b[0m\u001b[1;33m(\u001b[0m\u001b[0msession\u001b[0m \u001b[1;33m+\u001b[0m\u001b[1;34m'-metadata.npy'\u001b[0m\u001b[1;33m)\u001b[0m\u001b[1;33m\u001b[0m\u001b[1;33m\u001b[0m\u001b[0m\n\u001b[1;32m--> 157\u001b[1;33m         \u001b[0mshanks\u001b[0m \u001b[1;33m=\u001b[0m \u001b[0mnp\u001b[0m\u001b[1;33m.\u001b[0m\u001b[0mload\u001b[0m\u001b[1;33m(\u001b[0m\u001b[0mpath\u001b[0m\u001b[1;33m+\u001b[0m\u001b[1;34m'//'\u001b[0m \u001b[1;33m+\u001b[0m \u001b[0msession\u001b[0m \u001b[1;33m+\u001b[0m\u001b[1;34m'-metadata.npy'\u001b[0m\u001b[1;33m,\u001b[0m\u001b[0mallow_pickle\u001b[0m\u001b[1;33m=\u001b[0m\u001b[1;32mTrue\u001b[0m\u001b[1;33m)\u001b[0m\u001b[1;33m\u001b[0m\u001b[1;33m\u001b[0m\u001b[0m\n\u001b[0m\u001b[0;32m    158\u001b[0m         \u001b[0mshanks\u001b[0m \u001b[1;33m=\u001b[0m \u001b[0mpd\u001b[0m\u001b[1;33m.\u001b[0m\u001b[0mDataFrame\u001b[0m\u001b[1;33m(\u001b[0m\u001b[0mshanks\u001b[0m\u001b[1;33m,\u001b[0m\u001b[0mcolumns\u001b[0m \u001b[1;33m=\u001b[0m \u001b[1;33m[\u001b[0m\u001b[1;34m'Rat'\u001b[0m\u001b[1;33m,\u001b[0m\u001b[1;34m'Day'\u001b[0m\u001b[1;33m,\u001b[0m\u001b[1;34m'Shank'\u001b[0m\u001b[1;33m,\u001b[0m\u001b[1;34m'Id'\u001b[0m\u001b[1;33m,\u001b[0m\u001b[1;34m'Region'\u001b[0m\u001b[1;33m,\u001b[0m\u001b[1;34m'Type'\u001b[0m\u001b[1;33m]\u001b[0m\u001b[1;33m)\u001b[0m\u001b[1;33m\u001b[0m\u001b[1;33m\u001b[0m\u001b[0m\n",
      "\u001b[1;32mC:\\ProgramData\\Anaconda3\\lib\\site-packages\\numpy\\lib\\npyio.py\u001b[0m in \u001b[0;36mload\u001b[1;34m(file, mmap_mode, allow_pickle, fix_imports, encoding)\u001b[0m\n\u001b[0;32m    415\u001b[0m         \u001b[1;32melse\u001b[0m\u001b[1;33m:\u001b[0m\u001b[1;33m\u001b[0m\u001b[1;33m\u001b[0m\u001b[0m\n\u001b[1;32m--> 416\u001b[1;33m             \u001b[0mfid\u001b[0m \u001b[1;33m=\u001b[0m \u001b[0mstack\u001b[0m\u001b[1;33m.\u001b[0m\u001b[0menter_context\u001b[0m\u001b[1;33m(\u001b[0m\u001b[0mopen\u001b[0m\u001b[1;33m(\u001b[0m\u001b[0mos_fspath\u001b[0m\u001b[1;33m(\u001b[0m\u001b[0mfile\u001b[0m\u001b[1;33m)\u001b[0m\u001b[1;33m,\u001b[0m \u001b[1;34m\"rb\"\u001b[0m\u001b[1;33m)\u001b[0m\u001b[1;33m)\u001b[0m\u001b[1;33m\u001b[0m\u001b[1;33m\u001b[0m\u001b[0m\n\u001b[0m\u001b[0;32m    417\u001b[0m             \u001b[0mown_fid\u001b[0m \u001b[1;33m=\u001b[0m \u001b[1;32mTrue\u001b[0m\u001b[1;33m\u001b[0m\u001b[1;33m\u001b[0m\u001b[0m\n",
      "\u001b[1;31mFileNotFoundError\u001b[0m: [Errno 2] No such file or directory: 'Z:\\\\Rat08\\\\Rat08-20130722//Rat08-20130722-metadata.npy'",
      "\nDuring handling of the above exception, another exception occurred:\n",
      "\u001b[1;31mKeyboardInterrupt\u001b[0m                         Traceback (most recent call last)",
      "\u001b[1;32m<ipython-input-101-7050b7ae3a8c>\u001b[0m in \u001b[0;36m<module>\u001b[1;34m\u001b[0m\n\u001b[1;32m----> 1\u001b[1;33m \u001b[0mbatch\u001b[0m \u001b[1;33m=\u001b[0m \u001b[0mbk\u001b[0m\u001b[1;33m.\u001b[0m\u001b[0mload\u001b[0m\u001b[1;33m.\u001b[0m\u001b[0mbatch\u001b[0m\u001b[1;33m(\u001b[0m\u001b[0mmain\u001b[0m\u001b[1;33m)\u001b[0m\u001b[1;33m\u001b[0m\u001b[1;33m\u001b[0m\u001b[0m\n\u001b[0m",
      "\u001b[1;32mZ:\\Python\\Billel\\bk\\load.py\u001b[0m in \u001b[0;36mbatch\u001b[1;34m(func, verbose)\u001b[0m\n\u001b[0;32m     73\u001b[0m             \u001b[0merror\u001b[0m\u001b[1;33m.\u001b[0m\u001b[0mappend\u001b[0m\u001b[1;33m(\u001b[0m\u001b[0msession\u001b[0m\u001b[1;33m)\u001b[0m\u001b[1;33m\u001b[0m\u001b[1;33m\u001b[0m\u001b[0m\n\u001b[0;32m     74\u001b[0m             \u001b[0mprint\u001b[0m\u001b[1;33m(\u001b[0m\u001b[1;34m'Error in session '\u001b[0m \u001b[1;33m+\u001b[0m \u001b[0msession\u001b[0m\u001b[1;33m)\u001b[0m\u001b[1;33m\u001b[0m\u001b[1;33m\u001b[0m\u001b[0m\n\u001b[1;32m---> 75\u001b[1;33m             \u001b[1;32mif\u001b[0m \u001b[1;32mnot\u001b[0m \u001b[0mverbose\u001b[0m\u001b[1;33m:\u001b[0m \u001b[0mclear_output\u001b[0m\u001b[1;33m(\u001b[0m\u001b[1;33m)\u001b[0m\u001b[1;33m\u001b[0m\u001b[1;33m\u001b[0m\u001b[0m\n\u001b[0m\u001b[0;32m     76\u001b[0m     \u001b[0mprint\u001b[0m\u001b[1;33m(\u001b[0m\u001b[1;34m'Batch finished in '\u001b[0m \u001b[1;33m+\u001b[0m \u001b[0mstr\u001b[0m\u001b[1;33m(\u001b[0m\u001b[0mtime\u001b[0m\u001b[1;33m.\u001b[0m\u001b[0mtime\u001b[0m\u001b[1;33m(\u001b[0m\u001b[1;33m)\u001b[0m \u001b[1;33m-\u001b[0m \u001b[0mt\u001b[0m\u001b[1;33m)\u001b[0m\u001b[1;33m)\u001b[0m\u001b[1;33m\u001b[0m\u001b[1;33m\u001b[0m\u001b[0m\n\u001b[0;32m     77\u001b[0m \u001b[1;33m\u001b[0m\u001b[0m\n",
      "\u001b[1;32mC:\\ProgramData\\Anaconda3\\lib\\site-packages\\IPython\\core\\display.py\u001b[0m in \u001b[0;36mclear_output\u001b[1;34m(wait)\u001b[0m\n\u001b[0;32m   1462\u001b[0m     \u001b[1;32mfrom\u001b[0m \u001b[0mIPython\u001b[0m\u001b[1;33m.\u001b[0m\u001b[0mcore\u001b[0m\u001b[1;33m.\u001b[0m\u001b[0minteractiveshell\u001b[0m \u001b[1;32mimport\u001b[0m \u001b[0mInteractiveShell\u001b[0m\u001b[1;33m\u001b[0m\u001b[1;33m\u001b[0m\u001b[0m\n\u001b[0;32m   1463\u001b[0m     \u001b[1;32mif\u001b[0m \u001b[0mInteractiveShell\u001b[0m\u001b[1;33m.\u001b[0m\u001b[0minitialized\u001b[0m\u001b[1;33m(\u001b[0m\u001b[1;33m)\u001b[0m\u001b[1;33m:\u001b[0m\u001b[1;33m\u001b[0m\u001b[1;33m\u001b[0m\u001b[0m\n\u001b[1;32m-> 1464\u001b[1;33m         \u001b[0mInteractiveShell\u001b[0m\u001b[1;33m.\u001b[0m\u001b[0minstance\u001b[0m\u001b[1;33m(\u001b[0m\u001b[1;33m)\u001b[0m\u001b[1;33m.\u001b[0m\u001b[0mdisplay_pub\u001b[0m\u001b[1;33m.\u001b[0m\u001b[0mclear_output\u001b[0m\u001b[1;33m(\u001b[0m\u001b[0mwait\u001b[0m\u001b[1;33m)\u001b[0m\u001b[1;33m\u001b[0m\u001b[1;33m\u001b[0m\u001b[0m\n\u001b[0m\u001b[0;32m   1465\u001b[0m     \u001b[1;32melse\u001b[0m\u001b[1;33m:\u001b[0m\u001b[1;33m\u001b[0m\u001b[1;33m\u001b[0m\u001b[0m\n\u001b[0;32m   1466\u001b[0m         \u001b[0mprint\u001b[0m\u001b[1;33m(\u001b[0m\u001b[1;34m'\\033[2K\\r'\u001b[0m\u001b[1;33m,\u001b[0m \u001b[0mend\u001b[0m\u001b[1;33m=\u001b[0m\u001b[1;34m''\u001b[0m\u001b[1;33m)\u001b[0m\u001b[1;33m\u001b[0m\u001b[1;33m\u001b[0m\u001b[0m\n",
      "\u001b[1;32mC:\\ProgramData\\Anaconda3\\lib\\site-packages\\ipykernel\\zmqshell.py\u001b[0m in \u001b[0;36mclear_output\u001b[1;34m(self, wait)\u001b[0m\n\u001b[0;32m    155\u001b[0m         \"\"\"\n\u001b[0;32m    156\u001b[0m         \u001b[0mcontent\u001b[0m \u001b[1;33m=\u001b[0m \u001b[0mdict\u001b[0m\u001b[1;33m(\u001b[0m\u001b[0mwait\u001b[0m\u001b[1;33m=\u001b[0m\u001b[0mwait\u001b[0m\u001b[1;33m)\u001b[0m\u001b[1;33m\u001b[0m\u001b[1;33m\u001b[0m\u001b[0m\n\u001b[1;32m--> 157\u001b[1;33m         \u001b[0mself\u001b[0m\u001b[1;33m.\u001b[0m\u001b[0m_flush_streams\u001b[0m\u001b[1;33m(\u001b[0m\u001b[1;33m)\u001b[0m\u001b[1;33m\u001b[0m\u001b[1;33m\u001b[0m\u001b[0m\n\u001b[0m\u001b[0;32m    158\u001b[0m         self.session.send(\n\u001b[0;32m    159\u001b[0m             \u001b[0mself\u001b[0m\u001b[1;33m.\u001b[0m\u001b[0mpub_socket\u001b[0m\u001b[1;33m,\u001b[0m \u001b[1;34mu'clear_output'\u001b[0m\u001b[1;33m,\u001b[0m \u001b[0mcontent\u001b[0m\u001b[1;33m,\u001b[0m\u001b[1;33m\u001b[0m\u001b[1;33m\u001b[0m\u001b[0m\n",
      "\u001b[1;32mC:\\ProgramData\\Anaconda3\\lib\\site-packages\\ipykernel\\zmqshell.py\u001b[0m in \u001b[0;36m_flush_streams\u001b[1;34m(self)\u001b[0m\n\u001b[0;32m     77\u001b[0m     \u001b[1;32mdef\u001b[0m \u001b[0m_flush_streams\u001b[0m\u001b[1;33m(\u001b[0m\u001b[0mself\u001b[0m\u001b[1;33m)\u001b[0m\u001b[1;33m:\u001b[0m\u001b[1;33m\u001b[0m\u001b[1;33m\u001b[0m\u001b[0m\n\u001b[0;32m     78\u001b[0m         \u001b[1;34m\"\"\"flush IO Streams prior to display\"\"\"\u001b[0m\u001b[1;33m\u001b[0m\u001b[1;33m\u001b[0m\u001b[0m\n\u001b[1;32m---> 79\u001b[1;33m         \u001b[0msys\u001b[0m\u001b[1;33m.\u001b[0m\u001b[0mstdout\u001b[0m\u001b[1;33m.\u001b[0m\u001b[0mflush\u001b[0m\u001b[1;33m(\u001b[0m\u001b[1;33m)\u001b[0m\u001b[1;33m\u001b[0m\u001b[1;33m\u001b[0m\u001b[0m\n\u001b[0m\u001b[0;32m     80\u001b[0m         \u001b[0msys\u001b[0m\u001b[1;33m.\u001b[0m\u001b[0mstderr\u001b[0m\u001b[1;33m.\u001b[0m\u001b[0mflush\u001b[0m\u001b[1;33m(\u001b[0m\u001b[1;33m)\u001b[0m\u001b[1;33m\u001b[0m\u001b[1;33m\u001b[0m\u001b[0m\n\u001b[0;32m     81\u001b[0m \u001b[1;33m\u001b[0m\u001b[0m\n",
      "\u001b[1;32mC:\\ProgramData\\Anaconda3\\lib\\site-packages\\ipykernel\\iostream.py\u001b[0m in \u001b[0;36mflush\u001b[1;34m(self)\u001b[0m\n\u001b[0;32m    350\u001b[0m                 \u001b[0mself\u001b[0m\u001b[1;33m.\u001b[0m\u001b[0mpub_thread\u001b[0m\u001b[1;33m.\u001b[0m\u001b[0mschedule\u001b[0m\u001b[1;33m(\u001b[0m\u001b[0mevt\u001b[0m\u001b[1;33m.\u001b[0m\u001b[0mset\u001b[0m\u001b[1;33m)\u001b[0m\u001b[1;33m\u001b[0m\u001b[1;33m\u001b[0m\u001b[0m\n\u001b[0;32m    351\u001b[0m                 \u001b[1;31m# and give a timeout to avoid\u001b[0m\u001b[1;33m\u001b[0m\u001b[1;33m\u001b[0m\u001b[1;33m\u001b[0m\u001b[0m\n\u001b[1;32m--> 352\u001b[1;33m                 \u001b[1;32mif\u001b[0m \u001b[1;32mnot\u001b[0m \u001b[0mevt\u001b[0m\u001b[1;33m.\u001b[0m\u001b[0mwait\u001b[0m\u001b[1;33m(\u001b[0m\u001b[0mself\u001b[0m\u001b[1;33m.\u001b[0m\u001b[0mflush_timeout\u001b[0m\u001b[1;33m)\u001b[0m\u001b[1;33m:\u001b[0m\u001b[1;33m\u001b[0m\u001b[1;33m\u001b[0m\u001b[0m\n\u001b[0m\u001b[0;32m    353\u001b[0m                     \u001b[1;31m# write directly to __stderr__ instead of warning because\u001b[0m\u001b[1;33m\u001b[0m\u001b[1;33m\u001b[0m\u001b[1;33m\u001b[0m\u001b[0m\n\u001b[0;32m    354\u001b[0m                     \u001b[1;31m# if this is happening sys.stderr may be the problem.\u001b[0m\u001b[1;33m\u001b[0m\u001b[1;33m\u001b[0m\u001b[1;33m\u001b[0m\u001b[0m\n",
      "\u001b[1;32mC:\\ProgramData\\Anaconda3\\lib\\threading.py\u001b[0m in \u001b[0;36mwait\u001b[1;34m(self, timeout)\u001b[0m\n\u001b[0;32m    550\u001b[0m             \u001b[0msignaled\u001b[0m \u001b[1;33m=\u001b[0m \u001b[0mself\u001b[0m\u001b[1;33m.\u001b[0m\u001b[0m_flag\u001b[0m\u001b[1;33m\u001b[0m\u001b[1;33m\u001b[0m\u001b[0m\n\u001b[0;32m    551\u001b[0m             \u001b[1;32mif\u001b[0m \u001b[1;32mnot\u001b[0m \u001b[0msignaled\u001b[0m\u001b[1;33m:\u001b[0m\u001b[1;33m\u001b[0m\u001b[1;33m\u001b[0m\u001b[0m\n\u001b[1;32m--> 552\u001b[1;33m                 \u001b[0msignaled\u001b[0m \u001b[1;33m=\u001b[0m \u001b[0mself\u001b[0m\u001b[1;33m.\u001b[0m\u001b[0m_cond\u001b[0m\u001b[1;33m.\u001b[0m\u001b[0mwait\u001b[0m\u001b[1;33m(\u001b[0m\u001b[0mtimeout\u001b[0m\u001b[1;33m)\u001b[0m\u001b[1;33m\u001b[0m\u001b[1;33m\u001b[0m\u001b[0m\n\u001b[0m\u001b[0;32m    553\u001b[0m             \u001b[1;32mreturn\u001b[0m \u001b[0msignaled\u001b[0m\u001b[1;33m\u001b[0m\u001b[1;33m\u001b[0m\u001b[0m\n\u001b[0;32m    554\u001b[0m \u001b[1;33m\u001b[0m\u001b[0m\n",
      "\u001b[1;32mC:\\ProgramData\\Anaconda3\\lib\\threading.py\u001b[0m in \u001b[0;36mwait\u001b[1;34m(self, timeout)\u001b[0m\n\u001b[0;32m    298\u001b[0m             \u001b[1;32melse\u001b[0m\u001b[1;33m:\u001b[0m\u001b[1;33m\u001b[0m\u001b[1;33m\u001b[0m\u001b[0m\n\u001b[0;32m    299\u001b[0m                 \u001b[1;32mif\u001b[0m \u001b[0mtimeout\u001b[0m \u001b[1;33m>\u001b[0m \u001b[1;36m0\u001b[0m\u001b[1;33m:\u001b[0m\u001b[1;33m\u001b[0m\u001b[1;33m\u001b[0m\u001b[0m\n\u001b[1;32m--> 300\u001b[1;33m                     \u001b[0mgotit\u001b[0m \u001b[1;33m=\u001b[0m \u001b[0mwaiter\u001b[0m\u001b[1;33m.\u001b[0m\u001b[0macquire\u001b[0m\u001b[1;33m(\u001b[0m\u001b[1;32mTrue\u001b[0m\u001b[1;33m,\u001b[0m \u001b[0mtimeout\u001b[0m\u001b[1;33m)\u001b[0m\u001b[1;33m\u001b[0m\u001b[1;33m\u001b[0m\u001b[0m\n\u001b[0m\u001b[0;32m    301\u001b[0m                 \u001b[1;32melse\u001b[0m\u001b[1;33m:\u001b[0m\u001b[1;33m\u001b[0m\u001b[1;33m\u001b[0m\u001b[0m\n\u001b[0;32m    302\u001b[0m                     \u001b[0mgotit\u001b[0m \u001b[1;33m=\u001b[0m \u001b[0mwaiter\u001b[0m\u001b[1;33m.\u001b[0m\u001b[0macquire\u001b[0m\u001b[1;33m(\u001b[0m\u001b[1;32mFalse\u001b[0m\u001b[1;33m)\u001b[0m\u001b[1;33m\u001b[0m\u001b[1;33m\u001b[0m\u001b[0m\n",
      "\u001b[1;31mKeyboardInterrupt\u001b[0m: "
     ]
    }
   ],
   "source": [
    "batch = bk.load.batch(main)"
   ]
  },
  {
   "cell_type": "code",
   "execution_count": 625,
   "metadata": {},
   "outputs": [],
   "source": [
    "%matplotlib inline"
   ]
  },
  {
   "cell_type": "code",
   "execution_count": 52,
   "metadata": {},
   "outputs": [
    {
     "ename": "KeyError",
     "evalue": "'Rat08-20130708'",
     "output_type": "error",
     "traceback": [
      "\u001b[1;31m---------------------------------------------------------------------------\u001b[0m",
      "\u001b[1;31mKeyError\u001b[0m                                  Traceback (most recent call last)",
      "\u001b[1;32m<ipython-input-52-1b9b29777510>\u001b[0m in \u001b[0;36m<module>\u001b[1;34m\u001b[0m\n\u001b[1;32m----> 1\u001b[1;33m \u001b[0ma\u001b[0m \u001b[1;33m=\u001b[0m \u001b[0mbatch\u001b[0m\u001b[1;33m[\u001b[0m\u001b[1;34m'Rat08-20130708'\u001b[0m\u001b[1;33m]\u001b[0m\u001b[1;33m\u001b[0m\u001b[1;33m\u001b[0m\u001b[0m\n\u001b[0m",
      "\u001b[1;31mKeyError\u001b[0m: 'Rat08-20130708'"
     ]
    }
   ],
   "source": [
    "a = batch['Rat08-20130708']"
   ]
  },
  {
   "cell_type": "code",
   "execution_count": 35,
   "metadata": {},
   "outputs": [],
   "source": [
    "a = np.array(['test','deux'])"
   ]
  },
  {
   "cell_type": "code",
   "execution_count": 37,
   "metadata": {},
   "outputs": [
    {
     "data": {
      "text/plain": [
       "array(['test'], dtype='<U4')"
      ]
     },
     "execution_count": 37,
     "metadata": {},
     "output_type": "execute_result"
    }
   ],
   "source": [
    "np.delete(a,1)"
   ]
  },
  {
   "cell_type": "code",
   "execution_count": 38,
   "metadata": {},
   "outputs": [
    {
     "data": {
      "text/plain": [
       "array(['test', 'deux'], dtype='<U4')"
      ]
     },
     "execution_count": 38,
     "metadata": {},
     "output_type": "execute_result"
    }
   ],
   "source": [
    "a"
   ]
  },
  {
   "cell_type": "code",
   "execution_count": 53,
   "metadata": {},
   "outputs": [
    {
     "ename": "AttributeError",
     "evalue": "'numpy.ndarray' object has no attribute 'items'",
     "output_type": "error",
     "traceback": [
      "\u001b[1;31m---------------------------------------------------------------------------\u001b[0m",
      "\u001b[1;31mAttributeError\u001b[0m                            Traceback (most recent call last)",
      "\u001b[1;32m<ipython-input-53-16c2ae8c4b82>\u001b[0m in \u001b[0;36m<module>\u001b[1;34m\u001b[0m\n\u001b[1;32m----> 1\u001b[1;33m \u001b[1;32mfor\u001b[0m \u001b[0mi\u001b[0m\u001b[1;33m,\u001b[0m\u001b[0mp\u001b[0m \u001b[1;32min\u001b[0m \u001b[0ma\u001b[0m\u001b[1;33m.\u001b[0m\u001b[0mitems\u001b[0m\u001b[1;33m(\u001b[0m\u001b[1;33m)\u001b[0m\u001b[1;33m:\u001b[0m\u001b[1;33m\u001b[0m\u001b[1;33m\u001b[0m\u001b[0m\n\u001b[0m\u001b[0;32m      2\u001b[0m     \u001b[0mplt\u001b[0m\u001b[1;33m.\u001b[0m\u001b[0mfigure\u001b[0m\u001b[1;33m(\u001b[0m\u001b[1;33m)\u001b[0m\u001b[1;33m\u001b[0m\u001b[1;33m\u001b[0m\u001b[0m\n\u001b[0;32m      3\u001b[0m \u001b[1;33m\u001b[0m\u001b[0m\n\u001b[0;32m      4\u001b[0m     \u001b[0mplt\u001b[0m\u001b[1;33m.\u001b[0m\u001b[0mplot\u001b[0m\u001b[1;33m(\u001b[0m\u001b[0mp\u001b[0m\u001b[1;33m)\u001b[0m\u001b[1;33m\u001b[0m\u001b[1;33m\u001b[0m\u001b[0m\n\u001b[0;32m      5\u001b[0m     \u001b[0mplt\u001b[0m\u001b[1;33m.\u001b[0m\u001b[0mtitle\u001b[0m\u001b[1;33m(\u001b[0m\u001b[0mi\u001b[0m\u001b[1;33m)\u001b[0m\u001b[1;33m\u001b[0m\u001b[1;33m\u001b[0m\u001b[0m\n",
      "\u001b[1;31mAttributeError\u001b[0m: 'numpy.ndarray' object has no attribute 'items'"
     ]
    }
   ],
   "source": [
    "for i,p in a.items():\n",
    "    plt.figure()\n",
    "\n",
    "    plt.plot(p)\n",
    "    plt.title(i)"
   ]
  },
  {
   "cell_type": "code",
   "execution_count": 69,
   "metadata": {},
   "outputs": [
    {
     "data": {
      "text/plain": [
       "Time (us)\n",
       "3887500000    NaN\n",
       "3969500000    NaN\n",
       "4023500000    NaN\n",
       "4567500000    NaN\n",
       "5488500000    NaN\n",
       "7374500000    NaN\n",
       "7787500000    NaN\n",
       "17363500000   NaN\n",
       "17496500000   NaN\n",
       "17851500000   NaN\n",
       "18131500000   NaN\n",
       "19186500000   NaN\n",
       "19545500000   NaN\n",
       "19817500000   NaN\n",
       "21358500000   NaN\n",
       "21674500000   NaN\n",
       "dtype: float64"
      ]
     },
     "execution_count": 69,
     "metadata": {},
     "output_type": "execute_result"
    }
   ],
   "source": [
    "transitions[1][('Rem', 'sws')]"
   ]
  },
  {
   "cell_type": "code",
   "execution_count": 64,
   "metadata": {},
   "outputs": [
    {
     "name": "stdout",
     "output_type": "stream",
     "text": [
      "('Rem', 'sws')\n",
      "('Rem', 'wake')\n",
      "('Rem', 'drowsy')\n",
      "('sws', 'Rem')\n",
      "('sws', 'wake')\n",
      "('sws', 'drowsy')\n",
      "('wake', 'Rem')\n",
      "('wake', 'sws')\n",
      "('wake', 'drowsy')\n",
      "('drowsy', 'Rem')\n",
      "('drowsy', 'sws')\n",
      "('drowsy', 'wake')\n"
     ]
    }
   ],
   "source": [
    "for i in transitions[0].items(): print(i[0])"
   ]
  },
  {
   "cell_type": "code",
   "execution_count": 40,
   "metadata": {},
   "outputs": [
    {
     "data": {
      "text/plain": [
       "({('Rem',\n",
       "   'sws'):           start          end\n",
       "  0    3842000000   3916000000\n",
       "  1    3917000000   3992000000\n",
       "  2    3993000000   4529000000\n",
       "  3    4530000000   4648000000\n",
       "  4    5427000000   6069000000\n",
       "  5    7312000000   7759000000\n",
       "  6    7760000000   7909000000\n",
       "  7   17260000000  17429000000\n",
       "  8   17430000000  17669000000\n",
       "  9   17811000000  18076000000\n",
       "  10  18077000000  18528000000\n",
       "  11  19168000000  19448000000\n",
       "  12  19449000000  19771000000\n",
       "  13  19772000000  20363000000\n",
       "  14  21287000000  21629000000\n",
       "  15  21630000000  21850000000,\n",
       "  ('Rem',\n",
       "   'wake'):         start          end\n",
       "  0  2430000000   2825000000\n",
       "  1  6070000000   6367000000\n",
       "  2  7910000000   8484000000\n",
       "  3  9334000000  13214000000,\n",
       "  ('Rem',\n",
       "   'drowsy'):          start          end\n",
       "  0   1927000000   2103000000\n",
       "  1   3276000000   3382000000\n",
       "  2   4677000000   4863000000\n",
       "  3   4864000000   5043000000\n",
       "  4   8798000000   8871000000\n",
       "  5  16146000000  16435000000\n",
       "  6  16766000000  16800000000\n",
       "  7  18529000000  18662000000\n",
       "  8  21851000000  22406000000,\n",
       "  ('sws',\n",
       "   'Rem'):           start          end\n",
       "  0    1777000000   2013000000\n",
       "  1    2104000000   2603000000\n",
       "  2    2826000000   3371000000\n",
       "  3    3383000000   3887000000\n",
       "  4    3888000000   3969000000\n",
       "  5    3970000000   4023000000\n",
       "  6    4024000000   4567000000\n",
       "  7    5044000000   5488000000\n",
       "  8    5489000000   6206000000\n",
       "  9    6970000000   7374000000\n",
       "  10   7375000000   7787000000\n",
       "  11   7788000000   8030000000\n",
       "  12   8485000000   8852000000\n",
       "  13   8887000000   9402000000\n",
       "  14  15516000000  16405000000\n",
       "  15  16436000000  16787000000\n",
       "  16  16801000000  17363000000\n",
       "  17  17364000000  17496000000\n",
       "  18  17791000000  17851000000\n",
       "  19  17852000000  18131000000\n",
       "  20  18132000000  18614000000\n",
       "  21  18663000000  19084000000\n",
       "  22  19086000000  19186000000\n",
       "  23  19187000000  19545000000\n",
       "  24  19546000000  19817000000\n",
       "  25  20867000000  21358000000\n",
       "  26  21359000000  21674000000\n",
       "  27  21675000000  21953000000,\n",
       "  ('sws',\n",
       "   'wake'):          start          end\n",
       "  0   6368000000   6944000000\n",
       "  1  19818000000  20710000000,\n",
       "  ('sws',\n",
       "   'drowsy'):          start          end\n",
       "  0   1448000000   1776000000\n",
       "  1   4568000000   4671000000\n",
       "  2  17497000000  17688000000\n",
       "  3  17689000000  17790000000,\n",
       "  ('wake', 'Rem'): [],\n",
       "  ('wake',\n",
       "   'sws'):         start         end\n",
       "  0  1206000000  1697000000\n",
       "  1  2604000000  3275000000\n",
       "  2  6207000000  6629000000\n",
       "  3  8031000000  8797000000,\n",
       "  ('wake',\n",
       "   'drowsy'):          start          end\n",
       "  0      1000000    739000000\n",
       "  1    740000000    921000000\n",
       "  2    922000000   1205000000\n",
       "  3   6630000000   6969000000\n",
       "  4   9403000000  13339000000\n",
       "  5  13340000000  15515000000\n",
       "  6  20364000000  20866000000,\n",
       "  ('drowsy',\n",
       "   'Rem'):         start         end\n",
       "  0  4839000000  4920000000,\n",
       "  ('drowsy',\n",
       "   'sws'):           start          end\n",
       "  0    1698000000   1926000000\n",
       "  1    2014000000   2429000000\n",
       "  2    3372000000   3841000000\n",
       "  3    4921000000   5426000000\n",
       "  4    6945000000   7311000000\n",
       "  5   15513000000  16145000000\n",
       "  6   16406000000  16765000000\n",
       "  7   16788000000  17259000000\n",
       "  8   17670000000  17764000000\n",
       "  9   17765000000  17810000000\n",
       "  10  18615000000  18979000000\n",
       "  11  20711000000  21286000000,\n",
       "  ('drowsy',\n",
       "   'wake'):          start          end\n",
       "  0    546000000    857000000\n",
       "  1    858000000   1055000000\n",
       "  2   1056000000   1447000000\n",
       "  3   8853000000   8885000000\n",
       "  4  13215000000  15512000000\n",
       "  5  21954000000  22679000000},\n",
       " {('Rem',\n",
       "   'sws'): Time (us)\n",
       "  3887500000    NaN\n",
       "  3969500000    NaN\n",
       "  4023500000    NaN\n",
       "  4567500000    NaN\n",
       "  5488500000    NaN\n",
       "  7374500000    NaN\n",
       "  7787500000    NaN\n",
       "  17363500000   NaN\n",
       "  17496500000   NaN\n",
       "  17851500000   NaN\n",
       "  18131500000   NaN\n",
       "  19186500000   NaN\n",
       "  19545500000   NaN\n",
       "  19817500000   NaN\n",
       "  21358500000   NaN\n",
       "  21674500000   NaN\n",
       "  dtype: float64,\n",
       "  ('Rem',\n",
       "   'wake'): Time (us)\n",
       "  2603500000   NaN\n",
       "  6206500000   NaN\n",
       "  8030500000   NaN\n",
       "  9402500000   NaN\n",
       "  dtype: float64,\n",
       "  ('Rem',\n",
       "   'drowsy'): Time (us)\n",
       "  2013500000    NaN\n",
       "  3371500000    NaN\n",
       "  4838500000    NaN\n",
       "  4920500000    NaN\n",
       "  8852500000    NaN\n",
       "  16405500000   NaN\n",
       "  16787500000   NaN\n",
       "  18614500000   NaN\n",
       "  21953500000   NaN\n",
       "  dtype: float64,\n",
       "  ('sws',\n",
       "   'Rem'): Time (us)\n",
       "  1926500000    NaN\n",
       "  2429500000    NaN\n",
       "  3275500000    NaN\n",
       "  3841500000    NaN\n",
       "  3916500000    NaN\n",
       "  3992500000    NaN\n",
       "  4529500000    NaN\n",
       "  5426500000    NaN\n",
       "  6069500000    NaN\n",
       "  7311500000    NaN\n",
       "  7759500000    NaN\n",
       "  7909500000    NaN\n",
       "  8797500000    NaN\n",
       "  9333500000    NaN\n",
       "  16145500000   NaN\n",
       "  16765500000   NaN\n",
       "  17259500000   NaN\n",
       "  17429500000   NaN\n",
       "  17810500000   NaN\n",
       "  18076500000   NaN\n",
       "  18528500000   NaN\n",
       "  18979500000   NaN\n",
       "  19167500000   NaN\n",
       "  19448500000   NaN\n",
       "  19771500000   NaN\n",
       "  21286500000   NaN\n",
       "  21629500000   NaN\n",
       "  21850500000   NaN\n",
       "  dtype: float64,\n",
       "  ('sws',\n",
       "   'wake'): Time (us)\n",
       "  6629500000    NaN\n",
       "  20363500000   NaN\n",
       "  dtype: float64,\n",
       "  ('sws',\n",
       "   'drowsy'): Time (us)\n",
       "  1697500000    NaN\n",
       "  4648500000    NaN\n",
       "  17669500000   NaN\n",
       "  17764500000   NaN\n",
       "  dtype: float64,\n",
       "  ('wake', 'Rem'): [],\n",
       "  ('wake',\n",
       "   'sws'): Time (us)\n",
       "  1447500000   NaN\n",
       "  2825500000   NaN\n",
       "  6367500000   NaN\n",
       "  8484500000   NaN\n",
       "  dtype: float64,\n",
       "  ('wake',\n",
       "   'drowsy'): Time (us)\n",
       "  545500000     NaN\n",
       "  857500000     NaN\n",
       "  1055500000    NaN\n",
       "  6944500000    NaN\n",
       "  13214500000   NaN\n",
       "  15512500000   NaN\n",
       "  20710500000   NaN\n",
       "  dtype: float64,\n",
       "  ('drowsy',\n",
       "   'Rem'): Time (us)\n",
       "  4863500000   NaN\n",
       "  dtype: float64,\n",
       "  ('drowsy',\n",
       "   'sws'): Time (us)\n",
       "  1776500000    NaN\n",
       "  2103500000    NaN\n",
       "  3382500000    NaN\n",
       "  5043500000    NaN\n",
       "  6969500000    NaN\n",
       "  15515500000   NaN\n",
       "  16435500000   NaN\n",
       "  16800500000   NaN\n",
       "  17688500000   NaN\n",
       "  17790500000   NaN\n",
       "  18662500000   NaN\n",
       "  20866500000   NaN\n",
       "  dtype: float64,\n",
       "  ('drowsy',\n",
       "   'wake'): Time (us)\n",
       "  739500000     NaN\n",
       "  921500000     NaN\n",
       "  1205500000    NaN\n",
       "  8871500000    NaN\n",
       "  13339500000   NaN\n",
       "  22406500000   NaN\n",
       "  dtype: float64})"
      ]
     },
     "execution_count": 40,
     "metadata": {},
     "output_type": "execute_result"
    }
   ],
   "source": [
    "transitions"
   ]
  },
  {
   "cell_type": "code",
   "execution_count": 6,
   "metadata": {},
   "outputs": [],
   "source": [
    "states.update(transitions[0])"
   ]
  },
  {
   "cell_type": "code",
   "execution_count": 7,
   "metadata": {},
   "outputs": [
    {
     "name": "stdout",
     "output_type": "stream",
     "text": [
      "Looking at transition from Rem  to  sws\n",
      "Looking at transition from Rem  to  wake\n",
      "Looking at transition from Rem  to  drowsy\n",
      "Looking at transition from Rem  to  ('Rem', 'sws')\n",
      "Looking at transition from Rem  to  ('Rem', 'wake')\n",
      "Looking at transition from Rem  to  ('Rem', 'drowsy')\n",
      "Looking at transition from Rem  to  ('sws', 'Rem')\n",
      "Looking at transition from Rem  to  ('sws', 'wake')\n",
      "Looking at transition from Rem  to  ('sws', 'drowsy')\n",
      "Looking at transition from Rem  to  ('wake', 'sws')\n",
      "Looking at transition from Rem  to  ('wake', 'drowsy')\n",
      "Looking at transition from Rem  to  ('drowsy', 'Rem')\n",
      "Looking at transition from Rem  to  ('drowsy', 'sws')\n",
      "Looking at transition from Rem  to  ('drowsy', 'wake')\n",
      "Looking at transition from sws  to  Rem\n",
      "Looking at transition from sws  to  wake\n",
      "Looking at transition from sws  to  drowsy\n",
      "Looking at transition from sws  to  ('Rem', 'sws')\n",
      "Looking at transition from sws  to  ('Rem', 'wake')\n",
      "Looking at transition from sws  to  ('Rem', 'drowsy')\n",
      "Looking at transition from sws  to  ('sws', 'Rem')\n",
      "Looking at transition from sws  to  ('sws', 'wake')\n",
      "Looking at transition from sws  to  ('sws', 'drowsy')\n",
      "Looking at transition from sws  to  ('wake', 'sws')\n",
      "Looking at transition from sws  to  ('wake', 'drowsy')\n",
      "Looking at transition from sws  to  ('drowsy', 'Rem')\n",
      "Looking at transition from sws  to  ('drowsy', 'sws')\n",
      "Looking at transition from sws  to  ('drowsy', 'wake')\n",
      "Looking at transition from wake  to  Rem\n",
      "Looking at transition from wake  to  sws\n",
      "Looking at transition from wake  to  drowsy\n",
      "Looking at transition from wake  to  ('Rem', 'sws')\n",
      "Looking at transition from wake  to  ('Rem', 'wake')\n",
      "Looking at transition from wake  to  ('Rem', 'drowsy')\n",
      "Looking at transition from wake  to  ('sws', 'Rem')\n",
      "Looking at transition from wake  to  ('sws', 'wake')\n",
      "Looking at transition from wake  to  ('sws', 'drowsy')\n",
      "Looking at transition from wake  to  ('wake', 'sws')\n",
      "Looking at transition from wake  to  ('wake', 'drowsy')\n",
      "Looking at transition from wake  to  ('drowsy', 'Rem')\n",
      "Looking at transition from wake  to  ('drowsy', 'sws')\n",
      "Looking at transition from wake  to  ('drowsy', 'wake')\n",
      "Looking at transition from drowsy  to  Rem\n",
      "Looking at transition from drowsy  to  sws\n",
      "Looking at transition from drowsy  to  wake\n",
      "Looking at transition from drowsy  to  ('Rem', 'sws')\n",
      "Looking at transition from drowsy  to  ('Rem', 'wake')\n",
      "Looking at transition from drowsy  to  ('Rem', 'drowsy')\n",
      "Looking at transition from drowsy  to  ('sws', 'Rem')\n",
      "Looking at transition from drowsy  to  ('sws', 'wake')\n",
      "Looking at transition from drowsy  to  ('sws', 'drowsy')\n",
      "Looking at transition from drowsy  to  ('wake', 'sws')\n",
      "Looking at transition from drowsy  to  ('wake', 'drowsy')\n",
      "Looking at transition from drowsy  to  ('drowsy', 'Rem')\n",
      "Looking at transition from drowsy  to  ('drowsy', 'sws')\n",
      "Looking at transition from drowsy  to  ('drowsy', 'wake')\n",
      "Looking at transition from ('Rem', 'sws')  to  Rem\n",
      "Looking at transition from ('Rem', 'sws')  to  sws\n",
      "Looking at transition from ('Rem', 'sws')  to  wake\n",
      "Looking at transition from ('Rem', 'sws')  to  drowsy\n",
      "Looking at transition from ('Rem', 'sws')  to  ('Rem', 'wake')\n",
      "Looking at transition from ('Rem', 'sws')  to  ('Rem', 'drowsy')\n",
      "Looking at transition from ('Rem', 'sws')  to  ('sws', 'Rem')\n",
      "Looking at transition from ('Rem', 'sws')  to  ('sws', 'wake')\n",
      "Looking at transition from ('Rem', 'sws')  to  ('sws', 'drowsy')\n",
      "Looking at transition from ('Rem', 'sws')  to  ('wake', 'sws')\n",
      "Looking at transition from ('Rem', 'sws')  to  ('wake', 'drowsy')\n",
      "Looking at transition from ('Rem', 'sws')  to  ('drowsy', 'Rem')\n",
      "Looking at transition from ('Rem', 'sws')  to  ('drowsy', 'sws')\n",
      "Looking at transition from ('Rem', 'sws')  to  ('drowsy', 'wake')\n",
      "Looking at transition from ('Rem', 'wake')  to  Rem\n",
      "Looking at transition from ('Rem', 'wake')  to  sws\n",
      "Looking at transition from ('Rem', 'wake')  to  wake\n",
      "Looking at transition from ('Rem', 'wake')  to  drowsy\n",
      "Looking at transition from ('Rem', 'wake')  to  ('Rem', 'sws')\n",
      "Looking at transition from ('Rem', 'wake')  to  ('Rem', 'drowsy')\n",
      "Looking at transition from ('Rem', 'wake')  to  ('sws', 'Rem')\n",
      "Looking at transition from ('Rem', 'wake')  to  ('sws', 'wake')\n",
      "Looking at transition from ('Rem', 'wake')  to  ('sws', 'drowsy')\n",
      "Looking at transition from ('Rem', 'wake')  to  ('wake', 'sws')\n",
      "Looking at transition from ('Rem', 'wake')  to  ('wake', 'drowsy')\n",
      "Looking at transition from ('Rem', 'wake')  to  ('drowsy', 'Rem')\n",
      "Looking at transition from ('Rem', 'wake')  to  ('drowsy', 'sws')\n",
      "Looking at transition from ('Rem', 'wake')  to  ('drowsy', 'wake')\n",
      "Looking at transition from ('Rem', 'drowsy')  to  Rem\n",
      "Looking at transition from ('Rem', 'drowsy')  to  sws\n",
      "Looking at transition from ('Rem', 'drowsy')  to  wake\n",
      "Looking at transition from ('Rem', 'drowsy')  to  drowsy\n",
      "Looking at transition from ('Rem', 'drowsy')  to  ('Rem', 'sws')\n",
      "Looking at transition from ('Rem', 'drowsy')  to  ('Rem', 'wake')\n",
      "Looking at transition from ('Rem', 'drowsy')  to  ('sws', 'Rem')\n",
      "Looking at transition from ('Rem', 'drowsy')  to  ('sws', 'wake')\n",
      "Looking at transition from ('Rem', 'drowsy')  to  ('sws', 'drowsy')\n",
      "Looking at transition from ('Rem', 'drowsy')  to  ('wake', 'sws')\n",
      "Looking at transition from ('Rem', 'drowsy')  to  ('wake', 'drowsy')\n",
      "Looking at transition from ('Rem', 'drowsy')  to  ('drowsy', 'Rem')\n",
      "Looking at transition from ('Rem', 'drowsy')  to  ('drowsy', 'sws')\n",
      "Looking at transition from ('Rem', 'drowsy')  to  ('drowsy', 'wake')\n",
      "Looking at transition from ('sws', 'Rem')  to  Rem\n",
      "Looking at transition from ('sws', 'Rem')  to  sws\n",
      "Looking at transition from ('sws', 'Rem')  to  wake\n",
      "Looking at transition from ('sws', 'Rem')  to  drowsy\n",
      "Looking at transition from ('sws', 'Rem')  to  ('Rem', 'sws')\n",
      "Looking at transition from ('sws', 'Rem')  to  ('Rem', 'wake')\n",
      "Looking at transition from ('sws', 'Rem')  to  ('Rem', 'drowsy')\n",
      "Looking at transition from ('sws', 'Rem')  to  ('sws', 'wake')\n",
      "Looking at transition from ('sws', 'Rem')  to  ('sws', 'drowsy')\n",
      "Looking at transition from ('sws', 'Rem')  to  ('wake', 'sws')\n",
      "Looking at transition from ('sws', 'Rem')  to  ('wake', 'drowsy')\n",
      "Looking at transition from ('sws', 'Rem')  to  ('drowsy', 'Rem')\n",
      "Looking at transition from ('sws', 'Rem')  to  ('drowsy', 'sws')\n",
      "Looking at transition from ('sws', 'Rem')  to  ('drowsy', 'wake')\n",
      "Looking at transition from ('sws', 'wake')  to  Rem\n",
      "Looking at transition from ('sws', 'wake')  to  sws\n",
      "Looking at transition from ('sws', 'wake')  to  wake\n",
      "Looking at transition from ('sws', 'wake')  to  drowsy\n",
      "Looking at transition from ('sws', 'wake')  to  ('Rem', 'sws')\n",
      "Looking at transition from ('sws', 'wake')  to  ('Rem', 'wake')\n",
      "Looking at transition from ('sws', 'wake')  to  ('Rem', 'drowsy')\n",
      "Looking at transition from ('sws', 'wake')  to  ('sws', 'Rem')\n",
      "Looking at transition from ('sws', 'wake')  to  ('sws', 'drowsy')\n",
      "Looking at transition from ('sws', 'wake')  to  ('wake', 'sws')\n",
      "Looking at transition from ('sws', 'wake')  to  ('wake', 'drowsy')\n",
      "Looking at transition from ('sws', 'wake')  to  ('drowsy', 'Rem')\n",
      "Looking at transition from ('sws', 'wake')  to  ('drowsy', 'sws')\n",
      "Looking at transition from ('sws', 'wake')  to  ('drowsy', 'wake')\n",
      "Looking at transition from ('sws', 'drowsy')  to  Rem\n",
      "Looking at transition from ('sws', 'drowsy')  to  sws\n",
      "Looking at transition from ('sws', 'drowsy')  to  wake\n",
      "Looking at transition from ('sws', 'drowsy')  to  drowsy\n",
      "Looking at transition from ('sws', 'drowsy')  to  ('Rem', 'sws')\n",
      "Looking at transition from ('sws', 'drowsy')  to  ('Rem', 'wake')\n",
      "Looking at transition from ('sws', 'drowsy')  to  ('Rem', 'drowsy')\n",
      "Looking at transition from ('sws', 'drowsy')  to  ('sws', 'Rem')\n",
      "Looking at transition from ('sws', 'drowsy')  to  ('sws', 'wake')\n",
      "Looking at transition from ('sws', 'drowsy')  to  ('wake', 'sws')\n",
      "Looking at transition from ('sws', 'drowsy')  to  ('wake', 'drowsy')\n",
      "Looking at transition from ('sws', 'drowsy')  to  ('drowsy', 'Rem')\n",
      "Looking at transition from ('sws', 'drowsy')  to  ('drowsy', 'sws')\n",
      "Looking at transition from ('sws', 'drowsy')  to  ('drowsy', 'wake')\n",
      "Looking at transition from ('wake', 'sws')  to  Rem\n",
      "Looking at transition from ('wake', 'sws')  to  sws\n",
      "Looking at transition from ('wake', 'sws')  to  wake\n",
      "Looking at transition from ('wake', 'sws')  to  drowsy\n",
      "Looking at transition from ('wake', 'sws')  to  ('Rem', 'sws')\n",
      "Looking at transition from ('wake', 'sws')  to  ('Rem', 'wake')\n",
      "Looking at transition from ('wake', 'sws')  to  ('Rem', 'drowsy')\n",
      "Looking at transition from ('wake', 'sws')  to  ('sws', 'Rem')\n",
      "Looking at transition from ('wake', 'sws')  to  ('sws', 'wake')\n",
      "Looking at transition from ('wake', 'sws')  to  ('sws', 'drowsy')\n",
      "Looking at transition from ('wake', 'sws')  to  ('wake', 'drowsy')\n",
      "Looking at transition from ('wake', 'sws')  to  ('drowsy', 'Rem')\n",
      "Looking at transition from ('wake', 'sws')  to  ('drowsy', 'sws')\n",
      "Looking at transition from ('wake', 'sws')  to  ('drowsy', 'wake')\n",
      "Looking at transition from ('wake', 'drowsy')  to  Rem\n",
      "Looking at transition from ('wake', 'drowsy')  to  sws\n",
      "Looking at transition from ('wake', 'drowsy')  to  wake\n",
      "Looking at transition from ('wake', 'drowsy')  to  drowsy\n",
      "Looking at transition from ('wake', 'drowsy')  to  ('Rem', 'sws')\n",
      "Looking at transition from ('wake', 'drowsy')  to  ('Rem', 'wake')\n",
      "Looking at transition from ('wake', 'drowsy')  to  ('Rem', 'drowsy')\n",
      "Looking at transition from ('wake', 'drowsy')  to  ('sws', 'Rem')\n",
      "Looking at transition from ('wake', 'drowsy')  to  ('sws', 'wake')\n",
      "Looking at transition from ('wake', 'drowsy')  to  ('sws', 'drowsy')\n",
      "Looking at transition from ('wake', 'drowsy')  to  ('wake', 'sws')\n",
      "Looking at transition from ('wake', 'drowsy')  to  ('drowsy', 'Rem')\n",
      "Looking at transition from ('wake', 'drowsy')  to  ('drowsy', 'sws')\n",
      "Looking at transition from ('wake', 'drowsy')  to  ('drowsy', 'wake')\n",
      "Looking at transition from ('drowsy', 'Rem')  to  Rem\n",
      "Looking at transition from ('drowsy', 'Rem')  to  sws\n",
      "Looking at transition from ('drowsy', 'Rem')  to  wake\n",
      "Looking at transition from ('drowsy', 'Rem')  to  drowsy\n",
      "Looking at transition from ('drowsy', 'Rem')  to  ('Rem', 'sws')\n",
      "Looking at transition from ('drowsy', 'Rem')  to  ('Rem', 'wake')\n",
      "Looking at transition from ('drowsy', 'Rem')  to  ('Rem', 'drowsy')\n",
      "Looking at transition from ('drowsy', 'Rem')  to  ('sws', 'Rem')\n",
      "Looking at transition from ('drowsy', 'Rem')  to  ('sws', 'wake')\n",
      "Looking at transition from ('drowsy', 'Rem')  to  ('sws', 'drowsy')\n",
      "Looking at transition from ('drowsy', 'Rem')  to  ('wake', 'sws')\n",
      "Looking at transition from ('drowsy', 'Rem')  to  ('wake', 'drowsy')\n",
      "Looking at transition from ('drowsy', 'Rem')  to  ('drowsy', 'sws')\n",
      "Looking at transition from ('drowsy', 'Rem')  to  ('drowsy', 'wake')\n",
      "Looking at transition from ('drowsy', 'sws')  to  Rem\n",
      "Looking at transition from ('drowsy', 'sws')  to  sws\n",
      "Looking at transition from ('drowsy', 'sws')  to  wake\n",
      "Looking at transition from ('drowsy', 'sws')  to  drowsy\n",
      "Looking at transition from ('drowsy', 'sws')  to  ('Rem', 'sws')\n",
      "Looking at transition from ('drowsy', 'sws')  to  ('Rem', 'wake')\n",
      "Looking at transition from ('drowsy', 'sws')  to  ('Rem', 'drowsy')\n",
      "Looking at transition from ('drowsy', 'sws')  to  ('sws', 'Rem')\n",
      "Looking at transition from ('drowsy', 'sws')  to  ('sws', 'wake')\n",
      "Looking at transition from ('drowsy', 'sws')  to  ('sws', 'drowsy')\n",
      "Looking at transition from ('drowsy', 'sws')  to  ('wake', 'sws')\n",
      "Looking at transition from ('drowsy', 'sws')  to  ('wake', 'drowsy')\n",
      "Looking at transition from ('drowsy', 'sws')  to  ('drowsy', 'Rem')\n",
      "Looking at transition from ('drowsy', 'sws')  to  ('drowsy', 'wake')\n",
      "Looking at transition from ('drowsy', 'wake')  to  Rem\n",
      "Looking at transition from ('drowsy', 'wake')  to  sws\n",
      "Looking at transition from ('drowsy', 'wake')  to  wake\n",
      "Looking at transition from ('drowsy', 'wake')  to  drowsy\n",
      "Looking at transition from ('drowsy', 'wake')  to  ('Rem', 'sws')\n",
      "Looking at transition from ('drowsy', 'wake')  to  ('Rem', 'wake')\n",
      "Looking at transition from ('drowsy', 'wake')  to  ('Rem', 'drowsy')\n",
      "Looking at transition from ('drowsy', 'wake')  to  ('sws', 'Rem')\n",
      "Looking at transition from ('drowsy', 'wake')  to  ('sws', 'wake')\n",
      "Looking at transition from ('drowsy', 'wake')  to  ('sws', 'drowsy')\n",
      "Looking at transition from ('drowsy', 'wake')  to  ('wake', 'sws')\n",
      "Looking at transition from ('drowsy', 'wake')  to  ('wake', 'drowsy')\n",
      "Looking at transition from ('drowsy', 'wake')  to  ('drowsy', 'Rem')\n",
      "Looking at transition from ('drowsy', 'wake')  to  ('drowsy', 'sws')\n"
     ]
    }
   ],
   "source": [
    "transitions2 = bk.compute.transitions_times(states)"
   ]
  },
  {
   "cell_type": "code",
   "execution_count": 8,
   "metadata": {},
   "outputs": [],
   "source": [
    "x = plt.subplot(4,1,1)\n",
    "bk.plot.intervals(states['Rem'],'orange')\n",
    "bk.plot.intervals(states['sws'],'grey')\n",
    "plt.subplot(4,1,2,sharex=x)\n",
    "bk.plot.intervals(states['sws','Rem'])\n",
    "plt.subplot(4,1,3,sharex=x)\n",
    "bk.plot.intervals(transitions2[0][('sws','Rem'),'sws'])\n",
    "plt.subplot(4,1,4,sharex=x)\n",
    "bk.plot.intervals(transitions2[0]['sws',('Rem','sws')])"
   ]
  },
  {
   "cell_type": "code",
   "execution_count": 36,
   "metadata": {},
   "outputs": [],
   "source": [
    "bk.plot.intervals(states['sws','Rem'])"
   ]
  },
  {
   "cell_type": "code",
   "execution_count": 47,
   "metadata": {},
   "outputs": [
    {
     "name": "stdout",
     "output_type": "stream",
     "text": [
      "('Rem', 'sws')\n",
      "('Rem', 'wake')\n",
      "('Rem', 'drowsy')\n",
      "('Rem', ('Rem', 'sws'))\n",
      "('Rem', ('Rem', 'wake'))\n",
      "('Rem', ('Rem', 'drowsy'))\n",
      "('Rem', ('sws', 'Rem'))\n",
      "('Rem', ('sws', 'wake'))\n",
      "('Rem', ('sws', 'drowsy'))\n",
      "('Rem', ('wake', 'sws'))\n",
      "('Rem', ('wake', 'drowsy'))\n",
      "('Rem', ('drowsy', 'Rem'))\n",
      "('Rem', ('drowsy', 'sws'))\n",
      "('Rem', ('drowsy', 'wake'))\n",
      "('sws', 'Rem')\n",
      "('sws', 'wake')\n",
      "('sws', 'drowsy')\n",
      "('sws', ('Rem', 'sws'))\n",
      "('sws', ('Rem', 'wake'))\n",
      "('sws', ('Rem', 'drowsy'))\n",
      "('sws', ('sws', 'Rem'))\n",
      "('sws', ('sws', 'wake'))\n",
      "('sws', ('sws', 'drowsy'))\n",
      "('sws', ('wake', 'sws'))\n",
      "('sws', ('wake', 'drowsy'))\n",
      "('sws', ('drowsy', 'Rem'))\n",
      "('sws', ('drowsy', 'sws'))\n",
      "('sws', ('drowsy', 'wake'))\n",
      "('wake', 'Rem')\n",
      "('wake', 'sws')\n",
      "('wake', 'drowsy')\n",
      "('wake', ('Rem', 'sws'))\n",
      "('wake', ('Rem', 'wake'))\n",
      "('wake', ('Rem', 'drowsy'))\n",
      "('wake', ('sws', 'Rem'))\n",
      "('wake', ('sws', 'wake'))\n",
      "('wake', ('sws', 'drowsy'))\n",
      "('wake', ('wake', 'sws'))\n",
      "('wake', ('wake', 'drowsy'))\n",
      "('wake', ('drowsy', 'Rem'))\n",
      "('wake', ('drowsy', 'sws'))\n",
      "('wake', ('drowsy', 'wake'))\n",
      "('drowsy', 'Rem')\n",
      "('drowsy', 'sws')\n",
      "('drowsy', 'wake')\n",
      "('drowsy', ('Rem', 'sws'))\n",
      "('drowsy', ('Rem', 'wake'))\n",
      "('drowsy', ('Rem', 'drowsy'))\n",
      "('drowsy', ('sws', 'Rem'))\n",
      "('drowsy', ('sws', 'wake'))\n",
      "('drowsy', ('sws', 'drowsy'))\n",
      "('drowsy', ('wake', 'sws'))\n",
      "('drowsy', ('wake', 'drowsy'))\n",
      "('drowsy', ('drowsy', 'Rem'))\n",
      "('drowsy', ('drowsy', 'sws'))\n",
      "('drowsy', ('drowsy', 'wake'))\n",
      "(('Rem', 'sws'), 'Rem')\n",
      "(('Rem', 'sws'), 'sws')\n",
      "(('Rem', 'sws'), 'wake')\n",
      "(('Rem', 'sws'), 'drowsy')\n",
      "(('Rem', 'sws'), ('Rem', 'wake'))\n",
      "(('Rem', 'sws'), ('Rem', 'drowsy'))\n",
      "(('Rem', 'sws'), ('sws', 'Rem'))\n",
      "(('Rem', 'sws'), ('sws', 'wake'))\n",
      "(('Rem', 'sws'), ('sws', 'drowsy'))\n",
      "(('Rem', 'sws'), ('wake', 'sws'))\n",
      "(('Rem', 'sws'), ('wake', 'drowsy'))\n",
      "(('Rem', 'sws'), ('drowsy', 'Rem'))\n",
      "(('Rem', 'sws'), ('drowsy', 'sws'))\n",
      "(('Rem', 'sws'), ('drowsy', 'wake'))\n",
      "(('Rem', 'wake'), 'Rem')\n",
      "(('Rem', 'wake'), 'sws')\n",
      "(('Rem', 'wake'), 'wake')\n",
      "(('Rem', 'wake'), 'drowsy')\n",
      "(('Rem', 'wake'), ('Rem', 'sws'))\n",
      "(('Rem', 'wake'), ('Rem', 'drowsy'))\n",
      "(('Rem', 'wake'), ('sws', 'Rem'))\n",
      "(('Rem', 'wake'), ('sws', 'wake'))\n",
      "(('Rem', 'wake'), ('sws', 'drowsy'))\n",
      "(('Rem', 'wake'), ('wake', 'sws'))\n",
      "(('Rem', 'wake'), ('wake', 'drowsy'))\n",
      "(('Rem', 'wake'), ('drowsy', 'Rem'))\n",
      "(('Rem', 'wake'), ('drowsy', 'sws'))\n",
      "(('Rem', 'wake'), ('drowsy', 'wake'))\n",
      "(('Rem', 'drowsy'), 'Rem')\n",
      "(('Rem', 'drowsy'), 'sws')\n",
      "(('Rem', 'drowsy'), 'wake')\n",
      "(('Rem', 'drowsy'), 'drowsy')\n",
      "(('Rem', 'drowsy'), ('Rem', 'sws'))\n",
      "(('Rem', 'drowsy'), ('Rem', 'wake'))\n",
      "(('Rem', 'drowsy'), ('sws', 'Rem'))\n",
      "(('Rem', 'drowsy'), ('sws', 'wake'))\n",
      "(('Rem', 'drowsy'), ('sws', 'drowsy'))\n",
      "(('Rem', 'drowsy'), ('wake', 'sws'))\n",
      "(('Rem', 'drowsy'), ('wake', 'drowsy'))\n",
      "(('Rem', 'drowsy'), ('drowsy', 'Rem'))\n",
      "(('Rem', 'drowsy'), ('drowsy', 'sws'))\n",
      "(('Rem', 'drowsy'), ('drowsy', 'wake'))\n",
      "(('sws', 'Rem'), 'Rem')\n",
      "(('sws', 'Rem'), 'sws')\n",
      "(('sws', 'Rem'), 'wake')\n",
      "(('sws', 'Rem'), 'drowsy')\n",
      "(('sws', 'Rem'), ('Rem', 'sws'))\n",
      "(('sws', 'Rem'), ('Rem', 'wake'))\n",
      "(('sws', 'Rem'), ('Rem', 'drowsy'))\n",
      "(('sws', 'Rem'), ('sws', 'wake'))\n",
      "(('sws', 'Rem'), ('sws', 'drowsy'))\n",
      "(('sws', 'Rem'), ('wake', 'sws'))\n",
      "(('sws', 'Rem'), ('wake', 'drowsy'))\n",
      "(('sws', 'Rem'), ('drowsy', 'Rem'))\n",
      "(('sws', 'Rem'), ('drowsy', 'sws'))\n",
      "(('sws', 'Rem'), ('drowsy', 'wake'))\n",
      "(('sws', 'wake'), 'Rem')\n",
      "(('sws', 'wake'), 'sws')\n",
      "(('sws', 'wake'), 'wake')\n",
      "(('sws', 'wake'), 'drowsy')\n",
      "(('sws', 'wake'), ('Rem', 'sws'))\n",
      "(('sws', 'wake'), ('Rem', 'wake'))\n",
      "(('sws', 'wake'), ('Rem', 'drowsy'))\n",
      "(('sws', 'wake'), ('sws', 'Rem'))\n",
      "(('sws', 'wake'), ('sws', 'drowsy'))\n",
      "(('sws', 'wake'), ('wake', 'sws'))\n",
      "(('sws', 'wake'), ('wake', 'drowsy'))\n",
      "(('sws', 'wake'), ('drowsy', 'Rem'))\n",
      "(('sws', 'wake'), ('drowsy', 'sws'))\n",
      "(('sws', 'wake'), ('drowsy', 'wake'))\n",
      "(('sws', 'drowsy'), 'Rem')\n",
      "(('sws', 'drowsy'), 'sws')\n",
      "(('sws', 'drowsy'), 'wake')\n",
      "(('sws', 'drowsy'), 'drowsy')\n",
      "(('sws', 'drowsy'), ('Rem', 'sws'))\n",
      "(('sws', 'drowsy'), ('Rem', 'wake'))\n",
      "(('sws', 'drowsy'), ('Rem', 'drowsy'))\n",
      "(('sws', 'drowsy'), ('sws', 'Rem'))\n",
      "(('sws', 'drowsy'), ('sws', 'wake'))\n",
      "(('sws', 'drowsy'), ('wake', 'sws'))\n",
      "(('sws', 'drowsy'), ('wake', 'drowsy'))\n",
      "(('sws', 'drowsy'), ('drowsy', 'Rem'))\n",
      "(('sws', 'drowsy'), ('drowsy', 'sws'))\n",
      "(('sws', 'drowsy'), ('drowsy', 'wake'))\n",
      "(('wake', 'sws'), 'Rem')\n",
      "(('wake', 'sws'), 'sws')\n",
      "(('wake', 'sws'), 'wake')\n",
      "(('wake', 'sws'), 'drowsy')\n",
      "(('wake', 'sws'), ('Rem', 'sws'))\n",
      "(('wake', 'sws'), ('Rem', 'wake'))\n",
      "(('wake', 'sws'), ('Rem', 'drowsy'))\n",
      "(('wake', 'sws'), ('sws', 'Rem'))\n",
      "(('wake', 'sws'), ('sws', 'wake'))\n",
      "(('wake', 'sws'), ('sws', 'drowsy'))\n",
      "(('wake', 'sws'), ('wake', 'drowsy'))\n",
      "(('wake', 'sws'), ('drowsy', 'Rem'))\n",
      "(('wake', 'sws'), ('drowsy', 'sws'))\n",
      "(('wake', 'sws'), ('drowsy', 'wake'))\n",
      "(('wake', 'drowsy'), 'Rem')\n",
      "(('wake', 'drowsy'), 'sws')\n",
      "(('wake', 'drowsy'), 'wake')\n",
      "(('wake', 'drowsy'), 'drowsy')\n",
      "(('wake', 'drowsy'), ('Rem', 'sws'))\n",
      "(('wake', 'drowsy'), ('Rem', 'wake'))\n",
      "(('wake', 'drowsy'), ('Rem', 'drowsy'))\n",
      "(('wake', 'drowsy'), ('sws', 'Rem'))\n",
      "(('wake', 'drowsy'), ('sws', 'wake'))\n",
      "(('wake', 'drowsy'), ('sws', 'drowsy'))\n",
      "(('wake', 'drowsy'), ('wake', 'sws'))\n",
      "(('wake', 'drowsy'), ('drowsy', 'Rem'))\n",
      "(('wake', 'drowsy'), ('drowsy', 'sws'))\n",
      "(('wake', 'drowsy'), ('drowsy', 'wake'))\n",
      "(('drowsy', 'Rem'), 'Rem')\n",
      "(('drowsy', 'Rem'), 'sws')\n",
      "(('drowsy', 'Rem'), 'wake')\n",
      "(('drowsy', 'Rem'), 'drowsy')\n",
      "(('drowsy', 'Rem'), ('Rem', 'sws'))\n",
      "(('drowsy', 'Rem'), ('Rem', 'wake'))\n",
      "(('drowsy', 'Rem'), ('Rem', 'drowsy'))\n",
      "(('drowsy', 'Rem'), ('sws', 'Rem'))\n",
      "(('drowsy', 'Rem'), ('sws', 'wake'))\n",
      "(('drowsy', 'Rem'), ('sws', 'drowsy'))\n",
      "(('drowsy', 'Rem'), ('wake', 'sws'))\n",
      "(('drowsy', 'Rem'), ('wake', 'drowsy'))\n",
      "(('drowsy', 'Rem'), ('drowsy', 'sws'))\n",
      "(('drowsy', 'Rem'), ('drowsy', 'wake'))\n",
      "(('drowsy', 'sws'), 'Rem')\n",
      "(('drowsy', 'sws'), 'sws')\n",
      "(('drowsy', 'sws'), 'wake')\n",
      "(('drowsy', 'sws'), 'drowsy')\n",
      "(('drowsy', 'sws'), ('Rem', 'sws'))\n",
      "(('drowsy', 'sws'), ('Rem', 'wake'))\n",
      "(('drowsy', 'sws'), ('Rem', 'drowsy'))\n",
      "(('drowsy', 'sws'), ('sws', 'Rem'))\n",
      "(('drowsy', 'sws'), ('sws', 'wake'))\n",
      "(('drowsy', 'sws'), ('sws', 'drowsy'))\n",
      "(('drowsy', 'sws'), ('wake', 'sws'))\n",
      "(('drowsy', 'sws'), ('wake', 'drowsy'))\n",
      "(('drowsy', 'sws'), ('drowsy', 'Rem'))\n",
      "(('drowsy', 'sws'), ('drowsy', 'wake'))\n",
      "(('drowsy', 'wake'), 'Rem')\n",
      "(('drowsy', 'wake'), 'sws')\n",
      "(('drowsy', 'wake'), 'wake')\n",
      "(('drowsy', 'wake'), 'drowsy')\n",
      "(('drowsy', 'wake'), ('Rem', 'sws'))\n",
      "(('drowsy', 'wake'), ('Rem', 'wake'))\n",
      "(('drowsy', 'wake'), ('Rem', 'drowsy'))\n",
      "(('drowsy', 'wake'), ('sws', 'Rem'))\n",
      "(('drowsy', 'wake'), ('sws', 'wake'))\n",
      "(('drowsy', 'wake'), ('sws', 'drowsy'))\n",
      "(('drowsy', 'wake'), ('wake', 'sws'))\n",
      "(('drowsy', 'wake'), ('wake', 'drowsy'))\n",
      "(('drowsy', 'wake'), ('drowsy', 'Rem'))\n",
      "(('drowsy', 'wake'), ('drowsy', 'sws'))\n"
     ]
    }
   ],
   "source": [
    "for i in transitions2[0]: print(i)"
   ]
  },
  {
   "cell_type": "code",
   "execution_count": 23,
   "metadata": {},
   "outputs": [
    {
     "data": {
      "text/plain": [
       "{('Rem',\n",
       "  'sws'):           start          end\n",
       " 0    3842000000   3916000000\n",
       " 1    3917000000   3992000000\n",
       " 2    3993000000   4529000000\n",
       " 3    4530000000   4648000000\n",
       " 4    5427000000   6069000000\n",
       " 5    7312000000   7759000000\n",
       " 6    7760000000   7909000000\n",
       " 7   17260000000  17429000000\n",
       " 8   17430000000  17669000000\n",
       " 9   17811000000  18076000000\n",
       " 10  18077000000  18528000000\n",
       " 11  19168000000  19448000000\n",
       " 12  19449000000  19771000000\n",
       " 13  19772000000  20363000000\n",
       " 14  21287000000  21629000000\n",
       " 15  21630000000  21850000000,\n",
       " ('Rem',\n",
       "  'wake'):         start          end\n",
       " 0  2430000000   2825000000\n",
       " 1  6070000000   6367000000\n",
       " 2  7910000000   8484000000\n",
       " 3  9334000000  13214000000,\n",
       " ('Rem',\n",
       "  'drowsy'):          start          end\n",
       " 0   1927000000   2103000000\n",
       " 1   3276000000   3382000000\n",
       " 2   4677000000   4863000000\n",
       " 3   4864000000   5043000000\n",
       " 4   8798000000   8871000000\n",
       " 5  16146000000  16435000000\n",
       " 6  16766000000  16800000000\n",
       " 7  18529000000  18662000000\n",
       " 8  21851000000  22406000000,\n",
       " ('sws',\n",
       "  'Rem'):           start          end\n",
       " 0    1777000000   2013000000\n",
       " 1    2104000000   2603000000\n",
       " 2    2826000000   3371000000\n",
       " 3    3383000000   3887000000\n",
       " 4    3888000000   3969000000\n",
       " 5    3970000000   4023000000\n",
       " 6    4024000000   4567000000\n",
       " 7    5044000000   5488000000\n",
       " 8    5489000000   6206000000\n",
       " 9    6970000000   7374000000\n",
       " 10   7375000000   7787000000\n",
       " 11   7788000000   8030000000\n",
       " 12   8485000000   8852000000\n",
       " 13   8887000000   9402000000\n",
       " 14  15516000000  16405000000\n",
       " 15  16436000000  16787000000\n",
       " 16  16801000000  17363000000\n",
       " 17  17364000000  17496000000\n",
       " 18  17791000000  17851000000\n",
       " 19  17852000000  18131000000\n",
       " 20  18132000000  18614000000\n",
       " 21  18663000000  19084000000\n",
       " 22  19086000000  19186000000\n",
       " 23  19187000000  19545000000\n",
       " 24  19546000000  19817000000\n",
       " 25  20867000000  21358000000\n",
       " 26  21359000000  21674000000\n",
       " 27  21675000000  21953000000,\n",
       " ('sws',\n",
       "  'wake'):          start          end\n",
       " 0   6368000000   6944000000\n",
       " 1  19818000000  20710000000,\n",
       " ('sws',\n",
       "  'drowsy'):          start          end\n",
       " 0   1448000000   1776000000\n",
       " 1   4568000000   4671000000\n",
       " 2  17497000000  17688000000\n",
       " 3  17689000000  17790000000,\n",
       " ('wake', 'Rem'): [],\n",
       " ('wake',\n",
       "  'sws'):         start         end\n",
       " 0  1206000000  1697000000\n",
       " 1  2604000000  3275000000\n",
       " 2  6207000000  6629000000\n",
       " 3  8031000000  8797000000,\n",
       " ('wake',\n",
       "  'drowsy'):          start          end\n",
       " 0      1000000    739000000\n",
       " 1    740000000    921000000\n",
       " 2    922000000   1205000000\n",
       " 3   6630000000   6969000000\n",
       " 4   9403000000  13339000000\n",
       " 5  13340000000  15515000000\n",
       " 6  20364000000  20866000000,\n",
       " ('drowsy',\n",
       "  'Rem'):         start         end\n",
       " 0  4839000000  4920000000,\n",
       " ('drowsy',\n",
       "  'sws'):           start          end\n",
       " 0    1698000000   1926000000\n",
       " 1    2014000000   2429000000\n",
       " 2    3372000000   3841000000\n",
       " 3    4921000000   5426000000\n",
       " 4    6945000000   7311000000\n",
       " 5   15513000000  16145000000\n",
       " 6   16406000000  16765000000\n",
       " 7   16788000000  17259000000\n",
       " 8   17670000000  17764000000\n",
       " 9   17765000000  17810000000\n",
       " 10  18615000000  18979000000\n",
       " 11  20711000000  21286000000,\n",
       " ('drowsy',\n",
       "  'wake'):          start          end\n",
       " 0    546000000    857000000\n",
       " 1    858000000   1055000000\n",
       " 2   1056000000   1447000000\n",
       " 3   8853000000   8885000000\n",
       " 4  13215000000  15512000000\n",
       " 5  21954000000  22679000000}"
      ]
     },
     "execution_count": 23,
     "metadata": {},
     "output_type": "execute_result"
    }
   ],
   "source": [
    "transitions[0]"
   ]
  },
  {
   "cell_type": "code",
   "execution_count": 47,
   "metadata": {},
   "outputs": [],
   "source": []
  },
  {
   "cell_type": "code",
   "execution_count": null,
   "metadata": {},
   "outputs": [],
   "source": []
  },
  {
   "cell_type": "code",
   "execution_count": 17,
   "metadata": {},
   "outputs": [
    {
     "name": "stdout",
     "output_type": "stream",
     "text": [
      "252\n",
      "0.05\n"
     ]
    },
    {
     "ename": "TypeError",
     "evalue": "'(slice(None, None, None), 0)' is an invalid key",
     "output_type": "error",
     "traceback": [
      "\u001b[1;31m---------------------------------------------------------------------------\u001b[0m",
      "\u001b[1;31mTypeError\u001b[0m                                 Traceback (most recent call last)",
      "\u001b[1;32m<ipython-input-17-e85eb1516087>\u001b[0m in \u001b[0;36m<module>\u001b[1;34m\u001b[0m\n\u001b[0;32m      9\u001b[0m \u001b[1;32mfor\u001b[0m \u001b[0mi\u001b[0m\u001b[1;33m,\u001b[0m\u001b[0mm\u001b[0m \u001b[1;32min\u001b[0m \u001b[0menumerate\u001b[0m\u001b[1;33m(\u001b[0m\u001b[0mmethods\u001b[0m\u001b[1;33m)\u001b[0m\u001b[1;33m:\u001b[0m\u001b[1;33m\u001b[0m\u001b[1;33m\u001b[0m\u001b[0m\n\u001b[0;32m     10\u001b[0m     \u001b[0mplt\u001b[0m\u001b[1;33m.\u001b[0m\u001b[0msubplot\u001b[0m\u001b[1;33m(\u001b[0m\u001b[0mlen\u001b[0m\u001b[1;33m(\u001b[0m\u001b[0mmethods\u001b[0m\u001b[1;33m)\u001b[0m\u001b[1;33m,\u001b[0m\u001b[1;36m1\u001b[0m\u001b[1;33m,\u001b[0m\u001b[0mi\u001b[0m\u001b[1;33m+\u001b[0m\u001b[1;36m1\u001b[0m\u001b[1;33m,\u001b[0m\u001b[0msharex\u001b[0m \u001b[1;33m=\u001b[0m \u001b[0msub\u001b[0m\u001b[1;33m)\u001b[0m\u001b[1;33m\u001b[0m\u001b[1;33m\u001b[0m\u001b[0m\n\u001b[1;32m---> 11\u001b[1;33m     \u001b[0msyn\u001b[0m \u001b[1;33m=\u001b[0m \u001b[0msynchrony\u001b[0m\u001b[1;33m(\u001b[0m\u001b[0mneurons\u001b[0m\u001b[1;33m,\u001b[0m\u001b[0mmetadata\u001b[0m\u001b[1;33m,\u001b[0m\u001b[1;36m0.05\u001b[0m\u001b[1;33m,\u001b[0m\u001b[1;33m[\u001b[0m\u001b[1;34m'Hpc'\u001b[0m\u001b[1;33m,\u001b[0m\u001b[1;34m'BLA'\u001b[0m\u001b[1;33m]\u001b[0m\u001b[1;33m,\u001b[0m\u001b[0mmethod\u001b[0m \u001b[1;33m=\u001b[0m \u001b[0mm\u001b[0m \u001b[1;33m,\u001b[0m\u001b[0msm\u001b[0m \u001b[1;33m=\u001b[0m \u001b[0msms\u001b[0m\u001b[1;33m[\u001b[0m\u001b[0mi\u001b[0m\u001b[1;33m]\u001b[0m\u001b[1;33m)\u001b[0m\u001b[1;33m\u001b[0m\u001b[1;33m\u001b[0m\u001b[0m\n\u001b[0m\u001b[0;32m     12\u001b[0m     \u001b[0mplt\u001b[0m\u001b[1;33m.\u001b[0m\u001b[0mxlabel\u001b[0m\u001b[1;33m(\u001b[0m\u001b[1;34m''\u001b[0m\u001b[1;33m)\u001b[0m\u001b[1;33m\u001b[0m\u001b[1;33m\u001b[0m\u001b[0m\n\u001b[0;32m     13\u001b[0m     \u001b[1;32mif\u001b[0m \u001b[0mi\u001b[0m \u001b[1;33m==\u001b[0m \u001b[1;36m0\u001b[0m\u001b[1;33m:\u001b[0m\u001b[1;33m\u001b[0m\u001b[1;33m\u001b[0m\u001b[0m\n",
      "\u001b[1;32m<ipython-input-16-10c8eab0e664>\u001b[0m in \u001b[0;36msynchrony\u001b[1;34m(neurons, metadata, binSize, stru, sm, method, plot)\u001b[0m\n\u001b[0;32m     38\u001b[0m                 \u001b[0mprint\u001b[0m\u001b[1;33m(\u001b[0m\u001b[1;34m'Could not compute '\u001b[0m \u001b[1;33m+\u001b[0m \u001b[0ms\u001b[0m \u001b[1;33m+\u001b[0m \u001b[1;34m' because is you don\\'t have shank in it'\u001b[0m\u001b[1;33m)\u001b[0m\u001b[1;33m\u001b[0m\u001b[1;33m\u001b[0m\u001b[0m\n\u001b[0;32m     39\u001b[0m                 \u001b[1;32mcontinue\u001b[0m\u001b[1;33m\u001b[0m\u001b[1;33m\u001b[0m\u001b[0m\n\u001b[1;32m---> 40\u001b[1;33m             \u001b[0mstru_mask\u001b[0m\u001b[1;33m.\u001b[0m\u001b[0mupdate\u001b[0m\u001b[1;33m(\u001b[0m\u001b[1;33m{\u001b[0m\u001b[0ms\u001b[0m\u001b[1;33m:\u001b[0m\u001b[1;33m[\u001b[0m\u001b[0mi\u001b[0m \u001b[1;32min\u001b[0m \u001b[0mstru_shank\u001b[0m\u001b[1;33m[\u001b[0m\u001b[0ms\u001b[0m\u001b[1;33m]\u001b[0m \u001b[1;32mfor\u001b[0m \u001b[0mi\u001b[0m \u001b[1;32min\u001b[0m \u001b[0mmetadata\u001b[0m\u001b[1;33m[\u001b[0m\u001b[1;33m:\u001b[0m\u001b[1;33m,\u001b[0m\u001b[1;36m0\u001b[0m\u001b[1;33m]\u001b[0m\u001b[1;33m]\u001b[0m\u001b[1;33m}\u001b[0m\u001b[1;33m)\u001b[0m\u001b[1;33m\u001b[0m\u001b[1;33m\u001b[0m\u001b[0m\n\u001b[0m\u001b[0;32m     41\u001b[0m \u001b[1;33m\u001b[0m\u001b[0m\n\u001b[0;32m     42\u001b[0m     \u001b[1;32mif\u001b[0m \u001b[0mmethod\u001b[0m \u001b[1;33m==\u001b[0m \u001b[1;34m'corr'\u001b[0m\u001b[1;33m:\u001b[0m\u001b[1;33m\u001b[0m\u001b[1;33m\u001b[0m\u001b[0m\n",
      "\u001b[1;32mC:\\ProgramData\\Anaconda3\\lib\\site-packages\\pandas\\core\\frame.py\u001b[0m in \u001b[0;36m__getitem__\u001b[1;34m(self, key)\u001b[0m\n\u001b[0;32m   2900\u001b[0m             \u001b[1;32mif\u001b[0m \u001b[0mself\u001b[0m\u001b[1;33m.\u001b[0m\u001b[0mcolumns\u001b[0m\u001b[1;33m.\u001b[0m\u001b[0mnlevels\u001b[0m \u001b[1;33m>\u001b[0m \u001b[1;36m1\u001b[0m\u001b[1;33m:\u001b[0m\u001b[1;33m\u001b[0m\u001b[1;33m\u001b[0m\u001b[0m\n\u001b[0;32m   2901\u001b[0m                 \u001b[1;32mreturn\u001b[0m \u001b[0mself\u001b[0m\u001b[1;33m.\u001b[0m\u001b[0m_getitem_multilevel\u001b[0m\u001b[1;33m(\u001b[0m\u001b[0mkey\u001b[0m\u001b[1;33m)\u001b[0m\u001b[1;33m\u001b[0m\u001b[1;33m\u001b[0m\u001b[0m\n\u001b[1;32m-> 2902\u001b[1;33m             \u001b[0mindexer\u001b[0m \u001b[1;33m=\u001b[0m \u001b[0mself\u001b[0m\u001b[1;33m.\u001b[0m\u001b[0mcolumns\u001b[0m\u001b[1;33m.\u001b[0m\u001b[0mget_loc\u001b[0m\u001b[1;33m(\u001b[0m\u001b[0mkey\u001b[0m\u001b[1;33m)\u001b[0m\u001b[1;33m\u001b[0m\u001b[1;33m\u001b[0m\u001b[0m\n\u001b[0m\u001b[0;32m   2903\u001b[0m             \u001b[1;32mif\u001b[0m \u001b[0mis_integer\u001b[0m\u001b[1;33m(\u001b[0m\u001b[0mindexer\u001b[0m\u001b[1;33m)\u001b[0m\u001b[1;33m:\u001b[0m\u001b[1;33m\u001b[0m\u001b[1;33m\u001b[0m\u001b[0m\n\u001b[0;32m   2904\u001b[0m                 \u001b[0mindexer\u001b[0m \u001b[1;33m=\u001b[0m \u001b[1;33m[\u001b[0m\u001b[0mindexer\u001b[0m\u001b[1;33m]\u001b[0m\u001b[1;33m\u001b[0m\u001b[1;33m\u001b[0m\u001b[0m\n",
      "\u001b[1;32mC:\\ProgramData\\Anaconda3\\lib\\site-packages\\pandas\\core\\indexes\\base.py\u001b[0m in \u001b[0;36mget_loc\u001b[1;34m(self, key, method, tolerance)\u001b[0m\n\u001b[0;32m   2893\u001b[0m             \u001b[0mcasted_key\u001b[0m \u001b[1;33m=\u001b[0m \u001b[0mself\u001b[0m\u001b[1;33m.\u001b[0m\u001b[0m_maybe_cast_indexer\u001b[0m\u001b[1;33m(\u001b[0m\u001b[0mkey\u001b[0m\u001b[1;33m)\u001b[0m\u001b[1;33m\u001b[0m\u001b[1;33m\u001b[0m\u001b[0m\n\u001b[0;32m   2894\u001b[0m             \u001b[1;32mtry\u001b[0m\u001b[1;33m:\u001b[0m\u001b[1;33m\u001b[0m\u001b[1;33m\u001b[0m\u001b[0m\n\u001b[1;32m-> 2895\u001b[1;33m                 \u001b[1;32mreturn\u001b[0m \u001b[0mself\u001b[0m\u001b[1;33m.\u001b[0m\u001b[0m_engine\u001b[0m\u001b[1;33m.\u001b[0m\u001b[0mget_loc\u001b[0m\u001b[1;33m(\u001b[0m\u001b[0mcasted_key\u001b[0m\u001b[1;33m)\u001b[0m\u001b[1;33m\u001b[0m\u001b[1;33m\u001b[0m\u001b[0m\n\u001b[0m\u001b[0;32m   2896\u001b[0m             \u001b[1;32mexcept\u001b[0m \u001b[0mKeyError\u001b[0m \u001b[1;32mas\u001b[0m \u001b[0merr\u001b[0m\u001b[1;33m:\u001b[0m\u001b[1;33m\u001b[0m\u001b[1;33m\u001b[0m\u001b[0m\n\u001b[0;32m   2897\u001b[0m                 \u001b[1;32mraise\u001b[0m \u001b[0mKeyError\u001b[0m\u001b[1;33m(\u001b[0m\u001b[0mkey\u001b[0m\u001b[1;33m)\u001b[0m \u001b[1;32mfrom\u001b[0m \u001b[0merr\u001b[0m\u001b[1;33m\u001b[0m\u001b[1;33m\u001b[0m\u001b[0m\n",
      "\u001b[1;32mpandas\\_libs\\index.pyx\u001b[0m in \u001b[0;36mpandas._libs.index.IndexEngine.get_loc\u001b[1;34m()\u001b[0m\n",
      "\u001b[1;32mpandas\\_libs\\index.pyx\u001b[0m in \u001b[0;36mpandas._libs.index.IndexEngine.get_loc\u001b[1;34m()\u001b[0m\n",
      "\u001b[1;31mTypeError\u001b[0m: '(slice(None, None, None), 0)' is an invalid key"
     ]
    }
   ],
   "source": [
    "# path = bk.sessions()['Path'][4]\n",
    "# bk.current_session(path)\n",
    "# neurons,metadata = bk.loadSpikeData(bk.path)\n",
    "\n",
    "methods = ['firing','coactivation','corr']\n",
    "sms = [5001,5001,201]\n",
    "plt.figure()\n",
    "sub = plt.subplot(3,1,1)\n",
    "for i,m in enumerate(methods):\n",
    "    plt.subplot(len(methods),1,i+1,sharex = sub)\n",
    "    syn = synchrony(neurons,metadata,0.05,['Hpc','BLA'],method = m ,sm = sms[i])\n",
    "    plt.xlabel('')\n",
    "    if i == 0:\n",
    "        plt.title('Firing Rates')\n",
    "    else:\n",
    "        plt.title('Syncrhony calculated using '+ m )\n",
    "plt.suptitle(bk.load.session)\n",
    "plt.show()"
   ]
  },
  {
   "cell_type": "code",
   "execution_count": 18,
   "metadata": {},
   "outputs": [
    {
     "data": {
      "text/html": [
       "<div>\n",
       "<style scoped>\n",
       "    .dataframe tbody tr th:only-of-type {\n",
       "        vertical-align: middle;\n",
       "    }\n",
       "\n",
       "    .dataframe tbody tr th {\n",
       "        vertical-align: top;\n",
       "    }\n",
       "\n",
       "    .dataframe thead th {\n",
       "        text-align: right;\n",
       "    }\n",
       "</style>\n",
       "<table border=\"1\" class=\"dataframe\">\n",
       "  <thead>\n",
       "    <tr style=\"text-align: right;\">\n",
       "      <th></th>\n",
       "      <th>Shank</th>\n",
       "      <th>Id</th>\n",
       "      <th>Region</th>\n",
       "      <th>Type</th>\n",
       "    </tr>\n",
       "  </thead>\n",
       "  <tbody>\n",
       "    <tr>\n",
       "      <th>0</th>\n",
       "      <td>1</td>\n",
       "      <td>2</td>\n",
       "      <td>Hpc</td>\n",
       "      <td>Pyr</td>\n",
       "    </tr>\n",
       "    <tr>\n",
       "      <th>1</th>\n",
       "      <td>2</td>\n",
       "      <td>2</td>\n",
       "      <td>Hpc</td>\n",
       "      <td>Pyr</td>\n",
       "    </tr>\n",
       "    <tr>\n",
       "      <th>2</th>\n",
       "      <td>2</td>\n",
       "      <td>3</td>\n",
       "      <td>Hpc</td>\n",
       "      <td>Pyr</td>\n",
       "    </tr>\n",
       "    <tr>\n",
       "      <th>3</th>\n",
       "      <td>2</td>\n",
       "      <td>4</td>\n",
       "      <td>Hpc</td>\n",
       "      <td>Pyr</td>\n",
       "    </tr>\n",
       "    <tr>\n",
       "      <th>4</th>\n",
       "      <td>2</td>\n",
       "      <td>5</td>\n",
       "      <td>Hpc</td>\n",
       "      <td>Pyr</td>\n",
       "    </tr>\n",
       "    <tr>\n",
       "      <th>...</th>\n",
       "      <td>...</td>\n",
       "      <td>...</td>\n",
       "      <td>...</td>\n",
       "      <td>...</td>\n",
       "    </tr>\n",
       "    <tr>\n",
       "      <th>247</th>\n",
       "      <td>19</td>\n",
       "      <td>2</td>\n",
       "      <td>BLA</td>\n",
       "      <td>Pyr</td>\n",
       "    </tr>\n",
       "    <tr>\n",
       "      <th>248</th>\n",
       "      <td>19</td>\n",
       "      <td>3</td>\n",
       "      <td>BLA</td>\n",
       "      <td>Pyr</td>\n",
       "    </tr>\n",
       "    <tr>\n",
       "      <th>249</th>\n",
       "      <td>19</td>\n",
       "      <td>4</td>\n",
       "      <td>BLA</td>\n",
       "      <td>Pyr</td>\n",
       "    </tr>\n",
       "    <tr>\n",
       "      <th>250</th>\n",
       "      <td>19</td>\n",
       "      <td>5</td>\n",
       "      <td>BLA</td>\n",
       "      <td>Pyr</td>\n",
       "    </tr>\n",
       "    <tr>\n",
       "      <th>251</th>\n",
       "      <td>19</td>\n",
       "      <td>6</td>\n",
       "      <td>BLA</td>\n",
       "      <td>Pyr</td>\n",
       "    </tr>\n",
       "  </tbody>\n",
       "</table>\n",
       "<p>252 rows × 4 columns</p>\n",
       "</div>"
      ],
      "text/plain": [
       "    Shank Id Region Type\n",
       "0       1  2    Hpc  Pyr\n",
       "1       2  2    Hpc  Pyr\n",
       "2       2  3    Hpc  Pyr\n",
       "3       2  4    Hpc  Pyr\n",
       "4       2  5    Hpc  Pyr\n",
       "..    ... ..    ...  ...\n",
       "247    19  2    BLA  Pyr\n",
       "248    19  3    BLA  Pyr\n",
       "249    19  4    BLA  Pyr\n",
       "250    19  5    BLA  Pyr\n",
       "251    19  6    BLA  Pyr\n",
       "\n",
       "[252 rows x 4 columns]"
      ]
     },
     "execution_count": 18,
     "metadata": {},
     "output_type": "execute_result"
    }
   ],
   "source": []
  },
  {
   "cell_type": "code",
   "execution_count": 214,
   "metadata": {},
   "outputs": [
    {
     "data": {
      "text/plain": [
       "Text(0.5, 1.0, 'Firing Rates')"
      ]
     },
     "execution_count": 214,
     "metadata": {},
     "output_type": "execute_result"
    }
   ],
   "source": [
    "plt.subplot(3,1,1)\n",
    "plt.title('Firing Rates')"
   ]
  },
  {
   "cell_type": "code",
   "execution_count": 184,
   "metadata": {},
   "outputs": [
    {
     "name": "stderr",
     "output_type": "stream",
     "text": [
      "C:\\ProgramData\\Anaconda3\\lib\\site-packages\\ipykernel_launcher.py:6: MatplotlibDeprecationWarning: Adding an axes using the same arguments as a previous axes currently reuses the earlier instance.  In a future version, a new instance will always be created and returned.  Meanwhile, this warning can be suppressed, and the future behavior ensured, by passing a unique label to each axes instance.\n",
      "  \n"
     ]
    },
    {
     "name": "stdout",
     "output_type": "stream",
     "text": [
      "40\n",
      "100\n",
      "computing Hpc\n",
      "computing BLA\n",
      "40\n",
      "100\n",
      "computing Hpc\n",
      "computing BLA\n",
      "40\n",
      "100\n"
     ]
    },
    {
     "name": "stderr",
     "output_type": "stream",
     "text": [
      "C:\\ProgramData\\Anaconda3\\lib\\site-packages\\numpy\\lib\\function_base.py:2559: RuntimeWarning: invalid value encountered in true_divide\n",
      "  c /= stddev[:, None]\n",
      "C:\\ProgramData\\Anaconda3\\lib\\site-packages\\numpy\\lib\\function_base.py:2560: RuntimeWarning: invalid value encountered in true_divide\n",
      "  c /= stddev[None, :]\n",
      "100% |########################################################################|\n"
     ]
    },
    {
     "name": "stdout",
     "output_type": "stream",
     "text": [
      "computing Hpc\n",
      "computing BLA\n"
     ]
    }
   ],
   "source": [
    "methods = ['firing','coactivation','corr']\n",
    "sms = [11,1001,201]\n",
    "plt.figure()\n",
    "sub = plt.subplot(3,1,1)\n",
    "for i,m in enumerate(methods):\n",
    "    plt.subplot(len(methods),1,i+1)\n",
    "    syn = synchrony(neurons,metadata,100,['Hpc','BLA'],method = m ,sm = sms[i])\n",
    "    plt.xlabel('')\n",
    "    plt.title('Synchrony calculated using '+ m )\n",
    "plt.show()"
   ]
  },
  {
   "cell_type": "code",
   "execution_count": 28,
   "metadata": {
    "collapsed": true,
    "jupyter": {
     "outputs_hidden": true
    }
   },
   "outputs": [
    {
     "ename": "NameError",
     "evalue": "name 'stru_corr' is not defined",
     "output_type": "error",
     "traceback": [
      "\u001b[1;31m---------------------------------------------------------------------------\u001b[0m",
      "\u001b[1;31mNameError\u001b[0m                                 Traceback (most recent call last)",
      "\u001b[1;32m<ipython-input-28-0eb6481ea81e>\u001b[0m in \u001b[0;36m<module>\u001b[1;34m\u001b[0m\n\u001b[0;32m      1\u001b[0m \u001b[0mplt\u001b[0m\u001b[1;33m.\u001b[0m\u001b[0mfigure\u001b[0m\u001b[1;33m(\u001b[0m\u001b[1;33m)\u001b[0m\u001b[1;33m\u001b[0m\u001b[1;33m\u001b[0m\u001b[0m\n\u001b[0;32m      2\u001b[0m \u001b[0mplt\u001b[0m\u001b[1;33m.\u001b[0m\u001b[0msubplot\u001b[0m\u001b[1;33m(\u001b[0m\u001b[1;36m1\u001b[0m\u001b[1;33m,\u001b[0m\u001b[1;36m3\u001b[0m\u001b[1;33m,\u001b[0m\u001b[1;36m1\u001b[0m\u001b[1;33m)\u001b[0m\u001b[1;33m\u001b[0m\u001b[1;33m\u001b[0m\u001b[0m\n\u001b[1;32m----> 3\u001b[1;33m \u001b[0mplt\u001b[0m\u001b[1;33m.\u001b[0m\u001b[0mimshow\u001b[0m\u001b[1;33m(\u001b[0m\u001b[0mstru_corr\u001b[0m\u001b[1;33m[\u001b[0m\u001b[1;34m'Hpc'\u001b[0m\u001b[1;33m]\u001b[0m\u001b[1;33m[\u001b[0m\u001b[1;36m21000\u001b[0m\u001b[1;33m,\u001b[0m\u001b[1;33m:\u001b[0m\u001b[1;33m,\u001b[0m\u001b[1;33m:\u001b[0m\u001b[1;33m]\u001b[0m\u001b[1;33m)\u001b[0m\u001b[1;33m\u001b[0m\u001b[1;33m\u001b[0m\u001b[0m\n\u001b[0m\u001b[0;32m      4\u001b[0m \u001b[0mplt\u001b[0m\u001b[1;33m.\u001b[0m\u001b[0mclim\u001b[0m\u001b[1;33m(\u001b[0m\u001b[1;33m-\u001b[0m\u001b[1;36m1\u001b[0m\u001b[1;33m,\u001b[0m\u001b[1;36m1\u001b[0m\u001b[1;33m)\u001b[0m\u001b[1;33m\u001b[0m\u001b[1;33m\u001b[0m\u001b[0m\n\u001b[0;32m      5\u001b[0m \u001b[0mplt\u001b[0m\u001b[1;33m.\u001b[0m\u001b[0msubplot\u001b[0m\u001b[1;33m(\u001b[0m\u001b[1;36m1\u001b[0m\u001b[1;33m,\u001b[0m\u001b[1;36m3\u001b[0m\u001b[1;33m,\u001b[0m\u001b[1;36m2\u001b[0m\u001b[1;33m)\u001b[0m\u001b[1;33m\u001b[0m\u001b[1;33m\u001b[0m\u001b[0m\n",
      "\u001b[1;31mNameError\u001b[0m: name 'stru_corr' is not defined"
     ]
    }
   ],
   "source": [
    "plt.figure()\n",
    "plt.subplot(1,3,1)\n",
    "plt.imshow(stru_corr['Hpc'][21000,:,:])\n",
    "plt.clim(-1,1)\n",
    "plt.subplot(1,3,2)\n",
    "plt.imshow(np.abs(stru_corr['Hpc'][21000,:,:]))\n",
    "plt.clim(-1,1)\n",
    "plt.subplot(1,3,3)\n",
    "plt.colorbar()"
   ]
  },
  {
   "cell_type": "code",
   "execution_count": 10,
   "metadata": {
    "collapsed": true,
    "jupyter": {
     "outputs_hidden": true
    }
   },
   "outputs": [
    {
     "name": "stdout",
     "output_type": "stream",
     "text": [
      "Warning: Cannot change to a different GUI toolkit: qt. Using widget instead.\n"
     ]
    },
    {
     "data": {
      "application/vnd.jupyter.widget-view+json": {
       "model_id": "7c2dbca128d94723bc4b5c373b0c901c",
       "version_major": 2,
       "version_minor": 0
      },
      "text/plain": [
       "Canvas(toolbar=Toolbar(toolitems=[('Home', 'Reset original view', 'home', 'home'), ('Back', 'Back to previous …"
      ]
     },
     "metadata": {},
     "output_type": "display_data"
    },
    {
     "ename": "KeyboardInterrupt",
     "evalue": "",
     "output_type": "error",
     "traceback": [
      "\u001b[1;31m---------------------------------------------------------------------------\u001b[0m",
      "\u001b[1;31mKeyboardInterrupt\u001b[0m                         Traceback (most recent call last)",
      "\u001b[1;32m<ipython-input-10-fa4f86c810d0>\u001b[0m in \u001b[0;36m<module>\u001b[1;34m\u001b[0m\n\u001b[0;32m      4\u001b[0m     \u001b[0mcorr\u001b[0m \u001b[1;33m=\u001b[0m \u001b[0mnp\u001b[0m\u001b[1;33m.\u001b[0m\u001b[0mcorrcoef\u001b[0m\u001b[1;33m(\u001b[0m\u001b[0mbinned\u001b[0m\u001b[1;33m[\u001b[0m\u001b[1;33m:\u001b[0m\u001b[1;33m,\u001b[0m\u001b[0mi\u001b[0m\u001b[1;33m:\u001b[0m\u001b[0mi\u001b[0m\u001b[1;33m+\u001b[0m\u001b[0mwinSize\u001b[0m\u001b[1;33m]\u001b[0m\u001b[1;33m)\u001b[0m\u001b[1;33m\u001b[0m\u001b[1;33m\u001b[0m\u001b[0m\n\u001b[0;32m      5\u001b[0m     \u001b[0mcorr\u001b[0m\u001b[1;33m[\u001b[0m\u001b[0mnp\u001b[0m\u001b[1;33m.\u001b[0m\u001b[0misnan\u001b[0m\u001b[1;33m(\u001b[0m\u001b[0mcorr\u001b[0m\u001b[1;33m)\u001b[0m\u001b[1;33m]\u001b[0m \u001b[1;33m=\u001b[0m \u001b[1;36m0\u001b[0m\u001b[1;33m\u001b[0m\u001b[1;33m\u001b[0m\u001b[0m\n\u001b[1;32m----> 6\u001b[1;33m     \u001b[0msns\u001b[0m\u001b[1;33m.\u001b[0m\u001b[0mheatmap\u001b[0m\u001b[1;33m(\u001b[0m\u001b[0mcorr\u001b[0m\u001b[1;33m,\u001b[0m\u001b[0msquare\u001b[0m \u001b[1;33m=\u001b[0m \u001b[1;32mTrue\u001b[0m\u001b[1;33m,\u001b[0m\u001b[0mvmin\u001b[0m \u001b[1;33m=\u001b[0m \u001b[1;36m0\u001b[0m\u001b[1;33m,\u001b[0m\u001b[0mvmax\u001b[0m \u001b[1;33m=\u001b[0m \u001b[1;36m0.1\u001b[0m\u001b[1;33m,\u001b[0m\u001b[0mcmap\u001b[0m \u001b[1;33m=\u001b[0m \u001b[1;34m'viridis'\u001b[0m\u001b[1;33m)\u001b[0m\u001b[1;33m\u001b[0m\u001b[1;33m\u001b[0m\u001b[0m\n\u001b[0m\u001b[0;32m      7\u001b[0m     \u001b[0mplt\u001b[0m\u001b[1;33m.\u001b[0m\u001b[0mtitle\u001b[0m\u001b[1;33m(\u001b[0m\u001b[0mi\u001b[0m\u001b[1;33m)\u001b[0m\u001b[1;33m\u001b[0m\u001b[1;33m\u001b[0m\u001b[0m\n\u001b[0;32m      8\u001b[0m     \u001b[0mplt\u001b[0m\u001b[1;33m.\u001b[0m\u001b[0mdraw\u001b[0m\u001b[1;33m(\u001b[0m\u001b[1;33m)\u001b[0m\u001b[1;33m\u001b[0m\u001b[1;33m\u001b[0m\u001b[0m\n",
      "\u001b[1;32mC:\\ProgramData\\Anaconda3\\lib\\site-packages\\seaborn\\matrix.py\u001b[0m in \u001b[0;36mheatmap\u001b[1;34m(data, vmin, vmax, cmap, center, robust, annot, fmt, annot_kws, linewidths, linecolor, cbar, cbar_kws, cbar_ax, square, xticklabels, yticklabels, mask, ax, **kwargs)\u001b[0m\n\u001b[0;32m    546\u001b[0m     \u001b[1;32mif\u001b[0m \u001b[0msquare\u001b[0m\u001b[1;33m:\u001b[0m\u001b[1;33m\u001b[0m\u001b[1;33m\u001b[0m\u001b[0m\n\u001b[0;32m    547\u001b[0m         \u001b[0max\u001b[0m\u001b[1;33m.\u001b[0m\u001b[0mset_aspect\u001b[0m\u001b[1;33m(\u001b[0m\u001b[1;34m\"equal\"\u001b[0m\u001b[1;33m)\u001b[0m\u001b[1;33m\u001b[0m\u001b[1;33m\u001b[0m\u001b[0m\n\u001b[1;32m--> 548\u001b[1;33m     \u001b[0mplotter\u001b[0m\u001b[1;33m.\u001b[0m\u001b[0mplot\u001b[0m\u001b[1;33m(\u001b[0m\u001b[0max\u001b[0m\u001b[1;33m,\u001b[0m \u001b[0mcbar_ax\u001b[0m\u001b[1;33m,\u001b[0m \u001b[0mkwargs\u001b[0m\u001b[1;33m)\u001b[0m\u001b[1;33m\u001b[0m\u001b[1;33m\u001b[0m\u001b[0m\n\u001b[0m\u001b[0;32m    549\u001b[0m     \u001b[1;32mreturn\u001b[0m \u001b[0max\u001b[0m\u001b[1;33m\u001b[0m\u001b[1;33m\u001b[0m\u001b[0m\n\u001b[0;32m    550\u001b[0m \u001b[1;33m\u001b[0m\u001b[0m\n",
      "\u001b[1;32mC:\\ProgramData\\Anaconda3\\lib\\site-packages\\seaborn\\matrix.py\u001b[0m in \u001b[0;36mplot\u001b[1;34m(self, ax, cax, kws)\u001b[0m\n\u001b[0;32m    334\u001b[0m         \u001b[1;31m# Possibly rotate them if they overlap\u001b[0m\u001b[1;33m\u001b[0m\u001b[1;33m\u001b[0m\u001b[1;33m\u001b[0m\u001b[0m\n\u001b[0;32m    335\u001b[0m         \u001b[1;32mif\u001b[0m \u001b[0mhasattr\u001b[0m\u001b[1;33m(\u001b[0m\u001b[0max\u001b[0m\u001b[1;33m.\u001b[0m\u001b[0mfigure\u001b[0m\u001b[1;33m.\u001b[0m\u001b[0mcanvas\u001b[0m\u001b[1;33m,\u001b[0m \u001b[1;34m\"get_renderer\"\u001b[0m\u001b[1;33m)\u001b[0m\u001b[1;33m:\u001b[0m\u001b[1;33m\u001b[0m\u001b[1;33m\u001b[0m\u001b[0m\n\u001b[1;32m--> 336\u001b[1;33m             \u001b[0max\u001b[0m\u001b[1;33m.\u001b[0m\u001b[0mfigure\u001b[0m\u001b[1;33m.\u001b[0m\u001b[0mdraw\u001b[0m\u001b[1;33m(\u001b[0m\u001b[0max\u001b[0m\u001b[1;33m.\u001b[0m\u001b[0mfigure\u001b[0m\u001b[1;33m.\u001b[0m\u001b[0mcanvas\u001b[0m\u001b[1;33m.\u001b[0m\u001b[0mget_renderer\u001b[0m\u001b[1;33m(\u001b[0m\u001b[1;33m)\u001b[0m\u001b[1;33m)\u001b[0m\u001b[1;33m\u001b[0m\u001b[1;33m\u001b[0m\u001b[0m\n\u001b[0m\u001b[0;32m    337\u001b[0m         \u001b[1;32mif\u001b[0m \u001b[0maxis_ticklabels_overlap\u001b[0m\u001b[1;33m(\u001b[0m\u001b[0mxtl\u001b[0m\u001b[1;33m)\u001b[0m\u001b[1;33m:\u001b[0m\u001b[1;33m\u001b[0m\u001b[1;33m\u001b[0m\u001b[0m\n\u001b[0;32m    338\u001b[0m             \u001b[0mplt\u001b[0m\u001b[1;33m.\u001b[0m\u001b[0msetp\u001b[0m\u001b[1;33m(\u001b[0m\u001b[0mxtl\u001b[0m\u001b[1;33m,\u001b[0m \u001b[0mrotation\u001b[0m\u001b[1;33m=\u001b[0m\u001b[1;34m\"vertical\"\u001b[0m\u001b[1;33m)\u001b[0m\u001b[1;33m\u001b[0m\u001b[1;33m\u001b[0m\u001b[0m\n",
      "\u001b[1;32mC:\\ProgramData\\Anaconda3\\lib\\site-packages\\matplotlib\\artist.py\u001b[0m in \u001b[0;36mdraw_wrapper\u001b[1;34m(artist, renderer, *args, **kwargs)\u001b[0m\n\u001b[0;32m     36\u001b[0m                 \u001b[0mrenderer\u001b[0m\u001b[1;33m.\u001b[0m\u001b[0mstart_filter\u001b[0m\u001b[1;33m(\u001b[0m\u001b[1;33m)\u001b[0m\u001b[1;33m\u001b[0m\u001b[1;33m\u001b[0m\u001b[0m\n\u001b[0;32m     37\u001b[0m \u001b[1;33m\u001b[0m\u001b[0m\n\u001b[1;32m---> 38\u001b[1;33m             \u001b[1;32mreturn\u001b[0m \u001b[0mdraw\u001b[0m\u001b[1;33m(\u001b[0m\u001b[0martist\u001b[0m\u001b[1;33m,\u001b[0m \u001b[0mrenderer\u001b[0m\u001b[1;33m,\u001b[0m \u001b[1;33m*\u001b[0m\u001b[0margs\u001b[0m\u001b[1;33m,\u001b[0m \u001b[1;33m**\u001b[0m\u001b[0mkwargs\u001b[0m\u001b[1;33m)\u001b[0m\u001b[1;33m\u001b[0m\u001b[1;33m\u001b[0m\u001b[0m\n\u001b[0m\u001b[0;32m     39\u001b[0m         \u001b[1;32mfinally\u001b[0m\u001b[1;33m:\u001b[0m\u001b[1;33m\u001b[0m\u001b[1;33m\u001b[0m\u001b[0m\n\u001b[0;32m     40\u001b[0m             \u001b[1;32mif\u001b[0m \u001b[0martist\u001b[0m\u001b[1;33m.\u001b[0m\u001b[0mget_agg_filter\u001b[0m\u001b[1;33m(\u001b[0m\u001b[1;33m)\u001b[0m \u001b[1;32mis\u001b[0m \u001b[1;32mnot\u001b[0m \u001b[1;32mNone\u001b[0m\u001b[1;33m:\u001b[0m\u001b[1;33m\u001b[0m\u001b[1;33m\u001b[0m\u001b[0m\n",
      "\u001b[1;32mC:\\ProgramData\\Anaconda3\\lib\\site-packages\\matplotlib\\figure.py\u001b[0m in \u001b[0;36mdraw\u001b[1;34m(self, renderer)\u001b[0m\n\u001b[0;32m   1734\u001b[0m             \u001b[0mself\u001b[0m\u001b[1;33m.\u001b[0m\u001b[0mpatch\u001b[0m\u001b[1;33m.\u001b[0m\u001b[0mdraw\u001b[0m\u001b[1;33m(\u001b[0m\u001b[0mrenderer\u001b[0m\u001b[1;33m)\u001b[0m\u001b[1;33m\u001b[0m\u001b[1;33m\u001b[0m\u001b[0m\n\u001b[0;32m   1735\u001b[0m             mimage._draw_list_compositing_images(\n\u001b[1;32m-> 1736\u001b[1;33m                 renderer, self, artists, self.suppressComposite)\n\u001b[0m\u001b[0;32m   1737\u001b[0m \u001b[1;33m\u001b[0m\u001b[0m\n\u001b[0;32m   1738\u001b[0m             \u001b[0mrenderer\u001b[0m\u001b[1;33m.\u001b[0m\u001b[0mclose_group\u001b[0m\u001b[1;33m(\u001b[0m\u001b[1;34m'figure'\u001b[0m\u001b[1;33m)\u001b[0m\u001b[1;33m\u001b[0m\u001b[1;33m\u001b[0m\u001b[0m\n",
      "\u001b[1;32mC:\\ProgramData\\Anaconda3\\lib\\site-packages\\matplotlib\\image.py\u001b[0m in \u001b[0;36m_draw_list_compositing_images\u001b[1;34m(renderer, parent, artists, suppress_composite)\u001b[0m\n\u001b[0;32m    135\u001b[0m     \u001b[1;32mif\u001b[0m \u001b[0mnot_composite\u001b[0m \u001b[1;32mor\u001b[0m \u001b[1;32mnot\u001b[0m \u001b[0mhas_images\u001b[0m\u001b[1;33m:\u001b[0m\u001b[1;33m\u001b[0m\u001b[1;33m\u001b[0m\u001b[0m\n\u001b[0;32m    136\u001b[0m         \u001b[1;32mfor\u001b[0m \u001b[0ma\u001b[0m \u001b[1;32min\u001b[0m \u001b[0martists\u001b[0m\u001b[1;33m:\u001b[0m\u001b[1;33m\u001b[0m\u001b[1;33m\u001b[0m\u001b[0m\n\u001b[1;32m--> 137\u001b[1;33m             \u001b[0ma\u001b[0m\u001b[1;33m.\u001b[0m\u001b[0mdraw\u001b[0m\u001b[1;33m(\u001b[0m\u001b[0mrenderer\u001b[0m\u001b[1;33m)\u001b[0m\u001b[1;33m\u001b[0m\u001b[1;33m\u001b[0m\u001b[0m\n\u001b[0m\u001b[0;32m    138\u001b[0m     \u001b[1;32melse\u001b[0m\u001b[1;33m:\u001b[0m\u001b[1;33m\u001b[0m\u001b[1;33m\u001b[0m\u001b[0m\n\u001b[0;32m    139\u001b[0m         \u001b[1;31m# Composite any adjacent images together\u001b[0m\u001b[1;33m\u001b[0m\u001b[1;33m\u001b[0m\u001b[1;33m\u001b[0m\u001b[0m\n",
      "\u001b[1;32mC:\\ProgramData\\Anaconda3\\lib\\site-packages\\matplotlib\\artist.py\u001b[0m in \u001b[0;36mdraw_wrapper\u001b[1;34m(artist, renderer, *args, **kwargs)\u001b[0m\n\u001b[0;32m     36\u001b[0m                 \u001b[0mrenderer\u001b[0m\u001b[1;33m.\u001b[0m\u001b[0mstart_filter\u001b[0m\u001b[1;33m(\u001b[0m\u001b[1;33m)\u001b[0m\u001b[1;33m\u001b[0m\u001b[1;33m\u001b[0m\u001b[0m\n\u001b[0;32m     37\u001b[0m \u001b[1;33m\u001b[0m\u001b[0m\n\u001b[1;32m---> 38\u001b[1;33m             \u001b[1;32mreturn\u001b[0m \u001b[0mdraw\u001b[0m\u001b[1;33m(\u001b[0m\u001b[0martist\u001b[0m\u001b[1;33m,\u001b[0m \u001b[0mrenderer\u001b[0m\u001b[1;33m,\u001b[0m \u001b[1;33m*\u001b[0m\u001b[0margs\u001b[0m\u001b[1;33m,\u001b[0m \u001b[1;33m**\u001b[0m\u001b[0mkwargs\u001b[0m\u001b[1;33m)\u001b[0m\u001b[1;33m\u001b[0m\u001b[1;33m\u001b[0m\u001b[0m\n\u001b[0m\u001b[0;32m     39\u001b[0m         \u001b[1;32mfinally\u001b[0m\u001b[1;33m:\u001b[0m\u001b[1;33m\u001b[0m\u001b[1;33m\u001b[0m\u001b[0m\n\u001b[0;32m     40\u001b[0m             \u001b[1;32mif\u001b[0m \u001b[0martist\u001b[0m\u001b[1;33m.\u001b[0m\u001b[0mget_agg_filter\u001b[0m\u001b[1;33m(\u001b[0m\u001b[1;33m)\u001b[0m \u001b[1;32mis\u001b[0m \u001b[1;32mnot\u001b[0m \u001b[1;32mNone\u001b[0m\u001b[1;33m:\u001b[0m\u001b[1;33m\u001b[0m\u001b[1;33m\u001b[0m\u001b[0m\n",
      "\u001b[1;32mC:\\ProgramData\\Anaconda3\\lib\\site-packages\\matplotlib\\axes\\_base.py\u001b[0m in \u001b[0;36mdraw\u001b[1;34m(self, renderer, inframe)\u001b[0m\n\u001b[0;32m   2628\u001b[0m             \u001b[0mrenderer\u001b[0m\u001b[1;33m.\u001b[0m\u001b[0mstop_rasterizing\u001b[0m\u001b[1;33m(\u001b[0m\u001b[1;33m)\u001b[0m\u001b[1;33m\u001b[0m\u001b[1;33m\u001b[0m\u001b[0m\n\u001b[0;32m   2629\u001b[0m \u001b[1;33m\u001b[0m\u001b[0m\n\u001b[1;32m-> 2630\u001b[1;33m         \u001b[0mmimage\u001b[0m\u001b[1;33m.\u001b[0m\u001b[0m_draw_list_compositing_images\u001b[0m\u001b[1;33m(\u001b[0m\u001b[0mrenderer\u001b[0m\u001b[1;33m,\u001b[0m \u001b[0mself\u001b[0m\u001b[1;33m,\u001b[0m \u001b[0martists\u001b[0m\u001b[1;33m)\u001b[0m\u001b[1;33m\u001b[0m\u001b[1;33m\u001b[0m\u001b[0m\n\u001b[0m\u001b[0;32m   2631\u001b[0m \u001b[1;33m\u001b[0m\u001b[0m\n\u001b[0;32m   2632\u001b[0m         \u001b[0mrenderer\u001b[0m\u001b[1;33m.\u001b[0m\u001b[0mclose_group\u001b[0m\u001b[1;33m(\u001b[0m\u001b[1;34m'axes'\u001b[0m\u001b[1;33m)\u001b[0m\u001b[1;33m\u001b[0m\u001b[1;33m\u001b[0m\u001b[0m\n",
      "\u001b[1;32mC:\\ProgramData\\Anaconda3\\lib\\site-packages\\matplotlib\\image.py\u001b[0m in \u001b[0;36m_draw_list_compositing_images\u001b[1;34m(renderer, parent, artists, suppress_composite)\u001b[0m\n\u001b[0;32m    135\u001b[0m     \u001b[1;32mif\u001b[0m \u001b[0mnot_composite\u001b[0m \u001b[1;32mor\u001b[0m \u001b[1;32mnot\u001b[0m \u001b[0mhas_images\u001b[0m\u001b[1;33m:\u001b[0m\u001b[1;33m\u001b[0m\u001b[1;33m\u001b[0m\u001b[0m\n\u001b[0;32m    136\u001b[0m         \u001b[1;32mfor\u001b[0m \u001b[0ma\u001b[0m \u001b[1;32min\u001b[0m \u001b[0martists\u001b[0m\u001b[1;33m:\u001b[0m\u001b[1;33m\u001b[0m\u001b[1;33m\u001b[0m\u001b[0m\n\u001b[1;32m--> 137\u001b[1;33m             \u001b[0ma\u001b[0m\u001b[1;33m.\u001b[0m\u001b[0mdraw\u001b[0m\u001b[1;33m(\u001b[0m\u001b[0mrenderer\u001b[0m\u001b[1;33m)\u001b[0m\u001b[1;33m\u001b[0m\u001b[1;33m\u001b[0m\u001b[0m\n\u001b[0m\u001b[0;32m    138\u001b[0m     \u001b[1;32melse\u001b[0m\u001b[1;33m:\u001b[0m\u001b[1;33m\u001b[0m\u001b[1;33m\u001b[0m\u001b[0m\n\u001b[0;32m    139\u001b[0m         \u001b[1;31m# Composite any adjacent images together\u001b[0m\u001b[1;33m\u001b[0m\u001b[1;33m\u001b[0m\u001b[1;33m\u001b[0m\u001b[0m\n",
      "\u001b[1;32mC:\\ProgramData\\Anaconda3\\lib\\site-packages\\matplotlib\\artist.py\u001b[0m in \u001b[0;36mdraw_wrapper\u001b[1;34m(artist, renderer, *args, **kwargs)\u001b[0m\n\u001b[0;32m     36\u001b[0m                 \u001b[0mrenderer\u001b[0m\u001b[1;33m.\u001b[0m\u001b[0mstart_filter\u001b[0m\u001b[1;33m(\u001b[0m\u001b[1;33m)\u001b[0m\u001b[1;33m\u001b[0m\u001b[1;33m\u001b[0m\u001b[0m\n\u001b[0;32m     37\u001b[0m \u001b[1;33m\u001b[0m\u001b[0m\n\u001b[1;32m---> 38\u001b[1;33m             \u001b[1;32mreturn\u001b[0m \u001b[0mdraw\u001b[0m\u001b[1;33m(\u001b[0m\u001b[0martist\u001b[0m\u001b[1;33m,\u001b[0m \u001b[0mrenderer\u001b[0m\u001b[1;33m,\u001b[0m \u001b[1;33m*\u001b[0m\u001b[0margs\u001b[0m\u001b[1;33m,\u001b[0m \u001b[1;33m**\u001b[0m\u001b[0mkwargs\u001b[0m\u001b[1;33m)\u001b[0m\u001b[1;33m\u001b[0m\u001b[1;33m\u001b[0m\u001b[0m\n\u001b[0m\u001b[0;32m     39\u001b[0m         \u001b[1;32mfinally\u001b[0m\u001b[1;33m:\u001b[0m\u001b[1;33m\u001b[0m\u001b[1;33m\u001b[0m\u001b[0m\n\u001b[0;32m     40\u001b[0m             \u001b[1;32mif\u001b[0m \u001b[0martist\u001b[0m\u001b[1;33m.\u001b[0m\u001b[0mget_agg_filter\u001b[0m\u001b[1;33m(\u001b[0m\u001b[1;33m)\u001b[0m \u001b[1;32mis\u001b[0m \u001b[1;32mnot\u001b[0m \u001b[1;32mNone\u001b[0m\u001b[1;33m:\u001b[0m\u001b[1;33m\u001b[0m\u001b[1;33m\u001b[0m\u001b[0m\n",
      "\u001b[1;32mC:\\ProgramData\\Anaconda3\\lib\\site-packages\\matplotlib\\axis.py\u001b[0m in \u001b[0;36mdraw\u001b[1;34m(self, renderer, *args, **kwargs)\u001b[0m\n\u001b[0;32m   1225\u001b[0m         \u001b[0mrenderer\u001b[0m\u001b[1;33m.\u001b[0m\u001b[0mopen_group\u001b[0m\u001b[1;33m(\u001b[0m\u001b[0m__name__\u001b[0m\u001b[1;33m,\u001b[0m \u001b[0mgid\u001b[0m\u001b[1;33m=\u001b[0m\u001b[0mself\u001b[0m\u001b[1;33m.\u001b[0m\u001b[0mget_gid\u001b[0m\u001b[1;33m(\u001b[0m\u001b[1;33m)\u001b[0m\u001b[1;33m)\u001b[0m\u001b[1;33m\u001b[0m\u001b[1;33m\u001b[0m\u001b[0m\n\u001b[0;32m   1226\u001b[0m \u001b[1;33m\u001b[0m\u001b[0m\n\u001b[1;32m-> 1227\u001b[1;33m         \u001b[0mticks_to_draw\u001b[0m \u001b[1;33m=\u001b[0m \u001b[0mself\u001b[0m\u001b[1;33m.\u001b[0m\u001b[0m_update_ticks\u001b[0m\u001b[1;33m(\u001b[0m\u001b[1;33m)\u001b[0m\u001b[1;33m\u001b[0m\u001b[1;33m\u001b[0m\u001b[0m\n\u001b[0m\u001b[0;32m   1228\u001b[0m         ticklabelBoxes, ticklabelBoxes2 = self._get_tick_bboxes(ticks_to_draw,\n\u001b[0;32m   1229\u001b[0m                                                                 renderer)\n",
      "\u001b[1;32mC:\\ProgramData\\Anaconda3\\lib\\site-packages\\matplotlib\\axis.py\u001b[0m in \u001b[0;36m_update_ticks\u001b[1;34m(self)\u001b[0m\n\u001b[0;32m   1103\u001b[0m         \u001b[0mmajor_locs\u001b[0m \u001b[1;33m=\u001b[0m \u001b[0mself\u001b[0m\u001b[1;33m.\u001b[0m\u001b[0mget_majorticklocs\u001b[0m\u001b[1;33m(\u001b[0m\u001b[1;33m)\u001b[0m\u001b[1;33m\u001b[0m\u001b[1;33m\u001b[0m\u001b[0m\n\u001b[0;32m   1104\u001b[0m         \u001b[0mmajor_labels\u001b[0m \u001b[1;33m=\u001b[0m \u001b[0mself\u001b[0m\u001b[1;33m.\u001b[0m\u001b[0mmajor\u001b[0m\u001b[1;33m.\u001b[0m\u001b[0mformatter\u001b[0m\u001b[1;33m.\u001b[0m\u001b[0mformat_ticks\u001b[0m\u001b[1;33m(\u001b[0m\u001b[0mmajor_locs\u001b[0m\u001b[1;33m)\u001b[0m\u001b[1;33m\u001b[0m\u001b[1;33m\u001b[0m\u001b[0m\n\u001b[1;32m-> 1105\u001b[1;33m         \u001b[0mmajor_ticks\u001b[0m \u001b[1;33m=\u001b[0m \u001b[0mself\u001b[0m\u001b[1;33m.\u001b[0m\u001b[0mget_major_ticks\u001b[0m\u001b[1;33m(\u001b[0m\u001b[0mlen\u001b[0m\u001b[1;33m(\u001b[0m\u001b[0mmajor_locs\u001b[0m\u001b[1;33m)\u001b[0m\u001b[1;33m)\u001b[0m\u001b[1;33m\u001b[0m\u001b[1;33m\u001b[0m\u001b[0m\n\u001b[0m\u001b[0;32m   1106\u001b[0m         \u001b[0mself\u001b[0m\u001b[1;33m.\u001b[0m\u001b[0mmajor\u001b[0m\u001b[1;33m.\u001b[0m\u001b[0mformatter\u001b[0m\u001b[1;33m.\u001b[0m\u001b[0mset_locs\u001b[0m\u001b[1;33m(\u001b[0m\u001b[0mmajor_locs\u001b[0m\u001b[1;33m)\u001b[0m\u001b[1;33m\u001b[0m\u001b[1;33m\u001b[0m\u001b[0m\n\u001b[0;32m   1107\u001b[0m         \u001b[1;32mfor\u001b[0m \u001b[0mtick\u001b[0m\u001b[1;33m,\u001b[0m \u001b[0mloc\u001b[0m\u001b[1;33m,\u001b[0m \u001b[0mlabel\u001b[0m \u001b[1;32min\u001b[0m \u001b[0mzip\u001b[0m\u001b[1;33m(\u001b[0m\u001b[0mmajor_ticks\u001b[0m\u001b[1;33m,\u001b[0m \u001b[0mmajor_locs\u001b[0m\u001b[1;33m,\u001b[0m \u001b[0mmajor_labels\u001b[0m\u001b[1;33m)\u001b[0m\u001b[1;33m:\u001b[0m\u001b[1;33m\u001b[0m\u001b[1;33m\u001b[0m\u001b[0m\n",
      "\u001b[1;32mC:\\ProgramData\\Anaconda3\\lib\\site-packages\\matplotlib\\axis.py\u001b[0m in \u001b[0;36mget_major_ticks\u001b[1;34m(self, numticks)\u001b[0m\n\u001b[0;32m   1433\u001b[0m         \u001b[1;32mwhile\u001b[0m \u001b[0mlen\u001b[0m\u001b[1;33m(\u001b[0m\u001b[0mself\u001b[0m\u001b[1;33m.\u001b[0m\u001b[0mmajorTicks\u001b[0m\u001b[1;33m)\u001b[0m \u001b[1;33m<\u001b[0m \u001b[0mnumticks\u001b[0m\u001b[1;33m:\u001b[0m\u001b[1;33m\u001b[0m\u001b[1;33m\u001b[0m\u001b[0m\n\u001b[0;32m   1434\u001b[0m             \u001b[1;31m# Update the new tick label properties from the old.\u001b[0m\u001b[1;33m\u001b[0m\u001b[1;33m\u001b[0m\u001b[1;33m\u001b[0m\u001b[0m\n\u001b[1;32m-> 1435\u001b[1;33m             \u001b[0mtick\u001b[0m \u001b[1;33m=\u001b[0m \u001b[0mself\u001b[0m\u001b[1;33m.\u001b[0m\u001b[0m_get_tick\u001b[0m\u001b[1;33m(\u001b[0m\u001b[0mmajor\u001b[0m\u001b[1;33m=\u001b[0m\u001b[1;32mTrue\u001b[0m\u001b[1;33m)\u001b[0m\u001b[1;33m\u001b[0m\u001b[1;33m\u001b[0m\u001b[0m\n\u001b[0m\u001b[0;32m   1436\u001b[0m             \u001b[0mself\u001b[0m\u001b[1;33m.\u001b[0m\u001b[0mmajorTicks\u001b[0m\u001b[1;33m.\u001b[0m\u001b[0mappend\u001b[0m\u001b[1;33m(\u001b[0m\u001b[0mtick\u001b[0m\u001b[1;33m)\u001b[0m\u001b[1;33m\u001b[0m\u001b[1;33m\u001b[0m\u001b[0m\n\u001b[0;32m   1437\u001b[0m             \u001b[0mtick\u001b[0m\u001b[1;33m.\u001b[0m\u001b[0mgridline\u001b[0m\u001b[1;33m.\u001b[0m\u001b[0mset_visible\u001b[0m\u001b[1;33m(\u001b[0m\u001b[0mself\u001b[0m\u001b[1;33m.\u001b[0m\u001b[0m_gridOnMajor\u001b[0m\u001b[1;33m)\u001b[0m\u001b[1;33m\u001b[0m\u001b[1;33m\u001b[0m\u001b[0m\n",
      "\u001b[1;32mC:\\ProgramData\\Anaconda3\\lib\\site-packages\\matplotlib\\axis.py\u001b[0m in \u001b[0;36m_get_tick\u001b[1;34m(self, major)\u001b[0m\n\u001b[0;32m   2228\u001b[0m         \u001b[1;32melse\u001b[0m\u001b[1;33m:\u001b[0m\u001b[1;33m\u001b[0m\u001b[1;33m\u001b[0m\u001b[0m\n\u001b[0;32m   2229\u001b[0m             \u001b[0mtick_kw\u001b[0m \u001b[1;33m=\u001b[0m \u001b[0mself\u001b[0m\u001b[1;33m.\u001b[0m\u001b[0m_minor_tick_kw\u001b[0m\u001b[1;33m\u001b[0m\u001b[1;33m\u001b[0m\u001b[0m\n\u001b[1;32m-> 2230\u001b[1;33m         \u001b[1;32mreturn\u001b[0m \u001b[0mYTick\u001b[0m\u001b[1;33m(\u001b[0m\u001b[0mself\u001b[0m\u001b[1;33m.\u001b[0m\u001b[0maxes\u001b[0m\u001b[1;33m,\u001b[0m \u001b[1;36m0\u001b[0m\u001b[1;33m,\u001b[0m \u001b[1;34m''\u001b[0m\u001b[1;33m,\u001b[0m \u001b[0mmajor\u001b[0m\u001b[1;33m=\u001b[0m\u001b[0mmajor\u001b[0m\u001b[1;33m,\u001b[0m \u001b[1;33m**\u001b[0m\u001b[0mtick_kw\u001b[0m\u001b[1;33m)\u001b[0m\u001b[1;33m\u001b[0m\u001b[1;33m\u001b[0m\u001b[0m\n\u001b[0m\u001b[0;32m   2231\u001b[0m \u001b[1;33m\u001b[0m\u001b[0m\n\u001b[0;32m   2232\u001b[0m     \u001b[1;32mdef\u001b[0m \u001b[0m_get_label\u001b[0m\u001b[1;33m(\u001b[0m\u001b[0mself\u001b[0m\u001b[1;33m)\u001b[0m\u001b[1;33m:\u001b[0m\u001b[1;33m\u001b[0m\u001b[1;33m\u001b[0m\u001b[0m\n",
      "\u001b[1;32mC:\\ProgramData\\Anaconda3\\lib\\site-packages\\matplotlib\\axis.py\u001b[0m in \u001b[0;36m__init__\u001b[1;34m(self, axes, loc, label, size, width, color, tickdir, pad, labelsize, labelcolor, zorder, gridOn, tick1On, tick2On, label1On, label2On, major, labelrotation, grid_color, grid_linestyle, grid_linewidth, grid_alpha, **kw)\u001b[0m\n\u001b[0;32m    155\u001b[0m         \u001b[0mself\u001b[0m\u001b[1;33m.\u001b[0m\u001b[0mapply_tickdir\u001b[0m\u001b[1;33m(\u001b[0m\u001b[0mtickdir\u001b[0m\u001b[1;33m)\u001b[0m\u001b[1;33m\u001b[0m\u001b[1;33m\u001b[0m\u001b[0m\n\u001b[0;32m    156\u001b[0m \u001b[1;33m\u001b[0m\u001b[0m\n\u001b[1;32m--> 157\u001b[1;33m         \u001b[0mself\u001b[0m\u001b[1;33m.\u001b[0m\u001b[0mtick1line\u001b[0m \u001b[1;33m=\u001b[0m \u001b[0mself\u001b[0m\u001b[1;33m.\u001b[0m\u001b[0m_get_tick1line\u001b[0m\u001b[1;33m(\u001b[0m\u001b[1;33m)\u001b[0m\u001b[1;33m\u001b[0m\u001b[1;33m\u001b[0m\u001b[0m\n\u001b[0m\u001b[0;32m    158\u001b[0m         \u001b[0mself\u001b[0m\u001b[1;33m.\u001b[0m\u001b[0mtick2line\u001b[0m \u001b[1;33m=\u001b[0m \u001b[0mself\u001b[0m\u001b[1;33m.\u001b[0m\u001b[0m_get_tick2line\u001b[0m\u001b[1;33m(\u001b[0m\u001b[1;33m)\u001b[0m\u001b[1;33m\u001b[0m\u001b[1;33m\u001b[0m\u001b[0m\n\u001b[0;32m    159\u001b[0m         \u001b[0mself\u001b[0m\u001b[1;33m.\u001b[0m\u001b[0mgridline\u001b[0m \u001b[1;33m=\u001b[0m \u001b[0mself\u001b[0m\u001b[1;33m.\u001b[0m\u001b[0m_get_gridline\u001b[0m\u001b[1;33m(\u001b[0m\u001b[1;33m)\u001b[0m\u001b[1;33m\u001b[0m\u001b[1;33m\u001b[0m\u001b[0m\n",
      "\u001b[1;32mC:\\ProgramData\\Anaconda3\\lib\\site-packages\\matplotlib\\axis.py\u001b[0m in \u001b[0;36m_get_tick1line\u001b[1;34m(self)\u001b[0m\n\u001b[0;32m    582\u001b[0m                           \u001b[0mmarkersize\u001b[0m\u001b[1;33m=\u001b[0m\u001b[0mself\u001b[0m\u001b[1;33m.\u001b[0m\u001b[0m_size\u001b[0m\u001b[1;33m,\u001b[0m\u001b[1;33m\u001b[0m\u001b[1;33m\u001b[0m\u001b[0m\n\u001b[0;32m    583\u001b[0m                           \u001b[0mmarkeredgewidth\u001b[0m\u001b[1;33m=\u001b[0m\u001b[0mself\u001b[0m\u001b[1;33m.\u001b[0m\u001b[0m_width\u001b[0m\u001b[1;33m,\u001b[0m\u001b[1;33m\u001b[0m\u001b[1;33m\u001b[0m\u001b[0m\n\u001b[1;32m--> 584\u001b[1;33m                           zorder=self._zorder)\n\u001b[0m\u001b[0;32m    585\u001b[0m         \u001b[0ml\u001b[0m\u001b[1;33m.\u001b[0m\u001b[0mset_transform\u001b[0m\u001b[1;33m(\u001b[0m\u001b[0mself\u001b[0m\u001b[1;33m.\u001b[0m\u001b[0maxes\u001b[0m\u001b[1;33m.\u001b[0m\u001b[0mget_yaxis_transform\u001b[0m\u001b[1;33m(\u001b[0m\u001b[0mwhich\u001b[0m\u001b[1;33m=\u001b[0m\u001b[1;34m'tick1'\u001b[0m\u001b[1;33m)\u001b[0m\u001b[1;33m)\u001b[0m\u001b[1;33m\u001b[0m\u001b[1;33m\u001b[0m\u001b[0m\n\u001b[0;32m    586\u001b[0m         \u001b[0mself\u001b[0m\u001b[1;33m.\u001b[0m\u001b[0m_set_artist_props\u001b[0m\u001b[1;33m(\u001b[0m\u001b[0ml\u001b[0m\u001b[1;33m)\u001b[0m\u001b[1;33m\u001b[0m\u001b[1;33m\u001b[0m\u001b[0m\n",
      "\u001b[1;32mC:\\ProgramData\\Anaconda3\\lib\\site-packages\\matplotlib\\lines.py\u001b[0m in \u001b[0;36m__init__\u001b[1;34m(self, xdata, ydata, linewidth, linestyle, color, marker, markersize, markeredgewidth, markeredgecolor, markerfacecolor, markerfacecoloralt, fillstyle, antialiased, dash_capstyle, solid_capstyle, dash_joinstyle, solid_joinstyle, pickradius, drawstyle, markevery, **kwargs)\u001b[0m\n\u001b[0;32m    376\u001b[0m         \u001b[0mself\u001b[0m\u001b[1;33m.\u001b[0m\u001b[0m_color\u001b[0m \u001b[1;33m=\u001b[0m \u001b[1;32mNone\u001b[0m\u001b[1;33m\u001b[0m\u001b[1;33m\u001b[0m\u001b[0m\n\u001b[0;32m    377\u001b[0m         \u001b[0mself\u001b[0m\u001b[1;33m.\u001b[0m\u001b[0mset_color\u001b[0m\u001b[1;33m(\u001b[0m\u001b[0mcolor\u001b[0m\u001b[1;33m)\u001b[0m\u001b[1;33m\u001b[0m\u001b[1;33m\u001b[0m\u001b[0m\n\u001b[1;32m--> 378\u001b[1;33m         \u001b[0mself\u001b[0m\u001b[1;33m.\u001b[0m\u001b[0m_marker\u001b[0m \u001b[1;33m=\u001b[0m \u001b[0mMarkerStyle\u001b[0m\u001b[1;33m(\u001b[0m\u001b[0mmarker\u001b[0m\u001b[1;33m,\u001b[0m \u001b[0mfillstyle\u001b[0m\u001b[1;33m)\u001b[0m\u001b[1;33m\u001b[0m\u001b[1;33m\u001b[0m\u001b[0m\n\u001b[0m\u001b[0;32m    379\u001b[0m \u001b[1;33m\u001b[0m\u001b[0m\n\u001b[0;32m    380\u001b[0m         \u001b[0mself\u001b[0m\u001b[1;33m.\u001b[0m\u001b[0m_markevery\u001b[0m \u001b[1;33m=\u001b[0m \u001b[1;32mNone\u001b[0m\u001b[1;33m\u001b[0m\u001b[1;33m\u001b[0m\u001b[0m\n",
      "\u001b[1;32mC:\\ProgramData\\Anaconda3\\lib\\site-packages\\matplotlib\\markers.py\u001b[0m in \u001b[0;36m__init__\u001b[1;34m(self, marker, fillstyle)\u001b[0m\n\u001b[0;32m    223\u001b[0m         \u001b[0mself\u001b[0m\u001b[1;33m.\u001b[0m\u001b[0m_marker_function\u001b[0m \u001b[1;33m=\u001b[0m \u001b[1;32mNone\u001b[0m\u001b[1;33m\u001b[0m\u001b[1;33m\u001b[0m\u001b[0m\n\u001b[0;32m    224\u001b[0m         \u001b[0mself\u001b[0m\u001b[1;33m.\u001b[0m\u001b[0mset_fillstyle\u001b[0m\u001b[1;33m(\u001b[0m\u001b[0mfillstyle\u001b[0m\u001b[1;33m)\u001b[0m\u001b[1;33m\u001b[0m\u001b[1;33m\u001b[0m\u001b[0m\n\u001b[1;32m--> 225\u001b[1;33m         \u001b[0mself\u001b[0m\u001b[1;33m.\u001b[0m\u001b[0mset_marker\u001b[0m\u001b[1;33m(\u001b[0m\u001b[0mmarker\u001b[0m\u001b[1;33m)\u001b[0m\u001b[1;33m\u001b[0m\u001b[1;33m\u001b[0m\u001b[0m\n\u001b[0m\u001b[0;32m    226\u001b[0m \u001b[1;33m\u001b[0m\u001b[0m\n\u001b[0;32m    227\u001b[0m     \u001b[1;32mdef\u001b[0m \u001b[0m_recache\u001b[0m\u001b[1;33m(\u001b[0m\u001b[0mself\u001b[0m\u001b[1;33m)\u001b[0m\u001b[1;33m:\u001b[0m\u001b[1;33m\u001b[0m\u001b[1;33m\u001b[0m\u001b[0m\n",
      "\u001b[1;32mC:\\ProgramData\\Anaconda3\\lib\\site-packages\\matplotlib\\markers.py\u001b[0m in \u001b[0;36mset_marker\u001b[1;34m(self, marker)\u001b[0m\n\u001b[0;32m    294\u001b[0m \u001b[1;33m\u001b[0m\u001b[0m\n\u001b[0;32m    295\u001b[0m         \u001b[0mself\u001b[0m\u001b[1;33m.\u001b[0m\u001b[0m_marker\u001b[0m \u001b[1;33m=\u001b[0m \u001b[0mmarker\u001b[0m\u001b[1;33m\u001b[0m\u001b[1;33m\u001b[0m\u001b[0m\n\u001b[1;32m--> 296\u001b[1;33m         \u001b[0mself\u001b[0m\u001b[1;33m.\u001b[0m\u001b[0m_recache\u001b[0m\u001b[1;33m(\u001b[0m\u001b[1;33m)\u001b[0m\u001b[1;33m\u001b[0m\u001b[1;33m\u001b[0m\u001b[0m\n\u001b[0m\u001b[0;32m    297\u001b[0m \u001b[1;33m\u001b[0m\u001b[0m\n\u001b[0;32m    298\u001b[0m     \u001b[1;32mdef\u001b[0m \u001b[0mget_path\u001b[0m\u001b[1;33m(\u001b[0m\u001b[0mself\u001b[0m\u001b[1;33m)\u001b[0m\u001b[1;33m:\u001b[0m\u001b[1;33m\u001b[0m\u001b[1;33m\u001b[0m\u001b[0m\n",
      "\u001b[1;32mC:\\ProgramData\\Anaconda3\\lib\\site-packages\\matplotlib\\markers.py\u001b[0m in \u001b[0;36m_recache\u001b[1;34m(self)\u001b[0m\n\u001b[0;32m    236\u001b[0m         \u001b[0mself\u001b[0m\u001b[1;33m.\u001b[0m\u001b[0m_capstyle\u001b[0m \u001b[1;33m=\u001b[0m \u001b[1;34m'butt'\u001b[0m\u001b[1;33m\u001b[0m\u001b[1;33m\u001b[0m\u001b[0m\n\u001b[0;32m    237\u001b[0m         \u001b[0mself\u001b[0m\u001b[1;33m.\u001b[0m\u001b[0m_filled\u001b[0m \u001b[1;33m=\u001b[0m \u001b[1;32mTrue\u001b[0m\u001b[1;33m\u001b[0m\u001b[1;33m\u001b[0m\u001b[0m\n\u001b[1;32m--> 238\u001b[1;33m         \u001b[0mself\u001b[0m\u001b[1;33m.\u001b[0m\u001b[0m_marker_function\u001b[0m\u001b[1;33m(\u001b[0m\u001b[1;33m)\u001b[0m\u001b[1;33m\u001b[0m\u001b[1;33m\u001b[0m\u001b[0m\n\u001b[0m\u001b[0;32m    239\u001b[0m \u001b[1;33m\u001b[0m\u001b[0m\n\u001b[0;32m    240\u001b[0m     \u001b[1;32mdef\u001b[0m \u001b[0m__bool__\u001b[0m\u001b[1;33m(\u001b[0m\u001b[0mself\u001b[0m\u001b[1;33m)\u001b[0m\u001b[1;33m:\u001b[0m\u001b[1;33m\u001b[0m\u001b[1;33m\u001b[0m\u001b[0m\n",
      "\u001b[1;32mC:\\ProgramData\\Anaconda3\\lib\\site-packages\\matplotlib\\markers.py\u001b[0m in \u001b[0;36m_set_tickleft\u001b[1;34m(self)\u001b[0m\n\u001b[0;32m    712\u001b[0m \u001b[1;33m\u001b[0m\u001b[0m\n\u001b[0;32m    713\u001b[0m     \u001b[1;32mdef\u001b[0m \u001b[0m_set_tickleft\u001b[0m\u001b[1;33m(\u001b[0m\u001b[0mself\u001b[0m\u001b[1;33m)\u001b[0m\u001b[1;33m:\u001b[0m\u001b[1;33m\u001b[0m\u001b[1;33m\u001b[0m\u001b[0m\n\u001b[1;32m--> 714\u001b[1;33m         \u001b[0mself\u001b[0m\u001b[1;33m.\u001b[0m\u001b[0m_transform\u001b[0m \u001b[1;33m=\u001b[0m \u001b[0mAffine2D\u001b[0m\u001b[1;33m(\u001b[0m\u001b[1;33m)\u001b[0m\u001b[1;33m.\u001b[0m\u001b[0mscale\u001b[0m\u001b[1;33m(\u001b[0m\u001b[1;33m-\u001b[0m\u001b[1;36m1.0\u001b[0m\u001b[1;33m,\u001b[0m \u001b[1;36m1.0\u001b[0m\u001b[1;33m)\u001b[0m\u001b[1;33m\u001b[0m\u001b[1;33m\u001b[0m\u001b[0m\n\u001b[0m\u001b[0;32m    715\u001b[0m         \u001b[0mself\u001b[0m\u001b[1;33m.\u001b[0m\u001b[0m_snap_threshold\u001b[0m \u001b[1;33m=\u001b[0m \u001b[1;36m1.0\u001b[0m\u001b[1;33m\u001b[0m\u001b[1;33m\u001b[0m\u001b[0m\n\u001b[0;32m    716\u001b[0m         \u001b[0mself\u001b[0m\u001b[1;33m.\u001b[0m\u001b[0m_filled\u001b[0m \u001b[1;33m=\u001b[0m \u001b[1;32mFalse\u001b[0m\u001b[1;33m\u001b[0m\u001b[1;33m\u001b[0m\u001b[0m\n",
      "\u001b[1;32mC:\\ProgramData\\Anaconda3\\lib\\site-packages\\matplotlib\\transforms.py\u001b[0m in \u001b[0;36mscale\u001b[1;34m(self, sx, sy)\u001b[0m\n\u001b[0;32m   1999\u001b[0m         scale_mtx = np.array(\n\u001b[0;32m   2000\u001b[0m             [[sx, 0.0, 0.0], [0.0, sy, 0.0], [0.0, 0.0, 1.0]], float)\n\u001b[1;32m-> 2001\u001b[1;33m         \u001b[0mself\u001b[0m\u001b[1;33m.\u001b[0m\u001b[0m_mtx\u001b[0m \u001b[1;33m=\u001b[0m \u001b[0mnp\u001b[0m\u001b[1;33m.\u001b[0m\u001b[0mdot\u001b[0m\u001b[1;33m(\u001b[0m\u001b[0mscale_mtx\u001b[0m\u001b[1;33m,\u001b[0m \u001b[0mself\u001b[0m\u001b[1;33m.\u001b[0m\u001b[0m_mtx\u001b[0m\u001b[1;33m)\u001b[0m\u001b[1;33m\u001b[0m\u001b[1;33m\u001b[0m\u001b[0m\n\u001b[0m\u001b[0;32m   2002\u001b[0m         \u001b[0mself\u001b[0m\u001b[1;33m.\u001b[0m\u001b[0minvalidate\u001b[0m\u001b[1;33m(\u001b[0m\u001b[1;33m)\u001b[0m\u001b[1;33m\u001b[0m\u001b[1;33m\u001b[0m\u001b[0m\n\u001b[0;32m   2003\u001b[0m         \u001b[1;32mreturn\u001b[0m \u001b[0mself\u001b[0m\u001b[1;33m\u001b[0m\u001b[1;33m\u001b[0m\u001b[0m\n",
      "\u001b[1;32m<__array_function__ internals>\u001b[0m in \u001b[0;36mdot\u001b[1;34m(*args, **kwargs)\u001b[0m\n",
      "\u001b[1;31mKeyboardInterrupt\u001b[0m: "
     ]
    }
   ],
   "source": [
    "for i in range(0,binned.shape[1],step):\n",
    "    plt.clf()\n",
    "    corr = np.corrcoef(binned[:,i:i+winSize])\n",
    "    corr[np.isnan(corr)] = 0\n",
    "    sns.heatmap(corr,square = True,vmin = 0,vmax = 0.1,cmap = 'viridis')\n",
    "    plt.title(i)\n",
    "    plt.draw()"
   ]
  },
  {
   "cell_type": "code",
   "execution_count": 247,
   "metadata": {},
   "outputs": [],
   "source": []
  },
  {
   "cell_type": "code",
   "execution_count": 283,
   "metadata": {},
   "outputs": [
    {
     "data": {
      "text/plain": [
       "[<matplotlib.lines.Line2D at 0x1f3a1d32b48>]"
      ]
     },
     "execution_count": 283,
     "metadata": {},
     "output_type": "execute_result"
    }
   ],
   "source": [
    "\n",
    "x = np.arange(0,25,0.001)\n",
    "y = np.sin(x)\n",
    "y_g = scipy.signal.convolve(y,g,'same')\n",
    "\n",
    "plt.plot(x,y)\n",
    "plt.plot(x,y_g)"
   ]
  },
  {
   "cell_type": "code",
   "execution_count": 317,
   "metadata": {},
   "outputs": [
    {
     "data": {
      "text/plain": [
       "2.5066282612190953"
      ]
     },
     "execution_count": 317,
     "metadata": {},
     "output_type": "execute_result"
    }
   ],
   "source": [
    "g = scipy.signal.windows.gaussian(50000,1,sym=True)\n",
    "np.sum(g)"
   ]
  },
  {
   "cell_type": "code",
   "execution_count": 318,
   "metadata": {},
   "outputs": [
    {
     "data": {
      "text/plain": [
       "[<matplotlib.lines.Line2D at 0x1f3a98c5fc8>]"
      ]
     },
     "execution_count": 318,
     "metadata": {},
     "output_type": "execute_result"
    }
   ],
   "source": [
    "plt.plot(g)"
   ]
  },
  {
   "cell_type": "code",
   "execution_count": 251,
   "metadata": {},
   "outputs": [
    {
     "data": {
      "text/plain": [
       "[<matplotlib.lines.Line2D at 0x1f39376d108>]"
      ]
     },
     "execution_count": 251,
     "metadata": {},
     "output_type": "execute_result"
    }
   ],
   "source": []
  },
  {
   "cell_type": "code",
   "execution_count": null,
   "metadata": {},
   "outputs": [],
   "source": []
  }
 ],
 "metadata": {
  "kernelspec": {
   "display_name": "Python 3",
   "language": "python",
   "name": "python3"
  },
  "language_info": {
   "codemirror_mode": {
    "name": "ipython",
    "version": 3
   },
   "file_extension": ".py",
   "mimetype": "text/x-python",
   "name": "python",
   "nbconvert_exporter": "python",
   "pygments_lexer": "ipython3",
   "version": "3.7.6"
  }
 },
 "nbformat": 4,
 "nbformat_minor": 4
}
