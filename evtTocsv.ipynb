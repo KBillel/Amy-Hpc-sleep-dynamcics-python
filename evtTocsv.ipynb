{
 "cells": [
  {
   "cell_type": "code",
   "execution_count": 1,
   "metadata": {},
   "outputs": [],
   "source": [
    "from imports import *"
   ]
  },
  {
   "cell_type": "code",
   "execution_count": 7,
   "metadata": {},
   "outputs": [],
   "source": [
    "import re"
   ]
  },
  {
   "cell_type": "code",
   "execution_count": 156,
   "metadata": {},
   "outputs": [],
   "source": [
    "match_numbers = '([0-9]+(?:\\.[0-9]+)?)'\n",
    "match_name = '-([A-Z]+|[a-z]+)'\n",
    "match_type = ''\n",
    "# regex = '(?=.)([+-]?([0-9]*)(\\.([0-9]+))?)([eE][+-]?\\d+)?'"
   ]
  },
  {
   "cell_type": "code",
   "execution_count": 161,
   "metadata": {},
   "outputs": [
    {
     "name": "stdout",
     "output_type": "stream",
     "text": [
      "Rat : 8 on day : 6\n",
      "Working with session Rat08-20130713 @ /mnt/electrophy/Gabrielle/GG-Dataset/Rat08/Rat08-20130713\n",
      "0 prerun\n",
      "206300.000000 prerun\n",
      "206300.000000 presleep\n",
      "9405500.000000 presleep\n",
      "9405500.000000 run\n",
      "12649000.000000 run\n",
      "12649000.000000 postsleep\n",
      "22415000.000000 postsleep\n",
      "22415000.000000 postrun\n",
      "22680000.000000 postrun\n"
     ]
    }
   ],
   "source": [
    "bk.load.current_session_linux(base_folder='/mnt/electrophy/Gabrielle/GG-Dataset/')\n",
    "\n",
    "with open(f'{bk.load.session}.cat.evt') as f:\n",
    "    lines = f.readlines()\n",
    "    for l in lines:\n",
    "        time = re.findall(match_numbers,l)\n",
    "        name = re.findall(match_name,l)\n",
    "        print(time[0],name[0])\n"
   ]
  },
  {
   "cell_type": "code",
   "execution_count": 142,
   "metadata": {},
   "outputs": [
    {
     "name": "stdout",
     "output_type": "stream",
     "text": [
      "Rat : 8 on day : 6\n",
      "Working with session Rat08-20130713 @ /mnt/electrophy/Gabrielle/GG-Dataset/Rat08/Rat08-20130713\n",
      "['0', '08', '20130713', '01']\n",
      "\n",
      "\n",
      "\n",
      "['206300.000000', '08', '20130713', '01']\n",
      "\n",
      "\n",
      "\n",
      "['206300.000000', '08', '20130713', '02']\n",
      "\n",
      "\n",
      "\n",
      "['9405500.000000', '08', '20130713', '02']\n",
      "\n",
      "\n",
      "\n",
      "['9405500.000000', '08', '20130713', '03']\n",
      "\n",
      "\n",
      "\n",
      "['12649000.000000', '08', '20130713', '03']\n",
      "\n",
      "\n",
      "\n",
      "['12649000.000000', '08', '20130713', '04']\n",
      "\n",
      "\n",
      "\n",
      "['22415000.000000', '08', '20130713', '04']\n",
      "\n",
      "\n",
      "\n",
      "['22415000.000000', '08', '20130713', '05']\n",
      "\n",
      "\n",
      "\n",
      "['22680000.000000', '08', '20130713', '05']\n",
      "\n",
      "\n",
      "\n"
     ]
    }
   ],
   "source": [
    "bk.load.current_session_linux(base_folder='/mnt/electrophy/Gabrielle/GG-Dataset/')\n",
    "\n",
    "with open(f'{bk.load.session}.cat.evt') as f:\n",
    "    lines = f.readlines()\n",
    "    for l in lines:\n",
    "        groups = re.findall(regex,l)\n",
    "        print(groups)\n",
    "        print('\\n\\n')\n"
   ]
  },
  {
   "cell_type": "code",
   "execution_count": 110,
   "metadata": {},
   "outputs": [
    {
     "data": {
      "text/plain": [
       "['.0', '8', '0130713', '1']"
      ]
     },
     "execution_count": 110,
     "metadata": {},
     "output_type": "execute_result"
    }
   ],
   "source": []
  },
  {
   "cell_type": "code",
   "execution_count": 98,
   "metadata": {},
   "outputs": [
    {
     "name": "stdout",
     "output_type": "stream",
     "text": [
      "0.0 beginning of Rat08-20130713-01-prerun <_io.TextIOWrapper name='Rat08-20130713.cat.evt' mode='r' encoding='UTF-8'>\n"
     ]
    }
   ],
   "source": []
  }
 ],
 "metadata": {
  "kernelspec": {
   "display_name": "base",
   "language": "python",
   "name": "python3"
  },
  "language_info": {
   "codemirror_mode": {
    "name": "ipython",
    "version": 3
   },
   "file_extension": ".py",
   "mimetype": "text/x-python",
   "name": "python",
   "nbconvert_exporter": "python",
   "pygments_lexer": "ipython3",
   "version": "3.9.16"
  },
  "orig_nbformat": 4
 },
 "nbformat": 4,
 "nbformat_minor": 2
}
