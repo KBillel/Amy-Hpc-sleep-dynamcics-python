{
 "cells": [
  {
   "cell_type": "code",
   "execution_count": 1,
   "metadata": {},
   "outputs": [],
   "source": [
    "from imports import *"
   ]
  },
  {
   "cell_type": "code",
   "execution_count": 4,
   "metadata": {},
   "outputs": [
    {
     "name": "stdout",
     "output_type": "stream",
     "text": [
      "Rat : 8 on day : 6\n",
      "Working with session Rat08-20130713 @ /mnt/electrophy/Gabrielle/GG-Dataset-Light/Rat08/Rat08-20130713\n"
     ]
    }
   ],
   "source": [
    "bk.load.current_session_linux()\n",
    "\n",
    "neurons, metadata = bk.load.spikes()\n",
    "metadata = bk.load.metadata_with_side(metadata)\n",
    "states = bk.load.states(True)\n",
    "extended_sleep = bk.compute.extended(states)\n",
    "\n",
    "for state in ['NREM']:\n",
    "    slopes = []\n",
    "    for s, e in extended_sleep.iloc:\n",
    "        current_sleep = nts.IntervalSet(s, e)\n",
    "        state_intervals = states[state].intersect(current_sleep)\n",
    "        act_state = bk.compute.binSpikes(neurons,1,as_Tsd = True).restrict(current_sleep)\n",
    "        act_only_nrem = bk.compute.binSpikes(neurons,1,as_Tsd = True).restrict(state_intervals)\n"
   ]
  }
 ],
 "metadata": {
  "kernelspec": {
   "display_name": "base",
   "language": "python",
   "name": "python3"
  },
  "language_info": {
   "codemirror_mode": {
    "name": "ipython",
    "version": 3
   },
   "file_extension": ".py",
   "mimetype": "text/x-python",
   "name": "python",
   "nbconvert_exporter": "python",
   "pygments_lexer": "ipython3",
   "version": "3.9.16"
  },
  "orig_nbformat": 4,
  "vscode": {
   "interpreter": {
    "hash": "dc93b3fb48dfd2593d4a40b397dc62a97606514bfa701f6565ff70ef36514844"
   }
  }
 },
 "nbformat": 4,
 "nbformat_minor": 2
}
