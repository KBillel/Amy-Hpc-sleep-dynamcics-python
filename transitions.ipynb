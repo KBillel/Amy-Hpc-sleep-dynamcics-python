{
 "cells": [
  {
   "cell_type": "code",
   "execution_count": 1,
   "id": "activated-investment",
   "metadata": {},
   "outputs": [],
   "source": [
    "import numpy as np\n",
    "import scipy as sp\n",
    "import pandas as pd\n",
    "import scipy.io as spio\n",
    "import matplotlib.pyplot as plt\n",
    "import scipy.stats\n",
    "import bk.plot\n",
    "import neuroseries as nts\n",
    "%matplotlib qt"
   ]
  },
  {
   "cell_type": "code",
   "execution_count": 2,
   "id": "announced-mobile",
   "metadata": {},
   "outputs": [
    {
     "name": "stderr",
     "output_type": "stream",
     "text": [
      "<ipython-input-2-130c7dd0d7d7>:4: SettingWithCopyWarning: \n",
      "A value is trying to be set on a copy of a slice from a DataFrame\n",
      "\n",
      "See the caveats in the documentation: https://pandas.pydata.org/pandas-docs/stable/user_guide/indexing.html#returning-a-view-versus-a-copy\n",
      "  NREM_REM_meta.Region[NREM_REM_meta.Region == 'olfact'] = 'Pir'\n",
      "<ipython-input-2-130c7dd0d7d7>:5: SettingWithCopyWarning: \n",
      "A value is trying to be set on a copy of a slice from a DataFrame\n",
      "\n",
      "See the caveats in the documentation: https://pandas.pydata.org/pandas-docs/stable/user_guide/indexing.html#returning-a-view-versus-a-copy\n",
      "  NREM_REM_meta.Type[NREM_REM_meta.Region == 'CeCM'] = 'Int'\n"
     ]
    }
   ],
   "source": [
    "# NREM_REM = spio.loadmat('/media/billel/GGLab-01-BK/DATA/All-Rats/Billel/NREM-REM/NREM-REM.mat')\n",
    "NREM_REM = spio.loadmat('/home/billel/pCloudDrive/Data/NREM_REM.mat')['NREM_REM_ALL_Pooled']['activity'][0][0]\n",
    "NREM_REM_meta = pd.read_csv('/home/billel/pCloudDrive/Data/NREM_REM_metadata.csv',sep = ';')\n",
    "NREM_REM_meta.Region[NREM_REM_meta.Region == 'olfact'] = 'Pir'\n",
    "NREM_REM_meta.Type[NREM_REM_meta.Region == 'CeCM'] = 'Int'"
   ]
  },
  {
   "cell_type": "code",
   "execution_count": 3,
   "id": "broken-blast",
   "metadata": {},
   "outputs": [],
   "source": [
    "stru = np.unique(NREM_REM_meta.Region)\n",
    "types = np.unique(NREM_REM_meta.Type)"
   ]
  },
  {
   "cell_type": "code",
   "execution_count": 4,
   "id": "comparable-breach",
   "metadata": {},
   "outputs": [],
   "source": [
    "transition_matrix = NREM_REM[(NREM_REM_meta.Region == 'BLA') & (NREM_REM_meta.Type == 'Pyr'),:]"
   ]
  },
  {
   "cell_type": "code",
   "execution_count": 5,
   "id": "noticed-hospital",
   "metadata": {},
   "outputs": [
    {
     "data": {
      "text/plain": [
       "<matplotlib.image.AxesImage at 0x7f97c0deed60>"
      ]
     },
     "execution_count": 5,
     "metadata": {},
     "output_type": "execute_result"
    }
   ],
   "source": [
    "plt.figure()\n",
    "plt.imshow(scipy.stats.zscore(transition_matrix,1),aspect ='auto')"
   ]
  },
  {
   "cell_type": "code",
   "execution_count": 6,
   "id": "juvenile-beverage",
   "metadata": {},
   "outputs": [
    {
     "name": "stdout",
     "output_type": "stream",
     "text": [
      "BLA Int\n",
      "BLV Int\n",
      "BMA Int\n",
      "BMP Int\n",
      "CPu Int\n",
      "CeCM Int\n",
      "GP Int\n",
      "Hpc Int\n",
      "LaDL Int\n",
      "Non Int\n",
      "Pir Int\n",
      "Unclass Int\n",
      "VEn Int\n"
     ]
    },
    {
     "name": "stderr",
     "output_type": "stream",
     "text": [
      "<ipython-input-6-4abd058b4c6d>:15: DeprecationWarning: `np.int` is a deprecated alias for the builtin `int`. To silence this warning, use `int` by itself. Doing this will not modify any behavior and is safe. When replacing `np.int`, you may wish to use e.g. `np.int64` or `np.int32` to specify the precision. If you wish to review your current use, check the release note link for additional information.\n",
      "Deprecated in NumPy 1.20; for more details and guidance: https://numpy.org/devdocs/release/1.20.0-notes.html#deprecations\n",
      "  q.append(np.int(len(transition_matrix)/5 * (i+1))-1)\n",
      "<ipython-input-6-4abd058b4c6d>:23: UserWarning: Attempting to set identical bottom == top == -0.5 results in singular transformations; automatically expanding.\n",
      "  plt.imshow(transition_matrix[order_fr],aspect = 'auto',interpolation = 'none')\n"
     ]
    },
    {
     "name": "stdout",
     "output_type": "stream",
     "text": [
      "BLA Pyr\n",
      "BLV Pyr\n",
      "BMA Pyr\n",
      "BMP Pyr\n",
      "CPu Pyr\n",
      "CeCM Pyr\n",
      "GP Pyr\n",
      "Hpc Pyr\n",
      "LaDL Pyr\n",
      "Non Pyr\n",
      "Pir Pyr\n",
      "Unclass Pyr\n",
      "VEn Pyr\n",
      "BLA Unclass\n",
      "BLV Unclass\n",
      "BMA Unclass\n",
      "BMP Unclass\n",
      "CPu Unclass\n",
      "CeCM Unclass\n",
      "GP Unclass\n",
      "Hpc Unclass\n",
      "LaDL Unclass\n",
      "Non Unclass\n",
      "Pir Unclass\n",
      "Unclass Unclass\n",
      "VEn Unclass\n"
     ]
    }
   ],
   "source": [
    "for i,t in enumerate(types):\n",
    "    plt.figure()\n",
    "    plt.suptitle(t)\n",
    "    for j,s in enumerate(stru):\n",
    "        \n",
    "        transition_matrix = NREM_REM[(NREM_REM_meta.Region == s) & (NREM_REM_meta.Type == t),:]\n",
    "#         transition_matrix = scipy.stats.zscore(transition_matrix,1)\n",
    "        mean_NREM = np.nanmean(transition_matrix[:,0:30],1)\n",
    "        mean_REM =  np.nanmean(transition_matrix[:,31:40],1)\n",
    "        print(s,t)\n",
    "        mean_fr = np.mean(transition_matrix,1)\n",
    "        \n",
    "        q = []\n",
    "        for i in range(5):\n",
    "            q.append(np.int(len(transition_matrix)/5 * (i+1))-1)\n",
    "        q.pop()\n",
    "        ratio = mean_REM\n",
    "        order = np.argsort(ratio)\n",
    "        order_fr = np.argsort(mean_fr)\n",
    "        plt.subplot(1,len(stru),j+1)\n",
    "        plt.title(s)\n",
    "        transition_matrix = scipy.stats.zscore(transition_matrix,1)\n",
    "        plt.imshow(transition_matrix[order_fr],aspect = 'auto',interpolation = 'none')\n",
    "        for i in q:\n",
    "            plt.axhline(i,color = 'red',linestyle ='--')\n",
    "        plt.ylim([len(transition_matrix)-0.5,0])\n",
    "        plt.clim([-3,3])"
   ]
  },
  {
   "cell_type": "code",
   "execution_count": 51,
   "id": "directed-teacher",
   "metadata": {},
   "outputs": [
    {
     "data": {
      "text/plain": [
       "<matplotlib.image.AxesImage at 0x7f8ae4a017d0>"
      ]
     },
     "execution_count": 51,
     "metadata": {},
     "output_type": "execute_result"
    }
   ],
   "source": [
    "plt.imshow(scipy.stats.zscore(NREM_REM[NREM_REM_meta.Region == 'BLA',:],1),aspect = 'auto',)"
   ]
  },
  {
   "cell_type": "code",
   "execution_count": 45,
   "id": "fluid-lounge",
   "metadata": {},
   "outputs": [],
   "source": []
  },
  {
   "cell_type": "code",
   "execution_count": 46,
   "id": "complicated-minnesota",
   "metadata": {},
   "outputs": [
    {
     "data": {
      "text/plain": [
       "array(['BLA', 'BLV', 'BMA', 'BMP', 'CPu', 'CeCM', 'GP', 'Hpc', 'LaDL',\n",
       "       'Non', 'Pir', 'Unclass', 'VEn'], dtype=object)"
      ]
     },
     "execution_count": 46,
     "metadata": {},
     "output_type": "execute_result"
    }
   ],
   "source": [
    "stru"
   ]
  },
  {
   "cell_type": "code",
   "execution_count": null,
   "id": "starting-creek",
   "metadata": {},
   "outputs": [],
   "source": []
  },
  {
   "cell_type": "code",
   "execution_count": 5,
   "id": "surgical-accountability",
   "metadata": {},
   "outputs": [],
   "source": [
    "BLA_PYR = NREM_REM['BLA_PYR_ALL'][0][0][3]\n",
    "BLA_INT = NREM_REM['BLA_INT_ALL'][0][0][3]\n",
    "\n",
    "HPC_PYR = NREM_REM['HPC_PYR_ALL'][0][0][3]\n",
    "HPC_INT = NREM_REM['HPC_INT_ALL'][0][0][3]\n",
    "\n",
    "rem = nts.IntervalSet(31,40,time_units = 's')"
   ]
  },
  {
   "cell_type": "code",
   "execution_count": 16,
   "id": "confirmed-belgium",
   "metadata": {},
   "outputs": [
    {
     "data": {
      "text/plain": [
       "<matplotlib.image.AxesImage at 0x7f8aec267e50>"
      ]
     },
     "execution_count": 16,
     "metadata": {},
     "output_type": "execute_result"
    }
   ],
   "source": [
    "plt.imshow(scipy.stats.zscore(BLA_PYR,0),aspect = 'auto')"
   ]
  },
  {
   "cell_type": "code",
   "execution_count": 6,
   "id": "enclosed-waters",
   "metadata": {},
   "outputs": [
    {
     "data": {
      "text/plain": [
       "Text(0.5, 1.0, 'Firing Rates across transitons from NREM-REM')"
      ]
     },
     "execution_count": 6,
     "metadata": {},
     "output_type": "execute_result"
    }
   ],
   "source": [
    "fig,ax = plt.subplots()\n",
    "bk.plot.intervals(rem)\n",
    "\n",
    "plt.plot(np.mean(BLA_PYR,0),'+-',color = 'green')\n",
    "plt.legend(['REM','Pyr'])\n",
    "ax2=ax.twinx()\n",
    "ax2.plot(np.mean(BLA_INT,0),'black')\n",
    "plt.xlim([0,40])\n",
    "plt.legend(['Int'])\n",
    "plt.title('Firing Rates across transitons from NREM-REM')"
   ]
  },
  {
   "cell_type": "code",
   "execution_count": 10,
   "id": "alone-rochester",
   "metadata": {},
   "outputs": [],
   "source": [
    "def pourcent_increase(neurons):\n",
    "    mean_NREM = np.mean(neurons[:,0:30],1)\n",
    "    mean_REM = np.mean(neurons[:,31:40],1)\n",
    "    mean_all = np.mean(neurons,1)\n",
    "    print(mean_REM.shape)\n",
    "    print(np.sum(mean_REM>mean_NREM)/neurons.shape[0]*100)\n",
    "    \n",
    "    \n",
    "    order = np.argsort(mean_REM/mean_NREM)\n",
    "#     order = np.argsort(mean_all)\n",
    "    print(order)\n",
    "    plt.subplot(1,2,1)\n",
    "    plt.imshow(scipy.stats.zscore(neurons,1),aspect = 'auto')\n",
    "    \n",
    "    plt.clim(-2,2)\n",
    "    plt.subplot(1,2,2)\n",
    "    plt.imshow(scipy.stats.zscore(neurons[order],1),aspect = 'auto')\n",
    "    plt.clim(-2,2)\n"
   ]
  },
  {
   "cell_type": "code",
   "execution_count": 85,
   "id": "studied-tourist",
   "metadata": {},
   "outputs": [
    {
     "ename": "TypeError",
     "evalue": "qcut() missing 1 required positional argument: 'q'",
     "output_type": "error",
     "traceback": [
      "\u001b[0;31m---------------------------------------------------------------------------\u001b[0m",
      "\u001b[0;31mTypeError\u001b[0m                                 Traceback (most recent call last)",
      "\u001b[0;32m<ipython-input-85-928dbd81d0c0>\u001b[0m in \u001b[0;36m<module>\u001b[0;34m\u001b[0m\n\u001b[0;32m----> 1\u001b[0;31m \u001b[0mpd\u001b[0m\u001b[0;34m.\u001b[0m\u001b[0mqcut\u001b[0m\u001b[0;34m(\u001b[0m\u001b[0;36m1500\u001b[0m\u001b[0;34m)\u001b[0m\u001b[0;34m\u001b[0m\u001b[0;34m\u001b[0m\u001b[0m\n\u001b[0m",
      "\u001b[0;31mTypeError\u001b[0m: qcut() missing 1 required positional argument: 'q'"
     ]
    }
   ],
   "source": []
  },
  {
   "cell_type": "code",
   "execution_count": 11,
   "id": "velvet-ratio",
   "metadata": {},
   "outputs": [
    {
     "name": "stdout",
     "output_type": "stream",
     "text": [
      "HPC_PYR\n",
      "(1024,)\n",
      "37.6953125\n",
      "[ 653  647  138 ...  646  651 1023]\n",
      "HPC_INT\n",
      "(147,)\n",
      "64.62585034013605\n",
      "[ 16  12  99  46 143   6 100  18 120  98  81  33 107  69 139 146  53 134\n",
      " 116  38  75  57  11   5 126 144  41  14  94  49 103 127   2   0   1 138\n",
      "  60  70  86  77 142  30 129  71  17  85  27   7  37  76  82  54   9 122\n",
      "  42  10  87  65 114 109  56 118   3  72 135  83 140  63 133  96  62  47\n",
      "  21   8 123 130  90  73  23 124 125  79  29  95  93  44 106  89  31  22\n",
      " 112  26 136  32  91  97 113  25  40 137  39  28  67 117  36  48  84  34\n",
      "  88  59 132 119 145 102  19 108 115  15  24  45 121 141  51  13 131  78\n",
      "  20  92 104  52 101   4 128  55  43 105 110  50  35  74  80  68  61  64\n",
      "  58 111  66]\n"
     ]
    },
    {
     "name": "stderr",
     "output_type": "stream",
     "text": [
      "/home/billel/anaconda3/lib/python3.7/site-packages/ipykernel_launcher.py:9: RuntimeWarning: invalid value encountered in true_divide\n",
      "  if __name__ == '__main__':\n"
     ]
    },
    {
     "name": "stdout",
     "output_type": "stream",
     "text": [
      "BLA_PYR\n",
      "(1770,)\n",
      "64.35028248587571\n",
      "[1313  534  634 ...  880  257  919]\n",
      "BLA_INT\n",
      "(260,)\n",
      "79.23076923076923\n",
      "[  7 152 146 140 236 130  37 255  77  97 191 157 118 243 259  29  81  10\n",
      " 100  62  41  98 124  95  78 249  58 168  33 166 159  86  93 250  92 240\n",
      " 164 187  13  91 135  51 165  71  36  52 144  64  20 172  88  24 173  65\n",
      "  31  43 242 234  87  90  18  30  63   0  21 258  73 229 111 254  16  46\n",
      " 115 158 160  23 131 189 138 214  82 186  53 238  35 141 137  44 143 231\n",
      " 235 185  76 136 216 217  26  45 126  28   1  22  25  38 142   6  56 175\n",
      "  74  34  50 198 150 106 151 102 169 105 206  17  14 178 220 109 122 174\n",
      " 117  47 246   2 223 128 221 188 210 161  42  80 222  61  94  40 196 207\n",
      " 208  48 184 180 212 201  15 183 176  57 133   4 127  60 154  85 193  39\n",
      " 190 192 244 156 182  83 199 153 149   3 247 139 194 230 119 145 155 233\n",
      "  12 148 116 113 204 171 257   5 101 224  59  69  27 108 237 163 252 195\n",
      " 241 251 179 253  72 147 123 209  66  67 228 202  79 205 239 248 225 245\n",
      " 120 107 200 215  68 219 134  32  11  19  99 121 211 218   9 110 132 232\n",
      " 197 104 181 103 170 203 256 129 167 162 125  70 227  75 114   8  84 213\n",
      "  96  89  49 226 177 112  55  54]\n"
     ]
    }
   ],
   "source": [
    "names = ['HPC_PYR','HPC_INT','BLA_PYR','BLA_INT']\n",
    "for n,t in zip([HPC_PYR,HPC_INT,BLA_PYR,BLA_INT],names):\n",
    "    plt.figure()\n",
    "    print(t)\n",
    "    pourcent_increase(n)\n",
    "    plt.suptitle(t)"
   ]
  },
  {
   "cell_type": "code",
   "execution_count": 113,
   "id": "aerial-beach",
   "metadata": {},
   "outputs": [],
   "source": [
    "df = pd.DataFrame(np.mean(BLA_PYR,0))"
   ]
  },
  {
   "cell_type": "code",
   "execution_count": 121,
   "id": "demonstrated-multiple",
   "metadata": {},
   "outputs": [],
   "source": [
    "quantiles = pd.qcut(np.mean(BLA_PYR,0),5)"
   ]
  },
  {
   "cell_type": "code",
   "execution_count": 130,
   "id": "brilliant-exception",
   "metadata": {},
   "outputs": [
    {
     "data": {
      "text/plain": [
       "-0.001"
      ]
     },
     "execution_count": 130,
     "metadata": {},
     "output_type": "execute_result"
    }
   ],
   "source": [
    "quantiles.categories[0]"
   ]
  }
 ],
 "metadata": {
  "kernelspec": {
   "display_name": "Python 3",
   "language": "python",
   "name": "python3"
  },
  "language_info": {
   "codemirror_mode": {
    "name": "ipython",
    "version": 3
   },
   "file_extension": ".py",
   "mimetype": "text/x-python",
   "name": "python",
   "nbconvert_exporter": "python",
   "pygments_lexer": "ipython3",
   "version": "3.8.5"
  }
 },
 "nbformat": 4,
 "nbformat_minor": 5
}
