{
 "cells": [
  {
   "cell_type": "code",
   "execution_count": 20,
   "id": "333713fa-60b2-4b76-9dd2-ed2698fdf42d",
   "metadata": {},
   "outputs": [],
   "source": [
    "import pandas as pd\n",
    "import matplotlib.pyplot as plt\n",
    "import numpy as np"
   ]
  },
  {
   "cell_type": "code",
   "execution_count": 21,
   "id": "3fe95c9e-46b1-41b7-80d7-303d7d35a21e",
   "metadata": {},
   "outputs": [],
   "source": [
    "import bk.load\n",
    "import neuroseries as nts"
   ]
  },
  {
   "cell_type": "code",
   "execution_count": 50,
   "id": "fad9fafe-9bee-46b2-a6da-91853bbf9aa1",
   "metadata": {},
   "outputs": [],
   "source": [
    "import matplotlib as mpl\n",
    "# COLOR = 'white'\n",
    "# mpl.rcParams['text.color'] = COLOR\n",
    "# mpl.rcParams['axes.labelcolor'] = COLOR\n",
    "# mpl.rcParams['axes.edgecolor'] = COLOR\n",
    "# mpl.rcParams['xtick.color'] = COLOR\n",
    "# mpl.rcParams['ytick.color'] = COLOR\n",
    "# mpl.rcParams['figure.facecolor'] = '#282C34'\n",
    "# mpl.rcParams['axes.facecolor'] = '#282C34'\n",
    "mpl.rcParams['svg.fonttype'] = 'none'\n",
    "# %matplotlib qt"
   ]
  },
  {
   "cell_type": "code",
   "execution_count": 22,
   "id": "5807d7a6-4ee3-4011-ba7b-000fa442310f",
   "metadata": {},
   "outputs": [],
   "source": [
    "def epochs_length(local_path = 'Rat08/Rat08-20130713',args = ['s',5]):\n",
    "    time_units = args[0]\n",
    "    epochs = {}\n",
    "    \n",
    "    bk.load.current_session_linux(local_path=local_path)\n",
    "    states = bk.load.states()\n",
    "    \n",
    "    for s,intervals in states.items():\n",
    "        epochs.update({s:np.array(intervals.as_units(time_units).end-intervals.as_units(time_units).start)})\n",
    "    \n",
    "    return epochs"
   ]
  },
  {
   "cell_type": "code",
   "execution_count": 53,
   "id": "db9e46f7-1c65-4411-981b-867868cecf7e",
   "metadata": {},
   "outputs": [],
   "source": [
    "def merge_epochs(epochs,rat = None):\n",
    "    \n",
    "    epochs = dict(epochs) # %Make a copy beaucse we are going to change the dict here\n",
    "    merged_epochs =  {}\n",
    "    \n",
    "    if rat != None:\n",
    "        discard = [s for s in epochs if not s.startswith(f'Rat{rat:02}')]\n",
    "        for d in discard: epochs.pop(d)\n",
    "    \n",
    "    for values in epochs.values(): \n",
    "        keys = values.keys()\n",
    "        break\n",
    "    #Init the dict with empty list\n",
    "    \n",
    "    \n",
    "    for k in keys:\n",
    "        merged_epochs.update({k:[]})\n",
    "        for s,e in epochs.items():\n",
    "                merged_epochs[k].append(e[k])\n",
    "        merged_epochs[k] = np.hstack(merged_epochs[k]) \n",
    "    \n",
    "    return merged_epochs"
   ]
  },
  {
   "cell_type": "code",
   "execution_count": 13,
   "id": "dba45c40-fcde-45fc-99d1-90eab425db3e",
   "metadata": {},
   "outputs": [
    {
     "name": "stderr",
     "output_type": "stream",
     "text": [
      "100%|██████████| 61/61 [00:00<00:00, 71.36it/s]"
     ]
    },
    {
     "name": "stdout",
     "output_type": "stream",
     "text": [
      "Batch finished in 0.8961484432220459\n",
      "Some session were not processed correctly\n",
      "['Rat08-20130720', 'Rat08-20130722']\n",
      "3.278688524590164 %\n"
     ]
    },
    {
     "name": "stderr",
     "output_type": "stream",
     "text": [
      "\n"
     ]
    }
   ],
   "source": [
    "epochs = bk.load.batch(epochs_length,args = ['s'],linux=True)"
   ]
  },
  {
   "cell_type": "code",
   "execution_count": 27,
   "id": "87db68f5-b5ef-4ab8-9cd9-6075049d840d",
   "metadata": {},
   "outputs": [],
   "source": [
    "merged_epochs = merge_epochs(epochs,10)"
   ]
  },
  {
   "cell_type": "code",
   "execution_count": null,
   "id": "980f51e6-9805-4713-a44e-2811ab22b417",
   "metadata": {},
   "outputs": [],
   "source": []
  },
  {
   "cell_type": "code",
   "execution_count": 42,
   "id": "7cede1f1-c6f8-46be-a35e-202c2ef5163f",
   "metadata": {},
   "outputs": [],
   "source": [
    "bins = np.logspace(np.log10(1),np.log10(2500), 100)"
   ]
  },
  {
   "cell_type": "code",
   "execution_count": 70,
   "id": "e541bc32-d388-4e53-ac2e-ee92a8a2997e",
   "metadata": {},
   "outputs": [
    {
     "name": "stderr",
     "output_type": "stream",
     "text": [
      "<ipython-input-70-bc559b4707b1>:7: MatplotlibDeprecationWarning: Adding an axes using the same arguments as a previous axes currently reuses the earlier instance.  In a future version, a new instance will always be created and returned.  Meanwhile, this warning can be suppressed, and the future behavior ensured, by passing a unique label to each axes instance.\n",
      "  plt.subplot(2,2,i)\n"
     ]
    },
    {
     "data": {
      "image/png": "[encoded data removed]",
      "text/plain": [
       "<Figure size 576x576 with 4 Axes>"
      ]
     },
     "metadata": {
      "needs_background": "light"
     },
     "output_type": "display_data"
    }
   ],
   "source": [
    "rats = [8,9,10,11]\n",
    "plt.figure(figsize=(8,8))\n",
    "for r in rats:\n",
    "    merged_epochs = merge_epochs(epochs,r)\n",
    "\n",
    "    for i,(k,m) in enumerate(merged_epochs.items(),1):\n",
    "        plt.subplot(2,2,i)\n",
    "        plt.title(k)\n",
    "        plt.semilogx()\n",
    "        plt.hist(m,bins,alpha = 0.8)\n",
    "        plt.xlim(1,2500)\n",
    "\n",
    "\n",
    "plt.suptitle('Times spent in states')\n",
    "plt.legend(rats)\n",
    "plt.tight_layout()\n",
    "plt.savefig('/mnt/work/Figures_Gabrielle/per_rat_states_length.png')"
   ]
  },
  {
   "cell_type": "code",
   "execution_count": 65,
   "id": "901c00c0-8741-45c0-a9e9-f329fc6dd490",
   "metadata": {},
   "outputs": [
    {
     "data": {
      "text/plain": [
       "<Figure size 432x288 with 0 Axes>"
      ]
     },
     "metadata": {},
     "output_type": "display_data"
    }
   ],
   "source": [
    "plt.savefig('/mnt/work/Figures_Gabrielle/all_states_lengtha.png')"
   ]
  },
  {
   "cell_type": "code",
   "execution_count": null,
   "id": "7c9a8f16-8dd4-447d-9e38-1d360f4b4fc2",
   "metadata": {},
   "outputs": [],
   "source": []
  }
 ],
 "metadata": {
  "kernelspec": {
   "display_name": "Python 3",
   "language": "python",
   "name": "python3"
  },
  "language_info": {
   "codemirror_mode": {
    "name": "ipython",
    "version": 3
   },
   "file_extension": ".py",
   "mimetype": "text/x-python",
   "name": "python",
   "nbconvert_exporter": "python",
   "pygments_lexer": "ipython3",
   "version": "3.8.5"
  }
 },
 "nbformat": 4,
 "nbformat_minor": 5
}
