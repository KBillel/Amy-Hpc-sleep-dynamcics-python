{
 "cells": [
  {
   "cell_type": "code",
   "execution_count": 1,
   "metadata": {},
   "outputs": [],
   "source": [
    "import os\n",
    "\n",
    "import bk.load\n",
    "import bk.compute\n",
    "import bk.plot\n",
    "import bk.signal\n",
    "\n",
    "import numpy as np\n",
    "import pandas as pd\n",
    "\n",
    "import scipy.signal\n",
    "import scipy.stats\n",
    "import scipy.io\n",
    "\n",
    "import matplotlib.pyplot as plt\n",
    "import matplotlib as mpl\n",
    "import neuroseries as nts\n",
    "\n",
    "\n",
    "import itertools\n",
    "from tqdm import tqdm\n",
    "\n"
   ]
  },
  {
   "cell_type": "code",
   "execution_count": 2,
   "metadata": {},
   "outputs": [],
   "source": [
    "def training_intervals():\n",
    "    run_ = scipy.io.loadmat('runintervals.mat')['runintervals']\n",
    "    runintervals = nts.IntervalSet(run_[:,0],run_[:,1],time_units='s')\n",
    "    return runintervals"
   ]
  },
  {
   "cell_type": "code",
   "execution_count": 136,
   "metadata": {},
   "outputs": [],
   "source": [
    "def mean_firing(neurons,intervals):\n",
    "    binSize = 0.25\n",
    "    t,fr = bk.compute.binSpikes(neurons,binSize)\n",
    "    t = nts.Ts(t,time_units='s')\n",
    "    fr = np.mean(fr[:,intervals.in_interval(t)>= 0]/binSize,0)\n",
    "    t = t[intervals.in_interval(t)>=0]\n",
    "    fr = nts.Tsd(t.index.values, d = fr)\n",
    "    fr = bk.compute.nts_smooth(fr,1000,10000)\n",
    "    return fr"
   ]
  },
  {
   "cell_type": "code",
   "execution_count": 137,
   "metadata": {},
   "outputs": [
    {
     "name": "stdout",
     "output_type": "stream",
     "text": [
      "Rat : 8 on day : 6\n",
      "Working with session Rat08-20130713 @ Z:\\Rat08\\Rat08-20130713\n",
      "Data already saved in Numpy format, loading them from here:\n",
      "Rat08-20130713-neurons.npy\n",
      "Rat08-20130713-metadata.npy\n"
     ]
    }
   ],
   "source": [
    "bk.load.current_session()\n",
    "neurons,metadata = bk.load.loadSpikeData(bk.load.path)\n",
    "states = bk.load.states()\n",
    "pos = bk.load.pos()\n",
    "train = training_intervals()\n",
    "pos = pos.restrict(train)\n",
    "speed = bk.compute.old_speed(pos,1000)"
   ]
  },
  {
   "cell_type": "code",
   "execution_count": 138,
   "metadata": {},
   "outputs": [
    {
     "name": "stdout",
     "output_type": "stream",
     "text": [
      "LinregressResult(slope=5.219820921800578, intercept=0.6089947800943141, rvalue=0.27088253522539074, pvalue=3.448800487213615e-248, stderr=0.15218614262135033)\n",
      "LinregressResult(slope=0.27576530741510263, intercept=2.3013015936075947, rvalue=0.17209519424643574, pvalue=3.926540396109536e-99, stderr=0.012950650559154333)\n",
      "LinregressResult(slope=-6.873217754870727, intercept=7.24936966146224, rvalue=-0.1519936260069324, pvalue=1.7089639195219226e-77, stderr=0.36669786256299663)\n",
      "LinregressResult(slope=-1.0484954488719924, intercept=10.188188400014287, rvalue=-0.34408257811580123, pvalue=0.0, stderr=0.023474182670647506)\n"
     ]
    }
   ],
   "source": [
    "%matplotlib qt\n",
    "stru = ['Hpc','BLA']\n",
    "types = ['Pyr','Int']\n",
    "\n",
    "for s,t in itertools.product(stru,types):\n",
    "    fr = mean_firing(neurons[(metadata.Region == s) & (metadata.Type == t)],train)\n",
    "    plt.scatter(speed.realign(fr).values,fr.values,1)\n",
    "    print(scipy.stats.linregress(fr,speed.realign(fr)))\n",
    "# plt.legend(list(itertools.product(stru,types)))\n",
    "\n",
    "# plt.subplot(2,1,2,sharex = sub)\n",
    "# plt.plot(speed)"
   ]
  },
  {
   "cell_type": "code",
   "execution_count": 139,
   "metadata": {},
   "outputs": [
    {
     "data": {
      "text/plain": [
       "Text(0.5, 0, 'Vitesse')"
      ]
     },
     "execution_count": 139,
     "metadata": {},
     "output_type": "execute_result"
    }
   ],
   "source": [
    "fr = mean_firing(neurons[(metadata.Region == 'Hpc') & (metadata.Type == 'Pyr')],train)\n",
    "plt.scatter(speed.realign(fr).values,fr.values,2)\n",
    "a = (scipy.stats.linregress(speed.realign(fr),fr))\n",
    "x = np.linspace(0,20,2500)\n",
    "y = a.intercept + x*a.slope\n",
    "plt.plot(x,y,'red')\n",
    "plt.ylabel('Taux de décharge')\n",
    "plt.xlabel('Vitesse')"
   ]
  },
  {
   "cell_type": "code",
   "execution_count": 94,
   "metadata": {},
   "outputs": [
    {
     "data": {
      "text/plain": [
       "[<matplotlib.lines.Line2D at 0x2408c7063c8>]"
      ]
     },
     "execution_count": 94,
     "metadata": {},
     "output_type": "execute_result"
    }
   ],
   "source": [
    "plt.plot(speed)"
   ]
  },
  {
   "cell_type": "code",
   "execution_count": 83,
   "metadata": {},
   "outputs": [
    {
     "data": {
      "text/plain": [
       "[<matplotlib.lines.Line2D at 0x2408a9b80c8>]"
      ]
     },
     "execution_count": 83,
     "metadata": {},
     "output_type": "execute_result"
    }
   ],
   "source": [
    "plt.plot(speed.realign(fr))\n",
    "plt.plot(speed)"
   ]
  },
  {
   "cell_type": "code",
   "execution_count": 78,
   "metadata": {},
   "outputs": [
    {
     "data": {
      "text/plain": [
       "0.11701719778864118"
      ]
     },
     "execution_count": 78,
     "metadata": {},
     "output_type": "execute_result"
    }
   ],
   "source": [
    "0.342077765703416**2"
   ]
  },
  {
   "cell_type": "code",
   "execution_count": 61,
   "metadata": {},
   "outputs": [
    {
     "data": {
      "text/plain": [
       "Int64Index([     500000,     1500000,     2500000,     3500000,     4500000,\n",
       "                5500000,     6500000,     7500000,     8500000,     9500000,\n",
       "            ...\n",
       "            22669500000, 22670500000, 22671500000, 22672500000, 22673500000,\n",
       "            22674500000, 22675500000, 22676500000, 22677500000, 22678500000],\n",
       "           dtype='int64', name='Time (us)', length=3713)"
      ]
     },
     "execution_count": 61,
     "metadata": {},
     "output_type": "execute_result"
    }
   ],
   "source": []
  },
  {
   "cell_type": "code",
   "execution_count": 52,
   "metadata": {},
   "outputs": [
    {
     "data": {
      "text/plain": [
       "numpy.ndarray"
      ]
     },
     "execution_count": 52,
     "metadata": {},
     "output_type": "execute_result"
    }
   ],
   "source": [
    "type(mean_firing)"
   ]
  },
  {
   "cell_type": "code",
   "execution_count": 128,
   "metadata": {},
   "outputs": [
    {
     "name": "stdout",
     "output_type": "stream",
     "text": [
      "Using matplotlib backend: Qt5Agg\n"
     ]
    }
   ],
   "source": [
    "%matplotlib"
   ]
  },
  {
   "cell_type": "code",
   "execution_count": 131,
   "metadata": {},
   "outputs": [],
   "source": [
    "bk.plot.intervals(states['Rem'])\n",
    "plt.savefig('file.svg')"
   ]
  },
  {
   "cell_type": "code",
   "execution_count": 43,
   "metadata": {},
   "outputs": [
    {
     "ename": "AttributeError",
     "evalue": "'numpy.ndarray' object has no attribute 'as_units'",
     "output_type": "error",
     "traceback": [
      "\u001b[1;31m---------------------------------------------------------------------------\u001b[0m",
      "\u001b[1;31mAttributeError\u001b[0m                            Traceback (most recent call last)",
      "\u001b[1;32m<ipython-input-43-b95f98a37138>\u001b[0m in \u001b[0;36m<module>\u001b[1;34m\u001b[0m\n\u001b[1;32m----> 1\u001b[1;33m \u001b[0mmean_firing\u001b[0m\u001b[1;33m.\u001b[0m\u001b[0mas_units\u001b[0m\u001b[1;33m(\u001b[0m\u001b[1;34m's'\u001b[0m\u001b[1;33m)\u001b[0m\u001b[1;33m\u001b[0m\u001b[1;33m\u001b[0m\u001b[0m\n\u001b[0m",
      "\u001b[1;31mAttributeError\u001b[0m: 'numpy.ndarray' object has no attribute 'as_units'"
     ]
    }
   ],
   "source": [
    "mean_firing.as_units('s')\n"
   ]
  },
  {
   "cell_type": "code",
   "execution_count": 34,
   "metadata": {},
   "outputs": [
    {
     "data": {
      "text/plain": [
       "0       True\n",
       "1       True\n",
       "2       True\n",
       "3       True\n",
       "4       True\n",
       "       ...  \n",
       "247    False\n",
       "248    False\n",
       "249    False\n",
       "250    False\n",
       "251    False\n",
       "Length: 252, dtype: bool"
      ]
     },
     "execution_count": 34,
     "metadata": {},
     "output_type": "execute_result"
    }
   ],
   "source": [
    "(metadata.Type == t) * metadata.Region == 'Hpc'"
   ]
  },
  {
   "cell_type": "code",
   "execution_count": null,
   "metadata": {},
   "outputs": [],
   "source": []
  }
 ],
 "metadata": {
  "kernelspec": {
   "display_name": "Python 3",
   "language": "python",
   "name": "python3"
  },
  "language_info": {
   "codemirror_mode": {
    "name": "ipython",
    "version": 3
   },
   "file_extension": ".py",
   "mimetype": "text/x-python",
   "name": "python",
   "nbconvert_exporter": "python",
   "pygments_lexer": "ipython3",
   "version": "3.7.6"
  }
 },
 "nbformat": 4,
 "nbformat_minor": 4
}
