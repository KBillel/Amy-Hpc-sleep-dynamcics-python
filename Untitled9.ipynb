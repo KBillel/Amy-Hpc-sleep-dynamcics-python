{
 "cells": [
  {
   "cell_type": "code",
   "execution_count": 1,
   "id": "f75c7182-58c9-4f3e-a120-c50b18784ca9",
   "metadata": {},
   "outputs": [],
   "source": [
    "import bk.load\n",
    "import bk.compute\n",
    "import numpy as np\n",
    "import neuroseries as nts\n",
    "import matplotlib.pyplot as plt\n",
    "from tqdm import tqdm"
   ]
  },
  {
   "cell_type": "code",
   "execution_count": 2,
   "id": "acb43a9d-f41d-4bfa-8a8b-8df56681c842",
   "metadata": {},
   "outputs": [],
   "source": [
    "def populationSpikes(neurons):\n",
    "    pop = np.array([],dtype = np.int64)\n",
    "    for n in neurons:\n",
    "        pop = np.hstack((pop,n.times()))\n",
    "    pop = np.sort(pop)\n",
    "    pop = nts.Ts(pop)\n",
    "    return pop"
   ]
  },
  {
   "cell_type": "code",
   "execution_count": 3,
   "id": "d2b137ee-036b-4082-a84c-4e744d2ecd85",
   "metadata": {},
   "outputs": [],
   "source": [
    "def crosscorrelogram(neurons,binSize,win,fast = False):\n",
    "    if isinstance(neurons,nts.time_series.Tsd): \n",
    "        neurons = np.array(neurons,'object')\n",
    "    winLen = int((win[1] - win[0])/binSize)\n",
    "    window = np.arange(winLen,dtype = int)-int(winLen/2)\n",
    "    crosscorr = np.empty((winLen,len(neurons),len(neurons)),dtype = np.int32)\n",
    "    last_spike = np.max([n.as_units('s').index[-1] for n in neurons])\n",
    "    t,binned = bk.compute.binSpikes(neurons,binSize,start = 0, stop = last_spike+win[-1],fast = fast)\n",
    "\n",
    "    for i,n in tqdm(enumerate(neurons),total = len(neurons)):\n",
    "        stimulus = n.as_units('s').index\n",
    "        stim_bin = (stimulus/binSize).astype('int64')\n",
    "        psth = np.empty((stimulus.size,len(neurons),winLen),dtype = 'int16')\n",
    "        for j,t in enumerate(stim_bin):\n",
    "            psth[j] = binned[:,t+window]\n",
    "#             psth[j][:,window == 0] -= 1\n",
    "\n",
    "        psth = np.sum(psth,0).T\n",
    "        crosscorr[:,i] = psth\n",
    "        t = window*binSize\n",
    "        \n",
    "    return t,crosscorr"
   ]
  },
  {
   "cell_type": "code",
   "execution_count": 53,
   "id": "86894a42-37b9-4cb8-a179-c99740076c6f",
   "metadata": {},
   "outputs": [
    {
     "name": "stdout",
     "output_type": "stream",
     "text": [
      "Rat : 8 on day : 6\n",
      "Working with session Rat08-20130713 @ /home/billel/Data/GG-Dataset/Rat08/Rat08-20130713\n",
      "Data already saved in Numpy format, loading them from here:\n",
      "Rat08-20130713-neurons.npy\n",
      "Rat08-20130713-metadata.npy\n"
     ]
    }
   ],
   "source": [
    "bk.load.current_session_linux()\n",
    "neurons,metadata = bk.load.spikes()\n",
    "states = bk.load.states()\n",
    "pop = populationSpikes(neurons[(metadata.Region == 'BLA')])\n",
    "pop = pop.restrict(states['Rem'])"
   ]
  },
  {
   "cell_type": "code",
   "execution_count": 54,
   "id": "e0be77fa-ab05-49c5-9e04-3f072edc6d93",
   "metadata": {},
   "outputs": [
    {
     "name": "stdout",
     "output_type": "stream",
     "text": [
      "You are using 0.001 ms bins with the function fast off. Consider using \"Fast = True\" in order to speed up the computations\n"
     ]
    },
    {
     "name": "stderr",
     "output_type": "stream",
     "text": [
      "100%|██████████| 1/1 [00:01<00:00,  1.87s/it]\n"
     ]
    }
   ],
   "source": [
    "b,c = crosscorrelogram([pop],0.001,[-1,1])"
   ]
  },
  {
   "cell_type": "code",
   "execution_count": 55,
   "id": "f7447121-aa75-4570-854a-26cdb37166de",
   "metadata": {},
   "outputs": [
    {
     "data": {
      "text/plain": [
       "<BarContainer object of 2000 artists>"
      ]
     },
     "execution_count": 55,
     "metadata": {},
     "output_type": "execute_result"
    }
   ],
   "source": [
    "%matplotlib qt\n",
    "c[b==0,:,:] = 0\n",
    "plt.bar(b,c[:,0,0],b[1]-b[0])"
   ]
  },
  {
   "cell_type": "code",
   "execution_count": 163,
   "id": "dc95f789-9c01-431c-aa0f-76b47b0dee53",
   "metadata": {},
   "outputs": [
    {
     "name": "stdout",
     "output_type": "stream",
     "text": [
      "Rat : 8 on day : 6\n",
      "Working with session Rat08-20130713 @ /home/billel/Data/GG-Dataset/Rat08/Rat08-20130713\n",
      "Data already saved in Numpy format, loading them from here:\n",
      "Rat08-20130713-neurons.npy\n"
     ]
    },
    {
     "name": "stderr",
     "output_type": "stream",
     "text": [
      "  0%|          | 0/1 [00:00<?, ?it/s]"
     ]
    },
    {
     "name": "stdout",
     "output_type": "stream",
     "text": [
      "Rat08-20130713-metadata.npy\n"
     ]
    },
    {
     "name": "stderr",
     "output_type": "stream",
     "text": [
      "100%|██████████| 1/1 [00:00<00:00,  7.32it/s]\n",
      "100%|██████████| 1/1 [00:00<00:00,  1.43it/s]\n"
     ]
    }
   ],
   "source": [
    "bk.load.current_session_linux()\n",
    "neurons,metadata = bk.load.spikes()\n",
    "states = bk.load.states()\n",
    "pop = populationSpikes(neurons[(metadata.Region == 'Hpc') & (metadata.Type == 'Int')])\n",
    "pop = pop.restrict(states['Rem'])\n",
    "t,c = crosscorrelogram([pop],0.001,[-0.2,0.2],fast = True)\n",
    "plt.subplot(1,2,1)\n",
    "c[t==0,0,0] = 0\n",
    "plt.bar(t,c[:,0,0],t[1]-t[0])\n",
    "plt.xlim(-.2,.2)\n",
    "plt.title('Rem')\n",
    "plt.xlabel('Time(s)')\n",
    "plt.ylabel('Count')\n",
    "\n",
    "\n",
    "pop = populationSpikes(neurons[(metadata.Region == 'Hpc') & (metadata.Type == 'Int')])\n",
    "pop = pop.restrict(states['sws'])\n",
    "t,c = crosscorrelogram([pop],0.001,[-0.2,0.2],fast = True)\n",
    "\n",
    "\n",
    "plt.subplot(1,2,2)\n",
    "c[t==0,0,0] = 0\n",
    "plt.bar(t,c[:,0,0],t[1]-t[0])\n",
    "plt.xlim(-.2,.2)\n",
    "plt.title('sws')\n",
    "plt.xlabel('Time(s)')\n",
    "plt.ylabel('Count')\n",
    "\n",
    "plt.suptitle('Hpc Interneurons Population Autocorr')\n",
    "plt.tight_layout()"
   ]
  },
  {
   "cell_type": "code",
   "execution_count": 192,
   "id": "32b03961-5164-4bcb-913c-86985eddd462",
   "metadata": {},
   "outputs": [],
   "source": [
    "plt.subplot(1,2,1)\n",
    "pop = populationSpikes(neurons[(metadata.Region == 'Hpc') & (metadata.Type == 'Int')])\n",
    "pop = pop.restrict(states['Rem'])\n",
    "isi = np.diff(pop.as_units('s').index.values)\n",
    "isi[isi>0.2] = np.nan\n",
    "plt.hist(isi,1000,alpha = 0.9)\n",
    "plt.title('Rem')\n",
    "\n",
    "plt.subplot(1,2,2)\n",
    "pop = populationSpikes(neurons[(metadata.Region == 'Hpc') & (metadata.Type == 'Int')])\n",
    "pop = pop.restrict(states['sws'])\n",
    "isi = np.diff(pop.as_units('s').index.values)\n",
    "isi[isi>0.1] = np.nan\n",
    "plt.hist(isi,1000,alpha = 0.9)\n",
    "plt.title('sws')\n",
    "\n",
    "plt.suptitle('ISI Hpc')\n",
    "plt.tight_layout()"
   ]
  },
  {
   "cell_type": "code",
   "execution_count": 169,
   "id": "481ed034-1e9c-4b3a-8378-caf2a6e5107c",
   "metadata": {},
   "outputs": [
    {
     "ename": "IndexError",
     "evalue": "index 1 is out of bounds for axis 2 with size 1",
     "output_type": "error",
     "traceback": [
      "\u001b[0;31m---------------------------------------------------------------------------\u001b[0m",
      "\u001b[0;31mIndexError\u001b[0m                                Traceback (most recent call last)",
      "\u001b[0;32m<ipython-input-169-5859ee4725ff>\u001b[0m in \u001b[0;36m<module>\u001b[0;34m\u001b[0m\n\u001b[1;32m      6\u001b[0m     \u001b[0;32mfor\u001b[0m \u001b[0mj\u001b[0m \u001b[0;32min\u001b[0m \u001b[0mrange\u001b[0m\u001b[0;34m(\u001b[0m\u001b[0;36m10\u001b[0m\u001b[0;34m)\u001b[0m\u001b[0;34m:\u001b[0m\u001b[0;34m\u001b[0m\u001b[0;34m\u001b[0m\u001b[0m\n\u001b[1;32m      7\u001b[0m         \u001b[0;32mif\u001b[0m \u001b[0mi\u001b[0m \u001b[0;34m==\u001b[0m \u001b[0mj\u001b[0m\u001b[0;34m:\u001b[0m \u001b[0mc\u001b[0m\u001b[0;34m[\u001b[0m\u001b[0mt\u001b[0m\u001b[0;34m==\u001b[0m\u001b[0;36m0\u001b[0m\u001b[0;34m,\u001b[0m\u001b[0mi\u001b[0m\u001b[0;34m,\u001b[0m\u001b[0mj\u001b[0m\u001b[0;34m]\u001b[0m \u001b[0;34m=\u001b[0m \u001b[0;36m0\u001b[0m\u001b[0;34m\u001b[0m\u001b[0;34m\u001b[0m\u001b[0m\n\u001b[0;32m----> 8\u001b[0;31m         \u001b[0max\u001b[0m\u001b[0;34m[\u001b[0m\u001b[0ma\u001b[0m\u001b[0;34m[\u001b[0m\u001b[0mi\u001b[0m\u001b[0;34m,\u001b[0m\u001b[0mj\u001b[0m\u001b[0;34m]\u001b[0m\u001b[0;34m]\u001b[0m\u001b[0;34m.\u001b[0m\u001b[0mbar\u001b[0m\u001b[0;34m(\u001b[0m\u001b[0mt\u001b[0m\u001b[0;34m,\u001b[0m\u001b[0mc\u001b[0m\u001b[0;34m[\u001b[0m\u001b[0;34m:\u001b[0m\u001b[0;34m,\u001b[0m\u001b[0mi\u001b[0m\u001b[0;34m,\u001b[0m\u001b[0mj\u001b[0m\u001b[0;34m]\u001b[0m\u001b[0;34m,\u001b[0m\u001b[0;36m0.05\u001b[0m\u001b[0;34m)\u001b[0m\u001b[0;34m\u001b[0m\u001b[0;34m\u001b[0m\u001b[0m\n\u001b[0m",
      "\u001b[0;31mIndexError\u001b[0m: index 1 is out of bounds for axis 2 with size 1"
     ]
    }
   ],
   "source": [
    "%matplotlib qt\n",
    "a = np.arange(0,10**2)\n",
    "a = a.reshape((10,10))\n",
    "fig,ax = plt.subplot_mosaic(a)\n",
    "for i in range(10):\n",
    "    for j in range(10):\n",
    "        if i == j: c[t==0,i,j] = 0\n",
    "        ax[a[i,j]].bar(t,c[:,i,j],0.05)"
   ]
  },
  {
   "cell_type": "code",
   "execution_count": 14,
   "id": "d28c3032-a67a-4ac8-93e6-cf02d76d6d9a",
   "metadata": {},
   "outputs": [
    {
     "data": {
      "text/plain": [
       "1263838"
      ]
     },
     "execution_count": 14,
     "metadata": {},
     "output_type": "execute_result"
    }
   ],
   "source": [
    "len(pop)"
   ]
  },
  {
   "cell_type": "code",
   "execution_count": 27,
   "id": "005db182-d269-4226-86cb-855a41916c3f",
   "metadata": {},
   "outputs": [
    {
     "name": "stdout",
     "output_type": "stream",
     "text": [
      "You are using 0.001 ms bins with the function fast off. Consider using \"Fast = True\" in order to speed up the computations\n"
     ]
    }
   ],
   "source": [
    "t,b = bk.compute.binSpikes([pop],0.001,centered=True)"
   ]
  },
  {
   "cell_type": "code",
   "execution_count": 28,
   "id": "9685c0c4-6929-49a5-a1d1-68d5cd096e3b",
   "metadata": {},
   "outputs": [
    {
     "data": {
      "text/plain": [
       "22679985"
      ]
     },
     "execution_count": 28,
     "metadata": {},
     "output_type": "execute_result"
    }
   ],
   "source": [
    "len(b[0])"
   ]
  },
  {
   "cell_type": "code",
   "execution_count": 29,
   "id": "883c11ca-90e8-4034-b03e-d6328770ae64",
   "metadata": {},
   "outputs": [
    {
     "data": {
      "text/plain": [
       "22679985"
      ]
     },
     "execution_count": 29,
     "metadata": {},
     "output_type": "execute_result"
    }
   ],
   "source": [
    "len(t)"
   ]
  },
  {
   "cell_type": "code",
   "execution_count": 89,
   "id": "dac074b0-66d1-4923-90bd-790db6af32c3",
   "metadata": {},
   "outputs": [
    {
     "data": {
      "text/plain": [
       "[<matplotlib.lines.Line2D at 0x7f697f81e4c0>]"
      ]
     },
     "execution_count": 89,
     "metadata": {},
     "output_type": "execute_result"
    }
   ],
   "source": [
    "binSize = 0.001\n",
    "s = 0\n",
    "st = int(.1 / binSize)\n",
    "plt.plot(t[s:st],b[0,s:st])"
   ]
  },
  {
   "cell_type": "code",
   "execution_count": 56,
   "id": "1b1627e9-a989-4d6a-bed0-49db4e59a175",
   "metadata": {},
   "outputs": [],
   "source": [
    "lfp = bk.load.lfp(bk.load.random_channel('BLA'),1000,5000)"
   ]
  },
  {
   "cell_type": "code",
   "execution_count": 57,
   "id": "02eab6d8-79e0-4f1b-85e7-ad6f3fc6c1ff",
   "metadata": {},
   "outputs": [],
   "source": [
    "lfp_rem = lfp.restrict(states['Rem'])"
   ]
  },
  {
   "cell_type": "code",
   "execution_count": 58,
   "id": "6dee3eff-a6af-4d05-8ce9-65fc87aedbee",
   "metadata": {},
   "outputs": [],
   "source": [
    "import bk.signal"
   ]
  },
  {
   "cell_type": "code",
   "execution_count": 59,
   "id": "3dec2453-66f3-4883-b1d6-4041a077fe31",
   "metadata": {},
   "outputs": [],
   "source": [
    "lfp_rem_gamma = bk.signal.passband(lfp_rem,40,80)"
   ]
  },
  {
   "cell_type": "code",
   "execution_count": 61,
   "id": "2aa15a80-6bc2-4e63-b867-b9b6ecc96e88",
   "metadata": {},
   "outputs": [
    {
     "data": {
      "text/plain": [
       "[<matplotlib.lines.Line2D at 0x7f9609ae5460>]"
      ]
     },
     "execution_count": 61,
     "metadata": {},
     "output_type": "execute_result"
    }
   ],
   "source": [
    "plt.plot(lfp_rem)\n",
    "plt.plot(lfp_rem_gamma)"
   ]
  },
  {
   "cell_type": "code",
   "execution_count": null,
   "id": "5c7eaf89-5f44-41ef-be4d-2c96120b90cc",
   "metadata": {},
   "outputs": [],
   "source": []
  }
 ],
 "metadata": {
  "kernelspec": {
   "display_name": "Python 3",
   "language": "python",
   "name": "python3"
  },
  "language_info": {
   "codemirror_mode": {
    "name": "ipython",
    "version": 3
   },
   "file_extension": ".py",
   "mimetype": "text/x-python",
   "name": "python",
   "nbconvert_exporter": "python",
   "pygments_lexer": "ipython3",
   "version": "3.8.5"
  }
 },
 "nbformat": 4,
 "nbformat_minor": 5
}
