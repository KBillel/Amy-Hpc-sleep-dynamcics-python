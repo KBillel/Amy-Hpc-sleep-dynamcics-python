{
 "cells": [
  {
   "cell_type": "code",
   "execution_count": 21,
   "metadata": {},
   "outputs": [],
   "source": []
  },
  {
   "cell_type": "code",
   "execution_count": 63,
   "metadata": {},
   "outputs": [
    {
     "name": "stderr",
     "output_type": "stream",
     "text": [
      "269it [00:00, 275860.09it/s]\n"
     ]
    },
    {
     "data": {
      "text/plain": [
       "<BarContainer object of 50 artists>"
      ]
     },
     "execution_count": 63,
     "metadata": {},
     "output_type": "execute_result"
    }
   ],
   "source": [
    "import scipy.io\n",
    "import numpy as np\n",
    "import matplotlib.pyplot as plt\n",
    "import neuroseries as nts\n",
    "import bk.compute\n",
    "from tqdm import tqdm\n",
    "\n",
    "def psth(neurons,stimulus,binSize,win,average = True):\n",
    "    if isinstance(neurons,nts.time_series.Tsd): \n",
    "        neurons = np.array(neurons,'object')\n",
    "    winLen = int((win[1] - win[0])/binSize)\n",
    "    window = np.arange(winLen,dtype = int)-int(winLen/2)\n",
    "    stim_bin = (stimulus/binSize).astype('int')\n",
    "    t,binned = bk.compute.binSpikes(neurons,binSize,start = 0, stop = stimulus[-1]+win[-1])\n",
    "    psth = np.empty((stimulus.size,len(neurons),winLen))\n",
    "    \n",
    "    for i,t in tqdm(enumerate(stim_bin)):\n",
    "        psth[i] = binned[:,t+window]\n",
    "    if average:    \n",
    "        psth = np.mean(psth,0).T\n",
    "    t = window*binSize\n",
    "    return t,psth\n",
    "\n",
    "%matplotlib qt\n",
    "\n",
    "IIA = np.genfromtxt('I:/Echange/Girardeau/For Florian/MEA/IIA.txt')/10000\n",
    "spikes = np.genfromtxt('I:/Echange/Girardeau/For Florian/MEA/spikes.txt')/10000\n",
    "spikes = [nts.Ts(spikes,time_units= 's')]\n",
    "\n",
    "plt.suptitle('HF vs IIA')\n",
    "plt.subplot(2,1,1)\n",
    "plt.title('EventPlot')\n",
    "plt.eventplot(IIA)\n",
    "plt.eventplot(spikes[0].as_units('s').index,color = 'r')\n",
    "plt.legend(['IIA','HF'])\n",
    "plt.subplot(2,1,2)\n",
    "plt.title('Cross-Corr')\n",
    "win = [-0.05,0.05]\n",
    "binSize = 0.002\n",
    "t,crosscorr = psth(spikes,IIA,binSize,win)\n",
    "plt.bar(t,crosscorr.flatten(),t[1]-t[0])"
   ]
  },
  {
   "cell_type": "code",
   "execution_count": null,
   "metadata": {},
   "outputs": [],
   "source": []
  }
 ],
 "metadata": {
  "kernelspec": {
   "display_name": "Python 3",
   "language": "python",
   "name": "python3"
  },
  "language_info": {
   "codemirror_mode": {
    "name": "ipython",
    "version": 3
   },
   "file_extension": ".py",
   "mimetype": "text/x-python",
   "name": "python",
   "nbconvert_exporter": "python",
   "pygments_lexer": "ipython3",
   "version": "3.7.6"
  }
 },
 "nbformat": 4,
 "nbformat_minor": 4
}
